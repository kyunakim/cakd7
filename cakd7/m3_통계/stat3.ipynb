{
 "cells": [
  {
   "cell_type": "markdown",
   "id": "a0a73a81-cea5-4d24-b4e6-dc4aceecfee4",
   "metadata": {},
   "source": [
    "# 독립동일분포\n",
    "- 확률변수가 서로 독립이라는 것은 확률변수가 다른 확률변수에 영향을 끼치지 않는다는 의미이다.\n",
    "- 통계분석에서 취급하는 데이터 중 상당수가 독립이면서 다차원인 확률변수의 실현값으로 간주될 수 있다.\n",
    "- 서로 독립이고 각각 동일한 확률분포를 따르는 다차원 확률변수를 독립동일분포라 한다.\n",
    "- 동일한 조건 아래에서 수행되는 실험이나 관측을 여러번 반복하여 데이터를 얻는 것을 수학용어로 나타낸 것"
   ]
  },
  {
   "cell_type": "code",
   "execution_count": 99,
   "id": "d97ed1b3-d149-4e0f-a25e-ad3f1f870e37",
   "metadata": {},
   "outputs": [],
   "source": [
    "import numpy as np\n",
    "import matplotlib.pyplot as plt\n",
    "from scipy import stats, integrate\n",
    "from scipy.optimize import minimize_scalar\n",
    "np.random.seed(0)\n",
    "import warnings\n",
    "warnings.filterwarnings('ignore', category=integrate.IntegrationWarning)\n",
    "%precision 3\n",
    "%matplotlib inline"
   ]
  },
  {
   "cell_type": "code",
   "execution_count": 100,
   "id": "7cc5a937-8600-4ee6-9abb-1f27edc61401",
   "metadata": {},
   "outputs": [],
   "source": [
    "linestyles = ['-', '--', ':', '-. ']\n",
    "\n",
    "def E(XY, g):\n",
    "    x_set, y_set, f_XY = XY\n",
    "    return np.sum([g(x_i, y_j) * f_XY(x_i, y_j)for x_i in x_set for y_j in y_set])\n",
    "\n",
    "def Cov(XY):\n",
    "    x_set, y_set, f_XY = XY\n",
    "    mean_X = E(XY, lambda x, y:x)\n",
    "    mean_Y = E(XY, lambda x, y:y)\n",
    "    return np.sum([(x_i-mean_X) * (y_j-mean_Y) * f_XY(x_i, y_j)for x_i in x_set for y_j in y_set])\n",
    "\n",
    "def f_X(x):\n",
    "    return np.sum([f_XY(x, y_k) for y_k in y_set])\n",
    "\n",
    "def f_Y(y):\n",
    "    return np.sum([f_XY(x_k, y) for x_k in x_set])"
   ]
  },
  {
   "cell_type": "markdown",
   "id": "1f56a863-d751-4ede-a874-bb583af92f2a",
   "metadata": {},
   "source": [
    "## 독립성"
   ]
  },
  {
   "cell_type": "markdown",
   "id": "56b58c17-5d28-43ba-a3ab-250481922f91",
   "metadata": {},
   "source": [
    "### 독립성의 정의\n",
    "- 2개 이상의 확률변수가 서로 영향을 끼치지 않으며 관계가 없음을 나타내는 개념\n",
    "- 2차원 확률변수 (X,Y)의 경우 다음과 같은 관계가 성립할 때 X,Y는 독립이라고 함.  \n",
    "$f_{X,Y}(x,y) = f_X(x)f_Y(y)$\n",
    "- 확률변수가 독립일 때 결합확률은 주변확률의 곱으로 작성할 수 있다.\n",
    "- 일반화 : $f_{X_1,X_2,...,X_n}(x_1,x_2,..x_n) = f_{X_1}(x_1)f_{X_2}(x_2)···f_{X_n}(x_n)$  \n",
    "※ 함수 f가 이산형이면 확률함수, 연속형이면 밀도함수를 나타냄"
   ]
  },
  {
   "cell_type": "markdown",
   "id": "f1e3e773-11b7-4e82-9985-3277e08845bc",
   "metadata": {},
   "source": [
    "### 독립성과 무상관성\n",
    "- 공분산이나 상관계수가 0일 때 무상관이라 하고 두 확률변수 사이에는 상관성, 즉 선형 관계가 없음을 나타냄\n",
    "- 독립성도 무상관성도 두 확률변수가 서로 관계가 없다는 것을 나타내는 성질이다.\n",
    "    - 무상관성보다 독립성이 더 강한 개념\n",
    "    - 2개의 확률변수 X와 Y가 독립일 때 X와 Y는 무상관이 되지만 X와 Y가 무상관일 때 X와 Y가 반드시 독립인 것은 아님"
   ]
  },
  {
   "cell_type": "code",
   "execution_count": 101,
   "id": "cc236c6f-870b-45ab-95ee-fe2f6405fe2f",
   "metadata": {},
   "outputs": [],
   "source": [
    "# 불공정한 주사위의 예\n",
    "x_set = np.array([1,2,3,4,5,6])\n",
    "y_set = np.array([1,2,3,4,5,6])\n",
    "\n",
    "def f_XY(x,y):\n",
    "    if x in x_set and y in y_set:\n",
    "        return x* y / 441\n",
    "    else:\n",
    "        return 0\n",
    "    \n",
    "XY = [x_set,y_set, f_XY]"
   ]
  },
  {
   "cell_type": "code",
   "execution_count": 102,
   "id": "98ad5d9b-aee7-4438-bc3c-edb408f854f4",
   "metadata": {},
   "outputs": [
    {
     "data": {
      "text/plain": [
       "-0.000"
      ]
     },
     "execution_count": 102,
     "metadata": {},
     "output_type": "execute_result"
    }
   ],
   "source": [
    "# 2차원 확률변수 X와 Y는 독립\n",
    "# 공분산이 0이므로 무상관\n",
    "Cov(XY)"
   ]
  },
  {
   "cell_type": "code",
   "execution_count": 103,
   "id": "591d0199-1023-433f-8ab8-0a734bf442b4",
   "metadata": {},
   "outputs": [],
   "source": [
    "# 무상관인 2개의 확률변수 고려\n",
    "x_set = np.array([0,1])\n",
    "y_set = np.array([-1,0,1])\n",
    "\n",
    "def f_XY(x,y):\n",
    "    if (x,y) in [(0,0),(1,1),(1,-1)]:\n",
    "        return 1/3\n",
    "    else:\n",
    "        return 0\n",
    "    \n",
    "XY = [x_set, y_set, f_XY]"
   ]
  },
  {
   "cell_type": "code",
   "execution_count": 104,
   "id": "349d3aca-db2c-477c-982d-b779742b1b3d",
   "metadata": {},
   "outputs": [
    {
     "data": {
      "text/plain": [
       "0.000"
      ]
     },
     "execution_count": 104,
     "metadata": {},
     "output_type": "execute_result"
    }
   ],
   "source": [
    "# 확률변수 X와 Y의 공분산\n",
    "# 공분산이 0이므로 무상관\n",
    "Cov(XY)"
   ]
  },
  {
   "cell_type": "code",
   "execution_count": 105,
   "id": "aed375eb-d9c7-4c76-abca-cdcf0aa6db66",
   "metadata": {},
   "outputs": [
    {
     "data": {
      "text/plain": [
       "(0.111, 0.333)"
      ]
     },
     "execution_count": 105,
     "metadata": {},
     "output_type": "execute_result"
    }
   ],
   "source": [
    "# 확률변수 X와 Y는 독립인지 확인 \n",
    "f_X(0) * f_Y(0), f_XY(0,0)\n",
    "# 등식이 섭립하지 않으므로 독립이 아님. 무상관이어도 독립성이 성립하지 않는 경우가 있다."
   ]
  },
  {
   "cell_type": "markdown",
   "id": "d4f28ec4-7e59-41ea-bf1d-6ead221e3764",
   "metadata": {
    "tags": []
   },
   "source": [
    "## 합의 분포\n",
    "- 서로 독립이고 동일한 확률분포을 따르는 확률변수 $X_1,X_2,···,X_n의 합 \\sum_{i=1}^n X_i = X_1 + X_2 + ···+ X_n$이 따르는 확률분포를 의미\n",
    "- 합의 분포를 이해하면 확률변수의 합을 n으로 나눈 표본평균의 분포도 쉽게 이해할 수 있음\n",
    "- 확률변수 합의 기댓값 : $E(X_1 + X_2 + ··· + X_n) = E(X_1) + E(X_2) + ··· E(X_n)$ 이 성립\n",
    "- 확률변수 합의 공식 : $X_1, X_2, ··· ,X_n이 서로 독립이면  V(X_1 + X_2 + ··· + X_n) = V(X_1) + V(X_2) + ··· V(X_n)$이 성립  \n",
    "결국 합의 분포 분산도 각 확률변수에 대한 분산의 합으로 계산할 수 있다."
   ]
  },
  {
   "cell_type": "markdown",
   "id": "9994e9fc-53e9-4985-8cfb-69bcc803a485",
   "metadata": {},
   "source": [
    "### 정규분포 합의 분포"
   ]
  },
  {
   "cell_type": "code",
   "execution_count": 106,
   "id": "72039d01-4f30-4bfa-9fee-5a293b936151",
   "metadata": {},
   "outputs": [
    {
     "name": "stdout",
     "output_type": "stream",
     "text": [
      "[ 3.495  1.566  2.384 ... -0.128  2.237  2.94 ] \n",
      "\n",
      "[ 2.891  3.928  3.169 ... -1.152  1.427  1.326] \n",
      "\n",
      "평균: 1.0021384981105663 2.0005273223788174 \n",
      "\n",
      "분산: 1.999685316445821 2.993320616863069 \n",
      "\n",
      "합의 평균, 분산: 3.0026658204893835 4.9960524321119335\n"
     ]
    }
   ],
   "source": [
    "# 정규분포 합의 분포\n",
    "# 서로 독립인 X~N(1,2), Y~N(2,3)이 있을 때 확률변수 X + Y 의 분포는 N(3,5)를 따름\n",
    "rv1 = stats.norm(1,np.sqrt(2))\n",
    "rv2 = stats.norm(2,np.sqrt(3))\n",
    "\n",
    "sample_size = int(1e6)\n",
    "X_sample = rv1.rvs(sample_size)\n",
    "Y_sample = rv2.rvs(sample_size)\n",
    "print(X_sample, '\\n')\n",
    "print(Y_sample, '\\n')\n",
    "sum_sample  = X_sample + Y_sample\n",
    "\n",
    "print('평균:', np.mean(X_sample),np.mean(Y_sample),'\\n')\n",
    "print('분산:', np.var(X_sample), np.var(Y_sample),'\\n')\n",
    "print('합의 평균, 분산:', np.mean(sum_sample), np.var(sum_sample))"
   ]
  },
  {
   "cell_type": "code",
   "execution_count": 107,
   "id": "c27b8bb0-0ee7-45f3-83ef-b4a394f72ded",
   "metadata": {},
   "outputs": [
    {
     "data": {
      "image/png": "[encoded data removed]",
      "text/plain": [
       "<Figure size 720x432 with 1 Axes>"
      ]
     },
     "metadata": {
      "needs_background": "light"
     },
     "output_type": "display_data"
    }
   ],
   "source": [
    "fig = plt.figure(figsize=(10,6))\n",
    "ax = fig.add_subplot(111)\n",
    "\n",
    "rv = stats.norm(3, np.sqrt(5))\n",
    "xs = np.linspace(rv.isf(0.995), rv.isf(0.005), 100)\n",
    "\n",
    "ax.hist(sum_sample, bins=100, density=True, alpha=0.5, label='N(1,2)+N(2,3)')\n",
    "ax.plot(xs, rv.pdf(xs), label='N(3,5)',color='green')\n",
    "ax.plot(xs, rv1.pdf(xs), label='N(1,2)', ls='--', color='green')\n",
    "ax.plot(xs, rv2.pdf(xs), label='N(2,3)', ls=':', color='green')\n",
    "\n",
    "ax.legend()\n",
    "ax.set_xlim(rv.isf(0.995), rv.isf(0.005))\n",
    "plt.show()"
   ]
  },
  {
   "cell_type": "markdown",
   "id": "0599cacf-4288-430b-bebb-c1ccf8f025ac",
   "metadata": {},
   "source": [
    "히스토그램과 밀도함수가 일치"
   ]
  },
  {
   "cell_type": "markdown",
   "id": "36d48899-7dbf-441e-a289-ca4a6831b551",
   "metadata": {},
   "source": [
    "### 포아송 분포의 합의 분포"
   ]
  },
  {
   "cell_type": "code",
   "execution_count": 108,
   "id": "60ac6687-b547-472f-b7ec-58ad0d6cefed",
   "metadata": {},
   "outputs": [
    {
     "data": {
      "text/plain": [
       "(6.999, 6.990)"
      ]
     },
     "execution_count": 108,
     "metadata": {},
     "output_type": "execute_result"
    }
   ],
   "source": [
    "# 포아송 분포의 합\n",
    "rv1 = stats.poisson(3)\n",
    "rv2 = stats.poisson(4)\n",
    "\n",
    "sample_size = int(1e6)\n",
    "X_sample = rv1.rvs(sample_size)\n",
    "Y_sample = rv2.rvs(sample_size)\n",
    "sum_sample = X_sample + Y_sample\n",
    "\n",
    "np.mean(sum_sample), np.var(sum_sample) # 평균과 분산"
   ]
  },
  {
   "cell_type": "code",
   "execution_count": 109,
   "id": "fcf2116b-4620-45cb-a57f-77c8579df78a",
   "metadata": {},
   "outputs": [
    {
     "name": "stderr",
     "output_type": "stream",
     "text": [
      "/var/folders/v1/zh7hrj6j0h1gyhss4417qmqm0000gn/T/ipykernel_14093/2172927633.py:6: VisibleDeprecationWarning: Passing `normed=True` on non-uniform bins has always been broken, and computes neither the probability density function nor the probability mass function. The result is only correct if the bins are uniform, when density=True will produce the same result anyway. The argument will be removed in a future version of numpy.\n",
      "  hist,_ = np.histogram(sum_sample, bins=20, range=(0,20), normed=True)\n"
     ]
    },
    {
     "data": {
      "image/png": "[encoded data removed]",
      "text/plain": [
       "<Figure size 720x432 with 1 Axes>"
      ]
     },
     "metadata": {
      "needs_background": "light"
     },
     "output_type": "display_data"
    }
   ],
   "source": [
    "fig = plt.figure(figsize=(10,6))\n",
    "ax = fig.add_subplot(111)\n",
    "\n",
    "rv = stats.poisson(7)\n",
    "xs = np.arange(20)\n",
    "hist,_ = np.histogram(sum_sample, bins=20, range=(0,20), normed=True)\n",
    "\n",
    "ax.bar(xs, hist, alpha=0.5, label='Poi(3) + Poi(4)')\n",
    "ax.plot(xs, rv.pmf(xs), label='Poi(7)', color='green')\n",
    "ax.plot(xs, rv1.pmf(xs), label='Poi(3)', ls='--', color='green')\n",
    "ax.plot(xs, rv2.pmf(xs), label='Poi(4)',  ls=':', color='green')\n",
    "\n",
    "ax.legend()\n",
    "ax.set_xlim(-0.5,20)\n",
    "ax.set_xticks(np.arange(20))\n",
    "plt.show()"
   ]
  },
  {
   "cell_type": "markdown",
   "id": "4e34e9c3-b1c5-4f1f-8716-8a35b24f0a54",
   "metadata": {},
   "source": [
    "히스토그램과 밀도함수가 일치"
   ]
  },
  {
   "cell_type": "markdown",
   "id": "3c73c0a5-b78f-45ea-9bec-164438da4a16",
   "metadata": {},
   "source": [
    "### 베르누이 분포의 합의 분포"
   ]
  },
  {
   "cell_type": "code",
   "execution_count": 110,
   "id": "a04f6cd9-be93-4696-b067-ee92c1f6b1b8",
   "metadata": {},
   "outputs": [
    {
     "data": {
      "text/plain": [
       "(2.999, 2.095)"
      ]
     },
     "execution_count": 110,
     "metadata": {},
     "output_type": "execute_result"
    }
   ],
   "source": [
    "# 베르누이 분포의 합\n",
    "p = 0.3\n",
    "rv = stats.bernoulli(p)\n",
    "\n",
    "sample_size = int(1e6)\n",
    "Xs_sample = rv.rvs((10, sample_size))\n",
    "sum_sample = np.sum(Xs_sample, axis=0)\n",
    "\n",
    "np.mean(sum_sample), np.var(sum_sample)"
   ]
  },
  {
   "cell_type": "code",
   "execution_count": 111,
   "id": "52a3faa1-3ff7-4ce4-ad1f-58d556cb1ce3",
   "metadata": {},
   "outputs": [
    {
     "name": "stderr",
     "output_type": "stream",
     "text": [
      "/var/folders/v1/zh7hrj6j0h1gyhss4417qmqm0000gn/T/ipykernel_14093/972929664.py:6: VisibleDeprecationWarning: Passing `normed=True` on non-uniform bins has always been broken, and computes neither the probability density function nor the probability mass function. The result is only correct if the bins are uniform, when density=True will produce the same result anyway. The argument will be removed in a future version of numpy.\n",
      "  hist, _ = np.histogram(sum_sample, bins=10,\n"
     ]
    },
    {
     "data": {
      "image/png": "[encoded data removed]",
      "text/plain": [
       "<Figure size 720x432 with 1 Axes>"
      ]
     },
     "metadata": {
      "needs_background": "light"
     },
     "output_type": "display_data"
    }
   ],
   "source": [
    "fig = plt.figure(figsize=(10, 6))\n",
    "ax = fig.add_subplot(111)\n",
    "\n",
    "rv = stats.binom(10, p)\n",
    "xs = np.arange(10)\n",
    "hist, _ = np.histogram(sum_sample, bins=10,\n",
    "                       range=(0, 10), normed=True)\n",
    "ax.bar(xs, hist, alpha=0.5, label='sum of 10*Bern(0.3)')\n",
    "ax.plot(xs, rv.pmf(xs), label='Bin(10, 0.3)')\n",
    "ax.legend()\n",
    "ax.set_xlim(-0.5, 10)\n",
    "ax.set_xticks(np.arange(10))\n",
    "plt.show()"
   ]
  },
  {
   "cell_type": "markdown",
   "id": "41d79f15-8a61-4b3c-892c-e5a821396539",
   "metadata": {},
   "source": [
    "## 표본평균의 분포\n",
    "- 표본평균의 분포란 서로 독립이고 동일한 확률분포를 따르는 확률변수 $X_1, X_2, ...,X_n$의 표본평균이 따르는 분포\n",
    "- 이 분포는 중심극한정리나 대수의 법칙 등 추측통계에서 중요한 성질을 담고 있기 때문에 유의해야 함\n",
    "- 표본평균의 기댓값과 분산  \n",
    "$E(\\bar{X}) = \\mu$  \n",
    "$V(\\bar{X}) = {\\sigma}^2 / n$"
   ]
  },
  {
   "cell_type": "markdown",
   "id": "08057767-6991-4d22-a5c8-f4baddd3955f",
   "metadata": {},
   "source": [
    "### 정규분포의 표본평균 분포"
   ]
  },
  {
   "cell_type": "code",
   "execution_count": 113,
   "id": "e1fbe337-dfb1-4141-9acf-7c1a42ba137b",
   "metadata": {},
   "outputs": [
    {
     "data": {
      "text/plain": [
       "(1.000, 0.199)"
      ]
     },
     "execution_count": 113,
     "metadata": {},
     "output_type": "execute_result"
    }
   ],
   "source": [
    "mean = 1\n",
    "var = 2\n",
    "rv = stats.norm(mean, np.sqrt(var))\n",
    "\n",
    "n = 10\n",
    "sample_size = int(1e6)\n",
    "Xs_sample = rv.rvs((n, sample_size))\n",
    "sample_mean = np.mean(Xs_sample, axis=0)\n",
    "\n",
    "np.mean(sample_mean), np.var(sample_mean)"
   ]
  },
  {
   "cell_type": "code",
   "execution_count": 114,
   "id": "71e82e9c-5e70-4591-9cfc-cfeaf2aa1b47",
   "metadata": {},
   "outputs": [
    {
     "data": {
      "image/png": "[encoded data removed]",
      "text/plain": [
       "<Figure size 720x432 with 1 Axes>"
      ]
     },
     "metadata": {
      "needs_background": "light"
     },
     "output_type": "display_data"
    }
   ],
   "source": [
    "# 정규분포의 표본평균\n",
    "fig = plt.figure(figsize=(10,6))\n",
    "ax = fig.add_subplot(111)\n",
    "\n",
    "rv_true = stats.norm(mean, np.sqrt(var/n))\n",
    "xs = np.linspace(rv_true.isf(0.999), rv_true.isf(0.001),100)\n",
    "ax.hist(sample_mean, bins=100, density=True, alpha=0.5, label='sample mean of 10*N*1,2)')\n",
    "ax.plot(xs, rv_true.pdf(xs), label='N(1,0.2)',color='green')\n",
    "\n",
    "ax.legend()\n",
    "ax.set_xlim(rv_true.isf(0.999), rv_true.isf(0.001))\n",
    "plt.show()"
   ]
  },
  {
   "cell_type": "markdown",
   "id": "1d79b69e-dbe9-440d-89a4-c768a43dd2c0",
   "metadata": {},
   "source": [
    "### 포아송 분포의 표본평균의 분포"
   ]
  },
  {
   "cell_type": "code",
   "execution_count": 115,
   "id": "34bbf14e-05f9-49a6-afb5-2846aebe4510",
   "metadata": {},
   "outputs": [
    {
     "data": {
      "text/plain": [
       "(2.999, 0.300)"
      ]
     },
     "execution_count": 115,
     "metadata": {},
     "output_type": "execute_result"
    }
   ],
   "source": [
    "l = 3\n",
    "rv = stats.poisson(l)\n",
    "\n",
    "n=10\n",
    "sample_size = int(1e6)\n",
    "Xs_sample = rv.rvs((n, sample_size))\n",
    "sample_mean = np.mean(Xs_sample, axis=0)\n",
    "\n",
    "np.mean(sample_mean), np.var(sample_mean)"
   ]
  },
  {
   "cell_type": "code",
   "execution_count": 116,
   "id": "799f2f57-cf5c-4cd5-b587-408d5e1116c6",
   "metadata": {},
   "outputs": [
    {
     "data": {
      "image/png": "[encoded data removed]",
      "text/plain": [
       "<Figure size 720x432 with 1 Axes>"
      ]
     },
     "metadata": {
      "needs_background": "light"
     },
     "output_type": "display_data"
    }
   ],
   "source": [
    "# 포아송 분포의 표본평균\n",
    "fig = plt.figure(figsize=(10,6))\n",
    "ax = fig.add_subplot(111)\n",
    "\n",
    "ax.hist(sample_mean, bins=100, density=True, alpha=0.5, label='sample mean of 10*Poi(3)')\n",
    "ax.legend()\n",
    "ax.set_xlim(0,6)\n",
    "plt.show()"
   ]
  },
  {
   "cell_type": "markdown",
   "id": "0f452f7b-0485-4434-98d2-c6a737f4df14",
   "metadata": {
    "tags": []
   },
   "source": [
    "### 중심극한정리\n",
    "- 확률변수 $X_1,X_2,...Xn$이 서로 독립이고 기댓값이 $\\mu, 분산이 {\\sigma}^2$인 확률분포 F를 따를 때 n이 커짐에 따라 표본평균 $\\bar{X}의 분포는 정규분포 N(\\mu,{\\sigma}^2/n)$에 가까워진다."
   ]
  },
  {
   "cell_type": "code",
   "execution_count": 117,
   "id": "f92a7047-86a7-4c3e-8115-c42393ac85c0",
   "metadata": {},
   "outputs": [],
   "source": [
    "l = 3\n",
    "rv = stats.poisson(l)\n",
    "\n",
    "n = 10000\n",
    "sample_size = 10000\n",
    "Xs_sample = rv.rvs((n, sample_size))\n",
    "sample_mean = np.mean(Xs_sample, axis=0)\n",
    "\n",
    "rv_true = stats.norm(l, np.sqrt(l/n))\n",
    "xs = np.linspace(rv_true.isf(0.999), rv_true.isf(0.001),100)"
   ]
  },
  {
   "cell_type": "code",
   "execution_count": 118,
   "id": "ae560d04-bf5a-4d7c-9a67-9defa8dcf639",
   "metadata": {},
   "outputs": [
    {
     "data": {
      "image/png": "[encoded data removed]",
      "text/plain": [
       "<Figure size 720x432 with 1 Axes>"
      ]
     },
     "metadata": {
      "needs_background": "light"
     },
     "output_type": "display_data"
    }
   ],
   "source": [
    "fig = plt.figure(figsize=(10,6))\n",
    "ax = fig.add_subplot(111)\n",
    "\n",
    "ax.hist(sample_mean, bins=100, density=True, alpha=0.5, label='sample mean of 10000*Poi(3)')\n",
    "ax.plot(xs, rv_true.pdf(xs), label='N(3,3/10000)', color='green')\n",
    "ax.legend()\n",
    "ax.set_xlim(rv_true.isf(0.999), rv_true.isf(0.001))\n",
    "plt.show()"
   ]
  },
  {
   "cell_type": "markdown",
   "id": "d2bac75f-1944-4252-8aa5-aec452948dad",
   "metadata": {
    "tags": []
   },
   "source": [
    "### 대수의 법칙\n",
    "확률변수 $X_1,X_2,...,X_n$이 서로 독립이고 평균이 $\\mu, 분산이 \\sigma^2$일 것 같은 확률분포를 따를 때 n이 커짐에 따라 표본평균은 $\\mu$에 수렴한다."
   ]
  },
  {
   "cell_type": "code",
   "execution_count": 119,
   "id": "c28f4bdd-24da-4da0-995f-6639ed8882e7",
   "metadata": {},
   "outputs": [],
   "source": [
    "p = 1/6\n",
    "rv = stats.bernoulli(p)\n",
    "\n",
    "n = int(1e5)\n",
    "sample = rv.rvs((n,4))\n",
    "space = np.linspace(100,n,50).astype(int)\n",
    "plot_list = np.array([np.mean(sample[:sp], axis=0)for sp in space]).T"
   ]
  },
  {
   "cell_type": "code",
   "execution_count": 120,
   "id": "16c619cd-2ad2-4c79-a1e5-f5decaef2843",
   "metadata": {
    "tags": []
   },
   "outputs": [
    {
     "ename": "ValueError",
     "evalue": "'-. ' is not a valid value for ls; supported values are '-', '--', '-.', ':', 'None', ' ', '', 'solid', 'dashed', 'dashdot', 'dotted'",
     "output_type": "error",
     "traceback": [
      "\u001b[0;31m---------------------------------------------------------------------------\u001b[0m",
      "\u001b[0;31mValueError\u001b[0m                                Traceback (most recent call last)",
      "Input \u001b[0;32mIn [120]\u001b[0m, in \u001b[0;36m<cell line: 4>\u001b[0;34m()\u001b[0m\n\u001b[1;32m      2\u001b[0m ax \u001b[38;5;241m=\u001b[39m fig\u001b[38;5;241m.\u001b[39madd_subplot(\u001b[38;5;241m111\u001b[39m)\n\u001b[1;32m      4\u001b[0m \u001b[38;5;28;01mfor\u001b[39;00m pl, ls \u001b[38;5;129;01min\u001b[39;00m \u001b[38;5;28mzip\u001b[39m(plot_list, linestyles):\n\u001b[0;32m----> 5\u001b[0m     \u001b[43max\u001b[49m\u001b[38;5;241;43m.\u001b[39;49m\u001b[43mplot\u001b[49m\u001b[43m(\u001b[49m\u001b[43mspace\u001b[49m\u001b[43m,\u001b[49m\u001b[43m \u001b[49m\u001b[43mpl\u001b[49m\u001b[43m,\u001b[49m\u001b[43m \u001b[49m\u001b[43mls\u001b[49m\u001b[38;5;241;43m=\u001b[39;49m\u001b[43mls\u001b[49m\u001b[43m,\u001b[49m\u001b[43m \u001b[49m\u001b[43mcolor\u001b[49m\u001b[38;5;241;43m=\u001b[39;49m\u001b[38;5;124;43m'\u001b[39;49m\u001b[38;5;124;43mgreen\u001b[39;49m\u001b[38;5;124;43m'\u001b[39;49m\u001b[43m)\u001b[49m\n\u001b[1;32m      6\u001b[0m ax\u001b[38;5;241m.\u001b[39mhlines(p, \u001b[38;5;241m-\u001b[39m\u001b[38;5;241m1\u001b[39m, n, \u001b[38;5;124m'\u001b[39m\u001b[38;5;124mk\u001b[39m\u001b[38;5;124m'\u001b[39m)\n\u001b[1;32m      7\u001b[0m ax\u001b[38;5;241m.\u001b[39mset_xlabel(\u001b[38;5;124m'\u001b[39m\u001b[38;5;124msample size\u001b[39m\u001b[38;5;124m'\u001b[39m)\n",
      "File \u001b[0;32m~/opt/anaconda3/lib/python3.9/site-packages/matplotlib/axes/_axes.py:1632\u001b[0m, in \u001b[0;36mAxes.plot\u001b[0;34m(self, scalex, scaley, data, *args, **kwargs)\u001b[0m\n\u001b[1;32m   1390\u001b[0m \u001b[38;5;124;03m\"\"\"\u001b[39;00m\n\u001b[1;32m   1391\u001b[0m \u001b[38;5;124;03mPlot y versus x as lines and/or markers.\u001b[39;00m\n\u001b[1;32m   1392\u001b[0m \n\u001b[0;32m   (...)\u001b[0m\n\u001b[1;32m   1629\u001b[0m \u001b[38;5;124;03m(``'green'``) or hex strings (``'#008000'``).\u001b[39;00m\n\u001b[1;32m   1630\u001b[0m \u001b[38;5;124;03m\"\"\"\u001b[39;00m\n\u001b[1;32m   1631\u001b[0m kwargs \u001b[38;5;241m=\u001b[39m cbook\u001b[38;5;241m.\u001b[39mnormalize_kwargs(kwargs, mlines\u001b[38;5;241m.\u001b[39mLine2D)\n\u001b[0;32m-> 1632\u001b[0m lines \u001b[38;5;241m=\u001b[39m [\u001b[38;5;241m*\u001b[39m\u001b[38;5;28mself\u001b[39m\u001b[38;5;241m.\u001b[39m_get_lines(\u001b[38;5;241m*\u001b[39margs, data\u001b[38;5;241m=\u001b[39mdata, \u001b[38;5;241m*\u001b[39m\u001b[38;5;241m*\u001b[39mkwargs)]\n\u001b[1;32m   1633\u001b[0m \u001b[38;5;28;01mfor\u001b[39;00m line \u001b[38;5;129;01min\u001b[39;00m lines:\n\u001b[1;32m   1634\u001b[0m     \u001b[38;5;28mself\u001b[39m\u001b[38;5;241m.\u001b[39madd_line(line)\n",
      "File \u001b[0;32m~/opt/anaconda3/lib/python3.9/site-packages/matplotlib/axes/_base.py:312\u001b[0m, in \u001b[0;36m_process_plot_var_args.__call__\u001b[0;34m(self, data, *args, **kwargs)\u001b[0m\n\u001b[1;32m    310\u001b[0m     this \u001b[38;5;241m+\u001b[39m\u001b[38;5;241m=\u001b[39m args[\u001b[38;5;241m0\u001b[39m],\n\u001b[1;32m    311\u001b[0m     args \u001b[38;5;241m=\u001b[39m args[\u001b[38;5;241m1\u001b[39m:]\n\u001b[0;32m--> 312\u001b[0m \u001b[38;5;28;01myield from\u001b[39;00m \u001b[38;5;28;43mself\u001b[39;49m\u001b[38;5;241;43m.\u001b[39;49m\u001b[43m_plot_args\u001b[49m\u001b[43m(\u001b[49m\u001b[43mthis\u001b[49m\u001b[43m,\u001b[49m\u001b[43m \u001b[49m\u001b[43mkwargs\u001b[49m\u001b[43m)\u001b[49m\n",
      "File \u001b[0;32m~/opt/anaconda3/lib/python3.9/site-packages/matplotlib/axes/_base.py:538\u001b[0m, in \u001b[0;36m_process_plot_var_args._plot_args\u001b[0;34m(self, tup, kwargs, return_kwargs)\u001b[0m\n\u001b[1;32m    536\u001b[0m     \u001b[38;5;28;01mreturn\u001b[39;00m \u001b[38;5;28mlist\u001b[39m(result)\n\u001b[1;32m    537\u001b[0m \u001b[38;5;28;01melse\u001b[39;00m:\n\u001b[0;32m--> 538\u001b[0m     \u001b[38;5;28;01mreturn\u001b[39;00m [l[\u001b[38;5;241m0\u001b[39m] \u001b[38;5;28;01mfor\u001b[39;00m l \u001b[38;5;129;01min\u001b[39;00m result]\n",
      "File \u001b[0;32m~/opt/anaconda3/lib/python3.9/site-packages/matplotlib/axes/_base.py:538\u001b[0m, in \u001b[0;36m<listcomp>\u001b[0;34m(.0)\u001b[0m\n\u001b[1;32m    536\u001b[0m     \u001b[38;5;28;01mreturn\u001b[39;00m \u001b[38;5;28mlist\u001b[39m(result)\n\u001b[1;32m    537\u001b[0m \u001b[38;5;28;01melse\u001b[39;00m:\n\u001b[0;32m--> 538\u001b[0m     \u001b[38;5;28;01mreturn\u001b[39;00m [l[\u001b[38;5;241m0\u001b[39m] \u001b[38;5;28;01mfor\u001b[39;00m l \u001b[38;5;129;01min\u001b[39;00m result]\n",
      "File \u001b[0;32m~/opt/anaconda3/lib/python3.9/site-packages/matplotlib/axes/_base.py:531\u001b[0m, in \u001b[0;36m<genexpr>\u001b[0;34m(.0)\u001b[0m\n\u001b[1;32m    528\u001b[0m \u001b[38;5;28;01melse\u001b[39;00m:\n\u001b[1;32m    529\u001b[0m     labels \u001b[38;5;241m=\u001b[39m [label] \u001b[38;5;241m*\u001b[39m n_datasets\n\u001b[0;32m--> 531\u001b[0m result \u001b[38;5;241m=\u001b[39m (\u001b[43mmake_artist\u001b[49m\u001b[43m(\u001b[49m\u001b[43mx\u001b[49m\u001b[43m[\u001b[49m\u001b[43m:\u001b[49m\u001b[43m,\u001b[49m\u001b[43m \u001b[49m\u001b[43mj\u001b[49m\u001b[43m \u001b[49m\u001b[38;5;241;43m%\u001b[39;49m\u001b[43m \u001b[49m\u001b[43mncx\u001b[49m\u001b[43m]\u001b[49m\u001b[43m,\u001b[49m\u001b[43m \u001b[49m\u001b[43my\u001b[49m\u001b[43m[\u001b[49m\u001b[43m:\u001b[49m\u001b[43m,\u001b[49m\u001b[43m \u001b[49m\u001b[43mj\u001b[49m\u001b[43m \u001b[49m\u001b[38;5;241;43m%\u001b[39;49m\u001b[43m \u001b[49m\u001b[43mncy\u001b[49m\u001b[43m]\u001b[49m\u001b[43m,\u001b[49m\u001b[43m \u001b[49m\u001b[43mkw\u001b[49m\u001b[43m,\u001b[49m\n\u001b[1;32m    532\u001b[0m \u001b[43m                      \u001b[49m\u001b[43m{\u001b[49m\u001b[38;5;241;43m*\u001b[39;49m\u001b[38;5;241;43m*\u001b[39;49m\u001b[43mkwargs\u001b[49m\u001b[43m,\u001b[49m\u001b[43m \u001b[49m\u001b[38;5;124;43m'\u001b[39;49m\u001b[38;5;124;43mlabel\u001b[39;49m\u001b[38;5;124;43m'\u001b[39;49m\u001b[43m:\u001b[49m\u001b[43m \u001b[49m\u001b[43mlabel\u001b[49m\u001b[43m}\u001b[49m\u001b[43m)\u001b[49m\n\u001b[1;32m    533\u001b[0m           \u001b[38;5;28;01mfor\u001b[39;00m j, label \u001b[38;5;129;01min\u001b[39;00m \u001b[38;5;28menumerate\u001b[39m(labels))\n\u001b[1;32m    535\u001b[0m \u001b[38;5;28;01mif\u001b[39;00m return_kwargs:\n\u001b[1;32m    536\u001b[0m     \u001b[38;5;28;01mreturn\u001b[39;00m \u001b[38;5;28mlist\u001b[39m(result)\n",
      "File \u001b[0;32m~/opt/anaconda3/lib/python3.9/site-packages/matplotlib/axes/_base.py:351\u001b[0m, in \u001b[0;36m_process_plot_var_args._makeline\u001b[0;34m(self, x, y, kw, kwargs)\u001b[0m\n\u001b[1;32m    349\u001b[0m default_dict \u001b[38;5;241m=\u001b[39m \u001b[38;5;28mself\u001b[39m\u001b[38;5;241m.\u001b[39m_getdefaults(\u001b[38;5;28mset\u001b[39m(), kw)\n\u001b[1;32m    350\u001b[0m \u001b[38;5;28mself\u001b[39m\u001b[38;5;241m.\u001b[39m_setdefaults(default_dict, kw)\n\u001b[0;32m--> 351\u001b[0m seg \u001b[38;5;241m=\u001b[39m \u001b[43mmlines\u001b[49m\u001b[38;5;241;43m.\u001b[39;49m\u001b[43mLine2D\u001b[49m\u001b[43m(\u001b[49m\u001b[43mx\u001b[49m\u001b[43m,\u001b[49m\u001b[43m \u001b[49m\u001b[43my\u001b[49m\u001b[43m,\u001b[49m\u001b[43m \u001b[49m\u001b[38;5;241;43m*\u001b[39;49m\u001b[38;5;241;43m*\u001b[39;49m\u001b[43mkw\u001b[49m\u001b[43m)\u001b[49m\n\u001b[1;32m    352\u001b[0m \u001b[38;5;28;01mreturn\u001b[39;00m seg, kw\n",
      "File \u001b[0;32m~/opt/anaconda3/lib/python3.9/site-packages/matplotlib/lines.py:366\u001b[0m, in \u001b[0;36mLine2D.__init__\u001b[0;34m(self, xdata, ydata, linewidth, linestyle, color, marker, markersize, markeredgewidth, markeredgecolor, markerfacecolor, markerfacecoloralt, fillstyle, antialiased, dash_capstyle, solid_capstyle, dash_joinstyle, solid_joinstyle, pickradius, drawstyle, markevery, **kwargs)\u001b[0m\n\u001b[1;32m    363\u001b[0m \u001b[38;5;28mself\u001b[39m\u001b[38;5;241m.\u001b[39m_us_dashOffset \u001b[38;5;241m=\u001b[39m \u001b[38;5;241m0\u001b[39m\n\u001b[1;32m    365\u001b[0m \u001b[38;5;28mself\u001b[39m\u001b[38;5;241m.\u001b[39mset_linewidth(linewidth)\n\u001b[0;32m--> 366\u001b[0m \u001b[38;5;28;43mself\u001b[39;49m\u001b[38;5;241;43m.\u001b[39;49m\u001b[43mset_linestyle\u001b[49m\u001b[43m(\u001b[49m\u001b[43mlinestyle\u001b[49m\u001b[43m)\u001b[49m\n\u001b[1;32m    367\u001b[0m \u001b[38;5;28mself\u001b[39m\u001b[38;5;241m.\u001b[39mset_drawstyle(drawstyle)\n\u001b[1;32m    369\u001b[0m \u001b[38;5;28mself\u001b[39m\u001b[38;5;241m.\u001b[39m_color \u001b[38;5;241m=\u001b[39m \u001b[38;5;28;01mNone\u001b[39;00m\n",
      "File \u001b[0;32m~/opt/anaconda3/lib/python3.9/site-packages/matplotlib/lines.py:1122\u001b[0m, in \u001b[0;36mLine2D.set_linestyle\u001b[0;34m(self, ls)\u001b[0m\n\u001b[1;32m   1119\u001b[0m \u001b[38;5;28;01mif\u001b[39;00m ls \u001b[38;5;129;01min\u001b[39;00m [\u001b[38;5;124m'\u001b[39m\u001b[38;5;124m \u001b[39m\u001b[38;5;124m'\u001b[39m, \u001b[38;5;124m'\u001b[39m\u001b[38;5;124m'\u001b[39m, \u001b[38;5;124m'\u001b[39m\u001b[38;5;124mnone\u001b[39m\u001b[38;5;124m'\u001b[39m]:\n\u001b[1;32m   1120\u001b[0m     ls \u001b[38;5;241m=\u001b[39m \u001b[38;5;124m'\u001b[39m\u001b[38;5;124mNone\u001b[39m\u001b[38;5;124m'\u001b[39m\n\u001b[0;32m-> 1122\u001b[0m \u001b[43m_api\u001b[49m\u001b[38;5;241;43m.\u001b[39;49m\u001b[43mcheck_in_list\u001b[49m\u001b[43m(\u001b[49m\u001b[43m[\u001b[49m\u001b[38;5;241;43m*\u001b[39;49m\u001b[38;5;28;43mself\u001b[39;49m\u001b[38;5;241;43m.\u001b[39;49m\u001b[43m_lineStyles\u001b[49m\u001b[43m,\u001b[49m\u001b[43m \u001b[49m\u001b[38;5;241;43m*\u001b[39;49m\u001b[43mls_mapper_r\u001b[49m\u001b[43m]\u001b[49m\u001b[43m,\u001b[49m\u001b[43m \u001b[49m\u001b[43mls\u001b[49m\u001b[38;5;241;43m=\u001b[39;49m\u001b[43mls\u001b[49m\u001b[43m)\u001b[49m\n\u001b[1;32m   1123\u001b[0m \u001b[38;5;28;01mif\u001b[39;00m ls \u001b[38;5;129;01mnot\u001b[39;00m \u001b[38;5;129;01min\u001b[39;00m \u001b[38;5;28mself\u001b[39m\u001b[38;5;241m.\u001b[39m_lineStyles:\n\u001b[1;32m   1124\u001b[0m     ls \u001b[38;5;241m=\u001b[39m ls_mapper_r[ls]\n",
      "File \u001b[0;32m~/opt/anaconda3/lib/python3.9/site-packages/matplotlib/_api/__init__.py:129\u001b[0m, in \u001b[0;36mcheck_in_list\u001b[0;34m(_values, _print_supported_values, **kwargs)\u001b[0m\n\u001b[1;32m    127\u001b[0m \u001b[38;5;28;01mif\u001b[39;00m _print_supported_values:\n\u001b[1;32m    128\u001b[0m     msg \u001b[38;5;241m+\u001b[39m\u001b[38;5;241m=\u001b[39m \u001b[38;5;124mf\u001b[39m\u001b[38;5;124m\"\u001b[39m\u001b[38;5;124m; supported values are \u001b[39m\u001b[38;5;132;01m{\u001b[39;00m\u001b[38;5;124m'\u001b[39m\u001b[38;5;124m, \u001b[39m\u001b[38;5;124m'\u001b[39m\u001b[38;5;241m.\u001b[39mjoin(\u001b[38;5;28mmap\u001b[39m(\u001b[38;5;28mrepr\u001b[39m, values))\u001b[38;5;132;01m}\u001b[39;00m\u001b[38;5;124m\"\u001b[39m\n\u001b[0;32m--> 129\u001b[0m \u001b[38;5;28;01mraise\u001b[39;00m \u001b[38;5;167;01mValueError\u001b[39;00m(msg)\n",
      "\u001b[0;31mValueError\u001b[0m: '-. ' is not a valid value for ls; supported values are '-', '--', '-.', ':', 'None', ' ', '', 'solid', 'dashed', 'dashdot', 'dotted'"
     ]
    },
    {
     "data": {
      "image/png": "[encoded data removed]",
      "text/plain": [
       "<Figure size 720x432 with 1 Axes>"
      ]
     },
     "metadata": {
      "needs_background": "light"
     },
     "output_type": "display_data"
    }
   ],
   "source": [
    "fig = plt.figure(figsize=(10, 6))\n",
    "ax = fig.add_subplot(111)\n",
    "\n",
    "for pl, ls in zip(plot_list, linestyles):\n",
    "    ax.plot(space, pl, ls=ls, color='green')\n",
    "ax.hlines(p, -1, n, 'k')\n",
    "ax.set_xlabel('sample size')\n",
    "ax.set_ylabel('sample mean')\n",
    "\n",
    "plt.show()"
   ]
  },
  {
   "cell_type": "markdown",
   "id": "58e2f36c-74bf-48b6-a8da-21feb4dba637",
   "metadata": {},
   "source": [
    "#### [과제]\n",
    "중심극한정리와 대수의 법칙을 사례를 들어 설명하세요."
   ]
  },
  {
   "cell_type": "markdown",
   "id": "d74ee60c-35de-40b3-a104-9680084afe12",
   "metadata": {},
   "source": [
    "- 중심극한정리 : \n",
    "    - 임의의 확률분포 F w. E=$\\mu$, V = $\\sigma^2$\n",
    "    - 표본 갯수 $n$이 커짐에 따라\n",
    "    - 표본 평균의 분포가 $N(\\mu, \\frac{\\sigma^2}{n})$을 따름\n"
   ]
  },
  {
   "cell_type": "markdown",
   "id": "963b1b46-9249-4f1f-8bc0-aeb70e5805e7",
   "metadata": {},
   "source": [
    "- uniform한 분포로 테스트"
   ]
  },
  {
   "cell_type": "code",
   "execution_count": 2,
   "id": "4eabc36f-2278-4117-8f8a-c1daf77db343",
   "metadata": {},
   "outputs": [
    {
     "data": {
      "text/plain": [
       "array([[945, 520, 196, ..., 214, 333,  15],\n",
       "       [984, 685, 470, ..., 461, 386, 828],\n",
       "       [320, 841, 990, ..., 890, 872, 146],\n",
       "       ...,\n",
       "       [222, 837, 141, ..., 987, 407, 229],\n",
       "       [793, 194, 446, ..., 248, 630,  72],\n",
       "       [252, 949, 813, ..., 871, 953, 892]])"
      ]
     },
     "execution_count": 2,
     "metadata": {},
     "output_type": "execute_result"
    }
   ],
   "source": [
    "sample = np.random.randint(1000, size=(10000, 10000))\n",
    "sample"
   ]
  },
  {
   "cell_type": "markdown",
   "id": "d0a6de05-211a-4b9e-ac7e-cb8c1ecacd6e",
   "metadata": {},
   "source": [
    "- distribution of samples"
   ]
  },
  {
   "cell_type": "code",
   "execution_count": 3,
   "id": "e5729614-f7b9-443c-b53d-26792fd14ee1",
   "metadata": {},
   "outputs": [
    {
     "data": {
      "image/png": "[encoded data removed]",
      "text/plain": [
       "<Figure size 720x432 with 1 Axes>"
      ]
     },
     "metadata": {
      "needs_background": "light"
     },
     "output_type": "display_data"
    }
   ],
   "source": [
    "fig = plt.figure(figsize=(10, 6))\n",
    "ax = fig.add_subplot(111)\n",
    "\n",
    "ax.hist(sample[0], bins=100, density=True, alpha=0.5)\n",
    "plt.show()"
   ]
  },
  {
   "cell_type": "code",
   "execution_count": 4,
   "id": "4ce61416-0f01-492d-8ccf-52195c6ad48a",
   "metadata": {},
   "outputs": [
    {
     "data": {
      "text/plain": [
       "(10000,)"
      ]
     },
     "execution_count": 4,
     "metadata": {},
     "output_type": "execute_result"
    }
   ],
   "source": [
    "means = np.array(np.mean(sample, axis=0))\n",
    "means.shape"
   ]
  },
  {
   "cell_type": "code",
   "execution_count": 5,
   "id": "bbea8bde-6fac-4b93-ab67-47847ff18060",
   "metadata": {},
   "outputs": [],
   "source": [
    "sample1 = sample.reshape(1, -1)"
   ]
  },
  {
   "cell_type": "code",
   "execution_count": 6,
   "id": "9595cb46-c8d1-4927-b453-fea296383d15",
   "metadata": {},
   "outputs": [
    {
     "data": {
      "text/plain": [
       "(499.53954674, 83336.31558183533)"
      ]
     },
     "execution_count": 6,
     "metadata": {},
     "output_type": "execute_result"
    }
   ],
   "source": [
    "mean = np.mean(sample1) \n",
    "var = np.var(sample1)\n",
    "mean, var"
   ]
  },
  {
   "cell_type": "code",
   "execution_count": 9,
   "id": "a81a2533-9f72-464d-ac30-91ef5966b9d9",
   "metadata": {},
   "outputs": [
    {
     "data": {
      "image/png": "[encoded data removed]",
      "text/plain": [
       "<Figure size 720x432 with 1 Axes>"
      ]
     },
     "metadata": {
      "needs_background": "light"
     },
     "output_type": "display_data"
    }
   ],
   "source": [
    "fig = plt.figure(figsize=(10, 6))\n",
    "ax = fig.add_subplot(111)\n",
    "\n",
    "ax.hist(means, bins=100, density=True, alpha=0.5)\n",
    "\n",
    "xs = np.linspace(485, 515, 100)\n",
    "rv = stats.norm(mean, np.sqrt(var/10000))\n",
    "ax.plot(xs, rv.pdf(xs), color='k')\n",
    "\n",
    "plt.show()"
   ]
  },
  {
   "cell_type": "markdown",
   "id": "1634dea0-8d49-4938-bbe5-9179306f8a5c",
   "metadata": {},
   "source": [
    "- 대수의 법칙\n",
    "    - 표본 크기가 커지면 평균이 모평균에 가까워진다."
   ]
  },
  {
   "cell_type": "code",
   "execution_count": 10,
   "id": "cff9ac4a-42be-4bce-94a6-017547882689",
   "metadata": {},
   "outputs": [
    {
     "data": {
      "text/plain": [
       "(491.306, 87947.168364)"
      ]
     },
     "execution_count": 10,
     "metadata": {},
     "output_type": "execute_result"
    }
   ],
   "source": [
    "population = np.random.randint(1000, size=1000)\n",
    "mean = np.mean(population)\n",
    "var = np.var(population)\n",
    "mean, var"
   ]
  },
  {
   "cell_type": "code",
   "execution_count": 11,
   "id": "4ca00718-f0e8-4c7f-923a-51790d72181c",
   "metadata": {},
   "outputs": [],
   "source": [
    "space  = np.linspace(100, 2000, 100).astype(int)"
   ]
  },
  {
   "cell_type": "code",
   "execution_count": 12,
   "id": "36d0d079-7274-4d27-91bc-ab125d75d2b5",
   "metadata": {},
   "outputs": [
    {
     "data": {
      "text/plain": [
       "array([ 100,  119,  138,  157,  176,  195,  215,  234,  253,  272,  291,\n",
       "        311,  330,  349,  368,  387,  407,  426,  445,  464,  483,  503,\n",
       "        522,  541,  560,  579,  598,  618,  637,  656,  675,  694,  714,\n",
       "        733,  752,  771,  790,  810,  829,  848,  867,  886,  906,  925,\n",
       "        944,  963,  982, 1002, 1021, 1040, 1059, 1078, 1097, 1117, 1136,\n",
       "       1155, 1174, 1193, 1213, 1232, 1251, 1270, 1289, 1309, 1328, 1347,\n",
       "       1366, 1385, 1405, 1424, 1443, 1462, 1481, 1501, 1520, 1539, 1558,\n",
       "       1577, 1596, 1616, 1635, 1654, 1673, 1692, 1712, 1731, 1750, 1769,\n",
       "       1788, 1808, 1827, 1846, 1865, 1884, 1904, 1923, 1942, 1961, 1980,\n",
       "       2000])"
      ]
     },
     "execution_count": 12,
     "metadata": {},
     "output_type": "execute_result"
    }
   ],
   "source": [
    "space"
   ]
  },
  {
   "cell_type": "code",
   "execution_count": 13,
   "id": "a78f1064-3af3-421c-a9d6-30a6d8e83560",
   "metadata": {},
   "outputs": [],
   "source": [
    "sample_means = np.array([ np.mean(population[:sp]) for sp in space])"
   ]
  },
  {
   "cell_type": "code",
   "execution_count": 14,
   "id": "1aaf8ea4-e669-4464-bf8c-af330d2360f2",
   "metadata": {},
   "outputs": [
    {
     "data": {
      "text/plain": [
       "(100,)"
      ]
     },
     "execution_count": 14,
     "metadata": {},
     "output_type": "execute_result"
    }
   ],
   "source": [
    "sample_means.shape"
   ]
  },
  {
   "cell_type": "code",
   "execution_count": 15,
   "id": "2ffde2fb-0f1c-4e10-9692-66439a76807a",
   "metadata": {},
   "outputs": [
    {
     "data": {
      "text/plain": [
       "array([473.49      , 469.86554622, 482.34782609, 502.21019108,\n",
       "       490.72159091, 493.43589744, 501.92093023, 493.31196581,\n",
       "       491.39525692, 492.24632353, 491.54295533, 494.51125402,\n",
       "       505.07575758, 505.04297994, 506.27173913, 504.84754522,\n",
       "       499.51597052, 503.53051643, 501.71460674, 497.82543103,\n",
       "       500.03519669, 502.38966203, 499.67241379, 495.35674677,\n",
       "       497.24285714, 495.29188256, 494.53177258, 495.15372168,\n",
       "       496.71899529, 499.02439024, 496.95259259, 496.26368876,\n",
       "       494.38655462, 491.91678035, 491.1875    , 491.88197147,\n",
       "       492.21265823, 491.72962963, 493.29794934, 491.56839623,\n",
       "       489.83044983, 490.0462754 , 490.67770419, 491.52432432,\n",
       "       493.30508475, 492.72066459, 492.200611  , 491.306     ,\n",
       "       491.306     , 491.306     , 491.306     , 491.306     ,\n",
       "       491.306     , 491.306     , 491.306     , 491.306     ,\n",
       "       491.306     , 491.306     , 491.306     , 491.306     ,\n",
       "       491.306     , 491.306     , 491.306     , 491.306     ,\n",
       "       491.306     , 491.306     , 491.306     , 491.306     ,\n",
       "       491.306     , 491.306     , 491.306     , 491.306     ,\n",
       "       491.306     , 491.306     , 491.306     , 491.306     ,\n",
       "       491.306     , 491.306     , 491.306     , 491.306     ,\n",
       "       491.306     , 491.306     , 491.306     , 491.306     ,\n",
       "       491.306     , 491.306     , 491.306     , 491.306     ,\n",
       "       491.306     , 491.306     , 491.306     , 491.306     ,\n",
       "       491.306     , 491.306     , 491.306     , 491.306     ,\n",
       "       491.306     , 491.306     , 491.306     , 491.306     ])"
      ]
     },
     "execution_count": 15,
     "metadata": {},
     "output_type": "execute_result"
    }
   ],
   "source": [
    "sample_means"
   ]
  },
  {
   "cell_type": "code",
   "execution_count": 16,
   "id": "cf12e279-7b31-4a08-919c-b135ff8e03cb",
   "metadata": {},
   "outputs": [
    {
     "data": {
      "image/png": "[encoded data removed]",
      "text/plain": [
       "<Figure size 720x432 with 1 Axes>"
      ]
     },
     "metadata": {
      "needs_background": "light"
     },
     "output_type": "display_data"
    }
   ],
   "source": [
    "fig = plt.figure(figsize=(10, 6))\n",
    "ax = fig.add_subplot(111)\n",
    "\n",
    "ax.hlines(mean, 100, 2000, color='k', linestyles=':')\n",
    "ax.plot(space, sample_means)\n",
    "\n",
    "plt.show()"
   ]
  },
  {
   "cell_type": "markdown",
   "id": "371966be-0f43-4e20-96df-874b7c3ec18d",
   "metadata": {
    "tags": []
   },
   "source": [
    "# 통계적 추정"
   ]
  },
  {
   "cell_type": "code",
   "execution_count": 75,
   "id": "b5eb575c-12dc-4e19-bf6e-1d048314a590",
   "metadata": {},
   "outputs": [
    {
     "data": {
      "text/plain": [
       "'%.3f'"
      ]
     },
     "execution_count": 75,
     "metadata": {},
     "output_type": "execute_result"
    }
   ],
   "source": [
    "import numpy as np \n",
    "import pandas as pd\n",
    "import matplotlib.pyplot as plt\n",
    "from scipy import stats\n",
    "\n",
    "%precision 3"
   ]
  },
  {
   "cell_type": "code",
   "execution_count": 77,
   "id": "7a3a78da-1e84-4018-ab8a-e2199eddafa3",
   "metadata": {},
   "outputs": [
    {
     "name": "stdout",
     "output_type": "stream",
     "text": [
      "   score\n",
      "0     76\n",
      "1     55\n",
      "2     80\n",
      "3     80\n",
      "4     74\n"
     ]
    }
   ],
   "source": [
    "df = pd.read_csv('ch4_scores400.csv')\n",
    "print(df.head())\n",
    "scores= np.array(df['score'])"
   ]
  },
  {
   "cell_type": "code",
   "execution_count": 78,
   "id": "43b5d61b-4b25-4190-adba-a41bbe76d573",
   "metadata": {},
   "outputs": [
    {
     "data": {
      "text/plain": [
       "(69.530, 206.669)"
      ]
     },
     "execution_count": 78,
     "metadata": {},
     "output_type": "execute_result"
    }
   ],
   "source": [
    "#모평균, 모분산\n",
    "p_mean = np.mean(scores)\n",
    "p_var = np.var(scores)\n",
    "p_mean, p_var"
   ]
  },
  {
   "cell_type": "code",
   "execution_count": 79,
   "id": "270a0d25-b2f0-4a2a-8874-a00dc4291a45",
   "metadata": {},
   "outputs": [
    {
     "data": {
      "text/plain": [
       "(array([0.   , 0.   , 0.   , 0.   , 0.   , 0.   , 0.   , 0.   , 0.   ,\n",
       "        0.   , 0.   , 0.   , 0.   , 0.   , 0.   , 0.   , 0.   , 0.   ,\n",
       "        0.   , 0.   , 0.   , 0.   , 0.   , 0.003, 0.   , 0.   , 0.   ,\n",
       "        0.   , 0.003, 0.003, 0.   , 0.003, 0.   , 0.   , 0.003, 0.   ,\n",
       "        0.   , 0.   , 0.003, 0.   , 0.003, 0.005, 0.007, 0.007, 0.   ,\n",
       "        0.013, 0.013, 0.007, 0.005, 0.015, 0.01 , 0.   , 0.022, 0.003,\n",
       "        0.02 , 0.025, 0.02 , 0.025, 0.02 , 0.013, 0.015, 0.033, 0.015,\n",
       "        0.035, 0.022, 0.02 , 0.015, 0.033, 0.04 , 0.028, 0.025, 0.018,\n",
       "        0.022, 0.02 , 0.025, 0.018, 0.035, 0.025, 0.033, 0.025, 0.025,\n",
       "        0.02 , 0.018, 0.022, 0.007, 0.015, 0.022, 0.013, 0.005, 0.007,\n",
       "        0.013, 0.02 , 0.015, 0.01 , 0.007, 0.   , 0.013, 0.005, 0.003,\n",
       "        0.013]),\n",
       " array([  0.,   1.,   2.,   3.,   4.,   5.,   6.,   7.,   8.,   9.,  10.,\n",
       "         11.,  12.,  13.,  14.,  15.,  16.,  17.,  18.,  19.,  20.,  21.,\n",
       "         22.,  23.,  24.,  25.,  26.,  27.,  28.,  29.,  30.,  31.,  32.,\n",
       "         33.,  34.,  35.,  36.,  37.,  38.,  39.,  40.,  41.,  42.,  43.,\n",
       "         44.,  45.,  46.,  47.,  48.,  49.,  50.,  51.,  52.,  53.,  54.,\n",
       "         55.,  56.,  57.,  58.,  59.,  60.,  61.,  62.,  63.,  64.,  65.,\n",
       "         66.,  67.,  68.,  69.,  70.,  71.,  72.,  73.,  74.,  75.,  76.,\n",
       "         77.,  78.,  79.,  80.,  81.,  82.,  83.,  84.,  85.,  86.,  87.,\n",
       "         88.,  89.,  90.,  91.,  92.,  93.,  94.,  95.,  96.,  97.,  98.,\n",
       "         99., 100.]),\n",
       " <BarContainer object of 100 artists>)"
      ]
     },
     "execution_count": 79,
     "metadata": {},
     "output_type": "execute_result"
    },
    {
     "data": {
      "image/png": "[encoded data removed]",
      "text/plain": [
       "<Figure size 720x432 with 1 Axes>"
      ]
     },
     "metadata": {
      "needs_background": "light"
     },
     "output_type": "display_data"
    }
   ],
   "source": [
    "#모집단이 정규 분포를 이룬다고 가정해 추정을 수행 \n",
    "plt.figure(figsize=(10,6))\n",
    "xs=np.arange(101)\n",
    "rv=stats.norm(p_mean, np.sqrt(p_var))\n",
    "\n",
    "plt.plot(xs, rv.pdf(xs), color ='gray')\n",
    "plt.hist(scores, bins=100, range=(0,100), density=True)"
   ]
  },
  {
   "cell_type": "code",
   "execution_count": 80,
   "id": "1863b57a-6c1d-46e3-a42d-7d589e7bdbe8",
   "metadata": {},
   "outputs": [
    {
     "data": {
      "text/plain": [
       "array([49, 60, 72, 86, 52, 61, 77, 91, 80, 56, 69, 67, 90, 56, 75, 79, 60,\n",
       "       79, 68, 81])"
      ]
     },
     "execution_count": 80,
     "metadata": {},
     "output_type": "execute_result"
    }
   ],
   "source": [
    "#A학생이 무작위 추출한 표본크기가 20인 표본\n",
    "\n",
    "np.random.seed(0)\n",
    "n=20\n",
    "sample = np.random.choice(scores, n)\n",
    "sample"
   ]
  },
  {
   "cell_type": "code",
   "execution_count": 81,
   "id": "9177bfa0-93c7-475c-bb43-c0262c6b9de3",
   "metadata": {},
   "outputs": [],
   "source": [
    "#표본크기가 20인 표본 10000개 추출\n",
    "np.random.seed(1111)\n",
    "n=20\n",
    "n_samples = 10000\n",
    "samples = np.random.choice(scores, (n_samples, n))"
   ]
  },
  {
   "cell_type": "markdown",
   "id": "2445475c-212b-4eba-acd7-b00801e101a1",
   "metadata": {
    "jupyter": {
     "outputs_hidden": true
    },
    "tags": []
   },
   "source": [
    "## 점추정\n",
    "- 모평균이나 모분산 등의 모수를 하나의 수치로 추정\n",
    "- 추정량의 기댓값이 추측하려는 모수가 되는 성질을 불편성이라고 하며 불편성을 가진 추정량을 불편추정량이라고 한다.\n",
    "- 표본평균이 모평균을 잘 추정할 수 있는 근거 중 하나가 바로 이 불편성이다.\n",
    "- 표본크기 n을 증가시키면 추측하기 원하는 모수에 수렴해가는 성질을 일치성이라고 하며 일치성을 지닌 추정량을 일치추정량이라고 함\n",
    "- 표본평균은 불편성과 일치성을 모두 가지고 있기 때문에 모평균을 잘 추정한다고 말할 수 있다."
   ]
  },
  {
   "cell_type": "markdown",
   "id": "667134c3-91de-434c-93f2-8ab2545f4d5c",
   "metadata": {},
   "source": [
    "### 모평균의 점추정"
   ]
  },
  {
   "cell_type": "code",
   "execution_count": 91,
   "id": "e7335966-d356-4e3c-ae1b-fec50ac19038",
   "metadata": {},
   "outputs": [
    {
     "name": "stdout",
     "output_type": "stream",
     "text": [
      "모평균: 69.53\n",
      "모분산: 207.1870676691731\n",
      "표본분산, 분산:  69.53799999999998 206.67808263157895\n"
     ]
    }
   ],
   "source": [
    "df = pd.read_csv('ch4_scores400.csv')\n",
    "print('모평균:',df.score.mean())\n",
    "\n",
    "np.random.seed(1111)\n",
    "n = 20\n",
    "n_samples = 10000\n",
    "samples = np.random.choice(scores, (n_samples, n))\n",
    "\n",
    "sample_means = np.mean(samples, axis = 1)\n",
    "\n",
    "print('모분산:', df.score.var())\n",
    "sample_u_vars = np.var(samples, axis=1, ddof=1)\n",
    "\n",
    "print('표본분산, 분산: ', np.mean(sample_means), np.mean(sample_u_vars))"
   ]
  },
  {
   "cell_type": "code",
   "execution_count": 93,
   "id": "ed0c6973-0abf-4083-b6d4-4f2a8dd86248",
   "metadata": {},
   "outputs": [
    {
     "name": "stdout",
     "output_type": "stream",
     "text": [
      "1번째 표본분산 : 67.000\n",
      "2번째 표본분산 : 72.850\n",
      "3번째 표본분산 : 69.200\n",
      "4번째 표본분산 : 64.450\n",
      "5번째 표본분산 : 72.650\n"
     ]
    }
   ],
   "source": [
    "for i in range(5):\n",
    "    s_mean = np.mean(samples[i])\n",
    "    print(f'{i+1}번째 표본분산 : {s_mean:.3f}')"
   ]
  },
  {
   "cell_type": "code",
   "execution_count": 94,
   "id": "5dfa188b-9e90-4233-9028-153618148c5d",
   "metadata": {},
   "outputs": [
    {
     "data": {
      "text/plain": [
       "69.538"
      ]
     },
     "execution_count": 94,
     "metadata": {},
     "output_type": "execute_result"
    }
   ],
   "source": [
    "# 표본평균의 평균\n",
    "sample_means = np.mean(samples, axis=1)\n",
    "np.mean(sample_means)"
   ]
  },
  {
   "cell_type": "code",
   "execution_count": 95,
   "id": "18b4c517-0232-4319-aa57-1225ff50c1d5",
   "metadata": {
    "tags": []
   },
   "outputs": [
    {
     "data": {
      "text/plain": [
       "69.543"
      ]
     },
     "execution_count": 95,
     "metadata": {},
     "output_type": "execute_result"
    }
   ],
   "source": [
    "# 표본크기를 백만으로 할 때의 표본평균\n",
    "np.mean(np.random.choice(scores,int(1e6)))"
   ]
  },
  {
   "cell_type": "code",
   "execution_count": 102,
   "id": "b6b57faa-8702-4df0-abeb-5745297b86c0",
   "metadata": {},
   "outputs": [
    {
     "data": {
      "text/plain": [
       "70.400"
      ]
     },
     "execution_count": 102,
     "metadata": {},
     "output_type": "execute_result"
    }
   ],
   "source": [
    "# A학생이 추출한 표본의 표본평균\n",
    "np.random.seed(0)\n",
    "n = 20\n",
    "sample = np.random.choice(scores, n)\n",
    "s_mean = np.mean(sample)\n",
    "s_mean"
   ]
  },
  {
   "cell_type": "code",
   "execution_count": 103,
   "id": "4dd5c1c1-1e63-4071-84ec-4983d815e649",
   "metadata": {},
   "outputs": [
    {
     "data": {
      "text/plain": [
       "206.669"
      ]
     },
     "execution_count": 103,
     "metadata": {},
     "output_type": "execute_result"
    }
   ],
   "source": [
    "np.var(scores)"
   ]
  },
  {
   "cell_type": "markdown",
   "id": "9cfe513f-7b3d-4b38-b4fb-2390a7eaaf5a",
   "metadata": {},
   "source": [
    "### 모분산의 점추정"
   ]
  },
  {
   "cell_type": "code",
   "execution_count": 104,
   "id": "41bcea1f-1b6f-474e-8929-99f761aa90c7",
   "metadata": {},
   "outputs": [
    {
     "name": "stdout",
     "output_type": "stream",
     "text": [
      "1번째 표본분산 : 116.800\n",
      "2번째 표본분산 : 162.928\n",
      "3번째 표본분산 : 187.060\n",
      "4번째 표본분산 : 149.148\n",
      "5번째 표본분산 : 111.528\n"
     ]
    }
   ],
   "source": [
    "# 모분산의 점추정\n",
    "for i in range(5):\n",
    "    s_var = np.var(samples[i])\n",
    "    print(f'{i+1}번째 표본분산 : {s_var:.3f}')"
   ]
  },
  {
   "cell_type": "code",
   "execution_count": 105,
   "id": "d293af33-7cf7-4787-974d-6a416379f644",
   "metadata": {},
   "outputs": [
    {
     "data": {
      "text/plain": [
       "196.344"
      ]
     },
     "execution_count": 105,
     "metadata": {},
     "output_type": "execute_result"
    }
   ],
   "source": [
    "# 대수의 법칙으로 확인 (표본분산, 평균)\n",
    "sample_vars = np.var(samples, axis=1)\n",
    "np.mean(sample_vars)"
   ]
  },
  {
   "cell_type": "code",
   "execution_count": 106,
   "id": "706927e8-d5e8-4bfb-bb9b-2c5fda8b74da",
   "metadata": {},
   "outputs": [
    {
     "data": {
      "text/plain": [
       "206.678"
      ]
     },
     "execution_count": 106,
     "metadata": {},
     "output_type": "execute_result"
    }
   ],
   "source": [
    "sample_u_vars = np.var(samples, axis=1, ddof=1)\n",
    "np.mean(sample_u_vars)"
   ]
  },
  {
   "cell_type": "code",
   "execution_count": 107,
   "id": "e0dde366-4578-4917-9aca-4a085c699ac1",
   "metadata": {
    "tags": []
   },
   "outputs": [
    {
     "data": {
      "text/plain": [
       "207.128"
      ]
     },
     "execution_count": 107,
     "metadata": {},
     "output_type": "execute_result"
    }
   ],
   "source": [
    "np.var(np.random.choice(scores, int(1e6)), ddof=1)"
   ]
  },
  {
   "cell_type": "code",
   "execution_count": 108,
   "id": "e8688aa5-aed8-41d8-830e-bd8af19d7db8",
   "metadata": {},
   "outputs": [
    {
     "data": {
      "text/plain": [
       "158.253"
      ]
     },
     "execution_count": 108,
     "metadata": {},
     "output_type": "execute_result"
    }
   ],
   "source": [
    "u_var = np.var(sample, ddof=1)\n",
    "u_var"
   ]
  },
  {
   "cell_type": "markdown",
   "id": "31b0a441-7978-4953-b35e-2238ba0c5a95",
   "metadata": {},
   "source": [
    "### 정리\n",
    "- 불편성 : 기댓값이 추측하기 원하는 모수가 되는 성질\n",
    "- 일치성 : 표본 크기를 키우면 추측하기 원하는 모수에 수렴하는 성질"
   ]
  },
  {
   "cell_type": "markdown",
   "id": "85f4fb84-973b-4e10-9b97-506051fd4f78",
   "metadata": {},
   "source": [
    "## 구간추정"
   ]
  },
  {
   "cell_type": "markdown",
   "id": "77961432-25e7-4e67-bd14-fb39f015b79f",
   "metadata": {
    "tags": []
   },
   "source": [
    "### 정규분포의 모평균(분산을 알고 있는)의 구간추정"
   ]
  },
  {
   "cell_type": "code",
   "execution_count": 17,
   "id": "8249c982-c15a-49e0-b713-6b35f1ec02f6",
   "metadata": {
    "ExecuteTime": {
     "end_time": "2018-08-14T18:04:47.634102Z",
     "start_time": "2018-08-14T18:04:47.626189Z"
    }
   },
   "outputs": [
    {
     "data": {
      "text/plain": [
       "(64.09956018535247, 76.70043981464754)"
      ]
     },
     "execution_count": 17,
     "metadata": {},
     "output_type": "execute_result"
    }
   ],
   "source": [
    "rv = stats.norm()\n",
    "lcl = s_mean - rv.isf(0.025) * np.sqrt(p_var/n)\n",
    "ucl = s_mean - rv.isf(0.975) * np.sqrt(p_var/n)\n",
    "\n",
    "lcl, ucl"
   ]
  },
  {
   "cell_type": "code",
   "execution_count": 18,
   "id": "00ebb6c8-2c25-43b3-9425-22b81897abed",
   "metadata": {
    "ExecuteTime": {
     "end_time": "2018-08-14T18:04:47.815248Z",
     "start_time": "2018-08-14T18:04:47.637157Z"
    }
   },
   "outputs": [
    {
     "data": {
      "image/png": "[encoded data removed]",
      "text/plain": [
       "<Figure size 720x720 with 1 Axes>"
      ]
     },
     "metadata": {
      "needs_background": "light"
     },
     "output_type": "display_data"
    }
   ],
   "source": [
    "fig = plt.figure(figsize=(10, 10))\n",
    "ax = fig.add_subplot(111)\n",
    "\n",
    "rv = stats.norm()\n",
    "n_samples = 20\n",
    "ax.vlines(p_mean, 0, 21)\n",
    "for i in range(n_samples):\n",
    "    sample_ = samples[i]\n",
    "    s_mean_ = np.mean(sample_)\n",
    "    lcl = s_mean_ - rv.isf(0.025) * np.sqrt(p_var/n)\n",
    "    ucl = s_mean_ - rv.isf(0.975) * np.sqrt(p_var/n)\n",
    "    if lcl <= p_mean <= ucl:\n",
    "        ax.scatter(s_mean_, n_samples-i, color='gray')\n",
    "        ax.hlines(n_samples-i, lcl, ucl, color='gray')\n",
    "    else:\n",
    "        ax.scatter(s_mean_, n_samples-i, color='b')\n",
    "        ax.hlines(n_samples-i, lcl, ucl, color='b')\n",
    "ax.set_xticks([p_mean])\n",
    "ax.set_xticklabels(['population mean'])\n",
    "\n",
    "plt.show()"
   ]
  },
  {
   "cell_type": "code",
   "execution_count": 19,
   "id": "39c3c3bd-4e74-4f0d-896d-a057c6ce4c4e",
   "metadata": {
    "ExecuteTime": {
     "end_time": "2018-08-14T18:04:49.710540Z",
     "start_time": "2018-08-14T18:04:47.816297Z"
    }
   },
   "outputs": [
    {
     "data": {
      "text/plain": [
       "0.951"
      ]
     },
     "execution_count": 19,
     "metadata": {},
     "output_type": "execute_result"
    }
   ],
   "source": [
    "rv = stats.norm()\n",
    "cnt = 0\n",
    "\n",
    "for sample_ in samples:\n",
    "    s_mean_ = np.mean(sample_)\n",
    "    lcl = s_mean_ - rv.isf(0.025) * np.sqrt(p_var/n)\n",
    "    ucl = s_mean_ - rv.isf(0.975) * np.sqrt(p_var/n)\n",
    "    if lcl <= p_mean <= ucl:\n",
    "        cnt += 1\n",
    "cnt / len(samples)"
   ]
  },
  {
   "cell_type": "markdown",
   "id": "c05aa200-1e12-4846-bc79-5a33490f2b28",
   "metadata": {
    "tags": []
   },
   "source": [
    "### 정규분포의 모분산(평균을 알지 못하는) 구간추정"
   ]
  },
  {
   "cell_type": "code",
   "execution_count": 114,
   "id": "fd8ed9fe-35c2-4813-8b57-518c34279c30",
   "metadata": {},
   "outputs": [
    {
     "data": {
      "text/plain": [
       "array([11.303, 15.767, 18.102, ..., 19.435,  9.265, 18.625])"
      ]
     },
     "execution_count": 114,
     "metadata": {},
     "output_type": "execute_result"
    }
   ],
   "source": [
    "# y의 표본데이터 생성\n",
    "sample_y = sample_u_vars * (n-1) / p_var\n",
    "sample_y"
   ]
  },
  {
   "cell_type": "code",
   "execution_count": 113,
   "id": "971caf88-edf3-4b36-95e8-0b092d987dd1",
   "metadata": {},
   "outputs": [
    {
     "data": {
      "image/png": "[encoded data removed]",
      "text/plain": [
       "<Figure size 720x432 with 1 Axes>"
      ]
     },
     "metadata": {
      "needs_background": "light"
     },
     "output_type": "display_data"
    }
   ],
   "source": [
    "# 불편분산과 카이제곱분포\n",
    "fig = plt.figure(figsize=(10,6))\n",
    "ax = fig.add_subplot(111)\n",
    "\n",
    "xs = np.linspace(0,40,100)\n",
    "rv = stats.chi2(df=n-1)\n",
    "ax.plot(xs, rv.pdf(xs), color='green')\n",
    "hist, _, _ = ax.hist(sample_y, bins=100, range=(0,40), density=True)\n",
    "\n",
    "plt.show()"
   ]
  },
  {
   "cell_type": "code",
   "execution_count": 115,
   "id": "699aa8d5-c5a4-45d8-878c-a1044934e9d3",
   "metadata": {},
   "outputs": [
    {
     "data": {
      "text/plain": [
       "(91.525, 337.596)"
      ]
     },
     "execution_count": 115,
     "metadata": {},
     "output_type": "execute_result"
    }
   ],
   "source": [
    "rv = stats.chi2(df=n-1)\n",
    "lcl = (n-1) * u_var / rv.isf(0.025)\n",
    "hcl = (n-1) * u_var / rv.isf(0.975)\n",
    "\n",
    "lcl, hcl"
   ]
  },
  {
   "cell_type": "code",
   "execution_count": 116,
   "id": "f8b4ace5-272e-42a6-a95e-d2708ce8317d",
   "metadata": {},
   "outputs": [
    {
     "data": {
      "image/png": "[encoded data removed]",
      "text/plain": [
       "<Figure size 720x720 with 1 Axes>"
      ]
     },
     "metadata": {
      "needs_background": "light"
     },
     "output_type": "display_data"
    }
   ],
   "source": [
    "fig = plt.figure(figsize=(10,10))\n",
    "ax = fig.add_subplot(111)\n",
    "\n",
    "rv = stats.chi2(df=n-1)\n",
    "n_samples = 20\n",
    "ax.vlines(p_var, 0, 21)\n",
    "for i in range(n_samples):\n",
    "    sample_ = samples[i]\n",
    "    u_var_ = np.var(sample_, ddof=1)\n",
    "    lcl = (n-1) * u_var_ / rv.isf(0.025)\n",
    "    ucl = (n-1) * u_var_ / rv.isf(0.975)\n",
    "    if lcl <= p_var <= ucl:\n",
    "        ax.scatter(u_var_, n_samples-i, color='green')\n",
    "        ax.hlines(n_samples-i, lcl, ucl, 'green')\n",
    "    else:\n",
    "        ax.scatter(u_var_, n_samples-i, color='b')\n",
    "        ax.hlines(n_samples-i, lcl, ucl, 'b')\n",
    "ax.set_xticks([p_var])\n",
    "ax.set_xticklabels(['population variance'])\n",
    "\n",
    "plt.show()"
   ]
  },
  {
   "cell_type": "code",
   "execution_count": 117,
   "id": "e198a2a5-da79-43af-ba86-adeffaefa037",
   "metadata": {},
   "outputs": [
    {
     "data": {
      "text/plain": [
       "1.000"
      ]
     },
     "execution_count": 117,
     "metadata": {},
     "output_type": "execute_result"
    }
   ],
   "source": [
    "rv = stats.chi2(df=n-1)\n",
    "cnt = 0\n",
    "for sample_ in samples:\n",
    "    u_var = np.var(sample_, ddof=1)\n",
    "    lcl = (n-1) * u_var_ / rv.isf(0.025)\n",
    "    ucl = (n-1) * u_var_ / rv.isf(0.975)\n",
    "    if lcl <= p_var <= ucl:\n",
    "        cnt += 1\n",
    "\n",
    "cnt / len(samples)"
   ]
  },
  {
   "cell_type": "markdown",
   "id": "5559bbd9-d1c9-491e-bc9c-6e50e55af7bd",
   "metadata": {},
   "source": [
    "### 정규분포의 모평균(모분산을 알지 못하는) 구간추정"
   ]
  },
  {
   "cell_type": "code",
   "execution_count": 118,
   "id": "529670d8-fe48-48e9-8dff-69311496c4e7",
   "metadata": {},
   "outputs": [
    {
     "data": {
      "text/plain": [
       "(63.739, 77.061)"
      ]
     },
     "execution_count": 118,
     "metadata": {},
     "output_type": "execute_result"
    }
   ],
   "source": [
    "rv = stats.t(df=n-1)\n",
    "lcl = s_mean - rv.isf(0.025) * np.sqrt(u_var/n)\n",
    "ucl = s_mean - rv.isf(0.975) * np.sqrt(u_var/n)\n",
    "\n",
    "lcl, ucl"
   ]
  },
  {
   "cell_type": "markdown",
   "id": "3bf122ef-ff88-4577-bce1-828982c94273",
   "metadata": {},
   "source": [
    "### 베르누이 분포의 모평균의 구간추정"
   ]
  },
  {
   "cell_type": "code",
   "execution_count": 123,
   "id": "0f766349-591d-43c5-b6ea-2ba29ab6131a",
   "metadata": {},
   "outputs": [
    {
     "data": {
      "text/plain": [
       "array([1, 0, 1, 1, 1, 1, 1, 0, 0, 1])"
      ]
     },
     "execution_count": 123,
     "metadata": {},
     "output_type": "execute_result"
    }
   ],
   "source": [
    "# 베르누이 분포\n",
    "# '어느 기업이 출시한 상품 A를 알고 있는가?' 설문조사 데이터\n",
    "enquete_df = pd.read_csv('ch10_enquete.csv')\n",
    "enquete = np.array(enquete_df['known'])\n",
    "n = len(enquete)\n",
    "enquete[:10]"
   ]
  },
  {
   "cell_type": "code",
   "execution_count": 124,
   "id": "b8e7169c-6ee1-4660-b10f-1eb2b7ceefac",
   "metadata": {},
   "outputs": [
    {
     "data": {
      "text/plain": [
       "0.709"
      ]
     },
     "execution_count": 124,
     "metadata": {},
     "output_type": "execute_result"
    }
   ],
   "source": [
    "# 점추정\n",
    "s_mean = enquete.mean()\n",
    "s_mean"
   ]
  },
  {
   "cell_type": "code",
   "execution_count": 125,
   "id": "5d2f76ca-892a-4461-bcf9-2fe83b382955",
   "metadata": {},
   "outputs": [
    {
     "data": {
      "text/plain": [
       "(0.681, 0.737)"
      ]
     },
     "execution_count": 125,
     "metadata": {},
     "output_type": "execute_result"
    }
   ],
   "source": [
    "# 베르누이 분포의 모평균의 신뢰구간\n",
    "rv = stats.norm()\n",
    "lcl = s_mean - rv.isf(0.025) * np.sqrt(s_mean*(1-s_mean)/n)\n",
    "ucl = s_mean - rv.isf(0.975) * np.sqrt(s_mean*(1-s_mean)/n)\n",
    "\n",
    "lcl, ucl"
   ]
  },
  {
   "cell_type": "markdown",
   "id": "608a28a2-8489-4503-b681-944699ed4ee7",
   "metadata": {},
   "source": [
    "상품 A에 대한 인지도 p의 95% 신뢰구간은 (0.681, 0.737) 이라는 것을 알 수 있다."
   ]
  },
  {
   "cell_type": "markdown",
   "id": "27a65a76-ea70-45fb-8927-b606099ee574",
   "metadata": {},
   "source": [
    "### 포아송 분포의 모평균의 구간추정"
   ]
  },
  {
   "cell_type": "code",
   "execution_count": 127,
   "id": "50337cc2-fcc2-41a2-86d0-dadaf28b92ee",
   "metadata": {},
   "outputs": [
    {
     "data": {
      "text/plain": [
       "array([10, 11,  9,  9, 18, 13,  4, 10, 10,  8])"
      ]
     },
     "execution_count": 127,
     "metadata": {},
     "output_type": "execute_result"
    }
   ],
   "source": [
    "# 포아송 분포\n",
    "# 어떤 사이트에 대한 1시간당 액세스 수가 과거 72시간 분량이 들어있는 데이터\n",
    "# 이 사이트에 대한 1시간당 평균 액세스 수를 추정\n",
    "n_access_df = pd.read_csv('ch10_access.csv')\n",
    "n_access = np.array(n_access_df['access number'])\n",
    "n = len(n_access)\n",
    "n_access[:10]"
   ]
  },
  {
   "cell_type": "code",
   "execution_count": 129,
   "id": "03446688-24a9-48fc-9af6-8cb617023baa",
   "metadata": {},
   "outputs": [
    {
     "data": {
      "text/plain": [
       "10.444"
      ]
     },
     "execution_count": 129,
     "metadata": {},
     "output_type": "execute_result"
    }
   ],
   "source": [
    "# 모평균 람다를 추정\n",
    "s_mean = n_access.mean()\n",
    "s_mean"
   ]
  },
  {
   "cell_type": "code",
   "execution_count": 130,
   "id": "9535ceae-cd03-4dba-9770-91a7a8e36f99",
   "metadata": {},
   "outputs": [
    {
     "data": {
      "text/plain": [
       "(9.698, 11.191)"
      ]
     },
     "execution_count": 130,
     "metadata": {},
     "output_type": "execute_result"
    }
   ],
   "source": [
    "# 포아송 분포의 모평균의 신뢰구간\n",
    "rv = stats.norm()\n",
    "lcl = s_mean - rv.isf(0.025) * np.sqrt(s_mean/n)\n",
    "ucl = s_mean - rv.isf(0.975) * np.sqrt(s_mean/n)\n",
    "\n",
    "lcl, ucl"
   ]
  },
  {
   "cell_type": "markdown",
   "id": "a8489f02-1b8b-44c8-b130-e8e8fffd9e83",
   "metadata": {},
   "source": [
    "사이트에 대한 평균 액세스 수의 95% 신뢰구간은 (9.698, 11.191)임을 알 수 있다."
   ]
  },
  {
   "cell_type": "markdown",
   "id": "b43ff160-674b-4eba-be2d-477c9f0e886e",
   "metadata": {},
   "source": [
    "#### [과제]\n",
    "- 다음 용어를 예를들어 설명하세요.\n",
    "    불편성, 일치성, 불편분산 <br>\n",
    "- 카이제곱분포, t분포가 구간 추정에 활용된 사례를 만들어 설명하세요."
   ]
  },
  {
   "cell_type": "markdown",
   "id": "54722086-b4ac-44e6-bd75-486afe067348",
   "metadata": {},
   "source": [
    "# 통계적 가설검정"
   ]
  },
  {
   "cell_type": "markdown",
   "id": "eafb6ad1-4ca8-43e1-9706-c8e2d9d91b7a",
   "metadata": {},
   "source": [
    "## 통계적 가설검정"
   ]
  },
  {
   "cell_type": "code",
   "execution_count": 1,
   "id": "3075142d-1b0a-44f1-a5e8-18b0d29a06e0",
   "metadata": {},
   "outputs": [
    {
     "data": {
      "text/plain": [
       "'%.3f'"
      ]
     },
     "execution_count": 1,
     "metadata": {},
     "output_type": "execute_result"
    }
   ],
   "source": [
    "import numpy as np\n",
    "import pandas as pd\n",
    "from scipy import stats\n",
    "%precision 3"
   ]
  },
  {
   "cell_type": "code",
   "execution_count": 8,
   "id": "32cc44f3-f980-482f-88af-cd5b7bcd1ca7",
   "metadata": {},
   "outputs": [
    {
     "name": "stdout",
     "output_type": "stream",
     "text": [
      "       무게\n",
      "0  122.02\n",
      "1  131.73\n",
      "2  130.60\n",
      "3  131.82\n",
      "4  132.05 \n",
      "\n",
      "14\n"
     ]
    }
   ],
   "source": [
    "# 감자튀김의 무게 데이터\n",
    "df = pd.read_csv('ch11_potato.csv')\n",
    "print(df.head(),'\\n')\n",
    "print(len(df))\n",
    "sample = np.array(df['무게'])"
   ]
  },
  {
   "cell_type": "code",
   "execution_count": 10,
   "id": "87ae2acc-cba0-4141-bd78-a4236f00c9ba",
   "metadata": {},
   "outputs": [
    {
     "data": {
      "text/plain": [
       "128.451"
      ]
     },
     "execution_count": 10,
     "metadata": {},
     "output_type": "execute_result"
    }
   ],
   "source": [
    "# 표본평균\n",
    "sample = np.array(df['무게'])\n",
    "s_mean = np.mean(sample)\n",
    "s_mean"
   ]
  },
  {
   "cell_type": "markdown",
   "id": "0617d36a-4f56-45bd-ad3b-e9a4a22be310",
   "metadata": {
    "tags": []
   },
   "source": [
    "### 통계적 가설검정의 기본\n",
    "모집단의 모수에 관하여 두가지 가설을 세우고 표본으로부터 계산되는 통계량을 이용하여 어느 가설이 옳은지 판단하는 통계적인 방법\n",
    "- 검정통계량 vs 임곗값\n",
    "- p값 vs 유의수준"
   ]
  },
  {
   "cell_type": "code",
   "execution_count": 11,
   "id": "fb328a98-f729-412c-a395-ca10e323fb89",
   "metadata": {},
   "outputs": [
    {
     "name": "stdout",
     "output_type": "stream",
     "text": [
      "130.0 0.8017837257372732 \n",
      "\n",
      "[129.028 129.773 129.522 129.914 129.505 129.637 132.014 127.69  130.86\n",
      " 127.983] \n",
      "\n"
     ]
    },
    {
     "data": {
      "text/plain": [
       "128.681"
      ]
     },
     "execution_count": 11,
     "metadata": {},
     "output_type": "execute_result"
    }
   ],
   "source": [
    "# 모평균이 알려진 감자튀김 무게 평균 130g 보다 적은지 여부\n",
    "rv = stats.norm(130, np.sqrt(9/14))\n",
    "print(rv.mean(),rv.std(),'\\n')\n",
    "print(rv.rvs(10),'\\n')\n",
    "rv.isf(0.95)"
   ]
  },
  {
   "cell_type": "code",
   "execution_count": 12,
   "id": "8890a4d7-a3b5-4ab4-9332-90cce294d298",
   "metadata": {},
   "outputs": [
    {
     "data": {
      "text/plain": [
       "<bound method _AxesBase.set_ylim of <AxesSubplot:xlabel='x', ylabel='pdf'>>"
      ]
     },
     "execution_count": 12,
     "metadata": {},
     "output_type": "execute_result"
    },
    {
     "data": {
      "image/png": "[encoded data removed]",
      "text/plain": [
       "<Figure size 720x432 with 2 Axes>"
      ]
     },
     "metadata": {
      "needs_background": "light"
     },
     "output_type": "display_data"
    }
   ],
   "source": [
    "import matplotlib.pyplot as plt\n",
    "fig = plt.figure(figsize=(10,6))\n",
    "ax1 = fig.add_subplot(111)\n",
    "ax2 = ax1.twinx()\n",
    "xs = np.linspace(127,133,60)\n",
    "\n",
    "ax1.plot(xs,rv.pdf(xs))\n",
    "ax2.plot(xs,rv.cdf(xs),color='black')\n",
    "ax1.vlines(rv.ppf(0.05), 0,0.5, color='gray',ls='--')\n",
    "ax1.set_xlabel(\"x\",fontsize=20)\n",
    "ax1.set_ylabel('pdf',rotation=0,fontsize=20)\n",
    "ax2.set_ylabel('cdf',rotation=0,fontsize=20)\n",
    "ax1.set_ylim"
   ]
  },
  {
   "cell_type": "code",
   "execution_count": 13,
   "id": "af48b672-8356-44de-81f4-ae0426f48ad8",
   "metadata": {},
   "outputs": [
    {
     "data": {
      "text/plain": [
       "-1.932"
      ]
     },
     "execution_count": 13,
     "metadata": {},
     "output_type": "execute_result"
    }
   ],
   "source": [
    "# 검정통계량 z : 표본평균을 표준화\n",
    "z = (s_mean - 130) / np.sqrt(9/14)\n",
    "z"
   ]
  },
  {
   "cell_type": "code",
   "execution_count": 14,
   "id": "66a5afb5-89aa-4890-b1af-1557cf4d3ea2",
   "metadata": {},
   "outputs": [
    {
     "data": {
      "text/plain": [
       "-1.645"
      ]
     },
     "execution_count": 14,
     "metadata": {},
     "output_type": "execute_result"
    }
   ],
   "source": [
    "# 임곗값\n",
    "rv = stats.norm()\n",
    "rv.isf(0.95)"
   ]
  },
  {
   "cell_type": "code",
   "execution_count": 15,
   "id": "cc59d327-db56-46b4-b44c-53661c92cc75",
   "metadata": {},
   "outputs": [
    {
     "data": {
      "text/plain": [
       "0.027"
      ]
     },
     "execution_count": 15,
     "metadata": {},
     "output_type": "execute_result"
    }
   ],
   "source": [
    "# 검정통계량으로 부터 p값 산출\n",
    "# p값이 유의수준 0.05보다 작으므로 귀무가설 기각\n",
    "rv.cdf(z)"
   ]
  },
  {
   "cell_type": "markdown",
   "id": "c70335c4-e496-4f47-886c-e14e443fe8d9",
   "metadata": {},
   "source": [
    "### 단측검정과 양측검정\n",
    "귀무가설 : 감자튀김의 무게는 130g이다.\n",
    "- 단측검정 : 감자튀김의 무게가 130g보다 작다를 대립가설로 수행\n",
    "- 양측검정 : 감자튀김의 무게는 130g이 아니다를 대립가설로 수행"
   ]
  },
  {
   "cell_type": "code",
   "execution_count": 22,
   "id": "f7c7a555-827e-4288-b0a7-61ef8d0ae711",
   "metadata": {},
   "outputs": [
    {
     "data": {
      "text/plain": [
       "-1.932"
      ]
     },
     "execution_count": 22,
     "metadata": {},
     "output_type": "execute_result"
    }
   ],
   "source": [
    "z = (s_mean - 130) / np.sqrt(9/14)\n",
    "z"
   ]
  },
  {
   "cell_type": "code",
   "execution_count": 23,
   "id": "c50803e5-a92e-4445-bbba-ea64d5a783eb",
   "metadata": {},
   "outputs": [
    {
     "data": {
      "text/plain": [
       "(-1.960, 1.960)"
      ]
     },
     "execution_count": 23,
     "metadata": {},
     "output_type": "execute_result"
    }
   ],
   "source": [
    "rv = stats.norm()\n",
    "rv.interval(0.95)"
   ]
  },
  {
   "cell_type": "code",
   "execution_count": 24,
   "id": "a65d1be2-318a-4428-82c8-8495e68df251",
   "metadata": {},
   "outputs": [
    {
     "data": {
      "text/plain": [
       "0.053"
      ]
     },
     "execution_count": 24,
     "metadata": {},
     "output_type": "execute_result"
    }
   ],
   "source": [
    "# 양측검정의 P 값은 상단고 하단의 양쪽 면적을 고려해야하므로 누적밀도함수 2배로 한다.\n",
    "rv.cdf(z)*2"
   ]
  },
  {
   "attachments": {
    "18da7698-cfa7-4908-949b-bea6d6a9c6e1.PNG": {
     "image/png": "[encoded data removed]"
    },
    "30bd3445-5898-4414-845d-0948441785d4.PNG": {
     "image/png": "[encoded data removed]"
    }
   },
   "cell_type": "markdown",
   "id": "b3b4f88b-ecb8-4bde-9a04-894a2908e513",
   "metadata": {},
   "source": [
    "### 가설검정에서의 두 가지 오류\n",
    "- 제1종 오류 : 귀무가설이 옳을 때 귀무가설을 기각하는 오류\n",
    "  - '실제로 평균이 130g'인데도 평균은 130g 보다 작다라는 결론을 내리는 상황 \n",
    "- 제2종 오류 : 대립가설이 옳을 때 귀무가설을 채택하는 오류\n",
    "  - '모평균은 130g 보다 작다'인데도 모평균은 130g 보다 작다라는 결론을 얻을 수 없는 비율\n",
    "- 통계적 가설검정에서는 제1종 오류는 제어할 수 있지만 제2종 오류는 제어할 수 없는 비대칭성이 있다.<br>\n",
    "![오류.PNG](attachment:30bd3445-5898-4414-845d-0948441785d4.PNG)\n",
    "![오류의 크기.PNG](attachment:18da7698-cfa7-4908-949b-bea6d6a9c6e1.PNG)"
   ]
  },
  {
   "cell_type": "code",
   "execution_count": 43,
   "id": "ce0d43bd-29bf-4805-8a7e-4b95610bfafc",
   "metadata": {},
   "outputs": [],
   "source": [
    "# 제1종 오류\n",
    "# 실제로 평균은 130g인 상황 고려 N(130,9)\n",
    "rv = stats.norm(130,3)"
   ]
  },
  {
   "cell_type": "code",
   "execution_count": 44,
   "id": "26b70086-c32d-48d3-a9ea-db91db84815d",
   "metadata": {},
   "outputs": [
    {
     "name": "stdout",
     "output_type": "stream",
     "text": [
      "임곗값: -1.6448536269514722\n"
     ]
    },
    {
     "data": {
      "text/plain": [
       "0.050"
      ]
     },
     "execution_count": 44,
     "metadata": {},
     "output_type": "execute_result"
    }
   ],
   "source": [
    "# 1종 오류를 범할 비율 : 위험률이라 하며 유의수준과 일치하므로 분석가가 제어할 수 있는 확률임\n",
    "c = stats.norm().isf(0.95)\n",
    "print('임곗값:', c)\n",
    "n_samples = 10000\n",
    "cnt = 0\n",
    "for _ in range(n_samples):\n",
    "    sample_ = np.round(rv.rvs(14),2)\n",
    "    s_mean_ = np.mean(sample_)\n",
    "    z = (s_mean_ - 130) / np.sqrt(9/14)\n",
    "    if z < c: # 검정통계량 < 임곗값\n",
    "        cnt += 1\n",
    "cnt / n_samples"
   ]
  },
  {
   "cell_type": "code",
   "execution_count": 45,
   "id": "000f264b-9089-442c-b8a6-c95c2928d4c6",
   "metadata": {},
   "outputs": [],
   "source": [
    "# 제2종 오류\n",
    "rv = stats.norm(128, 3)"
   ]
  },
  {
   "cell_type": "code",
   "execution_count": 46,
   "id": "36b95774-1151-4b8a-8bfc-30203580c80c",
   "metadata": {},
   "outputs": [
    {
     "name": "stdout",
     "output_type": "stream",
     "text": [
      "임곗값: -1.6448536269514722\n"
     ]
    },
    {
     "data": {
      "text/plain": [
       "0.192"
      ]
     },
     "execution_count": 46,
     "metadata": {},
     "output_type": "execute_result"
    }
   ],
   "source": [
    "# 2종 오류를 범할 비율\n",
    "c = stats.norm().isf(0.95)\n",
    "print('임곗값:', c)\n",
    "n_samples = 10000\n",
    "cnt = 0\n",
    "for _ in range(n_samples):\n",
    "    sample_ = np.round(rv.rvs(14),2)\n",
    "    s_mean_ = np.mean(sample_)\n",
    "    z = (s_mean_ - 130) / np.sqrt(9/14)\n",
    "    if z >= c: # 검정통계량 >= 임곗값\n",
    "        cnt += 1\n",
    "cnt / n_samples"
   ]
  },
  {
   "cell_type": "markdown",
   "id": "5ad031c1-1f68-4dac-a890-1f03dc30a053",
   "metadata": {},
   "source": [
    "## 기본적인 가설검정"
   ]
  },
  {
   "cell_type": "markdown",
   "id": "0e9737be-20ee-408c-baca-d6a0072501fa",
   "metadata": {},
   "source": [
    "### 정규분포의 모평균에 대한 검정(모분산을 알고 있음)"
   ]
  },
  {
   "cell_type": "code",
   "execution_count": 49,
   "id": "7f96ccf3-9fc7-4658-9948-d810a16c9fc3",
   "metadata": {},
   "outputs": [],
   "source": [
    "def pmean_test(sample, mean0, p_var, alpha=0.05):\n",
    "    s_mean = np.mean(sample)\n",
    "    n = len(sample)\n",
    "    rv = stats.norm()\n",
    "    interval = rv.interval(1-alpha)\n",
    "\n",
    "    z = (s_mean - mean0) / np.sqrt(p_var/n)\n",
    "    if interval[0] <= z <= interval[1]:\n",
    "        print('귀무가설을 채택')\n",
    "    else:\n",
    "        print('귀무가설을 기각')\n",
    "\n",
    "    if z < 0:\n",
    "        p = rv.cdf(z) * 2\n",
    "    else:\n",
    "        p = (1 - rv.cdf(z)) * 2\n",
    "    print(f'p값은 {p:.3f}')"
   ]
  },
  {
   "cell_type": "code",
   "execution_count": 50,
   "id": "b697fc4e-f1ab-42ea-8ebc-1ba220531103",
   "metadata": {},
   "outputs": [
    {
     "name": "stdout",
     "output_type": "stream",
     "text": [
      "귀무가설을 채택\n",
      "p값은 0.053\n"
     ]
    }
   ],
   "source": [
    "pmean_test(sample, 130, 9)"
   ]
  },
  {
   "cell_type": "markdown",
   "id": "9239dc4f-194f-4ad9-8dc3-fc9031876b57",
   "metadata": {},
   "source": [
    "### 정규분포의 모분산에 대한 검정"
   ]
  },
  {
   "cell_type": "code",
   "execution_count": 51,
   "id": "d33a9aaa-2c11-4b03-87ee-ec616e84fb4e",
   "metadata": {},
   "outputs": [],
   "source": [
    "def pvar_test(sample, var0, alpha=0.05):\n",
    "    u_var = np.var(sample, ddof=1)\n",
    "    n = len(sample)\n",
    "    rv = stats.chi2(df=n-1)\n",
    "    interval = rv.interval(1-alpha)\n",
    "    \n",
    "    y = (n-1) * u_var / var0\n",
    "    if interval[0] <= y <= interval[1]:\n",
    "        print('귀무가설을 채택')\n",
    "    else:\n",
    "        print('귀무가설을 기각')\n",
    "\n",
    "    if y < rv.isf(0.5):\n",
    "        p = rv.cdf(y) * 2\n",
    "    else:\n",
    "        p = (1 - rv.cdf(y)) * 2\n",
    "    print(f'p값은 {p:.3f}')"
   ]
  },
  {
   "cell_type": "code",
   "execution_count": 52,
   "id": "720525c2-01fc-426a-876b-e3bb4e5a9364",
   "metadata": {},
   "outputs": [
    {
     "name": "stdout",
     "output_type": "stream",
     "text": [
      "귀무가설을 채택\n",
      "p값은 0.085\n"
     ]
    }
   ],
   "source": [
    "pvar_test(sample, 9)"
   ]
  },
  {
   "cell_type": "markdown",
   "id": "827018a9-f612-404f-9c90-111bd1775245",
   "metadata": {
    "tags": []
   },
   "source": [
    "### 정규분포의 모평균에 대한 검정(모분산을 알지 못함)"
   ]
  },
  {
   "cell_type": "markdown",
   "id": "3b326ee1-c9ed-43bd-a78b-5a50aaa13e56",
   "metadata": {
    "tags": []
   },
   "source": [
    "### 정규분포의 모평균(분산을 알고 있는)의 구간추정"
   ]
  },
  {
   "cell_type": "code",
   "execution_count": 17,
   "id": "13feb9a8-7e74-4677-941d-7289a9de8bce",
   "metadata": {
    "ExecuteTime": {
     "end_time": "2018-08-14T18:04:47.634102Z",
     "start_time": "2018-08-14T18:04:47.626189Z"
    }
   },
   "outputs": [
    {
     "data": {
      "text/plain": [
       "(64.09956018535247, 76.70043981464754)"
      ]
     },
     "execution_count": 17,
     "metadata": {},
     "output_type": "execute_result"
    }
   ],
   "source": [
    "rv = stats.norm()\n",
    "lcl = s_mean - rv.isf(0.025) * np.sqrt(p_var/n)\n",
    "ucl = s_mean - rv.isf(0.975) * np.sqrt(p_var/n)\n",
    "\n",
    "lcl, ucl"
   ]
  },
  {
   "cell_type": "code",
   "execution_count": 18,
   "id": "0ab057e1-e1b3-41f9-a4f0-6c852d794b0c",
   "metadata": {
    "ExecuteTime": {
     "end_time": "2018-08-14T18:04:47.815248Z",
     "start_time": "2018-08-14T18:04:47.637157Z"
    }
   },
   "outputs": [
    {
     "data": {
      "image/png": "[encoded data removed]",
      "text/plain": [
       "<Figure size 720x720 with 1 Axes>"
      ]
     },
     "metadata": {
      "needs_background": "light"
     },
     "output_type": "display_data"
    }
   ],
   "source": [
    "fig = plt.figure(figsize=(10, 10))\n",
    "ax = fig.add_subplot(111)\n",
    "\n",
    "rv = stats.norm()\n",
    "n_samples = 20\n",
    "ax.vlines(p_mean, 0, 21)\n",
    "for i in range(n_samples):\n",
    "    sample_ = samples[i]\n",
    "    s_mean_ = np.mean(sample_)\n",
    "    lcl = s_mean_ - rv.isf(0.025) * np.sqrt(p_var/n)\n",
    "    ucl = s_mean_ - rv.isf(0.975) * np.sqrt(p_var/n)\n",
    "    if lcl <= p_mean <= ucl:\n",
    "        ax.scatter(s_mean_, n_samples-i, color='gray')\n",
    "        ax.hlines(n_samples-i, lcl, ucl, color='gray')\n",
    "    else:\n",
    "        ax.scatter(s_mean_, n_samples-i, color='b')\n",
    "        ax.hlines(n_samples-i, lcl, ucl, color='b')\n",
    "ax.set_xticks([p_mean])\n",
    "ax.set_xticklabels(['population mean'])\n",
    "\n",
    "plt.show()"
   ]
  },
  {
   "cell_type": "code",
   "execution_count": 19,
   "id": "5fcddd32-bbd9-4895-b0fd-b8265d72adc2",
   "metadata": {
    "ExecuteTime": {
     "end_time": "2018-08-14T18:04:49.710540Z",
     "start_time": "2018-08-14T18:04:47.816297Z"
    }
   },
   "outputs": [
    {
     "data": {
      "text/plain": [
       "0.951"
      ]
     },
     "execution_count": 19,
     "metadata": {},
     "output_type": "execute_result"
    }
   ],
   "source": [
    "rv = stats.norm()\n",
    "cnt = 0\n",
    "\n",
    "for sample_ in samples:\n",
    "    s_mean_ = np.mean(sample_)\n",
    "    lcl = s_mean_ - rv.isf(0.025) * np.sqrt(p_var/n)\n",
    "    ucl = s_mean_ - rv.isf(0.975) * np.sqrt(p_var/n)\n",
    "    if lcl <= p_mean <= ucl:\n",
    "        cnt += 1\n",
    "cnt / len(samples)"
   ]
  },
  {
   "cell_type": "markdown",
   "id": "57d2b9a6-6096-4af4-b0a4-3fde59150939",
   "metadata": {
    "tags": []
   },
   "source": [
    "### 정규분포의 모분산(평균을 알지 못하는) 구간추정"
   ]
  },
  {
   "cell_type": "code",
   "execution_count": 53,
   "id": "23427b50-43dd-42f8-8245-ce82c755302e",
   "metadata": {},
   "outputs": [],
   "source": [
    "def pmean_test(sample, mean0, alpha=0.05):\n",
    "    s_mean = np.mean(sample)\n",
    "    u_var = np.var(sample, ddof=1)\n",
    "    n = len(sample)\n",
    "    rv = stats.t(df=n-1)\n",
    "    interval = rv.interval(1-alpha)\n",
    "\n",
    "    t = (s_mean - mean0) / np.sqrt(u_var/n)\n",
    "    if interval[0] <= t <= interval[1]:\n",
    "        print('귀무가설을 채택')\n",
    "    else:\n",
    "        print('귀무가설을 기각')\n",
    "\n",
    "    if t < 0:\n",
    "        p = rv.cdf(t) * 2\n",
    "    else:\n",
    "        p = (1 - rv.cdf(t)) * 2\n",
    "    print(f'p값은 {p:.3f}')"
   ]
  },
  {
   "cell_type": "code",
   "execution_count": 54,
   "id": "4f328afe-833b-4215-b525-41388c14877d",
   "metadata": {},
   "outputs": [
    {
     "name": "stdout",
     "output_type": "stream",
     "text": [
      "귀무가설을 채택\n",
      "p값은 0.169\n"
     ]
    }
   ],
   "source": [
    "pmean_test(sample, 130)"
   ]
  },
  {
   "cell_type": "code",
   "execution_count": 55,
   "id": "70eb2598-1d78-4032-b8ad-0abaf000aef2",
   "metadata": {},
   "outputs": [
    {
     "data": {
      "text/plain": [
       "(-1.455, 0.169)"
      ]
     },
     "execution_count": 55,
     "metadata": {},
     "output_type": "execute_result"
    }
   ],
   "source": [
    "t, p = stats.ttest_1samp(sample, 130)\n",
    "t, p"
   ]
  },
  {
   "cell_type": "markdown",
   "id": "d183a235-6ed1-40ce-a717-ff69f66d93f1",
   "metadata": {},
   "source": [
    "## 2표본 문제에 관한 가설검정"
   ]
  },
  {
   "cell_type": "markdown",
   "id": "1edc3ae0-825c-4a3c-ad32-35ca7e4e7838",
   "metadata": {},
   "source": [
    "### 대응비교 t검정"
   ]
  },
  {
   "cell_type": "code",
   "execution_count": 56,
   "id": "67231f49-6b01-4735-ad18-8bbdc493143c",
   "metadata": {
    "ExecuteTime": {
     "end_time": "2018-08-24T07:05:46.142074Z",
     "start_time": "2018-08-24T07:05:46.132876Z"
    }
   },
   "outputs": [
    {
     "name": "stdout",
     "output_type": "stream",
     "text": [
      "(20, 2)\n"
     ]
    },
    {
     "data": {
      "text/html": [
       "<div>\n",
       "<style scoped>\n",
       "    .dataframe tbody tr th:only-of-type {\n",
       "        vertical-align: middle;\n",
       "    }\n",
       "\n",
       "    .dataframe tbody tr th {\n",
       "        vertical-align: top;\n",
       "    }\n",
       "\n",
       "    .dataframe thead th {\n",
       "        text-align: right;\n",
       "    }\n",
       "</style>\n",
       "<table border=\"1\" class=\"dataframe\">\n",
       "  <thead>\n",
       "    <tr style=\"text-align: right;\">\n",
       "      <th></th>\n",
       "      <th>전</th>\n",
       "      <th>후</th>\n",
       "    </tr>\n",
       "  </thead>\n",
       "  <tbody>\n",
       "    <tr>\n",
       "      <th>0</th>\n",
       "      <td>59</td>\n",
       "      <td>41</td>\n",
       "    </tr>\n",
       "    <tr>\n",
       "      <th>1</th>\n",
       "      <td>52</td>\n",
       "      <td>63</td>\n",
       "    </tr>\n",
       "    <tr>\n",
       "      <th>2</th>\n",
       "      <td>55</td>\n",
       "      <td>68</td>\n",
       "    </tr>\n",
       "    <tr>\n",
       "      <th>3</th>\n",
       "      <td>61</td>\n",
       "      <td>59</td>\n",
       "    </tr>\n",
       "    <tr>\n",
       "      <th>4</th>\n",
       "      <td>59</td>\n",
       "      <td>84</td>\n",
       "    </tr>\n",
       "  </tbody>\n",
       "</table>\n",
       "</div>"
      ],
      "text/plain": [
       "    전   후\n",
       "0  59  41\n",
       "1  52  63\n",
       "2  55  68\n",
       "3  61  59\n",
       "4  59  84"
      ]
     },
     "execution_count": 56,
     "metadata": {},
     "output_type": "execute_result"
    }
   ],
   "source": [
    "training_rel = pd.read_csv('ch11_training_rel.csv')\n",
    "print(training_rel.shape)\n",
    "training_rel.head()"
   ]
  },
  {
   "cell_type": "code",
   "execution_count": 57,
   "id": "084c5a85-7f1e-4f34-9ee8-49c821d74d53",
   "metadata": {
    "ExecuteTime": {
     "end_time": "2018-08-24T07:05:46.170624Z",
     "start_time": "2018-08-24T07:05:46.143168Z"
    }
   },
   "outputs": [
    {
     "data": {
      "text/html": [
       "<div>\n",
       "<style scoped>\n",
       "    .dataframe tbody tr th:only-of-type {\n",
       "        vertical-align: middle;\n",
       "    }\n",
       "\n",
       "    .dataframe tbody tr th {\n",
       "        vertical-align: top;\n",
       "    }\n",
       "\n",
       "    .dataframe thead th {\n",
       "        text-align: right;\n",
       "    }\n",
       "</style>\n",
       "<table border=\"1\" class=\"dataframe\">\n",
       "  <thead>\n",
       "    <tr style=\"text-align: right;\">\n",
       "      <th></th>\n",
       "      <th>전</th>\n",
       "      <th>후</th>\n",
       "      <th>차</th>\n",
       "    </tr>\n",
       "  </thead>\n",
       "  <tbody>\n",
       "    <tr>\n",
       "      <th>0</th>\n",
       "      <td>59</td>\n",
       "      <td>41</td>\n",
       "      <td>-18</td>\n",
       "    </tr>\n",
       "    <tr>\n",
       "      <th>1</th>\n",
       "      <td>52</td>\n",
       "      <td>63</td>\n",
       "      <td>11</td>\n",
       "    </tr>\n",
       "    <tr>\n",
       "      <th>2</th>\n",
       "      <td>55</td>\n",
       "      <td>68</td>\n",
       "      <td>13</td>\n",
       "    </tr>\n",
       "    <tr>\n",
       "      <th>3</th>\n",
       "      <td>61</td>\n",
       "      <td>59</td>\n",
       "      <td>-2</td>\n",
       "    </tr>\n",
       "    <tr>\n",
       "      <th>4</th>\n",
       "      <td>59</td>\n",
       "      <td>84</td>\n",
       "      <td>25</td>\n",
       "    </tr>\n",
       "  </tbody>\n",
       "</table>\n",
       "</div>"
      ],
      "text/plain": [
       "    전   후   차\n",
       "0  59  41 -18\n",
       "1  52  63  11\n",
       "2  55  68  13\n",
       "3  61  59  -2\n",
       "4  59  84  25"
      ]
     },
     "execution_count": 57,
     "metadata": {},
     "output_type": "execute_result"
    }
   ],
   "source": [
    "training_rel['차'] = training_rel['후'] - training_rel['전']\n",
    "training_rel.head()"
   ]
  },
  {
   "cell_type": "code",
   "execution_count": 58,
   "id": "0c0d1794-eef0-4ed1-ba5c-1eecfe4a7f28",
   "metadata": {
    "ExecuteTime": {
     "end_time": "2018-08-24T07:05:46.175732Z",
     "start_time": "2018-08-24T07:05:46.171981Z"
    }
   },
   "outputs": [
    {
     "data": {
      "text/plain": [
       "0.040"
      ]
     },
     "execution_count": 58,
     "metadata": {},
     "output_type": "execute_result"
    }
   ],
   "source": [
    "t, p = stats.ttest_1samp(training_rel['차'], 0)\n",
    "p"
   ]
  },
  {
   "cell_type": "code",
   "execution_count": 59,
   "id": "929894f4-9f50-4e30-a013-6a8ddbcd66c9",
   "metadata": {
    "ExecuteTime": {
     "end_time": "2018-08-24T07:05:46.180719Z",
     "start_time": "2018-08-24T07:05:46.176793Z"
    }
   },
   "outputs": [
    {
     "data": {
      "text/plain": [
       "0.040"
      ]
     },
     "execution_count": 59,
     "metadata": {},
     "output_type": "execute_result"
    }
   ],
   "source": [
    "t, p = stats.ttest_rel(training_rel['후'], training_rel['전'])\n",
    "p"
   ]
  },
  {
   "cell_type": "markdown",
   "id": "38d53cdb-fa00-4334-9d07-f079d5d45afb",
   "metadata": {},
   "source": [
    "### 독립비교 t검정"
   ]
  },
  {
   "cell_type": "code",
   "execution_count": 60,
   "id": "d71c65ab-dd0f-42b0-894a-75693ab00ed5",
   "metadata": {
    "ExecuteTime": {
     "end_time": "2018-08-24T07:05:46.188822Z",
     "start_time": "2018-08-24T07:05:46.181763Z"
    }
   },
   "outputs": [
    {
     "name": "stdout",
     "output_type": "stream",
     "text": [
      "(20, 2)\n"
     ]
    },
    {
     "data": {
      "text/html": [
       "<div>\n",
       "<style scoped>\n",
       "    .dataframe tbody tr th:only-of-type {\n",
       "        vertical-align: middle;\n",
       "    }\n",
       "\n",
       "    .dataframe tbody tr th {\n",
       "        vertical-align: top;\n",
       "    }\n",
       "\n",
       "    .dataframe thead th {\n",
       "        text-align: right;\n",
       "    }\n",
       "</style>\n",
       "<table border=\"1\" class=\"dataframe\">\n",
       "  <thead>\n",
       "    <tr style=\"text-align: right;\">\n",
       "      <th></th>\n",
       "      <th>A</th>\n",
       "      <th>B</th>\n",
       "    </tr>\n",
       "  </thead>\n",
       "  <tbody>\n",
       "    <tr>\n",
       "      <th>0</th>\n",
       "      <td>47</td>\n",
       "      <td>49</td>\n",
       "    </tr>\n",
       "    <tr>\n",
       "      <th>1</th>\n",
       "      <td>50</td>\n",
       "      <td>52</td>\n",
       "    </tr>\n",
       "    <tr>\n",
       "      <th>2</th>\n",
       "      <td>37</td>\n",
       "      <td>54</td>\n",
       "    </tr>\n",
       "    <tr>\n",
       "      <th>3</th>\n",
       "      <td>60</td>\n",
       "      <td>48</td>\n",
       "    </tr>\n",
       "    <tr>\n",
       "      <th>4</th>\n",
       "      <td>39</td>\n",
       "      <td>51</td>\n",
       "    </tr>\n",
       "  </tbody>\n",
       "</table>\n",
       "</div>"
      ],
      "text/plain": [
       "    A   B\n",
       "0  47  49\n",
       "1  50  52\n",
       "2  37  54\n",
       "3  60  48\n",
       "4  39  51"
      ]
     },
     "execution_count": 60,
     "metadata": {},
     "output_type": "execute_result"
    }
   ],
   "source": [
    "training_ind = pd.read_csv('ch11_training_ind.csv')\n",
    "print(training_ind.shape)\n",
    "training_ind.head()"
   ]
  },
  {
   "cell_type": "code",
   "execution_count": 61,
   "id": "3d2f15c4-14d5-493d-8d35-2b0fc917a5e0",
   "metadata": {
    "ExecuteTime": {
     "end_time": "2018-08-24T07:05:46.194002Z",
     "start_time": "2018-08-24T07:05:46.189948Z"
    }
   },
   "outputs": [
    {
     "data": {
      "text/plain": [
       "0.087"
      ]
     },
     "execution_count": 61,
     "metadata": {},
     "output_type": "execute_result"
    }
   ],
   "source": [
    "t, p = stats.ttest_ind(training_ind['A'], training_ind['B'],\n",
    "                       equal_var=False)\n",
    "p"
   ]
  },
  {
   "cell_type": "markdown",
   "id": "996f3bee-33bf-4272-964a-4f8b12b5d6e1",
   "metadata": {
    "jp-MarkdownHeadingCollapsed": true,
    "tags": []
   },
   "source": [
    "### 윌콕슨의 부호순위검정"
   ]
  },
  {
   "cell_type": "code",
   "execution_count": 62,
   "id": "bb97564b-163b-4057-808e-8d29032b32c6",
   "metadata": {
    "ExecuteTime": {
     "end_time": "2018-08-24T07:05:46.201801Z",
     "start_time": "2018-08-24T07:05:46.195183Z"
    }
   },
   "outputs": [
    {
     "data": {
      "text/html": [
       "<div>\n",
       "<style scoped>\n",
       "    .dataframe tbody tr th:only-of-type {\n",
       "        vertical-align: middle;\n",
       "    }\n",
       "\n",
       "    .dataframe tbody tr th {\n",
       "        vertical-align: top;\n",
       "    }\n",
       "\n",
       "    .dataframe thead th {\n",
       "        text-align: right;\n",
       "    }\n",
       "</style>\n",
       "<table border=\"1\" class=\"dataframe\">\n",
       "  <thead>\n",
       "    <tr style=\"text-align: right;\">\n",
       "      <th></th>\n",
       "      <th>전</th>\n",
       "      <th>후</th>\n",
       "    </tr>\n",
       "  </thead>\n",
       "  <tbody>\n",
       "    <tr>\n",
       "      <th>0</th>\n",
       "      <td>59</td>\n",
       "      <td>41</td>\n",
       "    </tr>\n",
       "    <tr>\n",
       "      <th>1</th>\n",
       "      <td>52</td>\n",
       "      <td>63</td>\n",
       "    </tr>\n",
       "    <tr>\n",
       "      <th>2</th>\n",
       "      <td>55</td>\n",
       "      <td>68</td>\n",
       "    </tr>\n",
       "    <tr>\n",
       "      <th>3</th>\n",
       "      <td>61</td>\n",
       "      <td>59</td>\n",
       "    </tr>\n",
       "    <tr>\n",
       "      <th>4</th>\n",
       "      <td>59</td>\n",
       "      <td>84</td>\n",
       "    </tr>\n",
       "    <tr>\n",
       "      <th>5</th>\n",
       "      <td>45</td>\n",
       "      <td>37</td>\n",
       "    </tr>\n",
       "  </tbody>\n",
       "</table>\n",
       "</div>"
      ],
      "text/plain": [
       "    전   후\n",
       "0  59  41\n",
       "1  52  63\n",
       "2  55  68\n",
       "3  61  59\n",
       "4  59  84\n",
       "5  45  37"
      ]
     },
     "execution_count": 62,
     "metadata": {},
     "output_type": "execute_result"
    }
   ],
   "source": [
    "training_rel = pd.read_csv('ch11_training_rel.csv')\n",
    "toy_df = training_rel[:6].copy()\n",
    "toy_df"
   ]
  },
  {
   "cell_type": "code",
   "execution_count": 63,
   "id": "f12ad889-8a40-431f-b70a-c2761291c10d",
   "metadata": {
    "ExecuteTime": {
     "end_time": "2018-08-24T07:05:46.209309Z",
     "start_time": "2018-08-24T07:05:46.203035Z"
    }
   },
   "outputs": [
    {
     "data": {
      "text/html": [
       "<div>\n",
       "<style scoped>\n",
       "    .dataframe tbody tr th:only-of-type {\n",
       "        vertical-align: middle;\n",
       "    }\n",
       "\n",
       "    .dataframe tbody tr th {\n",
       "        vertical-align: top;\n",
       "    }\n",
       "\n",
       "    .dataframe thead th {\n",
       "        text-align: right;\n",
       "    }\n",
       "</style>\n",
       "<table border=\"1\" class=\"dataframe\">\n",
       "  <thead>\n",
       "    <tr style=\"text-align: right;\">\n",
       "      <th></th>\n",
       "      <th>전</th>\n",
       "      <th>후</th>\n",
       "      <th>차</th>\n",
       "    </tr>\n",
       "  </thead>\n",
       "  <tbody>\n",
       "    <tr>\n",
       "      <th>0</th>\n",
       "      <td>59</td>\n",
       "      <td>41</td>\n",
       "      <td>-18</td>\n",
       "    </tr>\n",
       "    <tr>\n",
       "      <th>1</th>\n",
       "      <td>52</td>\n",
       "      <td>63</td>\n",
       "      <td>11</td>\n",
       "    </tr>\n",
       "    <tr>\n",
       "      <th>2</th>\n",
       "      <td>55</td>\n",
       "      <td>68</td>\n",
       "      <td>13</td>\n",
       "    </tr>\n",
       "    <tr>\n",
       "      <th>3</th>\n",
       "      <td>61</td>\n",
       "      <td>59</td>\n",
       "      <td>-2</td>\n",
       "    </tr>\n",
       "    <tr>\n",
       "      <th>4</th>\n",
       "      <td>59</td>\n",
       "      <td>84</td>\n",
       "      <td>25</td>\n",
       "    </tr>\n",
       "    <tr>\n",
       "      <th>5</th>\n",
       "      <td>45</td>\n",
       "      <td>37</td>\n",
       "      <td>-8</td>\n",
       "    </tr>\n",
       "  </tbody>\n",
       "</table>\n",
       "</div>"
      ],
      "text/plain": [
       "    전   후   차\n",
       "0  59  41 -18\n",
       "1  52  63  11\n",
       "2  55  68  13\n",
       "3  61  59  -2\n",
       "4  59  84  25\n",
       "5  45  37  -8"
      ]
     },
     "execution_count": 63,
     "metadata": {},
     "output_type": "execute_result"
    }
   ],
   "source": [
    "diff = toy_df['후'] - toy_df['전']\n",
    "toy_df['차'] = diff\n",
    "toy_df"
   ]
  },
  {
   "cell_type": "code",
   "execution_count": 64,
   "id": "01d892df-f8d0-4b59-aa8d-9c4c9d86d670",
   "metadata": {
    "ExecuteTime": {
     "end_time": "2018-08-24T07:05:46.217605Z",
     "start_time": "2018-08-24T07:05:46.210468Z"
    }
   },
   "outputs": [
    {
     "data": {
      "text/html": [
       "<div>\n",
       "<style scoped>\n",
       "    .dataframe tbody tr th:only-of-type {\n",
       "        vertical-align: middle;\n",
       "    }\n",
       "\n",
       "    .dataframe tbody tr th {\n",
       "        vertical-align: top;\n",
       "    }\n",
       "\n",
       "    .dataframe thead th {\n",
       "        text-align: right;\n",
       "    }\n",
       "</style>\n",
       "<table border=\"1\" class=\"dataframe\">\n",
       "  <thead>\n",
       "    <tr style=\"text-align: right;\">\n",
       "      <th></th>\n",
       "      <th>전</th>\n",
       "      <th>후</th>\n",
       "      <th>차</th>\n",
       "      <th>순위</th>\n",
       "    </tr>\n",
       "  </thead>\n",
       "  <tbody>\n",
       "    <tr>\n",
       "      <th>0</th>\n",
       "      <td>59</td>\n",
       "      <td>41</td>\n",
       "      <td>-18</td>\n",
       "      <td>5</td>\n",
       "    </tr>\n",
       "    <tr>\n",
       "      <th>1</th>\n",
       "      <td>52</td>\n",
       "      <td>63</td>\n",
       "      <td>11</td>\n",
       "      <td>3</td>\n",
       "    </tr>\n",
       "    <tr>\n",
       "      <th>2</th>\n",
       "      <td>55</td>\n",
       "      <td>68</td>\n",
       "      <td>13</td>\n",
       "      <td>4</td>\n",
       "    </tr>\n",
       "    <tr>\n",
       "      <th>3</th>\n",
       "      <td>61</td>\n",
       "      <td>59</td>\n",
       "      <td>-2</td>\n",
       "      <td>1</td>\n",
       "    </tr>\n",
       "    <tr>\n",
       "      <th>4</th>\n",
       "      <td>59</td>\n",
       "      <td>84</td>\n",
       "      <td>25</td>\n",
       "      <td>6</td>\n",
       "    </tr>\n",
       "    <tr>\n",
       "      <th>5</th>\n",
       "      <td>45</td>\n",
       "      <td>37</td>\n",
       "      <td>-8</td>\n",
       "      <td>2</td>\n",
       "    </tr>\n",
       "  </tbody>\n",
       "</table>\n",
       "</div>"
      ],
      "text/plain": [
       "    전   후   차  순위\n",
       "0  59  41 -18   5\n",
       "1  52  63  11   3\n",
       "2  55  68  13   4\n",
       "3  61  59  -2   1\n",
       "4  59  84  25   6\n",
       "5  45  37  -8   2"
      ]
     },
     "execution_count": 64,
     "metadata": {},
     "output_type": "execute_result"
    }
   ],
   "source": [
    "rank = stats.rankdata(abs(diff)).astype(int)\n",
    "toy_df['순위'] = rank\n",
    "toy_df"
   ]
  },
  {
   "cell_type": "code",
   "execution_count": 65,
   "id": "1d72a60c-8c58-434c-a1fa-600b62fb1589",
   "metadata": {
    "ExecuteTime": {
     "end_time": "2018-08-24T07:05:46.223577Z",
     "start_time": "2018-08-24T07:05:46.218864Z"
    }
   },
   "outputs": [
    {
     "data": {
      "text/plain": [
       "(8, 13)"
      ]
     },
     "execution_count": 65,
     "metadata": {},
     "output_type": "execute_result"
    }
   ],
   "source": [
    "r_minus = np.sum((diff < 0) * rank)\n",
    "r_plus = np.sum((diff > 0) * rank)\n",
    "\n",
    "r_minus, r_plus"
   ]
  },
  {
   "cell_type": "code",
   "execution_count": 66,
   "id": "83455cf0-53e0-4f62-9306-4fc13b6777b2",
   "metadata": {
    "ExecuteTime": {
     "end_time": "2018-08-24T07:05:46.234054Z",
     "start_time": "2018-08-24T07:05:46.224746Z"
    }
   },
   "outputs": [
    {
     "data": {
      "text/html": [
       "<div>\n",
       "<style scoped>\n",
       "    .dataframe tbody tr th:only-of-type {\n",
       "        vertical-align: middle;\n",
       "    }\n",
       "\n",
       "    .dataframe tbody tr th {\n",
       "        vertical-align: top;\n",
       "    }\n",
       "\n",
       "    .dataframe thead th {\n",
       "        text-align: right;\n",
       "    }\n",
       "</style>\n",
       "<table border=\"1\" class=\"dataframe\">\n",
       "  <thead>\n",
       "    <tr style=\"text-align: right;\">\n",
       "      <th></th>\n",
       "      <th>전</th>\n",
       "      <th>후</th>\n",
       "      <th>차</th>\n",
       "      <th>순위</th>\n",
       "    </tr>\n",
       "  </thead>\n",
       "  <tbody>\n",
       "    <tr>\n",
       "      <th>0</th>\n",
       "      <td>59</td>\n",
       "      <td>60</td>\n",
       "      <td>1</td>\n",
       "      <td>1</td>\n",
       "    </tr>\n",
       "    <tr>\n",
       "      <th>1</th>\n",
       "      <td>52</td>\n",
       "      <td>54</td>\n",
       "      <td>2</td>\n",
       "      <td>2</td>\n",
       "    </tr>\n",
       "    <tr>\n",
       "      <th>2</th>\n",
       "      <td>55</td>\n",
       "      <td>58</td>\n",
       "      <td>3</td>\n",
       "      <td>3</td>\n",
       "    </tr>\n",
       "    <tr>\n",
       "      <th>3</th>\n",
       "      <td>61</td>\n",
       "      <td>65</td>\n",
       "      <td>4</td>\n",
       "      <td>4</td>\n",
       "    </tr>\n",
       "    <tr>\n",
       "      <th>4</th>\n",
       "      <td>59</td>\n",
       "      <td>64</td>\n",
       "      <td>5</td>\n",
       "      <td>5</td>\n",
       "    </tr>\n",
       "    <tr>\n",
       "      <th>5</th>\n",
       "      <td>45</td>\n",
       "      <td>51</td>\n",
       "      <td>6</td>\n",
       "      <td>6</td>\n",
       "    </tr>\n",
       "  </tbody>\n",
       "</table>\n",
       "</div>"
      ],
      "text/plain": [
       "    전   후  차  순위\n",
       "0  59  60  1   1\n",
       "1  52  54  2   2\n",
       "2  55  58  3   3\n",
       "3  61  65  4   4\n",
       "4  59  64  5   5\n",
       "5  45  51  6   6"
      ]
     },
     "execution_count": 66,
     "metadata": {},
     "output_type": "execute_result"
    }
   ],
   "source": [
    "toy_df['후'] = toy_df['전'] + np.arange(1, 7)\n",
    "diff = toy_df['후'] - toy_df['전']\n",
    "rank = stats.rankdata(abs(diff)).astype(int)\n",
    "toy_df['차'] = diff\n",
    "toy_df['순위'] = rank\n",
    "toy_df"
   ]
  },
  {
   "cell_type": "code",
   "execution_count": 67,
   "id": "b7e643f6-d294-41e6-8603-64e92ef024b9",
   "metadata": {
    "ExecuteTime": {
     "end_time": "2018-08-24T07:05:46.239887Z",
     "start_time": "2018-08-24T07:05:46.235134Z"
    }
   },
   "outputs": [
    {
     "data": {
      "text/plain": [
       "(0, 21)"
      ]
     },
     "execution_count": 67,
     "metadata": {},
     "output_type": "execute_result"
    }
   ],
   "source": [
    "r_minus = np.sum((diff < 0) * rank)\n",
    "r_plus = np.sum((diff > 0) * rank)\n",
    "\n",
    "r_minus, r_plus"
   ]
  },
  {
   "cell_type": "code",
   "execution_count": 68,
   "id": "ff72f5ff-f49a-4f53-8b52-58d1adf8a79c",
   "metadata": {
    "ExecuteTime": {
     "end_time": "2018-08-24T07:05:46.251061Z",
     "start_time": "2018-08-24T07:05:46.242490Z"
    }
   },
   "outputs": [
    {
     "data": {
      "text/html": [
       "<div>\n",
       "<style scoped>\n",
       "    .dataframe tbody tr th:only-of-type {\n",
       "        vertical-align: middle;\n",
       "    }\n",
       "\n",
       "    .dataframe tbody tr th {\n",
       "        vertical-align: top;\n",
       "    }\n",
       "\n",
       "    .dataframe thead th {\n",
       "        text-align: right;\n",
       "    }\n",
       "</style>\n",
       "<table border=\"1\" class=\"dataframe\">\n",
       "  <thead>\n",
       "    <tr style=\"text-align: right;\">\n",
       "      <th></th>\n",
       "      <th>전</th>\n",
       "      <th>후</th>\n",
       "      <th>차</th>\n",
       "      <th>순위</th>\n",
       "    </tr>\n",
       "  </thead>\n",
       "  <tbody>\n",
       "    <tr>\n",
       "      <th>0</th>\n",
       "      <td>59</td>\n",
       "      <td>60</td>\n",
       "      <td>1</td>\n",
       "      <td>1</td>\n",
       "    </tr>\n",
       "    <tr>\n",
       "      <th>1</th>\n",
       "      <td>52</td>\n",
       "      <td>50</td>\n",
       "      <td>-2</td>\n",
       "      <td>2</td>\n",
       "    </tr>\n",
       "    <tr>\n",
       "      <th>2</th>\n",
       "      <td>55</td>\n",
       "      <td>52</td>\n",
       "      <td>-3</td>\n",
       "      <td>3</td>\n",
       "    </tr>\n",
       "    <tr>\n",
       "      <th>3</th>\n",
       "      <td>61</td>\n",
       "      <td>65</td>\n",
       "      <td>4</td>\n",
       "      <td>4</td>\n",
       "    </tr>\n",
       "    <tr>\n",
       "      <th>4</th>\n",
       "      <td>59</td>\n",
       "      <td>64</td>\n",
       "      <td>5</td>\n",
       "      <td>5</td>\n",
       "    </tr>\n",
       "    <tr>\n",
       "      <th>5</th>\n",
       "      <td>45</td>\n",
       "      <td>39</td>\n",
       "      <td>-6</td>\n",
       "      <td>6</td>\n",
       "    </tr>\n",
       "  </tbody>\n",
       "</table>\n",
       "</div>"
      ],
      "text/plain": [
       "    전   후  차  순위\n",
       "0  59  60  1   1\n",
       "1  52  50 -2   2\n",
       "2  55  52 -3   3\n",
       "3  61  65  4   4\n",
       "4  59  64  5   5\n",
       "5  45  39 -6   6"
      ]
     },
     "execution_count": 68,
     "metadata": {},
     "output_type": "execute_result"
    }
   ],
   "source": [
    "toy_df['후'] = toy_df['전'] + [1, -2, -3, 4, 5, -6]\n",
    "diff = toy_df['후'] - toy_df['전']\n",
    "rank = stats.rankdata(abs(diff)).astype(int)\n",
    "toy_df['차'] = diff\n",
    "toy_df['순위'] = rank\n",
    "toy_df"
   ]
  },
  {
   "cell_type": "code",
   "execution_count": 69,
   "id": "f20b40c6-c9e3-4a9f-bae2-3d95b2179f7f",
   "metadata": {
    "ExecuteTime": {
     "end_time": "2018-08-24T07:05:46.256477Z",
     "start_time": "2018-08-24T07:05:46.252136Z"
    }
   },
   "outputs": [
    {
     "data": {
      "text/plain": [
       "(11, 10)"
      ]
     },
     "execution_count": 69,
     "metadata": {},
     "output_type": "execute_result"
    }
   ],
   "source": [
    "r_minus = np.sum((diff < 0) * rank)\n",
    "r_plus = np.sum((diff > 0) * rank)\n",
    "\n",
    "r_minus, r_plus"
   ]
  },
  {
   "cell_type": "code",
   "execution_count": 70,
   "id": "69b0edbd-2969-4d0f-8704-8994f07c9177",
   "metadata": {
    "ExecuteTime": {
     "end_time": "2018-08-24T07:05:46.261588Z",
     "start_time": "2018-08-24T07:05:46.257715Z"
    }
   },
   "outputs": [
    {
     "data": {
      "text/plain": [
       "0.036"
      ]
     },
     "execution_count": 70,
     "metadata": {},
     "output_type": "execute_result"
    }
   ],
   "source": [
    "T, p = stats.wilcoxon(training_rel['전'], training_rel['후'])\n",
    "p"
   ]
  },
  {
   "cell_type": "code",
   "execution_count": 71,
   "id": "6f94d1ea-d45a-462e-9b22-ec46f72ab7f3",
   "metadata": {
    "ExecuteTime": {
     "end_time": "2018-08-24T07:05:46.266378Z",
     "start_time": "2018-08-24T07:05:46.262703Z"
    }
   },
   "outputs": [
    {
     "data": {
      "text/plain": [
       "0.040"
      ]
     },
     "execution_count": 71,
     "metadata": {},
     "output_type": "execute_result"
    }
   ],
   "source": [
    "T, p = stats.wilcoxon(training_rel['후'] - training_rel['전'])\n",
    "p"
   ]
  },
  {
   "cell_type": "code",
   "execution_count": 72,
   "id": "30ed5433-6962-4ef2-a40c-fb7a2a0986eb",
   "metadata": {
    "ExecuteTime": {
     "end_time": "2018-08-24T07:05:46.280201Z",
     "start_time": "2018-08-24T07:05:46.267547Z"
    }
   },
   "outputs": [],
   "source": [
    "n = 10000\n",
    "diffs = np.round(stats.norm(3, 4).rvs(size=(n, 20)))"
   ]
  },
  {
   "cell_type": "code",
   "execution_count": 73,
   "id": "17bbbc1b-1d50-4f28-92fe-9d7f30a7fda8",
   "metadata": {
    "ExecuteTime": {
     "end_time": "2018-08-24T07:05:47.610383Z",
     "start_time": "2018-08-24T07:05:46.281743Z"
    }
   },
   "outputs": [
    {
     "data": {
      "text/plain": [
       "0.891"
      ]
     },
     "execution_count": 73,
     "metadata": {},
     "output_type": "execute_result"
    }
   ],
   "source": [
    "cnt = 0\n",
    "alpha = 0.05\n",
    "for diff in diffs:\n",
    "    t, p = stats.ttest_1samp(diff, 0)\n",
    "    if p < alpha:\n",
    "        cnt += 1\n",
    "cnt / n"
   ]
  },
  {
   "cell_type": "code",
   "execution_count": 74,
   "id": "e2dc2a73-3fa0-4ae8-b247-c7b92061c518",
   "metadata": {
    "ExecuteTime": {
     "end_time": "2018-08-24T07:05:49.268059Z",
     "start_time": "2018-08-24T07:05:47.611721Z"
    }
   },
   "outputs": [
    {
     "name": "stderr",
     "output_type": "stream",
     "text": [
      "/Users/mycom/opt/anaconda3/lib/python3.9/site-packages/scipy/stats/morestats.py:3141: UserWarning: Exact p-value calculation does not work if there are ties. Switching to normal approximation.\n",
      "  warnings.warn(\"Exact p-value calculation does not work if there are \"\n"
     ]
    },
    {
     "data": {
      "text/plain": [
       "0.877"
      ]
     },
     "execution_count": 74,
     "metadata": {},
     "output_type": "execute_result"
    }
   ],
   "source": [
    "cnt = 0\n",
    "alpha = 0.05\n",
    "for diff in diffs:\n",
    "    T, p = stats.wilcoxon(diff)\n",
    "    if p < alpha:\n",
    "        cnt += 1\n",
    "cnt / n"
   ]
  },
  {
   "cell_type": "markdown",
   "id": "125aa566-9ce1-4916-a56b-7333d2b7b159",
   "metadata": {
    "jp-MarkdownHeadingCollapsed": true,
    "tags": []
   },
   "source": [
    "### 만・위트니의 U검정"
   ]
  },
  {
   "cell_type": "code",
   "execution_count": 76,
   "id": "6599a04a-1d8b-4f93-a5c8-d6a538f43f1d",
   "metadata": {
    "ExecuteTime": {
     "end_time": "2018-08-24T07:05:49.275994Z",
     "start_time": "2018-08-24T07:05:49.269119Z"
    }
   },
   "outputs": [
    {
     "data": {
      "text/html": [
       "<div>\n",
       "<style scoped>\n",
       "    .dataframe tbody tr th:only-of-type {\n",
       "        vertical-align: middle;\n",
       "    }\n",
       "\n",
       "    .dataframe tbody tr th {\n",
       "        vertical-align: top;\n",
       "    }\n",
       "\n",
       "    .dataframe thead th {\n",
       "        text-align: right;\n",
       "    }\n",
       "</style>\n",
       "<table border=\"1\" class=\"dataframe\">\n",
       "  <thead>\n",
       "    <tr style=\"text-align: right;\">\n",
       "      <th></th>\n",
       "      <th>A</th>\n",
       "      <th>B</th>\n",
       "    </tr>\n",
       "  </thead>\n",
       "  <tbody>\n",
       "    <tr>\n",
       "      <th>0</th>\n",
       "      <td>47</td>\n",
       "      <td>49</td>\n",
       "    </tr>\n",
       "    <tr>\n",
       "      <th>1</th>\n",
       "      <td>50</td>\n",
       "      <td>52</td>\n",
       "    </tr>\n",
       "    <tr>\n",
       "      <th>2</th>\n",
       "      <td>37</td>\n",
       "      <td>54</td>\n",
       "    </tr>\n",
       "    <tr>\n",
       "      <th>3</th>\n",
       "      <td>60</td>\n",
       "      <td>48</td>\n",
       "    </tr>\n",
       "    <tr>\n",
       "      <th>4</th>\n",
       "      <td>39</td>\n",
       "      <td>51</td>\n",
       "    </tr>\n",
       "  </tbody>\n",
       "</table>\n",
       "</div>"
      ],
      "text/plain": [
       "    A   B\n",
       "0  47  49\n",
       "1  50  52\n",
       "2  37  54\n",
       "3  60  48\n",
       "4  39  51"
      ]
     },
     "execution_count": 76,
     "metadata": {},
     "output_type": "execute_result"
    }
   ],
   "source": [
    "training_ind = pd.read_csv('ch11_training_ind.csv')\n",
    "toy_df = training_ind[:5].copy()\n",
    "toy_df"
   ]
  },
  {
   "cell_type": "code",
   "execution_count": 77,
   "id": "7868fbce-6fc3-402a-8e91-282e67bdcc62",
   "metadata": {
    "ExecuteTime": {
     "end_time": "2018-08-24T07:05:49.285873Z",
     "start_time": "2018-08-24T07:05:49.277475Z"
    }
   },
   "outputs": [
    {
     "data": {
      "text/html": [
       "<div>\n",
       "<style scoped>\n",
       "    .dataframe tbody tr th:only-of-type {\n",
       "        vertical-align: middle;\n",
       "    }\n",
       "\n",
       "    .dataframe tbody tr th {\n",
       "        vertical-align: top;\n",
       "    }\n",
       "\n",
       "    .dataframe thead th {\n",
       "        text-align: right;\n",
       "    }\n",
       "</style>\n",
       "<table border=\"1\" class=\"dataframe\">\n",
       "  <thead>\n",
       "    <tr style=\"text-align: right;\">\n",
       "      <th></th>\n",
       "      <th>A</th>\n",
       "      <th>B</th>\n",
       "    </tr>\n",
       "  </thead>\n",
       "  <tbody>\n",
       "    <tr>\n",
       "      <th>0</th>\n",
       "      <td>3</td>\n",
       "      <td>5</td>\n",
       "    </tr>\n",
       "    <tr>\n",
       "      <th>1</th>\n",
       "      <td>6</td>\n",
       "      <td>8</td>\n",
       "    </tr>\n",
       "    <tr>\n",
       "      <th>2</th>\n",
       "      <td>1</td>\n",
       "      <td>9</td>\n",
       "    </tr>\n",
       "    <tr>\n",
       "      <th>3</th>\n",
       "      <td>10</td>\n",
       "      <td>4</td>\n",
       "    </tr>\n",
       "    <tr>\n",
       "      <th>4</th>\n",
       "      <td>2</td>\n",
       "      <td>7</td>\n",
       "    </tr>\n",
       "  </tbody>\n",
       "</table>\n",
       "</div>"
      ],
      "text/plain": [
       "    A  B\n",
       "0   3  5\n",
       "1   6  8\n",
       "2   1  9\n",
       "3  10  4\n",
       "4   2  7"
      ]
     },
     "execution_count": 77,
     "metadata": {},
     "output_type": "execute_result"
    }
   ],
   "source": [
    "rank = stats.rankdata(np.concatenate([toy_df['A'],\n",
    "                                      toy_df['B']]))\n",
    "rank_df = pd.DataFrame({'A': rank[:5],\n",
    "                        'B': rank[5:10]}).astype(int)\n",
    "rank_df"
   ]
  },
  {
   "cell_type": "code",
   "execution_count": 78,
   "id": "4f18270e-520b-45bd-9fa6-34b32561ddf3",
   "metadata": {
    "ExecuteTime": {
     "end_time": "2018-08-24T07:05:49.292820Z",
     "start_time": "2018-08-24T07:05:49.287606Z"
    }
   },
   "outputs": [
    {
     "data": {
      "text/plain": [
       "7.000"
      ]
     },
     "execution_count": 78,
     "metadata": {},
     "output_type": "execute_result"
    }
   ],
   "source": [
    "n1 = len(rank_df['A'])\n",
    "u = rank_df['A'].sum() - (n1*(n1+1))/2\n",
    "u"
   ]
  },
  {
   "cell_type": "code",
   "execution_count": 79,
   "id": "5bfdc8e1-9674-4e76-8056-d450e00b4f50",
   "metadata": {
    "ExecuteTime": {
     "end_time": "2018-08-24T07:05:49.301473Z",
     "start_time": "2018-08-24T07:05:49.294455Z"
    }
   },
   "outputs": [
    {
     "data": {
      "text/html": [
       "<div>\n",
       "<style scoped>\n",
       "    .dataframe tbody tr th:only-of-type {\n",
       "        vertical-align: middle;\n",
       "    }\n",
       "\n",
       "    .dataframe tbody tr th {\n",
       "        vertical-align: top;\n",
       "    }\n",
       "\n",
       "    .dataframe thead th {\n",
       "        text-align: right;\n",
       "    }\n",
       "</style>\n",
       "<table border=\"1\" class=\"dataframe\">\n",
       "  <thead>\n",
       "    <tr style=\"text-align: right;\">\n",
       "      <th></th>\n",
       "      <th>A</th>\n",
       "      <th>B</th>\n",
       "    </tr>\n",
       "  </thead>\n",
       "  <tbody>\n",
       "    <tr>\n",
       "      <th>0</th>\n",
       "      <td>1</td>\n",
       "      <td>6</td>\n",
       "    </tr>\n",
       "    <tr>\n",
       "      <th>1</th>\n",
       "      <td>2</td>\n",
       "      <td>7</td>\n",
       "    </tr>\n",
       "    <tr>\n",
       "      <th>2</th>\n",
       "      <td>3</td>\n",
       "      <td>8</td>\n",
       "    </tr>\n",
       "    <tr>\n",
       "      <th>3</th>\n",
       "      <td>4</td>\n",
       "      <td>9</td>\n",
       "    </tr>\n",
       "    <tr>\n",
       "      <th>4</th>\n",
       "      <td>5</td>\n",
       "      <td>10</td>\n",
       "    </tr>\n",
       "  </tbody>\n",
       "</table>\n",
       "</div>"
      ],
      "text/plain": [
       "   A   B\n",
       "0  1   6\n",
       "1  2   7\n",
       "2  3   8\n",
       "3  4   9\n",
       "4  5  10"
      ]
     },
     "execution_count": 79,
     "metadata": {},
     "output_type": "execute_result"
    }
   ],
   "source": [
    "rank_df = pd.DataFrame(np.arange(1, 11).reshape(2, 5).T,\n",
    "                       columns=['A', 'B'])\n",
    "rank_df"
   ]
  },
  {
   "cell_type": "code",
   "execution_count": 80,
   "id": "17f92e01-85d7-4925-b056-0981f3d23002",
   "metadata": {
    "ExecuteTime": {
     "end_time": "2018-08-24T07:05:49.307579Z",
     "start_time": "2018-08-24T07:05:49.302805Z"
    }
   },
   "outputs": [
    {
     "data": {
      "text/plain": [
       "0.000"
      ]
     },
     "execution_count": 80,
     "metadata": {},
     "output_type": "execute_result"
    }
   ],
   "source": [
    "u = rank_df['A'].sum() - (n1*(n1+1))/2\n",
    "u"
   ]
  },
  {
   "cell_type": "code",
   "execution_count": 81,
   "id": "1704dcc1-abc8-4ee7-bc51-32b938fc8510",
   "metadata": {
    "ExecuteTime": {
     "end_time": "2018-08-24T07:05:49.316081Z",
     "start_time": "2018-08-24T07:05:49.309569Z"
    }
   },
   "outputs": [
    {
     "data": {
      "text/html": [
       "<div>\n",
       "<style scoped>\n",
       "    .dataframe tbody tr th:only-of-type {\n",
       "        vertical-align: middle;\n",
       "    }\n",
       "\n",
       "    .dataframe tbody tr th {\n",
       "        vertical-align: top;\n",
       "    }\n",
       "\n",
       "    .dataframe thead th {\n",
       "        text-align: right;\n",
       "    }\n",
       "</style>\n",
       "<table border=\"1\" class=\"dataframe\">\n",
       "  <thead>\n",
       "    <tr style=\"text-align: right;\">\n",
       "      <th></th>\n",
       "      <th>A</th>\n",
       "      <th>B</th>\n",
       "    </tr>\n",
       "  </thead>\n",
       "  <tbody>\n",
       "    <tr>\n",
       "      <th>0</th>\n",
       "      <td>6</td>\n",
       "      <td>1</td>\n",
       "    </tr>\n",
       "    <tr>\n",
       "      <th>1</th>\n",
       "      <td>7</td>\n",
       "      <td>2</td>\n",
       "    </tr>\n",
       "    <tr>\n",
       "      <th>2</th>\n",
       "      <td>8</td>\n",
       "      <td>3</td>\n",
       "    </tr>\n",
       "    <tr>\n",
       "      <th>3</th>\n",
       "      <td>9</td>\n",
       "      <td>4</td>\n",
       "    </tr>\n",
       "    <tr>\n",
       "      <th>4</th>\n",
       "      <td>10</td>\n",
       "      <td>5</td>\n",
       "    </tr>\n",
       "  </tbody>\n",
       "</table>\n",
       "</div>"
      ],
      "text/plain": [
       "    A  B\n",
       "0   6  1\n",
       "1   7  2\n",
       "2   8  3\n",
       "3   9  4\n",
       "4  10  5"
      ]
     },
     "execution_count": 81,
     "metadata": {},
     "output_type": "execute_result"
    }
   ],
   "source": [
    "rank_df = pd.DataFrame(np.arange(1, 11).reshape(2, 5)[::-1].T,\n",
    "                       columns=['A', 'B'])\n",
    "rank_df"
   ]
  },
  {
   "cell_type": "code",
   "execution_count": 82,
   "id": "b8673d41-c370-42e3-927f-9f9fc8d7187a",
   "metadata": {
    "ExecuteTime": {
     "end_time": "2018-08-24T07:05:49.321425Z",
     "start_time": "2018-08-24T07:05:49.317214Z"
    }
   },
   "outputs": [
    {
     "data": {
      "text/plain": [
       "25.000"
      ]
     },
     "execution_count": 82,
     "metadata": {},
     "output_type": "execute_result"
    }
   ],
   "source": [
    "u = rank_df['A'].sum() - (n1*(n1+1))/2\n",
    "u"
   ]
  },
  {
   "cell_type": "code",
   "execution_count": 83,
   "id": "afd73311-55be-4be7-9e2b-dde85caa57a2",
   "metadata": {
    "ExecuteTime": {
     "end_time": "2018-08-24T07:05:49.327402Z",
     "start_time": "2018-08-24T07:05:49.322854Z"
    }
   },
   "outputs": [
    {
     "data": {
      "text/plain": [
       "0.059"
      ]
     },
     "execution_count": 83,
     "metadata": {},
     "output_type": "execute_result"
    }
   ],
   "source": [
    "u, p = stats.mannwhitneyu(training_ind['A'], training_ind['B'],\n",
    "                          alternative='two-sided')\n",
    "p"
   ]
  },
  {
   "cell_type": "markdown",
   "id": "7f6fa768-6191-44d5-887c-20deb6ec66bf",
   "metadata": {},
   "source": [
    "### 카이제곱검정\n",
    "- 독립성 검정이란 두 변수 'X,Y에 관해서 X와 Y가 독립이다.'라는 귀무가설과 'X,Y에 관해서 X와 Y가 독립이 아니다.'라는 대립가설에 의해 수행되는 검정\n",
    "- 독립성 검정에 카이제곱분포가 사용되기 때문에 카이제곱검정이라고도 부른다.\n",
    "- 광고A와 광고B간의 구입 비율에 유의한 차이가 있는지 확인하는 경우 사용할 수 있음."
   ]
  },
  {
   "cell_type": "code",
   "execution_count": 84,
   "id": "9bbb3f2c-0851-420b-8b41-d798f4fc1cec",
   "metadata": {
    "ExecuteTime": {
     "end_time": "2018-08-24T07:05:49.336570Z",
     "start_time": "2018-08-24T07:05:49.328538Z"
    }
   },
   "outputs": [
    {
     "name": "stdout",
     "output_type": "stream",
     "text": [
      "1000\n"
     ]
    },
    {
     "data": {
      "text/html": [
       "<div>\n",
       "<style scoped>\n",
       "    .dataframe tbody tr th:only-of-type {\n",
       "        vertical-align: middle;\n",
       "    }\n",
       "\n",
       "    .dataframe tbody tr th {\n",
       "        vertical-align: top;\n",
       "    }\n",
       "\n",
       "    .dataframe thead th {\n",
       "        text-align: right;\n",
       "    }\n",
       "</style>\n",
       "<table border=\"1\" class=\"dataframe\">\n",
       "  <thead>\n",
       "    <tr style=\"text-align: right;\">\n",
       "      <th></th>\n",
       "      <th>광고</th>\n",
       "      <th>구입</th>\n",
       "    </tr>\n",
       "  </thead>\n",
       "  <tbody>\n",
       "    <tr>\n",
       "      <th>0</th>\n",
       "      <td>B</td>\n",
       "      <td>하지 않았다</td>\n",
       "    </tr>\n",
       "    <tr>\n",
       "      <th>1</th>\n",
       "      <td>B</td>\n",
       "      <td>하지 않았다</td>\n",
       "    </tr>\n",
       "    <tr>\n",
       "      <th>2</th>\n",
       "      <td>A</td>\n",
       "      <td>했다</td>\n",
       "    </tr>\n",
       "    <tr>\n",
       "      <th>3</th>\n",
       "      <td>A</td>\n",
       "      <td>했다</td>\n",
       "    </tr>\n",
       "    <tr>\n",
       "      <th>4</th>\n",
       "      <td>B</td>\n",
       "      <td>하지 않았다</td>\n",
       "    </tr>\n",
       "  </tbody>\n",
       "</table>\n",
       "</div>"
      ],
      "text/plain": [
       "  광고      구입\n",
       "0  B  하지 않았다\n",
       "1  B  하지 않았다\n",
       "2  A      했다\n",
       "3  A      했다\n",
       "4  B  하지 않았다"
      ]
     },
     "execution_count": 84,
     "metadata": {},
     "output_type": "execute_result"
    }
   ],
   "source": [
    "ad_df = pd.read_csv('ch11_ad.csv')\n",
    "n = len(ad_df)\n",
    "print(n)\n",
    "ad_df.head()"
   ]
  },
  {
   "cell_type": "code",
   "execution_count": 96,
   "id": "20eeadd3-3349-4e29-90bd-a9fa1f6a43a7",
   "metadata": {
    "ExecuteTime": {
     "end_time": "2018-08-24T07:05:49.354107Z",
     "start_time": "2018-08-24T07:05:49.337684Z"
    }
   },
   "outputs": [
    {
     "data": {
      "text/html": [
       "<div>\n",
       "<style scoped>\n",
       "    .dataframe tbody tr th:only-of-type {\n",
       "        vertical-align: middle;\n",
       "    }\n",
       "\n",
       "    .dataframe tbody tr th {\n",
       "        vertical-align: top;\n",
       "    }\n",
       "\n",
       "    .dataframe thead th {\n",
       "        text-align: right;\n",
       "    }\n",
       "</style>\n",
       "<table border=\"1\" class=\"dataframe\">\n",
       "  <thead>\n",
       "    <tr style=\"text-align: right;\">\n",
       "      <th>구입</th>\n",
       "      <th>하지 않았다</th>\n",
       "      <th>했다</th>\n",
       "    </tr>\n",
       "    <tr>\n",
       "      <th>광고</th>\n",
       "      <th></th>\n",
       "      <th></th>\n",
       "    </tr>\n",
       "  </thead>\n",
       "  <tbody>\n",
       "    <tr>\n",
       "      <th>A</th>\n",
       "      <td>351</td>\n",
       "      <td>49</td>\n",
       "    </tr>\n",
       "    <tr>\n",
       "      <th>B</th>\n",
       "      <td>549</td>\n",
       "      <td>51</td>\n",
       "    </tr>\n",
       "  </tbody>\n",
       "</table>\n",
       "</div>"
      ],
      "text/plain": [
       "구입  하지 않았다  했다\n",
       "광고            \n",
       "A      351  49\n",
       "B      549  51"
      ]
     },
     "execution_count": 96,
     "metadata": {},
     "output_type": "execute_result"
    }
   ],
   "source": [
    "# 교차집계표\n",
    "ad_cross = pd.crosstab(ad_df['광고'], ad_df['구입'])\n",
    "ad_cross"
   ]
  },
  {
   "cell_type": "code",
   "execution_count": 86,
   "id": "b95bdf97-0637-4c24-86b4-614c87f21d53",
   "metadata": {
    "ExecuteTime": {
     "end_time": "2018-08-24T07:05:49.359743Z",
     "start_time": "2018-08-24T07:05:49.355421Z"
    }
   },
   "outputs": [
    {
     "data": {
      "text/plain": [
       "광고\n",
       "A    0.1225\n",
       "B    0.0850\n",
       "dtype: float64"
      ]
     },
     "execution_count": 86,
     "metadata": {},
     "output_type": "execute_result"
    }
   ],
   "source": [
    "ad_cross['했다'] / (ad_cross['했다'] + ad_cross['하지 않았다'])"
   ]
  },
  {
   "cell_type": "code",
   "execution_count": 87,
   "id": "15f4d8eb-986f-4fb6-aded-f55c53b1569d",
   "metadata": {
    "ExecuteTime": {
     "end_time": "2018-08-24T07:05:49.364603Z",
     "start_time": "2018-08-24T07:05:49.361124Z"
    }
   },
   "outputs": [
    {
     "data": {
      "text/plain": [
       "(900, 100)"
      ]
     },
     "execution_count": 87,
     "metadata": {},
     "output_type": "execute_result"
    }
   ],
   "source": [
    "n_not, n_yes = ad_cross.sum()\n",
    "n_not, n_yes"
   ]
  },
  {
   "cell_type": "code",
   "execution_count": 88,
   "id": "837ccbea-6c12-4de6-8854-4c8e5ebe82b2",
   "metadata": {
    "ExecuteTime": {
     "end_time": "2018-08-24T07:05:49.370216Z",
     "start_time": "2018-08-24T07:05:49.365857Z"
    }
   },
   "outputs": [
    {
     "data": {
      "text/plain": [
       "(400, 600)"
      ]
     },
     "execution_count": 88,
     "metadata": {},
     "output_type": "execute_result"
    }
   ],
   "source": [
    "n_adA, n_adB = ad_cross.sum(axis=1)\n",
    "n_adA, n_adB"
   ]
  },
  {
   "cell_type": "code",
   "execution_count": 97,
   "id": "e0c0f868-9b66-42bc-b9a5-ba0a50cc00dc",
   "metadata": {
    "ExecuteTime": {
     "end_time": "2018-08-24T07:05:49.379853Z",
     "start_time": "2018-08-24T07:05:49.371681Z"
    }
   },
   "outputs": [
    {
     "data": {
      "text/html": [
       "<div>\n",
       "<style scoped>\n",
       "    .dataframe tbody tr th:only-of-type {\n",
       "        vertical-align: middle;\n",
       "    }\n",
       "\n",
       "    .dataframe tbody tr th {\n",
       "        vertical-align: top;\n",
       "    }\n",
       "\n",
       "    .dataframe thead th {\n",
       "        text-align: right;\n",
       "    }\n",
       "</style>\n",
       "<table border=\"1\" class=\"dataframe\">\n",
       "  <thead>\n",
       "    <tr style=\"text-align: right;\">\n",
       "      <th></th>\n",
       "      <th>했다</th>\n",
       "      <th>하지 않았다</th>\n",
       "    </tr>\n",
       "  </thead>\n",
       "  <tbody>\n",
       "    <tr>\n",
       "      <th>A</th>\n",
       "      <td>40.0</td>\n",
       "      <td>360.0</td>\n",
       "    </tr>\n",
       "    <tr>\n",
       "      <th>B</th>\n",
       "      <td>60.0</td>\n",
       "      <td>540.0</td>\n",
       "    </tr>\n",
       "  </tbody>\n",
       "</table>\n",
       "</div>"
      ],
      "text/plain": [
       "     했다  하지 않았다\n",
       "A  40.0   360.0\n",
       "B  60.0   540.0"
      ]
     },
     "execution_count": 97,
     "metadata": {},
     "output_type": "execute_result"
    }
   ],
   "source": [
    "# 기대도수\n",
    "ad_ef = pd.DataFrame({'했다': [n_adA * n_yes / n,\n",
    "                              n_adB * n_yes / n],\n",
    "                      '하지 않았다': [n_adA * n_not / n,\n",
    "                                   n_adB * n_not / n]},\n",
    "                      index=['A', 'B'])\n",
    "ad_ef"
   ]
  },
  {
   "cell_type": "code",
   "execution_count": 121,
   "id": "f981fe98-9641-4a65-a431-6eb2bebf2a2a",
   "metadata": {
    "ExecuteTime": {
     "end_time": "2018-08-24T07:05:49.385412Z",
     "start_time": "2018-08-24T07:05:49.380905Z"
    }
   },
   "outputs": [
    {
     "data": {
      "text/plain": [
       "3.750"
      ]
     },
     "execution_count": 121,
     "metadata": {},
     "output_type": "execute_result"
    }
   ],
   "source": [
    "# 기대도수와 관측도수의 차이를 측정함으로써 검정 수행\n",
    "y = ((ad_cross - ad_ef) ** 2 / ad_ef).sum().sum()\n",
    "y"
   ]
  },
  {
   "cell_type": "code",
   "execution_count": 122,
   "id": "f596a7f6-dfe8-4f0a-8a05-d246ca4d5f10",
   "metadata": {
    "ExecuteTime": {
     "end_time": "2018-08-24T07:05:49.390070Z",
     "start_time": "2018-08-24T07:05:49.386617Z"
    }
   },
   "outputs": [
    {
     "data": {
      "text/plain": [
       "0.053"
      ]
     },
     "execution_count": 122,
     "metadata": {},
     "output_type": "execute_result"
    }
   ],
   "source": [
    "# 귀무가설은 채택되고 광고A와 광고B에 유의한 차이가 인정되지 않는다는 결론\n",
    "rv = stats.chi2(1)\n",
    "1 - rv.cdf(y)"
   ]
  },
  {
   "cell_type": "code",
   "execution_count": 123,
   "id": "812c8211-1068-4c19-93f9-2594643c5e7d",
   "metadata": {
    "ExecuteTime": {
     "end_time": "2018-08-24T07:05:49.395030Z",
     "start_time": "2018-08-24T07:05:49.391241Z"
    }
   },
   "outputs": [
    {
     "data": {
      "text/plain": [
       "(3.750, 0.053, 1)"
      ]
     },
     "execution_count": 123,
     "metadata": {},
     "output_type": "execute_result"
    }
   ],
   "source": [
    "# 검정통계량, p값, 자유도, 기대도수\n",
    "chi2, p, dof, ef = stats.chi2_contingency(ad_cross,\n",
    "                                          correction=False)\n",
    "chi2, p, dof"
   ]
  },
  {
   "cell_type": "code",
   "execution_count": 93,
   "id": "b74566c5-db16-4de1-9212-12da9f985c95",
   "metadata": {
    "ExecuteTime": {
     "end_time": "2018-08-24T07:05:49.399218Z",
     "start_time": "2018-08-24T07:05:49.396171Z"
    }
   },
   "outputs": [
    {
     "data": {
      "text/plain": [
       "array([[360.,  40.],\n",
       "       [540.,  60.]])"
      ]
     },
     "execution_count": 93,
     "metadata": {},
     "output_type": "execute_result"
    }
   ],
   "source": [
    "ef"
   ]
  },
  {
   "cell_type": "markdown",
   "id": "1015012e-47f7-4575-8405-2cbdb9747315",
   "metadata": {},
   "source": [
    "#### [과제]\n",
    "카이제곱 검정을 이용하여 독립성 검정을 수행하는 사례를 작성하여 설명하세요."
   ]
  },
  {
   "cell_type": "code",
   "execution_count": null,
   "id": "f91ec501-fc7e-4b15-8df6-95164905f3f6",
   "metadata": {},
   "outputs": [],
   "source": []
  }
 ],
 "metadata": {
  "kernelspec": {
   "display_name": "Python 3 (ipykernel)",
   "language": "python",
   "name": "python3"
  },
  "language_info": {
   "codemirror_mode": {
    "name": "ipython",
    "version": 3
   },
   "file_extension": ".py",
   "mimetype": "text/x-python",
   "name": "python",
   "nbconvert_exporter": "python",
   "pygments_lexer": "ipython3",
   "version": "3.9.12"
  }
 },
 "nbformat": 4,
 "nbformat_minor": 5
}
