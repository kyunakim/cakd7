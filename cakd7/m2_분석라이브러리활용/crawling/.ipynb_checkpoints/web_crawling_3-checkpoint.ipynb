{
 "cells": [
  {
   "cell_type": "markdown",
   "id": "41379214",
   "metadata": {},
   "source": [
    "# 셀레니움\n",
    "\n",
    "- https://goodthings4me.tistory.com/696\n",
    "\n",
    "- from selenium.webdriver.common.by import By\n",
    "\n",
    "- find_element(By.ID, \" \"): id 속성을 사용하여 접근\n",
    "- find_element(s)(By.CLASS_NAME, \" \"): 클래스를 사용하여 접근\n",
    "- find_element(s)(By.NAME, \" \"): name 속성을 사용하여 접근\n",
    "- find_element(s)(By.XPATH, \" \"): xpath 속성을 사용하여 접근\n",
    "- find_element(s)(By.LINK_TEXT, \" \"): 앵커태그(a 태그)에 사용되는 텍스트로 접근 \n",
    "- find_element(s)(By.PARTIAL_LINK_TEXT, \" \"): 앵커태그(a 태그)에 사용되는 일부 텍스트로 접근\n",
    "- find_element(s)(By.TAG_NAME, \" \"): 태그를 사용하여 접근\n",
    "- find_element(s)(By.CSS_SELECTOR, \" \"): CSS 선택자를 사용하여 접근<br><br>\n",
    "셀레니움 사용법 : https://greeksharifa.github.io/references/2020/10/30/python-selenium-usage/ <br>\n",
    "셀레니움 사용법 : https://workingwithpython.com/howtouseselenium-3/\n",
    "크롬 드라이버 설치 : 최신 버전 확인 후 다운로드 https://chromedriver.storage.googleapis.com/index.html?path=103.0.5060.134/\n"
   ]
  },
  {
   "cell_type": "markdown",
   "id": "b6d0858e",
   "metadata": {},
   "source": [
    "## Selenium 사용법"
   ]
  },
  {
   "cell_type": "code",
   "execution_count": 23,
   "id": "7aa570c9",
   "metadata": {},
   "outputs": [
    {
     "name": "stdout",
     "output_type": "stream",
     "text": [
      "Requirement already satisfied: selenium in c:\\users\\admin\\anaconda3\\envs\\cakd7\\lib\\site-packages (4.3.0)\n",
      "Requirement already satisfied: trio~=0.17 in c:\\users\\admin\\anaconda3\\envs\\cakd7\\lib\\site-packages (from selenium) (0.21.0)\n",
      "Requirement already satisfied: trio-websocket~=0.9 in c:\\users\\admin\\anaconda3\\envs\\cakd7\\lib\\site-packages (from selenium) (0.9.2)\n",
      "Requirement already satisfied: urllib3[secure,socks]~=1.26 in c:\\users\\admin\\anaconda3\\envs\\cakd7\\lib\\site-packages (from selenium) (1.26.9)\n",
      "Requirement already satisfied: outcome in c:\\users\\admin\\anaconda3\\envs\\cakd7\\lib\\site-packages (from trio~=0.17->selenium) (1.2.0)\n",
      "Requirement already satisfied: async-generator>=1.9 in c:\\users\\admin\\anaconda3\\envs\\cakd7\\lib\\site-packages (from trio~=0.17->selenium) (1.10)\n",
      "Requirement already satisfied: attrs>=19.2.0 in c:\\users\\admin\\anaconda3\\envs\\cakd7\\lib\\site-packages (from trio~=0.17->selenium) (21.4.0)\n",
      "Requirement already satisfied: cffi>=1.14 in c:\\users\\admin\\anaconda3\\envs\\cakd7\\lib\\site-packages (from trio~=0.17->selenium) (1.15.0)\n",
      "Requirement already satisfied: sortedcontainers in c:\\users\\admin\\anaconda3\\envs\\cakd7\\lib\\site-packages (from trio~=0.17->selenium) (2.4.0)\n",
      "Requirement already satisfied: sniffio in c:\\users\\admin\\anaconda3\\envs\\cakd7\\lib\\site-packages (from trio~=0.17->selenium) (1.2.0)\n",
      "Requirement already satisfied: idna in c:\\users\\admin\\anaconda3\\envs\\cakd7\\lib\\site-packages (from trio~=0.17->selenium) (3.3)\n",
      "Requirement already satisfied: wsproto>=0.14 in c:\\users\\admin\\anaconda3\\envs\\cakd7\\lib\\site-packages (from trio-websocket~=0.9->selenium) (1.1.0)\n",
      "Requirement already satisfied: PySocks!=1.5.7,<2.0,>=1.5.6 in c:\\users\\admin\\anaconda3\\envs\\cakd7\\lib\\site-packages (from urllib3[secure,socks]~=1.26->selenium) (1.7.1)\n",
      "Requirement already satisfied: pyOpenSSL>=0.14 in c:\\users\\admin\\anaconda3\\envs\\cakd7\\lib\\site-packages (from urllib3[secure,socks]~=1.26->selenium) (21.0.0)\n",
      "Requirement already satisfied: cryptography>=1.3.4 in c:\\users\\admin\\anaconda3\\envs\\cakd7\\lib\\site-packages (from urllib3[secure,socks]~=1.26->selenium) (3.4.8)\n",
      "Requirement already satisfied: certifi in c:\\users\\admin\\anaconda3\\envs\\cakd7\\lib\\site-packages (from urllib3[secure,socks]~=1.26->selenium) (2022.6.15)\n",
      "Requirement already satisfied: pycparser in c:\\users\\admin\\anaconda3\\envs\\cakd7\\lib\\site-packages (from cffi>=1.14->trio~=0.17->selenium) (2.21)\n",
      "Requirement already satisfied: six>=1.5.2 in c:\\users\\admin\\anaconda3\\envs\\cakd7\\lib\\site-packages (from pyOpenSSL>=0.14->urllib3[secure,socks]~=1.26->selenium) (1.16.0)\n",
      "Requirement already satisfied: h11<1,>=0.9.0 in c:\\users\\admin\\anaconda3\\envs\\cakd7\\lib\\site-packages (from wsproto>=0.14->trio-websocket~=0.9->selenium) (0.13.0)\n"
     ]
    }
   ],
   "source": [
    "# install\n",
    "! pip install selenium"
   ]
  },
  {
   "cell_type": "code",
   "execution_count": null,
   "id": "38495712",
   "metadata": {},
   "outputs": [],
   "source": [
    "# import\n",
    "import selenium\n",
    "from selenium import webdriver\n",
    "from selenium.webdriver import ActionChains\n",
    "\n",
    "from selenium.webdriver.common.keys import Keys\n",
    "from selenium.webdriver.common.by import By\n",
    "\n",
    "from selenium.webdriver.support import expected_conditions as EC\n",
    "from selenium.webdriver.support.ui import Select\n",
    "from selenium.webdriver.support.ui import WebDriverWait"
   ]
  },
  {
   "cell_type": "code",
   "execution_count": 8,
   "id": "be1ab674",
   "metadata": {
    "scrolled": true
   },
   "outputs": [],
   "source": [
    "# 불러오기 (driver & webload)\n",
    "import selenium\n",
    "from selenium import webdriver\n",
    "from selenium.webdriver.common.keys import Keys\n",
    "import warnings\n",
    "warnings.filterwarnings('ignore')\n",
    "\n",
    "url = 'https://naver.com'\n",
    "path = \"C:/cakd7/tool/chromedriver.exe\"\n",
    "driver = webdriver.Chrome(path)\n",
    "\n",
    "# 해당 url을 브라우저에서 띄운다\n",
    "driver.get(url)"
   ]
  },
  {
   "cell_type": "code",
   "execution_count": 9,
   "id": "b63de894",
   "metadata": {},
   "outputs": [
    {
     "name": "stdout",
     "output_type": "stream",
     "text": [
      "https://www.naver.com/\n"
     ]
    }
   ],
   "source": [
    "# 현재 url 얻기\n",
    "print(driver.current_url)\n",
    "\n",
    "# 브라우저 닫기\n",
    "driver.close()"
   ]
  },
  {
   "cell_type": "code",
   "execution_count": 24,
   "id": "e6c4122e",
   "metadata": {},
   "outputs": [
    {
     "name": "stdout",
     "output_type": "stream",
     "text": [
      "https://www.google.com/\n"
     ]
    }
   ],
   "source": [
    "options = webdriver.ChromeOptions()\n",
    "options.add_argument('headless')\n",
    "\n",
    "# 새 창을 띄우지 않고 url \n",
    "driver = webdriver.Chrome(path,options=options)\n",
    "driver.get('https://google.com')\n",
    "print(driver.current_url)\n",
    "driver.close()"
   ]
  },
  {
   "cell_type": "code",
   "execution_count": 14,
   "id": "81e2bfbd",
   "metadata": {},
   "outputs": [],
   "source": [
    "# Implicit waits(암묵적 대기) : 찾으려는 element가 로드될 때 까지 지정한 시간만큼 대기할 수 있도록 설정\n",
    "\n",
    "from selenium.webdriver.support.ui import WebDriverWait\n",
    "from selenium.webdriver.support import expected_conditions as EC\n",
    "from selenium.webdriver.common.by import By\n",
    "\n",
    "driver = webdriver.Chrome(path)\n",
    "driver.get(url='https://google.com')\n",
    "\n",
    "try :\n",
    "    element = WebDriverWait(driver, 5).until(\n",
    "    EC.presence_of_element_located((By.CLASS_NAME, 'gLFyf')))\n",
    "finally:\n",
    "    driver.quit()\n",
    "    \n",
    "# 웹페이지에서 class가 gLFyf인 어떤 element를 찾을 수 있는지를 최대 5초 동안 매 0.5초마다 시도한다.\n",
    "# expected_conditions(EC)는 만약 element를 찾을 수 있었으면 True를, 아니라면 False를 반환한다."
   ]
  },
  {
   "cell_type": "code",
   "execution_count": 29,
   "id": "112e2ce3",
   "metadata": {},
   "outputs": [
    {
     "name": "stdout",
     "output_type": "stream",
     "text": [
      "빅데이터란? | 고급 빅데이터 분석 | SAP Insights\n",
      "빅 데이터 프로세싱 - 나무위키:대문\n",
      "빅데이터(Big Data)란? | 알테어\n",
      "K-ICT 빅데이터 센터\n",
      "빅 데이터란 무엇인가 - 대한당뇨병학회\n",
      "국가기술 빅데이터 분석기사\n"
     ]
    }
   ],
   "source": [
    "from time import sleep\n",
    "import selenium\n",
    "from selenium import webdriver\n",
    "from selenium.webdriver.common.keys import Keys\n",
    "\n",
    "options = webdriver.ChromeOptions()\n",
    "options.add_argument('window_size=1920,1080')\n",
    "\n",
    "driver = webdriver.Chrome(path, options=options)\n",
    "driver.maximize_window()\n",
    "driver.implicitly_wait(time_to_wait=5)\n",
    "\n",
    "driver.get(url='https://google.com')\n",
    "\n",
    "# 빅데이터 검색 및 저장\n",
    "from selenium.webdriver.common.by import By\n",
    "\n",
    "# url=구글 검색 결과 출력\n",
    "\n",
    "## 검색창\n",
    "search_box = driver.find_element(By.XPATH, '/html/body/div[1]/div[3]/form/div[1]/div[1]/div[1]/div/div[2]/input')\n",
    "## 검색하기\n",
    "search_box.send_keys('빅데이터')\n",
    "## 실행오기\n",
    "search_box.send_keys(Keys.RETURN)\n",
    "\n",
    "## 불러오기\n",
    "elements = driver.find_elements(By.XPATH,'//*[@id=\"rso\"]/div/div/div/div/a/h3')\n",
    "for element in elements:\n",
    "    print(element.text)\n",
    "\n",
    "sleep(3)\n",
    "driver.close()"
   ]
  },
  {
   "cell_type": "code",
   "execution_count": 35,
   "id": "cfd2461e",
   "metadata": {},
   "outputs": [
    {
     "ename": "NoSuchElementException",
     "evalue": "Message: no such element: Unable to locate element: {\"method\":\"xpath\",\"selector\":\"//*[@id=\"sform\"]/fieldset/div\"}\n  (Session info: chrome=103.0.5060.134)\nStacktrace:\nBacktrace:\n\tOrdinal0 [0x00D95FD3+2187219]\n\tOrdinal0 [0x00D2E6D1+1763025]\n\tOrdinal0 [0x00C43E78+802424]\n\tOrdinal0 [0x00C71C10+990224]\n\tOrdinal0 [0x00C71EAB+990891]\n\tOrdinal0 [0x00C9EC92+1174674]\n\tOrdinal0 [0x00C8CBD4+1100756]\n\tOrdinal0 [0x00C9CFC2+1167298]\n\tOrdinal0 [0x00C8C9A6+1100198]\n\tOrdinal0 [0x00C66F80+946048]\n\tOrdinal0 [0x00C67E76+949878]\n\tGetHandleVerifier [0x010390C2+2721218]\n\tGetHandleVerifier [0x0102AAF0+2662384]\n\tGetHandleVerifier [0x00E2137A+526458]\n\tGetHandleVerifier [0x00E20416+522518]\n\tOrdinal0 [0x00D34EAB+1789611]\n\tOrdinal0 [0x00D397A8+1808296]\n\tOrdinal0 [0x00D39895+1808533]\n\tOrdinal0 [0x00D426C1+1844929]\n\tBaseThreadInitThunk [0x75FAFA29+25]\n\tRtlGetAppContainerNamedObjectPath [0x77227A9E+286]\n\tRtlGetAppContainerNamedObjectPath [0x77227A6E+238]\n",
     "output_type": "error",
     "traceback": [
      "\u001b[1;31m---------------------------------------------------------------------------\u001b[0m",
      "\u001b[1;31mNoSuchElementException\u001b[0m                    Traceback (most recent call last)",
      "Input \u001b[1;32mIn [35]\u001b[0m, in \u001b[0;36m<cell line: 20>\u001b[1;34m()\u001b[0m\n\u001b[0;32m     18\u001b[0m login \u001b[38;5;241m=\u001b[39m driver\u001b[38;5;241m.\u001b[39mfind_element(By\u001b[38;5;241m.\u001b[39mXPATH, \u001b[38;5;124m'\u001b[39m\u001b[38;5;124m//*[@id=\u001b[39m\u001b[38;5;124m\"\u001b[39m\u001b[38;5;124maccount\u001b[39m\u001b[38;5;124m\"\u001b[39m\u001b[38;5;124m]/a\u001b[39m\u001b[38;5;124m'\u001b[39m)\n\u001b[0;32m     19\u001b[0m home \u001b[38;5;241m=\u001b[39m driver\u001b[38;5;241m.\u001b[39mback()\n\u001b[1;32m---> 20\u001b[0m search_box \u001b[38;5;241m=\u001b[39m \u001b[43mdriver\u001b[49m\u001b[38;5;241;43m.\u001b[39;49m\u001b[43mfind_element\u001b[49m\u001b[43m(\u001b[49m\u001b[43mBy\u001b[49m\u001b[38;5;241;43m.\u001b[39;49m\u001b[43mXPATH\u001b[49m\u001b[43m,\u001b[49m\u001b[38;5;124;43m'\u001b[39;49m\u001b[38;5;124;43m//*[@id=\u001b[39;49m\u001b[38;5;124;43m\"\u001b[39;49m\u001b[38;5;124;43msform\u001b[39;49m\u001b[38;5;124;43m\"\u001b[39;49m\u001b[38;5;124;43m]/fieldset/div\u001b[39;49m\u001b[38;5;124;43m'\u001b[39;49m\u001b[43m)\u001b[49m\n\u001b[0;32m     21\u001b[0m search_box\u001b[38;5;241m.\u001b[39msend_key(\u001b[38;5;124m'\u001b[39m\u001b[38;5;124m빅데이터\u001b[39m\u001b[38;5;124m'\u001b[39m)\n\u001b[0;32m     22\u001b[0m search_box\u001b[38;5;241m.\u001b[39msend_keys(Keys\u001b[38;5;241m.\u001b[39mRETURN)\n",
      "File \u001b[1;32m~\\anaconda3\\envs\\cakd7\\lib\\site-packages\\selenium\\webdriver\\remote\\webdriver.py:857\u001b[0m, in \u001b[0;36mWebDriver.find_element\u001b[1;34m(self, by, value)\u001b[0m\n\u001b[0;32m    854\u001b[0m     by \u001b[38;5;241m=\u001b[39m By\u001b[38;5;241m.\u001b[39mCSS_SELECTOR\n\u001b[0;32m    855\u001b[0m     value \u001b[38;5;241m=\u001b[39m \u001b[38;5;124m'\u001b[39m\u001b[38;5;124m[name=\u001b[39m\u001b[38;5;124m\"\u001b[39m\u001b[38;5;132;01m%s\u001b[39;00m\u001b[38;5;124m\"\u001b[39m\u001b[38;5;124m]\u001b[39m\u001b[38;5;124m'\u001b[39m \u001b[38;5;241m%\u001b[39m value\n\u001b[1;32m--> 857\u001b[0m \u001b[38;5;28;01mreturn\u001b[39;00m \u001b[38;5;28;43mself\u001b[39;49m\u001b[38;5;241;43m.\u001b[39;49m\u001b[43mexecute\u001b[49m\u001b[43m(\u001b[49m\u001b[43mCommand\u001b[49m\u001b[38;5;241;43m.\u001b[39;49m\u001b[43mFIND_ELEMENT\u001b[49m\u001b[43m,\u001b[49m\u001b[43m \u001b[49m\u001b[43m{\u001b[49m\n\u001b[0;32m    858\u001b[0m \u001b[43m    \u001b[49m\u001b[38;5;124;43m'\u001b[39;49m\u001b[38;5;124;43musing\u001b[39;49m\u001b[38;5;124;43m'\u001b[39;49m\u001b[43m:\u001b[49m\u001b[43m \u001b[49m\u001b[43mby\u001b[49m\u001b[43m,\u001b[49m\n\u001b[0;32m    859\u001b[0m \u001b[43m    \u001b[49m\u001b[38;5;124;43m'\u001b[39;49m\u001b[38;5;124;43mvalue\u001b[39;49m\u001b[38;5;124;43m'\u001b[39;49m\u001b[43m:\u001b[49m\u001b[43m \u001b[49m\u001b[43mvalue\u001b[49m\u001b[43m}\u001b[49m\u001b[43m)\u001b[49m[\u001b[38;5;124m'\u001b[39m\u001b[38;5;124mvalue\u001b[39m\u001b[38;5;124m'\u001b[39m]\n",
      "File \u001b[1;32m~\\anaconda3\\envs\\cakd7\\lib\\site-packages\\selenium\\webdriver\\remote\\webdriver.py:435\u001b[0m, in \u001b[0;36mWebDriver.execute\u001b[1;34m(self, driver_command, params)\u001b[0m\n\u001b[0;32m    433\u001b[0m response \u001b[38;5;241m=\u001b[39m \u001b[38;5;28mself\u001b[39m\u001b[38;5;241m.\u001b[39mcommand_executor\u001b[38;5;241m.\u001b[39mexecute(driver_command, params)\n\u001b[0;32m    434\u001b[0m \u001b[38;5;28;01mif\u001b[39;00m response:\n\u001b[1;32m--> 435\u001b[0m     \u001b[38;5;28;43mself\u001b[39;49m\u001b[38;5;241;43m.\u001b[39;49m\u001b[43merror_handler\u001b[49m\u001b[38;5;241;43m.\u001b[39;49m\u001b[43mcheck_response\u001b[49m\u001b[43m(\u001b[49m\u001b[43mresponse\u001b[49m\u001b[43m)\u001b[49m\n\u001b[0;32m    436\u001b[0m     response[\u001b[38;5;124m'\u001b[39m\u001b[38;5;124mvalue\u001b[39m\u001b[38;5;124m'\u001b[39m] \u001b[38;5;241m=\u001b[39m \u001b[38;5;28mself\u001b[39m\u001b[38;5;241m.\u001b[39m_unwrap_value(\n\u001b[0;32m    437\u001b[0m         response\u001b[38;5;241m.\u001b[39mget(\u001b[38;5;124m'\u001b[39m\u001b[38;5;124mvalue\u001b[39m\u001b[38;5;124m'\u001b[39m, \u001b[38;5;28;01mNone\u001b[39;00m))\n\u001b[0;32m    438\u001b[0m     \u001b[38;5;28;01mreturn\u001b[39;00m response\n",
      "File \u001b[1;32m~\\anaconda3\\envs\\cakd7\\lib\\site-packages\\selenium\\webdriver\\remote\\errorhandler.py:247\u001b[0m, in \u001b[0;36mErrorHandler.check_response\u001b[1;34m(self, response)\u001b[0m\n\u001b[0;32m    245\u001b[0m         alert_text \u001b[38;5;241m=\u001b[39m value[\u001b[38;5;124m'\u001b[39m\u001b[38;5;124malert\u001b[39m\u001b[38;5;124m'\u001b[39m]\u001b[38;5;241m.\u001b[39mget(\u001b[38;5;124m'\u001b[39m\u001b[38;5;124mtext\u001b[39m\u001b[38;5;124m'\u001b[39m)\n\u001b[0;32m    246\u001b[0m     \u001b[38;5;28;01mraise\u001b[39;00m exception_class(message, screen, stacktrace, alert_text)  \u001b[38;5;66;03m# type: ignore[call-arg]  # mypy is not smart enough here\u001b[39;00m\n\u001b[1;32m--> 247\u001b[0m \u001b[38;5;28;01mraise\u001b[39;00m exception_class(message, screen, stacktrace)\n",
      "\u001b[1;31mNoSuchElementException\u001b[0m: Message: no such element: Unable to locate element: {\"method\":\"xpath\",\"selector\":\"//*[@id=\"sform\"]/fieldset/div\"}\n  (Session info: chrome=103.0.5060.134)\nStacktrace:\nBacktrace:\n\tOrdinal0 [0x00D95FD3+2187219]\n\tOrdinal0 [0x00D2E6D1+1763025]\n\tOrdinal0 [0x00C43E78+802424]\n\tOrdinal0 [0x00C71C10+990224]\n\tOrdinal0 [0x00C71EAB+990891]\n\tOrdinal0 [0x00C9EC92+1174674]\n\tOrdinal0 [0x00C8CBD4+1100756]\n\tOrdinal0 [0x00C9CFC2+1167298]\n\tOrdinal0 [0x00C8C9A6+1100198]\n\tOrdinal0 [0x00C66F80+946048]\n\tOrdinal0 [0x00C67E76+949878]\n\tGetHandleVerifier [0x010390C2+2721218]\n\tGetHandleVerifier [0x0102AAF0+2662384]\n\tGetHandleVerifier [0x00E2137A+526458]\n\tGetHandleVerifier [0x00E20416+522518]\n\tOrdinal0 [0x00D34EAB+1789611]\n\tOrdinal0 [0x00D397A8+1808296]\n\tOrdinal0 [0x00D39895+1808533]\n\tOrdinal0 [0x00D426C1+1844929]\n\tBaseThreadInitThunk [0x75FAFA29+25]\n\tRtlGetAppContainerNamedObjectPath [0x77227A9E+286]\n\tRtlGetAppContainerNamedObjectPath [0x77227A6E+238]\n"
     ]
    }
   ],
   "source": [
    "# Q. 네이버 사이트 불러오기 > 로그인 이동 > 홈 이동 > 검색어('빅데이터') 입력, 실행 > 'a' 태그 href 속성을 모두 출력\n",
    "from time import sleep\n",
    "import selenium\n",
    "from selenium import webdriver\n",
    "from selenium.webdriver.common.keys import Keys\n",
    "\n",
    "options = webdriver.ChromeOptions()\n",
    "options.add_argument('window_size=1920,1080')\n",
    "\n",
    "driver = webdriver.Chrome(path, options=options)\n",
    "driver.maximize_window()\n",
    "driver.implicitly_wait(time_to_wait=5)\n",
    "\n",
    "driver.get(url='https://naver.com')\n",
    "\n",
    "from selenium.webdriver.common.by import By\n",
    "\n",
    "login = driver.find_element(By.XPATH, '//*[@id=\"account\"]')\n",
    "home = driver.back()\n",
    "search_box = driver.find_element(By.XPATH,'//*[@id=\"sform\"]/fieldset/div')\n",
    "search_box.send_key('빅데이터')\n",
    "search_box.send_keys(Keys.RETURN)\n",
    "\n"
   ]
  },
  {
   "cell_type": "code",
   "execution_count": null,
   "id": "973ea950",
   "metadata": {},
   "outputs": [],
   "source": []
  }
 ],
 "metadata": {
  "kernelspec": {
   "display_name": "Python 3 (ipykernel)",
   "language": "python",
   "name": "python3"
  },
  "language_info": {
   "codemirror_mode": {
    "name": "ipython",
    "version": 3
   },
   "file_extension": ".py",
   "mimetype": "text/x-python",
   "name": "python",
   "nbconvert_exporter": "python",
   "pygments_lexer": "ipython3",
   "version": "3.8.13"
  },
  "toc": {
   "base_numbering": 1,
   "nav_menu": {},
   "number_sections": false,
   "sideBar": true,
   "skip_h1_title": false,
   "title_cell": "Table of Contents",
   "title_sidebar": "Contents",
   "toc_cell": false,
   "toc_position": {},
   "toc_section_display": true,
   "toc_window_display": false
  }
 },
 "nbformat": 4,
 "nbformat_minor": 5
}
