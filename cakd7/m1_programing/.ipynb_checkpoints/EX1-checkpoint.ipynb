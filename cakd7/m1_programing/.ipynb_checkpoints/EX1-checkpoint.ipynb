{
 "cells": [
  {
   "cell_type": "markdown",
   "id": "d9109697",
   "metadata": {},
   "source": [
    "#### Q1. 남녀 파트너 정해주기 프로그램(zip) \n",
    "같은 수의 남녀 모임에서 파트너를 랜덤하게 정해주는 프로그램을 만들어 보세요\n",
    "\n",
    "male = ['철수','갑돌','로미오','이몽룡','온돌']\n",
    "\n",
    "female = ['미미','갑순','줄리엣','성춘향','평강']\n"
   ]
  },
  {
   "cell_type": "code",
   "execution_count": 5,
   "id": "816c0044",
   "metadata": {},
   "outputs": [],
   "source": [
    "male = ['철수','갑돌','로미오','이몽룡','온돌']\n",
    "female = ['미미','갑순','줄리엣','성춘향','평강']"
   ]
  },
  {
   "cell_type": "code",
   "execution_count": 6,
   "id": "4250557a",
   "metadata": {},
   "outputs": [
    {
     "name": "stdout",
     "output_type": "stream",
     "text": [
      "[('철수', '미미'), ('갑돌', '갑순'), ('로미오', '줄리엣'), ('이몽룡', '성춘향'), ('온돌', '평강')]\n"
     ]
    }
   ],
   "source": [
    "partner_li=zip(male,female)\n",
    "print(list(partner_li))"
   ]
  },
  {
   "cell_type": "code",
   "execution_count": 7,
   "id": "2708260c",
   "metadata": {},
   "outputs": [],
   "source": [
    "from random import shuffle\n",
    "import random"
   ]
  },
  {
   "cell_type": "code",
   "execution_count": 8,
   "id": "d269497c",
   "metadata": {},
   "outputs": [],
   "source": [
    "c = list(zip(male,female))\n",
    "random.shuffle(c)\n",
    "male,female=zip(*c)"
   ]
  },
  {
   "cell_type": "code",
   "execution_count": 9,
   "id": "2f5076da",
   "metadata": {},
   "outputs": [
    {
     "name": "stdout",
     "output_type": "stream",
     "text": [
      "로미오 줄리엣\n",
      "온돌 평강\n",
      "갑돌 갑순\n",
      "철수 미미\n",
      "이몽룡 성춘향\n"
     ]
    }
   ],
   "source": [
    "for m,f in zip(male,female):\n",
    "    print(m,f)"
   ]
  },
  {
   "cell_type": "code",
   "execution_count": 16,
   "id": "661a7d15",
   "metadata": {},
   "outputs": [
    {
     "name": "stdout",
     "output_type": "stream",
     "text": [
      "커플1:갑돌,갑순\n",
      "커플2:이몽룡,줄리엣\n",
      "커플3:로미오,미미\n",
      "커플4:온돌,평강\n",
      "커플5:철수,성춘향\n"
     ]
    }
   ],
   "source": [
    "male = ['철수','갑돌','로미오','이몽룡','온돌']\n",
    "female = ['미미','갑순','줄리엣','성춘향','평강']\n",
    "\n",
    "random.shuffle(male)\n",
    "random.shuffle(female)\n",
    "\n",
    "couples = zip(male, female)\n",
    "\n",
    "for i, couple in enumerate(couples):\n",
    "    print(f'커플{i+1}:{couple[0]},{couple[1]}')"
   ]
  },
  {
   "cell_type": "markdown",
   "id": "ef84d2c8",
   "metadata": {},
   "source": [
    "#### Q2. 사용자가 입력한 횟수만큼 로또 번호를 출력하는 프로그램을 작성하세요. (중복금지)"
   ]
  },
  {
   "cell_type": "code",
   "execution_count": 17,
   "id": "33755d9a",
   "metadata": {},
   "outputs": [
    {
     "name": "stdin",
     "output_type": "stream",
     "text": [
      "숫자를 입력하세요 3\n"
     ]
    }
   ],
   "source": [
    "import random\n",
    "num = input(\"숫자를 입력하세요\")"
   ]
  },
  {
   "cell_type": "code",
   "execution_count": null,
   "id": "19aab5a7",
   "metadata": {},
   "outputs": [],
   "source": [
    "# import random\n",
    "# num=[]\n",
    "# lo=random.randrange(1,46)\n",
    "\n",
    "# for i in range(0,int(num)):\n",
    "#     while lo in num:\n",
    "#         lo = random.randrange(1,46)\n",
    "#     num.append(lo)\n",
    "\n",
    "# num.sort()\n",
    "# print(num)"
   ]
  },
  {
   "cell_type": "code",
   "execution_count": 18,
   "id": "71439621",
   "metadata": {
    "scrolled": true
   },
   "outputs": [
    {
     "name": "stdin",
     "output_type": "stream",
     "text": [
      "숫자를 입력하세요 3\n"
     ]
    }
   ],
   "source": [
    "import random\n",
    "num = input(\"숫자를 입력하세요\")"
   ]
  },
  {
   "cell_type": "code",
   "execution_count": 19,
   "id": "f238fc0c",
   "metadata": {},
   "outputs": [
    {
     "name": "stdout",
     "output_type": "stream",
     "text": [
      "[11, 26, 43]\n",
      "[8, 15, 43]\n",
      "[37, 19, 7]\n"
     ]
    }
   ],
   "source": [
    "for i in range(0,int(num)):\n",
    "    lo = random.sample(range(1,46),int(num))\n",
    "    print(lo)"
   ]
  },
  {
   "cell_type": "markdown",
   "id": "dad42070",
   "metadata": {},
   "source": [
    "[도전과제] 발표자를 원하는 수만큼 랜덤하게 출력하는 프로그램을 작성하세요."
   ]
  },
  {
   "cell_type": "code",
   "execution_count": 20,
   "id": "38a4f0cb",
   "metadata": {},
   "outputs": [
    {
     "data": {
      "text/plain": [
       "25"
      ]
     },
     "execution_count": 20,
     "metadata": {},
     "output_type": "execute_result"
    }
   ],
   "source": [
    "cakd7 = ['박영권','김현지','김덕현','변서연','한지웅','양주희','이호원','정지은','이정현A','이정현B','이명진','이상윤','조승현','강유한','김영선','최애림','김민섭','박혜린','윤정준','김진형','정승기','진청아','신창훈','김병석','박세희']\n",
    "len(cakd7)"
   ]
  },
  {
   "cell_type": "markdown",
   "id": "288e21d1",
   "metadata": {},
   "source": [
    "#### 7/14 - Q3. 입력받은 문자열의 각 문자를 그 다음 문자로 변경하여 출력하세요. abc -> bca"
   ]
  },
  {
   "cell_type": "code",
   "execution_count": 23,
   "id": "31e430c5",
   "metadata": {},
   "outputs": [
    {
     "name": "stdin",
     "output_type": "stream",
     "text": [
      "문장을 입력하세요. abc\n"
     ]
    },
    {
     "name": "stdout",
     "output_type": "stream",
     "text": [
      "bca\n"
     ]
    }
   ],
   "source": [
    "text = input('문장을 입력하세요.')\n",
    "ret = ''\n",
    "for i in range(len(text)):\n",
    "    if i != len(text)-1:\n",
    "        ret += text[i+1]\n",
    "    else:\n",
    "        ret +=text[0]\n",
    "print(ret)"
   ]
  },
  {
   "cell_type": "code",
   "execution_count": 24,
   "id": "693e4cce",
   "metadata": {},
   "outputs": [],
   "source": [
    "# a = input().split()\n",
    "# b = a[1]+a[2]+a[0]\n",
    "# print(b)"
   ]
  },
  {
   "cell_type": "code",
   "execution_count": 25,
   "id": "d66ca445",
   "metadata": {},
   "outputs": [
    {
     "name": "stdin",
     "output_type": "stream",
     "text": [
      " abc\n"
     ]
    },
    {
     "data": {
      "text/plain": [
       "[['a', 'b', 'c']]"
      ]
     },
     "execution_count": 25,
     "metadata": {},
     "output_type": "execute_result"
    }
   ],
   "source": [
    "a = input().split()\n",
    "b = list(map(list,a))\n",
    "b\n",
    "# print(b[1]+b[2]+b[0])"
   ]
  },
  {
   "cell_type": "code",
   "execution_count": null,
   "id": "b14981c4",
   "metadata": {},
   "outputs": [],
   "source": [
    "a = input().split()\n",
    "new[1]"
   ]
  },
  {
   "cell_type": "code",
   "execution_count": null,
   "id": "b3d38c4e",
   "metadata": {},
   "outputs": [],
   "source": [
    "print(b)"
   ]
  },
  {
   "cell_type": "markdown",
   "id": "efdfa201",
   "metadata": {},
   "source": [
    "#### 7/14 - Q4. url에서 호스트 도메인을 추출하여 출력하세요."
   ]
  },
  {
   "cell_type": "markdown",
   "id": "3ed799c8-cc89-4e89-810d-9169b34984de",
   "metadata": {},
   "source": [
    "url = 'http://news.naver.com/main/read.nhn?mode=LSD&mid=shm&sid1=105&oid=028&aid=0002334601\n",
    "\n",
    "news.naver.com 요기만 출력하기"
   ]
  },
  {
   "cell_type": "code",
   "execution_count": 27,
   "id": "5f3003b4",
   "metadata": {},
   "outputs": [],
   "source": [
    "url = 'http://news.naver.com/main/read.nhn?mode=LSD&mid=shm&sid1=105&oid=028&aid=0002334601'"
   ]
  },
  {
   "cell_type": "code",
   "execution_count": 28,
   "id": "30c15e73",
   "metadata": {},
   "outputs": [
    {
     "name": "stdout",
     "output_type": "stream",
     "text": [
      "news.naver.com\n"
     ]
    }
   ],
   "source": [
    "naver = url.split('/')\n",
    "\n",
    "domain = naver[2]\n",
    "\n",
    "print(domain)"
   ]
  },
  {
   "cell_type": "markdown",
   "id": "1d0d3ac8",
   "metadata": {},
   "source": [
    "#### 7/15 - Q5. url에서 쿼리문을 추출하여 출력하세요."
   ]
  },
  {
   "cell_type": "markdown",
   "id": "2c6cad76-1898-487f-a669-29576a5700f2",
   "metadata": {},
   "source": [
    "url에서 '?'뒤에 표시되는 문자열을 쿼리 문자열이라고 하며 변수=값 사이 &로 구분되어 나열된다.\n",
    "url = 'http://news.naver.com/main/read.nhn?mode=LSD&mid=shm&sid1=105&oid=028&aid=0002334601'\n"
   ]
  },
  {
   "cell_type": "code",
   "execution_count": 32,
   "id": "3a65723a",
   "metadata": {},
   "outputs": [],
   "source": [
    "url = 'http://news.naver.com/main/read.nhn?mode=LSD&mid=shm&sid1=105&oid=028&aid=0002334601'"
   ]
  },
  {
   "cell_type": "code",
   "execution_count": 40,
   "id": "75750677-e156-4c94-a317-2736c0fc7c4e",
   "metadata": {},
   "outputs": [
    {
     "data": {
      "text/plain": [
       "['mode=LSD', 'mid=shm', 'sid1=105', 'oid=028', 'aid=0002334601']"
      ]
     },
     "execution_count": 40,
     "metadata": {},
     "output_type": "execute_result"
    }
   ],
   "source": [
    "naver = url.split('?')\n",
    "query = naver[1].split('&')\n",
    "query"
   ]
  },
  {
   "cell_type": "markdown",
   "id": "1397acaa",
   "metadata": {},
   "source": [
    "#### 7/15 - Q6.텍스트 파일(mydata.txt)을 읽고  파일의 내용에서 나타나는 문자들에 대해 자주 나타나는 문자들을 아래와 같이 순서대로 출력하세요.\n",
    "- \\[ \\] -> [177]회 나타남\n",
    "- [e] -> [97]회 나타남\n",
    "- [t] -> [85]회 나타남"
   ]
  },
  {
   "cell_type": "code",
   "execution_count": 31,
   "id": "c5bcbc38",
   "metadata": {},
   "outputs": [
    {
     "name": "stdout",
     "output_type": "stream",
     "text": [
      "a lot of things occur each day\n",
      "we've got to live with on our way\n",
      "there's so much misery on the screen\n",
      "with commercials in between\n",
      "\n",
      "and the russians won't be so late\n",
      "uncle sam don't want to wait\n",
      "no matter if you're black or white\n",
      "you never ever had a right\n",
      "\n",
      "and look up to the eternal skies\n",
      "see warfare even there\n",
      "what once has been a paradise\n",
      "now destruction and despair\n",
      "\n",
      "in other worlds the children die\n",
      "lacking food ill from a fly\n",
      "oppressed by troops to tame their land\n",
      "it's all the same again\n",
      "\n",
      "if any man is free on earth\n",
      "then tormentors steal his birth\n",
      "they slam gun butts in his face\n",
      "and leave his woman choked in mace\n",
      "\n",
      "so stand up for our human rights\n",
      "push back this pest of hate\n",
      "raise you voice pass on the light\n",
      "unite! it's not too late\n",
      "\n",
      "how many tears flow away\n",
      "to become a sea of fears\n",
      "how many hearts are torn apart\n",
      "till another torment starts\n",
      "\n",
      "but before the world\n",
      "turns into a sun\n",
      "all cruelty and violence\n",
      "on earth will be dead and gone\n",
      "\n",
      "so stand up for our human rights\n",
      "push back this pest of hate\n",
      "raise you voice pass on the light\n",
      "unite! it's not too late\n"
     ]
    }
   ],
   "source": [
    "with open('mydata.txt','r')as f:\n",
    "    data = f.read()\n",
    "print(data)"
   ]
  },
  {
   "cell_type": "code",
   "execution_count": 42,
   "id": "f1bf4dc0-ac27-47c0-94b1-b1a27548f6d4",
   "metadata": {},
   "outputs": [
    {
     "name": "stdout",
     "output_type": "stream",
     "text": [
      "1071\n"
     ]
    }
   ],
   "source": [
    "print(data.count(''))"
   ]
  },
  {
   "cell_type": "code",
   "execution_count": 43,
   "id": "39398be3-c4a0-430b-bb49-ce8d99750ab3",
   "metadata": {},
   "outputs": [
    {
     "name": "stdout",
     "output_type": "stream",
     "text": [
      "97\n"
     ]
    }
   ],
   "source": [
    "print(data.count('e'))"
   ]
  },
  {
   "cell_type": "code",
   "execution_count": 44,
   "id": "8c66b420-3345-4e76-9992-f3bfc0951873",
   "metadata": {},
   "outputs": [
    {
     "name": "stdout",
     "output_type": "stream",
     "text": [
      "85\n"
     ]
    }
   ],
   "source": [
    "print(data.count('t'))"
   ]
  },
  {
   "cell_type": "code",
   "execution_count": 2,
   "id": "b9c05ab7",
   "metadata": {},
   "outputs": [
    {
     "name": "stdout",
     "output_type": "stream",
     "text": [
      "C:\\Users\\admin\n"
     ]
    }
   ],
   "source": [
    "%cd"
   ]
  },
  {
   "cell_type": "code",
   "execution_count": 14,
   "id": "52aed3d1-f67b-43a8-940f-cfc53229677d",
   "metadata": {},
   "outputs": [
    {
     "ename": "SyntaxError",
     "evalue": "invalid syntax (2514282261.py, line 1)",
     "output_type": "error",
     "traceback": [
      "\u001b[1;36m  Input \u001b[1;32mIn [14]\u001b[1;36m\u001b[0m\n\u001b[1;33m    def getTextFreq('mydata.txt'):\u001b[0m\n\u001b[1;37m                    ^\u001b[0m\n\u001b[1;31mSyntaxError\u001b[0m\u001b[1;31m:\u001b[0m invalid syntax\n"
     ]
    }
   ],
   "source": [
    "def getTextFreq('mydata.txt'):\n",
    "    with open('mydata.txt','r') as f:\n",
    "        text = f.read()\n",
    "        fa = {}\n",
    "        for c in text:\n",
    "            if c in fa:\n",
    "                fa[c] += 1\n",
    "            else:\n",
    "                fa[c] = 1\n",
    "    return fa\n",
    "ret = getTextFreq('mydata.txt')\n",
    "ret = sorted(ret.items(),key=lambda x:x[1], reverse=True)\n",
    "print(ret)\n",
    "for c, freq in ret:\n",
    "    if c =='\\n':\n",
    "        continue\n",
    "    print('[%c] - > [%d]회 나타남' %(c,freq))\n"
   ]
  },
  {
   "cell_type": "markdown",
   "id": "90755e48",
   "metadata": {},
   "source": [
    "#### Q7. 두개의 수를 입력한 후 두개의 수에 대한 사칙연산을 수행하세요. (0을 입력한 경우 다시 입력하도록 조치)"
   ]
  },
  {
   "cell_type": "code",
   "execution_count": null,
   "id": "f3afe040",
   "metadata": {},
   "outputs": [],
   "source": [
    "# Cal4 클래스를 만들어서 작성"
   ]
  },
  {
   "cell_type": "code",
   "execution_count": 1,
   "id": "e546ecf5",
   "metadata": {},
   "outputs": [],
   "source": [
    "class Cal4:\n",
    "    def __init__(self, first,second):\n",
    "        self.first = first\n",
    "        self.second = second\n",
    "        \n",
    "    def add(self):\n",
    "        result = self.first + self.second\n",
    "        return result\n",
    "    def sub(self):\n",
    "        result = self.first - self.second\n",
    "        return result\n",
    "    def mul(self):\n",
    "        result = self.first * self.second\n",
    "        return result\n",
    "    def div(self):\n",
    "        result = self.first / self.second\n",
    "        return result"
   ]
  },
  {
   "cell_type": "code",
   "execution_count": 3,
   "id": "d98ffaf3-52b2-4a72-b58a-e5a9f7b93be0",
   "metadata": {},
   "outputs": [
    {
     "name": "stdin",
     "output_type": "stream",
     "text": [
      "슷지1 10\n",
      "슷지2 4\n"
     ]
    }
   ],
   "source": [
    "num1=int(input(\"슷지1\"))\n",
    "num2=int(input(\"슷지2\"))"
   ]
  },
  {
   "cell_type": "code",
   "execution_count": 4,
   "id": "37161170-d12f-4a43-b4e0-8e8d3f5694fc",
   "metadata": {},
   "outputs": [],
   "source": [
    "a= Cal4(num1,num2)"
   ]
  },
  {
   "cell_type": "code",
   "execution_count": 6,
   "id": "35fd4a26-f8a3-47c1-8cc1-b2906e6a0fdd",
   "metadata": {},
   "outputs": [
    {
     "name": "stdout",
     "output_type": "stream",
     "text": [
      "덧셈은 14, 뺄셈은 6, 곱셈은 40, 나눗셈은 2.5\n"
     ]
    }
   ],
   "source": [
    "print(f'덧셈은 {a.add()}, 뺄셈은 {a.sub()}, 곱셈은 {a.mul()}, 나눗셈은 {a.div()}')"
   ]
  },
  {
   "cell_type": "code",
   "execution_count": null,
   "id": "f9f0cc41",
   "metadata": {},
   "outputs": [],
   "source": [
    "class setCal4(Cal4):\n",
    "    def div(self):\n",
    "        if self.second ==0:\n",
    "            return self.second\n",
    "        elif slef.first ==0:\n",
    "            return self.first\n",
    "        else:\n",
    "            return self.first / self.second"
   ]
  },
  {
   "cell_type": "markdown",
   "id": "e183380b",
   "metadata": {},
   "source": [
    "#### Q8. Order 클래스를 상속받아 extraOrder 클래스에서 메소드 오버라이딩하여 출력가격에 원이 추가되도록 출력하세요."
   ]
  },
  {
   "cell_type": "code",
   "execution_count": 15,
   "id": "21120d78",
   "metadata": {},
   "outputs": [
    {
     "name": "stdout",
     "output_type": "stream",
     "text": [
      "1000\n"
     ]
    }
   ],
   "source": [
    "class Order: \n",
    "    def __init__(self, name): \n",
    "        self.customer = 0 \n",
    "        self.name = name\n",
    "    def order(self, price): \n",
    "        self.customer += price \n",
    "        return self.customer\n",
    "\n",
    "order = Order('kevin')\n",
    "print(order.order(1000))"
   ]
  },
  {
   "cell_type": "code",
   "execution_count": 18,
   "id": "0aaa73bd",
   "metadata": {},
   "outputs": [
    {
     "name": "stdout",
     "output_type": "stream",
     "text": [
      "1000원\n"
     ]
    }
   ],
   "source": [
    "class Order: \n",
    "    def __init__(self, name): \n",
    "        self.customer = 0 \n",
    "        self.name = name\n",
    "    def order(self, price): \n",
    "        self.customer += price \n",
    "        return self.customer\n",
    "\n",
    "class pluswon(Order):\n",
    "    def order(self,price):\n",
    "        self.customer += price\n",
    "        return str(self.customer)+'원'\n",
    "\n",
    "order = pluswon('kevin')\n",
    "print(order.order(1000))"
   ]
  },
  {
   "cell_type": "markdown",
   "id": "9fcb2f12",
   "metadata": {},
   "source": [
    "#### Q9.업무미팅이 2시임을 알려주는 자동 이메일을 클래스 AutoEmail을 작성하여 아래와 같이 출력하세요.\n",
    "안녕하세요. kevin님, 업무미팅은 2시입니다."
   ]
  },
  {
   "cell_type": "code",
   "execution_count": null,
   "id": "5dba697f",
   "metadata": {},
   "outputs": [],
   "source": [
    "class AutoEmail:\n",
    "    def __init__(self,name,t):\n",
    "        self.name=name\n",
    "        self.t=t\n",
    "    def alarm(self):\n",
    "        if time.localtime().tm_hour==self.t:\n",
    "            print(f'{self.name}님, 업무미팅이 진행중입니다.\")\n",
    "        else:\n",
    "            print(f'안녕하세요{self.name}님, 업무미팅은 {self.t}시 입니다.')\n",
    "AE=AutoEmail(\"고객\",15)\n",
    "AE.alarm()"
   ]
  },
  {
   "cell_type": "markdown",
   "id": "2ff0d8a1",
   "metadata": {},
   "source": [
    "#### Q10. 정규표현식을 사용하여 text에서 전화번호만 출력하세요.\n",
    "text = '문의사항이 있으면 032-232-3245으로 연락주시기 바랍니다.'"
   ]
  },
  {
   "cell_type": "code",
   "execution_count": 14,
   "id": "88192bc0-c49f-4ec8-bb73-677ee2f1e9ee",
   "metadata": {},
   "outputs": [
    {
     "data": {
      "text/plain": [
       "'032-232-3245'"
      ]
     },
     "execution_count": 14,
     "metadata": {},
     "output_type": "execute_result"
    }
   ],
   "source": [
    "import re\n",
    "text = '문의사항이 있으면 032-232-3245으로 연락주시기 바랍니다.'\n",
    "p = re.compile(r\"\\w+\\s+(\\d+[-]\\d+[-]\\d+)\\w+\")\n",
    "m = p.search(text)\n",
    "m.group(1)"
   ]
  },
  {
   "cell_type": "markdown",
   "id": "f28d0449",
   "metadata": {},
   "source": [
    "#### Q11. 정규표현식을 사용하여 text에서 에러가 들어간 부분만 포함하는 리스트를 출력하세요.\n",
    "text = \"에러 1122, 레퍼런스 오류, 에러1033, 아규먼트 오류, 에러 xxx\""
   ]
  },
  {
   "cell_type": "code",
   "execution_count": 1,
   "id": "4e53bd3c",
   "metadata": {},
   "outputs": [
    {
     "data": {
      "text/plain": [
       "['에러 1122', '에러 xxx']"
      ]
     },
     "execution_count": 1,
     "metadata": {},
     "output_type": "execute_result"
    }
   ],
   "source": [
    "import re\n",
    "text = \"에러 1122, 레퍼런스 오류, 에러1033, 아규먼트 오류, 에러 xxx\"\n",
    "p= re.compile(\"에러\\s\\w+\")\n",
    "m = p.findall(text)\n",
    "m"
   ]
  },
  {
   "cell_type": "code",
   "execution_count": 30,
   "id": "cb30d202-1544-4039-8283-3c930163c3dc",
   "metadata": {},
   "outputs": [
    {
     "data": {
      "text/plain": [
       "['에러 1122', '에러1033', '에러 xxx']"
      ]
     },
     "execution_count": 30,
     "metadata": {},
     "output_type": "execute_result"
    }
   ],
   "source": [
    "import re\n",
    "text = \"에러 1122, 레퍼런스 오류, 에러1033, 아규먼트 오류, 에러 xxx\"\n",
    "p= re.compile(\"에러\\s\\d+|에러\\d+|에러\\s\\w+\")\n",
    "m = p.findall(text)\n",
    "m"
   ]
  },
  {
   "cell_type": "markdown",
   "id": "b2f47bc6",
   "metadata": {},
   "source": [
    "#### Q12. 정규표현식을 사용하여 text에서 지역코드만 출력하세요.\n",
    "text = '문의사항이 있으면 032-232-3245으로 연락주시기 바랍니다.'"
   ]
  },
  {
   "cell_type": "code",
   "execution_count": 2,
   "id": "e2df78c4",
   "metadata": {},
   "outputs": [
    {
     "data": {
      "text/plain": [
       "'032'"
      ]
     },
     "execution_count": 2,
     "metadata": {},
     "output_type": "execute_result"
    }
   ],
   "source": [
    "import re\n",
    "text = '문의사항이 있으면 032-232-3245으로 연락주시기 바랍니다.'\n",
    "p = re.compile(r\"\\w+\\s+(\\d{3})+[-]\\w+\")\n",
    "m = p.search(text)\n",
    "m.group(1)"
   ]
  },
  {
   "cell_type": "markdown",
   "id": "d6ca6a1b",
   "metadata": {},
   "source": [
    "#### Q13. 정규표현식을 사용하여 text에서 지역코드 제외한 번호만 출력하세요.\n",
    "text = '문의사항이 있으면 032-232-3245으로 연락주시기 바랍니다.'"
   ]
  },
  {
   "cell_type": "code",
   "execution_count": 9,
   "id": "70fc58dd-7cbb-49f5-b45d-5d50f210399e",
   "metadata": {},
   "outputs": [
    {
     "data": {
      "text/plain": [
       "'232-3245'"
      ]
     },
     "execution_count": 9,
     "metadata": {},
     "output_type": "execute_result"
    }
   ],
   "source": [
    "import re\n",
    "text = '문의사항이 있으면 032-232-3245으로 연락주시기 바랍니다.'\n",
    "p = re.compile(r\"(\\w+\\d+[-])(\\d+[-]\\d+)(\\w+)\")\n",
    "m = p.search(text)\n",
    "m.group(2)"
   ]
  },
  {
   "cell_type": "markdown",
   "id": "053385da",
   "metadata": {},
   "source": [
    "#### Q14.'abcdefghij' 에 대하여 중첩을 적용한 서브그룹 5개로 컴파일하여 group()함수를 이용하여 'abcdefghi'와 e'를 출력하세요\n"
   ]
  },
  {
   "cell_type": "code",
   "execution_count": 20,
   "id": "f366a732",
   "metadata": {},
   "outputs": [
    {
     "name": "stdout",
     "output_type": "stream",
     "text": [
      "abcdefghi\n",
      "e\n"
     ]
    }
   ],
   "source": [
    "import re\n",
    "text = 'abcdefghij'\n",
    "p = re.compile(r\"(\\w{2}\\w{2}(\\w{1})\\w{3}\\w{1})\")\n",
    "m = p.search(text)\n",
    "print(m.group(1))\n",
    "print(m.group(2))"
   ]
  },
  {
   "cell_type": "code",
   "execution_count": 2,
   "id": "8eb9890a",
   "metadata": {},
   "outputs": [
    {
     "name": "stdout",
     "output_type": "stream",
     "text": [
      "abcdefghi\n"
     ]
    },
    {
     "data": {
      "text/plain": [
       "'e'"
      ]
     },
     "execution_count": 2,
     "metadata": {},
     "output_type": "execute_result"
    }
   ],
   "source": [
    "p = re.compile('(a(b(c(d(e)f)g)h)i)j')\n",
    "m = p.match('abcdefghij')\n",
    "# print(m.group(0))\n",
    "print(m.group(1))\n",
    "m.group(5)"
   ]
  },
  {
   "cell_type": "markdown",
   "id": "3498454d",
   "metadata": {},
   "source": [
    "#### Q15. 위 문제에서 모든 서브 그룹에 대한 문자열을 포함하는 튜플을 출력하세요."
   ]
  },
  {
   "cell_type": "code",
   "execution_count": 3,
   "id": "45855ddc",
   "metadata": {},
   "outputs": [
    {
     "data": {
      "text/plain": [
       "('abcdefghi', 'bcdefgh', 'cdefg', 'def', 'e')"
      ]
     },
     "execution_count": 3,
     "metadata": {},
     "output_type": "execute_result"
    }
   ],
   "source": [
    "m.groups()"
   ]
  },
  {
   "cell_type": "code",
   "execution_count": 27,
   "id": "6def8721",
   "metadata": {},
   "outputs": [
    {
     "data": {
      "text/plain": [
       "('abcdefghi', 'e')"
      ]
     },
     "execution_count": 27,
     "metadata": {},
     "output_type": "execute_result"
    }
   ],
   "source": [
    "import re\n",
    "text = 'abcdefghij'\n",
    "m = re.match(r\"(\\w{2}\\w{2}(\\w{1})\\w{3}\\w{1})\", text)\n",
    "m.groups(0)"
   ]
  },
  {
   "cell_type": "markdown",
   "id": "3a6b1132",
   "metadata": {},
   "source": [
    "#### Q16. 이름으로 그룹을 참조하여 'Lots of punctuation 에서 Lots를 출력하세요.\n"
   ]
  },
  {
   "cell_type": "code",
   "execution_count": 2,
   "id": "7a809385",
   "metadata": {},
   "outputs": [
    {
     "data": {
      "text/plain": [
       "'Lots'"
      ]
     },
     "execution_count": 2,
     "metadata": {},
     "output_type": "execute_result"
    }
   ],
   "source": [
    "import re\n",
    "text='Lots of punctuation'\n",
    "p = re.compile(r'(\\w+)+')\n",
    "m = p.search(text)\n",
    "m.group(1)"
   ]
  },
  {
   "cell_type": "code",
   "execution_count": 36,
   "id": "1610542b-1d02-492b-81ad-097017fc3c84",
   "metadata": {},
   "outputs": [
    {
     "data": {
      "text/plain": [
       "'Lots'"
      ]
     },
     "execution_count": 36,
     "metadata": {},
     "output_type": "execute_result"
    }
   ],
   "source": [
    "import re\n",
    "text='Lots of punctuation'\n",
    "m = re.match(r'(?P<word>\\w+)+',text)\n",
    "m.group('word')"
   ]
  },
  {
   "cell_type": "markdown",
   "id": "9c133c1f",
   "metadata": {},
   "source": [
    "#### Q17. 'Paris is very very beautiful.'에서 'very very'를 출력하세요."
   ]
  },
  {
   "cell_type": "code",
   "execution_count": 8,
   "id": "076c80cd",
   "metadata": {},
   "outputs": [
    {
     "data": {
      "text/plain": [
       "'very very'"
      ]
     },
     "execution_count": 8,
     "metadata": {},
     "output_type": "execute_result"
    }
   ],
   "source": [
    "import re\n",
    "text='Paris is very very beautiful'\n",
    "p = re.compile(r'\\w+\\s(\\w{4}\\s\\w{4})+')\n",
    "m = p.search(text)\n",
    "m.group(1)"
   ]
  },
  {
   "cell_type": "markdown",
   "id": "87b4c51f",
   "metadata": {},
   "source": [
    "#### Q18. 정규표현식을 작성하여 아래와 같이 출력하세요."
   ]
  },
  {
   "cell_type": "code",
   "execution_count": 37,
   "id": "e2900715",
   "metadata": {},
   "outputs": [
    {
     "data": {
      "text/plain": [
       "['1 apple', '5 oranges', '3 boys', '4 girls', '10 army', '11 mr']"
      ]
     },
     "execution_count": 37,
     "metadata": {},
     "output_type": "execute_result"
    }
   ],
   "source": [
    "['1 apple', '5 oranges', '3 boys', '4 girls', '10 army', '11 mr']"
   ]
  },
  {
   "cell_type": "code",
   "execution_count": 38,
   "id": "8fb123b3",
   "metadata": {},
   "outputs": [
    {
     "name": "stdout",
     "output_type": "stream",
     "text": [
      "['1 apple', '5 oranges', '3 boys', '4 girls', '10 army', '11 mr']\n"
     ]
    }
   ],
   "source": [
    "import re\n",
    "li = '1 apple, 5 oranges, 3 boys, 4 girls; 10 army| 11 mr'\n",
    "regex = re.compile(r'\\d+\\s\\w+')\n",
    "list = regex.findall(li)\n",
    "print(list)"
   ]
  },
  {
   "cell_type": "markdown",
   "id": "5753ab1d",
   "metadata": {},
   "source": [
    "#### Q19. text에서 h,H 만 출력하세요"
   ]
  },
  {
   "cell_type": "code",
   "execution_count": 4,
   "id": "0b9c2693",
   "metadata": {},
   "outputs": [],
   "source": [
    "text = 'Hello my friend! Life is short you need Python!'"
   ]
  },
  {
   "cell_type": "code",
   "execution_count": 40,
   "id": "8a21d042-db48-4081-9fae-8cf060138d2c",
   "metadata": {},
   "outputs": [
    {
     "data": {
      "text/plain": [
       "['H', 'h', 'h']"
      ]
     },
     "execution_count": 40,
     "metadata": {},
     "output_type": "execute_result"
    }
   ],
   "source": [
    "import re\n",
    "text = 'Hello my friend! Life is short you need Python!'\n",
    "p = re.compile('(h|H)')\n",
    "p.findall(text)"
   ]
  },
  {
   "cell_type": "markdown",
   "id": "b8f71c5e",
   "metadata": {},
   "source": [
    "#### Q20. text에서 h,H 아닌것만 출력하세요"
   ]
  },
  {
   "cell_type": "code",
   "execution_count": 1,
   "id": "137570c1",
   "metadata": {},
   "outputs": [
    {
     "name": "stdout",
     "output_type": "stream",
     "text": [
      "['e', 'l', 'l', 'o', ' ', 'm', 'y', ' ', 'f', 'r', 'i', 'e', 'n', 'd', '!', ' ', 'L', 'i', 'f', 'e', ' ', 'i', 's', ' ', 's', 'o', 'r', 't', ' ', 'y', 'o', 'u', ' ', 'n', 'e', 'e', 'd', ' ', 'P', 'y', 't', 'o', 'n', '!']\n"
     ]
    }
   ],
   "source": [
    "import re\n",
    "text = 'Hello my friend! Life is short you need Python!'\n",
    "p = re.compile('[^h|H]')\n",
    "q = p.findall(text)\n",
    "print(q)"
   ]
  },
  {
   "cell_type": "markdown",
   "id": "437a2116",
   "metadata": {},
   "source": [
    "#### Q21. 'we are going home'에서 home만 출력하세요."
   ]
  },
  {
   "cell_type": "code",
   "execution_count": 13,
   "id": "932517b5-cf37-4796-b1b2-8efdc37ff714",
   "metadata": {},
   "outputs": [
    {
     "data": {
      "text/plain": [
       "'home'"
      ]
     },
     "execution_count": 13,
     "metadata": {},
     "output_type": "execute_result"
    }
   ],
   "source": [
    "import re\n",
    "text='we are going home'\n",
    "p = re.compile(r'(\\w{4})$')\n",
    "m = p.search(text)\n",
    "m.group(1)"
   ]
  },
  {
   "cell_type": "markdown",
   "id": "4d28372f",
   "metadata": {},
   "source": [
    "#### Q22. '199305, 1923A, a93247'에서 '199305'만 출력하세요."
   ]
  },
  {
   "cell_type": "code",
   "execution_count": 12,
   "id": "d09f5659",
   "metadata": {},
   "outputs": [
    {
     "data": {
      "text/plain": [
       "'199305'"
      ]
     },
     "execution_count": 12,
     "metadata": {},
     "output_type": "execute_result"
    }
   ],
   "source": [
    "import re\n",
    "text='199305, 1923A, a93247'\n",
    "p = re.compile(r'(\\d+)+')\n",
    "m = p.search(text)\n",
    "m.group(1)"
   ]
  },
  {
   "cell_type": "markdown",
   "id": "7fbead80",
   "metadata": {},
   "source": [
    "#### Q23. '12345abc'에서 'abc'만 출력하세요.\n"
   ]
  },
  {
   "cell_type": "code",
   "execution_count": 2,
   "id": "168910a3",
   "metadata": {},
   "outputs": [
    {
     "data": {
      "text/plain": [
       "['abc']"
      ]
     },
     "execution_count": 2,
     "metadata": {},
     "output_type": "execute_result"
    }
   ],
   "source": [
    "import re\n",
    "text = '12345abc'\n",
    "p = re.compile('abc')\n",
    "p.findall(text)"
   ]
  },
  {
   "cell_type": "code",
   "execution_count": 5,
   "id": "90ae4678",
   "metadata": {},
   "outputs": [
    {
     "data": {
      "text/plain": [
       "'abc'"
      ]
     },
     "execution_count": 5,
     "metadata": {},
     "output_type": "execute_result"
    }
   ],
   "source": [
    "text = '12345abc'\n",
    "m = re.search('\\D+',text)\n",
    "m.group()"
   ]
  },
  {
   "cell_type": "code",
   "execution_count": 6,
   "id": "48c62a4e",
   "metadata": {},
   "outputs": [
    {
     "data": {
      "text/plain": [
       "'12345'"
      ]
     },
     "execution_count": 6,
     "metadata": {},
     "output_type": "execute_result"
    }
   ],
   "source": [
    "text = '12345abc'\n",
    "m = re.search('\\d+',text)\n",
    "m.group()"
   ]
  },
  {
   "cell_type": "markdown",
   "id": "4a5b86b9",
   "metadata": {},
   "source": [
    "#### Q24. '12345abc'에서 'a'만 출력하세요.\n"
   ]
  },
  {
   "cell_type": "code",
   "execution_count": 8,
   "id": "32485b54",
   "metadata": {},
   "outputs": [
    {
     "name": "stdout",
     "output_type": "stream",
     "text": [
      "['a']\n"
     ]
    }
   ],
   "source": [
    "import re\n",
    "text = '12345abc'\n",
    "p = re.compile('a')\n",
    "q = p.findall(text)\n",
    "print(q)"
   ]
  },
  {
   "cell_type": "markdown",
   "id": "d8f69c22",
   "metadata": {},
   "source": [
    "#### Q25. 'abc12345Abc'에서 'A'만 출력하세요.\n"
   ]
  },
  {
   "cell_type": "code",
   "execution_count": 11,
   "id": "1ddfeb07",
   "metadata": {},
   "outputs": [
    {
     "name": "stdout",
     "output_type": "stream",
     "text": [
      "['A']\n"
     ]
    }
   ],
   "source": [
    "import re\n",
    "text = 'abc12345Abc'\n",
    "p = re.compile('A')\n",
    "q = p.findall(text)\n",
    "print(q)"
   ]
  },
  {
   "cell_type": "markdown",
   "id": "9e0109e2",
   "metadata": {},
   "source": [
    "#### Q26. 'Banker'에서 'anker', 'banker123'에서 'banker'를 출력하세요\n"
   ]
  },
  {
   "cell_type": "code",
   "execution_count": 2,
   "id": "98b8964f",
   "metadata": {},
   "outputs": [
    {
     "data": {
      "text/plain": [
       "'anker'"
      ]
     },
     "execution_count": 2,
     "metadata": {},
     "output_type": "execute_result"
    }
   ],
   "source": [
    "import re\n",
    "text='Banker'\n",
    "p = re.compile(r'(\\w{5})$')\n",
    "m = p.search(text)\n",
    "m.group(1)"
   ]
  },
  {
   "cell_type": "code",
   "execution_count": 1,
   "id": "c4c06d16",
   "metadata": {},
   "outputs": [
    {
     "data": {
      "text/plain": [
       "'anker'"
      ]
     },
     "execution_count": 1,
     "metadata": {},
     "output_type": "execute_result"
    }
   ],
   "source": [
    "import re\n",
    "text='Banker'\n",
    "p = re.compile(r'[A-Z](\\w+)')\n",
    "m = p.search(text)\n",
    "m.group(1)"
   ]
  },
  {
   "cell_type": "code",
   "execution_count": 28,
   "id": "41832cf0",
   "metadata": {},
   "outputs": [
    {
     "data": {
      "text/plain": [
       "'banker'"
      ]
     },
     "execution_count": 28,
     "metadata": {},
     "output_type": "execute_result"
    }
   ],
   "source": [
    "import re\n",
    "text='banker123'\n",
    "p = re.compile(r'([a-z]+)')\n",
    "m = p.search(text)\n",
    "m.group(1)"
   ]
  },
  {
   "cell_type": "code",
   "execution_count": 29,
   "id": "61d96cfe",
   "metadata": {},
   "outputs": [
    {
     "data": {
      "text/plain": [
       "'banker'"
      ]
     },
     "execution_count": 29,
     "metadata": {},
     "output_type": "execute_result"
    }
   ],
   "source": [
    "import re\n",
    "text='banker123'\n",
    "p = re.compile(r'(\\D+)')\n",
    "m = p.search(text)\n",
    "m.group(1)"
   ]
  },
  {
   "cell_type": "markdown",
   "id": "cc92e8a7",
   "metadata": {},
   "source": [
    "#### Q27. 'KOREA 대한민국'에서 '대'만 출력하세요.\n"
   ]
  },
  {
   "cell_type": "code",
   "execution_count": 7,
   "id": "a8ddf491",
   "metadata": {},
   "outputs": [
    {
     "name": "stdout",
     "output_type": "stream",
     "text": [
      "['대']\n"
     ]
    }
   ],
   "source": [
    "import re\n",
    "text='KOREA 대한민국'\n",
    "p = re.compile('대')\n",
    "#p = re.compile('\\s(\\w)')\n",
    "q = p.findall(text)\n",
    "print(q)"
   ]
  },
  {
   "cell_type": "code",
   "execution_count": 7,
   "id": "4fb12591",
   "metadata": {},
   "outputs": [
    {
     "data": {
      "text/plain": [
       "'대'"
      ]
     },
     "execution_count": 7,
     "metadata": {},
     "output_type": "execute_result"
    }
   ],
   "source": [
    "text='KOREA 대한민국'\n",
    "p = re.search('[가-힣]',text)\n",
    "p.group()"
   ]
  },
  {
   "cell_type": "markdown",
   "id": "5da7acad",
   "metadata": {},
   "source": [
    "#### Q28. text에서 'aaaaBBBcccDDDeee'을 모두 출력하세요."
   ]
  },
  {
   "cell_type": "code",
   "execution_count": 8,
   "id": "73f66f0b",
   "metadata": {},
   "outputs": [
    {
     "name": "stdout",
     "output_type": "stream",
     "text": [
      "16\n"
     ]
    }
   ],
   "source": [
    "text = 'aaaBBccDDeeaaaaBBBcccDDDeeeeeeDDDcccBBBaaaa'\n",
    "print(len('aaaaBBBcccDDDeee'))"
   ]
  },
  {
   "cell_type": "code",
   "execution_count": 20,
   "id": "3dbf8a36",
   "metadata": {},
   "outputs": [
    {
     "data": {
      "text/plain": [
       "'aaaaBBBcccDDDeee'"
      ]
     },
     "execution_count": 20,
     "metadata": {},
     "output_type": "execute_result"
    }
   ],
   "source": [
    "import re\n",
    "text = 'aaaBBccDDeeaaaaBBBcccDDDeeeeeeDDDcccBBBaaaa'\n",
    "p = re.compile(r'(\\w{16})$')\n",
    "m = p.search(text)\n",
    "\n",
    "result = m.group(1)\n",
    "result[::-1]"
   ]
  },
  {
   "cell_type": "code",
   "execution_count": 4,
   "id": "c606933a",
   "metadata": {},
   "outputs": [
    {
     "data": {
      "text/plain": [
       "'aaaaBBBcccDDDeee'"
      ]
     },
     "execution_count": 4,
     "metadata": {},
     "output_type": "execute_result"
    }
   ],
   "source": [
    "text = 'aaaBBccDDeeaaaaBBBcccDDDeeeeeeDDDcccBBBaaaa'\n",
    "p = re.search( 'a{4}B{3}c{3}D{3}e{3}',text)\n",
    "p.group()"
   ]
  },
  {
   "cell_type": "markdown",
   "id": "d3473a82",
   "metadata": {},
   "source": [
    "#### Q29. 아래의 경우에서 \\<html>만 출력하세요\n"
   ]
  },
  {
   "cell_type": "code",
   "execution_count": 10,
   "id": "1053316d",
   "metadata": {},
   "outputs": [
    {
     "name": "stdout",
     "output_type": "stream",
     "text": [
      "59\n"
     ]
    },
    {
     "data": {
      "text/plain": [
       "'<html>'"
      ]
     },
     "execution_count": 10,
     "metadata": {},
     "output_type": "execute_result"
    }
   ],
   "source": [
    "# Q\n",
    "import re\n",
    "pattern = re.compile('<.*?>') #html 태그 지우기\n",
    "text = '<html><head><title>Title</title></head><body></body></html>'\n",
    "\n",
    "print(len(text))\n",
    "p = pattern.search(text)\n",
    "p.group()"
   ]
  },
  {
   "cell_type": "markdown",
   "id": "808ca081",
   "metadata": {},
   "source": [
    "#### Q30. '1234a1234'에서  '1', '2', '3', '4'를 모두 출력하세요.\n"
   ]
  },
  {
   "cell_type": "code",
   "execution_count": 31,
   "id": "9cdaf83c",
   "metadata": {},
   "outputs": [
    {
     "data": {
      "text/plain": [
       "['1', '2', '3', '4', '1', '2', '3', '4']"
      ]
     },
     "execution_count": 31,
     "metadata": {},
     "output_type": "execute_result"
    }
   ],
   "source": [
    "import re\n",
    "text = '1234a1234'\n",
    "p = re.findall('(\\d)',text)\n",
    "p"
   ]
  },
  {
   "cell_type": "markdown",
   "id": "2f7f71af",
   "metadata": {},
   "source": [
    "#### Q32. text에서 전체문장 모두 출력하세요.\n"
   ]
  },
  {
   "cell_type": "code",
   "execution_count": 41,
   "id": "ac21dfb4",
   "metadata": {},
   "outputs": [
    {
     "name": "stdout",
     "output_type": "stream",
     "text": [
      "what are you doing?\n"
     ]
    }
   ],
   "source": [
    "import re\n",
    "text = \"what are you doing?\\nit is going to be late for school\\nwe need to hurry up\"\n",
    "regex = re.compile('.*')\n",
    "mo = regex.search(text)\n",
    "print(mo.group())"
   ]
  },
  {
   "cell_type": "code",
   "execution_count": 1,
   "id": "d1ffafe2",
   "metadata": {},
   "outputs": [
    {
     "name": "stdout",
     "output_type": "stream",
     "text": [
      "what are you doing?\n",
      "it is going to be late for school\n",
      "we need to hurry up\n"
     ]
    }
   ],
   "source": [
    "import re\n",
    "text = \"what are you doing?\\nit is going to be late for school\\nwe need to hurry up\"\n",
    "regex = re.compile('\\D*')\n",
    "mo = regex.search(text)\n",
    "print(mo.group())"
   ]
  },
  {
   "cell_type": "code",
   "execution_count": 2,
   "id": "4112c541",
   "metadata": {},
   "outputs": [
    {
     "name": "stdout",
     "output_type": "stream",
     "text": [
      "what are you doing?\n",
      "it is going to be late for school\n",
      "we need to hurry up\n"
     ]
    }
   ],
   "source": [
    "import re\n",
    "text = \"what are you doing?\\nit is going to be late for school\\nwe need to hurry up\"\n",
    "regex = re.compile('.*',re.DOTALL) # *줄바꿈 제외한 전부 다를 의미 # re.DOTALL 옵션을 주어 줄바꿈 포함 전부다로 선택\n",
    "mo = regex.search(text)\n",
    "print(mo.group())"
   ]
  },
  {
   "cell_type": "code",
   "execution_count": 42,
   "id": "7d934b75",
   "metadata": {},
   "outputs": [
    {
     "data": {
      "text/plain": [
       "'what are you doing?it is going to be late for schoolwe need to hurry up'"
      ]
     },
     "execution_count": 42,
     "metadata": {},
     "output_type": "execute_result"
    }
   ],
   "source": [
    "import re\n",
    "text = \"what are you doing?\\nit is going to be late for school\\nwe need to hurry up\"\n",
    "regex = re.sub(r'\\n','',text)\n",
    "regex"
   ]
  },
  {
   "cell_type": "markdown",
   "id": "d68873a3",
   "metadata": {},
   "source": [
    "#### Q33. text에서 대소문자 구분없이 전체문장 모두 출력하세요\n",
    "text = 'Friend fRiend friEnd FRIEND'\n"
   ]
  },
  {
   "cell_type": "code",
   "execution_count": 57,
   "id": "19a928bd",
   "metadata": {
    "scrolled": true
   },
   "outputs": [
    {
     "data": {
      "text/plain": [
       "'Friend fRiend friEnd FRIEND'"
      ]
     },
     "execution_count": 57,
     "metadata": {},
     "output_type": "execute_result"
    }
   ],
   "source": [
    "text = 'Friend fRiend friEnd FRIEND'\n",
    "\n",
    "p = re.compile('[a-z\\s]+',re.I)\n",
    "m = p.search(text)\n",
    "m.group()"
   ]
  },
  {
   "cell_type": "code",
   "execution_count": 24,
   "id": "f8592e43",
   "metadata": {},
   "outputs": [
    {
     "name": "stdout",
     "output_type": "stream",
     "text": [
      "Friend\n",
      "fRiend\n",
      "friEnd\n",
      "FRIEND\n"
     ]
    }
   ],
   "source": [
    "text = 'Friend fRiend friEnd FRIEND'\n",
    "\n",
    "regex = re.compile('friend',re.I)\n",
    "mo = regex.findall(text)\n",
    "for i in mo:\n",
    "    print(i)"
   ]
  },
  {
   "cell_type": "markdown",
   "id": "ad67ffa8",
   "metadata": {},
   "source": [
    "text = 'Friend fRiend friEnd FRIEND'\n",
    "\n",
    "p = re.findall('\\w+',text)\n",
    "for i in range(0,4):\n",
    "    print(p[i])"
   ]
  },
  {
   "cell_type": "markdown",
   "id": "43edfba4",
   "metadata": {},
   "source": [
    "#### Q34. 1609160537.371015을 \"Sat Jun 26 08:35:03 2021\" 포멧으로 출력하세요.\n"
   ]
  },
  {
   "cell_type": "markdown",
   "id": "c4e3adc8",
   "metadata": {},
   "source": [
    "ctime() 함수는 주어진 timestamp를 현지 시간대 기준으로 소위 미국에서 흔히 사용되는 요 월 일 시:분:초 년 포멧으로 변환해줍니다. 그냥 간단하게 timestamp가 나타내는 날짜와 시간을 확인해보는 용도로 쓰기에 좋습니다.\n"
   ]
  },
  {
   "cell_type": "code",
   "execution_count": 21,
   "id": "cfa3fec7",
   "metadata": {},
   "outputs": [
    {
     "data": {
      "text/plain": [
       "'Mon Dec 28 22:02:17 2020'"
      ]
     },
     "execution_count": 21,
     "metadata": {},
     "output_type": "execute_result"
    }
   ],
   "source": [
    "import time\n",
    "timestring=time.ctime(1609160537.371015)\n",
    "timestring"
   ]
  },
  {
   "cell_type": "code",
   "execution_count": 22,
   "id": "0ab4ba70",
   "metadata": {},
   "outputs": [
    {
     "name": "stdout",
     "output_type": "stream",
     "text": [
      "1609160537.371015 <class 'float'>\n",
      "2020-12-28 22:02:17.371015 <class 'datetime.datetime'>\n"
     ]
    }
   ],
   "source": [
    "from datetime import datetime\n",
    "import time\n",
    "\n",
    "t = 1609160537.371015\n",
    "print(t,type(t))\n",
    "d = datetime.fromtimestamp(t)\n",
    "print(d,type(d))"
   ]
  },
  {
   "cell_type": "code",
   "execution_count": 23,
   "id": "38e088bf",
   "metadata": {},
   "outputs": [
    {
     "data": {
      "text/plain": [
       "'Mon Dec 28 22:02:17 2020'"
      ]
     },
     "execution_count": 23,
     "metadata": {},
     "output_type": "execute_result"
    }
   ],
   "source": [
    "time = d.strftime('%a %b %d %X %Y')\n",
    "time"
   ]
  },
  {
   "cell_type": "code",
   "execution_count": 25,
   "id": "7a3f27d3",
   "metadata": {},
   "outputs": [
    {
     "data": {
      "text/plain": [
       "'Mon Dec 28 22 02 17 2020'"
      ]
     },
     "execution_count": 25,
     "metadata": {},
     "output_type": "execute_result"
    }
   ],
   "source": [
    "time = d.strftime('%a %b %d %H %M %S %Y')\n",
    "time"
   ]
  },
  {
   "cell_type": "markdown",
   "id": "0da6c3ef",
   "metadata": {},
   "source": [
    "#### Q35. 현재 날짜와 시간을 \"Sat Jun 26 08:35:03 2021\" 포멧으로 출력하세요."
   ]
  },
  {
   "cell_type": "code",
   "execution_count": 48,
   "id": "2c9f7e64",
   "metadata": {},
   "outputs": [
    {
     "name": "stdout",
     "output_type": "stream",
     "text": [
      "2022-07-25 14:47:59.472596 <class 'datetime.datetime'>\n"
     ]
    }
   ],
   "source": [
    "from datetime import datetime\n",
    "import time\n",
    "\n",
    "t = datetime.now()\n",
    "print(t,type(t))"
   ]
  },
  {
   "cell_type": "code",
   "execution_count": 49,
   "id": "fa48893a",
   "metadata": {},
   "outputs": [
    {
     "data": {
      "text/plain": [
       "'Mon Jul 25 14:47:59 2022'"
      ]
     },
     "execution_count": 49,
     "metadata": {},
     "output_type": "execute_result"
    }
   ],
   "source": [
    "now = t.strftime('%a %b %d %X %Y')\n",
    "now"
   ]
  },
  {
   "cell_type": "markdown",
   "id": "564db06b",
   "metadata": {},
   "source": [
    "#### Q36. 현재 시간을 년-월-일 시:분:초로 출력하세요."
   ]
  },
  {
   "cell_type": "code",
   "execution_count": 1,
   "id": "84782979",
   "metadata": {},
   "outputs": [
    {
     "name": "stdout",
     "output_type": "stream",
     "text": [
      "2022-07-26 12:28:34.723507 <class 'datetime.datetime'>\n"
     ]
    }
   ],
   "source": [
    "from datetime import datetime\n",
    "import time\n",
    "\n",
    "t = datetime.now()\n",
    "print(t,type(t))"
   ]
  },
  {
   "cell_type": "code",
   "execution_count": 3,
   "id": "074a9d82",
   "metadata": {},
   "outputs": [
    {
     "data": {
      "text/plain": [
       "'2022년 07월 26일 12시 28분 34초'"
      ]
     },
     "execution_count": 3,
     "metadata": {},
     "output_type": "execute_result"
    }
   ],
   "source": [
    "now = t.strftime('%Y년 %m월 %d일 %I시 %M분 %S초')\n",
    "now"
   ]
  },
  {
   "cell_type": "markdown",
   "id": "907ad450",
   "metadata": {},
   "source": [
    "#### Q37. 현재 시간을 time.time을 불러와서 년-월-일 시:분:초로 출력하세요."
   ]
  },
  {
   "cell_type": "code",
   "execution_count": 6,
   "id": "03da5e37",
   "metadata": {},
   "outputs": [
    {
     "name": "stdout",
     "output_type": "stream",
     "text": [
      "1658806826.1874244 <class 'float'>\n"
     ]
    }
   ],
   "source": [
    "t = time.time()\n",
    "print(t,type(t))"
   ]
  },
  {
   "cell_type": "code",
   "execution_count": 20,
   "id": "b526ba73",
   "metadata": {},
   "outputs": [
    {
     "data": {
      "text/plain": [
       "'2022년-07월-26일 02시:04분:36초'"
      ]
     },
     "execution_count": 20,
     "metadata": {},
     "output_type": "execute_result"
    }
   ],
   "source": [
    "now = t.strftime('%Y년-%m월-%d일 %I시:%M분:%S초')\n",
    "now"
   ]
  },
  {
   "cell_type": "markdown",
   "id": "45331184",
   "metadata": {},
   "source": [
    "#### Q38. 올해 경과된 날짜수 계산하세요"
   ]
  },
  {
   "cell_type": "code",
   "execution_count": 32,
   "id": "0ed41e0b",
   "metadata": {},
   "outputs": [
    {
     "name": "stdout",
     "output_type": "stream",
     "text": [
      "올해 1월 1일부터 206일 경과되었습니다.\n"
     ]
    }
   ],
   "source": [
    "now = datetime.now()\n",
    "since = datetime.strptime('20220101','%Y%m%d')\n",
    "#print((now-since).days)\n",
    "print(f\"올해 1월 1일부터 {(now-since).days}일 경과되었습니다.\")"
   ]
  },
  {
   "cell_type": "markdown",
   "id": "ff633210",
   "metadata": {},
   "source": [
    "#### Q39. 현재 요일을 \"2021-6-26 오늘은 토요일입니다.\"와 같은 형식으로 출력하세요.\n"
   ]
  },
  {
   "cell_type": "code",
   "execution_count": 17,
   "id": "fc9c0427",
   "metadata": {},
   "outputs": [
    {
     "data": {
      "text/plain": [
       "'2022-07-26 오늘은 화요일입니다.'"
      ]
     },
     "execution_count": 17,
     "metadata": {},
     "output_type": "execute_result"
    }
   ],
   "source": [
    "from datetime import datetime\n",
    "import time\n",
    "\n",
    "t = datetime.now()\n",
    "#print(t,type(t))\n",
    "\n",
    "#print(t.weekday())\n",
    "datedict = {0:'월요일',1:'화요일',2:'수요일',3:'목요일',4:'금요일',5:'토요일',6:'일요일'}\n",
    "date = datedict[t.weekday()]\n",
    "\n",
    "now = t.strftime(f'%Y-%m-%d 오늘은 {date}입니다.')\n",
    "now"
   ]
  },
  {
   "cell_type": "markdown",
   "id": "59680335",
   "metadata": {},
   "source": [
    "#### Q40. 1에서 백만까지 더하는데 걸리는 프로그램 실행 시간을 밀리초(ms) 단위로 구하세요.\n"
   ]
  },
  {
   "cell_type": "code",
   "execution_count": 33,
   "id": "58d76a7e",
   "metadata": {},
   "outputs": [
    {
     "name": "stdout",
     "output_type": "stream",
     "text": [
      "110.29195785522461\n"
     ]
    }
   ],
   "source": [
    "import time\n",
    "\n",
    "start = time.time() # 시작 시간 기록\n",
    "\n",
    "# 프로그램 실행\n",
    "sum = 0\n",
    "for i in range(1,1000001):\n",
    "    sum += i\n",
    "    pass\n",
    "\n",
    "end = time.time() # 끝 시간 기록\n",
    "\n",
    "# 소요 시간\n",
    "print((end-start)*1000)\n"
   ]
  },
  {
   "cell_type": "code",
   "execution_count": 40,
   "id": "cd886de8",
   "metadata": {},
   "outputs": [
    {
     "name": "stdout",
     "output_type": "stream",
     "text": [
      "0.1246190071105957\n",
      "CPU times: total: 125 ms\n",
      "Wall time: 125 ms\n"
     ]
    }
   ],
   "source": [
    "%%time\n",
    "\n",
    "start = time.time() # 시작 시간 기록\n",
    "\n",
    "# 프로그램 실행\n",
    "sum = 0\n",
    "for i in range(1,1000001):\n",
    "    sum += i\n",
    "    pass\n",
    "\n",
    "end = time.time() # 끝 시간 기록\n",
    "\n",
    "# 소요 시간\n",
    "print(end-start)\n"
   ]
  },
  {
   "cell_type": "markdown",
   "id": "19eda717",
   "metadata": {},
   "source": [
    "#### Q41. 아래 코드를 보완하여 발생 가능한 모든 예외(정수, 인덱스, 미리 파악하지 못한 예외)를 처리한 후 마지막에  '모든 예외처리 완료'를 출력하세요.\n"
   ]
  },
  {
   "cell_type": "markdown",
   "id": "865428fd",
   "metadata": {},
   "source": [
    "```\n",
    "Q. \n",
    "list_num = [52,273,32,72,100]\n",
    "\n",
    "num_input = int(input('정수 입력> '))\n",
    "print(f'{num_input}번째 요소: {list_num[num_input-1]}')\n",
    "```\n"
   ]
  },
  {
   "cell_type": "code",
   "execution_count": 82,
   "id": "a327216e",
   "metadata": {},
   "outputs": [
    {
     "name": "stdout",
     "output_type": "stream",
     "text": [
      "정수 입력> 50\n",
      "인덱스 오류\n",
      "모든 예외처리 완료\n"
     ]
    }
   ],
   "source": [
    "list_num = [52,273,32,72,100]\n",
    "try:\n",
    "    num_input = int(input('정수 입력> '))\n",
    "    print(f'{num_input}번째 요소: {list_num[num_input-1]}')\n",
    "\n",
    "except IndexError:\n",
    "    print(\"인덱스 오류\")\n",
    "except ValueError:\n",
    "    print(\"정수 오류\")\n",
    "except :\n",
    "    print(\"미리 파악하지 못한 오류\") \n",
    "# except Exceptions:\n",
    "#     print(\"미리 파악하지 못한 오류\")\n",
    "\n",
    "finally:\n",
    "    print(\"모든 예외처리 완료\")"
   ]
  },
  {
   "cell_type": "markdown",
   "id": "73e948e2",
   "metadata": {},
   "source": [
    "#### Q42. 기본가격 1000원인 2개의 상품에 대하여 임의의 추가 가격을 입력시 가격 조정한 결과를 반환하는 Price 클래스를 생성 후 객체를 만들어 price1, price2를 수행하세요. \n",
    "- price1 : 기본가격 + 추가가격\n",
    "- price2 : (기본가격 + 추가가격) * 90%"
   ]
  },
  {
   "cell_type": "code",
   "execution_count": 94,
   "id": "6eb3cb43",
   "metadata": {
    "scrolled": true
   },
   "outputs": [
    {
     "name": "stdout",
     "output_type": "stream",
     "text": [
      "추가 가격은 1000\n",
      "price1 가격은 2000원\n",
      "price2 가격은 1900.0원\n"
     ]
    }
   ],
   "source": [
    "class Price:\n",
    "    def __init__(self):\n",
    "        self.result = 1000\n",
    "    def add(self,num):\n",
    "        self.result += num\n",
    "        return self.result\n",
    "    def per(self,num):\n",
    "        self.result += (num*0.9)\n",
    "        return self.result\n",
    "\n",
    "price1 = Price().add\n",
    "price2 = Price().per\n",
    "\n",
    "num = int(input(\"추가 가격은 \"))\n",
    "print(f'price1 가격은 {price1(num)}원')\n",
    "print(f'price2 가격은 {price2(num)}원')"
   ]
  },
  {
   "cell_type": "code",
   "execution_count": null,
   "id": "2bd3fded",
   "metadata": {},
   "outputs": [],
   "source": [
    "class Price():\n",
    "    def __init__(self,price1 = 1000):\n",
    "        self.price1 = price1\n",
    "    def in_price(self,price2,slae=0):\n",
    "        self.price2 = price2\n",
    "        self.sale = salle\n",
    "    def sum_price(self):\n",
    "        price = self.price1 + self.price2\n",
    "        \n",
    "        if self.sale ==1:\n",
    "            price = price *0.9\n",
    "\n",
    "price1 = Price()\n",
    "price2 = Price()\n",
    "\n",
    "price1.in_price(100)\n",
    "price2.in_price(100,1)\n",
    "\n",
    "print(f'price1 가격은 {price1(num)}원')\n",
    "print(f'price2 가격은 {price2(num)}원')"
   ]
  },
  {
   "cell_type": "markdown",
   "id": "ee0b8dc3",
   "metadata": {},
   "source": [
    "#### Q43. strings를 문자의 크기 순서로 내림차순 정렬하세요"
   ]
  },
  {
   "cell_type": "code",
   "execution_count": 22,
   "id": "bbb95af7",
   "metadata": {},
   "outputs": [
    {
     "data": {
      "text/plain": [
       "['ababa', 'aaaa', 'bar', 'ca', 'a']"
      ]
     },
     "execution_count": 22,
     "metadata": {},
     "output_type": "execute_result"
    }
   ],
   "source": [
    "strings = ['a', 'ca', 'bar', 'aaaa', 'ababa']\n",
    "strings.sort(key=len, reverse=True)\n",
    "\n",
    "strings"
   ]
  },
  {
   "cell_type": "markdown",
   "id": "83cfb670",
   "metadata": {},
   "source": [
    "#### Q44. strings를 다양한 문자가 포함된 순서로 정렬하세요"
   ]
  },
  {
   "cell_type": "code",
   "execution_count": 38,
   "id": "5f774edd",
   "metadata": {},
   "outputs": [
    {
     "data": {
      "text/plain": [
       "['card', 'bar', 'abab', 'foo', 'aaaa']"
      ]
     },
     "execution_count": 38,
     "metadata": {},
     "output_type": "execute_result"
    }
   ],
   "source": [
    "strings = ['foo', 'card', 'bar', 'aaaa', 'abab']\n",
    "strings.sort(key = lambda x:len(set(x)))\n",
    "strings[::-1]"
   ]
  },
  {
   "cell_type": "code",
   "execution_count": 2,
   "id": "5fc8df56",
   "metadata": {},
   "outputs": [
    {
     "data": {
      "text/plain": [
       "['card', 'bar', 'foo', 'abab', 'aaaa']"
      ]
     },
     "execution_count": 2,
     "metadata": {},
     "output_type": "execute_result"
    }
   ],
   "source": [
    "strings = ['foo', 'card', 'bar', 'aaaa', 'abab']\n",
    "strings.sort(key = lambda x:len(set(x)),reverse=True)\n",
    "strings"
   ]
  },
  {
   "cell_type": "markdown",
   "id": "70fce5f9",
   "metadata": {},
   "source": [
    "#### Q45. 'abcde' 를 'edcba'로 바꾸어 출력하세요.(5가지 방법)"
   ]
  },
  {
   "cell_type": "code",
   "execution_count": 79,
   "id": "f53a3cfc",
   "metadata": {},
   "outputs": [
    {
     "name": "stdout",
     "output_type": "stream",
     "text": [
      "edcba\n"
     ]
    }
   ],
   "source": [
    "strings = 'abcde'\n",
    "print(strings[::-1])"
   ]
  },
  {
   "cell_type": "code",
   "execution_count": 77,
   "id": "d3019866",
   "metadata": {},
   "outputs": [
    {
     "name": "stdout",
     "output_type": "stream",
     "text": [
      "edcba\n"
     ]
    }
   ],
   "source": [
    "strings = 'abcde'\n",
    "strings_list= list(strings)\n",
    "\n",
    "strings_list.reverse()\n",
    "\n",
    "reverse = ''.join(strings_list)\n",
    "print(reverse)"
   ]
  },
  {
   "cell_type": "code",
   "execution_count": 78,
   "id": "c6999f81",
   "metadata": {},
   "outputs": [
    {
     "name": "stdout",
     "output_type": "stream",
     "text": [
      "edcba\n"
     ]
    }
   ],
   "source": [
    "strings = 'abcde'\n",
    "reverse = ''.join(reversed(strings))\n",
    "print(reverse)"
   ]
  },
  {
   "cell_type": "code",
   "execution_count": 65,
   "id": "f51281e9",
   "metadata": {},
   "outputs": [
    {
     "name": "stdout",
     "output_type": "stream",
     "text": [
      "edcba\n"
     ]
    }
   ],
   "source": [
    "strings = 'abcde'\n",
    "reverse = ''\n",
    "for i in strings:\n",
    "    reverse = i + reverse\n",
    "    \n",
    "print(reverse)"
   ]
  },
  {
   "cell_type": "code",
   "execution_count": 96,
   "id": "cf698011",
   "metadata": {},
   "outputs": [
    {
     "name": "stdout",
     "output_type": "stream",
     "text": [
      "edcba\n"
     ]
    }
   ],
   "source": [
    "strings = 'abcde'\n",
    "def reverse(str):\n",
    "    if str =='': return str\n",
    "    else:\n",
    "        return reverse(str[1:]) + str[0]\n",
    "print(reverse(strings))"
   ]
  },
  {
   "cell_type": "markdown",
   "id": "7e996d9b",
   "metadata": {},
   "source": [
    "#### Q46. numbers 내부에 들어 있는 숫자가 몇 번 등장하는지를 출력하는 코드를 작성하세요.\n",
    "numbers = [3,6,3,5,8,2,9,7,4,3,6,3,5,8,2,9,7,4]"
   ]
  },
  {
   "cell_type": "code",
   "execution_count": 23,
   "id": "225a075d",
   "metadata": {},
   "outputs": [
    {
     "name": "stdout",
     "output_type": "stream",
     "text": [
      "{3: 4, 6: 2, 5: 2, 8: 2, 2: 2, 9: 2, 7: 2, 4: 2}\n"
     ]
    }
   ],
   "source": [
    "numbers = [3,6,3,5,8,2,9,7,4,3,6,3,5,8,2,9,7,4]\n",
    "counter = {}\n",
    "\n",
    "for number in numbers:\n",
    "    if number in counter:\n",
    "        counter[number]+=1\n",
    "    else:\n",
    "        counter[number]=1\n",
    "print(counter)"
   ]
  },
  {
   "cell_type": "code",
   "execution_count": 1,
   "id": "6d978b6e",
   "metadata": {},
   "outputs": [
    {
     "name": "stdout",
     "output_type": "stream",
     "text": [
      "{3: 4, 6: 2, 5: 2, 8: 2, 2: 2, 9: 2, 7: 2, 4: 2}\n"
     ]
    }
   ],
   "source": [
    "numbers = [3,6,3,5,8,2,9,7,4,3,6,3,5,8,2,9,7,4]\n",
    "dic = {}\n",
    "\n",
    "for i in numbers:\n",
    "    if i in dic:\n",
    "        dic[i]+=1\n",
    "    else:\n",
    "        dic[i]=1\n",
    "print(dic)"
   ]
  },
  {
   "cell_type": "markdown",
   "id": "393a2a85",
   "metadata": {},
   "source": [
    "#### Q47. 코딩을 한줄로 작성해서 동일한 결과를 출력하세요"
   ]
  },
  {
   "cell_type": "code",
   "execution_count": 28,
   "id": "5284f154",
   "metadata": {},
   "outputs": [
    {
     "name": "stdout",
     "output_type": "stream",
     "text": [
      "[0, 4, 16, 36, 64, 100, 144, 196, 256, 324]\n",
      "[0, 4, 16, 36, 64, 100, 144, 196, 256, 324]\n"
     ]
    }
   ],
   "source": [
    "# Q.\n",
    "list = []\n",
    "for i in range(0,20,2):\n",
    "    list.append(i*i)\n",
    "print(list)\n",
    "\n",
    "list = [i*i for i in range(0,20,2)]\n",
    "print(list)\n"
   ]
  },
  {
   "cell_type": "markdown",
   "id": "77b31b7c",
   "metadata": {},
   "source": [
    "#### Q48. 반복문으로 팩토리얼을 구하는 사용자 함수를 작성하고 5!, 10!를 구하세요"
   ]
  },
  {
   "cell_type": "code",
   "execution_count": 5,
   "id": "668162d9",
   "metadata": {},
   "outputs": [
    {
     "name": "stdout",
     "output_type": "stream",
     "text": [
      "숫자5\n",
      "120\n"
     ]
    }
   ],
   "source": [
    "a = int(input(\"숫자\"))\n",
    "def f(a):\n",
    "    result = 1\n",
    "    for item in range(1,a+1,1):\n",
    "        result = result * item\n",
    "    return result\n",
    "\n",
    "print(f(a))"
   ]
  },
  {
   "cell_type": "code",
   "execution_count": 6,
   "id": "c4ee0cab",
   "metadata": {},
   "outputs": [
    {
     "name": "stdout",
     "output_type": "stream",
     "text": [
      "숫자10\n",
      "3628800\n"
     ]
    }
   ],
   "source": [
    "a = int(input(\"숫자\"))\n",
    "def f(a):\n",
    "    result = 1\n",
    "    for item in range(1,a+1,1):\n",
    "        result *= item\n",
    "    return result\n",
    "\n",
    "print(f(a))"
   ]
  },
  {
   "cell_type": "markdown",
   "id": "544a3285",
   "metadata": {},
   "source": [
    "#### Q49. 재귀란 '자기자신을 호출하는 것'을 의미한다. 재귀함수를 이용해서 팩토리얼을 구하는 사용자 함수를 작성하고 1!, 5!, 10!를 구하세요.\n",
    "factorial(n) = n * factorial(n-1) (n >= 1)"
   ]
  },
  {
   "cell_type": "code",
   "execution_count": 9,
   "id": "5f8e5e02",
   "metadata": {},
   "outputs": [
    {
     "data": {
      "text/plain": [
       "120"
      ]
     },
     "execution_count": 9,
     "metadata": {},
     "output_type": "execute_result"
    }
   ],
   "source": [
    "def factorial(n):\n",
    "    if(n>1):\n",
    "        return n * factorial(n-1)\n",
    "    else:\n",
    "        return 1\n",
    "\n",
    "factorial(5)"
   ]
  },
  {
   "cell_type": "code",
   "execution_count": 11,
   "id": "2fcedce4",
   "metadata": {},
   "outputs": [
    {
     "data": {
      "text/plain": [
       "3628800"
      ]
     },
     "execution_count": 11,
     "metadata": {},
     "output_type": "execute_result"
    }
   ],
   "source": [
    "def f(n):\n",
    "    if n ==0 :\n",
    "        return 1\n",
    "    return n * factorial(n-1)\n",
    "\n",
    "f(10)"
   ]
  },
  {
   "cell_type": "code",
   "execution_count": 19,
   "id": "8a608f15",
   "metadata": {},
   "outputs": [
    {
     "data": {
      "text/plain": [
       "3628800"
      ]
     },
     "execution_count": 19,
     "metadata": {},
     "output_type": "execute_result"
    }
   ],
   "source": [
    "def f(n):\n",
    "    if n ==1 :\n",
    "        return 1\n",
    "    return n*f(n-1)\n",
    "\n",
    "f(10)"
   ]
  },
  {
   "cell_type": "markdown",
   "id": "8732df7a",
   "metadata": {},
   "source": [
    "#### Q50. list a의 모든 원소를 실수형으로 바꾸어 출력하세요"
   ]
  },
  {
   "cell_type": "code",
   "execution_count": 21,
   "id": "300d996b",
   "metadata": {},
   "outputs": [
    {
     "name": "stdout",
     "output_type": "stream",
     "text": [
      "[1.0, 2.0, 3.0, 4.0, 5.0]\n"
     ]
    }
   ],
   "source": [
    "a = [1,2,3,4,5]\n",
    "\n",
    "float_a = []\n",
    "for i in a:\n",
    "    float_a.append(float(i))\n",
    "    \n",
    "print(float_a)"
   ]
  },
  {
   "cell_type": "code",
   "execution_count": 13,
   "id": "e54fd513",
   "metadata": {},
   "outputs": [
    {
     "data": {
      "text/plain": [
       "[1.0, 2.0, 3.0, 4.0, 5.0]"
      ]
     },
     "execution_count": 13,
     "metadata": {},
     "output_type": "execute_result"
    }
   ],
   "source": [
    "a = [1,2,3,4,5]\n",
    "a = [float(x) for x in a]\n",
    "a"
   ]
  },
  {
   "cell_type": "code",
   "execution_count": 15,
   "id": "41ea3360",
   "metadata": {},
   "outputs": [
    {
     "data": {
      "text/plain": [
       "[1.0, 2.0, 3.0, 4.0, 5.0]"
      ]
     },
     "execution_count": 15,
     "metadata": {},
     "output_type": "execute_result"
    }
   ],
   "source": [
    "a = [1,2,3,4,5]\n",
    "for i,j in enumerate(a):\n",
    "    a[i] = float(j)\n",
    "a"
   ]
  },
  {
   "cell_type": "code",
   "execution_count": 17,
   "id": "98cbee3e",
   "metadata": {},
   "outputs": [
    {
     "data": {
      "text/plain": [
       "[1.0, 2.0, 3.0, 4.0, 5.0]"
      ]
     },
     "execution_count": 17,
     "metadata": {},
     "output_type": "execute_result"
    }
   ],
   "source": [
    "a = [1,2,3,4,5]\n",
    "list(map(lambda x:float(x),a))\n"
   ]
  },
  {
   "cell_type": "code",
   "execution_count": 18,
   "id": "78ce98e2",
   "metadata": {},
   "outputs": [
    {
     "data": {
      "text/plain": [
       "[1.0, 2.0, 3.0, 4.0, 5.0]"
      ]
     },
     "execution_count": 18,
     "metadata": {},
     "output_type": "execute_result"
    }
   ],
   "source": [
    "list(map(float,a))"
   ]
  },
  {
   "cell_type": "markdown",
   "id": "9d6e6ffc",
   "metadata": {},
   "source": [
    "#### Q31. [도전과제] 문자열 리스트 states를 정형화하여 아래와 같이 출력하세요.\n"
   ]
  },
  {
   "cell_type": "code",
   "execution_count": null,
   "id": "be41e658",
   "metadata": {},
   "outputs": [],
   "source": [
    "# Q. \n",
    "states = ['   Alabama ', 'Georgia!', 'Georgia', 'georgia', 'FlOrIda',\n",
    "          'south   carolina##', 'West virginia?']\n",
    "[출력]\n",
    "['Alabama',\n",
    " 'Georgia',\n",
    " 'Georgia',\n",
    " 'Georgia',\n",
    " 'Florida',\n",
    " 'South   Carolina',\n",
    " 'West Virginia']\n"
   ]
  },
  {
   "cell_type": "code",
   "execution_count": 12,
   "id": "6577ce6c",
   "metadata": {},
   "outputs": [
    {
     "data": {
      "text/plain": [
       "['Alabama',\n",
       " 'Georgia',\n",
       " 'Georgia',\n",
       " 'Georgia',\n",
       " 'Florida',\n",
       " 'South   Carolina',\n",
       " 'West Virginia']"
      ]
     },
     "execution_count": 12,
     "metadata": {},
     "output_type": "execute_result"
    }
   ],
   "source": [
    "states = ['   Alabama ', 'Georgia!', 'Georgia', 'georgia', 'FlOrIda',\n",
    "          'south   carolina##', 'West virginia?']\n",
    "import re\n",
    "\n",
    "def clean_strings(strings):\n",
    "    result = []\n",
    "    for value in strings:\n",
    "        value = value.strip() # 양쪽 공백 제거\n",
    "        value = re.sub('[!#?]','',value) # 특수문자 제거\n",
    "        value = value.title() # 첫글자만 대문자로 변경\n",
    "        result.append(value)\n",
    "    return result\n",
    "\n",
    "clean_strings(states)"
   ]
  },
  {
   "cell_type": "markdown",
   "id": "91455b7c",
   "metadata": {},
   "source": [
    "#### Q51. 게시물의 총 건수와 한 페이지에 보여 줄 게시물 수를 입력시 총 페이지 수를 출력하는 프로그램\n"
   ]
  },
  {
   "cell_type": "code",
   "execution_count": null,
   "id": "6fcff2f7-a477-4ca8-816e-76f98b3a4b93",
   "metadata": {},
   "outputs": [],
   "source": [
    "입력 : 총건수(m), 한페이지에 보여줄 게시물수(n) (단 n은 1보다 크거나 같다. n >= 1)\n",
    "출력 : 총페이지수"
   ]
  },
  {
   "cell_type": "code",
   "execution_count": 10,
   "id": "3e632cad-8433-4799-8ea4-3d1cd60ab35f",
   "metadata": {},
   "outputs": [
    {
     "name": "stdin",
     "output_type": "stream",
     "text": [
      "총 건수를 입력하세요:  4\n",
      "한 페이지에 보여줄 게시물 수를 입력하세요:  3\n"
     ]
    },
    {
     "name": "stdout",
     "output_type": "stream",
     "text": [
      "2\n"
     ]
    }
   ],
   "source": [
    "m = int(input(\"총 건수를 입력하세요: \"))\n",
    "n = int(input(\"한 페이지에 보여줄 게시물 수를 입력하세요: \"))\n",
    "\n",
    "pages = m//n if m % n == 0 else m // n + 1\n",
    "\n",
    "print(pages)"
   ]
  },
  {
   "cell_type": "markdown",
   "id": "e050b25d",
   "metadata": {},
   "source": [
    "#### Q52. 랜덤하게 1000명의 이름, 키와 몸무게 만들어 저장한 후 다시 불러내어 다음과 같이 출력하세요.\n",
    "\n",
    "- 이름 :라바\n",
    "- 몸무게: 80\n",
    "- 키: 146\n",
    "- BMI: 37.53049352598987\n",
    "- 결과: 과체중\n"
   ]
  },
  {
   "cell_type": "code",
   "execution_count": 1,
   "id": "b286e16e",
   "metadata": {},
   "outputs": [],
   "source": [
<<<<<<< Updated upstream
    "import random\n",
    "\n",
    "randomlist = list(\"가나다라마바사아자차카타파하\")\n",
    "\n",
    "with open(\"info.txt\",\"w\") as file:\n",
    "    for i in range(1000):\n",
    "        name = random.choice(randomlist) + random.choice(randomlist)\n",
    "        weight = random.randrange(40,100)\n",
    "        height = random.randrange(140,200)\n",
    "        \n",
    "        file.write(\"{},{},{}\\n\".format(name,weight,height))"
   ]
  },
  {
   "cell_type": "code",
   "execution_count": 2,
   "id": "beddba70-a7a0-43f7-be7a-051cef1aa9e2",
   "metadata": {},
   "outputs": [],
   "source": [
    "with open(\"info.txt\",\"r\")as file:\n",
    "    for line in file:\n",
    "        (name,weight,height) = line.strip().split(\",\")\n",
    "        \n",
    "        if (not name) or (not weight) or (not height):\n",
    "            continue\n",
    "            \n",
    "        bmi = int(weight) / (int(height) * int(height))\n",
    "        result = \"\"\n",
    "        \n",
    "        if bmi <=18.5:\n",
    "            result = \"저체중\"\n",
    "        elif bmi <= 22.9:\n",
    "            result = \"정상 체중\"\n",
    "        elif bmi <= 24.9:\n",
    "            result = \"과체중\"\n",
    "        else:\n",
    "            result = \"비만\"\n",
    "            \n",
    "        # print('\\n'.join([\n",
    "        #     \"이름: {}\",\n",
    "        #     \"몸무게: {}\",\n",
    "        #     \"키: {}\",\n",
    "        #     \"BMI: {}\",\n",
    "        #     \"결과: {}\"\n",
    "        # ]).format(name,weight,height,bmi,result))\n",
    "        # print()"
   ]
  },
  {
   "cell_type": "markdown",
   "id": "ef704821",
   "metadata": {},
   "source": [
    "#### Q.53 입력한 숫자를 천 단위로 구분하여 출력하세요(,)"
   ]
  },
  {
   "cell_type": "code",
   "execution_count": 7,
   "id": "02a7a2b2",
   "metadata": {},
   "outputs": [
    {
     "name": "stdout",
     "output_type": "stream",
     "text": [
      "숫자를 입력하세요 2472578257\n",
      "2,472,578,257\n"
     ]
    }
   ],
   "source": [
    "a = int(input(\"숫자를 입력하세요 \"))\n",
    "print(\"{:,}\".format(a))"
   ]
  },
  {
   "cell_type": "markdown",
   "id": "de817b9a",
   "metadata": {},
   "source": [
    "#### Q.54. 카운터에서 거스름돈으로 사용할 500원,100원,50원,10원짜리 동전이 무한히 존재한다고 가정한다. 손님에게 거슬러 줘야할 돈이 N원일 때, 거슬러 줘야할 동전의 최소 개수를 구하세요. 단, 거슬러 줘야 할 돈 N은 항상 10의 배수이다. N은 2750원이다."
   ]
  },
  {
   "cell_type": "code",
   "execution_count": 9,
   "id": "cbc03752",
   "metadata": {},
   "outputs": [
    {
     "name": "stdout",
     "output_type": "stream",
     "text": [
      "8\n"
     ]
    }
   ],
   "source": [
    "n = 2750\n",
    "\n",
    "count=0\n",
    "\n",
    "coin_types = [500,100,50,10]\n",
    "\n",
    "for coin in coin_types:\n",
    "    count += n // coin # 동전긔 개수\n",
    "    n %= coin  # 나머지 반환            # n -= coin *(n//coin)\n",
    "print(count)"
   ]
  },
  {
   "cell_type": "code",
   "execution_count": null,
   "id": "4424515d",
   "metadata": {},
   "outputs": [],
   "source": []
=======
    "샤랄라라라"
   ]
>>>>>>> Stashed changes
  }
 ],
 "metadata": {
  "kernelspec": {
   "display_name": "Python 3 (ipykernel)",
   "language": "python",
   "name": "python3"
  },
  "language_info": {
   "codemirror_mode": {
    "name": "ipython",
    "version": 3
   },
   "file_extension": ".py",
   "mimetype": "text/x-python",
   "name": "python",
   "nbconvert_exporter": "python",
   "pygments_lexer": "ipython3",
   "version": "3.8.13"
  },
  "toc": {
   "base_numbering": 1,
   "nav_menu": {},
   "number_sections": false,
   "sideBar": true,
   "skip_h1_title": false,
   "title_cell": "Table of Contents",
   "title_sidebar": "Contents",
   "toc_cell": false,
   "toc_position": {},
   "toc_section_display": true,
   "toc_window_display": false
  }
 },
 "nbformat": 4,
 "nbformat_minor": 5
}
