{
 "cells": [
  {
   "cell_type": "markdown",
   "id": "00dea375",
   "metadata": {},
   "source": [
    "##  random 모듈"
   ]
  },
  {
   "cell_type": "markdown",
   "id": "3ebdb5c1",
   "metadata": {},
   "source": [
    "[numpy random 함수]\n",
    "\n",
    "- np.random.seed : seed를 통한 난수 생성\n",
    "- np.random.randint : 정수 난수 1개 생성\n",
    "- np.random.rand : 0부터 1사이의 균일분포에서 난수 매트릭스 배열 생성\n",
    "- np.random.randn : 가우시안 표준 정규분포에서 난수 매트릭스 배열 생성\n",
    "- np.random.shuffle : 기존의 데이터의 순서 바꾸기\n",
    "- np.random.choice : 기존 데이터에서 sampling"
   ]
  },
  {
   "cell_type": "code",
   "execution_count": 8,
   "id": "d1ed0ffb",
   "metadata": {},
   "outputs": [
    {
     "name": "stdout",
     "output_type": "stream",
     "text": [
      "0.43569695537484754 \n",
      "\n",
      "9 \n",
      "\n",
      "10.808806840922685 \n",
      "\n",
      "4 \n",
      "\n",
      "5 \n",
      "\n",
      "[1, 3, 5] \n",
      "\n",
      "[1, 2, 3, 5, 4]\n"
     ]
    }
   ],
   "source": [
    "# [Python random 함수]\n",
    "import random\n",
    "print(random.random(),'\\n')  # 0.0 <= x < 1.0 사이 랜덤 숫자 리턴\n",
    "print(random.randint(1,10),'\\n') # 1 <= x <= 10 사이의 정수중에서 랜덤 숫자 리턴\n",
    "print(random.uniform(10,20),'\\n') # 10 <= x < 20 min, max 사이 랜덤 실수float 리턴\n",
    "print(random.randrange(10),'\\n') # 지정 범위 정수int 리턴 range(start, stop, step) \n",
    "print(random.choice([1,2,3,4,5]),'\\n') # 리스트 내부에 있는 요소중 하나를 랜덤하게 리턴\n",
    "\n",
    "li = [1,2,3,4,5]\n",
    "print(random.sample(li,3),'\\n') # 리스트 요소를 중복이 안되게 리턴, 랜덤하게 여러개 요소를 리턴\n",
    "\n",
    "random.shuffle(li) # 리스트 요소를 랜덤하게 바꿔서 리턴\n",
    "print(li)\n"
   ]
  },
  {
   "cell_type": "code",
   "execution_count": 13,
   "id": "9b866716",
   "metadata": {},
   "outputs": [
    {
     "name": "stdout",
     "output_type": "stream",
     "text": [
      "[0.28405939 0.5596481  0.64840794 0.90820183 0.91740296 0.42618793]\n"
     ]
    },
    {
     "data": {
      "text/plain": [
       "0.6239846943475841"
      ]
     },
     "execution_count": 13,
     "metadata": {},
     "output_type": "execute_result"
    }
   ],
   "source": [
    "import numpy as np\n",
    "r = np.random.rand(6) # 0 ~ 1 사이의 균일분포 n개 리턴\n",
    "print(r)\n",
    "r.mean()"
   ]
  },
  {
   "cell_type": "code",
   "execution_count": 15,
   "id": "8d29f8f6",
   "metadata": {},
   "outputs": [
    {
     "name": "stdout",
     "output_type": "stream",
     "text": [
      "[[0.62878026 0.88940752]\n",
      " [0.50260493 0.28853099]\n",
      " [0.960278   0.79180391]]\n"
     ]
    }
   ],
   "source": [
    "r = np.random.rand(3,2)\n",
    "print(r)"
   ]
  },
  {
   "cell_type": "code",
   "execution_count": 20,
   "id": "167b29b8",
   "metadata": {},
   "outputs": [
    {
     "name": "stdout",
     "output_type": "stream",
     "text": [
      "[-2.36371831  0.87786405  0.05587937 ... -1.44508904  0.08751418\n",
      " -0.70904963]\n"
     ]
    },
    {
     "data": {
      "text/plain": [
       "-0.004800522990744399"
      ]
     },
     "execution_count": 20,
     "metadata": {},
     "output_type": "execute_result"
    }
   ],
   "source": [
    "# 표준 정규분포\n",
    "r = np.random.randn(10000) # 평균0, 표준편차1의 표준정규분포 랜덤값 리턴\n",
    "print(r)\n",
    "r.mean()"
   ]
  },
  {
   "cell_type": "code",
   "execution_count": 21,
   "id": "39f53408",
   "metadata": {},
   "outputs": [
    {
     "name": "stdout",
     "output_type": "stream",
     "text": [
      "[[ 0.29346328  0.40878205]\n",
      " [-0.85854465  3.13907842]\n",
      " [ 0.82762906  0.59169822]]\n"
     ]
    }
   ],
   "source": [
    "r = np.random.randn(3,2)\n",
    "print(r)"
   ]
  },
  {
   "cell_type": "code",
   "execution_count": 23,
   "id": "88158093",
   "metadata": {},
   "outputs": [
    {
     "data": {
      "text/plain": [
       "array([1.09825855, 1.22641844, 1.65565581, 1.9705612 , 1.45112595,\n",
       "       1.77412686, 1.09999548, 1.2295434 , 1.09130277, 1.3078254 ])"
      ]
     },
     "execution_count": 23,
     "metadata": {},
     "output_type": "execute_result"
    }
   ],
   "source": [
    "np.random.uniform(1.0,2.0,10)"
   ]
  },
  {
   "cell_type": "code",
   "execution_count": 24,
   "id": "5363758f",
   "metadata": {},
   "outputs": [
    {
     "data": {
      "text/plain": [
       "array([[0.49371126, 0.68140907, 0.71109094],\n",
       "       [0.86939542, 0.12181013, 0.16043675]])"
      ]
     },
     "execution_count": 24,
     "metadata": {},
     "output_type": "execute_result"
    }
   ],
   "source": [
    "np.random.uniform(0,1,(2,3))"
   ]
  },
  {
   "cell_type": "code",
   "execution_count": 25,
   "id": "35a5e67e",
   "metadata": {},
   "outputs": [
    {
     "data": {
      "text/plain": [
       "array([[0.68547895, 0.35702531, 0.40492716],\n",
       "       [0.68889227, 0.99203128, 0.68940035]])"
      ]
     },
     "execution_count": 25,
     "metadata": {},
     "output_type": "execute_result"
    }
   ],
   "source": [
    "# 0 ~ 1 사이의 난수 실수값으로 행렬 생성\n",
    "# uniform 함수의 최소값, 최대값을 0,1로 지정한 것과 같음\n",
    "np.random.random_sample((2,3))"
   ]
  },
  {
   "cell_type": "code",
   "execution_count": 26,
   "id": "a0a50bf1",
   "metadata": {},
   "outputs": [
    {
     "data": {
      "text/plain": [
       "array([[0.29030593, 0.80126116, 0.94549547, 0.6213129 , 0.42969755,\n",
       "        0.46600409, 0.43565828, 0.65247778],\n",
       "       [0.98947513, 0.37481248, 0.15146338, 0.51323404, 0.74312743,\n",
       "        0.92260555, 0.31324676, 0.03764819],\n",
       "       [0.87144673, 0.74838088, 0.04179315, 0.17083382, 0.27778844,\n",
       "        0.19871599, 0.89721841, 0.93405799],\n",
       "       [0.99553294, 0.95771243, 0.09481273, 0.45686037, 0.53960479,\n",
       "        0.86390832, 0.4772182 , 0.90845488]])"
      ]
     },
     "execution_count": 26,
     "metadata": {},
     "output_type": "execute_result"
    }
   ],
   "source": [
    "import pandas as pd\n",
    "ar = np.random.rand(4,8) # 0 ~ 1 의 균일분포 표준정규분포 난수를 반환\n",
    "ar"
   ]
  },
  {
   "cell_type": "code",
   "execution_count": 72,
   "id": "d03000af",
   "metadata": {},
   "outputs": [
    {
     "data": {
      "text/html": [
       "<div>\n",
       "<style scoped>\n",
       "    .dataframe tbody tr th:only-of-type {\n",
       "        vertical-align: middle;\n",
       "    }\n",
       "\n",
       "    .dataframe tbody tr th {\n",
       "        vertical-align: top;\n",
       "    }\n",
       "\n",
       "    .dataframe thead th {\n",
       "        text-align: right;\n",
       "    }\n",
       "</style>\n",
       "<table border=\"1\" class=\"dataframe\">\n",
       "  <thead>\n",
       "    <tr style=\"text-align: right;\">\n",
       "      <th></th>\n",
       "      <th>id</th>\n",
       "      <th>gender</th>\n",
       "      <th>age</th>\n",
       "      <th>region</th>\n",
       "      <th>product</th>\n",
       "      <th>price</th>\n",
       "      <th>qty</th>\n",
       "      <th>time</th>\n",
       "    </tr>\n",
       "  </thead>\n",
       "  <tbody>\n",
       "    <tr>\n",
       "      <th>0</th>\n",
       "      <td>0.290306</td>\n",
       "      <td>0.801261</td>\n",
       "      <td>0.945495</td>\n",
       "      <td>0.621313</td>\n",
       "      <td>0.429698</td>\n",
       "      <td>0.466004</td>\n",
       "      <td>0.435658</td>\n",
       "      <td>0.652478</td>\n",
       "    </tr>\n",
       "    <tr>\n",
       "      <th>1</th>\n",
       "      <td>0.989475</td>\n",
       "      <td>0.374812</td>\n",
       "      <td>0.151463</td>\n",
       "      <td>0.513234</td>\n",
       "      <td>0.743127</td>\n",
       "      <td>0.922606</td>\n",
       "      <td>0.313247</td>\n",
       "      <td>0.037648</td>\n",
       "    </tr>\n",
       "    <tr>\n",
       "      <th>2</th>\n",
       "      <td>0.871447</td>\n",
       "      <td>0.748381</td>\n",
       "      <td>0.041793</td>\n",
       "      <td>0.170834</td>\n",
       "      <td>0.277788</td>\n",
       "      <td>0.198716</td>\n",
       "      <td>0.897218</td>\n",
       "      <td>0.934058</td>\n",
       "    </tr>\n",
       "    <tr>\n",
       "      <th>3</th>\n",
       "      <td>0.995533</td>\n",
       "      <td>0.957712</td>\n",
       "      <td>0.094813</td>\n",
       "      <td>0.456860</td>\n",
       "      <td>0.539605</td>\n",
       "      <td>0.863908</td>\n",
       "      <td>0.477218</td>\n",
       "      <td>0.908455</td>\n",
       "    </tr>\n",
       "  </tbody>\n",
       "</table>\n",
       "</div>"
      ],
      "text/plain": [
       "         id    gender       age    region   product     price       qty  \\\n",
       "0  0.290306  0.801261  0.945495  0.621313  0.429698  0.466004  0.435658   \n",
       "1  0.989475  0.374812  0.151463  0.513234  0.743127  0.922606  0.313247   \n",
       "2  0.871447  0.748381  0.041793  0.170834  0.277788  0.198716  0.897218   \n",
       "3  0.995533  0.957712  0.094813  0.456860  0.539605  0.863908  0.477218   \n",
       "\n",
       "       time  \n",
       "0  0.652478  \n",
       "1  0.037648  \n",
       "2  0.934058  \n",
       "3  0.908455  "
      ]
     },
     "execution_count": 72,
     "metadata": {},
     "output_type": "execute_result"
    }
   ],
   "source": [
    "# 배열을 df로 변환\n",
    "# columns 8개에 대한 이름\n",
    "\n",
    "df = pd.DataFrame(ar, columns = ['id','gender','age','region','product','price','qty','time'] )\n",
    "df"
   ]
  },
  {
   "cell_type": "code",
   "execution_count": null,
   "id": "71fb9059",
   "metadata": {},
   "outputs": [],
   "source": [
    "# Q. id, gender, age 컬럼에 대하여 의미있는 값으로 변환하여 3개의 컬럼으로 구성된 df3을 출력하세요."
   ]
  },
  {
   "cell_type": "code",
   "execution_count": 73,
   "id": "4fec0441",
   "metadata": {},
   "outputs": [
    {
     "data": {
      "text/html": [
       "<div>\n",
       "<style scoped>\n",
       "    .dataframe tbody tr th:only-of-type {\n",
       "        vertical-align: middle;\n",
       "    }\n",
       "\n",
       "    .dataframe tbody tr th {\n",
       "        vertical-align: top;\n",
       "    }\n",
       "\n",
       "    .dataframe thead th {\n",
       "        text-align: right;\n",
       "    }\n",
       "</style>\n",
       "<table border=\"1\" class=\"dataframe\">\n",
       "  <thead>\n",
       "    <tr style=\"text-align: right;\">\n",
       "      <th></th>\n",
       "      <th>id</th>\n",
       "      <th>gender</th>\n",
       "      <th>age</th>\n",
       "      <th>region</th>\n",
       "      <th>product</th>\n",
       "      <th>price</th>\n",
       "      <th>qty</th>\n",
       "      <th>time</th>\n",
       "    </tr>\n",
       "  </thead>\n",
       "  <tbody>\n",
       "    <tr>\n",
       "      <th>0</th>\n",
       "      <td>50</td>\n",
       "      <td>0.801261</td>\n",
       "      <td>0.945495</td>\n",
       "      <td>0.621313</td>\n",
       "      <td>0.429698</td>\n",
       "      <td>0.466004</td>\n",
       "      <td>0.435658</td>\n",
       "      <td>0.652478</td>\n",
       "    </tr>\n",
       "    <tr>\n",
       "      <th>1</th>\n",
       "      <td>30</td>\n",
       "      <td>0.374812</td>\n",
       "      <td>0.151463</td>\n",
       "      <td>0.513234</td>\n",
       "      <td>0.743127</td>\n",
       "      <td>0.922606</td>\n",
       "      <td>0.313247</td>\n",
       "      <td>0.037648</td>\n",
       "    </tr>\n",
       "    <tr>\n",
       "      <th>2</th>\n",
       "      <td>15</td>\n",
       "      <td>0.748381</td>\n",
       "      <td>0.041793</td>\n",
       "      <td>0.170834</td>\n",
       "      <td>0.277788</td>\n",
       "      <td>0.198716</td>\n",
       "      <td>0.897218</td>\n",
       "      <td>0.934058</td>\n",
       "    </tr>\n",
       "    <tr>\n",
       "      <th>3</th>\n",
       "      <td>24</td>\n",
       "      <td>0.957712</td>\n",
       "      <td>0.094813</td>\n",
       "      <td>0.456860</td>\n",
       "      <td>0.539605</td>\n",
       "      <td>0.863908</td>\n",
       "      <td>0.477218</td>\n",
       "      <td>0.908455</td>\n",
       "    </tr>\n",
       "  </tbody>\n",
       "</table>\n",
       "</div>"
      ],
      "text/plain": [
       "   id    gender       age    region   product     price       qty      time\n",
       "0  50  0.801261  0.945495  0.621313  0.429698  0.466004  0.435658  0.652478\n",
       "1  30  0.374812  0.151463  0.513234  0.743127  0.922606  0.313247  0.037648\n",
       "2  15  0.748381  0.041793  0.170834  0.277788  0.198716  0.897218  0.934058\n",
       "3  24  0.957712  0.094813  0.456860  0.539605  0.863908  0.477218  0.908455"
      ]
     },
     "execution_count": 73,
     "metadata": {},
     "output_type": "execute_result"
    }
   ],
   "source": [
    "df['id']=np.random.randint(10,99,4)\n",
    "df"
   ]
  },
  {
   "cell_type": "code",
   "execution_count": 74,
   "id": "8204ce9b",
   "metadata": {},
   "outputs": [
    {
     "data": {
      "text/html": [
       "<div>\n",
       "<style scoped>\n",
       "    .dataframe tbody tr th:only-of-type {\n",
       "        vertical-align: middle;\n",
       "    }\n",
       "\n",
       "    .dataframe tbody tr th {\n",
       "        vertical-align: top;\n",
       "    }\n",
       "\n",
       "    .dataframe thead th {\n",
       "        text-align: right;\n",
       "    }\n",
       "</style>\n",
       "<table border=\"1\" class=\"dataframe\">\n",
       "  <thead>\n",
       "    <tr style=\"text-align: right;\">\n",
       "      <th></th>\n",
       "      <th>id</th>\n",
       "      <th>gender</th>\n",
       "      <th>age</th>\n",
       "      <th>region</th>\n",
       "      <th>product</th>\n",
       "      <th>price</th>\n",
       "      <th>qty</th>\n",
       "      <th>time</th>\n",
       "    </tr>\n",
       "  </thead>\n",
       "  <tbody>\n",
       "    <tr>\n",
       "      <th>0</th>\n",
       "      <td>50</td>\n",
       "      <td>male</td>\n",
       "      <td>0.945495</td>\n",
       "      <td>0.621313</td>\n",
       "      <td>0.429698</td>\n",
       "      <td>0.466004</td>\n",
       "      <td>0.435658</td>\n",
       "      <td>0.652478</td>\n",
       "    </tr>\n",
       "    <tr>\n",
       "      <th>1</th>\n",
       "      <td>30</td>\n",
       "      <td>female</td>\n",
       "      <td>0.151463</td>\n",
       "      <td>0.513234</td>\n",
       "      <td>0.743127</td>\n",
       "      <td>0.922606</td>\n",
       "      <td>0.313247</td>\n",
       "      <td>0.037648</td>\n",
       "    </tr>\n",
       "    <tr>\n",
       "      <th>2</th>\n",
       "      <td>15</td>\n",
       "      <td>female</td>\n",
       "      <td>0.041793</td>\n",
       "      <td>0.170834</td>\n",
       "      <td>0.277788</td>\n",
       "      <td>0.198716</td>\n",
       "      <td>0.897218</td>\n",
       "      <td>0.934058</td>\n",
       "    </tr>\n",
       "    <tr>\n",
       "      <th>3</th>\n",
       "      <td>24</td>\n",
       "      <td>male</td>\n",
       "      <td>0.094813</td>\n",
       "      <td>0.456860</td>\n",
       "      <td>0.539605</td>\n",
       "      <td>0.863908</td>\n",
       "      <td>0.477218</td>\n",
       "      <td>0.908455</td>\n",
       "    </tr>\n",
       "  </tbody>\n",
       "</table>\n",
       "</div>"
      ],
      "text/plain": [
       "   id  gender       age    region   product     price       qty      time\n",
       "0  50    male  0.945495  0.621313  0.429698  0.466004  0.435658  0.652478\n",
       "1  30  female  0.151463  0.513234  0.743127  0.922606  0.313247  0.037648\n",
       "2  15  female  0.041793  0.170834  0.277788  0.198716  0.897218  0.934058\n",
       "3  24    male  0.094813  0.456860  0.539605  0.863908  0.477218  0.908455"
      ]
     },
     "execution_count": 74,
     "metadata": {},
     "output_type": "execute_result"
    }
   ],
   "source": [
    "df.gender = np.random.choice(['male','female'],4)\n",
    "df"
   ]
  },
  {
   "cell_type": "code",
   "execution_count": 112,
   "id": "b885a6fa",
   "metadata": {
    "scrolled": true
   },
   "outputs": [
    {
     "data": {
      "text/html": [
       "<div>\n",
       "<style scoped>\n",
       "    .dataframe tbody tr th:only-of-type {\n",
       "        vertical-align: middle;\n",
       "    }\n",
       "\n",
       "    .dataframe tbody tr th {\n",
       "        vertical-align: top;\n",
       "    }\n",
       "\n",
       "    .dataframe thead th {\n",
       "        text-align: right;\n",
       "    }\n",
       "</style>\n",
       "<table border=\"1\" class=\"dataframe\">\n",
       "  <thead>\n",
       "    <tr style=\"text-align: right;\">\n",
       "      <th></th>\n",
       "      <th>id</th>\n",
       "      <th>gender</th>\n",
       "      <th>age</th>\n",
       "      <th>region</th>\n",
       "      <th>product</th>\n",
       "      <th>price</th>\n",
       "      <th>qty</th>\n",
       "      <th>time</th>\n",
       "    </tr>\n",
       "  </thead>\n",
       "  <tbody>\n",
       "    <tr>\n",
       "      <th>0</th>\n",
       "      <td>50</td>\n",
       "      <td>0</td>\n",
       "      <td>0.945495</td>\n",
       "      <td>0.621313</td>\n",
       "      <td>0.429698</td>\n",
       "      <td>0.466004</td>\n",
       "      <td>0.435658</td>\n",
       "      <td>0.652478</td>\n",
       "    </tr>\n",
       "    <tr>\n",
       "      <th>1</th>\n",
       "      <td>30</td>\n",
       "      <td>0</td>\n",
       "      <td>0.151463</td>\n",
       "      <td>0.513234</td>\n",
       "      <td>0.743127</td>\n",
       "      <td>0.922606</td>\n",
       "      <td>0.313247</td>\n",
       "      <td>0.037648</td>\n",
       "    </tr>\n",
       "    <tr>\n",
       "      <th>2</th>\n",
       "      <td>15</td>\n",
       "      <td>0</td>\n",
       "      <td>0.041793</td>\n",
       "      <td>0.170834</td>\n",
       "      <td>0.277788</td>\n",
       "      <td>0.198716</td>\n",
       "      <td>0.897218</td>\n",
       "      <td>0.934058</td>\n",
       "    </tr>\n",
       "    <tr>\n",
       "      <th>3</th>\n",
       "      <td>24</td>\n",
       "      <td>1</td>\n",
       "      <td>0.094813</td>\n",
       "      <td>0.456860</td>\n",
       "      <td>0.539605</td>\n",
       "      <td>0.863908</td>\n",
       "      <td>0.477218</td>\n",
       "      <td>0.908455</td>\n",
       "    </tr>\n",
       "  </tbody>\n",
       "</table>\n",
       "</div>"
      ],
      "text/plain": [
       "   id  gender       age    region   product     price       qty      time\n",
       "0  50       0  0.945495  0.621313  0.429698  0.466004  0.435658  0.652478\n",
       "1  30       0  0.151463  0.513234  0.743127  0.922606  0.313247  0.037648\n",
       "2  15       0  0.041793  0.170834  0.277788  0.198716  0.897218  0.934058\n",
       "3  24       1  0.094813  0.456860  0.539605  0.863908  0.477218  0.908455"
      ]
     },
     "execution_count": 112,
     "metadata": {},
     "output_type": "execute_result"
    }
   ],
   "source": [
    "df['gender']=np.random.randint(0,2,4)\n",
    "df"
   ]
  },
  {
   "cell_type": "code",
   "execution_count": 69,
   "id": "789a891b",
   "metadata": {},
   "outputs": [
    {
     "data": {
      "text/html": [
       "<div>\n",
       "<style scoped>\n",
       "    .dataframe tbody tr th:only-of-type {\n",
       "        vertical-align: middle;\n",
       "    }\n",
       "\n",
       "    .dataframe tbody tr th {\n",
       "        vertical-align: top;\n",
       "    }\n",
       "\n",
       "    .dataframe thead th {\n",
       "        text-align: right;\n",
       "    }\n",
       "</style>\n",
       "<table border=\"1\" class=\"dataframe\">\n",
       "  <thead>\n",
       "    <tr style=\"text-align: right;\">\n",
       "      <th></th>\n",
       "      <th>id</th>\n",
       "      <th>gender</th>\n",
       "      <th>age</th>\n",
       "      <th>region</th>\n",
       "      <th>product</th>\n",
       "      <th>price</th>\n",
       "      <th>qty</th>\n",
       "      <th>time</th>\n",
       "    </tr>\n",
       "  </thead>\n",
       "  <tbody>\n",
       "    <tr>\n",
       "      <th>0</th>\n",
       "      <td>0.290306</td>\n",
       "      <td>0</td>\n",
       "      <td>39</td>\n",
       "      <td>0.621313</td>\n",
       "      <td>0.429698</td>\n",
       "      <td>0.466004</td>\n",
       "      <td>0.435658</td>\n",
       "      <td>0.652478</td>\n",
       "    </tr>\n",
       "    <tr>\n",
       "      <th>1</th>\n",
       "      <td>0.989475</td>\n",
       "      <td>0</td>\n",
       "      <td>58</td>\n",
       "      <td>0.513234</td>\n",
       "      <td>0.743127</td>\n",
       "      <td>0.922606</td>\n",
       "      <td>0.313247</td>\n",
       "      <td>0.037648</td>\n",
       "    </tr>\n",
       "    <tr>\n",
       "      <th>2</th>\n",
       "      <td>0.871447</td>\n",
       "      <td>0</td>\n",
       "      <td>72</td>\n",
       "      <td>0.170834</td>\n",
       "      <td>0.277788</td>\n",
       "      <td>0.198716</td>\n",
       "      <td>0.897218</td>\n",
       "      <td>0.934058</td>\n",
       "    </tr>\n",
       "    <tr>\n",
       "      <th>3</th>\n",
       "      <td>0.995533</td>\n",
       "      <td>0</td>\n",
       "      <td>27</td>\n",
       "      <td>0.456860</td>\n",
       "      <td>0.539605</td>\n",
       "      <td>0.863908</td>\n",
       "      <td>0.477218</td>\n",
       "      <td>0.908455</td>\n",
       "    </tr>\n",
       "  </tbody>\n",
       "</table>\n",
       "</div>"
      ],
      "text/plain": [
       "         id  gender  age    region   product     price       qty      time\n",
       "0  0.290306       0   39  0.621313  0.429698  0.466004  0.435658  0.652478\n",
       "1  0.989475       0   58  0.513234  0.743127  0.922606  0.313247  0.037648\n",
       "2  0.871447       0   72  0.170834  0.277788  0.198716  0.897218  0.934058\n",
       "3  0.995533       0   27  0.456860  0.539605  0.863908  0.477218  0.908455"
      ]
     },
     "execution_count": 69,
     "metadata": {},
     "output_type": "execute_result"
    }
   ],
   "source": [
    "df['age']=np.random.randint(1,100,4)\n",
    "df"
   ]
  },
  {
   "cell_type": "code",
   "execution_count": 76,
   "id": "23a963e7",
   "metadata": {
    "scrolled": true
   },
   "outputs": [
    {
     "data": {
      "text/html": [
       "<div>\n",
       "<style scoped>\n",
       "    .dataframe tbody tr th:only-of-type {\n",
       "        vertical-align: middle;\n",
       "    }\n",
       "\n",
       "    .dataframe tbody tr th {\n",
       "        vertical-align: top;\n",
       "    }\n",
       "\n",
       "    .dataframe thead th {\n",
       "        text-align: right;\n",
       "    }\n",
       "</style>\n",
       "<table border=\"1\" class=\"dataframe\">\n",
       "  <thead>\n",
       "    <tr style=\"text-align: right;\">\n",
       "      <th></th>\n",
       "      <th>id</th>\n",
       "      <th>gender</th>\n",
       "      <th>age</th>\n",
       "    </tr>\n",
       "  </thead>\n",
       "  <tbody>\n",
       "    <tr>\n",
       "      <th>0</th>\n",
       "      <td>50</td>\n",
       "      <td>0</td>\n",
       "      <td>0.945495</td>\n",
       "    </tr>\n",
       "    <tr>\n",
       "      <th>1</th>\n",
       "      <td>30</td>\n",
       "      <td>0</td>\n",
       "      <td>0.151463</td>\n",
       "    </tr>\n",
       "    <tr>\n",
       "      <th>2</th>\n",
       "      <td>15</td>\n",
       "      <td>0</td>\n",
       "      <td>0.041793</td>\n",
       "    </tr>\n",
       "    <tr>\n",
       "      <th>3</th>\n",
       "      <td>24</td>\n",
       "      <td>0</td>\n",
       "      <td>0.094813</td>\n",
       "    </tr>\n",
       "  </tbody>\n",
       "</table>\n",
       "</div>"
      ],
      "text/plain": [
       "   id  gender       age\n",
       "0  50       0  0.945495\n",
       "1  30       0  0.151463\n",
       "2  15       0  0.041793\n",
       "3  24       0  0.094813"
      ]
     },
     "execution_count": 76,
     "metadata": {},
     "output_type": "execute_result"
    }
   ],
   "source": [
    "df3 = df[['id','gender','age']]\n",
    "df3"
   ]
  },
  {
   "cell_type": "markdown",
   "id": "6004ceb3",
   "metadata": {},
   "source": [
    "## 집합 함수"
   ]
  },
  {
   "cell_type": "code",
   "execution_count": 80,
   "id": "d0dae6e1",
   "metadata": {},
   "outputs": [
    {
     "data": {
      "text/plain": [
       "0.02456044691358048"
      ]
     },
     "execution_count": 80,
     "metadata": {},
     "output_type": "execute_result"
    }
   ],
   "source": [
    "# 배열에서 정렬한 후 50%에 해당하는 원소만 출력\n",
    "# 0에 가까운 값을 반환한다.\n",
    "large_ar = np.random.randn(1000)\n",
    "large_ar.sort()\n",
    "large_ar[int(0.5*len(large_ar))]"
   ]
  },
  {
   "cell_type": "code",
   "execution_count": 82,
   "id": "177b86e8",
   "metadata": {},
   "outputs": [
    {
     "data": {
      "text/plain": [
       "array(['Bob', 'Joe', 'Will'], dtype='<U4')"
      ]
     },
     "execution_count": 82,
     "metadata": {},
     "output_type": "execute_result"
    }
   ],
   "source": [
    "# np.unique(x) : 배열 내 중복된 원소 제거 후 유일한 원소를 정렬하여 반환\n",
    "# 배열 집합 연산 \n",
    "names = np.array(['Bob','Joe','Will','Joe','Joe'])\n",
    "np.unique(names)"
   ]
  },
  {
   "cell_type": "code",
   "execution_count": 83,
   "id": "beb980ef",
   "metadata": {},
   "outputs": [
    {
     "data": {
      "text/plain": [
       "['Bob', 'Joe', 'Will']"
      ]
     },
     "execution_count": 83,
     "metadata": {},
     "output_type": "execute_result"
    }
   ],
   "source": [
    "names = np.array(['Bob','Joe','Will','Joe','Joe'])\n",
    "sorted(set(names))"
   ]
  },
  {
   "cell_type": "code",
   "execution_count": 85,
   "id": "168ae594",
   "metadata": {},
   "outputs": [
    {
     "data": {
      "text/plain": [
       "array([False, False, False,  True,  True,  True, False])"
      ]
     },
     "execution_count": 85,
     "metadata": {},
     "output_type": "execute_result"
    }
   ],
   "source": [
    "# in1d(x, y) : 첫번째 배열 x가 두번째 배열 y의 원소를 포함하고 있는지 여부의 불리언 배열을 반환\n",
    "values = np.array([6,0,0,3,2,5,6])\n",
    "np.in1d(values,[2,3,5])"
   ]
  },
  {
   "cell_type": "markdown",
   "id": "a5a69a1f",
   "metadata": {},
   "source": [
    "## 배열 데이터의 입출력"
   ]
  },
  {
   "cell_type": "code",
   "execution_count": 84,
   "id": "9dd5fc11",
   "metadata": {},
   "outputs": [],
   "source": [
    "# np.save() : 1개의 배열을 NumPy format의 바이너리 파일로 저장하기\n",
    "ar = np.arange(10)\n",
    "np.save('some_ar',ar)"
   ]
  },
  {
   "cell_type": "code",
   "execution_count": 86,
   "id": "37d5e3f5",
   "metadata": {},
   "outputs": [
    {
     "data": {
      "text/plain": [
       "array([0, 1, 2, 3, 4, 5, 6, 7, 8, 9])"
      ]
     },
     "execution_count": 86,
     "metadata": {},
     "output_type": "execute_result"
    }
   ],
   "source": [
    "# np.load() : np.save()로 저장된 *.npy 파일을 배열로 불러오기\n",
    "np.load('some_ar.npy')"
   ]
  },
  {
   "cell_type": "code",
   "execution_count": 87,
   "id": "6bf4b42a",
   "metadata": {},
   "outputs": [],
   "source": [
    "# np.savez : 여러개의 배열을 압축된 형식으로 저장\n",
    "# np.savez() : 여러개의 배열을 1개의 압축되지 않은 *.npz 포맷 파일로 저장하기\n",
    "np.savez('ar_archive.npz',a=ar,b=ar)"
   ]
  },
  {
   "cell_type": "code",
   "execution_count": 91,
   "id": "4ab7f38c",
   "metadata": {},
   "outputs": [
    {
     "data": {
      "text/plain": [
       "array([0, 1, 2, 3, 4, 5, 6, 7, 8, 9])"
      ]
     },
     "execution_count": 91,
     "metadata": {},
     "output_type": "execute_result"
    }
   ],
   "source": [
    "# np.savez()로 저장된 *.npz 파일을 배열로 불러오기\n",
    "arch = np.load('ar_archive.npz')\n",
    "arch['a']"
   ]
  },
  {
   "cell_type": "markdown",
   "id": "34738748",
   "metadata": {},
   "source": [
    "## 배열 정렬"
   ]
  },
  {
   "cell_type": "code",
   "execution_count": 94,
   "id": "5574e477",
   "metadata": {},
   "outputs": [
    {
     "name": "stdout",
     "output_type": "stream",
     "text": [
      "[1 2 3 4 5 6 7 8 9]\n"
     ]
    },
    {
     "data": {
      "text/plain": [
       "array([0, 1, 2, 3, 4, 5, 6, 7, 8], dtype=int64)"
      ]
     },
     "execution_count": 94,
     "metadata": {},
     "output_type": "execute_result"
    }
   ],
   "source": [
    "a = np.arange(1,10)\n",
    "print(a)\n",
    "# np.argsort(a) : np.argsort() 로 index를 받아서 indexing 해오기"
   ]
  },
  {
   "cell_type": "code",
   "execution_count": 95,
   "id": "63d4b1df",
   "metadata": {},
   "outputs": [
    {
     "data": {
      "text/plain": [
       "array([8, 7, 6, 5, 4, 3, 2, 1, 0], dtype=int64)"
      ]
     },
     "execution_count": 95,
     "metadata": {},
     "output_type": "execute_result"
    }
   ],
   "source": [
    "# 인덱스 배열을 역순으로 출력 \n",
    "# [시작 인덱스 : 끝 인덱스 : step]\n",
    "np.argsort(a)[::-1]"
   ]
  },
  {
   "cell_type": "markdown",
   "id": "a8e9f541",
   "metadata": {},
   "source": [
    "## 도전과제(7/6)"
   ]
  },
  {
   "cell_type": "code",
   "execution_count": 237,
   "id": "9c29b75b",
   "metadata": {
    "scrolled": true
   },
   "outputs": [
    {
     "data": {
      "text/plain": [
       "array([[[  0,   1,   2,   3,   4,   5,   6,   7],\n",
       "        [  8,   9,  10,  11,  12,  13,  14,  15],\n",
       "        [ 16,  17,  18,  19,  20,  21,  22,  23],\n",
       "        [ 24,  25,  26,  27,  28,  29,  30,  31],\n",
       "        [ 32,  33,  34,  35,  36,  37,  38,  39],\n",
       "        [ 40,  41,  42,  43,  44,  45,  46,  47],\n",
       "        [ 48,  49,  50,  51,  52,  53,  54,  55]],\n",
       "\n",
       "       [[ 56,  57,  58,  59,  60,  61,  62,  63],\n",
       "        [ 64,  65,  66,  67,  68,  69,  70,  71],\n",
       "        [ 72,  73,  74,  75,  76,  77,  78,  79],\n",
       "        [ 80,  81,  82,  83,  84,  85,  86,  87],\n",
       "        [ 88,  89,  90,  91,  92,  93,  94,  95],\n",
       "        [ 96,  97,  98,  99, 100, 101, 102, 103],\n",
       "        [104, 105, 106, 107, 108, 109, 110, 111]],\n",
       "\n",
       "       [[112, 113, 114, 115, 116, 117, 118, 119],\n",
       "        [120, 121, 122, 123, 124, 125, 126, 127],\n",
       "        [128, 129, 130, 131, 132, 133, 134, 135],\n",
       "        [136, 137, 138, 139, 140, 141, 142, 143],\n",
       "        [144, 145, 146, 147, 148, 149, 150, 151],\n",
       "        [152, 153, 154, 155, 156, 157, 158, 159],\n",
       "        [160, 161, 162, 163, 164, 165, 166, 167]],\n",
       "\n",
       "       [[168, 169, 170, 171, 172, 173, 174, 175],\n",
       "        [176, 177, 178, 179, 180, 181, 182, 183],\n",
       "        [184, 185, 186, 187, 188, 189, 190, 191],\n",
       "        [192, 193, 194, 195, 196, 197, 198, 199],\n",
       "        [200, 201, 202, 203, 204, 205, 206, 207],\n",
       "        [208, 209, 210, 211, 212, 213, 214, 215],\n",
       "        [216, 217, 218, 219, 220, 221, 222, 223]],\n",
       "\n",
       "       [[224, 225, 226, 227, 228, 229, 230, 231],\n",
       "        [232, 233, 234, 235, 236, 237, 238, 239],\n",
       "        [240, 241, 242, 243, 244, 245, 246, 247],\n",
       "        [248, 249, 250, 251, 252, 253, 254, 255],\n",
       "        [256, 257, 258, 259, 260, 261, 262, 263],\n",
       "        [264, 265, 266, 267, 268, 269, 270, 271],\n",
       "        [272, 273, 274, 275, 276, 277, 278, 279]],\n",
       "\n",
       "       [[280, 281, 282, 283, 284, 285, 286, 287],\n",
       "        [288, 289, 290, 291, 292, 293, 294, 295],\n",
       "        [296, 297, 298, 299, 300, 301, 302, 303],\n",
       "        [304, 305, 306, 307, 308, 309, 310, 311],\n",
       "        [312, 313, 314, 315, 316, 317, 318, 319],\n",
       "        [320, 321, 322, 323, 324, 325, 326, 327],\n",
       "        [328, 329, 330, 331, 332, 333, 334, 335]]])"
      ]
     },
     "execution_count": 237,
     "metadata": {},
     "output_type": "execute_result"
    }
   ],
   "source": [
    "# np.arange(336)reshape(6,7,8)에서 100번째 요소의 인덱스를 구하세요.\n",
    "a = np.arange(336).reshape(6,7,8)\n",
    "a"
   ]
  },
  {
   "cell_type": "code",
   "execution_count": 239,
   "id": "3dffe560",
   "metadata": {},
   "outputs": [
    {
     "ename": "IndexError",
     "evalue": "index 100 is out of bounds for axis 0 with size 6",
     "output_type": "error",
     "traceback": [
      "\u001b[1;31m---------------------------------------------------------------------------\u001b[0m",
      "\u001b[1;31mIndexError\u001b[0m                                Traceback (most recent call last)",
      "Input \u001b[1;32mIn [239]\u001b[0m, in \u001b[0;36m<cell line: 1>\u001b[1;34m()\u001b[0m\n\u001b[1;32m----> 1\u001b[0m np\u001b[38;5;241m.\u001b[39mwhere(a\u001b[38;5;241m==\u001b[39m\u001b[43ma\u001b[49m\u001b[43m[\u001b[49m\u001b[38;5;241;43m100\u001b[39;49m\u001b[43m]\u001b[49m)\n",
      "\u001b[1;31mIndexError\u001b[0m: index 100 is out of bounds for axis 0 with size 6"
     ]
    }
   ],
   "source": [
    "np.where(a==a[100])"
   ]
  },
  {
   "cell_type": "code",
   "execution_count": 236,
   "id": "8e28840e",
   "metadata": {},
   "outputs": [
    {
     "ename": "ValueError",
     "evalue": "100 is not in list",
     "output_type": "error",
     "traceback": [
      "\u001b[1;31m---------------------------------------------------------------------------\u001b[0m",
      "\u001b[1;31mValueError\u001b[0m                                Traceback (most recent call last)",
      "Input \u001b[1;32mIn [236]\u001b[0m, in \u001b[0;36m<cell line: 1>\u001b[1;34m()\u001b[0m\n\u001b[1;32m----> 1\u001b[0m \u001b[38;5;28mprint\u001b[39m(\u001b[43ma\u001b[49m\u001b[38;5;241;43m.\u001b[39;49m\u001b[43mtolist\u001b[49m\u001b[43m(\u001b[49m\u001b[43m)\u001b[49m\u001b[38;5;241;43m.\u001b[39;49m\u001b[43mindex\u001b[49m\u001b[43m(\u001b[49m\u001b[38;5;241;43m100\u001b[39;49m\u001b[43m)\u001b[49m)\n",
      "\u001b[1;31mValueError\u001b[0m: 100 is not in list"
     ]
    }
   ],
   "source": [
    "print(a.tolist().index(100))"
   ]
  },
  {
   "cell_type": "code",
   "execution_count": null,
   "id": "62f49f86",
   "metadata": {},
   "outputs": [],
   "source": [
    "# np.arange(4)을 이용해서 아래와 같이 출력하세요.\n",
    "array([[0, 0, 0, 0, 0],\n",
    "       [1, 0, 0, 0, 0],\n",
    "       [0, 2, 0, 0, 0],\n",
    "       [0, 0, 3, 0, 0],\n",
    "       [0, 0, 0, 4, 0]])"
   ]
  },
  {
   "cell_type": "code",
   "execution_count": null,
   "id": "e75a2e07",
   "metadata": {},
   "outputs": [],
   "source": [
    "# diag(a,k) : 대각 행렬"
   ]
  },
  {
   "cell_type": "code",
   "execution_count": 230,
   "id": "71a8fdf6",
   "metadata": {},
   "outputs": [
    {
     "data": {
      "text/plain": [
       "array([[0, 0, 0, 0, 0],\n",
       "       [1, 0, 0, 0, 0],\n",
       "       [0, 2, 0, 0, 0],\n",
       "       [0, 0, 3, 0, 0],\n",
       "       [0, 0, 0, 4, 0]])"
      ]
     },
     "execution_count": 230,
     "metadata": {},
     "output_type": "execute_result"
    }
   ],
   "source": [
    "np.diag(np.arange(1,5),k=-1)"
   ]
  },
  {
   "cell_type": "markdown",
   "id": "7f44e2ad",
   "metadata": {},
   "source": [
    "## 역행렬"
   ]
  },
  {
   "cell_type": "code",
   "execution_count": 101,
   "id": "4b2cb228",
   "metadata": {
    "scrolled": true
   },
   "outputs": [
    {
     "data": {
      "text/plain": [
       "array([[8, 0, 0, 7, 2],\n",
       "       [6, 7, 9, 6, 2],\n",
       "       [9, 7, 9, 5, 8],\n",
       "       [8, 4, 9, 0, 9],\n",
       "       [7, 6, 7, 4, 0]])"
      ]
     },
     "execution_count": 101,
     "metadata": {},
     "output_type": "execute_result"
    }
   ],
   "source": [
    "# Q. 0 ~ 10 정수 (5,5) 행렬의 역행렬을 구하세요.\n",
    "arr = np.random.randint(0,10,size=(5,5))\n",
    "arr"
   ]
  },
  {
   "cell_type": "code",
   "execution_count": 102,
   "id": "fbb33845",
   "metadata": {},
   "outputs": [
    {
     "data": {
      "text/plain": [
       "array([[ 0.05431781, -0.20198858, -0.00865402,  0.04050819,  0.21874425],\n",
       "       [-0.16332167, -0.33842755,  0.45313939, -0.29129074,  0.22703001],\n",
       "       [ 0.03737802,  0.35591972, -0.35849751,  0.23126496, -0.15116921],\n",
       "       [ 0.08451482,  0.23826183, -0.03719389, -0.03866691, -0.20880133],\n",
       "       [-0.0130731 , -0.02596207,  0.1647947 , -0.02669858, -0.14417234]])"
      ]
     },
     "execution_count": 102,
     "metadata": {},
     "output_type": "execute_result"
    }
   ],
   "source": [
    "arr2 = np.linalg.inv(arr)\n",
    "arr2"
   ]
  },
  {
   "cell_type": "code",
   "execution_count": 104,
   "id": "b6c3230a",
   "metadata": {},
   "outputs": [
    {
     "data": {
      "text/plain": [
       "array([[ 1.00000000e+00,  3.40005801e-16, -4.44089210e-16,\n",
       "         1.80411242e-16,  5.55111512e-17],\n",
       "       [ 3.46944695e-18,  1.00000000e+00,  3.33066907e-16,\n",
       "         1.38777878e-17,  2.22044605e-16],\n",
       "       [-5.55111512e-17, -5.55111512e-17,  1.00000000e+00,\n",
       "         5.55111512e-17,  2.22044605e-16],\n",
       "       [ 8.50014503e-17,  3.78169718e-16, -2.77555756e-16,\n",
       "         1.00000000e+00,  2.49800181e-16],\n",
       "       [ 0.00000000e+00,  1.11022302e-16,  3.33066907e-16,\n",
       "         2.22044605e-16,  1.00000000e+00]])"
      ]
     },
     "execution_count": 104,
     "metadata": {},
     "output_type": "execute_result"
    }
   ],
   "source": [
    "np.dot(arr, arr2)"
   ]
  },
  {
   "cell_type": "markdown",
   "id": "e46babb9",
   "metadata": {},
   "source": [
    "## 과제(7/6)\n",
    "아래 가이드에 따라서 고객 고객별 연간 구매데이터를 생성하고 아래사항을 수행하세요(관측치 1000개)\n",
    "\n",
    "거래 번호\n",
    "- id : 1 ~ 1000번 일련번호 - 개시 후 1만 건의 거래가 있었고 걍 거기에 넘버링한 거라고 이해해보자\n",
    "\n",
    "고객별 속성 데이터\n",
    "- cusno : 고객번호 1000개 랜덤\n",
    "- gender : 0,1 정수 난수 생성\n",
    "- age : 0 ~ 80사이 정수 난수 생성\n",
    "- region : 1 ~ 10 사이 정수 난수 생성\n",
    "\n",
    "거래 데이터\n",
    "- day : 요일\n",
    "- date : 2020-01-01 ~ 2021-12-31 사이의 날짜 1000개 생성\n",
    "\n",
    "- product_20 : 고가제품(10), 중가제품(20), 저가제품(30)로 구분제품코드 10,20,30\n",
    "- product_21 : 고가제품(10), 중가제품(20), 저가제품(30)로 구분제품코드 10,20,30\n",
    "- price_20 : 1000 ~ 50000 사이 실수 난수 생성 (20년도)\n",
    "- price_21 : 1000 ~ 50000 사이 실수 난수 생성 (21년도)\n",
    "- quantity_20 : 1 ~ 100 사이 정수 난수 생성\n",
    "- quantity_21 : 1 ~ 100 사이 정수 난수 생성\n",
    "\n",
    "- time_20 : 01 ~ 24 사이 정수 난수 생성\n",
    "- time_21 : 01 ~ 24 사이 정수 난수 생성\n",
    "\n",
    "- amount_20 : price_20 * quantity_20\n",
    "- amount_21 : price_21 * quantity_21\n",
    "- sales : 20년 대비 21년구매금액이 증가면 1, 감소면 0"
   ]
  },
  {
   "cell_type": "markdown",
   "id": "dbfc36d7",
   "metadata": {},
   "source": [
    "Q1. 고객 속성(id, 성별, 연령, 거주지역) 데이터와 거래 데이터를 통합한 데이터 프레임 df를 생성하세요."
   ]
  },
  {
   "cell_type": "code",
   "execution_count": 59,
   "id": "1e4fda09",
   "metadata": {},
   "outputs": [
    {
     "data": {
      "text/html": [
       "<div>\n",
       "<style scoped>\n",
       "    .dataframe tbody tr th:only-of-type {\n",
       "        vertical-align: middle;\n",
       "    }\n",
       "\n",
       "    .dataframe tbody tr th {\n",
       "        vertical-align: top;\n",
       "    }\n",
       "\n",
       "    .dataframe thead th {\n",
       "        text-align: right;\n",
       "    }\n",
       "</style>\n",
       "<table border=\"1\" class=\"dataframe\">\n",
       "  <thead>\n",
       "    <tr style=\"text-align: right;\">\n",
       "      <th></th>\n",
       "      <th>product_20</th>\n",
       "      <th>product_21</th>\n",
       "      <th>price_20</th>\n",
       "      <th>price_21</th>\n",
       "      <th>quantity_20</th>\n",
       "      <th>quantity_21</th>\n",
       "    </tr>\n",
       "  </thead>\n",
       "  <tbody>\n",
       "    <tr>\n",
       "      <th>0</th>\n",
       "      <td>0.874228</td>\n",
       "      <td>0.097154</td>\n",
       "      <td>0.571503</td>\n",
       "      <td>0.498037</td>\n",
       "      <td>0.732354</td>\n",
       "      <td>0.796368</td>\n",
       "    </tr>\n",
       "    <tr>\n",
       "      <th>1</th>\n",
       "      <td>0.147480</td>\n",
       "      <td>0.574656</td>\n",
       "      <td>0.589889</td>\n",
       "      <td>0.684665</td>\n",
       "      <td>0.872673</td>\n",
       "      <td>0.441806</td>\n",
       "    </tr>\n",
       "    <tr>\n",
       "      <th>2</th>\n",
       "      <td>0.687378</td>\n",
       "      <td>0.889206</td>\n",
       "      <td>0.248924</td>\n",
       "      <td>0.870012</td>\n",
       "      <td>0.628733</td>\n",
       "      <td>0.624532</td>\n",
       "    </tr>\n",
       "    <tr>\n",
       "      <th>3</th>\n",
       "      <td>0.031540</td>\n",
       "      <td>0.189709</td>\n",
       "      <td>0.471885</td>\n",
       "      <td>0.613204</td>\n",
       "      <td>0.764566</td>\n",
       "      <td>0.946750</td>\n",
       "    </tr>\n",
       "    <tr>\n",
       "      <th>4</th>\n",
       "      <td>0.778186</td>\n",
       "      <td>0.425801</td>\n",
       "      <td>0.032392</td>\n",
       "      <td>0.728733</td>\n",
       "      <td>0.815517</td>\n",
       "      <td>0.751901</td>\n",
       "    </tr>\n",
       "  </tbody>\n",
       "</table>\n",
       "</div>"
      ],
      "text/plain": [
       "   product_20  product_21  price_20  price_21  quantity_20  quantity_21\n",
       "0    0.874228    0.097154  0.571503  0.498037     0.732354     0.796368\n",
       "1    0.147480    0.574656  0.589889  0.684665     0.872673     0.441806\n",
       "2    0.687378    0.889206  0.248924  0.870012     0.628733     0.624532\n",
       "3    0.031540    0.189709  0.471885  0.613204     0.764566     0.946750\n",
       "4    0.778186    0.425801  0.032392  0.728733     0.815517     0.751901"
      ]
     },
     "execution_count": 59,
     "metadata": {},
     "output_type": "execute_result"
    }
   ],
   "source": [
    "import numpy as np\n",
    "import pandas as pd\n",
    "ar = np.random.rand(1000,4)\n",
    "df1 = pd.DataFrame(ar, columns = ['id','gender','age','region'] )\n",
    "ar2 = np.random.rand(1000,6)\n",
    "df2 = pd.DataFrame(ar2, columns = ['product_20','product_21','price_20','price_21','quantity_20','quantity_21'])\n",
    "df2.head()"
   ]
  },
  {
   "cell_type": "code",
   "execution_count": 60,
   "id": "e9055fa6",
   "metadata": {},
   "outputs": [
    {
     "data": {
      "text/html": [
       "<div>\n",
       "<style scoped>\n",
       "    .dataframe tbody tr th:only-of-type {\n",
       "        vertical-align: middle;\n",
       "    }\n",
       "\n",
       "    .dataframe tbody tr th {\n",
       "        vertical-align: top;\n",
       "    }\n",
       "\n",
       "    .dataframe thead th {\n",
       "        text-align: right;\n",
       "    }\n",
       "</style>\n",
       "<table border=\"1\" class=\"dataframe\">\n",
       "  <thead>\n",
       "    <tr style=\"text-align: right;\">\n",
       "      <th></th>\n",
       "      <th>id</th>\n",
       "      <th>gender</th>\n",
       "      <th>age</th>\n",
       "      <th>region</th>\n",
       "      <th>cusno</th>\n",
       "    </tr>\n",
       "  </thead>\n",
       "  <tbody>\n",
       "    <tr>\n",
       "      <th>0</th>\n",
       "      <td>1</td>\n",
       "      <td>0</td>\n",
       "      <td>32</td>\n",
       "      <td>3</td>\n",
       "      <td>1</td>\n",
       "    </tr>\n",
       "    <tr>\n",
       "      <th>1</th>\n",
       "      <td>2</td>\n",
       "      <td>0</td>\n",
       "      <td>51</td>\n",
       "      <td>3</td>\n",
       "      <td>2</td>\n",
       "    </tr>\n",
       "    <tr>\n",
       "      <th>2</th>\n",
       "      <td>3</td>\n",
       "      <td>0</td>\n",
       "      <td>49</td>\n",
       "      <td>4</td>\n",
       "      <td>3</td>\n",
       "    </tr>\n",
       "    <tr>\n",
       "      <th>3</th>\n",
       "      <td>4</td>\n",
       "      <td>0</td>\n",
       "      <td>30</td>\n",
       "      <td>1</td>\n",
       "      <td>4</td>\n",
       "    </tr>\n",
       "    <tr>\n",
       "      <th>4</th>\n",
       "      <td>5</td>\n",
       "      <td>0</td>\n",
       "      <td>53</td>\n",
       "      <td>1</td>\n",
       "      <td>5</td>\n",
       "    </tr>\n",
       "  </tbody>\n",
       "</table>\n",
       "</div>"
      ],
      "text/plain": [
       "   id  gender  age  region  cusno\n",
       "0   1       0   32       3      1\n",
       "1   2       0   51       3      2\n",
       "2   3       0   49       4      3\n",
       "3   4       0   30       1      4\n",
       "4   5       0   53       1      5"
      ]
     },
     "execution_count": 60,
     "metadata": {},
     "output_type": "execute_result"
    }
   ],
   "source": [
    "# df1['id']=np.random.randint(1,1001,1000)\n",
    "df1['id'] = np.arange(1,1001)\n",
    "df1['gender']=np.random.randint(0,2,1000)\n",
    "df1['age']=np.random.randint(0,81,1000)\n",
    "df1['region']=np.random.randint(1,11,1000)\n",
    "df1['cusno']=np.arange(1,1001)\n",
    "#li = list(range(1,1001))\n",
    "#df1['cusno']= random.sample(li,1000)\n",
    "\n",
    "df1.head()"
   ]
  },
  {
   "cell_type": "code",
   "execution_count": 61,
   "id": "11a74f41",
   "metadata": {},
   "outputs": [
    {
     "data": {
      "text/html": [
       "<div>\n",
       "<style scoped>\n",
       "    .dataframe tbody tr th:only-of-type {\n",
       "        vertical-align: middle;\n",
       "    }\n",
       "\n",
       "    .dataframe tbody tr th {\n",
       "        vertical-align: top;\n",
       "    }\n",
       "\n",
       "    .dataframe thead th {\n",
       "        text-align: right;\n",
       "    }\n",
       "</style>\n",
       "<table border=\"1\" class=\"dataframe\">\n",
       "  <thead>\n",
       "    <tr style=\"text-align: right;\">\n",
       "      <th></th>\n",
       "      <th>product_20</th>\n",
       "      <th>product_21</th>\n",
       "      <th>price_20</th>\n",
       "      <th>price_21</th>\n",
       "      <th>quantity_20</th>\n",
       "      <th>quantity_21</th>\n",
       "    </tr>\n",
       "  </thead>\n",
       "  <tbody>\n",
       "    <tr>\n",
       "      <th>0</th>\n",
       "      <td>30</td>\n",
       "      <td>20</td>\n",
       "      <td>8805.444334</td>\n",
       "      <td>45264.321637</td>\n",
       "      <td>74</td>\n",
       "      <td>85</td>\n",
       "    </tr>\n",
       "    <tr>\n",
       "      <th>1</th>\n",
       "      <td>30</td>\n",
       "      <td>30</td>\n",
       "      <td>22636.329117</td>\n",
       "      <td>37113.754946</td>\n",
       "      <td>33</td>\n",
       "      <td>2</td>\n",
       "    </tr>\n",
       "    <tr>\n",
       "      <th>2</th>\n",
       "      <td>10</td>\n",
       "      <td>10</td>\n",
       "      <td>32943.275707</td>\n",
       "      <td>5829.994285</td>\n",
       "      <td>11</td>\n",
       "      <td>18</td>\n",
       "    </tr>\n",
       "    <tr>\n",
       "      <th>3</th>\n",
       "      <td>20</td>\n",
       "      <td>20</td>\n",
       "      <td>20033.342530</td>\n",
       "      <td>36404.958761</td>\n",
       "      <td>35</td>\n",
       "      <td>78</td>\n",
       "    </tr>\n",
       "    <tr>\n",
       "      <th>4</th>\n",
       "      <td>20</td>\n",
       "      <td>20</td>\n",
       "      <td>15723.303533</td>\n",
       "      <td>5067.767481</td>\n",
       "      <td>64</td>\n",
       "      <td>43</td>\n",
       "    </tr>\n",
       "  </tbody>\n",
       "</table>\n",
       "</div>"
      ],
      "text/plain": [
       "   product_20  product_21      price_20      price_21  quantity_20  \\\n",
       "0          30          20   8805.444334  45264.321637           74   \n",
       "1          30          30  22636.329117  37113.754946           33   \n",
       "2          10          10  32943.275707   5829.994285           11   \n",
       "3          20          20  20033.342530  36404.958761           35   \n",
       "4          20          20  15723.303533   5067.767481           64   \n",
       "\n",
       "   quantity_21  \n",
       "0           85  \n",
       "1            2  \n",
       "2           18  \n",
       "3           78  \n",
       "4           43  "
      ]
     },
     "execution_count": 61,
     "metadata": {},
     "output_type": "execute_result"
    }
   ],
   "source": [
    "df2['product_20']=np.random.choice([10,20,30],1000)\n",
    "df2['product_21']=np.random.choice([10,20,30],1000)\n",
    "df2['price_20']=np.random.uniform(1000,50001,1000)\n",
    "df2['price_21']=np.random.uniform(1000,50001,1000)\n",
    "df2['quantity_20']=np.random.randint(1,101,1000)\n",
    "df2['quantity_21']=np.random.randint(1,101,1000)\n",
    "df2.head()"
   ]
  },
  {
   "cell_type": "code",
   "execution_count": 62,
   "id": "565ebb01",
   "metadata": {
    "scrolled": true
   },
   "outputs": [
    {
     "data": {
      "text/html": [
       "<div>\n",
       "<style scoped>\n",
       "    .dataframe tbody tr th:only-of-type {\n",
       "        vertical-align: middle;\n",
       "    }\n",
       "\n",
       "    .dataframe tbody tr th {\n",
       "        vertical-align: top;\n",
       "    }\n",
       "\n",
       "    .dataframe thead th {\n",
       "        text-align: right;\n",
       "    }\n",
       "</style>\n",
       "<table border=\"1\" class=\"dataframe\">\n",
       "  <thead>\n",
       "    <tr style=\"text-align: right;\">\n",
       "      <th></th>\n",
       "      <th>id</th>\n",
       "      <th>gender</th>\n",
       "      <th>age</th>\n",
       "      <th>region</th>\n",
       "      <th>cusno</th>\n",
       "      <th>product_20</th>\n",
       "      <th>product_21</th>\n",
       "      <th>price_20</th>\n",
       "      <th>price_21</th>\n",
       "      <th>quantity_20</th>\n",
       "      <th>quantity_21</th>\n",
       "    </tr>\n",
       "  </thead>\n",
       "  <tbody>\n",
       "    <tr>\n",
       "      <th>0</th>\n",
       "      <td>1</td>\n",
       "      <td>0</td>\n",
       "      <td>32</td>\n",
       "      <td>3</td>\n",
       "      <td>1</td>\n",
       "      <td>30</td>\n",
       "      <td>20</td>\n",
       "      <td>8805.444334</td>\n",
       "      <td>45264.321637</td>\n",
       "      <td>74</td>\n",
       "      <td>85</td>\n",
       "    </tr>\n",
       "    <tr>\n",
       "      <th>1</th>\n",
       "      <td>2</td>\n",
       "      <td>0</td>\n",
       "      <td>51</td>\n",
       "      <td>3</td>\n",
       "      <td>2</td>\n",
       "      <td>30</td>\n",
       "      <td>30</td>\n",
       "      <td>22636.329117</td>\n",
       "      <td>37113.754946</td>\n",
       "      <td>33</td>\n",
       "      <td>2</td>\n",
       "    </tr>\n",
       "    <tr>\n",
       "      <th>2</th>\n",
       "      <td>3</td>\n",
       "      <td>0</td>\n",
       "      <td>49</td>\n",
       "      <td>4</td>\n",
       "      <td>3</td>\n",
       "      <td>10</td>\n",
       "      <td>10</td>\n",
       "      <td>32943.275707</td>\n",
       "      <td>5829.994285</td>\n",
       "      <td>11</td>\n",
       "      <td>18</td>\n",
       "    </tr>\n",
       "    <tr>\n",
       "      <th>3</th>\n",
       "      <td>4</td>\n",
       "      <td>0</td>\n",
       "      <td>30</td>\n",
       "      <td>1</td>\n",
       "      <td>4</td>\n",
       "      <td>20</td>\n",
       "      <td>20</td>\n",
       "      <td>20033.342530</td>\n",
       "      <td>36404.958761</td>\n",
       "      <td>35</td>\n",
       "      <td>78</td>\n",
       "    </tr>\n",
       "    <tr>\n",
       "      <th>4</th>\n",
       "      <td>5</td>\n",
       "      <td>0</td>\n",
       "      <td>53</td>\n",
       "      <td>1</td>\n",
       "      <td>5</td>\n",
       "      <td>20</td>\n",
       "      <td>20</td>\n",
       "      <td>15723.303533</td>\n",
       "      <td>5067.767481</td>\n",
       "      <td>64</td>\n",
       "      <td>43</td>\n",
       "    </tr>\n",
       "  </tbody>\n",
       "</table>\n",
       "</div>"
      ],
      "text/plain": [
       "   id  gender  age  region  cusno  product_20  product_21      price_20  \\\n",
       "0   1       0   32       3      1          30          20   8805.444334   \n",
       "1   2       0   51       3      2          30          30  22636.329117   \n",
       "2   3       0   49       4      3          10          10  32943.275707   \n",
       "3   4       0   30       1      4          20          20  20033.342530   \n",
       "4   5       0   53       1      5          20          20  15723.303533   \n",
       "\n",
       "       price_21  quantity_20  quantity_21  \n",
       "0  45264.321637           74           85  \n",
       "1  37113.754946           33            2  \n",
       "2   5829.994285           11           18  \n",
       "3  36404.958761           35           78  \n",
       "4   5067.767481           64           43  "
      ]
     },
     "execution_count": 62,
     "metadata": {},
     "output_type": "execute_result"
    }
   ],
   "source": [
    "df = df1.join(df2,how='outer')\n",
    "#df.set_index('id',inplace=True)\n",
    "df.head()"
   ]
  },
  {
   "cell_type": "code",
   "execution_count": 63,
   "id": "a98b65a1",
   "metadata": {},
   "outputs": [
    {
     "data": {
      "text/html": [
       "<div>\n",
       "<style scoped>\n",
       "    .dataframe tbody tr th:only-of-type {\n",
       "        vertical-align: middle;\n",
       "    }\n",
       "\n",
       "    .dataframe tbody tr th {\n",
       "        vertical-align: top;\n",
       "    }\n",
       "\n",
       "    .dataframe thead th {\n",
       "        text-align: right;\n",
       "    }\n",
       "</style>\n",
       "<table border=\"1\" class=\"dataframe\">\n",
       "  <thead>\n",
       "    <tr style=\"text-align: right;\">\n",
       "      <th></th>\n",
       "      <th>id</th>\n",
       "      <th>gender</th>\n",
       "      <th>age</th>\n",
       "      <th>region</th>\n",
       "      <th>cusno</th>\n",
       "      <th>product_20</th>\n",
       "      <th>product_21</th>\n",
       "      <th>price_20</th>\n",
       "      <th>price_21</th>\n",
       "      <th>quantity_20</th>\n",
       "      <th>quantity_21</th>\n",
       "    </tr>\n",
       "  </thead>\n",
       "  <tbody>\n",
       "    <tr>\n",
       "      <th>0</th>\n",
       "      <td>1</td>\n",
       "      <td>0</td>\n",
       "      <td>32</td>\n",
       "      <td>3</td>\n",
       "      <td>1</td>\n",
       "      <td>30</td>\n",
       "      <td>20</td>\n",
       "      <td>8805.44</td>\n",
       "      <td>45264.32</td>\n",
       "      <td>74</td>\n",
       "      <td>85</td>\n",
       "    </tr>\n",
       "    <tr>\n",
       "      <th>1</th>\n",
       "      <td>2</td>\n",
       "      <td>0</td>\n",
       "      <td>51</td>\n",
       "      <td>3</td>\n",
       "      <td>2</td>\n",
       "      <td>30</td>\n",
       "      <td>30</td>\n",
       "      <td>22636.33</td>\n",
       "      <td>37113.75</td>\n",
       "      <td>33</td>\n",
       "      <td>2</td>\n",
       "    </tr>\n",
       "    <tr>\n",
       "      <th>2</th>\n",
       "      <td>3</td>\n",
       "      <td>0</td>\n",
       "      <td>49</td>\n",
       "      <td>4</td>\n",
       "      <td>3</td>\n",
       "      <td>10</td>\n",
       "      <td>10</td>\n",
       "      <td>32943.28</td>\n",
       "      <td>5829.99</td>\n",
       "      <td>11</td>\n",
       "      <td>18</td>\n",
       "    </tr>\n",
       "    <tr>\n",
       "      <th>3</th>\n",
       "      <td>4</td>\n",
       "      <td>0</td>\n",
       "      <td>30</td>\n",
       "      <td>1</td>\n",
       "      <td>4</td>\n",
       "      <td>20</td>\n",
       "      <td>20</td>\n",
       "      <td>20033.34</td>\n",
       "      <td>36404.96</td>\n",
       "      <td>35</td>\n",
       "      <td>78</td>\n",
       "    </tr>\n",
       "    <tr>\n",
       "      <th>4</th>\n",
       "      <td>5</td>\n",
       "      <td>0</td>\n",
       "      <td>53</td>\n",
       "      <td>1</td>\n",
       "      <td>5</td>\n",
       "      <td>20</td>\n",
       "      <td>20</td>\n",
       "      <td>15723.30</td>\n",
       "      <td>5067.77</td>\n",
       "      <td>64</td>\n",
       "      <td>43</td>\n",
       "    </tr>\n",
       "  </tbody>\n",
       "</table>\n",
       "</div>"
      ],
      "text/plain": [
       "   id  gender  age  region  cusno  product_20  product_21  price_20  price_21  \\\n",
       "0   1       0   32       3      1          30          20   8805.44  45264.32   \n",
       "1   2       0   51       3      2          30          30  22636.33  37113.75   \n",
       "2   3       0   49       4      3          10          10  32943.28   5829.99   \n",
       "3   4       0   30       1      4          20          20  20033.34  36404.96   \n",
       "4   5       0   53       1      5          20          20  15723.30   5067.77   \n",
       "\n",
       "   quantity_20  quantity_21  \n",
       "0           74           85  \n",
       "1           33            2  \n",
       "2           11           18  \n",
       "3           35           78  \n",
       "4           64           43  "
      ]
     },
     "execution_count": 63,
     "metadata": {},
     "output_type": "execute_result"
    }
   ],
   "source": [
    "df['price_20']= round(df['price_20'],2)\n",
    "df['price_21']= round(df['price_21'],2)\n",
    "df.head()"
   ]
  },
  {
   "cell_type": "code",
   "execution_count": 64,
   "id": "2d88f7d6",
   "metadata": {},
   "outputs": [
    {
     "data": {
      "text/html": [
       "<div>\n",
       "<style scoped>\n",
       "    .dataframe tbody tr th:only-of-type {\n",
       "        vertical-align: middle;\n",
       "    }\n",
       "\n",
       "    .dataframe tbody tr th {\n",
       "        vertical-align: top;\n",
       "    }\n",
       "\n",
       "    .dataframe thead th {\n",
       "        text-align: right;\n",
       "    }\n",
       "</style>\n",
       "<table border=\"1\" class=\"dataframe\">\n",
       "  <thead>\n",
       "    <tr style=\"text-align: right;\">\n",
       "      <th></th>\n",
       "      <th>id</th>\n",
       "      <th>gender</th>\n",
       "      <th>age</th>\n",
       "      <th>region</th>\n",
       "      <th>cusno</th>\n",
       "      <th>product_20</th>\n",
       "      <th>product_21</th>\n",
       "      <th>price_20</th>\n",
       "      <th>price_21</th>\n",
       "      <th>quantity_20</th>\n",
       "      <th>quantity_21</th>\n",
       "      <th>amount_20</th>\n",
       "      <th>amount_21</th>\n",
       "    </tr>\n",
       "  </thead>\n",
       "  <tbody>\n",
       "    <tr>\n",
       "      <th>0</th>\n",
       "      <td>1</td>\n",
       "      <td>0</td>\n",
       "      <td>32</td>\n",
       "      <td>3</td>\n",
       "      <td>1</td>\n",
       "      <td>30</td>\n",
       "      <td>20</td>\n",
       "      <td>8805.44</td>\n",
       "      <td>45264.32</td>\n",
       "      <td>74</td>\n",
       "      <td>85</td>\n",
       "      <td>651602.56</td>\n",
       "      <td>3847467.20</td>\n",
       "    </tr>\n",
       "    <tr>\n",
       "      <th>1</th>\n",
       "      <td>2</td>\n",
       "      <td>0</td>\n",
       "      <td>51</td>\n",
       "      <td>3</td>\n",
       "      <td>2</td>\n",
       "      <td>30</td>\n",
       "      <td>30</td>\n",
       "      <td>22636.33</td>\n",
       "      <td>37113.75</td>\n",
       "      <td>33</td>\n",
       "      <td>2</td>\n",
       "      <td>746998.89</td>\n",
       "      <td>74227.50</td>\n",
       "    </tr>\n",
       "    <tr>\n",
       "      <th>2</th>\n",
       "      <td>3</td>\n",
       "      <td>0</td>\n",
       "      <td>49</td>\n",
       "      <td>4</td>\n",
       "      <td>3</td>\n",
       "      <td>10</td>\n",
       "      <td>10</td>\n",
       "      <td>32943.28</td>\n",
       "      <td>5829.99</td>\n",
       "      <td>11</td>\n",
       "      <td>18</td>\n",
       "      <td>362376.08</td>\n",
       "      <td>104939.82</td>\n",
       "    </tr>\n",
       "    <tr>\n",
       "      <th>3</th>\n",
       "      <td>4</td>\n",
       "      <td>0</td>\n",
       "      <td>30</td>\n",
       "      <td>1</td>\n",
       "      <td>4</td>\n",
       "      <td>20</td>\n",
       "      <td>20</td>\n",
       "      <td>20033.34</td>\n",
       "      <td>36404.96</td>\n",
       "      <td>35</td>\n",
       "      <td>78</td>\n",
       "      <td>701166.90</td>\n",
       "      <td>2839586.88</td>\n",
       "    </tr>\n",
       "    <tr>\n",
       "      <th>4</th>\n",
       "      <td>5</td>\n",
       "      <td>0</td>\n",
       "      <td>53</td>\n",
       "      <td>1</td>\n",
       "      <td>5</td>\n",
       "      <td>20</td>\n",
       "      <td>20</td>\n",
       "      <td>15723.30</td>\n",
       "      <td>5067.77</td>\n",
       "      <td>64</td>\n",
       "      <td>43</td>\n",
       "      <td>1006291.20</td>\n",
       "      <td>217914.11</td>\n",
       "    </tr>\n",
       "  </tbody>\n",
       "</table>\n",
       "</div>"
      ],
      "text/plain": [
       "   id  gender  age  region  cusno  product_20  product_21  price_20  price_21  \\\n",
       "0   1       0   32       3      1          30          20   8805.44  45264.32   \n",
       "1   2       0   51       3      2          30          30  22636.33  37113.75   \n",
       "2   3       0   49       4      3          10          10  32943.28   5829.99   \n",
       "3   4       0   30       1      4          20          20  20033.34  36404.96   \n",
       "4   5       0   53       1      5          20          20  15723.30   5067.77   \n",
       "\n",
       "   quantity_20  quantity_21   amount_20   amount_21  \n",
       "0           74           85   651602.56  3847467.20  \n",
       "1           33            2   746998.89    74227.50  \n",
       "2           11           18   362376.08   104939.82  \n",
       "3           35           78   701166.90  2839586.88  \n",
       "4           64           43  1006291.20   217914.11  "
      ]
     },
     "execution_count": 64,
     "metadata": {},
     "output_type": "execute_result"
    }
   ],
   "source": [
    "df['amount_20']=df['price_20']*df['quantity_20']\n",
    "df['amount_21']=df['price_21']*df['quantity_21']\n",
    "df.head()"
   ]
  },
  {
   "cell_type": "code",
   "execution_count": 19,
   "id": "3e569d49",
   "metadata": {},
   "outputs": [],
   "source": [
    "#df1['sales'] = np.where(df1.amount_20 <= df1.amount21,1,0)"
   ]
  },
  {
   "cell_type": "code",
   "execution_count": 65,
   "id": "df66278a",
   "metadata": {
    "scrolled": true
   },
   "outputs": [
    {
     "data": {
      "text/html": [
       "<div>\n",
       "<style scoped>\n",
       "    .dataframe tbody tr th:only-of-type {\n",
       "        vertical-align: middle;\n",
       "    }\n",
       "\n",
       "    .dataframe tbody tr th {\n",
       "        vertical-align: top;\n",
       "    }\n",
       "\n",
       "    .dataframe thead th {\n",
       "        text-align: right;\n",
       "    }\n",
       "</style>\n",
       "<table border=\"1\" class=\"dataframe\">\n",
       "  <thead>\n",
       "    <tr style=\"text-align: right;\">\n",
       "      <th></th>\n",
       "      <th>id</th>\n",
       "      <th>gender</th>\n",
       "      <th>age</th>\n",
       "      <th>region</th>\n",
       "      <th>cusno</th>\n",
       "      <th>product_20</th>\n",
       "      <th>product_21</th>\n",
       "      <th>price_20</th>\n",
       "      <th>price_21</th>\n",
       "      <th>quantity_20</th>\n",
       "      <th>quantity_21</th>\n",
       "      <th>amount_20</th>\n",
       "      <th>amount_21</th>\n",
       "      <th>sales</th>\n",
       "    </tr>\n",
       "  </thead>\n",
       "  <tbody>\n",
       "    <tr>\n",
       "      <th>0</th>\n",
       "      <td>1</td>\n",
       "      <td>0</td>\n",
       "      <td>32</td>\n",
       "      <td>3</td>\n",
       "      <td>1</td>\n",
       "      <td>30</td>\n",
       "      <td>20</td>\n",
       "      <td>8805.44</td>\n",
       "      <td>45264.32</td>\n",
       "      <td>74</td>\n",
       "      <td>85</td>\n",
       "      <td>651602.56</td>\n",
       "      <td>3847467.20</td>\n",
       "      <td>3195864.64</td>\n",
       "    </tr>\n",
       "    <tr>\n",
       "      <th>1</th>\n",
       "      <td>2</td>\n",
       "      <td>0</td>\n",
       "      <td>51</td>\n",
       "      <td>3</td>\n",
       "      <td>2</td>\n",
       "      <td>30</td>\n",
       "      <td>30</td>\n",
       "      <td>22636.33</td>\n",
       "      <td>37113.75</td>\n",
       "      <td>33</td>\n",
       "      <td>2</td>\n",
       "      <td>746998.89</td>\n",
       "      <td>74227.50</td>\n",
       "      <td>-672771.39</td>\n",
       "    </tr>\n",
       "    <tr>\n",
       "      <th>2</th>\n",
       "      <td>3</td>\n",
       "      <td>0</td>\n",
       "      <td>49</td>\n",
       "      <td>4</td>\n",
       "      <td>3</td>\n",
       "      <td>10</td>\n",
       "      <td>10</td>\n",
       "      <td>32943.28</td>\n",
       "      <td>5829.99</td>\n",
       "      <td>11</td>\n",
       "      <td>18</td>\n",
       "      <td>362376.08</td>\n",
       "      <td>104939.82</td>\n",
       "      <td>-257436.26</td>\n",
       "    </tr>\n",
       "    <tr>\n",
       "      <th>3</th>\n",
       "      <td>4</td>\n",
       "      <td>0</td>\n",
       "      <td>30</td>\n",
       "      <td>1</td>\n",
       "      <td>4</td>\n",
       "      <td>20</td>\n",
       "      <td>20</td>\n",
       "      <td>20033.34</td>\n",
       "      <td>36404.96</td>\n",
       "      <td>35</td>\n",
       "      <td>78</td>\n",
       "      <td>701166.90</td>\n",
       "      <td>2839586.88</td>\n",
       "      <td>2138419.98</td>\n",
       "    </tr>\n",
       "    <tr>\n",
       "      <th>4</th>\n",
       "      <td>5</td>\n",
       "      <td>0</td>\n",
       "      <td>53</td>\n",
       "      <td>1</td>\n",
       "      <td>5</td>\n",
       "      <td>20</td>\n",
       "      <td>20</td>\n",
       "      <td>15723.30</td>\n",
       "      <td>5067.77</td>\n",
       "      <td>64</td>\n",
       "      <td>43</td>\n",
       "      <td>1006291.20</td>\n",
       "      <td>217914.11</td>\n",
       "      <td>-788377.09</td>\n",
       "    </tr>\n",
       "  </tbody>\n",
       "</table>\n",
       "</div>"
      ],
      "text/plain": [
       "   id  gender  age  region  cusno  product_20  product_21  price_20  price_21  \\\n",
       "0   1       0   32       3      1          30          20   8805.44  45264.32   \n",
       "1   2       0   51       3      2          30          30  22636.33  37113.75   \n",
       "2   3       0   49       4      3          10          10  32943.28   5829.99   \n",
       "3   4       0   30       1      4          20          20  20033.34  36404.96   \n",
       "4   5       0   53       1      5          20          20  15723.30   5067.77   \n",
       "\n",
       "   quantity_20  quantity_21   amount_20   amount_21       sales  \n",
       "0           74           85   651602.56  3847467.20  3195864.64  \n",
       "1           33            2   746998.89    74227.50  -672771.39  \n",
       "2           11           18   362376.08   104939.82  -257436.26  \n",
       "3           35           78   701166.90  2839586.88  2138419.98  \n",
       "4           64           43  1006291.20   217914.11  -788377.09  "
      ]
     },
     "execution_count": 65,
     "metadata": {},
     "output_type": "execute_result"
    }
   ],
   "source": [
    "df['sales'] = df['amount_21']-df['amount_20']\n",
    "df.head()"
   ]
  },
  {
   "cell_type": "code",
   "execution_count": 66,
   "id": "e9de6646",
   "metadata": {},
   "outputs": [
    {
     "data": {
      "text/html": [
       "<div>\n",
       "<style scoped>\n",
       "    .dataframe tbody tr th:only-of-type {\n",
       "        vertical-align: middle;\n",
       "    }\n",
       "\n",
       "    .dataframe tbody tr th {\n",
       "        vertical-align: top;\n",
       "    }\n",
       "\n",
       "    .dataframe thead th {\n",
       "        text-align: right;\n",
       "    }\n",
       "</style>\n",
       "<table border=\"1\" class=\"dataframe\">\n",
       "  <thead>\n",
       "    <tr style=\"text-align: right;\">\n",
       "      <th></th>\n",
       "      <th>id</th>\n",
       "      <th>gender</th>\n",
       "      <th>age</th>\n",
       "      <th>region</th>\n",
       "      <th>cusno</th>\n",
       "      <th>product_20</th>\n",
       "      <th>product_21</th>\n",
       "      <th>price_20</th>\n",
       "      <th>price_21</th>\n",
       "      <th>quantity_20</th>\n",
       "      <th>quantity_21</th>\n",
       "      <th>amount_20</th>\n",
       "      <th>amount_21</th>\n",
       "      <th>sales</th>\n",
       "    </tr>\n",
       "  </thead>\n",
       "  <tbody>\n",
       "    <tr>\n",
       "      <th>0</th>\n",
       "      <td>1</td>\n",
       "      <td>0</td>\n",
       "      <td>32</td>\n",
       "      <td>3</td>\n",
       "      <td>1</td>\n",
       "      <td>30</td>\n",
       "      <td>20</td>\n",
       "      <td>8805.44</td>\n",
       "      <td>45264.32</td>\n",
       "      <td>74</td>\n",
       "      <td>85</td>\n",
       "      <td>651602.56</td>\n",
       "      <td>3847467.20</td>\n",
       "      <td>1</td>\n",
       "    </tr>\n",
       "    <tr>\n",
       "      <th>1</th>\n",
       "      <td>2</td>\n",
       "      <td>0</td>\n",
       "      <td>51</td>\n",
       "      <td>3</td>\n",
       "      <td>2</td>\n",
       "      <td>30</td>\n",
       "      <td>30</td>\n",
       "      <td>22636.33</td>\n",
       "      <td>37113.75</td>\n",
       "      <td>33</td>\n",
       "      <td>2</td>\n",
       "      <td>746998.89</td>\n",
       "      <td>74227.50</td>\n",
       "      <td>0</td>\n",
       "    </tr>\n",
       "    <tr>\n",
       "      <th>2</th>\n",
       "      <td>3</td>\n",
       "      <td>0</td>\n",
       "      <td>49</td>\n",
       "      <td>4</td>\n",
       "      <td>3</td>\n",
       "      <td>10</td>\n",
       "      <td>10</td>\n",
       "      <td>32943.28</td>\n",
       "      <td>5829.99</td>\n",
       "      <td>11</td>\n",
       "      <td>18</td>\n",
       "      <td>362376.08</td>\n",
       "      <td>104939.82</td>\n",
       "      <td>0</td>\n",
       "    </tr>\n",
       "    <tr>\n",
       "      <th>3</th>\n",
       "      <td>4</td>\n",
       "      <td>0</td>\n",
       "      <td>30</td>\n",
       "      <td>1</td>\n",
       "      <td>4</td>\n",
       "      <td>20</td>\n",
       "      <td>20</td>\n",
       "      <td>20033.34</td>\n",
       "      <td>36404.96</td>\n",
       "      <td>35</td>\n",
       "      <td>78</td>\n",
       "      <td>701166.90</td>\n",
       "      <td>2839586.88</td>\n",
       "      <td>1</td>\n",
       "    </tr>\n",
       "    <tr>\n",
       "      <th>4</th>\n",
       "      <td>5</td>\n",
       "      <td>0</td>\n",
       "      <td>53</td>\n",
       "      <td>1</td>\n",
       "      <td>5</td>\n",
       "      <td>20</td>\n",
       "      <td>20</td>\n",
       "      <td>15723.30</td>\n",
       "      <td>5067.77</td>\n",
       "      <td>64</td>\n",
       "      <td>43</td>\n",
       "      <td>1006291.20</td>\n",
       "      <td>217914.11</td>\n",
       "      <td>0</td>\n",
       "    </tr>\n",
       "  </tbody>\n",
       "</table>\n",
       "</div>"
      ],
      "text/plain": [
       "   id  gender  age  region  cusno  product_20  product_21  price_20  price_21  \\\n",
       "0   1       0   32       3      1          30          20   8805.44  45264.32   \n",
       "1   2       0   51       3      2          30          30  22636.33  37113.75   \n",
       "2   3       0   49       4      3          10          10  32943.28   5829.99   \n",
       "3   4       0   30       1      4          20          20  20033.34  36404.96   \n",
       "4   5       0   53       1      5          20          20  15723.30   5067.77   \n",
       "\n",
       "   quantity_20  quantity_21   amount_20   amount_21  sales  \n",
       "0           74           85   651602.56  3847467.20      1  \n",
       "1           33            2   746998.89    74227.50      0  \n",
       "2           11           18   362376.08   104939.82      0  \n",
       "3           35           78   701166.90  2839586.88      1  \n",
       "4           64           43  1006291.20   217914.11      0  "
      ]
     },
     "execution_count": 66,
     "metadata": {},
     "output_type": "execute_result"
    }
   ],
   "source": [
    "df['sales']=df.sales.apply(lambda x:1 if x > 0 else 0)\n",
    "df.head()"
   ]
  },
  {
   "cell_type": "code",
   "execution_count": 11,
   "id": "1f47542c",
   "metadata": {},
   "outputs": [
    {
     "data": {
      "text/html": [
       "<div>\n",
       "<style scoped>\n",
       "    .dataframe tbody tr th:only-of-type {\n",
       "        vertical-align: middle;\n",
       "    }\n",
       "\n",
       "    .dataframe tbody tr th {\n",
       "        vertical-align: top;\n",
       "    }\n",
       "\n",
       "    .dataframe thead th {\n",
       "        text-align: right;\n",
       "    }\n",
       "</style>\n",
       "<table border=\"1\" class=\"dataframe\">\n",
       "  <thead>\n",
       "    <tr style=\"text-align: right;\">\n",
       "      <th></th>\n",
       "      <th>id</th>\n",
       "      <th>gender</th>\n",
       "      <th>age</th>\n",
       "      <th>region</th>\n",
       "      <th>cusno</th>\n",
       "      <th>product_20</th>\n",
       "      <th>product_21</th>\n",
       "      <th>price_20</th>\n",
       "      <th>price_21</th>\n",
       "      <th>quantity_20</th>\n",
       "      <th>quantity_21</th>\n",
       "      <th>amount_20</th>\n",
       "      <th>amount_21</th>\n",
       "      <th>sales</th>\n",
       "    </tr>\n",
       "  </thead>\n",
       "  <tbody>\n",
       "    <tr>\n",
       "      <th>0</th>\n",
       "      <td>1</td>\n",
       "      <td>0</td>\n",
       "      <td>55</td>\n",
       "      <td>6</td>\n",
       "      <td>1</td>\n",
       "      <td>30</td>\n",
       "      <td>20</td>\n",
       "      <td>28057.55</td>\n",
       "      <td>35524.49</td>\n",
       "      <td>80</td>\n",
       "      <td>17</td>\n",
       "      <td>2244604.00</td>\n",
       "      <td>603916.33</td>\n",
       "      <td>False</td>\n",
       "    </tr>\n",
       "    <tr>\n",
       "      <th>1</th>\n",
       "      <td>2</td>\n",
       "      <td>0</td>\n",
       "      <td>60</td>\n",
       "      <td>9</td>\n",
       "      <td>2</td>\n",
       "      <td>20</td>\n",
       "      <td>20</td>\n",
       "      <td>27963.36</td>\n",
       "      <td>15614.74</td>\n",
       "      <td>65</td>\n",
       "      <td>69</td>\n",
       "      <td>1817618.40</td>\n",
       "      <td>1077417.06</td>\n",
       "      <td>False</td>\n",
       "    </tr>\n",
       "    <tr>\n",
       "      <th>2</th>\n",
       "      <td>3</td>\n",
       "      <td>0</td>\n",
       "      <td>31</td>\n",
       "      <td>9</td>\n",
       "      <td>3</td>\n",
       "      <td>10</td>\n",
       "      <td>10</td>\n",
       "      <td>25805.02</td>\n",
       "      <td>45371.92</td>\n",
       "      <td>79</td>\n",
       "      <td>33</td>\n",
       "      <td>2038596.58</td>\n",
       "      <td>1497273.36</td>\n",
       "      <td>False</td>\n",
       "    </tr>\n",
       "    <tr>\n",
       "      <th>3</th>\n",
       "      <td>4</td>\n",
       "      <td>0</td>\n",
       "      <td>50</td>\n",
       "      <td>1</td>\n",
       "      <td>4</td>\n",
       "      <td>30</td>\n",
       "      <td>20</td>\n",
       "      <td>27571.10</td>\n",
       "      <td>4591.58</td>\n",
       "      <td>66</td>\n",
       "      <td>35</td>\n",
       "      <td>1819692.60</td>\n",
       "      <td>160705.30</td>\n",
       "      <td>False</td>\n",
       "    </tr>\n",
       "    <tr>\n",
       "      <th>4</th>\n",
       "      <td>5</td>\n",
       "      <td>1</td>\n",
       "      <td>17</td>\n",
       "      <td>5</td>\n",
       "      <td>5</td>\n",
       "      <td>30</td>\n",
       "      <td>20</td>\n",
       "      <td>5100.91</td>\n",
       "      <td>15333.16</td>\n",
       "      <td>89</td>\n",
       "      <td>50</td>\n",
       "      <td>453980.99</td>\n",
       "      <td>766658.00</td>\n",
       "      <td>True</td>\n",
       "    </tr>\n",
       "  </tbody>\n",
       "</table>\n",
       "</div>"
      ],
      "text/plain": [
       "   id  gender  age  region  cusno  product_20  product_21  price_20  price_21  \\\n",
       "0   1       0   55       6      1          30          20  28057.55  35524.49   \n",
       "1   2       0   60       9      2          20          20  27963.36  15614.74   \n",
       "2   3       0   31       9      3          10          10  25805.02  45371.92   \n",
       "3   4       0   50       1      4          30          20  27571.10   4591.58   \n",
       "4   5       1   17       5      5          30          20   5100.91  15333.16   \n",
       "\n",
       "   quantity_20  quantity_21   amount_20   amount_21  sales  \n",
       "0           80           17  2244604.00   603916.33  False  \n",
       "1           65           69  1817618.40  1077417.06  False  \n",
       "2           79           33  2038596.58  1497273.36  False  \n",
       "3           66           35  1819692.60   160705.30  False  \n",
       "4           89           50   453980.99   766658.00   True  "
      ]
     },
     "execution_count": 11,
     "metadata": {},
     "output_type": "execute_result"
    }
   ],
   "source": [
    "compare = df['amount_20'] < df['amount_21']\n",
    "df['sales']=compare\n",
    "df.head()"
   ]
  },
  {
   "cell_type": "code",
   "execution_count": 228,
   "id": "c74dd163",
   "metadata": {},
   "outputs": [],
   "source": [
    "def tf(x):\n",
    "    if x == True:\n",
    "        return 0\n",
    "    else:\n",
    "        return 1"
   ]
  },
  {
   "cell_type": "code",
   "execution_count": 229,
   "id": "e2996ef5",
   "metadata": {},
   "outputs": [
    {
     "data": {
      "text/html": [
       "<div>\n",
       "<style scoped>\n",
       "    .dataframe tbody tr th:only-of-type {\n",
       "        vertical-align: middle;\n",
       "    }\n",
       "\n",
       "    .dataframe tbody tr th {\n",
       "        vertical-align: top;\n",
       "    }\n",
       "\n",
       "    .dataframe thead th {\n",
       "        text-align: right;\n",
       "    }\n",
       "</style>\n",
       "<table border=\"1\" class=\"dataframe\">\n",
       "  <thead>\n",
       "    <tr style=\"text-align: right;\">\n",
       "      <th></th>\n",
       "      <th>id</th>\n",
       "      <th>gender</th>\n",
       "      <th>age</th>\n",
       "      <th>region</th>\n",
       "      <th>cusno</th>\n",
       "      <th>product_20</th>\n",
       "      <th>product_21</th>\n",
       "      <th>price_20</th>\n",
       "      <th>price_21</th>\n",
       "      <th>quantity_20</th>\n",
       "      <th>quantity_21</th>\n",
       "      <th>amount_20</th>\n",
       "      <th>amount_21</th>\n",
       "      <th>sales</th>\n",
       "    </tr>\n",
       "  </thead>\n",
       "  <tbody>\n",
       "    <tr>\n",
       "      <th>0</th>\n",
       "      <td>869</td>\n",
       "      <td>0</td>\n",
       "      <td>69</td>\n",
       "      <td>8</td>\n",
       "      <td>682</td>\n",
       "      <td>20</td>\n",
       "      <td>10</td>\n",
       "      <td>36085.79</td>\n",
       "      <td>45055.84</td>\n",
       "      <td>18</td>\n",
       "      <td>35</td>\n",
       "      <td>649544.22</td>\n",
       "      <td>1576954.40</td>\n",
       "      <td>0</td>\n",
       "    </tr>\n",
       "    <tr>\n",
       "      <th>1</th>\n",
       "      <td>56</td>\n",
       "      <td>0</td>\n",
       "      <td>70</td>\n",
       "      <td>1</td>\n",
       "      <td>565</td>\n",
       "      <td>20</td>\n",
       "      <td>20</td>\n",
       "      <td>33818.64</td>\n",
       "      <td>9030.18</td>\n",
       "      <td>6</td>\n",
       "      <td>27</td>\n",
       "      <td>202911.84</td>\n",
       "      <td>243814.86</td>\n",
       "      <td>0</td>\n",
       "    </tr>\n",
       "    <tr>\n",
       "      <th>2</th>\n",
       "      <td>320</td>\n",
       "      <td>0</td>\n",
       "      <td>6</td>\n",
       "      <td>9</td>\n",
       "      <td>822</td>\n",
       "      <td>10</td>\n",
       "      <td>20</td>\n",
       "      <td>12600.31</td>\n",
       "      <td>25537.02</td>\n",
       "      <td>44</td>\n",
       "      <td>81</td>\n",
       "      <td>554413.64</td>\n",
       "      <td>2068498.62</td>\n",
       "      <td>0</td>\n",
       "    </tr>\n",
       "    <tr>\n",
       "      <th>3</th>\n",
       "      <td>193</td>\n",
       "      <td>0</td>\n",
       "      <td>46</td>\n",
       "      <td>7</td>\n",
       "      <td>616</td>\n",
       "      <td>30</td>\n",
       "      <td>20</td>\n",
       "      <td>40314.45</td>\n",
       "      <td>29175.50</td>\n",
       "      <td>71</td>\n",
       "      <td>89</td>\n",
       "      <td>2862325.95</td>\n",
       "      <td>2596619.50</td>\n",
       "      <td>1</td>\n",
       "    </tr>\n",
       "    <tr>\n",
       "      <th>4</th>\n",
       "      <td>502</td>\n",
       "      <td>1</td>\n",
       "      <td>69</td>\n",
       "      <td>8</td>\n",
       "      <td>359</td>\n",
       "      <td>20</td>\n",
       "      <td>30</td>\n",
       "      <td>44808.55</td>\n",
       "      <td>39927.71</td>\n",
       "      <td>82</td>\n",
       "      <td>40</td>\n",
       "      <td>3674301.10</td>\n",
       "      <td>1597108.40</td>\n",
       "      <td>1</td>\n",
       "    </tr>\n",
       "  </tbody>\n",
       "</table>\n",
       "</div>"
      ],
      "text/plain": [
       "    id  gender  age  region  cusno  product_20  product_21  price_20  \\\n",
       "0  869       0   69       8    682          20          10  36085.79   \n",
       "1   56       0   70       1    565          20          20  33818.64   \n",
       "2  320       0    6       9    822          10          20  12600.31   \n",
       "3  193       0   46       7    616          30          20  40314.45   \n",
       "4  502       1   69       8    359          20          30  44808.55   \n",
       "\n",
       "   price_21  quantity_20  quantity_21   amount_20   amount_21  sales  \n",
       "0  45055.84           18           35   649544.22  1576954.40      0  \n",
       "1   9030.18            6           27   202911.84   243814.86      0  \n",
       "2  25537.02           44           81   554413.64  2068498.62      0  \n",
       "3  29175.50           71           89  2862325.95  2596619.50      1  \n",
       "4  39927.71           82           40  3674301.10  1597108.40      1  "
      ]
     },
     "execution_count": 229,
     "metadata": {},
     "output_type": "execute_result"
    }
   ],
   "source": [
    "df['sales']=df['sales'].apply(lambda x :tf(x))\n",
    "df.head()"
   ]
  },
  {
   "cell_type": "markdown",
   "id": "3030715c",
   "metadata": {},
   "source": [
    "Q2. df를 수정하여 5가지 이상의 인사이트를 포함한 데이터 셋으로 변환하세요"
   ]
  },
  {
   "cell_type": "markdown",
   "id": "ab06c7f3",
   "metadata": {},
   "source": [
    "Q3. df 를 탐색적 분석을 통하여 인사이트를 도출하세요."
   ]
  },
  {
   "cell_type": "code",
   "execution_count": 44,
   "id": "a07ffda5",
   "metadata": {},
   "outputs": [],
   "source": [
    "import warnings\n",
    "warnings.filterwarnings('ignore')"
   ]
  },
  {
   "cell_type": "code",
   "execution_count": null,
   "id": "566985d5",
   "metadata": {},
   "outputs": [],
   "source": [
    "# 구매감소고객\n",
    "# 고객별 요약데이터"
   ]
  },
  {
   "cell_type": "code",
   "execution_count": null,
   "id": "85d96ec1",
   "metadata": {},
   "outputs": [],
   "source": [
    "# 연별  / 분기별  / 전체 매출\n",
    "# 지역별\n",
    "# 아이템별(고가,중가,저가)"
   ]
  },
  {
   "cell_type": "markdown",
   "id": "97ecbe4e",
   "metadata": {},
   "source": [
    "Q4. 거래일자, 요일, 시간을 추가해서 10000개의 관측치를 갖는 데이터셋을 만드세요."
   ]
  },
  {
   "cell_type": "code",
   "execution_count": 71,
   "id": "5973bbca",
   "metadata": {},
   "outputs": [
    {
     "data": {
      "text/html": [
       "<div>\n",
       "<style scoped>\n",
       "    .dataframe tbody tr th:only-of-type {\n",
       "        vertical-align: middle;\n",
       "    }\n",
       "\n",
       "    .dataframe tbody tr th {\n",
       "        vertical-align: top;\n",
       "    }\n",
       "\n",
       "    .dataframe thead th {\n",
       "        text-align: right;\n",
       "    }\n",
       "</style>\n",
       "<table border=\"1\" class=\"dataframe\">\n",
       "  <thead>\n",
       "    <tr style=\"text-align: right;\">\n",
       "      <th></th>\n",
       "      <th>id</th>\n",
       "      <th>gender</th>\n",
       "      <th>age</th>\n",
       "      <th>region</th>\n",
       "      <th>cusno</th>\n",
       "      <th>product_20</th>\n",
       "      <th>product_21</th>\n",
       "      <th>price_20</th>\n",
       "      <th>price_21</th>\n",
       "      <th>quantity_20</th>\n",
       "      <th>quantity_21</th>\n",
       "      <th>amount_20</th>\n",
       "      <th>amount_21</th>\n",
       "      <th>sales</th>\n",
       "    </tr>\n",
       "  </thead>\n",
       "  <tbody>\n",
       "    <tr>\n",
       "      <th>0</th>\n",
       "      <td>1</td>\n",
       "      <td>0</td>\n",
       "      <td>32</td>\n",
       "      <td>3</td>\n",
       "      <td>1</td>\n",
       "      <td>30</td>\n",
       "      <td>20</td>\n",
       "      <td>8805.44</td>\n",
       "      <td>45264.32</td>\n",
       "      <td>74</td>\n",
       "      <td>85</td>\n",
       "      <td>651602.56</td>\n",
       "      <td>3847467.20</td>\n",
       "      <td>1</td>\n",
       "    </tr>\n",
       "    <tr>\n",
       "      <th>1</th>\n",
       "      <td>2</td>\n",
       "      <td>0</td>\n",
       "      <td>51</td>\n",
       "      <td>3</td>\n",
       "      <td>2</td>\n",
       "      <td>30</td>\n",
       "      <td>30</td>\n",
       "      <td>22636.33</td>\n",
       "      <td>37113.75</td>\n",
       "      <td>33</td>\n",
       "      <td>2</td>\n",
       "      <td>746998.89</td>\n",
       "      <td>74227.50</td>\n",
       "      <td>0</td>\n",
       "    </tr>\n",
       "    <tr>\n",
       "      <th>2</th>\n",
       "      <td>3</td>\n",
       "      <td>0</td>\n",
       "      <td>49</td>\n",
       "      <td>4</td>\n",
       "      <td>3</td>\n",
       "      <td>10</td>\n",
       "      <td>10</td>\n",
       "      <td>32943.28</td>\n",
       "      <td>5829.99</td>\n",
       "      <td>11</td>\n",
       "      <td>18</td>\n",
       "      <td>362376.08</td>\n",
       "      <td>104939.82</td>\n",
       "      <td>0</td>\n",
       "    </tr>\n",
       "    <tr>\n",
       "      <th>3</th>\n",
       "      <td>4</td>\n",
       "      <td>0</td>\n",
       "      <td>30</td>\n",
       "      <td>1</td>\n",
       "      <td>4</td>\n",
       "      <td>20</td>\n",
       "      <td>20</td>\n",
       "      <td>20033.34</td>\n",
       "      <td>36404.96</td>\n",
       "      <td>35</td>\n",
       "      <td>78</td>\n",
       "      <td>701166.90</td>\n",
       "      <td>2839586.88</td>\n",
       "      <td>1</td>\n",
       "    </tr>\n",
       "    <tr>\n",
       "      <th>4</th>\n",
       "      <td>5</td>\n",
       "      <td>0</td>\n",
       "      <td>53</td>\n",
       "      <td>1</td>\n",
       "      <td>5</td>\n",
       "      <td>20</td>\n",
       "      <td>20</td>\n",
       "      <td>15723.30</td>\n",
       "      <td>5067.77</td>\n",
       "      <td>64</td>\n",
       "      <td>43</td>\n",
       "      <td>1006291.20</td>\n",
       "      <td>217914.11</td>\n",
       "      <td>0</td>\n",
       "    </tr>\n",
       "  </tbody>\n",
       "</table>\n",
       "</div>"
      ],
      "text/plain": [
       "   id  gender  age  region  cusno  product_20  product_21  price_20  price_21  \\\n",
       "0   1       0   32       3      1          30          20   8805.44  45264.32   \n",
       "1   2       0   51       3      2          30          30  22636.33  37113.75   \n",
       "2   3       0   49       4      3          10          10  32943.28   5829.99   \n",
       "3   4       0   30       1      4          20          20  20033.34  36404.96   \n",
       "4   5       0   53       1      5          20          20  15723.30   5067.77   \n",
       "\n",
       "   quantity_20  quantity_21   amount_20   amount_21  sales  \n",
       "0           74           85   651602.56  3847467.20      1  \n",
       "1           33            2   746998.89    74227.50      0  \n",
       "2           11           18   362376.08   104939.82      0  \n",
       "3           35           78   701166.90  2839586.88      1  \n",
       "4           64           43  1006291.20   217914.11      0  "
      ]
     },
     "execution_count": 71,
     "metadata": {},
     "output_type": "execute_result"
    }
   ],
   "source": [
    "df[]"
   ]
  },
  {
   "cell_type": "code",
   "execution_count": 70,
   "id": "f61d698b",
   "metadata": {},
   "outputs": [
    {
     "ename": "SyntaxError",
     "evalue": "invalid syntax (2877343236.py, line 5)",
     "output_type": "error",
     "traceback": [
      "\u001b[1;36m  Input \u001b[1;32mIn [70]\u001b[1;36m\u001b[0m\n\u001b[1;33m    df['date']=np.random.choice(data_list,size=1000)\u001b[0m\n\u001b[1;37m    ^\u001b[0m\n\u001b[1;31mSyntaxError\u001b[0m\u001b[1;31m:\u001b[0m invalid syntax\n"
     ]
    }
   ],
   "source": [
    "# 날짜 거래 데이터프레임 만들기\n",
    "\n",
    "#date\n",
    "date_list = list(pd.date_range('2020-01-01','2021-12-31',freq='D')\n",
    "df['date']=np.random.choice(data_list,size=1000)\n",
    "#day\n",
    "df['day']=df['date'].apply(lambda x:x.weekday())\n",
    "df['day']=df['day'].replace(list(range(7)),['MON','TUE', 'WED', 'THU', 'FRI','SAT','SUN'])\n",
    "#time\n",
    "df['time']=np.random.randint(1,25,size=1000)"
   ]
  }
 ],
 "metadata": {
  "kernelspec": {
   "display_name": "Python 3 (ipykernel)",
   "language": "python",
   "name": "python3"
  },
  "language_info": {
   "codemirror_mode": {
    "name": "ipython",
    "version": 3
   },
   "file_extension": ".py",
   "mimetype": "text/x-python",
   "name": "python",
   "nbconvert_exporter": "python",
   "pygments_lexer": "ipython3",
   "version": "3.8.13"
  },
  "toc": {
   "base_numbering": 1,
   "nav_menu": {},
   "number_sections": false,
   "sideBar": true,
   "skip_h1_title": false,
   "title_cell": "Table of Contents",
   "title_sidebar": "Contents",
   "toc_cell": false,
   "toc_position": {
    "height": "calc(100% - 180px)",
    "left": "10px",
    "top": "150px",
    "width": "165px"
   },
   "toc_section_display": true,
   "toc_window_display": true
  }
 },
 "nbformat": 4,
 "nbformat_minor": 5
}
