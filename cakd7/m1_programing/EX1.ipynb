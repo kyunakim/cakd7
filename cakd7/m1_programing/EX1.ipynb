{
 "cells": [
  {
   "cell_type": "markdown",
   "id": "d9109697",
   "metadata": {},
   "source": [
    "#### Q1. 남녀 파트너 정해주기 프로그램(zip) \n",
    "같은 수의 남녀 모임에서 파트너를 랜덤하게 정해주는 프로그램을 만들어 보세요\n",
    "\n",
    "male = ['철수','갑돌','로미오','이몽룡','온돌']\n",
    "\n",
    "female = ['미미','갑순','줄리엣','성춘향','평강']\n"
   ]
  },
  {
   "cell_type": "code",
   "execution_count": 5,
   "id": "816c0044",
   "metadata": {},
   "outputs": [],
   "source": [
    "male = ['철수','갑돌','로미오','이몽룡','온돌']\n",
    "female = ['미미','갑순','줄리엣','성춘향','평강']"
   ]
  },
  {
   "cell_type": "code",
   "execution_count": 6,
   "id": "4250557a",
   "metadata": {},
   "outputs": [
    {
     "name": "stdout",
     "output_type": "stream",
     "text": [
      "[('철수', '미미'), ('갑돌', '갑순'), ('로미오', '줄리엣'), ('이몽룡', '성춘향'), ('온돌', '평강')]\n"
     ]
    }
   ],
   "source": [
    "partner_li=zip(male,female)\n",
    "print(list(partner_li))"
   ]
  },
  {
   "cell_type": "code",
   "execution_count": 7,
   "id": "2708260c",
   "metadata": {},
   "outputs": [],
   "source": [
    "from random import shuffle\n",
    "import random"
   ]
  },
  {
   "cell_type": "code",
   "execution_count": 8,
   "id": "d269497c",
   "metadata": {},
   "outputs": [],
   "source": [
    "c = list(zip(male,female))\n",
    "random.shuffle(c)\n",
    "male,female=zip(*c)"
   ]
  },
  {
   "cell_type": "code",
   "execution_count": 9,
   "id": "2f5076da",
   "metadata": {},
   "outputs": [
    {
     "name": "stdout",
     "output_type": "stream",
     "text": [
      "로미오 줄리엣\n",
      "온돌 평강\n",
      "갑돌 갑순\n",
      "철수 미미\n",
      "이몽룡 성춘향\n"
     ]
    }
   ],
   "source": [
    "for m,f in zip(male,female):\n",
    "    print(m,f)"
   ]
  },
  {
   "cell_type": "code",
   "execution_count": 16,
   "id": "661a7d15",
   "metadata": {},
   "outputs": [
    {
     "name": "stdout",
     "output_type": "stream",
     "text": [
      "커플1:갑돌,갑순\n",
      "커플2:이몽룡,줄리엣\n",
      "커플3:로미오,미미\n",
      "커플4:온돌,평강\n",
      "커플5:철수,성춘향\n"
     ]
    }
   ],
   "source": [
    "male = ['철수','갑돌','로미오','이몽룡','온돌']\n",
    "female = ['미미','갑순','줄리엣','성춘향','평강']\n",
    "\n",
    "random.shuffle(male)\n",
    "random.shuffle(female)\n",
    "\n",
    "couples = zip(male, female)\n",
    "\n",
    "for i, couple in enumerate(couples):\n",
    "    print(f'커플{i+1}:{couple[0]},{couple[1]}')"
   ]
  },
  {
   "cell_type": "markdown",
   "id": "ef84d2c8",
   "metadata": {},
   "source": [
    "#### Q2. 사용자가 입력한 횟수만큼 로또 번호를 출력하는 프로그램을 작성하세요. (중복금지)"
   ]
  },
  {
   "cell_type": "code",
   "execution_count": 17,
   "id": "33755d9a",
   "metadata": {},
   "outputs": [
    {
     "name": "stdin",
     "output_type": "stream",
     "text": [
      "숫자를 입력하세요 3\n"
     ]
    }
   ],
   "source": [
    "import random\n",
    "num = input(\"숫자를 입력하세요\")"
   ]
  },
  {
   "cell_type": "code",
   "execution_count": null,
   "id": "19aab5a7",
   "metadata": {},
   "outputs": [],
   "source": [
    "# import random\n",
    "# num=[]\n",
    "# lo=random.randrange(1,46)\n",
    "\n",
    "# for i in range(0,int(num)):\n",
    "#     while lo in num:\n",
    "#         lo = random.randrange(1,46)\n",
    "#     num.append(lo)\n",
    "\n",
    "# num.sort()\n",
    "# print(num)"
   ]
  },
  {
   "cell_type": "code",
   "execution_count": 18,
   "id": "71439621",
   "metadata": {
    "scrolled": true
   },
   "outputs": [
    {
     "name": "stdin",
     "output_type": "stream",
     "text": [
      "숫자를 입력하세요 3\n"
     ]
    }
   ],
   "source": [
    "import random\n",
    "num = input(\"숫자를 입력하세요\")"
   ]
  },
  {
   "cell_type": "code",
   "execution_count": 19,
   "id": "f238fc0c",
   "metadata": {},
   "outputs": [
    {
     "name": "stdout",
     "output_type": "stream",
     "text": [
      "[11, 26, 43]\n",
      "[8, 15, 43]\n",
      "[37, 19, 7]\n"
     ]
    }
   ],
   "source": [
    "for i in range(0,int(num)):\n",
    "    lo = random.sample(range(1,46),int(num))\n",
    "    print(lo)"
   ]
  },
  {
   "cell_type": "markdown",
   "id": "dad42070",
   "metadata": {},
   "source": [
    "[도전과제] 발표자를 원하는 수만큼 랜덤하게 출력하는 프로그램을 작성하세요."
   ]
  },
  {
   "cell_type": "code",
   "execution_count": 20,
   "id": "38a4f0cb",
   "metadata": {},
   "outputs": [
    {
     "data": {
      "text/plain": [
       "25"
      ]
     },
     "execution_count": 20,
     "metadata": {},
     "output_type": "execute_result"
    }
   ],
   "source": [
    "cakd7 = ['박영권','김현지','김덕현','변서연','한지웅','양주희','이호원','정지은','이정현A','이정현B','이명진','이상윤','조승현','강유한','김영선','최애림','김민섭','박혜린','윤정준','김진형','정승기','진청아','신창훈','김병석','박세희']\n",
    "len(cakd7)"
   ]
  },
  {
   "cell_type": "markdown",
   "id": "288e21d1",
   "metadata": {},
   "source": [
    "#### 7/14 - Q3. 입력받은 문자열의 각 문자를 그 다음 문자로 변경하여 출력하세요. abc -> bca"
   ]
  },
  {
   "cell_type": "code",
   "execution_count": 23,
   "id": "31e430c5",
   "metadata": {},
   "outputs": [
    {
     "name": "stdin",
     "output_type": "stream",
     "text": [
      "문장을 입력하세요. abc\n"
     ]
    },
    {
     "name": "stdout",
     "output_type": "stream",
     "text": [
      "bca\n"
     ]
    }
   ],
   "source": [
    "text = input('문장을 입력하세요.')\n",
    "ret = ''\n",
    "for i in range(len(text)):\n",
    "    if i != len(text)-1:\n",
    "        ret += text[i+1]\n",
    "    else:\n",
    "        ret +=text[0]\n",
    "print(ret)"
   ]
  },
  {
   "cell_type": "code",
   "execution_count": 24,
   "id": "693e4cce",
   "metadata": {},
   "outputs": [],
   "source": [
    "# a = input().split()\n",
    "# b = a[1]+a[2]+a[0]\n",
    "# print(b)"
   ]
  },
  {
   "cell_type": "code",
   "execution_count": 25,
   "id": "d66ca445",
   "metadata": {},
   "outputs": [
    {
     "name": "stdin",
     "output_type": "stream",
     "text": [
      " abc\n"
     ]
    },
    {
     "data": {
      "text/plain": [
       "[['a', 'b', 'c']]"
      ]
     },
     "execution_count": 25,
     "metadata": {},
     "output_type": "execute_result"
    }
   ],
   "source": [
    "a = input().split()\n",
    "b = list(map(list,a))\n",
    "b\n",
    "# print(b[1]+b[2]+b[0])"
   ]
  },
  {
   "cell_type": "code",
   "execution_count": null,
   "id": "b14981c4",
   "metadata": {},
   "outputs": [],
   "source": [
    "a = input().split()\n",
    "new[1]"
   ]
  },
  {
   "cell_type": "code",
   "execution_count": null,
   "id": "b3d38c4e",
   "metadata": {},
   "outputs": [],
   "source": [
    "print(b)"
   ]
  },
  {
   "cell_type": "markdown",
   "id": "efdfa201",
   "metadata": {},
   "source": [
    "#### 7/14 - Q4. url에서 호스트 도메인을 추출하여 출력하세요."
   ]
  },
  {
   "cell_type": "markdown",
   "id": "3ed799c8-cc89-4e89-810d-9169b34984de",
   "metadata": {},
   "source": [
    "url = 'http://news.naver.com/main/read.nhn?mode=LSD&mid=shm&sid1=105&oid=028&aid=0002334601\n",
    "\n",
    "news.naver.com 요기만 출력하기"
   ]
  },
  {
   "cell_type": "code",
   "execution_count": 27,
   "id": "5f3003b4",
   "metadata": {},
   "outputs": [],
   "source": [
    "url = 'http://news.naver.com/main/read.nhn?mode=LSD&mid=shm&sid1=105&oid=028&aid=0002334601'"
   ]
  },
  {
   "cell_type": "code",
   "execution_count": 28,
   "id": "30c15e73",
   "metadata": {},
   "outputs": [
    {
     "name": "stdout",
     "output_type": "stream",
     "text": [
      "news.naver.com\n"
     ]
    }
   ],
   "source": [
    "naver = url.split('/')\n",
    "\n",
    "domain = naver[2]\n",
    "\n",
    "print(domain)"
   ]
  },
  {
   "cell_type": "markdown",
   "id": "1d0d3ac8",
   "metadata": {},
   "source": [
    "#### 7/15 - Q5. url에서 쿼리문을 추출하여 출력하세요."
   ]
  },
  {
   "cell_type": "markdown",
   "id": "2c6cad76-1898-487f-a669-29576a5700f2",
   "metadata": {},
   "source": [
    "url에서 '?'뒤에 표시되는 문자열을 쿼리 문자열이라고 하며 변수=값 사이 &로 구분되어 나열된다.\n",
    "url = 'http://news.naver.com/main/read.nhn?mode=LSD&mid=shm&sid1=105&oid=028&aid=0002334601'\n"
   ]
  },
  {
   "cell_type": "code",
   "execution_count": 32,
   "id": "3a65723a",
   "metadata": {},
   "outputs": [],
   "source": [
    "url = 'http://news.naver.com/main/read.nhn?mode=LSD&mid=shm&sid1=105&oid=028&aid=0002334601'"
   ]
  },
  {
   "cell_type": "code",
   "execution_count": 40,
   "id": "75750677-e156-4c94-a317-2736c0fc7c4e",
   "metadata": {},
   "outputs": [
    {
     "data": {
      "text/plain": [
       "['mode=LSD', 'mid=shm', 'sid1=105', 'oid=028', 'aid=0002334601']"
      ]
     },
     "execution_count": 40,
     "metadata": {},
     "output_type": "execute_result"
    }
   ],
   "source": [
    "naver = url.split('?')\n",
    "query = naver[1].split('&')\n",
    "query"
   ]
  },
  {
   "cell_type": "markdown",
   "id": "1397acaa",
   "metadata": {},
   "source": [
    "#### 7/15 - Q6.텍스트 파일(mydata.txt)을 읽고  파일의 내용에서 나타나는 문자들에 대해 자주 나타나는 문자들을 아래와 같이 순서대로 출력하세요.\n",
    "- \\[ \\] -> [177]회 나타남\n",
    "- [e] -> [97]회 나타남\n",
    "- [t] -> [85]회 나타남"
   ]
  },
  {
   "cell_type": "code",
   "execution_count": 31,
   "id": "c5bcbc38",
   "metadata": {},
   "outputs": [
    {
     "name": "stdout",
     "output_type": "stream",
     "text": [
      "a lot of things occur each day\n",
      "we've got to live with on our way\n",
      "there's so much misery on the screen\n",
      "with commercials in between\n",
      "\n",
      "and the russians won't be so late\n",
      "uncle sam don't want to wait\n",
      "no matter if you're black or white\n",
      "you never ever had a right\n",
      "\n",
      "and look up to the eternal skies\n",
      "see warfare even there\n",
      "what once has been a paradise\n",
      "now destruction and despair\n",
      "\n",
      "in other worlds the children die\n",
      "lacking food ill from a fly\n",
      "oppressed by troops to tame their land\n",
      "it's all the same again\n",
      "\n",
      "if any man is free on earth\n",
      "then tormentors steal his birth\n",
      "they slam gun butts in his face\n",
      "and leave his woman choked in mace\n",
      "\n",
      "so stand up for our human rights\n",
      "push back this pest of hate\n",
      "raise you voice pass on the light\n",
      "unite! it's not too late\n",
      "\n",
      "how many tears flow away\n",
      "to become a sea of fears\n",
      "how many hearts are torn apart\n",
      "till another torment starts\n",
      "\n",
      "but before the world\n",
      "turns into a sun\n",
      "all cruelty and violence\n",
      "on earth will be dead and gone\n",
      "\n",
      "so stand up for our human rights\n",
      "push back this pest of hate\n",
      "raise you voice pass on the light\n",
      "unite! it's not too late\n"
     ]
    }
   ],
   "source": [
    "with open('mydata.txt','r')as f:\n",
    "    data = f.read()\n",
    "print(data)"
   ]
  },
  {
   "cell_type": "code",
   "execution_count": 42,
   "id": "f1bf4dc0-ac27-47c0-94b1-b1a27548f6d4",
   "metadata": {},
   "outputs": [
    {
     "name": "stdout",
     "output_type": "stream",
     "text": [
      "1071\n"
     ]
    }
   ],
   "source": [
    "print(data.count(''))"
   ]
  },
  {
   "cell_type": "code",
   "execution_count": 43,
   "id": "39398be3-c4a0-430b-bb49-ce8d99750ab3",
   "metadata": {},
   "outputs": [
    {
     "name": "stdout",
     "output_type": "stream",
     "text": [
      "97\n"
     ]
    }
   ],
   "source": [
    "print(data.count('e'))"
   ]
  },
  {
   "cell_type": "code",
   "execution_count": 44,
   "id": "8c66b420-3345-4e76-9992-f3bfc0951873",
   "metadata": {},
   "outputs": [
    {
     "name": "stdout",
     "output_type": "stream",
     "text": [
      "85\n"
     ]
    }
   ],
   "source": [
    "print(data.count('t'))"
   ]
  },
  {
   "cell_type": "code",
   "execution_count": 2,
   "id": "b9c05ab7",
   "metadata": {},
   "outputs": [
    {
     "name": "stdout",
     "output_type": "stream",
     "text": [
      "C:\\Users\\admin\n"
     ]
    }
   ],
   "source": [
    "%cd"
   ]
  },
  {
   "cell_type": "code",
   "execution_count": 14,
   "id": "52aed3d1-f67b-43a8-940f-cfc53229677d",
   "metadata": {},
   "outputs": [
    {
     "ename": "SyntaxError",
     "evalue": "invalid syntax (2514282261.py, line 1)",
     "output_type": "error",
     "traceback": [
      "\u001b[1;36m  Input \u001b[1;32mIn [14]\u001b[1;36m\u001b[0m\n\u001b[1;33m    def getTextFreq('mydata.txt'):\u001b[0m\n\u001b[1;37m                    ^\u001b[0m\n\u001b[1;31mSyntaxError\u001b[0m\u001b[1;31m:\u001b[0m invalid syntax\n"
     ]
    }
   ],
   "source": [
    "def getTextFreq('mydata.txt'):\n",
    "    with open('mydata.txt','r') as f:\n",
    "        text = f.read()\n",
    "        fa = {}\n",
    "        for c in text:\n",
    "            if c in fa:\n",
    "                fa[c] += 1\n",
    "            else:\n",
    "                fa[c] = 1\n",
    "    return fa\n",
    "ret = getTextFreq('mydata.txt')\n",
    "ret = sorted(ret.items(),key=lambda x:x[1], reverse=True)\n",
    "print(ret)\n",
    "for c, freq in ret:\n",
    "    if c =='\\n':\n",
    "        continue\n",
    "    print('[%c] - > [%d]회 나타남' %(c,freq))\n"
   ]
  },
  {
   "cell_type": "markdown",
   "id": "90755e48",
   "metadata": {},
   "source": [
    "#### Q7. 두개의 수를 입력한 후 두개의 수에 대한 사칙연산을 수행하세요. (0을 입력한 경우 다시 입력하도록 조치)"
   ]
  },
  {
   "cell_type": "code",
   "execution_count": null,
   "id": "f3afe040",
   "metadata": {},
   "outputs": [],
   "source": [
    "# Cal4 클래스를 만들어서 작성"
   ]
  },
  {
   "cell_type": "code",
   "execution_count": 1,
   "id": "e546ecf5",
   "metadata": {},
   "outputs": [],
   "source": [
    "class Cal4:\n",
    "    def __init__(self, first,second):\n",
    "        self.first = first\n",
    "        self.second = second\n",
    "        \n",
    "    def add(self):\n",
    "        result = self.first + self.second\n",
    "        return result\n",
    "    def sub(self):\n",
    "        result = self.first - self.second\n",
    "        return result\n",
    "    def mul(self):\n",
    "        result = self.first * self.second\n",
    "        return result\n",
    "    def div(self):\n",
    "        result = self.first / self.second\n",
    "        return result"
   ]
  },
  {
   "cell_type": "code",
   "execution_count": 3,
   "id": "d98ffaf3-52b2-4a72-b58a-e5a9f7b93be0",
   "metadata": {},
   "outputs": [
    {
     "name": "stdin",
     "output_type": "stream",
     "text": [
      "슷지1 10\n",
      "슷지2 4\n"
     ]
    }
   ],
   "source": [
    "num1=int(input(\"슷지1\"))\n",
    "num2=int(input(\"슷지2\"))"
   ]
  },
  {
   "cell_type": "code",
   "execution_count": 4,
   "id": "37161170-d12f-4a43-b4e0-8e8d3f5694fc",
   "metadata": {},
   "outputs": [],
   "source": [
    "a= Cal4(num1,num2)"
   ]
  },
  {
   "cell_type": "code",
   "execution_count": 6,
   "id": "35fd4a26-f8a3-47c1-8cc1-b2906e6a0fdd",
   "metadata": {},
   "outputs": [
    {
     "name": "stdout",
     "output_type": "stream",
     "text": [
      "덧셈은 14, 뺄셈은 6, 곱셈은 40, 나눗셈은 2.5\n"
     ]
    }
   ],
   "source": [
    "print(f'덧셈은 {a.add()}, 뺄셈은 {a.sub()}, 곱셈은 {a.mul()}, 나눗셈은 {a.div()}')"
   ]
  },
  {
   "cell_type": "code",
   "execution_count": null,
   "id": "f9f0cc41",
   "metadata": {},
   "outputs": [],
   "source": [
    "class setCal4(Cal4):\n",
    "    def div(self):\n",
    "        if self.second ==0:\n",
    "            return self.second\n",
    "        elif slef.first ==0:\n",
    "            return self.first\n",
    "        else:\n",
    "            return self.first / self.second"
   ]
  },
  {
   "cell_type": "markdown",
   "id": "e183380b",
   "metadata": {},
   "source": [
    "#### Q8. Order 클래스를 상속받아 extraOrder 클래스에서 메소드 오버라이딩하여 출력가격에 원이 추가되도록 출력하세요."
   ]
  },
  {
   "cell_type": "code",
   "execution_count": 15,
   "id": "21120d78",
   "metadata": {},
   "outputs": [
    {
     "name": "stdout",
     "output_type": "stream",
     "text": [
      "1000\n"
     ]
    }
   ],
   "source": [
    "class Order: \n",
    "    def __init__(self, name): \n",
    "        self.customer = 0 \n",
    "        self.name = name\n",
    "    def order(self, price): \n",
    "        self.customer += price \n",
    "        return self.customer\n",
    "\n",
    "order = Order('kevin')\n",
    "print(order.order(1000))"
   ]
  },
  {
   "cell_type": "code",
   "execution_count": 18,
   "id": "0aaa73bd",
   "metadata": {},
   "outputs": [
    {
     "name": "stdout",
     "output_type": "stream",
     "text": [
      "1000원\n"
     ]
    }
   ],
   "source": [
    "class Order: \n",
    "    def __init__(self, name): \n",
    "        self.customer = 0 \n",
    "        self.name = name\n",
    "    def order(self, price): \n",
    "        self.customer += price \n",
    "        return self.customer\n",
    "\n",
    "class pluswon(Order):\n",
    "    def order(self,price):\n",
    "        self.customer += price\n",
    "        return str(self.customer)+'원'\n",
    "\n",
    "order = pluswon('kevin')\n",
    "print(order.order(1000))"
   ]
  },
  {
   "cell_type": "markdown",
   "id": "9fcb2f12",
   "metadata": {},
   "source": [
    "#### Q9.업무미팅이 2시임을 알려주는 자동 이메일을 클래스 AutoEmail을 작성하여 아래와 같이 출력하세요.\n",
    "안녕하세요. kevin님, 업무미팅은 2시입니다."
   ]
  },
  {
   "cell_type": "code",
   "execution_count": null,
   "id": "5dba697f",
   "metadata": {},
   "outputs": [],
   "source": [
    "class AutoEmail:\n",
    "    def __init__(self,name,t):\n",
    "        self.name=name\n",
    "        self.t=t\n",
    "    def alarm(self):\n",
    "        if time.localtime().tm_hour==self.t:\n",
    "            print(f'{self.name}님, 업무미팅이 진행중입니다.\")\n",
    "        else:\n",
    "            print(f'안녕하세요{self.name}님, 업무미팅은 {self.t}시 입니다.')\n",
    "AE=AutoEmail(\"고객\",15)\n",
    "AE.alarm()"
   ]
  },
  {
   "cell_type": "markdown",
   "id": "2ff0d8a1",
   "metadata": {},
   "source": [
    "#### Q10. 정규표현식을 사용하여 text에서 전화번호만 출력하세요.\n",
    "text = '문의사항이 있으면 032-232-3245으로 연락주시기 바랍니다.'"
   ]
  },
  {
   "cell_type": "code",
   "execution_count": 14,
   "id": "88192bc0-c49f-4ec8-bb73-677ee2f1e9ee",
   "metadata": {},
   "outputs": [
    {
     "data": {
      "text/plain": [
       "'032-232-3245'"
      ]
     },
     "execution_count": 14,
     "metadata": {},
     "output_type": "execute_result"
    }
   ],
   "source": [
    "import re\n",
    "text = '문의사항이 있으면 032-232-3245으로 연락주시기 바랍니다.'\n",
    "p = re.compile(r\"\\w+\\s+(\\d+[-]\\d+[-]\\d+)\\w+\")\n",
    "m = p.search(text)\n",
    "m.group(1)"
   ]
  },
  {
   "cell_type": "markdown",
   "id": "f28d0449",
   "metadata": {},
   "source": [
    "#### Q11. 정규표현식을 사용하여 text에서 에러가 들어간 부분만 포함하는 리스트를 출력하세요.\n",
    "text = \"에러 1122, 레퍼런스 오류, 에러1033, 아규먼트 오류, 에러 xxx\""
   ]
  },
  {
   "cell_type": "code",
   "execution_count": 1,
   "id": "4e53bd3c",
   "metadata": {},
   "outputs": [
    {
     "data": {
      "text/plain": [
       "['에러 1122', '에러 xxx']"
      ]
     },
     "execution_count": 1,
     "metadata": {},
     "output_type": "execute_result"
    }
   ],
   "source": [
    "import re\n",
    "text = \"에러 1122, 레퍼런스 오류, 에러1033, 아규먼트 오류, 에러 xxx\"\n",
    "p= re.compile(\"에러\\s\\w+\")\n",
    "m = p.findall(text)\n",
    "m"
   ]
  },
  {
   "cell_type": "code",
   "execution_count": 30,
   "id": "cb30d202-1544-4039-8283-3c930163c3dc",
   "metadata": {},
   "outputs": [
    {
     "data": {
      "text/plain": [
       "['에러 1122', '에러1033', '에러 xxx']"
      ]
     },
     "execution_count": 30,
     "metadata": {},
     "output_type": "execute_result"
    }
   ],
   "source": [
    "import re\n",
    "text = \"에러 1122, 레퍼런스 오류, 에러1033, 아규먼트 오류, 에러 xxx\"\n",
    "p= re.compile(\"에러\\s\\d+|에러\\d+|에러\\s\\w+\")\n",
    "m = p.findall(text)\n",
    "m"
   ]
  },
  {
   "cell_type": "markdown",
   "id": "b2f47bc6",
   "metadata": {},
   "source": [
    "#### Q12. 정규표현식을 사용하여 text에서 지역코드만 출력하세요.\n",
    "text = '문의사항이 있으면 032-232-3245으로 연락주시기 바랍니다.'"
   ]
  },
  {
   "cell_type": "code",
   "execution_count": 2,
   "id": "e2df78c4",
   "metadata": {},
   "outputs": [
    {
     "data": {
      "text/plain": [
       "'032'"
      ]
     },
     "execution_count": 2,
     "metadata": {},
     "output_type": "execute_result"
    }
   ],
   "source": [
    "import re\n",
    "text = '문의사항이 있으면 032-232-3245으로 연락주시기 바랍니다.'\n",
    "p = re.compile(r\"\\w+\\s+(\\d{3})+[-]\\w+\")\n",
    "m = p.search(text)\n",
    "m.group(1)"
   ]
  },
  {
   "cell_type": "markdown",
   "id": "d6ca6a1b",
   "metadata": {},
   "source": [
    "#### Q13. 정규표현식을 사용하여 text에서 지역코드 제외한 번호만 출력하세요.\n",
    "text = '문의사항이 있으면 032-232-3245으로 연락주시기 바랍니다.'"
   ]
  },
  {
   "cell_type": "code",
   "execution_count": 9,
   "id": "70fc58dd-7cbb-49f5-b45d-5d50f210399e",
   "metadata": {},
   "outputs": [
    {
     "data": {
      "text/plain": [
       "'232-3245'"
      ]
     },
     "execution_count": 9,
     "metadata": {},
     "output_type": "execute_result"
    }
   ],
   "source": [
    "import re\n",
    "text = '문의사항이 있으면 032-232-3245으로 연락주시기 바랍니다.'\n",
    "p = re.compile(r\"(\\w+\\d+[-])(\\d+[-]\\d+)(\\w+)\")\n",
    "m = p.search(text)\n",
    "m.group(2)"
   ]
  },
  {
   "cell_type": "markdown",
   "id": "053385da",
   "metadata": {},
   "source": [
    "#### Q14.'abcdefghij' 에 대하여 중첩을 적용한 서브그룹 5개로 컴파일하여 group()함수를 이용하여 'abcdefghi'와 e'를 출력하세요\n"
   ]
  },
  {
   "cell_type": "code",
   "execution_count": 20,
   "id": "f366a732",
   "metadata": {},
   "outputs": [
    {
     "name": "stdout",
     "output_type": "stream",
     "text": [
      "abcdefghi\n",
      "e\n"
     ]
    }
   ],
   "source": [
    "import re\n",
    "text = 'abcdefghij'\n",
    "p = re.compile(r\"(\\w{2}\\w{2}(\\w{1})\\w{3}\\w{1})\")\n",
    "m = p.search(text)\n",
    "print(m.group(1))\n",
    "print(m.group(2))"
   ]
  },
  {
   "cell_type": "code",
   "execution_count": 2,
   "id": "8eb9890a",
   "metadata": {},
   "outputs": [
    {
     "name": "stdout",
     "output_type": "stream",
     "text": [
      "abcdefghi\n"
     ]
    },
    {
     "data": {
      "text/plain": [
       "'e'"
      ]
     },
     "execution_count": 2,
     "metadata": {},
     "output_type": "execute_result"
    }
   ],
   "source": [
    "p = re.compile('(a(b(c(d(e)f)g)h)i)j')\n",
    "m = p.match('abcdefghij')\n",
    "# print(m.group(0))\n",
    "print(m.group(1))\n",
    "m.group(5)"
   ]
  },
  {
   "cell_type": "markdown",
   "id": "3498454d",
   "metadata": {},
   "source": [
    "#### Q15. 위 문제에서 모든 서브 그룹에 대한 문자열을 포함하는 튜플을 출력하세요."
   ]
  },
  {
   "cell_type": "code",
   "execution_count": 3,
   "id": "45855ddc",
   "metadata": {},
   "outputs": [
    {
     "data": {
      "text/plain": [
       "('abcdefghi', 'bcdefgh', 'cdefg', 'def', 'e')"
      ]
     },
     "execution_count": 3,
     "metadata": {},
     "output_type": "execute_result"
    }
   ],
   "source": [
    "m.groups()"
   ]
  },
  {
   "cell_type": "code",
   "execution_count": 27,
   "id": "6def8721",
   "metadata": {},
   "outputs": [
    {
     "data": {
      "text/plain": [
       "('abcdefghi', 'e')"
      ]
     },
     "execution_count": 27,
     "metadata": {},
     "output_type": "execute_result"
    }
   ],
   "source": [
    "import re\n",
    "text = 'abcdefghij'\n",
    "m = re.match(r\"(\\w{2}\\w{2}(\\w{1})\\w{3}\\w{1})\", text)\n",
    "m.groups(0)"
   ]
  },
  {
   "cell_type": "markdown",
   "id": "3a6b1132",
   "metadata": {},
   "source": [
    "#### Q16. 이름으로 그룹을 참조하여 'Lots of punctuation 에서 Lots를 출력하세요.\n"
   ]
  },
  {
   "cell_type": "code",
   "execution_count": 2,
   "id": "7a809385",
   "metadata": {},
   "outputs": [
    {
     "data": {
      "text/plain": [
       "'Lots'"
      ]
     },
     "execution_count": 2,
     "metadata": {},
     "output_type": "execute_result"
    }
   ],
   "source": [
    "import re\n",
    "text='Lots of punctuation'\n",
    "p = re.compile(r'(\\w+)+')\n",
    "m = p.search(text)\n",
    "m.group(1)"
   ]
  },
  {
   "cell_type": "code",
   "execution_count": 36,
   "id": "1610542b-1d02-492b-81ad-097017fc3c84",
   "metadata": {},
   "outputs": [
    {
     "data": {
      "text/plain": [
       "'Lots'"
      ]
     },
     "execution_count": 36,
     "metadata": {},
     "output_type": "execute_result"
    }
   ],
   "source": [
    "import re\n",
    "text='Lots of punctuation'\n",
    "m = re.match(r'(?P<word>\\w+)+',text)\n",
    "m.group('word')"
   ]
  },
  {
   "cell_type": "markdown",
   "id": "9c133c1f",
   "metadata": {},
   "source": [
    "#### Q17. 'Paris is very very beautiful.'에서 'very very'를 출력하세요."
   ]
  },
  {
   "cell_type": "code",
   "execution_count": 8,
   "id": "076c80cd",
   "metadata": {},
   "outputs": [
    {
     "data": {
      "text/plain": [
       "'very very'"
      ]
     },
     "execution_count": 8,
     "metadata": {},
     "output_type": "execute_result"
    }
   ],
   "source": [
    "import re\n",
    "text='Paris is very very beautiful'\n",
    "p = re.compile(r'\\w+\\s(\\w{4}\\s\\w{4})+')\n",
    "m = p.search(text)\n",
    "m.group(1)"
   ]
  },
  {
   "cell_type": "markdown",
   "id": "87b4c51f",
   "metadata": {},
   "source": [
    "#### Q18. 정규표현식을 작성하여 아래와 같이 출력하세요."
   ]
  },
  {
   "cell_type": "code",
   "execution_count": 37,
   "id": "e2900715",
   "metadata": {},
   "outputs": [
    {
     "data": {
      "text/plain": [
       "['1 apple', '5 oranges', '3 boys', '4 girls', '10 army', '11 mr']"
      ]
     },
     "execution_count": 37,
     "metadata": {},
     "output_type": "execute_result"
    }
   ],
   "source": [
    "['1 apple', '5 oranges', '3 boys', '4 girls', '10 army', '11 mr']"
   ]
  },
  {
   "cell_type": "code",
   "execution_count": 38,
   "id": "8fb123b3",
   "metadata": {},
   "outputs": [
    {
     "name": "stdout",
     "output_type": "stream",
     "text": [
      "['1 apple', '5 oranges', '3 boys', '4 girls', '10 army', '11 mr']\n"
     ]
    }
   ],
   "source": [
    "import re\n",
    "li = '1 apple, 5 oranges, 3 boys, 4 girls; 10 army| 11 mr'\n",
    "regex = re.compile(r'\\d+\\s\\w+')\n",
    "list = regex.findall(li)\n",
    "print(list)"
   ]
  },
  {
   "cell_type": "markdown",
   "id": "5753ab1d",
   "metadata": {},
   "source": [
    "#### Q19. text에서 h,H 만 출력하세요"
   ]
  },
  {
   "cell_type": "code",
   "execution_count": 4,
   "id": "0b9c2693",
   "metadata": {},
   "outputs": [],
   "source": [
    "text = 'Hello my friend! Life is short you need Python!'"
   ]
  },
  {
   "cell_type": "code",
   "execution_count": 40,
   "id": "8a21d042-db48-4081-9fae-8cf060138d2c",
   "metadata": {},
   "outputs": [
    {
     "data": {
      "text/plain": [
       "['H', 'h', 'h']"
      ]
     },
     "execution_count": 40,
     "metadata": {},
     "output_type": "execute_result"
    }
   ],
   "source": [
    "import re\n",
    "text = 'Hello my friend! Life is short you need Python!'\n",
    "p = re.compile('(h|H)')\n",
    "p.findall(text)"
   ]
  },
  {
   "cell_type": "markdown",
   "id": "b8f71c5e",
   "metadata": {},
   "source": [
    "#### Q20. text에서 h,H 아닌것만 출력하세요"
   ]
  },
  {
   "cell_type": "code",
   "execution_count": 1,
   "id": "137570c1",
   "metadata": {},
   "outputs": [
    {
     "name": "stdout",
     "output_type": "stream",
     "text": [
      "['e', 'l', 'l', 'o', ' ', 'm', 'y', ' ', 'f', 'r', 'i', 'e', 'n', 'd', '!', ' ', 'L', 'i', 'f', 'e', ' ', 'i', 's', ' ', 's', 'o', 'r', 't', ' ', 'y', 'o', 'u', ' ', 'n', 'e', 'e', 'd', ' ', 'P', 'y', 't', 'o', 'n', '!']\n"
     ]
    }
   ],
   "source": [
    "import re\n",
    "text = 'Hello my friend! Life is short you need Python!'\n",
    "p = re.compile('[^h|H]')\n",
    "q = p.findall(text)\n",
    "print(q)"
   ]
  },
  {
   "cell_type": "markdown",
   "id": "437a2116",
   "metadata": {},
   "source": [
    "#### Q21. 'we are going home'에서 home만 출력하세요."
   ]
  },
  {
   "cell_type": "code",
   "execution_count": 13,
   "id": "932517b5-cf37-4796-b1b2-8efdc37ff714",
   "metadata": {},
   "outputs": [
    {
     "data": {
      "text/plain": [
       "'home'"
      ]
     },
     "execution_count": 13,
     "metadata": {},
     "output_type": "execute_result"
    }
   ],
   "source": [
    "import re\n",
    "text='we are going home'\n",
    "p = re.compile(r'(\\w{4})$')\n",
    "m = p.search(text)\n",
    "m.group(1)"
   ]
  },
  {
   "cell_type": "markdown",
   "id": "4d28372f",
   "metadata": {},
   "source": [
    "#### Q22. '199305, 1923A, a93247'에서 '199305'만 출력하세요."
   ]
  },
  {
   "cell_type": "code",
   "execution_count": 12,
   "id": "d09f5659",
   "metadata": {},
   "outputs": [
    {
     "data": {
      "text/plain": [
       "'199305'"
      ]
     },
     "execution_count": 12,
     "metadata": {},
     "output_type": "execute_result"
    }
   ],
   "source": [
    "import re\n",
    "text='199305, 1923A, a93247'\n",
    "p = re.compile(r'(\\d+)+')\n",
    "m = p.search(text)\n",
    "m.group(1)"
   ]
  },
  {
   "cell_type": "markdown",
   "id": "7fbead80",
   "metadata": {},
   "source": [
    "#### Q23. '12345abc'에서 'abc'만 출력하세요.\n"
   ]
  },
  {
   "cell_type": "code",
   "execution_count": 2,
   "id": "168910a3",
   "metadata": {},
   "outputs": [
    {
     "data": {
      "text/plain": [
       "['abc']"
      ]
     },
     "execution_count": 2,
     "metadata": {},
     "output_type": "execute_result"
    }
   ],
   "source": [
    "import re\n",
    "text = '12345abc'\n",
    "p = re.compile('abc')\n",
    "p.findall(text)"
   ]
  },
  {
   "cell_type": "code",
   "execution_count": 5,
   "id": "90ae4678",
   "metadata": {},
   "outputs": [
    {
     "data": {
      "text/plain": [
       "'abc'"
      ]
     },
     "execution_count": 5,
     "metadata": {},
     "output_type": "execute_result"
    }
   ],
   "source": [
    "text = '12345abc'\n",
    "m = re.search('\\D+',text)\n",
    "m.group()"
   ]
  },
  {
   "cell_type": "code",
   "execution_count": 6,
   "id": "48c62a4e",
   "metadata": {},
   "outputs": [
    {
     "data": {
      "text/plain": [
       "'12345'"
      ]
     },
     "execution_count": 6,
     "metadata": {},
     "output_type": "execute_result"
    }
   ],
   "source": [
    "text = '12345abc'\n",
    "m = re.search('\\d+',text)\n",
    "m.group()"
   ]
  },
  {
   "cell_type": "markdown",
   "id": "4a5b86b9",
   "metadata": {},
   "source": [
    "#### Q24. '12345abc'에서 'a'만 출력하세요.\n"
   ]
  },
  {
   "cell_type": "code",
   "execution_count": 8,
   "id": "32485b54",
   "metadata": {},
   "outputs": [
    {
     "name": "stdout",
     "output_type": "stream",
     "text": [
      "['a']\n"
     ]
    }
   ],
   "source": [
    "import re\n",
    "text = '12345abc'\n",
    "p = re.compile('a')\n",
    "q = p.findall(text)\n",
    "print(q)"
   ]
  },
  {
   "cell_type": "markdown",
   "id": "d8f69c22",
   "metadata": {},
   "source": [
    "#### Q25. 'abc12345Abc'에서 'A'만 출력하세요.\n"
   ]
  },
  {
   "cell_type": "code",
   "execution_count": 11,
   "id": "1ddfeb07",
   "metadata": {},
   "outputs": [
    {
     "name": "stdout",
     "output_type": "stream",
     "text": [
      "['A']\n"
     ]
    }
   ],
   "source": [
    "import re\n",
    "text = 'abc12345Abc'\n",
    "p = re.compile('A')\n",
    "q = p.findall(text)\n",
    "print(q)"
   ]
  },
  {
   "cell_type": "markdown",
   "id": "9e0109e2",
   "metadata": {},
   "source": [
    "#### Q26. 'Banker'에서 'anker', 'banker123'에서 'banker'를 출력하세요\n"
   ]
  },
  {
   "cell_type": "code",
   "execution_count": 2,
   "id": "98b8964f",
   "metadata": {},
   "outputs": [
    {
     "data": {
      "text/plain": [
       "'anker'"
      ]
     },
     "execution_count": 2,
     "metadata": {},
     "output_type": "execute_result"
    }
   ],
   "source": [
    "import re\n",
    "text='Banker'\n",
    "p = re.compile(r'(\\w{5})$')\n",
    "m = p.search(text)\n",
    "m.group(1)"
   ]
  },
  {
   "cell_type": "code",
   "execution_count": 1,
   "id": "c4c06d16",
   "metadata": {},
   "outputs": [
    {
     "data": {
      "text/plain": [
       "'anker'"
      ]
     },
     "execution_count": 1,
     "metadata": {},
     "output_type": "execute_result"
    }
   ],
   "source": [
    "import re\n",
    "text='Banker'\n",
    "p = re.compile(r'[A-Z](\\w+)')\n",
    "m = p.search(text)\n",
    "m.group(1)"
   ]
  },
  {
   "cell_type": "code",
   "execution_count": 28,
   "id": "41832cf0",
   "metadata": {},
   "outputs": [
    {
     "data": {
      "text/plain": [
       "'banker'"
      ]
     },
     "execution_count": 28,
     "metadata": {},
     "output_type": "execute_result"
    }
   ],
   "source": [
    "import re\n",
    "text='banker123'\n",
    "p = re.compile(r'([a-z]+)')\n",
    "m = p.search(text)\n",
    "m.group(1)"
   ]
  },
  {
   "cell_type": "code",
   "execution_count": 29,
   "id": "61d96cfe",
   "metadata": {},
   "outputs": [
    {
     "data": {
      "text/plain": [
       "'banker'"
      ]
     },
     "execution_count": 29,
     "metadata": {},
     "output_type": "execute_result"
    }
   ],
   "source": [
    "import re\n",
    "text='banker123'\n",
    "p = re.compile(r'(\\D+)')\n",
    "m = p.search(text)\n",
    "m.group(1)"
   ]
  },
  {
   "cell_type": "markdown",
   "id": "cc92e8a7",
   "metadata": {},
   "source": [
    "#### Q27. 'KOREA 대한민국'에서 '대'만 출력하세요.\n"
   ]
  },
  {
   "cell_type": "code",
   "execution_count": 7,
   "id": "a8ddf491",
   "metadata": {},
   "outputs": [
    {
     "name": "stdout",
     "output_type": "stream",
     "text": [
      "['대']\n"
     ]
    }
   ],
   "source": [
    "import re\n",
    "text='KOREA 대한민국'\n",
    "p = re.compile('대')\n",
    "#p = re.compile('\\s(\\w)')\n",
    "q = p.findall(text)\n",
    "print(q)"
   ]
  },
  {
   "cell_type": "code",
   "execution_count": 7,
   "id": "4fb12591",
   "metadata": {},
   "outputs": [
    {
     "data": {
      "text/plain": [
       "'대'"
      ]
     },
     "execution_count": 7,
     "metadata": {},
     "output_type": "execute_result"
    }
   ],
   "source": [
    "text='KOREA 대한민국'\n",
    "p = re.search('[가-힣]',text)\n",
    "p.group()"
   ]
  },
  {
   "cell_type": "markdown",
   "id": "5da7acad",
   "metadata": {},
   "source": [
    "#### Q28. text에서 'aaaaBBBcccDDDeee'을 모두 출력하세요."
   ]
  },
  {
   "cell_type": "code",
   "execution_count": 8,
   "id": "73f66f0b",
   "metadata": {},
   "outputs": [
    {
     "name": "stdout",
     "output_type": "stream",
     "text": [
      "16\n"
     ]
    }
   ],
   "source": [
    "text = 'aaaBBccDDeeaaaaBBBcccDDDeeeeeeDDDcccBBBaaaa'\n",
    "print(len('aaaaBBBcccDDDeee'))"
   ]
  },
  {
   "cell_type": "code",
   "execution_count": 20,
   "id": "3dbf8a36",
   "metadata": {},
   "outputs": [
    {
     "data": {
      "text/plain": [
       "'aaaaBBBcccDDDeee'"
      ]
     },
     "execution_count": 20,
     "metadata": {},
     "output_type": "execute_result"
    }
   ],
   "source": [
    "import re\n",
    "text = 'aaaBBccDDeeaaaaBBBcccDDDeeeeeeDDDcccBBBaaaa'\n",
    "p = re.compile(r'(\\w{16})$')\n",
    "m = p.search(text)\n",
    "\n",
    "result = m.group(1)\n",
    "result[::-1]"
   ]
  },
  {
   "cell_type": "code",
   "execution_count": 4,
   "id": "c606933a",
   "metadata": {},
   "outputs": [
    {
     "data": {
      "text/plain": [
       "'aaaaBBBcccDDDeee'"
      ]
     },
     "execution_count": 4,
     "metadata": {},
     "output_type": "execute_result"
    }
   ],
   "source": [
    "text = 'aaaBBccDDeeaaaaBBBcccDDDeeeeeeDDDcccBBBaaaa'\n",
    "p = re.search( 'a{4}B{3}c{3}D{3}e{3}',text)\n",
    "p.group()"
   ]
  },
  {
   "cell_type": "markdown",
   "id": "d3473a82",
   "metadata": {},
   "source": [
    "#### Q29. 아래의 경우에서 \\<html>만 출력하세요\n"
   ]
  },
  {
   "cell_type": "code",
   "execution_count": 10,
   "id": "1053316d",
   "metadata": {},
   "outputs": [
    {
     "name": "stdout",
     "output_type": "stream",
     "text": [
      "59\n"
     ]
    },
    {
     "data": {
      "text/plain": [
       "'<html>'"
      ]
     },
     "execution_count": 10,
     "metadata": {},
     "output_type": "execute_result"
    }
   ],
   "source": [
    "# Q\n",
    "import re\n",
    "pattern = re.compile('<.*?>') #html 태그 지우기\n",
    "text = '<html><head><title>Title</title></head><body></body></html>'\n",
    "\n",
    "print(len(text))\n",
    "p = pattern.search(text)\n",
    "p.group()"
   ]
  },
  {
   "cell_type": "markdown",
   "id": "808ca081",
   "metadata": {},
   "source": [
    "#### Q30. '1234a1234'에서  '1', '2', '3', '4'를 모두 출력하세요.\n"
   ]
  },
  {
   "cell_type": "code",
   "execution_count": 31,
   "id": "9cdaf83c",
   "metadata": {},
   "outputs": [
    {
     "data": {
      "text/plain": [
       "['1', '2', '3', '4', '1', '2', '3', '4']"
      ]
     },
     "execution_count": 31,
     "metadata": {},
     "output_type": "execute_result"
    }
   ],
   "source": [
    "import re\n",
    "text = '1234a1234'\n",
    "p = re.findall('(\\d)',text)\n",
    "p"
   ]
  },
  {
   "cell_type": "markdown",
   "id": "2f7f71af",
   "metadata": {},
   "source": [
    "#### Q32. text에서 전체문장 모두 출력하세요.\n"
   ]
  },
  {
   "cell_type": "code",
   "execution_count": 41,
   "id": "ac21dfb4",
   "metadata": {},
   "outputs": [
    {
     "name": "stdout",
     "output_type": "stream",
     "text": [
      "what are you doing?\n"
     ]
    }
   ],
   "source": [
    "import re\n",
    "text = \"what are you doing?\\nit is going to be late for school\\nwe need to hurry up\"\n",
    "regex = re.compile('.*')\n",
    "mo = regex.search(text)\n",
    "print(mo.group())"
   ]
  },
  {
   "cell_type": "code",
   "execution_count": 1,
   "id": "d1ffafe2",
   "metadata": {},
   "outputs": [
    {
     "name": "stdout",
     "output_type": "stream",
     "text": [
      "what are you doing?\n",
      "it is going to be late for school\n",
      "we need to hurry up\n"
     ]
    }
   ],
   "source": [
    "import re\n",
    "text = \"what are you doing?\\nit is going to be late for school\\nwe need to hurry up\"\n",
    "regex = re.compile('\\D*')\n",
    "mo = regex.search(text)\n",
    "print(mo.group())"
   ]
  },
  {
   "cell_type": "code",
   "execution_count": 2,
   "id": "4112c541",
   "metadata": {},
   "outputs": [
    {
     "name": "stdout",
     "output_type": "stream",
     "text": [
      "what are you doing?\n",
      "it is going to be late for school\n",
      "we need to hurry up\n"
     ]
    }
   ],
   "source": [
    "import re\n",
    "text = \"what are you doing?\\nit is going to be late for school\\nwe need to hurry up\"\n",
    "regex = re.compile('.*',re.DOTALL) # *줄바꿈 제외한 전부 다를 의미 # re.DOTALL 옵션을 주어 줄바꿈 포함 전부다로 선택\n",
    "mo = regex.search(text)\n",
    "print(mo.group())"
   ]
  },
  {
   "cell_type": "code",
   "execution_count": 42,
   "id": "7d934b75",
   "metadata": {},
   "outputs": [
    {
     "data": {
      "text/plain": [
       "'what are you doing?it is going to be late for schoolwe need to hurry up'"
      ]
     },
     "execution_count": 42,
     "metadata": {},
     "output_type": "execute_result"
    }
   ],
   "source": [
    "import re\n",
    "text = \"what are you doing?\\nit is going to be late for school\\nwe need to hurry up\"\n",
    "regex = re.sub(r'\\n','',text)\n",
    "regex"
   ]
  },
  {
   "cell_type": "markdown",
   "id": "d68873a3",
   "metadata": {},
   "source": [
    "#### Q33. text에서 대소문자 구분없이 전체문장 모두 출력하세요\n",
    "text = 'Friend fRiend friEnd FRIEND'\n"
   ]
  },
  {
   "cell_type": "code",
   "execution_count": 57,
   "id": "19a928bd",
   "metadata": {
    "scrolled": true
   },
   "outputs": [
    {
     "data": {
      "text/plain": [
       "'Friend fRiend friEnd FRIEND'"
      ]
     },
     "execution_count": 57,
     "metadata": {},
     "output_type": "execute_result"
    }
   ],
   "source": [
    "text = 'Friend fRiend friEnd FRIEND'\n",
    "\n",
    "p = re.compile('[a-z\\s]+',re.I)\n",
    "m = p.search(text)\n",
    "m.group()"
   ]
  },
  {
   "cell_type": "code",
   "execution_count": 24,
   "id": "f8592e43",
   "metadata": {},
   "outputs": [
    {
     "name": "stdout",
     "output_type": "stream",
     "text": [
      "Friend\n",
      "fRiend\n",
      "friEnd\n",
      "FRIEND\n"
     ]
    }
   ],
   "source": [
    "text = 'Friend fRiend friEnd FRIEND'\n",
    "\n",
    "regex = re.compile('friend',re.I)\n",
    "mo = regex.findall(text)\n",
    "for i in mo:\n",
    "    print(i)"
   ]
  },
  {
   "cell_type": "markdown",
   "id": "ad67ffa8",
   "metadata": {},
   "source": [
    "text = 'Friend fRiend friEnd FRIEND'\n",
    "\n",
    "p = re.findall('\\w+',text)\n",
    "for i in range(0,4):\n",
    "    print(p[i])"
   ]
  },
  {
   "cell_type": "markdown",
   "id": "43edfba4",
   "metadata": {},
   "source": [
    "#### Q34. 1609160537.371015을 \"Sat Jun 26 08:35:03 2021\" 포멧으로 출력하세요.\n"
   ]
  },
  {
   "cell_type": "markdown",
   "id": "c4e3adc8",
   "metadata": {},
   "source": [
    "ctime() 함수는 주어진 timestamp를 현지 시간대 기준으로 소위 미국에서 흔히 사용되는 요 월 일 시:분:초 년 포멧으로 변환해줍니다. 그냥 간단하게 timestamp가 나타내는 날짜와 시간을 확인해보는 용도로 쓰기에 좋습니다.\n"
   ]
  },
  {
   "cell_type": "code",
   "execution_count": 21,
   "id": "cfa3fec7",
   "metadata": {},
   "outputs": [
    {
     "data": {
      "text/plain": [
       "'Mon Dec 28 22:02:17 2020'"
      ]
     },
     "execution_count": 21,
     "metadata": {},
     "output_type": "execute_result"
    }
   ],
   "source": [
    "import time\n",
    "timestring=time.ctime(1609160537.371015)\n",
    "timestring"
   ]
  },
  {
   "cell_type": "code",
   "execution_count": 22,
   "id": "0ab4ba70",
   "metadata": {},
   "outputs": [
    {
     "name": "stdout",
     "output_type": "stream",
     "text": [
      "1609160537.371015 <class 'float'>\n",
      "2020-12-28 22:02:17.371015 <class 'datetime.datetime'>\n"
     ]
    }
   ],
   "source": [
    "from datetime import datetime\n",
    "import time\n",
    "\n",
    "t = 1609160537.371015\n",
    "print(t,type(t))\n",
    "d = datetime.fromtimestamp(t)\n",
    "print(d,type(d))"
   ]
  },
  {
   "cell_type": "code",
   "execution_count": 23,
   "id": "38e088bf",
   "metadata": {},
   "outputs": [
    {
     "data": {
      "text/plain": [
       "'Mon Dec 28 22:02:17 2020'"
      ]
     },
     "execution_count": 23,
     "metadata": {},
     "output_type": "execute_result"
    }
   ],
   "source": [
    "time = d.strftime('%a %b %d %X %Y')\n",
    "time"
   ]
  },
  {
   "cell_type": "code",
   "execution_count": 25,
   "id": "7a3f27d3",
   "metadata": {},
   "outputs": [
    {
     "data": {
      "text/plain": [
       "'Mon Dec 28 22 02 17 2020'"
      ]
     },
     "execution_count": 25,
     "metadata": {},
     "output_type": "execute_result"
    }
   ],
   "source": [
    "time = d.strftime('%a %b %d %H %M %S %Y')\n",
    "time"
   ]
  },
  {
   "cell_type": "markdown",
   "id": "0da6c3ef",
   "metadata": {},
   "source": [
    "#### Q35. 현재 날짜와 시간을 \"Sat Jun 26 08:35:03 2021\" 포멧으로 출력하세요."
   ]
  },
  {
   "cell_type": "code",
   "execution_count": 48,
   "id": "2c9f7e64",
   "metadata": {},
   "outputs": [
    {
     "name": "stdout",
     "output_type": "stream",
     "text": [
      "2022-07-25 14:47:59.472596 <class 'datetime.datetime'>\n"
     ]
    }
   ],
   "source": [
    "from datetime import datetime\n",
    "import time\n",
    "\n",
    "t = datetime.now()\n",
    "print(t,type(t))"
   ]
  },
  {
   "cell_type": "code",
   "execution_count": 49,
   "id": "fa48893a",
   "metadata": {},
   "outputs": [
    {
     "data": {
      "text/plain": [
       "'Mon Jul 25 14:47:59 2022'"
      ]
     },
     "execution_count": 49,
     "metadata": {},
     "output_type": "execute_result"
    }
   ],
   "source": [
    "now = t.strftime('%a %b %d %X %Y')\n",
    "now"
   ]
  },
  {
   "cell_type": "markdown",
   "id": "564db06b",
   "metadata": {},
   "source": [
    "#### Q36. 현재 시간을 년-월-일 시:분:초로 출력하세요."
   ]
  },
  {
   "cell_type": "code",
   "execution_count": 1,
   "id": "84782979",
   "metadata": {},
   "outputs": [
    {
     "name": "stdout",
     "output_type": "stream",
     "text": [
      "2022-07-26 12:28:34.723507 <class 'datetime.datetime'>\n"
     ]
    }
   ],
   "source": [
    "from datetime import datetime\n",
    "import time\n",
    "\n",
    "t = datetime.now()\n",
    "print(t,type(t))"
   ]
  },
  {
   "cell_type": "code",
   "execution_count": 3,
   "id": "074a9d82",
   "metadata": {},
   "outputs": [
    {
     "data": {
      "text/plain": [
       "'2022년 07월 26일 12시 28분 34초'"
      ]
     },
     "execution_count": 3,
     "metadata": {},
     "output_type": "execute_result"
    }
   ],
   "source": [
    "now = t.strftime('%Y년 %m월 %d일 %I시 %M분 %S초')\n",
    "now"
   ]
  },
  {
   "cell_type": "markdown",
   "id": "907ad450",
   "metadata": {},
   "source": [
    "#### Q37. 현재 시간을 time.time을 불러와서 년-월-일 시:분:초로 출력하세요."
   ]
  },
  {
   "cell_type": "code",
   "execution_count": 6,
   "id": "03da5e37",
   "metadata": {},
   "outputs": [
    {
     "name": "stdout",
     "output_type": "stream",
     "text": [
      "1658806826.1874244 <class 'float'>\n"
     ]
    }
   ],
   "source": [
    "t = time.time()\n",
    "print(t,type(t))"
   ]
  },
  {
   "cell_type": "code",
   "execution_count": 20,
   "id": "b526ba73",
   "metadata": {},
   "outputs": [
    {
     "data": {
      "text/plain": [
       "'2022년-07월-26일 02시:04분:36초'"
      ]
     },
     "execution_count": 20,
     "metadata": {},
     "output_type": "execute_result"
    }
   ],
   "source": [
    "now = t.strftime('%Y년-%m월-%d일 %I시:%M분:%S초')\n",
    "now"
   ]
  },
  {
   "cell_type": "markdown",
   "id": "45331184",
   "metadata": {},
   "source": [
    "#### Q38. 올해 경과된 날짜수 계산하세요"
   ]
  },
  {
   "cell_type": "code",
   "execution_count": 32,
   "id": "0ed41e0b",
   "metadata": {},
   "outputs": [
    {
     "name": "stdout",
     "output_type": "stream",
     "text": [
      "올해 1월 1일부터 206일 경과되었습니다.\n"
     ]
    }
   ],
   "source": [
    "now = datetime.now()\n",
    "since = datetime.strptime('20220101','%Y%m%d')\n",
    "#print((now-since).days)\n",
    "print(f\"올해 1월 1일부터 {(now-since).days}일 경과되었습니다.\")"
   ]
  },
  {
   "cell_type": "markdown",
   "id": "ff633210",
   "metadata": {},
   "source": [
    "#### Q39. 현재 요일을 \"2021-6-26 오늘은 토요일입니다.\"와 같은 형식으로 출력하세요.\n"
   ]
  },
  {
   "cell_type": "code",
   "execution_count": 17,
   "id": "fc9c0427",
   "metadata": {},
   "outputs": [
    {
     "data": {
      "text/plain": [
       "'2022-07-26 오늘은 화요일입니다.'"
      ]
     },
     "execution_count": 17,
     "metadata": {},
     "output_type": "execute_result"
    }
   ],
   "source": [
    "from datetime import datetime\n",
    "import time\n",
    "\n",
    "t = datetime.now()\n",
    "#print(t,type(t))\n",
    "\n",
    "#print(t.weekday())\n",
    "datedict = {0:'월요일',1:'화요일',2:'수요일',3:'목요일',4:'금요일',5:'토요일',6:'일요일'}\n",
    "date = datedict[t.weekday()]\n",
    "\n",
    "now = t.strftime(f'%Y-%m-%d 오늘은 {date}입니다.')\n",
    "now"
   ]
  },
  {
   "cell_type": "markdown",
   "id": "59680335",
   "metadata": {},
   "source": [
    "#### Q40. 1에서 백만까지 더하는데 걸리는 프로그램 실행 시간을 밀리초(ms) 단위로 구하세요.\n"
   ]
  },
  {
   "cell_type": "code",
   "execution_count": 33,
   "id": "58d76a7e",
   "metadata": {},
   "outputs": [
    {
     "name": "stdout",
     "output_type": "stream",
     "text": [
      "110.29195785522461\n"
     ]
    }
   ],
   "source": [
    "import time\n",
    "\n",
    "start = time.time() # 시작 시간 기록\n",
    "\n",
    "# 프로그램 실행\n",
    "sum = 0\n",
    "for i in range(1,1000001):\n",
    "    sum += i\n",
    "    pass\n",
    "\n",
    "end = time.time() # 끝 시간 기록\n",
    "\n",
    "# 소요 시간\n",
    "print((end-start)*1000)\n"
   ]
  },
  {
   "cell_type": "code",
   "execution_count": 40,
   "id": "cd886de8",
   "metadata": {},
   "outputs": [
    {
     "name": "stdout",
     "output_type": "stream",
     "text": [
      "0.1246190071105957\n",
      "CPU times: total: 125 ms\n",
      "Wall time: 125 ms\n"
     ]
    }
   ],
   "source": [
    "%%time\n",
    "\n",
    "start = time.time() # 시작 시간 기록\n",
    "\n",
    "# 프로그램 실행\n",
    "sum = 0\n",
    "for i in range(1,1000001):\n",
    "    sum += i\n",
    "    pass\n",
    "\n",
    "end = time.time() # 끝 시간 기록\n",
    "\n",
    "# 소요 시간\n",
    "print(end-start)\n"
   ]
  },
  {
   "cell_type": "markdown",
   "id": "19eda717",
   "metadata": {},
   "source": [
    "#### Q41. 아래 코드를 보완하여 발생 가능한 모든 예외(정수, 인덱스, 미리 파악하지 못한 예외)를 처리한 후 마지막에  '모든 예외처리 완료'를 출력하세요.\n"
   ]
  },
  {
   "cell_type": "markdown",
   "id": "865428fd",
   "metadata": {},
   "source": [
    "```\n",
    "Q. \n",
    "list_num = [52,273,32,72,100]\n",
    "\n",
    "num_input = int(input('정수 입력> '))\n",
    "print(f'{num_input}번째 요소: {list_num[num_input-1]}')\n",
    "```\n"
   ]
  },
  {
   "cell_type": "code",
   "execution_count": 82,
   "id": "a327216e",
   "metadata": {},
   "outputs": [
    {
     "name": "stdout",
     "output_type": "stream",
     "text": [
      "정수 입력> 50\n",
      "인덱스 오류\n",
      "모든 예외처리 완료\n"
     ]
    }
   ],
   "source": [
    "list_num = [52,273,32,72,100]\n",
    "try:\n",
    "    num_input = int(input('정수 입력> '))\n",
    "    print(f'{num_input}번째 요소: {list_num[num_input-1]}')\n",
    "\n",
    "except IndexError:\n",
    "    print(\"인덱스 오류\")\n",
    "except ValueError:\n",
    "    print(\"정수 오류\")\n",
    "except :\n",
    "    print(\"미리 파악하지 못한 오류\") \n",
    "# except Exceptions:\n",
    "#     print(\"미리 파악하지 못한 오류\")\n",
    "\n",
    "finally:\n",
    "    print(\"모든 예외처리 완료\")"
   ]
  },
  {
   "cell_type": "markdown",
   "id": "73e948e2",
   "metadata": {},
   "source": [
    "#### Q42. 기본가격 1000원인 2개의 상품에 대하여 임의의 추가 가격을 입력시 가격 조정한 결과를 반환하는 Price 클래스를 생성 후 객체를 만들어 price1, price2를 수행하세요. \n",
    "- price1 : 기본가격 + 추가가격\n",
    "- price2 : (기본가격 + 추가가격) * 90%"
   ]
  },
  {
   "cell_type": "code",
   "execution_count": 94,
   "id": "6eb3cb43",
   "metadata": {
    "scrolled": true
   },
   "outputs": [
    {
     "name": "stdout",
     "output_type": "stream",
     "text": [
      "추가 가격은 1000\n",
      "price1 가격은 2000원\n",
      "price2 가격은 1900.0원\n"
     ]
    }
   ],
   "source": [
    "class Price:\n",
    "    def __init__(self):\n",
    "        self.result = 1000\n",
    "    def add(self,num):\n",
    "        self.result += num\n",
    "        return self.result\n",
    "    def per(self,num):\n",
    "        self.result += (num*0.9)\n",
    "        return self.result\n",
    "\n",
    "price1 = Price().add\n",
    "price2 = Price().per\n",
    "\n",
    "num = int(input(\"추가 가격은 \"))\n",
    "print(f'price1 가격은 {price1(num)}원')\n",
    "print(f'price2 가격은 {price2(num)}원')"
   ]
  },
  {
   "cell_type": "code",
   "execution_count": null,
   "id": "2bd3fded",
   "metadata": {},
   "outputs": [],
   "source": [
    "class Price():\n",
    "    def __init__(self,price1 = 1000):\n",
    "        self.price1 = price1\n",
    "    def in_price(self,price2,slae=0):\n",
    "        self.price2 = price2\n",
    "        self.sale = salle\n",
    "    def sum_price(self):\n",
    "        price = self.price1 + self.price2\n",
    "        \n",
    "        if self.sale ==1:\n",
    "            price = price *0.9\n",
    "\n",
    "price1 = Price()\n",
    "price2 = Price()\n",
    "\n",
    "price1.in_price(100)\n",
    "price2.in_price(100,1)\n",
    "\n",
    "print(f'price1 가격은 {price1(num)}원')\n",
    "print(f'price2 가격은 {price2(num)}원')"
   ]
  },
  {
   "cell_type": "markdown",
   "id": "ee0b8dc3",
   "metadata": {},
   "source": [
    "#### Q43. strings를 문자의 크기 순서로 내림차순 정렬하세요"
   ]
  },
  {
   "cell_type": "code",
   "execution_count": 22,
   "id": "bbb95af7",
   "metadata": {},
   "outputs": [
    {
     "data": {
      "text/plain": [
       "['ababa', 'aaaa', 'bar', 'ca', 'a']"
      ]
     },
     "execution_count": 22,
     "metadata": {},
     "output_type": "execute_result"
    }
   ],
   "source": [
    "strings = ['a', 'ca', 'bar', 'aaaa', 'ababa']\n",
    "strings.sort(key=len, reverse=True)\n",
    "\n",
    "strings"
   ]
  },
  {
   "cell_type": "markdown",
   "id": "83cfb670",
   "metadata": {},
   "source": [
    "#### Q44. strings를 다양한 문자가 포함된 순서로 정렬하세요"
   ]
  },
  {
   "cell_type": "code",
   "execution_count": 38,
   "id": "5f774edd",
   "metadata": {},
   "outputs": [
    {
     "data": {
      "text/plain": [
       "['card', 'bar', 'abab', 'foo', 'aaaa']"
      ]
     },
     "execution_count": 38,
     "metadata": {},
     "output_type": "execute_result"
    }
   ],
   "source": [
    "strings = ['foo', 'card', 'bar', 'aaaa', 'abab']\n",
    "strings.sort(key = lambda x:len(set(x)))\n",
    "strings[::-1]"
   ]
  },
  {
   "cell_type": "code",
   "execution_count": 2,
   "id": "5fc8df56",
   "metadata": {},
   "outputs": [
    {
     "data": {
      "text/plain": [
       "['card', 'bar', 'foo', 'abab', 'aaaa']"
      ]
     },
     "execution_count": 2,
     "metadata": {},
     "output_type": "execute_result"
    }
   ],
   "source": [
    "strings = ['foo', 'card', 'bar', 'aaaa', 'abab']\n",
    "strings.sort(key = lambda x:len(set(x)),reverse=True)\n",
    "strings"
   ]
  },
  {
   "cell_type": "markdown",
   "id": "70fce5f9",
   "metadata": {},
   "source": [
    "#### Q45. 'abcde' 를 'edcba'로 바꾸어 출력하세요.(5가지 방법)"
   ]
  },
  {
   "cell_type": "code",
   "execution_count": 79,
   "id": "f53a3cfc",
   "metadata": {},
   "outputs": [
    {
     "name": "stdout",
     "output_type": "stream",
     "text": [
      "edcba\n"
     ]
    }
   ],
   "source": [
    "strings = 'abcde'\n",
    "print(strings[::-1])"
   ]
  },
  {
   "cell_type": "code",
   "execution_count": 77,
   "id": "d3019866",
   "metadata": {},
   "outputs": [
    {
     "name": "stdout",
     "output_type": "stream",
     "text": [
      "edcba\n"
     ]
    }
   ],
   "source": [
    "strings = 'abcde'\n",
    "strings_list= list(strings)\n",
    "\n",
    "strings_list.reverse()\n",
    "\n",
    "reverse = ''.join(strings_list)\n",
    "print(reverse)"
   ]
  },
  {
   "cell_type": "code",
   "execution_count": 78,
   "id": "c6999f81",
   "metadata": {},
   "outputs": [
    {
     "name": "stdout",
     "output_type": "stream",
     "text": [
      "edcba\n"
     ]
    }
   ],
   "source": [
    "strings = 'abcde'\n",
    "reverse = ''.join(reversed(strings))\n",
    "print(reverse)"
   ]
  },
  {
   "cell_type": "code",
   "execution_count": 65,
   "id": "f51281e9",
   "metadata": {},
   "outputs": [
    {
     "name": "stdout",
     "output_type": "stream",
     "text": [
      "edcba\n"
     ]
    }
   ],
   "source": [
    "strings = 'abcde'\n",
    "reverse = ''\n",
    "for i in strings:\n",
    "    reverse = i + reverse\n",
    "    \n",
    "print(reverse)"
   ]
  },
  {
   "cell_type": "code",
   "execution_count": 96,
   "id": "cf698011",
   "metadata": {},
   "outputs": [
    {
     "name": "stdout",
     "output_type": "stream",
     "text": [
      "edcba\n"
     ]
    }
   ],
   "source": [
    "strings = 'abcde'\n",
    "def reverse(str):\n",
    "    if str =='': return str\n",
    "    else:\n",
    "        return reverse(str[1:]) + str[0]\n",
    "print(reverse(strings))"
   ]
  },
  {
   "cell_type": "markdown",
   "id": "7e996d9b",
   "metadata": {},
   "source": [
    "#### Q46. numbers 내부에 들어 있는 숫자가 몇 번 등장하는지를 출력하는 코드를 작성하세요.\n",
    "numbers = [3,6,3,5,8,2,9,7,4,3,6,3,5,8,2,9,7,4]"
   ]
  },
  {
   "cell_type": "code",
   "execution_count": 23,
   "id": "225a075d",
   "metadata": {},
   "outputs": [
    {
     "name": "stdout",
     "output_type": "stream",
     "text": [
      "{3: 4, 6: 2, 5: 2, 8: 2, 2: 2, 9: 2, 7: 2, 4: 2}\n"
     ]
    }
   ],
   "source": [
    "numbers = [3,6,3,5,8,2,9,7,4,3,6,3,5,8,2,9,7,4]\n",
    "counter = {}\n",
    "\n",
    "for number in numbers:\n",
    "    if number in counter:\n",
    "        counter[number]+=1\n",
    "    else:\n",
    "        counter[number]=1\n",
    "print(counter)"
   ]
  },
  {
   "cell_type": "code",
   "execution_count": 1,
   "id": "6d978b6e",
   "metadata": {},
   "outputs": [
    {
     "name": "stdout",
     "output_type": "stream",
     "text": [
      "{3: 4, 6: 2, 5: 2, 8: 2, 2: 2, 9: 2, 7: 2, 4: 2}\n"
     ]
    }
   ],
   "source": [
    "numbers = [3,6,3,5,8,2,9,7,4,3,6,3,5,8,2,9,7,4]\n",
    "dic = {}\n",
    "\n",
    "for i in numbers:\n",
    "    if i in dic:\n",
    "        dic[i]+=1\n",
    "    else:\n",
    "        dic[i]=1\n",
    "print(dic)"
   ]
  },
  {
   "cell_type": "markdown",
   "id": "393a2a85",
   "metadata": {},
   "source": [
    "#### Q47. 코딩을 한줄로 작성해서 동일한 결과를 출력하세요"
   ]
  },
  {
   "cell_type": "code",
   "execution_count": 28,
   "id": "5284f154",
   "metadata": {},
   "outputs": [
    {
     "name": "stdout",
     "output_type": "stream",
     "text": [
      "[0, 4, 16, 36, 64, 100, 144, 196, 256, 324]\n",
      "[0, 4, 16, 36, 64, 100, 144, 196, 256, 324]\n"
     ]
    }
   ],
   "source": [
    "# Q.\n",
    "list = []\n",
    "for i in range(0,20,2):\n",
    "    list.append(i*i)\n",
    "print(list)\n",
    "\n",
    "list = [i*i for i in range(0,20,2)]\n",
    "print(list)\n"
   ]
  },
  {
   "cell_type": "markdown",
   "id": "77b31b7c",
   "metadata": {},
   "source": [
    "#### Q48. 반복문으로 팩토리얼을 구하는 사용자 함수를 작성하고 5!, 10!를 구하세요"
   ]
  },
  {
   "cell_type": "code",
   "execution_count": 5,
   "id": "668162d9",
   "metadata": {},
   "outputs": [
    {
     "name": "stdout",
     "output_type": "stream",
     "text": [
      "숫자5\n",
      "120\n"
     ]
    }
   ],
   "source": [
    "a = int(input(\"숫자\"))\n",
    "def f(a):\n",
    "    result = 1\n",
    "    for item in range(1,a+1,1):\n",
    "        result = result * item\n",
    "    return result\n",
    "\n",
    "print(f(a))"
   ]
  },
  {
   "cell_type": "code",
   "execution_count": 6,
   "id": "c4ee0cab",
   "metadata": {},
   "outputs": [
    {
     "name": "stdout",
     "output_type": "stream",
     "text": [
      "숫자10\n",
      "3628800\n"
     ]
    }
   ],
   "source": [
    "a = int(input(\"숫자\"))\n",
    "def f(a):\n",
    "    result = 1\n",
    "    for item in range(1,a+1,1):\n",
    "        result *= item\n",
    "    return result\n",
    "\n",
    "print(f(a))"
   ]
  },
  {
   "cell_type": "markdown",
   "id": "544a3285",
   "metadata": {},
   "source": [
    "#### Q49. 재귀란 '자기자신을 호출하는 것'을 의미한다. 재귀함수를 이용해서 팩토리얼을 구하는 사용자 함수를 작성하고 1!, 5!, 10!를 구하세요.\n",
    "factorial(n) = n * factorial(n-1) (n >= 1)"
   ]
  },
  {
   "cell_type": "code",
   "execution_count": 9,
   "id": "5f8e5e02",
   "metadata": {},
   "outputs": [
    {
     "data": {
      "text/plain": [
       "120"
      ]
     },
     "execution_count": 9,
     "metadata": {},
     "output_type": "execute_result"
    }
   ],
   "source": [
    "def factorial(n):\n",
    "    if(n>1):\n",
    "        return n * factorial(n-1)\n",
    "    else:\n",
    "        return 1\n",
    "\n",
    "factorial(5)"
   ]
  },
  {
   "cell_type": "code",
   "execution_count": 11,
   "id": "2fcedce4",
   "metadata": {},
   "outputs": [
    {
     "data": {
      "text/plain": [
       "3628800"
      ]
     },
     "execution_count": 11,
     "metadata": {},
     "output_type": "execute_result"
    }
   ],
   "source": [
    "def f(n):\n",
    "    if n ==0 :\n",
    "        return 1\n",
    "    return n * factorial(n-1)\n",
    "\n",
    "f(10)"
   ]
  },
  {
   "cell_type": "code",
   "execution_count": 19,
   "id": "8a608f15",
   "metadata": {},
   "outputs": [
    {
     "data": {
      "text/plain": [
       "3628800"
      ]
     },
     "execution_count": 19,
     "metadata": {},
     "output_type": "execute_result"
    }
   ],
   "source": [
    "def f(n):\n",
    "    if n ==1 :\n",
    "        return 1\n",
    "    return n*f(n-1)\n",
    "\n",
    "f(10)"
   ]
  },
  {
   "cell_type": "markdown",
   "id": "8732df7a",
   "metadata": {},
   "source": [
    "#### Q50. list a의 모든 원소를 실수형으로 바꾸어 출력하세요"
   ]
  },
  {
   "cell_type": "code",
   "execution_count": 21,
   "id": "300d996b",
   "metadata": {},
   "outputs": [
    {
     "name": "stdout",
     "output_type": "stream",
     "text": [
      "[1.0, 2.0, 3.0, 4.0, 5.0]\n"
     ]
    }
   ],
   "source": [
    "a = [1,2,3,4,5]\n",
    "\n",
    "float_a = []\n",
    "for i in a:\n",
    "    float_a.append(float(i))\n",
    "    \n",
    "print(float_a)"
   ]
  },
  {
   "cell_type": "code",
   "execution_count": 13,
   "id": "e54fd513",
   "metadata": {},
   "outputs": [
    {
     "data": {
      "text/plain": [
       "[1.0, 2.0, 3.0, 4.0, 5.0]"
      ]
     },
     "execution_count": 13,
     "metadata": {},
     "output_type": "execute_result"
    }
   ],
   "source": [
    "a = [1,2,3,4,5]\n",
    "a = [float(x) for x in a]\n",
    "a"
   ]
  },
  {
   "cell_type": "code",
   "execution_count": 15,
   "id": "41ea3360",
   "metadata": {},
   "outputs": [
    {
     "data": {
      "text/plain": [
       "[1.0, 2.0, 3.0, 4.0, 5.0]"
      ]
     },
     "execution_count": 15,
     "metadata": {},
     "output_type": "execute_result"
    }
   ],
   "source": [
    "a = [1,2,3,4,5]\n",
    "for i,j in enumerate(a):\n",
    "    a[i] = float(j)\n",
    "a"
   ]
  },
  {
   "cell_type": "code",
   "execution_count": 17,
   "id": "98cbee3e",
   "metadata": {},
   "outputs": [
    {
     "data": {
      "text/plain": [
       "[1.0, 2.0, 3.0, 4.0, 5.0]"
      ]
     },
     "execution_count": 17,
     "metadata": {},
     "output_type": "execute_result"
    }
   ],
   "source": [
    "a = [1,2,3,4,5]\n",
    "list(map(lambda x:float(x),a))\n"
   ]
  },
  {
   "cell_type": "code",
   "execution_count": 18,
   "id": "78ce98e2",
   "metadata": {},
   "outputs": [
    {
     "data": {
      "text/plain": [
       "[1.0, 2.0, 3.0, 4.0, 5.0]"
      ]
     },
     "execution_count": 18,
     "metadata": {},
     "output_type": "execute_result"
    }
   ],
   "source": [
    "list(map(float,a))"
   ]
  },
  {
   "cell_type": "markdown",
   "id": "9d6e6ffc",
   "metadata": {},
   "source": [
    "#### Q31. [도전과제] 문자열 리스트 states를 정형화하여 아래와 같이 출력하세요.\n"
   ]
  },
  {
   "cell_type": "code",
   "execution_count": null,
   "id": "be41e658",
   "metadata": {},
   "outputs": [],
   "source": [
    "# Q. \n",
    "states = ['   Alabama ', 'Georgia!', 'Georgia', 'georgia', 'FlOrIda',\n",
    "          'south   carolina##', 'West virginia?']\n",
    "[출력]\n",
    "['Alabama',\n",
    " 'Georgia',\n",
    " 'Georgia',\n",
    " 'Georgia',\n",
    " 'Florida',\n",
    " 'South   Carolina',\n",
    " 'West Virginia']\n"
   ]
  },
  {
   "cell_type": "code",
   "execution_count": 12,
   "id": "65c5fd3c",
   "metadata": {},
   "outputs": [
    {
     "data": {
      "text/plain": [
       "['Alabama',\n",
       " 'Georgia',\n",
       " 'Georgia',\n",
       " 'Georgia',\n",
       " 'Florida',\n",
       " 'South   Carolina',\n",
       " 'West Virginia']"
      ]
     },
     "execution_count": 12,
     "metadata": {},
     "output_type": "execute_result"
    }
   ],
   "source": [
    "states = ['   Alabama ', 'Georgia!', 'Georgia', 'georgia', 'FlOrIda',\n",
    "          'south   carolina##', 'West virginia?']\n",
    "import re\n",
    "\n",
    "def clean_strings(strings):\n",
    "    result = []\n",
    "    for value in strings:\n",
    "        value = value.strip() # 양쪽 공백 제거\n",
    "        value = re.sub('[!#?]','',value) # 특수문자 제거\n",
    "        value = value.title() # 첫글자만 대문자로 변경\n",
    "        result.append(value)\n",
    "    return result\n",
    "\n",
    "clean_strings(states)"
   ]
  },
  {
   "cell_type": "markdown",
   "id": "91455b7c",
   "metadata": {},
   "source": [
    "#### Q51. 게시물의 총 건수와 한 페이지에 보여 줄 게시물 수를 입력시 총 페이지 수를 출력하는 프로그램\n"
   ]
  },
  {
   "cell_type": "code",
   "execution_count": null,
   "id": "6fcff2f7-a477-4ca8-816e-76f98b3a4b93",
   "metadata": {},
   "outputs": [],
   "source": [
    "입력 : 총건수(m), 한페이지에 보여줄 게시물수(n) (단 n은 1보다 크거나 같다. n >= 1)\n",
    "출력 : 총페이지수"
   ]
  },
  {
   "cell_type": "code",
   "execution_count": 10,
   "id": "3e632cad-8433-4799-8ea4-3d1cd60ab35f",
   "metadata": {},
   "outputs": [
    {
     "name": "stdin",
     "output_type": "stream",
     "text": [
      "총 건수를 입력하세요:  4\n",
      "한 페이지에 보여줄 게시물 수를 입력하세요:  3\n"
     ]
    },
    {
     "name": "stdout",
     "output_type": "stream",
     "text": [
      "2\n"
     ]
    }
   ],
   "source": [
    "m = int(input(\"총 건수를 입력하세요: \"))\n",
    "n = int(input(\"한 페이지에 보여줄 게시물 수를 입력하세요: \"))\n",
    "\n",
    "pages = m//n if m % n == 0 else m // n + 1\n",
    "\n",
    "print(pages)"
   ]
  },
  {
   "cell_type": "markdown",
   "id": "e050b25d",
   "metadata": {},
   "source": [
    "#### Q52. 랜덤하게 1000명의 이름, 키와 몸무게 만들어 저장한 후 다시 불러내어 다음과 같이 출력하세요.\n",
    "\n",
    "- 이름 :라바\n",
    "- 몸무게: 80\n",
    "- 키: 146\n",
    "- BMI: 37.53049352598987\n",
    "- 결과: 과체중\n"
   ]
  },
  {
   "cell_type": "code",
   "execution_count": 1,
   "id": "b286e16e",
   "metadata": {},
   "outputs": [],
   "source": [
    "import random\n",
    "\n",
    "randomlist = list(\"가나다라마바사아자차카타파하\")\n",
    "\n",
    "with open(\"info.txt\",\"w\") as file:\n",
    "    for i in range(1000):\n",
    "        name = random.choice(randomlist) + random.choice(randomlist)\n",
    "        weight = random.randrange(40,100)\n",
    "        height = random.randrange(140,200)\n",
    "        \n",
    "        file.write(\"{},{},{}\\n\".format(name,weight,height))"
   ]
  },
  {
   "cell_type": "code",
   "execution_count": 2,
   "id": "beddba70-a7a0-43f7-be7a-051cef1aa9e2",
   "metadata": {},
   "outputs": [],
   "source": [
    "with open(\"info.txt\",\"r\")as file:\n",
    "    for line in file:\n",
    "        (name,weight,height) = line.strip().split(\",\")\n",
    "        \n",
    "        if (not name) or (not weight) or (not height):\n",
    "            continue\n",
    "            \n",
    "        bmi = int(weight) / (int(height) * int(height))\n",
    "        result = \"\"\n",
    "        \n",
    "        if bmi <=18.5:\n",
    "            result = \"저체중\"\n",
    "        elif bmi <= 22.9:\n",
    "            result = \"정상 체중\"\n",
    "        elif bmi <= 24.9:\n",
    "            result = \"과체중\"\n",
    "        else:\n",
    "            result = \"비만\"\n",
    "            \n",
    "        # print('\\n'.join([\n",
    "        #     \"이름: {}\",\n",
    "        #     \"몸무게: {}\",\n",
    "        #     \"키: {}\",\n",
    "        #     \"BMI: {}\",\n",
    "        #     \"결과: {}\"\n",
    "        # ]).format(name,weight,height,bmi,result))\n",
    "        # print()"
   ]
  },
  {
   "cell_type": "markdown",
   "id": "ef704821",
   "metadata": {},
   "source": [
    "#### Q.53 입력한 숫자를 천 단위로 구분하여 출력하세요(,)"
   ]
  },
  {
   "cell_type": "code",
   "execution_count": 7,
   "id": "03e25679",
   "metadata": {},
   "outputs": [
    {
     "name": "stdout",
     "output_type": "stream",
     "text": [
      "숫자를 입력하세요 2472578257\n",
      "2,472,578,257\n"
     ]
    }
   ],
   "source": [
    "a = int(input(\"숫자를 입력하세요 \"))\n",
    "print(\"{:,}\".format(a))"
   ]
  },
  {
   "cell_type": "markdown",
   "id": "de817b9a",
   "metadata": {},
   "source": [
    "#### Q.54. 카운터에서 거스름돈으로 사용할 500원,100원,50원,10원짜리 동전이 무한히 존재한다고 가정한다. 손님에게 거슬러 줘야할 돈이 N원일 때, 거슬러 줘야할 동전의 최소 개수를 구하세요. 단, 거슬러 줘야 할 돈 N은 항상 10의 배수이다. N은 2750원이다."
   ]
  },
  {
   "cell_type": "code",
   "execution_count": 9,
   "id": "cbc03752",
   "metadata": {},
   "outputs": [
    {
     "name": "stdout",
     "output_type": "stream",
     "text": [
      "8\n"
     ]
    }
   ],
   "source": [
    "n = 2750\n",
    "\n",
    "count=0\n",
    "\n",
    "coin_types = [500,100,50,10]\n",
    "\n",
    "for coin in coin_types:\n",
    "    count += n // coin # 동전긔 개수\n",
    "    n %= coin  # 나머지 반환            # n -= coin *(n//coin)\n",
    "print(count)"
   ]
  },
  {
   "cell_type": "code",
   "execution_count": 1,
   "id": "67ce31d1",
   "metadata": {},
   "outputs": [
    {
     "name": "stdout",
     "output_type": "stream",
     "text": [
      "8\n"
     ]
    }
   ],
   "source": [
    "n = 2750\n",
    "count = 0\n",
    "\n",
    "# 큰 단위의 화폐부터 차례대로 확인하기\n",
    "coin_types = [500, 100, 50, 10]\n",
    "\n",
    "for coin in coin_types:\n",
    "    count += n // coin # 해당 화폐로 거슬러 줄 수 있는 동전의 개수 세기\n",
    "    n %= coin\n",
    "\n",
    "print(count)\n"
   ]
  },
  {
   "cell_type": "markdown",
   "id": "d2064654",
   "metadata": {},
   "source": [
    "#### Q55. mydata.txt 파일에 있는 단어 개수를 출력하세요."
   ]
  },
  {
   "cell_type": "code",
   "execution_count": 1,
   "id": "0d892da7",
   "metadata": {},
   "outputs": [
    {
     "name": "stdout",
     "output_type": "stream",
     "text": [
      "213\n"
     ]
    }
   ],
   "source": [
    "with open('mydata.txt','r') as f:\n",
    "    data = f.read()\n",
    "    tmp = data.split()\n",
    "    print(len(tmp))\n",
    "    "
   ]
  },
  {
   "cell_type": "code",
   "execution_count": 5,
   "id": "a8faab7b-ed6f-4f66-9a49-58ad4f40789e",
   "metadata": {},
   "outputs": [
    {
     "name": "stdout",
     "output_type": "stream",
     "text": [
      "213\n"
     ]
    }
   ],
   "source": [
    "def fileopen(data):\n",
    "    with open(data,'r',encoding='UTF8') as file:\n",
    "        text = file.read()\n",
    "        splitdata = text.split()\n",
    "    return splitdata, len(splitdata)\n",
    "\n",
    "def count_character(data):\n",
    "    count = 0\n",
    "    for i in data:\n",
    "        count += len(i)\n",
    "    return count\n",
    "\n",
    "data,count = fileopen(\"mydata.txt\")\n",
    "print(count)"
   ]
  },
  {
   "cell_type": "code",
   "execution_count": 6,
   "id": "0bc2dc88-c3a4-4d9b-8aa6-e254009276dc",
   "metadata": {},
   "outputs": [
    {
     "name": "stdout",
     "output_type": "stream",
     "text": [
      "단어 출력 횟수 :  Counter({'the': 8, 'a': 6, 'on': 6, 'and': 6, 'to': 5, 'of': 4, 'so': 4, 'in': 4, 'our': 3, 'late': 3, 'you': 3, 'up': 3, \"it's\": 3, 'his': 3, 'with': 2, 'be': 2, 'if': 2, 'all': 2, 'earth': 2, 'stand': 2, 'for': 2, 'human': 2, 'rights': 2, 'push': 2, 'back': 2, 'this': 2, 'pest': 2, 'hate': 2, 'raise': 2, 'voice': 2, 'pass': 2, 'light': 2, 'unite!': 2, 'not': 2, 'too': 2, 'how': 2, 'many': 2, 'lot': 1, 'things': 1, 'occur': 1, 'each': 1, 'day': 1, \"we've\": 1, 'got': 1, 'live': 1, 'way': 1, \"there's\": 1, 'much': 1, 'misery': 1, 'screen': 1, 'commercials': 1, 'between': 1, 'russians': 1, \"won't\": 1, 'uncle': 1, 'sam': 1, \"don't\": 1, 'want': 1, 'wait': 1, 'no': 1, 'matter': 1, \"you're\": 1, 'black': 1, 'or': 1, 'white': 1, 'never': 1, 'ever': 1, 'had': 1, 'right': 1, 'look': 1, 'eternal': 1, 'skies': 1, 'see': 1, 'warfare': 1, 'even': 1, 'there': 1, 'what': 1, 'once': 1, 'has': 1, 'been': 1, 'paradise': 1, 'now': 1, 'destruction': 1, 'despair': 1, 'other': 1, 'worlds': 1, 'children': 1, 'die': 1, 'lacking': 1, 'food': 1, 'ill': 1, 'from': 1, 'fly': 1, 'oppressed': 1, 'by': 1, 'troops': 1, 'tame': 1, 'their': 1, 'land': 1, 'same': 1, 'again': 1, 'any': 1, 'man': 1, 'is': 1, 'free': 1, 'then': 1, 'tormentors': 1, 'steal': 1, 'birth': 1, 'they': 1, 'slam': 1, 'gun': 1, 'butts': 1, 'face': 1, 'leave': 1, 'woman': 1, 'choked': 1, 'mace': 1, 'tears': 1, 'flow': 1, 'away': 1, 'become': 1, 'sea': 1, 'fears': 1, 'hearts': 1, 'are': 1, 'torn': 1, 'apart': 1, 'till': 1, 'another': 1, 'torment': 1, 'starts': 1, 'but': 1, 'before': 1, 'world': 1, 'turns': 1, 'into': 1, 'sun': 1, 'cruelty': 1, 'violence': 1, 'will': 1, 'dead': 1, 'gone': 1})\n"
     ]
    }
   ],
   "source": [
    "from collections import Counter\n",
    " \n",
    "f = open(\"mydata.txt\", encoding = \"utf-8\") \n",
    "# 파일 불러오기\n",
    "# encoding = \"utf-8\"은 불러온 파일의 한글이 깨지지 않게 함\n",
    " \n",
    "count = Counter(f.read().split()) # 파일을 불러와 단어 단위로 split(자른) 수를 세어 count 변수에 저장\n",
    "print(\"단어 출력 횟수 : \", count) # 출력\n"
   ]
  },
  {
   "cell_type": "markdown",
   "id": "61519107",
   "metadata": {},
   "source": [
    "#### Q56.\n",
    "파일이름과 특정 단어을 인자로 입력하면 그 파일에 있는 특정 단어의 개수를 반환하는 사용자 함수를 이용하여 mydata 파일에서 how의 개수를 출력하세요.\n"
   ]
  },
  {
   "cell_type": "code",
   "execution_count": 18,
   "id": "20bdc8b8",
   "metadata": {},
   "outputs": [],
   "source": [
    "def findTextCountInText(fname,word):\n",
    "  count = 0\n",
    "  with open(\"mydata.txt\", \"r\",encoding = \"utf-8\") as f:\n",
    "      for line in f:\n",
    "        if word in line:\n",
    "          count = count + 1\n",
    "  return count"
   ]
  },
  {
   "cell_type": "code",
   "execution_count": 20,
   "id": "30341d49-9607-4552-98c6-1a6457ce79eb",
   "metadata": {},
   "outputs": [
    {
     "name": "stdout",
     "output_type": "stream",
     "text": [
      "2\n"
     ]
    }
   ],
   "source": [
    "print(findTextCountInText(\"mydata.text\",\"how\"))"
   ]
  },
  {
   "cell_type": "code",
   "execution_count": 2,
   "id": "f5df9eb5",
   "metadata": {},
   "outputs": [
    {
     "name": "stdout",
     "output_type": "stream",
     "text": [
      "filename을 입력하세요: mydata.txt\n",
      "filename에서 개수를 구할 단어를 입력하세요: how\n",
      "how의 개수: 2\n"
     ]
    }
   ],
   "source": [
    "def countWord(filename, word):\n",
    "    with open(filename, 'r') as f:\n",
    "        text = f.read()\n",
    "        text = text.lower() # 대,소문자 모두 찾기위해 소문자로 변경하여 나오게!\n",
    "        pos = text.find(word)\n",
    "        count = 0\n",
    "        while pos != -1: # 없을 때까지 하나씩 카운트\n",
    "            count += 1\n",
    "            pos = text.find(word, pos+1)\n",
    "    return count\n",
    "\n",
    "filename = input('filename을 입력하세요: ')\n",
    "word = input('filename에서 개수를 구할 단어를 입력하세요: ').lower() # 대,소문자 모두 찾기위해 소문자로 변경하여 나오게!\n",
    "ret = countWord(filename, word)\n",
    "print(f'{word}의 개수: {ret}')\n"
   ]
  },
  {
   "cell_type": "markdown",
   "id": "2fdd54dd",
   "metadata": {},
   "source": [
    "#### Q57.\n",
    "문자열을 입력받아 같은 문자가 연속적으로 반복되는 경우에 그 반복 횟수를 표시해 문자열을 압축하여 표시하세요.\n",
    "- 예) \"aaabbcccccca\" -> a3b2c6a1\n"
   ]
  },
  {
   "cell_type": "code",
   "execution_count": 2,
   "id": "3179f8e0",
   "metadata": {},
   "outputs": [
    {
     "name": "stdout",
     "output_type": "stream",
     "text": [
      "아무말: aaabbcccccca\n",
      "a3b2c6a1\n"
     ]
    }
   ],
   "source": [
    "a = input(\"아무말: \")\n",
    "\n",
    "result = a[0] # 반복문 실행되는 동안 문자열 형태로 반환되는 결과들을 담을 변수\n",
    "count = 0 # 반복되서 나오는 문자 수만큼 카운팅되는 값을 담을 변수\n",
    "\n",
    "for text in a:\n",
    "    if text == result[-1]: #result변수 마지막 문자와 비교합니다. else에서 result변수에 값이 추가되기 때문에 마지막 문자[-1]와 비교.\n",
    "        count += 1\n",
    "    else:\n",
    "        result += str(count) +text # 마지막 글자와 i가 다를 경우 카운팅된 값을 문자열 형태로 result 변수 마지막에 추가 해주고 i를 마지막 문자로 추가합니다.\n",
    "        count = 1\n",
    "result += str(count) # 결과들이 담긴 변수에 마지막으로 카운팅된 값을 문자열 형태로 추가합니다.\n",
    "\n",
    "print(result)"
   ]
  },
  {
   "cell_type": "markdown",
   "id": "88d372e4",
   "metadata": {},
   "source": [
    "#### Q62.\n",
    "N개의 요소로 이루어진 배열이 있을 때 주어진 수들을 M번 더하여 가장 큰 수를 만드는 프로그램을 작성하세요. 단 배열의 특정한 인덱스(번호)에 해당하는 수가 연속해서 K번을 초과하여 더해질 수 없는 것이 특징이다.\n",
    "프로그램은 다음 조건을 만족하는 N, M, K를 공백으로 일차 입력하고 N개의 배열을 공백으로 이차 입력하면 결과물을 출력하는 방식으로 수행함.\n",
    "- 2 <= N <= 1000\n",
    "- 1 <= M <= 10000\n",
    "- 1 <= K <= 10000\n"
   ]
  },
  {
   "cell_type": "code",
   "execution_count": 1,
   "id": "801e6334-c6cd-46c0-9047-8429cc81db50",
   "metadata": {},
   "outputs": [
    {
     "name": "stdin",
     "output_type": "stream",
     "text": [
      "N M K(왼쪽과 같은 형식으로 숫자를 입력하세요.) 254\n"
     ]
    },
    {
     "ename": "IndexError",
     "evalue": "list index out of range",
     "output_type": "error",
     "traceback": [
      "\u001b[0;31m---------------------------------------------------------------------------\u001b[0m",
      "\u001b[0;31mIndexError\u001b[0m                                Traceback (most recent call last)",
      "Input \u001b[0;32mIn [1]\u001b[0m, in \u001b[0;36m<cell line: 2>\u001b[0;34m()\u001b[0m\n\u001b[1;32m      2\u001b[0m ip \u001b[38;5;241m=\u001b[39m \u001b[38;5;28minput\u001b[39m(\u001b[38;5;124m'\u001b[39m\u001b[38;5;124mN M K(왼쪽과 같은 형식으로 숫자를 입력하세요.)\u001b[39m\u001b[38;5;124m'\u001b[39m)\u001b[38;5;241m.\u001b[39msplit(\u001b[38;5;124m'\u001b[39m\u001b[38;5;124m \u001b[39m\u001b[38;5;124m'\u001b[39m)\n\u001b[1;32m      3\u001b[0m N \u001b[38;5;241m=\u001b[39m \u001b[38;5;28mint\u001b[39m(ip[\u001b[38;5;241m0\u001b[39m])\n\u001b[0;32m----> 4\u001b[0m M \u001b[38;5;241m=\u001b[39m \u001b[38;5;28mint\u001b[39m(\u001b[43mip\u001b[49m\u001b[43m[\u001b[49m\u001b[38;5;241;43m1\u001b[39;49m\u001b[43m]\u001b[49m)\n\u001b[1;32m      5\u001b[0m K \u001b[38;5;241m=\u001b[39m \u001b[38;5;28mint\u001b[39m(ip[\u001b[38;5;241m2\u001b[39m])\n\u001b[1;32m      6\u001b[0m result \u001b[38;5;241m=\u001b[39m \u001b[38;5;241m0\u001b[39m\n",
      "\u001b[0;31mIndexError\u001b[0m: list index out of range"
     ]
    }
   ],
   "source": [
    "while True:\n",
    "    ip = input('N M K(왼쪽과 같은 형식으로 숫자를 입력하세요.)').split(' ')\n",
    "    N = int(ip[0])\n",
    "    M = int(ip[1])\n",
    "    K = int(ip[2])\n",
    "    result = 0\n",
    "    print(N,M,K)\n",
    "    \n",
    "    if (2 <= N <=1000) & (1 <= M <= 10000) & (1 <= K <= 10000):\n",
    "        pass\n",
    "    else:\n",
    "        print('''\n",
    "        아래의 조건에 맞게 입력해주세요.\n",
    "        2 <= N <= 1000\n",
    "        1 <= M <= 10000\n",
    "        1 <= K <= 10000\n",
    "        ''')\n",
    "        continue\n",
    "        \n",
    "    Ni = list(map(int, input('n n n n n(왼쪽과 같은 형식으로 배열을 입력하세요.)').split(' ')))\n",
    "    if N != len(Ni):\n",
    "        print('배열의 갯수가 다릅니다 다시 입력해 주세요')\n",
    "        continue\n",
    "    else:\n",
    "        if M <= K:\n",
    "            result = max(Ni)*M\n",
    "        else:\n",
    "            for i in range(1,M+1):\n",
    "                if i % K == 0:\n",
    "                    result += max(Ni)\n",
    "                    Ni.remove(max(Ni))\n",
    "                else:\n",
    "                    result += max(Ni)\n",
    "    print(result)\n",
    "    break"
   ]
  },
  {
   "cell_type": "markdown",
   "id": "967ae44b-aa4d-40cc-9ea5-f26b6482f6db",
   "metadata": {},
   "source": [
    "1. input('배열 요소로 이루어진 개수' '가장 큰 수가 되게 요소들을 총 M번 더하도록 함' '대신 한 요소당 k번이 최대로 더할 수 있음' )\n",
    "2. input(배열 요소 입력)\n",
    "3. 제일 큰 수를 더할 수 있는 제한이 k번"
   ]
  },
  {
   "cell_type": "code",
   "execution_count": 2,
   "id": "dd66132a-b656-4bee-93d0-309db8ec65eb",
   "metadata": {},
   "outputs": [],
   "source": [
    "#함수 지정: for문, if문 포함\n",
    "def array_max(n,m,k, arr):\n",
    "    total = 0\n",
    "    while True:\n",
    "        for i in range(k):\n",
    "            arr_max = arr.max()    #제일 큰 수를 찾아서 k번 더하기\n",
    "            total += arr_max       \n",
    "        idx = np.where(arr==arr_max)  #제일 큰 수의 배열 속 인덱스 찾기\n",
    "        arr = np.delete(arr,idx)      #제일 큰 수 삭제\n",
    "        m -= k                #남아있는 덧셈 횟수 조정\n",
    "    \n",
    "        if m < k:             #남아있는 덧셈 횟수가 최대 덧셈횟수보다 작은 경우\n",
    "            for i in range(m):\n",
    "                arr_max = arr.max()\n",
    "                total += arr_max     #제일 큰 수를 남아있는 횟수 만큼 더하기\n",
    "            break                  #그럼 끝\n",
    "    return f'요소당 최대 덧셈 횟수가 {k}번, 총 덧셈 횟수가 {m}번 일 때, 주어진 배열을 가지고 만들 수 있는 최대값은 {total}입니다.'"
   ]
  },
  {
   "cell_type": "code",
   "execution_count": 3,
   "id": "0e065b0d-0e20-4974-957b-3336831b9342",
   "metadata": {},
   "outputs": [],
   "source": [
    "#함수 지정: for문, if문 포함2\n",
    "def array_max(n,m,k, arr):\n",
    "    total = 0\n",
    "    x,y = divmod(m,k)\n",
    "    for i in range(x):\n",
    "        arr_max = arr.max()    #제일 큰 수를 찾아서 k번 더하기\n",
    "        total += arr_max*k       \n",
    "        idx = np.where(arr==arr_max)  #제일 큰 수의 배열 속 인덱스 찾기\n",
    "        arr = np.delete(arr,idx)      #제일 큰 수 삭제\n",
    "        \n",
    "        if i == x-1: \n",
    "            arr_max = arr.max()\n",
    "            total += arr_max*y    #제일 큰 수를 남아있는 횟수 만큼 더하기\n",
    "\n",
    "    return f'요소당 최대 덧셈 횟수가 {k}번, 총 덧셈 횟수가 {m}번 일 때, 주어진 배열을 가지고 만들 수 있는 최대값은 {total}입니다.'"
   ]
  },
  {
   "cell_type": "code",
   "execution_count": 4,
   "id": "e9537f0a-3911-4957-8476-9ca1db9723d8",
   "metadata": {},
   "outputs": [],
   "source": [
    "#함수 지정: for문, if문 미포함\n",
    "\n",
    "def array_max(n,m,k,arr):\n",
    "    arr = sorted(arr, reverse = True)\n",
    "    x, y = divmod(m,k)\n",
    "    \n",
    "    if y == 0:\n",
    "        total = total = sum(arr[:x])*k\n",
    "    else:\n",
    "        total = sum(arr[:x])*k + arr[x]*y\n",
    "    \n",
    "    return f'요소당 최대 덧셈 횟수가 {k}번, 총 덧셈 횟수가 {m}번 일 때, 주어진 배열을 가지고 만들 수 있는 최대값은 {total}입니다.'"
   ]
  },
  {
   "cell_type": "code",
   "execution_count": 5,
   "id": "91c6d53a-617f-4181-9187-02249e619794",
   "metadata": {},
   "outputs": [
    {
     "name": "stdin",
     "output_type": "stream",
     "text": [
      ">> 배열 요소의 수, 덧셈할 횟수, 최대 덧셈이 가능한 횟수를 공백으로 분리하여 입력하세요.\n",
      " 2 10 5\n",
      ">> 배열의 요소를 공백으로 분리하여 입력하세요.\n",
      " 1 2\n"
     ]
    },
    {
     "data": {
      "text/plain": [
       "'요소당 최대 덧셈 횟수가 5번, 총 덧셈 횟수가 10번 일 때, 주어진 배열을 가지고 만들 수 있는 최대값은 15입니다.'"
      ]
     },
     "execution_count": 5,
     "metadata": {},
     "output_type": "execute_result"
    }
   ],
   "source": [
    "import numpy as np\n",
    "\n",
    "#함수 인자값을 제대로 받을 때까지 돌리자\n",
    "while True:     \n",
    "    x = input('>> 배열 요소의 수, 덧셈할 횟수, 최대 덧셈이 가능한 횟수를 공백으로 분리하여 입력하세요.\\n')\n",
    "    n = int(x.split(' ')[0])\n",
    "    m = int(x.split(' ')[1])\n",
    "    k = int(x.split(' ')[2])\n",
    "    \n",
    "    if n <= m//k and m % k >= 1:       \n",
    "        print(f'※경고: 배열 요소의 수를 {m//k+1} 이상의 값으로 입력해주세요')      \n",
    "        continue\n",
    "    else:\n",
    "        break\n",
    "        \n",
    "        \n",
    "#배열 요소값을 제대로 받을 때까지 돌리자\n",
    "while True:     \n",
    "    y = input('>> 배열의 요소를 공백으로 분리하여 입력하세요.\\n')\n",
    "    arr = np.array([int(i) for i in y.split(' ')])\n",
    "\n",
    "    \n",
    "    if len(arr) != n:    #배열 요소의 개수가 입력값과 다른 경우\n",
    "        print(f'※경고: 배열 요소의 수를 {n}개가 되도록 입력해주세요')\n",
    "        continue    \n",
    "    \n",
    "    #배열 요소의 개수가 입력값과 같은 경우 \n",
    "    elif len(set(arr)) == m//k and m%k > 0:   #고유 요소 개수가 총 덧셈 횟수를 최대 덧셈 횟수로 나눴을 때와 같은 경우\n",
    "            print(f'※경고: 고유한 요소가 {m//k+1}개 이상 되도록 입력해주세요.')\n",
    "            continue\n",
    "    elif len(set(arr)) < m//k:  #고유 요소 개수가 총 덧셈 횟수를 최대 덧셈 횟수로 나눴을 때보다 작은 경우\n",
    "        if m%k >= 1: \n",
    "            print(f'※경고: 고유한 요소가 {m//k+1}개 이상 되도록 입력해주세요.')\n",
    "            continue\n",
    "        elif m%k == 0: \n",
    "            print(f'※경고: 고유한 요소가 {m//k}개 이상 되도록 입력해주세요.')\n",
    "            continue\n",
    "    else:\n",
    "        break\n",
    "\n",
    "array_max(n,m,k,arr)  \n"
   ]
  },
  {
   "cell_type": "markdown",
   "id": "0f8ae609-d3aa-46cf-9ca2-d3b1af50f23e",
   "metadata": {},
   "source": [
    "Q61. file1, 2의 파일 크기를 각각 구하세요.\n",
    "file1 = 'data/stockcode.txt'\n",
    "file2 = 'data/img_sample.jpg'"
   ]
  },
  {
   "cell_type": "code",
   "execution_count": 8,
   "id": "0287441d-2958-4a2a-b4bb-5eef579cfc3b",
   "metadata": {},
   "outputs": [
    {
     "name": "stdout",
     "output_type": "stream",
     "text": [
      "15414 Bytes\n",
      "15.052734375 KB\n",
      "0.01 MB\n"
     ]
    }
   ],
   "source": [
    "import os\n",
    "\n",
    "\n",
    "try:\n",
    "  n = os.path.getsize(\"stockcode.txt\")\n",
    "  print(n, \"Bytes\")                           # 바이트 단위로 구하기\n",
    "  print(n / 1024, \"KB\")                       # 킬로바이트 단위로\n",
    "  print(\"%.2f MB\" % (n / (1024.0 * 1024.0)))  # 메가바이트 단위로\n",
    "except os.error:\n",
    "  print(\"파일이 없거나 에러입니다.\")"
   ]
  },
  {
   "cell_type": "code",
   "execution_count": 10,
   "id": "d81c0369-2c8a-4c62-8de6-148fc5f2479a",
   "metadata": {},
   "outputs": [
    {
     "name": "stdout",
     "output_type": "stream",
     "text": [
      "856738 Bytes\n",
      "836.658203125 KB\n",
      "0.82 MB\n"
     ]
    }
   ],
   "source": [
    "import os\n",
    "\n",
    "\n",
    "try:\n",
    "  n = os.path.getsize(\"img_sample.jpg\")\n",
    "  print(n, \"Bytes\")                           # 바이트 단위로 구하기\n",
    "  print(n / 1024, \"KB\")                       # 킬로바이트 단위로\n",
    "  print(\"%.2f MB\" % (n / (1024.0 * 1024.0)))  # 메가바이트 단위로\n",
    "except os.error:\n",
    "  print(\"파일이 없거나 에러입니다.\")"
   ]
  },
  {
   "cell_type": "code",
   "execution_count": 13,
   "id": "cbdb1e06",
   "metadata": {},
   "outputs": [
    {
     "name": "stdout",
     "output_type": "stream",
     "text": [
      "290 856738\n",
      "290 856738\n",
      "290 856738\n"
     ]
    }
   ],
   "source": [
    "import os\n",
    "\n",
    "print(os.stat('stockcode.txt').st_size, os.stat('img_sample.jpg').st_size)\n",
    "\n",
    "with open('stockcode.txt','r') as f:\n",
    "    f.seek(0, 2)\n",
    "    at = f.tell()\n",
    "with open('img_sample.jpg','r') as f:\n",
    "    f.seek(0, 2)\n",
    "    bt = f.tell()\n",
    "print(at , bt)\n",
    "\n",
    "print(os.path.getsize('stockcode.txt'), os.path.getsize('img_sample.jpg'))"
   ]
  },
  {
   "cell_type": "markdown",
   "id": "cbeecc44-686f-4651-9f8e-13fc8fad7e8b",
   "metadata": {},
   "source": [
    "Q62.\n",
    "stockcode.txt의 105바이트 위치에서 500바이트를 읽어 그 내용은 stock_part.txt에 저장 한 후 출력하세요."
   ]
  },
  {
   "cell_type": "code",
   "execution_count": null,
   "id": "afd8a0c3-d363-4185-9d3a-1bc3739aab24",
   "metadata": {},
   "outputs": [],
   "source": [
    "i, j = divmod(M,K)\n",
    "total_sum = sum(array_b[:i]) * 3 + array_b[i] * j"
   ]
  },
  {
   "cell_type": "code",
   "execution_count": 14,
   "id": "998cd590",
   "metadata": {},
   "outputs": [
    {
     "name": "stdout",
     "output_type": "stream",
     "text": [
      "소재\n",
      "000320 디피아이홀딩스\n",
      "000321 디피아이홀딩스우\n",
      "000322 디피아이홀딩스2B\n",
      "000360 삼환기업\n",
      "000361 삼환기업우\n",
      "000370 한화손해보험\n",
      "000390 삼화페인트\n",
      "000400 롯데손해보험\n",
      "000420 로\n"
     ]
    },
    {
     "data": {
      "text/plain": [
       "185"
      ]
     },
     "execution_count": 14,
     "metadata": {},
     "output_type": "execute_result"
    }
   ],
   "source": [
    "import os\n",
    "\n",
    "with open('stockcode.txt','rb') as f:\n",
    "    f.seek(105,0) # 105바이트 위치로 이동\n",
    "    body = f.read(500) # 500바이트 읽기\n",
    "\n",
    "with open('stock_part.txt', 'wb') as f:\n",
    "    f.write(body)\n",
    "\n",
    "with open('stock_part.txt', 'r') as f:\n",
    "    print(f.read())\n",
    "\n",
    "os.path.getsize('stock_part.txt')"
   ]
  },
  {
   "cell_type": "markdown",
   "id": "5df24c54",
   "metadata": {},
   "source": [
    "#### Q63.\n",
    "네이버 검색에서 관심 주제와 기사 수를 입력하면 그만큼 출력하는 크롤링 프로그램을 작성하여 다음 사항을 수행하세요.\n",
    "\n",
    "기사 제목과 링크를 데이터프레임으로 가져온 후 본문 내용에서 한글 단어만 출력하여 형태소 분석\n",
    "최근 국내 'AI'와 관련하여 가장 많이 언급되는 단어에 대한 빈도분석 및 시각화\n",
    "AI 분야에서의 유의할 만한 트랜드 정보 및 인사이트 도출\n"
   ]
  },
  {
   "cell_type": "code",
   "execution_count": null,
   "id": "1287494c",
   "metadata": {},
   "outputs": [],
   "source": [
    "#불용어처리 - 빈도분석 - 시각화 - 워드클라우드"
   ]
  },
  {
   "cell_type": "markdown",
   "id": "de15dc63",
   "metadata": {},
   "source": [
    "#### Q.64\n",
    "어떠한 수 N이 1이 될 때까지 다음의 두 과정 중 하나를 반복적으로 선택하여 수행하려고 한다. 단 두번째 연산은 N이 K로 나누어 떨어질 때만 선택할 수 있다.  N과 K를 입력했을 때 N이 1이 될 때까지 1번 혹은 2번의 과정을 수행해야 하는 최소 횟수를 구하는 프로그램을 완성하세요.\n",
    "\n",
    "1. N에서 1을 뺀다.\n",
    "2. N을 K로 나눈다.\n"
   ]
  },
  {
   "cell_type": "code",
   "execution_count": 2,
   "id": "87ad36a4",
   "metadata": {},
   "outputs": [
    {
     "name": "stdout",
     "output_type": "stream",
     "text": [
      "17 4\n",
      "3\n"
     ]
    }
   ],
   "source": [
    "n, k = map(int,input().split())\n",
    "count = 0\n",
    "\n",
    "while True:\n",
    "    if n == 1:\n",
    "        break\n",
    "    if n % k == 0:\n",
    "        n //= k\n",
    "        count += 1\n",
    "    else:\n",
    "        n -= 1\n",
    "        count += 1\n",
    "\n",
    "print(count)\n",
    "\n"
   ]
  },
  {
   "cell_type": "markdown",
   "id": "46da7bd1",
   "metadata": {},
   "source": [
    "#### Q65. 아래와 같이 출력하는 코드를 작성하세요."
   ]
  },
  {
   "cell_type": "code",
   "execution_count": null,
   "id": "0be21e5d",
   "metadata": {},
   "outputs": [],
   "source": [
    "*\n",
    "**\n",
    "***\n",
    "****\n",
    "*****"
   ]
  },
  {
   "cell_type": "code",
   "execution_count": 1,
   "id": "f3b09038-5309-4a2e-876a-d0bb426e06fa",
   "metadata": {},
   "outputs": [
    {
     "name": "stdout",
     "output_type": "stream",
     "text": [
      "*\n",
      "**\n",
      "***\n",
      "****\n",
      "*****\n"
     ]
    }
   ],
   "source": [
    "for i in range(5):        # 0부터 4까지 5번 반복. 세로 방향\n",
    "    for j in range(5):    # 0부터 4까지 5번 반복. 가로 방향\n",
    "        if j <= i:                # 세로 방향 변수 i만큼\n",
    "            print('*', end='')    # 별 출력. end에 ''를 지정하여 줄바꿈을 하지 않음\n",
    "    print()    # 가로 방향으로 별을 다 그린 뒤 다음 줄로 넘어감"
   ]
  },
  {
   "cell_type": "markdown",
   "id": "773a641c-b14e-4418-b947-1fef6a8a52cb",
   "metadata": {},
   "source": [
    "#### Q66. 아래와 같이 출력하는 코드를 작성하세요."
   ]
  },
  {
   "cell_type": "code",
   "execution_count": null,
   "id": "d2c13ed9-0b79-4cfc-8ef4-dec147febc6f",
   "metadata": {},
   "outputs": [],
   "source": [
    "     *\n",
    "    ***\n",
    "   *****\n",
    "  *******\n",
    " *********\n",
    "  *******\n",
    "   *****\n",
    "    ***\n",
    "     *"
   ]
  },
  {
   "cell_type": "code",
   "execution_count": 3,
   "id": "20526810-565f-4b87-910a-c9904f02d23a",
   "metadata": {},
   "outputs": [
    {
     "name": "stdin",
     "output_type": "stream",
     "text": [
      "마름모 별 최대 개수 :  9\n"
     ]
    },
    {
     "name": "stdout",
     "output_type": "stream",
     "text": [
      "    *\n",
      "   ***\n",
      "  *****\n",
      " *******\n",
      "*********\n",
      " *******\n",
      "  *****\n",
      "   ***\n",
      "    *\n"
     ]
    }
   ],
   "source": [
    "# while문으로 짜기\n",
    "star = int(input('마름모 별 최대 개수 : '))\n",
    "i = 1 if star % 2 == 1 else 2\n",
    "\n",
    "while i < star:\n",
    "    print('{0}{1}'.format(' '*((star-i)//2), '*'*i))\n",
    "    i += 2\n",
    "while i > 0:\n",
    "    print('{0}{1}'.format(' '*((star-i)//2), '*'*i))\n",
    "    i -= 2"
   ]
  },
  {
   "cell_type": "code",
   "execution_count": 11,
   "id": "c148add8-2d17-4b5c-9dd8-a8ef41017386",
   "metadata": {},
   "outputs": [
    {
     "name": "stdin",
     "output_type": "stream",
     "text": [
      "마름모 별 최대 개수 :  9\n"
     ]
    },
    {
     "name": "stdout",
     "output_type": "stream",
     "text": [
      "    *    \n",
      "   ***   \n",
      "  *****  \n",
      " ******* \n",
      "*********\n",
      " ******* \n",
      "  *****  \n",
      "   ***   \n",
      "    *    \n"
     ]
    }
   ],
   "source": [
    "# for문으로 짜기\n",
    "star = int(input('마름모 별 최대 개수 : '))\n",
    "i = 1 if star % 2 == 1 else 2\n",
    "\n",
    "for i in range(i, star+1, 2):\n",
    "    print('{0}{1}{0}'.format(' '*((star-i)//2), '*'*i))\n",
    "for i in range(i-2, 0, -2):\n",
    "    print('{0}{1}{0}'.format(' '*((star-i)//2), '*'*i))"
   ]
  },
  {
   "cell_type": "code",
   "execution_count": null,
   "id": "b99c4b2b-3843-417e-a38f-8e62b5ac5ef9",
   "metadata": {},
   "outputs": [],
   "source": [
    "# 다이아몬드 구성 확인\n",
    "# 피라미드\n",
    "공백은 1칸씩 줄고, 별은 2개씩 늘어나는 형태\n",
    "i번째 줄(0부터 시작)에서 공백은 5 - i칸, 별은 2 * i + 1개\n",
    "# 역 피라미드\n",
    "공백은 1칸씩 증가, 별은 2개씩 감소\n",
    "i번째 줄(0부터 시작) 입장에서 살펴보면 공백은 i칸, 별은 11 - 2 * i개"
   ]
  },
  {
   "cell_type": "code",
   "execution_count": 5,
   "id": "0580d292-308d-4de5-9606-57cf4ea153ce",
   "metadata": {},
   "outputs": [
    {
     "name": "stdout",
     "output_type": "stream",
     "text": [
      "     *\n",
      "    ***\n",
      "   *****\n",
      "  *******\n",
      " *********\n",
      "***********\n",
      "***********\n",
      " *********\n",
      "  *******\n",
      "   *****\n",
      "    ***\n",
      "     *\n"
     ]
    }
   ],
   "source": [
    "for i in range(6): # 정방향\n",
    "    print(' ' * (5 - i) + '*' * (i * 2 + 1))\n",
    "for i in range(6): # 역방향\n",
    "    print(' ' * i + '*' * (11 - (2 * i)))"
   ]
  },
  {
   "cell_type": "markdown",
   "id": "baf1f738-cab4-4656-b472-654925ff090e",
   "metadata": {},
   "source": [
    "#### Q67. Tree의 높이와 밑동의 높이를 입력하면 해당하는 높이의 아래와 같은 모양을Tree를 출력하는 프로그램을 작성하세요."
   ]
  },
  {
   "cell_type": "code",
   "execution_count": null,
   "id": "a670b2fb-c15d-4561-933e-fa17a0001f4f",
   "metadata": {},
   "outputs": [],
   "source": [
    "         *\n",
    "        ***\n",
    "       *****\n",
    "      *******\n",
    "     *********\n",
    "    ***********\n",
    "   *************\n",
    "  ***************\n",
    " *****************\n",
    "*******************\n",
    "        ***\n",
    "        ***\n",
    "        ***"
   ]
  },
  {
   "cell_type": "code",
   "execution_count": 4,
   "id": "3af92d4a-956f-4988-8383-cad5ba8ac558",
   "metadata": {},
   "outputs": [
    {
     "name": "stdin",
     "output_type": "stream",
     "text": [
      "tree 높이 :  10\n"
     ]
    },
    {
     "name": "stdout",
     "output_type": "stream",
     "text": [
      "          *\n",
      "         ***\n",
      "        *****\n",
      "       *******\n",
      "      *********\n",
      "     ***********\n",
      "    *************\n",
      "   ***************\n",
      "  *****************\n",
      " *******************\n",
      "         ***\n",
      "         ***\n",
      "         ***\n"
     ]
    }
   ],
   "source": [
    "star = int(input('tree 높이 : '))\n",
    "\n",
    "for i in range(star): # 삼각형\n",
    "    print(' ' * (star- i) + '*' * (i * 2 + 1))\n",
    "for i in range(3):    \n",
    "    print(' ' * (star-1) + '*' * 3 )"
   ]
  },
  {
   "cell_type": "markdown",
   "id": "2435a87c",
   "metadata": {},
   "source": [
    "#### Q.68. 구구단을 출력하는 프로그램을 출력하세요."
   ]
  },
  {
   "cell_type": "code",
   "execution_count": 7,
   "id": "dbc38eb8-21a3-4c65-8440-4f1857ddc2ae",
   "metadata": {},
   "outputs": [
    {
     "name": "stdin",
     "output_type": "stream",
     "text": [
      "숫자를 입력하세요: 3\n"
     ]
    },
    {
     "name": "stdout",
     "output_type": "stream",
     "text": [
      "3 X 1 = 3\n",
      "3 X 2 = 6\n",
      "3 X 3 = 9\n",
      "3 X 4 = 12\n",
      "3 X 5 = 15\n",
      "3 X 6 = 18\n",
      "3 X 7 = 21\n",
      "3 X 8 = 24\n",
      "3 X 9 = 27\n"
     ]
    }
   ],
   "source": [
    "x = int(input(\"숫자를 입력하세요:\"))\n",
    "\n",
    "for i in range(1,10):\n",
    "    result = x * i\n",
    "    print(x, \"X\", i, \"=\", result)"
   ]
  },
  {
   "cell_type": "markdown",
   "id": "99cd9bb8-e816-4a63-88ff-f3f740e0e115",
   "metadata": {},
   "source": [
    "#### Q69.\n",
    "아래와 같이 입력하면 N X M 행렬 형태의 숫자 카드 중에서 먼저 뽑고자 하는 카드가 포함되어 있는 행을 선택한 후 그 행에서 가장 숫자가 낮은 카드를 뽑아야 하는 규칙하에서 가장 높은 숫자가 쓰인 카드 한장의 숫자를 출력한는 프로그램을 작성하세요. \n",
    "- 첫번째 입력 : N X M 형열에 대하여 N(행), M(열)의 개수를 공백을 기준으로 입력(1<= N, M<=100)\n",
    "- 두번째 입력 : 각 행의 숫자를 공백을 기준으로 입력. 단, 각 숫자는 1 이상 10000 이하의 자연수임."
   ]
  },
  {
   "cell_type": "code",
   "execution_count": null,
   "id": "91286314-0fc5-435e-b234-f3a5aca9b4ba",
   "metadata": {},
   "outputs": [],
   "source": [
    "<입력 예시 1>\n",
    "3 3\n",
    "3 1 2\n",
    "4 1 4\n",
    "2 2 2\n",
    "<출력 예시 1>\n",
    "2\n",
    "\n",
    "<입력 예시 2>\n",
    "2 4\n",
    "7 3 1 8\n",
    "3 3 3 4\n",
    "<출력 예시 2>\n",
    "3"
   ]
  },
  {
   "cell_type": "code",
   "execution_count": 2,
   "id": "3c131772",
   "metadata": {},
   "outputs": [
    {
     "name": "stdout",
     "output_type": "stream",
     "text": [
      "행과 열을 입력해주세요.3 5\n",
      "숫자를 입력해주세요.1\n"
     ]
    },
    {
     "ename": "ValueError",
     "evalue": "cannot reshape array of size 1 into shape (3,5)",
     "output_type": "error",
     "traceback": [
      "\u001b[1;31m---------------------------------------------------------------------------\u001b[0m",
      "\u001b[1;31mValueError\u001b[0m                                Traceback (most recent call last)",
      "Input \u001b[1;32mIn [2]\u001b[0m, in \u001b[0;36m<cell line: 9>\u001b[1;34m()\u001b[0m\n\u001b[0;32m      7\u001b[0m ar2\n\u001b[0;32m      8\u001b[0m \u001b[38;5;66;03m# num_list = (5 4 65 5 9 18 85 24 15 8 7 2 9 4 5)\u001b[39;00m\n\u001b[1;32m----> 9\u001b[0m arr1 \u001b[38;5;241m=\u001b[39m \u001b[43mnp\u001b[49m\u001b[38;5;241;43m.\u001b[39;49m\u001b[43marray\u001b[49m\u001b[43m(\u001b[49m\u001b[43m[\u001b[49m\u001b[38;5;28;43mint\u001b[39;49m\u001b[43m(\u001b[49m\u001b[43mx\u001b[49m\u001b[43m)\u001b[49m\u001b[43m \u001b[49m\u001b[38;5;28;43;01mfor\u001b[39;49;00m\u001b[43m \u001b[49m\u001b[43mx\u001b[49m\u001b[43m \u001b[49m\u001b[38;5;129;43;01min\u001b[39;49;00m\u001b[43m \u001b[49m\u001b[43mar2\u001b[49m\u001b[43m]\u001b[49m\u001b[43m)\u001b[49m\u001b[38;5;241;43m.\u001b[39;49m\u001b[43mreshape\u001b[49m\u001b[43m(\u001b[49m\u001b[43mN\u001b[49m\u001b[43m,\u001b[49m\u001b[43mM\u001b[49m\u001b[43m)\u001b[49m\n\u001b[0;32m     10\u001b[0m arr1\n\u001b[0;32m     12\u001b[0m li \u001b[38;5;241m=\u001b[39m[]\n",
      "\u001b[1;31mValueError\u001b[0m: cannot reshape array of size 1 into shape (3,5)"
     ]
    }
   ],
   "source": [
    "import numpy as np\n",
    "arr = input('행과 열을 입력해주세요.')\n",
    "ar = input('숫자를 입력해주세요.')\n",
    "N = int(arr.split(' ')[0])\n",
    "M = int(arr.split(' ')[1])\n",
    "ar2 = list(ar.split(' '))\n",
    "ar2\n",
    "# num_list = (5 4 65 5 9 18 85 24 15 8 7 2 9 4 5)\n",
    "arr1 = np.array([int(x) for x in ar2]).reshape(N,M)\n",
    "arr1\n",
    "\n",
    "li =[]\n",
    "for i in range(0,len(arr1)):\n",
    "    arr = sorted(arr1[i])[0]\n",
    "    li.append(arr)\n",
    "    \n",
    "print(arr1)\n",
    "li2 = sorted(li, reverse = True)\n",
    "print(li2[0])"
   ]
  },
  {
   "cell_type": "markdown",
   "id": "3653e205",
   "metadata": {},
   "source": [
    "#### Q70.\n",
    "Q69는 min max 함수, 정렬 등의 방법으로 문제를 풀었다. 이 문제를 다중 for문을 사용하여 풀어보세요."
   ]
  },
  {
   "cell_type": "code",
   "execution_count": null,
   "id": "783d2f48-1efe-48e1-af2b-6b277fb182e8",
   "metadata": {},
   "outputs": [],
   "source": [
    "n, m = map(int, input().split())\n",
    "result = 0\n",
    "\n",
    "for i in range(n) :\n",
    "  x = list(map(int, input().split()))\n",
    "  search = 10001\n",
    "  for j in x :\n",
    "    search = min(search, j)\n",
    "  result = max(result, search)\n",
    "\n",
    "print(result)"
   ]
  },
  {
   "cell_type": "code",
   "execution_count": null,
   "id": "cad3219d-4866-4390-a21c-61ac41a79e58",
   "metadata": {},
   "outputs": [],
   "source": [
    "# N, M을 공백으로 구분하여 입력받기\n",
    "n, m = map(int, input().split())\n",
    "result = 0\n",
    "\n",
    "# 한 줄씩 입력받아 확인\n",
    "for i in range(n) :\n",
    "  data = list(map(int, input().split()))\n",
    "  # 현재 줄에서 '가장 작은 수' 찾기\n",
    "  min_value = min(data)\n",
    "  # '가장 작은 수'들 중에서 가장 큰 수 찾기\n",
    "  result = max(result, min_value)\n",
    "\n",
    "print(result)"
   ]
  },
  {
   "cell_type": "code",
   "execution_count": null,
   "id": "7270c24a",
   "metadata": {},
   "outputs": [],
   "source": [
    "n,m = map(int,input().split())\n",
    "\n",
    "result = 0\n",
    "for i in range(n):\n",
    "    data = list(map(int,input().split()))\n",
    "    min_value = 10001\n",
    "    for a in data:\n",
    "        min_value = min(min_value, a)\n",
    "    result = max(result,min_value)\n",
    "print(result)\n"
   ]
  },
  {
   "cell_type": "markdown",
   "id": "4cb8d841",
   "metadata": {},
   "source": [
    "#### Q71.\n",
    "여행가 A는 N X N 크기의 정사각형 공간에 서 있다. A는 6개의 이동 명령 계획에 따라 움직이게 된다. 이동 명령은 L(왼쪽), R(오른쪽), U(윗쪽), D(아랫쪽)로 구성되며 R R R U D D와 같이 6개이다. 정사각형 공간을 벗어나는 움직임은 무시된다. 언급한 규칙에 따라 N과 이동 명령 계획으로 각각 5와 R R R U D D를 입력하면 A의 공간 좌표는 3 4가 된다. 이동 명력 계획서가 주어질 때 A가 최종적으로 도착할 지점의 좌표를 출력하는 프로그램을 작성하시오.\n"
   ]
  },
  {
   "cell_type": "code",
   "execution_count": null,
   "id": "57cff375",
   "metadata": {},
   "outputs": [],
   "source": [
    "첫째 줄에 공간의 크기를 나타내는 N이 주어진다. (1 ≤ N ≤ 100)\n",
    "둘째 줄에 여행가 A가 이동할 계획서 내용이 주어진다. (1 ≤ 이동횟수 ≤ 100)"
   ]
  },
  {
   "cell_type": "code",
   "execution_count": null,
   "id": "81ae4b47",
   "metadata": {},
   "outputs": [],
   "source": [
    "(1,1)(1,2)(1,3)(1,4)\n",
    "                (2,4)\n",
    "                (3,4)"
   ]
  },
  {
   "cell_type": "code",
   "execution_count": 4,
   "id": "d8a090cd",
   "metadata": {},
   "outputs": [
    {
     "name": "stdout",
     "output_type": "stream",
     "text": [
      "5\n",
      "R R R U D D\n",
      "3 4\n"
     ]
    }
   ],
   "source": [
    "N = int(input())\n",
    "x, y = 1, 1\n",
    "plans = input().split()\n",
    "\n",
    "dx = [0, 0, -1, 1]\n",
    "dy = [-1, 1, 0, 0]\n",
    "direction = ['L', 'R', 'U', 'D']\n",
    "\n",
    "for plan in plans:\n",
    "    # 이동 후 좌표 구하기\n",
    "    for i in range(len(direction)):\n",
    "        if plan == direction[i]:\n",
    "            nowx = x + dx[i]\n",
    "            nowy = y + dy[i]\n",
    "    # 이동 후 좌표가 지도 범위를 벗어나면 무시\n",
    "    if nowx < 1 or nowy <1 or nowx > N or nowy > N:\n",
    "        continue\n",
    "    # 벗어나지 않으면 이동\n",
    "    x, y = nowx, nowy\n",
    "\n",
    "print(x, y)"
   ]
  },
  {
   "cell_type": "markdown",
   "id": "749b9c1f",
   "metadata": {},
   "source": [
    "#### Q72.\n",
    "정수 N이 입력되면 00시 00분 00초부터 N시 59분 59초까지의 모든 시각 중에서 3이 하나라도 포함되는 모든 경우의 수를 구하는 프로그램을 작성하시오.(0<= N <=23)\n"
   ]
  },
  {
   "cell_type": "code",
   "execution_count": null,
   "id": "b608eb33",
   "metadata": {},
   "outputs": [],
   "source": [
    "00시 02분 03초\n",
    "00시 27분 45초"
   ]
  },
  {
   "cell_type": "code",
   "execution_count": null,
   "id": "56360c6a",
   "metadata": {},
   "outputs": [],
   "source": [
    "7을 입력하면 14625"
   ]
  },
  {
   "cell_type": "code",
   "execution_count": null,
   "id": "8d460f0e",
   "metadata": {},
   "outputs": [],
   "source": [
    "시, 분, 초를 완전 탐색할 경우, 86,400(24 X 60 X 60)가지만 존재합니다.\n",
    "따라서, 3중 반복문을 사용해 모든 시각을 완전 탐색하며,\n",
    "각 시각을 문자열로 변환해 하나의 문자열로 만든 뒤, 해당 문자열에 ‘3’ 이 포함되어 있는지 확인합니다."
   ]
  },
  {
   "cell_type": "code",
   "execution_count": 2,
   "id": "bae98667",
   "metadata": {
    "scrolled": true
   },
   "outputs": [
    {
     "name": "stdout",
     "output_type": "stream",
     "text": [
      "1\n",
      "3150\n"
     ]
    }
   ],
   "source": [
    "n = int(input())\n",
    "\n",
    "answer = 0\n",
    "for i in range(n+1):\n",
    "    for j in range(60):\n",
    "        for k in range(60):\n",
    "            # 매 시각 안에 '3' 이 포함되어 있다면 카운트 증가\n",
    "            if '3' in str(i)+str(j)+str(k):\n",
    "                answer += 1\n",
    "\n",
    "print(answer)"
   ]
  },
  {
   "cell_type": "code",
   "execution_count": 1,
   "id": "37e0ad17",
   "metadata": {},
   "outputs": [
    {
     "name": "stdin",
     "output_type": "stream",
     "text": [
      "정수 N >  1\n"
     ]
    },
    {
     "name": "stdout",
     "output_type": "stream",
     "text": [
      "3150\n"
     ]
    }
   ],
   "source": [
    "N = int(input('정수 N > '))\n",
    "\n",
    "sum = 0\n",
    "num = ''\n",
    "for i in range(N+1):\n",
    "    si = str(i)\n",
    "    for j in range(60):\n",
    "        bun = str(j)\n",
    "        for k in range(60):\n",
    "            cho = str(k) \n",
    "            num = si+bun+cho\n",
    "            \n",
    "            if '3' in num:\n",
    "                sum += 1\n",
    "            else:\n",
    "                pass\n",
    "print(sum)"
   ]
  },
  {
   "cell_type": "markdown",
   "id": "122dec94",
   "metadata": {},
   "source": [
    "#### Q73. 행 위치는 1~8로 열 위치는 a ~ h로 표현하는 8 x 8 좌표 평면상에서 특정 위치가 주어졌을 때 아래 조건하에서 그 위치에서 이동할 수 있는 경우의 수를 출력하는 프로그램을 작성하세요.\n"
   ]
  },
  {
   "cell_type": "code",
   "execution_count": null,
   "id": "9ffe4b0c",
   "metadata": {},
   "outputs": [],
   "source": [
    "- 수평으로 두 칸 이동한 뒤에 수직으로 한 칸 이동\n",
    "- 수직으로 두 칸 이동한 뒤에 수평으로 한 칸 이동\n",
    "- 8 x 8 좌표 평면을 나갈 수 없음"
   ]
  },
  {
   "cell_type": "code",
   "execution_count": 2,
   "id": "c1611e65-78ad-4c36-ab46-9f092282ac53",
   "metadata": {},
   "outputs": [
    {
     "name": "stdin",
     "output_type": "stream",
     "text": [
      " a4\n"
     ]
    },
    {
     "name": "stdout",
     "output_type": "stream",
     "text": [
      "4\n"
     ]
    }
   ],
   "source": [
    "#특정 위치 입력받기\n",
    "input_data = input()\n",
    "row = int(input_data[1]) #행은 1~8\n",
    "col = ord(input_data[0]) +1 - ord('a')\n",
    "#ord는 문자의 아스키코드 값을 알려준다. a=97\n",
    "\n",
    "#이동할 수 있는 8가지 방향을 정의하기\n",
    "#복잡하게 생각하지 말고 2칸 1칸 +, - 조합으로 모든 경우의 수를 적어주면 된다.\n",
    "steps = [(-2,-1),(-1,-2),(1,-2),(2,-1),(2,1),(1,2),(-1,2),(-2,1)]\n",
    "\n",
    "#8가지 방향에 대하여 각 위치로 이동이 가능한지 체크\n",
    "result=0\n",
    "for step in steps :\n",
    "    #이동하고자 하는 위치 확인\n",
    "    next_row = row + step[0] #실수하지 말기!! steps의 요소가 step에 있음!\n",
    "    next_col = col + step[1]\n",
    "\n",
    "    #해당 위치로 이동이 가능하다면 카운트 증가\n",
    "    if next_row>=1 and next_row<=8 and next_col>=1 and next_col<=8 :\n",
    "        result=result+1\n",
    "\n",
    "print(result)\n"
   ]
  },
  {
   "cell_type": "code",
   "execution_count": 3,
   "id": "ebc4bb9d-7920-46dc-8c89-f02b752026e0",
   "metadata": {},
   "outputs": [
    {
     "name": "stdin",
     "output_type": "stream",
     "text": [
      " a4\n"
     ]
    },
    {
     "name": "stdout",
     "output_type": "stream",
     "text": [
      "4\n"
     ]
    }
   ],
   "source": [
    "n = input()\n",
    "a = [int(ord(n[0]))-96,int(n[1])]\n",
    "\n",
    "answer = 0\n",
    "move = [[2, 1], [2, -1], [1, 2], [1, -2], [-1, 2], [-1, -2], [-2, -1], [-2, -2]]\n",
    "for i in move:\n",
    "    if i[0] + a[0] > 0 and i[1] + a[1] > 0:\n",
    "        answer += 1\n",
    "print(answer)"
   ]
  },
  {
   "cell_type": "markdown",
   "id": "4d9fcc58",
   "metadata": {
    "tags": []
   },
   "source": [
    "#### Q74.\n",
    "캐릭터는 매뉴얼에 따라 이동한다. 아래 입력조건에 따라 캐릭터가 방문한 칸의 수를 출력하는 프로그램을 작성하세요.\n",
    "\n",
    "- 입력조건\n",
    "  - 첫째 줄에 맵의 세로 크기 N과 가로 크기 M을 공백으로 구분하여 입력 (3 <= N,M <=50)\n",
    "  - 둘째 줄에 게임 캐릭터가 있는 칸의 좌표 (A,B)와 바라보는 방향 d가 각각 서로 공백으로 구분하여 입력(방향 d의 값으로는 북, 동, 남, 서가 각각 0,1,2,3)\n",
    "  - 세째 줄에 맵이 육지인지 바다인지에 대한 정보 입력(육지 0, 바다 1) N개의 줄에 맵의 상태가 북쪽으로 부터 남쪽순서대로 각 줄의 데이터는 서쪽부터 동쪽 순서대로 주어진다.\n",
    "  - 처음에 캐릭터가 위치한 칸의 상태는 항상 육지이다.\n",
    "\n",
    "\n",
    "- 매뉴얼<BR>\n",
    "  캐릭터가 있는 장소는 1 X 1 크기의 정사각형으로 이루어진 N X M 크기의 직사각형으로 각각의 칸은 육지 또는 바다이다.캐릭터는 동서남북 중 한 곳을 바라본다. 맵의 각 칸은 (A, B)로 나타낼 수 있고 A는 북쪽으로부터 떨어진 칸의 개수, B는 서쪽으로부터 떨어진 칸의 개수이다.캐릭터는 상하좌우로 움직일 수 있고 바다로 되어 있는 공간에는 갈 수 없다. 캐릭터의 움직임 설정을 위한 매뉴얼은 아래와 같다.\n",
    "  - 현재 위치에서 현재 방향을 기준으로 왼쪽 방향부터 차례대로 갈 곳을 정한다.\n",
    "  - 캐릭터의 바로 왼쪽 방향에 아직 가보지 않은 칸이 존재한다면 왼쪽 방향으로 회전한 다음 왼쪽으로 한 칸을 전진한다. 왼쪽 방향에 가보지 않은 칸이 없다면 왼쪽 방향으로 회전만 수행하고 1단계로 돌아간다.\n",
    "  - 만약 네 방향 모두 이미 가본 칸이거나 바다로 되어 있는 칸인 경우에는 바라보는 방향을 유지한 채로 한 칸 뒤로 가고 1단계로 돌아간다. 단, 이때 뒤쪽 방향이 바다인 칸이라 뒤로 갈수 없는 경우에는 움직임을 멈춘다.\n"
   ]
  },
  {
   "cell_type": "code",
   "execution_count": null,
   "id": "b9cfa2a6-423d-462a-a87b-52aa1a1b2a2c",
   "metadata": {},
   "outputs": [],
   "source": [
    "2차원 배열로 값을 받은 변수에 \n",
    " \n",
    "1. 앞으로 갈 좌표\n",
    "2. 현재 좌표\n",
    "\n",
    "두 가지의 좌표 정보를 가진 변수를 가지고 앞으로 갈 좌표의 값이 1인지 아닌지 파악하며 0 1 2 3 (방향)을 돌리다가\n",
    "돌린 횟수가 4 가되면 해당 값의 뒤 (해당 배열 index의 -2 값)으로 현재 좌표를 보내주면 된다.\n",
    "그리고 현재 좌표가 1(바다) 이면 break 해서 프로그램 종료"
   ]
  },
  {
   "cell_type": "code",
   "execution_count": null,
   "id": "85c8689c-eb27-43c9-80cf-92cf47c074b5",
   "metadata": {},
   "outputs": [],
   "source": [
    "4 4       # 4 x 4 맵 생성\n",
    "1 1 0     # (1, 1)에 북쪽(0)을 바라보고 서 있는 캐릭터\n",
    "1 1 1 1   # 첫 줄은 모두 바다\n",
    "1 0 0 1   # 둘째 줄은 바다/육지/육지/바다\n",
    "1 1 0 1   # 셋째 줄은 바다/바다/육지/바다\n",
    "1 1 1 1   # 넷째 줄은 모두 바다"
   ]
  },
  {
   "cell_type": "code",
   "execution_count": 2,
   "id": "42724efa-07b6-42a5-a3b2-968065830c6d",
   "metadata": {},
   "outputs": [
    {
     "name": "stdin",
     "output_type": "stream",
     "text": [
      " 4 4\n",
      " 1 1 0\n",
      " 1 1 1 1\n",
      " 1 0 0 1\n",
      " 1 1 0 1\n",
      " 1 1 1 1\n"
     ]
    },
    {
     "name": "stdout",
     "output_type": "stream",
     "text": [
      "3\n"
     ]
    }
   ],
   "source": [
    "n, m = map(int, input().split())\n",
    "a, b, d = map(int, input().split())\n",
    "\n",
    "input_map = []\n",
    "\n",
    "for i in range(n):\n",
    "  input_map.append(list(map(int, input().split())))\n",
    "\n",
    "move_steps = [(-1, 0), (0, -1), (1, 0), (0, 1)]\n",
    "\n",
    "result = 1\n",
    "count = 0\n",
    "input_map[a][b] = 2\n",
    "\n",
    "while True:\n",
    "  d = d - 1\n",
    "  if d == -1:\n",
    "    d = 3\n",
    "  next_a = a + move_steps[d][0]\n",
    "  next_b = b + move_steps[d][1]\n",
    "  if input_map[next_a][next_b] == 0:\n",
    "    a = next_a\n",
    "    b = next_b\n",
    "    result += 1\n",
    "    input_map[a][b] = 2\n",
    "    count = 0\n",
    "\n",
    "  else:\n",
    "    count += 1\n",
    "    if count == 4:\n",
    "      next_a = a + move_steps[d-2][0]\n",
    "      next_b = b + move_steps[d-2][1]\n",
    "      if input_map[next_a][next_b] == 1:\n",
    "        break\n",
    "      else:\n",
    "        a = next_a\n",
    "        b = next_b\n",
    "        count = 0\n",
    "\n",
    "print(result)"
   ]
  },
  {
   "cell_type": "markdown",
   "id": "c6224dea",
   "metadata": {},
   "source": [
    "#### Q.75\n",
    "N X M 크기의 얼음 틀로 한번에 만들 수 있는 아이스크림의 개수를 아래 입력조건에 따라 출력하는 프로그램을 DFS(Depth First Search)를 이용하여 작성하세요.\n",
    " \n",
    "- 입력조건\n",
    "  - 첫번째 줄에 얼음 틀의 세로 길이 N과 가로 길이 M이 주어진다.(1 <= N,M <= 1000)\n",
    "  - 두번째 줄부터 N+1번째 줄까지 얼음 틀의 형태가 주어진다.\n",
    "  - 이때 구멍이 뚫려있는 부분은 0 그렇지 않은 부분은 1이다.\n",
    "  - 구멍이 뚫려 있는 부분끼리 상, 하, 좌, 우로 붙어 있는 경우 서로 연결되어 있는 것으로 간주한다.\n"
   ]
  },
  {
   "cell_type": "code",
   "execution_count": 3,
   "id": "40f48105-069f-441d-8be2-fd943eeb6d79",
   "metadata": {
    "scrolled": true
   },
   "outputs": [
    {
     "name": "stdout",
     "output_type": "stream",
     "text": [
      "[5, 2, 3, 1]\n",
      "[1, 3, 2, 5]\n"
     ]
    }
   ],
   "source": [
    "# 스택: 박스 쌓기에 비유. 선입후출 구조\n",
    "\n",
    "stack = []\n",
    "stack.append(5)\n",
    "stack.append(2)\n",
    "stack.append(3)\n",
    "stack.append(7)\n",
    "stack.pop()\n",
    "stack.append(1)\n",
    "stack.append(4)\n",
    "stack.pop()\n",
    "\n",
    "print(stack)\n",
    "print(stack[::-1])"
   ]
  },
  {
   "cell_type": "code",
   "execution_count": 8,
   "id": "6bbbb836",
   "metadata": {},
   "outputs": [
    {
     "name": "stdout",
     "output_type": "stream",
     "text": [
      "deque([3, 7, 1, 4])\n",
      "deque([4, 1, 7, 3])\n"
     ]
    }
   ],
   "source": [
    "# 큐 : 먼저 온 사람이 먼저 들어간다. 선입선출 구조\n",
    "from collections import deque\n",
    "queue = deque()\n",
    "\n",
    "queue.append(5)\n",
    "queue.append(2)\n",
    "queue.append(3)\n",
    "queue.append(7)\n",
    "queue.popleft()\n",
    "queue.append(1)\n",
    "queue.append(4)\n",
    "queue.popleft()\n",
    "\n",
    "print(queue)\n",
    "queue.reverse()\n",
    "print(queue)"
   ]
  },
  {
   "cell_type": "code",
   "execution_count": null,
   "id": "3a9e9af8",
   "metadata": {},
   "outputs": [],
   "source": [
    "5 5\n",
    "00110\n",
    "00011\n",
    "11111\n",
    "00111\n",
    "11000"
   ]
  },
  {
   "cell_type": "markdown",
   "id": "c8575049",
   "metadata": {},
   "source": [
    "<작성 순서>\n",
    "1. 특정한 지점의 주변 상, 하, 좌, 우를 살펴본 뒤에 주변 지점 중에서 값이 0이면서 아직 방문하지 않은 지점이 있다면 해당 지점을 방문한다\n",
    "2. 방문한 지점에서 다시 상, 하, 좌, 우를 살펴보면서 방문을 다시 진행하면, 연결된 모든 지점을 방문할 수 있다\n",
    "3. 1, 2번의 과정을 모든 노드에 반복하며 방문하지 않은 지점의 수를 센다"
   ]
  },
  {
   "cell_type": "code",
   "execution_count": 2,
   "id": "09a4ebf6",
   "metadata": {},
   "outputs": [
    {
     "name": "stdout",
     "output_type": "stream",
     "text": [
      "3 3\n",
      "0 0 1\n",
      "0 1 0\n",
      "1 0 1 0012213\n",
      "3\n"
     ]
    }
   ],
   "source": [
    "#n, m을 공백으로 구분하여 입력받기\n",
    "n, m = map(int, input().split())\n",
    "\n",
    "#2차원 리스트의 맵 정보 입력받기\n",
    "graph=[]\n",
    "for i in range(n):\n",
    "    graph.append(list(map(int, input().split())))\n",
    "\n",
    "#DFS로 특정한 노드를 방문한 뒤에 연결된 모든 노드들도 방문\n",
    "def dfs(x,y):\n",
    "    #주어진 범위를 벗어나는 경우에는 즉시 종료\n",
    "    if x <= -1 or x >= n or y <= -1 or y >= m:\n",
    "        return False\n",
    "\n",
    "    #현재 노드를 아직 방문하지 않았다면\n",
    "    if graph[x][y]==0:\n",
    "        #해당 노드 방문 처리\n",
    "        graph[x][y]=1\n",
    "        #상, 하, 좌, 우의 위치도 모두 재귀적으로 호출\n",
    "        dfs(x-1, y) #상\n",
    "        dfs(x+1, y) #하\n",
    "        dfs(x, y-1) #좌\n",
    "        dfs(x, y+1) #우\n",
    "        return True\n",
    "    return False\n",
    "\n",
    "#모든 노드(위치)에 대하여 아이스크림 채우기\n",
    "result=0\n",
    "for i in range(n):\n",
    "    for j in range(m):\n",
    "        #현재 위치에서 dfs 수행\n",
    "        if dfs(i,j) == True:\n",
    "            # print(i,j)\n",
    "            result += 1\n",
    "\n",
    "print(result)"
   ]
  },
  {
   "cell_type": "code",
   "execution_count": 2,
   "id": "81d838e8",
   "metadata": {
    "scrolled": true
   },
   "outputs": [
    {
     "name": "stdout",
     "output_type": "stream",
     "text": [
      "1 번째 재귀함수에서 2 번째 재귀함수를 호출합니다.\n",
      "2 번째 재귀함수에서 3 번째 재귀함수를 호출합니다.\n",
      "3 번째 재귀함수에서 4 번째 재귀함수를 호출합니다.\n",
      "4 번째 재귀함수에서 5 번째 재귀함수를 호출합니다.\n",
      "4 번째 재귀함수를 호출합니다.\n",
      "3 번째 재귀함수를 호출합니다.\n",
      "2 번째 재귀함수를 호출합니다.\n",
      "1 번째 재귀함수를 호출합니다.\n"
     ]
    }
   ],
   "source": [
    "def recursive_function(i):\n",
    "    if i == 5:\n",
    "        return\n",
    "    print(i, '번째 재귀함수에서', i+1, '번째 재귀함수를 호출합니다.')\n",
    "    recursive_function(i+1)\n",
    "    print(i, '번째 재귀함수를 호출합니다.')\n",
    "recursive_function(1)"
   ]
  },
  {
   "cell_type": "markdown",
   "id": "99a9e7d9",
   "metadata": {},
   "source": [
    "#### Q76.\n",
    "10!을 재귀함수를 이용하여 출력하세요."
   ]
  },
  {
   "cell_type": "code",
   "execution_count": 4,
   "id": "4662306b",
   "metadata": {},
   "outputs": [
    {
     "data": {
      "text/plain": [
       "3628800"
      ]
     },
     "execution_count": 4,
     "metadata": {},
     "output_type": "execute_result"
    }
   ],
   "source": [
    "def factorial_iterative(n):\n",
    "    result = 1\n",
    "    for i in range(1,n+1):\n",
    "        result *= i\n",
    "    return result\n",
    "factorial_iterative(10)"
   ]
  },
  {
   "cell_type": "markdown",
   "id": "24a90077",
   "metadata": {},
   "source": [
    "#### Q77.\n",
    "N X M 크기의 미로에는 여러마리의 괴물이 있어 이를 피해 탈출해야 한다. 주인공의 위치는 (1,1)이고 미로의 출구는 (N-1,M-1)의 위치에 존재하며 한번에 한칸씩 이동할 수 있다. 괴물이 있는 부분은 0, 없는 부분은 1로 표시되어 있으며 미로는 반드시 탈출할 수 있는 형태로 제시된다. 주인공이 탈출하기 위해 움직여야 하는 최소 칸의 개수를 구하세요. 칸을 셀 때는 시작 칸과 마지막 칸을 모두 포함하여 계산하고 입력 조건은 아래와 같다.(BFS를 이용)\n",
    "- 첫째 줄에 두 정수 N,M(4<=N,M<=200)이 주어진다. \n",
    "- 다음 N개의 줄에는 각각 M개의 정수(0 혹은 1)로 미로의 정보가 주어진다. 각각의 수들은 공백없이 붙여서 입력으로 제시된다. \n",
    "- 또한 시작칸과 마지막칸은 항상 1이다.\n"
   ]
  },
  {
   "cell_type": "code",
   "execution_count": null,
   "id": "578c8f26",
   "metadata": {},
   "outputs": [],
   "source": [
    "5 5\n",
    "11011\n",
    "01011\n",
    "01111\n",
    "11011\n",
    "10111\n",
    "9"
   ]
  },
  {
   "cell_type": "markdown",
   "id": "9e8c6e08-d147-4ac8-be23-55e3b364acc5",
   "metadata": {},
   "source": [
    "#### Q78.\n",
    "소수란 2보다 큰 자연수 중에서 1과 자기자신을 제외한 자연수로는 나누어떨어지지 않는 자연수이다. 어떠한 자연수가 소수인지 아닌지 판별하는 프로그램을 작성하세요."
   ]
  },
  {
   "cell_type": "code",
   "execution_count": 1,
   "id": "faa18684-5b72-4dc4-9945-eb164d067b5a",
   "metadata": {},
   "outputs": [],
   "source": [
    "n = 10001\n",
    "arr = [True] * n\n",
    "for i in range(2, int(n**0.5)+1):\n",
    "    if arr[i] == True:\n",
    "        for j in range(2 * i, n, i):\n",
    "            arr[j] = False"
   ]
  },
  {
   "cell_type": "code",
   "execution_count": 2,
   "id": "57a1fb43-c52f-45a5-a6a5-7d7d845a35c3",
   "metadata": {},
   "outputs": [
    {
     "name": "stdin",
     "output_type": "stream",
     "text": [
      " 5\n",
      " 3\n"
     ]
    },
    {
     "name": "stdout",
     "output_type": "stream",
     "text": [
      "2 1\n"
     ]
    },
    {
     "name": "stdin",
     "output_type": "stream",
     "text": [
      " 3\n"
     ]
    },
    {
     "name": "stdout",
     "output_type": "stream",
     "text": [
      "2 1\n"
     ]
    },
    {
     "name": "stdin",
     "output_type": "stream",
     "text": [
      " 5\n"
     ]
    },
    {
     "name": "stdout",
     "output_type": "stream",
     "text": [
      "3 2\n"
     ]
    },
    {
     "name": "stdin",
     "output_type": "stream",
     "text": [
      " 7\n"
     ]
    },
    {
     "name": "stdout",
     "output_type": "stream",
     "text": [
      "5 2\n"
     ]
    },
    {
     "name": "stdin",
     "output_type": "stream",
     "text": [
      " 32\n"
     ]
    },
    {
     "name": "stdout",
     "output_type": "stream",
     "text": [
      "31 1\n"
     ]
    }
   ],
   "source": [
    "t = int(input())\n",
    "prime = [0,0]\n",
    "for i in range(t):\n",
    "    gap = 10000\n",
    "    k = int(input())\n",
    "    for j in range(2, k):\n",
    "        if arr[j] and arr[k-j]: # 두 수가 소수이고\n",
    "            if gap > abs(j-(k-j)): # 두 수의 차가 더 작으면\n",
    "                gqp = abs(j - (k-j)) # 차를 저장하고\n",
    "                prime[0] = j # 수를 저장한다.\n",
    "                prime[1] = k-j\n",
    "    print(prime[0], prime[1])\n",
    "                "
   ]
  },
  {
   "cell_type": "markdown",
   "id": "63a6086f-f3c0-4149-9563-1c3ed9828897",
   "metadata": {},
   "source": [
    "#### Q79.\n",
    "M 이상 N 이하의 소수를 모두 출력하는 프로그램을 작성하세요.\n",
    "- 입력조건\n",
    "  - 첫째 줄에 자연수 M과 N이 빈칸을 사이에 두고 주어진다.(1<=M<=N<=1,000,000)\n",
    "  - 단 M이상 N 이하의 소수가 하나 이상 있는 입력만 주어진다."
   ]
  },
  {
   "cell_type": "code",
   "execution_count": null,
   "id": "f52c8a61-3616-4c8f-a418-2cec297fe2e1",
   "metadata": {},
   "outputs": [],
   "source": []
  }
 ],
 "metadata": {
  "kernelspec": {
   "display_name": "Python 3 (ipykernel)",
   "language": "python",
   "name": "python3"
  },
  "language_info": {
   "codemirror_mode": {
    "name": "ipython",
    "version": 3
   },
   "file_extension": ".py",
   "mimetype": "text/x-python",
   "name": "python",
   "nbconvert_exporter": "python",
   "pygments_lexer": "ipython3",
   "version": "3.9.12"
  },
  "toc": {
   "base_numbering": 1,
   "nav_menu": {},
   "number_sections": false,
   "sideBar": true,
   "skip_h1_title": false,
   "title_cell": "Table of Contents",
   "title_sidebar": "Contents",
   "toc_cell": false,
   "toc_position": {},
   "toc_section_display": true,
   "toc_window_display": false
  }
 },
 "nbformat": 4,
 "nbformat_minor": 5
}
