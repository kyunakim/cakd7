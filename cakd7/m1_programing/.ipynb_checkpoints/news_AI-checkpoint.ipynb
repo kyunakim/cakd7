{
 "cells": [
  {
   "cell_type": "markdown",
   "id": "b775333a",
   "metadata": {},
   "source": [
    "Q63. 네이버 검색에서 관심 주제와 기사 수를 입력하면 그만큼 출력하는 크롤링 프로그램을 작성하여 다음 사항을 수행하세요.\n",
    "\n",
    "기사 제목과 링크를 데이터프레임으로 가져온 후 본문 내용에서 한글 단어만 출력하여 형태소 분석 최근 국내 'AI'와 관련하여 가장 많이 언급되는 단어에 대한 빈도분석 및 시각화 AI 분야에서의 유의할 만한 트랜드 정보 및 인사이트 도출"
   ]
  },
  {
   "cell_type": "code",
   "execution_count": null,
   "id": "e9005747",
   "metadata": {},
   "outputs": [],
   "source": [
    "#불용어처리 - 빈도분석 - 시각화 - 워드클라우드"
   ]
  },
  {
   "cell_type": "code",
   "execution_count": null,
   "id": "7a6ee852",
   "metadata": {},
   "outputs": [],
   "source": [
    "#url = https://search.naver.com/search.naver?where=news&sm=tab_jum&query="
   ]
  },
  {
   "cell_type": "code",
   "execution_count": 5,
   "id": "858d6fd0",
   "metadata": {
    "scrolled": true
   },
   "outputs": [
    {
     "name": "stdout",
     "output_type": "stream",
     "text": [
      "검색 키워드를 입력해주세요 AI\n",
      "필요한 뉴스기사의 숫자를 입력해주세요 1000\n"
     ]
    },
    {
     "data": {
      "text/html": [
       "<div>\n",
       "<style scoped>\n",
       "    .dataframe tbody tr th:only-of-type {\n",
       "        vertical-align: middle;\n",
       "    }\n",
       "\n",
       "    .dataframe tbody tr th {\n",
       "        vertical-align: top;\n",
       "    }\n",
       "\n",
       "    .dataframe thead th {\n",
       "        text-align: right;\n",
       "    }\n",
       "</style>\n",
       "<table border=\"1\" class=\"dataframe\">\n",
       "  <thead>\n",
       "    <tr style=\"text-align: right;\">\n",
       "      <th></th>\n",
       "      <th>title</th>\n",
       "      <th>url</th>\n",
       "    </tr>\n",
       "  </thead>\n",
       "  <tbody>\n",
       "    <tr>\n",
       "      <th>0</th>\n",
       "      <td>KT·서울성모병원, 당뇨 관리 돕는 AI 기술 개발</td>\n",
       "      <td>https://biz.chosun.com/it-science/ict/2022/08/...</td>\n",
       "    </tr>\n",
       "    <tr>\n",
       "      <th>1</th>\n",
       "      <td>삼성전자, AI인재 키워 반도체·디스플레이 연구한다</td>\n",
       "      <td>https://zdnet.co.kr/view/?no=20220807083406</td>\n",
       "    </tr>\n",
       "    <tr>\n",
       "      <th>2</th>\n",
       "      <td>삼성전자 ‘AI 챌린지’</td>\n",
       "      <td>https://www.chosun.com/economy/tech_it/2022/08...</td>\n",
       "    </tr>\n",
       "    <tr>\n",
       "      <th>3</th>\n",
       "      <td>농정원, 스마트농업 AI 경진대회 개최…총상금 1억원</td>\n",
       "      <td>https://www.yna.co.kr/view/AKR2022080806520000...</td>\n",
       "    </tr>\n",
       "    <tr>\n",
       "      <th>4</th>\n",
       "      <td>코트라, 'AI 활용'…중견기업 ESG 모니터링 지원</td>\n",
       "      <td>http://www.edaily.co.kr/news/newspath.asp?news...</td>\n",
       "    </tr>\n",
       "    <tr>\n",
       "      <th>...</th>\n",
       "      <td>...</td>\n",
       "      <td>...</td>\n",
       "    </tr>\n",
       "    <tr>\n",
       "      <th>995</th>\n",
       "      <td>KT-강동경희대학교병원, AI 로봇 활용 병원 업무 디지털 전환 협력</td>\n",
       "      <td>http://www.digitaltoday.co.kr/news/articleView...</td>\n",
       "    </tr>\n",
       "    <tr>\n",
       "      <th>996</th>\n",
       "      <td>AI, 작곡하고 그림 그리더니...이번엔 시집 냈다[Geeks' Briefing]</td>\n",
       "      <td>https://www.hankyung.com/it/article/202208018266i</td>\n",
       "    </tr>\n",
       "    <tr>\n",
       "      <th>997</th>\n",
       "      <td>지자연, 지질자원데이터·AI 경진대회 개최</td>\n",
       "      <td>http://www.todayenergy.kr/news/articleView.htm...</td>\n",
       "    </tr>\n",
       "    <tr>\n",
       "      <th>998</th>\n",
       "      <td>수리연, IAAE 국제인공지능&amp;윤리협회, 산업수학 기반 AI 사업 협력</td>\n",
       "      <td>http://www.etnews.com/20220801000077</td>\n",
       "    </tr>\n",
       "    <tr>\n",
       "      <th>999</th>\n",
       "      <td>&lt;오후여담&gt;AI시대 新직업</td>\n",
       "      <td>http://www.munhwa.com/news/view.html?no=202208...</td>\n",
       "    </tr>\n",
       "  </tbody>\n",
       "</table>\n",
       "<p>1000 rows × 2 columns</p>\n",
       "</div>"
      ],
      "text/plain": [
       "                                             title  \\\n",
       "0                     KT·서울성모병원, 당뇨 관리 돕는 AI 기술 개발   \n",
       "1                     삼성전자, AI인재 키워 반도체·디스플레이 연구한다   \n",
       "2                                    삼성전자 ‘AI 챌린지’   \n",
       "3                    농정원, 스마트농업 AI 경진대회 개최…총상금 1억원   \n",
       "4                    코트라, 'AI 활용'…중견기업 ESG 모니터링 지원   \n",
       "..                                             ...   \n",
       "995         KT-강동경희대학교병원, AI 로봇 활용 병원 업무 디지털 전환 협력   \n",
       "996  AI, 작곡하고 그림 그리더니...이번엔 시집 냈다[Geeks' Briefing]   \n",
       "997                        지자연, 지질자원데이터·AI 경진대회 개최   \n",
       "998        수리연, IAAE 국제인공지능&윤리협회, 산업수학 기반 AI 사업 협력   \n",
       "999                                 <오후여담>AI시대 新직업   \n",
       "\n",
       "                                                   url  \n",
       "0    https://biz.chosun.com/it-science/ict/2022/08/...  \n",
       "1          https://zdnet.co.kr/view/?no=20220807083406  \n",
       "2    https://www.chosun.com/economy/tech_it/2022/08...  \n",
       "3    https://www.yna.co.kr/view/AKR2022080806520000...  \n",
       "4    http://www.edaily.co.kr/news/newspath.asp?news...  \n",
       "..                                                 ...  \n",
       "995  http://www.digitaltoday.co.kr/news/articleView...  \n",
       "996  https://www.hankyung.com/it/article/202208018266i  \n",
       "997  http://www.todayenergy.kr/news/articleView.htm...  \n",
       "998               http://www.etnews.com/20220801000077  \n",
       "999  http://www.munhwa.com/news/view.html?no=202208...  \n",
       "\n",
       "[1000 rows x 2 columns]"
      ]
     },
     "execution_count": 5,
     "metadata": {},
     "output_type": "execute_result"
    }
   ],
   "source": [
    "from bs4 import BeautifulSoup \n",
    "import urllib\n",
    "import urllib.request as rq\n",
    "import pandas as pd\n",
    "\n",
    "global news_df\n",
    "\n",
    "def News():\n",
    "    global news_df\n",
    "    \n",
    "    keyword = input('검색 키워드를 입력해주세요 ')\n",
    "    keyword = urllib.parse.quote(keyword) #퍼센트인코딩 #URL에 문자를 표현하는 인코딩방법(URL에 한글이 섞이면 오류 발생)\n",
    "    num = int(input('필요한 뉴스기사의 숫자를 입력해주세요 '))\n",
    "    \n",
    "    news_df = pd.DataFrame(columns=['title','url']) \n",
    "    \n",
    "    page_num=1\n",
    "    i=0 #크롤링한 기사의 수\n",
    "    while num > i:\n",
    "        url = 'https://search.naver.com/search.naver?where=news&sm=tab_jum&query='+keyword+'&start='+str(page_num)\n",
    "        html = rq.urlopen(url)\n",
    "        bs = BeautifulSoup(html,'html.parser') ##html_doc 데이터를 html.parser로 파싱한 뒤 BeautifulSoup 객체를 생성해서 bs 변수에 넣음 \n",
    "        texts = bs.find_all(class_='news_tit')\n",
    "\n",
    "        for text in texts:\n",
    "            news_df.loc[i,'title'] = text.get_text()\n",
    "            news_df.loc[i,'url'] = text.get('href')\n",
    "            # news_df.loc[i,'url'] = text['href']\n",
    "            i +=1\n",
    "            if i == num:\n",
    "                break\n",
    "        page_num +=10\n",
    "    return news_df\n",
    "\n",
    "News()"
   ]
  },
  {
   "cell_type": "code",
   "execution_count": null,
   "id": "a050a0d3",
   "metadata": {},
   "outputs": [],
   "source": [
    "# 한글만 가져오기\n",
    "#regex=True를 설정해 정규 표현식으로 문자열 치환을 원하는 부분만 가능 \n",
    "news_df['title']=news_df['title'].str.replace(pat='[^가-힣+]',repl=' ',regex=True)\n",
    "news_df['title']=news_df['title'].str.replace(pat='\\s{2,}',repl=' ',regex=True)\n",
    "news_df"
   ]
  },
  {
   "cell_type": "code",
   "execution_count": null,
   "id": "4d366d0b",
   "metadata": {},
   "outputs": [],
   "source": [
    "# 중복행 제거\n",
    "dup = news_df.duplicated(['title'], keep='first')\n",
    "dup"
   ]
  },
  {
   "cell_type": "code",
   "execution_count": null,
   "id": "ec0d9ae8",
   "metadata": {},
   "outputs": [],
   "source": [
    "news_df = news_df.drop_duplicates(['title'], keep='first') # 첫번째만 남기기\n",
    "news_df"
   ]
  },
  {
   "cell_type": "code",
   "execution_count": null,
   "id": "cfc9173c",
   "metadata": {},
   "outputs": [],
   "source": [
    "target = news_df['title'].values # 시리즈를 배열로\n",
    "title_list = target.tolist() # 리스트로 변환\n",
    "text = ' '.join(title_list) # 'space'로 공백주고 리스트로 결합\n",
    "text"
   ]
  },
  {
   "cell_type": "code",
   "execution_count": null,
   "id": "c09273e2",
   "metadata": {},
   "outputs": [],
   "source": [
    "import re\n",
    "target = news_df['title'].values #Series.values = array\n",
    "title_list = target.tolist() # array > list\n",
    "text = ' '.join(title_list) #list들을 공백으로 구분해서 연결\n",
    "text = re.sub('[^가-힣]+',' ',text) #한글 이외는 공백으로 대체\n",
    "\n",
    "#konlpy(콘엘피) = 형태소 분석\n",
    "from konlpy.tag import Okt\n",
    "from collections import Counter\n",
    "okt = Okt() #객체형성\n",
    "\n",
    "morph = okt.pos(text) #형태소로 변환 #word= 단어 / tag=품사\n",
    "morph\n",
    "\n",
    "noun_list =[]\n",
    "stop_word = ['기반', '활용', '기술', '위해', '서비스', '구축', '솔루션']\n",
    "for word, tag in morph: #word= 단어 / tag=품사\n",
    "    if(tag=='Noun') & (len(word)>1): #noun이고 단어가 1글자 이상인것(1글자는 보통 조사이기때문)\n",
    "        if word not in stop_word:\n",
    "            noun_list.append(word)\n",
    "\n",
    "count = Counter(noun_list) #단어별 숫자세주기\n",
    "\n",
    "\n",
    "#most_common() > 데이터의 개수가 많은 순으로 정렬된 배열을 리턴하는 메서드\n",
    "#인자로 숫자 n을 넘기면 그 숫자 만큼만 리턴하기 때문에, 가장 개수가 많은 n개의 데이터를 얻을 수도 있습니다.\n",
    "#(글자, 나온 횟수)를 요소로 가진 리스트를 반환함\n",
    "data =dict(count.most_common()) #빈도수 정리 내림차\n",
    "series = pd.Series(data)\n",
    "df = pd.DataFrame(series, columns=['cnt'])\n",
    "\n",
    "df = df.reset_index()\n",
    "df\n",
    "\n",
    "data10 = df[:10]"
   ]
  },
  {
   "cell_type": "code",
   "execution_count": null,
   "id": "5a1b22a5",
   "metadata": {},
   "outputs": [],
   "source": [
    "from matplotlib import rc\n",
    "import matplotlib.pyplot as plt\n",
    "import seaborn as sns\n",
    "\n",
    "import warnings\n",
    "warnings.filterwarnings('ignore')\n",
    "\n",
    "plt.rc('font', family='NanumBarunGothic')# 한글 폰트 설정\n",
    "\n",
    "# 시각화\n",
    "sns.barplot(x='index', y='cnt', data=data10, orient='v')"
   ]
  },
  {
   "cell_type": "code",
   "execution_count": null,
   "id": "b961a9f2",
   "metadata": {},
   "outputs": [],
   "source": [
    "from wordcloud import WordCloud\n",
    "\n",
    "#generate_from_frequencies 미리 정의된 단어의 빈도수 dict를 이용하여 워드 클라우드를 그림\n",
    "#  워드 클라우드를 generate할 때 마다 스타일이 미세하게 다르게 형성되는데,random_state 인자를 지정해주면 생성할 때마다 완전히 동일한 결과\n",
    "wordcloud = WordCloud(font_path='malgun.ttf', width= 4000, height = 3000, random_state=1, background_color='white', colormap='Dark2').generate_from_frequencies(data)\n",
    "plt.figure(figsize = (10, 10))\n",
    "plt.imshow(wordcloud) #이미지 표시\n",
    "plt.axis('off') #축 지우기"
   ]
  }
 ],
 "metadata": {
  "kernelspec": {
   "display_name": "Python 3 (ipykernel)",
   "language": "python",
   "name": "python3"
  },
  "language_info": {
   "codemirror_mode": {
    "name": "ipython",
    "version": 3
   },
   "file_extension": ".py",
   "mimetype": "text/x-python",
   "name": "python",
   "nbconvert_exporter": "python",
   "pygments_lexer": "ipython3",
   "version": "3.8.13"
  },
  "toc": {
   "base_numbering": 1,
   "nav_menu": {},
   "number_sections": false,
   "sideBar": true,
   "skip_h1_title": false,
   "title_cell": "Table of Contents",
   "title_sidebar": "Contents",
   "toc_cell": false,
   "toc_position": {},
   "toc_section_display": true,
   "toc_window_display": false
  }
 },
 "nbformat": 4,
 "nbformat_minor": 5
}
