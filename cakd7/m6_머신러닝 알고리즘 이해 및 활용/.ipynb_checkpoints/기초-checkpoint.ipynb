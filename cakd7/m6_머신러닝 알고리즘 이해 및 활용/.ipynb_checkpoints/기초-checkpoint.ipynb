{
 "cells": [
  {
   "cell_type": "markdown",
   "id": "d2abc324-4f8e-4c4f-8ecc-824a12e27c05",
   "metadata": {
    "toc-hr-collapsed": true
   },
   "source": [
    "# numpy\n",
    "- 파이썬에서 선형대수 기반의 프로그램을 쉽게 만들 수 있도록 지원하는 대표적인 패키지\n",
    "- 루프를 사용하지 않고 대량 데이터의 배열 연산을 가능하게 하므로 빠른 배열 연산 속도를 보장한다.\n",
    "- C/C++ 같은 저수준 언어 기반의 호환 API를 제공한다.\n",
    "- 배열 기반의 연산은 물론 다양한 핸들링 기능을 제공한다."
   ]
  },
  {
   "cell_type": "code",
   "execution_count": 1,
   "id": "5a90cfd2-34a9-4a6a-9849-746f64f1bfed",
   "metadata": {},
   "outputs": [],
   "source": [
    "import numpy as np"
   ]
  },
  {
   "cell_type": "markdown",
   "id": "9b8c4463-4f39-4bf7-ba94-e9f31e562610",
   "metadata": {},
   "source": [
    "- as np를 추가해 약어로 모듈을 표현해주는 것이 관례다.\n",
    "- 넘파이 기반 데이터 타입은 ndarray다.\n",
    "- ndarray를 이용해 넘파이에서 다차원(Multi-dimension)배열을 쉽게 생성하고 다양한 연산을 수행할 수 있다."
   ]
  },
  {
   "cell_type": "code",
   "execution_count": 8,
   "id": "b298de67-22e0-46e9-b4b0-6bfc2262057e",
   "metadata": {},
   "outputs": [
    {
     "name": "stdout",
     "output_type": "stream",
     "text": [
      "[0 1 2 3 4 5 6 7] [[0 1 2 3]\n",
      " [4 5 6 7]] [[[0 1]\n",
      "  [2 3]]\n",
      "\n",
      " [[4 5]\n",
      "  [6 7]]] \n",
      "\n",
      "1차원, 2차원, 3차원\n"
     ]
    }
   ],
   "source": [
    "# 1,2,3차원 배열 생성 및 차원 확인\n",
    "arr1 = np.arange(8)\n",
    "arr2 = arr1.reshape(2,4)\n",
    "arr3 = arr1.reshape(2,2,2)\n",
    "print(arr1,arr2,arr3,'\\n')\n",
    "print(f'{arr1.ndim}차원, {arr2.ndim}차원, {arr3.ndim}차원')"
   ]
  },
  {
   "cell_type": "markdown",
   "id": "8a4c973b-6a60-455e-9a83-8b8adfe3ff33",
   "metadata": {},
   "source": [
    "## array() 함수\n",
    "- 파이썬의 리스트와 같은 다양한 인자를 입력 받아 ndarray로 변환하는 기능을 수행한다."
   ]
  },
  {
   "cell_type": "code",
   "execution_count": 143,
   "id": "7523e087-bda3-4eae-b484-5bf6739ff03e",
   "metadata": {},
   "outputs": [
    {
     "name": "stdout",
     "output_type": "stream",
     "text": [
      "array1 type :  <class 'numpy.ndarray'>\n",
      "array1 array 형태 :  (3,)\n",
      "array2 type :  <class 'numpy.ndarray'>\n",
      "array2 array 형태 :  (2, 3)\n",
      "array3 type :  <class 'numpy.ndarray'>\n",
      "array3 arrary 형태 :  (1, 3)\n"
     ]
    }
   ],
   "source": [
    "# array 함수\n",
    "# ndarray로 변환하는 기능 수행\n",
    "array1 = np.array([1,2,3])\n",
    "print('array1 type : ', type(array1))\n",
    "print('array1 array 형태 : ', array1.shape)\n",
    "\n",
    "array2 = np.array([[1,2,3],\n",
    "                  [4,5,6]])\n",
    "print('array2 type : ', type(array2))\n",
    "print('array2 array 형태 : ',array2.shape)\n",
    "\n",
    "array3 = np.array([[1,2,3]])\n",
    "print('array3 type : ', type(array3))\n",
    "print('array3 arrary 형태 : ', array3.shape)"
   ]
  },
  {
   "cell_type": "markdown",
   "id": "bcc140c9-8a73-4392-a668-6bc0e96d276a",
   "metadata": {},
   "source": [
    "- np.array()사용시 class type이 numpy.ndarray로 나오는 것을 확인\n",
    "- shape의 경우 차원과 크기를 튜플 형식으로 나타내준다."
   ]
  },
  {
   "cell_type": "markdown",
   "id": "5dadb83f-4d46-4ebc-886b-cedecd730b00",
   "metadata": {},
   "source": [
    "## 차원 ndarray.ndim을 이용해 확인"
   ]
  },
  {
   "cell_type": "code",
   "execution_count": 144,
   "id": "f61ba767-3923-4688-93cd-fd8b2726e18c",
   "metadata": {},
   "outputs": [
    {
     "name": "stdout",
     "output_type": "stream",
     "text": [
      "arary1 : 1차원, array2 : 2차원, array3 :  2차원\n"
     ]
    }
   ],
   "source": [
    "# ndim 함수 사용해 arrary 차원 확인\n",
    "print('arary1 : {:0}차원, array2 : {:1}차원, array3 : {:2}차원'.format(array1.ndim,\n",
    "                                                                array2.ndim, array3.ndim))"
   ]
  },
  {
   "cell_type": "markdown",
   "id": "165bae83-7e8c-45d4-b7bc-025c19d23b00",
   "metadata": {},
   "source": [
    "- array()함수으 인자로는 파이썬 리스트 객체가 주로 사용된다.\n",
    "- ndarray()내의 데이터값은 숫자 값, 문자열 값, 불린 값 등이 모두 가능하다.\n",
    "    - int(8,16,32bit)\n",
    "    - unsigned int(8,16,32bit)\n",
    "    - float(16,32,64,128bit)\n",
    "    - 이보다 큰 숫자 값이나 정밀도를 위해 complex 타입도 제공\n",
    "- ndarray내의 데이터 타입은 그 연산의 특성상 같은 데이터 타입만 가능하다.\n",
    "    - int와 float이 같이 있을 수는 없다."
   ]
  },
  {
   "cell_type": "code",
   "execution_count": 145,
   "id": "e417319e-bfcf-4882-9147-dae469edd0fe",
   "metadata": {},
   "outputs": [
    {
     "name": "stdout",
     "output_type": "stream",
     "text": [
      "<class 'list'>\n",
      "<class 'numpy.ndarray'>\n",
      "[1 2 3] int64\n"
     ]
    }
   ],
   "source": [
    "# 데이터 타입\n",
    "list1 = [1,2,3]\n",
    "print(type(list1))\n",
    "array1 = np.array(list1)\n",
    "print(type(array1)) # 리스트 형을 넣어도 numpy.ndarray로 변경\n",
    "print(array1, array1.dtype)"
   ]
  },
  {
   "cell_type": "code",
   "execution_count": 147,
   "id": "04878cc4-590f-4f16-b34c-ec8d5478a16c",
   "metadata": {},
   "outputs": [
    {
     "name": "stdout",
     "output_type": "stream",
     "text": [
      "['1' '2' 'test'] <U21\n"
     ]
    }
   ],
   "source": [
    "# 리스트 안에 문자열이 있을 경우\n",
    "list2 = [1,2,'test']\n",
    "array2 = np.array(list2)\n",
    "print(array2, array2.dtype)"
   ]
  },
  {
   "cell_type": "markdown",
   "id": "9a584e1d-a360-40b1-8cf9-576381bff41b",
   "metadata": {},
   "source": [
    "## astype 메서드"
   ]
  },
  {
   "cell_type": "code",
   "execution_count": 141,
   "id": "d770f3fd-deaa-4f18-a66e-31f5fb14ce40",
   "metadata": {},
   "outputs": [
    {
     "name": "stdout",
     "output_type": "stream",
     "text": [
      "int64\n"
     ]
    },
    {
     "data": {
      "text/plain": [
       "(array([0., 1., 2., 3., 4., 5., 6., 7., 8., 9.]), dtype('float64'))"
      ]
     },
     "execution_count": 141,
     "metadata": {},
     "output_type": "execute_result"
    }
   ],
   "source": [
    "# type 변경\n",
    "print(arr1.dtype)\n",
    "a1 = arr1.astype('float64')\n",
    "a1, a1.dtype"
   ]
  },
  {
   "cell_type": "code",
   "execution_count": 142,
   "id": "2812b2c3-5b99-4859-a93e-2ada321fbab3",
   "metadata": {},
   "outputs": [
    {
     "name": "stdout",
     "output_type": "stream",
     "text": [
      "[1. 2. 3.] float64\n"
     ]
    }
   ],
   "source": [
    "# astype 메서드로 데이터값 타입 변경\n",
    "array_int = np.array([1,2,3])\n",
    "array_float = array_int.astype('float64') # float64형으로 변경\n",
    "print(array_float, array_float.dtype)"
   ]
  },
  {
   "cell_type": "markdown",
   "id": "3b94b943-7f49-4e7d-916e-f0f016967318",
   "metadata": {},
   "source": [
    "## arange() 함수\n",
    "- 파이썬 표준 함수인 range()와 유사한 기능을 한다.\n",
    "- array를 range()로 표현하는 것\n",
    "- 0부터 함수 인자 값 -1까지의 값을 순차적으로 ndarray의 데이터값으로 변환해준다."
   ]
  },
  {
   "cell_type": "code",
   "execution_count": 35,
   "id": "bdf15d20-515e-4824-a7dd-8ff10879a012",
   "metadata": {},
   "outputs": [],
   "source": [
    "# 과제(0913-1) arange, zeros, ones로 배열을 다양하게 생성하세요."
   ]
  },
  {
   "cell_type": "code",
   "execution_count": 148,
   "id": "5a532649-ce8e-4f9b-a1b5-f6adb30da8d2",
   "metadata": {},
   "outputs": [
    {
     "name": "stdout",
     "output_type": "stream",
     "text": [
      "[0 1 2 3 4 5 6 7 8 9]\n",
      "int64 (10,)\n"
     ]
    }
   ],
   "source": [
    "# arange() 함수\n",
    "arr1 = np.arange(10)\n",
    "print(arr1)\n",
    "print(arr1.dtype, arr1.shape) # 데이터 타입, 형태"
   ]
  },
  {
   "cell_type": "code",
   "execution_count": 60,
   "id": "75a18f50-80c9-493d-952f-322c0b610960",
   "metadata": {},
   "outputs": [
    {
     "data": {
      "text/plain": [
       "array([[0, 1, 2, 3, 4],\n",
       "       [5, 6, 7, 8, 9]])"
      ]
     },
     "execution_count": 60,
     "metadata": {},
     "output_type": "execute_result"
    }
   ],
   "source": [
    "a = np.arange(10).reshape(2,5) # 2행 5열\n",
    "a"
   ]
  },
  {
   "cell_type": "markdown",
   "id": "bc0f936a-181e-4161-85e5-467f4e5d0ff0",
   "metadata": {},
   "source": [
    "## ones, zeros"
   ]
  },
  {
   "cell_type": "code",
   "execution_count": 57,
   "id": "cb97e8ab-c8ef-407f-89ed-34e039c050fd",
   "metadata": {},
   "outputs": [
    {
     "name": "stdout",
     "output_type": "stream",
     "text": [
      "[0. 0. 0. 0. 0. 0. 0. 0. 0. 0.] \n",
      "\n",
      "[[0. 0. 0. 0. 0. 0.]\n",
      " [0. 0. 0. 0. 0. 0.]\n",
      " [0. 0. 0. 0. 0. 0.]] \n",
      "\n",
      "[[[0. 0.]\n",
      "  [0. 0.]\n",
      "  [0. 0.]]\n",
      "\n",
      " [[0. 0.]\n",
      "  [0. 0.]\n",
      "  [0. 0.]]]\n"
     ]
    }
   ],
   "source": [
    "print(np.zeros(10),'\\n')      # 1차원\n",
    "print(np.zeros((3,6)),'\\n')   # 2차원\n",
    "print(np.zeros((2,3,2)))      # 3차원 # 3행 2열 2개"
   ]
  },
  {
   "cell_type": "code",
   "execution_count": 59,
   "id": "cbea8006-244a-496b-8d3a-f2137c7e70c3",
   "metadata": {},
   "outputs": [
    {
     "data": {
      "text/plain": [
       "array([[[1., 1., 1., 1.],\n",
       "        [1., 1., 1., 1.],\n",
       "        [1., 1., 1., 1.]],\n",
       "\n",
       "       [[1., 1., 1., 1.],\n",
       "        [1., 1., 1., 1.],\n",
       "        [1., 1., 1., 1.]]])"
      ]
     },
     "execution_count": 59,
     "metadata": {},
     "output_type": "execute_result"
    }
   ],
   "source": [
    "np.ones((2,3,4)) # 3행 4열 2개"
   ]
  },
  {
   "cell_type": "code",
   "execution_count": 58,
   "id": "d255214b-c329-435c-afbf-3ce723a5c6fd",
   "metadata": {},
   "outputs": [
    {
     "name": "stdout",
     "output_type": "stream",
     "text": [
      "[[0 0]\n",
      " [0 0]\n",
      " [0 0]]\n",
      "int32 (3, 2) \n",
      "\n",
      "[[1. 1.]\n",
      " [1. 1.]\n",
      " [1. 1.]]\n",
      "float64 (3, 2)\n"
     ]
    }
   ],
   "source": [
    "# zeros, ones\n",
    "\n",
    "# 3행 2열\n",
    "zero_array = np.zeros((3,2), dtype='int32')\n",
    "print(zero_array)\n",
    "print(zero_array.dtype, zero_array.shape,'\\n')\n",
    "\n",
    "# ones\n",
    "one_array = np.ones((3,2))\n",
    "print(one_array)\n",
    "print(one_array.dtype, one_array.shape)\n",
    "\n",
    "# dtype을 지정하지 않으면 자동으로 float64로 설정"
   ]
  },
  {
   "cell_type": "markdown",
   "id": "926f46f8-6b43-4856-a3db-0f14e77c2c60",
   "metadata": {},
   "source": [
    "## reshape()\n",
    "- ndarray를 특정 차원 및 크기로 변환"
   ]
  },
  {
   "cell_type": "code",
   "execution_count": 55,
   "id": "152a5baf-d4eb-4b67-bfec-e268166a0e5c",
   "metadata": {},
   "outputs": [
    {
     "name": "stdout",
     "output_type": "stream",
     "text": [
      "[ 0  1  2  3  4  5  6  7  8  9 10 11 12 13 14 15 16 17 18 19 20 21 22 23\n",
      " 24] \n",
      "\n",
      "[[ 0  1  2  3  4]\n",
      " [ 5  6  7  8  9]\n",
      " [10 11 12 13 14]\n",
      " [15 16 17 18 19]\n",
      " [20 21 22 23 24]] \n",
      "\n",
      "[[[ 0]\n",
      "  [ 1]\n",
      "  [ 2]\n",
      "  [ 3]\n",
      "  [ 4]]\n",
      "\n",
      " [[ 5]\n",
      "  [ 6]\n",
      "  [ 7]\n",
      "  [ 8]\n",
      "  [ 9]]\n",
      "\n",
      " [[10]\n",
      "  [11]\n",
      "  [12]\n",
      "  [13]\n",
      "  [14]]\n",
      "\n",
      " [[15]\n",
      "  [16]\n",
      "  [17]\n",
      "  [18]\n",
      "  [19]]\n",
      "\n",
      " [[20]\n",
      "  [21]\n",
      "  [22]\n",
      "  [23]\n",
      "  [24]]] \n",
      "\n"
     ]
    }
   ],
   "source": [
    "# a1으로 1,2,3차원 배열을 만드세요.(reshape)\n",
    "a1 = np.arange(25)\n",
    "a2 = a1.reshape(5,5)\n",
    "a3 = a1.reshape(5,5,1)\n",
    "print(a1,'\\n')\n",
    "print(a2,'\\n')\n",
    "print(a3,'\\n')"
   ]
  },
  {
   "cell_type": "code",
   "execution_count": 149,
   "id": "dc26d1e2-159e-422d-bd29-ab55c0272910",
   "metadata": {},
   "outputs": [
    {
     "name": "stdout",
     "output_type": "stream",
     "text": [
      "arr1 : \n",
      " [0 1 2 3 4 5 6 7 8 9]\n",
      "arr2 : \n",
      " [[0 1 2 3 4]\n",
      " [5 6 7 8 9]]\n",
      "arr3 : \n",
      " [[0 1]\n",
      " [2 3]\n",
      " [4 5]\n",
      " [6 7]\n",
      " [8 9]]\n"
     ]
    }
   ],
   "source": [
    "# reshape()\n",
    "array1 = np.arange(10)\n",
    "print('arr1 : \\n', array1)\n",
    "\n",
    "array2 = array1.reshape(2,5)\n",
    "print('arr2 : \\n', array2)\n",
    "\n",
    "array3 = array1.reshape(5,2)\n",
    "print('arr3 : \\n', array3)"
   ]
  },
  {
   "cell_type": "code",
   "execution_count": 150,
   "id": "0a6265a4-9d90-4259-a8fd-64bcdcbc91b1",
   "metadata": {},
   "outputs": [
    {
     "name": "stdout",
     "output_type": "stream",
     "text": [
      "arr1 : \n",
      " [0 1 2 3 4 5 6 7 8 9]\n",
      "arr2 : \n",
      " (2, 5)\n",
      "arr3 : \n",
      " (5, 2)\n"
     ]
    }
   ],
   "source": [
    "# reshape -1 활용\n",
    "array1 = np.arange(10)\n",
    "print('arr1 : \\n', array1)\n",
    "\n",
    "array2 = array1.reshape(2, -1)\n",
    "print('arr2 : \\n', array2.shape)\n",
    "\n",
    "array3 = array1.reshape(5, -1)\n",
    "print('arr3 : \\n', array3.shape)"
   ]
  },
  {
   "cell_type": "markdown",
   "id": "34753ab7-06fe-4b1b-afea-8a6fc8fd2cce",
   "metadata": {},
   "source": [
    "## tolist() 메서드\n",
    "- ndarray → tolist() → 리스트 자료형"
   ]
  },
  {
   "cell_type": "code",
   "execution_count": 151,
   "id": "72bac3b8-0f61-4ddc-94a7-9d7392ecc81f",
   "metadata": {},
   "outputs": [
    {
     "name": "stdout",
     "output_type": "stream",
     "text": [
      "array3d : \n",
      " [[[0, 1], [2, 3]], [[4, 5], [6, 7]]]\n",
      "array5 : \n",
      " [[0], [1], [2], [3], [4], [5], [6], [7]]\n",
      "array5.shape : \n",
      " int64\n",
      "array6 : \n",
      " [[0], [1], [2], [3], [4], [5], [6], [7]]\n",
      "array6 shape : \n",
      " (8, 1)\n"
     ]
    }
   ],
   "source": [
    "# reshape 차원 변경\n",
    "array1 = np.arange(8)\n",
    "array3d =array1.reshape((2,2,2)) # 2*2*2 = 8\n",
    "print('array3d : \\n', array3d.tolist())\n",
    "\n",
    "array5 = array3d.reshape(-1,1)\n",
    "print('array5 : \\n', array5.tolist())\n",
    "print('array5.shape : \\n',array5.dtype)\n",
    "\n",
    "array6 = array1.reshape(-1,1)\n",
    "print('array6 : \\n',array6.tolist())\n",
    "print('array6 shape : \\n',array6.shape)\n"
   ]
  },
  {
   "cell_type": "markdown",
   "id": "25754e14-d59b-46c7-82ad-0fc11d9edccf",
   "metadata": {},
   "source": [
    "## 인덱싱(indexing)\n",
    "1. 특정한 데이터만 추출 : 원하는 위치의 인덱스 값을 지정하면 해당 위치의 데이터가 반환\n",
    "2. 슬라이싱(slicing) : 슬라이싱은 연속된 인덱스상의 ndarray를 추출하는 방식.\n",
    "    - ‘:’ 기호 사이에 시작 인덱스와 종료 인덱스를 표시하면 시작 인덱스에서 종료 인덱스-1 위치에 있는 데이터의 ndarray를 반환한다.\n",
    "3. 팬시 인덱싱(Fancy Indexing) : 일정한 인덱싱 집합을 리스트 또는 ndarray 형태로 지정해 해당 위치에 있는 데이터의 ndarray를 반환한다.\n",
    "4. 불린 인덱싱(Boolean Indexing): 특정 조건에 해당하는지 여부인 True/False 값 인덱싱 집합을 기반으로 True에 해당하는 인덱스 위치에 있는 데이터의 ndarray를 반환한다."
   ]
  },
  {
   "cell_type": "code",
   "execution_count": 153,
   "id": "126ea832-1166-4d45-88f4-76710043009b",
   "metadata": {},
   "outputs": [
    {
     "name": "stdout",
     "output_type": "stream",
     "text": [
      "[[1 2 3]\n",
      " [4 5 6]\n",
      " [7 8 9]]\n",
      "(row=0, col=0) index 값 :  1\n",
      "(row=0, col=1) index 값 :  2\n",
      "(row=1, col=0) index 값 :  4\n",
      "(row=1, col=1) index 값 :  5\n"
     ]
    }
   ],
   "source": [
    "# 인덱싱(indexing)\n",
    "# 2차원의 3x3 narray로 변환\n",
    "array1d = np.arange(start=1, stop=10)\n",
    "array2d = array1d.reshape(3,3) # 3행 3열\n",
    "print(array2d)\n",
    "\n",
    "print('(row=0, col=0) index 값 : ',array2d[0,0])\n",
    "print('(row=0, col=1) index 값 : ',array2d[0,1])\n",
    "print('(row=1, col=0) index 값 : ',array2d[1,0])\n",
    "print('(row=1, col=1) index 값 : ',array2d[1,1])"
   ]
  },
  {
   "cell_type": "markdown",
   "id": "55455790-6d13-49e1-8908-c2430621ac75",
   "metadata": {
    "tags": []
   },
   "source": [
    "### 슬라이싱\n",
    "\n",
    "1. ‘.’기호 앞에 시작 인덱스를 생략하면 자동으로 맨 처음 인덱스인 0으로 간주\n",
    "2. ‘:’기호 뒤에 종료 인덱스를 생략하면 자동으로 맨 마지막 인덱스로 간주\n",
    "3. ‘:’기호 앞/뒤에 시작/종료 인덱스를 생략하면 자동으로 맨 처음 / 맨 마지막 인덱스로 간주"
   ]
  },
  {
   "cell_type": "code",
   "execution_count": 156,
   "id": "4e352689-3c39-419b-aac6-2c2f5ceed352",
   "metadata": {},
   "outputs": [
    {
     "name": "stdout",
     "output_type": "stream",
     "text": [
      "[1 2 3]\n",
      "[4 5 6 7 8 9]\n",
      "[1 2 3 4 5 6 7 8 9]\n"
     ]
    }
   ],
   "source": [
    "# 1차원 데이터 슬라이싱\n",
    "array1 = np.arange(start=1, stop=10)# 1~9\n",
    "array4 = array1[:3]\n",
    "print(array4)\n",
    "\n",
    "array5 = array1[3:]\n",
    "print(array5)\n",
    "\n",
    "array6 = array1[:]\n",
    "print(array1)"
   ]
  },
  {
   "cell_type": "code",
   "execution_count": 157,
   "id": "b3cc1ba4-dd6a-4a5a-8392-8741c5179fd2",
   "metadata": {},
   "outputs": [
    {
     "name": "stdout",
     "output_type": "stream",
     "text": [
      "array2d : \n",
      " [[1 2 3]\n",
      " [4 5 6]\n",
      " [7 8 9]]\n",
      "array2d[0:2, 0:2]\n",
      " [[1 2]\n",
      " [4 5]]\n",
      "array2d[1:3, 0:3]\n",
      " [[4 5 6]\n",
      " [7 8 9]]\n",
      "array2d[1:3, :]\n",
      " [[4 5 6]\n",
      " [7 8 9]]\n",
      "array2d[:, :]\n",
      " [[1 2 3]\n",
      " [4 5 6]\n",
      " [7 8 9]]\n",
      "array2d[:2, 1:]\n",
      " [[2 3]\n",
      " [5 6]]\n",
      "array2d[:2, 0]\n",
      " [1 4]\n"
     ]
    }
   ],
   "source": [
    "# 2차원 데이터 슬라이싱\n",
    "\n",
    "array1d = np.arange(start=1, stop=10)\n",
    "array2d = array1d.reshape(3,3)\n",
    "print('array2d : \\n',array2d)\n",
    "\n",
    "print('array2d[0:2, 0:2]\\n', array2d[0:2, 0:2])\n",
    "print('array2d[1:3, 0:3]\\n', array2d[1:3, 0:3])\n",
    "print('array2d[1:3, :]\\n', array2d[1:3, :])\n",
    "print('array2d[:, :]\\n', array2d[:, :])\n",
    "print('array2d[:2, 1:]\\n', array2d[:2, 1:])\n",
    "print('array2d[:2, 0]\\n', array2d[:2, 0])"
   ]
  },
  {
   "cell_type": "markdown",
   "id": "935c98e3-5fbf-422d-9992-bb146a95383d",
   "metadata": {},
   "source": [
    "### 팬시 인덱싱(Fancy Indexing)\n",
    "\n",
    "- 리스트나 ndarray로 인덱스 집합을 지정하면 해당 위치의 인덱스에 해당하는 ndarray를 반환하는 인덱싱 방식"
   ]
  },
  {
   "cell_type": "code",
   "execution_count": 158,
   "id": "e63e92e0-3429-4328-9394-0103606cf49e",
   "metadata": {},
   "outputs": [
    {
     "name": "stdout",
     "output_type": "stream",
     "text": [
      "array2d : \n",
      " [[1, 2, 3], [4, 5, 6], [7, 8, 9]]\n",
      "array2d[[0,1], 2] =>  [3, 6]\n",
      "array2d[[0,1], 0:2] =>  [[1, 2], [4, 5]]\n",
      "array2d[[0,1]] =>  [[1, 2, 3], [4, 5, 6]]\n"
     ]
    }
   ],
   "source": [
    "# 팬시 인덱싱\n",
    "\n",
    "array1d = np.arange(start=1, stop=10)\n",
    "array2d = array1d.reshape(3,3)\n",
    "\n",
    "print('array2d : \\n',array2d.tolist())\n",
    "array3 = array2d[[0,1], 2]\n",
    "print('array2d[[0,1], 2] => ', array3.tolist())\n",
    "\n",
    "array4 = array2d[[0,1], 0:2]\n",
    "print('array2d[[0,1], 0:2] => ', array4.tolist())\n",
    "\n",
    "array5 = array2d[[0,1]]\n",
    "print('array2d[[0,1]] => ', array5.tolist())"
   ]
  },
  {
   "cell_type": "code",
   "execution_count": 34,
   "id": "dd4e6b92-0cf8-4f14-b0ba-390511270eb6",
   "metadata": {},
   "outputs": [],
   "source": [
    "# 과제(0913-2) a1,a2,a3에서 원하는 원소값들을 다양한 방식으로 인덱싱하여 출력하세요."
   ]
  },
  {
   "cell_type": "code",
   "execution_count": null,
   "id": "5ceab0c0-b2ba-493b-85be-c2020b021295",
   "metadata": {},
   "outputs": [],
   "source": [
    "# a1으로 1,2,3차원 배열을 만드세요.(reshape)\n",
    "a1 = np.arange(25)\n",
    "a2 = a1.reshape(5,5)\n",
    "a3 = a1.reshape(5,5,1)\n",
    "print(a1,'\\n')\n",
    "print(a2,'\\n')\n",
    "print(a3,'\\n')"
   ]
  },
  {
   "cell_type": "code",
   "execution_count": 65,
   "id": "01f94cb5-8f79-4a27-a461-b9d1228ce29c",
   "metadata": {},
   "outputs": [
    {
     "data": {
      "text/plain": [
       "4"
      ]
     },
     "execution_count": 65,
     "metadata": {},
     "output_type": "execute_result"
    }
   ],
   "source": [
    "a1[4]"
   ]
  },
  {
   "cell_type": "code",
   "execution_count": 154,
   "id": "5b8384c0-4b08-4253-87c5-37891897ad91",
   "metadata": {},
   "outputs": [
    {
     "data": {
      "text/plain": [
       "0"
      ]
     },
     "execution_count": 154,
     "metadata": {},
     "output_type": "execute_result"
    }
   ],
   "source": [
    "a2[0,0]"
   ]
  },
  {
   "cell_type": "code",
   "execution_count": 155,
   "id": "e392349f-500e-4575-89be-071090891b34",
   "metadata": {},
   "outputs": [
    {
     "data": {
      "text/plain": [
       "array([0])"
      ]
     },
     "execution_count": 155,
     "metadata": {},
     "output_type": "execute_result"
    }
   ],
   "source": [
    "a3[0][0]"
   ]
  },
  {
   "cell_type": "markdown",
   "id": "99624afe-dec9-4c63-b813-d323177c2c5d",
   "metadata": {},
   "source": [
    "### 불린 인덱싱(Boolean Indexing)\n",
    "\n",
    "- 조건 필터링과 검색을 동시에 할 수 있기 때문에 매우 자주 사용되는 인덱싱 방식"
   ]
  },
  {
   "cell_type": "code",
   "execution_count": 159,
   "id": "2fab6328-5b03-4f80-8683-d149ca3a19b8",
   "metadata": {},
   "outputs": [
    {
     "name": "stdout",
     "output_type": "stream",
     "text": [
      "array1d > 5 불린 인덱싱 값 :  [7 8 9]\n"
     ]
    }
   ],
   "source": [
    "# 불린 인덱싱\n",
    "array1d = np.arange(start=1, stop=10)\n",
    "\n",
    "array2 = array1d[array1d > 6]\n",
    "\n",
    "print('array1d > 5 불린 인덱싱 값 : ', array2)"
   ]
  },
  {
   "cell_type": "code",
   "execution_count": 19,
   "id": "5f467ee0-49d2-4cc3-b875-76819736b0b0",
   "metadata": {},
   "outputs": [
    {
     "data": {
      "text/plain": [
       "array([1, 2, 3, 4, 5, 6, 7, 8, 9])"
      ]
     },
     "execution_count": 19,
     "metadata": {},
     "output_type": "execute_result"
    }
   ],
   "source": [
    "# 불린 인덱싱\n",
    "ar1d = np.arange(1,10)\n",
    "ar1d"
   ]
  },
  {
   "cell_type": "code",
   "execution_count": 23,
   "id": "a4c2393f-c84c-4267-967f-824fdec3d8ee",
   "metadata": {},
   "outputs": [
    {
     "data": {
      "text/plain": [
       "array([6, 7, 8, 9])"
      ]
     },
     "execution_count": 23,
     "metadata": {},
     "output_type": "execute_result"
    }
   ],
   "source": [
    "# 불린 인덱싱 : [6, 7, 8, 9] 추출하세요\n",
    "ar = ar1d[ar1d > 5]\n",
    "ar"
   ]
  },
  {
   "cell_type": "code",
   "execution_count": 24,
   "id": "98e95dda-642d-409c-aa7c-91ec026d0ab0",
   "metadata": {},
   "outputs": [
    {
     "data": {
      "text/plain": [
       "array([6, 7, 8, 9])"
      ]
     },
     "execution_count": 24,
     "metadata": {},
     "output_type": "execute_result"
    }
   ],
   "source": [
    "# 일반 인덱싱\n",
    "indexes = np.array([5,6,7,8])\n",
    "ar = ar1d[indexes]\n",
    "ar"
   ]
  },
  {
   "cell_type": "markdown",
   "id": "c5aabaaf-14c7-4cbf-965d-9aff2c69eec2",
   "metadata": {},
   "source": [
    "## 행렬의 정렬\n",
    "- np.sort()\n",
    "- ndarray.sort()\n",
    "- argsort() - 정렬된 행렬의 인덱스 반환"
   ]
  },
  {
   "cell_type": "code",
   "execution_count": 160,
   "id": "3ce35e93-a404-4ae3-af02-0a67bfaf8a98",
   "metadata": {},
   "outputs": [
    {
     "name": "stdout",
     "output_type": "stream",
     "text": [
      "np.sort() 호출 후 반환된 정렬 행렬 :  [1 3 5 9]\n",
      "np.sort() 호출 후 원본 행렬 :  [3 1 9 5]\n",
      "org_array.sort() 호출 후 반환된 행렬 :  None\n",
      "org_array.sort() 호출 후 원본 행렬 :  [1 3 5 9]\n"
     ]
    }
   ],
   "source": [
    "# 행렬의 정렬 - sort() 와 argsort()\n",
    "# np.sort(), ndarray.sort()\n",
    "# argsort()\n",
    "\n",
    "org_array = np.array([3,1,9,5])\n",
    "sort_array1 = np.sort(org_array)\n",
    "print('np.sort() 호출 후 반환된 정렬 행렬 : ',sort_array1)\n",
    "print('np.sort() 호출 후 원본 행렬 : ',org_array)\n",
    "\n",
    "sort_array2 = org_array.sort()\n",
    "print('org_array.sort() 호출 후 반환된 행렬 : ',sort_array2)\n",
    "print('org_array.sort() 호출 후 원본 행렬 : ',org_array)"
   ]
  },
  {
   "cell_type": "code",
   "execution_count": 161,
   "id": "2962b9fd-d016-42df-b0b8-77432a33fad0",
   "metadata": {},
   "outputs": [
    {
     "name": "stdout",
     "output_type": "stream",
     "text": [
      "내림차순으로 정렬 :  [9 5 3 1]\n",
      "로우 방향으로 정렬 : \n",
      " [[ 7  1]\n",
      " [ 8 12]]\n",
      "칼럼 방향으로 정렬 : \n",
      " [[ 8 12]\n",
      " [ 1  7]]\n"
     ]
    }
   ],
   "source": [
    "# 내림차순 정렬\n",
    "sort_array1_desc = np.sort(org_array)[::-1]\n",
    "print('내림차순으로 정렬 : ', sort_array1_desc)\n",
    "\n",
    "# 로우,칼럼 방향으로 정렬\n",
    "array2d = np.array([[8, 12],\n",
    "                   [7, 1]])\n",
    "\n",
    "sort_array2d_axis0 = np.sort(array2d, axis = 0)\n",
    "print('로우 방향으로 정렬 : \\n', sort_array2d_axis0)\n",
    "\n",
    "sort_array2d_axis1 = np.sort(array2d, axis = 1)\n",
    "print('칼럼 방향으로 정렬 : \\n', sort_array2d_axis1)"
   ]
  },
  {
   "cell_type": "code",
   "execution_count": 28,
   "id": "8f2f0fc3-e223-490a-a6c7-5c40fa41ace4",
   "metadata": {},
   "outputs": [
    {
     "name": "stdout",
     "output_type": "stream",
     "text": [
      "[3 1 9 5]\n",
      "[1 3 5 9]\n",
      "None\n",
      "[1 3 5 9]\n"
     ]
    }
   ],
   "source": [
    "# 정렬\n",
    "# np.sort() 원본 미반영\n",
    "ar = np.array([3,1,9,5])\n",
    "s1 = np.sort(ar)\n",
    "print(ar)\n",
    "print(s1)\n",
    "# ndarray.sort() 정렬, 원본 반영\n",
    "s2 = ar.sort()\n",
    "print(s2)\n",
    "print(ar)"
   ]
  },
  {
   "cell_type": "code",
   "execution_count": 29,
   "id": "4378b912-92d6-43df-95c5-449d532c9a6e",
   "metadata": {},
   "outputs": [
    {
     "data": {
      "text/plain": [
       "array([9, 5, 3, 1])"
      ]
     },
     "execution_count": 29,
     "metadata": {},
     "output_type": "execute_result"
    }
   ],
   "source": [
    "# 내림차순\n",
    "s1[::-1]"
   ]
  },
  {
   "cell_type": "code",
   "execution_count": 162,
   "id": "41519fd6-864e-4448-b3f9-7d77ba2969b5",
   "metadata": {},
   "outputs": [
    {
     "data": {
      "text/plain": [
       "array([[0, 1, 2],\n",
       "       [3, 4, 5],\n",
       "       [6, 7, 8]])"
      ]
     },
     "execution_count": 162,
     "metadata": {},
     "output_type": "execute_result"
    }
   ],
   "source": [
    "# 과제(0913-3)\n",
    "# ar2d를 로우 방향, 컬럼 방향으로 정렬하세요\n",
    "ar2d = np.arange(9).reshape(3,3)\n",
    "ar2d"
   ]
  },
  {
   "cell_type": "code",
   "execution_count": 101,
   "id": "3d1979a7-7189-4129-8a3a-2a26d31702a2",
   "metadata": {},
   "outputs": [
    {
     "name": "stdout",
     "output_type": "stream",
     "text": [
      "None\n"
     ]
    }
   ],
   "source": [
    "ar2d_axis0 = ar2d.sort(axis=0)\n",
    "print(ar2d_axis0)"
   ]
  },
  {
   "cell_type": "code",
   "execution_count": 163,
   "id": "1c9fb392-9918-4d1f-b6b8-bcdb2687d11b",
   "metadata": {},
   "outputs": [
    {
     "name": "stdout",
     "output_type": "stream",
     "text": [
      "[[0 1 2]\n",
      " [3 4 5]\n",
      " [6 7 8]]\n"
     ]
    }
   ],
   "source": [
    "sort_ar2d_axis0 = np.sort(ar2d, axis=0)\n",
    "print(sort_ar2d_axis0)"
   ]
  },
  {
   "cell_type": "code",
   "execution_count": 102,
   "id": "b665b467-20a2-4866-8877-8f7b041a9e0e",
   "metadata": {},
   "outputs": [
    {
     "name": "stdout",
     "output_type": "stream",
     "text": [
      "None\n"
     ]
    }
   ],
   "source": [
    "ar2d_axis1 = ar2d.sort(axis=1)\n",
    "print(ar2d_axis1)"
   ]
  },
  {
   "cell_type": "code",
   "execution_count": 164,
   "id": "a20795f6-8fb8-44c2-b655-d6581e1ea22d",
   "metadata": {},
   "outputs": [
    {
     "name": "stdout",
     "output_type": "stream",
     "text": [
      "[[0 1 2]\n",
      " [3 4 5]\n",
      " [6 7 8]]\n"
     ]
    }
   ],
   "source": [
    "sort_ar2d_axis1 = np.sort(ar2d, axis=1)\n",
    "print(sort_ar2d_axis1)"
   ]
  },
  {
   "cell_type": "markdown",
   "id": "05deb555-5614-44fb-817b-555c55194f4d",
   "metadata": {
    "tags": []
   },
   "source": [
    "## 인덱스 값 반환"
   ]
  },
  {
   "cell_type": "code",
   "execution_count": 166,
   "id": "fd6c3348-cfd0-4f8b-ad09-d805742005d7",
   "metadata": {},
   "outputs": [
    {
     "name": "stdout",
     "output_type": "stream",
     "text": [
      "<class 'numpy.ndarray'>\n",
      "행렬 정렬 시 원본 행렬의 인덱스 :  [1 0 3 2]\n"
     ]
    }
   ],
   "source": [
    "# 정렬된 행렬의 인덱스를 반환\n",
    "\n",
    "org_array = np.array([3,1,9,5])\n",
    "sort_indices = np.argsort(org_array)\n",
    "print(type(sort_indices))\n",
    "print('행렬 정렬 시 원본 행렬의 인덱스 : ', sort_indices)"
   ]
  },
  {
   "cell_type": "code",
   "execution_count": 167,
   "id": "4cea1c3b-5b5d-4270-97e1-f6aa1e21e6c8",
   "metadata": {},
   "outputs": [
    {
     "name": "stdout",
     "output_type": "stream",
     "text": [
      "행렬 내림차순 정렬 시 원본 행렬의 인덱스 :  [2 3 0 1]\n"
     ]
    }
   ],
   "source": [
    "# 내림차순\n",
    "sort_indices_desc = np.argsort(org_array)[::-1]\n",
    "print('행렬 내림차순 정렬 시 원본 행렬의 인덱스 : ',sort_indices_desc)"
   ]
  },
  {
   "cell_type": "code",
   "execution_count": 107,
   "id": "38b24c44-38db-4df5-89e9-745739144cd3",
   "metadata": {
    "tags": []
   },
   "outputs": [],
   "source": [
    "# 과제(0913-4)\n",
    "# 성적 오름차순으로 이름을 출력하세요.\n",
    "name_array = np.array(['John','Mike','Sarah','Kate', 'Samuel'])\n",
    "score_array = np.array([78,95,84,98,88])"
   ]
  },
  {
   "cell_type": "code",
   "execution_count": 108,
   "id": "14ba3ebd-306d-4382-a035-7f481074ae34",
   "metadata": {
    "tags": []
   },
   "outputs": [
    {
     "name": "stdout",
     "output_type": "stream",
     "text": [
      "sort indices: [0 2 4 1 3]\n",
      "['John' 'Sarah' 'Samuel' 'Mike' 'Kate']\n",
      "[78 84 88 95 98]\n"
     ]
    }
   ],
   "source": [
    "# score_array의 정렬된 값에 해당하는 원본 행렬 위치 인덱스 반환하고 이를 이용하여 name_array에서 name값 추출.  \n",
    "sort_indices = np.argsort(score_array)\n",
    "print(\"sort indices:\", sort_indices)\n",
    "\n",
    "name_array_sort = name_array[sort_indices]\n",
    "\n",
    "score_array_sort = score_array[sort_indices]\n",
    "print(name_array_sort)\n",
    "print(score_array_sort)"
   ]
  },
  {
   "cell_type": "markdown",
   "id": "c34d8b84-d4b7-4102-be6b-57dcb59eceba",
   "metadata": {},
   "source": [
    "## 행렬 내적(행렬 곱)\n",
    "\n",
    "- 행렬 내적은 행열 곱이며, 두 행렬 A와 B의 내적은 np.dot()을 이용해 계산이 가능하다.\n",
    "- np.dot()"
   ]
  },
  {
   "cell_type": "code",
   "execution_count": 168,
   "id": "b27c9958-0490-4637-b2de-150c187424c2",
   "metadata": {},
   "outputs": [
    {
     "name": "stdout",
     "output_type": "stream",
     "text": [
      "행렬 내적 결과 : \n",
      " [[ 58  64]\n",
      " [139 154]]\n"
     ]
    }
   ],
   "source": [
    "# 행렬 내적 행렬 곱 np.dot()\n",
    "A = np.array([[1,2,3],\n",
    "              [4,5,6]])\n",
    "\n",
    "B = np.array([[7,8],\n",
    "             [9,10],\n",
    "             [11,12]])\n",
    "\n",
    "print('행렬 내적 결과 : \\n', np.dot(A,B))"
   ]
  },
  {
   "cell_type": "code",
   "execution_count": 38,
   "id": "f3be5a9b-b52b-438a-af13-88b13cd3f48a",
   "metadata": {},
   "outputs": [
    {
     "data": {
      "text/plain": [
       "array([[ 58,  64],\n",
       "       [139, 154]])"
      ]
     },
     "execution_count": 38,
     "metadata": {},
     "output_type": "execute_result"
    }
   ],
   "source": [
    "# 선형대수 연산 - 행렬 내적\n",
    "a = np.arange(1,7).reshape(2,3)\n",
    "b = np.arange(7,13).reshape(3,2)\n",
    "dot_product = np.dot(a,b)\n",
    "dot_product"
   ]
  },
  {
   "cell_type": "markdown",
   "id": "161214cd-b365-4b8c-9beb-1cd9bc859eba",
   "metadata": {},
   "source": [
    "## 전치 행렬\n",
    "\n",
    "- 원 행렬에서 행과 열 위치를 교환한 원소로 구성한 행렬을 그 행렬의 전치 행렬이라고 한다.\n",
    "- np.transpose(A)"
   ]
  },
  {
   "cell_type": "code",
   "execution_count": 169,
   "id": "deec80d2-4e1d-41e6-b654-d8e4016d971d",
   "metadata": {},
   "outputs": [
    {
     "name": "stdout",
     "output_type": "stream",
     "text": [
      "A1의 전치 행렬 : \n",
      " [[1 3]\n",
      " [2 4]]\n",
      "A의 전치 행렬 : \n",
      " [[1 4]\n",
      " [2 5]\n",
      " [3 6]]\n",
      "B의 전치 행렬 : \n",
      " [[ 7  9 11]\n",
      " [ 8 10 12]]\n"
     ]
    }
   ],
   "source": [
    "# 전치 행렬\n",
    "A1 = np.array([[1,2],\n",
    "              [3,4]])\n",
    "print('A1의 전치 행렬 : \\n', np.transpose(A1))\n",
    "print('A의 전치 행렬 : \\n', np.transpose(A))\n",
    "print('B의 전치 행렬 : \\n', np.transpose(B))"
   ]
  },
  {
   "cell_type": "code",
   "execution_count": 39,
   "id": "99a028cc-b5cb-4e69-8cc1-4f3569114124",
   "metadata": {},
   "outputs": [
    {
     "name": "stdout",
     "output_type": "stream",
     "text": [
      "[[1 2 3]\n",
      " [4 5 6]] \n",
      "\n"
     ]
    },
    {
     "data": {
      "text/plain": [
       "array([[1, 4],\n",
       "       [2, 5],\n",
       "       [3, 6]])"
      ]
     },
     "execution_count": 39,
     "metadata": {},
     "output_type": "execute_result"
    }
   ],
   "source": [
    "# 전치 행렬\n",
    "print(a,'\\n')\n",
    "transpose_mat = np.transpose(a)\n",
    "transpose_mat"
   ]
  },
  {
   "cell_type": "markdown",
   "id": "9806a783-7e70-4d2b-83ac-9574da304bef",
   "metadata": {
    "tags": []
   },
   "source": [
    "# pandas\n",
    "- 판다스의 핵심 개체는DataFrame이다.\n",
    "    - DataFrame은여러 개의 행과 열로 이뤄진 2차원 데이터를 담는 데이터 구조체다.\n",
    "- Index\n",
    "    - Index는 RDBMS의 PK(Primary Key)처럼 개별 데이터를 고유하게 식별하는 Key 값이다.\n",
    "    - Series와 DataFrame은 모두 Index를 key 값으로 가지고 있다.\n",
    "- Series는 칼럼이 하나뿐인 데이터 구조체\n",
    "- DataFrame은 칼럼이 여러 개인 데이터 구조체\n",
    "    - DataFrame은 여러 개의 Series로 이뤄졌다고 할 수 있다."
   ]
  },
  {
   "cell_type": "code",
   "execution_count": 1,
   "id": "855b0b8e-d424-4a80-9427-e5bb4e59b3a1",
   "metadata": {},
   "outputs": [
    {
     "data": {
      "text/html": [
       "<div>\n",
       "<style scoped>\n",
       "    .dataframe tbody tr th:only-of-type {\n",
       "        vertical-align: middle;\n",
       "    }\n",
       "\n",
       "    .dataframe tbody tr th {\n",
       "        vertical-align: top;\n",
       "    }\n",
       "\n",
       "    .dataframe thead th {\n",
       "        text-align: right;\n",
       "    }\n",
       "</style>\n",
       "<table border=\"1\" class=\"dataframe\">\n",
       "  <thead>\n",
       "    <tr style=\"text-align: right;\">\n",
       "      <th></th>\n",
       "      <th>PassengerId</th>\n",
       "      <th>Survived</th>\n",
       "      <th>Pclass</th>\n",
       "      <th>Name</th>\n",
       "      <th>Sex</th>\n",
       "      <th>Age</th>\n",
       "      <th>SibSp</th>\n",
       "      <th>Parch</th>\n",
       "      <th>Ticket</th>\n",
       "      <th>Fare</th>\n",
       "      <th>Cabin</th>\n",
       "      <th>Embarked</th>\n",
       "    </tr>\n",
       "  </thead>\n",
       "  <tbody>\n",
       "    <tr>\n",
       "      <th>0</th>\n",
       "      <td>1</td>\n",
       "      <td>0</td>\n",
       "      <td>3</td>\n",
       "      <td>Braund, Mr. Owen Harris</td>\n",
       "      <td>male</td>\n",
       "      <td>22.0</td>\n",
       "      <td>1</td>\n",
       "      <td>0</td>\n",
       "      <td>A/5 21171</td>\n",
       "      <td>7.2500</td>\n",
       "      <td>NaN</td>\n",
       "      <td>S</td>\n",
       "    </tr>\n",
       "    <tr>\n",
       "      <th>1</th>\n",
       "      <td>2</td>\n",
       "      <td>1</td>\n",
       "      <td>1</td>\n",
       "      <td>Cumings, Mrs. John Bradley (Florence Briggs Th...</td>\n",
       "      <td>female</td>\n",
       "      <td>38.0</td>\n",
       "      <td>1</td>\n",
       "      <td>0</td>\n",
       "      <td>PC 17599</td>\n",
       "      <td>71.2833</td>\n",
       "      <td>C85</td>\n",
       "      <td>C</td>\n",
       "    </tr>\n",
       "    <tr>\n",
       "      <th>2</th>\n",
       "      <td>3</td>\n",
       "      <td>1</td>\n",
       "      <td>3</td>\n",
       "      <td>Heikkinen, Miss. Laina</td>\n",
       "      <td>female</td>\n",
       "      <td>26.0</td>\n",
       "      <td>0</td>\n",
       "      <td>0</td>\n",
       "      <td>STON/O2. 3101282</td>\n",
       "      <td>7.9250</td>\n",
       "      <td>NaN</td>\n",
       "      <td>S</td>\n",
       "    </tr>\n",
       "    <tr>\n",
       "      <th>3</th>\n",
       "      <td>4</td>\n",
       "      <td>1</td>\n",
       "      <td>1</td>\n",
       "      <td>Futrelle, Mrs. Jacques Heath (Lily May Peel)</td>\n",
       "      <td>female</td>\n",
       "      <td>35.0</td>\n",
       "      <td>1</td>\n",
       "      <td>0</td>\n",
       "      <td>113803</td>\n",
       "      <td>53.1000</td>\n",
       "      <td>C123</td>\n",
       "      <td>S</td>\n",
       "    </tr>\n",
       "    <tr>\n",
       "      <th>4</th>\n",
       "      <td>5</td>\n",
       "      <td>0</td>\n",
       "      <td>3</td>\n",
       "      <td>Allen, Mr. William Henry</td>\n",
       "      <td>male</td>\n",
       "      <td>35.0</td>\n",
       "      <td>0</td>\n",
       "      <td>0</td>\n",
       "      <td>373450</td>\n",
       "      <td>8.0500</td>\n",
       "      <td>NaN</td>\n",
       "      <td>S</td>\n",
       "    </tr>\n",
       "  </tbody>\n",
       "</table>\n",
       "</div>"
      ],
      "text/plain": [
       "   PassengerId  Survived  Pclass  \\\n",
       "0            1         0       3   \n",
       "1            2         1       1   \n",
       "2            3         1       3   \n",
       "3            4         1       1   \n",
       "4            5         0       3   \n",
       "\n",
       "                                                Name     Sex   Age  SibSp  \\\n",
       "0                            Braund, Mr. Owen Harris    male  22.0      1   \n",
       "1  Cumings, Mrs. John Bradley (Florence Briggs Th...  female  38.0      1   \n",
       "2                             Heikkinen, Miss. Laina  female  26.0      0   \n",
       "3       Futrelle, Mrs. Jacques Heath (Lily May Peel)  female  35.0      1   \n",
       "4                           Allen, Mr. William Henry    male  35.0      0   \n",
       "\n",
       "   Parch            Ticket     Fare Cabin Embarked  \n",
       "0      0         A/5 21171   7.2500   NaN        S  \n",
       "1      0          PC 17599  71.2833   C85        C  \n",
       "2      0  STON/O2. 3101282   7.9250   NaN        S  \n",
       "3      0            113803  53.1000  C123        S  \n",
       "4      0            373450   8.0500   NaN        S  "
      ]
     },
     "execution_count": 1,
     "metadata": {},
     "output_type": "execute_result"
    }
   ],
   "source": [
    "import pandas as pd\n",
    "tdf = pd.read_csv('titanic_train.csv')\n",
    "tdf.head()"
   ]
  },
  {
   "cell_type": "code",
   "execution_count": 2,
   "id": "1f7b031f-4dfc-4cfd-87c5-eea696c94de4",
   "metadata": {},
   "outputs": [
    {
     "data": {
      "text/plain": [
       "(891, 12)"
      ]
     },
     "execution_count": 2,
     "metadata": {},
     "output_type": "execute_result"
    }
   ],
   "source": [
    "tdf.shape"
   ]
  },
  {
   "cell_type": "code",
   "execution_count": 3,
   "id": "7d32ddea-1804-43e4-bcb0-4760ae19d194",
   "metadata": {},
   "outputs": [
    {
     "data": {
      "text/plain": [
       "Index(['PassengerId', 'Survived', 'Pclass', 'Name', 'Sex', 'Age', 'SibSp',\n",
       "       'Parch', 'Ticket', 'Fare', 'Cabin', 'Embarked'],\n",
       "      dtype='object')"
      ]
     },
     "execution_count": 3,
     "metadata": {},
     "output_type": "execute_result"
    }
   ],
   "source": [
    "tdf.columns"
   ]
  },
  {
   "cell_type": "code",
   "execution_count": 4,
   "id": "128f7ee6-d89c-4826-a38a-9324ee1b5557",
   "metadata": {},
   "outputs": [
    {
     "name": "stdout",
     "output_type": "stream",
     "text": [
      "<class 'pandas.core.frame.DataFrame'>\n",
      "RangeIndex: 891 entries, 0 to 890\n",
      "Data columns (total 12 columns):\n",
      " #   Column       Non-Null Count  Dtype  \n",
      "---  ------       --------------  -----  \n",
      " 0   PassengerId  891 non-null    int64  \n",
      " 1   Survived     891 non-null    int64  \n",
      " 2   Pclass       891 non-null    int64  \n",
      " 3   Name         891 non-null    object \n",
      " 4   Sex          891 non-null    object \n",
      " 5   Age          714 non-null    float64\n",
      " 6   SibSp        891 non-null    int64  \n",
      " 7   Parch        891 non-null    int64  \n",
      " 8   Ticket       891 non-null    object \n",
      " 9   Fare         891 non-null    float64\n",
      " 10  Cabin        204 non-null    object \n",
      " 11  Embarked     889 non-null    object \n",
      "dtypes: float64(2), int64(5), object(5)\n",
      "memory usage: 83.7+ KB\n"
     ]
    }
   ],
   "source": [
    "tdf.info()"
   ]
  },
  {
   "cell_type": "code",
   "execution_count": 5,
   "id": "48d64205-9b27-4e6b-bfb6-e2b934c8c160",
   "metadata": {},
   "outputs": [
    {
     "data": {
      "text/html": [
       "<div>\n",
       "<style scoped>\n",
       "    .dataframe tbody tr th:only-of-type {\n",
       "        vertical-align: middle;\n",
       "    }\n",
       "\n",
       "    .dataframe tbody tr th {\n",
       "        vertical-align: top;\n",
       "    }\n",
       "\n",
       "    .dataframe thead th {\n",
       "        text-align: right;\n",
       "    }\n",
       "</style>\n",
       "<table border=\"1\" class=\"dataframe\">\n",
       "  <thead>\n",
       "    <tr style=\"text-align: right;\">\n",
       "      <th></th>\n",
       "      <th>PassengerId</th>\n",
       "      <th>Survived</th>\n",
       "      <th>Pclass</th>\n",
       "      <th>Age</th>\n",
       "      <th>SibSp</th>\n",
       "      <th>Parch</th>\n",
       "      <th>Fare</th>\n",
       "    </tr>\n",
       "  </thead>\n",
       "  <tbody>\n",
       "    <tr>\n",
       "      <th>count</th>\n",
       "      <td>891.000000</td>\n",
       "      <td>891.000000</td>\n",
       "      <td>891.000000</td>\n",
       "      <td>714.000000</td>\n",
       "      <td>891.000000</td>\n",
       "      <td>891.000000</td>\n",
       "      <td>891.000000</td>\n",
       "    </tr>\n",
       "    <tr>\n",
       "      <th>mean</th>\n",
       "      <td>446.000000</td>\n",
       "      <td>0.383838</td>\n",
       "      <td>2.308642</td>\n",
       "      <td>29.699118</td>\n",
       "      <td>0.523008</td>\n",
       "      <td>0.381594</td>\n",
       "      <td>32.204208</td>\n",
       "    </tr>\n",
       "    <tr>\n",
       "      <th>std</th>\n",
       "      <td>257.353842</td>\n",
       "      <td>0.486592</td>\n",
       "      <td>0.836071</td>\n",
       "      <td>14.526497</td>\n",
       "      <td>1.102743</td>\n",
       "      <td>0.806057</td>\n",
       "      <td>49.693429</td>\n",
       "    </tr>\n",
       "    <tr>\n",
       "      <th>min</th>\n",
       "      <td>1.000000</td>\n",
       "      <td>0.000000</td>\n",
       "      <td>1.000000</td>\n",
       "      <td>0.420000</td>\n",
       "      <td>0.000000</td>\n",
       "      <td>0.000000</td>\n",
       "      <td>0.000000</td>\n",
       "    </tr>\n",
       "    <tr>\n",
       "      <th>25%</th>\n",
       "      <td>223.500000</td>\n",
       "      <td>0.000000</td>\n",
       "      <td>2.000000</td>\n",
       "      <td>20.125000</td>\n",
       "      <td>0.000000</td>\n",
       "      <td>0.000000</td>\n",
       "      <td>7.910400</td>\n",
       "    </tr>\n",
       "    <tr>\n",
       "      <th>50%</th>\n",
       "      <td>446.000000</td>\n",
       "      <td>0.000000</td>\n",
       "      <td>3.000000</td>\n",
       "      <td>28.000000</td>\n",
       "      <td>0.000000</td>\n",
       "      <td>0.000000</td>\n",
       "      <td>14.454200</td>\n",
       "    </tr>\n",
       "    <tr>\n",
       "      <th>75%</th>\n",
       "      <td>668.500000</td>\n",
       "      <td>1.000000</td>\n",
       "      <td>3.000000</td>\n",
       "      <td>38.000000</td>\n",
       "      <td>1.000000</td>\n",
       "      <td>0.000000</td>\n",
       "      <td>31.000000</td>\n",
       "    </tr>\n",
       "    <tr>\n",
       "      <th>max</th>\n",
       "      <td>891.000000</td>\n",
       "      <td>1.000000</td>\n",
       "      <td>3.000000</td>\n",
       "      <td>80.000000</td>\n",
       "      <td>8.000000</td>\n",
       "      <td>6.000000</td>\n",
       "      <td>512.329200</td>\n",
       "    </tr>\n",
       "  </tbody>\n",
       "</table>\n",
       "</div>"
      ],
      "text/plain": [
       "       PassengerId    Survived      Pclass         Age       SibSp  \\\n",
       "count   891.000000  891.000000  891.000000  714.000000  891.000000   \n",
       "mean    446.000000    0.383838    2.308642   29.699118    0.523008   \n",
       "std     257.353842    0.486592    0.836071   14.526497    1.102743   \n",
       "min       1.000000    0.000000    1.000000    0.420000    0.000000   \n",
       "25%     223.500000    0.000000    2.000000   20.125000    0.000000   \n",
       "50%     446.000000    0.000000    3.000000   28.000000    0.000000   \n",
       "75%     668.500000    1.000000    3.000000   38.000000    1.000000   \n",
       "max     891.000000    1.000000    3.000000   80.000000    8.000000   \n",
       "\n",
       "            Parch        Fare  \n",
       "count  891.000000  891.000000  \n",
       "mean     0.381594   32.204208  \n",
       "std      0.806057   49.693429  \n",
       "min      0.000000    0.000000  \n",
       "25%      0.000000    7.910400  \n",
       "50%      0.000000   14.454200  \n",
       "75%      0.000000   31.000000  \n",
       "max      6.000000  512.329200  "
      ]
     },
     "execution_count": 5,
     "metadata": {},
     "output_type": "execute_result"
    }
   ],
   "source": [
    "tdf.describe()"
   ]
  },
  {
   "cell_type": "code",
   "execution_count": 6,
   "id": "d5a05f7e-efec-4c3d-ae6e-240ce78f7540",
   "metadata": {},
   "outputs": [
    {
     "data": {
      "text/plain": [
       "3    491\n",
       "1    216\n",
       "2    184\n",
       "Name: Pclass, dtype: int64"
      ]
     },
     "execution_count": 6,
     "metadata": {},
     "output_type": "execute_result"
    }
   ],
   "source": [
    "# value_counts() 메서드 해당 칼럼값의 유형과 건수 확인\n",
    "vcounts = tdf['Pclass'].value_counts()\n",
    "vcounts"
   ]
  },
  {
   "cell_type": "code",
   "execution_count": 175,
   "id": "bb57d597-146d-4fbc-9806-f108f244504a",
   "metadata": {},
   "outputs": [],
   "source": [
    "# DataFrame과 리스트, 딕셔너리, 넘파이 ndarray 상호 변환"
   ]
  },
  {
   "cell_type": "markdown",
   "id": "e10a6c7c-dbc4-46d0-90a6-c6727b6726b9",
   "metadata": {},
   "source": [
    "- 기본적으로 DataFrame은 파이썬의 리스트, 딕셔너리, 넘파이 ndarray 등 다양한 데이터로부터 생성 가능\n",
    "- DataFrame은 반대로 파이썬의 리스트, 딕셔너리 그리고 넘파이 ndarray 등으로 변환될 수 있다."
   ]
  },
  {
   "cell_type": "code",
   "execution_count": 109,
   "id": "eb9a53eb-02bb-4f39-a891-60c767070942",
   "metadata": {},
   "outputs": [],
   "source": [
    "# 과제(0913-5)\n",
    "# 데이터프레임과 리스트, 딕셔너리, 배열(ndarray) 상호 변환사례를 작성하여 설명하세요."
   ]
  },
  {
   "cell_type": "code",
   "execution_count": 134,
   "id": "78132f0d-2458-4a42-814a-ceeb2e8d2b61",
   "metadata": {},
   "outputs": [
    {
     "name": "stdout",
     "output_type": "stream",
     "text": [
      "list로 만든 DataFrame \n",
      "\n"
     ]
    },
    {
     "data": {
      "text/html": [
       "<div>\n",
       "<style scoped>\n",
       "    .dataframe tbody tr th:only-of-type {\n",
       "        vertical-align: middle;\n",
       "    }\n",
       "\n",
       "    .dataframe tbody tr th {\n",
       "        vertical-align: top;\n",
       "    }\n",
       "\n",
       "    .dataframe thead th {\n",
       "        text-align: right;\n",
       "    }\n",
       "</style>\n",
       "<table border=\"1\" class=\"dataframe\">\n",
       "  <thead>\n",
       "    <tr style=\"text-align: right;\">\n",
       "      <th></th>\n",
       "      <th>col1</th>\n",
       "      <th>col2</th>\n",
       "      <th>col3</th>\n",
       "    </tr>\n",
       "  </thead>\n",
       "  <tbody>\n",
       "    <tr>\n",
       "      <th>0</th>\n",
       "      <td>1</td>\n",
       "      <td>2</td>\n",
       "      <td>3</td>\n",
       "    </tr>\n",
       "    <tr>\n",
       "      <th>1</th>\n",
       "      <td>11</td>\n",
       "      <td>12</td>\n",
       "      <td>13</td>\n",
       "    </tr>\n",
       "  </tbody>\n",
       "</table>\n",
       "</div>"
      ],
      "text/plain": [
       "   col1  col2  col3\n",
       "0     1     2     3\n",
       "1    11    12    13"
      ]
     },
     "metadata": {},
     "output_type": "display_data"
    },
    {
     "name": "stdout",
     "output_type": "stream",
     "text": [
      "딕셔너리로 만든 DataFrame \n",
      "\n"
     ]
    },
    {
     "data": {
      "text/html": [
       "<div>\n",
       "<style scoped>\n",
       "    .dataframe tbody tr th:only-of-type {\n",
       "        vertical-align: middle;\n",
       "    }\n",
       "\n",
       "    .dataframe tbody tr th {\n",
       "        vertical-align: top;\n",
       "    }\n",
       "\n",
       "    .dataframe thead th {\n",
       "        text-align: right;\n",
       "    }\n",
       "</style>\n",
       "<table border=\"1\" class=\"dataframe\">\n",
       "  <thead>\n",
       "    <tr style=\"text-align: right;\">\n",
       "      <th></th>\n",
       "      <th>col1</th>\n",
       "      <th>col2</th>\n",
       "      <th>col3</th>\n",
       "    </tr>\n",
       "  </thead>\n",
       "  <tbody>\n",
       "    <tr>\n",
       "      <th>0</th>\n",
       "      <td>1</td>\n",
       "      <td>2</td>\n",
       "      <td>3</td>\n",
       "    </tr>\n",
       "    <tr>\n",
       "      <th>1</th>\n",
       "      <td>11</td>\n",
       "      <td>22</td>\n",
       "      <td>33</td>\n",
       "    </tr>\n",
       "  </tbody>\n",
       "</table>\n",
       "</div>"
      ],
      "text/plain": [
       "   col1  col2  col3\n",
       "0     1     2     3\n",
       "1    11    22    33"
      ]
     },
     "metadata": {},
     "output_type": "display_data"
    },
    {
     "name": "stdout",
     "output_type": "stream",
     "text": [
      "array로 만든 DataFrame \n",
      "\n"
     ]
    },
    {
     "data": {
      "text/html": [
       "<div>\n",
       "<style scoped>\n",
       "    .dataframe tbody tr th:only-of-type {\n",
       "        vertical-align: middle;\n",
       "    }\n",
       "\n",
       "    .dataframe tbody tr th {\n",
       "        vertical-align: top;\n",
       "    }\n",
       "\n",
       "    .dataframe thead th {\n",
       "        text-align: right;\n",
       "    }\n",
       "</style>\n",
       "<table border=\"1\" class=\"dataframe\">\n",
       "  <thead>\n",
       "    <tr style=\"text-align: right;\">\n",
       "      <th></th>\n",
       "      <th>col1</th>\n",
       "      <th>col2</th>\n",
       "      <th>col3</th>\n",
       "    </tr>\n",
       "  </thead>\n",
       "  <tbody>\n",
       "    <tr>\n",
       "      <th>0</th>\n",
       "      <td>1</td>\n",
       "      <td>2</td>\n",
       "      <td>3</td>\n",
       "    </tr>\n",
       "    <tr>\n",
       "      <th>1</th>\n",
       "      <td>11</td>\n",
       "      <td>12</td>\n",
       "      <td>13</td>\n",
       "    </tr>\n",
       "  </tbody>\n",
       "</table>\n",
       "</div>"
      ],
      "text/plain": [
       "   col1  col2  col3\n",
       "0     1     2     3\n",
       "1    11    12    13"
      ]
     },
     "metadata": {},
     "output_type": "display_data"
    }
   ],
   "source": [
    "# 리스트, 배열, 딕셔너리를 데이터프레임으로 변환\n",
    "col_name = ['col1', 'col2', 'col3']\n",
    "list = [[1,2,3],[11,12,13]]\n",
    "array = np.array(list)\n",
    "dict ={'col1':[1,11], 'col2':[2,22],'col3':[3,33]}\n",
    "\n",
    "df_list = pd.DataFrame(list, columns=col_name)\n",
    "df_dict = pd.DataFrame(dict)\n",
    "df_array = pd.DataFrame(array, columns=col_name)\n",
    "\n",
    "print('list로 만든 DataFrame','\\n')\n",
    "display(df_list)\n",
    "print('딕셔너리로 만든 DataFrame','\\n')\n",
    "display(df_dict)\n",
    "print('array로 만든 DataFrame','\\n')\n",
    "display(df_array)"
   ]
  },
  {
   "cell_type": "code",
   "execution_count": 133,
   "id": "81ea91c9-04bb-40d8-a76f-fd7fc000ce73",
   "metadata": {},
   "outputs": [
    {
     "name": "stdout",
     "output_type": "stream",
     "text": [
      "[[ 1  2  3]\n",
      " [11 12 13]] \n",
      "\n",
      "[[1, 2, 3], [11, 12, 13]] \n",
      "\n",
      "{'col1': [1, 11], 'col2': [2, 22], 'col3': [3, 33]}\n"
     ]
    }
   ],
   "source": [
    "# 데이터프레임을 배열, 리스트, 딕셔너리로 변환\n",
    "# DataFrame을 ndarray로 변환\n",
    "array = df_array.values\n",
    "print(array,'\\n')\n",
    "\n",
    "# DataFrame을 list로 변환\n",
    "list = df_list.values.tolist()\n",
    "print(list,'\\n')\n",
    "\n",
    "# DataFrame을 딕셔너리로 변환\n",
    "dict = df_dict.to_dict('list')\n",
    "print(dict)"
   ]
  },
  {
   "cell_type": "code",
   "execution_count": 49,
   "id": "d5fa2554-118e-43a8-ba04-80d5f8d8166c",
   "metadata": {},
   "outputs": [],
   "source": [
    "# 과제(0913-6)\n",
    "# tdf를 전처리 및 탐색적 분석(시각화, 통계적 기법)을 통하여 분석용 데이터셋으로 만드세요."
   ]
  },
  {
   "cell_type": "code",
   "execution_count": 38,
   "id": "01be71da-a192-4529-af74-5a69202f1b00",
   "metadata": {},
   "outputs": [
    {
     "data": {
      "text/html": [
       "<div>\n",
       "<style scoped>\n",
       "    .dataframe tbody tr th:only-of-type {\n",
       "        vertical-align: middle;\n",
       "    }\n",
       "\n",
       "    .dataframe tbody tr th {\n",
       "        vertical-align: top;\n",
       "    }\n",
       "\n",
       "    .dataframe thead th {\n",
       "        text-align: right;\n",
       "    }\n",
       "</style>\n",
       "<table border=\"1\" class=\"dataframe\">\n",
       "  <thead>\n",
       "    <tr style=\"text-align: right;\">\n",
       "      <th></th>\n",
       "      <th>PassengerId</th>\n",
       "      <th>Survived</th>\n",
       "      <th>Pclass</th>\n",
       "      <th>Name</th>\n",
       "      <th>Sex</th>\n",
       "      <th>Age</th>\n",
       "      <th>SibSp</th>\n",
       "      <th>Parch</th>\n",
       "      <th>Ticket</th>\n",
       "      <th>Fare</th>\n",
       "      <th>Cabin</th>\n",
       "      <th>Embarked</th>\n",
       "    </tr>\n",
       "  </thead>\n",
       "  <tbody>\n",
       "    <tr>\n",
       "      <th>0</th>\n",
       "      <td>1</td>\n",
       "      <td>0</td>\n",
       "      <td>3</td>\n",
       "      <td>Braund, Mr. Owen Harris</td>\n",
       "      <td>male</td>\n",
       "      <td>22.0</td>\n",
       "      <td>1</td>\n",
       "      <td>0</td>\n",
       "      <td>A/5 21171</td>\n",
       "      <td>7.2500</td>\n",
       "      <td>NaN</td>\n",
       "      <td>S</td>\n",
       "    </tr>\n",
       "    <tr>\n",
       "      <th>1</th>\n",
       "      <td>2</td>\n",
       "      <td>1</td>\n",
       "      <td>1</td>\n",
       "      <td>Cumings, Mrs. John Bradley (Florence Briggs Th...</td>\n",
       "      <td>female</td>\n",
       "      <td>38.0</td>\n",
       "      <td>1</td>\n",
       "      <td>0</td>\n",
       "      <td>PC 17599</td>\n",
       "      <td>71.2833</td>\n",
       "      <td>C85</td>\n",
       "      <td>C</td>\n",
       "    </tr>\n",
       "    <tr>\n",
       "      <th>2</th>\n",
       "      <td>3</td>\n",
       "      <td>1</td>\n",
       "      <td>3</td>\n",
       "      <td>Heikkinen, Miss. Laina</td>\n",
       "      <td>female</td>\n",
       "      <td>26.0</td>\n",
       "      <td>0</td>\n",
       "      <td>0</td>\n",
       "      <td>STON/O2. 3101282</td>\n",
       "      <td>7.9250</td>\n",
       "      <td>NaN</td>\n",
       "      <td>S</td>\n",
       "    </tr>\n",
       "    <tr>\n",
       "      <th>3</th>\n",
       "      <td>4</td>\n",
       "      <td>1</td>\n",
       "      <td>1</td>\n",
       "      <td>Futrelle, Mrs. Jacques Heath (Lily May Peel)</td>\n",
       "      <td>female</td>\n",
       "      <td>35.0</td>\n",
       "      <td>1</td>\n",
       "      <td>0</td>\n",
       "      <td>113803</td>\n",
       "      <td>53.1000</td>\n",
       "      <td>C123</td>\n",
       "      <td>S</td>\n",
       "    </tr>\n",
       "    <tr>\n",
       "      <th>4</th>\n",
       "      <td>5</td>\n",
       "      <td>0</td>\n",
       "      <td>3</td>\n",
       "      <td>Allen, Mr. William Henry</td>\n",
       "      <td>male</td>\n",
       "      <td>35.0</td>\n",
       "      <td>0</td>\n",
       "      <td>0</td>\n",
       "      <td>373450</td>\n",
       "      <td>8.0500</td>\n",
       "      <td>NaN</td>\n",
       "      <td>S</td>\n",
       "    </tr>\n",
       "  </tbody>\n",
       "</table>\n",
       "</div>"
      ],
      "text/plain": [
       "   PassengerId  Survived  Pclass  \\\n",
       "0            1         0       3   \n",
       "1            2         1       1   \n",
       "2            3         1       3   \n",
       "3            4         1       1   \n",
       "4            5         0       3   \n",
       "\n",
       "                                                Name     Sex   Age  SibSp  \\\n",
       "0                            Braund, Mr. Owen Harris    male  22.0      1   \n",
       "1  Cumings, Mrs. John Bradley (Florence Briggs Th...  female  38.0      1   \n",
       "2                             Heikkinen, Miss. Laina  female  26.0      0   \n",
       "3       Futrelle, Mrs. Jacques Heath (Lily May Peel)  female  35.0      1   \n",
       "4                           Allen, Mr. William Henry    male  35.0      0   \n",
       "\n",
       "   Parch            Ticket     Fare Cabin Embarked  \n",
       "0      0         A/5 21171   7.2500   NaN        S  \n",
       "1      0          PC 17599  71.2833   C85        C  \n",
       "2      0  STON/O2. 3101282   7.9250   NaN        S  \n",
       "3      0            113803  53.1000  C123        S  \n",
       "4      0            373450   8.0500   NaN        S  "
      ]
     },
     "execution_count": 38,
     "metadata": {},
     "output_type": "execute_result"
    }
   ],
   "source": [
    "import pandas as pd\n",
    "tdf = pd.read_csv('titanic_train.csv')\n",
    "tdf.head()"
   ]
  },
  {
   "cell_type": "code",
   "execution_count": 39,
   "id": "43108170-ef10-4b97-b69a-87ff53d3b3f8",
   "metadata": {},
   "outputs": [
    {
     "data": {
      "text/plain": [
       "Index(['PassengerId', 'Survived', 'Pclass', 'Name', 'Sex', 'Age', 'SibSp',\n",
       "       'Parch', 'Ticket', 'Fare', 'Cabin', 'Embarked'],\n",
       "      dtype='object')"
      ]
     },
     "execution_count": 39,
     "metadata": {},
     "output_type": "execute_result"
    }
   ],
   "source": [
    "tdf.columns"
   ]
  },
  {
   "cell_type": "code",
   "execution_count": null,
   "id": "6ef5336a-15ac-4571-8c79-51200ae1c110",
   "metadata": {},
   "outputs": [],
   "source": [
    "#PassengerId : \n",
    "#survived : 탑승객 생존 유무 (0: 사망, 1: 생존)\n",
    "#pclass : 등실의 등급\n",
    "#name : 이름\n",
    "#sex : 성별\n",
    "#age : 나이\n",
    "#sibsp : 함께 탐승한 형제자매, 아내, 남편의 수\n",
    "#parch : 함께 탐승한 부모, 자식의 수\n",
    "#ticket :티켓 번호\n",
    "#fare : 티켓의 요금\n",
    "#cabin : 객실번호\n",
    "#embarked : 배에 탑승한 항구 이름"
   ]
  },
  {
   "cell_type": "code",
   "execution_count": 40,
   "id": "dc39455a-d941-4617-ae23-21c103c30310",
   "metadata": {},
   "outputs": [
    {
     "name": "stdout",
     "output_type": "stream",
     "text": [
      "<class 'pandas.core.frame.DataFrame'>\n",
      "RangeIndex: 891 entries, 0 to 890\n",
      "Data columns (total 12 columns):\n",
      " #   Column       Non-Null Count  Dtype  \n",
      "---  ------       --------------  -----  \n",
      " 0   PassengerId  891 non-null    int64  \n",
      " 1   Survived     891 non-null    int64  \n",
      " 2   Pclass       891 non-null    int64  \n",
      " 3   Name         891 non-null    object \n",
      " 4   Sex          891 non-null    object \n",
      " 5   Age          714 non-null    float64\n",
      " 6   SibSp        891 non-null    int64  \n",
      " 7   Parch        891 non-null    int64  \n",
      " 8   Ticket       891 non-null    object \n",
      " 9   Fare         891 non-null    float64\n",
      " 10  Cabin        204 non-null    object \n",
      " 11  Embarked     889 non-null    object \n",
      "dtypes: float64(2), int64(5), object(5)\n",
      "memory usage: 83.7+ KB\n"
     ]
    }
   ],
   "source": [
    "tdf.info()"
   ]
  },
  {
   "cell_type": "code",
   "execution_count": 41,
   "id": "b1dedf22-56c0-44ff-b384-4417613264b8",
   "metadata": {},
   "outputs": [
    {
     "data": {
      "text/plain": [
       "PassengerId      0\n",
       "Survived         0\n",
       "Pclass           0\n",
       "Name             0\n",
       "Sex              0\n",
       "Age            177\n",
       "SibSp            0\n",
       "Parch            0\n",
       "Ticket           0\n",
       "Fare             0\n",
       "Cabin          687\n",
       "Embarked         2\n",
       "dtype: int64"
      ]
     },
     "execution_count": 41,
     "metadata": {},
     "output_type": "execute_result"
    }
   ],
   "source": [
    "# null값 확인\n",
    "tdf.isnull().sum()"
   ]
  },
  {
   "cell_type": "code",
   "execution_count": 37,
   "id": "39c8eb80-9af4-4b27-a4e8-a5f93acb4792",
   "metadata": {},
   "outputs": [
    {
     "data": {
      "text/plain": [
       "count    714.000000\n",
       "mean      29.699118\n",
       "std       14.526497\n",
       "min        0.420000\n",
       "25%       20.125000\n",
       "50%       28.000000\n",
       "75%       38.000000\n",
       "max       80.000000\n",
       "Name: Age, dtype: float64"
      ]
     },
     "execution_count": 42,
     "metadata": {},
     "output_type": "execute_result"
    }
   ],
   "source": [
    "tdf['Age'].describe()"
   ]
  },
  {
   "cell_type": "code",
   "execution_count": 43,
   "id": "61d7a91d-87d6-4c8c-ab0a-f12f1eefb1d9",
   "metadata": {},
   "outputs": [],
   "source": [
    "# age 결측값은 중간값으로 채우기\n",
    "tdf['Age'].fillna(tdf['Age'].median(), inplace=True)"
   ]
  },
  {
   "cell_type": "code",
   "execution_count": 44,
   "id": "ddf458b2-2096-4972-97b2-8e9ca7162cde",
   "metadata": {},
   "outputs": [
    {
     "data": {
      "text/plain": [
       "0"
      ]
     },
     "execution_count": 44,
     "metadata": {},
     "output_type": "execute_result"
    }
   ],
   "source": [
    "tdf['Age'].isnull().sum()"
   ]
  },
  {
   "cell_type": "code",
   "execution_count": null,
   "id": "b3c36204-277a-4aab-a5e9-4889e92a5df9",
   "metadata": {},
   "outputs": [],
   "source": [
    "# age category\n",
    "0~18세: 0\n",
    "19~25세: 1\n",
    "26~35세: 2\n",
    "36~60세: 3\n",
    "61~100세: 4"
   ]
  },
  {
   "cell_type": "code",
   "execution_count": 46,
   "id": "238ed2df-9d0c-4f2e-91bb-6ac54b979d65",
   "metadata": {},
   "outputs": [],
   "source": [
    "# age 범주화\n",
    "def age_category(x):\n",
    "    y=0\n",
    "    if x<19:\n",
    "        y=0\n",
    "    elif x<26:\n",
    "        y=1\n",
    "    elif x<36:\n",
    "        y=2\n",
    "    elif x<61:\n",
    "        y=3\n",
    "    else:\n",
    "        y=4\n",
    "    return y\n",
    "\n",
    "tdf['Age_cat']=tdf['Age'].apply(age_category)"
   ]
  },
  {
   "cell_type": "code",
   "execution_count": 47,
   "id": "221df945-5a74-4e88-a084-60ba256a1947",
   "metadata": {},
   "outputs": [
    {
     "data": {
      "text/plain": [
       "2    373\n",
       "3    195\n",
       "1    162\n",
       "0    139\n",
       "4     22\n",
       "Name: Age_cat, dtype: int64"
      ]
     },
     "execution_count": 47,
     "metadata": {},
     "output_type": "execute_result"
    }
   ],
   "source": [
    "tdf['Age_cat'].value_counts()"
   ]
  },
  {
   "cell_type": "code",
   "execution_count": 48,
   "id": "2a61a241-cac5-4756-8441-d0304a5b855b",
   "metadata": {},
   "outputs": [],
   "source": [
    "tdf.drop(columns = ['Age'] , axis=1 , inplace = True)"
   ]
  },
  {
   "cell_type": "code",
   "execution_count": 49,
   "id": "6ee65147-c40e-4f4d-a51a-9c8d11038af4",
   "metadata": {},
   "outputs": [],
   "source": [
    "tdf['Sex'].replace(['male','female'],[0,1],inplace=True)"
   ]
  },
  {
   "cell_type": "code",
   "execution_count": 50,
   "id": "05aa4573-1774-4e8a-957d-c2280892a54c",
   "metadata": {},
   "outputs": [
    {
     "data": {
      "text/plain": [
       "array(['S', 'C', 'Q', nan], dtype=object)"
      ]
     },
     "execution_count": 50,
     "metadata": {},
     "output_type": "execute_result"
    }
   ],
   "source": [
    "# emabarked 값 체크\n",
    "tdf.Embarked.unique()"
   ]
  },
  {
   "cell_type": "code",
   "execution_count": 51,
   "id": "ab676591-6a74-4271-a88a-3f5a2df097ad",
   "metadata": {},
   "outputs": [
    {
     "data": {
      "text/plain": [
       "S    644\n",
       "C    168\n",
       "Q     77\n",
       "Name: Embarked, dtype: int64"
      ]
     },
     "execution_count": 51,
     "metadata": {},
     "output_type": "execute_result"
    }
   ],
   "source": [
    "tdf['Embarked'].value_counts()"
   ]
  },
  {
   "cell_type": "code",
   "execution_count": 52,
   "id": "07e9df17-723e-49c2-a8db-9b4f4d2e7912",
   "metadata": {},
   "outputs": [],
   "source": [
    "# 결측값은 최빈값으로 채우기\n",
    "tdf['Embarked'] = tdf['Embarked'].fillna('S')"
   ]
  },
  {
   "cell_type": "code",
   "execution_count": 53,
   "id": "09525f68-256d-4a6f-8e32-a98251cb1a3b",
   "metadata": {},
   "outputs": [],
   "source": [
    "# family 묶어주기 (sibsp, parch)\n",
    "tdf['Family'] = tdf['SibSp'] + tdf['Parch']"
   ]
  },
  {
   "cell_type": "code",
   "execution_count": 54,
   "id": "8c5ca5ed-a9da-4924-b79e-20f7a9786f59",
   "metadata": {},
   "outputs": [],
   "source": [
    "tdf.drop(columns=['SibSp'] , axis=1 , inplace = True)\n",
    "tdf.drop(columns=['Parch'] , axis=1 , inplace = True)"
   ]
  },
  {
   "cell_type": "code",
   "execution_count": 55,
   "id": "e3479473-9901-47c3-8ed5-bdaddb91c1b0",
   "metadata": {},
   "outputs": [],
   "source": [
    "# 불필요 컬럼 제거\n",
    "tdf.drop(columns = ['Cabin'] , axis=1 , inplace = True)\n",
    "tdf.drop(columns=['Ticket'] , axis=1 , inplace = True)\n",
    "tdf.drop(columns=['Fare'] , axis=1 , inplace = True)"
   ]
  },
  {
   "cell_type": "code",
   "execution_count": 57,
   "id": "c3756e61-be5f-47dd-aa98-af6aaa5f7eeb",
   "metadata": {},
   "outputs": [],
   "source": [
    "tdf.drop(columns=['Name'] , axis=1 , inplace = True)"
   ]
  },
  {
   "cell_type": "code",
   "execution_count": 58,
   "id": "de369978-a9c6-4162-9ecf-51200f77fcdb",
   "metadata": {},
   "outputs": [
    {
     "data": {
      "text/html": [
       "<div>\n",
       "<style scoped>\n",
       "    .dataframe tbody tr th:only-of-type {\n",
       "        vertical-align: middle;\n",
       "    }\n",
       "\n",
       "    .dataframe tbody tr th {\n",
       "        vertical-align: top;\n",
       "    }\n",
       "\n",
       "    .dataframe thead th {\n",
       "        text-align: right;\n",
       "    }\n",
       "</style>\n",
       "<table border=\"1\" class=\"dataframe\">\n",
       "  <thead>\n",
       "    <tr style=\"text-align: right;\">\n",
       "      <th></th>\n",
       "      <th>PassengerId</th>\n",
       "      <th>Survived</th>\n",
       "      <th>Pclass</th>\n",
       "      <th>Sex</th>\n",
       "      <th>Embarked</th>\n",
       "      <th>Age_cat</th>\n",
       "      <th>Family</th>\n",
       "    </tr>\n",
       "  </thead>\n",
       "  <tbody>\n",
       "    <tr>\n",
       "      <th>0</th>\n",
       "      <td>1</td>\n",
       "      <td>0</td>\n",
       "      <td>3</td>\n",
       "      <td>0</td>\n",
       "      <td>S</td>\n",
       "      <td>1</td>\n",
       "      <td>1</td>\n",
       "    </tr>\n",
       "    <tr>\n",
       "      <th>1</th>\n",
       "      <td>2</td>\n",
       "      <td>1</td>\n",
       "      <td>1</td>\n",
       "      <td>1</td>\n",
       "      <td>C</td>\n",
       "      <td>3</td>\n",
       "      <td>1</td>\n",
       "    </tr>\n",
       "    <tr>\n",
       "      <th>2</th>\n",
       "      <td>3</td>\n",
       "      <td>1</td>\n",
       "      <td>3</td>\n",
       "      <td>1</td>\n",
       "      <td>S</td>\n",
       "      <td>2</td>\n",
       "      <td>0</td>\n",
       "    </tr>\n",
       "    <tr>\n",
       "      <th>3</th>\n",
       "      <td>4</td>\n",
       "      <td>1</td>\n",
       "      <td>1</td>\n",
       "      <td>1</td>\n",
       "      <td>S</td>\n",
       "      <td>2</td>\n",
       "      <td>1</td>\n",
       "    </tr>\n",
       "    <tr>\n",
       "      <th>4</th>\n",
       "      <td>5</td>\n",
       "      <td>0</td>\n",
       "      <td>3</td>\n",
       "      <td>0</td>\n",
       "      <td>S</td>\n",
       "      <td>2</td>\n",
       "      <td>0</td>\n",
       "    </tr>\n",
       "  </tbody>\n",
       "</table>\n",
       "</div>"
      ],
      "text/plain": [
       "   PassengerId  Survived  Pclass  Sex Embarked  Age_cat  Family\n",
       "0            1         0       3    0        S        1       1\n",
       "1            2         1       1    1        C        3       1\n",
       "2            3         1       3    1        S        2       0\n",
       "3            4         1       1    1        S        2       1\n",
       "4            5         0       3    0        S        2       0"
      ]
     },
     "execution_count": 58,
     "metadata": {},
     "output_type": "execute_result"
    }
   ],
   "source": [
    "tdf.head()"
   ]
  },
  {
   "cell_type": "code",
   "execution_count": null,
   "id": "79d72004-ee86-4615-8d98-8ca6282deb63",
   "metadata": {},
   "outputs": [],
   "source": []
  }
 ],
 "metadata": {
  "kernelspec": {
   "display_name": "Python 3 (ipykernel)",
   "language": "python",
   "name": "python3"
  },
  "language_info": {
   "codemirror_mode": {
    "name": "ipython",
    "version": 3
   },
   "file_extension": ".py",
   "mimetype": "text/x-python",
   "name": "python",
   "nbconvert_exporter": "python",
   "pygments_lexer": "ipython3",
   "version": "3.9.12"
  }
 },
 "nbformat": 4,
 "nbformat_minor": 5
}
