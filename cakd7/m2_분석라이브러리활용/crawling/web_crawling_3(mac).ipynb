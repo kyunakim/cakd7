{
 "cells": [
  {
   "cell_type": "markdown",
   "id": "c93e6c40",
   "metadata": {},
   "source": [
    "# 셀레니움\n",
    "\n",
    "- https://goodthings4me.tistory.com/696\n",
    "\n",
    "- from selenium.webdriver.common.by import By\n",
    "\n",
    "- find_element(By.ID, \" \"): id 속성을 사용하여 접근\n",
    "- find_element(s)(By.CLASS_NAME, \" \"): 클래스를 사용하여 접근\n",
    "- find_element(s)(By.NAME, \" \"): name 속성을 사용하여 접근\n",
    "- find_element(s)(By.XPATH, \" \"): xpath 속성을 사용하여 접근\n",
    "- find_element(s)(By.LINK_TEXT, \" \"): 앵커태그(a 태그)에 사용되는 텍스트로 접근 \n",
    "- find_element(s)(By.PARTIAL_LINK_TEXT, \" \"): 앵커태그(a 태그)에 사용되는 일부 텍스트로 접근\n",
    "- find_element(s)(By.TAG_NAME, \" \"): 태그를 사용하여 접근\n",
    "- find_element(s)(By.CSS_SELECTOR, \" \"): CSS 선택자를 사용하여 접근<br><br>\n",
    "셀레니움 사용법 : https://greeksharifa.github.io/references/2020/10/30/python-selenium-usage/ <br>\n",
    "셀레니움 사용법 : https://workingwithpython.com/howtouseselenium-3/\n",
    "크롬 드라이버 설치 : 최신 버전 확인 후 다운로드 https://chromedriver.storage.googleapis.com/index.html?path=103.0.5060.134/\n"
   ]
  },
  {
   "cell_type": "markdown",
   "id": "7aa1b45b",
   "metadata": {},
   "source": [
    "## Selenium 사용법"
   ]
  },
  {
   "cell_type": "code",
   "execution_count": 1,
   "id": "811df96e",
   "metadata": {
    "collapsed": true,
    "jupyter": {
     "outputs_hidden": true
    },
    "tags": []
   },
   "outputs": [
    {
     "name": "stdout",
     "output_type": "stream",
     "text": [
      "Requirement already satisfied: selenium in /Users/mycom/opt/anaconda3/lib/python3.9/site-packages (4.3.0)\n",
      "Requirement already satisfied: trio-websocket~=0.9 in /Users/mycom/opt/anaconda3/lib/python3.9/site-packages (from selenium) (0.9.2)\n",
      "Requirement already satisfied: urllib3[secure,socks]~=1.26 in /Users/mycom/opt/anaconda3/lib/python3.9/site-packages (from selenium) (1.26.9)\n",
      "Requirement already satisfied: trio~=0.17 in /Users/mycom/opt/anaconda3/lib/python3.9/site-packages (from selenium) (0.21.0)\n",
      "Requirement already satisfied: async-generator>=1.9 in /Users/mycom/opt/anaconda3/lib/python3.9/site-packages (from trio~=0.17->selenium) (1.10)\n",
      "Requirement already satisfied: sniffio in /Users/mycom/opt/anaconda3/lib/python3.9/site-packages (from trio~=0.17->selenium) (1.2.0)\n",
      "Requirement already satisfied: sortedcontainers in /Users/mycom/opt/anaconda3/lib/python3.9/site-packages (from trio~=0.17->selenium) (2.4.0)\n",
      "Requirement already satisfied: idna in /Users/mycom/opt/anaconda3/lib/python3.9/site-packages (from trio~=0.17->selenium) (3.3)\n",
      "Requirement already satisfied: attrs>=19.2.0 in /Users/mycom/opt/anaconda3/lib/python3.9/site-packages (from trio~=0.17->selenium) (21.4.0)\n",
      "Requirement already satisfied: outcome in /Users/mycom/opt/anaconda3/lib/python3.9/site-packages (from trio~=0.17->selenium) (1.2.0)\n",
      "Requirement already satisfied: wsproto>=0.14 in /Users/mycom/opt/anaconda3/lib/python3.9/site-packages (from trio-websocket~=0.9->selenium) (1.1.0)\n",
      "Requirement already satisfied: certifi in /Users/mycom/opt/anaconda3/lib/python3.9/site-packages (from urllib3[secure,socks]~=1.26->selenium) (2021.10.8)\n",
      "Requirement already satisfied: cryptography>=1.3.4 in /Users/mycom/opt/anaconda3/lib/python3.9/site-packages (from urllib3[secure,socks]~=1.26->selenium) (3.4.8)\n",
      "Requirement already satisfied: pyOpenSSL>=0.14 in /Users/mycom/opt/anaconda3/lib/python3.9/site-packages (from urllib3[secure,socks]~=1.26->selenium) (21.0.0)\n",
      "Requirement already satisfied: PySocks!=1.5.7,<2.0,>=1.5.6 in /Users/mycom/opt/anaconda3/lib/python3.9/site-packages (from urllib3[secure,socks]~=1.26->selenium) (1.7.1)\n",
      "Requirement already satisfied: cffi>=1.12 in /Users/mycom/opt/anaconda3/lib/python3.9/site-packages (from cryptography>=1.3.4->urllib3[secure,socks]~=1.26->selenium) (1.15.0)\n",
      "Requirement already satisfied: pycparser in /Users/mycom/opt/anaconda3/lib/python3.9/site-packages (from cffi>=1.12->cryptography>=1.3.4->urllib3[secure,socks]~=1.26->selenium) (2.21)\n",
      "Requirement already satisfied: six>=1.5.2 in /Users/mycom/opt/anaconda3/lib/python3.9/site-packages (from pyOpenSSL>=0.14->urllib3[secure,socks]~=1.26->selenium) (1.16.0)\n",
      "Requirement already satisfied: h11<1,>=0.9.0 in /Users/mycom/opt/anaconda3/lib/python3.9/site-packages (from wsproto>=0.14->trio-websocket~=0.9->selenium) (0.13.0)\n"
     ]
    }
   ],
   "source": [
    "# install\n",
    "! pip install selenium"
   ]
  },
  {
   "cell_type": "code",
   "execution_count": 2,
   "id": "f64a9a9d",
   "metadata": {},
   "outputs": [],
   "source": [
    "# import\n",
    "import selenium\n",
    "from selenium import webdriver\n",
    "from selenium.webdriver import ActionChains\n",
    "\n",
    "from selenium.webdriver.common.keys import Keys\n",
    "from selenium.webdriver.common.by import By\n",
    "\n",
    "from selenium.webdriver.support import expected_conditions as EC\n",
    "from selenium.webdriver.support.ui import Select\n",
    "from selenium.webdriver.support.ui import WebDriverWait"
   ]
  },
  {
   "cell_type": "code",
   "execution_count": 4,
   "id": "69aec3d8",
   "metadata": {
    "scrolled": true
   },
   "outputs": [
    {
     "ename": "WebDriverException",
     "evalue": "Message: unknown error: cannot determine loading status\nfrom unknown error: cannot determine loading status\nfrom disconnected: received Inspector.detached event\n  (Session info: chrome=103.0.5060.134)\nStacktrace:\n0   chromedriver                        0x0000000101380ef9 chromedriver + 4480761\n1   chromedriver                        0x000000010130c5d3 chromedriver + 4003283\n2   chromedriver                        0x0000000100f9f338 chromedriver + 410424\n3   chromedriver                        0x0000000100f8c20d chromedriver + 332301\n4   chromedriver                        0x0000000100f8bcca chromedriver + 330954\n5   chromedriver                        0x0000000100f8b1f7 chromedriver + 328183\n6   chromedriver                        0x0000000100f8a0c6 chromedriver + 323782\n7   chromedriver                        0x0000000100f8a5fc chromedriver + 325116\n8   chromedriver                        0x0000000100f98c35 chromedriver + 384053\n9   chromedriver                        0x0000000100f8ba7d chromedriver + 330365\n10  chromedriver                        0x0000000100f8c8ba chromedriver + 334010\n11  chromedriver                        0x0000000100f8bce7 chromedriver + 330983\n12  chromedriver                        0x0000000100f8b1f7 chromedriver + 328183\n13  chromedriver                        0x0000000100f8a0c6 chromedriver + 323782\n14  chromedriver                        0x0000000100f8a5fc chromedriver + 325116\n15  chromedriver                        0x0000000100f976af chromedriver + 378543\n16  chromedriver                        0x0000000100f98212 chromedriver + 381458\n17  chromedriver                        0x0000000100fa6b5e chromedriver + 441182\n18  chromedriver                        0x0000000101005767 chromedriver + 829287\n19  chromedriver                        0x0000000100ff2953 chromedriver + 751955\n20  chromedriver                        0x0000000100fc8cd5 chromedriver + 580821\n21  chromedriver                        0x0000000100fc9d25 chromedriver + 584997\n22  chromedriver                        0x000000010135202d chromedriver + 4288557\n23  chromedriver                        0x00000001013571b3 chromedriver + 4309427\n24  chromedriver                        0x000000010135c23f chromedriver + 4330047\n25  chromedriver                        0x0000000101357dfa chromedriver + 4312570\n26  chromedriver                        0x0000000101330fef chromedriver + 4153327\n27  chromedriver                        0x0000000101371d78 chromedriver + 4418936\n28  chromedriver                        0x0000000101371eff chromedriver + 4419327\n29  chromedriver                        0x0000000101388ab5 chromedriver + 4512437\n30  libsystem_pthread.dylib             0x00007fff206f78fc _pthread_start + 224\n31  libsystem_pthread.dylib             0x00007fff206f3443 thread_start + 15\n",
     "output_type": "error",
     "traceback": [
      "\u001b[0;31m---------------------------------------------------------------------------\u001b[0m",
      "\u001b[0;31mWebDriverException\u001b[0m                        Traceback (most recent call last)",
      "Input \u001b[0;32mIn [4]\u001b[0m, in \u001b[0;36m<cell line: 13>\u001b[0;34m()\u001b[0m\n\u001b[1;32m     10\u001b[0m driver \u001b[38;5;241m=\u001b[39m webdriver\u001b[38;5;241m.\u001b[39mChrome(path)\n\u001b[1;32m     12\u001b[0m \u001b[38;5;66;03m# 해당 url을 브라우저에서 띄운다\u001b[39;00m\n\u001b[0;32m---> 13\u001b[0m \u001b[43mdriver\u001b[49m\u001b[38;5;241;43m.\u001b[39;49m\u001b[43mget\u001b[49m\u001b[43m(\u001b[49m\u001b[43murl\u001b[49m\u001b[43m)\u001b[49m\n\u001b[1;32m     15\u001b[0m \u001b[38;5;66;03m# 브라우저 닫기\u001b[39;00m\n\u001b[1;32m     16\u001b[0m driver\u001b[38;5;241m.\u001b[39mclose()\n",
      "File \u001b[0;32m~/opt/anaconda3/lib/python3.9/site-packages/selenium/webdriver/remote/webdriver.py:447\u001b[0m, in \u001b[0;36mWebDriver.get\u001b[0;34m(self, url)\u001b[0m\n\u001b[1;32m    443\u001b[0m \u001b[38;5;28;01mdef\u001b[39;00m \u001b[38;5;21mget\u001b[39m(\u001b[38;5;28mself\u001b[39m, url: \u001b[38;5;28mstr\u001b[39m) \u001b[38;5;241m-\u001b[39m\u001b[38;5;241m>\u001b[39m \u001b[38;5;28;01mNone\u001b[39;00m:\n\u001b[1;32m    444\u001b[0m     \u001b[38;5;124;03m\"\"\"\u001b[39;00m\n\u001b[1;32m    445\u001b[0m \u001b[38;5;124;03m    Loads a web page in the current browser session.\u001b[39;00m\n\u001b[1;32m    446\u001b[0m \u001b[38;5;124;03m    \"\"\"\u001b[39;00m\n\u001b[0;32m--> 447\u001b[0m     \u001b[38;5;28;43mself\u001b[39;49m\u001b[38;5;241;43m.\u001b[39;49m\u001b[43mexecute\u001b[49m\u001b[43m(\u001b[49m\u001b[43mCommand\u001b[49m\u001b[38;5;241;43m.\u001b[39;49m\u001b[43mGET\u001b[49m\u001b[43m,\u001b[49m\u001b[43m \u001b[49m\u001b[43m{\u001b[49m\u001b[38;5;124;43m'\u001b[39;49m\u001b[38;5;124;43murl\u001b[39;49m\u001b[38;5;124;43m'\u001b[39;49m\u001b[43m:\u001b[49m\u001b[43m \u001b[49m\u001b[43murl\u001b[49m\u001b[43m}\u001b[49m\u001b[43m)\u001b[49m\n",
      "File \u001b[0;32m~/opt/anaconda3/lib/python3.9/site-packages/selenium/webdriver/remote/webdriver.py:435\u001b[0m, in \u001b[0;36mWebDriver.execute\u001b[0;34m(self, driver_command, params)\u001b[0m\n\u001b[1;32m    433\u001b[0m response \u001b[38;5;241m=\u001b[39m \u001b[38;5;28mself\u001b[39m\u001b[38;5;241m.\u001b[39mcommand_executor\u001b[38;5;241m.\u001b[39mexecute(driver_command, params)\n\u001b[1;32m    434\u001b[0m \u001b[38;5;28;01mif\u001b[39;00m response:\n\u001b[0;32m--> 435\u001b[0m     \u001b[38;5;28;43mself\u001b[39;49m\u001b[38;5;241;43m.\u001b[39;49m\u001b[43merror_handler\u001b[49m\u001b[38;5;241;43m.\u001b[39;49m\u001b[43mcheck_response\u001b[49m\u001b[43m(\u001b[49m\u001b[43mresponse\u001b[49m\u001b[43m)\u001b[49m\n\u001b[1;32m    436\u001b[0m     response[\u001b[38;5;124m'\u001b[39m\u001b[38;5;124mvalue\u001b[39m\u001b[38;5;124m'\u001b[39m] \u001b[38;5;241m=\u001b[39m \u001b[38;5;28mself\u001b[39m\u001b[38;5;241m.\u001b[39m_unwrap_value(\n\u001b[1;32m    437\u001b[0m         response\u001b[38;5;241m.\u001b[39mget(\u001b[38;5;124m'\u001b[39m\u001b[38;5;124mvalue\u001b[39m\u001b[38;5;124m'\u001b[39m, \u001b[38;5;28;01mNone\u001b[39;00m))\n\u001b[1;32m    438\u001b[0m     \u001b[38;5;28;01mreturn\u001b[39;00m response\n",
      "File \u001b[0;32m~/opt/anaconda3/lib/python3.9/site-packages/selenium/webdriver/remote/errorhandler.py:247\u001b[0m, in \u001b[0;36mErrorHandler.check_response\u001b[0;34m(self, response)\u001b[0m\n\u001b[1;32m    245\u001b[0m         alert_text \u001b[38;5;241m=\u001b[39m value[\u001b[38;5;124m'\u001b[39m\u001b[38;5;124malert\u001b[39m\u001b[38;5;124m'\u001b[39m]\u001b[38;5;241m.\u001b[39mget(\u001b[38;5;124m'\u001b[39m\u001b[38;5;124mtext\u001b[39m\u001b[38;5;124m'\u001b[39m)\n\u001b[1;32m    246\u001b[0m     \u001b[38;5;28;01mraise\u001b[39;00m exception_class(message, screen, stacktrace, alert_text)  \u001b[38;5;66;03m# type: ignore[call-arg]  # mypy is not smart enough here\u001b[39;00m\n\u001b[0;32m--> 247\u001b[0m \u001b[38;5;28;01mraise\u001b[39;00m exception_class(message, screen, stacktrace)\n",
      "\u001b[0;31mWebDriverException\u001b[0m: Message: unknown error: cannot determine loading status\nfrom unknown error: cannot determine loading status\nfrom disconnected: received Inspector.detached event\n  (Session info: chrome=103.0.5060.134)\nStacktrace:\n0   chromedriver                        0x0000000101380ef9 chromedriver + 4480761\n1   chromedriver                        0x000000010130c5d3 chromedriver + 4003283\n2   chromedriver                        0x0000000100f9f338 chromedriver + 410424\n3   chromedriver                        0x0000000100f8c20d chromedriver + 332301\n4   chromedriver                        0x0000000100f8bcca chromedriver + 330954\n5   chromedriver                        0x0000000100f8b1f7 chromedriver + 328183\n6   chromedriver                        0x0000000100f8a0c6 chromedriver + 323782\n7   chromedriver                        0x0000000100f8a5fc chromedriver + 325116\n8   chromedriver                        0x0000000100f98c35 chromedriver + 384053\n9   chromedriver                        0x0000000100f8ba7d chromedriver + 330365\n10  chromedriver                        0x0000000100f8c8ba chromedriver + 334010\n11  chromedriver                        0x0000000100f8bce7 chromedriver + 330983\n12  chromedriver                        0x0000000100f8b1f7 chromedriver + 328183\n13  chromedriver                        0x0000000100f8a0c6 chromedriver + 323782\n14  chromedriver                        0x0000000100f8a5fc chromedriver + 325116\n15  chromedriver                        0x0000000100f976af chromedriver + 378543\n16  chromedriver                        0x0000000100f98212 chromedriver + 381458\n17  chromedriver                        0x0000000100fa6b5e chromedriver + 441182\n18  chromedriver                        0x0000000101005767 chromedriver + 829287\n19  chromedriver                        0x0000000100ff2953 chromedriver + 751955\n20  chromedriver                        0x0000000100fc8cd5 chromedriver + 580821\n21  chromedriver                        0x0000000100fc9d25 chromedriver + 584997\n22  chromedriver                        0x000000010135202d chromedriver + 4288557\n23  chromedriver                        0x00000001013571b3 chromedriver + 4309427\n24  chromedriver                        0x000000010135c23f chromedriver + 4330047\n25  chromedriver                        0x0000000101357dfa chromedriver + 4312570\n26  chromedriver                        0x0000000101330fef chromedriver + 4153327\n27  chromedriver                        0x0000000101371d78 chromedriver + 4418936\n28  chromedriver                        0x0000000101371eff chromedriver + 4419327\n29  chromedriver                        0x0000000101388ab5 chromedriver + 4512437\n30  libsystem_pthread.dylib             0x00007fff206f78fc _pthread_start + 224\n31  libsystem_pthread.dylib             0x00007fff206f3443 thread_start + 15\n"
     ]
    }
   ],
   "source": [
    "# 불러오기 (driver & webload)\n",
    "import selenium\n",
    "from selenium import webdriver\n",
    "from selenium.webdriver.common.keys import Keys\n",
    "import warnings\n",
    "warnings.filterwarnings('ignore')\n",
    "\n",
    "url = 'https://naver.com'\n",
    "path = \"/Users/mycom/Desktop/git/cakd7/cakd7/m2_분석라이브러리활용/crawling/chromedriver\"\n",
    "driver = webdriver.Chrome(path)\n",
    "\n",
    "# 해당 url을 브라우저에서 띄운다\n",
    "driver.get(url)\n",
    "\n",
    "# 브라우저 닫기\n",
    "driver.close()"
   ]
  },
  {
   "cell_type": "code",
   "execution_count": 9,
   "id": "b4c9a78c",
   "metadata": {},
   "outputs": [
    {
     "name": "stdout",
     "output_type": "stream",
     "text": [
      "https://www.naver.com/\n"
     ]
    }
   ],
   "source": [
    "# 현재 url 얻기\n",
    "print(driver.current_url)\n",
    "\n",
    "# 브라우저 닫기\n",
    "driver.close()"
   ]
  },
  {
   "cell_type": "code",
   "execution_count": 7,
   "id": "e55131d8",
   "metadata": {},
   "outputs": [
    {
     "name": "stdout",
     "output_type": "stream",
     "text": [
      "https://www.google.com/\n"
     ]
    }
   ],
   "source": [
    "options = webdriver.ChromeOptions()\n",
    "options.add_argument('headless')\n",
    "\n",
    "# 새 창을 띄우지 않고 url \n",
    "driver = webdriver.Chrome(path,options=options)\n",
    "driver.get('https://google.com')\n",
    "print(driver.current_url)\n",
    "driver.close()"
   ]
  },
  {
   "cell_type": "code",
   "execution_count": 14,
   "id": "412e0b2e",
   "metadata": {},
   "outputs": [],
   "source": [
    "# Implicit waits(암묵적 대기) : 찾으려는 element가 로드될 때 까지 지정한 시간만큼 대기할 수 있도록 설정\n",
    "\n",
    "from selenium.webdriver.support.ui import WebDriverWait\n",
    "from selenium.webdriver.support import expected_conditions as EC\n",
    "from selenium.webdriver.common.by import By\n",
    "\n",
    "driver = webdriver.Chrome(path)\n",
    "driver.get(url='https://google.com')\n",
    "\n",
    "try :\n",
    "    element = WebDriverWait(driver, 5).until(\n",
    "    EC.presence_of_element_located((By.CLASS_NAME, 'gLFyf')))\n",
    "finally:\n",
    "    driver.quit()\n",
    "    \n",
    "# 웹페이지에서 class가 gLFyf인 어떤 element를 찾을 수 있는지를 최대 5초 동안 매 0.5초마다 시도한다.\n",
    "# expected_conditions(EC)는 만약 element를 찾을 수 있었으면 True를, 아니라면 False를 반환한다."
   ]
  },
  {
   "cell_type": "code",
   "execution_count": 8,
   "id": "492c5b9a",
   "metadata": {},
   "outputs": [
    {
     "ename": "WebDriverException",
     "evalue": "Message: unknown error: cannot determine loading status\nfrom unknown error: cannot determine loading status\nfrom disconnected: received Inspector.detached event\n  (Session info: chrome=103.0.5060.134)\nStacktrace:\n0   chromedriver                        0x000000010e521ef9 chromedriver + 4480761\n1   chromedriver                        0x000000010e4ad5d3 chromedriver + 4003283\n2   chromedriver                        0x000000010e140338 chromedriver + 410424\n3   chromedriver                        0x000000010e12d20d chromedriver + 332301\n4   chromedriver                        0x000000010e12ccca chromedriver + 330954\n5   chromedriver                        0x000000010e12c1f7 chromedriver + 328183\n6   chromedriver                        0x000000010e12b0c6 chromedriver + 323782\n7   chromedriver                        0x000000010e12b5fc chromedriver + 325116\n8   chromedriver                        0x000000010e139c35 chromedriver + 384053\n9   chromedriver                        0x000000010e12ca7d chromedriver + 330365\n10  chromedriver                        0x000000010e12d8ba chromedriver + 334010\n11  chromedriver                        0x000000010e12cce7 chromedriver + 330983\n12  chromedriver                        0x000000010e12c1f7 chromedriver + 328183\n13  chromedriver                        0x000000010e12b0c6 chromedriver + 323782\n14  chromedriver                        0x000000010e12b5fc chromedriver + 325116\n15  chromedriver                        0x000000010e1386af chromedriver + 378543\n16  chromedriver                        0x000000010e139212 chromedriver + 381458\n17  chromedriver                        0x000000010e147b5e chromedriver + 441182\n18  chromedriver                        0x000000010e1a6767 chromedriver + 829287\n19  chromedriver                        0x000000010e193953 chromedriver + 751955\n20  chromedriver                        0x000000010e169cd5 chromedriver + 580821\n21  chromedriver                        0x000000010e16ad25 chromedriver + 584997\n22  chromedriver                        0x000000010e4f302d chromedriver + 4288557\n23  chromedriver                        0x000000010e4f81b3 chromedriver + 4309427\n24  chromedriver                        0x000000010e4fd23f chromedriver + 4330047\n25  chromedriver                        0x000000010e4f8dfa chromedriver + 4312570\n26  chromedriver                        0x000000010e4d1fef chromedriver + 4153327\n27  chromedriver                        0x000000010e512d78 chromedriver + 4418936\n28  chromedriver                        0x000000010e512eff chromedriver + 4419327\n29  chromedriver                        0x000000010e529ab5 chromedriver + 4512437\n30  libsystem_pthread.dylib             0x00007fff206f78fc _pthread_start + 224\n31  libsystem_pthread.dylib             0x00007fff206f3443 thread_start + 15\n",
     "output_type": "error",
     "traceback": [
      "\u001b[0;31m---------------------------------------------------------------------------\u001b[0m",
      "\u001b[0;31mWebDriverException\u001b[0m                        Traceback (most recent call last)",
      "Input \u001b[0;32mIn [8]\u001b[0m, in \u001b[0;36m<cell line: 13>\u001b[0;34m()\u001b[0m\n\u001b[1;32m     10\u001b[0m driver\u001b[38;5;241m.\u001b[39mmaximize_window()\n\u001b[1;32m     11\u001b[0m driver\u001b[38;5;241m.\u001b[39mimplicitly_wait(time_to_wait\u001b[38;5;241m=\u001b[39m\u001b[38;5;241m5\u001b[39m)\n\u001b[0;32m---> 13\u001b[0m \u001b[43mdriver\u001b[49m\u001b[38;5;241;43m.\u001b[39;49m\u001b[43mget\u001b[49m\u001b[43m(\u001b[49m\u001b[43murl\u001b[49m\u001b[38;5;241;43m=\u001b[39;49m\u001b[38;5;124;43m'\u001b[39;49m\u001b[38;5;124;43mhttps://google.com\u001b[39;49m\u001b[38;5;124;43m'\u001b[39;49m\u001b[43m)\u001b[49m\n\u001b[1;32m     15\u001b[0m \u001b[38;5;66;03m# 빅데이터 검색 및 저장\u001b[39;00m\n\u001b[1;32m     16\u001b[0m \u001b[38;5;28;01mfrom\u001b[39;00m \u001b[38;5;21;01mselenium\u001b[39;00m\u001b[38;5;21;01m.\u001b[39;00m\u001b[38;5;21;01mwebdriver\u001b[39;00m\u001b[38;5;21;01m.\u001b[39;00m\u001b[38;5;21;01mcommon\u001b[39;00m\u001b[38;5;21;01m.\u001b[39;00m\u001b[38;5;21;01mby\u001b[39;00m \u001b[38;5;28;01mimport\u001b[39;00m By\n",
      "File \u001b[0;32m~/opt/anaconda3/lib/python3.9/site-packages/selenium/webdriver/remote/webdriver.py:447\u001b[0m, in \u001b[0;36mWebDriver.get\u001b[0;34m(self, url)\u001b[0m\n\u001b[1;32m    443\u001b[0m \u001b[38;5;28;01mdef\u001b[39;00m \u001b[38;5;21mget\u001b[39m(\u001b[38;5;28mself\u001b[39m, url: \u001b[38;5;28mstr\u001b[39m) \u001b[38;5;241m-\u001b[39m\u001b[38;5;241m>\u001b[39m \u001b[38;5;28;01mNone\u001b[39;00m:\n\u001b[1;32m    444\u001b[0m     \u001b[38;5;124;03m\"\"\"\u001b[39;00m\n\u001b[1;32m    445\u001b[0m \u001b[38;5;124;03m    Loads a web page in the current browser session.\u001b[39;00m\n\u001b[1;32m    446\u001b[0m \u001b[38;5;124;03m    \"\"\"\u001b[39;00m\n\u001b[0;32m--> 447\u001b[0m     \u001b[38;5;28;43mself\u001b[39;49m\u001b[38;5;241;43m.\u001b[39;49m\u001b[43mexecute\u001b[49m\u001b[43m(\u001b[49m\u001b[43mCommand\u001b[49m\u001b[38;5;241;43m.\u001b[39;49m\u001b[43mGET\u001b[49m\u001b[43m,\u001b[49m\u001b[43m \u001b[49m\u001b[43m{\u001b[49m\u001b[38;5;124;43m'\u001b[39;49m\u001b[38;5;124;43murl\u001b[39;49m\u001b[38;5;124;43m'\u001b[39;49m\u001b[43m:\u001b[49m\u001b[43m \u001b[49m\u001b[43murl\u001b[49m\u001b[43m}\u001b[49m\u001b[43m)\u001b[49m\n",
      "File \u001b[0;32m~/opt/anaconda3/lib/python3.9/site-packages/selenium/webdriver/remote/webdriver.py:435\u001b[0m, in \u001b[0;36mWebDriver.execute\u001b[0;34m(self, driver_command, params)\u001b[0m\n\u001b[1;32m    433\u001b[0m response \u001b[38;5;241m=\u001b[39m \u001b[38;5;28mself\u001b[39m\u001b[38;5;241m.\u001b[39mcommand_executor\u001b[38;5;241m.\u001b[39mexecute(driver_command, params)\n\u001b[1;32m    434\u001b[0m \u001b[38;5;28;01mif\u001b[39;00m response:\n\u001b[0;32m--> 435\u001b[0m     \u001b[38;5;28;43mself\u001b[39;49m\u001b[38;5;241;43m.\u001b[39;49m\u001b[43merror_handler\u001b[49m\u001b[38;5;241;43m.\u001b[39;49m\u001b[43mcheck_response\u001b[49m\u001b[43m(\u001b[49m\u001b[43mresponse\u001b[49m\u001b[43m)\u001b[49m\n\u001b[1;32m    436\u001b[0m     response[\u001b[38;5;124m'\u001b[39m\u001b[38;5;124mvalue\u001b[39m\u001b[38;5;124m'\u001b[39m] \u001b[38;5;241m=\u001b[39m \u001b[38;5;28mself\u001b[39m\u001b[38;5;241m.\u001b[39m_unwrap_value(\n\u001b[1;32m    437\u001b[0m         response\u001b[38;5;241m.\u001b[39mget(\u001b[38;5;124m'\u001b[39m\u001b[38;5;124mvalue\u001b[39m\u001b[38;5;124m'\u001b[39m, \u001b[38;5;28;01mNone\u001b[39;00m))\n\u001b[1;32m    438\u001b[0m     \u001b[38;5;28;01mreturn\u001b[39;00m response\n",
      "File \u001b[0;32m~/opt/anaconda3/lib/python3.9/site-packages/selenium/webdriver/remote/errorhandler.py:247\u001b[0m, in \u001b[0;36mErrorHandler.check_response\u001b[0;34m(self, response)\u001b[0m\n\u001b[1;32m    245\u001b[0m         alert_text \u001b[38;5;241m=\u001b[39m value[\u001b[38;5;124m'\u001b[39m\u001b[38;5;124malert\u001b[39m\u001b[38;5;124m'\u001b[39m]\u001b[38;5;241m.\u001b[39mget(\u001b[38;5;124m'\u001b[39m\u001b[38;5;124mtext\u001b[39m\u001b[38;5;124m'\u001b[39m)\n\u001b[1;32m    246\u001b[0m     \u001b[38;5;28;01mraise\u001b[39;00m exception_class(message, screen, stacktrace, alert_text)  \u001b[38;5;66;03m# type: ignore[call-arg]  # mypy is not smart enough here\u001b[39;00m\n\u001b[0;32m--> 247\u001b[0m \u001b[38;5;28;01mraise\u001b[39;00m exception_class(message, screen, stacktrace)\n",
      "\u001b[0;31mWebDriverException\u001b[0m: Message: unknown error: cannot determine loading status\nfrom unknown error: cannot determine loading status\nfrom disconnected: received Inspector.detached event\n  (Session info: chrome=103.0.5060.134)\nStacktrace:\n0   chromedriver                        0x000000010e521ef9 chromedriver + 4480761\n1   chromedriver                        0x000000010e4ad5d3 chromedriver + 4003283\n2   chromedriver                        0x000000010e140338 chromedriver + 410424\n3   chromedriver                        0x000000010e12d20d chromedriver + 332301\n4   chromedriver                        0x000000010e12ccca chromedriver + 330954\n5   chromedriver                        0x000000010e12c1f7 chromedriver + 328183\n6   chromedriver                        0x000000010e12b0c6 chromedriver + 323782\n7   chromedriver                        0x000000010e12b5fc chromedriver + 325116\n8   chromedriver                        0x000000010e139c35 chromedriver + 384053\n9   chromedriver                        0x000000010e12ca7d chromedriver + 330365\n10  chromedriver                        0x000000010e12d8ba chromedriver + 334010\n11  chromedriver                        0x000000010e12cce7 chromedriver + 330983\n12  chromedriver                        0x000000010e12c1f7 chromedriver + 328183\n13  chromedriver                        0x000000010e12b0c6 chromedriver + 323782\n14  chromedriver                        0x000000010e12b5fc chromedriver + 325116\n15  chromedriver                        0x000000010e1386af chromedriver + 378543\n16  chromedriver                        0x000000010e139212 chromedriver + 381458\n17  chromedriver                        0x000000010e147b5e chromedriver + 441182\n18  chromedriver                        0x000000010e1a6767 chromedriver + 829287\n19  chromedriver                        0x000000010e193953 chromedriver + 751955\n20  chromedriver                        0x000000010e169cd5 chromedriver + 580821\n21  chromedriver                        0x000000010e16ad25 chromedriver + 584997\n22  chromedriver                        0x000000010e4f302d chromedriver + 4288557\n23  chromedriver                        0x000000010e4f81b3 chromedriver + 4309427\n24  chromedriver                        0x000000010e4fd23f chromedriver + 4330047\n25  chromedriver                        0x000000010e4f8dfa chromedriver + 4312570\n26  chromedriver                        0x000000010e4d1fef chromedriver + 4153327\n27  chromedriver                        0x000000010e512d78 chromedriver + 4418936\n28  chromedriver                        0x000000010e512eff chromedriver + 4419327\n29  chromedriver                        0x000000010e529ab5 chromedriver + 4512437\n30  libsystem_pthread.dylib             0x00007fff206f78fc _pthread_start + 224\n31  libsystem_pthread.dylib             0x00007fff206f3443 thread_start + 15\n"
     ]
    }
   ],
   "source": [
    "from time import sleep\n",
    "import selenium\n",
    "from selenium import webdriver\n",
    "from selenium.webdriver.common.keys import Keys\n",
    "\n",
    "options = webdriver.ChromeOptions()\n",
    "options.add_argument('window_size=1920,1080')\n",
    "\n",
    "driver = webdriver.Chrome(path, options=options)\n",
    "driver.maximize_window()\n",
    "driver.implicitly_wait(time_to_wait=5)\n",
    "\n",
    "driver.get(url='https://google.com')\n",
    "\n",
    "# 빅데이터 검색 및 저장\n",
    "from selenium.webdriver.common.by import By\n",
    "\n",
    "# url=구글 검색 결과 출력\n",
    "#search_box = driver.find_element(By.XPATH, '//*[@class=\"gLFyf gsfi\"]')\n",
    "\n",
    "## 검색창\n",
    "search_box = driver.find_element(By.XPATH, '/html/body/div[1]/div[3]/form/div[1]/div[1]/div[1]/div/div[2]/input')\n",
    "## 검색하기\n",
    "search_box.send_keys('빅데이터')\n",
    "## 실행오기\n",
    "search_box.send_keys(Keys.RETURN)\n",
    "\n",
    "## 불러오기\n",
    "elements = driver.find_elements(By.XPATH,'//*[@id=\"rso\"]/div/div/div/div/a/h3')\n",
    "for element in elements:\n",
    "    print(element.text)\n",
    "\n",
    "sleep(3)\n",
    "driver.close()"
   ]
  },
  {
   "cell_type": "markdown",
   "id": "e99590e7",
   "metadata": {},
   "source": [
    "### 예제"
   ]
  },
  {
   "cell_type": "markdown",
   "id": "dd1f68cd",
   "metadata": {},
   "source": [
    "#### 과제 0727_3"
   ]
  },
  {
   "cell_type": "code",
   "execution_count": 9,
   "id": "32673972",
   "metadata": {
    "scrolled": true
   },
   "outputs": [
    {
     "ename": "NoSuchWindowException",
     "evalue": "Message: no such window: target window already closed\nfrom unknown error: web view not found\n  (Session info: chrome=103.0.5060.134)\nStacktrace:\n0   chromedriver                        0x000000010e302ef9 chromedriver + 4480761\n1   chromedriver                        0x000000010e28e5d3 chromedriver + 4003283\n2   chromedriver                        0x000000010df21338 chromedriver + 410424\n3   chromedriver                        0x000000010df02788 chromedriver + 284552\n4   chromedriver                        0x000000010df77f7b chromedriver + 765819\n5   chromedriver                        0x000000010df86b5f chromedriver + 826207\n6   chromedriver                        0x000000010df74953 chromedriver + 751955\n7   chromedriver                        0x000000010df4acd5 chromedriver + 580821\n8   chromedriver                        0x000000010df4bd25 chromedriver + 584997\n9   chromedriver                        0x000000010e2d402d chromedriver + 4288557\n10  chromedriver                        0x000000010e2d91b3 chromedriver + 4309427\n11  chromedriver                        0x000000010e2de23f chromedriver + 4330047\n12  chromedriver                        0x000000010e2d9dfa chromedriver + 4312570\n13  chromedriver                        0x000000010e2b2fef chromedriver + 4153327\n14  chromedriver                        0x000000010e2f3d78 chromedriver + 4418936\n15  chromedriver                        0x000000010e2f3eff chromedriver + 4419327\n16  chromedriver                        0x000000010e30aab5 chromedriver + 4512437\n17  libsystem_pthread.dylib             0x00007fff206f78fc _pthread_start + 224\n18  libsystem_pthread.dylib             0x00007fff206f3443 thread_start + 15\n",
     "output_type": "error",
     "traceback": [
      "\u001b[0;31m---------------------------------------------------------------------------\u001b[0m",
      "\u001b[0;31mNoSuchWindowException\u001b[0m                     Traceback (most recent call last)",
      "Input \u001b[0;32mIn [9]\u001b[0m, in \u001b[0;36m<cell line: 18>\u001b[0;34m()\u001b[0m\n\u001b[1;32m     14\u001b[0m driver\u001b[38;5;241m.\u001b[39mget(url\u001b[38;5;241m=\u001b[39m\u001b[38;5;124m'\u001b[39m\u001b[38;5;124mhttps://naver.com\u001b[39m\u001b[38;5;124m'\u001b[39m)\n\u001b[1;32m     16\u001b[0m \u001b[38;5;28;01mfrom\u001b[39;00m \u001b[38;5;21;01mselenium\u001b[39;00m\u001b[38;5;21;01m.\u001b[39;00m\u001b[38;5;21;01mwebdriver\u001b[39;00m\u001b[38;5;21;01m.\u001b[39;00m\u001b[38;5;21;01mcommon\u001b[39;00m\u001b[38;5;21;01m.\u001b[39;00m\u001b[38;5;21;01mby\u001b[39;00m \u001b[38;5;28;01mimport\u001b[39;00m By\n\u001b[0;32m---> 18\u001b[0m login \u001b[38;5;241m=\u001b[39m \u001b[43mdriver\u001b[49m\u001b[38;5;241;43m.\u001b[39;49m\u001b[43mget\u001b[49m\u001b[43m(\u001b[49m\u001b[43murl\u001b[49m\u001b[38;5;241;43m=\u001b[39;49m\u001b[38;5;124;43m'\u001b[39;49m\u001b[38;5;124;43mhttps://nid.naver.com/nidlogin.login?mode=form&url=https\u001b[39;49m\u001b[38;5;124;43m%\u001b[39;49m\u001b[38;5;124;43m3A\u001b[39;49m\u001b[38;5;132;43;01m%2F\u001b[39;49;00m\u001b[38;5;132;43;01m%2F\u001b[39;49;00m\u001b[38;5;124;43mwww.naver.com\u001b[39;49m\u001b[38;5;124;43m'\u001b[39;49m\u001b[43m)\u001b[49m\n\u001b[1;32m     20\u001b[0m driver\u001b[38;5;241m.\u001b[39mback()\n\u001b[1;32m     22\u001b[0m search_box \u001b[38;5;241m=\u001b[39m driver\u001b[38;5;241m.\u001b[39mfind_element(By\u001b[38;5;241m.\u001b[39mXPATH,\u001b[38;5;124m'\u001b[39m\u001b[38;5;124m//html/body/div/div/div/div/div/form/fieldset/div/input\u001b[39m\u001b[38;5;124m'\u001b[39m)\n",
      "File \u001b[0;32m~/opt/anaconda3/lib/python3.9/site-packages/selenium/webdriver/remote/webdriver.py:447\u001b[0m, in \u001b[0;36mWebDriver.get\u001b[0;34m(self, url)\u001b[0m\n\u001b[1;32m    443\u001b[0m \u001b[38;5;28;01mdef\u001b[39;00m \u001b[38;5;21mget\u001b[39m(\u001b[38;5;28mself\u001b[39m, url: \u001b[38;5;28mstr\u001b[39m) \u001b[38;5;241m-\u001b[39m\u001b[38;5;241m>\u001b[39m \u001b[38;5;28;01mNone\u001b[39;00m:\n\u001b[1;32m    444\u001b[0m     \u001b[38;5;124;03m\"\"\"\u001b[39;00m\n\u001b[1;32m    445\u001b[0m \u001b[38;5;124;03m    Loads a web page in the current browser session.\u001b[39;00m\n\u001b[1;32m    446\u001b[0m \u001b[38;5;124;03m    \"\"\"\u001b[39;00m\n\u001b[0;32m--> 447\u001b[0m     \u001b[38;5;28;43mself\u001b[39;49m\u001b[38;5;241;43m.\u001b[39;49m\u001b[43mexecute\u001b[49m\u001b[43m(\u001b[49m\u001b[43mCommand\u001b[49m\u001b[38;5;241;43m.\u001b[39;49m\u001b[43mGET\u001b[49m\u001b[43m,\u001b[49m\u001b[43m \u001b[49m\u001b[43m{\u001b[49m\u001b[38;5;124;43m'\u001b[39;49m\u001b[38;5;124;43murl\u001b[39;49m\u001b[38;5;124;43m'\u001b[39;49m\u001b[43m:\u001b[49m\u001b[43m \u001b[49m\u001b[43murl\u001b[49m\u001b[43m}\u001b[49m\u001b[43m)\u001b[49m\n",
      "File \u001b[0;32m~/opt/anaconda3/lib/python3.9/site-packages/selenium/webdriver/remote/webdriver.py:435\u001b[0m, in \u001b[0;36mWebDriver.execute\u001b[0;34m(self, driver_command, params)\u001b[0m\n\u001b[1;32m    433\u001b[0m response \u001b[38;5;241m=\u001b[39m \u001b[38;5;28mself\u001b[39m\u001b[38;5;241m.\u001b[39mcommand_executor\u001b[38;5;241m.\u001b[39mexecute(driver_command, params)\n\u001b[1;32m    434\u001b[0m \u001b[38;5;28;01mif\u001b[39;00m response:\n\u001b[0;32m--> 435\u001b[0m     \u001b[38;5;28;43mself\u001b[39;49m\u001b[38;5;241;43m.\u001b[39;49m\u001b[43merror_handler\u001b[49m\u001b[38;5;241;43m.\u001b[39;49m\u001b[43mcheck_response\u001b[49m\u001b[43m(\u001b[49m\u001b[43mresponse\u001b[49m\u001b[43m)\u001b[49m\n\u001b[1;32m    436\u001b[0m     response[\u001b[38;5;124m'\u001b[39m\u001b[38;5;124mvalue\u001b[39m\u001b[38;5;124m'\u001b[39m] \u001b[38;5;241m=\u001b[39m \u001b[38;5;28mself\u001b[39m\u001b[38;5;241m.\u001b[39m_unwrap_value(\n\u001b[1;32m    437\u001b[0m         response\u001b[38;5;241m.\u001b[39mget(\u001b[38;5;124m'\u001b[39m\u001b[38;5;124mvalue\u001b[39m\u001b[38;5;124m'\u001b[39m, \u001b[38;5;28;01mNone\u001b[39;00m))\n\u001b[1;32m    438\u001b[0m     \u001b[38;5;28;01mreturn\u001b[39;00m response\n",
      "File \u001b[0;32m~/opt/anaconda3/lib/python3.9/site-packages/selenium/webdriver/remote/errorhandler.py:247\u001b[0m, in \u001b[0;36mErrorHandler.check_response\u001b[0;34m(self, response)\u001b[0m\n\u001b[1;32m    245\u001b[0m         alert_text \u001b[38;5;241m=\u001b[39m value[\u001b[38;5;124m'\u001b[39m\u001b[38;5;124malert\u001b[39m\u001b[38;5;124m'\u001b[39m]\u001b[38;5;241m.\u001b[39mget(\u001b[38;5;124m'\u001b[39m\u001b[38;5;124mtext\u001b[39m\u001b[38;5;124m'\u001b[39m)\n\u001b[1;32m    246\u001b[0m     \u001b[38;5;28;01mraise\u001b[39;00m exception_class(message, screen, stacktrace, alert_text)  \u001b[38;5;66;03m# type: ignore[call-arg]  # mypy is not smart enough here\u001b[39;00m\n\u001b[0;32m--> 247\u001b[0m \u001b[38;5;28;01mraise\u001b[39;00m exception_class(message, screen, stacktrace)\n",
      "\u001b[0;31mNoSuchWindowException\u001b[0m: Message: no such window: target window already closed\nfrom unknown error: web view not found\n  (Session info: chrome=103.0.5060.134)\nStacktrace:\n0   chromedriver                        0x000000010e302ef9 chromedriver + 4480761\n1   chromedriver                        0x000000010e28e5d3 chromedriver + 4003283\n2   chromedriver                        0x000000010df21338 chromedriver + 410424\n3   chromedriver                        0x000000010df02788 chromedriver + 284552\n4   chromedriver                        0x000000010df77f7b chromedriver + 765819\n5   chromedriver                        0x000000010df86b5f chromedriver + 826207\n6   chromedriver                        0x000000010df74953 chromedriver + 751955\n7   chromedriver                        0x000000010df4acd5 chromedriver + 580821\n8   chromedriver                        0x000000010df4bd25 chromedriver + 584997\n9   chromedriver                        0x000000010e2d402d chromedriver + 4288557\n10  chromedriver                        0x000000010e2d91b3 chromedriver + 4309427\n11  chromedriver                        0x000000010e2de23f chromedriver + 4330047\n12  chromedriver                        0x000000010e2d9dfa chromedriver + 4312570\n13  chromedriver                        0x000000010e2b2fef chromedriver + 4153327\n14  chromedriver                        0x000000010e2f3d78 chromedriver + 4418936\n15  chromedriver                        0x000000010e2f3eff chromedriver + 4419327\n16  chromedriver                        0x000000010e30aab5 chromedriver + 4512437\n17  libsystem_pthread.dylib             0x00007fff206f78fc _pthread_start + 224\n18  libsystem_pthread.dylib             0x00007fff206f3443 thread_start + 15\n"
     ]
    }
   ],
   "source": [
    "# Q. 네이버 사이트 불러오기 > 로그인 이동 > 홈 이동 > 검색어('빅데이터') 입력, 실행 > 'a' 태그 href 속성을 모두 출력\n",
    "from time import sleep\n",
    "import selenium\n",
    "from selenium import webdriver\n",
    "from selenium.webdriver.common.keys import Keys\n",
    "\n",
    "options = webdriver.ChromeOptions()\n",
    "options.add_argument('window_size=1920,1080')\n",
    "\n",
    "driver = webdriver.Chrome(path, options=options)\n",
    "driver.maximize_window()\n",
    "driver.implicitly_wait(time_to_wait=5)\n",
    "\n",
    "driver.get(url='https://naver.com')\n",
    "\n",
    "from selenium.webdriver.common.by import By\n",
    "\n",
    "login = driver.get(url='https://nid.naver.com/nidlogin.login?mode=form&url=https%3A%2F%2Fwww.naver.com')\n",
    "\n",
    "driver.back()\n",
    "\n",
    "search_box = driver.find_element(By.XPATH,'//html/body/div/div/div/div/div/form/fieldset/div/input')\n",
    "\n",
    "search_box.send_keys('빅데이터')\n",
    "search_box.send_keys(Keys.RETURN)\n",
    "\n",
    "elements = driver.find_elements(By.TAG_NAME,'a')\n",
    "for a in elements:\n",
    "    print(a.get_attribute('href'))\n",
    "    \n",
    "sleep(3)\n",
    "driver.close()\n"
   ]
  },
  {
   "cell_type": "code",
   "execution_count": 10,
   "id": "9a1e12fb",
   "metadata": {},
   "outputs": [
    {
     "ename": "WebDriverException",
     "evalue": "Message: 'chromedriver.exe' executable needs to be in PATH. Please see https://chromedriver.chromium.org/home\n",
     "output_type": "error",
     "traceback": [
      "\u001b[0;31m---------------------------------------------------------------------------\u001b[0m",
      "\u001b[0;31mFileNotFoundError\u001b[0m                         Traceback (most recent call last)",
      "File \u001b[0;32m~/opt/anaconda3/lib/python3.9/site-packages/selenium/webdriver/common/service.py:71\u001b[0m, in \u001b[0;36mService.start\u001b[0;34m(self)\u001b[0m\n\u001b[1;32m     70\u001b[0m     cmd\u001b[38;5;241m.\u001b[39mextend(\u001b[38;5;28mself\u001b[39m\u001b[38;5;241m.\u001b[39mcommand_line_args())\n\u001b[0;32m---> 71\u001b[0m     \u001b[38;5;28mself\u001b[39m\u001b[38;5;241m.\u001b[39mprocess \u001b[38;5;241m=\u001b[39m \u001b[43msubprocess\u001b[49m\u001b[38;5;241;43m.\u001b[39;49m\u001b[43mPopen\u001b[49m\u001b[43m(\u001b[49m\u001b[43mcmd\u001b[49m\u001b[43m,\u001b[49m\u001b[43m \u001b[49m\u001b[43menv\u001b[49m\u001b[38;5;241;43m=\u001b[39;49m\u001b[38;5;28;43mself\u001b[39;49m\u001b[38;5;241;43m.\u001b[39;49m\u001b[43menv\u001b[49m\u001b[43m,\u001b[49m\n\u001b[1;32m     72\u001b[0m \u001b[43m                                    \u001b[49m\u001b[43mclose_fds\u001b[49m\u001b[38;5;241;43m=\u001b[39;49m\u001b[43msystem\u001b[49m\u001b[43m(\u001b[49m\u001b[43m)\u001b[49m\u001b[43m \u001b[49m\u001b[38;5;241;43m!=\u001b[39;49m\u001b[43m \u001b[49m\u001b[38;5;124;43m'\u001b[39;49m\u001b[38;5;124;43mWindows\u001b[39;49m\u001b[38;5;124;43m'\u001b[39;49m\u001b[43m,\u001b[49m\n\u001b[1;32m     73\u001b[0m \u001b[43m                                    \u001b[49m\u001b[43mstdout\u001b[49m\u001b[38;5;241;43m=\u001b[39;49m\u001b[38;5;28;43mself\u001b[39;49m\u001b[38;5;241;43m.\u001b[39;49m\u001b[43mlog_file\u001b[49m\u001b[43m,\u001b[49m\n\u001b[1;32m     74\u001b[0m \u001b[43m                                    \u001b[49m\u001b[43mstderr\u001b[49m\u001b[38;5;241;43m=\u001b[39;49m\u001b[38;5;28;43mself\u001b[39;49m\u001b[38;5;241;43m.\u001b[39;49m\u001b[43mlog_file\u001b[49m\u001b[43m,\u001b[49m\n\u001b[1;32m     75\u001b[0m \u001b[43m                                    \u001b[49m\u001b[43mstdin\u001b[49m\u001b[38;5;241;43m=\u001b[39;49m\u001b[43mPIPE\u001b[49m\u001b[43m,\u001b[49m\n\u001b[1;32m     76\u001b[0m \u001b[43m                                    \u001b[49m\u001b[43mcreationflags\u001b[49m\u001b[38;5;241;43m=\u001b[39;49m\u001b[38;5;28;43mself\u001b[39;49m\u001b[38;5;241;43m.\u001b[39;49m\u001b[43mcreationflags\u001b[49m\u001b[43m)\u001b[49m\n\u001b[1;32m     77\u001b[0m \u001b[38;5;28;01mexcept\u001b[39;00m \u001b[38;5;167;01mTypeError\u001b[39;00m:\n",
      "File \u001b[0;32m~/opt/anaconda3/lib/python3.9/subprocess.py:951\u001b[0m, in \u001b[0;36mPopen.__init__\u001b[0;34m(self, args, bufsize, executable, stdin, stdout, stderr, preexec_fn, close_fds, shell, cwd, env, universal_newlines, startupinfo, creationflags, restore_signals, start_new_session, pass_fds, user, group, extra_groups, encoding, errors, text, umask)\u001b[0m\n\u001b[1;32m    948\u001b[0m             \u001b[38;5;28mself\u001b[39m\u001b[38;5;241m.\u001b[39mstderr \u001b[38;5;241m=\u001b[39m io\u001b[38;5;241m.\u001b[39mTextIOWrapper(\u001b[38;5;28mself\u001b[39m\u001b[38;5;241m.\u001b[39mstderr,\n\u001b[1;32m    949\u001b[0m                     encoding\u001b[38;5;241m=\u001b[39mencoding, errors\u001b[38;5;241m=\u001b[39merrors)\n\u001b[0;32m--> 951\u001b[0m     \u001b[38;5;28;43mself\u001b[39;49m\u001b[38;5;241;43m.\u001b[39;49m\u001b[43m_execute_child\u001b[49m\u001b[43m(\u001b[49m\u001b[43margs\u001b[49m\u001b[43m,\u001b[49m\u001b[43m \u001b[49m\u001b[43mexecutable\u001b[49m\u001b[43m,\u001b[49m\u001b[43m \u001b[49m\u001b[43mpreexec_fn\u001b[49m\u001b[43m,\u001b[49m\u001b[43m \u001b[49m\u001b[43mclose_fds\u001b[49m\u001b[43m,\u001b[49m\n\u001b[1;32m    952\u001b[0m \u001b[43m                        \u001b[49m\u001b[43mpass_fds\u001b[49m\u001b[43m,\u001b[49m\u001b[43m \u001b[49m\u001b[43mcwd\u001b[49m\u001b[43m,\u001b[49m\u001b[43m \u001b[49m\u001b[43menv\u001b[49m\u001b[43m,\u001b[49m\n\u001b[1;32m    953\u001b[0m \u001b[43m                        \u001b[49m\u001b[43mstartupinfo\u001b[49m\u001b[43m,\u001b[49m\u001b[43m \u001b[49m\u001b[43mcreationflags\u001b[49m\u001b[43m,\u001b[49m\u001b[43m \u001b[49m\u001b[43mshell\u001b[49m\u001b[43m,\u001b[49m\n\u001b[1;32m    954\u001b[0m \u001b[43m                        \u001b[49m\u001b[43mp2cread\u001b[49m\u001b[43m,\u001b[49m\u001b[43m \u001b[49m\u001b[43mp2cwrite\u001b[49m\u001b[43m,\u001b[49m\n\u001b[1;32m    955\u001b[0m \u001b[43m                        \u001b[49m\u001b[43mc2pread\u001b[49m\u001b[43m,\u001b[49m\u001b[43m \u001b[49m\u001b[43mc2pwrite\u001b[49m\u001b[43m,\u001b[49m\n\u001b[1;32m    956\u001b[0m \u001b[43m                        \u001b[49m\u001b[43merrread\u001b[49m\u001b[43m,\u001b[49m\u001b[43m \u001b[49m\u001b[43merrwrite\u001b[49m\u001b[43m,\u001b[49m\n\u001b[1;32m    957\u001b[0m \u001b[43m                        \u001b[49m\u001b[43mrestore_signals\u001b[49m\u001b[43m,\u001b[49m\n\u001b[1;32m    958\u001b[0m \u001b[43m                        \u001b[49m\u001b[43mgid\u001b[49m\u001b[43m,\u001b[49m\u001b[43m \u001b[49m\u001b[43mgids\u001b[49m\u001b[43m,\u001b[49m\u001b[43m \u001b[49m\u001b[43muid\u001b[49m\u001b[43m,\u001b[49m\u001b[43m \u001b[49m\u001b[43mumask\u001b[49m\u001b[43m,\u001b[49m\n\u001b[1;32m    959\u001b[0m \u001b[43m                        \u001b[49m\u001b[43mstart_new_session\u001b[49m\u001b[43m)\u001b[49m\n\u001b[1;32m    960\u001b[0m \u001b[38;5;28;01mexcept\u001b[39;00m:\n\u001b[1;32m    961\u001b[0m     \u001b[38;5;66;03m# Cleanup if the child failed starting.\u001b[39;00m\n",
      "File \u001b[0;32m~/opt/anaconda3/lib/python3.9/subprocess.py:1821\u001b[0m, in \u001b[0;36mPopen._execute_child\u001b[0;34m(self, args, executable, preexec_fn, close_fds, pass_fds, cwd, env, startupinfo, creationflags, shell, p2cread, p2cwrite, c2pread, c2pwrite, errread, errwrite, restore_signals, gid, gids, uid, umask, start_new_session)\u001b[0m\n\u001b[1;32m   1820\u001b[0m         err_msg \u001b[38;5;241m=\u001b[39m os\u001b[38;5;241m.\u001b[39mstrerror(errno_num)\n\u001b[0;32m-> 1821\u001b[0m     \u001b[38;5;28;01mraise\u001b[39;00m child_exception_type(errno_num, err_msg, err_filename)\n\u001b[1;32m   1822\u001b[0m \u001b[38;5;28;01mraise\u001b[39;00m child_exception_type(err_msg)\n",
      "\u001b[0;31mFileNotFoundError\u001b[0m: [Errno 2] No such file or directory: 'C:/cakd7/tool/chromedriver.exe'",
      "\nDuring handling of the above exception, another exception occurred:\n",
      "\u001b[0;31mWebDriverException\u001b[0m                        Traceback (most recent call last)",
      "Input \u001b[0;32mIn [10]\u001b[0m, in \u001b[0;36m<cell line: 3>\u001b[0;34m()\u001b[0m\n\u001b[1;32m      1\u001b[0m url \u001b[38;5;241m=\u001b[39m \u001b[38;5;124m'\u001b[39m\u001b[38;5;124mhttps://naver.com\u001b[39m\u001b[38;5;124m'\u001b[39m\n\u001b[1;32m      2\u001b[0m path \u001b[38;5;241m=\u001b[39m \u001b[38;5;124m\"\u001b[39m\u001b[38;5;124mC:/cakd7/tool/chromedriver.exe\u001b[39m\u001b[38;5;124m\"\u001b[39m\n\u001b[0;32m----> 3\u001b[0m driver \u001b[38;5;241m=\u001b[39m \u001b[43mwebdriver\u001b[49m\u001b[38;5;241;43m.\u001b[39;49m\u001b[43mChrome\u001b[49m\u001b[43m(\u001b[49m\u001b[43mpath\u001b[49m\u001b[43m)\u001b[49m\n\u001b[1;32m      4\u001b[0m driver\u001b[38;5;241m.\u001b[39mget(url)\n\u001b[1;32m      6\u001b[0m \u001b[38;5;66;03m# 다음 사이트로 이동\u001b[39;00m\n",
      "File \u001b[0;32m~/opt/anaconda3/lib/python3.9/site-packages/selenium/webdriver/chrome/webdriver.py:69\u001b[0m, in \u001b[0;36mWebDriver.__init__\u001b[0;34m(self, executable_path, port, options, service_args, desired_capabilities, service_log_path, chrome_options, service, keep_alive)\u001b[0m\n\u001b[1;32m     66\u001b[0m \u001b[38;5;28;01mif\u001b[39;00m \u001b[38;5;129;01mnot\u001b[39;00m service:\n\u001b[1;32m     67\u001b[0m     service \u001b[38;5;241m=\u001b[39m Service(executable_path, port, service_args, service_log_path)\n\u001b[0;32m---> 69\u001b[0m \u001b[38;5;28;43msuper\u001b[39;49m\u001b[43m(\u001b[49m\u001b[43m)\u001b[49m\u001b[38;5;241;43m.\u001b[39;49m\u001b[38;5;21;43m__init__\u001b[39;49m\u001b[43m(\u001b[49m\u001b[43mDesiredCapabilities\u001b[49m\u001b[38;5;241;43m.\u001b[39;49m\u001b[43mCHROME\u001b[49m\u001b[43m[\u001b[49m\u001b[38;5;124;43m'\u001b[39;49m\u001b[38;5;124;43mbrowserName\u001b[39;49m\u001b[38;5;124;43m'\u001b[39;49m\u001b[43m]\u001b[49m\u001b[43m,\u001b[49m\u001b[43m \u001b[49m\u001b[38;5;124;43m\"\u001b[39;49m\u001b[38;5;124;43mgoog\u001b[39;49m\u001b[38;5;124;43m\"\u001b[39;49m\u001b[43m,\u001b[49m\n\u001b[1;32m     70\u001b[0m \u001b[43m                 \u001b[49m\u001b[43mport\u001b[49m\u001b[43m,\u001b[49m\u001b[43m \u001b[49m\u001b[43moptions\u001b[49m\u001b[43m,\u001b[49m\n\u001b[1;32m     71\u001b[0m \u001b[43m                 \u001b[49m\u001b[43mservice_args\u001b[49m\u001b[43m,\u001b[49m\u001b[43m \u001b[49m\u001b[43mdesired_capabilities\u001b[49m\u001b[43m,\u001b[49m\n\u001b[1;32m     72\u001b[0m \u001b[43m                 \u001b[49m\u001b[43mservice_log_path\u001b[49m\u001b[43m,\u001b[49m\u001b[43m \u001b[49m\u001b[43mservice\u001b[49m\u001b[43m,\u001b[49m\u001b[43m \u001b[49m\u001b[43mkeep_alive\u001b[49m\u001b[43m)\u001b[49m\n",
      "File \u001b[0;32m~/opt/anaconda3/lib/python3.9/site-packages/selenium/webdriver/chromium/webdriver.py:89\u001b[0m, in \u001b[0;36mChromiumDriver.__init__\u001b[0;34m(self, browser_name, vendor_prefix, port, options, service_args, desired_capabilities, service_log_path, service, keep_alive)\u001b[0m\n\u001b[1;32m     86\u001b[0m     \u001b[38;5;28;01mraise\u001b[39;00m \u001b[38;5;167;01mAttributeError\u001b[39;00m(\u001b[38;5;124m'\u001b[39m\u001b[38;5;124mservice cannot be None\u001b[39m\u001b[38;5;124m'\u001b[39m)\n\u001b[1;32m     88\u001b[0m \u001b[38;5;28mself\u001b[39m\u001b[38;5;241m.\u001b[39mservice \u001b[38;5;241m=\u001b[39m service\n\u001b[0;32m---> 89\u001b[0m \u001b[38;5;28;43mself\u001b[39;49m\u001b[38;5;241;43m.\u001b[39;49m\u001b[43mservice\u001b[49m\u001b[38;5;241;43m.\u001b[39;49m\u001b[43mstart\u001b[49m\u001b[43m(\u001b[49m\u001b[43m)\u001b[49m\n\u001b[1;32m     91\u001b[0m \u001b[38;5;28;01mtry\u001b[39;00m:\n\u001b[1;32m     92\u001b[0m     \u001b[38;5;28msuper\u001b[39m()\u001b[38;5;241m.\u001b[39m\u001b[38;5;21m__init__\u001b[39m(\n\u001b[1;32m     93\u001b[0m         command_executor\u001b[38;5;241m=\u001b[39mChromiumRemoteConnection(\n\u001b[1;32m     94\u001b[0m             remote_server_addr\u001b[38;5;241m=\u001b[39m\u001b[38;5;28mself\u001b[39m\u001b[38;5;241m.\u001b[39mservice\u001b[38;5;241m.\u001b[39mservice_url,\n\u001b[1;32m     95\u001b[0m             browser_name\u001b[38;5;241m=\u001b[39mbrowser_name, vendor_prefix\u001b[38;5;241m=\u001b[39mvendor_prefix,\n\u001b[1;32m     96\u001b[0m             keep_alive\u001b[38;5;241m=\u001b[39mkeep_alive, ignore_proxy\u001b[38;5;241m=\u001b[39m_ignore_proxy),\n\u001b[1;32m     97\u001b[0m         options\u001b[38;5;241m=\u001b[39moptions)\n",
      "File \u001b[0;32m~/opt/anaconda3/lib/python3.9/site-packages/selenium/webdriver/common/service.py:81\u001b[0m, in \u001b[0;36mService.start\u001b[0;34m(self)\u001b[0m\n\u001b[1;32m     79\u001b[0m \u001b[38;5;28;01mexcept\u001b[39;00m \u001b[38;5;167;01mOSError\u001b[39;00m \u001b[38;5;28;01mas\u001b[39;00m err:\n\u001b[1;32m     80\u001b[0m     \u001b[38;5;28;01mif\u001b[39;00m err\u001b[38;5;241m.\u001b[39merrno \u001b[38;5;241m==\u001b[39m errno\u001b[38;5;241m.\u001b[39mENOENT:\n\u001b[0;32m---> 81\u001b[0m         \u001b[38;5;28;01mraise\u001b[39;00m WebDriverException(\n\u001b[1;32m     82\u001b[0m             \u001b[38;5;124m\"\u001b[39m\u001b[38;5;124m'\u001b[39m\u001b[38;5;132;01m{}\u001b[39;00m\u001b[38;5;124m'\u001b[39m\u001b[38;5;124m executable needs to be in PATH. \u001b[39m\u001b[38;5;132;01m{}\u001b[39;00m\u001b[38;5;124m\"\u001b[39m\u001b[38;5;241m.\u001b[39mformat(\n\u001b[1;32m     83\u001b[0m                 os\u001b[38;5;241m.\u001b[39mpath\u001b[38;5;241m.\u001b[39mbasename(\u001b[38;5;28mself\u001b[39m\u001b[38;5;241m.\u001b[39mpath), \u001b[38;5;28mself\u001b[39m\u001b[38;5;241m.\u001b[39mstart_error_message)\n\u001b[1;32m     84\u001b[0m         )\n\u001b[1;32m     85\u001b[0m     \u001b[38;5;28;01melif\u001b[39;00m err\u001b[38;5;241m.\u001b[39merrno \u001b[38;5;241m==\u001b[39m errno\u001b[38;5;241m.\u001b[39mEACCES:\n\u001b[1;32m     86\u001b[0m         \u001b[38;5;28;01mraise\u001b[39;00m WebDriverException(\n\u001b[1;32m     87\u001b[0m             \u001b[38;5;124m\"\u001b[39m\u001b[38;5;124m'\u001b[39m\u001b[38;5;132;01m{}\u001b[39;00m\u001b[38;5;124m'\u001b[39m\u001b[38;5;124m executable may have wrong permissions. \u001b[39m\u001b[38;5;132;01m{}\u001b[39;00m\u001b[38;5;124m\"\u001b[39m\u001b[38;5;241m.\u001b[39mformat(\n\u001b[1;32m     88\u001b[0m                 os\u001b[38;5;241m.\u001b[39mpath\u001b[38;5;241m.\u001b[39mbasename(\u001b[38;5;28mself\u001b[39m\u001b[38;5;241m.\u001b[39mpath), \u001b[38;5;28mself\u001b[39m\u001b[38;5;241m.\u001b[39mstart_error_message)\n\u001b[1;32m     89\u001b[0m         )\n",
      "\u001b[0;31mWebDriverException\u001b[0m: Message: 'chromedriver.exe' executable needs to be in PATH. Please see https://chromedriver.chromium.org/home\n"
     ]
    }
   ],
   "source": [
    "url = 'https://naver.com'\n",
    "path = \"/Users/mycom/Desktop/git/cakd7/cakd7/m2_분석라이브러리활용/crawling/chromedriver\"\n",
    "driver = webdriver.Chrome(path)\n",
    "driver.get(url)\n",
    "\n",
    "# 다음 사이트로 이동\n",
    "driver.get('http://daum.net')"
   ]
  },
  {
   "cell_type": "code",
   "execution_count": 48,
   "id": "b3eaec73",
   "metadata": {},
   "outputs": [],
   "source": [
    "# 검색어 입력 및 실행\n",
    "elem = driver.find_element(By.NAME,'q')\n",
    "elem.send_keys('빅데이터')\n",
    "elem.send_keys(Keys.ENTER)\n",
    "\n",
    "# 홈 이동 (이전)\n",
    "driver.back()\n",
    "\n",
    "elem = driver.find_element(By.NAME,'q')\n",
    "elem.send_keys('빅데이터')\n",
    "\n",
    "# 서치 버튼 요소 불러와서 click하기\n",
    "elem = driver.find_element(By.XPATH,'//*[@id=\"daumSearch\"]/fieldset/div/div/button[3]')\n",
    "elem.click()\n",
    "\n",
    "# 새로고침\n",
    "driver.refresh()"
   ]
  },
  {
   "cell_type": "markdown",
   "id": "d64103d5",
   "metadata": {},
   "source": [
    "#### 과제 0727_4"
   ]
  },
  {
   "cell_type": "code",
   "execution_count": 67,
   "id": "aa2736e4",
   "metadata": {
    "scrolled": true
   },
   "outputs": [
    {
     "name": "stdout",
     "output_type": "stream",
     "text": [
      "2,000\n"
     ]
    }
   ],
   "source": [
    "# 한빛 네트워크 사이트 로그인 후 마일리지 점수 가져오기\n",
    "\n",
    "import time\n",
    "import selenium\n",
    "from selenium import webdriver\n",
    "\n",
    "driver = webdriver.Chrome(path)\n",
    "driver.get('https://www.hanbit.co.kr/')\n",
    "\n",
    "# login - click\n",
    "element = driver.find_element(By. CLASS_NAME, 'login')\n",
    "element.click()\n",
    "\n",
    "m_id = 'ssun6691'\n",
    "m_pw = 'dudtjs23'\n",
    "\n",
    "element = driver.find_element(By.ID, 'm_id')\n",
    "element.send_keys(m_id)\n",
    "time.sleep(1)\n",
    "element = driver.find_element(By.ID, 'm_passwd')\n",
    "element.send_keys(m_pw)\n",
    "time.sleep(1)\n",
    "element = driver.find_element(By.CLASS_NAME, 'btn_login')\n",
    "element.click()\n",
    "\n",
    "driver.get('https://www.hanbit.co.kr/myhanbit/myhanbit.html')\n",
    "\n",
    "elements = driver.find_elements(By.XPATH,'/html/body/div[3]/div/div[2]/dl[1]/dd/span')\n",
    "for element in elements:\n",
    "    print(element.text)\n",
    "    \n",
    "sleep(3)\n",
    "driver.close()\n"
   ]
  },
  {
   "cell_type": "markdown",
   "id": "19d1701f",
   "metadata": {},
   "source": [
    "#### 도전과제 0727_4\n",
    "네이버 로그인 후 메일 리스트 출력하기"
   ]
  },
  {
   "cell_type": "code",
   "execution_count": 69,
   "id": "eefa4d2a",
   "metadata": {},
   "outputs": [
    {
     "name": "stdout",
     "output_type": "stream",
     "text": [
      "Collecting pyperclip\n",
      "  Downloading pyperclip-1.8.2.tar.gz (20 kB)\n",
      "  Preparing metadata (setup.py): started\n",
      "  Preparing metadata (setup.py): finished with status 'done'\n",
      "Building wheels for collected packages: pyperclip\n",
      "  Building wheel for pyperclip (setup.py): started\n",
      "  Building wheel for pyperclip (setup.py): finished with status 'done'\n",
      "  Created wheel for pyperclip: filename=pyperclip-1.8.2-py3-none-any.whl size=11137 sha256=1497ac614ea5116cef2fd5609f7fd7fc2a4c4e4fe47f67f372efb9e4df959e73\n",
      "  Stored in directory: c:\\users\\admin\\appdata\\local\\pip\\cache\\wheels\\7f\\1a\\65\\84ff8c386bec21fca6d220ea1f5498a0367883a78dd5ba6122\n",
      "Successfully built pyperclip\n",
      "Installing collected packages: pyperclip\n",
      "Successfully installed pyperclip-1.8.2\n"
     ]
    }
   ],
   "source": [
    "! pip install pyperclip"
   ]
  },
  {
   "cell_type": "code",
   "execution_count": 70,
   "id": "9814a58c",
   "metadata": {
    "scrolled": true
   },
   "outputs": [],
   "source": [
    "import pyperclip"
   ]
  },
  {
   "cell_type": "code",
   "execution_count": null,
   "id": "d4ff4efc",
   "metadata": {},
   "outputs": [],
   "source": []
  }
 ],
 "metadata": {
  "kernelspec": {
   "display_name": "Python 3 (ipykernel)",
   "language": "python",
   "name": "python3"
  },
  "language_info": {
   "codemirror_mode": {
    "name": "ipython",
    "version": 3
   },
   "file_extension": ".py",
   "mimetype": "text/x-python",
   "name": "python",
   "nbconvert_exporter": "python",
   "pygments_lexer": "ipython3",
   "version": "3.9.12"
  },
  "toc": {
   "base_numbering": 1,
   "nav_menu": {},
   "number_sections": false,
   "sideBar": true,
   "skip_h1_title": false,
   "title_cell": "Table of Contents",
   "title_sidebar": "Contents",
   "toc_cell": false,
   "toc_position": {},
   "toc_section_display": true,
   "toc_window_display": true
  }
 },
 "nbformat": 4,
 "nbformat_minor": 5
}
