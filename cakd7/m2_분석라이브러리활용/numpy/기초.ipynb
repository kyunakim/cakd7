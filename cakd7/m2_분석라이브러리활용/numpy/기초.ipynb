{
 "cells": [
  {
   "cell_type": "markdown",
   "id": "e2e26fe6",
   "metadata": {},
   "source": [
    "## Numpy\n",
    "  NumPy는 “Numerical Python“의 약자로 대규모 다차원 배열과 행렬 연산에 필요한 다양한 함수를 제공\n",
    "* Numerical Python을 의미하는 NumPy는 파이썬에서 선형대수 기반의 프로그램을 쉽게 만들 수 있도록 지원하는 대표적인 패키지\n",
    "* 많은 머신러닝 알고리즘이 넘파이 기반으로 작성돼 있으며 알고리즘의 입출력 데이터를 넘파이 배열 타입으로 사용함\n",
    "* 넘파이의 기본 데이터 타입은 ndarray. ndarray를 이용해 넘파이에서 다차원 배열을 쉽게 생성하고 다양한 연산 수행\n",
    "\n",
    "NumPy 특징\n",
    "\n",
    "- 강력한 N 차원 배열 객체\n",
    "- 정교한 브로드케스팅(Broadcast) 기능\n",
    "- C/C ++ 및 포트란 코드 통합 도구\n",
    "- 유용한 선형 대수학, 푸리에 변환 및 난수 기능\n",
    "- 푸리에 변환(Fourier transform, FT)은 시간이나 공간에 대한 함수를 시간 또는 공간 주파수 성분으로 분해하는 변환\n",
    "- 범용적 데이터 처리에 사용 가능한 다차원 컨테이너\n",
    "\n",
    "Numpy Documentation  \n",
    "\n",
    "https://numpy.org/doc/1.21/index.html\n"
   ]
  },
  {
   "cell_type": "code",
   "execution_count": 24,
   "id": "df709028",
   "metadata": {},
   "outputs": [],
   "source": [
    "import warnings\n",
    "warnings.filterwarnings('ignore')"
   ]
  },
  {
   "cell_type": "code",
   "execution_count": 23,
   "id": "f6f0a820",
   "metadata": {},
   "outputs": [
    {
     "data": {
      "text/plain": [
       "array([0, 1, 2, 3, 4, 5, 6, 7, 8, 9])"
      ]
     },
     "execution_count": 23,
     "metadata": {},
     "output_type": "execute_result"
    }
   ],
   "source": [
    "import numpy as np\n",
    "\n",
    "z = np.arange(10)\n",
    "z"
   ]
  },
  {
   "cell_type": "code",
   "execution_count": 2,
   "id": "c0caccbe",
   "metadata": {},
   "outputs": [
    {
     "name": "stdout",
     "output_type": "stream",
     "text": [
      "40 bytes\n"
     ]
    }
   ],
   "source": [
    "print(f'{z.size*z.itemsize} bytes')"
   ]
  },
  {
   "cell_type": "code",
   "execution_count": 3,
   "id": "db9ef2fe",
   "metadata": {},
   "outputs": [],
   "source": [
    "# Numpy는 내부적으로 데이터를 다른 내장 파이썬 객체와 구분된 연속된 메모리 블록에 저장\n",
    "my_arr = np.arange(1000000)\n",
    "my_list = list(range(1000000))"
   ]
  },
  {
   "cell_type": "code",
   "execution_count": 4,
   "id": "6e180310",
   "metadata": {},
   "outputs": [
    {
     "name": "stdout",
     "output_type": "stream",
     "text": [
      "CPU times: total: 15.6 ms\n",
      "Wall time: 14.9 ms\n"
     ]
    }
   ],
   "source": [
    "# '_' 은 값을 무시하고 싶은 경우 사용(여기서는 인덱스 무시)\n",
    "%time for _ in range(10): my_array2 = my_arr*2"
   ]
  },
  {
   "cell_type": "code",
   "execution_count": 5,
   "id": "34dfefc1",
   "metadata": {},
   "outputs": [
    {
     "name": "stdout",
     "output_type": "stream",
     "text": [
      "CPU times: total: 594 ms\n",
      "Wall time: 601 ms\n"
     ]
    }
   ],
   "source": [
    "%time for _ in range(10): my_list2 = [x*2 for x in my_list]"
   ]
  },
  {
   "cell_type": "markdown",
   "id": "76268f32",
   "metadata": {},
   "source": [
    "### 배열 연산"
   ]
  },
  {
   "cell_type": "code",
   "execution_count": 6,
   "id": "9782c728",
   "metadata": {},
   "outputs": [
    {
     "name": "stdout",
     "output_type": "stream",
     "text": [
      "[[ 0.02241722 -0.11481907  0.32007495]\n",
      " [-0.64966469  0.44768739 -0.99638141]] \n",
      "\n",
      "[[ 0.22417223 -1.14819066  3.20074946]\n",
      " [-6.49664691  4.47687387 -9.9638141 ]] \n",
      "\n",
      "[[ 0.04483445 -0.22963813  0.64014989]\n",
      " [-1.29932938  0.89537477 -1.99276282]]\n"
     ]
    }
   ],
   "source": [
    "# 배열 연산\n",
    "# n은 정규분포표시로, 정규분포 형태를 가진 랜덤값을 가진 행렬을 생성 randn(차원)\n",
    "data = np.random.randn(2,3) # 정규분포를 이루는 2행 3열\n",
    "print(data,'\\n')\n",
    "print(data * 10, '\\n')\n",
    "print(data + data) # 배열간 연산"
   ]
  },
  {
   "cell_type": "code",
   "execution_count": 7,
   "id": "12e9ab32",
   "metadata": {},
   "outputs": [
    {
     "name": "stdout",
     "output_type": "stream",
     "text": [
      "(2, 3)\n",
      "float64\n",
      "2\n"
     ]
    }
   ],
   "source": [
    "print(data.shape) # 데이터 크기\n",
    "print(data.dtype) # 데이터 자료형 타입\n",
    "print(data.ndim) # 데이터 차원"
   ]
  },
  {
   "cell_type": "markdown",
   "id": "0b0b616c",
   "metadata": {},
   "source": [
    "### 다차원 배열\n",
    "\n",
    "<img src = 'numpy차원.jpg' STYLE='width:500px;'>"
   ]
  },
  {
   "cell_type": "code",
   "execution_count": 8,
   "id": "618e3a05",
   "metadata": {},
   "outputs": [
    {
     "data": {
      "text/plain": [
       "array([[1, 2, 3, 4],\n",
       "       [5, 6, 7, 8]])"
      ]
     },
     "execution_count": 8,
     "metadata": {},
     "output_type": "execute_result"
    }
   ],
   "source": [
    "# 다차원 배열\n",
    "data2 = [[1,2,3,4],[5,6,7,8]]\n",
    "arr2 = np.array(data2)\n",
    "arr2"
   ]
  },
  {
   "cell_type": "code",
   "execution_count": 10,
   "id": "bc43b5d2",
   "metadata": {},
   "outputs": [
    {
     "name": "stdout",
     "output_type": "stream",
     "text": [
      "2 \n",
      "\n",
      "(2, 4)\n"
     ]
    }
   ],
   "source": [
    "# 2차원의 2행 4열\n",
    "print(arr2.ndim,'\\n')\n",
    "print(arr2.shape) # shape tuple 형태로 반환"
   ]
  },
  {
   "cell_type": "code",
   "execution_count": 11,
   "id": "5794f88d",
   "metadata": {},
   "outputs": [
    {
     "name": "stdout",
     "output_type": "stream",
     "text": [
      "[1 2 3] <class 'numpy.ndarray'>\n",
      "(3,)\n"
     ]
    }
   ],
   "source": [
    "# 1차원 배열로 3개의 데이터\n",
    "arr1 = np.array([1,2,3])\n",
    "print(arr1,type(arr1))\n",
    "print(arr1.shape) # 1차원인 경우 (원소의 개수,)"
   ]
  },
  {
   "cell_type": "markdown",
   "id": "e7ec2b8c",
   "metadata": {},
   "source": [
    "## 배열 생성 및 초기화\n",
    "\n",
    "- Numpy는 원하는 shape로 배열을 설정하고 각 요소를 특정 값으로 초기화하는 zeros, ones, full, eye함수 제공\n",
    "- 파라미터로 입력한 배열과 같은 shape의 배열을 만드는 zeros_like, ones_like, full_like 함수도 제공"
   ]
  },
  {
   "cell_type": "markdown",
   "id": "499c11ab",
   "metadata": {},
   "source": [
    "### 배열 생성"
   ]
  },
  {
   "cell_type": "code",
   "execution_count": 13,
   "id": "4b42cbe4",
   "metadata": {},
   "outputs": [
    {
     "name": "stdout",
     "output_type": "stream",
     "text": [
      "[0. 0. 0. 0. 0. 0. 0. 0. 0. 0.] \n",
      "\n",
      "[[0. 0. 0. 0. 0. 0.]\n",
      " [0. 0. 0. 0. 0. 0.]\n",
      " [0. 0. 0. 0. 0. 0.]] \n",
      "\n",
      "[[[0. 0.]\n",
      "  [0. 0.]\n",
      "  [0. 0.]]\n",
      "\n",
      " [[0. 0.]\n",
      "  [0. 0.]\n",
      "  [0. 0.]]]\n"
     ]
    }
   ],
   "source": [
    "print(np.zeros(10),'\\n')      # 1차원\n",
    "print(np.zeros((3,6)),'\\n')   # 2차원\n",
    "print(np.zeros((2,3,2)))      # 3차원 # 3행 2열 2개"
   ]
  },
  {
   "cell_type": "code",
   "execution_count": 14,
   "id": "0d3b8adf",
   "metadata": {},
   "outputs": [
    {
     "data": {
      "text/plain": [
       "array([[[1., 1., 1., 1.],\n",
       "        [1., 1., 1., 1.],\n",
       "        [1., 1., 1., 1.]],\n",
       "\n",
       "       [[1., 1., 1., 1.],\n",
       "        [1., 1., 1., 1.],\n",
       "        [1., 1., 1., 1.]]])"
      ]
     },
     "execution_count": 14,
     "metadata": {},
     "output_type": "execute_result"
    }
   ],
   "source": [
    "np.ones((2,3,4)) # 3행 4열 2개"
   ]
  },
  {
   "cell_type": "code",
   "execution_count": 15,
   "id": "bbf9e6bd",
   "metadata": {},
   "outputs": [
    {
     "data": {
      "text/plain": [
       "array([[0, 1, 2, 3, 4],\n",
       "       [5, 6, 7, 8, 9]])"
      ]
     },
     "execution_count": 15,
     "metadata": {},
     "output_type": "execute_result"
    }
   ],
   "source": [
    "a = np.arange(10).reshape(2,5) # 2행 5열\n",
    "a"
   ]
  },
  {
   "cell_type": "code",
   "execution_count": 20,
   "id": "4e899ee5",
   "metadata": {},
   "outputs": [
    {
     "data": {
      "text/plain": [
       "array([[0, 0, 0, 0, 0],\n",
       "       [0, 0, 0, 0, 0]])"
      ]
     },
     "execution_count": 20,
     "metadata": {},
     "output_type": "execute_result"
    }
   ],
   "source": [
    "z = np.zeros_like(a) # a와 같은 shape 0으로 채워진\n",
    "z"
   ]
  },
  {
   "cell_type": "code",
   "execution_count": 21,
   "id": "d932d130",
   "metadata": {},
   "outputs": [
    {
     "data": {
      "text/plain": [
       "array([[1, 1, 1, 1, 1],\n",
       "       [1, 1, 1, 1, 1]])"
      ]
     },
     "execution_count": 21,
     "metadata": {},
     "output_type": "execute_result"
    }
   ],
   "source": [
    "o = np.ones_like(a) # a와 같은 shape 1로 채워진\n",
    "o"
   ]
  },
  {
   "cell_type": "code",
   "execution_count": 23,
   "id": "00e756e7",
   "metadata": {},
   "outputs": [
    {
     "data": {
      "text/plain": [
       "array([[5, 5, 5, 5, 5],\n",
       "       [5, 5, 5, 5, 5]])"
      ]
     },
     "execution_count": 23,
     "metadata": {},
     "output_type": "execute_result"
    }
   ],
   "source": [
    "f = np.full_like(a,5) # a와 같은 shape 특정숫자 지정\n",
    "f"
   ]
  },
  {
   "cell_type": "markdown",
   "id": "716d436c",
   "metadata": {},
   "source": [
    "### 배열구조 변경"
   ]
  },
  {
   "cell_type": "code",
   "execution_count": 36,
   "id": "d8b7cf84",
   "metadata": {},
   "outputs": [
    {
     "name": "stdout",
     "output_type": "stream",
     "text": [
      "[ 0  1  2  3  4  5  6  7  8  9 10 11 12 13 14 15 16 17 18 19 20 21 22 23\n",
      " 24 25 26 27 28 29]\n"
     ]
    }
   ],
   "source": [
    "ar = np.arange(30) #1 차원\n",
    "ar1 = ar\n",
    "print(ar1)"
   ]
  },
  {
   "cell_type": "code",
   "execution_count": 37,
   "id": "916fa7ab",
   "metadata": {},
   "outputs": [
    {
     "name": "stdout",
     "output_type": "stream",
     "text": [
      "[[ 0  1  2  3  4  5]\n",
      " [ 6  7  8  9 10 11]\n",
      " [12 13 14 15 16 17]\n",
      " [18 19 20 21 22 23]\n",
      " [24 25 26 27 28 29]]\n"
     ]
    }
   ],
   "source": [
    "ar2 = ar.reshape(5,6) # 2차원\n",
    "print(ar2)"
   ]
  },
  {
   "cell_type": "code",
   "execution_count": 38,
   "id": "76610942",
   "metadata": {},
   "outputs": [
    {
     "name": "stdout",
     "output_type": "stream",
     "text": [
      "[[[ 0  1  2  3  4]\n",
      "  [ 5  6  7  8  9]\n",
      "  [10 11 12 13 14]]\n",
      "\n",
      " [[15 16 17 18 19]\n",
      "  [20 21 22 23 24]\n",
      "  [25 26 27 28 29]]]\n"
     ]
    }
   ],
   "source": [
    "ar3 = ar.reshape(2,3,5) # 3차원\n",
    "print(ar3)"
   ]
  },
  {
   "cell_type": "code",
   "execution_count": 39,
   "id": "9fd83b27",
   "metadata": {},
   "outputs": [
    {
     "name": "stdout",
     "output_type": "stream",
     "text": [
      "[ 0  1  2  3  4  5  6  7  8  9 10 11 12 13 14 15 16 17 18 19 20 21 22 23\n",
      " 24 25 26 27 28 29]\n"
     ]
    }
   ],
   "source": [
    "# reshape(-1,-1) 이용, 차원 변경 ('-1'의 의미:가변)\n",
    "print(ar1) # 1차원"
   ]
  },
  {
   "cell_type": "code",
   "execution_count": 40,
   "id": "a464033e",
   "metadata": {},
   "outputs": [
    {
     "name": "stdout",
     "output_type": "stream",
     "text": [
      "[[ 0  1  2  3  4  5  6  7  8  9 10 11 12 13 14 15 16 17 18 19 20 21 22 23\n",
      "  24 25 26 27 28 29]]\n"
     ]
    }
   ],
   "source": [
    "ar2 = ar1.reshape(-1,30) # 2차원\n",
    "print(ar2)"
   ]
  },
  {
   "cell_type": "code",
   "execution_count": 41,
   "id": "e72d8e1d",
   "metadata": {},
   "outputs": [
    {
     "name": "stdout",
     "output_type": "stream",
     "text": [
      "[[[ 0  1  2  3  4  5  6  7  8  9]\n",
      "  [10 11 12 13 14 15 16 17 18 19]\n",
      "  [20 21 22 23 24 25 26 27 28 29]]]\n"
     ]
    }
   ],
   "source": [
    "ar3 = ar1.reshape(-1,3,10) # 3차원 3행 10열 1개\n",
    "print(ar3)"
   ]
  },
  {
   "cell_type": "markdown",
   "id": "c479cc91",
   "metadata": {},
   "source": [
    "### 과제(7/5)\n",
    "- 2차원을 1,3차원으로 변경하여 출력하세요.\n",
    "- 3차원을 1,2차원으로 변경하여 출력하세요."
   ]
  },
  {
   "cell_type": "code",
   "execution_count": 192,
   "id": "dd463bb2",
   "metadata": {},
   "outputs": [
    {
     "name": "stdout",
     "output_type": "stream",
     "text": [
      "[[1 2 3]\n",
      " [4 5 6]] 2 \n",
      "\n",
      "[1 2 3 4 5 6] 1 \n",
      "\n",
      "[[[1]\n",
      "  [2]]\n",
      "\n",
      " [[3]\n",
      "  [4]]\n",
      "\n",
      " [[5]\n",
      "  [6]]] 3\n"
     ]
    }
   ],
   "source": [
    "# 2차원을 1,3차원으로 변경하여 출력하세요.\n",
    "\n",
    "ar2 = np.array([[1,2,3],[4,5,6]])\n",
    "print(ar2,ar2.ndim,'\\n')\n",
    "\n",
    "ar1 = ar2.reshape(-1,)\n",
    "print(ar1,ar1.ndim,'\\n')\n",
    "\n",
    "ar3 = ar2.reshape(3,2,1)\n",
    "print(ar3,ar3.ndim)"
   ]
  },
  {
   "cell_type": "code",
   "execution_count": 35,
   "id": "1f135459",
   "metadata": {},
   "outputs": [
    {
     "data": {
      "text/plain": [
       "array([[ 0,  1,  2,  3,  4],\n",
       "       [ 5,  6,  7,  8,  9],\n",
       "       [10, 11, 12, 13, 14],\n",
       "       [15, 16, 17, 18, 19],\n",
       "       [20, 21, 22, 23, 24],\n",
       "       [25, 26, 27, 28, 29]])"
      ]
     },
     "metadata": {},
     "output_type": "display_data"
    },
    {
     "data": {
      "text/plain": [
       "array([ 0,  1,  2,  3,  4,  5,  6,  7,  8,  9, 10, 11, 12, 13, 14, 15, 16,\n",
       "       17, 18, 19, 20, 21, 22, 23, 24, 25, 26, 27, 28, 29])"
      ]
     },
     "metadata": {},
     "output_type": "display_data"
    },
    {
     "data": {
      "text/plain": [
       "array([[[ 0,  1,  2,  3,  4],\n",
       "        [ 5,  6,  7,  8,  9]],\n",
       "\n",
       "       [[10, 11, 12, 13, 14],\n",
       "        [15, 16, 17, 18, 19]],\n",
       "\n",
       "       [[20, 21, 22, 23, 24],\n",
       "        [25, 26, 27, 28, 29]]])"
      ]
     },
     "metadata": {},
     "output_type": "display_data"
    }
   ],
   "source": [
    "import numpy as np\n",
    "# 2차원을 1,3차원으로 변경하여 출력하세요\n",
    "ar2d=np.arange(30).reshape(6,5)\n",
    "ar2_1d=ar2d.reshape(-1)\n",
    "ar2_3d=ar2d.reshape(-1,2,5)\n",
    "display(ar2d)\n",
    "display(ar2_1d)\n",
    "display(ar2_3d)"
   ]
  },
  {
   "cell_type": "code",
   "execution_count": 191,
   "id": "e8a77d09",
   "metadata": {},
   "outputs": [
    {
     "name": "stdout",
     "output_type": "stream",
     "text": [
      "[[[ 0  1  2]\n",
      "  [ 3  4  5]\n",
      "  [ 6  7  8]]\n",
      "\n",
      " [[ 9 10 11]\n",
      "  [12 13 14]\n",
      "  [15 16 17]]\n",
      "\n",
      " [[18 19 20]\n",
      "  [21 22 23]\n",
      "  [24 25 26]]] 3 \n",
      "\n",
      "[ 0  1  2  3  4  5  6  7  8  9 10 11 12 13 14 15 16 17 18 19 20 21 22 23\n",
      " 24 25 26] 1 \n",
      "\n",
      "[[ 0  1  2  3  4  5  6  7  8]\n",
      " [ 9 10 11 12 13 14 15 16 17]\n",
      " [18 19 20 21 22 23 24 25 26]] 2\n"
     ]
    }
   ],
   "source": [
    "# 3차원을 1,2차원으로 변경하여 출력하세요.\n",
    "\n",
    "a3 = np.arange(27).reshape(3,3,3)\n",
    "print(a3,a3.ndim,'\\n')\n",
    "\n",
    "a1 = a3.reshape(-1)\n",
    "print(a1,a1.ndim,'\\n')\n",
    "\n",
    "a2 = a3.reshape(3,9)\n",
    "print(a2,a2.ndim)\n"
   ]
  },
  {
   "cell_type": "code",
   "execution_count": 34,
   "id": "1057a3e0",
   "metadata": {},
   "outputs": [
    {
     "data": {
      "text/plain": [
       "array([[[0, 1],\n",
       "        [2, 3]],\n",
       "\n",
       "       [[4, 5],\n",
       "        [6, 7]]])"
      ]
     },
     "metadata": {},
     "output_type": "display_data"
    },
    {
     "data": {
      "text/plain": [
       "array([0, 1, 2, 3, 4, 5, 6, 7])"
      ]
     },
     "metadata": {},
     "output_type": "display_data"
    },
    {
     "data": {
      "text/plain": [
       "array([[0, 1, 2, 3],\n",
       "       [4, 5, 6, 7]])"
      ]
     },
     "metadata": {},
     "output_type": "display_data"
    }
   ],
   "source": [
    "# 3차원을 1,2차원으로 변경하여 출력하세요.(데이터는 알아서 만들도록)\n",
    "ar3d=np.arange(8).reshape(2,2,2)\n",
    "ar3d_1=ar3d.reshape(-1)\n",
    "ar3d_2=ar3d.reshape(-1,4)\n",
    "display(ar3d)\n",
    "display(ar3d_1)\n",
    "display(ar3d_2)"
   ]
  },
  {
   "cell_type": "markdown",
   "id": "32573ca4",
   "metadata": {},
   "source": [
    "## 행렬\n",
    " 행렬의 종류\n",
    "\n",
    "https://math-development-geometry.tistory.com/52\n",
    "\n",
    "- 정방행렬은 행과 열의 수가 같은 행렬\n",
    "- 대각행렬은 주대각선 원소를 제외한 모든 원소들이 0인 정방행렬\n",
    "- 삼각행렬은 주대각선 원소를 기준으로 위 또는 아래에 있는 성분이 모두 0인 정방행렬\n",
    "- 항등행렬은 행렬 곱셈 연산에 항등원으로 작용하는 행렬\n",
    "- 영행렬은 모든 원소가 0인 행렬로 곱셈 연산에서 영원으로 작용하는 행렬\n",
    "- 전치행렬은 주대각선 원소를 기준으로 행과 열을 바꿔주는 행렬\n",
    "- 직교행렬은 행렬 A의 역행렬이 A의 전치행렬이고 A의 전치행렬과 A 행렬을 곱하였을때 항등행렬이 나오는 행렬\n"
   ]
  },
  {
   "cell_type": "markdown",
   "id": "90fd70d5",
   "metadata": {},
   "source": [
    "### 정방행렬"
   ]
  },
  {
   "cell_type": "code",
   "execution_count": 42,
   "id": "5b6e62f4",
   "metadata": {},
   "outputs": [
    {
     "data": {
      "text/plain": [
       "array([[7, 7],\n",
       "       [7, 7]])"
      ]
     },
     "execution_count": 42,
     "metadata": {},
     "output_type": "execute_result"
    }
   ],
   "source": [
    "# 정방행렬 행과 열의 수가 같은 행렬\n",
    "a = np.full((2,2),7) # (2행 2열),값 출력\n",
    "a"
   ]
  },
  {
   "cell_type": "markdown",
   "id": "3c9fb630",
   "metadata": {},
   "source": [
    "### 항등행렬"
   ]
  },
  {
   "cell_type": "code",
   "execution_count": 45,
   "id": "ccf2ead4",
   "metadata": {},
   "outputs": [
    {
     "data": {
      "text/plain": [
       "array([[1., 0., 0.],\n",
       "       [0., 1., 0.],\n",
       "       [0., 0., 1.]])"
      ]
     },
     "execution_count": 45,
     "metadata": {},
     "output_type": "execute_result"
    }
   ],
   "source": [
    "# 항등행렬, 단위행렬 : 대각선이 1인 행렬\n",
    "arr = np.eye(3) # (n) : 대각선의 숫자의 합\n",
    "arr # 3행 3열 3개 출력"
   ]
  },
  {
   "cell_type": "markdown",
   "id": "66d522c0",
   "metadata": {},
   "source": [
    "## linspace()"
   ]
  },
  {
   "cell_type": "markdown",
   "id": "e27d8831",
   "metadata": {},
   "source": [
    "구간 내 숫자 채우기\n",
    "- np.linspace(구간 시작점, 구간 끝점, 구간 내 숫자 개수)"
   ]
  },
  {
   "cell_type": "code",
   "execution_count": 46,
   "id": "67cb16b8",
   "metadata": {},
   "outputs": [
    {
     "data": {
      "text/plain": [
       "array([ 0.        ,  0.20408163,  0.40816327,  0.6122449 ,  0.81632653,\n",
       "        1.02040816,  1.2244898 ,  1.42857143,  1.63265306,  1.83673469,\n",
       "        2.04081633,  2.24489796,  2.44897959,  2.65306122,  2.85714286,\n",
       "        3.06122449,  3.26530612,  3.46938776,  3.67346939,  3.87755102,\n",
       "        4.08163265,  4.28571429,  4.48979592,  4.69387755,  4.89795918,\n",
       "        5.10204082,  5.30612245,  5.51020408,  5.71428571,  5.91836735,\n",
       "        6.12244898,  6.32653061,  6.53061224,  6.73469388,  6.93877551,\n",
       "        7.14285714,  7.34693878,  7.55102041,  7.75510204,  7.95918367,\n",
       "        8.16326531,  8.36734694,  8.57142857,  8.7755102 ,  8.97959184,\n",
       "        9.18367347,  9.3877551 ,  9.59183673,  9.79591837, 10.        ])"
      ]
     },
     "execution_count": 46,
     "metadata": {},
     "output_type": "execute_result"
    }
   ],
   "source": [
    "# 0~10을 균등하게 50개로 나누어줌\n",
    "np.linspace(0,10)"
   ]
  },
  {
   "cell_type": "code",
   "execution_count": 47,
   "id": "69cc971b",
   "metadata": {},
   "outputs": [
    {
     "data": {
      "text/plain": [
       "(array([0.  , 0.25, 0.5 , 0.75, 1.  ]), 0.25)"
      ]
     },
     "execution_count": 47,
     "metadata": {},
     "output_type": "execute_result"
    }
   ],
   "source": [
    "# 0 ~ 1 균등하게 5개로 나누어줌\n",
    "# retstep = True 배열의 간격을 출력해주며, retstep = False 디폴트값\n",
    "np.linspace(0,1,5, retstep = True)"
   ]
  },
  {
   "cell_type": "code",
   "execution_count": 48,
   "id": "1aaac9d3",
   "metadata": {},
   "outputs": [
    {
     "data": {
      "text/plain": [
       "[<matplotlib.lines.Line2D at 0x24c839a0fa0>]"
      ]
     },
     "execution_count": 48,
     "metadata": {},
     "output_type": "execute_result"
    },
    {
     "data": {
      "image/png": "[encoded data removed]",
      "text/plain": [
       "<Figure size 432x288 with 1 Axes>"
      ]
     },
     "metadata": {
      "needs_background": "light"
     },
     "output_type": "display_data"
    }
   ],
   "source": [
    "import matplotlib.pyplot as plt\n",
    "x = np.linspace(0,1)     # 0~1 50개로 나누어줌\n",
    "y = np.linspace(0,50)    # 0~50 50개로 나누어줌\n",
    "plt.plot(x,y,'o')"
   ]
  },
  {
   "cell_type": "code",
   "execution_count": 50,
   "id": "93575752",
   "metadata": {},
   "outputs": [
    {
     "data": {
      "text/plain": [
       "[<matplotlib.lines.Line2D at 0x24c88c8ec10>]"
      ]
     },
     "execution_count": 50,
     "metadata": {},
     "output_type": "execute_result"
    },
    {
     "data": {
      "image/png": "[encoded data removed]",
      "text/plain": [
       "<Figure size 432x288 with 1 Axes>"
      ]
     },
     "metadata": {
      "needs_background": "light"
     },
     "output_type": "display_data"
    }
   ],
   "source": [
    "x = np.linspace(0,20,20)     # 0~20 20개로 나누어줌\n",
    "y = np.linspace(0.1,1,20)    # 0.1~1 20개로 나누어줌\n",
    "plt.plot(x,y,'o')"
   ]
  },
  {
   "cell_type": "markdown",
   "id": "f585ee76",
   "metadata": {},
   "source": [
    "## logspace()"
   ]
  },
  {
   "cell_type": "code",
   "execution_count": 51,
   "id": "09343c67",
   "metadata": {},
   "outputs": [
    {
     "name": "stdout",
     "output_type": "stream",
     "text": [
      "0.0999999993810619\n",
      "1.0\n"
     ]
    },
    {
     "data": {
      "text/plain": [
       "array([ 1.25892541,  1.40400425,  1.565802  ,  1.74624535,  1.94748304,\n",
       "        2.1719114 ,  2.42220294,  2.70133812,  3.0126409 ,  3.35981829,\n",
       "        3.74700446,  4.17881006,  4.66037703,  5.19743987,  5.79639395,\n",
       "        6.46437163,  7.2093272 ,  8.04013161,  8.9666781 , 10.        ])"
      ]
     },
     "execution_count": 51,
     "metadata": {},
     "output_type": "execute_result"
    }
   ],
   "source": [
    "print(np.log10(1.25892541))\n",
    "print(np.log10(10))\n",
    "np.logspace(0.1,1,20)"
   ]
  },
  {
   "cell_type": "code",
   "execution_count": 54,
   "id": "2ca1cb28",
   "metadata": {},
   "outputs": [
    {
     "data": {
      "text/plain": [
       "[<matplotlib.lines.Line2D at 0x24c88cf8760>]"
      ]
     },
     "execution_count": 54,
     "metadata": {},
     "output_type": "execute_result"
    },
    {
     "data": {
      "image/png": "[encoded data removed]",
      "text/plain": [
       "<Figure size 432x288 with 1 Axes>"
      ]
     },
     "metadata": {
      "needs_background": "light"
     },
     "output_type": "display_data"
    }
   ],
   "source": [
    "x = np.linspace(0,20,20)\n",
    "y = np.logspace(0.1,1,20)\n",
    "plt.plot(x,y,'o')"
   ]
  },
  {
   "cell_type": "markdown",
   "id": "7cbe8de5",
   "metadata": {},
   "source": [
    "## 데이터 형태"
   ]
  },
  {
   "cell_type": "markdown",
   "id": "f46020c0",
   "metadata": {},
   "source": [
    "<img src = '데이터형태.jpg' STYLE = 'sidth:500px;'>"
   ]
  },
  {
   "cell_type": "code",
   "execution_count": null,
   "id": "e924d108",
   "metadata": {},
   "outputs": [],
   "source": [
    "# ndarray 데이터 형태 지정 및 변경"
   ]
  },
  {
   "cell_type": "code",
   "execution_count": 55,
   "id": "fc8cb7f8",
   "metadata": {},
   "outputs": [
    {
     "name": "stdout",
     "output_type": "stream",
     "text": [
      "int32\n"
     ]
    },
    {
     "data": {
      "text/plain": [
       "dtype('float64')"
      ]
     },
     "execution_count": 55,
     "metadata": {},
     "output_type": "execute_result"
    }
   ],
   "source": [
    "arr = np.array([1,2,3,4,5],)\n",
    "print(arr.dtype)\n",
    "float_arr = arr.astype(np.float64)\n",
    "float_arr.dtype"
   ]
  },
  {
   "cell_type": "code",
   "execution_count": 57,
   "id": "ca0ac581",
   "metadata": {},
   "outputs": [
    {
     "name": "stdout",
     "output_type": "stream",
     "text": [
      "[b'1' b'2' b'3' b'4' b'5'] |S1\n"
     ]
    }
   ],
   "source": [
    "numeric_string = np.array([1,2,3,4,5],dtype='S') # S : 바이트 문자열\n",
    "print(numeric_string,numeric_string.dtype)"
   ]
  },
  {
   "cell_type": "code",
   "execution_count": 60,
   "id": "2725020f",
   "metadata": {},
   "outputs": [
    {
     "name": "stdout",
     "output_type": "stream",
     "text": [
      "[1 2 3 4 5] int32\n"
     ]
    }
   ],
   "source": [
    "num = numeric_string.astype(int)\n",
    "print(num,num.dtype)"
   ]
  },
  {
   "cell_type": "markdown",
   "id": "40f98d39",
   "metadata": {},
   "source": [
    "## 과제(7/5)\n",
    "- 두개의 배열을 생성하여 4칙 연산을 수행하세요."
   ]
  },
  {
   "cell_type": "code",
   "execution_count": 336,
   "id": "f8bbdf50",
   "metadata": {},
   "outputs": [],
   "source": [
    "a = np.arange(1,5).reshape(2,2)\n",
    "b = np.arange(5,9).reshape(2,2)"
   ]
  },
  {
   "cell_type": "code",
   "execution_count": 337,
   "id": "1e500970",
   "metadata": {},
   "outputs": [
    {
     "data": {
      "text/plain": [
       "array([[1, 2],\n",
       "       [3, 4]])"
      ]
     },
     "execution_count": 337,
     "metadata": {},
     "output_type": "execute_result"
    }
   ],
   "source": [
    "a"
   ]
  },
  {
   "cell_type": "code",
   "execution_count": 338,
   "id": "3386f9bb",
   "metadata": {},
   "outputs": [
    {
     "data": {
      "text/plain": [
       "array([[5, 6],\n",
       "       [7, 8]])"
      ]
     },
     "execution_count": 338,
     "metadata": {},
     "output_type": "execute_result"
    }
   ],
   "source": [
    "b"
   ]
  },
  {
   "cell_type": "code",
   "execution_count": 339,
   "id": "7745ff3c",
   "metadata": {},
   "outputs": [
    {
     "data": {
      "text/plain": [
       "array([[ 6,  8],\n",
       "       [10, 12]])"
      ]
     },
     "execution_count": 339,
     "metadata": {},
     "output_type": "execute_result"
    }
   ],
   "source": [
    "a+b"
   ]
  },
  {
   "cell_type": "code",
   "execution_count": 340,
   "id": "20cd94ce",
   "metadata": {},
   "outputs": [
    {
     "data": {
      "text/plain": [
       "array([[-4, -4],\n",
       "       [-4, -4]])"
      ]
     },
     "execution_count": 340,
     "metadata": {},
     "output_type": "execute_result"
    }
   ],
   "source": [
    "a-b"
   ]
  },
  {
   "cell_type": "code",
   "execution_count": 341,
   "id": "bca67d1c",
   "metadata": {},
   "outputs": [
    {
     "data": {
      "text/plain": [
       "array([[ 5, 12],\n",
       "       [21, 32]])"
      ]
     },
     "execution_count": 341,
     "metadata": {},
     "output_type": "execute_result"
    }
   ],
   "source": [
    "a*b"
   ]
  },
  {
   "cell_type": "code",
   "execution_count": 342,
   "id": "71503d48",
   "metadata": {},
   "outputs": [
    {
     "data": {
      "text/plain": [
       "array([[19, 22],\n",
       "       [43, 50]])"
      ]
     },
     "execution_count": 342,
     "metadata": {},
     "output_type": "execute_result"
    }
   ],
   "source": [
    "np.dot(a,b)"
   ]
  },
  {
   "cell_type": "code",
   "execution_count": 343,
   "id": "65e55f24",
   "metadata": {},
   "outputs": [
    {
     "data": {
      "text/plain": [
       "array([[0.2       , 0.33333333],\n",
       "       [0.42857143, 0.5       ]])"
      ]
     },
     "execution_count": 343,
     "metadata": {},
     "output_type": "execute_result"
    }
   ],
   "source": [
    "a/b"
   ]
  },
  {
   "cell_type": "markdown",
   "id": "f0873df9",
   "metadata": {},
   "source": [
    "## 뷰(view)"
   ]
  },
  {
   "cell_type": "markdown",
   "id": "e29bec2f",
   "metadata": {},
   "source": [
    "넘파이의 ndarray(이하 배열)을 슬라이싱할 때 파이썬의 리스트(list)와 다르게 원본의 참조가 생성\n",
    "\n",
    "numpy는 대용량 데이터 처리를 염두에 두고 대용량 데이터의 슬라이싱이 빈번하게 일어나는 복잡한 코드를 실행시키는데 있어서 복사가 남발되면 메모리 문제를 일으킬 소지가 많기 때문에 이렇게 설계\n",
    "\n",
    "- 복사가 아니고 뷰(참조의 개념)이기 때문에 원본이 바뀌면 이 참조본도 따라서 바뀜\n",
    "- 리스트의 슬라이싱에서는 복사본이 생성되는 것과는 다른 동작이기 때문에 주의\n",
    "- 슬라이싱의 복사본을 생성하고 싶다면 copy() 속성을 이용\n",
    "\n",
    "http://taewan.kim/post/numpy_cheat_sheet/\n"
   ]
  },
  {
   "cell_type": "code",
   "execution_count": 62,
   "id": "ec7cf247",
   "metadata": {},
   "outputs": [
    {
     "name": "stdout",
     "output_type": "stream",
     "text": [
      "[1, 2, 3, 4, 5, 6, 7, 8, 9, 10]\n"
     ]
    }
   ],
   "source": [
    "li = list(np.arange(1,11))\n",
    "print(li)"
   ]
  },
  {
   "cell_type": "code",
   "execution_count": 63,
   "id": "c43ae3b0",
   "metadata": {},
   "outputs": [
    {
     "name": "stdout",
     "output_type": "stream",
     "text": [
      "[1, 2, 3, 4, 5]\n"
     ]
    }
   ],
   "source": [
    "li_slice = li[:5].copy() # index 5 지정\n",
    "print(li_slice)"
   ]
  },
  {
   "cell_type": "code",
   "execution_count": 64,
   "id": "3b004717",
   "metadata": {},
   "outputs": [
    {
     "name": "stdout",
     "output_type": "stream",
     "text": [
      "[1, 0, 3, 4, 5]\n",
      "[1, 2, 3, 4, 5, 6, 7, 8, 9, 10]\n"
     ]
    }
   ],
   "source": [
    "li_slice[1] = 0 # index 1번 0으로 변경\n",
    "print(li_slice)\n",
    "print(li)"
   ]
  },
  {
   "cell_type": "code",
   "execution_count": 66,
   "id": "511879a5",
   "metadata": {},
   "outputs": [
    {
     "name": "stdout",
     "output_type": "stream",
     "text": [
      "[0 1 2 3 4 5 6 7 8 9] \n",
      "\n",
      "[5 6 7] \n",
      "\n",
      "[12 12 12] \n",
      "\n",
      "[ 0  1  2  3  4 12 12 12  8  9]\n"
     ]
    }
   ],
   "source": [
    "# 뷰는 원본을 변경\n",
    "\n",
    "arr = np.arange(10)\n",
    "print(arr,'\\n')\n",
    "\n",
    "li_slice = arr[5:8]\n",
    "print(li_slice,'\\n')\n",
    "\n",
    "li_slice[:] = 12\n",
    "print(li_slice,'\\n')\n",
    "\n",
    "print(arr)"
   ]
  },
  {
   "cell_type": "markdown",
   "id": "924f152d",
   "metadata": {},
   "source": [
    "### 과제(7/5)\n",
    "- array2d에서 아래와 같이 출력하세요."
   ]
  },
  {
   "cell_type": "code",
   "execution_count": 4,
   "id": "766c3f50",
   "metadata": {},
   "outputs": [
    {
     "data": {
      "text/plain": [
       "array([[1, 2, 3],\n",
       "       [4, 5, 6],\n",
       "       [7, 8, 9]])"
      ]
     },
     "execution_count": 4,
     "metadata": {},
     "output_type": "execute_result"
    }
   ],
   "source": [
    "import numpy as np\n",
    "arr2d = np.arange(1,10).reshape(3,3)\n",
    "arr2d"
   ]
  },
  {
   "cell_type": "code",
   "execution_count": null,
   "id": "ee0ce9b0",
   "metadata": {},
   "outputs": [],
   "source": [
    "# 출력\n",
    "# [행의 범위, 열의 범위]\n",
    "\n",
    "[[1 2]\n",
    "[4 5]]\n",
    "\n",
    "(2가지 방법)\n",
    "[[4 5 6]\n",
    "[7 8 9]]\n",
    "\n",
    "[[1 2 3]\n",
    "[4 5 6]\n",
    "[7 8 9]]\n",
    "\n",
    "[[2 3]\n",
    "[5 6]]\n",
    "\n",
    "[1 4]\n"
   ]
  },
  {
   "cell_type": "code",
   "execution_count": 260,
   "id": "e458a06a",
   "metadata": {},
   "outputs": [
    {
     "data": {
      "text/plain": [
       "array([[1, 2],\n",
       "       [4, 5]])"
      ]
     },
     "execution_count": 260,
     "metadata": {},
     "output_type": "execute_result"
    }
   ],
   "source": [
    "arr2d[:2,:2]"
   ]
  },
  {
   "cell_type": "code",
   "execution_count": 274,
   "id": "42334114",
   "metadata": {},
   "outputs": [
    {
     "data": {
      "text/plain": [
       "array([[4, 5, 6],\n",
       "       [7, 8, 9]])"
      ]
     },
     "execution_count": 274,
     "metadata": {},
     "output_type": "execute_result"
    }
   ],
   "source": [
    "arr2d[1:3,0:3]"
   ]
  },
  {
   "cell_type": "code",
   "execution_count": 261,
   "id": "e90a9875",
   "metadata": {},
   "outputs": [
    {
     "data": {
      "text/plain": [
       "array([[4, 5, 6],\n",
       "       [7, 8, 9]])"
      ]
     },
     "execution_count": 261,
     "metadata": {},
     "output_type": "execute_result"
    }
   ],
   "source": [
    "arr2d[[1,2],:]"
   ]
  },
  {
   "cell_type": "code",
   "execution_count": 267,
   "id": "dbe1e5cc",
   "metadata": {},
   "outputs": [
    {
     "data": {
      "text/plain": [
       "array([[1, 2, 3],\n",
       "       [4, 5, 6],\n",
       "       [7, 8, 9]])"
      ]
     },
     "execution_count": 267,
     "metadata": {},
     "output_type": "execute_result"
    }
   ],
   "source": [
    "arr2d[:]"
   ]
  },
  {
   "cell_type": "code",
   "execution_count": 399,
   "id": "00f3b8b0",
   "metadata": {},
   "outputs": [
    {
     "data": {
      "text/plain": [
       "array([[1, 2, 3],\n",
       "       [4, 5, 6],\n",
       "       [7, 8, 9]])"
      ]
     },
     "execution_count": 399,
     "metadata": {},
     "output_type": "execute_result"
    }
   ],
   "source": [
    "arr2d[:,:]"
   ]
  },
  {
   "cell_type": "code",
   "execution_count": 262,
   "id": "50612cca",
   "metadata": {},
   "outputs": [
    {
     "data": {
      "text/plain": [
       "array([[2, 3],\n",
       "       [5, 6]])"
      ]
     },
     "execution_count": 262,
     "metadata": {},
     "output_type": "execute_result"
    }
   ],
   "source": [
    "arr2d[:2,1:]"
   ]
  },
  {
   "cell_type": "code",
   "execution_count": 297,
   "id": "db89d0f9",
   "metadata": {},
   "outputs": [
    {
     "data": {
      "text/plain": [
       "1"
      ]
     },
     "execution_count": 297,
     "metadata": {},
     "output_type": "execute_result"
    }
   ],
   "source": [
    "arr2d[0,0]"
   ]
  },
  {
   "cell_type": "code",
   "execution_count": 295,
   "id": "18cb6ce0",
   "metadata": {},
   "outputs": [
    {
     "data": {
      "text/plain": [
       "4"
      ]
     },
     "execution_count": 295,
     "metadata": {},
     "output_type": "execute_result"
    }
   ],
   "source": [
    "arr2d[1,0]"
   ]
  },
  {
   "cell_type": "code",
   "execution_count": 28,
   "id": "f42ce4c3",
   "metadata": {},
   "outputs": [
    {
     "name": "stdout",
     "output_type": "stream",
     "text": [
      "[1 4]\n",
      "[1, 4]\n"
     ]
    }
   ],
   "source": [
    "print(arr2d[0:2,0])\n",
    "print([arr2d[0][0], arr2d[1][0]])"
   ]
  },
  {
   "cell_type": "code",
   "execution_count": 6,
   "id": "a8fbfadd",
   "metadata": {},
   "outputs": [
    {
     "name": "stdout",
     "output_type": "stream",
     "text": [
      "[1 4]\n"
     ]
    }
   ],
   "source": [
    "print(arr2d[:2,0])"
   ]
  },
  {
   "cell_type": "markdown",
   "id": "91ad71c8",
   "metadata": {},
   "source": [
    "## indexing"
   ]
  },
  {
   "cell_type": "code",
   "execution_count": 68,
   "id": "be1da966",
   "metadata": {},
   "outputs": [
    {
     "name": "stdout",
     "output_type": "stream",
     "text": [
      "[[1, 2, 3], [4, 5, 6], [7, 8, 9]] <class 'list'>\n"
     ]
    }
   ],
   "source": [
    "# 배열을 리스트로 변환\n",
    "print(arr2d.tolist(),type(arr2d.tolist()))"
   ]
  },
  {
   "cell_type": "code",
   "execution_count": 72,
   "id": "6c2ea0ce",
   "metadata": {},
   "outputs": [
    {
     "name": "stdout",
     "output_type": "stream",
     "text": [
      "[1 2 3 4 5 6 7 8 9] \n",
      "\n",
      "[6 7 8 9] \n",
      "\n",
      "[False False False False False  True  True  True  True]\n"
     ]
    }
   ],
   "source": [
    "# boolean indexing\n",
    "arr1d = np.arange(1,10)\n",
    "print(arr1d,'\\n')\n",
    "arr1 = arr1d[arr1d > 5]\n",
    "print(arr1,'\\n')\n",
    "print(arr1d > 5)"
   ]
  },
  {
   "cell_type": "code",
   "execution_count": 73,
   "id": "7e858da7",
   "metadata": {},
   "outputs": [
    {
     "data": {
      "text/plain": [
       "array([6, 7, 8, 9])"
      ]
     },
     "execution_count": 73,
     "metadata": {},
     "output_type": "execute_result"
    }
   ],
   "source": [
    "arr1d[5:]"
   ]
  },
  {
   "cell_type": "code",
   "execution_count": 78,
   "id": "a4330719",
   "metadata": {},
   "outputs": [
    {
     "name": "stdout",
     "output_type": "stream",
     "text": [
      "[ 0  3  6  9 12 15 18 21 24 27 30 33 36 39 42 45 48 51 54 57 60 63 66 69\n",
      " 72 75 78 81 84 87 90 93 96 99] \n",
      "\n",
      "[ 3  6  9 12 15 18 21 24 27 30 33 36 39 42 45 48 51 54 57 60 63 66 69 72\n",
      " 75 78 81 84 87 90 93 96 99] \n",
      "\n",
      "[ 3  6  9 12 15 18 21 24 27 30 33 36 39 42 45 48 51 54 57 60 63 66 69 72\n",
      " 75 78 81 84 87 90 93 96 99] \n",
      "\n",
      "[ 3  6  9 12 15 18 21 24 27 30 33 36 39 42 45 48 51 54 57 60 63 66 69 72\n",
      " 75 78 81 84 87 90 93 96 99]\n"
     ]
    }
   ],
   "source": [
    "# Q. 1 ~100까지 정수에서 3의 배수인 것만을 출력(for문, 배열 2가지 방식)\n",
    "\n",
    "# 배열\n",
    "\n",
    "print(np.arange(0,100,3),'\\n')\n",
    "\n",
    "arr3 = np.arange(1, 100)\n",
    "arr4 = arr3[arr3 % 3 == 0]\n",
    "print(arr4, '\\n')\n",
    "\n",
    "print(np.arange(3,101,3),'\\n')\n",
    "\n",
    "arr = np.arange(1,100)\n",
    "arr = arr[arr % 3 ==0]\n",
    "print(arr)"
   ]
  },
  {
   "cell_type": "code",
   "execution_count": 74,
   "id": "8358b5a1",
   "metadata": {},
   "outputs": [
    {
     "name": "stdout",
     "output_type": "stream",
     "text": [
      "[0, 3, 6, 9, 12, 15, 18, 21, 24, 27, 30, 33, 36, 39, 42, 45, 48, 51, 54, 57, 60, 63, 66, 69, 72, 75, 78, 81, 84, 87, 90, 93, 96, 99]\n"
     ]
    }
   ],
   "source": [
    "# for문\n",
    "\n",
    "li=[]\n",
    "for i in range(100):\n",
    "    if i % 3 ==0:\n",
    "        li.append(i)\n",
    "print(li)"
   ]
  },
  {
   "cell_type": "code",
   "execution_count": 79,
   "id": "2987e865",
   "metadata": {},
   "outputs": [
    {
     "name": "stdout",
     "output_type": "stream",
     "text": [
      "[ 3  6  9 12 15 18 21 24 27 30 33 36 39 42 45 48 51 54 57 60 63 66 69 72\n",
      " 75 78 81 84 87 90 93 96 99]\n"
     ]
    }
   ],
   "source": [
    "# for문\n",
    "\n",
    "for i in arr:\n",
    "    if i % 3 == 0:\n",
    "        pass\n",
    "    else :\n",
    "        arr.drop(i, inplace= True)\n",
    "print(arr)"
   ]
  },
  {
   "cell_type": "markdown",
   "id": "928a2628",
   "metadata": {},
   "source": [
    "### 과제(7/5)\n",
    "- 1 ~ 100까지 정수에서 5의 배수이면서 2의 배수인 것만을 출력(for문, 배열 2가지 방식)\n",
    "- 표준정규분포로 구성된 5행 5열 다차원 배열을 생성하고 함수를 이용하여 평균과 표준편차를 구하세요.\n",
    "- 인덱싱을 이용하여 np.arange(10)을 내림차순으로 정렬하세요.\n",
    "- [1,2,0,0,4,0]에서 zero가 아닌 인덱스를 배열 형태로 출력하세요.\n",
    "- np.arange(15).reshape(3,5) 배열을 전치하여 출력하세요."
   ]
  },
  {
   "cell_type": "code",
   "execution_count": 374,
   "id": "da55e92e",
   "metadata": {},
   "outputs": [
    {
     "name": "stdout",
     "output_type": "stream",
     "text": [
      "[10, 20, 30, 40, 50, 60, 70, 80, 90, 100]\n"
     ]
    }
   ],
   "source": [
    "li=[]\n",
    "for i in range(1,101):\n",
    "    if (i % 5==0) & (i % 2==0):\n",
    "        li.append(i)\n",
    "print(li)"
   ]
  },
  {
   "cell_type": "code",
   "execution_count": 373,
   "id": "f533ed99",
   "metadata": {},
   "outputs": [
    {
     "name": "stdout",
     "output_type": "stream",
     "text": [
      "[ 10  20  30  40  50  60  70  80  90 100]\n"
     ]
    }
   ],
   "source": [
    "arr = np.arange(1,101)\n",
    "arr = arr[(arr % 5 ==0) & (arr % 2 ==0)]\n",
    "print(arr)"
   ]
  },
  {
   "cell_type": "code",
   "execution_count": 355,
   "id": "9a8d5ab1",
   "metadata": {
    "scrolled": true
   },
   "outputs": [
    {
     "name": "stdout",
     "output_type": "stream",
     "text": [
      "[[-1.89431807  0.83831078 -0.41631215  1.35692793 -1.19765944]\n",
      " [-1.67704565  1.01123333 -0.72812799 -0.21723523  0.53001676]\n",
      " [-1.89595312  0.32468541 -0.3276749   0.50306753  1.00554921]\n",
      " [ 0.57468582  1.55668004 -0.41891835 -0.40971692  1.11637454]\n",
      " [-0.2509793  -0.41522808 -0.63908615  2.49776759 -3.00512816]] \n",
      "\n",
      "-0.08712338250010862\n",
      "-0.25097929898844\n"
     ]
    }
   ],
   "source": [
    "# 표준정규분포로 구성된 5행 5열 다차원 배열을 생성하고\n",
    "arr = np.random.randn(5,5)\n",
    "print(arr,'\\n')\n",
    "\n",
    "# 함수를 이용하여 평균과 표준편차를 구하세요\n",
    "print(arr.mean())\n",
    "print(np.median(arr))"
   ]
  },
  {
   "cell_type": "code",
   "execution_count": null,
   "id": "1e827dbb",
   "metadata": {},
   "outputs": [],
   "source": [
    "# 인덱싱을 이용하여 np.arange(10)을 내림차순으로 정렬하세요"
   ]
  },
  {
   "cell_type": "code",
   "execution_count": 362,
   "id": "19010320",
   "metadata": {},
   "outputs": [
    {
     "name": "stdout",
     "output_type": "stream",
     "text": [
      "[0 1 2 3 4 5 6 7 8 9]\n",
      "[0 1 2 3 4 5 6 7 8 9]\n",
      "[9 8 7 6 5 4 3 2 1 0]\n"
     ]
    }
   ],
   "source": [
    "arr = np.arange(10)\n",
    "print(arr)\n",
    "print(np.sort(arr))\n",
    "print(np.sort(arr)[::-1])"
   ]
  },
  {
   "cell_type": "code",
   "execution_count": null,
   "id": "aaddd802",
   "metadata": {},
   "outputs": [],
   "source": [
    "# [1,2,0,0,4,0]에서 zero가 아닌 인덱스를 배열 형태로 출력하세요."
   ]
  },
  {
   "cell_type": "code",
   "execution_count": 406,
   "id": "c998a3a7",
   "metadata": {},
   "outputs": [
    {
     "data": {
      "text/plain": [
       "array([1, 2, 4])"
      ]
     },
     "execution_count": 406,
     "metadata": {},
     "output_type": "execute_result"
    }
   ],
   "source": [
    "li = [1,2,0,0,4,0]\n",
    "arr = np.array(li)\n",
    "arr= arr[arr != 0]\n",
    "arr"
   ]
  },
  {
   "cell_type": "code",
   "execution_count": null,
   "id": "b4b8e213",
   "metadata": {},
   "outputs": [],
   "source": [
    "# np.arange(15).reshape(3,5) 배열을 전치하여 출력하세요."
   ]
  },
  {
   "cell_type": "code",
   "execution_count": 365,
   "id": "e605bb72",
   "metadata": {
    "scrolled": true
   },
   "outputs": [
    {
     "data": {
      "text/plain": [
       "array([[ 0,  1,  2,  3,  4],\n",
       "       [ 5,  6,  7,  8,  9],\n",
       "       [10, 11, 12, 13, 14]])"
      ]
     },
     "execution_count": 365,
     "metadata": {},
     "output_type": "execute_result"
    }
   ],
   "source": [
    "arr = np.arange(15).reshape(3,5)\n",
    "arr"
   ]
  },
  {
   "cell_type": "code",
   "execution_count": 366,
   "id": "0eca9546",
   "metadata": {},
   "outputs": [
    {
     "data": {
      "text/plain": [
       "array([[ 0,  5, 10],\n",
       "       [ 1,  6, 11],\n",
       "       [ 2,  7, 12],\n",
       "       [ 3,  8, 13],\n",
       "       [ 4,  9, 14]])"
      ]
     },
     "execution_count": 366,
     "metadata": {},
     "output_type": "execute_result"
    }
   ],
   "source": [
    "arr.T"
   ]
  },
  {
   "cell_type": "code",
   "execution_count": 367,
   "id": "12c7123f",
   "metadata": {},
   "outputs": [
    {
     "data": {
      "text/plain": [
       "array([[ 0,  5, 10],\n",
       "       [ 1,  6, 11],\n",
       "       [ 2,  7, 12],\n",
       "       [ 3,  8, 13],\n",
       "       [ 4,  9, 14]])"
      ]
     },
     "execution_count": 367,
     "metadata": {},
     "output_type": "execute_result"
    }
   ],
   "source": [
    "np.transpose(arr)"
   ]
  },
  {
   "cell_type": "code",
   "execution_count": 368,
   "id": "fa248511",
   "metadata": {},
   "outputs": [
    {
     "data": {
      "text/plain": [
       "array([[ 0,  5, 10],\n",
       "       [ 1,  6, 11],\n",
       "       [ 2,  7, 12],\n",
       "       [ 3,  8, 13],\n",
       "       [ 4,  9, 14]])"
      ]
     },
     "execution_count": 368,
     "metadata": {},
     "output_type": "execute_result"
    }
   ],
   "source": [
    "np.swapaxes(arr,0,1)"
   ]
  },
  {
   "cell_type": "markdown",
   "id": "13e38f8a",
   "metadata": {},
   "source": [
    "## 행렬 전치 "
   ]
  },
  {
   "cell_type": "code",
   "execution_count": 80,
   "id": "a3a41497",
   "metadata": {},
   "outputs": [
    {
     "data": {
      "text/plain": [
       "array([[2, 4, 9, 6, 6],\n",
       "       [3, 3, 5, 6, 2],\n",
       "       [3, 6, 4, 5, 1],\n",
       "       [4, 6, 3, 3, 5],\n",
       "       [4, 1, 5, 1, 4]])"
      ]
     },
     "execution_count": 80,
     "metadata": {},
     "output_type": "execute_result"
    }
   ],
   "source": [
    "arr = np.random.randint(1,10,size=(5,5))\n",
    "arr"
   ]
  },
  {
   "cell_type": "code",
   "execution_count": null,
   "id": "54621625",
   "metadata": {},
   "outputs": [],
   "source": [
    "# 행렬의 행과 열 바꾸기"
   ]
  },
  {
   "cell_type": "code",
   "execution_count": 81,
   "id": "154a2dcd",
   "metadata": {},
   "outputs": [
    {
     "data": {
      "text/plain": [
       "array([[2, 3, 3, 4, 4],\n",
       "       [4, 3, 6, 6, 1],\n",
       "       [9, 5, 4, 3, 5],\n",
       "       [6, 6, 5, 3, 1],\n",
       "       [6, 2, 1, 5, 4]])"
      ]
     },
     "execution_count": 81,
     "metadata": {},
     "output_type": "execute_result"
    }
   ],
   "source": [
    "arr.T"
   ]
  },
  {
   "cell_type": "code",
   "execution_count": null,
   "id": "9682517a",
   "metadata": {},
   "outputs": [],
   "source": [
    "# np.transpose(A) 전치행렬"
   ]
  },
  {
   "cell_type": "code",
   "execution_count": 82,
   "id": "06e87f23",
   "metadata": {},
   "outputs": [
    {
     "data": {
      "text/plain": [
       "array([[2, 3, 3, 4, 4],\n",
       "       [4, 3, 6, 6, 1],\n",
       "       [9, 5, 4, 3, 5],\n",
       "       [6, 6, 5, 3, 1],\n",
       "       [6, 2, 1, 5, 4]])"
      ]
     },
     "execution_count": 82,
     "metadata": {},
     "output_type": "execute_result"
    }
   ],
   "source": [
    "np.transpose(arr)"
   ]
  },
  {
   "cell_type": "code",
   "execution_count": 83,
   "id": "f4967679",
   "metadata": {},
   "outputs": [
    {
     "data": {
      "text/plain": [
       "array([[173, 111, 102, 107,  87],\n",
       "       [111,  83,  79,  73,  54],\n",
       "       [102,  79,  87,  80,  47],\n",
       "       [107,  73,  80,  95,  60],\n",
       "       [ 87,  54,  47,  60,  59]])"
      ]
     },
     "execution_count": 83,
     "metadata": {},
     "output_type": "execute_result"
    }
   ],
   "source": [
    "# np.dot(A,B) 행렬 내적 / 행렬 곱\n",
    "np.dot(arr,arr.T)"
   ]
  },
  {
   "cell_type": "code",
   "execution_count": 84,
   "id": "91d7ab83",
   "metadata": {},
   "outputs": [
    {
     "data": {
      "text/plain": [
       "array([[173, 111, 102, 107,  87],\n",
       "       [111,  83,  79,  73,  54],\n",
       "       [102,  79,  87,  80,  47],\n",
       "       [107,  73,  80,  95,  60],\n",
       "       [ 87,  54,  47,  60,  59]])"
      ]
     },
     "execution_count": 84,
     "metadata": {},
     "output_type": "execute_result"
    }
   ],
   "source": [
    "# np.matmul() 두 배열의 행렬 곱 / 2차원 배열의 행렬 곱\n",
    "np.matmul(arr,arr.T)"
   ]
  },
  {
   "cell_type": "code",
   "execution_count": null,
   "id": "c0ab2fb4",
   "metadata": {},
   "outputs": [],
   "source": [
    "# 행렬의 축(행) 바꾸기\n",
    "np.transpose(a), np.swapaxes(a,0,1), a.T"
   ]
  },
  {
   "cell_type": "code",
   "execution_count": 88,
   "id": "7826e778",
   "metadata": {},
   "outputs": [
    {
     "name": "stdout",
     "output_type": "stream",
     "text": [
      "[[0 1 2]\n",
      " [3 4 5]] (2, 3) \n",
      "\n",
      "[[0 3]\n",
      " [1 4]\n",
      " [2 5]] (3, 2) \n",
      "\n",
      "[[0 3]\n",
      " [1 4]\n",
      " [2 5]] (3, 2) \n",
      "\n",
      "[[0 3]\n",
      " [1 4]\n",
      " [2 5]] (3, 2)\n"
     ]
    }
   ],
   "source": [
    "a = np.arange(6).reshape(2,3) # 2행 3열\n",
    "print(a,a.shape,'\\n')\n",
    "\n",
    "y = np.swapaxes(a,0,1) # 3행 2열로 swap\n",
    "print(y,y.shape,'\\n')\n",
    "\n",
    "y = np.transpose(a)\n",
    "print(y,y.shape,'\\n')\n",
    "\n",
    "y=a.T\n",
    "print(y,y.shape)"
   ]
  },
  {
   "cell_type": "markdown",
   "id": "f5ac3186",
   "metadata": {},
   "source": [
    "## 역행렬\n",
    "- 어떤 행렬 A와 곱했을 때 곱셈에 대한 항등원인 항등행렬 E가 나오는 행렬을 행렬 A의 역행렬이라 한다."
   ]
  },
  {
   "cell_type": "code",
   "execution_count": 89,
   "id": "31b5ce5a",
   "metadata": {},
   "outputs": [
    {
     "name": "stdout",
     "output_type": "stream",
     "text": [
      "[[1 2 1]\n",
      " [2 2 3]\n",
      " [1 3 1]] \n",
      "\n",
      "[[ 7. -1. -4.]\n",
      " [-1.  0.  1.]\n",
      " [-4.  1.  2.]]\n"
     ]
    }
   ],
   "source": [
    "# np.linalg.inv(x)\n",
    "# 역행렬은 n차정방행렬 Amn과의 곱이 항등행렬 또는 단위행렬 In이 되는 n차정방행렬을 말합니다.\n",
    "# A*B 와 B*A 모두 순서에 상관없이 곱했을 때 단위행렬이 나오는 n차정방행렬이 있다면 역행렬이 존재하는 것입니다.\n",
    "\n",
    "np.random.seed(0)\n",
    "mt1 = np.random.randint(1,4,size=(3,3))\n",
    "print(mt1,'\\n')\n",
    "mt2 = np.linalg.inv(mt1) # 역행렬, 행렬의 (곱하기)역을 계산한다.\n",
    "print(mt2)"
   ]
  },
  {
   "cell_type": "code",
   "execution_count": 90,
   "id": "0eeaa6fa",
   "metadata": {},
   "outputs": [
    {
     "data": {
      "text/plain": [
       "array([[1., 0., 0.],\n",
       "       [0., 1., 0.],\n",
       "       [0., 0., 1.]])"
      ]
     },
     "execution_count": 90,
     "metadata": {},
     "output_type": "execute_result"
    }
   ],
   "source": [
    "# 항등행렬\n",
    "np.dot(mt1,mt2)"
   ]
  },
  {
   "cell_type": "code",
   "execution_count": 94,
   "id": "108cd300",
   "metadata": {},
   "outputs": [
    {
     "name": "stdout",
     "output_type": "stream",
     "text": [
      "[[[0 1 2]\n",
      "  [3 4 5]]] (1, 2, 3)\n"
     ]
    }
   ],
   "source": [
    "# (0,1,2) 3,2,1차원\n",
    "a = np.arange(6).reshape(1,2,3) # 2행 3열 1개\n",
    "print(a,a.shape) "
   ]
  },
  {
   "cell_type": "code",
   "execution_count": 95,
   "id": "3453b2a4",
   "metadata": {},
   "outputs": [
    {
     "name": "stdout",
     "output_type": "stream",
     "text": [
      "[[[0 1 2]]\n",
      "\n",
      " [[3 4 5]]] (2, 1, 3) \n",
      "\n",
      "[[[0 1 2]]\n",
      "\n",
      " [[3 4 5]]] (2, 1, 3) \n",
      "\n"
     ]
    }
   ],
   "source": [
    "# 3차원과 2차원을 바꾸라는 의미(1,2,3) -> (2,1,3)\n",
    "y = np.transpose(a,(1,0,2))\n",
    "print(y,y.shape,'\\n')\n",
    "\n",
    "y = np.swapaxes(a,0,1)\n",
    "print(y,y.shape,'\\n')"
   ]
  },
  {
   "cell_type": "markdown",
   "id": "60550b60",
   "metadata": {},
   "source": [
    "### 과제(7/5)\n",
    "- (1,2,3) -> (2,3,1)으로 차원을 변경하세요."
   ]
  },
  {
   "cell_type": "code",
   "execution_count": 18,
   "id": "bc934b64",
   "metadata": {},
   "outputs": [
    {
     "name": "stdout",
     "output_type": "stream",
     "text": [
      "[[[0 1 2]\n",
      "  [3 4 5]]] (1, 2, 3)\n"
     ]
    }
   ],
   "source": [
    "a = np.arange(6).reshape(1,2,3)\n",
    "print(a,a.shape)"
   ]
  },
  {
   "cell_type": "code",
   "execution_count": 19,
   "id": "67fb8387",
   "metadata": {},
   "outputs": [
    {
     "name": "stdout",
     "output_type": "stream",
     "text": [
      "[[[0]\n",
      "  [1]\n",
      "  [2]]\n",
      "\n",
      " [[3]\n",
      "  [4]\n",
      "  [5]]] (2, 3, 1) Wn\n"
     ]
    }
   ],
   "source": [
    "y = np.transpose(a,(1,2,0))\n",
    "print(y,y.shape,'Wn')"
   ]
  },
  {
   "cell_type": "code",
   "execution_count": 20,
   "id": "fa2e7a60",
   "metadata": {},
   "outputs": [
    {
     "name": "stdout",
     "output_type": "stream",
     "text": [
      "[[[0 1 2]]\n",
      "\n",
      " [[3 4 5]]] (2, 1, 3) Wn\n"
     ]
    }
   ],
   "source": [
    "z = np.swapaxes(a,0,1)\n",
    "print(z,z.shape,'Wn')"
   ]
  },
  {
   "cell_type": "code",
   "execution_count": 21,
   "id": "b02098d0",
   "metadata": {},
   "outputs": [
    {
     "name": "stdout",
     "output_type": "stream",
     "text": [
      "[[[0]\n",
      "  [1]\n",
      "  [2]]\n",
      "\n",
      " [[3]\n",
      "  [4]\n",
      "  [5]]] (2, 3, 1) Wn\n"
     ]
    }
   ],
   "source": [
    "z = np.swapaxes(z,1,2)\n",
    "print(z,z.shape,'Wn')"
   ]
  },
  {
   "cell_type": "markdown",
   "id": "49d8d539",
   "metadata": {},
   "source": [
    "## numpy 제공 함수"
   ]
  },
  {
   "cell_type": "code",
   "execution_count": 110,
   "id": "23d69a43",
   "metadata": {},
   "outputs": [
    {
     "name": "stdout",
     "output_type": "stream",
     "text": [
      "[[1 2 3]\n",
      " [4 5 6]\n",
      " [7 8 9]] \n",
      "\n",
      "[ 1  3  6 10 15 21 28 36 45] \n",
      "\n"
     ]
    }
   ],
   "source": [
    "arr = np.arange(1,10).reshape(3,3)\n",
    "print(arr,'\\n')\n",
    "print(arr.cumsum(),'\\n') # cumsum 누적 합계"
   ]
  },
  {
   "cell_type": "code",
   "execution_count": 112,
   "id": "003260dc",
   "metadata": {},
   "outputs": [
    {
     "name": "stdout",
     "output_type": "stream",
     "text": [
      "[[ 1  2  3]\n",
      " [ 5  7  9]\n",
      " [12 15 18]]\n"
     ]
    }
   ],
   "source": [
    "print(arr.cumsum(axis=0)) # 행의 방향으로 cumsum"
   ]
  },
  {
   "cell_type": "code",
   "execution_count": 113,
   "id": "f68e0058",
   "metadata": {},
   "outputs": [
    {
     "name": "stdout",
     "output_type": "stream",
     "text": [
      "[  6 120 504]\n"
     ]
    }
   ],
   "source": [
    "print(arr.prod(axis=1)) # 열의 방향으로 곱"
   ]
  },
  {
   "cell_type": "code",
   "execution_count": 114,
   "id": "3820985f",
   "metadata": {},
   "outputs": [
    {
     "name": "stdout",
     "output_type": "stream",
     "text": [
      "[[  1   2   6]\n",
      " [  4  20 120]\n",
      " [  7  56 504]]\n"
     ]
    }
   ],
   "source": [
    "print(arr.cumprod(axis=1)) # 열의 방향으로 누적으로 곱셈"
   ]
  },
  {
   "cell_type": "code",
   "execution_count": 126,
   "id": "756fb3d5",
   "metadata": {},
   "outputs": [
    {
     "name": "stdout",
     "output_type": "stream",
     "text": [
      "[1 2 0] \n",
      "\n",
      "[1 2 0]\n"
     ]
    }
   ],
   "source": [
    "# 나머지\n",
    "v1 = np.array([15,30,45])\n",
    "v2 = np.array([2,7,9])\n",
    "print(np.mod(v1,v2),'\\n')\n",
    "print(np.remainder(v1,v2))"
   ]
  },
  {
   "cell_type": "code",
   "execution_count": 127,
   "id": "9cd96d40",
   "metadata": {},
   "outputs": [
    {
     "name": "stdout",
     "output_type": "stream",
     "text": [
      "[1.17647059 0.54054054 1.         0.01      ]\n"
     ]
    }
   ],
   "source": [
    "# 역수\n",
    "value = np.array([0.85,1.85,1,100])\n",
    "print(np.reciprocal(value))"
   ]
  },
  {
   "cell_type": "code",
   "execution_count": 129,
   "id": "d6fb7779",
   "metadata": {},
   "outputs": [
    {
     "name": "stdout",
     "output_type": "stream",
     "text": [
      "[  4 100 225] \n",
      "\n",
      "[   2  100 3375]\n"
     ]
    }
   ],
   "source": [
    "# 승수\n",
    "v1 = np.array([2,10,15])\n",
    "v2 = np.array([1,2,3])\n",
    "print(np.power(v1,2),'\\n') # v1 의 n 제곱\n",
    "print(np.power(v1,v2))    # v1의 v2 제곱"
   ]
  },
  {
   "cell_type": "code",
   "execution_count": 12,
   "id": "2a6ed82e",
   "metadata": {},
   "outputs": [
    {
     "data": {
      "text/plain": [
       "array([-0.363107  ,  1.50018162, -0.64036617, -0.14582776, -0.06003001,\n",
       "        0.75590408,  0.16916208, -0.12742475, -0.32447197, -0.73282231])"
      ]
     },
     "execution_count": 12,
     "metadata": {},
     "output_type": "execute_result"
    }
   ],
   "source": [
    "arr = np.random.randn(10)\n",
    "arr"
   ]
  },
  {
   "cell_type": "code",
   "execution_count": 13,
   "id": "1eba888b",
   "metadata": {},
   "outputs": [
    {
     "data": {
      "text/plain": [
       "3"
      ]
     },
     "execution_count": 13,
     "metadata": {},
     "output_type": "execute_result"
    }
   ],
   "source": [
    "# 양수인 원소의 개수\n",
    "(arr > 0).sum()"
   ]
  },
  {
   "cell_type": "code",
   "execution_count": 131,
   "id": "e8c4f767",
   "metadata": {},
   "outputs": [
    {
     "data": {
      "text/plain": [
       "True"
      ]
     },
     "execution_count": 131,
     "metadata": {},
     "output_type": "execute_result"
    }
   ],
   "source": [
    "# any 메서드 : 하나라도 True를 포함할 경우 True를 반환\n",
    "bools = np.array([False,False,True,True])\n",
    "bools.any()"
   ]
  },
  {
   "cell_type": "code",
   "execution_count": 132,
   "id": "14dc915e",
   "metadata": {},
   "outputs": [
    {
     "data": {
      "text/plain": [
       "False"
      ]
     },
     "execution_count": 132,
     "metadata": {},
     "output_type": "execute_result"
    }
   ],
   "source": [
    "# all 메서드 : 전부다 True일 경우 True를 반환\n",
    "bools.all()"
   ]
  },
  {
   "cell_type": "code",
   "execution_count": 133,
   "id": "220d7fbb",
   "metadata": {},
   "outputs": [
    {
     "name": "stdout",
     "output_type": "stream",
     "text": [
      "[[ 0.3130677  -0.85409574 -2.55298982  0.6536186 ]\n",
      " [ 0.8644362  -0.74216502  2.26975462 -1.45436567]\n",
      " [ 0.04575852 -0.18718385  1.53277921  1.46935877]\n",
      " [ 0.15494743  0.37816252 -0.88778575 -1.98079647]] \n",
      "\n"
     ]
    },
    {
     "data": {
      "text/plain": [
       "array([[ 2, -2, -2,  2],\n",
       "       [ 2, -2,  2, -2],\n",
       "       [ 2, -2,  2,  2],\n",
       "       [ 2,  2, -2, -2]])"
      ]
     },
     "execution_count": 133,
     "metadata": {},
     "output_type": "execute_result"
    }
   ],
   "source": [
    "# numpy.where 함수는 삼항식의 벡터화 버전\n",
    "arr = np.random.randn(4,4)\n",
    "print(arr,'\\n')\n",
    "np.where(arr > 0, 2, -2) # 조건문"
   ]
  },
  {
   "cell_type": "code",
   "execution_count": 135,
   "id": "1b3b1e70",
   "metadata": {},
   "outputs": [
    {
     "data": {
      "text/plain": [
       "array([[ 2.        , -0.85409574, -2.55298982,  2.        ],\n",
       "       [ 2.        , -0.74216502,  2.        , -1.45436567],\n",
       "       [ 2.        , -0.18718385,  2.        ,  2.        ],\n",
       "       [ 2.        ,  2.        , -0.88778575, -1.98079647]])"
      ]
     },
     "execution_count": 135,
     "metadata": {},
     "output_type": "execute_result"
    }
   ],
   "source": [
    "# Q. arr의 모든 양수를 2로 변경하세요.\n",
    "np.where(arr>0,2,arr)"
   ]
  },
  {
   "cell_type": "code",
   "execution_count": 136,
   "id": "60afc3fa",
   "metadata": {},
   "outputs": [
    {
     "name": "stdout",
     "output_type": "stream",
     "text": [
      "[[1 2 3]\n",
      " [1 2 3]\n",
      " [1 2 3]]\n",
      "[[1 1 1]\n",
      " [2 2 2]\n",
      " [3 3 3]]\n"
     ]
    }
   ],
   "source": [
    "# meshgrid 함수 : 2개의 1차원 배열을 받아서 가능한 모든 (x,y) 짝을 만들 수 있는 2차원 배열 반환\n",
    "x = np.arange(1,4)\n",
    "y = np.arange(1,4)\n",
    "xs,ys = np.meshgrid(x,y) # 직사각형 격자를 만드는 함수\n",
    "print(xs)\n",
    "print(ys)"
   ]
  },
  {
   "cell_type": "code",
   "execution_count": 138,
   "id": "ff320a67",
   "metadata": {},
   "outputs": [
    {
     "name": "stdout",
     "output_type": "stream",
     "text": [
      "[54 13 43 85 76 69  7 69 48  4] \n",
      "\n",
      "[ 4  7 13 43 48 54 69 69 76 85] \n",
      "\n",
      "[54 13 43 85 76 69  7 69 48  4]\n"
     ]
    }
   ],
   "source": [
    "# np.sort() : 복사본을 반환\n",
    "arr = np.random.randint(1,100,size=10)\n",
    "print(arr,'\\n')\n",
    "print(np.sort(arr),'\\n')\n",
    "print(arr)"
   ]
  },
  {
   "cell_type": "code",
   "execution_count": 139,
   "id": "3dcc92bf",
   "metadata": {},
   "outputs": [
    {
     "data": {
      "text/plain": [
       "array([ 4,  7, 13, 43, 48, 54, 69, 69, 76, 85])"
      ]
     },
     "execution_count": 139,
     "metadata": {},
     "output_type": "execute_result"
    }
   ],
   "source": [
    "# sort 저장\n",
    "sorted = np.sort(arr)\n",
    "sorted"
   ]
  },
  {
   "cell_type": "code",
   "execution_count": 140,
   "id": "2ec813fb",
   "metadata": {},
   "outputs": [
    {
     "name": "stdout",
     "output_type": "stream",
     "text": [
      "[[ 7  1]\n",
      " [ 8 12]] \n",
      "\n",
      "[[ 8 12]\n",
      " [ 1  7]]\n"
     ]
    }
   ],
   "source": [
    "arr2d = np.array([[8,12],\n",
    "                [7,1]])\n",
    "sort_arr2d_s0 = np.sort(arr2d, axis=0)\n",
    "print(sort_arr2d_s0,'\\n')\n",
    "sort_arr2d_s1 = np.sort(arr2d, axis=1)\n",
    "print(sort_arr2d_s1)"
   ]
  },
  {
   "cell_type": "code",
   "execution_count": 142,
   "id": "ddd6a5f3",
   "metadata": {},
   "outputs": [
    {
     "name": "stdout",
     "output_type": "stream",
     "text": [
      "[ 1.50944508  1.06777513 -0.68658948  0.01487332 -0.3756659  -0.03822364] \n",
      "\n"
     ]
    },
    {
     "data": {
      "text/plain": [
       "array([-0.68658948, -0.3756659 , -0.03822364,  0.01487332,  1.06777513,\n",
       "        1.50944508])"
      ]
     },
     "execution_count": 142,
     "metadata": {},
     "output_type": "execute_result"
    }
   ],
   "source": [
    "# ndarray.sort() = 배열.sort() : 원본에 반영\n",
    "arr = np.random.randn(6)\n",
    "print(arr,'\\n')\n",
    "arr.sort()\n",
    "arr"
   ]
  },
  {
   "cell_type": "code",
   "execution_count": 144,
   "id": "13f404d3",
   "metadata": {},
   "outputs": [
    {
     "name": "stdout",
     "output_type": "stream",
     "text": [
      "[[-2.15367459 -0.41611148 -1.07089699]\n",
      " [ 0.22113881 -1.12305712 -1.05075796]\n",
      " [ 1.01207905  1.54371643 -0.40211489]\n",
      " [ 0.8647491  -0.22686923  0.81116027]\n",
      " [ 0.28779461 -0.53846816  1.9084621 ]] \n",
      "\n"
     ]
    },
    {
     "data": {
      "text/plain": [
       "array([[-2.15367459, -1.07089699, -0.41611148],\n",
       "       [-1.12305712, -1.05075796,  0.22113881],\n",
       "       [-0.40211489,  1.01207905,  1.54371643],\n",
       "       [-0.22686923,  0.81116027,  0.8647491 ],\n",
       "       [-0.53846816,  0.28779461,  1.9084621 ]])"
      ]
     },
     "execution_count": 144,
     "metadata": {},
     "output_type": "execute_result"
    }
   ],
   "source": [
    "arr = np.random.randn(5,3)\n",
    "print(arr,'\\n')\n",
    "arr.sort(1) # 1 : 열방향\n",
    "arr"
   ]
  },
  {
   "cell_type": "code",
   "execution_count": 145,
   "id": "96157f92",
   "metadata": {},
   "outputs": [
    {
     "name": "stdout",
     "output_type": "stream",
     "text": [
      "[[-0.475776    1.44073112 -1.14907568]\n",
      " [ 0.80571455  1.75610703  0.97297991]\n",
      " [-1.55111911  0.19114348  1.60477607]\n",
      " [-1.42002593 -2.44378268 -2.05633855]\n",
      " [-0.99225755  1.01128532  1.40044008]] \n",
      "\n"
     ]
    },
    {
     "data": {
      "text/plain": [
       "array([[-1.55111911, -2.44378268, -2.05633855],\n",
       "       [-1.42002593,  0.19114348, -1.14907568],\n",
       "       [-0.99225755,  1.01128532,  0.97297991],\n",
       "       [-0.475776  ,  1.44073112,  1.40044008],\n",
       "       [ 0.80571455,  1.75610703,  1.60477607]])"
      ]
     },
     "execution_count": 145,
     "metadata": {},
     "output_type": "execute_result"
    }
   ],
   "source": [
    "# default는 열기준으로 정렬\n",
    "arr = np.random.randn(5,3)\n",
    "print(arr,'\\n')\n",
    "arr.sort(0) # 0 : 행방향\n",
    "arr"
   ]
  },
  {
   "cell_type": "code",
   "execution_count": 147,
   "id": "90c3a164",
   "metadata": {},
   "outputs": [
    {
     "name": "stdout",
     "output_type": "stream",
     "text": [
      "[3 1 9 5] \n",
      "\n",
      "[1 0 3 2]\n"
     ]
    }
   ],
   "source": [
    "# np.argsort() : 정렬된 행렬의 인덱스를 반환 - 기존 원본 행렬의 원소에 대한 인덱스를 필요로 할 때\n",
    "org_array = np.array([3,1,9,5])\n",
    "sort_indices = np.argsort(org_array)\n",
    "print(org_array,'\\n')\n",
    "print(sort_indices)"
   ]
  },
  {
   "cell_type": "markdown",
   "id": "5a9639b0",
   "metadata": {},
   "source": [
    "## 과제(7/5)\n",
    "np.ones((10,10))을 아래와 같이 출력하세요."
   ]
  },
  {
   "cell_type": "code",
   "execution_count": null,
   "id": "01ff85d8",
   "metadata": {},
   "outputs": [],
   "source": [
    "array([[1., 1., 1., 1., 1., 1., 1., 1., 1., 1.],\n",
    "       [1., 0., 0., 0., 0., 0., 0., 0., 0., 1.],\n",
    "       [1., 0., 0., 0., 0., 0., 0., 0., 0., 1.],\n",
    "       [1., 0., 0., 0., 0., 0., 0., 0., 0., 1.],\n",
    "       [1., 0., 0., 0., 0., 0., 0., 0., 0., 1.],\n",
    "       [1., 0., 0., 0., 0., 0., 0., 0., 0., 1.],\n",
    "       [1., 0., 0., 0., 0., 0., 0., 0., 0., 1.],\n",
    "       [1., 0., 0., 0., 0., 0., 0., 0., 0., 1.],\n",
    "       [1., 0., 0., 0., 0., 0., 0., 0., 0., 1.],\n",
    "       [1., 1., 1., 1., 1., 1., 1., 1., 1., 1.]])\n"
   ]
  },
  {
   "cell_type": "code",
   "execution_count": 29,
   "id": "9fcdfd83",
   "metadata": {},
   "outputs": [
    {
     "data": {
      "text/plain": [
       "array([[1., 1., 1., 1., 1., 1., 1., 1., 1., 1.],\n",
       "       [1., 0., 0., 0., 0., 0., 0., 0., 0., 1.],\n",
       "       [1., 0., 0., 0., 0., 0., 0., 0., 0., 1.],\n",
       "       [1., 0., 0., 0., 0., 0., 0., 0., 0., 1.],\n",
       "       [1., 0., 0., 0., 0., 0., 0., 0., 0., 1.],\n",
       "       [1., 0., 0., 0., 0., 0., 0., 0., 0., 1.],\n",
       "       [1., 0., 0., 0., 0., 0., 0., 0., 0., 1.],\n",
       "       [1., 0., 0., 0., 0., 0., 0., 0., 0., 1.],\n",
       "       [1., 0., 0., 0., 0., 0., 0., 0., 0., 1.],\n",
       "       [1., 1., 1., 1., 1., 1., 1., 1., 1., 1.]])"
      ]
     },
     "execution_count": 29,
     "metadata": {},
     "output_type": "execute_result"
    }
   ],
   "source": [
    "arr = np.ones((10,10))\n",
    "arr[1:9,1:9] = 0\n",
    "arr"
   ]
  },
  {
   "cell_type": "code",
   "execution_count": 22,
   "id": "b9eaae60",
   "metadata": {},
   "outputs": [
    {
     "data": {
      "text/plain": [
       "array([[1., 1., 1., 1., 1., 1., 1., 1., 1., 1.],\n",
       "       [1., 1., 1., 1., 1., 1., 1., 1., 1., 1.],\n",
       "       [1., 1., 1., 1., 1., 1., 1., 1., 1., 1.],\n",
       "       [1., 1., 1., 1., 1., 1., 1., 1., 1., 1.],\n",
       "       [1., 1., 1., 1., 1., 1., 1., 1., 1., 1.],\n",
       "       [1., 1., 1., 1., 1., 1., 1., 1., 1., 1.],\n",
       "       [1., 1., 1., 1., 1., 1., 1., 1., 1., 1.],\n",
       "       [1., 1., 1., 1., 1., 1., 1., 1., 1., 1.],\n",
       "       [1., 1., 1., 1., 1., 1., 1., 1., 1., 1.],\n",
       "       [1., 1., 1., 1., 1., 1., 1., 1., 1., 1.]])"
      ]
     },
     "execution_count": 22,
     "metadata": {},
     "output_type": "execute_result"
    }
   ],
   "source": [
    "a = np.ones((10,10))\n",
    "a"
   ]
  },
  {
   "cell_type": "code",
   "execution_count": 23,
   "id": "712d35dd",
   "metadata": {},
   "outputs": [
    {
     "data": {
      "text/plain": [
       "array([[0., 0., 0., 0., 0., 0., 0., 0.],\n",
       "       [0., 0., 0., 0., 0., 0., 0., 0.],\n",
       "       [0., 0., 0., 0., 0., 0., 0., 0.],\n",
       "       [0., 0., 0., 0., 0., 0., 0., 0.],\n",
       "       [0., 0., 0., 0., 0., 0., 0., 0.],\n",
       "       [0., 0., 0., 0., 0., 0., 0., 0.],\n",
       "       [0., 0., 0., 0., 0., 0., 0., 0.],\n",
       "       [0., 0., 0., 0., 0., 0., 0., 0.]])"
      ]
     },
     "execution_count": 23,
     "metadata": {},
     "output_type": "execute_result"
    }
   ],
   "source": [
    "z = np.zeros((8,8))\n",
    "z"
   ]
  },
  {
   "cell_type": "code",
   "execution_count": 26,
   "id": "1c38909a",
   "metadata": {},
   "outputs": [
    {
     "data": {
      "text/plain": [
       "array([[1., 1., 1., 1., 1., 1., 1., 1., 1., 1.],\n",
       "       [1., 0., 0., 0., 0., 0., 0., 0., 0., 1.],\n",
       "       [1., 0., 0., 0., 0., 0., 0., 0., 0., 1.],\n",
       "       [1., 0., 0., 0., 0., 0., 0., 0., 0., 1.],\n",
       "       [1., 0., 0., 0., 0., 0., 0., 0., 0., 1.],\n",
       "       [1., 0., 0., 0., 0., 0., 0., 0., 0., 1.],\n",
       "       [1., 0., 0., 0., 0., 0., 0., 0., 0., 1.],\n",
       "       [1., 0., 0., 0., 0., 0., 0., 0., 0., 1.],\n",
       "       [1., 0., 0., 0., 0., 0., 0., 0., 0., 1.],\n",
       "       [1., 1., 1., 1., 1., 1., 1., 1., 1., 1.]])"
      ]
     },
     "execution_count": 26,
     "metadata": {},
     "output_type": "execute_result"
    }
   ],
   "source": [
    "a[1:-1, 1:-1] = z\n",
    "a"
   ]
  },
  {
   "cell_type": "code",
   "execution_count": 30,
   "id": "b351efb2",
   "metadata": {},
   "outputs": [
    {
     "data": {
      "text/plain": [
       "array([[1., 1., 1., 1., 1., 1., 1., 1., 1., 1.],\n",
       "       [1., 1., 1., 1., 1., 1., 1., 1., 1., 1.],\n",
       "       [1., 1., 1., 1., 1., 1., 1., 1., 1., 1.],\n",
       "       [1., 1., 1., 1., 1., 1., 1., 1., 1., 1.],\n",
       "       [1., 1., 1., 1., 1., 1., 1., 1., 1., 1.],\n",
       "       [1., 1., 1., 1., 1., 1., 1., 1., 1., 1.],\n",
       "       [1., 1., 1., 1., 1., 1., 1., 1., 1., 1.],\n",
       "       [1., 1., 1., 1., 1., 1., 1., 1., 1., 1.],\n",
       "       [1., 1., 1., 1., 1., 1., 1., 1., 1., 1.],\n",
       "       [1., 1., 1., 1., 1., 1., 1., 1., 1., 1.]])"
      ]
     },
     "execution_count": 30,
     "metadata": {},
     "output_type": "execute_result"
    }
   ],
   "source": [
    "a = np.ones((10,10))\n",
    "a"
   ]
  },
  {
   "cell_type": "code",
   "execution_count": null,
   "id": "31f4cbff",
   "metadata": {},
   "outputs": [],
   "source": [
    "# Q. np.zeros((8,8))을 이용해서 아래와 같이 출력하세요."
   ]
  },
  {
   "cell_type": "code",
   "execution_count": null,
   "id": "4aed615e",
   "metadata": {},
   "outputs": [],
   "source": [
    "array([[0, 1, 0, 1, 0, 1, 0, 1],\n",
    "       [1, 0, 1, 0, 1, 0, 1, 0],\n",
    "       [0, 1, 0, 1, 0, 1, 0, 1],\n",
    "       [1, 0, 1, 0, 1, 0, 1, 0],\n",
    "       [0, 1, 0, 1, 0, 1, 0, 1],\n",
    "       [1, 0, 1, 0, 1, 0, 1, 0],\n",
    "       [0, 1, 0, 1, 0, 1, 0, 1],\n",
    "       [1, 0, 1, 0, 1, 0, 1, 0]])"
   ]
  },
  {
   "cell_type": "code",
   "execution_count": 25,
   "id": "7915083e",
   "metadata": {},
   "outputs": [],
   "source": [
    "z = np.zeros((8,8))"
   ]
  },
  {
   "cell_type": "code",
   "execution_count": 27,
   "id": "37894168",
   "metadata": {},
   "outputs": [
    {
     "data": {
      "text/plain": [
       "array([[0., 1., 0., 1., 0., 1., 0., 1.],\n",
       "       [1., 0., 1., 0., 1., 0., 1., 0.],\n",
       "       [0., 1., 0., 1., 0., 1., 0., 1.],\n",
       "       [1., 0., 1., 0., 1., 0., 1., 0.],\n",
       "       [0., 1., 0., 1., 0., 1., 0., 1.],\n",
       "       [1., 0., 1., 0., 1., 0., 1., 0.],\n",
       "       [0., 1., 0., 1., 0., 1., 0., 1.],\n",
       "       [1., 0., 1., 0., 1., 0., 1., 0.]])"
      ]
     },
     "execution_count": 27,
     "metadata": {},
     "output_type": "execute_result"
    }
   ],
   "source": [
    "z[1::2,::2] = 1\n",
    "z[0::2,1::2] = 1\n",
    "z"
   ]
  },
  {
   "cell_type": "code",
   "execution_count": 38,
   "id": "5b184cb1",
   "metadata": {
    "scrolled": true
   },
   "outputs": [
    {
     "data": {
      "text/plain": [
       "array([[0, 1, 0, 1, 0, 1, 0, 1],\n",
       "       [1, 0, 1, 0, 1, 0, 1, 0],\n",
       "       [0, 1, 0, 1, 0, 1, 0, 1],\n",
       "       [1, 0, 1, 0, 1, 0, 1, 0],\n",
       "       [0, 1, 0, 1, 0, 1, 0, 1],\n",
       "       [1, 0, 1, 0, 1, 0, 1, 0],\n",
       "       [0, 1, 0, 1, 0, 1, 0, 1],\n",
       "       [1, 0, 1, 0, 1, 0, 1, 0]])"
      ]
     },
     "execution_count": 38,
     "metadata": {},
     "output_type": "execute_result"
    }
   ],
   "source": [
    "# np.tile(A, repeat_shape) A 배열이 repeat_shape 형태로 반복되어 쌓인 형태\n",
    "z = np.tile(np.array([[0,1],[1,0]]),(4,4))\n",
    "z"
   ]
  },
  {
   "cell_type": "markdown",
   "id": "4caceb16",
   "metadata": {},
   "source": [
    "## 과제(7/6)\n",
    "\n",
    "- 1 ~ 100을 아래와 같이 출력하세요."
   ]
  },
  {
   "cell_type": "code",
   "execution_count": null,
   "id": "c4eb9280",
   "metadata": {},
   "outputs": [],
   "source": [
    "[[  1   2   3   4   5   6   7   8   9  10]\n",
    " [ 20  19  18  17  16  15  14  13  12  11]\n",
    " [ 21  22  23  24  25  26  27  28  29  30]\n",
    " [ 40  39  38  37  36  35  34  33  32  31]\n",
    " [ 41  42  43  44  45  46  47  48  49  50]\n",
    " [ 60  59  58  57  56  55  54  53  52  51]\n",
    " [ 61  62  63  64  65  66  67  68  69  70]\n",
    " [ 80  79  78  77  76  75  74  73  72  71]\n",
    " [ 81  82  83  84  85  86  87  88  89  90]\n",
    " [100  99  98  97  96  95  94  93  92  91]] <class 'numpy.ndarray'>\n"
   ]
  },
  {
   "cell_type": "code",
   "execution_count": 10,
   "id": "1f9b1aa2",
   "metadata": {},
   "outputs": [
    {
     "data": {
      "text/plain": [
       "array([[  1,   2,   3,   4,   5,   6,   7,   8,   9,  10],\n",
       "       [ 11,  12,  13,  14,  15,  16,  17,  18,  19,  20],\n",
       "       [ 21,  22,  23,  24,  25,  26,  27,  28,  29,  30],\n",
       "       [ 31,  32,  33,  34,  35,  36,  37,  38,  39,  40],\n",
       "       [ 41,  42,  43,  44,  45,  46,  47,  48,  49,  50],\n",
       "       [ 51,  52,  53,  54,  55,  56,  57,  58,  59,  60],\n",
       "       [ 61,  62,  63,  64,  65,  66,  67,  68,  69,  70],\n",
       "       [ 71,  72,  73,  74,  75,  76,  77,  78,  79,  80],\n",
       "       [ 81,  82,  83,  84,  85,  86,  87,  88,  89,  90],\n",
       "       [ 91,  92,  93,  94,  95,  96,  97,  98,  99, 100]])"
      ]
     },
     "execution_count": 10,
     "metadata": {},
     "output_type": "execute_result"
    }
   ],
   "source": [
    "import numpy as np\n",
    "arr = np.arange(1,101).reshape(10,10)\n",
    "arr"
   ]
  },
  {
   "cell_type": "code",
   "execution_count": 23,
   "id": "109b9d3e",
   "metadata": {
    "scrolled": true
   },
   "outputs": [
    {
     "data": {
      "text/plain": [
       "array([[  1,   2,   3,   4,   5,   6,   7,   8,   9,  10],\n",
       "       [ 20,  19,  18,  17,  16,  15,  14,  13,  12,  11],\n",
       "       [ 21,  22,  23,  24,  25,  26,  27,  28,  29,  30],\n",
       "       [ 40,  39,  38,  37,  36,  35,  34,  33,  32,  31],\n",
       "       [ 41,  42,  43,  44,  45,  46,  47,  48,  49,  50],\n",
       "       [ 60,  59,  58,  57,  56,  55,  54,  53,  52,  51],\n",
       "       [ 61,  62,  63,  64,  65,  66,  67,  68,  69,  70],\n",
       "       [ 80,  79,  78,  77,  76,  75,  74,  73,  72,  71],\n",
       "       [ 81,  82,  83,  84,  85,  86,  87,  88,  89,  90],\n",
       "       [100,  99,  98,  97,  96,  95,  94,  93,  92,  91]])"
      ]
     },
     "execution_count": 23,
     "metadata": {},
     "output_type": "execute_result"
    }
   ],
   "source": [
    "arr[1] = np.flip(arr[1])\n",
    "arr[3] = np.flip(arr[3])\n",
    "arr[5] = np.flip(arr[5])\n",
    "arr[7] = np.flip(arr[7])\n",
    "arr[9] = np.flip(arr[9])\n",
    "arr"
   ]
  },
  {
   "cell_type": "code",
   "execution_count": 7,
   "id": "1d7c5a64",
   "metadata": {},
   "outputs": [
    {
     "data": {
      "text/plain": [
       "array([[  1,   2,   3,   4,   5,   6,   7,   8,   9,  10],\n",
       "       [ 20,  19,  18,  17,  16,  15,  14,  13,  12,  11],\n",
       "       [ 21,  22,  23,  24,  25,  26,  27,  28,  29,  30],\n",
       "       [ 40,  39,  38,  37,  36,  35,  34,  33,  32,  31],\n",
       "       [ 41,  42,  43,  44,  45,  46,  47,  48,  49,  50],\n",
       "       [ 60,  59,  58,  57,  56,  55,  54,  53,  52,  51],\n",
       "       [ 61,  62,  63,  64,  65,  66,  67,  68,  69,  70],\n",
       "       [ 80,  79,  78,  77,  76,  75,  74,  73,  72,  71],\n",
       "       [ 81,  82,  83,  84,  85,  86,  87,  88,  89,  90],\n",
       "       [100,  99,  98,  97,  96,  95,  94,  93,  92,  91]])"
      ]
     },
     "execution_count": 7,
     "metadata": {},
     "output_type": "execute_result"
    }
   ],
   "source": [
    "arr[[1,3,5,7,9]]= arr[[1,3,5,7,9]][:,[9,8,7,6,5,4,3,2,1,0]]\n",
    "arr"
   ]
  },
  {
   "cell_type": "code",
   "execution_count": 3,
   "id": "34d8b3c1",
   "metadata": {},
   "outputs": [
    {
     "data": {
      "text/plain": [
       "array([[  1,   2,   3,   4,   5,   6,   7,   8,   9,  10],\n",
       "       [ 20,  19,  18,  17,  16,  15,  14,  13,  12,  11],\n",
       "       [ 21,  22,  23,  24,  25,  26,  27,  28,  29,  30],\n",
       "       [ 40,  39,  38,  37,  36,  35,  34,  33,  32,  31],\n",
       "       [ 41,  42,  43,  44,  45,  46,  47,  48,  49,  50],\n",
       "       [ 60,  59,  58,  57,  56,  55,  54,  53,  52,  51],\n",
       "       [ 61,  62,  63,  64,  65,  66,  67,  68,  69,  70],\n",
       "       [ 80,  79,  78,  77,  76,  75,  74,  73,  72,  71],\n",
       "       [ 81,  82,  83,  84,  85,  86,  87,  88,  89,  90],\n",
       "       [100,  99,  98,  97,  96,  95,  94,  93,  92,  91]])"
      ]
     },
     "execution_count": 3,
     "metadata": {},
     "output_type": "execute_result"
    }
   ],
   "source": [
    "arr = np.arange(1,101).reshape(10,10)\n",
    "arr[1::2] = arr[1::2,9::-1]\n",
    "arr"
   ]
  },
  {
   "cell_type": "code",
   "execution_count": null,
   "id": "dd8b1bc7",
   "metadata": {},
   "outputs": [],
   "source": []
  }
 ],
 "metadata": {
  "kernelspec": {
   "display_name": "Python 3 (ipykernel)",
   "language": "python",
   "name": "python3"
  },
  "language_info": {
   "codemirror_mode": {
    "name": "ipython",
    "version": 3
   },
   "file_extension": ".py",
   "mimetype": "text/x-python",
   "name": "python",
   "nbconvert_exporter": "python",
   "pygments_lexer": "ipython3",
   "version": "3.8.13"
  },
  "toc": {
   "base_numbering": 1,
   "nav_menu": {},
   "number_sections": false,
   "sideBar": true,
   "skip_h1_title": false,
   "title_cell": "Table of Contents",
   "title_sidebar": "Contents",
   "toc_cell": false,
   "toc_position": {
    "height": "calc(100% - 180px)",
    "left": "10px",
    "top": "150px",
    "width": "165px"
   },
   "toc_section_display": true,
   "toc_window_display": true
  }
 },
 "nbformat": 4,
 "nbformat_minor": 5
}
