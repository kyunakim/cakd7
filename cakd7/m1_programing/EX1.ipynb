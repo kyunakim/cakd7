{
 "cells": [
  {
   "cell_type": "markdown",
   "id": "d9109697",
   "metadata": {},
   "source": [
    "#### Q1. 남녀 파트너 정해주기 프로그램(zip) \n",
    "같은 수의 남녀 모임에서 파트너를 랜덤하게 정해주는 프로그램을 만들어 보세요\n",
    "\n",
    "male = ['철수','갑돌','로미오','이몽룡','온돌']\n",
    "\n",
    "female = ['미미','갑순','줄리엣','성춘향','평강']\n"
   ]
  },
  {
   "cell_type": "code",
   "execution_count": 66,
   "id": "816c0044",
   "metadata": {},
   "outputs": [],
   "source": [
    "male = ['철수','갑돌','로미오','이몽룡','온돌']\n",
    "female = ['미미','갑순','줄리엣','성춘향','평강']"
   ]
  },
  {
   "cell_type": "code",
   "execution_count": 84,
   "id": "4250557a",
   "metadata": {},
   "outputs": [
    {
     "name": "stdout",
     "output_type": "stream",
     "text": [
      "[('철수', '미미'), ('이몽룡', '성춘향'), ('갑돌', '갑순'), ('온돌', '평강'), ('로미오', '줄리엣')]\n"
     ]
    }
   ],
   "source": [
    "partner_li=zip(male,female)\n",
    "print(list(partner_li))"
   ]
  },
  {
   "cell_type": "code",
   "execution_count": 85,
   "id": "2708260c",
   "metadata": {},
   "outputs": [],
   "source": [
    "from random import shuffle"
   ]
  },
  {
   "cell_type": "code",
   "execution_count": 86,
   "id": "d269497c",
   "metadata": {},
   "outputs": [],
   "source": [
    "c = list(zip(male,female))\n",
    "random.shuffle(c)\n",
    "male,female=zip(*c)"
   ]
  },
  {
   "cell_type": "code",
   "execution_count": 70,
   "id": "2f5076da",
   "metadata": {
    "scrolled": false
   },
   "outputs": [
    {
     "name": "stdout",
     "output_type": "stream",
     "text": [
      "로미오 줄리엣\n",
      "이몽룡 성춘향\n",
      "온돌 평강\n",
      "갑돌 갑순\n",
      "철수 미미\n"
     ]
    }
   ],
   "source": [
    "for m,f in zip(male,female):\n",
    "    print(m,f)"
   ]
  },
  {
   "cell_type": "code",
   "execution_count": 78,
   "id": "c6b6fe1d",
   "metadata": {},
   "outputs": [],
   "source": [
    "male = ['철수','갑돌','로미오','이몽룡','온돌']\n",
    "female = ['미미','갑순','줄리엣','성춘향','평강']"
   ]
  },
  {
   "cell_type": "code",
   "execution_count": null,
   "id": "48103f0a",
   "metadata": {},
   "outputs": [],
   "source": [
    "def shuffle_list()"
   ]
  },
  {
   "cell_type": "markdown",
   "id": "ef84d2c8",
   "metadata": {},
   "source": [
    "#### Q2. 사용자가 입력한 횟수만큼 로또 번호를 출력하는 프로그램을 작성하세요. (중복금지)"
   ]
  },
  {
   "cell_type": "code",
   "execution_count": 6,
   "id": "33755d9a",
   "metadata": {},
   "outputs": [
    {
     "name": "stdout",
     "output_type": "stream",
     "text": [
      "숫자를 입력하세요4\n"
     ]
    }
   ],
   "source": [
    "import random\n",
    "num = input(\"숫자를 입력하세요\")"
   ]
  },
  {
   "cell_type": "code",
   "execution_count": 7,
   "id": "19aab5a7",
   "metadata": {},
   "outputs": [
    {
     "ename": "TypeError",
     "evalue": "int() argument must be a string, a bytes-like object or a number, not 'list'",
     "output_type": "error",
     "traceback": [
      "\u001b[1;31m---------------------------------------------------------------------------\u001b[0m",
      "\u001b[1;31mTypeError\u001b[0m                                 Traceback (most recent call last)",
      "Input \u001b[1;32mIn [7]\u001b[0m, in \u001b[0;36m<cell line: 5>\u001b[1;34m()\u001b[0m\n\u001b[0;32m      2\u001b[0m num\u001b[38;5;241m=\u001b[39m[]\n\u001b[0;32m      3\u001b[0m lo\u001b[38;5;241m=\u001b[39mrandom\u001b[38;5;241m.\u001b[39mrandrange(\u001b[38;5;241m1\u001b[39m,\u001b[38;5;241m46\u001b[39m)\n\u001b[1;32m----> 5\u001b[0m \u001b[38;5;28;01mfor\u001b[39;00m i \u001b[38;5;129;01min\u001b[39;00m \u001b[38;5;28mrange\u001b[39m(\u001b[38;5;241m0\u001b[39m,\u001b[38;5;28;43mint\u001b[39;49m\u001b[43m(\u001b[49m\u001b[43mnum\u001b[49m\u001b[43m)\u001b[49m):\n\u001b[0;32m      6\u001b[0m     \u001b[38;5;28;01mwhile\u001b[39;00m lo \u001b[38;5;129;01min\u001b[39;00m num:\n\u001b[0;32m      7\u001b[0m         lo \u001b[38;5;241m=\u001b[39m random\u001b[38;5;241m.\u001b[39mrandrange(\u001b[38;5;241m1\u001b[39m,\u001b[38;5;241m46\u001b[39m)\n",
      "\u001b[1;31mTypeError\u001b[0m: int() argument must be a string, a bytes-like object or a number, not 'list'"
     ]
    }
   ],
   "source": [
    "import random\n",
    "num=[]\n",
    "lo=random.randrange(1,46)\n",
    "\n",
    "for i in range(0,int(num)):\n",
    "    while lo in num:\n",
    "        lo = random.randrange(1,46)\n",
    "    num.append(lo)\n",
    "\n",
    "num.sort()\n",
    "print(num)"
   ]
  },
  {
   "cell_type": "code",
   "execution_count": 38,
   "id": "71439621",
   "metadata": {
    "scrolled": true
   },
   "outputs": [
    {
     "name": "stdout",
     "output_type": "stream",
     "text": [
      "숫자를 입력하세요2\n"
     ]
    }
   ],
   "source": [
    "import random\n",
    "num = input(\"숫자를 입력하세요\")"
   ]
  },
  {
   "cell_type": "code",
   "execution_count": 39,
   "id": "f238fc0c",
   "metadata": {},
   "outputs": [
    {
     "name": "stdout",
     "output_type": "stream",
     "text": [
      "[1, 27]\n"
     ]
    }
   ],
   "source": [
    "for i in range(0,int(num)):\n",
    "    lo = random.sample(range(1,46),int(num))\n",
    "print(lo)"
   ]
  },
  {
   "cell_type": "markdown",
   "id": "dad42070",
   "metadata": {},
   "source": [
    "[도전과제] 발표자를 원하는 수만큼 랜덤하게 출력하는 프로그램을 작성하세요."
   ]
  },
  {
   "cell_type": "code",
   "execution_count": null,
   "id": "38a4f0cb",
   "metadata": {},
   "outputs": [],
   "source": [
    "cakd7 = ['박영권','김현지','김덕현','변서연','한지웅','양주희','이호원','정지은','이정현A','이정현B','이명진','이상윤','조승현','강유한','김영선','최애림','김민섭','박혜린','윤정준','김진형','정승기','진청아','신창훈','김병석','박세희']\n",
    "len(cakd7)"
   ]
  },
  {
   "cell_type": "code",
   "execution_count": null,
   "id": "06245a08",
   "metadata": {},
   "outputs": [],
   "source": []
  }
 ],
 "metadata": {
  "kernelspec": {
   "display_name": "Python 3 (ipykernel)",
   "language": "python",
   "name": "python3"
  },
  "language_info": {
   "codemirror_mode": {
    "name": "ipython",
    "version": 3
   },
   "file_extension": ".py",
   "mimetype": "text/x-python",
   "name": "python",
   "nbconvert_exporter": "python",
   "pygments_lexer": "ipython3",
   "version": "3.8.13"
  },
  "toc": {
   "base_numbering": 1,
   "nav_menu": {},
   "number_sections": false,
   "sideBar": true,
   "skip_h1_title": false,
   "title_cell": "Table of Contents",
   "title_sidebar": "Contents",
   "toc_cell": false,
   "toc_position": {},
   "toc_section_display": true,
   "toc_window_display": false
  }
 },
 "nbformat": 4,
 "nbformat_minor": 5
}
