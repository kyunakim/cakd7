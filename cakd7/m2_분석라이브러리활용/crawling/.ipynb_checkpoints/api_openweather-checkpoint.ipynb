{
 "cells": [
  {
   "cell_type": "markdown",
   "id": "69b567da",
   "metadata": {},
   "source": [
    "#### 과제 0728_3"
   ]
  },
  {
   "cell_type": "code",
   "execution_count": null,
   "id": "eaaf41de",
   "metadata": {},
   "outputs": [],
   "source": [
    "https://openweathermap.org/api"
   ]
  },
  {
   "cell_type": "markdown",
   "id": "402ca4b8",
   "metadata": {},
   "source": [
    "#### 아래사항에 유의하여 OpenWeatherMap 날씨정보를 웹 API로 가져와서 출력하세요\n",
    "* https://openweathermap.org/api 사이트에서 Current Weather data에 대한 API doc 내용을 파악\n",
    "* 개발자 등록을 하고 API 키 발급 받음(https://home.openweathermap.org/users/sign_up)\n",
    "* New Account 등록 후 API Keys라는 탭에서 API Key 확인 가능\n",
    "* 기본적으로 유료 사이트이지만 현재 날씨, 5일까지의 날씨는 무료로 사용할 수 있음(단 1분에 60번만 호출 가능)\n",
    "* 서울, 토쿄, 뉴욕의 날씨를 가져오는 프로그램 작성(text로 가져와서 json으로 변환하여 일차 출력)\n",
    "  - cities = [\"Seoul,KR\", \"Tokyo,JP\", \"New York,US\"]\n",
    "  - 가져올 정보 : 도시별 날씨(description), 최저 기온(temp_min), 최고 기온(temp_max), 습도(humidity), 기압(pressure), 풍속(speed)\n",
    "  - 기온 데이터는 켈빈 온도로 되어 있으며 섭씨 온도로 변환해서 출력\n",
    "* json 포멧으로 출력 데이터를 아래와 같이 가독력 있게 출력(소수점 2번째에서 반올림 처리)\n"
   ]
  },
  {
   "cell_type": "markdown",
   "id": "62922d73",
   "metadata": {},
   "source": [
    "````\n",
    "+ 도시 = Seoul\n",
    "| 날씨 = broken clouds\n",
    "| 최저 기온 = -1.0 2\n",
    "| 최고 기온 = 2.0 2\n",
    "| 습도 = 74\n",
    "| 기압 = 1023\n",
    "| 풍속 = 0.5\n",
    "````"
   ]
  },
  {
   "cell_type": "code",
   "execution_count": null,
   "id": "f8a353ec",
   "metadata": {},
   "outputs": [],
   "source": [
    "https://api.openweathermap.org/data/2.5/weather?q={city},{country code}&appid={API key}"
   ]
  },
  {
   "cell_type": "code",
   "execution_count": 82,
   "id": "d91f8595",
   "metadata": {},
   "outputs": [
    {
     "name": "stdout",
     "output_type": "stream",
     "text": [
      "https://api.openweathermap.org/data/2.5/weather?q=Seoul,KR&appid=27e98c624139f3f4ae254405777c4ba8\n"
     ]
    },
    {
     "data": {
      "text/plain": [
       "{'coord': {'lon': 126.9778, 'lat': 37.5683},\n",
       " 'weather': [{'id': 803,\n",
       "   'main': 'Clouds',\n",
       "   'description': 'broken clouds',\n",
       "   'icon': '04n'}],\n",
       " 'base': 'stations',\n",
       " 'main': {'temp': 302.34,\n",
       "  'feels_like': 305.36,\n",
       "  'temp_min': 299.84,\n",
       "  'temp_max': 303.81,\n",
       "  'pressure': 1010,\n",
       "  'humidity': 65},\n",
       " 'visibility': 10000,\n",
       " 'wind': {'speed': 2.06, 'deg': 270},\n",
       " 'clouds': {'all': 75},\n",
       " 'dt': 1659007040,\n",
       " 'sys': {'type': 1,\n",
       "  'id': 8105,\n",
       "  'country': 'KR',\n",
       "  'sunrise': 1658953929,\n",
       "  'sunset': 1659005087},\n",
       " 'timezone': 32400,\n",
       " 'id': 1835848,\n",
       " 'name': 'Seoul',\n",
       " 'cod': 200}"
      ]
     },
     "execution_count": 82,
     "metadata": {},
     "output_type": "execute_result"
    }
   ],
   "source": [
    "from urllib.request import Request, urlopen\n",
    "from urllib.parse import urlencode, quote_plus\n",
    "import pandas as pd\n",
    "import json\n",
    "\n",
    "city = \"Seoul\"\n",
    "countrycode = \"KR\"\n",
    "skey = \"27e98c624139f3f4ae254405777c4ba8\"\n",
    "\n",
    "url =\"https://api.openweathermap.org/data/2.5/weather\"\n",
    "params = f\"?q={city},{countrycode}&appid={skey}\"\n",
    "query = url + params\n",
    "print(query)\n",
    "\n",
    "request = Request(query)\n",
    "request.get_method = lambda:'GET'\n",
    "response_body = urlopen(request).read()\n",
    "\n",
    "weather = json.loads(response_body.decode('utf-8'))\n",
    "weather"
   ]
  },
  {
   "cell_type": "code",
   "execution_count": 83,
   "id": "76638908",
   "metadata": {},
   "outputs": [
    {
     "name": "stdout",
     "output_type": "stream",
     "text": [
      "+도시 =Seoul\n",
      "|날씨 = broken clouds\n",
      "|최저 기온 = 26.69\n",
      "|최고 기온 = 30.66\n",
      "|습도 = 65\n",
      "|기압 = 1010\n",
      "|풍속 = 2.06\n"
     ]
    }
   ],
   "source": [
    "name = weather['name']\n",
    "description = weather['weather'][0]['description']\n",
    "temp_min = weather['main']['temp_min']-273.15\n",
    "temp_max = weather['main']['temp_max']-273.15\n",
    "humidity = weather['main']['humidity']\n",
    "pressure = weather['main']['pressure']\n",
    "speed = weather['wind']['speed']\n",
    "\n",
    "temp_min = round(temp_min,2)\n",
    "temp_max = round(temp_max,2)\n",
    "\n",
    "print(f'+도시 ={name}\\n|날씨 = {description}\\n|최저 기온 = {temp_min}\\n|최고 기온 = {temp_max}\\n|습도 = {humidity}\\n|기압 = {pressure}\\n|풍속 = {speed}')"
   ]
  },
  {
   "cell_type": "code",
   "execution_count": 84,
   "id": "2d1243c7",
   "metadata": {},
   "outputs": [
    {
     "name": "stdout",
     "output_type": "stream",
     "text": [
      "https://api.openweathermap.org/data/2.5/weather?q=Tokyo,JP&appid=27e98c624139f3f4ae254405777c4ba8\n"
     ]
    },
    {
     "data": {
      "text/plain": [
       "{'coord': {'lon': 139.6917, 'lat': 35.6895},\n",
       " 'weather': [{'id': 501,\n",
       "   'main': 'Rain',\n",
       "   'description': 'moderate rain',\n",
       "   'icon': '10n'}],\n",
       " 'base': 'stations',\n",
       " 'main': {'temp': 301.78,\n",
       "  'feels_like': 306.5,\n",
       "  'temp_min': 297.62,\n",
       "  'temp_max': 304.57,\n",
       "  'pressure': 1016,\n",
       "  'humidity': 78},\n",
       " 'visibility': 10000,\n",
       " 'wind': {'speed': 6.17, 'deg': 200},\n",
       " 'rain': {'1h': 2.73},\n",
       " 'clouds': {'all': 75},\n",
       " 'dt': 1659007570,\n",
       " 'sys': {'type': 2,\n",
       "  'id': 2038398,\n",
       "  'country': 'JP',\n",
       "  'sunrise': 1658951135,\n",
       "  'sunset': 1659001779},\n",
       " 'timezone': 32400,\n",
       " 'id': 1850144,\n",
       " 'name': 'Tokyo',\n",
       " 'cod': 200}"
      ]
     },
     "execution_count": 84,
     "metadata": {},
     "output_type": "execute_result"
    }
   ],
   "source": [
    "from urllib.request import Request, urlopen\n",
    "from urllib.parse import urlencode, quote_plus\n",
    "import pandas as pd\n",
    "import json\n",
    "\n",
    "city = \"Tokyo\"\n",
    "countrycode = \"JP\"\n",
    "skey = \"27e98c624139f3f4ae254405777c4ba8\"\n",
    "\n",
    "url =\"https://api.openweathermap.org/data/2.5/weather\"\n",
    "params = f\"?q={city},{countrycode}&appid={skey}\"\n",
    "query = url + params\n",
    "print(query)\n",
    "\n",
    "request = Request(query)\n",
    "request.get_method = lambda:'GET'\n",
    "response_body = urlopen(request).read()\n",
    "\n",
    "weather = json.loads(response_body.decode('utf-8'))\n",
    "weather"
   ]
  },
  {
   "cell_type": "code",
   "execution_count": 85,
   "id": "b69d3e5f",
   "metadata": {},
   "outputs": [
    {
     "name": "stdout",
     "output_type": "stream",
     "text": [
      "+도시 =Tokyo\n",
      "|날씨 = moderate rain\n",
      "|최저 기온 = 24.47\n",
      "|최고 기온 = 31.42\n",
      "|습도 = 78\n",
      "|기압 = 1016\n",
      "|풍속 = 6.17\n"
     ]
    }
   ],
   "source": [
    "name = weather['name']\n",
    "description = weather['weather'][0]['description']\n",
    "temp_min = weather['main']['temp_min']-273.15\n",
    "temp_max = weather['main']['temp_max']-273.15\n",
    "humidity = weather['main']['humidity']\n",
    "pressure = weather['main']['pressure']\n",
    "speed = weather['wind']['speed']\n",
    "\n",
    "temp_min = round(temp_min,2)\n",
    "temp_max = round(temp_max,2)\n",
    "\n",
    "print(f'+도시 ={name}\\n|날씨 = {description}\\n|최저 기온 = {temp_min}\\n|최고 기온 = {temp_max}\\n|습도 = {humidity}\\n|기압 = {pressure}\\n|풍속 = {speed}')"
   ]
  },
  {
   "cell_type": "code",
   "execution_count": 86,
   "id": "bff21e17",
   "metadata": {},
   "outputs": [
    {
     "name": "stdout",
     "output_type": "stream",
     "text": [
      "https://api.openweathermap.org/data/2.5/weather?q=New%20York,US&appid=27e98c624139f3f4ae254405777c4ba8\n"
     ]
    },
    {
     "data": {
      "text/plain": [
       "{'coord': {'lon': -74.006, 'lat': 40.7143},\n",
       " 'weather': [{'id': 800,\n",
       "   'main': 'Clear',\n",
       "   'description': 'clear sky',\n",
       "   'icon': '01d'}],\n",
       " 'base': 'stations',\n",
       " 'main': {'temp': 296.66,\n",
       "  'feels_like': 297.39,\n",
       "  'temp_min': 295.24,\n",
       "  'temp_max': 297.7,\n",
       "  'pressure': 1011,\n",
       "  'humidity': 89},\n",
       " 'visibility': 10000,\n",
       " 'wind': {'speed': 3.6, 'deg': 180},\n",
       " 'clouds': {'all': 0},\n",
       " 'dt': 1659007538,\n",
       " 'sys': {'type': 2,\n",
       "  'id': 2039034,\n",
       "  'country': 'US',\n",
       "  'sunrise': 1659001728,\n",
       "  'sunset': 1659053760},\n",
       " 'timezone': -14400,\n",
       " 'id': 5128581,\n",
       " 'name': 'New York',\n",
       " 'cod': 200}"
      ]
     },
     "execution_count": 86,
     "metadata": {},
     "output_type": "execute_result"
    }
   ],
   "source": [
    "from urllib.request import Request, urlopen\n",
    "from urllib.parse import urlencode, quote_plus\n",
    "import pandas as pd\n",
    "import json\n",
    "\n",
    "city = \"New%20York\"\n",
    "countrycode = \"US\"\n",
    "\n",
    "skey = \"27e98c624139f3f4ae254405777c4ba8\"\n",
    "\n",
    "url =\"https://api.openweathermap.org/data/2.5/weather\"\n",
    "params = f\"?q={city},{countrycode}&appid={skey}\"\n",
    "query = url + params\n",
    "print(query)\n",
    "\n",
    "request = Request(query)\n",
    "request.get_method = lambda:'GET'\n",
    "response_body = urlopen(request).read()\n",
    "\n",
    "weather = json.loads(response_body.decode('utf-8'))\n",
    "weather"
   ]
  },
  {
   "cell_type": "code",
   "execution_count": 87,
   "id": "e2e905c3",
   "metadata": {},
   "outputs": [
    {
     "name": "stdout",
     "output_type": "stream",
     "text": [
      "+도시 =New York\n",
      "|날씨 = clear sky\n",
      "|최저 기온 = 22.09\n",
      "|최고 기온 = 24.55\n",
      "|습도 = 89\n",
      "|기압 = 1011\n",
      "|풍속 = 3.6\n"
     ]
    }
   ],
   "source": [
    "name = weather['name']\n",
    "description = weather['weather'][0]['description']\n",
    "temp_min = weather['main']['temp_min']-273.15\n",
    "temp_max = weather['main']['temp_max']-273.15\n",
    "humidity = weather['main']['humidity']\n",
    "pressure = weather['main']['pressure']\n",
    "speed = weather['wind']['speed']\n",
    "\n",
    "temp_min = round(temp_min,2)\n",
    "temp_max = round(temp_max,2)\n",
    "\n",
    "print(f'+도시 ={name}\\n|날씨 = {description}\\n|최저 기온 = {temp_min}\\n|최고 기온 = {temp_max}\\n|습도 = {humidity}\\n|기압 = {pressure}\\n|풍속 = {speed}')"
   ]
  },
  {
   "cell_type": "code",
   "execution_count": null,
   "id": "d317c44a",
   "metadata": {},
   "outputs": [],
   "source": []
  }
 ],
 "metadata": {
  "kernelspec": {
   "display_name": "Python 3 (ipykernel)",
   "language": "python",
   "name": "python3"
  },
  "language_info": {
   "codemirror_mode": {
    "name": "ipython",
    "version": 3
   },
   "file_extension": ".py",
   "mimetype": "text/x-python",
   "name": "python",
   "nbconvert_exporter": "python",
   "pygments_lexer": "ipython3",
   "version": "3.8.13"
  },
  "toc": {
   "base_numbering": 1,
   "nav_menu": {},
   "number_sections": false,
   "sideBar": true,
   "skip_h1_title": false,
   "title_cell": "Table of Contents",
   "title_sidebar": "Contents",
   "toc_cell": false,
   "toc_position": {},
   "toc_section_display": true,
   "toc_window_display": false
  }
 },
 "nbformat": 4,
 "nbformat_minor": 5
}
