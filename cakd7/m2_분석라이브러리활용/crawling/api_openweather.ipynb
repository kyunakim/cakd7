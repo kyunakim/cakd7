{
 "cells": [
  {
   "cell_type": "markdown",
   "id": "69b567da",
   "metadata": {},
   "source": [
    "#### 과제 0728_3"
   ]
  },
  {
   "cell_type": "code",
   "execution_count": null,
   "id": "eaaf41de",
   "metadata": {},
   "outputs": [],
   "source": [
    "https://openweathermap.org/api"
   ]
  },
  {
   "cell_type": "markdown",
   "id": "402ca4b8",
   "metadata": {},
   "source": [
    "#### 아래사항에 유의하여 OpenWeatherMap 날씨정보를 웹 API로 가져와서 출력하세요\n",
    "* https://openweathermap.org/api 사이트에서 Current Weather data에 대한 API doc 내용을 파악\n",
    "* 개발자 등록을 하고 API 키 발급 받음(https://home.openweathermap.org/users/sign_up)\n",
    "* New Account 등록 후 API Keys라는 탭에서 API Key 확인 가능\n",
    "* 기본적으로 유료 사이트이지만 현재 날씨, 5일까지의 날씨는 무료로 사용할 수 있음(단 1분에 60번만 호출 가능)\n",
    "* 서울, 토쿄, 뉴욕의 날씨를 가져오는 프로그램 작성(text로 가져와서 json으로 변환하여 일차 출력)\n",
    "  - cities = [\"Seoul,KR\", \"Tokyo,JP\", \"New York,US\"]\n",
    "  - 가져올 정보 : 도시별 날씨(description), 최저 기온(temp_min), 최고 기온(temp_max), 습도(humidity), 기압(pressure), 풍속(speed)\n",
    "  - 기온 데이터는 켈빈 온도로 되어 있으며 섭씨 온도로 변환해서 출력\n",
    "* json 포멧으로 출력 데이터를 아래와 같이 가독력 있게 출력(소수점 2번째에서 반올림 처리)\n"
   ]
  },
  {
   "cell_type": "markdown",
   "id": "62922d73",
   "metadata": {},
   "source": [
    "````\n",
    "+ 도시 = Seoul\n",
    "| 날씨 = broken clouds\n",
    "| 최저 기온 = -1.0 2\n",
    "| 최고 기온 = 2.0 2\n",
    "| 습도 = 74\n",
    "| 기압 = 1023\n",
    "| 풍속 = 0.5\n",
    "````"
   ]
  },
  {
   "cell_type": "code",
   "execution_count": null,
   "id": "06a98911",
   "metadata": {},
   "outputs": [],
   "source": []
  }
 ],
 "metadata": {
  "kernelspec": {
   "display_name": "Python 3 (ipykernel)",
   "language": "python",
   "name": "python3"
  },
  "language_info": {
   "codemirror_mode": {
    "name": "ipython",
    "version": 3
   },
   "file_extension": ".py",
   "mimetype": "text/x-python",
   "name": "python",
   "nbconvert_exporter": "python",
   "pygments_lexer": "ipython3",
   "version": "3.8.13"
  },
  "toc": {
   "base_numbering": 1,
   "nav_menu": {},
   "number_sections": false,
   "sideBar": true,
   "skip_h1_title": false,
   "title_cell": "Table of Contents",
   "title_sidebar": "Contents",
   "toc_cell": false,
   "toc_position": {},
   "toc_section_display": true,
   "toc_window_display": false
  }
 },
 "nbformat": 4,
 "nbformat_minor": 5
}
