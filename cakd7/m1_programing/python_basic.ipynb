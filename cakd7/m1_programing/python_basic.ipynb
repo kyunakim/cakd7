{
 "cells": [
  {
   "cell_type": "markdown",
   "id": "444cb4f5-7b0c-461a-8e03-77aea5c3286d",
   "metadata": {},
   "source": [
    "# 나의 첫 파이썬 코드"
   ]
  },
  {
   "cell_type": "code",
   "execution_count": 1,
   "id": "38ecb44e-6d10-461a-887f-c09600611dfa",
   "metadata": {},
   "outputs": [
    {
     "name": "stdout",
     "output_type": "stream",
     "text": [
      "2\n",
      "0\n",
      "1\n",
      "1.0\n"
     ]
    }
   ],
   "source": [
    "print(1+1)\n",
    "print(1-1)\n",
    "print(1*1)\n",
    "print(1/1)"
   ]
  },
  {
   "cell_type": "code",
   "execution_count": 171,
   "id": "dff5ad5a-3576-49cb-a834-7053cd832214",
   "metadata": {},
   "outputs": [
    {
     "name": "stdout",
     "output_type": "stream",
     "text": [
      "1024\n",
      "8\n",
      "1\n"
     ]
    }
   ],
   "source": [
    "print(2**10)  #x의y제곱\n",
    "print(17//2)  #나눗셈 후 몫\n",
    "print(17%2)  #나눗셈 후 나머지"
   ]
  },
  {
   "cell_type": "code",
   "execution_count": 5,
   "id": "2cba8bbd-79a0-4404-9701-2cbe1ce79a00",
   "metadata": {},
   "outputs": [
    {
     "name": "stdout",
     "output_type": "stream",
     "text": [
      "2\n"
     ]
    }
   ],
   "source": [
    "print(17 %  5)"
   ]
  },
  {
   "cell_type": "markdown",
   "id": "ff139238-9da6-471f-a35c-3e4978a01ee2",
   "metadata": {
    "tags": []
   },
   "source": [
    "# 데이터타입\n",
    "- 숫자형: 정수 int (integer) : 123, -345, 0\n",
    "          실수 float : 123.45, -1234.5\n",
    "          8진수\n",
    "          16진수\n",
    "- 문자형 : str string\n",
    "- 참거짓형 : bool boolean"
   ]
  },
  {
   "cell_type": "code",
   "execution_count": 7,
   "id": "11fc263d-3a13-4811-b18a-ddb45957d34c",
   "metadata": {},
   "outputs": [
    {
     "data": {
      "text/plain": [
       "int"
      ]
     },
     "execution_count": 7,
     "metadata": {},
     "output_type": "execute_result"
    }
   ],
   "source": [
    "type(3)"
   ]
  },
  {
   "cell_type": "code",
   "execution_count": 10,
   "id": "4ef4740b-970d-457c-b86e-d51b6fc334d2",
   "metadata": {},
   "outputs": [
    {
     "data": {
      "text/plain": [
       "int"
      ]
     },
     "execution_count": 10,
     "metadata": {},
     "output_type": "execute_result"
    }
   ],
   "source": [
    "a = 3\n",
    "type(a)"
   ]
  },
  {
   "cell_type": "code",
   "execution_count": 11,
   "id": "a0faa273-2891-476b-9fa1-aee96b00865b",
   "metadata": {},
   "outputs": [
    {
     "data": {
      "text/plain": [
       "float"
      ]
     },
     "execution_count": 11,
     "metadata": {},
     "output_type": "execute_result"
    }
   ],
   "source": [
    "a = 3.0\n",
    "type(a)"
   ]
  },
  {
   "cell_type": "code",
   "execution_count": 12,
   "id": "129f1ea1-5aae-424b-ac24-85a00f731e74",
   "metadata": {},
   "outputs": [
    {
     "data": {
      "text/plain": [
       "str"
      ]
     },
     "execution_count": 12,
     "metadata": {},
     "output_type": "execute_result"
    }
   ],
   "source": [
    "a = \"Hello\"\n",
    "type(a)"
   ]
  },
  {
   "cell_type": "code",
   "execution_count": 13,
   "id": "4bfc33f8-9c8b-4b01-9b23-8b1e1fb3c52a",
   "metadata": {},
   "outputs": [
    {
     "data": {
      "text/plain": [
       "str"
      ]
     },
     "execution_count": 13,
     "metadata": {},
     "output_type": "execute_result"
    }
   ],
   "source": [
    "a = 'Hello'\n",
    "type(a)"
   ]
  },
  {
   "cell_type": "code",
   "execution_count": 14,
   "id": "6a7728c1-2ac3-44bd-9e83-f31f95ec303b",
   "metadata": {},
   "outputs": [
    {
     "data": {
      "text/plain": [
       "bool"
      ]
     },
     "execution_count": 14,
     "metadata": {},
     "output_type": "execute_result"
    }
   ],
   "source": [
    "a = True\n",
    "type(a)"
   ]
  },
  {
   "cell_type": "markdown",
   "id": "c3135eda-4514-44b0-ba68-9aa8db75549c",
   "metadata": {},
   "source": [
    "##  숫자형"
   ]
  },
  {
   "cell_type": "markdown",
   "id": "b2f3d5ce-c120-4fd4-8db6-85afeb845303",
   "metadata": {
    "tags": []
   },
   "source": [
    "### 숫자의 연산\n",
    "- 거듭제곱\n",
    "- 몫과 나머지\n",
    "- 지수, 로그\n",
    "- 삼각함수\n",
    "- 파이값\n",
    "- 반올림"
   ]
  },
  {
   "cell_type": "code",
   "execution_count": 15,
   "id": "534977cb-b49e-4ff3-b97d-8c8a2ed322c0",
   "metadata": {},
   "outputs": [
    {
     "ename": "NameError",
     "evalue": "name 'pi' is not defined",
     "output_type": "error",
     "traceback": [
      "\u001b[1;31m---------------------------------------------------------------------------\u001b[0m",
      "\u001b[1;31mNameError\u001b[0m                                 Traceback (most recent call last)",
      "Input \u001b[1;32mIn [15]\u001b[0m, in \u001b[0;36m<cell line: 1>\u001b[1;34m()\u001b[0m\n\u001b[1;32m----> 1\u001b[0m \u001b[38;5;28mprint\u001b[39m(\u001b[43mpi\u001b[49m)\n",
      "\u001b[1;31mNameError\u001b[0m: name 'pi' is not defined"
     ]
    }
   ],
   "source": [
    "print(pi)"
   ]
  },
  {
   "cell_type": "markdown",
   "id": "c8c7eb18-c37f-4a23-8bbb-9ec71818de6a",
   "metadata": {},
   "source": [
    "###   import"
   ]
  },
  {
   "cell_type": "code",
   "execution_count": 17,
   "id": "fade7b7c-8547-48d3-a201-4cc8e69955f4",
   "metadata": {},
   "outputs": [],
   "source": [
    "import math"
   ]
  },
  {
   "cell_type": "code",
   "execution_count": 18,
   "id": "9a1fd132-4e74-425e-8d95-5b0d28357807",
   "metadata": {},
   "outputs": [
    {
     "name": "stdout",
     "output_type": "stream",
     "text": [
      "3.141592653589793\n"
     ]
    }
   ],
   "source": [
    "print(math.pi)"
   ]
  },
  {
   "cell_type": "code",
   "execution_count": 19,
   "id": "b699c718-2572-4fde-a295-b1b4da164106",
   "metadata": {},
   "outputs": [
    {
     "ename": "NameError",
     "evalue": "name 'fatorial' is not defined",
     "output_type": "error",
     "traceback": [
      "\u001b[1;31m---------------------------------------------------------------------------\u001b[0m",
      "\u001b[1;31mNameError\u001b[0m                                 Traceback (most recent call last)",
      "Input \u001b[1;32mIn [19]\u001b[0m, in \u001b[0;36m<cell line: 1>\u001b[1;34m()\u001b[0m\n\u001b[1;32m----> 1\u001b[0m \u001b[43mfatorial\u001b[49m(\u001b[38;5;241m5\u001b[39m)\n",
      "\u001b[1;31mNameError\u001b[0m: name 'fatorial' is not defined"
     ]
    }
   ],
   "source": [
    "fatorial(5)"
   ]
  },
  {
   "cell_type": "code",
   "execution_count": 39,
   "id": "e1944534-e90c-415f-816b-ad6c7bb81915",
   "metadata": {},
   "outputs": [],
   "source": [
    "import math"
   ]
  },
  {
   "cell_type": "code",
   "execution_count": 21,
   "id": "3eb64b47-6ecd-4523-933f-72ed220206e4",
   "metadata": {},
   "outputs": [
    {
     "data": {
      "text/plain": [
       "120"
      ]
     },
     "execution_count": 21,
     "metadata": {},
     "output_type": "execute_result"
    }
   ],
   "source": [
    "math.factorial(5)"
   ]
  },
  {
   "cell_type": "code",
   "execution_count": 22,
   "id": "cdb6a0a9-2030-4e7a-a45e-44949f593bcd",
   "metadata": {},
   "outputs": [],
   "source": [
    "# sin(90도) 의 값은? 90도는 2분의 파이"
   ]
  },
  {
   "cell_type": "code",
   "execution_count": 25,
   "id": "4293e614-6f8c-4a17-a08e-be8821b1edc3",
   "metadata": {},
   "outputs": [
    {
     "data": {
      "text/plain": [
       "1.0"
      ]
     },
     "execution_count": 25,
     "metadata": {},
     "output_type": "execute_result"
    }
   ],
   "source": [
    "math.sin(math.pi/2)"
   ]
  },
  {
   "cell_type": "code",
   "execution_count": 26,
   "id": "97768bb8-67a6-4ee5-8cac-4387ee14be89",
   "metadata": {},
   "outputs": [],
   "source": [
    "import numpy"
   ]
  },
  {
   "cell_type": "code",
   "execution_count": 27,
   "id": "d20554e6-c747-4856-a640-73a901355601",
   "metadata": {},
   "outputs": [
    {
     "data": {
      "text/plain": [
       "3.141592653589793"
      ]
     },
     "execution_count": 27,
     "metadata": {},
     "output_type": "execute_result"
    }
   ],
   "source": [
    "numpy.pi"
   ]
  },
  {
   "cell_type": "code",
   "execution_count": 30,
   "id": "9c265929-4f50-49c1-a4a1-a9ef824860be",
   "metadata": {},
   "outputs": [],
   "source": [
    "import numpy as np"
   ]
  },
  {
   "cell_type": "code",
   "execution_count": 31,
   "id": "25d26d0f-93d9-4f40-a195-ce5d77bef8bb",
   "metadata": {},
   "outputs": [
    {
     "data": {
      "text/plain": [
       "3.141592653589793"
      ]
     },
     "execution_count": 31,
     "metadata": {},
     "output_type": "execute_result"
    }
   ],
   "source": [
    "np.pi"
   ]
  },
  {
   "cell_type": "code",
   "execution_count": 40,
   "id": "804d729d-64a2-4e6b-bddb-6c6977ceebd8",
   "metadata": {},
   "outputs": [
    {
     "data": {
      "text/plain": [
       "2.0"
      ]
     },
     "execution_count": 40,
     "metadata": {},
     "output_type": "execute_result"
    }
   ],
   "source": [
    "math.sqrt(4)   #sqrt 제곱근"
   ]
  },
  {
   "cell_type": "code",
   "execution_count": 34,
   "id": "ec835f9a-c7bd-4b95-b5da-adccfcb96c63",
   "metadata": {},
   "outputs": [],
   "source": [
    "import math as m"
   ]
  },
  {
   "cell_type": "code",
   "execution_count": 35,
   "id": "bf30c285-1ddc-44d3-8e04-103e2c418a14",
   "metadata": {},
   "outputs": [
    {
     "data": {
      "text/plain": [
       "2.0"
      ]
     },
     "execution_count": 35,
     "metadata": {},
     "output_type": "execute_result"
    }
   ],
   "source": [
    "m.sqrt(4)"
   ]
  },
  {
   "cell_type": "code",
   "execution_count": 36,
   "id": "48fb62d6-1660-4d2e-9810-397b0985c853",
   "metadata": {},
   "outputs": [],
   "source": [
    "from math import sqrt"
   ]
  },
  {
   "cell_type": "code",
   "execution_count": 37,
   "id": "7cf9fa09-e903-4743-a5c8-07576d560539",
   "metadata": {},
   "outputs": [
    {
     "data": {
      "text/plain": [
       "2.0"
      ]
     },
     "execution_count": 37,
     "metadata": {},
     "output_type": "execute_result"
    }
   ],
   "source": [
    "sqrt(4)"
   ]
  },
  {
   "cell_type": "code",
   "execution_count": 38,
   "id": "544486a7-95c6-42cd-94ce-9c015a2ce873",
   "metadata": {},
   "outputs": [],
   "source": [
    "# sin(pi/2) 의 답이 1이 나오도록 import 해주세요."
   ]
  },
  {
   "cell_type": "code",
   "execution_count": 47,
   "id": "183885c2-f954-4c03-8c4d-e5c942fd9ff9",
   "metadata": {},
   "outputs": [
    {
     "data": {
      "text/plain": [
       "1.0"
      ]
     },
     "execution_count": 47,
     "metadata": {},
     "output_type": "execute_result"
    }
   ],
   "source": [
    "from math import sin, pi\n",
    "sin(pi/2)"
   ]
  },
  {
   "cell_type": "code",
   "execution_count": 49,
   "id": "c12a8046-c148-47e4-8245-ad1f07c39943",
   "metadata": {},
   "outputs": [],
   "source": [
    "import matplotlib.pyplot as plt\n",
    "import numpy as np"
   ]
  },
  {
   "cell_type": "code",
   "execution_count": 56,
   "id": "6c19a500-be63-4fe0-b6b5-59d55a159213",
   "metadata": {},
   "outputs": [
    {
     "data": {
      "text/plain": [
       "array([ 0.00000000e+00,  6.42787610e-01,  9.84807753e-01,  8.66025404e-01,\n",
       "        3.42020143e-01, -3.42020143e-01, -8.66025404e-01, -9.84807753e-01,\n",
       "       -6.42787610e-01, -2.44929360e-16])"
      ]
     },
     "execution_count": 56,
     "metadata": {},
     "output_type": "execute_result"
    }
   ],
   "source": [
    "x = np.linspace(0, 2*np.pi, 10 )   #0부터 10개의 동일한 간격으로 쪼개기\n",
    "np. sin(x)                       "
   ]
  },
  {
   "cell_type": "code",
   "execution_count": 57,
   "id": "22b567ad-719d-4443-b3fb-44b76ca4a230",
   "metadata": {},
   "outputs": [
    {
     "data": {
      "text/plain": [
       "[<matplotlib.lines.Line2D at 0x22a85268a30>]"
      ]
     },
     "execution_count": 57,
     "metadata": {},
     "output_type": "execute_result"
    },
    {
     "data": {
      "image/png": "[encoded data removed]",
      "text/plain": [
       "<Figure size 432x288 with 1 Axes>"
      ]
     },
     "metadata": {
      "needs_background": "light"
     },
     "output_type": "display_data"
    }
   ],
   "source": [
    "y = np.sin(x)\n",
    "plt.plot(x, y)"
   ]
  },
  {
   "cell_type": "code",
   "execution_count": 64,
   "id": "392c34fa-bc39-402b-965b-0b618d0b7ff5",
   "metadata": {},
   "outputs": [
    {
     "data": {
      "text/plain": [
       "[<matplotlib.lines.Line2D at 0x22a86f80760>]"
      ]
     },
     "execution_count": 64,
     "metadata": {},
     "output_type": "execute_result"
    },
    {
     "data": {
      "image/png": "[encoded data removed]",
      "text/plain": [
       "<Figure size 432x288 with 1 Axes>"
      ]
     },
     "metadata": {
      "needs_background": "light"
     },
     "output_type": "display_data"
    }
   ],
   "source": [
    "x = np.linspace(0, 2*np.pi, 100 )\n",
    "plt.plot(x, np.sin(x))"
   ]
  },
  {
   "cell_type": "code",
   "execution_count": null,
   "id": "07481b71-bdb1-4d36-bff5-2891e4c99022",
   "metadata": {},
   "outputs": [],
   "source": [
    "# 0부터 2pi 까지 cos의 그래프를 그려주세요."
   ]
  },
  {
   "cell_type": "code",
   "execution_count": 63,
   "id": "9bf02098-f1aa-4169-a304-0f1de21d41b1",
   "metadata": {},
   "outputs": [
    {
     "data": {
      "text/plain": [
       "[<matplotlib.lines.Line2D at 0x22a86f0ed30>]"
      ]
     },
     "execution_count": 63,
     "metadata": {},
     "output_type": "execute_result"
    },
    {
     "data": {
      "image/png": "[encoded data removed]",
      "text/plain": [
       "<Figure size 432x288 with 1 Axes>"
      ]
     },
     "metadata": {
      "needs_background": "light"
     },
     "output_type": "display_data"
    }
   ],
   "source": [
    "x = np.linspace(0, 2*np.pi, 100)\n",
    "plt.plot(x, np.cos(x))"
   ]
  },
  {
   "cell_type": "code",
   "execution_count": 3,
   "id": "12f4d10f-ee7d-4d13-a425-8404180f31c6",
   "metadata": {},
   "outputs": [],
   "source": [
    "# 0부터 2pi 까지 sin과 cos의 그래프를 그려주세요."
   ]
  },
  {
   "cell_type": "code",
   "execution_count": 66,
   "id": "fdeb360a-57dc-462a-a101-a51d7a5b3ccb",
   "metadata": {},
   "outputs": [
    {
     "data": {
      "text/plain": [
       "[<matplotlib.lines.Line2D at 0x22a86ff8280>]"
      ]
     },
     "execution_count": 66,
     "metadata": {},
     "output_type": "execute_result"
    },
    {
     "data": {
      "image/png": "[encoded data removed]",
      "text/plain": [
       "<Figure size 432x288 with 1 Axes>"
      ]
     },
     "metadata": {},
     "output_type": "display_data"
    }
   ],
   "source": [
    "x = np.linspace(0, 2*np.pi, 100)\n",
    "plt.plot(x,np.sin(x))\n",
    "plt.plot(x,np.cos(x))"
   ]
  },
  {
   "cell_type": "code",
   "execution_count": 65,
   "id": "d1894538-c565-4867-83f3-a28e0f80c7e3",
   "metadata": {},
   "outputs": [],
   "source": [
    "plt.style.use(\"ggplot\")"
   ]
  },
  {
   "cell_type": "code",
   "execution_count": 9,
   "id": "20a32925-6e1a-4a94-b8ef-5ac0330b81f9",
   "metadata": {},
   "outputs": [
    {
     "name": "stdout",
     "output_type": "stream",
     "text": [
      "3\n",
      "3.1\n",
      "3.14\n",
      "3.15\n"
     ]
    }
   ],
   "source": [
    "print(round(3.14))   #반올림\n",
    "print(round(3.14, 1))   #반올림 소수점\n",
    "print(round(3.14, 2))\n",
    "print(round(3.145, 2))"
   ]
  },
  {
   "cell_type": "code",
   "execution_count": 11,
   "id": "29d274eb-07bb-42c3-95d0-1f39b01068bd",
   "metadata": {},
   "outputs": [
    {
     "data": {
      "text/plain": [
       "4"
      ]
     },
     "execution_count": 11,
     "metadata": {},
     "output_type": "execute_result"
    }
   ],
   "source": [
    "import math\n",
    "math.ceil(3.14)  #올림"
   ]
  },
  {
   "cell_type": "code",
   "execution_count": 12,
   "id": "69d02a18-3ca6-4d75-bd1f-64d7df2f3f9a",
   "metadata": {},
   "outputs": [
    {
     "data": {
      "text/plain": [
       "3"
      ]
     },
     "execution_count": 12,
     "metadata": {},
     "output_type": "execute_result"
    }
   ],
   "source": [
    "math.floor(3.14) #내림"
   ]
  },
  {
   "cell_type": "markdown",
   "id": "b6f2da18-1458-4cc4-b14a-a661be950cd4",
   "metadata": {},
   "source": [
    "##  문자형"
   ]
  },
  {
   "cell_type": "code",
   "execution_count": 13,
   "id": "f73bce60-4e00-49ca-afee-5db72f0badbf",
   "metadata": {},
   "outputs": [
    {
     "name": "stdout",
     "output_type": "stream",
     "text": [
      "Hello\n"
     ]
    }
   ],
   "source": [
    "a = \"Hello\"\n",
    "print(a)"
   ]
  },
  {
   "cell_type": "code",
   "execution_count": 16,
   "id": "d9f8581c-2ebc-408d-8960-3bc9c6ed33ea",
   "metadata": {},
   "outputs": [],
   "source": [
    "#그녀는 나에게 \"사랑해요\"라고 말했다."
   ]
  },
  {
   "cell_type": "code",
   "execution_count": 15,
   "id": "2fda2ad7-d2c1-4a52-aa93-cd9940ccd0cb",
   "metadata": {},
   "outputs": [
    {
     "name": "stdout",
     "output_type": "stream",
     "text": [
      "그녀는 나에게 \"사랑해요\"라고 말했다.\n"
     ]
    }
   ],
   "source": [
    "print('그녀는 나에게 \"사랑해요\"라고 말했다.')"
   ]
  },
  {
   "cell_type": "code",
   "execution_count": 43,
   "id": "c8649302-6ab2-4d81-9140-702a53a6c609",
   "metadata": {},
   "outputs": [
    {
     "name": "stdout",
     "output_type": "stream",
     "text": [
      "\n",
      "우리나라 대한민국\n",
      "무궁화 삼천리\n",
      "\n"
     ]
    }
   ],
   "source": [
    "a = '''\n",
    "우리나라 대한민국\n",
    "무궁화 삼천리\n",
    "'''\n",
    "print(a)  #줄바꿈"
   ]
  },
  {
   "cell_type": "code",
   "execution_count": 175,
   "id": "e6ec63d4-5bac-4f99-8d0c-6e76ff09e875",
   "metadata": {},
   "outputs": [
    {
     "name": "stdout",
     "output_type": "stream",
     "text": [
      " 우리나라 대한민국 \n",
      " 무궁화 삼천리 \n"
     ]
    }
   ],
   "source": [
    "a = ' 우리나라 대한민국 \\n 무궁화 삼천리 '   # \\n 줄바꿈\n",
    "print(a)"
   ]
  },
  {
   "cell_type": "code",
   "execution_count": 20,
   "id": "7702401e-b446-46ca-bc57-93386516e302",
   "metadata": {},
   "outputs": [
    {
     "name": "stdout",
     "output_type": "stream",
     "text": [
      "그녀는 나에게 \"사랑해요.\"라고 말했다\n"
     ]
    }
   ],
   "source": [
    "print(\"그녀는 나에게 \\\"사랑해요.\\\"라고 말했다\")"
   ]
  },
  {
   "cell_type": "code",
   "execution_count": 23,
   "id": "0860665a-db83-43e8-93ff-9e861f352607",
   "metadata": {},
   "outputs": [],
   "source": [
    "#따음표 안의 역슬레시는 이스케이프합니다.\n",
    "#\\n: 줄바꿈    #\\t:탭"
   ]
  },
  {
   "cell_type": "code",
   "execution_count": 26,
   "id": "074adb7a-411d-45ec-81d2-4510defd40b9",
   "metadata": {},
   "outputs": [
    {
     "name": "stdout",
     "output_type": "stream",
     "text": [
      " I love \n",
      "ew shoes \n"
     ]
    }
   ],
   "source": [
    "a = ' I love \\new shoes '\n",
    "print(a)"
   ]
  },
  {
   "cell_type": "code",
   "execution_count": 27,
   "id": "8acc6a7c-16b0-493e-b531-a78a89a0eacf",
   "metadata": {},
   "outputs": [
    {
     "name": "stdout",
     "output_type": "stream",
     "text": [
      " I love \tew shoes \n"
     ]
    }
   ],
   "source": [
    "a = ' I love \\tew shoes '\n",
    "print(a)"
   ]
  },
  {
   "cell_type": "markdown",
   "id": "3cbdc49d-bcd9-4d8b-9adc-96ea5eceaf94",
   "metadata": {},
   "source": [
    "### 문자열의 연산"
   ]
  },
  {
   "cell_type": "code",
   "execution_count": 29,
   "id": "bbabff0d-f991-4c86-92b0-59d018aa0f8a",
   "metadata": {},
   "outputs": [],
   "source": [
    "a = \"아버지\"\n",
    "b = '가방'"
   ]
  },
  {
   "cell_type": "code",
   "execution_count": 30,
   "id": "d07822a4-609a-4b6a-a2af-423036212b0e",
   "metadata": {},
   "outputs": [
    {
     "data": {
      "text/plain": [
       "'아버지가방'"
      ]
     },
     "execution_count": 30,
     "metadata": {},
     "output_type": "execute_result"
    }
   ],
   "source": [
    "a + b"
   ]
  },
  {
   "cell_type": "code",
   "execution_count": 31,
   "id": "e0ae9506-573e-43b8-ad58-e65504566828",
   "metadata": {},
   "outputs": [
    {
     "ename": "TypeError",
     "evalue": "unsupported operand type(s) for -: 'str' and 'str'",
     "output_type": "error",
     "traceback": [
      "\u001b[1;31m---------------------------------------------------------------------------\u001b[0m",
      "\u001b[1;31mTypeError\u001b[0m                                 Traceback (most recent call last)",
      "Input \u001b[1;32mIn [31]\u001b[0m, in \u001b[0;36m<cell line: 1>\u001b[1;34m()\u001b[0m\n\u001b[1;32m----> 1\u001b[0m \u001b[43ma\u001b[49m\u001b[43m \u001b[49m\u001b[38;5;241;43m-\u001b[39;49m\u001b[43mb\u001b[49m\n",
      "\u001b[1;31mTypeError\u001b[0m: unsupported operand type(s) for -: 'str' and 'str'"
     ]
    }
   ],
   "source": [
    "a -b"
   ]
  },
  {
   "cell_type": "code",
   "execution_count": 32,
   "id": "ead9db7e-b794-47f7-967a-8174c203df65",
   "metadata": {},
   "outputs": [
    {
     "ename": "TypeError",
     "evalue": "can't multiply sequence by non-int of type 'str'",
     "output_type": "error",
     "traceback": [
      "\u001b[1;31m---------------------------------------------------------------------------\u001b[0m",
      "\u001b[1;31mTypeError\u001b[0m                                 Traceback (most recent call last)",
      "Input \u001b[1;32mIn [32]\u001b[0m, in \u001b[0;36m<cell line: 1>\u001b[1;34m()\u001b[0m\n\u001b[1;32m----> 1\u001b[0m \u001b[43ma\u001b[49m\u001b[38;5;241;43m*\u001b[39;49m\u001b[43mb\u001b[49m\n",
      "\u001b[1;31mTypeError\u001b[0m: can't multiply sequence by non-int of type 'str'"
     ]
    }
   ],
   "source": [
    "a*b"
   ]
  },
  {
   "cell_type": "code",
   "execution_count": 33,
   "id": "0d47d8b8-6a33-46b4-b28e-856bc9457bcf",
   "metadata": {},
   "outputs": [
    {
     "ename": "TypeError",
     "evalue": "unsupported operand type(s) for /: 'str' and 'str'",
     "output_type": "error",
     "traceback": [
      "\u001b[1;31m---------------------------------------------------------------------------\u001b[0m",
      "\u001b[1;31mTypeError\u001b[0m                                 Traceback (most recent call last)",
      "Input \u001b[1;32mIn [33]\u001b[0m, in \u001b[0;36m<cell line: 1>\u001b[1;34m()\u001b[0m\n\u001b[1;32m----> 1\u001b[0m \u001b[43ma\u001b[49m\u001b[38;5;241;43m/\u001b[39;49m\u001b[43mb\u001b[49m\n",
      "\u001b[1;31mTypeError\u001b[0m: unsupported operand type(s) for /: 'str' and 'str'"
     ]
    }
   ],
   "source": [
    "a/b"
   ]
  },
  {
   "cell_type": "code",
   "execution_count": 36,
   "id": "af68f7f7-6620-4cf9-9c1f-7275efe93393",
   "metadata": {},
   "outputs": [
    {
     "data": {
      "text/plain": [
       "'아버지가방'"
      ]
     },
     "execution_count": 36,
     "metadata": {},
     "output_type": "execute_result"
    }
   ],
   "source": [
    "a + b  # concatenate"
   ]
  },
  {
   "cell_type": "code",
   "execution_count": 34,
   "id": "ea1aaf3a-a742-45a6-b654-7ebc5757a093",
   "metadata": {},
   "outputs": [
    {
     "data": {
      "text/plain": [
       "'아버지아버지아버지'"
      ]
     },
     "execution_count": 34,
     "metadata": {},
     "output_type": "execute_result"
    }
   ],
   "source": [
    "a * 3"
   ]
  },
  {
   "cell_type": "code",
   "execution_count": 39,
   "id": "c05cfabc-4f45-4344-ba56-ee0e580929fa",
   "metadata": {},
   "outputs": [
    {
     "name": "stdout",
     "output_type": "stream",
     "text": [
      "제 1장 끝\n",
      "------------------------------\n",
      "제 2장 시작\n"
     ]
    }
   ],
   "source": [
    "print(\"제 1장 끝\")\n",
    "print(\"-\"*30)\n",
    "print(\"제 2장 시작\")"
   ]
  },
  {
   "cell_type": "code",
   "execution_count": 176,
   "id": "a270cba3-69b7-4cb1-a944-53bd605d4f99",
   "metadata": {},
   "outputs": [
    {
     "data": {
      "text/plain": [
       "21"
      ]
     },
     "execution_count": 176,
     "metadata": {},
     "output_type": "execute_result"
    }
   ],
   "source": [
    "len(a)  #length  문자열의 길이"
   ]
  },
  {
   "cell_type": "markdown",
   "id": "485075d5-5247-4263-8bc0-8374c8d790ef",
   "metadata": {},
   "source": [
    "### 인덱싱 indexing"
   ]
  },
  {
   "cell_type": "code",
   "execution_count": 42,
   "id": "a6738bc6-094c-4390-8201-95b0d950972d",
   "metadata": {},
   "outputs": [],
   "source": [
    "a = \"Hello\""
   ]
  },
  {
   "cell_type": "code",
   "execution_count": 43,
   "id": "2b65b2e1-1b0f-43e7-b132-528d184da645",
   "metadata": {},
   "outputs": [
    {
     "data": {
      "text/plain": [
       "5"
      ]
     },
     "execution_count": 43,
     "metadata": {},
     "output_type": "execute_result"
    }
   ],
   "source": [
    "len(a)"
   ]
  },
  {
   "cell_type": "code",
   "execution_count": 48,
   "id": "aba75cc9-3528-4e52-950e-c3b0b35d8583",
   "metadata": {},
   "outputs": [
    {
     "data": {
      "text/plain": [
       "'H'"
      ]
     },
     "execution_count": 48,
     "metadata": {},
     "output_type": "execute_result"
    }
   ],
   "source": [
    "a[0]"
   ]
  },
  {
   "cell_type": "code",
   "execution_count": 49,
   "id": "9999c518-894a-4c08-9c49-1b392d8453bd",
   "metadata": {},
   "outputs": [
    {
     "data": {
      "text/plain": [
       "'H'"
      ]
     },
     "execution_count": 49,
     "metadata": {},
     "output_type": "execute_result"
    }
   ],
   "source": [
    "a[-5]"
   ]
  },
  {
   "cell_type": "code",
   "execution_count": 50,
   "id": "5e41faa1-f83e-431a-a9e1-b607db95f03b",
   "metadata": {},
   "outputs": [
    {
     "data": {
      "text/plain": [
       "13"
      ]
     },
     "execution_count": 50,
     "metadata": {},
     "output_type": "execute_result"
    }
   ],
   "source": [
    "a = \"Life is short\"\n",
    "len(a)"
   ]
  },
  {
   "cell_type": "code",
   "execution_count": 51,
   "id": "d4ab76f8-2e32-49b4-899e-24098d515e49",
   "metadata": {},
   "outputs": [
    {
     "data": {
      "text/plain": [
       "'i'"
      ]
     },
     "execution_count": 51,
     "metadata": {},
     "output_type": "execute_result"
    }
   ],
   "source": [
    "a[5]"
   ]
  },
  {
   "cell_type": "code",
   "execution_count": 52,
   "id": "311588cc-4b91-44e2-8c88-9d8692cf5058",
   "metadata": {},
   "outputs": [
    {
     "data": {
      "text/plain": [
       "'r'"
      ]
     },
     "execution_count": 52,
     "metadata": {},
     "output_type": "execute_result"
    }
   ],
   "source": [
    "a[-2]"
   ]
  },
  {
   "cell_type": "code",
   "execution_count": 58,
   "id": "a1995608-0869-4221-8703-f9674b2f97ad",
   "metadata": {},
   "outputs": [
    {
     "name": "stdout",
     "output_type": "stream",
     "text": [
      "is\n"
     ]
    }
   ],
   "source": [
    "print(a[5] + a[6])"
   ]
  },
  {
   "cell_type": "markdown",
   "id": "73a79856-3bcd-4d9e-8453-4b65e7195dc8",
   "metadata": {},
   "source": [
    "### 슬라이싱 slicing"
   ]
  },
  {
   "cell_type": "code",
   "execution_count": 3,
   "id": "31649277-e660-4160-a23d-33268df0dcc4",
   "metadata": {},
   "outputs": [
    {
     "data": {
      "text/plain": [
       "'is'"
      ]
     },
     "execution_count": 3,
     "metadata": {},
     "output_type": "execute_result"
    }
   ],
   "source": [
    "#a[start : stop ]\n",
    "a = \"Life is short\"\n",
    "a[5:7]"
   ]
  },
  {
   "cell_type": "code",
   "execution_count": 4,
   "id": "cefb3b91-244c-4d82-9f32-f429bbf39c1a",
   "metadata": {},
   "outputs": [
    {
     "data": {
      "text/plain": [
       "'Life'"
      ]
     },
     "execution_count": 4,
     "metadata": {},
     "output_type": "execute_result"
    }
   ],
   "source": [
    "a = \"Life is short\"\n",
    "\"Life\"\n",
    "a[0:4]"
   ]
  },
  {
   "cell_type": "code",
   "execution_count": 5,
   "id": "8e998b1a-506f-4262-aff3-57842e155aeb",
   "metadata": {},
   "outputs": [
    {
     "data": {
      "text/plain": [
       "13"
      ]
     },
     "execution_count": 5,
     "metadata": {},
     "output_type": "execute_result"
    }
   ],
   "source": [
    "len(a)"
   ]
  },
  {
   "cell_type": "code",
   "execution_count": 11,
   "id": "54f43a97-03eb-42d0-8386-42e66a8bcc22",
   "metadata": {},
   "outputs": [],
   "source": [
    "a = \"Life is short\""
   ]
  },
  {
   "cell_type": "code",
   "execution_count": 9,
   "id": "b2865b3e-4ea6-4782-9461-6ace8eafd3e5",
   "metadata": {},
   "outputs": [
    {
     "data": {
      "text/plain": [
       "'short'"
      ]
     },
     "execution_count": 9,
     "metadata": {},
     "output_type": "execute_result"
    }
   ],
   "source": [
    "a[8:13]"
   ]
  },
  {
   "cell_type": "code",
   "execution_count": 12,
   "id": "64d639b7-b192-4385-b104-8e745fd8cda2",
   "metadata": {},
   "outputs": [
    {
     "data": {
      "text/plain": [
       "'short'"
      ]
     },
     "execution_count": 12,
     "metadata": {},
     "output_type": "execute_result"
    }
   ],
   "source": [
    "a[8: ]"
   ]
  },
  {
   "cell_type": "code",
   "execution_count": 13,
   "id": "f24ac7e9-acc5-4b2c-97de-6299f25f43b0",
   "metadata": {},
   "outputs": [
    {
     "data": {
      "text/plain": [
       "'Life'"
      ]
     },
     "execution_count": 13,
     "metadata": {},
     "output_type": "execute_result"
    }
   ],
   "source": [
    "a[ :4]"
   ]
  },
  {
   "cell_type": "code",
   "execution_count": 15,
   "id": "5e8f1eb5-faad-40ce-b3b5-c09276c74fe0",
   "metadata": {},
   "outputs": [
    {
     "data": {
      "text/plain": [
       "'Life is short'"
      ]
     },
     "execution_count": 15,
     "metadata": {},
     "output_type": "execute_result"
    }
   ],
   "source": [
    "a[ : ]"
   ]
  },
  {
   "cell_type": "code",
   "execution_count": 16,
   "id": "254c55d4-2e67-45ec-b87f-32901cedfae7",
   "metadata": {},
   "outputs": [
    {
     "data": {
      "text/plain": [
       "'Life is short'"
      ]
     },
     "execution_count": 16,
     "metadata": {},
     "output_type": "execute_result"
    }
   ],
   "source": [
    "a[:]"
   ]
  },
  {
   "cell_type": "code",
   "execution_count": 25,
   "id": "b17e5344-ded3-4f29-9060-0cfb47669bfd",
   "metadata": {},
   "outputs": [
    {
     "data": {
      "text/plain": [
       "30"
      ]
     },
     "execution_count": 25,
     "metadata": {},
     "output_type": "execute_result"
    }
   ],
   "source": [
    "a = \"Life is short. We need python.\"\n",
    "len(a)"
   ]
  },
  {
   "cell_type": "code",
   "execution_count": 22,
   "id": "215726b7-4c50-4a3e-b84c-b37ce158fc08",
   "metadata": {},
   "outputs": [
    {
     "data": {
      "text/plain": [
       "'short'"
      ]
     },
     "execution_count": 22,
     "metadata": {},
     "output_type": "execute_result"
    }
   ],
   "source": [
    "# short\n",
    "a[8:13]"
   ]
  },
  {
   "cell_type": "code",
   "execution_count": 23,
   "id": "0d0859ac-62ff-48ba-8151-3371a6882483",
   "metadata": {},
   "outputs": [
    {
     "data": {
      "text/plain": [
       "'need'"
      ]
     },
     "execution_count": 23,
     "metadata": {},
     "output_type": "execute_result"
    }
   ],
   "source": [
    "#need\n",
    "a[18:22]"
   ]
  },
  {
   "cell_type": "code",
   "execution_count": 24,
   "id": "06059b59-10a5-415e-8393-1d5d6b49d48c",
   "metadata": {},
   "outputs": [
    {
     "data": {
      "text/plain": [
       "'We need python'"
      ]
     },
     "execution_count": 24,
     "metadata": {},
     "output_type": "execute_result"
    }
   ],
   "source": [
    "# We need python.\n",
    "a[15: ]"
   ]
  },
  {
   "cell_type": "code",
   "execution_count": null,
   "id": "311ac825-506d-4543-8ac2-72a2afcc5b1d",
   "metadata": {},
   "outputs": [],
   "source": [
    "a = \"20220615rainy\"\n",
    "1) 모두 몇글자입니까?\n",
    "2) 2022\n",
    "    0615\n",
    "    rainy"
   ]
  },
  {
   "cell_type": "code",
   "execution_count": 26,
   "id": "e9c767e4-d674-401c-a3ad-9f6f6f0e7a42",
   "metadata": {},
   "outputs": [
    {
     "data": {
      "text/plain": [
       "13"
      ]
     },
     "execution_count": 26,
     "metadata": {},
     "output_type": "execute_result"
    }
   ],
   "source": [
    "a = \"20220615rainy\"\n",
    "len(a)"
   ]
  },
  {
   "cell_type": "code",
   "execution_count": 27,
   "id": "59517795-5bf9-4abe-8e66-2c53129765ce",
   "metadata": {},
   "outputs": [
    {
     "data": {
      "text/plain": [
       "'2022'"
      ]
     },
     "execution_count": 27,
     "metadata": {},
     "output_type": "execute_result"
    }
   ],
   "source": [
    "a[:4]"
   ]
  },
  {
   "cell_type": "code",
   "execution_count": 29,
   "id": "b11665cd-fdca-4cf1-b875-89fae9865e31",
   "metadata": {},
   "outputs": [
    {
     "data": {
      "text/plain": [
       "'0615'"
      ]
     },
     "execution_count": 29,
     "metadata": {},
     "output_type": "execute_result"
    }
   ],
   "source": [
    "a[4:8]"
   ]
  },
  {
   "cell_type": "code",
   "execution_count": 32,
   "id": "96946260-1c4f-45c4-9f6c-cd465e893289",
   "metadata": {},
   "outputs": [
    {
     "data": {
      "text/plain": [
       "'rainy'"
      ]
     },
     "execution_count": 32,
     "metadata": {},
     "output_type": "execute_result"
    }
   ],
   "source": [
    "a[8: ]"
   ]
  },
  {
   "cell_type": "code",
   "execution_count": null,
   "id": "3dbf9041-e680-4d55-a43f-8d8d24a14976",
   "metadata": {},
   "outputs": [],
   "source": [
    "1 <= a < 3 : 2개 \n",
    "1 < a <= 3 : 2개\n",
    "\n",
    "1 < a < 3 : 1개 \n",
    "1 <= a <= 3 : 3개\n",
    "\n",
    "\n",
    "10 <= a < 99 \n",
    "\n",
    "\n"
   ]
  },
  {
   "cell_type": "markdown",
   "id": "e2ccb61c-3d85-457a-af04-d6bf5360ad37",
   "metadata": {},
   "source": [
    "### 문자열의 메소드"
   ]
  },
  {
   "cell_type": "code",
   "execution_count": null,
   "id": "51d78061-fdc6-44f8-a352-98b48f884bcc",
   "metadata": {},
   "outputs": [
    {
     "data": {
      "text/plain": [
       "'hello'"
      ]
     },
     "execution_count": 42,
     "metadata": {},
     "output_type": "execute_result"
    }
   ],
   "source": [
    "a = \"Hello\"\n",
    "upper()\n",
    "lower()"
   ]
  },
  {
   "cell_type": "markdown",
   "id": "f5f8b28b-5374-46fa-bf1a-9caf4caa81d4",
   "metadata": {},
   "source": [
    "- upper() : 소문자를 대문자로 바꾸기\n",
    "- lower() : 대문자를 소문자로 바꾸기"
   ]
  },
  {
   "cell_type": "code",
   "execution_count": null,
   "id": "45616e30-a3ec-4877-9ad9-7b5ea7b26bfb",
   "metadata": {},
   "outputs": [
    {
     "ename": "NameError",
     "evalue": "name 'upper' is not defined",
     "output_type": "error",
     "traceback": [
      "\u001b[1;31m---------------------------------------------------------------------------\u001b[0m",
      "\u001b[1;31mNameError\u001b[0m                                 Traceback (most recent call last)",
      "Input \u001b[1;32mIn [35]\u001b[0m, in \u001b[0;36m<cell line: 2>\u001b[1;34m()\u001b[0m\n\u001b[0;32m      1\u001b[0m a \u001b[38;5;241m=\u001b[39m \u001b[38;5;124m\"\u001b[39m\u001b[38;5;124mHello\u001b[39m\u001b[38;5;124m\"\u001b[39m\n\u001b[1;32m----> 2\u001b[0m \u001b[43mupper\u001b[49m(a)\n",
      "\u001b[1;31mNameError\u001b[0m: name 'upper' is not defined"
     ]
    }
   ],
   "source": [
    "a = \"Hello\"\n",
    "upper(a)"
   ]
  },
  {
   "cell_type": "code",
   "execution_count": null,
   "id": "00819826-ea86-4d70-b8d1-ef0f26b962e9",
   "metadata": {},
   "outputs": [],
   "source": [
    "# 객체지향형 사고\n",
    "\n",
    "car\n",
    "run\n",
    "\n",
    "run(car)\n",
    "\n",
    "car.run()\n",
    "car.back()\n",
    "\n",
    "객체 : Object\n",
    "\n",
    "자동차 method 메소드 동사. run() back() turn()\n",
    "      attribute 속성 형용사. color\n",
    "새 : 동사. fly() sing()\n",
    "    형용사. size\n"
   ]
  },
  {
   "cell_type": "code",
   "execution_count": 36,
   "id": "667033db-22a0-46b7-af98-6cb65882a77e",
   "metadata": {},
   "outputs": [
    {
     "data": {
      "text/plain": [
       "'HELLO'"
      ]
     },
     "execution_count": 36,
     "metadata": {},
     "output_type": "execute_result"
    }
   ],
   "source": [
    "a = \"Hello\"\n",
    "a.upper()"
   ]
  },
  {
   "cell_type": "code",
   "execution_count": 37,
   "id": "5c7ba6a5-6f73-407d-a85c-2075eb510c0a",
   "metadata": {},
   "outputs": [
    {
     "data": {
      "text/plain": [
       "'hello'"
      ]
     },
     "execution_count": 37,
     "metadata": {},
     "output_type": "execute_result"
    }
   ],
   "source": [
    "a.lower()"
   ]
  },
  {
   "cell_type": "code",
   "execution_count": 39,
   "id": "c5946714-1c67-4549-b25c-bc2f2a052162",
   "metadata": {},
   "outputs": [],
   "source": [
    "t1 = a.upper()\n",
    "t2 = a.lower()\n",
    "c = t2+t1"
   ]
  },
  {
   "cell_type": "code",
   "execution_count": 2,
   "id": "84d895d4-8b8d-4ea0-8617-4e5f7dc01cf0",
   "metadata": {},
   "outputs": [],
   "source": [
    "a = \"Hello\""
   ]
  },
  {
   "cell_type": "code",
   "execution_count": 3,
   "id": "888018d8-2542-484a-989f-48f321ee34b2",
   "metadata": {},
   "outputs": [
    {
     "data": {
      "text/plain": [
       "'hello'"
      ]
     },
     "execution_count": 3,
     "metadata": {},
     "output_type": "execute_result"
    }
   ],
   "source": [
    "a.lower()"
   ]
  },
  {
   "cell_type": "code",
   "execution_count": 5,
   "id": "7bf1d338-ab9e-4ead-8ef6-248d12a38dd4",
   "metadata": {},
   "outputs": [],
   "source": [
    "A = a.lower()"
   ]
  },
  {
   "cell_type": "code",
   "execution_count": 6,
   "id": "bf5b6995-1658-4920-8aad-0ab2f6fdc887",
   "metadata": {},
   "outputs": [
    {
     "data": {
      "text/plain": [
       "'HELLO'"
      ]
     },
     "execution_count": 6,
     "metadata": {},
     "output_type": "execute_result"
    }
   ],
   "source": [
    "A.upper()"
   ]
  },
  {
   "cell_type": "markdown",
   "id": "b01cd77c-9942-4eb9-a663-9ef6c5491366",
   "metadata": {},
   "source": [
    "- capitalize()\n",
    "- title()"
   ]
  },
  {
   "cell_type": "code",
   "execution_count": 10,
   "id": "baba5fd6-4dbb-4691-9a85-8d6ea96bd89d",
   "metadata": {},
   "outputs": [
    {
     "data": {
      "text/plain": [
       "'Hello'"
      ]
     },
     "execution_count": 10,
     "metadata": {},
     "output_type": "execute_result"
    }
   ],
   "source": [
    "a.lower().upper().capitalize()"
   ]
  },
  {
   "cell_type": "code",
   "execution_count": 44,
   "id": "ba36fd2f-89b3-4cfd-9648-6119caf1e881",
   "metadata": {},
   "outputs": [
    {
     "data": {
      "text/plain": [
       "'Hello Good Morning'"
      ]
     },
     "execution_count": 44,
     "metadata": {},
     "output_type": "execute_result"
    }
   ],
   "source": [
    "A = \"Hello Good Morning\"\n",
    "A.lower().capitalize() #대문자로 시작하다\n",
    "A.lower().title()\n"
   ]
  },
  {
   "cell_type": "code",
   "execution_count": 14,
   "id": "88033d91-2543-49c9-80f9-cf26d07b17d1",
   "metadata": {},
   "outputs": [
    {
     "name": "stdout",
     "output_type": "stream",
     "text": [
      "Hello Good Morning\n"
     ]
    }
   ],
   "source": [
    "print(A.lower().title())"
   ]
  },
  {
   "cell_type": "markdown",
   "id": "d6305e3e-c68d-4753-8b73-ce20059af6fc",
   "metadata": {},
   "source": [
    "- strip( ) : 빈칸 제거"
   ]
  },
  {
   "cell_type": "code",
   "execution_count": 16,
   "id": "85c03512-3648-4093-9ce3-bad88b40d4c3",
   "metadata": {},
   "outputs": [
    {
     "data": {
      "text/plain": [
       "'Hello'"
      ]
     },
     "execution_count": 16,
     "metadata": {},
     "output_type": "execute_result"
    }
   ],
   "source": [
    "a = \"    Hello    \"\n",
    "a.strip()"
   ]
  },
  {
   "cell_type": "code",
   "execution_count": 19,
   "id": "c00e6c62-4303-4fdc-9e06-73391f3d5f8e",
   "metadata": {},
   "outputs": [
    {
     "data": {
      "text/plain": [
       "'Hello    '"
      ]
     },
     "execution_count": 19,
     "metadata": {},
     "output_type": "execute_result"
    }
   ],
   "source": [
    "a.lstrip() #왼쪽 빈칸 제거"
   ]
  },
  {
   "cell_type": "code",
   "execution_count": 20,
   "id": "a6e3bd2f-1dbc-46cc-8556-4ac84a280d0c",
   "metadata": {},
   "outputs": [
    {
     "data": {
      "text/plain": [
       "'    Hello'"
      ]
     },
     "execution_count": 20,
     "metadata": {},
     "output_type": "execute_result"
    }
   ],
   "source": [
    "a.rstrip() #오른쪽 빈칸 제거"
   ]
  },
  {
   "cell_type": "markdown",
   "id": "c2ea7a47-2457-42c4-be14-e99a4e7908de",
   "metadata": {},
   "source": [
    "- replace( ) : 문자열 바꾸기 replace(바뀌게 될 문자열, 바꿀 문자열)"
   ]
  },
  {
   "cell_type": "code",
   "execution_count": 25,
   "id": "b024e705-06ca-4d6c-bbdb-0db2343e07b6",
   "metadata": {},
   "outputs": [
    {
     "data": {
      "text/plain": [
       "'    Heooo    '"
      ]
     },
     "execution_count": 25,
     "metadata": {},
     "output_type": "execute_result"
    }
   ],
   "source": [
    "a.replace('l', 'o')"
   ]
  },
  {
   "cell_type": "markdown",
   "id": "3872da2a-02ec-4e10-b10f-1c68b8aa839c",
   "metadata": {},
   "source": [
    "- count ( ) : 문자 개수 세기"
   ]
  },
  {
   "cell_type": "code",
   "execution_count": 26,
   "id": "b299f6b2-1d94-4bb0-a477-6f11ce1e50ab",
   "metadata": {},
   "outputs": [
    {
     "data": {
      "text/plain": [
       "2"
      ]
     },
     "execution_count": 26,
     "metadata": {},
     "output_type": "execute_result"
    }
   ],
   "source": [
    "a.count(\"l\")"
   ]
  },
  {
   "cell_type": "markdown",
   "id": "4d27a0df-9834-47f8-afa1-42884289f3b4",
   "metadata": {},
   "source": [
    "- split ( ) : 문자열 나누기"
   ]
  },
  {
   "cell_type": "code",
   "execution_count": 29,
   "id": "49e70042-7284-44dd-9516-9ccad194e160",
   "metadata": {},
   "outputs": [
    {
     "data": {
      "text/plain": [
       "['Good', 'Morning', 'Hello']"
      ]
     },
     "execution_count": 29,
     "metadata": {},
     "output_type": "execute_result"
    }
   ],
   "source": [
    "a = 'Good Morning Hello'\n",
    "a.split() # 공백을 기준으로 문자열 나눔"
   ]
  },
  {
   "cell_type": "code",
   "execution_count": 32,
   "id": "12f87dc1-f6cf-487f-a5a9-728999d33967",
   "metadata": {},
   "outputs": [
    {
     "data": {
      "text/plain": [
       "['Good', 'Morning', 'Hello']"
      ]
     },
     "execution_count": 32,
     "metadata": {},
     "output_type": "execute_result"
    }
   ],
   "source": [
    "a = 'Good:Morning:Hello'\n",
    "a.split(':') # 기호를 기준으로 문자열 나눔"
   ]
  },
  {
   "cell_type": "markdown",
   "id": "4437e145-44c5-48b2-a9d0-336ed3846b9a",
   "metadata": {},
   "source": [
    "- join : 문자열 삽입"
   ]
  },
  {
   "cell_type": "code",
   "execution_count": 34,
   "id": "ee4bf225-1be8-4ce1-944c-8722b7a44907",
   "metadata": {},
   "outputs": [
    {
     "data": {
      "text/plain": [
       "'a,b,c,d'"
      ]
     },
     "execution_count": 34,
     "metadata": {},
     "output_type": "execute_result"
    }
   ],
   "source": [
    "\",\".join(\"abcd\") # abcd문자열 각각의 문자 사이에 ','를 삽입한다"
   ]
  },
  {
   "cell_type": "code",
   "execution_count": 35,
   "id": "2c0f2022-cdc2-461e-b376-1c482b5cebad",
   "metadata": {},
   "outputs": [
    {
     "data": {
      "text/plain": [
       "'a:b:c:d'"
      ]
     },
     "execution_count": 35,
     "metadata": {},
     "output_type": "execute_result"
    }
   ],
   "source": [
    "\":\".join(\"abcd\")"
   ]
  },
  {
   "cell_type": "code",
   "execution_count": 36,
   "id": "045b0f59-1515-4552-aa91-f4e97a1795b0",
   "metadata": {},
   "outputs": [
    {
     "data": {
      "text/plain": [
       "'a  b  c  d'"
      ]
     },
     "execution_count": 36,
     "metadata": {},
     "output_type": "execute_result"
    }
   ],
   "source": [
    "\"  \".join(\"abcd\")"
   ]
  },
  {
   "cell_type": "markdown",
   "id": "b75b6863-a55a-4253-a322-ce040d939a9a",
   "metadata": {},
   "source": [
    "- find : 위치 알려주기"
   ]
  },
  {
   "cell_type": "code",
   "execution_count": 40,
   "id": "8f8a58a7-e6e2-4c6c-a5b8-d36c79544565",
   "metadata": {},
   "outputs": [
    {
     "data": {
      "text/plain": [
       "'Good:Morning:Hello'"
      ]
     },
     "execution_count": 40,
     "metadata": {},
     "output_type": "execute_result"
    }
   ],
   "source": [
    "a"
   ]
  },
  {
   "cell_type": "code",
   "execution_count": 43,
   "id": "f92edd09-89d9-44d5-b65d-b05127e8561e",
   "metadata": {},
   "outputs": [
    {
     "data": {
      "text/plain": [
       "5"
      ]
     },
     "execution_count": 43,
     "metadata": {},
     "output_type": "execute_result"
    }
   ],
   "source": [
    "a.find(\"M\") #문자열에서 m이 처음 나온 위치"
   ]
  },
  {
   "cell_type": "code",
   "execution_count": 41,
   "id": "35ea611e-e0c8-461e-986d-71d3efcfdbdb",
   "metadata": {},
   "outputs": [
    {
     "data": {
      "text/plain": [
       "1"
      ]
     },
     "execution_count": 41,
     "metadata": {},
     "output_type": "execute_result"
    }
   ],
   "source": [
    "a.find('o')"
   ]
  },
  {
   "cell_type": "code",
   "execution_count": 44,
   "id": "7d8e926b-8baa-4e03-b582-7838c8e89c73",
   "metadata": {},
   "outputs": [
    {
     "data": {
      "text/plain": [
       "-1"
      ]
     },
     "execution_count": 44,
     "metadata": {},
     "output_type": "execute_result"
    }
   ],
   "source": [
    "a.find('a') #찾는 문자나 문자열이 존재하지 않는다면 -1을 반환한다"
   ]
  },
  {
   "cell_type": "markdown",
   "id": "a309c84c-7150-4425-8cd4-b4d1d37a6469",
   "metadata": {},
   "source": [
    "### formattiing "
   ]
  },
  {
   "cell_type": "code",
   "execution_count": 45,
   "id": "3ea8f933-f203-4602-927a-5b455b919396",
   "metadata": {},
   "outputs": [
    {
     "name": "stdout",
     "output_type": "stream",
     "text": [
      "I ate 3 apples. So I sicked two days\n"
     ]
    }
   ],
   "source": [
    "print('I ate 3 apples. So I sicked two days')"
   ]
  },
  {
   "cell_type": "code",
   "execution_count": 56,
   "id": "dc893394-41c7-4c90-aef9-956905ef77b1",
   "metadata": {},
   "outputs": [
    {
     "name": "stdout",
     "output_type": "stream",
     "text": [
      "I ate number apples. So I sicked day days\n",
      "I ate 3 apples. So I sicked two days\n"
     ]
    }
   ],
   "source": [
    "# 방법 1\n",
    "# %를 이용하기\n",
    "number = 3\n",
    "day = \"two\"\n",
    "\n",
    "print('I ate number apples. So I sicked day days')\n",
    "print('I ate %d apples. So I sicked %s days' %(number, day))  \n",
    "\n",
    "# 포맷코드 : %s string 문자열 변수 / %d int정수, 숫자 변수\n"
   ]
  },
  {
   "cell_type": "code",
   "execution_count": 59,
   "id": "83d6a196-ce27-4b65-a913-ddb560f05c25",
   "metadata": {},
   "outputs": [
    {
     "name": "stdout",
     "output_type": "stream",
     "text": [
      "I ate number apples. So I sicked day days\n",
      "I ate 3 apples. So I sicked two days\n",
      "I ate 3 apples. So I sicked two days\n",
      "I ate two apples. So I sicked 3 days\n",
      "I ate 3 apples and 3 bananas. So I sicked two days\n"
     ]
    }
   ],
   "source": [
    "# 방법 2\n",
    "# .format 이용하기\n",
    "\n",
    "number = 3\n",
    "day = \"two\"\n",
    "\n",
    "print('I ate number apples. So I sicked day days')\n",
    "print('I ate {} apples. So I sicked {} days'.format(number, day))\n",
    "print('I ate {0} apples. So I sicked {1} days'.format(number, day))\n",
    "print('I ate {1} apples. So I sicked {0} days'.format(number, day))\n",
    "print('I ate {0} apples and {0} bananas. So I sicked {1} days'.format(number, day))\n",
    "\n",
    "# 변수를 {} 로 표시\n"
   ]
  },
  {
   "cell_type": "code",
   "execution_count": 61,
   "id": "e2c2ef3d-8432-4210-b8d0-b77d09bab885",
   "metadata": {},
   "outputs": [
    {
     "name": "stdout",
     "output_type": "stream",
     "text": [
      "I ate number apples. So I sicked day days\n",
      "I ate 3 apples. So I sicked two days\n"
     ]
    }
   ],
   "source": [
    "# 방법 3\n",
    "# f-string\n",
    "\n",
    "number = 3\n",
    "day = \"two\"\n",
    "\n",
    "print('I ate number apples. So I sicked day days')\n",
    "print(f'I ate {number} apples. So I sicked {day} days')\n",
    "\n"
   ]
  },
  {
   "cell_type": "markdown",
   "id": "333bfb3a-cd61-44b6-87a2-75aeb457748d",
   "metadata": {},
   "source": [
    "### input( ) 함수\n",
    "- 사용자의 입력을 받는다.\n",
    "- 받은 값은 문자열(str)이다."
   ]
  },
  {
   "cell_type": "code",
   "execution_count": 62,
   "id": "39079279-5cf4-43ac-826d-1d0d6585a65a",
   "metadata": {},
   "outputs": [
    {
     "name": "stdin",
     "output_type": "stream",
     "text": [
      "이름은요? 전우치\n"
     ]
    },
    {
     "data": {
      "text/plain": [
       "'전우치'"
      ]
     },
     "execution_count": 62,
     "metadata": {},
     "output_type": "execute_result"
    }
   ],
   "source": [
    "input('이름은요?')"
   ]
  },
  {
   "cell_type": "code",
   "execution_count": 63,
   "id": "0a90259c-ebbd-4c00-aa77-166f9a6aed9e",
   "metadata": {},
   "outputs": [
    {
     "name": "stdin",
     "output_type": "stream",
     "text": [
      "이름은요? 전우치\n"
     ]
    }
   ],
   "source": [
    "name = input('이름은요?')"
   ]
  },
  {
   "cell_type": "code",
   "execution_count": 64,
   "id": "0fae6dab-92c3-447b-a7dd-7fc517f7bc8c",
   "metadata": {},
   "outputs": [
    {
     "data": {
      "text/plain": [
       "'전우치'"
      ]
     },
     "execution_count": 64,
     "metadata": {},
     "output_type": "execute_result"
    }
   ],
   "source": [
    "name"
   ]
  },
  {
   "cell_type": "code",
   "execution_count": 65,
   "id": "a0e8309d-752b-4dfc-9ee7-2d4d404ffef4",
   "metadata": {},
   "outputs": [
    {
     "data": {
      "text/plain": [
       "str"
      ]
     },
     "execution_count": 65,
     "metadata": {},
     "output_type": "execute_result"
    }
   ],
   "source": [
    "type(name)"
   ]
  },
  {
   "cell_type": "code",
   "execution_count": 67,
   "id": "4d7c915b-29d9-4b75-be28-a158274f858b",
   "metadata": {},
   "outputs": [
    {
     "name": "stdin",
     "output_type": "stream",
     "text": [
      "나이는요? 18\n"
     ]
    },
    {
     "data": {
      "text/plain": [
       "'18'"
      ]
     },
     "execution_count": 67,
     "metadata": {},
     "output_type": "execute_result"
    }
   ],
   "source": [
    "age = input('나이는요?')\n",
    "age"
   ]
  },
  {
   "cell_type": "code",
   "execution_count": 68,
   "id": "bf1d6e53-fb79-4f66-aef0-3300203fa3a6",
   "metadata": {},
   "outputs": [
    {
     "data": {
      "text/plain": [
       "str"
      ]
     },
     "execution_count": 68,
     "metadata": {},
     "output_type": "execute_result"
    }
   ],
   "source": [
    "type(age)"
   ]
  },
  {
   "cell_type": "code",
   "execution_count": 69,
   "id": "6cedcaf0-03c3-4e83-b433-d207b7fe9efb",
   "metadata": {},
   "outputs": [
    {
     "name": "stdin",
     "output_type": "stream",
     "text": [
      "형 나이는요? 20\n",
      "동생 나이는요? 15\n"
     ]
    },
    {
     "ename": "TypeError",
     "evalue": "unsupported operand type(s) for -: 'str' and 'str'",
     "output_type": "error",
     "traceback": [
      "\u001b[1;31m---------------------------------------------------------------------------\u001b[0m",
      "\u001b[1;31mTypeError\u001b[0m                                 Traceback (most recent call last)",
      "Input \u001b[1;32mIn [69]\u001b[0m, in \u001b[0;36m<cell line: 3>\u001b[1;34m()\u001b[0m\n\u001b[0;32m      1\u001b[0m a \u001b[38;5;241m=\u001b[39m \u001b[38;5;28minput\u001b[39m(\u001b[38;5;124m'\u001b[39m\u001b[38;5;124m형 나이는요?\u001b[39m\u001b[38;5;124m'\u001b[39m)\n\u001b[0;32m      2\u001b[0m b \u001b[38;5;241m=\u001b[39m \u001b[38;5;28minput\u001b[39m(\u001b[38;5;124m'\u001b[39m\u001b[38;5;124m동생 나이는요?\u001b[39m\u001b[38;5;124m'\u001b[39m)\n\u001b[1;32m----> 3\u001b[0m \u001b[43ma\u001b[49m\u001b[43m \u001b[49m\u001b[38;5;241;43m-\u001b[39;49m\u001b[43m \u001b[49m\u001b[43mb\u001b[49m\n",
      "\u001b[1;31mTypeError\u001b[0m: unsupported operand type(s) for -: 'str' and 'str'"
     ]
    }
   ],
   "source": [
    "a = input('형 나이는요?')\n",
    "b = input('동생 나이는요?')\n",
    "a - b"
   ]
  },
  {
   "cell_type": "code",
   "execution_count": null,
   "id": "6d11a673-b1f3-4462-a5c5-dd6c95ac34e2",
   "metadata": {},
   "outputs": [],
   "source": [
    "# 문자열을 숫자로 바꾸기\n",
    "int()\n",
    "float()\n",
    "str()\n",
    "bool()"
   ]
  },
  {
   "cell_type": "code",
   "execution_count": 75,
   "id": "7d592228-51bd-4ee3-a160-53381449381c",
   "metadata": {},
   "outputs": [
    {
     "name": "stdout",
     "output_type": "stream",
     "text": [
      "3\n",
      "4\n",
      "3.0\n"
     ]
    },
    {
     "data": {
      "text/plain": [
       "'3'"
      ]
     },
     "execution_count": 75,
     "metadata": {},
     "output_type": "execute_result"
    }
   ],
   "source": [
    "print(int('3'))\n",
    "print(int(4.2))\n",
    "print(float(3))\n",
    "str(3)"
   ]
  },
  {
   "cell_type": "code",
   "execution_count": 81,
   "id": "07119358-ee34-455b-844c-8faf100e83ed",
   "metadata": {},
   "outputs": [
    {
     "name": "stdin",
     "output_type": "stream",
     "text": [
      "형 나이는요? 20\n"
     ]
    }
   ],
   "source": [
    "a = input('형 나이는요?')\n",
    "type(a)\n",
    "a = int(a)"
   ]
  },
  {
   "cell_type": "code",
   "execution_count": 82,
   "id": "2b697a76-d295-49da-96f0-e0f8bef34b68",
   "metadata": {},
   "outputs": [
    {
     "data": {
      "text/plain": [
       "int"
      ]
     },
     "execution_count": 82,
     "metadata": {},
     "output_type": "execute_result"
    }
   ],
   "source": [
    "type(a)"
   ]
  },
  {
   "cell_type": "code",
   "execution_count": 83,
   "id": "2af9bda8-07fc-448c-a97b-f44e84509643",
   "metadata": {},
   "outputs": [
    {
     "name": "stdin",
     "output_type": "stream",
     "text": [
      "형 나이는요? 20\n"
     ]
    },
    {
     "data": {
      "text/plain": [
       "400"
      ]
     },
     "execution_count": 83,
     "metadata": {},
     "output_type": "execute_result"
    }
   ],
   "source": [
    "a = int(input('형 나이는요?'))\n",
    "a**2"
   ]
  },
  {
   "cell_type": "code",
   "execution_count": 86,
   "id": "3c9c9c9d-440f-4b45-bdc3-20277457750b",
   "metadata": {},
   "outputs": [
    {
     "name": "stdin",
     "output_type": "stream",
     "text": [
      "형 나이는요? 20\n",
      "동생 나이는요? 15\n"
     ]
    },
    {
     "name": "stdout",
     "output_type": "stream",
     "text": [
      "형과 동생의 나이 차이는 5 살 입니다\n"
     ]
    }
   ],
   "source": [
    "a = int(input('형 나이는요?'))\n",
    "b = int(input('동생 나이는요?'))\n",
    "\n",
    "print(f\"형과 동생의 나이 차이는 {a-b} 살 입니다\")"
   ]
  },
  {
   "cell_type": "code",
   "execution_count": 87,
   "id": "ee1c9b50-bc5c-44cc-ba4e-019f82ec9e7e",
   "metadata": {},
   "outputs": [
    {
     "name": "stdin",
     "output_type": "stream",
     "text": [
      "형 나이는요? 20\n",
      "동생 나이는요? 15\n"
     ]
    },
    {
     "name": "stdout",
     "output_type": "stream",
     "text": [
      "형과 동생의 나이 차이는 5 살 입니다\n"
     ]
    }
   ],
   "source": [
    "a = int(input('형 나이는요?'))\n",
    "b = int(input('동생 나이는요?'))\n",
    "\n",
    "c= a-b\n",
    "print(f\"형과 동생의 나이 차이는 {c} 살 입니다\")"
   ]
  },
  {
   "cell_type": "code",
   "execution_count": null,
   "id": "87c581ed-49a4-436a-8520-f903dccf11a8",
   "metadata": {},
   "outputs": [],
   "source": [
    "#\n",
    "name, age 두 변수로 입력받아서\n",
    "\"이름은 000이고 나이는 00세입니다\""
   ]
  },
  {
   "cell_type": "code",
   "execution_count": 88,
   "id": "33e86e4f-4161-4f81-8a0d-a46bc9c22679",
   "metadata": {},
   "outputs": [
    {
     "name": "stdin",
     "output_type": "stream",
     "text": [
      "이름은? ㅇㄹㅇ\n",
      "나이는? 2\n"
     ]
    },
    {
     "name": "stdout",
     "output_type": "stream",
     "text": [
      "이름은 ㅇㄹㅇ이고 나이는2세입니다\n"
     ]
    }
   ],
   "source": [
    "a = input('이름은?')\n",
    "b = int(input('나이는?'))\n",
    "\n",
    "print(f\"이름은 {a}이고 나이는{b}세입니다\")"
   ]
  },
  {
   "cell_type": "markdown",
   "id": "c18930fd-124b-4e63-9df7-3b00dad5072b",
   "metadata": {},
   "source": [
    "## 참거짓형\n",
    "- boolean"
   ]
  },
  {
   "cell_type": "code",
   "execution_count": 91,
   "id": "0ca92c8b-e38d-42ba-a9e5-952ec01f565e",
   "metadata": {},
   "outputs": [
    {
     "data": {
      "text/plain": [
       "True"
      ]
     },
     "execution_count": 91,
     "metadata": {},
     "output_type": "execute_result"
    }
   ],
   "source": [
    "1 < 2"
   ]
  },
  {
   "cell_type": "code",
   "execution_count": 92,
   "id": "92aeb5ee-aea0-43f5-8a35-58878d1c499f",
   "metadata": {},
   "outputs": [],
   "source": [
    "a = 1 < 2"
   ]
  },
  {
   "cell_type": "code",
   "execution_count": 93,
   "id": "b7c8da09-e42d-49d7-9535-e856d58d263d",
   "metadata": {},
   "outputs": [
    {
     "data": {
      "text/plain": [
       "True"
      ]
     },
     "execution_count": 93,
     "metadata": {},
     "output_type": "execute_result"
    }
   ],
   "source": [
    "a"
   ]
  },
  {
   "cell_type": "code",
   "execution_count": 94,
   "id": "556abb18-853f-4063-887f-5bb27b25dd85",
   "metadata": {},
   "outputs": [
    {
     "data": {
      "text/plain": [
       "bool"
      ]
     },
     "execution_count": 94,
     "metadata": {},
     "output_type": "execute_result"
    }
   ],
   "source": [
    "type(a)"
   ]
  },
  {
   "cell_type": "code",
   "execution_count": 99,
   "id": "5de59df3-066e-4171-9f8d-6d515c26e21b",
   "metadata": {},
   "outputs": [
    {
     "name": "stdout",
     "output_type": "stream",
     "text": [
      "참입니다\n"
     ]
    }
   ],
   "source": [
    "if True :\n",
    "    print('참입니다')"
   ]
  },
  {
   "cell_type": "code",
   "execution_count": 95,
   "id": "c078b417-7f6e-4e08-9811-02d3aecfa7c4",
   "metadata": {},
   "outputs": [
    {
     "name": "stdout",
     "output_type": "stream",
     "text": [
      "참입니다\n"
     ]
    }
   ],
   "source": [
    "if 1 < 2 :\n",
    "    print('참입니다')"
   ]
  },
  {
   "cell_type": "code",
   "execution_count": 96,
   "id": "82c7c937-b107-47f7-8fa3-1fbada7d4d30",
   "metadata": {},
   "outputs": [],
   "source": [
    "if 1 > 2 :\n",
    "    print('참입니다')"
   ]
  },
  {
   "cell_type": "code",
   "execution_count": 101,
   "id": "df7dcbf4-d64c-442b-82f1-15c62ce72412",
   "metadata": {},
   "outputs": [
    {
     "name": "stdout",
     "output_type": "stream",
     "text": [
      "참입니다\n"
     ]
    }
   ],
   "source": [
    "if 1 :\n",
    "    print('참입니다')"
   ]
  },
  {
   "cell_type": "code",
   "execution_count": 98,
   "id": "fac77993-af32-4945-9807-484dfd2c490d",
   "metadata": {},
   "outputs": [],
   "source": [
    "if 0 :\n",
    "    print('참입니다')"
   ]
  },
  {
   "cell_type": "code",
   "execution_count": 106,
   "id": "c0f9278e-0524-4004-bacf-b31da02a55c6",
   "metadata": {},
   "outputs": [
    {
     "name": "stdout",
     "output_type": "stream",
     "text": [
      "참입니다\n"
     ]
    }
   ],
   "source": [
    "if \"Hello\" :\n",
    "    print('참입니다')"
   ]
  },
  {
   "cell_type": "code",
   "execution_count": 107,
   "id": "7dc1bfa7-e020-4f02-a7e4-974561606ca7",
   "metadata": {},
   "outputs": [],
   "source": [
    "if \"\" :\n",
    "    print('참입니다')"
   ]
  },
  {
   "cell_type": "code",
   "execution_count": 105,
   "id": "fa5477f8-0f77-4632-99d6-df1cc3e1b903",
   "metadata": {},
   "outputs": [
    {
     "data": {
      "text/plain": [
       "True"
      ]
     },
     "execution_count": 105,
     "metadata": {},
     "output_type": "execute_result"
    }
   ],
   "source": [
    "bool(1.2)"
   ]
  },
  {
   "cell_type": "markdown",
   "id": "cc74c86b-c734-41d7-9f2b-0bfd199e81dc",
   "metadata": {},
   "source": [
    "# 파이썬의 자료형\n",
    "- 리스트 (list)\n",
    "- 튜플 (tuple)\n",
    "- 딕셔너리 (dictionary)\n",
    "- 세트 (set)"
   ]
  },
  {
   "cell_type": "markdown",
   "id": "63c9f3c0-3cd8-4049-9891-fcf119a4422f",
   "metadata": {},
   "source": [
    "## 리스트 (list)\n",
    "- CRUD\n",
    "```\n",
    "C : Create\n",
    "R : Read\n",
    "U : Update\n",
    "D : Delete\n",
    "```"
   ]
  },
  {
   "cell_type": "markdown",
   "id": "0a1d5db6-2c3f-4dc1-8b8b-4d6b2000cc4f",
   "metadata": {},
   "source": [
    "### 리스트(list) 만들기"
   ]
  },
  {
   "cell_type": "code",
   "execution_count": 112,
   "id": "5c177c6e-c671-4461-bc1d-912fb98095f4",
   "metadata": {},
   "outputs": [
    {
     "data": {
      "text/plain": [
       "list"
      ]
     },
     "execution_count": 112,
     "metadata": {},
     "output_type": "execute_result"
    }
   ],
   "source": [
    "a = [1, 2] # 2개이상을 묶을 때 대괄호로 감싸주고 쉼표로 구분해준다.\n",
    "type(a)"
   ]
  },
  {
   "cell_type": "code",
   "execution_count": 115,
   "id": "841a52a4-1662-4934-8cdb-c7a27b133264",
   "metadata": {},
   "outputs": [
    {
     "name": "stdout",
     "output_type": "stream",
     "text": [
      "['Life', 'is', 'short']\n"
     ]
    }
   ],
   "source": [
    "a = ['Life', 'is', 'short']\n",
    "print(a)"
   ]
  },
  {
   "cell_type": "code",
   "execution_count": 132,
   "id": "95691709-df1a-471e-ad70-c7740d8b27ff",
   "metadata": {},
   "outputs": [
    {
     "data": {
      "text/plain": [
       "6"
      ]
     },
     "execution_count": 132,
     "metadata": {},
     "output_type": "execute_result"
    }
   ],
   "source": [
    "a = [1, 2, 3, 'Life', 'is', 'short'] # 숫자, 문자열 같이 포함할 수 있다. 리스트 안에는 어떠한 자료형도 포함시킬 수 있다.\n",
    "len(a)"
   ]
  },
  {
   "cell_type": "code",
   "execution_count": 119,
   "id": "b9876e16-8214-4b3c-87cf-a2eee482fa5f",
   "metadata": {},
   "outputs": [
    {
     "data": {
      "text/plain": [
       "7"
      ]
     },
     "execution_count": 119,
     "metadata": {},
     "output_type": "execute_result"
    }
   ],
   "source": [
    "# nested list (중첩 리스트)\n",
    "\n",
    "a = [1, 2, 3, 'Life', 'is', 'short', [\"We\", \"need\", \"python\"]]\n",
    "len(a)"
   ]
  },
  {
   "cell_type": "markdown",
   "id": "5298f49d-8299-421f-be80-3aa7e710b249",
   "metadata": {
    "tags": []
   },
   "source": [
    "### 리스트 접근, 조회(읽기)"
   ]
  },
  {
   "cell_type": "code",
   "execution_count": 128,
   "id": "d75c2275-381e-46fc-b0e4-0d3d9d096dfd",
   "metadata": {},
   "outputs": [
    {
     "name": "stdout",
     "output_type": "stream",
     "text": [
      "python\n",
      "ee\n"
     ]
    }
   ],
   "source": [
    "# Q. python을 출력해주세요\n",
    "print(a[6][2])\n",
    "\n",
    "# Q. \"ee\"을 출력해주세요\n",
    "print(a[6][1][1:3])"
   ]
  },
  {
   "cell_type": "code",
   "execution_count": 131,
   "id": "8fc50fc4-cd1a-43a8-ac29-10363907c50f",
   "metadata": {},
   "outputs": [],
   "source": [
    "# 리스트(list) 인덱싱"
   ]
  },
  {
   "cell_type": "code",
   "execution_count": 122,
   "id": "b2f6262c-8e2b-42ca-ad6f-d528455742fa",
   "metadata": {},
   "outputs": [
    {
     "name": "stdout",
     "output_type": "stream",
     "text": [
      "1\n",
      "Life\n",
      "['We', 'need', 'python']\n"
     ]
    }
   ],
   "source": [
    "print(a[0])\n",
    "print(a[3])\n",
    "print(a[6])"
   ]
  },
  {
   "cell_type": "code",
   "execution_count": 130,
   "id": "10e230b3-1038-4e80-8e83-d4b02f0ab404",
   "metadata": {},
   "outputs": [],
   "source": [
    "# 리스트(list) 슬라이싱"
   ]
  },
  {
   "cell_type": "code",
   "execution_count": 124,
   "id": "4add0c9a-a85d-4718-afaf-b2af3289cda5",
   "metadata": {},
   "outputs": [
    {
     "name": "stdout",
     "output_type": "stream",
     "text": [
      "[1, 2, 3]\n",
      "['Life', 'is', 'short', ['We', 'need', 'python']]\n"
     ]
    }
   ],
   "source": [
    "print(a[:3])\n",
    "print(a[3:])"
   ]
  },
  {
   "cell_type": "markdown",
   "id": "02acd922-f2ca-4a87-a5b5-fbfe20a5605b",
   "metadata": {},
   "source": [
    "### 리스트의 연산\n",
    "- 문자열의 연산과 같다."
   ]
  },
  {
   "cell_type": "code",
   "execution_count": 133,
   "id": "b7cfc5ff-2366-4da9-99a3-ecfdce69189a",
   "metadata": {},
   "outputs": [],
   "source": [
    "a = [1, 2, 3]\n",
    "b = [4, 5, 6]"
   ]
  },
  {
   "cell_type": "code",
   "execution_count": 136,
   "id": "000a8ea1-e9a4-4b62-b703-fec5ca778383",
   "metadata": {},
   "outputs": [
    {
     "data": {
      "text/plain": [
       "[1, 2, 3, 4, 5, 6]"
      ]
     },
     "execution_count": 136,
     "metadata": {},
     "output_type": "execute_result"
    }
   ],
   "source": [
    "a + b      #하나의 리스트로 만들어준다."
   ]
  },
  {
   "cell_type": "code",
   "execution_count": 135,
   "id": "e62001b4-9131-4fbf-acbd-ddba01317fd7",
   "metadata": {},
   "outputs": [
    {
     "ename": "TypeError",
     "evalue": "unsupported operand type(s) for -: 'list' and 'list'",
     "output_type": "error",
     "traceback": [
      "\u001b[1;31m---------------------------------------------------------------------------\u001b[0m",
      "\u001b[1;31mTypeError\u001b[0m                                 Traceback (most recent call last)",
      "Input \u001b[1;32mIn [135]\u001b[0m, in \u001b[0;36m<cell line: 1>\u001b[1;34m()\u001b[0m\n\u001b[1;32m----> 1\u001b[0m \u001b[43ma\u001b[49m\u001b[43m \u001b[49m\u001b[38;5;241;43m-\u001b[39;49m\u001b[43m \u001b[49m\u001b[43mb\u001b[49m\n",
      "\u001b[1;31mTypeError\u001b[0m: unsupported operand type(s) for -: 'list' and 'list'"
     ]
    }
   ],
   "source": [
    "a - b"
   ]
  },
  {
   "cell_type": "code",
   "execution_count": 137,
   "id": "f153481e-b9aa-4ce2-a0af-1203cc876ba2",
   "metadata": {},
   "outputs": [
    {
     "ename": "TypeError",
     "evalue": "can't multiply sequence by non-int of type 'list'",
     "output_type": "error",
     "traceback": [
      "\u001b[1;31m---------------------------------------------------------------------------\u001b[0m",
      "\u001b[1;31mTypeError\u001b[0m                                 Traceback (most recent call last)",
      "Input \u001b[1;32mIn [137]\u001b[0m, in \u001b[0;36m<cell line: 1>\u001b[1;34m()\u001b[0m\n\u001b[1;32m----> 1\u001b[0m \u001b[43ma\u001b[49m\u001b[43m \u001b[49m\u001b[38;5;241;43m*\u001b[39;49m\u001b[43m \u001b[49m\u001b[43mb\u001b[49m\n",
      "\u001b[1;31mTypeError\u001b[0m: can't multiply sequence by non-int of type 'list'"
     ]
    }
   ],
   "source": [
    "a * b"
   ]
  },
  {
   "cell_type": "code",
   "execution_count": 138,
   "id": "dd85344f-9b2f-41f4-aba0-1ac0fea25ab2",
   "metadata": {},
   "outputs": [
    {
     "ename": "TypeError",
     "evalue": "unsupported operand type(s) for /: 'list' and 'list'",
     "output_type": "error",
     "traceback": [
      "\u001b[1;31m---------------------------------------------------------------------------\u001b[0m",
      "\u001b[1;31mTypeError\u001b[0m                                 Traceback (most recent call last)",
      "Input \u001b[1;32mIn [138]\u001b[0m, in \u001b[0;36m<cell line: 1>\u001b[1;34m()\u001b[0m\n\u001b[1;32m----> 1\u001b[0m \u001b[43ma\u001b[49m\u001b[43m \u001b[49m\u001b[38;5;241;43m/\u001b[39;49m\u001b[43m \u001b[49m\u001b[43mb\u001b[49m\n",
      "\u001b[1;31mTypeError\u001b[0m: unsupported operand type(s) for /: 'list' and 'list'"
     ]
    }
   ],
   "source": [
    "a / b"
   ]
  },
  {
   "cell_type": "code",
   "execution_count": 141,
   "id": "0ffd63cd-3f7d-4d30-9605-c8614fed7634",
   "metadata": {},
   "outputs": [
    {
     "data": {
      "text/plain": [
       "[1, 2, 3, 1, 2, 3, 1, 2, 3]"
      ]
     },
     "execution_count": 141,
     "metadata": {},
     "output_type": "execute_result"
    }
   ],
   "source": [
    "a*3  #리스트 반복하기"
   ]
  },
  {
   "cell_type": "code",
   "execution_count": 143,
   "id": "95e65b26-ff42-4b10-8153-7c6ca8ec5222",
   "metadata": {},
   "outputs": [
    {
     "data": {
      "text/plain": [
       "array([5, 7, 9])"
      ]
     },
     "execution_count": 143,
     "metadata": {},
     "output_type": "execute_result"
    }
   ],
   "source": [
    "import numpy as np           #array 배열\n",
    "A = np.array([1, 2, 3])\n",
    "B = np.array([4, 5, 6])\n",
    "A+B"
   ]
  },
  {
   "cell_type": "code",
   "execution_count": 144,
   "id": "c77388dc-32d8-4d82-8e15-39fe300e7dd8",
   "metadata": {},
   "outputs": [
    {
     "name": "stdout",
     "output_type": "stream",
     "text": [
      "[-3 -3 -3]\n",
      "[ 4 10 18]\n",
      "[0.25 0.4  0.5 ]\n"
     ]
    }
   ],
   "source": [
    "print(A - B)\n",
    "print(A * B)\n",
    "print(A / B)"
   ]
  },
  {
   "cell_type": "markdown",
   "id": "d610310f-6ec2-4c1d-bd1e-0c9bdf22c2ab",
   "metadata": {},
   "source": [
    "### 수정"
   ]
  },
  {
   "cell_type": "code",
   "execution_count": null,
   "id": "399f9f95-2141-440b-a8f8-21c76dd19b94",
   "metadata": {},
   "outputs": [],
   "source": [
    "a = [1, 2, 3]"
   ]
  },
  {
   "cell_type": "code",
   "execution_count": null,
   "id": "673d0492-4867-48f5-92fc-7e4aea3494f8",
   "metadata": {},
   "outputs": [],
   "source": [
    "a <- 1\n",
    "b <- 2\n",
    "# 오른쪽에서 왼쪽 화살표방향으로 밀고 들어간다. \"=\""
   ]
  },
  {
   "cell_type": "code",
   "execution_count": 185,
   "id": "4b862df5-e1a4-4e84-9b66-0bb10c93b4e1",
   "metadata": {},
   "outputs": [
    {
     "data": {
      "text/plain": [
       "4"
      ]
     },
     "execution_count": 185,
     "metadata": {},
     "output_type": "execute_result"
    }
   ],
   "source": [
    "a = 3\n",
    "a = a + 1\n",
    "a"
   ]
  },
  {
   "cell_type": "code",
   "execution_count": null,
   "id": "d77b0a20-b47d-4292-875c-97535f42d89a",
   "metadata": {},
   "outputs": [],
   "source": [
    "old = new"
   ]
  },
  {
   "cell_type": "code",
   "execution_count": 188,
   "id": "3912798c-2cac-4cf5-9c61-4aac59ebbf8d",
   "metadata": {},
   "outputs": [],
   "source": [
    "a = [1, 2, 3]"
   ]
  },
  {
   "cell_type": "code",
   "execution_count": 189,
   "id": "c50e1378-17a2-41f0-967b-d28d19984eca",
   "metadata": {},
   "outputs": [
    {
     "name": "stdout",
     "output_type": "stream",
     "text": [
      "3\n"
     ]
    }
   ],
   "source": [
    "a = 2\n",
    "b = 3\n",
    "a = b\n",
    "print(a)"
   ]
  },
  {
   "cell_type": "code",
   "execution_count": 190,
   "id": "9c0bee16-50e5-46b1-acde-4fe884cb4918",
   "metadata": {},
   "outputs": [
    {
     "data": {
      "text/plain": [
       "[1, 2, 3]"
      ]
     },
     "execution_count": 190,
     "metadata": {},
     "output_type": "execute_result"
    }
   ],
   "source": [
    "a = [1, 2, 3]\n",
    "a"
   ]
  },
  {
   "cell_type": "code",
   "execution_count": 195,
   "id": "da6c3d13-d04a-4de5-a285-46d173d7309d",
   "metadata": {},
   "outputs": [
    {
     "data": {
      "text/plain": [
       "[1, 20, 3]"
      ]
     },
     "execution_count": 195,
     "metadata": {},
     "output_type": "execute_result"
    }
   ],
   "source": [
    "# 2를 20으로 수정하고 싶을 때,\n",
    "\n",
    "a[1] = 20\n",
    "a"
   ]
  },
  {
   "cell_type": "markdown",
   "id": "f522f664-2bfc-43a3-a418-f614b2f2b908",
   "metadata": {},
   "source": [
    "### 집합"
   ]
  },
  {
   "cell_type": "markdown",
   "id": "a77460c7-794e-4670-aefb-2902e5bd582e",
   "metadata": {},
   "source": [
    "만들기"
   ]
  },
  {
   "cell_type": "code",
   "execution_count": null,
   "id": "c37e3cd2-b68f-44b6-99d7-01ca3b7b84da",
   "metadata": {},
   "outputs": [],
   "source": [
    "[]\n",
    "()\n",
    "{}\n",
    "\n",
    "set([1, 1, 1, 2, 3])"
   ]
  },
  {
   "cell_type": "code",
   "execution_count": 3,
   "id": "bafaa70b-5216-4020-9d83-2f0270e3f79d",
   "metadata": {},
   "outputs": [
    {
     "data": {
      "text/plain": [
       "{1, 2, 3}"
      ]
     },
     "execution_count": 3,
     "metadata": {},
     "output_type": "execute_result"
    }
   ],
   "source": [
    "a = set([1, 1, 1, 2, 3])\n",
    "a"
   ]
  },
  {
   "cell_type": "code",
   "execution_count": 4,
   "id": "1821199b-163c-41a4-b690-be850e399149",
   "metadata": {},
   "outputs": [
    {
     "data": {
      "text/plain": [
       "set"
      ]
     },
     "execution_count": 4,
     "metadata": {},
     "output_type": "execute_result"
    }
   ],
   "source": [
    "type(a)"
   ]
  },
  {
   "cell_type": "code",
   "execution_count": 5,
   "id": "97076750-ddf3-4c45-bd94-f38c73d8be52",
   "metadata": {},
   "outputs": [
    {
     "data": {
      "text/plain": [
       "{1, 2, 3}"
      ]
     },
     "execution_count": 5,
     "metadata": {},
     "output_type": "execute_result"
    }
   ],
   "source": [
    "{1, 1, 1, 2, 3}"
   ]
  },
  {
   "cell_type": "code",
   "execution_count": 6,
   "id": "865017b6-5ea3-468f-9b37-40447ba70ef0",
   "metadata": {},
   "outputs": [],
   "source": [
    "A = {1, 2, 3, 4 }\n",
    "b = set([3, 4, 5, 6])"
   ]
  },
  {
   "cell_type": "code",
   "execution_count": 7,
   "id": "04e9978e-0a2d-4e24-80b5-229ceb66ee31",
   "metadata": {},
   "outputs": [
    {
     "ename": "TypeError",
     "evalue": "unsupported operand type(s) for +: 'set' and 'set'",
     "output_type": "error",
     "traceback": [
      "\u001b[1;31m---------------------------------------------------------------------------\u001b[0m",
      "\u001b[1;31mTypeError\u001b[0m                                 Traceback (most recent call last)",
      "Input \u001b[1;32mIn [7]\u001b[0m, in \u001b[0;36m<cell line: 1>\u001b[1;34m()\u001b[0m\n\u001b[1;32m----> 1\u001b[0m \u001b[43mA\u001b[49m\u001b[43m \u001b[49m\u001b[38;5;241;43m+\u001b[39;49m\u001b[43m \u001b[49m\u001b[43mb\u001b[49m\n",
      "\u001b[1;31mTypeError\u001b[0m: unsupported operand type(s) for +: 'set' and 'set'"
     ]
    }
   ],
   "source": [
    "A + b"
   ]
  },
  {
   "cell_type": "code",
   "execution_count": 13,
   "id": "66b26249-af0f-40c0-b81c-3d1e43d03d46",
   "metadata": {},
   "outputs": [
    {
     "data": {
      "text/plain": [
       "{1, 2, 3, 4, 5, 6}"
      ]
     },
     "execution_count": 13,
     "metadata": {},
     "output_type": "execute_result"
    }
   ],
   "source": [
    "A.union(b)  #합집합\n",
    "A|b"
   ]
  },
  {
   "cell_type": "code",
   "execution_count": 14,
   "id": "2d41a305-7cbd-448e-8af8-df2477b7ec87",
   "metadata": {},
   "outputs": [
    {
     "data": {
      "text/plain": [
       "{3, 4}"
      ]
     },
     "execution_count": 14,
     "metadata": {},
     "output_type": "execute_result"
    }
   ],
   "source": [
    "A.intersection(b) #교집합\n",
    "A&b"
   ]
  },
  {
   "cell_type": "code",
   "execution_count": 15,
   "id": "4091289d-283a-49b9-b18b-8dc04349091c",
   "metadata": {},
   "outputs": [
    {
     "data": {
      "text/plain": [
       "{1, 2}"
      ]
     },
     "execution_count": 15,
     "metadata": {},
     "output_type": "execute_result"
    }
   ],
   "source": [
    "A.difference(b) #차집합\n",
    "A-b"
   ]
  },
  {
   "cell_type": "code",
   "execution_count": 20,
   "id": "296b2f05-a511-499a-83a8-17366ef47a2b",
   "metadata": {},
   "outputs": [
    {
     "data": {
      "text/plain": [
       "{1, 2, 3, 4, 5}"
      ]
     },
     "execution_count": 20,
     "metadata": {},
     "output_type": "execute_result"
    }
   ],
   "source": [
    "A               #값 1개 추가하기\n",
    "A.add(5)\n",
    "A"
   ]
  },
  {
   "cell_type": "code",
   "execution_count": 23,
   "id": "9c54e1a4-b193-4da4-8d7e-4f23cb77173b",
   "metadata": {},
   "outputs": [
    {
     "data": {
      "text/plain": [
       "{1, 2, 3, 4, 5, 6, 7, 8}"
      ]
     },
     "execution_count": 23,
     "metadata": {},
     "output_type": "execute_result"
    }
   ],
   "source": [
    "A.update([6, 7, 8])       #값 여러개 추가하기\n",
    "A"
   ]
  },
  {
   "cell_type": "markdown",
   "id": "274d3c94-f611-4581-8b84-a25d33403fbd",
   "metadata": {},
   "source": [
    "### 추가 Update"
   ]
  },
  {
   "cell_type": "code",
   "execution_count": 149,
   "id": "166796bc-239f-46bf-8d61-703797f6190f",
   "metadata": {},
   "outputs": [
    {
     "data": {
      "text/plain": [
       "[1, 2, 3, 4]"
      ]
     },
     "execution_count": 149,
     "metadata": {},
     "output_type": "execute_result"
    }
   ],
   "source": [
    "a = [1, 2, 3]\n",
    "a.append(4)\n",
    "a"
   ]
  },
  {
   "cell_type": "code",
   "execution_count": 150,
   "id": "a7d51ffa-4107-4521-96c7-8b20764b5e9c",
   "metadata": {},
   "outputs": [
    {
     "data": {
      "text/plain": [
       "[1, 2, 3, 4, [5, 6]]"
      ]
     },
     "execution_count": 150,
     "metadata": {},
     "output_type": "execute_result"
    }
   ],
   "source": [
    "a.append([5,6])\n",
    "a"
   ]
  },
  {
   "cell_type": "code",
   "execution_count": 182,
   "id": "4d055a8a-5b3a-42e9-8f33-c5d333783ef4",
   "metadata": {},
   "outputs": [
    {
     "data": {
      "text/plain": [
       "[1, 2, 100, 3, 4, 5]"
      ]
     },
     "execution_count": 182,
     "metadata": {},
     "output_type": "execute_result"
    }
   ],
   "source": [
    "a.insert(2, 100)  #index 2번 자리에 삽입하기 / a번째 위치에 b를 삽입한다.\n",
    "a"
   ]
  },
  {
   "cell_type": "code",
   "execution_count": 177,
   "id": "b3cc17f9-37a1-43f5-9103-5e3c5c3c1c13",
   "metadata": {},
   "outputs": [
    {
     "data": {
      "text/plain": [
       "[1, 2, 3, [4, 5]]"
      ]
     },
     "execution_count": 177,
     "metadata": {},
     "output_type": "execute_result"
    }
   ],
   "source": [
    "a = [1, 2, 3]\n",
    "a.append([4, 5]) #추가하기\n",
    "a"
   ]
  },
  {
   "cell_type": "code",
   "execution_count": 184,
   "id": "f1fa8110-cf11-4282-92ce-d9bdac93e3b8",
   "metadata": {},
   "outputs": [
    {
     "data": {
      "text/plain": [
       "[1, 2, 3, 4, 5]"
      ]
     },
     "execution_count": 184,
     "metadata": {},
     "output_type": "execute_result"
    }
   ],
   "source": [
    "a = [1, 2, 3]\n",
    "a.extend([4, 5]) #원래 a 리스트에 x리스트를 더한다. 리스트 확장\n",
    "a"
   ]
  },
  {
   "cell_type": "markdown",
   "id": "3fece3b0-266d-40e4-b440-7b6b5978c2c7",
   "metadata": {},
   "source": [
    "### 삭제 Delete"
   ]
  },
  {
   "cell_type": "code",
   "execution_count": 180,
   "id": "84b776d7-53d9-4f2e-a9b9-ef47e3c73f5f",
   "metadata": {},
   "outputs": [
    {
     "data": {
      "text/plain": [
       "[1, 3]"
      ]
     },
     "execution_count": 180,
     "metadata": {},
     "output_type": "execute_result"
    }
   ],
   "source": [
    "a = [1, 2, 3]\n",
    "a.remove(2)  #리스트에서 첫번째로 나오는 x를 삭제한다.\n",
    "a"
   ]
  },
  {
   "cell_type": "code",
   "execution_count": 183,
   "id": "4b86bb1a-fb8c-4c26-9c89-69edd40fdb41",
   "metadata": {},
   "outputs": [
    {
     "data": {
      "text/plain": [
       "3"
      ]
     },
     "execution_count": 183,
     "metadata": {},
     "output_type": "execute_result"
    }
   ],
   "source": [
    "a.pop(3) #맨 마지막 요소를 돌려주고 그 요소는 삭제한다."
   ]
  },
  {
   "cell_type": "code",
   "execution_count": 158,
   "id": "f5e9409f-34f1-42e1-aa09-f53ee44e1425",
   "metadata": {},
   "outputs": [
    {
     "data": {
      "text/plain": [
       "3"
      ]
     },
     "execution_count": 158,
     "metadata": {},
     "output_type": "execute_result"
    }
   ],
   "source": [
    "a.pop(1)"
   ]
  },
  {
   "cell_type": "code",
   "execution_count": 159,
   "id": "8f27959c-219a-4934-9129-c5bfd0e40640",
   "metadata": {},
   "outputs": [
    {
     "data": {
      "text/plain": [
       "[1]"
      ]
     },
     "execution_count": 159,
     "metadata": {},
     "output_type": "execute_result"
    }
   ],
   "source": [
    "a"
   ]
  },
  {
   "cell_type": "markdown",
   "id": "bf326e53-30a9-43dd-b709-6741acd7119f",
   "metadata": {},
   "source": [
    "### 정렬"
   ]
  },
  {
   "cell_type": "code",
   "execution_count": 178,
   "id": "be191025-5037-48c4-ae9b-e3b73096519b",
   "metadata": {},
   "outputs": [
    {
     "data": {
      "text/plain": [
       "[1, 2, 3, 4]"
      ]
     },
     "execution_count": 178,
     "metadata": {},
     "output_type": "execute_result"
    }
   ],
   "source": [
    "a = [1, 3, 2, 4]\n",
    "a.sort() #순서대로 정렬해준다.\n",
    "a"
   ]
  },
  {
   "cell_type": "code",
   "execution_count": 165,
   "id": "b77c21ce-17b8-4e63-b5c2-ee05bc0d86db",
   "metadata": {},
   "outputs": [
    {
     "data": {
      "text/plain": [
       "[1, 2, 3, 4]"
      ]
     },
     "execution_count": 165,
     "metadata": {},
     "output_type": "execute_result"
    }
   ],
   "source": [
    "a = [1, 3, 2, 4]\n",
    "sorted(a)    #내장함수 sorted  내장함수는 저장되지 않는다."
   ]
  },
  {
   "cell_type": "code",
   "execution_count": 166,
   "id": "9fdce851-44bc-4171-a498-495c4f8c20dc",
   "metadata": {},
   "outputs": [
    {
     "data": {
      "text/plain": [
       "[1, 3, 2, 4]"
      ]
     },
     "execution_count": 166,
     "metadata": {},
     "output_type": "execute_result"
    }
   ],
   "source": [
    "a"
   ]
  },
  {
   "cell_type": "code",
   "execution_count": 167,
   "id": "495aea35-b408-4518-8e81-4ab331044a22",
   "metadata": {},
   "outputs": [],
   "source": [
    "a = [1, 3, 2, 4]\n",
    "a = sorted(a)"
   ]
  },
  {
   "cell_type": "code",
   "execution_count": 168,
   "id": "affa0c46-7c08-4d70-bbe4-7f7278225d2d",
   "metadata": {},
   "outputs": [
    {
     "data": {
      "text/plain": [
       "[1, 2, 3, 4]"
      ]
     },
     "execution_count": 168,
     "metadata": {},
     "output_type": "execute_result"
    }
   ],
   "source": [
    "a"
   ]
  },
  {
   "cell_type": "code",
   "execution_count": 179,
   "id": "20c8473f-646d-4e30-892d-23b2dcbbba79",
   "metadata": {},
   "outputs": [
    {
     "data": {
      "text/plain": [
       "[4, 3, 2, 1]"
      ]
     },
     "execution_count": 179,
     "metadata": {},
     "output_type": "execute_result"
    }
   ],
   "source": [
    "a.reverse() #역순으로 뒤집어준다.\n",
    "a"
   ]
  },
  {
   "cell_type": "code",
   "execution_count": 170,
   "id": "b7567ca1-3f04-451a-a2f3-005d5ace8c79",
   "metadata": {},
   "outputs": [
    {
     "data": {
      "text/plain": [
       "[4, 5, 1, 2]"
      ]
     },
     "execution_count": 170,
     "metadata": {},
     "output_type": "execute_result"
    }
   ],
   "source": [
    "a = [2, 1, 5, 4]\n",
    "a.reverse()\n",
    "a"
   ]
  },
  {
   "cell_type": "code",
   "execution_count": null,
   "id": "73b26af6-f98a-401b-8d15-434a895f69e0",
   "metadata": {},
   "outputs": [],
   "source": [
    "# Q. A = [3, 1, 5, 7, 4] 일 때,\n",
    "    A = [7, 5, 4, 3, 1] 로 바꾸어 주세요.\n",
    "    "
   ]
  },
  {
   "cell_type": "code",
   "execution_count": 174,
   "id": "12271bd3-5afe-47a5-8338-bad7e2b5f5ee",
   "metadata": {},
   "outputs": [
    {
     "name": "stdout",
     "output_type": "stream",
     "text": [
      "[7, 5, 4, 3, 1]\n"
     ]
    }
   ],
   "source": [
    "a = [3, 1, 5, 7, 4]\n",
    "a.sort()\n",
    "a.reverse()\n",
    "print(a)"
   ]
  },
  {
   "cell_type": "code",
   "execution_count": 176,
   "id": "9f1c5e1c-be83-4448-b54a-b60b66b184bd",
   "metadata": {},
   "outputs": [],
   "source": [
    "li = []\n",
    "for i in range(20) :\n",
    "    if i % 3 == 0 :\n",
    "        li.append(i)"
   ]
  },
  {
   "cell_type": "code",
   "execution_count": 177,
   "id": "9680b270-561e-4b41-a73d-d9a37858f6e1",
   "metadata": {},
   "outputs": [
    {
     "data": {
      "text/plain": [
       "[0, 3, 6, 9, 12, 15, 18]"
      ]
     },
     "execution_count": 177,
     "metadata": {},
     "output_type": "execute_result"
    }
   ],
   "source": [
    "li"
   ]
  },
  {
   "cell_type": "markdown",
   "id": "c64939fc-3780-4e60-a47b-7504e05cd779",
   "metadata": {},
   "source": [
    "## 튜플 (tuple)\n",
    "- 99% 리스트와 같다"
   ]
  },
  {
   "cell_type": "code",
   "execution_count": 178,
   "id": "c6ba5f39-4953-48ec-ac30-c4935e253a1b",
   "metadata": {},
   "outputs": [
    {
     "data": {
      "text/plain": [
       "(1, 2, 3)"
      ]
     },
     "execution_count": 178,
     "metadata": {},
     "output_type": "execute_result"
    }
   ],
   "source": [
    "a = (1, 2, 3)\n",
    "a"
   ]
  },
  {
   "cell_type": "code",
   "execution_count": 183,
   "id": "d71c0155-4f47-430e-b5d0-f967ad315e45",
   "metadata": {},
   "outputs": [
    {
     "data": {
      "text/plain": [
       "tuple"
      ]
     },
     "execution_count": 183,
     "metadata": {},
     "output_type": "execute_result"
    }
   ],
   "source": [
    "type(a)"
   ]
  },
  {
   "cell_type": "code",
   "execution_count": 180,
   "id": "c61ca8f5-38fe-4751-9129-134a0e177cdc",
   "metadata": {},
   "outputs": [
    {
     "data": {
      "text/plain": [
       "(1, 2, 3)"
      ]
     },
     "execution_count": 180,
     "metadata": {},
     "output_type": "execute_result"
    }
   ],
   "source": [
    "b = 1, 2, 3   #괄호를 생략해도 무관하다.\n",
    "b"
   ]
  },
  {
   "cell_type": "code",
   "execution_count": 181,
   "id": "8b3ba0eb-be03-4644-9bab-88f17b51937a",
   "metadata": {},
   "outputs": [
    {
     "data": {
      "text/plain": [
       "1"
      ]
     },
     "execution_count": 181,
     "metadata": {},
     "output_type": "execute_result"
    }
   ],
   "source": [
    "a[0]"
   ]
  },
  {
   "cell_type": "code",
   "execution_count": 182,
   "id": "f9f1336b-10cf-458c-9fcf-e27484f977ae",
   "metadata": {},
   "outputs": [
    {
     "data": {
      "text/plain": [
       "(2, 3)"
      ]
     },
     "execution_count": 182,
     "metadata": {},
     "output_type": "execute_result"
    }
   ],
   "source": [
    "a[1:]"
   ]
  },
  {
   "cell_type": "code",
   "execution_count": 197,
   "id": "3791b57e-0576-48dd-aea5-07aaa63e80a4",
   "metadata": {},
   "outputs": [],
   "source": [
    "a = (1, 2, 3)"
   ]
  },
  {
   "cell_type": "code",
   "execution_count": 200,
   "id": "5c22cfc5-9ae9-4c35-ad77-7f3a11942bd3",
   "metadata": {},
   "outputs": [
    {
     "ename": "TypeError",
     "evalue": "'tuple' object does not support item assignment",
     "output_type": "error",
     "traceback": [
      "\u001b[1;31m---------------------------------------------------------------------------\u001b[0m",
      "\u001b[1;31mTypeError\u001b[0m                                 Traceback (most recent call last)",
      "Input \u001b[1;32mIn [200]\u001b[0m, in \u001b[0;36m<cell line: 1>\u001b[1;34m()\u001b[0m\n\u001b[1;32m----> 1\u001b[0m a[\u001b[38;5;241m1\u001b[39m] \u001b[38;5;241m=\u001b[39m \u001b[38;5;241m20\u001b[39m\n",
      "\u001b[1;31mTypeError\u001b[0m: 'tuple' object does not support item assignment"
     ]
    }
   ],
   "source": [
    "a[1] = 20  #튜플은 수정할 수 없다."
   ]
  },
  {
   "cell_type": "code",
   "execution_count": 204,
   "id": "19ea5ed9-b979-4cf6-a80b-77e02348e173",
   "metadata": {},
   "outputs": [
    {
     "name": "stdout",
     "output_type": "stream",
     "text": [
      "17을 4로 나눈 몫은 4이고 나머지는 1입니다\n",
      "1\n"
     ]
    }
   ],
   "source": [
    "# 주로 변수 값을 두개 이상 동시에 받을 때\n",
    "\n",
    "a, b = divmod(17, 4)\n",
    "print(f\"17을 4로 나눈 몫은 {a}이고 나머지는 {b}입니다\")\n",
    "print(b)"
   ]
  },
  {
   "cell_type": "markdown",
   "id": "6ba4d27a-72b6-46c0-bfc6-0726c0d119e4",
   "metadata": {},
   "source": [
    "## 딕셔너리(dictionary)\n",
    "- {key : value } "
   ]
  },
  {
   "cell_type": "markdown",
   "id": "89d9a9a4-8cf2-41e7-bf96-4b3935e23089",
   "metadata": {},
   "source": [
    "### 만들기"
   ]
  },
  {
   "cell_type": "code",
   "execution_count": 243,
   "id": "79c7ca70-cec3-4330-843f-2f3b749ddf0e",
   "metadata": {},
   "outputs": [
    {
     "data": {
      "text/plain": [
       "{'apple': '사과', 'banana': '바나나', 'carrot': '당근'}"
      ]
     },
     "execution_count": 243,
     "metadata": {},
     "output_type": "execute_result"
    }
   ],
   "source": [
    "a = {'apple' : \"사과\", 'banana' : \"바나나\", \"carrot\":'당근'}\n",
    "a"
   ]
  },
  {
   "cell_type": "code",
   "execution_count": 245,
   "id": "53ccd6cc-f7e1-41f7-84a6-3b0adfcde084",
   "metadata": {},
   "outputs": [
    {
     "data": {
      "text/plain": [
       "{'apple': ['사과', '능금', '백설공주가 먹고 죽음'], 'banana': '바나나', 'carrot': '당근'}"
      ]
     },
     "execution_count": 245,
     "metadata": {},
     "output_type": "execute_result"
    }
   ],
   "source": [
    "a = {'apple' : [\"사과\",\"능금\", \"백설공주가 먹고 죽음\"], 'banana' : \"바나나\", \"carrot\":'당근'}\n",
    "a"
   ]
  },
  {
   "cell_type": "code",
   "execution_count": 241,
   "id": "bcd73cf5-51d4-4ca5-8734-91c7d050daa0",
   "metadata": {},
   "outputs": [
    {
     "data": {
      "text/plain": [
       "dict"
      ]
     },
     "execution_count": 241,
     "metadata": {},
     "output_type": "execute_result"
    }
   ],
   "source": [
    "type(a)"
   ]
  },
  {
   "cell_type": "markdown",
   "id": "675eeef9-4ca4-4641-a31d-d4e25aae868d",
   "metadata": {},
   "source": [
    "### 접근\n",
    "- key로 읽는다."
   ]
  },
  {
   "cell_type": "code",
   "execution_count": 244,
   "id": "4ae58987-410d-44e7-b786-6a016b020e6a",
   "metadata": {},
   "outputs": [
    {
     "data": {
      "text/plain": [
       "'사과'"
      ]
     },
     "execution_count": 244,
     "metadata": {},
     "output_type": "execute_result"
    }
   ],
   "source": [
    "a['apple']"
   ]
  },
  {
   "cell_type": "code",
   "execution_count": 246,
   "id": "ae6c03e2-f224-4fb1-95e4-41396ef7d700",
   "metadata": {},
   "outputs": [
    {
     "data": {
      "text/plain": [
       "['사과', '능금', '백설공주가 먹고 죽음']"
      ]
     },
     "execution_count": 246,
     "metadata": {},
     "output_type": "execute_result"
    }
   ],
   "source": [
    "a['apple']"
   ]
  },
  {
   "cell_type": "code",
   "execution_count": null,
   "id": "bfeca600-7cce-4854-a8f1-f0bae9c3163c",
   "metadata": {},
   "outputs": [],
   "source": [
    "# Q. '바나나'를 '버네너'로 수정합시다."
   ]
  },
  {
   "cell_type": "code",
   "execution_count": 247,
   "id": "7c599e90-14a9-4b7d-b842-492c21d027bf",
   "metadata": {},
   "outputs": [
    {
     "data": {
      "text/plain": [
       "{'apple': ['사과', '능금', '백설공주가 먹고 죽음'], 'banana': '버네너', 'carrot': '당근'}"
      ]
     },
     "execution_count": 247,
     "metadata": {},
     "output_type": "execute_result"
    }
   ],
   "source": [
    "a['banana']='버네너'\n",
    "a"
   ]
  },
  {
   "cell_type": "code",
   "execution_count": 248,
   "id": "50741d20-a07d-4069-bb0f-32e042ef5bb2",
   "metadata": {},
   "outputs": [
    {
     "data": {
      "text/plain": [
       "{'apple': ['사과', '능금', '백설공주가 먹고 죽음'],\n",
       " 'banana': '버네너',\n",
       " 'carrot': '당근',\n",
       " 'carot': '홍당무'}"
      ]
     },
     "execution_count": 248,
     "metadata": {},
     "output_type": "execute_result"
    }
   ],
   "source": [
    "a['carot'] = \"홍당무\"\n",
    "a\n",
    "\n",
    "#있으면 수정하고, 없으면 만든다."
   ]
  },
  {
   "cell_type": "code",
   "execution_count": 249,
   "id": "fbad4ab8-fde6-487d-942f-c9dd463a6890",
   "metadata": {},
   "outputs": [
    {
     "data": {
      "text/plain": [
       "dict_keys(['apple', 'banana', 'carrot', 'carot'])"
      ]
     },
     "execution_count": 249,
     "metadata": {},
     "output_type": "execute_result"
    }
   ],
   "source": [
    "a.keys()\n",
    "\n",
    "#key값만 보기"
   ]
  },
  {
   "cell_type": "code",
   "execution_count": 250,
   "id": "79857c57-e70d-454b-a9dc-8f54483b14c0",
   "metadata": {},
   "outputs": [
    {
     "data": {
      "text/plain": [
       "dict_values([['사과', '능금', '백설공주가 먹고 죽음'], '버네너', '당근', '홍당무'])"
      ]
     },
     "execution_count": 250,
     "metadata": {},
     "output_type": "execute_result"
    }
   ],
   "source": [
    "a.values()\n",
    "\n",
    "#values값만 보기"
   ]
  },
  {
   "cell_type": "code",
   "execution_count": 251,
   "id": "c157e791-dca2-4aa2-b7c3-8091a53ce9bd",
   "metadata": {},
   "outputs": [
    {
     "data": {
      "text/plain": [
       "dict_items([('apple', ['사과', '능금', '백설공주가 먹고 죽음']), ('banana', '버네너'), ('carrot', '당근'), ('carot', '홍당무')])"
      ]
     },
     "execution_count": 251,
     "metadata": {},
     "output_type": "execute_result"
    }
   ],
   "source": [
    "a.items()\n",
    "\n",
    "#key, value 값 둘 다 보기"
   ]
  },
  {
   "cell_type": "code",
   "execution_count": 252,
   "id": "84d1b1dd-ddcd-4ad3-86b3-0460e5d1918c",
   "metadata": {},
   "outputs": [
    {
     "name": "stdout",
     "output_type": "stream",
     "text": [
      "1\n",
      "끝\n",
      "\n",
      "2\n",
      "끝\n",
      "\n",
      "3\n",
      "끝\n",
      "\n"
     ]
    }
   ],
   "source": [
    "for i in [1, 2, 3]:\n",
    "    print(i)\n",
    "    print('끝')\n",
    "    print()"
   ]
  },
  {
   "cell_type": "code",
   "execution_count": 253,
   "id": "5351d56d-fc5d-4501-88e8-93c64188b443",
   "metadata": {},
   "outputs": [
    {
     "data": {
      "text/plain": [
       "dict_keys(['apple', 'banana', 'carrot', 'carot'])"
      ]
     },
     "execution_count": 253,
     "metadata": {},
     "output_type": "execute_result"
    }
   ],
   "source": [
    "a.keys()"
   ]
  },
  {
   "cell_type": "code",
   "execution_count": 254,
   "id": "825f6f96-b758-43e0-ba4a-ae7b583ca461",
   "metadata": {},
   "outputs": [
    {
     "name": "stdout",
     "output_type": "stream",
     "text": [
      "apple\n",
      "banana\n",
      "carrot\n",
      "carot\n"
     ]
    }
   ],
   "source": [
    "for i in a.keys():\n",
    "    print(i)"
   ]
  },
  {
   "cell_type": "code",
   "execution_count": 255,
   "id": "edbaae44-1991-4b8a-b0e4-bbb30a45a99d",
   "metadata": {},
   "outputs": [
    {
     "name": "stdout",
     "output_type": "stream",
     "text": [
      "['사과', '능금', '백설공주가 먹고 죽음']\n",
      "버네너\n",
      "당근\n",
      "홍당무\n"
     ]
    }
   ],
   "source": [
    "for i in a.values():\n",
    "    print(i)"
   ]
  },
  {
   "cell_type": "code",
   "execution_count": 258,
   "id": "30017645-1e82-4a40-8148-d0071b8781b6",
   "metadata": {},
   "outputs": [
    {
     "name": "stdout",
     "output_type": "stream",
     "text": [
      "('apple', ['사과', '능금', '백설공주가 먹고 죽음'])\n",
      "('banana', '버네너')\n",
      "('carrot', '당근')\n",
      "('carot', '홍당무')\n"
     ]
    }
   ],
   "source": [
    "for i in a.items():\n",
    "    print(i)"
   ]
  },
  {
   "cell_type": "code",
   "execution_count": null,
   "id": "a5fba53a-9f27-41c4-80cf-32f367a721f2",
   "metadata": {},
   "outputs": [],
   "source": [
    "\"키 00의 값은 00 입니다\""
   ]
  },
  {
   "cell_type": "code",
   "execution_count": 259,
   "id": "ddde72a3-7181-4a58-97ae-d03c21228975",
   "metadata": {},
   "outputs": [
    {
     "name": "stdout",
     "output_type": "stream",
     "text": [
      "apple ['사과', '능금', '백설공주가 먹고 죽음']\n",
      "banana 버네너\n",
      "carrot 당근\n",
      "carot 홍당무\n"
     ]
    }
   ],
   "source": [
    "for i,p in a.items():\n",
    "    print(i,p)"
   ]
  },
  {
   "cell_type": "markdown",
   "id": "403b03d2-5950-4931-a3ed-7a2acd16b89c",
   "metadata": {},
   "source": [
    "## 변수"
   ]
  },
  {
   "cell_type": "code",
   "execution_count": 24,
   "id": "60b1c4ea-9468-41dc-ae77-97de646cc916",
   "metadata": {},
   "outputs": [],
   "source": [
    "a = [1, 2, 3]"
   ]
  },
  {
   "cell_type": "code",
   "execution_count": 25,
   "id": "fc104893-905f-489a-87d3-5b2f003d10ac",
   "metadata": {},
   "outputs": [],
   "source": [
    "b = a"
   ]
  },
  {
   "cell_type": "code",
   "execution_count": 26,
   "id": "f6fae3ed-1778-41ae-930d-1bc6bc85ec01",
   "metadata": {},
   "outputs": [
    {
     "data": {
      "text/plain": [
       "[1, 2, 3]"
      ]
     },
     "execution_count": 26,
     "metadata": {},
     "output_type": "execute_result"
    }
   ],
   "source": [
    "b"
   ]
  },
  {
   "cell_type": "code",
   "execution_count": 27,
   "id": "9ee7c3a4-1442-4cf9-98c8-01509a57275f",
   "metadata": {},
   "outputs": [
    {
     "data": {
      "text/plain": [
       "2"
      ]
     },
     "execution_count": 27,
     "metadata": {},
     "output_type": "execute_result"
    }
   ],
   "source": [
    "b[1]"
   ]
  },
  {
   "cell_type": "code",
   "execution_count": 28,
   "id": "3801cde4-73d8-4eb3-a33d-fb9de041ef5f",
   "metadata": {},
   "outputs": [],
   "source": [
    "b[1] = 20"
   ]
  },
  {
   "cell_type": "code",
   "execution_count": 29,
   "id": "6102121f-e67f-4102-94b3-107582a4dfea",
   "metadata": {},
   "outputs": [
    {
     "data": {
      "text/plain": [
       "[1, 20, 3]"
      ]
     },
     "execution_count": 29,
     "metadata": {},
     "output_type": "execute_result"
    }
   ],
   "source": [
    "b"
   ]
  },
  {
   "cell_type": "code",
   "execution_count": 30,
   "id": "6a1bd2ce-71fd-4162-979c-e79a58ac3d2f",
   "metadata": {},
   "outputs": [
    {
     "data": {
      "text/plain": [
       "[1, 20, 3]"
      ]
     },
     "execution_count": 30,
     "metadata": {},
     "output_type": "execute_result"
    }
   ],
   "source": [
    "a"
   ]
  },
  {
   "cell_type": "code",
   "execution_count": 33,
   "id": "15a90ac9-240a-4205-ae49-dc3868985796",
   "metadata": {},
   "outputs": [
    {
     "data": {
      "text/plain": [
       "1894550657728"
      ]
     },
     "execution_count": 33,
     "metadata": {},
     "output_type": "execute_result"
    }
   ],
   "source": [
    "id(a) #변수가 가르키는 메모리의 주소"
   ]
  },
  {
   "cell_type": "code",
   "execution_count": 32,
   "id": "6dee1a9e-629b-4d38-b429-edeca81fbfe2",
   "metadata": {},
   "outputs": [
    {
     "data": {
      "text/plain": [
       "1894550657728"
      ]
     },
     "execution_count": 32,
     "metadata": {},
     "output_type": "execute_result"
    }
   ],
   "source": [
    "id(b)"
   ]
  },
  {
   "cell_type": "code",
   "execution_count": 36,
   "id": "574c3196-4bc1-4f04-b707-82b926f424da",
   "metadata": {},
   "outputs": [],
   "source": [
    "c = a.copy() #리스트를 복사할 때"
   ]
  },
  {
   "cell_type": "code",
   "execution_count": 35,
   "id": "f2e160ab-7755-45a1-b965-d201b9eb8cd4",
   "metadata": {},
   "outputs": [
    {
     "data": {
      "text/plain": [
       "[1, 20, 3]"
      ]
     },
     "execution_count": 35,
     "metadata": {},
     "output_type": "execute_result"
    }
   ],
   "source": [
    "c"
   ]
  },
  {
   "cell_type": "code",
   "execution_count": 38,
   "id": "78404030-3239-4ffb-b075-e9dbb5e6b2a7",
   "metadata": {},
   "outputs": [
    {
     "data": {
      "text/plain": [
       "1894539382592"
      ]
     },
     "execution_count": 38,
     "metadata": {},
     "output_type": "execute_result"
    }
   ],
   "source": [
    "id(c) #객체가 서로 다르다"
   ]
  },
  {
   "cell_type": "code",
   "execution_count": 39,
   "id": "7efed6b4-07a9-4bcf-ba7d-47d092295f03",
   "metadata": {},
   "outputs": [],
   "source": [
    "a = 3\n",
    "b = 5"
   ]
  },
  {
   "cell_type": "code",
   "execution_count": null,
   "id": "66b33ce6-3b74-4d35-bf3d-874c57334f77",
   "metadata": {},
   "outputs": [],
   "source": [
    "(a,b) = (b,a)"
   ]
  },
  {
   "cell_type": "code",
   "execution_count": 44,
   "id": "415e404c-7be4-4e1a-b593-cce4f8f028f6",
   "metadata": {},
   "outputs": [],
   "source": [
    "a , b = b, a  #a와 b값을 바꿈"
   ]
  },
  {
   "cell_type": "code",
   "execution_count": 43,
   "id": "6fefd919-58f6-451b-9118-fc30625c226c",
   "metadata": {},
   "outputs": [
    {
     "data": {
      "text/plain": [
       "5"
      ]
     },
     "execution_count": 43,
     "metadata": {},
     "output_type": "execute_result"
    }
   ],
   "source": [
    "a"
   ]
  },
  {
   "cell_type": "code",
   "execution_count": 42,
   "id": "e92cc447-6498-457c-8d86-7c9d01d7d269",
   "metadata": {},
   "outputs": [
    {
     "data": {
      "text/plain": [
       "3"
      ]
     },
     "execution_count": 42,
     "metadata": {},
     "output_type": "execute_result"
    }
   ],
   "source": [
    "b"
   ]
  },
  {
   "cell_type": "markdown",
   "id": "9980bd87-d837-45ab-9f2f-ee5dc44eb966",
   "metadata": {},
   "source": [
    "# 제어문"
   ]
  },
  {
   "cell_type": "markdown",
   "id": "a8f26deb-7124-4402-b1e6-58b24dc9b798",
   "metadata": {},
   "source": [
    "## 조건문 (if)"
   ]
  },
  {
   "cell_type": "markdown",
   "id": "876cf0ea-9d4a-4920-9ddb-77b428f4f257",
   "metadata": {},
   "source": [
    "````\n",
    "if 조건 :\n",
    "    실행할 문장\n",
    "else :\n",
    "    실행할 문장\n",
    "    \n",
    "if 는 여러번 와도 된다.\n",
    "else 는 없어도 된다.\n",
    "````"
   ]
  },
  {
   "cell_type": "code",
   "execution_count": null,
   "id": "42203c45-ea67-4908-a9ea-f5a59664eddd",
   "metadata": {},
   "outputs": [],
   "source": [
    "# x ==y : x와 y가 같다 / x !=y : x와 y가 같지 않다."
   ]
  },
  {
   "cell_type": "code",
   "execution_count": 47,
   "id": "b5017cb0-1cfc-43ee-82ed-244a9ad3cbdf",
   "metadata": {},
   "outputs": [
    {
     "name": "stdout",
     "output_type": "stream",
     "text": [
      "Yes\n"
     ]
    }
   ],
   "source": [
    "if True :\n",
    "    print(\"Yes\")"
   ]
  },
  {
   "cell_type": "code",
   "execution_count": 48,
   "id": "23a5f5c5-f5ef-4bf8-b3df-33ecc0e1f08a",
   "metadata": {},
   "outputs": [
    {
     "name": "stdout",
     "output_type": "stream",
     "text": [
      "Yes\n"
     ]
    }
   ],
   "source": [
    "if 1 < 2 :\n",
    "    print(\"Yes\")"
   ]
  },
  {
   "cell_type": "code",
   "execution_count": 49,
   "id": "f03e0e5e-db16-4609-ab2a-a001ad44ac40",
   "metadata": {},
   "outputs": [
    {
     "name": "stdout",
     "output_type": "stream",
     "text": [
      "Yes\n"
     ]
    }
   ],
   "source": [
    "if 1 :\n",
    "    print(\"Yes\")"
   ]
  },
  {
   "cell_type": "code",
   "execution_count": 50,
   "id": "a56672eb-3d9f-485e-b265-10a342c31409",
   "metadata": {},
   "outputs": [
    {
     "name": "stdout",
     "output_type": "stream",
     "text": [
      "Yes\n"
     ]
    }
   ],
   "source": [
    "if True :\n",
    "    print(\"Yes\")\n",
    "else :\n",
    "    print(\"No\")"
   ]
  },
  {
   "cell_type": "code",
   "execution_count": 51,
   "id": "0c83c6b7-3846-4519-bd27-c2034aa18b31",
   "metadata": {},
   "outputs": [
    {
     "name": "stdout",
     "output_type": "stream",
     "text": [
      "No\n"
     ]
    }
   ],
   "source": [
    "if False :\n",
    "    print(\"Yes\")\n",
    "else :\n",
    "    print(\"No\")"
   ]
  },
  {
   "cell_type": "code",
   "execution_count": 52,
   "id": "170831cf-02c0-4a7b-86f7-226371e8ac96",
   "metadata": {},
   "outputs": [
    {
     "name": "stdout",
     "output_type": "stream",
     "text": [
      "No\n"
     ]
    }
   ],
   "source": [
    "if 1 > 2 :\n",
    "    print(\"Yes\")\n",
    "else :\n",
    "    print(\"No\")"
   ]
  },
  {
   "cell_type": "code",
   "execution_count": 53,
   "id": "f52a477d-5127-4d19-9cc8-78253711b83f",
   "metadata": {},
   "outputs": [
    {
     "name": "stdout",
     "output_type": "stream",
     "text": [
      "No\n"
     ]
    }
   ],
   "source": [
    "if 0 :\n",
    "    print(\"Yes\")\n",
    "else :\n",
    "    print(\"No\")"
   ]
  },
  {
   "cell_type": "code",
   "execution_count": 54,
   "id": "e7e55b60-30ac-4c33-bb3e-e801d12c777c",
   "metadata": {},
   "outputs": [
    {
     "name": "stdout",
     "output_type": "stream",
     "text": [
      "No\n"
     ]
    }
   ],
   "source": [
    "if \"\" :\n",
    "    print(\"Yes\")\n",
    "else :\n",
    "    print(\"No\")"
   ]
  },
  {
   "cell_type": "code",
   "execution_count": 55,
   "id": "543f6f37-2032-4e5d-a9ac-58691b6f480b",
   "metadata": {},
   "outputs": [
    {
     "name": "stdout",
     "output_type": "stream",
     "text": [
      "양수입니다\n"
     ]
    }
   ],
   "source": [
    "number = 10\n",
    "if number > 0:\n",
    "    print(\"양수입니다\")\n",
    "if number < 0:\n",
    "    print(\"음수입니다\")"
   ]
  },
  {
   "cell_type": "code",
   "execution_count": 56,
   "id": "36a88498-7edf-415f-b164-976efb18fea7",
   "metadata": {},
   "outputs": [
    {
     "name": "stdout",
     "output_type": "stream",
     "text": [
      "음수입니다\n"
     ]
    }
   ],
   "source": [
    "number = -10\n",
    "if number > 0:\n",
    "    print(\"양수입니다\")\n",
    "if number < 0:\n",
    "    print(\"음수입니다\")"
   ]
  },
  {
   "cell_type": "code",
   "execution_count": 57,
   "id": "40ada4f6-0f92-427d-a4c4-b28db598c2d5",
   "metadata": {},
   "outputs": [
    {
     "name": "stdout",
     "output_type": "stream",
     "text": [
      "음수입니다\n"
     ]
    }
   ],
   "source": [
    "number = -10\n",
    "if number > 0:\n",
    "    print(\"양수입니다\")\n",
    "else:\n",
    "    print(\"음수입니다\")"
   ]
  },
  {
   "cell_type": "code",
   "execution_count": 59,
   "id": "0c41fd74-a446-41d7-89b5-2fe075c353dc",
   "metadata": {},
   "outputs": [
    {
     "name": "stdin",
     "output_type": "stream",
     "text": [
      "숫자를 입력해 주세요 12\n"
     ]
    },
    {
     "name": "stdout",
     "output_type": "stream",
     "text": [
      "양수입니다\n"
     ]
    }
   ],
   "source": [
    "number = int(input(\"숫자를 입력해 주세요\"))\n",
    "if number > 0:\n",
    "    print(\"양수입니다\")\n",
    "else:\n",
    "    print(\"음수입니다\")"
   ]
  },
  {
   "cell_type": "code",
   "execution_count": null,
   "id": "564cba99-bb2d-4b8a-b55c-7a87ce438379",
   "metadata": {},
   "outputs": [],
   "source": [
    "# 홀수인지 짝수인지 출력하도록 해 보세요."
   ]
  },
  {
   "cell_type": "code",
   "execution_count": 62,
   "id": "ff77776a-9af3-40ed-aeee-28d25bc072e2",
   "metadata": {},
   "outputs": [
    {
     "name": "stdin",
     "output_type": "stream",
     "text": [
      "숫자를 입력해 주세요 20\n"
     ]
    },
    {
     "name": "stdout",
     "output_type": "stream",
     "text": [
      "짝수입니다\n"
     ]
    }
   ],
   "source": [
    "number = int(input(\"숫자를 입력해 주세요\"))\n",
    "if number% 2 == 0 : \n",
    "    print(\"짝수입니다\")\n",
    "else:\n",
    "    print(\"홀수입니다\")"
   ]
  },
  {
   "cell_type": "code",
   "execution_count": 65,
   "id": "a6389623-f5ba-49f1-bb5e-c51b7f2dbbf0",
   "metadata": {},
   "outputs": [
    {
     "name": "stdin",
     "output_type": "stream",
     "text": [
      "나이를 입력해 주세요 100\n"
     ]
    },
    {
     "name": "stdout",
     "output_type": "stream",
     "text": [
      "노년\n"
     ]
    }
   ],
   "source": [
    "age = int(input(\"나이를 입력해 주세요\"))\n",
    "if age < 30 : \n",
    "    print(\"청년\")\n",
    "elif age < 60 :   #else if -> elif\n",
    "    print(\"중년\")\n",
    "else:\n",
    "    print(\"노년\")\n"
   ]
  },
  {
   "cell_type": "code",
   "execution_count": null,
   "id": "da503e3c-155a-4a0a-8e40-2c5877ed2330",
   "metadata": {},
   "outputs": [],
   "source": [
    "temp = \n",
    "온도를 입력받아서\n",
    "\n",
    "30 이상이면 여름\n",
    "20 이상이면 가을\n",
    "10 이상이면 봄\n",
    "이외에는 겨울"
   ]
  },
  {
   "cell_type": "code",
   "execution_count": 66,
   "id": "4b5f31b0-b595-43d1-91c4-4d921257f403",
   "metadata": {},
   "outputs": [
    {
     "name": "stdin",
     "output_type": "stream",
     "text": [
      "온도를 입력해 주세요 15\n"
     ]
    },
    {
     "name": "stdout",
     "output_type": "stream",
     "text": [
      "봄\n"
     ]
    }
   ],
   "source": [
    "temp = int(input(\"온도를 입력해 주세요\"))\n",
    "if temp > 30 :\n",
    "    print(\"여름\")\n",
    "elif temp >20 :\n",
    "    print(\"가을\")\n",
    "elif temp >10 :\n",
    "    print(\"봄\")\n",
    "else:\n",
    "    print(\"겨울\")"
   ]
  },
  {
   "cell_type": "markdown",
   "id": "493ecddc-9d50-48b1-889d-d988ecd55e09",
   "metadata": {},
   "source": [
    "- A in B"
   ]
  },
  {
   "cell_type": "code",
   "execution_count": 67,
   "id": "003f66af-6e03-4baa-b6d4-44400a3d7955",
   "metadata": {},
   "outputs": [
    {
     "name": "stdout",
     "output_type": "stream",
     "text": [
      "버스를 타고 가자\n"
     ]
    }
   ],
   "source": [
    "if \"bill\" in [\"coins\", \"bill\", \"phone\", \"card\"] :\n",
    "    print(\"버스를 타고 가자\")\n",
    "else:\n",
    "    print(\"걸어가자\")"
   ]
  },
  {
   "cell_type": "code",
   "execution_count": 68,
   "id": "8238b21a-9382-408e-80d1-6af4cab17f83",
   "metadata": {},
   "outputs": [
    {
     "name": "stdout",
     "output_type": "stream",
     "text": [
      "택시를 타자\n"
     ]
    }
   ],
   "source": [
    "if \"bills\" in [\"coins\", \"bill\", \"phone\", \"card\"] :\n",
    "    print(\"버스를 타고 가자\")\n",
    "elif \"card\" in [\"coins\", \"bill\", \"phone\", \"card\"] :\n",
    "    print(\"택시를 타자\")\n",
    "else:\n",
    "    print(\"걸어가자\")"
   ]
  },
  {
   "cell_type": "code",
   "execution_count": 73,
   "id": "fc4aa1ed-8473-4783-b39d-9f7441ea9849",
   "metadata": {},
   "outputs": [],
   "source": [
    "#이름이 있으면 \"합격입니다\"\n",
    "#없으면 \"불합격입니다\""
   ]
  },
  {
   "cell_type": "code",
   "execution_count": 71,
   "id": "0a83c8ac-128a-401a-a63e-8f1c762c5d22",
   "metadata": {},
   "outputs": [
    {
     "name": "stdin",
     "output_type": "stream",
     "text": [
      "이름을 입력해 주세요 철수\n"
     ]
    },
    {
     "name": "stdout",
     "output_type": "stream",
     "text": [
      "합격입니다\n"
     ]
    }
   ],
   "source": [
    "names = [\"철수\",\"영희\",\"길동\",\"전우치\",\"손오공\"]\n",
    "name = input(\"이름을 입력해 주세요\")\n",
    "if name in names:\n",
    "    print(\"합격입니다\")\n",
    "else:\n",
    "    print(\"불합격입니다\")"
   ]
  },
  {
   "cell_type": "markdown",
   "id": "c25363cd-9b90-415f-bb8c-0c8fbaa2c131",
   "metadata": {},
   "source": [
    "## 반복문 (for)"
   ]
  },
  {
   "cell_type": "markdown",
   "id": "074a020f-d54e-4ae6-89cf-5fac84752184",
   "metadata": {},
   "source": [
    "````\n",
    "for i in [list](또는 튜플,문자열):\n",
    "    실행될 문장\n",
    "````"
   ]
  },
  {
   "cell_type": "code",
   "execution_count": 78,
   "id": "995d4cd6-45ed-48b0-88d2-cf0fbd03a1b5",
   "metadata": {},
   "outputs": [
    {
     "name": "stdout",
     "output_type": "stream",
     "text": [
      "1\n",
      "11\n",
      "\n",
      "2\n",
      "12\n",
      "\n",
      "3\n",
      "13\n",
      "\n"
     ]
    }
   ],
   "source": [
    "for i in [1,2,3]:\n",
    "    print(i)\n",
    "    print(i+10)\n",
    "    print()"
   ]
  },
  {
   "cell_type": "code",
   "execution_count": 79,
   "id": "55433a16-f81a-48a6-9ca4-bca984e4ec3f",
   "metadata": {},
   "outputs": [
    {
     "name": "stdout",
     "output_type": "stream",
     "text": [
      "\n",
      "11\n",
      "\n",
      "\n",
      "12\n",
      "\n",
      "\n",
      "13\n",
      "\n"
     ]
    }
   ],
   "source": [
    "for i in [1,2,3]:\n",
    "    print()\n",
    "    print(i+10)\n",
    "    print()"
   ]
  },
  {
   "cell_type": "code",
   "execution_count": 82,
   "id": "0b1d106f-9afb-471b-a885-499d923f8e16",
   "metadata": {},
   "outputs": [
    {
     "name": "stdout",
     "output_type": "stream",
     "text": [
      "1\n",
      "11\n",
      "2\n",
      "12\n",
      "3\n",
      "13\n",
      "Hello\n"
     ]
    }
   ],
   "source": [
    "for i in [1,2,3]:\n",
    "    print(i)\n",
    "    print(i+10)\n",
    "print(\"Hello\")"
   ]
  },
  {
   "cell_type": "code",
   "execution_count": 83,
   "id": "71e15689-776f-4cee-ad8a-f87102857880",
   "metadata": {},
   "outputs": [
    {
     "name": "stdout",
     "output_type": "stream",
     "text": [
      "1\n",
      "2\n",
      "3\n",
      "4\n",
      "5\n",
      "6\n",
      "7\n",
      "8\n",
      "9\n",
      "10\n"
     ]
    }
   ],
   "source": [
    "for i in [1, 2, 3, 4, 5, 6, 7, 8, 9, 10] :\n",
    "    print(i)"
   ]
  },
  {
   "cell_type": "code",
   "execution_count": 86,
   "id": "ac7720d9-7ccf-4d00-8920-da626b5ba77e",
   "metadata": {},
   "outputs": [
    {
     "name": "stdout",
     "output_type": "stream",
     "text": [
      "0\n",
      "1\n",
      "2\n",
      "3\n",
      "4\n",
      "5\n",
      "6\n",
      "7\n",
      "8\n",
      "9\n"
     ]
    }
   ],
   "source": [
    "for i in range(10):\n",
    "    print(i)"
   ]
  },
  {
   "cell_type": "code",
   "execution_count": 87,
   "id": "c00b46ae-ecc4-4ea7-9b6e-83e37f5f46a4",
   "metadata": {},
   "outputs": [
    {
     "name": "stdout",
     "output_type": "stream",
     "text": [
      "1\n",
      "2\n",
      "3\n",
      "4\n",
      "5\n",
      "6\n",
      "7\n",
      "8\n",
      "9\n",
      "10\n"
     ]
    }
   ],
   "source": [
    "for i in range(1,11):\n",
    "    print(i)"
   ]
  },
  {
   "cell_type": "code",
   "execution_count": 88,
   "id": "b983835e-db81-4b42-b684-202270ab71c5",
   "metadata": {},
   "outputs": [
    {
     "name": "stdout",
     "output_type": "stream",
     "text": [
      "1\n",
      "3\n",
      "5\n",
      "7\n",
      "9\n"
     ]
    }
   ],
   "source": [
    "for i in range(1,11,2):\n",
    "    print(i)"
   ]
  },
  {
   "cell_type": "code",
   "execution_count": 90,
   "id": "67a6f9db-5e95-4583-a748-3e6600945399",
   "metadata": {},
   "outputs": [
    {
     "name": "stdout",
     "output_type": "stream",
     "text": [
      "2\n",
      "4\n",
      "6\n",
      "8\n",
      "10\n"
     ]
    }
   ],
   "source": [
    "for i in range(2,11,2):\n",
    "    print(i)"
   ]
  },
  {
   "cell_type": "code",
   "execution_count": 91,
   "id": "2e8c81d2-7765-41b3-96fb-b62b76a6fe22",
   "metadata": {},
   "outputs": [
    {
     "data": {
      "text/plain": [
       "range(0, 10)"
      ]
     },
     "execution_count": 91,
     "metadata": {},
     "output_type": "execute_result"
    }
   ],
   "source": [
    "range(10)"
   ]
  },
  {
   "cell_type": "code",
   "execution_count": 92,
   "id": "3c07b95e-2fcd-4889-8d7a-1f3aa46dc07b",
   "metadata": {},
   "outputs": [
    {
     "data": {
      "text/plain": [
       "[1, 2, 3, 4, 5, 6, 7, 8, 9]"
      ]
     },
     "execution_count": 92,
     "metadata": {},
     "output_type": "execute_result"
    }
   ],
   "source": [
    "list(range(1,10))"
   ]
  },
  {
   "cell_type": "code",
   "execution_count": 93,
   "id": "5fab47e5-eba2-4a27-8d75-25fd5fb9ff15",
   "metadata": {},
   "outputs": [
    {
     "name": "stdout",
     "output_type": "stream",
     "text": [
      "1,   2,   3,   4,   5,   6,   7,   8,   9,   10,   "
     ]
    }
   ],
   "source": [
    "for i in range(1, 11):\n",
    "    print(i, end = \",   \")"
   ]
  },
  {
   "cell_type": "code",
   "execution_count": 94,
   "id": "473f52e9-0555-40ac-9117-41e1f91eea67",
   "metadata": {},
   "outputs": [],
   "source": [
    "# 1~99 100이하의 모든 홀수를 출력해주세요."
   ]
  },
  {
   "cell_type": "code",
   "execution_count": 99,
   "id": "7177deaf-18ee-4ba2-b331-cc6a9d71362a",
   "metadata": {},
   "outputs": [
    {
     "name": "stdout",
     "output_type": "stream",
     "text": [
      "1,   3,   5,   7,   9,   11,   13,   15,   17,   19,   21,   23,   25,   27,   29,   31,   33,   35,   37,   39,   41,   43,   45,   47,   49,   51,   53,   55,   57,   59,   61,   63,   65,   67,   69,   71,   73,   75,   77,   79,   81,   83,   85,   87,   89,   91,   93,   95,   97,   99,   "
     ]
    }
   ],
   "source": [
    "for i in range(1,100,2):\n",
    "     print(i, end = \",   \")"
   ]
  },
  {
   "cell_type": "code",
   "execution_count": 100,
   "id": "b32edda2-4f76-407b-8418-ecef43c8bf98",
   "metadata": {},
   "outputs": [],
   "source": [
    "# 1~99 100이하의 모든 짝수를 출력해주세요."
   ]
  },
  {
   "cell_type": "code",
   "execution_count": 101,
   "id": "af64991c-eb80-4a83-8d0e-bdc4faa373dc",
   "metadata": {},
   "outputs": [
    {
     "name": "stdout",
     "output_type": "stream",
     "text": [
      "2,   4,   6,   8,   10,   12,   14,   16,   18,   20,   22,   24,   26,   28,   30,   32,   34,   36,   38,   40,   42,   44,   46,   48,   50,   52,   54,   56,   58,   60,   62,   64,   66,   68,   70,   72,   74,   76,   78,   80,   82,   84,   86,   88,   90,   92,   94,   96,   98,   100,   "
     ]
    }
   ],
   "source": [
    "for i in range(2,101,2):\n",
    "     print(i, end = \",   \")"
   ]
  },
  {
   "cell_type": "code",
   "execution_count": 102,
   "id": "87e0a508-2010-4ff2-bbe2-2243a881ff62",
   "metadata": {},
   "outputs": [
    {
     "name": "stdout",
     "output_type": "stream",
     "text": [
      "1,  3,  5,  7,  9,  11,  13,  15,  17,  19,  21,  23,  25,  27,  29,  31,  33,  35,  37,  39,  41,  43,  45,  47,  49,  51,  53,  55,  57,  59,  61,  63,  65,  67,  69,  71,  73,  75,  77,  79,  81,  83,  85,  87,  89,  91,  93,  95,  97,  99,  "
     ]
    }
   ],
   "source": [
    "#100 이하의 모든 홀수\n",
    "for i in range(100):\n",
    "    if i %2==1:\n",
    "        print(i, end = \",  \")"
   ]
  },
  {
   "cell_type": "code",
   "execution_count": 105,
   "id": "85e34a65-384c-4e9f-b3f4-51ad39e0741e",
   "metadata": {},
   "outputs": [
    {
     "name": "stdout",
     "output_type": "stream",
     "text": [
      "a\n",
      "b\n",
      "c\n"
     ]
    }
   ],
   "source": [
    "for i in [(1,\"a\"), (2,\"b\"), (3,\"c\")] :\n",
    "    print(i[1])\n",
    "    "
   ]
  },
  {
   "cell_type": "code",
   "execution_count": 106,
   "id": "8010776e-0d9f-49e5-89d7-59cb927fcc6c",
   "metadata": {},
   "outputs": [
    {
     "name": "stdout",
     "output_type": "stream",
     "text": [
      "1 a\n",
      "2 b\n",
      "3 c\n"
     ]
    }
   ],
   "source": [
    "for i in [(1,\"a\"), (2,\"b\"), (3,\"c\")] :\n",
    "    print(i[0],i[1])\n",
    "    "
   ]
  },
  {
   "cell_type": "code",
   "execution_count": 107,
   "id": "6c7c9fa7-ef9f-45b1-a5d4-b397de1d6d53",
   "metadata": {},
   "outputs": [
    {
     "name": "stdout",
     "output_type": "stream",
     "text": [
      "1 a\n",
      "2 b\n",
      "3 c\n"
     ]
    }
   ],
   "source": [
    "for i,j in [(1,\"a\"), (2,\"b\"), (3,\"c\")] :\n",
    "    print(i,j)"
   ]
  },
  {
   "cell_type": "code",
   "execution_count": 108,
   "id": "b981126c-6c46-4c10-8018-cd694fe659e6",
   "metadata": {},
   "outputs": [
    {
     "name": "stdout",
     "output_type": "stream",
     "text": [
      "1 a\n",
      "2 b\n",
      "3 c\n"
     ]
    }
   ],
   "source": [
    "li = [(1,\"a\"), (2,\"b\"), (3,\"c\")]\n",
    "for i,j in li :\n",
    "    print(i,j)"
   ]
  },
  {
   "cell_type": "markdown",
   "id": "6dd8ff55-1677-451c-b578-fbb8658e27e9",
   "metadata": {},
   "source": [
    "- for 단수 in 복수"
   ]
  },
  {
   "cell_type": "code",
   "execution_count": 113,
   "id": "1e7df2e0-8f97-4ad8-a41a-0a69ec6f8844",
   "metadata": {},
   "outputs": [
    {
     "name": "stdout",
     "output_type": "stream",
     "text": [
      "철수\n",
      "영희\n",
      "길동\n",
      "전우치\n",
      "손오공\n"
     ]
    }
   ],
   "source": [
    "names = [\"철수\",\"영희\",\"길동\",\"전우치\",\"손오공\"]\n",
    "for name in names :\n",
    "    print(name)\n",
    "    "
   ]
  },
  {
   "cell_type": "code",
   "execution_count": null,
   "id": "f35d24bb-e5fb-4301-8e1f-8afb9f7f1aa5",
   "metadata": {},
   "outputs": [],
   "source": [
    "\n",
    "\n",
    "1 = 0 + 1\n",
    "3 = 1 + 2\n",
    "6 = 3 + 3\n",
    "10 = 6 + 4\n",
    "15\n",
    ".\n",
    ".\n",
    ".\n",
    "\n",
    "sum =  sum + i\n",
    "\n"
   ]
  },
  {
   "cell_type": "code",
   "execution_count": 165,
   "id": "f2524451-3e64-420a-a328-6655d0d90d06",
   "metadata": {},
   "outputs": [
    {
     "name": "stdout",
     "output_type": "stream",
     "text": [
      "0\n",
      "1\n",
      "3\n",
      "6\n",
      "10\n",
      "15\n",
      "21\n",
      "28\n",
      "36\n",
      "45\n",
      "55\n"
     ]
    }
   ],
   "source": [
    "sum = 0\n",
    "for i in range(11):    #0부터 11미만의 숫자를 포함하는 range 객체\n",
    "    sum = sum + i\n",
    "    print(sum)\n",
    "    "
   ]
  },
  {
   "cell_type": "code",
   "execution_count": 116,
   "id": "2d9f9db7-35ca-4e84-a870-65eed03fa62d",
   "metadata": {},
   "outputs": [
    {
     "name": "stdout",
     "output_type": "stream",
     "text": [
      "55\n"
     ]
    }
   ],
   "source": [
    "sum = 0\n",
    "for i in range(11):\n",
    "    sum = sum + i\n",
    "print(sum)"
   ]
  },
  {
   "cell_type": "code",
   "execution_count": null,
   "id": "6383419e-f381-4b64-b9b8-94c3dca2ad7d",
   "metadata": {},
   "outputs": [],
   "source": [
    "# 1부터 100까지 합은?"
   ]
  },
  {
   "cell_type": "code",
   "execution_count": 167,
   "id": "29dab33f-ac82-436b-8b73-cded44d6e52b",
   "metadata": {},
   "outputs": [
    {
     "name": "stdout",
     "output_type": "stream",
     "text": [
      "5050\n"
     ]
    }
   ],
   "source": [
    "sum = 0\n",
    "for i in range(101):     #0부터 11미만의 숫자를 포함한 range객체\n",
    "    sum = sum + i    \n",
    "print(sum)"
   ]
  },
  {
   "cell_type": "code",
   "execution_count": null,
   "id": "4662c8e9-bc7a-4c93-9ba1-0730e52d4b8e",
   "metadata": {},
   "outputs": [],
   "source": [
    "# 1부터 100까지 모든 홀수의 합은?"
   ]
  },
  {
   "cell_type": "code",
   "execution_count": 168,
   "id": "a66d964b-db9f-4e7e-b66c-eb3565d695fb",
   "metadata": {},
   "outputs": [
    {
     "name": "stdout",
     "output_type": "stream",
     "text": [
      "2500\n"
     ]
    }
   ],
   "source": [
    "sum = 0                      # 1이상 101미만\n",
    "for i in range(1,101,2):     # i변수에 리스트의 숫자 1~100까지 하나씩 차례로 대입하면서\n",
    "    sum = sum + i            # 반복적으로 수행할 문장\n",
    "print(sum)                   # 최종 결괏값"
   ]
  },
  {
   "cell_type": "code",
   "execution_count": null,
   "id": "41a311b4-3b48-4f6b-9eb1-7fa51dd76c31",
   "metadata": {},
   "outputs": [],
   "source": [
    "# 입력받은 수 까지의 합은?"
   ]
  },
  {
   "cell_type": "code",
   "execution_count": 121,
   "id": "7060d965-8b99-4a09-8077-160d699d5e7b",
   "metadata": {},
   "outputs": [
    {
     "name": "stdin",
     "output_type": "stream",
     "text": [
      "숫자 10\n"
     ]
    },
    {
     "name": "stdout",
     "output_type": "stream",
     "text": [
      "55\n"
     ]
    }
   ],
   "source": [
    "number = int(input(\"숫자\"))\n",
    "sum = 0\n",
    "for i in range(number+1):\n",
    "    sum = sum + i\n",
    "print(sum)"
   ]
  },
  {
   "cell_type": "code",
   "execution_count": null,
   "id": "e202e43a-6d7f-4856-8233-3abfb6936255",
   "metadata": {},
   "outputs": [],
   "source": [
    "# 두 수를 입력받아"
   ]
  },
  {
   "cell_type": "code",
   "execution_count": 124,
   "id": "266d3ca4-da29-4873-a162-6c4e96690861",
   "metadata": {},
   "outputs": [
    {
     "name": "stdin",
     "output_type": "stream",
     "text": [
      "숫자 1\n",
      "숫자 10\n"
     ]
    },
    {
     "name": "stdout",
     "output_type": "stream",
     "text": [
      "55\n"
     ]
    }
   ],
   "source": [
    "number1 = int(input(\"숫자\"))\n",
    "number2 = int(input(\"숫자\"))\n",
    "\n",
    "sum = 0\n",
    "for i in range(number1, number2+1):\n",
    "    sum = sum + i\n",
    "print(sum)"
   ]
  },
  {
   "cell_type": "code",
   "execution_count": null,
   "id": "8955de56-5c7f-4cc5-8482-c5ae99f4c99f",
   "metadata": {},
   "outputs": [],
   "source": [
    "# 두 수를 일력받아.. 모든 짝수의 합"
   ]
  },
  {
   "cell_type": "code",
   "execution_count": 127,
   "id": "7c989b32-4b9f-4dee-b7e5-2a6230ccbb8e",
   "metadata": {},
   "outputs": [
    {
     "name": "stdin",
     "output_type": "stream",
     "text": [
      "숫자 1\n",
      "숫자 10\n"
     ]
    },
    {
     "name": "stdout",
     "output_type": "stream",
     "text": [
      "30\n"
     ]
    }
   ],
   "source": [
    "number1 = int(input(\"숫자\"))\n",
    "number2 = int(input(\"숫자\"))\n",
    "\n",
    "sum = 0\n",
    "for i in range(number1, number2+1):\n",
    "    if i %2==0:\n",
    "        sum = sum + i\n",
    "print(sum)"
   ]
  },
  {
   "cell_type": "code",
   "execution_count": null,
   "id": "8c4f1277-c4f0-4215-b99c-ed6aa1a344e2",
   "metadata": {},
   "outputs": [],
   "source": [
    "# 두 수를 일력받아.. 모든 홀수의 합"
   ]
  },
  {
   "cell_type": "code",
   "execution_count": 128,
   "id": "a4000b29-d372-42c3-98ea-3d909d9543cc",
   "metadata": {},
   "outputs": [
    {
     "name": "stdin",
     "output_type": "stream",
     "text": [
      "숫자 1\n",
      "숫자 10\n"
     ]
    },
    {
     "name": "stdout",
     "output_type": "stream",
     "text": [
      "25\n"
     ]
    }
   ],
   "source": [
    "number1 = int(input(\"숫자\"))\n",
    "number2 = int(input(\"숫자\"))\n",
    "\n",
    "sum = 0\n",
    "for i in range(number1, number2+1):\n",
    "    if i %2==1:\n",
    "        sum = sum + i\n",
    "print(sum)"
   ]
  },
  {
   "cell_type": "code",
   "execution_count": null,
   "id": "00cf6af4-5a5c-4cdd-9f9e-7438cd9c0688",
   "metadata": {},
   "outputs": [],
   "source": [
    "# 13부터 123까지 홀수의 개수는?"
   ]
  },
  {
   "cell_type": "code",
   "execution_count": 166,
   "id": "151252e6-3771-4b92-ad88-67abb28e8f6e",
   "metadata": {},
   "outputs": [
    {
     "name": "stdout",
     "output_type": "stream",
     "text": [
      "56\n"
     ]
    }
   ],
   "source": [
    "count = 0\n",
    "for i in range(13,123+1):\n",
    "    if i %2==1:\n",
    "        count = count +1\n",
    "    else:\n",
    "        pass\n",
    "print(count)"
   ]
  },
  {
   "cell_type": "code",
   "execution_count": 133,
   "id": "8345dfcd-bbac-4cd5-9382-26b9fb61ecf4",
   "metadata": {},
   "outputs": [
    {
     "name": "stdout",
     "output_type": "stream",
     "text": [
      "[1, 2]\n",
      "['a', 'b', 'c']\n"
     ]
    }
   ],
   "source": [
    "a = [[1,2], [\"a\",\"b\",\"c\"]]\n",
    "for i in a:\n",
    "    print(i)"
   ]
  },
  {
   "cell_type": "code",
   "execution_count": 134,
   "id": "5d241bc9-3b59-4147-b2ca-6e4997347f2c",
   "metadata": {},
   "outputs": [
    {
     "name": "stdout",
     "output_type": "stream",
     "text": [
      "1\n",
      "2\n",
      "a\n",
      "b\n",
      "c\n"
     ]
    }
   ],
   "source": [
    "a = [[1,2], [\"a\",\"b\",\"c\"]]\n",
    "for i in a:\n",
    "    for j in i :\n",
    "        print(j)"
   ]
  },
  {
   "cell_type": "code",
   "execution_count": 139,
   "id": "a663d626-b1d7-4fd2-b5a0-39d0b76961e9",
   "metadata": {},
   "outputs": [
    {
     "name": "stdout",
     "output_type": "stream",
     "text": [
      "1 a\n",
      "1 b\n",
      "1 c\n",
      "2 a\n",
      "2 b\n",
      "2 c\n"
     ]
    }
   ],
   "source": [
    "a = [[1,2], [\"a\",\"b\",\"c\"]]\n",
    "for i in a[0]:\n",
    "    for j in a[1] :\n",
    "        print(i,j)"
   ]
  },
  {
   "cell_type": "code",
   "execution_count": null,
   "id": "407f6887-ae04-4b21-90c8-cfda4298fa33",
   "metadata": {},
   "outputs": [],
   "source": [
    "count += n  #카운트는 n만큼 증가한다.\n",
    "count -= n  #카운트는 n만큼 감소한다.\n",
    "count *= n  #카운트는 n만큼 곱한다.\n",
    "count /= n  #카운트는 n만큼 나눈다."
   ]
  },
  {
   "cell_type": "code",
   "execution_count": 141,
   "id": "299f58be-2496-43ab-baab-86fbd428a190",
   "metadata": {},
   "outputs": [
    {
     "name": "stdout",
     "output_type": "stream",
     "text": [
      "1 1\n",
      "1 2\n",
      "1 3\n",
      "1 4\n",
      "1 5\n",
      "1 6\n",
      "2 1\n",
      "2 2\n",
      "2 3\n",
      "2 4\n",
      "2 5\n",
      "2 6\n"
     ]
    }
   ],
   "source": [
    "for i in [1,2]:\n",
    "    for j in [1, 2, 3, 4, 5, 6]:\n",
    "        print(i,j)"
   ]
  },
  {
   "cell_type": "code",
   "execution_count": 142,
   "id": "b38fefc4-4c66-4d0a-8c2a-fd3039b78d9d",
   "metadata": {},
   "outputs": [
    {
     "name": "stdout",
     "output_type": "stream",
     "text": [
      "2 1\n",
      "2 2\n",
      "2 3\n",
      "2 4\n",
      "2 5\n",
      "2 6\n",
      "2 7\n",
      "2 8\n",
      "2 9\n",
      "3 1\n",
      "3 2\n",
      "3 3\n",
      "3 4\n",
      "3 5\n",
      "3 6\n",
      "3 7\n",
      "3 8\n",
      "3 9\n"
     ]
    }
   ],
   "source": [
    "for i in range(2,4):\n",
    "    for j in range(1, 10):\n",
    "        print(i,j)"
   ]
  },
  {
   "cell_type": "code",
   "execution_count": 148,
   "id": "af2ab522-e2b5-434a-8ec4-050494e6ca45",
   "metadata": {},
   "outputs": [
    {
     "name": "stdout",
     "output_type": "stream",
     "text": [
      "2 X 1 = 2\n",
      "2 X 2 = 4\n",
      "2 X 3 = 6\n",
      "2 X 4 = 8\n",
      "2 X 5 = 10\n",
      "2 X 6 = 12\n",
      "2 X 7 = 14\n",
      "2 X 8 = 16\n",
      "2 X 9 = 18\n",
      "3 X 1 = 3\n",
      "3 X 2 = 6\n",
      "3 X 3 = 9\n",
      "3 X 4 = 12\n",
      "3 X 5 = 15\n",
      "3 X 6 = 18\n",
      "3 X 7 = 21\n",
      "3 X 8 = 24\n",
      "3 X 9 = 27\n"
     ]
    }
   ],
   "source": [
    "for i in range(2,4):\n",
    "    for j in range(1, 10):\n",
    "        print(i,\"X\",j,\"=\",i*j)"
   ]
  },
  {
   "cell_type": "code",
   "execution_count": 149,
   "id": "6f98cb25-2bed-4c4c-b739-87b0790cc94a",
   "metadata": {},
   "outputs": [
    {
     "name": "stdout",
     "output_type": "stream",
     "text": [
      "2 X 1 = 2\n",
      "2 X 2 = 4\n",
      "2 X 3 = 6\n",
      "2 X 4 = 8\n",
      "2 X 5 = 10\n",
      "2 X 6 = 12\n",
      "2 X 7 = 14\n",
      "2 X 8 = 16\n",
      "2 X 9 = 18\n",
      "3 X 1 = 3\n",
      "3 X 2 = 6\n",
      "3 X 3 = 9\n",
      "3 X 4 = 12\n",
      "3 X 5 = 15\n",
      "3 X 6 = 18\n",
      "3 X 7 = 21\n",
      "3 X 8 = 24\n",
      "3 X 9 = 27\n"
     ]
    }
   ],
   "source": [
    "for i in range(2,4):\n",
    "    for j in range(1, 10):\n",
    "        print(f\"{i} X {j} = {i*j}\")"
   ]
  },
  {
   "cell_type": "code",
   "execution_count": 150,
   "id": "85e6dce4-a40b-48eb-9c08-fe6c6e8022e7",
   "metadata": {
    "collapsed": true,
    "jupyter": {
     "outputs_hidden": true
    },
    "tags": []
   },
   "outputs": [
    {
     "name": "stdout",
     "output_type": "stream",
     "text": [
      "2 X 1 = 2\n",
      "2 X 2 = 4\n",
      "2 X 3 = 6\n",
      "2 X 4 = 8\n",
      "2 X 5 = 10\n",
      "2 X 6 = 12\n",
      "2 X 7 = 14\n",
      "2 X 8 = 16\n",
      "2 X 9 = 18\n",
      "3 X 1 = 3\n",
      "3 X 2 = 6\n",
      "3 X 3 = 9\n",
      "3 X 4 = 12\n",
      "3 X 5 = 15\n",
      "3 X 6 = 18\n",
      "3 X 7 = 21\n",
      "3 X 8 = 24\n",
      "3 X 9 = 27\n",
      "4 X 1 = 4\n",
      "4 X 2 = 8\n",
      "4 X 3 = 12\n",
      "4 X 4 = 16\n",
      "4 X 5 = 20\n",
      "4 X 6 = 24\n",
      "4 X 7 = 28\n",
      "4 X 8 = 32\n",
      "4 X 9 = 36\n",
      "5 X 1 = 5\n",
      "5 X 2 = 10\n",
      "5 X 3 = 15\n",
      "5 X 4 = 20\n",
      "5 X 5 = 25\n",
      "5 X 6 = 30\n",
      "5 X 7 = 35\n",
      "5 X 8 = 40\n",
      "5 X 9 = 45\n",
      "6 X 1 = 6\n",
      "6 X 2 = 12\n",
      "6 X 3 = 18\n",
      "6 X 4 = 24\n",
      "6 X 5 = 30\n",
      "6 X 6 = 36\n",
      "6 X 7 = 42\n",
      "6 X 8 = 48\n",
      "6 X 9 = 54\n",
      "7 X 1 = 7\n",
      "7 X 2 = 14\n",
      "7 X 3 = 21\n",
      "7 X 4 = 28\n",
      "7 X 5 = 35\n",
      "7 X 6 = 42\n",
      "7 X 7 = 49\n",
      "7 X 8 = 56\n",
      "7 X 9 = 63\n",
      "8 X 1 = 8\n",
      "8 X 2 = 16\n",
      "8 X 3 = 24\n",
      "8 X 4 = 32\n",
      "8 X 5 = 40\n",
      "8 X 6 = 48\n",
      "8 X 7 = 56\n",
      "8 X 8 = 64\n",
      "8 X 9 = 72\n",
      "9 X 1 = 9\n",
      "9 X 2 = 18\n",
      "9 X 3 = 27\n",
      "9 X 4 = 36\n",
      "9 X 5 = 45\n",
      "9 X 6 = 54\n",
      "9 X 7 = 63\n",
      "9 X 8 = 72\n",
      "9 X 9 = 81\n"
     ]
    }
   ],
   "source": [
    "for i in range(2,10):\n",
    "    for j in range(1, 10):\n",
    "        print(f\"{i} X {j} = {i*j}\")"
   ]
  },
  {
   "cell_type": "code",
   "execution_count": 152,
   "id": "cfd3a89f-5b0b-4b1a-a7b3-5e2eef7f10e3",
   "metadata": {
    "collapsed": true,
    "jupyter": {
     "outputs_hidden": true
    },
    "tags": []
   },
   "outputs": [
    {
     "name": "stdout",
     "output_type": "stream",
     "text": [
      "2 X 1 = 2\n",
      "2 X 2 = 4\n",
      "2 X 3 = 6\n",
      "2 X 4 = 8\n",
      "2 X 5 = 10\n",
      "2 X 6 = 12\n",
      "2 X 7 = 14\n",
      "2 X 8 = 16\n",
      "2 X 9 = 18\n",
      "\n",
      "3 X 1 = 3\n",
      "3 X 2 = 6\n",
      "3 X 3 = 9\n",
      "3 X 4 = 12\n",
      "3 X 5 = 15\n",
      "3 X 6 = 18\n",
      "3 X 7 = 21\n",
      "3 X 8 = 24\n",
      "3 X 9 = 27\n",
      "\n",
      "4 X 1 = 4\n",
      "4 X 2 = 8\n",
      "4 X 3 = 12\n",
      "4 X 4 = 16\n",
      "4 X 5 = 20\n",
      "4 X 6 = 24\n",
      "4 X 7 = 28\n",
      "4 X 8 = 32\n",
      "4 X 9 = 36\n",
      "\n",
      "5 X 1 = 5\n",
      "5 X 2 = 10\n",
      "5 X 3 = 15\n",
      "5 X 4 = 20\n",
      "5 X 5 = 25\n",
      "5 X 6 = 30\n",
      "5 X 7 = 35\n",
      "5 X 8 = 40\n",
      "5 X 9 = 45\n",
      "\n",
      "6 X 1 = 6\n",
      "6 X 2 = 12\n",
      "6 X 3 = 18\n",
      "6 X 4 = 24\n",
      "6 X 5 = 30\n",
      "6 X 6 = 36\n",
      "6 X 7 = 42\n",
      "6 X 8 = 48\n",
      "6 X 9 = 54\n",
      "\n",
      "7 X 1 = 7\n",
      "7 X 2 = 14\n",
      "7 X 3 = 21\n",
      "7 X 4 = 28\n",
      "7 X 5 = 35\n",
      "7 X 6 = 42\n",
      "7 X 7 = 49\n",
      "7 X 8 = 56\n",
      "7 X 9 = 63\n",
      "\n",
      "8 X 1 = 8\n",
      "8 X 2 = 16\n",
      "8 X 3 = 24\n",
      "8 X 4 = 32\n",
      "8 X 5 = 40\n",
      "8 X 6 = 48\n",
      "8 X 7 = 56\n",
      "8 X 8 = 64\n",
      "8 X 9 = 72\n",
      "\n",
      "9 X 1 = 9\n",
      "9 X 2 = 18\n",
      "9 X 3 = 27\n",
      "9 X 4 = 36\n",
      "9 X 5 = 45\n",
      "9 X 6 = 54\n",
      "9 X 7 = 63\n",
      "9 X 8 = 72\n",
      "9 X 9 = 81\n",
      "\n"
     ]
    }
   ],
   "source": [
    "for i in range(2,10):\n",
    "    for j in range(1, 10):\n",
    "        print(f\"{i} X {j} = {i*j}\")\n",
    "    print()"
   ]
  },
  {
   "cell_type": "code",
   "execution_count": 155,
   "id": "3c065721-450e-446b-8c3a-3985f635a174",
   "metadata": {
    "collapsed": true,
    "jupyter": {
     "outputs_hidden": true
    },
    "tags": []
   },
   "outputs": [
    {
     "name": "stdout",
     "output_type": "stream",
     "text": [
      "2단 입니다\n",
      "2 X 1 = 2\n",
      "2 X 2 = 4\n",
      "2 X 3 = 6\n",
      "2 X 4 = 8\n",
      "2 X 5 = 10\n",
      "2 X 6 = 12\n",
      "2 X 7 = 14\n",
      "2 X 8 = 16\n",
      "2 X 9 = 18\n",
      "\n",
      "3단 입니다\n",
      "3 X 1 = 3\n",
      "3 X 2 = 6\n",
      "3 X 3 = 9\n",
      "3 X 4 = 12\n",
      "3 X 5 = 15\n",
      "3 X 6 = 18\n",
      "3 X 7 = 21\n",
      "3 X 8 = 24\n",
      "3 X 9 = 27\n",
      "\n",
      "4단 입니다\n",
      "4 X 1 = 4\n",
      "4 X 2 = 8\n",
      "4 X 3 = 12\n",
      "4 X 4 = 16\n",
      "4 X 5 = 20\n",
      "4 X 6 = 24\n",
      "4 X 7 = 28\n",
      "4 X 8 = 32\n",
      "4 X 9 = 36\n",
      "\n",
      "5단 입니다\n",
      "5 X 1 = 5\n",
      "5 X 2 = 10\n",
      "5 X 3 = 15\n",
      "5 X 4 = 20\n",
      "5 X 5 = 25\n",
      "5 X 6 = 30\n",
      "5 X 7 = 35\n",
      "5 X 8 = 40\n",
      "5 X 9 = 45\n",
      "\n",
      "6단 입니다\n",
      "6 X 1 = 6\n",
      "6 X 2 = 12\n",
      "6 X 3 = 18\n",
      "6 X 4 = 24\n",
      "6 X 5 = 30\n",
      "6 X 6 = 36\n",
      "6 X 7 = 42\n",
      "6 X 8 = 48\n",
      "6 X 9 = 54\n",
      "\n",
      "7단 입니다\n",
      "7 X 1 = 7\n",
      "7 X 2 = 14\n",
      "7 X 3 = 21\n",
      "7 X 4 = 28\n",
      "7 X 5 = 35\n",
      "7 X 6 = 42\n",
      "7 X 7 = 49\n",
      "7 X 8 = 56\n",
      "7 X 9 = 63\n",
      "\n",
      "8단 입니다\n",
      "8 X 1 = 8\n",
      "8 X 2 = 16\n",
      "8 X 3 = 24\n",
      "8 X 4 = 32\n",
      "8 X 5 = 40\n",
      "8 X 6 = 48\n",
      "8 X 7 = 56\n",
      "8 X 8 = 64\n",
      "8 X 9 = 72\n",
      "\n",
      "9단 입니다\n",
      "9 X 1 = 9\n",
      "9 X 2 = 18\n",
      "9 X 3 = 27\n",
      "9 X 4 = 36\n",
      "9 X 5 = 45\n",
      "9 X 6 = 54\n",
      "9 X 7 = 63\n",
      "9 X 8 = 72\n",
      "9 X 9 = 81\n",
      "\n"
     ]
    }
   ],
   "source": [
    "for i in range(2,10):\n",
    "    print(f\"{i}단 입니다\")\n",
    "    for j in range(1, 10):\n",
    "        print(f\"{i} X {j} = {i*j}\")\n",
    "    print()\n"
   ]
  },
  {
   "cell_type": "code",
   "execution_count": 160,
   "id": "57647730-5d61-4623-b503-c3ea8c8b8456",
   "metadata": {},
   "outputs": [
    {
     "name": "stdout",
     "output_type": "stream",
     "text": [
      "[1, 3, 5, 7, 9]\n"
     ]
    }
   ],
   "source": [
    "li = []\n",
    "for i in range(10):\n",
    "    if i % 2 ==1 :\n",
    "        li.append(i)\n",
    "print(li)"
   ]
  },
  {
   "cell_type": "code",
   "execution_count": null,
   "id": "fc9d2d99-4ec4-4a15-ab0d-547ab37f0029",
   "metadata": {},
   "outputs": [],
   "source": [
    "# 1부터 1000까지 3의 배수 또는 5의 배수의 합"
   ]
  },
  {
   "cell_type": "code",
   "execution_count": 163,
   "id": "89981431-e0e3-46ee-9cfb-3fd1dbabab20",
   "metadata": {},
   "outputs": [
    {
     "name": "stdout",
     "output_type": "stream",
     "text": [
      "233168\n"
     ]
    }
   ],
   "source": [
    "sum = 0\n",
    "for i in range(1,1000):\n",
    "     if (i % 3 == 0) or (i % 5 == 0):\n",
    "        sum+=i\n",
    "print(sum)"
   ]
  },
  {
   "cell_type": "code",
   "execution_count": 164,
   "id": "1b1edfae-e918-4309-92af-69f9cfbefc3d",
   "metadata": {},
   "outputs": [
    {
     "name": "stdout",
     "output_type": "stream",
     "text": [
      "234168\n"
     ]
    }
   ],
   "source": [
    "sum = 0\n",
    "\n",
    "for i in range(1001):\n",
    "    if i%3 == 0 :\n",
    "        sum+=i\n",
    "    elif i%5 == 0:\n",
    "        sum+=i\n",
    "\n",
    "print(sum) "
   ]
  },
  {
   "cell_type": "code",
   "execution_count": 167,
   "id": "ef2d32a2-efdf-4e3d-82ee-a735a9009186",
   "metadata": {},
   "outputs": [
    {
     "name": "stdout",
     "output_type": "stream",
     "text": [
      "[2, 6, 10, 14, 18]\n"
     ]
    }
   ],
   "source": [
    "li = []\n",
    "for i in range(10):\n",
    "    if i % 2 ==1 :\n",
    "        li.append(i*2)\n",
    "print(li)"
   ]
  },
  {
   "cell_type": "markdown",
   "id": "f427f614-9533-4dad-abef-a4b300225b2f",
   "metadata": {},
   "source": [
    "- list comprehension 리스트 내포 : 리스트 안에 for문을 포함한다."
   ]
  },
  {
   "cell_type": "code",
   "execution_count": null,
   "id": "0bbd0459-d0ae-4bfd-aae8-16dce38c668a",
   "metadata": {},
   "outputs": [],
   "source": [
    "# a 리스트의 각 항목에 2를 곱한 결과를 리스트에 담다."
   ]
  },
  {
   "cell_type": "code",
   "execution_count": 168,
   "id": "cd04a765-920d-4ff9-bc8d-d4c9b7c3c149",
   "metadata": {},
   "outputs": [
    {
     "name": "stdout",
     "output_type": "stream",
     "text": [
      "[2, 4, 6, 8]\n"
     ]
    }
   ],
   "source": [
    "a = [1,2,3,4]\n",
    "li = []\n",
    "for i in a:\n",
    "    li.append(i*2)\n",
    "print(li)"
   ]
  },
  {
   "cell_type": "code",
   "execution_count": 170,
   "id": "94c2b65c-f759-440d-bea5-2202e9366e01",
   "metadata": {},
   "outputs": [
    {
     "data": {
      "text/plain": [
       "[2, 4, 6, 8]"
      ]
     },
     "execution_count": 170,
     "metadata": {},
     "output_type": "execute_result"
    }
   ],
   "source": [
    "a = [1,2,3,4]\n",
    "li = [i*2 for i in a]\n",
    "li"
   ]
  },
  {
   "cell_type": "code",
   "execution_count": 169,
   "id": "08dabadd-f3e5-4bde-abfc-050584bd1881",
   "metadata": {},
   "outputs": [
    {
     "name": "stdout",
     "output_type": "stream",
     "text": [
      "[4, 8]\n"
     ]
    }
   ],
   "source": [
    "a = [1,2,3,4]\n",
    "li = []\n",
    "for i in a:\n",
    "    if i % 2 ==0:       #짝수에만 2를 곱하기 위해 if조건을 사용\n",
    "        li.append(i*2)\n",
    "print(li)"
   ]
  },
  {
   "cell_type": "code",
   "execution_count": null,
   "id": "f4034370-b60a-4960-be20-49bce3983255",
   "metadata": {},
   "outputs": [],
   "source": [
    "# [표현식 for 항목 in 반복가능객체 if 조건문]"
   ]
  },
  {
   "cell_type": "code",
   "execution_count": 172,
   "id": "db01d481-07b4-422e-9612-ad340ec5359e",
   "metadata": {},
   "outputs": [
    {
     "data": {
      "text/plain": [
       "[2, 4]"
      ]
     },
     "execution_count": 172,
     "metadata": {},
     "output_type": "execute_result"
    }
   ],
   "source": [
    "a = [1,2,3,4]\n",
    "li = [i*1 for i in a if i % 2 == 0]\n",
    "li"
   ]
  },
  {
   "cell_type": "code",
   "execution_count": 173,
   "id": "5f35ac75-61cd-443e-bee6-5ac89ad097d5",
   "metadata": {},
   "outputs": [
    {
     "name": "stdout",
     "output_type": "stream",
     "text": [
      "79.0\n"
     ]
    }
   ],
   "source": [
    "scores = [70,60,55,75,95,90,80,80,85,100]\n",
    "total = 0\n",
    "for score in scores:\n",
    "    total += score\n",
    "average = total/len(scores)\n",
    "print(average)"
   ]
  },
  {
   "cell_type": "markdown",
   "id": "35189905-3aaf-4e77-8c72-17592b2c151c",
   "metadata": {
    "tags": []
   },
   "source": [
    "## while 문\n",
    "- 조건문 + 반복문\n",
    "- 반복해서 문장을 수행해야 할 경우 while문을 사용한다.\n",
    "- 반복의 횟수가 정해져 있지 않을 때\n",
    "\n",
    "````\n",
    "while 조건 :\n",
    "    반복할 내용\n",
    "````"
   ]
  },
  {
   "cell_type": "code",
   "execution_count": 175,
   "id": "8327a557-3100-4bc1-858a-ca9d6c1925e7",
   "metadata": {},
   "outputs": [],
   "source": [
    "import random"
   ]
  },
  {
   "cell_type": "code",
   "execution_count": 181,
   "id": "80519b07-5f79-4868-ab14-75ae3963da51",
   "metadata": {},
   "outputs": [
    {
     "data": {
      "text/plain": [
       "5"
      ]
     },
     "execution_count": 181,
     "metadata": {},
     "output_type": "execute_result"
    }
   ],
   "source": [
    "random.randint(1, 9) #랜덤한 숫자를 뽑아준다."
   ]
  },
  {
   "cell_type": "code",
   "execution_count": null,
   "id": "01311703-a75b-4fde-a991-45eebfc1eb00",
   "metadata": {},
   "outputs": [],
   "source": [
    "# while문은 조건문이 참인 동안에 while문 아래의 문장이 반복해서 수행된다."
   ]
  },
  {
   "cell_type": "code",
   "execution_count": 179,
   "id": "4c2b1e20-36a0-4f53-a6dc-398449564741",
   "metadata": {},
   "outputs": [
    {
     "name": "stdout",
     "output_type": "stream",
     "text": [
      "0\n",
      "10\n",
      "20\n",
      "30\n",
      "40\n",
      "50\n",
      "60\n"
     ]
    }
   ],
   "source": [
    "a = 0\n",
    "while a < 7 :\n",
    "    print(a*10)\n",
    "    a += 1     #변화를 꼭 주어야 무한 루프 되지 않는다."
   ]
  },
  {
   "cell_type": "markdown",
   "id": "27a7fdd3-40a6-461b-aff1-c408e4b9362d",
   "metadata": {},
   "source": [
    "a = 0\n",
    "while a < 7 :\n",
    "    print(a*10)\n",
    "    a = random.randint(1,10)"
   ]
  },
  {
   "cell_type": "code",
   "execution_count": 188,
   "id": "6817fce7-b6cf-4f18-a227-a5fa150917c9",
   "metadata": {},
   "outputs": [
    {
     "name": "stdout",
     "output_type": "stream",
     "text": [
      "55\n"
     ]
    }
   ],
   "source": [
    "sum = 0\n",
    "for i in range(11):\n",
    "    sum += i\n",
    "print(sum)"
   ]
  },
  {
   "cell_type": "code",
   "execution_count": 189,
   "id": "b77e338e-e550-45b2-8985-fb9c4287d76c",
   "metadata": {},
   "outputs": [
    {
     "name": "stdout",
     "output_type": "stream",
     "text": [
      "55\n"
     ]
    }
   ],
   "source": [
    "sum = 0\n",
    "i = 0\n",
    "while i < 11:   \n",
    "    sum += i\n",
    "    i += 1\n",
    "print(sum)"
   ]
  },
  {
   "cell_type": "markdown",
   "id": "6f9adf77-84dd-45a4-9f0e-43f253a3f1f8",
   "metadata": {},
   "source": [
    "- break : while문 강제로 빠져나가기"
   ]
  },
  {
   "cell_type": "code",
   "execution_count": 190,
   "id": "f7df2136-6aad-47b6-8a1d-0280ec0f7e5b",
   "metadata": {},
   "outputs": [
    {
     "name": "stdout",
     "output_type": "stream",
     "text": [
      "21\n"
     ]
    }
   ],
   "source": [
    "sum = 0\n",
    "i = 0\n",
    "while i < 11:   \n",
    "    sum += i\n",
    "    i += 1\n",
    "    if i % 7 == 0:\n",
    "        break\n",
    "print(sum)"
   ]
  },
  {
   "cell_type": "markdown",
   "id": "1d40fb27-127c-4656-93cf-4fe21490a21a",
   "metadata": {},
   "source": [
    "- continue : while문의 맨 처음으로 돌아가기"
   ]
  },
  {
   "cell_type": "code",
   "execution_count": 192,
   "id": "3b7f5c03-5aab-4837-be22-8b7808758417",
   "metadata": {},
   "outputs": [
    {
     "name": "stdout",
     "output_type": "stream",
     "text": [
      "1\n",
      "3\n",
      "5\n",
      "7\n",
      "9\n"
     ]
    }
   ],
   "source": [
    "a = 0\n",
    "while a <10:\n",
    "    a += 1\n",
    "    if a % 2 == 0:\n",
    "        continue\n",
    "    print(a)"
   ]
  },
  {
   "cell_type": "code",
   "execution_count": 194,
   "id": "3d2a9f20-0018-4133-b799-074076464641",
   "metadata": {},
   "outputs": [
    {
     "name": "stdout",
     "output_type": "stream",
     "text": [
      "1\n",
      "2\n",
      "4\n",
      "5\n",
      "7\n",
      "8\n",
      "10\n"
     ]
    }
   ],
   "source": [
    "a = 0\n",
    "while a <10:\n",
    "    a += 1\n",
    "    if a % 3 ==0:\n",
    "        continue\n",
    "    print(a)"
   ]
  },
  {
   "cell_type": "code",
   "execution_count": 201,
   "id": "6ecffd06-c67c-4adc-a0d2-72b8e3b62754",
   "metadata": {},
   "outputs": [
    {
     "name": "stdout",
     "output_type": "stream",
     "text": [
      "37\n"
     ]
    }
   ],
   "source": [
    "a = 0\n",
    "sum = 0\n",
    "while a <10:\n",
    "    a += 1\n",
    "    if a % 3 ==0:\n",
    "        continue\n",
    "    sum += a\n",
    "print(sum)   "
   ]
  },
  {
   "cell_type": "code",
   "execution_count": 202,
   "id": "fe3d9eda-0175-4b14-84fa-5e6ad459b097",
   "metadata": {},
   "outputs": [],
   "source": [
    "import time"
   ]
  },
  {
   "cell_type": "code",
   "execution_count": 203,
   "id": "a6ff2bd5-3571-41bf-af70-623ea5d5928c",
   "metadata": {},
   "outputs": [],
   "source": [
    "time.sleep(1)"
   ]
  },
  {
   "cell_type": "code",
   "execution_count": null,
   "id": "8428dcc9-6bbb-49aa-8350-a5b1876e09e0",
   "metadata": {},
   "outputs": [],
   "source": [
    "while True:\n",
    "    print(\"Hello\")\n",
    "    time.sleep(1)\n",
    "\n",
    "#Hello 1초마다 무한 반복"
   ]
  },
  {
   "cell_type": "markdown",
   "id": "3f35fbb5-42d6-4f7d-a5c8-c0e3384faa19",
   "metadata": {},
   "source": [
    "# 함수"
   ]
  },
  {
   "cell_type": "markdown",
   "id": "d215b046-4c96-46fe-b443-54d517d4ad12",
   "metadata": {},
   "source": [
    "# 함수 만들기\n",
    "\n",
    "````\n",
    "def 함수이름(매개변수) :\n",
    "    실행할 문장\n",
    "    ...\n",
    "    return 결과값\n",
    "````"
   ]
  },
  {
   "cell_type": "code",
   "execution_count": 3,
   "id": "6c1120db-bea7-4d36-89c2-3e7b9fa9d5c1",
   "metadata": {},
   "outputs": [],
   "source": [
    "def twice(a) :\n",
    "    result = a*2\n",
    "    return result"
   ]
  },
  {
   "cell_type": "code",
   "execution_count": 4,
   "id": "959b68c7-2f5c-4109-8bfa-ba6314ccaa27",
   "metadata": {},
   "outputs": [
    {
     "data": {
      "text/plain": [
       "6"
      ]
     },
     "execution_count": 4,
     "metadata": {},
     "output_type": "execute_result"
    }
   ],
   "source": [
    "twice(3)"
   ]
  },
  {
   "cell_type": "code",
   "execution_count": 5,
   "id": "37c9807e-e3d8-4f88-87b7-fd203f80c50f",
   "metadata": {},
   "outputs": [],
   "source": [
    "def twice(a) :\n",
    "    return a*2"
   ]
  },
  {
   "cell_type": "code",
   "execution_count": 24,
   "id": "f3a46bd4-fcce-4f02-bb18-49a988027600",
   "metadata": {},
   "outputs": [
    {
     "ename": "TypeError",
     "evalue": "twice() takes 1 positional argument but 2 were given",
     "output_type": "error",
     "traceback": [
      "\u001b[1;31m---------------------------------------------------------------------------\u001b[0m",
      "\u001b[1;31mTypeError\u001b[0m                                 Traceback (most recent call last)",
      "Input \u001b[1;32mIn [24]\u001b[0m, in \u001b[0;36m<cell line: 1>\u001b[1;34m()\u001b[0m\n\u001b[1;32m----> 1\u001b[0m \u001b[43mtwice\u001b[49m\u001b[43m(\u001b[49m\u001b[38;5;241;43m3\u001b[39;49m\u001b[43m,\u001b[49m\u001b[43m \u001b[49m\u001b[38;5;241;43m4\u001b[39;49m\u001b[43m)\u001b[49m\n",
      "\u001b[1;31mTypeError\u001b[0m: twice() takes 1 positional argument but 2 were given"
     ]
    }
   ],
   "source": [
    "twice(3, 4) #하나의 인자만 올 수 있다."
   ]
  },
  {
   "cell_type": "code",
   "execution_count": 215,
   "id": "9bcae0eb-4b76-408b-b1fc-d99e95bc4a70",
   "metadata": {},
   "outputs": [],
   "source": [
    "def add(a,b):   #a,b는 매개변수\n",
    "    result = a +b\n",
    "    return result  #결과값"
   ]
  },
  {
   "cell_type": "code",
   "execution_count": 214,
   "id": "5011fffc-fb90-4fcc-b835-11fbffbac802",
   "metadata": {},
   "outputs": [
    {
     "data": {
      "text/plain": [
       "7"
      ]
     },
     "execution_count": 214,
     "metadata": {},
     "output_type": "execute_result"
    }
   ],
   "source": [
    "add(3,4)    #3,4 는 인수"
   ]
  },
  {
   "cell_type": "code",
   "execution_count": 14,
   "id": "82857111-7625-4986-934a-0c119a52fa1f",
   "metadata": {},
   "outputs": [],
   "source": [
    "def subtract(a,b):\n",
    "    result = a - b\n",
    "    return result"
   ]
  },
  {
   "cell_type": "code",
   "execution_count": 15,
   "id": "27caadfc-655c-47bd-9484-4069b505e664",
   "metadata": {},
   "outputs": [
    {
     "data": {
      "text/plain": [
       "3"
      ]
     },
     "execution_count": 15,
     "metadata": {},
     "output_type": "execute_result"
    }
   ],
   "source": [
    "subtract(4,1)"
   ]
  },
  {
   "cell_type": "code",
   "execution_count": 23,
   "id": "7099c60a-9d44-4293-9f14-29c898de7a9c",
   "metadata": {},
   "outputs": [
    {
     "data": {
      "text/plain": [
       "-1"
      ]
     },
     "execution_count": 23,
     "metadata": {},
     "output_type": "execute_result"
    }
   ],
   "source": [
    "subtract(a=3, b=4) #인자를 지정해줄 수 있다."
   ]
  },
  {
   "cell_type": "code",
   "execution_count": 17,
   "id": "8d6a97eb-2498-4ebd-bd51-9bef5998816f",
   "metadata": {},
   "outputs": [
    {
     "data": {
      "text/plain": [
       "[1, 2]"
      ]
     },
     "execution_count": 17,
     "metadata": {},
     "output_type": "execute_result"
    }
   ],
   "source": [
    "a = [1,2]\n",
    "a.copy()"
   ]
  },
  {
   "cell_type": "code",
   "execution_count": 160,
   "id": "84dad96d-feb9-4bd3-8491-55474e94185e",
   "metadata": {},
   "outputs": [],
   "source": [
    "def test():     #입력값이 없는 함수\n",
    "    a, b = 1, 2\n",
    "    return a+b"
   ]
  },
  {
   "cell_type": "code",
   "execution_count": 161,
   "id": "87dd848b-c304-4eae-8e34-42dc4631de58",
   "metadata": {},
   "outputs": [
    {
     "data": {
      "text/plain": [
       "3"
      ]
     },
     "execution_count": 161,
     "metadata": {},
     "output_type": "execute_result"
    }
   ],
   "source": [
    "test()  # 결괏값을 받은 변수 = 함수이름()"
   ]
  },
  {
   "cell_type": "code",
   "execution_count": 21,
   "id": "981db25e-bfac-486a-8c54-f2526bf3424d",
   "metadata": {},
   "outputs": [],
   "source": [
    "def odd_even(a):\n",
    "    if a % 2 == 0:\n",
    "        print(\"짝수 입니다.\")\n",
    "    else:\n",
    "        print(\"홀수 입니다.\")\n",
    "    return"
   ]
  },
  {
   "cell_type": "code",
   "execution_count": 22,
   "id": "b99d7495-56cd-4d96-b7d7-20dc3e8b8108",
   "metadata": {},
   "outputs": [
    {
     "name": "stdout",
     "output_type": "stream",
     "text": [
      "짝수 입니다.\n"
     ]
    }
   ],
   "source": [
    "odd_even(4)"
   ]
  },
  {
   "cell_type": "markdown",
   "id": "5c2cb5b6-02f9-434a-98ff-4cb8cdfa7701",
   "metadata": {},
   "source": [
    "- default값이 있는 경우"
   ]
  },
  {
   "cell_type": "code",
   "execution_count": 35,
   "id": "c7c3843a-2965-4c45-8545-c9a992d8e60e",
   "metadata": {},
   "outputs": [],
   "source": [
    "def add(a,b,c=10):   #c는 default값 c자리에 값이 안들어오면 default값이 나온다\n",
    "    return a+b+c"
   ]
  },
  {
   "cell_type": "code",
   "execution_count": 33,
   "id": "9f1f96e3-fe46-4daa-ae01-8d73b5a8d7c0",
   "metadata": {},
   "outputs": [
    {
     "data": {
      "text/plain": [
       "13"
      ]
     },
     "execution_count": 33,
     "metadata": {},
     "output_type": "execute_result"
    }
   ],
   "source": [
    "add(1,2)"
   ]
  },
  {
   "cell_type": "code",
   "execution_count": 34,
   "id": "da67a2d0-ff73-4693-8b29-f74343ff610d",
   "metadata": {},
   "outputs": [
    {
     "data": {
      "text/plain": [
       "6"
      ]
     },
     "execution_count": 34,
     "metadata": {},
     "output_type": "execute_result"
    }
   ],
   "source": [
    "add(1,2,3)"
   ]
  },
  {
   "cell_type": "code",
   "execution_count": 36,
   "id": "34ae16d5-e9a6-4179-965d-9986c6e2f119",
   "metadata": {},
   "outputs": [
    {
     "data": {
      "text/plain": [
       "103"
      ]
     },
     "execution_count": 36,
     "metadata": {},
     "output_type": "execute_result"
    }
   ],
   "source": [
    "add(a=1, c=100, b=2)"
   ]
  },
  {
   "cell_type": "code",
   "execution_count": 48,
   "id": "20ae4a88-e2ee-4526-9b93-1ffeab2c6fa5",
   "metadata": {},
   "outputs": [
    {
     "ename": "SyntaxError",
     "evalue": "positional argument follows keyword argument (3687402819.py, line 1)",
     "output_type": "error",
     "traceback": [
      "\u001b[1;36m  Input \u001b[1;32mIn [48]\u001b[1;36m\u001b[0m\n\u001b[1;33m    add(a=1, b=100, c): #default값은 맨 뒤로 와야한다.\u001b[0m\n\u001b[1;37m                     ^\u001b[0m\n\u001b[1;31mSyntaxError\u001b[0m\u001b[1;31m:\u001b[0m positional argument follows keyword argument\n"
     ]
    }
   ],
   "source": [
    "add(a=1, b=100, c): #default값은 맨 뒤로 와야한다.\n",
    "    return a+b+C"
   ]
  },
  {
   "cell_type": "markdown",
   "id": "37324cc2-21dd-495c-93c1-3fa35a1c2373",
   "metadata": {},
   "source": [
    "say_myself(\"홍길동\",27)\n",
    "\n",
    "나의 이름은 홍길동입니다.\n",
    "나이는 27 입니다.\n",
    "국적은 한국입니다.\n",
    "\n",
    "say_myself(\"Smith\", 25, \"America\")\n",
    "\n",
    "나의 이름은 Smith 입니다.\n",
    "나이는 25 입니다.\n",
    "국적은 America 입니다."
   ]
  },
  {
   "cell_type": "code",
   "execution_count": 41,
   "id": "56a6ff03-a4d3-4db5-a52d-1b2bba8a567d",
   "metadata": {},
   "outputs": [],
   "source": [
    "def say_myself(name):\n",
    "    print(f\"나의 이름은 {name}입니다\")"
   ]
  },
  {
   "cell_type": "code",
   "execution_count": 42,
   "id": "b287c36a-1cda-4195-9a60-3e9a363ea0f5",
   "metadata": {},
   "outputs": [
    {
     "name": "stdout",
     "output_type": "stream",
     "text": [
      "나의 이름은 홍길동입니다\n"
     ]
    }
   ],
   "source": [
    "say_myself(\"홍길동\")"
   ]
  },
  {
   "cell_type": "code",
   "execution_count": 43,
   "id": "aa15f184-aeba-4fae-9670-08f7533e4dfd",
   "metadata": {},
   "outputs": [],
   "source": [
    "def say_myself(name, age, nation):\n",
    "    print(f'나의 이름은 {name} 입니다') \n",
    "    print(f'나이는 {age} 입니다.')\n",
    "    print(f'국적은 {nation}입니다.') "
   ]
  },
  {
   "cell_type": "code",
   "execution_count": 45,
   "id": "e82e0fcf-b695-43c8-a27b-b5a9c7c911d5",
   "metadata": {},
   "outputs": [
    {
     "name": "stdout",
     "output_type": "stream",
     "text": [
      "나의 이름은 홍길동 입니다\n",
      "나이는 27 입니다.\n",
      "국적은 한국입니다.\n"
     ]
    }
   ],
   "source": [
    "say_myself(\"홍길동\",27,\"한국\")"
   ]
  },
  {
   "cell_type": "code",
   "execution_count": 46,
   "id": "b9b265e1-96e3-45fc-aa50-1cace0069abd",
   "metadata": {},
   "outputs": [
    {
     "name": "stdout",
     "output_type": "stream",
     "text": [
      "나의 이름은 Smith 입니다\n",
      "나이는 25 입니다.\n",
      "국적은 America입니다.\n"
     ]
    }
   ],
   "source": [
    "say_myself(\"Smith\",25,\"America\")"
   ]
  },
  {
   "cell_type": "markdown",
   "id": "f14b731d-77e0-4847-93bf-03902cfb1477",
   "metadata": {},
   "source": [
    "- 입력값의 개수가 정해져 있지 않은 경우"
   ]
  },
  {
   "cell_type": "code",
   "execution_count": null,
   "id": "128acd1d-4dad-4709-a786-85582e533f7d",
   "metadata": {},
   "outputs": [],
   "source": [
    "# add_many 함수는 입력값이 몇 개이든 상관이 없다. *args는 임의로 정한 변수 이름이다. "
   ]
  },
  {
   "cell_type": "code",
   "execution_count": 216,
   "id": "92576385-894c-46e4-87e4-d53c377169bd",
   "metadata": {},
   "outputs": [],
   "source": [
    "def add_many(*args): # *매개변수 이름 앞에 *을 붙이면 입력값을 전부 모아서 튜플로 만들어 주기 때문이다. \n",
    "    sum = 0\n",
    "    for i in args:\n",
    "        print(i)  #print 생략가능\n",
    "        sum += i\n",
    "    return sum"
   ]
  },
  {
   "cell_type": "code",
   "execution_count": 50,
   "id": "14150bc6-6fe9-4294-adfc-65033db8f2e5",
   "metadata": {},
   "outputs": [
    {
     "name": "stdout",
     "output_type": "stream",
     "text": [
      "1\n",
      "2\n",
      "3\n",
      "4\n",
      "5\n"
     ]
    },
    {
     "data": {
      "text/plain": [
       "15"
      ]
     },
     "execution_count": 50,
     "metadata": {},
     "output_type": "execute_result"
    }
   ],
   "source": [
    "add_many(1,2,3,4,5)"
   ]
  },
  {
   "cell_type": "code",
   "execution_count": 162,
   "id": "76750b0b-0e7c-4ec5-9223-0bb297c8a09d",
   "metadata": {},
   "outputs": [],
   "source": [
    "def print_kwagrs(**kwagrs):  #kwargs:키워드 파라미터\n",
    "    print(kwagrs)"
   ]
  },
  {
   "cell_type": "code",
   "execution_count": 55,
   "id": "4df4b583-1f29-47cb-a84a-8df3f0c567be",
   "metadata": {},
   "outputs": [
    {
     "name": "stdout",
     "output_type": "stream",
     "text": [
      "{'a': 1, 'name': 'foo', 'age': 3}\n"
     ]
    }
   ],
   "source": [
    "print_kwagrs(a=1, name =\"foo\", age=3)"
   ]
  },
  {
   "cell_type": "code",
   "execution_count": 163,
   "id": "81a973b8-5631-4902-8666-b6acbc709173",
   "metadata": {},
   "outputs": [],
   "source": [
    "# **kwargs처럼 매개변수 이름 앞에 **을 붙이면 매개변수 kwargs는 딕셔너리가 되고 모든 key=value 형태의 결괏값이 그 딕셔너리에 저장된다."
   ]
  },
  {
   "cell_type": "code",
   "execution_count": 71,
   "id": "736e715b-008e-4472-a0e5-7641cad0ae15",
   "metadata": {},
   "outputs": [],
   "source": [
    "def add_mul(choice,*args):\n",
    "    if choice == \"add\":    #매개변수 choice에 'add'를 입력받았을 때\n",
    "        result = 0\n",
    "        for i in args:\n",
    "            result = result + i  #args에 입력받은 모든 값을 더한다.\n",
    "    elif choice == \"mul\":         #매개변수 choice에 'mul'를 입력받았을 때\n",
    "        result = 1\n",
    "        for i in args:\n",
    "            result = result * i   #args에 입력받은 모든 값을 곱한다.\n",
    "    return result"
   ]
  },
  {
   "cell_type": "code",
   "execution_count": 66,
   "id": "8af4c988-00c7-42b8-8fa7-e1c864be6b25",
   "metadata": {},
   "outputs": [],
   "source": [
    "result = add_mul('add',1,2,3,4,5)"
   ]
  },
  {
   "cell_type": "code",
   "execution_count": 67,
   "id": "e498aff3-7bef-4dfd-afa0-52e733b43fc4",
   "metadata": {},
   "outputs": [
    {
     "name": "stdout",
     "output_type": "stream",
     "text": [
      "15\n"
     ]
    }
   ],
   "source": [
    "print(result)"
   ]
  },
  {
   "cell_type": "code",
   "execution_count": 68,
   "id": "eb035461-1d24-4800-b058-20923db795f0",
   "metadata": {},
   "outputs": [],
   "source": [
    "result = add_mul('mul',1,2,3,4,5)"
   ]
  },
  {
   "cell_type": "code",
   "execution_count": 69,
   "id": "78af99ca-aca6-425f-b6fc-5301a98e7511",
   "metadata": {},
   "outputs": [
    {
     "name": "stdout",
     "output_type": "stream",
     "text": [
      "120\n"
     ]
    }
   ],
   "source": [
    "print(result)"
   ]
  },
  {
   "cell_type": "markdown",
   "id": "a06e0e1b-d8e2-4a45-b3b0-e89554c09a11",
   "metadata": {},
   "source": [
    "- 함수의 결괏값은 언제나 하나이다."
   ]
  },
  {
   "cell_type": "code",
   "execution_count": 73,
   "id": "86644d0c-506d-4f2a-9078-240df3b5ea9d",
   "metadata": {},
   "outputs": [
    {
     "data": {
      "text/plain": [
       "(5, 6)"
      ]
     },
     "execution_count": 73,
     "metadata": {},
     "output_type": "execute_result"
    }
   ],
   "source": [
    "def add_and_multi(a,b):\n",
    "    return a+b, a*b  #2개의 매개변수를 받아 더한 값과 곱한 값을 돌려준다.\n",
    "\n",
    "add_and_multi(2,3)"
   ]
  },
  {
   "cell_type": "code",
   "execution_count": 77,
   "id": "c99b4d26-2268-4f4b-9b38-42ebef6d3182",
   "metadata": {},
   "outputs": [],
   "source": [
    "(c,d)=add_and_multi(2,3)"
   ]
  },
  {
   "cell_type": "code",
   "execution_count": 78,
   "id": "da910dbf-8383-4b8e-8ec5-7e0cc96f1894",
   "metadata": {},
   "outputs": [
    {
     "name": "stdout",
     "output_type": "stream",
     "text": [
      "5 6\n"
     ]
    }
   ],
   "source": [
    "print(c,d)"
   ]
  },
  {
   "cell_type": "code",
   "execution_count": 79,
   "id": "c19db537-89c0-4414-8994-f98ab90bdbad",
   "metadata": {},
   "outputs": [],
   "source": [
    "c, d = add_and_multi(2,3)"
   ]
  },
  {
   "cell_type": "code",
   "execution_count": null,
   "id": "48546aa8-a2b3-4c9d-9f97-c5f629bacf8f",
   "metadata": {},
   "outputs": [],
   "source": [
    "(c,d)=(5,6)"
   ]
  },
  {
   "cell_type": "code",
   "execution_count": 116,
   "id": "ab1dd706-2c4b-4a2e-ada1-eddc2d5514c6",
   "metadata": {},
   "outputs": [
    {
     "name": "stdout",
     "output_type": "stream",
     "text": [
      "1 10\n",
      "2 20\n",
      "3 30\n"
     ]
    }
   ],
   "source": [
    "a = {1: 10, 2:20, 3:30}\n",
    "for i, j in a.items():\n",
    "    print(i,j)"
   ]
  },
  {
   "cell_type": "code",
   "execution_count": 118,
   "id": "e23159f1-1f93-4ff3-af1a-f3cc8719e413",
   "metadata": {},
   "outputs": [
    {
     "name": "stdout",
     "output_type": "stream",
     "text": [
      "10\n",
      "20\n",
      "30\n"
     ]
    }
   ],
   "source": [
    "a = [10, 20, 30]\n",
    "for i in a:\n",
    "    print(i)"
   ]
  },
  {
   "cell_type": "markdown",
   "id": "055c982d-aaa6-4d2d-b8d6-e3e710b786c2",
   "metadata": {},
   "source": [
    "- 변수의 적용범위, scope"
   ]
  },
  {
   "cell_type": "code",
   "execution_count": 103,
   "id": "fdc023dd-437d-4508-9e61-2224529d4089",
   "metadata": {},
   "outputs": [],
   "source": [
    "a =1\n",
    "\n",
    "def vartest(b):\n",
    "    a = b + 1\n",
    "    print(id(a))"
   ]
  },
  {
   "cell_type": "code",
   "execution_count": 104,
   "id": "d0fa1408-ad62-4f27-be25-2eb3f421c4d5",
   "metadata": {},
   "outputs": [
    {
     "data": {
      "text/plain": [
       "1"
      ]
     },
     "execution_count": 104,
     "metadata": {},
     "output_type": "execute_result"
    }
   ],
   "source": [
    "a"
   ]
  },
  {
   "cell_type": "code",
   "execution_count": 105,
   "id": "ac2ef246-2009-4497-948b-ebf7f2b7d729",
   "metadata": {},
   "outputs": [
    {
     "name": "stdout",
     "output_type": "stream",
     "text": [
      "2712668039504\n"
     ]
    }
   ],
   "source": [
    "vartest(1)"
   ]
  },
  {
   "cell_type": "code",
   "execution_count": 106,
   "id": "e716fc4d-65c7-4f2a-8959-c38625ae1d12",
   "metadata": {},
   "outputs": [
    {
     "data": {
      "text/plain": [
       "2712668039472"
      ]
     },
     "execution_count": 106,
     "metadata": {},
     "output_type": "execute_result"
    }
   ],
   "source": [
    "id(a)"
   ]
  },
  {
   "cell_type": "code",
   "execution_count": 111,
   "id": "0d8590a2-6162-417c-8360-18ed4b0077c7",
   "metadata": {},
   "outputs": [],
   "source": [
    "a =1\n",
    "\n",
    "def vartest(b):\n",
    "    global a\n",
    "    a = b +1"
   ]
  },
  {
   "cell_type": "code",
   "execution_count": 112,
   "id": "6ea9ca24-20d3-4eeb-b2af-a42c058cb268",
   "metadata": {},
   "outputs": [
    {
     "data": {
      "text/plain": [
       "1"
      ]
     },
     "execution_count": 112,
     "metadata": {},
     "output_type": "execute_result"
    }
   ],
   "source": [
    "a"
   ]
  },
  {
   "cell_type": "code",
   "execution_count": 113,
   "id": "e6f73b82-a1ac-4134-acab-6bc9db1e820e",
   "metadata": {},
   "outputs": [],
   "source": [
    "vartest(2)"
   ]
  },
  {
   "cell_type": "code",
   "execution_count": 114,
   "id": "f0fba446-d117-42c6-89b1-74fe91aff6c4",
   "metadata": {},
   "outputs": [
    {
     "data": {
      "text/plain": [
       "3"
      ]
     },
     "execution_count": 114,
     "metadata": {},
     "output_type": "execute_result"
    }
   ],
   "source": [
    "a"
   ]
  },
  {
   "cell_type": "code",
   "execution_count": null,
   "id": "0af46fdf-1231-4194-a929-cfccbe29e20c",
   "metadata": {},
   "outputs": [],
   "source": [
    "# enumerate 열거하다 여러 데이터가 있는 구조인 경우 열거를 진행할 수 있다."
   ]
  },
  {
   "cell_type": "code",
   "execution_count": 120,
   "id": "b7f637c9-11bf-4825-b9d5-fbe8709fce82",
   "metadata": {},
   "outputs": [
    {
     "name": "stdout",
     "output_type": "stream",
     "text": [
      "철수\n",
      "영희\n",
      "길동\n"
     ]
    }
   ],
   "source": [
    "a = [\"철수\", \"영희\", \"길동\"]\n",
    "enumerate(a)\n",
    "for i in a:\n",
    "    print(i)"
   ]
  },
  {
   "cell_type": "code",
   "execution_count": 123,
   "id": "5e230eed-2c24-4703-8677-16d67f9b96a5",
   "metadata": {},
   "outputs": [
    {
     "name": "stdout",
     "output_type": "stream",
     "text": [
      "(0, '철수')\n",
      "(1, '영희')\n",
      "(2, '길동')\n"
     ]
    }
   ],
   "source": [
    "a = [\"철수\", \"영희\", \"길동\"]\n",
    "obj = enumerate(a)\n",
    "\n",
    "for i in obj:\n",
    "    print(i)"
   ]
  },
  {
   "cell_type": "code",
   "execution_count": 124,
   "id": "05f11688-747b-47dd-a8b7-779a351f7fe4",
   "metadata": {},
   "outputs": [
    {
     "name": "stdout",
     "output_type": "stream",
     "text": [
      "0 철수\n",
      "1 영희\n",
      "2 길동\n"
     ]
    }
   ],
   "source": [
    "a = [\"철수\", \"영희\", \"길동\"]\n",
    "obj = enumerate(a)\n",
    "\n",
    "for i,j in obj:\n",
    "    print(i,j)"
   ]
  },
  {
   "cell_type": "markdown",
   "id": "5dcaf321-62c7-4a61-86bd-e0ed8bb61443",
   "metadata": {
    "tags": []
   },
   "source": [
    "## 람다함수\n",
    " - def와 동일한 역할을 한다.\n",
    " - 함수를 한줄로 간결하게 만들 때 사용한다."
   ]
  },
  {
   "cell_type": "code",
   "execution_count": 164,
   "id": "54f1920e-6aa7-45e1-908b-733b0d36f2da",
   "metadata": {},
   "outputs": [],
   "source": [
    "# lambda 매개변수1, 매개변수2, ... : 매개변수를 이용한 표현식\n",
    "# lambda 함수는 return 명령어가 없어도 결괏값을 돌려준다."
   ]
  },
  {
   "cell_type": "code",
   "execution_count": 127,
   "id": "aff89f70-bb16-4881-9629-4eb12a722c10",
   "metadata": {},
   "outputs": [
    {
     "data": {
      "text/plain": [
       "6"
      ]
     },
     "execution_count": 127,
     "metadata": {},
     "output_type": "execute_result"
    }
   ],
   "source": [
    "def twice(x):\n",
    "    return x*2\n",
    "twice(3)"
   ]
  },
  {
   "cell_type": "code",
   "execution_count": 126,
   "id": "415b3e4f-77e1-44de-9baa-2588555b1e40",
   "metadata": {},
   "outputs": [
    {
     "data": {
      "text/plain": [
       "<function __main__.<lambda>(x)>"
      ]
     },
     "execution_count": 126,
     "metadata": {},
     "output_type": "execute_result"
    }
   ],
   "source": [
    "lambda x: x*2"
   ]
  },
  {
   "cell_type": "code",
   "execution_count": 128,
   "id": "4b9629fd-1353-4aba-a186-18c277b9acb5",
   "metadata": {},
   "outputs": [
    {
     "data": {
      "text/plain": [
       "6"
      ]
     },
     "execution_count": 128,
     "metadata": {},
     "output_type": "execute_result"
    }
   ],
   "source": [
    "(lambda x: x*2) (3)"
   ]
  },
  {
   "cell_type": "code",
   "execution_count": 129,
   "id": "0281e369-3e63-4087-a1cb-104936f2c905",
   "metadata": {},
   "outputs": [
    {
     "data": {
      "text/plain": [
       "5"
      ]
     },
     "execution_count": 129,
     "metadata": {},
     "output_type": "execute_result"
    }
   ],
   "source": [
    "def add(a,b):\n",
    "    return a+b\n",
    "add(2,3)"
   ]
  },
  {
   "cell_type": "code",
   "execution_count": 131,
   "id": "c5b923f7-587b-4b0d-b3ad-2a70ba2c3ce1",
   "metadata": {},
   "outputs": [
    {
     "data": {
      "text/plain": [
       "5"
      ]
     },
     "execution_count": 131,
     "metadata": {},
     "output_type": "execute_result"
    }
   ],
   "source": [
    "(lambda x,y: x+y) (2,3)"
   ]
  },
  {
   "cell_type": "code",
   "execution_count": 132,
   "id": "a2238d25-05d1-42b4-8ca8-93582b3121cc",
   "metadata": {},
   "outputs": [
    {
     "data": {
      "text/plain": [
       "6"
      ]
     },
     "execution_count": 132,
     "metadata": {},
     "output_type": "execute_result"
    }
   ],
   "source": [
    "twice = lambda x: x*2\n",
    "twice(3)"
   ]
  },
  {
   "cell_type": "code",
   "execution_count": 135,
   "id": "5904052f-ce84-43bb-a281-08a95c33bd9e",
   "metadata": {},
   "outputs": [
    {
     "data": {
      "text/plain": [
       "5"
      ]
     },
     "execution_count": 135,
     "metadata": {},
     "output_type": "execute_result"
    }
   ],
   "source": [
    "add = lambda x,y: x+y\n",
    "add(2,3)"
   ]
  },
  {
   "cell_type": "markdown",
   "id": "9a989b51-efb8-488b-a0ec-ede27786c332",
   "metadata": {},
   "source": [
    "- return 과 print"
   ]
  },
  {
   "cell_type": "code",
   "execution_count": 26,
   "id": "d4ea1290-c5b1-46f5-957f-c54ea429f201",
   "metadata": {},
   "outputs": [],
   "source": [
    "def func_r(a) :\n",
    "    result = a*2\n",
    "    return result\n",
    "\n",
    "def func_p(a) :\n",
    "    result = a*2\n",
    "    print(result)"
   ]
  },
  {
   "cell_type": "code",
   "execution_count": 27,
   "id": "dd32bafd-e3a6-430a-8df4-189bedc94153",
   "metadata": {},
   "outputs": [
    {
     "data": {
      "text/plain": [
       "6"
      ]
     },
     "execution_count": 27,
     "metadata": {},
     "output_type": "execute_result"
    }
   ],
   "source": [
    "func_r(3)"
   ]
  },
  {
   "cell_type": "code",
   "execution_count": 28,
   "id": "5ad37a57-8235-47a5-959a-5a9c9b3c4be9",
   "metadata": {},
   "outputs": [
    {
     "name": "stdout",
     "output_type": "stream",
     "text": [
      "6\n"
     ]
    }
   ],
   "source": [
    "func_p(3)"
   ]
  },
  {
   "cell_type": "code",
   "execution_count": 29,
   "id": "8deb32a6-3459-45c4-913c-3046372e403a",
   "metadata": {},
   "outputs": [
    {
     "data": {
      "text/plain": [
       "12"
      ]
     },
     "execution_count": 29,
     "metadata": {},
     "output_type": "execute_result"
    }
   ],
   "source": [
    "r = func_r(3)\n",
    "2*r"
   ]
  },
  {
   "cell_type": "code",
   "execution_count": 30,
   "id": "69f0a3ac-6c04-44b5-93b2-3d0b3d9ec995",
   "metadata": {},
   "outputs": [
    {
     "name": "stdout",
     "output_type": "stream",
     "text": [
      "6\n"
     ]
    },
    {
     "ename": "TypeError",
     "evalue": "unsupported operand type(s) for *: 'int' and 'NoneType'",
     "output_type": "error",
     "traceback": [
      "\u001b[1;31m---------------------------------------------------------------------------\u001b[0m",
      "\u001b[1;31mTypeError\u001b[0m                                 Traceback (most recent call last)",
      "Input \u001b[1;32mIn [30]\u001b[0m, in \u001b[0;36m<cell line: 2>\u001b[1;34m()\u001b[0m\n\u001b[0;32m      1\u001b[0m p \u001b[38;5;241m=\u001b[39m func_p(\u001b[38;5;241m3\u001b[39m)\n\u001b[1;32m----> 2\u001b[0m \u001b[38;5;241;43m2\u001b[39;49m\u001b[38;5;241;43m*\u001b[39;49m\u001b[43mp\u001b[49m\n",
      "\u001b[1;31mTypeError\u001b[0m: unsupported operand type(s) for *: 'int' and 'NoneType'"
     ]
    }
   ],
   "source": [
    "p = func_p(3)\n",
    "2*p"
   ]
  },
  {
   "cell_type": "code",
   "execution_count": 31,
   "id": "022e2e7b-5079-471d-9885-65541d2d8834",
   "metadata": {},
   "outputs": [
    {
     "name": "stdout",
     "output_type": "stream",
     "text": [
      "None\n"
     ]
    }
   ],
   "source": [
    "print(p)"
   ]
  },
  {
   "cell_type": "code",
   "execution_count": 93,
   "id": "587ebc5a-45bc-4047-9bb1-c00fa1220df7",
   "metadata": {},
   "outputs": [],
   "source": [
    "def add_many(*args): \n",
    "    sum = 0\n",
    "    for i in args:\n",
    "        sum += i\n",
    "    return sum   #함수안에서 만들어진 변수는 함수안에서 끝난다."
   ]
  },
  {
   "cell_type": "code",
   "execution_count": 81,
   "id": "792aa59b-2327-4cc8-9576-b657f6b7964f",
   "metadata": {},
   "outputs": [
    {
     "data": {
      "text/plain": [
       "10"
      ]
     },
     "execution_count": 81,
     "metadata": {},
     "output_type": "execute_result"
    }
   ],
   "source": [
    "add_many(1,2,3,4)"
   ]
  },
  {
   "cell_type": "code",
   "execution_count": 136,
   "id": "f10900d4-78ee-4dc7-972f-bce436c0b22f",
   "metadata": {},
   "outputs": [
    {
     "name": "stdin",
     "output_type": "stream",
     "text": [
      " 4\n"
     ]
    },
    {
     "name": "stdout",
     "output_type": "stream",
     "text": [
      "4는 짝수입니다.\n"
     ]
    }
   ],
   "source": [
    "a = int(input())\n",
    "if a % 2 == 0:\n",
    "    print(f'{a}는 짝수입니다.')\n",
    "else:\n",
    "    print(f'{a}는 홀수입니다.')"
   ]
  },
  {
   "cell_type": "code",
   "execution_count": 140,
   "id": "39d63160-508a-4982-9b94-8affa4a91032",
   "metadata": {},
   "outputs": [],
   "source": [
    "def odd_even(a):\n",
    "    if a % 2 == 0:\n",
    "        return\n",
    "    else:\n",
    "        print(f'{a}는 홀수입니다.')"
   ]
  },
  {
   "cell_type": "code",
   "execution_count": 141,
   "id": "4fbefabe-f205-41b5-ae62-7a6e9930e9f5",
   "metadata": {},
   "outputs": [],
   "source": [
    "odd_even(4)"
   ]
  },
  {
   "cell_type": "code",
   "execution_count": 148,
   "id": "219ed9c5-cc0c-4fc8-a570-97f5265d89ee",
   "metadata": {},
   "outputs": [],
   "source": [
    "def age(a):\n",
    "    if a < 30 : \n",
    "        print(\"청년\")\n",
    "    elif a < 60 :   \n",
    "        print(\"중년\")\n",
    "    else:\n",
    "        print(\"노년\")"
   ]
  },
  {
   "cell_type": "code",
   "execution_count": 147,
   "id": "ef92b6a8-0e25-42aa-9db5-e10701a9ac84",
   "metadata": {},
   "outputs": [
    {
     "name": "stdout",
     "output_type": "stream",
     "text": [
      "청년\n"
     ]
    }
   ],
   "source": [
    "age(24)"
   ]
  },
  {
   "cell_type": "code",
   "execution_count": 145,
   "id": "e3a132c7-790b-4974-8cee-6d1447b79f77",
   "metadata": {},
   "outputs": [],
   "source": [
    "def age(a):\n",
    "    \n",
    "    if a < 30:\n",
    "        return('청년')\n",
    "    elif a < 60:\n",
    "        return('중년')\n",
    "    else:\n",
    "        return('노년')"
   ]
  },
  {
   "cell_type": "code",
   "execution_count": 149,
   "id": "7614d38d-4912-4274-9aaa-dcfc66f1cf57",
   "metadata": {},
   "outputs": [],
   "source": [
    "def winner(name):\n",
    "    names = [\"철수\",\"영희\",\"길동\",\"전우치\",\"손오공\"]\n",
    "    if name in names:\n",
    "        print(\"합격입니다\")\n",
    "    else:\n",
    "        print(\"불합격입니다\")"
   ]
  },
  {
   "cell_type": "code",
   "execution_count": 150,
   "id": "e86baa5f-5bae-418a-8137-640208996045",
   "metadata": {},
   "outputs": [],
   "source": [
    "def winner(name):\n",
    "    names = ['철수', '영희', '길동', '전우치', '손오공']\n",
    "    \n",
    "    if name in names:\n",
    "        return '합격입니다.'\n",
    "    else:\n",
    "        return '불합격입니다.' "
   ]
  },
  {
   "cell_type": "code",
   "execution_count": 151,
   "id": "60b7bb67-ae9e-4474-b2f4-bc8ce4129c31",
   "metadata": {},
   "outputs": [],
   "source": [
    "def add():\n",
    "    sum = 0\n",
    "    for i in range(1,101,2):\n",
    "        sum = sum + i\n",
    "    return sum"
   ]
  },
  {
   "cell_type": "code",
   "execution_count": 152,
   "id": "0e8457ab-0212-4ee5-b4ae-c85c000a24a1",
   "metadata": {},
   "outputs": [
    {
     "data": {
      "text/plain": [
       "2500"
      ]
     },
     "execution_count": 152,
     "metadata": {},
     "output_type": "execute_result"
    }
   ],
   "source": [
    "add()"
   ]
  },
  {
   "cell_type": "code",
   "execution_count": 165,
   "id": "babfdb23-9210-4f82-a622-a82f2e823536",
   "metadata": {},
   "outputs": [
    {
     "data": {
      "text/plain": [
       "1"
      ]
     },
     "execution_count": 165,
     "metadata": {},
     "output_type": "execute_result"
    }
   ],
   "source": [
    "def add(number):\n",
    "    sum = 0\n",
    "    for i in range(number+1):\n",
    "        sum = sum + i\n",
    "    return sum\n",
    "\n",
    "add(1)"
   ]
  },
  {
   "cell_type": "code",
   "execution_count": 163,
   "id": "59d9d135-7304-42aa-a784-a2fa9c399ee7",
   "metadata": {},
   "outputs": [
    {
     "data": {
      "text/plain": [
       "5"
      ]
     },
     "execution_count": 163,
     "metadata": {},
     "output_type": "execute_result"
    }
   ],
   "source": [
    "def add(number1,number2):    \n",
    "    sum = 0\n",
    "    for i in range(number1, number2+1):\n",
    "        sum = sum + i\n",
    "    return sum\n",
    "\n",
    "add(2,3)"
   ]
  },
  {
   "cell_type": "markdown",
   "id": "1517c669-3619-40aa-868c-ec66e9bb13ed",
   "metadata": {},
   "source": [
    "- 피보나치의 수열 만들기"
   ]
  },
  {
   "cell_type": "code",
   "execution_count": 166,
   "id": "12d621d0-3c52-4ddf-addd-056cbbef36ba",
   "metadata": {},
   "outputs": [
    {
     "name": "stdout",
     "output_type": "stream",
     "text": [
      "0 1 1 2 3 5 8 13 21 34 55 89 144 233 377 610 987 \n"
     ]
    }
   ],
   "source": [
    "def fib(n):\n",
    "    a, b = 0, 1\n",
    "    while a < n:\n",
    "        print(a, end=\" \")\n",
    "        a, b = b, a+b\n",
    "    print()\n",
    "fib(1000)"
   ]
  },
  {
   "cell_type": "markdown",
   "id": "33438b47-36f8-44cc-9247-76d36715552e",
   "metadata": {},
   "source": [
    "## 재귀함수"
   ]
  },
  {
   "cell_type": "code",
   "execution_count": 170,
   "id": "809f6e3e-5f79-42ee-8570-aae6c28d6d89",
   "metadata": {},
   "outputs": [],
   "source": [
    "import time"
   ]
  },
  {
   "cell_type": "code",
   "execution_count": 171,
   "id": "f15dee44-2bce-4ae9-96bd-580b47ca5c20",
   "metadata": {},
   "outputs": [],
   "source": [
    "def Hello():\n",
    "    print(\"Hello\")\n",
    "    time.sleep(1)\n",
    "    Hello()"
   ]
  },
  {
   "cell_type": "code",
   "execution_count": null,
   "id": "928615c6-a759-4bae-9d7c-9a12c90a0625",
   "metadata": {},
   "outputs": [],
   "source": [
    "Hello()"
   ]
  },
  {
   "cell_type": "code",
   "execution_count": 174,
   "id": "e1fda605-ad22-496d-9be8-fac86e7b0f3e",
   "metadata": {},
   "outputs": [
    {
     "name": "stdout",
     "output_type": "stream",
     "text": [
      "Hello\n",
      "Hello\n",
      "Hello\n",
      "Hello\n",
      "Hello\n"
     ]
    }
   ],
   "source": [
    "def Hello(count):\n",
    "    if count == 0:\n",
    "        return\n",
    "    print(\"Hello\")\n",
    "    count -= 1\n",
    "    Hello(count)\n",
    "    \n",
    "Hello(5)"
   ]
  },
  {
   "cell_type": "code",
   "execution_count": 181,
   "id": "79ca2114-b23b-4f70-9a2b-0dd3387f9f2c",
   "metadata": {},
   "outputs": [],
   "source": [
    "# factorial\n",
    "def f(n):\n",
    "    if n ==1 :\n",
    "        return 1\n",
    "    return n*f(n-1)"
   ]
  },
  {
   "cell_type": "code",
   "execution_count": 182,
   "id": "3c137881-f5df-45c7-8bd7-8a053dd9254b",
   "metadata": {},
   "outputs": [
    {
     "data": {
      "text/plain": [
       "120"
      ]
     },
     "execution_count": 182,
     "metadata": {},
     "output_type": "execute_result"
    }
   ],
   "source": [
    "f(5)"
   ]
  },
  {
   "cell_type": "code",
   "execution_count": 4,
   "id": "df5c2a2f-00c7-41b8-b02b-02068716eda6",
   "metadata": {},
   "outputs": [],
   "source": [
    "def fib(n):\n",
    "    if n ==1 or n==2:\n",
    "        return 1\n",
    "    return f(n-2)+f(n-1)"
   ]
  },
  {
   "cell_type": "code",
   "execution_count": 5,
   "id": "6ed9ad72-8337-4147-bad0-db15539510e0",
   "metadata": {},
   "outputs": [
    {
     "data": {
      "text/plain": [
       "55"
      ]
     },
     "execution_count": 5,
     "metadata": {},
     "output_type": "execute_result"
    }
   ],
   "source": [
    "fib(10)"
   ]
  },
  {
   "cell_type": "code",
   "execution_count": 15,
   "id": "9737342c-21ce-4122-9b76-141b01865fc7",
   "metadata": {},
   "outputs": [],
   "source": [
    "def fib(n):\n",
    "    if n==2 or n==1:\n",
    "        return 1         \n",
    "    return f(n-1)+f(n-2)"
   ]
  },
  {
   "cell_type": "code",
   "execution_count": 16,
   "id": "d4fbd0f1-6b20-413b-a100-03e0c19e75da",
   "metadata": {},
   "outputs": [
    {
     "name": "stdout",
     "output_type": "stream",
     "text": [
      "1   1   2   3   5   8   13   21   34   55   "
     ]
    }
   ],
   "source": [
    "for i in range(1,10+1):\n",
    "    print(fib(i), end= \"   \")"
   ]
  },
  {
   "cell_type": "code",
   "execution_count": 17,
   "id": "8d1bf6cf-ea3c-45b2-8227-b0ff596fef95",
   "metadata": {},
   "outputs": [],
   "source": [
    "def fib(n):\n",
    "    if n ==1:\n",
    "        return 0\n",
    "    if n ==2:\n",
    "        return 1\n",
    "    return f(n-2)+f(n-1)"
   ]
  },
  {
   "cell_type": "code",
   "execution_count": 18,
   "id": "316075a8-4f83-4a8c-997c-dfae88be4ad7",
   "metadata": {},
   "outputs": [
    {
     "name": "stdout",
     "output_type": "stream",
     "text": [
      "0   1   2   3   5   8   13   21   34   55   "
     ]
    }
   ],
   "source": [
    "for i in range(1,10+1):\n",
    "    print(fib(i), end= \"   \")"
   ]
  },
  {
   "cell_type": "markdown",
   "id": "3598f22e-5c81-4db3-9097-54d837f9f71a",
   "metadata": {},
   "source": [
    "# 파일 입출력 (File IO)"
   ]
  },
  {
   "cell_type": "markdown",
   "id": "8f299fdd-26b7-41ce-8ead-03af4917b242",
   "metadata": {},
   "source": [
    "## 파일 만들기\n",
    "````\n",
    "파일 객체(f) = open(파일이름, 파일열기모드)\n",
    "\n",
    "r 읽기 모드 - 파일을 읽기만 할 때 사용\n",
    "w 쓰기 모드 - 파일에 내용을 쓸 때 사용\n",
    "a 추가 모드 - 파일의 마지막에 새로운 내용을 추가할 때 사용\n",
    "````"
   ]
  },
  {
   "cell_type": "code",
   "execution_count": 41,
   "id": "df49c178-841b-4ec5-bfa7-60ec4d73a431",
   "metadata": {},
   "outputs": [],
   "source": [
    "f = open(\"test.txt\", mode = 'w')\n",
    "f.write(\"안녕하세요\")\n",
    "f.close()"
   ]
  },
  {
   "cell_type": "code",
   "execution_count": null,
   "id": "517dc267-e4ee-4283-a572-5fb22625f537",
   "metadata": {},
   "outputs": [],
   "source": [
    "f = open(\"C:/users/test.txt\", mode = 'w') #위치를 지정하여 파일 만들기\n",
    "f.write(\"안녕하세요\")\n",
    "f.close()"
   ]
  },
  {
   "cell_type": "code",
   "execution_count": 42,
   "id": "74b48783-b09d-4a42-9fee-5d4daaefa42d",
   "metadata": {},
   "outputs": [],
   "source": [
    "f = open(\"test.txt\", mode = 'w')\n",
    "f.write(\"안녕하세요. \\n\")\n",
    "f.write(\"Hello\") #write 덮어쓴다. 새로 저장\n",
    "f.close()"
   ]
  },
  {
   "cell_type": "code",
   "execution_count": 45,
   "id": "08f7b3e6-7974-43dc-859f-e3bd2450b478",
   "metadata": {},
   "outputs": [],
   "source": [
    "# 0 ~ 9까지 줄바꿔서 나타내기\n",
    "f = open(\"test.txt\", mode = 'w')\n",
    "for i in range(10):\n",
    "    f.write(str(i)+\"\\n\")  #하나의 인자만 들어올 수 있다.\n",
    "f.close()"
   ]
  },
  {
   "cell_type": "code",
   "execution_count": 46,
   "id": "74bb6691-d83b-4a41-b777-8e1fa5036b79",
   "metadata": {},
   "outputs": [],
   "source": [
    "f = open(\"test.txt\", mode = 'a') #a 추가 모드 - 새로운 내용을 추가할 때 사용\n",
    "for i in range(10,14):\n",
    "    f.write(str(i)+\"\\n\")\n",
    "f.close()"
   ]
  },
  {
   "cell_type": "code",
   "execution_count": null,
   "id": "3ff147ad-85e7-44d3-ab61-d5e3c2a21c33",
   "metadata": {},
   "outputs": [],
   "source": [
    "f = open(\"test.txt\", mode = 'w') \n",
    "f.write(\"안녕하세요\")\n",
    "f.close()"
   ]
  },
  {
   "cell_type": "code",
   "execution_count": 54,
   "id": "05b99e59-94ef-41e3-9a35-88960ef5eda3",
   "metadata": {},
   "outputs": [],
   "source": [
    "with open(\"test.txt\", mode = 'w') as f: #f:file\n",
    "    f.write(\"안녕하세요\") # with문에서는 자동으로 close가 된다."
   ]
  },
  {
   "cell_type": "code",
   "execution_count": null,
   "id": "04cec3d0-9b92-4754-be35-75930cc3141f",
   "metadata": {},
   "outputs": [],
   "source": [
    "파일이름을 myfile.txt\n",
    "\"Life is too short\"\n",
    "\"We need Python\""
   ]
  },
  {
   "cell_type": "code",
   "execution_count": 56,
   "id": "d2a42677-7416-40a9-98fb-02fb6f403daa",
   "metadata": {},
   "outputs": [],
   "source": [
    "with open(\"myfile.txt\", mode = 'w') as f:\n",
    "    f.write(\"Life is too short \\n\")\n",
    "    f.write(\"We need Python\")"
   ]
  },
  {
   "cell_type": "markdown",
   "id": "591abbba-fffc-4f33-b8e6-017ffe96a200",
   "metadata": {},
   "source": [
    "## 파일 읽기"
   ]
  },
  {
   "cell_type": "code",
   "execution_count": null,
   "id": "573d5a78-e78e-4f89-9a30-593bbad4d449",
   "metadata": {},
   "outputs": [],
   "source": [
    "f = open(\"test.txt\", \"r\")   #파일 객체 = open(파일 이름, 파일 열기 모드)\n",
    "print(f.readline()) #가장 첫번째 줄이 화면에 출력된다."
   ]
  },
  {
   "cell_type": "code",
   "execution_count": null,
   "id": "877cbb65-f0b1-41eb-9690-9bf729c4d66d",
   "metadata": {},
   "outputs": [],
   "source": [
    "# r : 읽기모드 - 파일을 읽기만 할 때 사용\n",
    "# w : 쓰기모드 - 파일에 내용을 쓸 때 사용\n",
    "# a : 추가모드 - 파일의 마지막에 새로운 내용을 추가시킬 때 사용"
   ]
  },
  {
   "cell_type": "code",
   "execution_count": 58,
   "id": "7dcd3e91-e436-441f-9e08-969f2c0f4074",
   "metadata": {},
   "outputs": [],
   "source": [
    "with open(\"test.txt\", mode = 'w') as f:\n",
    "    for i in range(10):\n",
    "        f.write(\"안녕하세요. \\n\")"
   ]
  },
  {
   "cell_type": "code",
   "execution_count": 60,
   "id": "a09069af-ca82-438f-bb56-b8b8327eccd0",
   "metadata": {},
   "outputs": [
    {
     "name": "stdout",
     "output_type": "stream",
     "text": [
      "안녕하세요. \n",
      "\n"
     ]
    }
   ],
   "source": [
    "f = open(\"test.txt\", \"r\")\n",
    "line = f.readline()    #파일의 첫 번째 줄을 읽어 출력한다.\n",
    "print(line)"
   ]
  },
  {
   "cell_type": "code",
   "execution_count": 62,
   "id": "557365ad-6423-4276-aa17-be315e51c15c",
   "metadata": {},
   "outputs": [
    {
     "name": "stdout",
     "output_type": "stream",
     "text": [
      "안녕하세요. \n",
      "\n",
      "안녕하세요. \n",
      "\n",
      "안녕하세요. \n",
      "\n",
      "안녕하세요. \n",
      "\n",
      "안녕하세요. \n",
      "\n",
      "안녕하세요. \n",
      "\n",
      "안녕하세요. \n",
      "\n",
      "안녕하세요. \n",
      "\n",
      "안녕하세요. \n",
      "\n",
      "안녕하세요. \n",
      "\n"
     ]
    }
   ],
   "source": [
    "f = open(\"test.txt\", \"r\")\n",
    "lines = f.readlines()\n",
    "for line in lines:\n",
    "    print(line)   #루프로 모든 줄을 읽어 출력한다."
   ]
  },
  {
   "cell_type": "code",
   "execution_count": 63,
   "id": "63486fc6-b37b-48e7-a01f-f7e069669588",
   "metadata": {},
   "outputs": [
    {
     "name": "stdout",
     "output_type": "stream",
     "text": [
      "안녕하세요. \n",
      "안녕하세요. \n",
      "안녕하세요. \n",
      "안녕하세요. \n",
      "안녕하세요. \n",
      "안녕하세요. \n",
      "안녕하세요. \n",
      "안녕하세요. \n",
      "안녕하세요. \n",
      "안녕하세요. \n"
     ]
    }
   ],
   "source": [
    "f = open(\"test.txt\", \"r\")\n",
    "lines = f.readlines()    #파일의 모든 줄을 읽어서 각각의 줄을 요소로 갖는 리스트로 돌려준다.\n",
    "for line in lines:\n",
    "    print(line, end=\"\")"
   ]
  },
  {
   "cell_type": "code",
   "execution_count": 65,
   "id": "ac1fe9ce-d2d2-427e-8d7f-d9e2c6abb47b",
   "metadata": {},
   "outputs": [
    {
     "name": "stdout",
     "output_type": "stream",
     "text": [
      "안녕하세요. \n",
      "안녕하세요. \n",
      "안녕하세요. \n",
      "안녕하세요. \n",
      "안녕하세요. \n",
      "안녕하세요. \n",
      "안녕하세요. \n",
      "안녕하세요. \n",
      "안녕하세요. \n",
      "안녕하세요. \n",
      "\n"
     ]
    }
   ],
   "source": [
    "f = open(\"test.txt\", \"r\")\n",
    "data = f.read() #파일의 전체 내용을 보여준다.\n",
    "print(data)"
   ]
  },
  {
   "cell_type": "code",
   "execution_count": 69,
   "id": "9a66fb0e-7f81-453f-99c4-74e5e12496a4",
   "metadata": {},
   "outputs": [
    {
     "name": "stdout",
     "output_type": "stream",
     "text": [
      "안녕하세요.\n",
      "안녕하세요.\n",
      "안녕하세요.\n",
      "안녕하세요.\n",
      "안녕하세요.\n",
      "안녕하세요.\n",
      "안녕하세요.\n",
      "안녕하세요.\n",
      "안녕하세요.\n",
      "안녕하세요.\n"
     ]
    }
   ],
   "source": [
    "f = open(\"test.txt\", \"r\")\n",
    "lines = f.readlines()\n",
    "for line in lines:\n",
    "    line = line.rstrip() #줄바꿈 문자를 제거하기\n",
    "    print(line)"
   ]
  },
  {
   "cell_type": "markdown",
   "id": "e8860f9b-6db6-4249-ba89-dd936f132ce6",
   "metadata": {},
   "source": [
    "# 클래스"
   ]
  },
  {
   "cell_type": "markdown",
   "id": "ffcfc9b8-c6ef-4e7f-bded-b6d82830fc06",
   "metadata": {},
   "source": [
    "## 클래스가 필요한 이유"
   ]
  },
  {
   "cell_type": "code",
   "execution_count": 45,
   "id": "91710313-4ff8-41c5-b29b-2e1222f12098",
   "metadata": {},
   "outputs": [],
   "source": [
    "result = 0\n",
    "def add(num):\n",
    "    global result #전역변수 global 메소드 실행후에도 유지하고 싶을 때\n",
    "    result += num\n",
    "    return result"
   ]
  },
  {
   "cell_type": "code",
   "execution_count": 3,
   "id": "43a080f6-e4a8-4ff0-be70-d2d66ae2696c",
   "metadata": {},
   "outputs": [
    {
     "data": {
      "text/plain": [
       "3"
      ]
     },
     "execution_count": 3,
     "metadata": {},
     "output_type": "execute_result"
    }
   ],
   "source": [
    "add(3)"
   ]
  },
  {
   "cell_type": "code",
   "execution_count": 4,
   "id": "1553ffe0-9614-495f-82ec-78680583cebe",
   "metadata": {},
   "outputs": [
    {
     "data": {
      "text/plain": [
       "7"
      ]
     },
     "execution_count": 4,
     "metadata": {},
     "output_type": "execute_result"
    }
   ],
   "source": [
    "add(4)"
   ]
  },
  {
   "cell_type": "code",
   "execution_count": 8,
   "id": "b137540e-7135-41cc-a8ab-ae328a20e723",
   "metadata": {},
   "outputs": [
    {
     "data": {
      "text/plain": [
       "23"
      ]
     },
     "execution_count": 8,
     "metadata": {},
     "output_type": "execute_result"
    }
   ],
   "source": [
    "result = 0\n",
    "def add(num):\n",
    "    global result\n",
    "    result += num\n",
    "    return result\n",
    "add(3)\n",
    "\n",
    "result2 = 0\n",
    "def add2(num):\n",
    "    global result2\n",
    "    result2 += num\n",
    "    return result2\n",
    "add2(13)\n",
    "\n",
    "result3 = 0\n",
    "def add3(num):\n",
    "    global result3\n",
    "    result3 += num\n",
    "    return result3\n",
    "add3(23)\n"
   ]
  },
  {
   "cell_type": "code",
   "execution_count": 9,
   "id": "c7c04899-54d6-4acf-8ab2-29fda899f4f6",
   "metadata": {},
   "outputs": [
    {
     "data": {
      "text/plain": [
       "33"
      ]
     },
     "execution_count": 9,
     "metadata": {},
     "output_type": "execute_result"
    }
   ],
   "source": [
    "add3(10)"
   ]
  },
  {
   "cell_type": "code",
   "execution_count": 25,
   "id": "2f753e2c-113e-4c4b-aefb-a08a1a524e35",
   "metadata": {},
   "outputs": [
    {
     "data": {
      "text/plain": [
       "3"
      ]
     },
     "execution_count": 25,
     "metadata": {},
     "output_type": "execute_result"
    }
   ],
   "source": [
    "result = 0\n",
    "def add(num):\n",
    "    global result\n",
    "    result += num\n",
    "    return result\n",
    "add(3)\n",
    "\n",
    "\n",
    "class Calculator:\n",
    "    def __init__(self):\n",
    "        self.result = 0\n",
    "    \n",
    "    def add(self,num):\n",
    "        self.result += num\n",
    "        return self.result\n",
    "    \n",
    "    def subtract(self,num):\n",
    "        self.result -= num\n",
    "        return self.result\n",
    "\n",
    "cal=Calculator()\n",
    "cal.add(3)"
   ]
  },
  {
   "cell_type": "code",
   "execution_count": 27,
   "id": "8838d5c9-0d13-4251-99b7-a8773b1130ea",
   "metadata": {},
   "outputs": [],
   "source": [
    "cal3 = Calculator()"
   ]
  },
  {
   "cell_type": "code",
   "execution_count": 29,
   "id": "bd1d5e2b-3ae0-4435-9e62-6d5239240c67",
   "metadata": {},
   "outputs": [
    {
     "data": {
      "text/plain": [
       "250"
      ]
     },
     "execution_count": 29,
     "metadata": {},
     "output_type": "execute_result"
    }
   ],
   "source": [
    "cal3.add(100)\n",
    "cal3.add(200)\n",
    "cal3.subtract(50)"
   ]
  },
  {
   "cell_type": "code",
   "execution_count": 13,
   "id": "d0c43d48-d825-4057-8346-d1e91248a599",
   "metadata": {},
   "outputs": [
    {
     "data": {
      "text/plain": [
       "7"
      ]
     },
     "execution_count": 13,
     "metadata": {},
     "output_type": "execute_result"
    }
   ],
   "source": [
    "cal.add(4)"
   ]
  },
  {
   "cell_type": "code",
   "execution_count": 15,
   "id": "9e369832-fba4-4140-830b-085afb336441",
   "metadata": {},
   "outputs": [],
   "source": [
    "cal2 = Calculator()\n",
    "cal3 = Calculator()\n",
    "cal4 = Calculator()\n",
    "cal5 = Calculator()"
   ]
  },
  {
   "cell_type": "code",
   "execution_count": 16,
   "id": "dcb21a06-89fd-4c6a-a905-1969ec60c87a",
   "metadata": {},
   "outputs": [
    {
     "data": {
      "text/plain": [
       "30"
      ]
     },
     "execution_count": 16,
     "metadata": {},
     "output_type": "execute_result"
    }
   ],
   "source": [
    "cal2.add(10)\n",
    "cal2.add(20)"
   ]
  },
  {
   "cell_type": "code",
   "execution_count": 21,
   "id": "907eff34-bbb4-47d2-8b4f-0e21054c5ce1",
   "metadata": {},
   "outputs": [
    {
     "data": {
      "text/plain": [
       "600"
      ]
     },
     "execution_count": 21,
     "metadata": {},
     "output_type": "execute_result"
    }
   ],
   "source": [
    "cal3.add(100)\n",
    "cal3.add(200)"
   ]
  },
  {
   "cell_type": "markdown",
   "id": "a3e1a0be-7e34-4a2f-8102-b4d863d5b06b",
   "metadata": {},
   "source": [
    "## 사칙연산 클래스 만들기"
   ]
  },
  {
   "cell_type": "code",
   "execution_count": 211,
   "id": "5ae788c7-72af-4e5b-8cd1-ddc9bad19e50",
   "metadata": {},
   "outputs": [],
   "source": [
    "class FourCal:\n",
    "    def setdata(self,a,b):  #메서드의 매개변수\n",
    "        self.first = a      #메서드의 수행문\n",
    "        self.second = b     #메서드의 수행문\n",
    "        \n",
    "    def add(self):\n",
    "        result = self.first + self.second\n",
    "        return result\n",
    "    "
   ]
  },
  {
   "cell_type": "code",
   "execution_count": 32,
   "id": "b6956e54-cbe7-401e-81b7-2f95e2b96118",
   "metadata": {},
   "outputs": [],
   "source": [
    "cal = FourCal()"
   ]
  },
  {
   "cell_type": "code",
   "execution_count": 33,
   "id": "c68fd490-58ca-4902-9d9d-193e934ceda1",
   "metadata": {},
   "outputs": [],
   "source": [
    "cal.setdata(3,4)"
   ]
  },
  {
   "cell_type": "code",
   "execution_count": 34,
   "id": "1e17edbb-c3b1-4834-b67f-5fa39afaf098",
   "metadata": {},
   "outputs": [
    {
     "data": {
      "text/plain": [
       "3"
      ]
     },
     "execution_count": 34,
     "metadata": {},
     "output_type": "execute_result"
    }
   ],
   "source": [
    "cal.first"
   ]
  },
  {
   "cell_type": "code",
   "execution_count": 40,
   "id": "91a4f4e7-52ca-4a34-958f-c012e05821b6",
   "metadata": {},
   "outputs": [
    {
     "data": {
      "text/plain": [
       "4"
      ]
     },
     "execution_count": 40,
     "metadata": {},
     "output_type": "execute_result"
    }
   ],
   "source": [
    "cal.second"
   ]
  },
  {
   "cell_type": "code",
   "execution_count": 41,
   "id": "0411e196-b96f-4797-8a0d-44585fae5bd1",
   "metadata": {},
   "outputs": [
    {
     "data": {
      "text/plain": [
       "7"
      ]
     },
     "execution_count": 41,
     "metadata": {},
     "output_type": "execute_result"
    }
   ],
   "source": [
    "cal.add()"
   ]
  },
  {
   "cell_type": "code",
   "execution_count": 36,
   "id": "e697390b-ce1e-4ac4-969a-307731133610",
   "metadata": {},
   "outputs": [],
   "source": [
    "cal1 = FourCal()"
   ]
  },
  {
   "cell_type": "code",
   "execution_count": 37,
   "id": "6e947f14-d3ec-4a4f-abfb-c5545b4a3283",
   "metadata": {},
   "outputs": [],
   "source": [
    "cal1.setdata(30,40)"
   ]
  },
  {
   "cell_type": "code",
   "execution_count": 38,
   "id": "8e147e1f-0b64-45dd-a9ed-98f723c5f483",
   "metadata": {},
   "outputs": [
    {
     "data": {
      "text/plain": [
       "30"
      ]
     },
     "execution_count": 38,
     "metadata": {},
     "output_type": "execute_result"
    }
   ],
   "source": [
    "cal1.first"
   ]
  },
  {
   "cell_type": "code",
   "execution_count": 39,
   "id": "ed18828f-fce4-4208-bf10-3977406160e6",
   "metadata": {},
   "outputs": [
    {
     "data": {
      "text/plain": [
       "40"
      ]
     },
     "execution_count": 39,
     "metadata": {},
     "output_type": "execute_result"
    }
   ],
   "source": [
    "cal1.second"
   ]
  },
  {
   "cell_type": "code",
   "execution_count": 42,
   "id": "6901216e-e51f-48cc-be08-064dcc450b36",
   "metadata": {},
   "outputs": [
    {
     "data": {
      "text/plain": [
       "70"
      ]
     },
     "execution_count": 42,
     "metadata": {},
     "output_type": "execute_result"
    }
   ],
   "source": [
    "cal1.add()"
   ]
  },
  {
   "cell_type": "code",
   "execution_count": 48,
   "id": "320a7b31-103e-485e-9d0b-f3b4f0cac30b",
   "metadata": {},
   "outputs": [],
   "source": [
    "class FourCal:\n",
    "    def setdata(self,a,b):\n",
    "        self.first = a\n",
    "        self.second = b\n",
    "        \n",
    "    def add(self):\n",
    "        result = self.first + self.second\n",
    "        return result\n",
    "    \n",
    "    def subtract(self):\n",
    "        result = self.first - self.second\n",
    "        return result\n",
    "    \n",
    "    def multiply(self):\n",
    "        result = self.first * self.second\n",
    "        return result\n",
    "    \n",
    "    def divide(self):\n",
    "        result = self.first / self.second\n",
    "        return result"
   ]
  },
  {
   "cell_type": "code",
   "execution_count": null,
   "id": "3f46f6ff-4511-423c-b146-333bc651e58e",
   "metadata": {},
   "outputs": [],
   "source": [
    "#cal 객체를 만들고 초기값으로 10, 20을 주고 곱하기와 나누기의 값을 각각 알아보자."
   ]
  },
  {
   "cell_type": "code",
   "execution_count": 49,
   "id": "b096e742-a1b7-4b7a-b08d-897f0a91585d",
   "metadata": {},
   "outputs": [],
   "source": [
    "cal=FourCal()"
   ]
  },
  {
   "cell_type": "code",
   "execution_count": 51,
   "id": "3f38bad1-e7e1-4730-a607-42ff000e47f6",
   "metadata": {},
   "outputs": [],
   "source": [
    "cal.setdata(10,20)"
   ]
  },
  {
   "cell_type": "code",
   "execution_count": 52,
   "id": "955c9620-fdb3-424d-aef3-17493c6bb2eb",
   "metadata": {},
   "outputs": [
    {
     "data": {
      "text/plain": [
       "200"
      ]
     },
     "execution_count": 52,
     "metadata": {},
     "output_type": "execute_result"
    }
   ],
   "source": [
    "cal.multiply()"
   ]
  },
  {
   "cell_type": "code",
   "execution_count": 53,
   "id": "3af06772-f23a-4d8c-8688-373e4505c280",
   "metadata": {},
   "outputs": [
    {
     "data": {
      "text/plain": [
       "0.5"
      ]
     },
     "execution_count": 53,
     "metadata": {},
     "output_type": "execute_result"
    }
   ],
   "source": [
    "cal.divide()"
   ]
  },
  {
   "cell_type": "code",
   "execution_count": 54,
   "id": "bac8ee39-b4bf-4a8d-be62-0510c6f1fa43",
   "metadata": {},
   "outputs": [],
   "source": [
    "del cal"
   ]
  },
  {
   "cell_type": "code",
   "execution_count": 55,
   "id": "98fbd1eb-1cd2-44d2-9834-c6041cc395d9",
   "metadata": {},
   "outputs": [],
   "source": [
    "cal = FourCal()"
   ]
  },
  {
   "cell_type": "code",
   "execution_count": 56,
   "id": "bac9cd64-a744-435e-9467-d402221b3a48",
   "metadata": {},
   "outputs": [
    {
     "ename": "AttributeError",
     "evalue": "'FourCal' object has no attribute 'first'",
     "output_type": "error",
     "traceback": [
      "\u001b[1;31m---------------------------------------------------------------------------\u001b[0m",
      "\u001b[1;31mAttributeError\u001b[0m                            Traceback (most recent call last)",
      "Input \u001b[1;32mIn [56]\u001b[0m, in \u001b[0;36m<cell line: 1>\u001b[1;34m()\u001b[0m\n\u001b[1;32m----> 1\u001b[0m \u001b[43mcal\u001b[49m\u001b[38;5;241;43m.\u001b[39;49m\u001b[43madd\u001b[49m\u001b[43m(\u001b[49m\u001b[43m)\u001b[49m\n",
      "Input \u001b[1;32mIn [48]\u001b[0m, in \u001b[0;36mFourCal.add\u001b[1;34m(self)\u001b[0m\n\u001b[0;32m      6\u001b[0m \u001b[38;5;28;01mdef\u001b[39;00m \u001b[38;5;21madd\u001b[39m(\u001b[38;5;28mself\u001b[39m):\n\u001b[1;32m----> 7\u001b[0m     result \u001b[38;5;241m=\u001b[39m \u001b[38;5;28;43mself\u001b[39;49m\u001b[38;5;241;43m.\u001b[39;49m\u001b[43mfirst\u001b[49m \u001b[38;5;241m+\u001b[39m \u001b[38;5;28mself\u001b[39m\u001b[38;5;241m.\u001b[39msecond\n\u001b[0;32m      8\u001b[0m     \u001b[38;5;28;01mreturn\u001b[39;00m result\n",
      "\u001b[1;31mAttributeError\u001b[0m: 'FourCal' object has no attribute 'first'"
     ]
    }
   ],
   "source": [
    "cal.add()"
   ]
  },
  {
   "cell_type": "code",
   "execution_count": null,
   "id": "376cf9e2-f55b-47a5-8b48-3467f29b76c8",
   "metadata": {},
   "outputs": [],
   "source": [
    "# 생성자(constructor)"
   ]
  },
  {
   "cell_type": "code",
   "execution_count": 57,
   "id": "fffa85d0-5ec7-46e7-9c45-0112072350d2",
   "metadata": {},
   "outputs": [],
   "source": [
    "class FourCal:\n",
    "    def __init__(self,a,b):\n",
    "        self.first = a\n",
    "        self.second = b\n",
    "        \n",
    "    def add(self):\n",
    "        result = self.first + self.second\n",
    "        return result\n",
    "    \n",
    "    def subtract(self):\n",
    "        result = self.first - self.second\n",
    "        return result\n",
    "    \n",
    "    def multiply(self):\n",
    "        result = self.first * self.second\n",
    "        return result\n",
    "    \n",
    "    def divide(self):\n",
    "        result = self.first / self.second\n",
    "        return result"
   ]
  },
  {
   "cell_type": "code",
   "execution_count": 59,
   "id": "1aa7f588-0efc-4dcc-bcff-8b9be2dab957",
   "metadata": {},
   "outputs": [
    {
     "ename": "TypeError",
     "evalue": "__init__() missing 2 required positional arguments: 'a' and 'b'",
     "output_type": "error",
     "traceback": [
      "\u001b[1;31m---------------------------------------------------------------------------\u001b[0m",
      "\u001b[1;31mTypeError\u001b[0m                                 Traceback (most recent call last)",
      "Input \u001b[1;32mIn [59]\u001b[0m, in \u001b[0;36m<cell line: 1>\u001b[1;34m()\u001b[0m\n\u001b[1;32m----> 1\u001b[0m cal \u001b[38;5;241m=\u001b[39m \u001b[43mFourCal\u001b[49m\u001b[43m(\u001b[49m\u001b[43m)\u001b[49m\n",
      "\u001b[1;31mTypeError\u001b[0m: __init__() missing 2 required positional arguments: 'a' and 'b'"
     ]
    }
   ],
   "source": [
    "cal = FourCal()"
   ]
  },
  {
   "cell_type": "code",
   "execution_count": 60,
   "id": "b5f8f5e0-e4ae-462d-b22b-205eafd78cd4",
   "metadata": {},
   "outputs": [],
   "source": [
    "cal = FourCal(10,20)"
   ]
  },
  {
   "cell_type": "code",
   "execution_count": 61,
   "id": "6dde63dc-0ed9-486d-9474-aafbbb4b7f4a",
   "metadata": {},
   "outputs": [
    {
     "data": {
      "text/plain": [
       "10"
      ]
     },
     "execution_count": 61,
     "metadata": {},
     "output_type": "execute_result"
    }
   ],
   "source": [
    "cal.first"
   ]
  },
  {
   "cell_type": "code",
   "execution_count": 62,
   "id": "036a1351-93ea-448d-80f3-f0a5c6cb23ed",
   "metadata": {},
   "outputs": [
    {
     "data": {
      "text/plain": [
       "0.5"
      ]
     },
     "execution_count": 62,
     "metadata": {},
     "output_type": "execute_result"
    }
   ],
   "source": [
    "cal.divide()"
   ]
  },
  {
   "cell_type": "markdown",
   "id": "1230771e-8bdf-40d4-94de-42d5b5fbfeed",
   "metadata": {},
   "source": [
    "## 상속 (Inheritance)\n",
    "- 중복제거, 유지 및 보수를 위해"
   ]
  },
  {
   "cell_type": "code",
   "execution_count": 63,
   "id": "7ad5aeec-e145-4283-948f-2d22a93561ff",
   "metadata": {},
   "outputs": [],
   "source": [
    "a = FourCal(1,2)"
   ]
  },
  {
   "cell_type": "code",
   "execution_count": 64,
   "id": "93d5de9c-6801-44e0-99ba-820dc1742d22",
   "metadata": {},
   "outputs": [
    {
     "data": {
      "text/plain": [
       "1"
      ]
     },
     "execution_count": 64,
     "metadata": {},
     "output_type": "execute_result"
    }
   ],
   "source": [
    "a.first"
   ]
  },
  {
   "cell_type": "code",
   "execution_count": 65,
   "id": "1341329f-bf14-44fe-8035-f8d00a53d74c",
   "metadata": {},
   "outputs": [
    {
     "data": {
      "text/plain": [
       "3"
      ]
     },
     "execution_count": 65,
     "metadata": {},
     "output_type": "execute_result"
    }
   ],
   "source": [
    "a.add()"
   ]
  },
  {
   "cell_type": "code",
   "execution_count": 66,
   "id": "5dbb7d62-2961-40cc-8076-c3cbe144214b",
   "metadata": {},
   "outputs": [
    {
     "data": {
      "text/plain": [
       "2"
      ]
     },
     "execution_count": 66,
     "metadata": {},
     "output_type": "execute_result"
    }
   ],
   "source": [
    "a.multiply()"
   ]
  },
  {
   "cell_type": "code",
   "execution_count": 67,
   "id": "83cfb16c-56c1-4c41-9339-be0584390fc5",
   "metadata": {},
   "outputs": [],
   "source": [
    "class Child(FourCal): #class 클래스이름(상속할 클래스이름)\n",
    "    pass"
   ]
  },
  {
   "cell_type": "code",
   "execution_count": 69,
   "id": "225f3b39-3b2d-4c3e-8f74-fb1cf0eabe80",
   "metadata": {},
   "outputs": [],
   "source": [
    "b = Child(2,3)"
   ]
  },
  {
   "cell_type": "code",
   "execution_count": 70,
   "id": "9d1f80d6-cbcc-450a-84aa-86d9bd4a189d",
   "metadata": {},
   "outputs": [
    {
     "data": {
      "text/plain": [
       "5"
      ]
     },
     "execution_count": 70,
     "metadata": {},
     "output_type": "execute_result"
    }
   ],
   "source": [
    "b.add()"
   ]
  },
  {
   "cell_type": "code",
   "execution_count": 71,
   "id": "76378690-1c83-4e01-9b55-186b8a26a911",
   "metadata": {},
   "outputs": [
    {
     "data": {
      "text/plain": [
       "0.6666666666666666"
      ]
     },
     "execution_count": 71,
     "metadata": {},
     "output_type": "execute_result"
    }
   ],
   "source": [
    "b.divide()"
   ]
  },
  {
   "cell_type": "code",
   "execution_count": null,
   "id": "26e9536e-d66d-4186-87de-94773de1b843",
   "metadata": {},
   "outputs": [],
   "source": [
    "#a의 b제곱"
   ]
  },
  {
   "cell_type": "code",
   "execution_count": 72,
   "id": "d6460efb-1404-4cad-82c1-e2658387cfb6",
   "metadata": {},
   "outputs": [],
   "source": [
    "class Child(FourCal): \n",
    "    def power(self):\n",
    "        result = self.first**self.second\n",
    "        return result"
   ]
  },
  {
   "cell_type": "code",
   "execution_count": 74,
   "id": "af25df81-2c91-4673-b6cf-04dd663704c2",
   "metadata": {},
   "outputs": [],
   "source": [
    "b=Child(2,3)"
   ]
  },
  {
   "cell_type": "code",
   "execution_count": 75,
   "id": "1cb3e260-7032-4630-9f29-7d1c128f6f17",
   "metadata": {},
   "outputs": [
    {
     "data": {
      "text/plain": [
       "6"
      ]
     },
     "execution_count": 75,
     "metadata": {},
     "output_type": "execute_result"
    }
   ],
   "source": [
    "b.multiply()"
   ]
  },
  {
   "cell_type": "code",
   "execution_count": 77,
   "id": "049ad563-4cb0-48a8-8f33-544543cc1700",
   "metadata": {},
   "outputs": [
    {
     "data": {
      "text/plain": [
       "8"
      ]
     },
     "execution_count": 77,
     "metadata": {},
     "output_type": "execute_result"
    }
   ],
   "source": [
    "b.power() #pow메서드를 추가해준다. 기존 클래스는 그대로 놔둔 채 클래스의 기능을 확장시켜준다."
   ]
  },
  {
   "cell_type": "markdown",
   "id": "45889ccd-c7e8-4aec-b223-9e0b7511d1eb",
   "metadata": {},
   "source": [
    "### 오버라이딩 (overriding) : 덮어쓰기\n",
    "- 메소드 재정의"
   ]
  },
  {
   "cell_type": "code",
   "execution_count": 79,
   "id": "07d6e08e-3945-4e5e-9e1b-5af2877a5cc6",
   "metadata": {},
   "outputs": [],
   "source": [
    "b = Child(2,0)"
   ]
  },
  {
   "cell_type": "code",
   "execution_count": 80,
   "id": "1206359c-319e-487c-a488-f7695580e8fa",
   "metadata": {},
   "outputs": [
    {
     "data": {
      "text/plain": [
       "1"
      ]
     },
     "execution_count": 80,
     "metadata": {},
     "output_type": "execute_result"
    }
   ],
   "source": [
    "b.power()"
   ]
  },
  {
   "cell_type": "code",
   "execution_count": 81,
   "id": "80dfd2e4-a3dd-49c2-b17e-deb60d55e953",
   "metadata": {},
   "outputs": [
    {
     "ename": "ZeroDivisionError",
     "evalue": "division by zero",
     "output_type": "error",
     "traceback": [
      "\u001b[1;31m---------------------------------------------------------------------------\u001b[0m",
      "\u001b[1;31mZeroDivisionError\u001b[0m                         Traceback (most recent call last)",
      "Input \u001b[1;32mIn [81]\u001b[0m, in \u001b[0;36m<cell line: 1>\u001b[1;34m()\u001b[0m\n\u001b[1;32m----> 1\u001b[0m \u001b[43mb\u001b[49m\u001b[38;5;241;43m.\u001b[39;49m\u001b[43mdivide\u001b[49m\u001b[43m(\u001b[49m\u001b[43m)\u001b[49m\n",
      "Input \u001b[1;32mIn [57]\u001b[0m, in \u001b[0;36mFourCal.divide\u001b[1;34m(self)\u001b[0m\n\u001b[0;32m     18\u001b[0m \u001b[38;5;28;01mdef\u001b[39;00m \u001b[38;5;21mdivide\u001b[39m(\u001b[38;5;28mself\u001b[39m):\n\u001b[1;32m---> 19\u001b[0m     result \u001b[38;5;241m=\u001b[39m \u001b[38;5;28;43mself\u001b[39;49m\u001b[38;5;241;43m.\u001b[39;49m\u001b[43mfirst\u001b[49m\u001b[43m \u001b[49m\u001b[38;5;241;43m/\u001b[39;49m\u001b[43m \u001b[49m\u001b[38;5;28;43mself\u001b[39;49m\u001b[38;5;241;43m.\u001b[39;49m\u001b[43msecond\u001b[49m\n\u001b[0;32m     20\u001b[0m     \u001b[38;5;28;01mreturn\u001b[39;00m result\n",
      "\u001b[1;31mZeroDivisionError\u001b[0m: division by zero"
     ]
    }
   ],
   "source": [
    "b.divide()"
   ]
  },
  {
   "cell_type": "code",
   "execution_count": 82,
   "id": "b33fd599-0919-4c15-9c1e-b096cdfbda65",
   "metadata": {},
   "outputs": [],
   "source": [
    "class Child(FourCal): \n",
    "    def divide(self):\n",
    "        if self.second == 0:\n",
    "            print(\"0으로 나누셨군요!\")\n",
    "        else:\n",
    "            result = self.first/self.second\n",
    "            return result\n",
    "            \n",
    "    def power(self):\n",
    "        result = self.first**self.second\n",
    "        return result"
   ]
  },
  {
   "cell_type": "code",
   "execution_count": 84,
   "id": "13b9e85b-5962-4865-8e0b-d22a4f873a70",
   "metadata": {},
   "outputs": [
    {
     "name": "stdout",
     "output_type": "stream",
     "text": [
      "0으로 나누셨군요!\n"
     ]
    }
   ],
   "source": [
    "b=Child(2,0)\n",
    "b.divide()"
   ]
  },
  {
   "cell_type": "code",
   "execution_count": 85,
   "id": "a37f00a3-29c2-4457-8a16-b375c9fca11b",
   "metadata": {},
   "outputs": [
    {
     "data": {
      "text/plain": [
       "2.0"
      ]
     },
     "execution_count": 85,
     "metadata": {},
     "output_type": "execute_result"
    }
   ],
   "source": [
    "b=Child(2,1)\n",
    "b.divide()"
   ]
  },
  {
   "cell_type": "markdown",
   "id": "d6416887-1d4e-459e-96ae-24a8cefa3d65",
   "metadata": {},
   "source": [
    "## 클래스 변수"
   ]
  },
  {
   "cell_type": "code",
   "execution_count": 86,
   "id": "4395ac1c-3b2f-485c-8d83-f2a9a612ed78",
   "metadata": {},
   "outputs": [],
   "source": [
    "class Person:\n",
    "    \n",
    "    def __init__(self,name):\n",
    "        self.name = name\n",
    "        \n",
    "    def show(self):\n",
    "        print(self.name)"
   ]
  },
  {
   "cell_type": "code",
   "execution_count": 87,
   "id": "cfe7b2db-2107-4cce-b4c1-ed41904900ca",
   "metadata": {},
   "outputs": [],
   "source": [
    "p = Person(\"홍길동\")"
   ]
  },
  {
   "cell_type": "code",
   "execution_count": 88,
   "id": "d9016997-cac6-44ec-980a-f252d5f32cb0",
   "metadata": {},
   "outputs": [
    {
     "data": {
      "text/plain": [
       "'홍길동'"
      ]
     },
     "execution_count": 88,
     "metadata": {},
     "output_type": "execute_result"
    }
   ],
   "source": [
    "p.name"
   ]
  },
  {
   "cell_type": "code",
   "execution_count": 89,
   "id": "bd0f79e6-6dcd-4f6b-9b20-3bcfed64205f",
   "metadata": {},
   "outputs": [
    {
     "name": "stdout",
     "output_type": "stream",
     "text": [
      "홍길동\n"
     ]
    }
   ],
   "source": [
    "p.show()"
   ]
  },
  {
   "cell_type": "code",
   "execution_count": 94,
   "id": "590548c8-1178-43fa-a239-390f77f8a2ca",
   "metadata": {},
   "outputs": [],
   "source": [
    "class Person:\n",
    "    name = \"Park\"                  #클래스 변수\n",
    "    \n",
    "    def __init__(self,name):\n",
    "        self.name = name           #인스턴스 변수\n",
    "        self.nick = \"길동\"         #인스턴스 변수\n",
    "        \n",
    "    def show(self):\n",
    "        print(self.name)\n",
    "        print(self.nick)\n",
    "        print(Person.name)"
   ]
  },
  {
   "cell_type": "code",
   "execution_count": 95,
   "id": "d351b9ba-58c2-44c0-923d-3b1c9b7664c2",
   "metadata": {},
   "outputs": [],
   "source": [
    "p = Person(\"홍길동\")"
   ]
  },
  {
   "cell_type": "code",
   "execution_count": 96,
   "id": "a4adf693-1ed6-42d5-8551-4ada63a64122",
   "metadata": {},
   "outputs": [
    {
     "name": "stdout",
     "output_type": "stream",
     "text": [
      "홍길동\n",
      "길동\n",
      "Park\n"
     ]
    }
   ],
   "source": [
    "p.show()"
   ]
  },
  {
   "cell_type": "code",
   "execution_count": 98,
   "id": "51cdfa20-da21-4aa9-b0db-6e436b16615e",
   "metadata": {},
   "outputs": [],
   "source": [
    "p2 = Person(\"전우치\")"
   ]
  },
  {
   "cell_type": "code",
   "execution_count": 99,
   "id": "709a7228-e931-4a71-920f-f9d59af00ae3",
   "metadata": {},
   "outputs": [
    {
     "name": "stdout",
     "output_type": "stream",
     "text": [
      "전우치\n",
      "길동\n",
      "Park\n"
     ]
    }
   ],
   "source": [
    "p2.show()"
   ]
  },
  {
   "cell_type": "code",
   "execution_count": null,
   "id": "f9b8307f-885d-4e3c-bc93-e861f4249c66",
   "metadata": {},
   "outputs": [],
   "source": []
  },
  {
   "cell_type": "code",
   "execution_count": 1,
   "id": "d25a5372-d6bc-456e-8995-560160fccedc",
   "metadata": {},
   "outputs": [
    {
     "name": "stdin",
     "output_type": "stream",
     "text": [
      "나이는? 20\n"
     ]
    }
   ],
   "source": [
    "class Person():\n",
    "    def __init__(self):\n",
    "        self.name = \"Park\"\n",
    "        self.age = int(input(\"나이는?\"))\n",
    "        \n",
    "p1 = Person()"
   ]
  },
  {
   "cell_type": "code",
   "execution_count": 2,
   "id": "caebcec1-5e72-4074-bfbd-149619acf215",
   "metadata": {},
   "outputs": [
    {
     "data": {
      "text/plain": [
       "'Park'"
      ]
     },
     "execution_count": 2,
     "metadata": {},
     "output_type": "execute_result"
    }
   ],
   "source": [
    "p1.name"
   ]
  },
  {
   "cell_type": "code",
   "execution_count": 3,
   "id": "9dec8b1c-427d-43ae-b389-59093254257c",
   "metadata": {},
   "outputs": [
    {
     "data": {
      "text/plain": [
       "20"
      ]
     },
     "execution_count": 3,
     "metadata": {},
     "output_type": "execute_result"
    }
   ],
   "source": [
    "p1.age"
   ]
  },
  {
   "cell_type": "code",
   "execution_count": 8,
   "id": "d0df3313-d529-4f6b-9b07-d0031874e775",
   "metadata": {},
   "outputs": [],
   "source": [
    "class Person():\n",
    "    def __init__(self,name,age):\n",
    "        self.name = name\n",
    "        self.age = age\n",
    "        \n",
    "    def show(self):\n",
    "        print(f\"이름은 {self.name}이고 나이는 {self.age}입니다.\")"
   ]
  },
  {
   "cell_type": "code",
   "execution_count": 12,
   "id": "412f23f5-58de-4044-b88a-2b5deb407d38",
   "metadata": {},
   "outputs": [
    {
     "name": "stdout",
     "output_type": "stream",
     "text": [
      "park\n"
     ]
    },
    {
     "data": {
      "text/plain": [
       "20"
      ]
     },
     "execution_count": 12,
     "metadata": {},
     "output_type": "execute_result"
    }
   ],
   "source": [
    "p1 = Person(\"park\",20)\n",
    "print(p1.name)\n",
    "p1.age"
   ]
  },
  {
   "cell_type": "code",
   "execution_count": 13,
   "id": "26a9b937-f5c0-471e-b273-776bc0e0c0e3",
   "metadata": {},
   "outputs": [
    {
     "name": "stdout",
     "output_type": "stream",
     "text": [
      "이름은 park이고 나이는 20입니다.\n"
     ]
    }
   ],
   "source": [
    "p1.show()"
   ]
  },
  {
   "cell_type": "code",
   "execution_count": 15,
   "id": "3370f988-4a6d-414a-9266-c0da99e76b78",
   "metadata": {},
   "outputs": [
    {
     "name": "stdin",
     "output_type": "stream",
     "text": [
      "이름 길동\n",
      "나이 25\n",
      "이름 전우치\n",
      "나이 22\n",
      "이름 철수\n",
      "나이 55\n"
     ]
    }
   ],
   "source": [
    "class Person():\n",
    "    def __init__(self):\n",
    "        self.name = input(\"이름\")\n",
    "        self.age = int(input(\"나이\"))\n",
    "        \n",
    "    def show(self):\n",
    "        print(f\"이름은 {self.name}이고 나이는 {self.age}입니다.\")\n",
    "li = []\n",
    "for i in range(3):\n",
    "    li.append(Person())"
   ]
  },
  {
   "cell_type": "code",
   "execution_count": 16,
   "id": "583d1916-9077-4653-9040-69c4fd123d1e",
   "metadata": {},
   "outputs": [
    {
     "name": "stdout",
     "output_type": "stream",
     "text": [
      "이름은 길동이고 나이는 25입니다.\n",
      "이름은 전우치이고 나이는 22입니다.\n",
      "이름은 철수이고 나이는 55입니다.\n"
     ]
    }
   ],
   "source": [
    "for i in range(3):\n",
    "    li[i].show()"
   ]
  },
  {
   "cell_type": "code",
   "execution_count": 17,
   "id": "cdb054ea-c022-4229-a60e-d56c8fc16ebe",
   "metadata": {},
   "outputs": [
    {
     "name": "stdout",
     "output_type": "stream",
     "text": [
      "이름은 길동이고 나이는 25입니다.\n",
      "이름은 전우치이고 나이는 22입니다.\n",
      "이름은 철수이고 나이는 55입니다.\n"
     ]
    }
   ],
   "source": [
    "for obj in li:\n",
    "    obj.show()"
   ]
  },
  {
   "cell_type": "markdown",
   "id": "9e584504-6f9e-456f-8bc3-58b82c0bd1a8",
   "metadata": {},
   "source": [
    "## 상속 후 변수 추가하기"
   ]
  },
  {
   "cell_type": "code",
   "execution_count": 34,
   "id": "8f0d546a-c781-4355-a9dd-9f06305c80c8",
   "metadata": {},
   "outputs": [],
   "source": [
    "class Person:\n",
    "    def __init__(self):\n",
    "        self.name = \"Park\"\n",
    "        self.age = 25\n",
    "\n",
    "class Korean(Person):\n",
    "    def __init__(self):\n",
    "        super().__init__()    #부모클래스의 생성자를 실행시킨다. 괄호안에 self가 없어야 한다.\n",
    "        self.lang = \"한국어\"\n",
    "        \n",
    "class American(Person):\n",
    "    def __init__(self):\n",
    "        super().__init__()\n",
    "        self.lang = \"English\""
   ]
  },
  {
   "cell_type": "code",
   "execution_count": 25,
   "id": "f7f28cdf-89e2-4cb6-921a-0b0d02d200a5",
   "metadata": {},
   "outputs": [],
   "source": [
    "p1 = Korean()"
   ]
  },
  {
   "cell_type": "code",
   "execution_count": 26,
   "id": "f3d3c760-0f1a-4257-874a-aec677bd602c",
   "metadata": {},
   "outputs": [
    {
     "data": {
      "text/plain": [
       "'한국어'"
      ]
     },
     "execution_count": 26,
     "metadata": {},
     "output_type": "execute_result"
    }
   ],
   "source": [
    "p1.lang"
   ]
  },
  {
   "cell_type": "code",
   "execution_count": 27,
   "id": "ce36bd73-fa15-4385-82aa-e966beca0401",
   "metadata": {},
   "outputs": [
    {
     "data": {
      "text/plain": [
       "'Park'"
      ]
     },
     "execution_count": 27,
     "metadata": {},
     "output_type": "execute_result"
    }
   ],
   "source": [
    "p1.name"
   ]
  },
  {
   "cell_type": "code",
   "execution_count": 28,
   "id": "f96e3700-364f-49d7-92e2-7ca470cb810b",
   "metadata": {},
   "outputs": [
    {
     "data": {
      "text/plain": [
       "25"
      ]
     },
     "execution_count": 28,
     "metadata": {},
     "output_type": "execute_result"
    }
   ],
   "source": [
    "p1.age"
   ]
  },
  {
   "cell_type": "code",
   "execution_count": 35,
   "id": "eb056712-3171-4a4a-8d7f-30531e68018c",
   "metadata": {},
   "outputs": [],
   "source": [
    "p2 = American()"
   ]
  },
  {
   "cell_type": "code",
   "execution_count": 36,
   "id": "e01662e7-7bf3-47f0-aa3d-485d91e429cc",
   "metadata": {},
   "outputs": [
    {
     "data": {
      "text/plain": [
       "'Park'"
      ]
     },
     "execution_count": 36,
     "metadata": {},
     "output_type": "execute_result"
    }
   ],
   "source": [
    "p2.name"
   ]
  },
  {
   "cell_type": "code",
   "execution_count": 37,
   "id": "fd367a0c-c91a-4b78-9e91-5138f1f71181",
   "metadata": {},
   "outputs": [
    {
     "data": {
      "text/plain": [
       "'English'"
      ]
     },
     "execution_count": 37,
     "metadata": {},
     "output_type": "execute_result"
    }
   ],
   "source": [
    "p2.lang"
   ]
  },
  {
   "cell_type": "code",
   "execution_count": 46,
   "id": "055c04e8-e8b9-48bf-be12-890e8ddb3c84",
   "metadata": {},
   "outputs": [],
   "source": [
    "class Person:\n",
    "    def __init__(self,name,age):\n",
    "        self.name = name\n",
    "        self.age = age\n",
    "\n",
    "class Korean(Person):\n",
    "    def __init__(self, name, age, lang): #자식 클래스에서 부모 클래스의 변수를 모두 써주어야한다.\n",
    "        super().__init__(name,age)    \n",
    "        self.lang = lang"
   ]
  },
  {
   "cell_type": "code",
   "execution_count": 42,
   "id": "6fb1d55e-978b-42f3-805f-afc82790957c",
   "metadata": {},
   "outputs": [],
   "source": [
    "p1 = Korean(\"Park\",25,\"한국어\")"
   ]
  },
  {
   "cell_type": "code",
   "execution_count": 43,
   "id": "be52e33b-e413-4ffc-91da-e7025b3cb729",
   "metadata": {},
   "outputs": [
    {
     "data": {
      "text/plain": [
       "'Park'"
      ]
     },
     "execution_count": 43,
     "metadata": {},
     "output_type": "execute_result"
    }
   ],
   "source": [
    "p1.name"
   ]
  },
  {
   "cell_type": "code",
   "execution_count": 45,
   "id": "802d5a4b-611f-4ab7-ab75-679bc18661b9",
   "metadata": {},
   "outputs": [
    {
     "data": {
      "text/plain": [
       "25"
      ]
     },
     "execution_count": 45,
     "metadata": {},
     "output_type": "execute_result"
    }
   ],
   "source": [
    "p1.age"
   ]
  },
  {
   "cell_type": "code",
   "execution_count": 44,
   "id": "41ebd0a1-3007-45de-ae92-71ba2ca73762",
   "metadata": {},
   "outputs": [
    {
     "data": {
      "text/plain": [
       "'한국어'"
      ]
     },
     "execution_count": 44,
     "metadata": {},
     "output_type": "execute_result"
    }
   ],
   "source": [
    "p1.lang"
   ]
  },
  {
   "cell_type": "code",
   "execution_count": null,
   "id": "77cd493c-4ab7-4ea8-a3e4-bedbd54a8158",
   "metadata": {},
   "outputs": [],
   "source": [
    "# 문제 풀이\n",
    "햄버거 가게 기존메뉴에 동일 가격의 'b버거' 라는 신메뉴가 추가되었습니다.\n",
    "클래스 상속 후 변수 추가하는 방법으로 신메뉴 클래스를 추가해주세요.\n",
    "\n",
    "부모 클래스 이름 : Ham\n",
    "생성자에서 name은 A버거, 가격은 1,000\n",
    "\n",
    "자식 클래스 이름: Ham_B\n",
    "           name은 B버거\n",
    "\n",
    "b=Ham_b()\n",
    "b.name\n",
    "b.price\n"
   ]
  },
  {
   "cell_type": "code",
   "execution_count": 24,
   "id": "b408363f-b3c4-4f42-9c19-3ced9d3a261f",
   "metadata": {},
   "outputs": [
    {
     "data": {
      "text/plain": [
       "'B버거'"
      ]
     },
     "execution_count": 24,
     "metadata": {},
     "output_type": "execute_result"
    }
   ],
   "source": [
    "class Ham:\n",
    "    def __init__(self):\n",
    "        self.name = \"A버거\"\n",
    "        self.price = 1000\n",
    "\n",
    "class Ham_B(Ham):\n",
    "    def __init__(self):\n",
    "        super().__init__()\n",
    "        self.name = \"B버거\"\n",
    "        \n",
    "b=Ham_B()\n",
    "b.name"
   ]
  },
  {
   "cell_type": "code",
   "execution_count": 25,
   "id": "0996fefe-86a4-424e-a188-ec8b9b9b3bb6",
   "metadata": {},
   "outputs": [
    {
     "data": {
      "text/plain": [
       "1000"
      ]
     },
     "execution_count": 25,
     "metadata": {},
     "output_type": "execute_result"
    }
   ],
   "source": [
    "b.price"
   ]
  },
  {
   "cell_type": "code",
   "execution_count": 35,
   "id": "dea1de41-ca32-4308-9358-1048a02e8bbe",
   "metadata": {},
   "outputs": [
    {
     "name": "stdout",
     "output_type": "stream",
     "text": [
      "A버거\n",
      "1000\n",
      "500\n"
     ]
    }
   ],
   "source": [
    "#kcal라는 변수를 자식 클래스에서 추가하기. A버거는 500kcal \n",
    "\n",
    "class Ham:\n",
    "    def __init__(self,name,price):\n",
    "        self.name = name\n",
    "        self.price = price\n",
    "        \n",
    "class Ham_B(Ham):\n",
    "    def __init__(self,name,price,kcal): #kcal 변수 추가\n",
    "        super().__init__(name,price)   #부모 클래스 초기화 (부모클래스 변수 self빼고)\n",
    "        self.kcal = kcal\n",
    "\n",
    "b = Ham_B(\"A버거\",1000,500)\n",
    "print(b.name)\n",
    "print(b.price)\n",
    "print(b.kcal)\n"
   ]
  },
  {
   "cell_type": "markdown",
   "id": "a4cb4acf-6eef-41b3-9a53-d2c63ef50fbc",
   "metadata": {},
   "source": [
    "# 모듈(module)\n",
    "- 함수나 변수 또는 클래스를 모아 놓은 파일이다.\n",
    "- .py로 만든 파이썬 파일은 모두 모듈이다."
   ]
  },
  {
   "cell_type": "code",
   "execution_count": null,
   "id": "8cce82d2-873b-47a4-8f0f-c5725507d0b7",
   "metadata": {},
   "outputs": [],
   "source": [
    "아래와 같은 모듈이 있다고 할 때 import mod1 을 입력했을 경우, if문을 사용하여 Hello가 출력되지 않게 하라.\n",
    "# mod1.py\n",
    "\n",
    "if __name__==\"__main__\":\n",
    "    print(\"Hello\")\n"
   ]
  },
  {
   "cell_type": "code",
   "execution_count": null,
   "id": "ce2d346f-067a-48ee-bdce-9eb32d8cabca",
   "metadata": {},
   "outputs": [],
   "source": []
  },
  {
   "cell_type": "code",
   "execution_count": null,
   "id": "8fe24180-bac8-40db-89cd-0fdf2ec13392",
   "metadata": {},
   "outputs": [],
   "source": []
  },
  {
   "cell_type": "code",
   "execution_count": null,
   "id": "36954772-fb3c-464c-9443-8be0181fdd68",
   "metadata": {},
   "outputs": [],
   "source": []
  },
  {
   "cell_type": "code",
   "execution_count": null,
   "id": "191fea35-20b8-4bd3-b987-6955d4e11dd5",
   "metadata": {},
   "outputs": [],
   "source": []
  },
  {
   "cell_type": "code",
   "execution_count": null,
   "id": "6b01b35a-85d7-4778-8908-6ba71fb7281c",
   "metadata": {},
   "outputs": [],
   "source": []
  },
  {
   "cell_type": "markdown",
   "id": "80f91804-849a-4588-b7bb-e4921c0d82d7",
   "metadata": {},
   "source": [
    "# 패키지"
   ]
  },
  {
   "cell_type": "markdown",
   "id": "dafa5440-dcf6-4601-aa06-baff0c4a4e3d",
   "metadata": {},
   "source": [
    "## 예외처리\n",
    "- 예외(exception) 란 에러(error)를 말한다. 예외적으로 오류를 처리할 수 있게 해준다.\n",
    "- try ~ except문의 기본 구조이다."
   ]
  },
  {
   "cell_type": "code",
   "execution_count": 105,
   "id": "06444c1d-142e-48b5-a069-386c34935d45",
   "metadata": {},
   "outputs": [
    {
     "name": "stdout",
     "output_type": "stream",
     "text": [
      "1\n",
      "2\n",
      "3\n"
     ]
    }
   ],
   "source": [
    "li = [1,2,3]\n",
    "for i in range(3):\n",
    "    print(li[i])"
   ]
  },
  {
   "cell_type": "code",
   "execution_count": 106,
   "id": "90189e50-3225-4504-9575-9c5aac47a5d2",
   "metadata": {},
   "outputs": [
    {
     "name": "stdout",
     "output_type": "stream",
     "text": [
      "1\n",
      "2\n",
      "3\n"
     ]
    },
    {
     "ename": "IndexError",
     "evalue": "list index out of range",
     "output_type": "error",
     "traceback": [
      "\u001b[1;31m---------------------------------------------------------------------------\u001b[0m",
      "\u001b[1;31mIndexError\u001b[0m                                Traceback (most recent call last)",
      "Input \u001b[1;32mIn [106]\u001b[0m, in \u001b[0;36m<cell line: 2>\u001b[1;34m()\u001b[0m\n\u001b[0;32m      1\u001b[0m li \u001b[38;5;241m=\u001b[39m [\u001b[38;5;241m1\u001b[39m,\u001b[38;5;241m2\u001b[39m,\u001b[38;5;241m3\u001b[39m]\n\u001b[0;32m      2\u001b[0m \u001b[38;5;28;01mfor\u001b[39;00m i \u001b[38;5;129;01min\u001b[39;00m \u001b[38;5;28mrange\u001b[39m(\u001b[38;5;241m4\u001b[39m):\n\u001b[1;32m----> 3\u001b[0m     \u001b[38;5;28mprint\u001b[39m(\u001b[43mli\u001b[49m\u001b[43m[\u001b[49m\u001b[43mi\u001b[49m\u001b[43m]\u001b[49m)\n",
      "\u001b[1;31mIndexError\u001b[0m: list index out of range"
     ]
    }
   ],
   "source": [
    "li = [1,2,3]\n",
    "for i in range(4):\n",
    "    print(li[i])"
   ]
  },
  {
   "cell_type": "code",
   "execution_count": 107,
   "id": "4532cf3f-1fd9-4602-8ba8-ad26695bd46a",
   "metadata": {},
   "outputs": [
    {
     "name": "stdout",
     "output_type": "stream",
     "text": [
      "1\n",
      "2\n",
      "3\n",
      "에러가 났었습니다\n"
     ]
    }
   ],
   "source": [
    "li = [1,2,3]\n",
    "try:\n",
    "    for i in range(4):\n",
    "        print(li[i])\n",
    "except:\n",
    "    print(\"에러가 났었습니다\")"
   ]
  },
  {
   "cell_type": "code",
   "execution_count": 209,
   "id": "ad97310b-e35c-4080-95c9-dcffe0a73f0e",
   "metadata": {},
   "outputs": [
    {
     "name": "stdout",
     "output_type": "stream",
     "text": [
      "1\n",
      "2\n",
      "3\n"
     ]
    }
   ],
   "source": [
    "# 오류 회피하기\n",
    "li = [1,2,3]\n",
    "try:\n",
    "    for i in range(4):\n",
    "        print(li[i])\n",
    "except:\n",
    "    pass"
   ]
  },
  {
   "cell_type": "code",
   "execution_count": 210,
   "id": "0db7ea71-3eff-4be4-b8c8-f3b238bc7495",
   "metadata": {},
   "outputs": [
    {
     "name": "stdout",
     "output_type": "stream",
     "text": [
      "2.0\n",
      "division by zero\n"
     ]
    }
   ],
   "source": [
    "try:                               #try:\n",
    "    print(4/2)\n",
    "    4/0\n",
    "except ZeroDivisionError as e :    #except [발생 오류[as 오류 메시지 변수]]:\n",
    "    print(e)"
   ]
  },
  {
   "cell_type": "code",
   "execution_count": 113,
   "id": "eb9c5cbb-3a3e-4a43-a61c-8b0b625c8634",
   "metadata": {},
   "outputs": [
    {
     "name": "stdout",
     "output_type": "stream",
     "text": [
      "1\n",
      "2\n",
      "3\n",
      "list index out of range\n"
     ]
    }
   ],
   "source": [
    "li = [1,2,3]\n",
    "try:\n",
    "    for i in range(4):\n",
    "        print(li[i])\n",
    "except IndexError as e:\n",
    "    print(e)"
   ]
  },
  {
   "cell_type": "code",
   "execution_count": 207,
   "id": "c3ce14e0-6bf8-4263-ab3b-1dcc41b85e80",
   "metadata": {},
   "outputs": [
    {
     "name": "stdout",
     "output_type": "stream",
     "text": [
      "1\n",
      "2\n",
      "3\n",
      "division by zero\n"
     ]
    }
   ],
   "source": [
    "#여러개의 오류처리하기1\n",
    "li = [1,2,3]\n",
    "try:\n",
    "    for i in range(3):\n",
    "        print(li[i])\n",
    "    print(3/0)\n",
    "except IndexError as e:\n",
    "    print(e)\n",
    "except ZeroDivisionError as e:\n",
    "    print(e)                   "
   ]
  },
  {
   "cell_type": "code",
   "execution_count": 208,
   "id": "b1c4753b-b505-4054-8a7a-873cf6c62904",
   "metadata": {},
   "outputs": [
    {
     "name": "stdout",
     "output_type": "stream",
     "text": [
      "1\n",
      "2\n",
      "3\n",
      "list index out of range\n"
     ]
    }
   ],
   "source": [
    "#여러개의 오류처리하기2\n",
    "li = [1,2,3]\n",
    "try:\n",
    "    for i in range(4):\n",
    "        print(li[i])\n",
    "    print(3/0)\n",
    "except (IndexError, ZeroDivisionError) as e:\n",
    "    print(e)"
   ]
  },
  {
   "cell_type": "code",
   "execution_count": 120,
   "id": "7f471f74-b429-463a-9c80-3746dbc7921f",
   "metadata": {},
   "outputs": [
    {
     "name": "stdout",
     "output_type": "stream",
     "text": [
      "division by zero\n"
     ]
    }
   ],
   "source": [
    "li = [1,2,3]\n",
    "try:\n",
    "    print(3/0)\n",
    "    for i in range(4):\n",
    "        print(li[i])\n",
    "   \n",
    "except (IndexError, ZeroDivisionError) as e:\n",
    "    print(e)"
   ]
  },
  {
   "cell_type": "markdown",
   "id": "ce749a5e-46ca-43d2-8f6a-fae5fc1272e8",
   "metadata": {},
   "source": [
    "# 내장함수\n"
   ]
  },
  {
   "cell_type": "code",
   "execution_count": 123,
   "id": "03450ef5-c14b-4364-9ff2-3b55d8d9a749",
   "metadata": {},
   "outputs": [
    {
     "data": {
      "text/plain": [
       "3"
      ]
     },
     "execution_count": 123,
     "metadata": {},
     "output_type": "execute_result"
    }
   ],
   "source": [
    "abs (-3)   #절댓값을 돌려준다."
   ]
  },
  {
   "cell_type": "code",
   "execution_count": 125,
   "id": "3a26f349-ea66-40dd-836c-e1bb92496fb6",
   "metadata": {},
   "outputs": [
    {
     "data": {
      "text/plain": [
       "True"
      ]
     },
     "execution_count": 125,
     "metadata": {},
     "output_type": "execute_result"
    }
   ],
   "source": [
    "all([1,2,3])  #모두 참이면 True, 거짓이 하나라도 있으면 False를 돌려준다."
   ]
  },
  {
   "cell_type": "code",
   "execution_count": 126,
   "id": "f7adb9ed-da78-498b-b5f3-0f899209dcdc",
   "metadata": {},
   "outputs": [
    {
     "data": {
      "text/plain": [
       "False"
      ]
     },
     "execution_count": 126,
     "metadata": {},
     "output_type": "execute_result"
    }
   ],
   "source": [
    "all([0,1,2,3])"
   ]
  },
  {
   "cell_type": "code",
   "execution_count": 128,
   "id": "e8f564bd-c52a-4914-82a0-2339316f116a",
   "metadata": {},
   "outputs": [
    {
     "data": {
      "text/plain": [
       "True"
      ]
     },
     "execution_count": 128,
     "metadata": {},
     "output_type": "execute_result"
    }
   ],
   "source": [
    "any([0,False,\"\",1])  #하나라도 참이 있으면 True, 모두 거짓일 때에만 False를 돌려준다."
   ]
  },
  {
   "cell_type": "code",
   "execution_count": 129,
   "id": "a4fd56c1-83bb-4e73-981b-4a2376989a20",
   "metadata": {},
   "outputs": [],
   "source": [
    "#char? 아스키 코드 값을 받아 그 코드에 해당하는 문자를 출력한다."
   ]
  },
  {
   "cell_type": "code",
   "execution_count": 130,
   "id": "9b3f4a7a-c522-4878-b575-1ee81737861f",
   "metadata": {},
   "outputs": [],
   "source": [
    "#*아스키 코드란 0에서 127 사이의 숫자를 각 각 하나의 문자 또는 기호에 대응시켜 놓은 것이다."
   ]
  },
  {
   "cell_type": "code",
   "execution_count": 131,
   "id": "2142c77c-9331-4a9c-9a3a-786f3f062335",
   "metadata": {},
   "outputs": [
    {
     "data": {
      "text/plain": [
       "'a'"
      ]
     },
     "execution_count": 131,
     "metadata": {},
     "output_type": "execute_result"
    }
   ],
   "source": [
    "chr(97)"
   ]
  },
  {
   "cell_type": "code",
   "execution_count": 134,
   "id": "21020015-df7a-4eb3-8729-fb4491948906",
   "metadata": {},
   "outputs": [],
   "source": [
    "a = \"Hello\" #객체 관련 함수(메서드)를 보여준다."
   ]
  },
  {
   "cell_type": "code",
   "execution_count": 133,
   "id": "1c59dd74-bfd8-480a-83d3-51e9144c2240",
   "metadata": {
    "collapsed": true,
    "jupyter": {
     "outputs_hidden": true
    },
    "tags": []
   },
   "outputs": [
    {
     "data": {
      "text/plain": [
       "['__add__',\n",
       " '__class__',\n",
       " '__contains__',\n",
       " '__delattr__',\n",
       " '__dir__',\n",
       " '__doc__',\n",
       " '__eq__',\n",
       " '__format__',\n",
       " '__ge__',\n",
       " '__getattribute__',\n",
       " '__getitem__',\n",
       " '__getnewargs__',\n",
       " '__gt__',\n",
       " '__hash__',\n",
       " '__init__',\n",
       " '__init_subclass__',\n",
       " '__iter__',\n",
       " '__le__',\n",
       " '__len__',\n",
       " '__lt__',\n",
       " '__mod__',\n",
       " '__mul__',\n",
       " '__ne__',\n",
       " '__new__',\n",
       " '__reduce__',\n",
       " '__reduce_ex__',\n",
       " '__repr__',\n",
       " '__rmod__',\n",
       " '__rmul__',\n",
       " '__setattr__',\n",
       " '__sizeof__',\n",
       " '__str__',\n",
       " '__subclasshook__',\n",
       " 'capitalize',\n",
       " 'casefold',\n",
       " 'center',\n",
       " 'count',\n",
       " 'encode',\n",
       " 'endswith',\n",
       " 'expandtabs',\n",
       " 'find',\n",
       " 'format',\n",
       " 'format_map',\n",
       " 'index',\n",
       " 'isalnum',\n",
       " 'isalpha',\n",
       " 'isascii',\n",
       " 'isdecimal',\n",
       " 'isdigit',\n",
       " 'isidentifier',\n",
       " 'islower',\n",
       " 'isnumeric',\n",
       " 'isprintable',\n",
       " 'isspace',\n",
       " 'istitle',\n",
       " 'isupper',\n",
       " 'join',\n",
       " 'ljust',\n",
       " 'lower',\n",
       " 'lstrip',\n",
       " 'maketrans',\n",
       " 'partition',\n",
       " 'removeprefix',\n",
       " 'removesuffix',\n",
       " 'replace',\n",
       " 'rfind',\n",
       " 'rindex',\n",
       " 'rjust',\n",
       " 'rpartition',\n",
       " 'rsplit',\n",
       " 'rstrip',\n",
       " 'split',\n",
       " 'splitlines',\n",
       " 'startswith',\n",
       " 'strip',\n",
       " 'swapcase',\n",
       " 'title',\n",
       " 'translate',\n",
       " 'upper',\n",
       " 'zfill']"
      ]
     },
     "execution_count": 133,
     "metadata": {},
     "output_type": "execute_result"
    }
   ],
   "source": [
    "dir(a)"
   ]
  },
  {
   "cell_type": "code",
   "execution_count": 135,
   "id": "87b53445-4672-49d2-a88e-1c2b1c506c62",
   "metadata": {},
   "outputs": [
    {
     "data": {
      "text/plain": [
       "(2, 1)"
      ]
     },
     "execution_count": 135,
     "metadata": {},
     "output_type": "execute_result"
    }
   ],
   "source": [
    "divmod(7,3)   #a를 b로 나눈 몫과 나머지를 튜플형태로 돌려준다."
   ]
  },
  {
   "cell_type": "code",
   "execution_count": 137,
   "id": "64332fcf-51b7-4293-ae0a-2524a695ddaf",
   "metadata": {},
   "outputs": [
    {
     "data": {
      "text/plain": [
       "(2, 1)"
      ]
     },
     "execution_count": 137,
     "metadata": {},
     "output_type": "execute_result"
    }
   ],
   "source": [
    "def mydiv(a,b):\n",
    "    return a//b,a%b\n",
    "\n",
    "mydiv(7,3)"
   ]
  },
  {
   "cell_type": "code",
   "execution_count": 149,
   "id": "c9b474e1-8758-40f9-a50f-2e79ff1411f4",
   "metadata": {},
   "outputs": [
    {
     "data": {
      "text/plain": [
       "<enumerate at 0x242327636c0>"
      ]
     },
     "execution_count": 149,
     "metadata": {},
     "output_type": "execute_result"
    }
   ],
   "source": [
    "enumerate([\"a\",\"b\",3])   #index와 그 값을 알려준다. 인덱스 값이 필요할 때 유용하다."
   ]
  },
  {
   "cell_type": "code",
   "execution_count": 148,
   "id": "35ef747e-3c81-4b44-a2a1-d0d1396f7d92",
   "metadata": {},
   "outputs": [
    {
     "name": "stdout",
     "output_type": "stream",
     "text": [
      "0 a\n",
      "1 b\n",
      "2 3\n"
     ]
    }
   ],
   "source": [
    "for i,j in enumerate([\"a\",\"b\",3]):\n",
    "    print(i,j)"
   ]
  },
  {
   "cell_type": "code",
   "execution_count": 147,
   "id": "ed7050a9-e046-4aeb-8484-796ff7ab8dcb",
   "metadata": {},
   "outputs": [
    {
     "name": "stdout",
     "output_type": "stream",
     "text": [
      "0 a\n",
      "1 b\n",
      "2 3\n"
     ]
    }
   ],
   "source": [
    "diction = {}            #딕셔너리 만들기\n",
    "for i,j in enumerate([\"a\",\"b\",3]):\n",
    "    print(i,j)\n",
    "    diction[i]=j  "
   ]
  },
  {
   "cell_type": "code",
   "execution_count": 144,
   "id": "35007882-110a-4a9b-85d9-aa4dd747e4f5",
   "metadata": {},
   "outputs": [
    {
     "data": {
      "text/plain": [
       "{0: 'a', 1: 'b', 2: 3}"
      ]
     },
     "execution_count": 144,
     "metadata": {},
     "output_type": "execute_result"
    }
   ],
   "source": [
    "diction"
   ]
  },
  {
   "cell_type": "code",
   "execution_count": 1,
   "id": "a0354466-9900-45a8-895a-83b0c4d508c5",
   "metadata": {},
   "outputs": [],
   "source": [
    "def odd(a):\n",
    "    if a%2 ==1:\n",
    "        return True\n",
    "    else:\n",
    "        pass"
   ]
  },
  {
   "cell_type": "code",
   "execution_count": 5,
   "id": "455dbe3f-4124-47f7-b4e6-bec91094198a",
   "metadata": {},
   "outputs": [
    {
     "data": {
      "text/plain": [
       "<filter at 0x1efa7617a60>"
      ]
     },
     "execution_count": 5,
     "metadata": {},
     "output_type": "execute_result"
    }
   ],
   "source": [
    "filter(odd,[-1,1,-2,3])   # 두번째 인수가 첫번째 인수인 함수에 입력되었을 때 True참인 것만 걸러내서 돌려준다."
   ]
  },
  {
   "cell_type": "code",
   "execution_count": 157,
   "id": "b191c41f-4bfb-4961-9e84-c29e58fc418e",
   "metadata": {},
   "outputs": [
    {
     "data": {
      "text/plain": [
       "[-1, 1, 3, 5]"
      ]
     },
     "execution_count": 157,
     "metadata": {},
     "output_type": "execute_result"
    }
   ],
   "source": [
    "list(filter(odd,[-1,1,-2,3,4,5]))"
   ]
  },
  {
   "cell_type": "code",
   "execution_count": 58,
   "id": "dd965bb6-fa96-49f3-a177-08ff1a749b71",
   "metadata": {},
   "outputs": [
    {
     "data": {
      "text/plain": [
       "[1, 5, 3]"
      ]
     },
     "execution_count": 58,
     "metadata": {},
     "output_type": "execute_result"
    }
   ],
   "source": [
    "#1.아래 리스트에서 양수, 음수 따로 리스트로 모아 봅시다.\n",
    "\n",
    "li = [1, 2, 4, 5, 6, 3]\n",
    "even = [i for i in li if i % 2 == 0]\n",
    "odd = [i for i in li if i % 2 == 1]\n",
    "odd"
   ]
  },
  {
   "cell_type": "code",
   "execution_count": 47,
   "id": "041afd0c-891b-40c2-98c7-33bc43dca770",
   "metadata": {},
   "outputs": [
    {
     "data": {
      "text/plain": [
       "[2, 4, 6]"
      ]
     },
     "execution_count": 47,
     "metadata": {},
     "output_type": "execute_result"
    }
   ],
   "source": [
    "li = [1, 2, 4, 5, 6, 3]\n",
    "even = list(filter(lambda x: x % 2 == 0, li))\n",
    "odd = list(filter(lambda x: x % 2 != 0, li))\n",
    "even"
   ]
  },
  {
   "cell_type": "code",
   "execution_count": 60,
   "id": "c6088c7a-b660-498f-929a-d6b135d41496",
   "metadata": {},
   "outputs": [],
   "source": [
    "#2. even는 오름차순, odd는 내림차순으로 정렬합시다.\n",
    "\n",
    "even.sort()\n",
    "odd.sort()\n",
    "odd.reverse()"
   ]
  },
  {
   "cell_type": "code",
   "execution_count": 62,
   "id": "7c96b7da-c190-4966-a9a1-ee69baa7684f",
   "metadata": {},
   "outputs": [
    {
     "data": {
      "text/plain": [
       "[(2, 5), (4, 3), (6, 1)]"
      ]
     },
     "execution_count": 62,
     "metadata": {},
     "output_type": "execute_result"
    }
   ],
   "source": [
    "list(zip(even,odd))"
   ]
  },
  {
   "cell_type": "code",
   "execution_count": 63,
   "id": "f597ca83-28fa-4c3d-8d71-b7f59a9faaf5",
   "metadata": {},
   "outputs": [
    {
     "name": "stdout",
     "output_type": "stream",
     "text": [
      "2 5\n",
      "4 3\n",
      "6 1\n"
     ]
    }
   ],
   "source": [
    "for i,j in zip(even,odd):\n",
    "    print(i,j) "
   ]
  },
  {
   "cell_type": "code",
   "execution_count": 56,
   "id": "e899edf6-c26c-4420-bc28-0e9fd3d062ee",
   "metadata": {},
   "outputs": [
    {
     "data": {
      "text/plain": [
       "[2, 4, 6]"
      ]
     },
     "execution_count": 56,
     "metadata": {},
     "output_type": "execute_result"
    }
   ],
   "source": [
    "even"
   ]
  },
  {
   "cell_type": "code",
   "execution_count": 57,
   "id": "1040eb8e-6c1c-4625-ada9-4cd39b987d6a",
   "metadata": {},
   "outputs": [
    {
     "data": {
      "text/plain": [
       "[5, 3, 1]"
      ]
     },
     "execution_count": 57,
     "metadata": {},
     "output_type": "execute_result"
    }
   ],
   "source": [
    "odd"
   ]
  },
  {
   "cell_type": "code",
   "execution_count": 4,
   "id": "008189e5-dedf-4296-a62a-742f52988c1f",
   "metadata": {},
   "outputs": [
    {
     "data": {
      "text/plain": [
       "[1, 3, 4, 5]"
      ]
     },
     "execution_count": 4,
     "metadata": {},
     "output_type": "execute_result"
    }
   ],
   "source": [
    "def positive(a):\n",
    "    if a > 0:\n",
    "        return True\n",
    "    else:\n",
    "        pass\n",
    "list(filter(positive, [-1,1,-2,3,4,5]))"
   ]
  },
  {
   "cell_type": "code",
   "execution_count": 49,
   "id": "9ae1ca00-898a-4bb1-95f9-6c5032dfcfc3",
   "metadata": {},
   "outputs": [
    {
     "data": {
      "text/plain": [
       "'0xea'"
      ]
     },
     "execution_count": 49,
     "metadata": {},
     "output_type": "execute_result"
    }
   ],
   "source": [
    "hex(234) # 16진수로 변환하여 돌려준다."
   ]
  },
  {
   "cell_type": "code",
   "execution_count": 48,
   "id": "71d2d19c-4818-4ac2-8d1c-cb39c8641af8",
   "metadata": {},
   "outputs": [
    {
     "data": {
      "text/plain": [
       "'0x3'"
      ]
     },
     "execution_count": 48,
     "metadata": {},
     "output_type": "execute_result"
    }
   ],
   "source": [
    "hex(3)"
   ]
  },
  {
   "cell_type": "code",
   "execution_count": 50,
   "id": "227d1367-6585-4ad0-8c1d-5cda6c93d452",
   "metadata": {},
   "outputs": [],
   "source": [
    "a=3"
   ]
  },
  {
   "cell_type": "code",
   "execution_count": 52,
   "id": "8cee63c5-ec74-468e-b0e2-69c002b3d5ed",
   "metadata": {},
   "outputs": [
    {
     "data": {
      "text/plain": [
       "2552353614192"
      ]
     },
     "execution_count": 52,
     "metadata": {},
     "output_type": "execute_result"
    }
   ],
   "source": [
    "id(3)  #고유주소값을 돌려준다"
   ]
  },
  {
   "cell_type": "code",
   "execution_count": 54,
   "id": "a74a4906-be86-4007-b753-307e727ec37f",
   "metadata": {},
   "outputs": [
    {
     "name": "stdin",
     "output_type": "stream",
     "text": [
      "Enter:  hi\n"
     ]
    }
   ],
   "source": [
    "a = input(\"Enter: \")  #입력을 받는 함수"
   ]
  },
  {
   "cell_type": "code",
   "execution_count": 56,
   "id": "acc62df0-d553-4d7d-a019-caa91c2cb568",
   "metadata": {},
   "outputs": [
    {
     "data": {
      "text/plain": [
       "3"
      ]
     },
     "execution_count": 56,
     "metadata": {},
     "output_type": "execute_result"
    }
   ],
   "source": [
    "int('3') #정수형태로 돌려주는 함수"
   ]
  },
  {
   "cell_type": "code",
   "execution_count": 60,
   "id": "fd15c781-bfff-451f-be14-59acee8617a7",
   "metadata": {},
   "outputs": [
    {
     "data": {
      "text/plain": [
       "3"
      ]
     },
     "execution_count": 60,
     "metadata": {},
     "output_type": "execute_result"
    }
   ],
   "source": [
    "int('11',2) # 2진수로 표현된 10진수의 값으로 돌려준다."
   ]
  },
  {
   "cell_type": "code",
   "execution_count": 59,
   "id": "7de9c883-399b-4dd0-acb6-938d8c8c9171",
   "metadata": {},
   "outputs": [
    {
     "data": {
      "text/plain": [
       "26"
      ]
     },
     "execution_count": 59,
     "metadata": {},
     "output_type": "execute_result"
    }
   ],
   "source": [
    "int('1A', 16) # 16진수로 표현된 10진수의 값으로 돌려준다."
   ]
  },
  {
   "cell_type": "code",
   "execution_count": null,
   "id": "e277f495-3bb0-4bfa-bb69-fbd216fc5021",
   "metadata": {},
   "outputs": [],
   "source": [
    "instance(object,class) 참이면 True, 거짓이면 False를 돌려준다."
   ]
  },
  {
   "cell_type": "code",
   "execution_count": 61,
   "id": "4a712ed0-86c5-4371-9a90-627f968d008f",
   "metadata": {},
   "outputs": [
    {
     "data": {
      "text/plain": [
       "6"
      ]
     },
     "execution_count": 61,
     "metadata": {},
     "output_type": "execute_result"
    }
   ],
   "source": [
    "len('python') #길이,개수를 돌려준다."
   ]
  },
  {
   "cell_type": "code",
   "execution_count": 62,
   "id": "0880da30-a9aa-41df-9ffb-31c65b208cf8",
   "metadata": {},
   "outputs": [
    {
     "data": {
      "text/plain": [
       "['p', 'y', 't', 'h', 'o', 'n']"
      ]
     },
     "execution_count": 62,
     "metadata": {},
     "output_type": "execute_result"
    }
   ],
   "source": [
    "list('python') #리스트로 만들어 돌려준다."
   ]
  },
  {
   "cell_type": "code",
   "execution_count": 63,
   "id": "2be5c6b4-5fc7-41d0-9eab-276eea41aeeb",
   "metadata": {},
   "outputs": [],
   "source": [
    "a=[1,2,3]"
   ]
  },
  {
   "cell_type": "code",
   "execution_count": 65,
   "id": "3cd1ae3b-ebd2-42a0-97b5-31fff0794e5c",
   "metadata": {},
   "outputs": [
    {
     "data": {
      "text/plain": [
       "[1, 2, 3]"
      ]
     },
     "execution_count": 65,
     "metadata": {},
     "output_type": "execute_result"
    }
   ],
   "source": [
    "b=list(a)   #리스트함수에 리스트를 입력주면 복사하여 돌려준다.\n",
    "b"
   ]
  },
  {
   "cell_type": "code",
   "execution_count": null,
   "id": "cbe4eef3-7a6c-4564-a5a2-50e2d5af353f",
   "metadata": {},
   "outputs": [],
   "source": [
    "map(f,iterable) 함수와 반복 가능한 자료형을 입력받아 각각 함수 f가 수행한 결과를 묶어서 돌려준다."
   ]
  },
  {
   "cell_type": "code",
   "execution_count": null,
   "id": "9639978f-92b9-42b3-a444-5919e099d877",
   "metadata": {},
   "outputs": [],
   "source": [
    "map(int, [1.2,2.3,3.00,4])"
   ]
  },
  {
   "cell_type": "code",
   "execution_count": 89,
   "id": "7e3067ed-a23b-4488-ac32-ce435a9f80bf",
   "metadata": {},
   "outputs": [
    {
     "data": {
      "text/plain": [
       "6"
      ]
     },
     "execution_count": 89,
     "metadata": {},
     "output_type": "execute_result"
    }
   ],
   "source": [
    "def twice(n):\n",
    "    return 2*n\n",
    "twice(3)"
   ]
  },
  {
   "cell_type": "code",
   "execution_count": null,
   "id": "2d9b2317-cdb7-4a51-8d04-3812981517f0",
   "metadata": {},
   "outputs": [],
   "source": [
    "[1,2,3,4] -> [2,4,6,8]"
   ]
  },
  {
   "cell_type": "code",
   "execution_count": 90,
   "id": "38da8cc3-b620-4537-b427-245757406fcd",
   "metadata": {},
   "outputs": [
    {
     "data": {
      "text/plain": [
       "[2, 4, 6, 8]"
      ]
     },
     "execution_count": 90,
     "metadata": {},
     "output_type": "execute_result"
    }
   ],
   "source": [
    "list(map(twice,[1,2,3,4]))"
   ]
  },
  {
   "cell_type": "code",
   "execution_count": 91,
   "id": "486fd78a-8707-43ce-9308-f34246e2cd81",
   "metadata": {},
   "outputs": [
    {
     "data": {
      "text/plain": [
       "[2, 4, 6, 8]"
      ]
     },
     "execution_count": 91,
     "metadata": {},
     "output_type": "execute_result"
    }
   ],
   "source": [
    "list(map(lambda a: a*2, [1,2,3,4]))"
   ]
  },
  {
   "cell_type": "code",
   "execution_count": 92,
   "id": "8e7fcdaf-0641-4dc3-ba7d-f0501e2b1385",
   "metadata": {},
   "outputs": [
    {
     "data": {
      "text/plain": [
       "[2, 4, 6, 8]"
      ]
     },
     "execution_count": 92,
     "metadata": {},
     "output_type": "execute_result"
    }
   ],
   "source": [
    "f = lambda x : x*2\n",
    "list(map( f,[1,2,3,4]))"
   ]
  },
  {
   "cell_type": "code",
   "execution_count": 37,
   "id": "8c052b3a-83dd-4e10-92fb-f258c72da5c9",
   "metadata": {},
   "outputs": [
    {
     "data": {
      "text/plain": [
       "[-31, 55, -34, -55, -66]"
      ]
     },
     "execution_count": 37,
     "metadata": {},
     "output_type": "execute_result"
    }
   ],
   "source": [
    "# 람다식과 map함수를 통하여 양수는 음수로, 음수는 양수로 바꾸어라\n",
    "[31,-55,34,55,66]\n",
    "\n",
    "list(map(lambda a: a*-1, [31,-55,34,55,66]))"
   ]
  },
  {
   "cell_type": "code",
   "execution_count": 68,
   "id": "aef1c015-d2ac-4249-ba32-47afd051098a",
   "metadata": {},
   "outputs": [
    {
     "data": {
      "text/plain": [
       "3"
      ]
     },
     "execution_count": 68,
     "metadata": {},
     "output_type": "execute_result"
    }
   ],
   "source": [
    "max([1,2,3]) #최댓값을 돌려준다."
   ]
  },
  {
   "cell_type": "code",
   "execution_count": 70,
   "id": "5f0d2518-569f-472c-b902-ea7e9a9b69b6",
   "metadata": {},
   "outputs": [
    {
     "data": {
      "text/plain": [
       "'y'"
      ]
     },
     "execution_count": 70,
     "metadata": {},
     "output_type": "execute_result"
    }
   ],
   "source": [
    "max('python')"
   ]
  },
  {
   "cell_type": "code",
   "execution_count": 69,
   "id": "2b89b411-403e-4271-9b6d-d627cd2515c6",
   "metadata": {},
   "outputs": [
    {
     "data": {
      "text/plain": [
       "1"
      ]
     },
     "execution_count": 69,
     "metadata": {},
     "output_type": "execute_result"
    }
   ],
   "source": [
    "min([1,2,3]) #최솟값을 돌려준다."
   ]
  },
  {
   "cell_type": "code",
   "execution_count": 71,
   "id": "7b5b5cb8-50de-4e77-95a6-8c39fa883fbf",
   "metadata": {},
   "outputs": [
    {
     "data": {
      "text/plain": [
       "'0o42'"
      ]
     },
     "execution_count": 71,
     "metadata": {},
     "output_type": "execute_result"
    }
   ],
   "source": [
    "oct(34) #8진수 문자열로 돌려준다"
   ]
  },
  {
   "cell_type": "code",
   "execution_count": null,
   "id": "7ca73ed3-b74d-4c34-bbb5-cfb0b3f47cfa",
   "metadata": {},
   "outputs": [],
   "source": [
    "open(\"filename\",\"mode\")  / 파일 이름과 읽기 방법을 받아 돌려준다."
   ]
  },
  {
   "cell_type": "code",
   "execution_count": 72,
   "id": "9c7dff75-ee3f-4c92-85f4-fe1bd74fd060",
   "metadata": {},
   "outputs": [
    {
     "data": {
      "text/plain": [
       "97"
      ]
     },
     "execution_count": 72,
     "metadata": {},
     "output_type": "execute_result"
    }
   ],
   "source": [
    "ord('a') #아스키코드값을 돌려준다. #chr함수와 반대이다."
   ]
  },
  {
   "cell_type": "code",
   "execution_count": 73,
   "id": "8c375768-f60d-4bb2-8d53-6fdacdaf9c6b",
   "metadata": {},
   "outputs": [
    {
     "data": {
      "text/plain": [
       "48"
      ]
     },
     "execution_count": 73,
     "metadata": {},
     "output_type": "execute_result"
    }
   ],
   "source": [
    "ord('0')"
   ]
  },
  {
   "cell_type": "code",
   "execution_count": 74,
   "id": "ade8d622-8e78-49e2-b676-8b1fd0f63ec2",
   "metadata": {},
   "outputs": [
    {
     "data": {
      "text/plain": [
       "16"
      ]
     },
     "execution_count": 74,
     "metadata": {},
     "output_type": "execute_result"
    }
   ],
   "source": [
    "pow(2,4) #x의 y제곱한 결괏값을 돌려준다."
   ]
  },
  {
   "cell_type": "code",
   "execution_count": null,
   "id": "bfdeab53-13b6-484f-855a-607551749901",
   "metadata": {},
   "outputs": [],
   "source": [
    "range([start]stop,[step]) #입력받은 숫자에 해당하는 범위 값을 반복가능한 객체로 돌려준다."
   ]
  },
  {
   "cell_type": "code",
   "execution_count": 76,
   "id": "b93ef99b-468e-4822-8c99-3f99607fec3f",
   "metadata": {},
   "outputs": [
    {
     "data": {
      "text/plain": [
       "[0, 1, 2, 3, 4]"
      ]
     },
     "execution_count": 76,
     "metadata": {},
     "output_type": "execute_result"
    }
   ],
   "source": [
    "list(range(5))"
   ]
  },
  {
   "cell_type": "code",
   "execution_count": 78,
   "id": "37dd507a-42f4-40aa-90c5-1a62af840356",
   "metadata": {},
   "outputs": [
    {
     "data": {
      "text/plain": [
       "[5, 6, 7, 8, 9]"
      ]
     },
     "execution_count": 78,
     "metadata": {},
     "output_type": "execute_result"
    }
   ],
   "source": [
    "list(range(5,10)) #시작 숫자와 끝 숫자"
   ]
  },
  {
   "cell_type": "code",
   "execution_count": 94,
   "id": "6817bd86-8ad8-486e-9078-58fd390c5ae6",
   "metadata": {},
   "outputs": [
    {
     "data": {
      "text/plain": [
       "[-1, -2, -3, -4, -5, -6, -7, -8, -9]"
      ]
     },
     "execution_count": 94,
     "metadata": {},
     "output_type": "execute_result"
    }
   ],
   "source": [
    "list(range(-1,-10,-1)) #세번째 인수는 숫자 사이의 거리"
   ]
  },
  {
   "cell_type": "code",
   "execution_count": 81,
   "id": "2734d327-9af3-42ab-b9b2-396cbde0a3ad",
   "metadata": {},
   "outputs": [
    {
     "data": {
      "text/plain": [
       "5"
      ]
     },
     "execution_count": 81,
     "metadata": {},
     "output_type": "execute_result"
    }
   ],
   "source": [
    "round(4.6) #반올림해주는 함수"
   ]
  },
  {
   "cell_type": "code",
   "execution_count": 102,
   "id": "1e87a74b-d447-4268-a1ec-29d2c64c2844",
   "metadata": {},
   "outputs": [
    {
     "data": {
      "text/plain": [
       "3.1416"
      ]
     },
     "execution_count": 102,
     "metadata": {},
     "output_type": "execute_result"
    }
   ],
   "source": [
    "round(3.141592, 4) #소수점 4자리까지만 반올림"
   ]
  },
  {
   "cell_type": "code",
   "execution_count": 103,
   "id": "dca991a0-8163-400b-9a15-2c15d725945d",
   "metadata": {},
   "outputs": [],
   "source": [
    "import math"
   ]
  },
  {
   "cell_type": "code",
   "execution_count": 46,
   "id": "cc5752b0-58aa-422e-9c86-246f53a5fbdd",
   "metadata": {},
   "outputs": [
    {
     "data": {
      "text/plain": [
       "4"
      ]
     },
     "execution_count": 46,
     "metadata": {},
     "output_type": "execute_result"
    }
   ],
   "source": [
    "math.ceil(3.14) #반올림"
   ]
  },
  {
   "cell_type": "code",
   "execution_count": 47,
   "id": "c06ccdc1-a2c1-450d-b466-9363c122142a",
   "metadata": {},
   "outputs": [
    {
     "data": {
      "text/plain": [
       "3"
      ]
     },
     "execution_count": 47,
     "metadata": {},
     "output_type": "execute_result"
    }
   ],
   "source": [
    "math.floor(3.14) #내림"
   ]
  },
  {
   "cell_type": "code",
   "execution_count": 112,
   "id": "f0c9426d-20c7-4932-8cba-9894fb5106fc",
   "metadata": {},
   "outputs": [
    {
     "data": {
      "text/plain": [
       "[1, 2, 3, 4]"
      ]
     },
     "execution_count": 112,
     "metadata": {},
     "output_type": "execute_result"
    }
   ],
   "source": [
    "sorted([4,3,1,2]) #정렬한 후 결과를 리스트로 돌려준다."
   ]
  },
  {
   "cell_type": "code",
   "execution_count": 111,
   "id": "99c4795d-3739-4bc3-ba2d-27cc692fbc2f",
   "metadata": {},
   "outputs": [],
   "source": [
    "li = [2,1,4,3]\n",
    "li.sort()    #리스트 자료형 sort *객체만 정렬"
   ]
  },
  {
   "cell_type": "code",
   "execution_count": 110,
   "id": "0357ff15-fbe3-4d96-8b3f-371fbb36af8f",
   "metadata": {},
   "outputs": [
    {
     "data": {
      "text/plain": [
       "[1, 2, 3, 4]"
      ]
     },
     "execution_count": 110,
     "metadata": {},
     "output_type": "execute_result"
    }
   ],
   "source": [
    "li = sorted([2,1,4,3])\n",
    "li"
   ]
  },
  {
   "cell_type": "code",
   "execution_count": 108,
   "id": "308f9103-dba4-4fab-bf98-45744b9d79e5",
   "metadata": {},
   "outputs": [
    {
     "data": {
      "text/plain": [
       "[1, 2, 3, 4]"
      ]
     },
     "execution_count": 108,
     "metadata": {},
     "output_type": "execute_result"
    }
   ],
   "source": [
    "li"
   ]
  },
  {
   "cell_type": "code",
   "execution_count": 99,
   "id": "d6b9db66-47c7-417d-9055-84ad8dde0c3e",
   "metadata": {},
   "outputs": [
    {
     "data": {
      "text/plain": [
       "'3'"
      ]
     },
     "execution_count": 99,
     "metadata": {},
     "output_type": "execute_result"
    }
   ],
   "source": [
    "str(3) #문자열로 돌려준다"
   ]
  },
  {
   "cell_type": "code",
   "execution_count": 100,
   "id": "9fdd16d4-dec2-4fee-9147-b342d03924eb",
   "metadata": {},
   "outputs": [
    {
     "data": {
      "text/plain": [
       "6"
      ]
     },
     "execution_count": 100,
     "metadata": {},
     "output_type": "execute_result"
    }
   ],
   "source": [
    "sum([1,2,3]) #합을 돌려준다."
   ]
  },
  {
   "cell_type": "code",
   "execution_count": 101,
   "id": "0b250075-3cd0-4fe0-9ef0-1920b3c16c87",
   "metadata": {},
   "outputs": [
    {
     "data": {
      "text/plain": [
       "(1, 2, 3)"
      ]
     },
     "execution_count": 101,
     "metadata": {},
     "output_type": "execute_result"
    }
   ],
   "source": [
    "tuple([1,2,3]) #튜플형태로 돌려준다."
   ]
  },
  {
   "cell_type": "code",
   "execution_count": 113,
   "id": "bfefb742-7b6e-4f37-a875-8a7d21aa64a4",
   "metadata": {},
   "outputs": [
    {
     "data": {
      "text/plain": [
       "str"
      ]
     },
     "execution_count": 113,
     "metadata": {},
     "output_type": "execute_result"
    }
   ],
   "source": [
    "type('abc') #자료형이 무엇인지 알려준다."
   ]
  },
  {
   "cell_type": "code",
   "execution_count": 117,
   "id": "6c3845da-1f03-4942-9abb-b83cc5de1a99",
   "metadata": {},
   "outputs": [
    {
     "data": {
      "text/plain": [
       "[(1, 'a', 'A'), (2, 'b', 'B'), (3, 'c', 'c'), (4, 'd', 'D')]"
      ]
     },
     "execution_count": 117,
     "metadata": {},
     "output_type": "execute_result"
    }
   ],
   "source": [
    "# enumerate, filter, map, zip\n",
    "#zip(*iterable) 동일한 개수로 이루어진 자료형을 묶어주는 함수이다.\n",
    "list(zip([1,2,3,4],['a','b','c','d'],['A','B','c','D']))"
   ]
  },
  {
   "cell_type": "code",
   "execution_count": 118,
   "id": "faa2fb8a-2b32-44f4-90ae-11dd623097a4",
   "metadata": {},
   "outputs": [
    {
     "data": {
      "text/plain": [
       "[('a', 'd'), ('b', 'e'), ('c', 'f')]"
      ]
     },
     "execution_count": 118,
     "metadata": {},
     "output_type": "execute_result"
    }
   ],
   "source": [
    "list(zip('abc','def'))"
   ]
  },
  {
   "cell_type": "code",
   "execution_count": null,
   "id": "b428601d-9d8e-4934-b676-af262d6d3128",
   "metadata": {},
   "outputs": [],
   "source": [
    "# iterable: 순환가능한, 반복가능한\n",
    "    - 리스트, 튜플, 딕셔너리, set, str(문자열), range\n",
    "    \n",
    "# mutable : 수정가능한\n",
    "    - list,\n",
    "# immutable\n",
    "    - tuple, str(문자열), int"
   ]
  },
  {
   "cell_type": "code",
   "execution_count": 120,
   "id": "ae77b7ed-e934-46a0-a6ad-885471a4ef36",
   "metadata": {},
   "outputs": [
    {
     "data": {
      "text/plain": [
       "[1, 20, 3]"
      ]
     },
     "execution_count": 120,
     "metadata": {},
     "output_type": "execute_result"
    }
   ],
   "source": [
    "li = [1,2,3]\n",
    "li[1] = 20\n",
    "li"
   ]
  },
  {
   "cell_type": "code",
   "execution_count": 122,
   "id": "f0832e2c-f5ae-4215-83e4-15000faeef41",
   "metadata": {},
   "outputs": [
    {
     "ename": "TypeError",
     "evalue": "'tuple' object does not support item assignment",
     "output_type": "error",
     "traceback": [
      "\u001b[1;31m---------------------------------------------------------------------------\u001b[0m",
      "\u001b[1;31mTypeError\u001b[0m                                 Traceback (most recent call last)",
      "Input \u001b[1;32mIn [122]\u001b[0m, in \u001b[0;36m<cell line: 2>\u001b[1;34m()\u001b[0m\n\u001b[0;32m      1\u001b[0m li \u001b[38;5;241m=\u001b[39m (\u001b[38;5;241m1\u001b[39m,\u001b[38;5;241m2\u001b[39m,\u001b[38;5;241m3\u001b[39m)\n\u001b[1;32m----> 2\u001b[0m li[\u001b[38;5;241m1\u001b[39m] \u001b[38;5;241m=\u001b[39m \u001b[38;5;241m20\u001b[39m\n\u001b[0;32m      3\u001b[0m li\n",
      "\u001b[1;31mTypeError\u001b[0m: 'tuple' object does not support item assignment"
     ]
    }
   ],
   "source": [
    "li = (1,2,3)\n",
    "li[1] = 20\n",
    "li"
   ]
  },
  {
   "cell_type": "code",
   "execution_count": 124,
   "id": "2c693f12-a751-48ce-8f4d-c18027959c11",
   "metadata": {},
   "outputs": [
    {
     "ename": "TypeError",
     "evalue": "'str' object does not support item assignment",
     "output_type": "error",
     "traceback": [
      "\u001b[1;31m---------------------------------------------------------------------------\u001b[0m",
      "\u001b[1;31mTypeError\u001b[0m                                 Traceback (most recent call last)",
      "Input \u001b[1;32mIn [124]\u001b[0m, in \u001b[0;36m<cell line: 2>\u001b[1;34m()\u001b[0m\n\u001b[0;32m      1\u001b[0m string \u001b[38;5;241m=\u001b[39m \u001b[38;5;124m\"\u001b[39m\u001b[38;5;124mHello\u001b[39m\u001b[38;5;124m\"\u001b[39m\n\u001b[1;32m----> 2\u001b[0m string[\u001b[38;5;241m1\u001b[39m] \u001b[38;5;241m=\u001b[39m \u001b[38;5;124m'\u001b[39m\u001b[38;5;124mE\u001b[39m\u001b[38;5;124m'\u001b[39m\n",
      "\u001b[1;31mTypeError\u001b[0m: 'str' object does not support item assignment"
     ]
    }
   ],
   "source": [
    "string = \"Hello\"\n",
    "string[1] = 'E'"
   ]
  },
  {
   "cell_type": "markdown",
   "id": "2e8e1429-00d8-4a47-870d-7d67700f6f68",
   "metadata": {},
   "source": [
    "# 외장함수 "
   ]
  },
  {
   "cell_type": "markdown",
   "id": "07ba25b3-f954-4454-aa91-f253aee1f312",
   "metadata": {},
   "source": [
    "- sys"
   ]
  },
  {
   "cell_type": "code",
   "execution_count": 126,
   "id": "2fd184f8-7775-4b29-bf51-7c02ee38d4d8",
   "metadata": {},
   "outputs": [
    {
     "data": {
      "text/plain": [
       "['C:\\\\Users\\\\admin\\\\python',\n",
       " 'C:\\\\Users\\\\admin\\\\anaconda3\\\\python39.zip',\n",
       " 'C:\\\\Users\\\\admin\\\\anaconda3\\\\DLLs',\n",
       " 'C:\\\\Users\\\\admin\\\\anaconda3\\\\lib',\n",
       " 'C:\\\\Users\\\\admin\\\\anaconda3',\n",
       " '',\n",
       " 'C:\\\\Users\\\\admin\\\\anaconda3\\\\lib\\\\site-packages',\n",
       " 'C:\\\\Users\\\\admin\\\\anaconda3\\\\lib\\\\site-packages\\\\win32',\n",
       " 'C:\\\\Users\\\\admin\\\\anaconda3\\\\lib\\\\site-packages\\\\win32\\\\lib',\n",
       " 'C:\\\\Users\\\\admin\\\\anaconda3\\\\lib\\\\site-packages\\\\Pythonwin']"
      ]
     },
     "execution_count": 126,
     "metadata": {},
     "output_type": "execute_result"
    }
   ],
   "source": [
    "import sys\n",
    "sys.argv\n",
    "sys.path"
   ]
  },
  {
   "cell_type": "code",
   "execution_count": null,
   "id": "b7003e4f-6538-4e40-bd37-e486b36653cf",
   "metadata": {},
   "outputs": [],
   "source": [
    "sys.path.append('c:/')"
   ]
  },
  {
   "cell_type": "markdown",
   "id": "ba50eb8e-22a3-45e1-8aae-7f6828e46b63",
   "metadata": {},
   "source": [
    "- pickle"
   ]
  },
  {
   "cell_type": "code",
   "execution_count": 137,
   "id": "25b9ded4-d9c7-4561-a628-cb0fe9a7e2f9",
   "metadata": {},
   "outputs": [],
   "source": [
    "import pickle\n",
    "data = [1,2,3]\n",
    "with open('test.pickle', mode = 'wb') as f:\n",
    "    pickle.dump(data,f)"
   ]
  },
  {
   "cell_type": "code",
   "execution_count": 138,
   "id": "c377992f-12b7-4aca-8606-e15ef34c1f12",
   "metadata": {},
   "outputs": [
    {
     "name": "stdout",
     "output_type": "stream",
     "text": [
      "[1, 2, 3]\n"
     ]
    }
   ],
   "source": [
    "with open('test.pickle', mode = 'rb') as f:\n",
    "    data = pickle.load(f)\n",
    "print(data)"
   ]
  },
  {
   "cell_type": "markdown",
   "id": "72c098d1-6546-4ed3-b97b-71609fd11709",
   "metadata": {},
   "source": [
    "- os"
   ]
  },
  {
   "cell_type": "code",
   "execution_count": 49,
   "id": "bc0baa7f-6410-4f3f-b870-6b946477321d",
   "metadata": {},
   "outputs": [],
   "source": [
    "import os"
   ]
  },
  {
   "cell_type": "code",
   "execution_count": 5,
   "id": "f44dd6d3-2de1-4043-b66e-27f71847e1a8",
   "metadata": {},
   "outputs": [
    {
     "data": {
      "text/plain": [
       "'C:\\\\Users\\\\admin\\\\python'"
      ]
     },
     "execution_count": 5,
     "metadata": {},
     "output_type": "execute_result"
    }
   ],
   "source": [
    "os.getcwd()       #디렉터리 위치를 돌려준다."
   ]
  },
  {
   "cell_type": "code",
   "execution_count": 10,
   "id": "0924c5a6-6f62-42f0-a2a7-ca24cb2d039f",
   "metadata": {},
   "outputs": [],
   "source": [
    "os.chdir(\"C:/\")    #디렉터리 위치 변경하기"
   ]
  },
  {
   "cell_type": "code",
   "execution_count": 50,
   "id": "8a604b66-9359-4698-a6b9-9465dc3d5f3f",
   "metadata": {},
   "outputs": [
    {
     "data": {
      "text/plain": [
       "'C:\\\\Users\\\\admin\\\\python'"
      ]
     },
     "execution_count": 50,
     "metadata": {},
     "output_type": "execute_result"
    }
   ],
   "source": [
    "os.getcwd()    #디렉터리 현재 위치 확인하기"
   ]
  },
  {
   "cell_type": "code",
   "execution_count": null,
   "id": "f43cf012-67c2-494a-a9ee-1892d737d00c",
   "metadata": {},
   "outputs": [],
   "source": [
    "os.mkdir()   #디렉터리를 생성한다.\n",
    "os.rmdir()   #디렉터리를 삭제한다."
   ]
  },
  {
   "cell_type": "code",
   "execution_count": null,
   "id": "618cad93-e498-4a98-a40f-ef4ecc2b470a",
   "metadata": {},
   "outputs": [],
   "source": [
    "# PY 라는 디렉토리를 만듭시다."
   ]
  },
  {
   "cell_type": "code",
   "execution_count": 29,
   "id": "ff712a79-508d-4cc0-97b7-3d799c6e6c45",
   "metadata": {},
   "outputs": [],
   "source": [
    "os.mkdir(\"PY\")"
   ]
  },
  {
   "cell_type": "code",
   "execution_count": null,
   "id": "eb455d03-fb48-48e5-838a-74691cc555ea",
   "metadata": {},
   "outputs": [],
   "source": [
    "# PY 디렉토리를 워킹디렉토리로 지정합시다."
   ]
  },
  {
   "cell_type": "code",
   "execution_count": null,
   "id": "13795d74-3c9d-4ed7-b628-ce2b3994a163",
   "metadata": {},
   "outputs": [],
   "source": [
    "os.chdir(\"C:/PY\")"
   ]
  },
  {
   "cell_type": "code",
   "execution_count": null,
   "id": "61f488d5-bf77-4779-bd0b-6a652e154334",
   "metadata": {},
   "outputs": [],
   "source": [
    "# 워킹디렉토리를 확인합시다."
   ]
  },
  {
   "cell_type": "code",
   "execution_count": 31,
   "id": "231b9e4e-1fc0-4de1-9d1a-a61389c1399c",
   "metadata": {},
   "outputs": [
    {
     "data": {
      "text/plain": [
       "'C:\\\\Users\\\\admin'"
      ]
     },
     "execution_count": 31,
     "metadata": {},
     "output_type": "execute_result"
    }
   ],
   "source": [
    "os.getcwd()"
   ]
  },
  {
   "cell_type": "code",
   "execution_count": null,
   "id": "89da7a10-4255-46ad-ab5d-53214e3ce68e",
   "metadata": {},
   "outputs": [],
   "source": [
    "# 1,2,3,4,5,....,10, 가 들어있는 number.txt를 저장합시다."
   ]
  },
  {
   "cell_type": "code",
   "execution_count": 33,
   "id": "a4e7a9cb-881e-4818-81e4-ebcc67cbd9c3",
   "metadata": {},
   "outputs": [],
   "source": [
    "with open(\"number.txt\",\"w\") as f:\n",
    "    for i in range(1,10+1):\n",
    "        f.write(f\"{i},\")"
   ]
  },
  {
   "cell_type": "code",
   "execution_count": null,
   "id": "542444e3-0812-436d-a6fc-99600c8169a9",
   "metadata": {},
   "outputs": [],
   "source": [
    "# number.txt를 지웁시다."
   ]
  },
  {
   "cell_type": "code",
   "execution_count": null,
   "id": "c6ac0bbc-a9ab-497c-bee9-9768d586ac31",
   "metadata": {},
   "outputs": [],
   "source": [
    "os.remove(\"C:/PY/number.txt\")  # os.remove() / os.unlink() 파일을 지운다."
   ]
  },
  {
   "cell_type": "code",
   "execution_count": null,
   "id": "1e619315-3a7a-4937-884f-01ee18aff4c5",
   "metadata": {},
   "outputs": [],
   "source": [
    "#워킹디렉토리를 C:/Users/admin 으로 바꿉시다."
   ]
  },
  {
   "cell_type": "code",
   "execution_count": 23,
   "id": "a9513244-ec37-45a8-966d-3b88d1492777",
   "metadata": {},
   "outputs": [],
   "source": [
    "os.chdir(\"C:/Users/admin\")"
   ]
  },
  {
   "cell_type": "code",
   "execution_count": null,
   "id": "19157650-aa5f-4781-98ac-1ae28164cf63",
   "metadata": {},
   "outputs": [],
   "source": [
    "#PY디렉토리를 지웁시다."
   ]
  },
  {
   "cell_type": "code",
   "execution_count": 24,
   "id": "20f95e57-6200-4fde-8071-b8552dfab4f8",
   "metadata": {},
   "outputs": [],
   "source": [
    "os.rmdir(\"C:/PY\")"
   ]
  },
  {
   "cell_type": "markdown",
   "id": "5be708cc-bb11-4cf8-ba89-273bb7ec3a90",
   "metadata": {},
   "source": [
    "- shutil\n",
    "\n",
    "  shutil은 파일을 복사해주는 모듈이다."
   ]
  },
  {
   "cell_type": "code",
   "execution_count": null,
   "id": "a46d5712-8810-45c8-a13c-be59852b9994",
   "metadata": {},
   "outputs": [],
   "source": [
    "# \"number.txt\"파일을 \"number1.txt\"이름으로 복사합시다."
   ]
  },
  {
   "cell_type": "code",
   "execution_count": 37,
   "id": "23ca2670-8c7a-43f5-b0ca-6edd2e0a4f0d",
   "metadata": {},
   "outputs": [
    {
     "data": {
      "text/plain": [
       "'number1.txt'"
      ]
     },
     "execution_count": 37,
     "metadata": {},
     "output_type": "execute_result"
    }
   ],
   "source": [
    "import shutil\n",
    "shutil.copy(\"number.txt\",\"number1.txt\")"
   ]
  },
  {
   "cell_type": "markdown",
   "id": "3efab351-14a4-43c7-8303-4b31970dde7f",
   "metadata": {},
   "source": [
    "- glob"
   ]
  },
  {
   "cell_type": "code",
   "execution_count": 41,
   "id": "dd3164f0-6d2b-489e-9e57-9e9877badf92",
   "metadata": {},
   "outputs": [],
   "source": [
    "import glob"
   ]
  },
  {
   "cell_type": "code",
   "execution_count": null,
   "id": "4b894df6-9b9c-4275-b54a-ce640dfc398d",
   "metadata": {
    "tags": []
   },
   "outputs": [
    {
     "data": {
      "text/plain": [
       "['C:/Users/admin\\\\3D Objects',\n",
       " 'C:/Users/admin\\\\anaconda3',\n",
       " 'C:/Users/admin\\\\AppData',\n",
       " 'C:/Users/admin\\\\Application Data',\n",
       " 'C:/Users/admin\\\\Contacts',\n",
       " 'C:/Users/admin\\\\Cookies',\n",
       " 'C:/Users/admin\\\\Desktop',\n",
       " 'C:/Users/admin\\\\Documents',\n",
       " 'C:/Users/admin\\\\Downloads',\n",
       " 'C:/Users/admin\\\\Favorites',\n",
       " 'C:/Users/admin\\\\IntelGraphicsProfiles',\n",
       " 'C:/Users/admin\\\\Links',\n",
       " 'C:/Users/admin\\\\Local Settings',\n",
       " 'C:/Users/admin\\\\Music',\n",
       " 'C:/Users/admin\\\\My Documents',\n",
       " 'C:/Users/admin\\\\NetHood',\n",
       " 'C:/Users/admin\\\\NTUSER.DAT',\n",
       " 'C:/Users/admin\\\\ntuser.dat.LOG1',\n",
       " 'C:/Users/admin\\\\ntuser.dat.LOG2',\n",
       " 'C:/Users/admin\\\\NTUSER.DAT{53b39e88-18c4-11ea-a811-000d3aa4692b}.TM.blf',\n",
       " 'C:/Users/admin\\\\NTUSER.DAT{53b39e88-18c4-11ea-a811-000d3aa4692b}.TMContainer00000000000000000001.regtrans-ms',\n",
       " 'C:/Users/admin\\\\NTUSER.DAT{53b39e88-18c4-11ea-a811-000d3aa4692b}.TMContainer00000000000000000002.regtrans-ms',\n",
       " 'C:/Users/admin\\\\ntuser.ini',\n",
       " 'C:/Users/admin\\\\number.txt',\n",
       " 'C:/Users/admin\\\\number1.txt',\n",
       " 'C:/Users/admin\\\\OneDrive',\n",
       " 'C:/Users/admin\\\\Pictures',\n",
       " 'C:/Users/admin\\\\PrintHood',\n",
       " 'C:/Users/admin\\\\PY',\n",
       " 'C:/Users/admin\\\\python',\n",
       " 'C:/Users/admin\\\\Recent',\n",
       " 'C:/Users/admin\\\\Saved Games',\n",
       " 'C:/Users/admin\\\\Searches',\n",
       " 'C:/Users/admin\\\\SendTo',\n",
       " 'C:/Users/admin\\\\Templates',\n",
       " 'C:/Users/admin\\\\thanks.txt',\n",
       " 'C:/Users/admin\\\\Videos',\n",
       " 'C:/Users/admin\\\\시작 메뉴']"
      ]
     },
     "execution_count": 45,
     "metadata": {},
     "output_type": "execute_result"
    }
   ],
   "source": [
    "glob.glob(\"C:/Users/admin/*\") #디렉터리 안의 파일들을 읽어서 돌려준다."
   ]
  },
  {
   "cell_type": "code",
   "execution_count": 44,
   "id": "f5ff403d-87a2-43c5-8037-189405131a59",
   "metadata": {},
   "outputs": [
    {
     "data": {
      "text/plain": [
       "['C:/Users/admin\\\\number.txt',\n",
       " 'C:/Users/admin\\\\number1.txt',\n",
       " 'C:/Users/admin\\\\thanks.txt']"
      ]
     },
     "execution_count": 44,
     "metadata": {},
     "output_type": "execute_result"
    }
   ],
   "source": [
    "glob.glob(\"C:/Users/admin/*.txt\")"
   ]
  },
  {
   "cell_type": "code",
   "execution_count": null,
   "id": "da7dfb07-e0cd-45a8-adde-6560ce13b4c9",
   "metadata": {},
   "outputs": [],
   "source": [
    "# C:\\ 디렉터리의 파일 중 확장자가 .py인 파일만 출력하시오."
   ]
  },
  {
   "cell_type": "code",
   "execution_count": 116,
   "id": "da7d5e6c-71d3-4bc1-8863-825132ec841c",
   "metadata": {},
   "outputs": [
    {
     "data": {
      "text/plain": [
       "[]"
      ]
     },
     "execution_count": 116,
     "metadata": {},
     "output_type": "execute_result"
    }
   ],
   "source": [
    "glob.glob(\"C:/Users/admin/*.py\")"
   ]
  },
  {
   "cell_type": "markdown",
   "id": "eca3eccb-5889-4dff-a5ab-0330e2a2482e",
   "metadata": {},
   "source": [
    "- time"
   ]
  },
  {
   "cell_type": "code",
   "execution_count": 46,
   "id": "3313486d-479f-4fd7-86d9-00fe35515669",
   "metadata": {},
   "outputs": [],
   "source": [
    "import time"
   ]
  },
  {
   "cell_type": "code",
   "execution_count": 53,
   "id": "18e647f6-05fe-4acc-aeca-e982739dd14c",
   "metadata": {},
   "outputs": [
    {
     "data": {
      "text/plain": [
       "1655862420.5160584"
      ]
     },
     "execution_count": 53,
     "metadata": {},
     "output_type": "execute_result"
    }
   ],
   "source": [
    "time.time() # UTC기준으로 지난 시간을 초단위로 현재시간을 돌려준다."
   ]
  },
  {
   "cell_type": "code",
   "execution_count": 52,
   "id": "00e259e7-fb9c-4bb3-8af3-5a9be1f48835",
   "metadata": {},
   "outputs": [
    {
     "data": {
      "text/plain": [
       "52.50705190373277"
      ]
     },
     "execution_count": 52,
     "metadata": {},
     "output_type": "execute_result"
    }
   ],
   "source": [
    "time.time()/60 /60 /24 /365"
   ]
  },
  {
   "cell_type": "code",
   "execution_count": 54,
   "id": "b243f10c-b2c6-4b18-bdd0-af626a54fb1f",
   "metadata": {},
   "outputs": [
    {
     "data": {
      "text/plain": [
       "time.struct_time(tm_year=2022, tm_mon=6, tm_mday=22, tm_hour=10, tm_min=47, tm_sec=34, tm_wday=2, tm_yday=173, tm_isdst=0)"
      ]
     },
     "execution_count": 54,
     "metadata": {},
     "output_type": "execute_result"
    }
   ],
   "source": [
    "time.localtime(time.time())"
   ]
  },
  {
   "cell_type": "code",
   "execution_count": 55,
   "id": "35387213-e618-4b2c-8bae-96c9451ad535",
   "metadata": {},
   "outputs": [
    {
     "data": {
      "text/plain": [
       "'Wed Jun 22 10:48:41 2022'"
      ]
     },
     "execution_count": 55,
     "metadata": {},
     "output_type": "execute_result"
    }
   ],
   "source": [
    "time.ctime()"
   ]
  },
  {
   "cell_type": "code",
   "execution_count": null,
   "id": "eb9a0f5b-6330-4479-9d92-0e0fbfd8d05c",
   "metadata": {},
   "outputs": [],
   "source": [
    "time.sleep(0.1)  #일정한 시간 간격을 두고 루프를 실행시킨다."
   ]
  },
  {
   "cell_type": "code",
   "execution_count": 56,
   "id": "2633d28f-4891-4c26-bc05-b800d3a0f3f5",
   "metadata": {},
   "outputs": [
    {
     "name": "stdout",
     "output_type": "stream",
     "text": [
      "0\n",
      "1\n",
      "2\n",
      "3\n",
      "4\n",
      "5\n",
      "6\n",
      "7\n",
      "8\n",
      "9\n"
     ]
    }
   ],
   "source": [
    "for i in range(10):\n",
    "    print(i)\n",
    "    time.sleep(1)"
   ]
  },
  {
   "cell_type": "code",
   "execution_count": null,
   "id": "8302476c-e8b3-4af8-8893-5df6d922fae0",
   "metadata": {},
   "outputs": [],
   "source": [
    "time.strftime('출력할 코드',time.localtime(time.time()))  #time으로 받아 str로 출력"
   ]
  },
  {
   "cell_type": "code",
   "execution_count": 59,
   "id": "1dff4e41-295d-4e4c-94d0-3c3fb7d22cee",
   "metadata": {},
   "outputs": [
    {
     "data": {
      "text/plain": [
       "'06/22/22'"
      ]
     },
     "execution_count": 59,
     "metadata": {},
     "output_type": "execute_result"
    }
   ],
   "source": [
    "time.strftime('%x',time.localtime(time.time()))  #현재 설정된 지역에 기반한 날짜 출력"
   ]
  },
  {
   "cell_type": "code",
   "execution_count": 60,
   "id": "4a37ec5a-c4e6-4e50-9030-c94a9597f8cb",
   "metadata": {},
   "outputs": [
    {
     "data": {
      "text/plain": [
       "'Wed Jun 22 11:13:00 2022'"
      ]
     },
     "execution_count": 60,
     "metadata": {},
     "output_type": "execute_result"
    }
   ],
   "source": [
    "time.strftime('%c',time.localtime(time.time()))  #날짜와 시간을 출력함"
   ]
  },
  {
   "cell_type": "code",
   "execution_count": 66,
   "id": "165933ea-641d-4b0b-9b74-8c813f92a408",
   "metadata": {},
   "outputs": [
    {
     "data": {
      "text/plain": [
       "'2022년 Jun 22일 11시 17분 59초'"
      ]
     },
     "execution_count": 66,
     "metadata": {},
     "output_type": "execute_result"
    }
   ],
   "source": [
    "time.strftime('%Y년 %b %d일 %I시 %M분 %S초',time.localtime(time.time()))  # Y:연도 b:달 d:날 I:시간 M:분 S:초"
   ]
  },
  {
   "cell_type": "code",
   "execution_count": 118,
   "id": "a1b33c38-0306-4194-a197-10c20ea99ad2",
   "metadata": {},
   "outputs": [],
   "source": [
    "#2022/06/22 11:52:14 현재 시간을 다음과 같은 형식으로 출력하시오."
   ]
  },
  {
   "cell_type": "code",
   "execution_count": 117,
   "id": "e54a7304-021e-41f7-b7ce-0f38770cf104",
   "metadata": {},
   "outputs": [
    {
     "data": {
      "text/plain": [
       "'2022/06/22 11:52:14'"
      ]
     },
     "execution_count": 117,
     "metadata": {},
     "output_type": "execute_result"
    }
   ],
   "source": [
    "time.strftime(\"%Y/%m/%d %I:%M:%S\",time.localtime(time.time()))"
   ]
  },
  {
   "cell_type": "markdown",
   "id": "810c700a-988d-44ae-b539-c45da334ee19",
   "metadata": {},
   "source": [
    "- calendar"
   ]
  },
  {
   "cell_type": "code",
   "execution_count": 67,
   "id": "559144c1-cc77-43e2-9d29-5108213ab0e7",
   "metadata": {},
   "outputs": [],
   "source": [
    "import calendar"
   ]
  },
  {
   "cell_type": "code",
   "execution_count": 74,
   "id": "20cb0d78-9801-4e8b-8487-ab98c982c7e1",
   "metadata": {},
   "outputs": [
    {
     "name": "stdout",
     "output_type": "stream",
     "text": [
      "                                  2015\n",
      "\n",
      "      January                   February                   March\n",
      "Mo Tu We Th Fr Sa Su      Mo Tu We Th Fr Sa Su      Mo Tu We Th Fr Sa Su\n",
      "          1  2  3  4                         1                         1\n",
      " 5  6  7  8  9 10 11       2  3  4  5  6  7  8       2  3  4  5  6  7  8\n",
      "12 13 14 15 16 17 18       9 10 11 12 13 14 15       9 10 11 12 13 14 15\n",
      "19 20 21 22 23 24 25      16 17 18 19 20 21 22      16 17 18 19 20 21 22\n",
      "26 27 28 29 30 31         23 24 25 26 27 28         23 24 25 26 27 28 29\n",
      "                                                    30 31\n",
      "\n",
      "       April                      May                       June\n",
      "Mo Tu We Th Fr Sa Su      Mo Tu We Th Fr Sa Su      Mo Tu We Th Fr Sa Su\n",
      "       1  2  3  4  5                   1  2  3       1  2  3  4  5  6  7\n",
      " 6  7  8  9 10 11 12       4  5  6  7  8  9 10       8  9 10 11 12 13 14\n",
      "13 14 15 16 17 18 19      11 12 13 14 15 16 17      15 16 17 18 19 20 21\n",
      "20 21 22 23 24 25 26      18 19 20 21 22 23 24      22 23 24 25 26 27 28\n",
      "27 28 29 30               25 26 27 28 29 30 31      29 30\n",
      "\n",
      "        July                     August                  September\n",
      "Mo Tu We Th Fr Sa Su      Mo Tu We Th Fr Sa Su      Mo Tu We Th Fr Sa Su\n",
      "       1  2  3  4  5                      1  2          1  2  3  4  5  6\n",
      " 6  7  8  9 10 11 12       3  4  5  6  7  8  9       7  8  9 10 11 12 13\n",
      "13 14 15 16 17 18 19      10 11 12 13 14 15 16      14 15 16 17 18 19 20\n",
      "20 21 22 23 24 25 26      17 18 19 20 21 22 23      21 22 23 24 25 26 27\n",
      "27 28 29 30 31            24 25 26 27 28 29 30      28 29 30\n",
      "                          31\n",
      "\n",
      "      October                   November                  December\n",
      "Mo Tu We Th Fr Sa Su      Mo Tu We Th Fr Sa Su      Mo Tu We Th Fr Sa Su\n",
      "          1  2  3  4                         1          1  2  3  4  5  6\n",
      " 5  6  7  8  9 10 11       2  3  4  5  6  7  8       7  8  9 10 11 12 13\n",
      "12 13 14 15 16 17 18       9 10 11 12 13 14 15      14 15 16 17 18 19 20\n",
      "19 20 21 22 23 24 25      16 17 18 19 20 21 22      21 22 23 24 25 26 27\n",
      "26 27 28 29 30 31         23 24 25 26 27 28 29      28 29 30 31\n",
      "                          30\n",
      "\n"
     ]
    }
   ],
   "source": [
    "print(calendar.calendar(2015)) # 그 해의 전체달력을 보여준다."
   ]
  },
  {
   "cell_type": "code",
   "execution_count": 73,
   "id": "e55ae9f9-e7cb-4276-90d7-7ee745493ea5",
   "metadata": {},
   "outputs": [
    {
     "name": "stdout",
     "output_type": "stream",
     "text": [
      "     June 2022\n",
      "Mo Tu We Th Fr Sa Su\n",
      "       1  2  3  4  5\n",
      " 6  7  8  9 10 11 12\n",
      "13 14 15 16 17 18 19\n",
      "20 21 22 23 24 25 26\n",
      "27 28 29 30\n",
      "None\n"
     ]
    }
   ],
   "source": [
    "print(calendar.prmonth(2022,6))"
   ]
  },
  {
   "cell_type": "code",
   "execution_count": 77,
   "id": "2e5bdfc9-d125-4ae0-8b2c-fd5769604eb0",
   "metadata": {},
   "outputs": [
    {
     "data": {
      "text/plain": [
       "2"
      ]
     },
     "execution_count": 77,
     "metadata": {},
     "output_type": "execute_result"
    }
   ],
   "source": [
    "calendar.weekday(2022,6,22)  #요일 정보를 돌려준다. 월0 ~ 일6"
   ]
  },
  {
   "cell_type": "markdown",
   "id": "48f48575-15ec-41bf-91e3-e5b8fd85c5e2",
   "metadata": {},
   "source": [
    "- random"
   ]
  },
  {
   "cell_type": "code",
   "execution_count": 78,
   "id": "f1b59de1-7ab2-47a0-8637-a3c59bbf5e75",
   "metadata": {},
   "outputs": [],
   "source": [
    "import random"
   ]
  },
  {
   "cell_type": "code",
   "execution_count": 83,
   "id": "7f6e0074-63e2-4ebf-94ef-bff292e5177f",
   "metadata": {},
   "outputs": [
    {
     "data": {
      "text/plain": [
       "\u001b[1;31mSignature:\u001b[0m \u001b[0mrandom\u001b[0m\u001b[1;33m.\u001b[0m\u001b[0mrandom\u001b[0m\u001b[1;33m(\u001b[0m\u001b[1;33m)\u001b[0m\u001b[1;33m\u001b[0m\u001b[1;33m\u001b[0m\u001b[0m\n",
       "\u001b[1;31mDocstring:\u001b[0m random() -> x in the interval [0, 1).\n",
       "\u001b[1;31mType:\u001b[0m      builtin_function_or_method\n"
      ]
     },
     "metadata": {},
     "output_type": "display_data"
    }
   ],
   "source": [
    "random.random?"
   ]
  },
  {
   "cell_type": "code",
   "execution_count": 82,
   "id": "c47866c7-5ed7-4090-9c4f-ea2dcfd6e2c6",
   "metadata": {},
   "outputs": [
    {
     "data": {
      "text/plain": [
       "0.568432493711449"
      ]
     },
     "execution_count": 82,
     "metadata": {},
     "output_type": "execute_result"
    }
   ],
   "source": [
    "random.random()  #0 ~ 1의 1개의 랜덤값을 돌려준다."
   ]
  },
  {
   "cell_type": "code",
   "execution_count": 103,
   "id": "16200266-0e8c-4e23-9463-a79ba4916dd7",
   "metadata": {},
   "outputs": [
    {
     "data": {
      "text/plain": [
       "\u001b[1;31mSignature:\u001b[0m \u001b[0mrandom\u001b[0m\u001b[1;33m.\u001b[0m\u001b[0muniform\u001b[0m\u001b[1;33m(\u001b[0m\u001b[0ma\u001b[0m\u001b[1;33m,\u001b[0m \u001b[0mb\u001b[0m\u001b[1;33m)\u001b[0m\u001b[1;33m\u001b[0m\u001b[1;33m\u001b[0m\u001b[0m\n",
       "\u001b[1;31mDocstring:\u001b[0m Get a random number in the range [a, b) or [a, b] depending on rounding.\n",
       "\u001b[1;31mFile:\u001b[0m      c:\\users\\admin\\anaconda3\\lib\\random.py\n",
       "\u001b[1;31mType:\u001b[0m      method\n"
      ]
     },
     "metadata": {},
     "output_type": "display_data"
    }
   ],
   "source": [
    "random.uniform?"
   ]
  },
  {
   "cell_type": "code",
   "execution_count": 106,
   "id": "00c22191-4b46-4a93-b2c6-3b5491ce050a",
   "metadata": {},
   "outputs": [
    {
     "data": {
      "text/plain": [
       "1.5514427570900102"
      ]
     },
     "execution_count": 106,
     "metadata": {},
     "output_type": "execute_result"
    }
   ],
   "source": [
    "random.uniform(1,2) # 1~2 범위를 지정해줄 수 있다."
   ]
  },
  {
   "cell_type": "code",
   "execution_count": 84,
   "id": "458933b0-3556-42ad-b7f0-f5a58cb7f465",
   "metadata": {},
   "outputs": [
    {
     "data": {
      "text/plain": [
       "\u001b[1;31mSignature:\u001b[0m \u001b[0mrandom\u001b[0m\u001b[1;33m.\u001b[0m\u001b[0mrandint\u001b[0m\u001b[1;33m(\u001b[0m\u001b[0ma\u001b[0m\u001b[1;33m,\u001b[0m \u001b[0mb\u001b[0m\u001b[1;33m)\u001b[0m\u001b[1;33m\u001b[0m\u001b[1;33m\u001b[0m\u001b[0m\n",
       "\u001b[1;31mDocstring:\u001b[0m\n",
       "Return random integer in range [a, b], including both end points.\n",
       "        \n",
       "\u001b[1;31mFile:\u001b[0m      c:\\users\\admin\\anaconda3\\lib\\random.py\n",
       "\u001b[1;31mType:\u001b[0m      method\n"
      ]
     },
     "metadata": {},
     "output_type": "display_data"
    }
   ],
   "source": [
    "random.randint?"
   ]
  },
  {
   "cell_type": "code",
   "execution_count": 108,
   "id": "90cacd66-e1ca-40e7-84b0-fd9e3a8d58e4",
   "metadata": {},
   "outputs": [
    {
     "data": {
      "text/plain": [
       "5"
      ]
     },
     "execution_count": 108,
     "metadata": {},
     "output_type": "execute_result"
    }
   ],
   "source": [
    "random.randint(1,55) # 1 ~ 55 1개의 정수 랜덤값을 돌려준다."
   ]
  },
  {
   "cell_type": "code",
   "execution_count": 91,
   "id": "fbf03721-a1aa-40cf-975f-3b66bb4188f3",
   "metadata": {},
   "outputs": [],
   "source": [
    "# 1~10 5개의 랜덤값을 출력하시오"
   ]
  },
  {
   "cell_type": "code",
   "execution_count": 90,
   "id": "2e5a9c28-a3fc-4d0d-a375-ae11c38593fc",
   "metadata": {},
   "outputs": [
    {
     "data": {
      "text/plain": [
       "[4, 8, 10, 4, 2]"
      ]
     },
     "execution_count": 90,
     "metadata": {},
     "output_type": "execute_result"
    }
   ],
   "source": [
    "li=[]\n",
    "for i in range(5):\n",
    "    li.append(random.randint(1,10))\n",
    "li"
   ]
  },
  {
   "cell_type": "code",
   "execution_count": 92,
   "id": "a15b58ff-23b2-4508-b223-1814666cb4cb",
   "metadata": {},
   "outputs": [
    {
     "data": {
      "text/plain": [
       "[4, 9, 7, 1, 7]"
      ]
     },
     "execution_count": 92,
     "metadata": {},
     "output_type": "execute_result"
    }
   ],
   "source": [
    "[random.randint(1,10) for i in range(5)]"
   ]
  },
  {
   "cell_type": "code",
   "execution_count": 98,
   "id": "40d14dd2-5241-488f-80a3-69001d9aa142",
   "metadata": {},
   "outputs": [
    {
     "data": {
      "text/plain": [
       "\u001b[1;31mSignature:\u001b[0m \u001b[0mrandom\u001b[0m\u001b[1;33m.\u001b[0m\u001b[0mchoice\u001b[0m\u001b[1;33m(\u001b[0m\u001b[0mseq\u001b[0m\u001b[1;33m)\u001b[0m\u001b[1;33m\u001b[0m\u001b[1;33m\u001b[0m\u001b[0m\n",
       "\u001b[1;31mDocstring:\u001b[0m Choose a random element from a non-empty sequence.\n",
       "\u001b[1;31mFile:\u001b[0m      c:\\users\\admin\\anaconda3\\lib\\random.py\n",
       "\u001b[1;31mType:\u001b[0m      method\n"
      ]
     },
     "metadata": {},
     "output_type": "display_data"
    }
   ],
   "source": [
    "random.choice?"
   ]
  },
  {
   "cell_type": "code",
   "execution_count": 99,
   "id": "f3e0fe71-3135-4b41-95be-cb6bb3849386",
   "metadata": {},
   "outputs": [
    {
     "data": {
      "text/plain": [
       "4"
      ]
     },
     "execution_count": 99,
     "metadata": {},
     "output_type": "execute_result"
    }
   ],
   "source": [
    "random.choice([1,2,3,4])  #입력받은 리스트에서 무작위로 하나를 돌려준다."
   ]
  },
  {
   "cell_type": "code",
   "execution_count": 102,
   "id": "8780644a-ce4a-4fdd-80ee-78c18f4aafb5",
   "metadata": {},
   "outputs": [
    {
     "data": {
      "text/plain": [
       "[2, 3, 4, 5, 1]"
      ]
     },
     "execution_count": 102,
     "metadata": {},
     "output_type": "execute_result"
    }
   ],
   "source": [
    "data = [1,2,3,4,5]\n",
    "random.shuffle(data)  #리스트를 무작위로 섞어서 돌려준다.\n",
    "data"
   ]
  },
  {
   "cell_type": "code",
   "execution_count": 109,
   "id": "d7c0b432-de99-4d64-ad25-18a2afc71e80",
   "metadata": {},
   "outputs": [],
   "source": [
    "random.seed(3)"
   ]
  },
  {
   "cell_type": "code",
   "execution_count": 111,
   "id": "51ffa143-4fe4-4457-b85f-6d48edeea7c0",
   "metadata": {},
   "outputs": [
    {
     "data": {
      "text/plain": [
       "5"
      ]
     },
     "execution_count": 111,
     "metadata": {},
     "output_type": "execute_result"
    }
   ],
   "source": [
    "random.randint(1,5)"
   ]
  },
  {
   "cell_type": "markdown",
   "id": "bc63bc64-cf8b-4613-bd55-73b60b6bdc21",
   "metadata": {},
   "source": [
    "- webbrowser"
   ]
  },
  {
   "cell_type": "code",
   "execution_count": 113,
   "id": "0d59c19b-3705-4be6-a865-2a16d52cd2ba",
   "metadata": {},
   "outputs": [],
   "source": [
    "import webbrowser"
   ]
  },
  {
   "cell_type": "code",
   "execution_count": 115,
   "id": "fdc531af-2712-4f75-a4b8-82e376cd8067",
   "metadata": {},
   "outputs": [
    {
     "data": {
      "text/plain": [
       "True"
      ]
     },
     "execution_count": 115,
     "metadata": {},
     "output_type": "execute_result"
    }
   ],
   "source": [
    "webbrowser.open(\"https://naver.com\")"
   ]
  },
  {
   "cell_type": "markdown",
   "id": "bfe62e7b-008f-4688-94ed-2bfb756110aa",
   "metadata": {},
   "source": [
    "- threading\n",
    "\n",
    "    2가지 또는 그 이상이의 일을 동시에 수행할 수 있다."
   ]
  },
  {
   "cell_type": "code",
   "execution_count": 120,
   "id": "d17dfe59-b830-443e-9813-67e6693986f2",
   "metadata": {},
   "outputs": [
    {
     "name": "stdout",
     "output_type": "stream",
     "text": [
      "Start\n",
      "working:0    \n",
      "\n",
      "working:1    \n",
      "\n",
      "working:2    \n",
      "\n",
      "working:3    \n",
      "\n",
      "working:4    \n",
      "\n",
      "working:0    \n",
      "\n",
      "working:1    \n",
      "\n",
      "working:2    \n",
      "\n",
      "working:3    \n",
      "\n",
      "working:4    \n",
      "\n",
      "working:0    \n",
      "\n",
      "working:1    \n",
      "\n",
      "working:2    \n",
      "\n",
      "working:3    \n",
      "\n",
      "working:4    \n",
      "\n",
      "working:0    \n",
      "\n",
      "working:1    \n",
      "\n",
      "working:2    \n",
      "\n",
      "working:3    \n",
      "\n",
      "working:4    \n",
      "\n",
      "working:0    \n",
      "\n",
      "working:1    \n",
      "\n",
      "working:2    \n",
      "\n",
      "working:3    \n",
      "\n",
      "working:4    \n",
      "\n",
      "End\n"
     ]
    }
   ],
   "source": [
    "#5초가 5번 반복, 5초의 시간이 걸리는 long_task 함수를 동시에 실행\n",
    "\n",
    "def long_task():       #5초의 시간이 걸리는 함수\n",
    "    for i in range(5):\n",
    "        time.sleep(1)  #1초간 대기한다.\n",
    "        print(\"working:%s    \\n\" %i)\n",
    "print(\"Start\")\n",
    "\n",
    "for i in range(5):    #long_task를 5회 수행한다.\n",
    "    long_task()\n",
    "\n",
    "print(\"End\")"
   ]
  },
  {
   "cell_type": "code",
   "execution_count": 127,
   "id": "1c962bd6-bbb9-45be-ac48-2af78346aa4c",
   "metadata": {},
   "outputs": [
    {
     "name": "stdout",
     "output_type": "stream",
     "text": [
      "Start\n",
      "End\n",
      "working: 0\n",
      "working: 0\n",
      "working: 0\n",
      "\n",
      "\n",
      "\n",
      "working: 0\n",
      "\n",
      "working: 0\n",
      "\n",
      "working: 1\n",
      "\n",
      "working: 1\n",
      "\n",
      "working: 1\n",
      "\n",
      "working: 1\n",
      "\n",
      "working: 1\n",
      "\n",
      "working: 2\n",
      "working: 2\n",
      "\n",
      "\n",
      "working: 2\n",
      "\n",
      "working: 2\n",
      "working: 2\n",
      "\n",
      "\n",
      "working: 3\n",
      "working: 3\n",
      "\n",
      "\n",
      "working: 3\n",
      "\n",
      "working: 3\n",
      "\n",
      "working: 3\n",
      "\n",
      "working: 4\n",
      "\n",
      "working: 4\n",
      "\n",
      "working: 4\n",
      "\n",
      "working: 4\n",
      "\n",
      "working: 4\n",
      "\n"
     ]
    }
   ],
   "source": [
    "import threading\n",
    "\n",
    "def long_task():       \n",
    "    for i in range(5):\n",
    "        time.sleep(1)\n",
    "        print(\"working: %s\\n\" %i)\n",
    "print(\"Start\")\n",
    "\n",
    "threads = []\n",
    "for i in range(5):\n",
    "    t = threading.Thread(target=long_task)   #스레드를 생성한다.\n",
    "    threads.append(t)\n",
    "\n",
    "for t in threads:\n",
    "    t.start()      #스레드를 실행한다.\n",
    "\n",
    "print(\"End\")"
   ]
  },
  {
   "cell_type": "code",
   "execution_count": 129,
   "id": "6c7bb01e-ef40-41ae-943b-4fd39734a574",
   "metadata": {},
   "outputs": [
    {
     "name": "stdout",
     "output_type": "stream",
     "text": [
      "Start\n",
      "working: 0\n",
      "\n",
      "working: 0\n",
      "\n",
      "working: 0\n",
      "\n",
      "working: 0\n",
      "\n",
      "working: 0\n",
      "\n",
      "working: 1\n",
      "\n",
      "working: 1\n",
      "\n",
      "working: 1\n",
      "\n",
      "working: 1\n",
      "working: 1\n",
      "\n",
      "\n",
      "working: 2\n",
      "working: 2\n",
      "working: 2\n",
      "\n",
      "\n",
      "working: 2\n",
      "\n",
      "\n",
      "working: 2\n",
      "\n",
      "working: 3\n",
      "working: 3\n",
      "\n",
      "working: 3\n",
      "working: 3\n",
      "\n",
      "\n",
      "working: 3\n",
      "\n",
      "\n",
      "working: 4\n",
      "\n",
      "working: 4\n",
      "working: 4\n",
      "\n",
      "working: 4\n",
      "working: 4\n",
      "\n",
      "\n",
      "\n",
      "End\n"
     ]
    }
   ],
   "source": [
    "import threading\n",
    "\n",
    "def long_task():       \n",
    "    for i in range(5):\n",
    "        time.sleep(1)\n",
    "        print(\"working: %s\\n\" %i)\n",
    "print(\"Start\")\n",
    "\n",
    "threads = []\n",
    "for i in range(5):\n",
    "    t = threading.Thread(target=long_task)   #스레드를 생성한다.\n",
    "    threads.append(t)\n",
    "\n",
    "for t in threads:\n",
    "    t.start()      #스레드를 실행한다.\n",
    "for t in threads:\n",
    "    t.join()      #join으로 스레드가 종료될 때까지 기다린다.\n",
    "\n",
    "print(\"End\")"
   ]
  },
  {
   "cell_type": "markdown",
   "id": "b0936726-adc6-4d4c-8e8a-fa935fe9a725",
   "metadata": {},
   "source": [
    "# 파이썬 실력키우기"
   ]
  },
  {
   "cell_type": "markdown",
   "id": "d96acb0d-8aad-463f-b94b-9cd9750d2283",
   "metadata": {},
   "source": [
    "- 구구단에서 입력받은 한 개의 단만 출력하는 함수를 만들어 봅시다."
   ]
  },
  {
   "cell_type": "code",
   "execution_count": 132,
   "id": "fc887e15-0b79-4b12-8934-a406021569f3",
   "metadata": {},
   "outputs": [
    {
     "name": "stdout",
     "output_type": "stream",
     "text": [
      "2 X 1 = 2\n",
      "2 X 2 = 4\n",
      "2 X 3 = 6\n",
      "2 X 4 = 8\n",
      "2 X 5 = 10\n",
      "2 X 6 = 12\n",
      "2 X 7 = 14\n",
      "2 X 8 = 16\n",
      "2 X 9 = 18\n"
     ]
    }
   ],
   "source": [
    "def gugu(n):\n",
    "    for i in range(1,10):\n",
    "        print(f\"{n} X {i} = {n*i}\")\n",
    "gugu(2)"
   ]
  },
  {
   "cell_type": "code",
   "execution_count": 137,
   "id": "5eb6cb7a-e14a-4842-a7c3-08fc45d84ca9",
   "metadata": {},
   "outputs": [
    {
     "data": {
      "text/plain": [
       "[2, 4, 6, 8, 10, 12, 14, 16, 18]"
      ]
     },
     "execution_count": 137,
     "metadata": {},
     "output_type": "execute_result"
    }
   ],
   "source": [
    "def gugu(n):\n",
    "    li = []    \n",
    "    for i in range(1,10):\n",
    "        li.append(n*i)\n",
    "    return li\n",
    "\n",
    "gugu(2)"
   ]
  },
  {
   "cell_type": "code",
   "execution_count": null,
   "id": "1a61da62-719f-4428-87d9-1f68b93c6045",
   "metadata": {},
   "outputs": [],
   "source": [
    "# 3과 5의 배수 합하기"
   ]
  },
  {
   "cell_type": "code",
   "execution_count": 147,
   "id": "471abe56-914b-49b5-ab0a-db0446d9de52",
   "metadata": {},
   "outputs": [
    {
     "data": {
      "text/plain": [
       "2418"
      ]
     },
     "execution_count": 147,
     "metadata": {},
     "output_type": "execute_result"
    }
   ],
   "source": [
    "def multi(n):\n",
    "    sum = 0\n",
    "    for i in range(n + 1):\n",
    "        if i % 3 == 0 or i % 5 == 0:\n",
    "            sum += i\n",
    "    return sum\n",
    "\n",
    "multi(100) "
   ]
  },
  {
   "cell_type": "code",
   "execution_count": 148,
   "id": "a1d2724f-93b2-40fc-a6ee-318b50e179b4",
   "metadata": {},
   "outputs": [
    {
     "data": {
      "text/plain": [
       "2418"
      ]
     },
     "execution_count": 148,
     "metadata": {},
     "output_type": "execute_result"
    }
   ],
   "source": [
    "def multi(n):\n",
    "    sum = 0\n",
    "    for i in range(n + 1):\n",
    "        if i % 3 == 0:\n",
    "            sum += i\n",
    "        elif i % 5 == 0:\n",
    "            sum += i\n",
    "    return sum\n",
    "\n",
    "multi(100) "
   ]
  },
  {
   "cell_type": "code",
   "execution_count": 145,
   "id": "113b3d4e-5f63-4e06-aad2-a85064a769ec",
   "metadata": {},
   "outputs": [
    {
     "name": "stdin",
     "output_type": "stream",
     "text": [
      " 100\n"
     ]
    },
    {
     "name": "stdout",
     "output_type": "stream",
     "text": [
      "2418\n"
     ]
    }
   ],
   "source": [
    "def multi():\n",
    "\n",
    "    n = int(input())\n",
    "    sum = 0\n",
    "    for i in range(n + 1):\n",
    "    \n",
    "        if i % 3 == 0 or i % 5 == 0:\n",
    "            sum += i\n",
    "    print(sum)\n",
    "multi() "
   ]
  },
  {
   "cell_type": "code",
   "execution_count": 141,
   "id": "4503e352-339d-4694-abbf-49c86a6f1a89",
   "metadata": {},
   "outputs": [
    {
     "name": "stdin",
     "output_type": "stream",
     "text": [
      " 100\n"
     ]
    },
    {
     "name": "stdout",
     "output_type": "stream",
     "text": [
      "2418\n"
     ]
    }
   ],
   "source": [
    "n = int(input())\n",
    "sum = 0\n",
    "for i in range(n + 1):\n",
    "    \n",
    "    if i % 3 == 0 or i % 5 == 0:\n",
    "        sum += i\n",
    "print(sum) "
   ]
  },
  {
   "cell_type": "markdown",
   "id": "6d67715e-9220-4d4f-a486-c63fc5048e21",
   "metadata": {},
   "source": [
    "- 게시물의 총 건수와 한 페이지에 보여줄 게시물 수를 입력으로 주었을 때 총 페이지수 구하기"
   ]
  },
  {
   "cell_type": "code",
   "execution_count": 150,
   "id": "d1d0d162-ea16-4c3f-8581-65a16c7453cd",
   "metadata": {},
   "outputs": [
    {
     "data": {
      "text/plain": [
       "3"
      ]
     },
     "execution_count": 150,
     "metadata": {},
     "output_type": "execute_result"
    }
   ],
   "source": [
    "'''\n",
    "page()\n",
    "page(12) ->2\n",
    "page(25) ->3\n",
    "page(30) ->3\n",
    "'''\n",
    "def page(n):\n",
    "    result = (n-1) // 10\n",
    "    return result +1\n",
    "\n",
    "page(30)"
   ]
  },
  {
   "cell_type": "code",
   "execution_count": 151,
   "id": "3a3d345e-42f0-4e61-915a-c26d25abdffc",
   "metadata": {},
   "outputs": [
    {
     "data": {
      "text/plain": [
       "2"
      ]
     },
     "execution_count": 151,
     "metadata": {},
     "output_type": "execute_result"
    }
   ],
   "source": [
    "def page(m,n):\n",
    "    result = (m-1) // n\n",
    "    return result +1\n",
    "\n",
    "page(29,15)"
   ]
  },
  {
   "cell_type": "markdown",
   "id": "d21eccc0-e531-4aaa-8ee2-bb3b6252c0a6",
   "metadata": {},
   "source": [
    "- 메모장 만들기"
   ]
  },
  {
   "cell_type": "code",
   "execution_count": null,
   "id": "a083938a-72c9-47ff-985d-dc126ff320e9",
   "metadata": {},
   "outputs": [],
   "source": [
    "import sys\n",
    "with open (\"test.txt\" , mode = \"w\") as f:\n",
    "    line = sys.argv[1]\n",
    "    f.write(line)\n",
    "    f.write(\"\\n\")\n",
    "    \n",
    "    line = sys.argv[2]\n",
    "    f.write(line)"
   ]
  },
  {
   "cell_type": "code",
   "execution_count": null,
   "id": "c109c963-e1bb-4c14-a852-2687e0864ff8",
   "metadata": {},
   "outputs": [],
   "source": [
    "import sys\n",
    "arg = sys.argv[1]\n",
    "if \"-a\" == arg:\n",
    "    with open('test.txt','a') as f:\n",
    "        arg = sys.argv[2]\n",
    "        f.write(arg)\n",
    "        f.write(\"\\\\n\")\n",
    "        arg = sys.argv[3]\n",
    "        f.write(arg)\n",
    "    \n",
    "else:\n",
    "    with open('test.txt','w') as f:\n",
    "        arg = sys.argv[1]\n",
    "        f.write(arg)\n",
    "        f.write(\"\\\\n\")\n",
    "        arg = sys.argv[2]\n",
    "        f.write(arg) "
   ]
  },
  {
   "cell_type": "code",
   "execution_count": null,
   "id": "8a99c3fe-6e00-4bcf-bedb-968e7be73942",
   "metadata": {},
   "outputs": [],
   "source": [
    "import sys\n",
    "\n",
    "args = sys.argv[1:]\n",
    "option = args[0]\n",
    "memo = args[1:]\n",
    "\n",
    "filename = \"test.txt\"\n",
    "\n",
    "if option == '-a':\n",
    "    with open(filename,\"a\") as f:\n",
    "        f.write('\\n'.join(memo) + \"\\n\")\n",
    "else:\n",
    "    with open(filename,\"w\") as f:\n",
    "        f.write('\\n'.join(memo) + \"\\n\") "
   ]
  },
  {
   "cell_type": "markdown",
   "id": "ea69fc3b-d897-48dd-8d57-4441f073532e",
   "metadata": {},
   "source": [
    "- 탭을 4개의 공백으로 바꾸기"
   ]
  },
  {
   "cell_type": "code",
   "execution_count": 64,
   "id": "325c45fe-fc8b-434b-9819-f724e9f1f112",
   "metadata": {},
   "outputs": [],
   "source": [
    "import os"
   ]
  },
  {
   "cell_type": "code",
   "execution_count": 65,
   "id": "3566d583-78e6-4ede-b408-50b9f50ad507",
   "metadata": {},
   "outputs": [
    {
     "data": {
      "text/plain": [
       "'C:\\\\Users\\\\admin\\\\python'"
      ]
     },
     "execution_count": 65,
     "metadata": {},
     "output_type": "execute_result"
    }
   ],
   "source": [
    "os.getcwd()"
   ]
  },
  {
   "cell_type": "code",
   "execution_count": 66,
   "id": "fe1edacf-8813-4119-a4f5-a518eef6142d",
   "metadata": {},
   "outputs": [],
   "source": [
    "import glob"
   ]
  },
  {
   "cell_type": "code",
   "execution_count": 67,
   "id": "a6d37b0d-34ca-4248-984b-872a6fd1a6e5",
   "metadata": {},
   "outputs": [
    {
     "data": {
      "text/plain": [
       "['a.txt', 'test.txt']"
      ]
     },
     "execution_count": 67,
     "metadata": {},
     "output_type": "execute_result"
    }
   ],
   "source": [
    "glob.glob('*.txt')"
   ]
  },
  {
   "cell_type": "code",
   "execution_count": 68,
   "id": "e46a687f-1ce5-4541-b2d9-d263bb9981a1",
   "metadata": {},
   "outputs": [
    {
     "name": "stdout",
     "output_type": "stream",
     "text": [
      "Life\tis\ttoo\tshort\n",
      "You\tneed\tpython\n"
     ]
    }
   ],
   "source": [
    "f = open(\"a.txt\", \"r\")\n",
    "data = f.read()\n",
    "print(data)"
   ]
  },
  {
   "cell_type": "code",
   "execution_count": 77,
   "id": "61c25d00-1a65-4133-99b2-4a9fa4b9152e",
   "metadata": {},
   "outputs": [],
   "source": [
    "with open ('a.txt','r') as f:\n",
    "    a = f.readlines()\n",
    "    for i in a:\n",
    "        print(i, end =\"\") "
   ]
  },
  {
   "cell_type": "code",
   "execution_count": 78,
   "id": "af084525-eafc-46ff-a271-0944b784aff5",
   "metadata": {},
   "outputs": [
    {
     "name": "stdout",
     "output_type": "stream",
     "text": [
      "\n"
     ]
    }
   ],
   "source": [
    "with open('a.txt', 'r') as f:\n",
    "    data = f.read()\n",
    "print(data) "
   ]
  },
  {
   "cell_type": "code",
   "execution_count": null,
   "id": "cb63ade5-6550-4c17-a630-298836c09183",
   "metadata": {},
   "outputs": [],
   "source": [
    "import sys\n",
    "\n",
    "\n",
    "#src = sys.arg[1]\n",
    "#dst = sys.argv[2]\n",
    "\n",
    "src = \"a.txt\"\n",
    "dst = \"b.txt\"\n",
    "\n",
    "with open(\"a.txt\",mode=\"r\") as f.\n",
    "    lines=f.readlines()\n",
    "    with open(\"b.txt\",\"w\") as fw:\n",
    "        for line in lines:\n",
    "            a =line.replace(\"\\t\",\" \"*4)\n",
    "        fw.write(a)\n"
   ]
  },
  {
   "cell_type": "code",
   "execution_count": null,
   "id": "b4013c92-0e0d-4c2f-b3b9-7945b5187e83",
   "metadata": {},
   "outputs": [],
   "source": [
    "import sys\n",
    "\n",
    "\n",
    "src = sys.argv[1]\n",
    "dst = sys.argv[2]\n",
    "\n",
    "\n",
    "with open(src,mode=\"r\") as f:\n",
    "    lines=f.readlines()\n",
    "    with open(dst,\"w\") as fw:\n",
    "        for line in lines:\n",
    "            a =line.replace(\"\\t\",\"    \")\n",
    "        fw.write(a)"
   ]
  },
  {
   "cell_type": "code",
   "execution_count": null,
   "id": "33d51fbb-af7d-4645-bfe4-392e1e2016fe",
   "metadata": {},
   "outputs": [],
   "source": [
    "import sys\n",
    "\n",
    "\n",
    "src = sys.argv[1]\n",
    "dst = sys.argv[2]\n",
    "\n",
    "f= open(src)\n",
    "tab_content = f.read()\n",
    "f.close()\n",
    "\n",
    "space_content= tab_content.replace(\"\\t\", \" \"*4)\n",
    "print(space_content)\n",
    "\n",
    "f=open(dst, 'w')\n",
    "f.write(space_content)\n",
    "f.close()"
   ]
  },
  {
   "cell_type": "markdown",
   "id": "180376f3-823d-40f0-acbd-d6951a0bf3c1",
   "metadata": {},
   "source": [
    "- 하위 디렉터리 검색하기"
   ]
  },
  {
   "cell_type": "code",
   "execution_count": null,
   "id": "ac32d5ab-e38e-48b7-8e8d-fed4112084a4",
   "metadata": {},
   "outputs": [],
   "source": [
    "def search(dirname):\n",
    "    print(dirname)\n",
    "\n",
    "search(\"C:/\")"
   ]
  },
  {
   "cell_type": "code",
   "execution_count": null,
   "id": "fa5048ad-a608-4e24-bc60-5ce630309bc0",
   "metadata": {},
   "outputs": [],
   "source": [
    "import os\n",
    "\n",
    "def search(dirname):\n",
    "    filenames = os.listdir(dirname)    #디렉터리와 파일 불러오기\n",
    "    for filename in filenames:\n",
    "        full_filename = os.path.join(dirname, filename) #디렉터리와 파일 합치기\n",
    "        print(full_filename)\n",
    "\n",
    "search(\"C:/\")"
   ]
  },
  {
   "cell_type": "code",
   "execution_count": null,
   "id": "bafd21b8-e5e1-47d4-a5f4-3c0422a2bdb1",
   "metadata": {},
   "outputs": [],
   "source": [
    "import os\n",
    "\n",
    "def search(dirname):\n",
    "    filenames = os.listdir(dirname) \n",
    "    for filename in filenames:\n",
    "        full_filename = os.path.join(dirname, filename)\n",
    "        ext = full_filename[-4:]\n",
    "        if ext ==\".sys\":       #sys파일만 출력\n",
    "            print(full_filename)\n",
    "\n",
    "search(\"C:/\")"
   ]
  },
  {
   "cell_type": "code",
   "execution_count": null,
   "id": "15c970d2-3e74-4f2b-9f63-b8bed8decf90",
   "metadata": {},
   "outputs": [],
   "source": [
    "import os\n",
    "\n",
    "def search(dirname):\n",
    "    try:\n",
    "        filenames = os.listdir(dirname) \n",
    "        for filename in filenames:\n",
    "            full_filename = os.path.join(dirname, filename)\n",
    "            if os.path.isdir(full_filename):\n",
    "                search(full_filename)\n",
    "            else:\n",
    "                ext = full_filename[-3:]\n",
    "                if ext ==\".py\":      \n",
    "                    print(full_filename)\n",
    "    except PermissionError:\n",
    "        pass\n",
    "    finally:\n",
    "        print(\"끝\")\n",
    "\n",
    "search(\"C:/python\")"
   ]
  },
  {
   "cell_type": "code",
   "execution_count": null,
   "id": "7e839a9e-4a2d-45ff-88f8-2c77cec4a060",
   "metadata": {},
   "outputs": [],
   "source": [
    "import os\n",
    "\n",
    "def search(dirname):\n",
    "    filenames = os.listdir(dirname) \n",
    "    for filename in filenames:\n",
    "        full_filename = os.path.join(dirname, filename)\n",
    "        ext = full_filename[-3:]\n",
    "        if ext ==\".py\":      \n",
    "            print(full_filename)\n",
    "\n",
    "search(\"C:/python\")"
   ]
  },
  {
   "cell_type": "code",
   "execution_count": null,
   "id": "e0e82bca-d38d-4edb-a9d1-e506479e4a29",
   "metadata": {},
   "outputs": [],
   "source": [
    "import os\n",
    "import sys\n",
    "\n",
    "dirname = sys.argv[1]\n",
    "\n",
    "def search(dirname):\n",
    "    filenames = os.listdir(dirname) \n",
    "    for filename in filenames:\n",
    "        full_filename = os.path.join(dirname, filename)\n",
    "        if os.path.isdir(full_filename):\n",
    "            search(full_filename)\n",
    "        else:\n",
    "            ext = full_filename[-3:]\n",
    "            if ext ==\".py\":      \n",
    "                print(full_filename)\n",
    "\n",
    "search(dirname)"
   ]
  },
  {
   "cell_type": "code",
   "execution_count": null,
   "id": "b0894dd5-46d0-414c-bcc0-af13b4ff0772",
   "metadata": {},
   "outputs": [],
   "source": [
    "#os.walk 하위 디렉터리 검색\n",
    "\n",
    "import os\n",
    "\n",
    "for (path,dir,files) in os.walk(\"C:/\"):\n",
    "    for filename in files:\n",
    "        ext=os.path.splitext(filename)[-1]\n",
    "        if ext == '.py':\n",
    "            print(\"%s/%s\" % (path,filename))"
   ]
  },
  {
   "cell_type": "markdown",
   "id": "67241904-be0f-45f2-9b52-810605f280cb",
   "metadata": {
    "tags": []
   },
   "source": [
    "\n",
    "# 정규표현식\n",
    "- regular expression\n"
   ]
  },
  {
   "cell_type": "code",
   "execution_count": null,
   "id": "99f526bd-8a8f-41c5-b164-abc66d592398",
   "metadata": {},
   "outputs": [],
   "source": [
    "https://regexr.com/\n",
    "https://regex101.com/"
   ]
  },
  {
   "cell_type": "code",
   "execution_count": 140,
   "id": "8395716a-11ae-4cb2-b0c5-9216dcfd1d5b",
   "metadata": {},
   "outputs": [
    {
     "name": "stdout",
     "output_type": "stream",
     "text": [
      "\n",
      "park 800905-*******\n",
      "kim 700905-*******\n",
      "\n"
     ]
    }
   ],
   "source": [
    "import re\n",
    "\n",
    "data = \"\"\"\n",
    "park 800905-1049118\n",
    "kim 700905-1059119\n",
    "\"\"\"\n",
    "\n",
    "pat = re.compile(\"[-]\\d{7}\")\n",
    "print(pat.sub(\"-*******\",data))"
   ]
  },
  {
   "cell_type": "code",
   "execution_count": null,
   "id": "9705d119-918a-4530-82a2-9f2bac4ce78d",
   "metadata": {},
   "outputs": [],
   "source": [
    "print(pat.sub(\"[-]\\d{7}\",\"-*******\",data))"
   ]
  },
  {
   "cell_type": "markdown",
   "id": "a7e844ea-4d6d-4b78-878d-01d1455dda60",
   "metadata": {},
   "source": [
    "- 메타 문자"
   ]
  },
  {
   "cell_type": "code",
   "execution_count": null,
   "id": "f3537ba6-777d-4329-8978-d90c2a7575d0",
   "metadata": {},
   "outputs": [],
   "source": [
    "문자 클래스 [ ] :[abc] a or b or c\n",
    "하이픈(-) [From - To] [a-c] : [abc]  [0-5] [012345]\n",
    "    \n",
    "[^ ] 반대(not)라는 의미"
   ]
  },
  {
   "cell_type": "code",
   "execution_count": null,
   "id": "2adb3f9d-cede-4536-a557-0ba69ac58320",
   "metadata": {},
   "outputs": [],
   "source": [
    "\\d - 숫자와 매치, [0-9]\n",
    "\\D - 숫자가 아닌 것과 매치, [^0-9]\n",
    "\\s - whitespace 문자와 매치, [ \\t\\n\\r\\f\\v] 맨 앞의 빈 칸은 공백문자(space)를 의미한다.\n",
    "\\S - whitespace 문자가 아닌 것과 매치, [^ \\t\\n\\r\\f\\v]\n",
    "\\w - 문자+숫자와 매치, [a-zA-Z0-9_]\n",
    "\\W - 문자+숫자가 아닌 문자와 매치, [^a-zA-Z0-9_]\n",
    "\n",
    "대문자는 소문자의 반대"
   ]
  },
  {
   "cell_type": "code",
   "execution_count": null,
   "id": "86e35f80-b4a7-4ea8-b97b-2b02b7a8180d",
   "metadata": {},
   "outputs": [],
   "source": [
    "문자: 알파벳, 특수문자, 빈칸(whitespace)"
   ]
  },
  {
   "cell_type": "code",
   "execution_count": null,
   "id": "32369f4e-0f1f-4a4b-a916-15a3dd712e39",
   "metadata": {},
   "outputs": [],
   "source": [
    "Dot(.) : \"a + 모든문자 + b”"
   ]
  },
  {
   "cell_type": "code",
   "execution_count": null,
   "id": "c21c04c7-ebea-4122-b62f-c0778fa18a37",
   "metadata": {},
   "outputs": [],
   "source": [
    "a.b    : aab, abb, acb, adb, a1b, a*b\n",
    "a{1}b  : ab\n",
    "a{2}b  : aab\n",
    "a{1,2} : ab, aab\n",
    "\n",
    ".py : [.]py"
   ]
  },
  {
   "cell_type": "code",
   "execution_count": null,
   "id": "9cfe63f1-c7b2-4b46-81ce-7e0819e7b6ea",
   "metadata": {},
   "outputs": [],
   "source": [
    "반복 (*) : a가 0부터 무한대로 반복\n",
    "반복 (+) : 1번 이상 반복\n",
    "\n",
    "※ {1,}은 +와 동일하고, {0,}은 *와 동일하다."
   ]
  },
  {
   "cell_type": "code",
   "execution_count": null,
   "id": "3fc23b05-2715-4a4a-9ec7-e88b8fce591c",
   "metadata": {},
   "outputs": [],
   "source": [
    "*:a*b : b, ab, aab, aaab, ...\n",
    "+:a+b : ab, aab, aaab, ...\n",
    "?:a?b : b, ab"
   ]
  },
  {
   "cell_type": "code",
   "execution_count": null,
   "id": "6e00feba-5f8a-4805-b4f0-d6e98642260d",
   "metadata": {},
   "outputs": [],
   "source": [
    "a{m,n}\n",
    "a{m,} : m번 이상 a{1,}b\n",
    "a{,n} : n번 이하 a{,1}b\n",
    "a{m}  : m번"
   ]
  },
  {
   "cell_type": "markdown",
   "id": "f9abf550-615c-4c90-8a3b-efdcbfa1a214",
   "metadata": {},
   "source": [
    "- re 사용법"
   ]
  },
  {
   "cell_type": "code",
   "execution_count": 152,
   "id": "3c42c15c-6e35-4658-bc38-060aec07f22e",
   "metadata": {},
   "outputs": [],
   "source": [
    "import re"
   ]
  },
  {
   "cell_type": "code",
   "execution_count": null,
   "id": "22949660-990c-451d-a72e-a8fb907b498b",
   "metadata": {},
   "outputs": [],
   "source": [
    "# 컴파일 하기\n",
    "p = re.compile(패턴)\n",
    "p.메서드(문장)\n",
    "\n",
    "p.search\n",
    "p.match\n",
    "p.findall\n",
    "p.finditer\n",
    "p.sub\n"
   ]
  },
  {
   "cell_type": "code",
   "execution_count": 154,
   "id": "c3f06797-a678-4d0a-935a-fe041889b61d",
   "metadata": {},
   "outputs": [
    {
     "data": {
      "text/plain": [
       "['p', 'y', 't']"
      ]
     },
     "execution_count": 154,
     "metadata": {},
     "output_type": "execute_result"
    }
   ],
   "source": [
    "p = re.compile(\"[p-z]\")\n",
    "p.findall(\"python\")"
   ]
  },
  {
   "cell_type": "code",
   "execution_count": 156,
   "id": "1b15bb0e-2d2c-40d3-9422-0feb89ebac5c",
   "metadata": {},
   "outputs": [
    {
     "data": {
      "text/plain": [
       "['p', 'y', 't']"
      ]
     },
     "execution_count": 156,
     "metadata": {},
     "output_type": "execute_result"
    }
   ],
   "source": [
    "re.findall(\"[p-z]\",\"python\")"
   ]
  },
  {
   "cell_type": "code",
   "execution_count": 157,
   "id": "7307fe36-0f8e-40c5-9459-b363c31bf60f",
   "metadata": {
    "collapsed": true,
    "jupyter": {
     "outputs_hidden": true
    },
    "tags": []
   },
   "outputs": [
    {
     "name": "stdout",
     "output_type": "stream",
     "text": [
      "<!DOCTYPE html><html lang=\"ko\"> <head> <meta charset=\"utf-8\" /> <title>Daum</title> <meta http-equiv=\"x-ua-compatible\" content=\"IE=edge\" /> <meta property=\"og:url\" content=\"//www.daum.net/\" /> <meta property=\"og:type\" content=\"website\" /> <meta property=\"og:title\" content=\"Daum\" /> <meta http-equiv=\"Pragma\" content=\"no-cache\" /> <meta http-equiv=\"Expires\" content=\"-1\" /> <meta name=\"referrer\" content=\"origin\" /> <meta property=\"og:image\" content=\"https://i1.daumcdn.net/svc/image/U03/common_icon/5587C4E4012FCD0001\" /> <meta property=\"og:description\" content=\"나의 관심 콘텐츠를 가장 즐겁게 볼 수 있는 Daum\" /> <meta name=\"msapplication-task\" content=\"name=Daum;action-uri=//www.daum.net/;icon-uri=/favicon.ico\" /> <meta name=\"msapplication-task\" content=\"name=미디어다음;action-uri=//news.daum.net/;icon-uri=/media_favicon.ico\" /> <meta name=\"msapplication-task\" content=\"name=메일;action-uri=//mail.daum.net;icon-uri=/mail_favicon.ico\" /> <link href=\"https://t1.daumcdn.net/top/favicon.ico\" rel=\"shortcut icon\" /> <meta name=\"referrer\" content=\"origin\" /> <link rel=\"search\" type=\"application/opensearchdescription+xml\" href=\"https://search.daum.net/OpenSearch.xml\" title=\"다음\" /> <link rel=\"stylesheet\" href=\"https://t1.daumcdn.net/top/tiller-pc/h/production/20220616_153208/common.css\" /> <script src=\"https://t1.daumcdn.net/kas/static/na.min.js\"></script> <script type=\"text/javascript\"> window.tillerInitData = {\"header\":{\"timestamp\":1655880726410},\"body\":{\"tabs\":{\"media\":{\"code\":\"media\",\"name\":\"미디어\",\"renderType\":\"NONE\",\"position\":1,\"board\":false,\"morePage\":false,\"page\":\"{\\\"tab\\\":\\\"media\\\",\\\"page\\\":1,\\\"last\\\":true,\\\"token\\\":null,\\\"ts\\\":null}\"},\"katv\":{\"code\":\"katv\",\"name\":\"카카오TV\",\"renderType\":\"NONE\",\"position\":2,\"board\":false,\"morePage\":false,\"page\":\"{\\\"tab\\\":\\\"katv\\\",\\\"page\\\":1,\\\"last\\\":true,\\\"token\\\":null,\\\"ts\\\":null}\"},\"social\":{\"code\":\"social\",\"name\":\"소셜\",\"renderType\":\"NONE\",\"position\":3,\"board\":false,\"morePage\":false,\"page\":\"{\\\"tab\\\":\\\"social\\\",\\\"page\\\":1,\\\"last\\\":true,\\\"token\\\":null,\\\"ts\\\":null}\"},\"channel\":{\"code\":\"channel\",\"name\":\"채널\",\"renderType\":\"NONE\",\"position\":4,\"board\":false,\"morePage\":false,\"page\":\"{\\\"tab\\\":\\\"channel\\\",\\\"page\\\":1,\\\"last\\\":true,\\\"token\\\":null,\\\"ts\\\":null}\"}},\"boxes\":{\"media\":[{\"code\":2372,\"type\":\"PC_MEDIA_NEWS1\",\"items\":{\"op\":{\"tab\":\"news1\",\"title\":\"뉴스\",\"url\":\"https://news.daum.net/\"},\"issue\":{\"title\":\"'코로나19' 현황\",\"isSpecial\":null,\"url\":\"https://news.daum.net/covid19\",\"iconType\":\"ISSUE2\",\"status\":\"on\"},\"breakingNewsOp\":{\"minCount\":\"3\",\"status\":\"on\"},\"footLinkLeft\":{\"foot1\":\"{\\\"title\\\":\\\"포토\\\",\\\"url\\\":\\\"https://news.daum.net/photo/\\\",\\\"tiaraTag\\\":\\\"photo\\\"}\",\"foot0\":\"{\\\"title\\\":\\\"연재\\\",\\\"url\\\":\\\"https://news.daum.net/series/\\\",\\\"tiaraTag\\\":\\\"series\\\"}\",\"foot3\":\"{\\\"title\\\":\\\"\\\",\\\"url\\\":\\\"\\\",\\\"tiaraTag\\\":\\\"\\\"}\",\"footer\":\"{\\\"title\\\":\\\"뉴스홈\\\",\\\"url\\\":\\\"https://news.daum.net/\\\"}\",\"foot2\":\"{\\\"title\\\":\\\"팩트체크\\\",\\\"url\\\":\\\"https://focus.daum.net/ch/news/factcheck\\\",\\\"tiaraTag\\\":\\\"factcheck\\\"}\",\"foot4\":\"{\\\"title\\\":\\\"\\\",\\\"url\\\":\\\"\\\",\\\"tiaraTag\\\":\\\"\\\"}\",\"status\":\"on\"},\"footLinkRight\":{\"foot1\":\"{\\\"title\\\":\\\"환율\\\",\\\"url\\\":\\\"https://search.daum.net/search?w=tot&q=환율&DA=TMZ\\\",\\\"tiaraTag\\\":\\\"exchange\\\"}\",\"foot0\":\"{\\\"title\\\":\\\"코스피\\\",\\\"url\\\":\\\"https://search.daum.net/search?w=tot&q=증시&DA=TMZ\\\",\\\"tiaraTag\\\":\\\"stock\\\"}\",\"foot3\":\"{\\\"title\\\":\\\"TV편성\\\",\\\"url\\\":\\\"https://search.daum.net/search?w=tot&q=편성표&DA=TMZ\\\",\\\"tiaraTag\\\":\\\"tv\\\"}\",\"foot2\":\"{\\\"title\\\":\\\"오늘의운세\\\",\\\"url\\\":\\\"https://search.daum.net/search?w=tot&q=운세&DA=TMZ\\\",\\\"tiaraTag\\\":\\\"fortune\\\"}\",\"status\":\"on\"},\"specialLink\":{\"displayType\":\"specialLink\",\"title\":\"오늘의 KBO리그\",\"url\":\"https://sports.daum.net/schedule/kbo\",\"iconType\":\"LIVE\",\"status\":\"off\"}},\"feeds\":{\"pc_media_breaking_news\":\"[{\\\"id\\\":\\\"hamny-20220622154507993\\\",\\\"title\\\":\\\"질병청, 원숭이두창 국내 첫 확진자 발생 확인..고위험 접촉자 없어\\\",\\\"url\\\":\\\"https://v.daum.net/v/20220622154507993\\\"},{\\\"id\\\":\\\"hamny-20220622154736141\\\",\\\"title\\\":\\\"\\\\\\\"유럽, 원숭이두창 빈발..검역관리지역 지정 검토\\\\\\\"\\\",\\\"url\\\":\\\"https://v.daum.net/v/20220622154736141\\\"},{\\\"id\\\":\\\"hamny-20220622154352904\\\",\\\"title\\\":\\\"코스피, 2.74% 하락 2342.81 마감..코스닥 4.03%↓\\\",\\\"url\\\":\\\"https://v.daum.net/v/20220622154352904\\\"},{\\\"id\\\":\\\"hamny-20220622154235842\\\",\\\"title\\\":\\\"질병청 \\\\\\\"원숭이두창 첫 확진자 30대, 성별·나이 공개 금지\\\\\\\"\\\",\\\"url\\\":\\\"https://v.daum.net/v/20220622154235842\\\"}]\"},\"teslas\":{\"p_news_img_1\":[{\"id\":\"hamny-20220622134701572\",\"title\":\"'성상납 증거인멸 의혹' 이준석 \\\"윤리위 출석 요청했지만 거절당해\\\" [뉴시스Pic]\",\"label\":null,\"url\":\"https://v.daum.net/v/20220622134701572\",\"icon\":\"TEXT\",\"imageUrl\":\"https://t1.daumcdn.net/news/202206/22/newsis/20220622134701678cxal.jpg\",\"source\":\"뉴시스\",\"position\":0,\"meta\":{\"impressionId\":\"toros_cloud_alpha\",\"contentUniqueKey\":\"hamny-20220622134701572\",\"mediaName\":\"뉴시스\",\"torosRanking\":1,\"torosScore\":0.0905570649,\"poolCode\":\"p_news_img\",\"feedId\":11,\"feedName\":\"하모니\",\"clusterTitle\":\"\"}},{\"id\":\"hamny-20220622142602095\",\"title\":\"하늘서 본 흑해 빨간불..\\\"우크라軍 반격에 가스전 폭발\\\"[포착]\",\"label\":null,\"url\":\"https://v.daum.net/v/20220622142602095\",\"icon\":\"TEXT\",\"imageUrl\":\"https://t1.daumcdn.net/news/202206/22/seoul/20220622142604003xsjd.jpg\",\"source\":\"서울신문\",\"position\":0,\"meta\":{\"impressionId\":\"toros_cloud_alpha\",\"contentUniqueKey\":\"hamny-20220622142602095\",\"mediaName\":\"서울신문\",\"torosRanking\":2,\"torosScore\":0.0431610615,\"poolCode\":\"p_news_img\",\"feedId\":11,\"feedName\":\"하모니\",\"clusterTitle\":\"서울신문 나우뉴스\"}}],\"p_news_investigative_1\":[{\"id\":\"hamny-20220622094351208\",\"title\":\"모든 기업이 '개발자 사관학교'로 변신해야\",\"label\":null,\"url\":\"https://v.daum.net/v/20220622094351208\",\"icon\":\"TEXT\",\"imageUrl\":\"https://t1.daumcdn.net/news/202206/22/ZDNetKorea/20220622094354182fgst.jpg\",\"source\":\"지디넷코리아\",\"position\":0,\"meta\":{\"impressionId\":\"tromm\",\"contentUniqueKey\":\"hamny-20220622094351208\",\"mediaName\":\"지디넷코리아\",\"torosRanking\":0,\"torosScore\":0.0,\"poolCode\":\"p_news_investigative\",\"feedId\":11,\"feedName\":\"하모니\",\"clusterTitle\":\"\"}},{\"id\":\"hamny-20220622101101428\",\"title\":\"尹정부도 \\\"온실가스 40% 감축\\\"..원전+재생 조합에 달렸다\",\"label\":null,\"url\":\"https://v.daum.net/v/20220622101101428\",\"icon\":\"TEXT\",\"imageUrl\":\"https://t1.daumcdn.net/news/202206/22/moneytoday/20220622114349295skkz.jpg\",\"source\":\"머니투데이\",\"position\":0,\"meta\":{\"impressionId\":\"tromm\",\"contentUniqueKey\":\"hamny-20220622101101428\",\"mediaName\":\"머니투데이\",\"torosRanking\":0,\"torosScore\":0.0,\"poolCode\":\"p_news_investigative\",\"feedId\":11,\"feedName\":\"하모니\",\"clusterTitle\":\"\"}}],\"p_news_auto_txt_1\":[{\"id\":\"hamny-20220622150206859\",\"title\":\"尹대통령 \\\"탈원전 폭탄에 원전산업 폐허..철철 넘치게 지원\\\"\",\"label\":null,\"url\":\"https://v.daum.net/v/20220622150206859\",\"icon\":\"TEXT\",\"imageUrl\":\"https://t1.daumcdn.net/news/202206/22/yonhap/20220622150206648fzbl.jpg\",\"source\":\"연합뉴스\",\"position\":0,\"meta\":{\"impressionId\":\"toros_cloud_alpha\",\"contentUniqueKey\":\"hamny-20220622150206859\",\"mediaName\":\"연합뉴스\",\"torosRanking\":6,\"torosScore\":0.0169650854,\"poolCode\":\"p_news_auto_txt\",\"feedId\":11,\"feedName\":\"하모니\",\"clusterTitle\":\"\"}},{\"id\":\"hamny-20220622155020271\",\"title\":\"'규제 완화' 강한 한방 남았다..규제지역 해제에 관심 쏠려\",\"label\":null,\"url\":\"https://v.daum.net/v/20220622155020271\",\"icon\":\"TEXT\",\"imageUrl\":\"https://t1.daumcdn.net/news/202206/22/joongang/20220622155021780ntye.jpg\",\"source\":\"중앙일보\",\"position\":0,\"meta\":{\"impressionId\":\"toros_cloud_alpha\",\"contentUniqueKey\":\"hamny-20220622155020271\",\"mediaName\":\"중앙일보\",\"torosRanking\":4,\"torosScore\":0.0475989125,\"poolCode\":\"p_news_auto_txt\",\"feedId\":11,\"feedName\":\"하모니\",\"clusterTitle\":\"\"}},{\"id\":\"hamny-20220622155025276\",\"title\":\"한치의 양보도 없다..'원구성 협상' 여야 '폭로전' 불사\",\"label\":null,\"url\":\"https://v.daum.net/v/20220622155025276\",\"icon\":\"TEXT\",\"imageUrl\":\"https://t1.daumcdn.net/news/202206/22/moneytoday/20220622155026684pxkh.jpg\",\"source\":\"머니투데이\",\"position\":0,\"meta\":{\"impressionId\":\"toros_cloud_alpha\",\"contentUniqueKey\":\"hamny-20220622155025276\",\"mediaName\":\"머니투데이\",\"torosRanking\":2,\"torosScore\":0.1342245772,\"poolCode\":\"p_news_auto_txt\",\"feedId\":11,\"feedName\":\"하모니\",\"clusterTitle\":\"\"}},{\"id\":\"hamny-20220622155002248\",\"title\":\"원숭이두창 감염경로·속도 '팬데믹' 가능성↓'조용한 전파' 우려↑\",\"label\":null,\"url\":\"https://v.daum.net/v/20220622155002248\",\"icon\":\"TEXT\",\"imageUrl\":\"https://t1.daumcdn.net/news/202206/22/hani/20220622155003543btmf.jpg\",\"source\":\"한겨레\",\"position\":0,\"meta\":{\"impressionId\":\"toros_cloud_alpha\",\"contentUniqueKey\":\"hamny-20220622155002248\",\"mediaName\":\"한겨레\",\"torosRanking\":1,\"torosScore\":0.1692137072,\"poolCode\":\"p_news_auto_txt\",\"feedId\":11,\"feedName\":\"하모니\",\"clusterTitle\":\"\"}},{\"id\":\"hamny-20220622121359262\",\"title\":\"러시아 원유 더 사들인 中·인도..\\\"아시아가 러시아 구했다\\\"\",\"label\":null,\"url\":\"https://v.daum.net/v/20220622121359262\",\"icon\":\"TEXT\",\"imageUrl\":\"https://t1.daumcdn.net/news/202206/22/yonhap/20220622121359750dtwu.jpg\",\"source\":\"연합뉴스\",\"position\":0,\"meta\":{\"impressionId\":\"toros_cloud_alpha\",\"contentUniqueKey\":\"hamny-20220622121359262\",\"mediaName\":\"연합뉴스\",\"torosRanking\":24,\"torosScore\":0.006421462,\"poolCode\":\"p_news_auto_txt\",\"feedId\":11,\"feedName\":\"하모니\",\"clusterTitle\":\"\"}},{\"id\":\"hamny-20220622154959244\",\"title\":\"'증시 피난처'에서 빠져나온 20조원은 어디로 갔을까..반등 신호탄?\",\"label\":null,\"url\":\"https://v.daum.net/v/20220622154959244\",\"icon\":\"TEXT\",\"imageUrl\":\"https://t1.daumcdn.net/news/202206/22/moneytoday/20220622155001308fwvq.jpg\",\"source\":\"머니투데이\",\"position\":0,\"meta\":{\"impressionId\":\"toros_cloud_alpha\",\"contentUniqueKey\":\"hamny-20220622154959244\",\"mediaName\":\"머니투데이\",\"torosRanking\":3,\"torosScore\":0.054541285,\"poolCode\":\"p_news_auto_txt\",\"feedId\":11,\"feedName\":\"하모니\",\"clusterTitle\":\"\"}},{\"id\":\"hamny-20220622152821060\",\"title\":\"내일부터 전국 장마 시작..수도권 등 강수량 최대 100mm\",\"label\":null,\"url\":\"https://v.daum.net/v/20220622152821060\",\"icon\":\"TEXT\",\"imageUrl\":\"https://t1.daumcdn.net/news/202206/22/newsis/20220622152822009ybcc.jpg\",\"source\":\"뉴시스\",\"position\":0,\"meta\":{\"impressionId\":\"toros_cloud_alpha\",\"contentUniqueKey\":\"hamny-20220622152821060\",\"mediaName\":\"뉴시스\",\"torosRanking\":12,\"torosScore\":0.011001406,\"poolCode\":\"p_news_auto_txt\",\"feedId\":11,\"feedName\":\"하모니\",\"clusterTitle\":\"\"}},{\"id\":\"hamny-20220622144638131\",\"title\":\"\\\"결국 물렸네요\\\" 무상증자 호재? 연일 급락에 개미들 '울상'\",\"label\":null,\"url\":\"https://v.daum.net/v/20220622144638131\",\"icon\":\"TEXT\",\"imageUrl\":\"https://t1.daumcdn.net/news/202206/22/akn/20220622144640360yqnk.jpg\",\"source\":\"아시아경제\",\"position\":0,\"meta\":{\"impressionId\":\"toros_cloud_alpha\",\"contentUniqueKey\":\"hamny-20220622144638131\",\"mediaName\":\"아시아경제\",\"torosRanking\":16,\"torosScore\":0.0093647575,\"poolCode\":\"p_news_auto_txt\",\"feedId\":11,\"feedName\":\"하모니\",\"clusterTitle\":\"\"}},{\"id\":\"hamny-20220622152058712\",\"title\":\"길 물은 이민자, 의식 잃을 때까지 맞았다..英, 증오범죄에 '술렁'[영상]\",\"label\":null,\"url\":\"https://v.daum.net/v/20220622152058712\",\"icon\":\"TEXT\",\"imageUrl\":\"https://t1.daumcdn.net/news/202206/22/moneytoday/20220622153828393kfcm.jpg\",\"source\":\"머니투데이\",\"position\":0,\"meta\":{\"impressionId\":\"toros_cloud_alpha\",\"contentUniqueKey\":\"hamny-20220622152058712\",\"mediaName\":\"머니투데이\",\"torosRanking\":22,\"torosScore\":0.0064907518,\"poolCode\":\"p_news_auto_txt\",\"feedId\":11,\"feedName\":\"하모니\",\"clusterTitle\":\"\"}},{\"id\":\"hamny-20220622153730565\",\"title\":\"김건희, 尹 나토 순방 동행..대통령실 \\\"배우자 세션 가급적 참여\\\"\",\"label\":null,\"url\":\"https://v.daum.net/v/20220622153730565\",\"icon\":\"TEXT\",\"imageUrl\":\"https://t1.daumcdn.net/news/202206/22/newsis/20220622153730304sixa.jpg\",\"source\":\"뉴시스\",\"position\":0,\"meta\":{\"impressionId\":\"toros_cloud_alpha\",\"contentUniqueKey\":\"hamny-20220622153730565\",\"mediaName\":\"뉴시스\",\"torosRanking\":13,\"torosScore\":0.0107554545,\"poolCode\":\"p_news_auto_txt\",\"feedId\":11,\"feedName\":\"하모니\",\"clusterTitle\":\"\"}},{\"id\":\"hamny-20220622150102813\",\"title\":\"\\\"일본은 이제 극빈사회가 된다..인재 유출, 기반시설 붕괴\\\"..日전문가 진단\",\"label\":null,\"url\":\"https://v.daum.net/v/20220622150102813\",\"icon\":\"TEXT\",\"imageUrl\":\"https://t1.daumcdn.net/news/202206/22/seoul/20220622150103482nvwu.jpg\",\"source\":\"서울신문\",\"position\":0,\"meta\":{\"impressionId\":\"toros_cloud_alpha\",\"contentUniqueKey\":\"hamny-20220622150102813\",\"mediaName\":\"서울신문\",\"torosRanking\":25,\"torosScore\":0.00633892,\"poolCode\":\"p_news_auto_txt\",\"feedId\":11,\"feedName\":\"하모니\",\"clusterTitle\":\"\"}},{\"id\":\"hamny-20220622154053743\",\"title\":\"포항서 60대 여성, 자신의 집에 불지르고 대피하는 주민에 위협 행동까지\",\"label\":null,\"url\":\"https://v.daum.net/v/20220622154053743\",\"icon\":\"TEXT\",\"imageUrl\":\"https://t1.daumcdn.net/news/202206/22/THEFACT/20220622154054760lsil.jpg\",\"source\":\"더팩트\",\"position\":0,\"meta\":{\"impressionId\":\"toros_cloud_alpha\",\"contentUniqueKey\":\"hamny-20220622154053743\",\"mediaName\":\"더팩트\",\"torosRanking\":11,\"torosScore\":0.0125358506,\"poolCode\":\"p_news_auto_txt\",\"feedId\":11,\"feedName\":\"하모니\",\"clusterTitle\":\"\"}},{\"id\":\"hamny-20220622154150798\",\"title\":\"바다에서 보는 부산 마천루..\\\"인생사진 남겨야지\\\"\",\"label\":null,\"url\":\"https://v.daum.net/v/20220622154150798\",\"icon\":\"TEXT\",\"imageUrl\":\"https://t1.daumcdn.net/news/202206/22/akn/20220622154151897wtjm.jpg\",\"source\":\"아시아경제\",\"position\":0,\"meta\":{\"impressionId\":\"toros_cloud_alpha\",\"contentUniqueKey\":\"hamny-20220622154150798\",\"mediaName\":\"아시아경제\",\"torosRanking\":21,\"torosScore\":0.006600032,\"poolCode\":\"p_news_auto_txt\",\"feedId\":11,\"feedName\":\"하모니\",\"clusterTitle\":\"\"}},{\"id\":\"hamny-20220622154833189\",\"title\":\"이재명 보좌진에 김현지 합류..최측근 경기·성남 라인업 포진\",\"label\":null,\"url\":\"https://v.daum.net/v/20220622154833189\",\"icon\":\"TEXT\",\"imageUrl\":\"https://t1.daumcdn.net/news/202206/22/yonhap/20220622154833871yvrj.jpg\",\"source\":\"연합뉴스\",\"position\":0,\"meta\":{\"impressionId\":\"toros_cloud_alpha\",\"contentUniqueKey\":\"hamny-20220622154833189\",\"mediaName\":\"연합뉴스\",\"torosRanking\":30,\"torosScore\":0.0057886203,\"poolCode\":\"p_news_auto_txt\",\"feedId\":11,\"feedName\":\"하모니\",\"clusterTitle\":\"\"}},{\"id\":\"hamny-20220622121200214\",\"title\":\"\\\"이렇게 아름다운 문자 없다\\\" 서예에 빠진 이집트 디자이너\",\"label\":null,\"url\":\"https://v.daum.net/v/20220622121200214\",\"icon\":\"TEXT\",\"imageUrl\":\"https://t1.daumcdn.net/news/202206/22/ohmynews/20220622121201710llap.jpg\",\"source\":\"오마이뉴스\",\"position\":0,\"meta\":{\"impressionId\":\"toros_cloud_alpha\",\"contentUniqueKey\":\"hamny-20220622121200214\",\"mediaName\":\"오마이뉴스\",\"torosRanking\":29,\"torosScore\":0.0058019925,\"poolCode\":\"p_news_auto_txt\",\"feedId\":11,\"feedName\":\"하모니\",\"clusterTitle\":\"\"}}],\"p_news_leverage_1\":[{\"id\":\"hamny-EjIthdjMPD\",\"title\":\"푸조 408 공개, 잘생기고 매력적인 패스트백 스타일\",\"label\":null,\"url\":\"https://auto.v.daum.net/v/EjIthdjMPD\",\"icon\":\"TEXT\",\"imageUrl\":\"https://t1.daumcdn.net/news/202206/22/TOP-RIDER/20220622155002049fwvy.jpg\",\"source\":\"탑라이더\",\"position\":0,\"meta\":{\"impressionId\":\"tromm\",\"contentUniqueKey\":\"hamny-EjIthdjMPD\",\"mediaName\":\"탑라이더\",\"torosRanking\":0,\"torosScore\":0.0,\"poolCode\":\"p_news_leverage\",\"feedId\":11,\"feedName\":\"하모니\",\"clusterTitle\":\"\"}},{\"id\":\"tv-337459312\",\"title\":\"[선공개] 'WSG워너비'와 '숏박스'의 히로인! 상큼 보이스 엄지윤의 애절 보이스 도전기!, MBC 220622 방송\",\"label\":null,\"url\":\"https://newslink.media.daum.net/v/429812353\",\"icon\":\"VIDEO\",\"imageUrl\":\"https://thumb.kakaocdn.net/dna/kamp/source/rvugd12ajm8i70fm1cjtwntlw/thumbs/thumb.jpg?credential=TuMuFGKUIcirOSjFzOpncbomGFEIdZWK&expires=33212788661&signature=hoJyd848hDjP%2FltXB6mn5bx%2BTsE%3D\",\"source\":\"라디오스타\",\"position\":0,\"meta\":{\"impressionId\":\"tromm\",\"contentUniqueKey\":\"tv-337459312\",\"mediaName\":\"라디오스타\",\"torosRanking\":0,\"torosScore\":0.0,\"poolCode\":\"p_news_leverage\",\"feedId\":22,\"feedName\":\"카카오TV\",\"clusterTitle\":\"\"}}]},\"cabinets\":null,\"board\":false},{\"code\":2373,\"type\":\"PC_MEDIA_NEWS2\",\"items\":{\"op\":{\"tab\":\"news2\",\"title\":\"뉴스\",\"url\":\"https://news.daum.net/\"},\"issue\":{\"title\":\"'코로나19' 현황\",\"isSpecial\":\"false\",\"url\":\"https://news.daum.net/covid19\",\"iconType\":\"ISSUE2\",\"status\":\"on\"},\"footLinkLeft\":{\"foot1\":\"{\\\"title\\\":\\\"포토\\\",\\\"url\\\":\\\"https://news.daum.net/photo/\\\",\\\"tiaraTag\\\":\\\"photo\\\"}\",\"foot0\":\"{\\\"title\\\":\\\"연재\\\",\\\"url\\\":\\\"https://news.daum.net/series/\\\",\\\"tiaraTag\\\":\\\"series\\\"}\",\"foot3\":\"{\\\"title\\\":\\\"\\\",\\\"url\\\":\\\"\\\",\\\"tiaraTag\\\":\\\"\\\"}\",\"footer\":\"{\\\"title\\\":\\\"뉴스홈\\\",\\\"url\\\":\\\"https://news.daum.net/\\\"}\",\"foot2\":\"{\\\"title\\\":\\\"팩트체크\\\",\\\"url\\\":\\\"https://focus.daum.net/ch/news/factcheck\\\",\\\"tiaraTag\\\":\\\"factcheck\\\"}\",\"foot4\":\"{\\\"title\\\":\\\"\\\",\\\"url\\\":\\\"\\\",\\\"tiaraTag\\\":\\\"\\\"}\",\"status\":\"on\"},\"footLinkRight\":{\"foot1\":\"{\\\"title\\\":\\\"환율\\\",\\\"url\\\":\\\"https://search.daum.net/search?w=tot&q=환율&DA=TMZ\\\",\\\"tiaraTag\\\":\\\"exchange\\\"}\",\"foot0\":\"{\\\"title\\\":\\\"코스피\\\",\\\"url\\\":\\\"https://search.daum.net/search?w=tot&q=증시&DA=TMZ\\\",\\\"tiaraTag\\\":\\\"stock\\\"}\",\"foot3\":\"{\\\"title\\\":\\\"TV편성\\\",\\\"url\\\":\\\"https://search.daum.net/search?w=tot&q=편성표&DA=TMZ\\\",\\\"tiaraTag\\\":\\\"tv\\\"}\",\"foot2\":\"{\\\"title\\\":\\\"오늘의운세\\\",\\\"url\\\":\\\"https://search.daum.net/search?w=tot&q=운세&DA=TMZ\\\",\\\"tiaraTag\\\":\\\"fortune\\\"}\",\"status\":\"on\"},\"specialLink\":{\"displayType\":\"specialLink\",\"title\":\"'코로나19' 현황\",\"url\":\"https://news.daum.net/covid19\",\"iconType\":\"ISSUE\",\"status\":\"off\"}},\"feeds\":{},\"teslas\":{\"p_news_fact_1\":[{\"id\":\"hamny-20220621105009459\",\"title\":\"서해 공무원 피살 당시 '월북'은 큰 쟁점 아니었다?[팩트체크]\",\"label\":null,\"url\":\"https://v.daum.net/v/20220621105009459\",\"icon\":\"VIDEO\",\"imageUrl\":\"https://t1.daumcdn.net/news/202206/21/yonhap/20220621105009498btot.jpg\",\"source\":\"연합뉴스\",\"position\":0,\"meta\":{\"impressionId\":\"tromm\",\"contentUniqueKey\":\"hamny-20220621105009459\",\"mediaName\":\"연합뉴스\",\"torosRanking\":0,\"torosScore\":0.0,\"poolCode\":\"p_news_fact\",\"feedId\":11,\"feedName\":\"하모니\",\"clusterTitle\":\"팩트체크\"}},{\"id\":\"hamny-20220621093001983\",\"title\":\"\\\"이전 대통령들, 백화점 공개 쇼핑 안 해\\\" 김어준 발언 '대체로 사실' [오마이팩트]\",\"label\":null,\"url\":\"https://v.daum.net/v/20220621093001983\",\"icon\":\"TEXT\",\"imageUrl\":\"https://t1.daumcdn.net/news/202206/21/ohmynews/20220621093004335qhiz.jpg\",\"source\":\"오마이뉴스\",\"position\":0,\"meta\":{\"impressionId\":\"tromm\",\"contentUniqueKey\":\"hamny-20220621093001983\",\"mediaName\":\"오마이뉴스\",\"torosRanking\":0,\"torosScore\":0.0,\"poolCode\":\"p_news_fact\",\"feedId\":11,\"feedName\":\"하모니\",\"clusterTitle\":\"오마이팩트\"}}],\"p_news_img_1\":[{\"id\":\"hamny-20220622144500042\",\"title\":\"엄마부대 주옥순, 수요시위 앞에서 '위안부는 사기'[오마이포토]\",\"label\":null,\"url\":\"https://newslink.media.daum.net/p/20220622144500042\",\"icon\":\"PHOTO\",\"imageUrl\":\"https://t1.daumcdn.net/news/202206/22/ohmynews/20220622144502145zgfb.jpg\",\"source\":\"오마이뉴스\",\"position\":0,\"meta\":{\"impressionId\":\"toros_cloud_alpha\",\"contentUniqueKey\":\"hamny-20220622144500042\",\"mediaName\":\"오마이뉴스\",\"torosRanking\":9,\"torosScore\":0.0360868514,\"poolCode\":\"p_news_img\",\"feedId\":11,\"feedName\":\"하모니\",\"clusterTitle\":\"오마이포토\"}},{\"id\":\"hamny-20220622110512005\",\"title\":\"'개고기 축제'로 향하던 개 386마리 구조됐다\",\"label\":null,\"url\":\"https://v.daum.net/v/20220622110512005\",\"icon\":\"VIDEO\",\"imageUrl\":\"https://t1.daumcdn.net/news/202206/22/hani/20220622112503890oznh.jpg\",\"source\":\"한겨레\",\"position\":0,\"meta\":{\"impressionId\":\"toros_cloud_alpha\",\"contentUniqueKey\":\"hamny-20220622110512005\",\"mediaName\":\"한겨레\",\"torosRanking\":15,\"torosScore\":0.0215297743,\"poolCode\":\"p_news_img\",\"feedId\":11,\"feedName\":\"하모니\",\"clusterTitle\":\"애니멀피플\"}}],\"p_news_auto_txt_1\":[{\"id\":\"hamny-20220622153106212\",\"title\":\"6차 긴급고용안정지원금 지급한다\",\"label\":null,\"url\":\"https://v.daum.net/v/20220622153106212\",\"icon\":\"TEXT\",\"imageUrl\":\"https://t1.daumcdn.net/news/202206/22/seoul/20220622153107058bmys.jpg\",\"source\":\"서울신문\",\"position\":0,\"meta\":{\"impressionId\":\"toros_cloud_alpha\",\"contentUniqueKey\":\"hamny-20220622153106212\",\"mediaName\":\"서울신문\",\"torosRanking\":31,\"torosScore\":0.0057156099,\"poolCode\":\"p_news_auto_txt\",\"feedId\":11,\"feedName\":\"하모니\",\"clusterTitle\":\"\"}},{\"id\":\"hamny-20220622151109251\",\"title\":\"강기정 광주시장 당선인, 대통령실에 군 공항 이전 등 지원 요청\",\"label\":null,\"url\":\"https://v.daum.net/v/20220622151109251\",\"icon\":\"TEXT\",\"imageUrl\":\"https://t1.daumcdn.net/news/202206/22/yonhap/20220622151109341xodc.jpg\",\"source\":\"연합뉴스\",\"position\":0,\"meta\":{\"impressionId\":\"toros_cloud_alpha\",\"contentUniqueKey\":\"hamny-20220622151109251\",\"mediaName\":\"연합뉴스\",\"torosRanking\":34,\"torosScore\":0.0054017286,\"poolCode\":\"p_news_auto_txt\",\"feedId\":11,\"feedName\":\"하모니\",\"clusterTitle\":\"\"}},{\"id\":\"hamny-20220622120206975\",\"title\":\"둔촌주공 평당 3700만원까지↑..분상제 개편에 분양 물량 늘어날까\",\"label\":null,\"url\":\"https://v.daum.net/v/20220622120206975\",\"icon\":\"TEXT\",\"imageUrl\":\"https://t1.daumcdn.net/news/202206/22/NEWS1/20220622120211010ovoj.jpg\",\"source\":\"뉴스1\",\"position\":0,\"meta\":{\"impressionId\":\"toros_cloud_alpha\",\"contentUniqueKey\":\"hamny-20220622120206975\",\"mediaName\":\"뉴스1\",\"torosRanking\":33,\"torosScore\":0.0054726567,\"poolCode\":\"p_news_auto_txt\",\"feedId\":11,\"feedName\":\"하모니\",\"clusterTitle\":\"\"}},{\"id\":\"hamny-20220622143342487\",\"title\":\"SNS로 만난 우크라軍 남친에..3천만원 보냈다가 벌어진 일\",\"label\":null,\"url\":\"https://v.daum.net/v/20220622143342487\",\"icon\":\"TEXT\",\"imageUrl\":\"https://t1.daumcdn.net/news/202206/22/moneytoday/20220622145524519dyzb.jpg\",\"source\":\"머니투데이\",\"position\":0,\"meta\":{\"impressionId\":\"toros_cloud_alpha\",\"contentUniqueKey\":\"hamny-20220622143342487\",\"mediaName\":\"머니투데이\",\"torosRanking\":35,\"torosScore\":0.0053978811,\"poolCode\":\"p_news_auto_txt\",\"feedId\":11,\"feedName\":\"하모니\",\"clusterTitle\":\"\"}},{\"id\":\"hamny-20220622154506990\",\"title\":\"둔촌주공 25평형 분양가 8억8750만원→9억75만원..중도금 대출 막힐 수도\",\"label\":null,\"url\":\"https://v.daum.net/v/20220622154506990\",\"icon\":\"TEXT\",\"imageUrl\":\"https://t1.daumcdn.net/news/202206/22/mk/20220622154508128aceh.jpg\",\"source\":\"매일경제\",\"position\":0,\"meta\":{\"impressionId\":\"toros_cloud_alpha\",\"contentUniqueKey\":\"hamny-20220622154506990\",\"mediaName\":\"매일경제\",\"torosRanking\":36,\"torosScore\":0.005352477,\"poolCode\":\"p_news_auto_txt\",\"feedId\":11,\"feedName\":\"하모니\",\"clusterTitle\":\"\"}},{\"id\":\"hamny-20220622085928504\",\"title\":\"중년의 뱃살 빼는데 좋은 식습관, 그리고 식품 10\",\"label\":null,\"url\":\"https://v.daum.net/v/20220622085928504\",\"icon\":\"TEXT\",\"imageUrl\":\"https://t1.daumcdn.net/news/202206/22/KorMedi/20220622085934856kzmq.jpg\",\"source\":\"코메디닷컴\",\"position\":0,\"meta\":{\"impressionId\":\"toros_cloud_alpha\",\"contentUniqueKey\":\"hamny-20220622085928504\",\"mediaName\":\"코메디닷컴\",\"torosRanking\":32,\"torosScore\":0.0056981416,\"poolCode\":\"p_news_auto_txt\",\"feedId\":11,\"feedName\":\"하모니\",\"clusterTitle\":\"\"}},{\"id\":\"hamny-20220622154603064\",\"title\":\"尹, 한국 대통령 최초 나토 정상회의 참석..\\\"김건희 여사도 동행할 듯\\\"\",\"label\":null,\"url\":\"https://v.daum.net/v/20220622154603064\",\"icon\":\"TEXT\",\"imageUrl\":\"https://t1.daumcdn.net/news/202206/22/seoul/20220622154603578fwwm.jpg\",\"source\":\"서울신문\",\"position\":0,\"meta\":{\"impressionId\":\"toros_cloud_alpha\",\"contentUniqueKey\":\"hamny-20220622154603064\",\"mediaName\":\"서울신문\",\"torosRanking\":39,\"torosScore\":0.0051693333,\"poolCode\":\"p_news_auto_txt\",\"feedId\":11,\"feedName\":\"하모니\",\"clusterTitle\":\"\"}},{\"id\":\"hamny-20220622122215490\",\"title\":\"증상 숨긴 원숭이두창 의심자, 열 없다고 통과..공항 검역 논란\",\"label\":null,\"url\":\"https://v.daum.net/v/20220622122215490\",\"icon\":\"TEXT\",\"imageUrl\":\"https://t1.daumcdn.net/news/202206/22/joongang/20220622122216483djoh.jpg\",\"source\":\"중앙일보\",\"position\":0,\"meta\":{\"impressionId\":\"toros_cloud_alpha\",\"contentUniqueKey\":\"hamny-20220622122215490\",\"mediaName\":\"중앙일보\",\"torosRanking\":38,\"torosScore\":0.0052275817,\"poolCode\":\"p_news_auto_txt\",\"feedId\":11,\"feedName\":\"하모니\",\"clusterTitle\":\"\"}},{\"id\":\"hamny-20220622154712127\",\"title\":\"원숭이두창 국내 첫 확진자 발생..잠복기 최대 3주·치명율은 3~6%\",\"label\":null,\"url\":\"https://v.daum.net/v/20220622154712127\",\"icon\":\"TEXT\",\"imageUrl\":\"https://t1.daumcdn.net/news/202206/22/ned/20220622154714977rgym.jpg\",\"source\":\"헤럴드경제\",\"position\":0,\"meta\":{\"impressionId\":\"toros_cloud_alpha\",\"contentUniqueKey\":\"hamny-20220622154712127\",\"mediaName\":\"헤럴드경제\",\"torosRanking\":43,\"torosScore\":0.0049779251,\"poolCode\":\"p_news_auto_txt\",\"feedId\":11,\"feedName\":\"하모니\",\"clusterTitle\":\"\"}},{\"id\":\"hamny-20220622150214865\",\"title\":\"5·18 도청 앞 집단발포 직전 계엄군 사진 공개\",\"label\":null,\"url\":\"https://v.daum.net/v/20220622150214865\",\"icon\":\"TEXT\",\"imageUrl\":\"https://t1.daumcdn.net/news/202206/22/yonhap/20220622150214116gfke.jpg\",\"source\":\"연합뉴스\",\"position\":0,\"meta\":{\"impressionId\":\"toros_cloud_alpha\",\"contentUniqueKey\":\"hamny-20220622150214865\",\"mediaName\":\"연합뉴스\",\"torosRanking\":41,\"torosScore\":0.0051052834,\"poolCode\":\"p_news_auto_txt\",\"feedId\":11,\"feedName\":\"하모니\",\"clusterTitle\":\"\"}},{\"id\":\"hamny-20220622151047233\",\"title\":\"'최강욱 저격' 박지현, 경찰 고발됐다.. 명예훼손·무고 혐의\",\"label\":null,\"url\":\"https://v.daum.net/v/20220622151047233\",\"icon\":\"TEXT\",\"imageUrl\":\"https://t1.daumcdn.net/news/202206/22/Edaily/20220622151052113wlra.jpg\",\"source\":\"이데일리\",\"position\":0,\"meta\":{\"impressionId\":\"toros_cloud_alpha\",\"contentUniqueKey\":\"hamny-20220622151047233\",\"mediaName\":\"이데일리\",\"torosRanking\":45,\"torosScore\":0.0049686691,\"poolCode\":\"p_news_auto_txt\",\"feedId\":11,\"feedName\":\"하모니\",\"clusterTitle\":\"\"}},{\"id\":\"hamny-20220622154325875\",\"title\":\"이준석, 경고만 받아도 치명타?..징계별 시나리오 짚어보니\",\"label\":null,\"url\":\"https://v.daum.net/v/20220622154325875\",\"icon\":\"TEXT\",\"imageUrl\":\"https://t1.daumcdn.net/news/202206/22/NEWS1/20220622154327082jwsj.jpg\",\"source\":\"뉴스1\",\"position\":0,\"meta\":{\"impressionId\":\"toros_cloud_alpha\",\"contentUniqueKey\":\"hamny-20220622154325875\",\"mediaName\":\"뉴스1\",\"torosRanking\":56,\"torosScore\":0.0046377485,\"poolCode\":\"p_news_auto_txt\",\"feedId\":11,\"feedName\":\"하모니\",\"clusterTitle\":\"\"}},{\"id\":\"hamny-20220622154416935\",\"title\":\"시민단체, 박지현 명예훼손·무고 혐의로 고발..\\\"최강욱 평판 훼손\\\"\",\"label\":null,\"url\":\"https://v.daum.net/v/20220622154416935\",\"icon\":\"TEXT\",\"imageUrl\":\"https://t1.daumcdn.net/news/202206/22/newsis/20220622154416426ztkd.jpg\",\"source\":\"뉴시스\",\"position\":0,\"meta\":{\"impressionId\":\"toros_cloud_alpha\",\"contentUniqueKey\":\"hamny-20220622154416935\",\"mediaName\":\"뉴시스\",\"torosRanking\":51,\"torosScore\":0.0047514731,\"poolCode\":\"p_news_auto_txt\",\"feedId\":11,\"feedName\":\"하모니\",\"clusterTitle\":\"\"}},{\"id\":\"hamny-20220622142403010\",\"title\":\"실명까지..당뇨병 환자 시력 떨어지는 이유\",\"label\":null,\"url\":\"https://v.daum.net/v/20220622142403010\",\"icon\":\"TEXT\",\"imageUrl\":\"https://t1.daumcdn.net/news/202206/22/KorMedi/20220622142410236xjdg.jpg\",\"source\":\"코메디닷컴\",\"position\":0,\"meta\":{\"impressionId\":\"toros_cloud_alpha\",\"contentUniqueKey\":\"hamny-20220622142403010\",\"mediaName\":\"코메디닷컴\",\"torosRanking\":48,\"torosScore\":0.0048242603,\"poolCode\":\"p_news_auto_txt\",\"feedId\":11,\"feedName\":\"하모니\",\"clusterTitle\":\"\"}},{\"id\":\"hamny-20220622144137872\",\"title\":\"'누리호 발사' 성공에..中전문가 \\\"한국의 노력은 칭찬받을 만하다\\\"\",\"label\":null,\"url\":\"https://v.daum.net/v/20220622144137872\",\"icon\":\"TEXT\",\"imageUrl\":\"https://t1.daumcdn.net/news/202206/22/segye/20220622144137798vcdy.jpg\",\"source\":\"세계일보\",\"position\":0,\"meta\":{\"impressionId\":\"toros_cloud_alpha\",\"contentUniqueKey\":\"hamny-20220622144137872\",\"mediaName\":\"세계일보\",\"torosRanking\":65,\"torosScore\":0.0044489876,\"poolCode\":\"p_news_auto_txt\",\"feedId\":11,\"feedName\":\"하모니\",\"clusterTitle\":\"\"}}],\"p_news_leverage_1\":[{\"id\":\"tv-337458904\",\"title\":\"'생애 첫 우승' 흔들림 없는 경기력으로 우승한 최가빈 [드림투어 6차전]\",\"label\":null,\"url\":\"https://newslink.media.daum.net/v/429811702\",\"icon\":\"VIDEO\",\"imageUrl\":\"https://thumb.kakaocdn.net/dna/kamp/source/rv6jkohk4bovcshdetef91ool/thumbs/thumb.jpg?credential=TuMuFGKUIcirOSjFzOpncbomGFEIdZWK&expires=33212786851&signature=m0vTolX9IZmZGEMHJT%2Fp%2F9vDN%2BQ%3D\",\"source\":\"KLPGA 드림·점프·챔피언스투어\",\"position\":0,\"meta\":{\"impressionId\":\"tromm\",\"contentUniqueKey\":\"tv-337458904\",\"mediaName\":\"KLPGA 드림·점프·챔피언스투어\",\"torosRanking\":0,\"torosScore\":0.0,\"poolCode\":\"p_news_leverage\",\"feedId\":22,\"feedName\":\"카카오TV\",\"clusterTitle\":\"\"}},{\"id\":\"tv-337451680\",\"title\":\"대식가 남매의 식습관 성형을 위해 달려온 '연예계 대표 소식가' 박소현! | KBS 220621 방송\",\"label\":null,\"url\":\"https://newslink.media.daum.net/v/429798876\",\"icon\":\"VIDEO\",\"imageUrl\":\"https://thumb.kakaocdn.net/dna/kamp/source/rv04s6cltixxv9qbow7q1p0u0/thumbs/thumb.jpg?credential=TuMuFGKUIcirOSjFzOpncbomGFEIdZWK&expires=33212732277&signature=UkYVdFRTAb9H2Bq9quN1mgfM%2BIM%3D&ts=1655823477\",\"source\":\"갓파더\",\"position\":0,\"meta\":{\"impressionId\":\"tromm\",\"contentUniqueKey\":\"tv-337451680\",\"mediaName\":\"갓파더\",\"torosRanking\":0,\"torosScore\":0.0,\"poolCode\":\"p_news_leverage\",\"feedId\":22,\"feedName\":\"카카오TV\",\"clusterTitle\":\"\"}}]},\"cabinets\":null,\"board\":false},{\"code\":2399,\"type\":\"PC_MEDIA_ENTER\",\"items\":{\"op\":{\"tab\":\"entertain\",\"title\":\"연예\",\"url\":\"https://entertain.daum.net/\"},\"left_thumbnail_op\":{\"imageUrl\":\"https://t1.daumcdn.net/section/oc/27ffdb3996d24edc9ee2b3fb7c4859f6\",\"label\":\"라벨\",\"title\":\"타이틀\",\"thumbnailType\":\"TESLA\",\"url\":\"https://www.daum.net\",\"status\":\"off\"},\"footLinkLeft\":{\"foot1\":\"{\\\"title\\\":\\\"TV영상\\\",\\\"url\\\":\\\"https://entertain.daum.net/tv\\\",\\\"tiaraTag\\\":\\\"tvnow\\\"}\",\"foot0\":\"{\\\"title\\\":\\\"많이 본 뉴스\\\",\\\"url\\\":\\\"https://entertain.daum.net/ranking/popular\\\",\\\"tiaraTag\\\":\\\"news\\\"}\",\"foot3\":\"{\\\"title\\\":\\\"투표\\\",\\\"url\\\":\\\"https://entertain.daum.net/poll\\\",\\\"tiaraTag\\\":\\\"poll\\\"}\",\"footer\":\"{\\\"title\\\":\\\"연예홈\\\",\\\"url\\\":\\\"https://entertain.daum.net/\\\"}\",\"foot2\":\"{\\\"title\\\":\\\"포토\\\",\\\"url\\\":\\\"https://entertain.daum.net/photo\\\",\\\"tiaraTag\\\":\\\"photo\\\"}\",\"foot4\":\"{\\\"title\\\":\\\"\\\",\\\"url\\\":\\\"\\\",\\\"tiaraTag\\\":\\\"\\\"}\",\"status\":\"on\"},\"footLinkRight\":{\"foot1\":\"{\\\"title\\\":\\\"요일별드라마\\\",\\\"url\\\":\\\"https://search.daum.net/search?w=tot&q=%EC%9A%94%EC%9D%BC%EB%B3%84%20%EB%93%9C%EB%9D%BC%EB%A7%88&DA=TMZ\\\",\\\"tiaraTag\\\":\\\"tvschedule\\\"}\",\"foot0\":\"{\\\"title\\\":\\\"시청률\\\",\\\"url\\\":\\\"https://search.daum.net/search?w=tot&q=%EC%8B%9C%EC%B2%AD%EB%A5%A0&DA=TMZ\\\",\\\"tiaraTag\\\":\\\"tvrating\\\"}\",\"foot2\":\"{\\\"title\\\":\\\"방금그곡\\\",\\\"url\\\":\\\"https://search.daum.net/search?w=tot&q=%EB%B0%A9%EA%B8%88%EA%B7%B8%EA%B3%A1&DA=TMZ\\\",\\\"tiaraTag\\\":\\\"nowsong\\\"}\",\"status\":\"on\"},\"specialLink\":{\"displayType\":\"hashText\",\"title\":\"#라이브 테스트\",\"url\":null,\"iconType\":\"LIVE\",\"status\":\"off\"}},\"feeds\":{},\"teslas\":{\"p_enter_img_1\":[{\"id\":\"tv-337451681\",\"title\":\"충격적인 '튼 살'.. 10개월 만에 20kg 이상 증가한 조나단!  KBS 220621 방송\",\"label\":null,\"url\":\"https://newslink.media.daum.net/v/429798877\",\"icon\":\"VIDEO\",\"imageUrl\":\"https://thumb.kakaocdn.net/dna/kamp/source/rv59tfu3ctw0npx20a16nc2no/thumbs/thumb.jpg?credential=TuMuFGKUIcirOSjFzOpncbomGFEIdZWK&expires=33212732277&signature=t1bQUVQtz96VmP9wLNCdYe9A1HU%3D&ts=1655823477\",\"source\":\"갓파더\",\"position\":0,\"meta\":{\"impressionId\":\"toros_cloud_alpha\",\"contentUniqueKey\":\"tv-337451681\",\"mediaName\":\"갓파더\",\"torosRanking\":1,\"torosScore\":0.0483702185,\"poolCode\":\"p_enter_img\",\"feedId\":22,\"feedName\":\"카카오TV\",\"clusterTitle\":\"\"}},{\"id\":\"tv-337447516\",\"title\":\"38회. [발리왔소유] 발리 가기 전에 빨리 봐야할 영상  인생샷 건지는 숙소, 핫한 비치클럽, 현지 맛집 그리고 소유의 여행 메이크업템까지  여행 VLOG in BALI\",\"label\":null,\"url\":\"https://newslink.media.daum.net/v/429791414\",\"icon\":\"VIDEO\",\"imageUrl\":\"http://t1.kakaocdn.net/kakaotv/ASSET/warhol_asset/vod_thumbnail/3fced1541e1a3e940895685d43b596fd58d3d9b7\",\"source\":\"소유기\",\"position\":0,\"meta\":{\"impressionId\":\"toros_cloud_alpha\",\"contentUniqueKey\":\"tv-337447516\",\"mediaName\":\"소유기\",\"torosRanking\":2,\"torosScore\":0.0465490353,\"poolCode\":\"p_enter_img\",\"feedId\":22,\"feedName\":\"카카오TV\",\"clusterTitle\":\"\"}},{\"id\":\"tv-337450610\",\"title\":\"일촉즉발! 궐을 떠난 박지연을 향해 조용히 활을 겨누는 하도권  KBS 220621 방송\",\"label\":null,\"url\":\"https://newslink.media.daum.net/v/429797005\",\"icon\":\"VIDEO\",\"imageUrl\":\"https://thumb.kakaocdn.net/dna/kamp/source/rvxh6ix824dn91xskke7qj2vj/thumbs/thumb.jpg?credential=TuMuFGKUIcirOSjFzOpncbomGFEIdZWK&expires=33212727237&signature=OMeHorXeZ93IbCt8GarZxEYw4l0%3D\",\"source\":\"붉은 단심\",\"position\":0,\"meta\":{\"impressionId\":\"toros_cloud_alpha\",\"contentUniqueKey\":\"tv-337450610\",\"mediaName\":\"붉은 단심\",\"torosRanking\":3,\"torosScore\":0.039461997,\"poolCode\":\"p_enter_img\",\"feedId\":22,\"feedName\":\"카카오TV\",\"clusterTitle\":\"\"}},{\"id\":\"tv-337451380\",\"title\":\"신동욱, 임수향과 보내는 행복한 첫날밤♥[해피엔딩]\",\"label\":null,\"url\":\"https://newslink.media.daum.net/v/429798334\",\"icon\":\"VIDEO\",\"imageUrl\":\"https://thumb.kakaocdn.net/dna/kamp/source/rv758yniykd3cdaty1pmc4k8i/thumbs/thumb.jpg?credential=TuMuFGKUIcirOSjFzOpncbomGFEIdZWK&expires=33212729986&signature=h8PLGEdviycht%2Feyt4ohTmbuNMA%3D\",\"source\":\"우리는 오늘부터\",\"position\":0,\"meta\":{\"impressionId\":\"toros_cloud_alpha\",\"contentUniqueKey\":\"tv-337451380\",\"mediaName\":\"우리는 오늘부터\",\"torosRanking\":4,\"torosScore\":0.0318370617,\"poolCode\":\"p_enter_img\",\"feedId\":22,\"feedName\":\"카카오TV\",\"clusterTitle\":\"\"}},{\"id\":\"tv-337452277\",\"title\":\"임원희, 게스트 신기루를 상대로 이길 수 있다고 호언장담!\",\"label\":null,\"url\":\"https://newslink.media.daum.net/v/429799925\",\"icon\":\"VIDEO\",\"imageUrl\":\"https://thumb.kakaocdn.net/dna/kamp/source/rvszeak6k4smy755kld7cidst/thumbs/thumb.jpg?credential=TuMuFGKUIcirOSjFzOpncbomGFEIdZWK&expires=33212734589&signature=mlTOpXzV9CkG%2BFNDKlA8kYyPaRs%3D&ts=1655825789\",\"source\":\"신발 벗고 돌싱포맨\",\"position\":0,\"meta\":{\"impressionId\":\"toros_cloud_alpha\",\"contentUniqueKey\":\"tv-337452277\",\"mediaName\":\"신발 벗고 돌싱포맨\",\"torosRanking\":5,\"torosScore\":0.0268391646,\"poolCode\":\"p_enter_img\",\"feedId\":22,\"feedName\":\"카카오TV\",\"clusterTitle\":\"\"}},{\"id\":\"tv-337448799\",\"title\":\"\\\"날 왜 이렇게 비참하게 만들어!\\\"퇴직을 숨기고 공사판에서 일하는 이한위에 눈물을 흘리는 김희정  KBS 220621 방송\",\"label\":null,\"url\":\"https://newslink.media.daum.net/v/429793719\",\"icon\":\"VIDEO\",\"imageUrl\":\"https://thumb.kakaocdn.net/dna/kamp/source/rveb9jz3azgurniby6erk1xns/thumbs/thumb.jpg?credential=TuMuFGKUIcirOSjFzOpncbomGFEIdZWK&expires=33212721805&signature=NI3npC3MlNynIAYibJ40geaj8uo%3D\",\"source\":\"으라차차 내 인생\",\"position\":0,\"meta\":{\"impressionId\":\"toros_cloud_alpha\",\"contentUniqueKey\":\"tv-337448799\",\"mediaName\":\"으라차차 내 인생\",\"torosRanking\":28,\"torosScore\":0.0148404618,\"poolCode\":\"p_enter_img\",\"feedId\":22,\"feedName\":\"카카오TV\",\"clusterTitle\":\"\"}},{\"id\":\"tv-337444115\",\"title\":\"\\\"우린 키스하면 안되나 봐..\\\" 윤시윤 ♥ 배다빈 석양 아래에서 로맨틱한 키스❤️  KBS 방송[＃핫클립​]\",\"label\":null,\"url\":\"https://newslink.media.daum.net/v/429785427\",\"icon\":\"VIDEO\",\"imageUrl\":\"https://thumb.kakaocdn.net/dna/kamp/source/rvwzmqwzqnf9o2v1825ytm6a0/thumbs/thumb.jpg?credential=TuMuFGKUIcirOSjFzOpncbomGFEIdZWK&expires=33212706178&signature=uo8Z9Ie3%2BfT5wKgmUkZlCp6Kuis%3D&ts=1655797378\",\"source\":\"현재는 아름다워\",\"position\":0,\"meta\":{\"impressionId\":\"toros_cloud_alpha\",\"contentUniqueKey\":\"tv-337444115\",\"mediaName\":\"현재는 아름다워\",\"torosRanking\":41,\"torosScore\":0.0105397996,\"poolCode\":\"p_enter_img\",\"feedId\":22,\"feedName\":\"카카오TV\",\"clusterTitle\":\"\"}},{\"id\":\"tv-337452432\",\"title\":\"육아 만렙! 주은 맘의 '아기 목욕 꿀팁' 大 방출!  KBS 220621 방송\",\"label\":null,\"url\":\"https://newslink.media.daum.net/v/429800198\",\"icon\":\"VIDEO\",\"imageUrl\":\"https://thumb.kakaocdn.net/dna/kamp/source/rvzx24rfinmi7hkv2jphvwur3/thumbs/thumb.jpg?credential=TuMuFGKUIcirOSjFzOpncbomGFEIdZWK&expires=33212735623&signature=HYZ3XVOUtOBHhwQiVyLvIijbNeY%3D&ts=1655826823\",\"source\":\"갓파더\",\"position\":0,\"meta\":{\"impressionId\":\"toros_cloud_alpha\",\"contentUniqueKey\":\"tv-337452432\",\"mediaName\":\"갓파더\",\"torosRanking\":9,\"torosScore\":0.0227944083,\"poolCode\":\"p_enter_img\",\"feedId\":22,\"feedName\":\"카카오TV\",\"clusterTitle\":\"\"}}],\"p_enter_auto_txt_1\":[{\"id\":\"hamny-20220622155023274\",\"title\":\"카드 제이셉 \\\"군 복무 마치고 합류, 집으로 돌아온 느낌\\\"\",\"label\":null,\"url\":\"https://v.daum.net/v/20220622155023274\",\"icon\":\"TEXT\",\"imageUrl\":\"https://t1.daumcdn.net/news/202206/22/ked/20220622155024961zzyu.jpg\",\"source\":\"한국경제\",\"position\":0,\"meta\":{\"impressionId\":\"toros_cloud_alpha\",\"contentUniqueKey\":\"hamny-20220622155023274\",\"mediaName\":\"한국경제\",\"torosRanking\":1,\"torosScore\":0.1227616864,\"poolCode\":\"p_enter_auto_txt\",\"feedId\":11,\"feedName\":\"하모니\",\"clusterTitle\":\"\"}},{\"id\":\"hamny-20220622155107307\",\"title\":\"'마녀는 살아있다' 이민영 \\\"김윤철 감독, 28년 만 재회..워맨스 기대\\\"\",\"label\":null,\"url\":\"https://v.daum.net/v/20220622155107307\",\"icon\":\"TEXT\",\"imageUrl\":\"https://t1.daumcdn.net/news/202206/22/startoday/20220622155109198ubfq.jpg\",\"source\":\"스타투데이\",\"position\":0,\"meta\":{\"impressionId\":\"toros_cloud_alpha\",\"contentUniqueKey\":\"hamny-20220622155107307\",\"mediaName\":\"스타투데이\",\"torosRanking\":2,\"torosScore\":0.0913665257,\"poolCode\":\"p_enter_auto_txt\",\"feedId\":11,\"feedName\":\"하모니\",\"clusterTitle\":\"\"}},{\"id\":\"hamny-20220622132137791\",\"title\":\"김민수 \\\"매일 30분 쇼핑..전담 택배기사도 있을 정도\\\"(최파타)\",\"label\":null,\"url\":\"https://v.daum.net/v/20220622132137791\",\"icon\":\"TEXT\",\"imageUrl\":\"https://t1.daumcdn.net/news/202206/22/newsen/20220622132138011dzqq.jpg\",\"source\":\"뉴스엔\",\"position\":0,\"meta\":{\"impressionId\":\"toros_cloud_alpha\",\"contentUniqueKey\":\"hamny-20220622132137791\",\"mediaName\":\"뉴스엔\",\"torosRanking\":8,\"torosScore\":0.0111378672,\"poolCode\":\"p_enter_auto_txt\",\"feedId\":11,\"feedName\":\"하모니\",\"clusterTitle\":\"\"}},{\"id\":\"hamny-20220622135100700\",\"title\":\"'운동선수 방송출연' 부정적 시선에 박세리가 한 말\",\"label\":null,\"url\":\"https://v.daum.net/v/20220622135100700\",\"icon\":\"TEXT\",\"imageUrl\":\"https://t1.daumcdn.net/news/202206/22/ohmynews/20220622135106141jfyt.jpg\",\"source\":\"오마이뉴스\",\"position\":0,\"meta\":{\"impressionId\":\"toros_cloud_alpha\",\"contentUniqueKey\":\"hamny-20220622135100700\",\"mediaName\":\"오마이뉴스\",\"torosRanking\":6,\"torosScore\":0.0128991439,\"poolCode\":\"p_enter_auto_txt\",\"feedId\":11,\"feedName\":\"하모니\",\"clusterTitle\":\"오마이뉴스 TV리뷰\"}},{\"id\":\"hamny-20220622105202216\",\"title\":\"'개그우먼' 김신영, 송혜교와 어깨 나란히 하더니..17년만 박찬욱·봉준호 픽 '스크린 복귀'[TEN스타필드]\",\"label\":null,\"url\":\"https://v.daum.net/v/20220622105202216\",\"icon\":\"TEXT\",\"imageUrl\":\"https://t1.daumcdn.net/news/202206/22/10asia/20220622105205290zmys.jpg\",\"source\":\"텐아시아\",\"position\":0,\"meta\":{\"impressionId\":\"toros_cloud_alpha\",\"contentUniqueKey\":\"hamny-20220622105202216\",\"mediaName\":\"텐아시아\",\"torosRanking\":7,\"torosScore\":0.0114010013,\"poolCode\":\"p_enter_auto_txt\",\"feedId\":11,\"feedName\":\"하모니\",\"clusterTitle\":\"\"}},{\"id\":\"hamny-20220622133232076\",\"title\":\"이용주 \\\"옷 잘 입는 이유? 파리 사는 母 옷 사서 보내줘\\\" '최파타'\",\"label\":null,\"url\":\"https://v.daum.net/v/20220622133232076\",\"icon\":\"TEXT\",\"imageUrl\":\"https://t1.daumcdn.net/news/202206/22/newsen/20220622133232726qdfu.jpg\",\"source\":\"뉴스엔\",\"position\":0,\"meta\":{\"impressionId\":\"toros_cloud_alpha\",\"contentUniqueKey\":\"hamny-20220622133232076\",\"mediaName\":\"뉴스엔\",\"torosRanking\":17,\"torosScore\":0.0077037384,\"poolCode\":\"p_enter_auto_txt\",\"feedId\":11,\"feedName\":\"하모니\",\"clusterTitle\":\"\"}},{\"id\":\"hamny-20220622152302801\",\"title\":\"옥주현, \\\"주둥이 놀린\\\" 김호영 고소..'옥장판'이 갈라놓은 우정[TEN피플]\",\"label\":null,\"url\":\"https://v.daum.net/v/20220622152302801\",\"icon\":\"TEXT\",\"imageUrl\":\"https://t1.daumcdn.net/news/202206/22/10asia/20220622152304332jour.jpg\",\"source\":\"텐아시아\",\"position\":0,\"meta\":{\"impressionId\":\"toros_cloud_alpha\",\"contentUniqueKey\":\"hamny-20220622152302801\",\"mediaName\":\"텐아시아\",\"torosRanking\":10,\"torosScore\":0.0099882862,\"poolCode\":\"p_enter_auto_txt\",\"feedId\":11,\"feedName\":\"하모니\",\"clusterTitle\":\"\"}},{\"id\":\"hamny-20220622131230597\",\"title\":\"싸이 측 \\\"'흠뻑쇼' 관객에 마스크 3장 제공, 공연 중 3회 교체\\\" [공식입장]\",\"label\":null,\"url\":\"https://v.daum.net/v/20220622131230597\",\"icon\":\"TEXT\",\"imageUrl\":\"https://t1.daumcdn.net/news/202206/22/tvreport/20220622131232781uwnl.jpg\",\"source\":\"TV리포트\",\"position\":0,\"meta\":{\"impressionId\":\"toros_cloud_alpha\",\"contentUniqueKey\":\"hamny-20220622131230597\",\"mediaName\":\"TV리포트\",\"torosRanking\":32,\"torosScore\":0.0065820077,\"poolCode\":\"p_enter_auto_txt\",\"feedId\":11,\"feedName\":\"하모니\",\"clusterTitle\":\"\"}},{\"id\":\"hamny-20220622140344271\",\"title\":\"홍은희, 김수로와 둘째 임신 해피엔딩 \\\"촬영하는 나도 즐거웠던 작품\\\"(우리는 오늘부터)\",\"label\":null,\"url\":\"https://v.daum.net/v/20220622140344271\",\"icon\":\"TEXT\",\"imageUrl\":\"https://t1.daumcdn.net/news/202206/22/poctan/20220622140345275jdfz.jpg\",\"source\":\"OSEN\",\"position\":0,\"meta\":{\"impressionId\":\"toros_cloud_alpha\",\"contentUniqueKey\":\"hamny-20220622140344271\",\"mediaName\":\"OSEN\",\"torosRanking\":38,\"torosScore\":0.0064073535,\"poolCode\":\"p_enter_auto_txt\",\"feedId\":11,\"feedName\":\"하모니\",\"clusterTitle\":\"\"}},{\"id\":\"hamny-20220622113036439\",\"title\":\"모태범, ♥임사랑과 차박 데이트..\\\"신혼부부인 줄 알겠네\\\" [신랑수업]\",\"label\":null,\"url\":\"https://v.daum.net/v/20220622113036439\",\"icon\":\"TEXT\",\"imageUrl\":\"https://t1.daumcdn.net/news/202206/22/starnews/20220622113037248fyhl.jpg\",\"source\":\"스타뉴스\",\"position\":0,\"meta\":{\"impressionId\":\"toros_cloud_alpha\",\"contentUniqueKey\":\"hamny-20220622113036439\",\"mediaName\":\"스타뉴스\",\"torosRanking\":39,\"torosScore\":0.0063954903,\"poolCode\":\"p_enter_auto_txt\",\"feedId\":11,\"feedName\":\"하모니\",\"clusterTitle\":\"\"}}]},\"cabinets\":null,\"board\":false},{\"code\":2376,\"type\":\"PC_MEDIA_SPORTS\",\"items\":{\"op\":{\"tab\":\"sports\",\"title\":\"스포츠\",\"url\":\"https://sports.daum.net/\"},\"left_thumbnail_op\":{\"imageUrl\":\"https://t1.daumcdn.net/section/oc/45850a36411641d09b4754c458e0fa5e\",\"label\":\"#Live\",\"title\":\"돌아온 불타는 그라운드 2021\",\"thumbnailType\":\"TESLA\",\"url\":\"https://tv.kakao.com/channel/2092/livelink/79515bc86a1e4bf2@now\",\"status\":\"off\"},\"scoreboard_op\":{\"scoreboardStatus\":\"on\",\"scoreboardType\":\"general\"},\"footLinkLeft\":{\"foot1\":\"{\\\"title\\\":\\\"해외축구\\\",\\\"url\\\":\\\"https://sports.daum.net/worldsoccer\\\",\\\"tiaraTag\\\":\\\"worldsoccer\\\"}\",\"foot0\":\"{\\\"title\\\":\\\"축구\\\",\\\"url\\\":\\\"https://sports.daum.net/soccer\\\",\\\"tiaraTag\\\":\\\"soccer\\\"}\",\"foot3\":\"{\\\"title\\\":\\\"해외야구\\\",\\\"url\\\":\\\"https://sports.daum.net/worldbaseball\\\",\\\"tiaraTag\\\":\\\"worldbaseball\\\"}\",\"footer\":\"{\\\"title\\\":\\\"스포츠홈\\\",\\\"url\\\":\\\"https://sports.daum.net/\\\"}\",\"foot2\":\"{\\\"title\\\":\\\"야구\\\",\\\"url\\\":\\\"https://sports.daum.net/baseball\\\",\\\"tiaraTag\\\":\\\"baseball\\\"}\",\"foot5\":\"{\\\"title\\\":\\\"농구\\\",\\\"url\\\":\\\"https://sports.daum.net/basketball\\\",\\\"tiaraTag\\\":\\\"basketball\\\"}\",\"foot4\":\"{\\\"title\\\":\\\"골프\\\",\\\"url\\\":\\\"https://sports.daum.net/golf\\\",\\\"tiaraTag\\\":\\\"golf\\\"}\",\"foot7\":\"{\\\"title\\\":\\\"일반\\\",\\\"url\\\":\\\"https://sports.daum.net/general\\\",\\\"tiaraTag\\\":\\\"general\\\"}\",\"foot6\":\"{\\\"title\\\":\\\"배구\\\",\\\"url\\\":\\\"https://sports.daum.net/volleyball\\\",\\\"tiaraTag\\\":\\\"volleyball\\\"}\",\"foot8\":\"{\\\"title\\\":\\\"e스포츠\\\",\\\"url\\\":\\\"https://sports.daum.net/esports\\\",\\\"tiaraTag\\\":\\\"esports\\\"}\",\"status\":\"on\"},\"footLinkRight\":{\"foot1\":\"{\\\"title\\\":\\\"\\\",\\\"url\\\":\\\"\\\",\\\"tiaraTag\\\":\\\"\\\"}\",\"foot0\":\"{\\\"title\\\":\\\"라이브스코어\\\",\\\"url\\\":\\\"https://search.daum.net/search?w=tot&q=%EB%9D%BC%EC%9D%B4%EB%B8%8C%20%EC%8A%A4%EC%BD%94%EC%96%B4&DA=TMZ\\\",\\\"tiaraTag\\\":\\\"livescore\\\"}\",\"foot2\":\"{\\\"title\\\":\\\"\\\",\\\"url\\\":\\\"\\\",\\\"tiaraTag\\\":\\\"\\\"}\",\"status\":\"on\"},\"specialLink\":{\"displayType\":\"specialLink\",\"title\":\"동계 패럴림픽\",\"url\":\"https://tv.kakao.com/channel/3021515/livelink/pn56v1g54yex7pvr@now\",\"iconType\":\"LIVE\",\"status\":\"off\"}},\"feeds\":{\"pc_media_sports_scoreboard\":\"[{\\\"status\\\":\\\"before\\\",\\\"event-code\\\":\\\"BASEBALL\\\",\\\"event-name\\\":\\\"야구\\\",\\\"category\\\":\\\"KBO\\\",\\\"league-name\\\":\\\"KBO\\\",\\\"game-date\\\":\\\"2022-06-22 18:30:00.0\\\",\\\"m-status-text\\\":\\\"분석\\\",\\\"pc-status-text\\\":\\\"분석\\\",\\\"period\\\":\\\"\\\",\\\"cast-type\\\":\\\"video\\\",\\\"game-id\\\":\\\"80055375\\\",\\\"pc-landing-url\\\":\\\"https://sports.daum.net/game/80055375\\\",\\\"m-landing-url\\\":\\\"https://sports.daum.net/game/80055375\\\",\\\"sort-seq\\\":\\\"5\\\",\\\"top-highlight-flag\\\":\\\"false\\\",\\\"top-pin-flag\\\":\\\"false\\\",\\\"home-team-id\\\":\\\"387\\\",\\\"home-team-name\\\":\\\"LG\\\",\\\"home-team-score\\\":\\\"\\\",\\\"home-tk-qty\\\":\\\"\\\",\\\"home-team-logo-url\\\":\\\"https://t1.daumcdn.net/media/img-section/sports13/logo/team/1/LG_300300.png\\\",\\\"away-team-id\\\":\\\"390\\\",\\\"away-team-name\\\":\\\"한화\\\",\\\"away-team-score\\\":\\\"\\\",\\\"away-tk-qty\\\":\\\"\\\",\\\"away-team-logo-url\\\":\\\"https://t1.daumcdn.net/media/img-section/sports13/logo/team/1/HH_300300.png\\\"},{\\\"status\\\":\\\"before\\\",\\\"event-code\\\":\\\"BASEBALL\\\",\\\"event-name\\\":\\\"야구\\\",\\\"category\\\":\\\"KBO\\\",\\\"league-name\\\":\\\"KBO\\\",\\\"game-date\\\":\\\"2022-06-22 18:30:00.0\\\",\\\"m-status-text\\\":\\\"분석\\\",\\\"pc-status-text\\\":\\\"분석\\\",\\\"period\\\":\\\"\\\",\\\"cast-type\\\":\\\"video\\\",\\\"game-id\\\":\\\"80055376\\\",\\\"pc-landing-url\\\":\\\"https://sports.daum.net/game/80055376\\\",\\\"m-landing-url\\\":\\\"https://sports.daum.net/game/80055376\\\",\\\"sort-seq\\\":\\\"5\\\",\\\"top-highlight-flag\\\":\\\"false\\\",\\\"top-pin-flag\\\":\\\"false\\\",\\\"home-team-id\\\":\\\"389\\\",\\\"home-team-name\\\":\\\"KIA\\\",\\\"home-team-score\\\":\\\"\\\",\\\"home-tk-qty\\\":\\\"\\\",\\\"home-team-logo-url\\\":\\\"https://t1.daumcdn.net/media/img-section/sports13/logo/team/1/HT_300300.png\\\",\\\"away-team-id\\\":\\\"386\\\",\\\"away-team-name\\\":\\\"롯데\\\",\\\"away-team-score\\\":\\\"\\\",\\\"away-tk-qty\\\":\\\"\\\",\\\"away-team-logo-url\\\":\\\"https://t1.daumcdn.net/media/img-section/sports13/logo/team/1/LT_300300.png\\\"},{\\\"status\\\":\\\"before\\\",\\\"event-code\\\":\\\"BASEBALL\\\",\\\"event-name\\\":\\\"야구\\\",\\\"category\\\":\\\"KBO\\\",\\\"league-name\\\":\\\"KBO\\\",\\\"game-date\\\":\\\"2022-06-22 18:30:00.0\\\",\\\"m-status-text\\\":\\\"분석\\\",\\\"pc-status-text\\\":\\\"분석\\\",\\\"period\\\":\\\"\\\",\\\"cast-type\\\":\\\"video\\\",\\\"game-id\\\":\\\"80055377\\\",\\\"pc-landing-url\\\":\\\"https://sports.daum.net/game/80055377\\\",\\\"m-landing-url\\\":\\\"https://sports.daum.net/game/80055377\\\",\\\"sort-seq\\\":\\\"5\\\",\\\"top-highlight-flag\\\":\\\"false\\\",\\\"top-pin-flag\\\":\\\"false\\\",\\\"home-team-id\\\":\\\"394601\\\",\\\"home-team-name\\\":\\\"KT\\\",\\\"home-team-score\\\":\\\"\\\",\\\"home-tk-qty\\\":\\\"\\\",\\\"home-team-logo-url\\\":\\\"https://t1.daumcdn.net/media/img-section/sports13/logo/team/1/KT_300300.png\\\",\\\"away-team-id\\\":\\\"172615\\\",\\\"away-team-name\\\":\\\"NC\\\",\\\"away-team-score\\\":\\\"\\\",\\\"away-tk-qty\\\":\\\"\\\",\\\"away-team-logo-url\\\":\\\"https://t1.daumcdn.net/media/img-section/sports13/logo/team/1/NC_300300.png\\\"},{\\\"status\\\":\\\"before\\\",\\\"event-code\\\":\\\"BASEBALL\\\",\\\"event-name\\\":\\\"야구\\\",\\\"category\\\":\\\"KBO\\\",\\\"league-name\\\":\\\"KBO\\\",\\\"game-date\\\":\\\"2022-06-22 18:30:00.0\\\",\\\"m-status-text\\\":\\\"분석\\\",\\\"pc-status-text\\\":\\\"분석\\\",\\\"period\\\":\\\"\\\",\\\"cast-type\\\":\\\"video\\\",\\\"game-id\\\":\\\"80055378\\\",\\\"pc-landing-url\\\":\\\"https://sports.daum.net/game/80055378\\\",\\\"m-landing-url\\\":\\\"https://sports.daum.net/game/80055378\\\",\\\"sort-seq\\\":\\\"5\\\",\\\"top-highlight-flag\\\":\\\"false\\\",\\\"top-pin-flag\\\":\\\"false\\\",\\\"home-team-id\\\":\\\"384\\\",\\\"home-team-name\\\":\\\"SSG\\\",\\\"home-team-score\\\":\\\"\\\",\\\"home-tk-qty\\\":\\\"\\\",\\\"home-team-logo-url\\\":\\\"https://t1.daumcdn.net/media/img-section/sports13/logo/team/1/SK_300300.png\\\",\\\"away-team-id\\\":\\\"385\\\",\\\"away-team-name\\\":\\\"두산\\\",\\\"away-team-score\\\":\\\"\\\",\\\"away-tk-qty\\\":\\\"\\\",\\\"away-team-logo-url\\\":\\\"https://t1.daumcdn.net/media/img-section/sports13/logo/team/1/OB_300300.png\\\"},{\\\"status\\\":\\\"before\\\",\\\"event-code\\\":\\\"BASEBALL\\\",\\\"event-name\\\":\\\"야구\\\",\\\"category\\\":\\\"KBO\\\",\\\"league-name\\\":\\\"KBO\\\",\\\"game-date\\\":\\\"2022-06-22 18:30:00.0\\\",\\\"m-status-text\\\":\\\"분석\\\",\\\"pc-status-text\\\":\\\"분석\\\",\\\"period\\\":\\\"\\\",\\\"cast-type\\\":\\\"video\\\",\\\"game-id\\\":\\\"80055379\\\",\\\"pc-landing-url\\\":\\\"https://sports.daum.net/game/80055379\\\",\\\"m-landing-url\\\":\\\"https://sports.daum.net/game/80055379\\\",\\\"sort-seq\\\":\\\"5\\\",\\\"top-highlight-flag\\\":\\\"false\\\",\\\"top-pin-flag\\\":\\\"false\\\",\\\"home-team-id\\\":\\\"383\\\",\\\"home-team-name\\\":\\\"삼성\\\",\\\"home-team-score\\\":\\\"\\\",\\\"home-tk-qty\\\":\\\"\\\",\\\"home-team-logo-url\\\":\\\"https://t1.daumcdn.net/media/img-section/sports13/logo/team/1/SS_300300.png\\\",\\\"away-team-id\\\":\\\"382\\\",\\\"away-team-name\\\":\\\"키움\\\",\\\"away-team-score\\\":\\\"\\\",\\\"away-tk-qty\\\":\\\"\\\",\\\"away-team-logo-url\\\":\\\"https://t1.daumcdn.net/media/img-section/sports13/logo/team/1/WO_300300.png\\\"},{\\\"status\\\":\\\"before\\\",\\\"event-code\\\":\\\"SOCCER\\\",\\\"event-name\\\":\\\"축구\\\",\\\"category\\\":\\\"KL\\\",\\\"league-name\\\":\\\"K리그1\\\",\\\"game-date\\\":\\\"2022-06-22 19:00:00.0\\\",\\\"m-status-text\\\":\\\"분석\\\",\\\"pc-status-text\\\":\\\"분석\\\",\\\"period\\\":\\\"\\\",\\\"cast-type\\\":\\\"video\\\",\\\"game-id\\\":\\\"80055878\\\",\\\"pc-landing-url\\\":\\\"https://sports.daum.net/game/80055878\\\",\\\"m-landing-url\\\":\\\"https://sports.daum.net/game/80055878\\\",\\\"sort-seq\\\":\\\"5\\\",\\\"top-highlight-flag\\\":\\\"false\\\",\\\"top-pin-flag\\\":\\\"false\\\",\\\"home-team-id\\\":\\\"5\\\",\\\"home-team-name\\\":\\\"전북\\\",\\\"home-team-score\\\":\\\"\\\",\\\"home-tk-qty\\\":\\\"\\\",\\\"home-team-logo-url\\\":\\\"https://t1.daumcdn.net/media/img-section/sports13/logo/team/6/K05_300300.png\\\",\\\"away-team-id\\\":\\\"2\\\",\\\"away-team-name\\\":\\\"수원\\\",\\\"away-team-score\\\":\\\"\\\",\\\"away-tk-qty\\\":\\\"\\\",\\\"away-team-logo-url\\\":\\\"https://t1.daumcdn.net/media/img-section/sports13/logo/team/6/K02_300300.png\\\"},{\\\"status\\\":\\\"before\\\",\\\"event-code\\\":\\\"SOCCER\\\",\\\"event-name\\\":\\\"축구\\\",\\\"category\\\":\\\"KL2\\\",\\\"league-name\\\":\\\"K리그2\\\",\\\"game-date\\\":\\\"2022-06-22 19:00:00.0\\\",\\\"m-status-text\\\":\\\"분석\\\",\\\"pc-status-text\\\":\\\"분석\\\",\\\"period\\\":\\\"\\\",\\\"cast-type\\\":\\\"video\\\",\\\"game-id\\\":\\\"80056124\\\",\\\"pc-landing-url\\\":\\\"https://sports.daum.net/game/80056124\\\",\\\"m-landing-url\\\":\\\"https://sports.daum.net/game/80056124\\\",\\\"sort-seq\\\":\\\"5\\\",\\\"top-highlight-flag\\\":\\\"false\\\",\\\"top-pin-flag\\\":\\\"false\\\",\\\"home-team-id\\\":\\\"19\\\",\\\"home-team-name\\\":\\\"경남\\\",\\\"home-team-score\\\":\\\"\\\",\\\"home-tk-qty\\\":\\\"\\\",\\\"home-team-logo-url\\\":\\\"https://t1.daumcdn.net/media/img-section/sports13/logo/team/6/K20_300300.png\\\",\\\"away-team-id\\\":\\\"600983\\\",\\\"away-team-name\\\":\\\"충남아산\\\",\\\"away-team-score\\\":\\\"\\\",\\\"away-tk-qty\\\":\\\"\\\",\\\"away-team-logo-url\\\":\\\"https://t1.daumcdn.net/media/img-section/sports13/logo/team/6/K34_300300.png\\\"},{\\\"status\\\":\\\"before\\\",\\\"event-code\\\":\\\"SOCCER\\\",\\\"event-name\\\":\\\"축구\\\",\\\"category\\\":\\\"KL\\\",\\\"league-name\\\":\\\"K리그1\\\",\\\"game-date\\\":\\\"2022-06-22 19:30:00.0\\\",\\\"m-status-text\\\":\\\"분석\\\",\\\"pc-status-text\\\":\\\"분석\\\",\\\"period\\\":\\\"\\\",\\\"cast-type\\\":\\\"video\\\",\\\"game-id\\\":\\\"80055879\\\",\\\"pc-landing-url\\\":\\\"https://sports.daum.net/game/80055879\\\",\\\"m-landing-url\\\":\\\"https://sports.daum.net/game/80055879\\\",\\\"sort-seq\\\":\\\"5\\\",\\\"top-highlight-flag\\\":\\\"false\\\",\\\"top-pin-flag\\\":\\\"false\\\",\\\"home-team-id\\\":\\\"9\\\",\\\"home-team-name\\\":\\\"서울\\\",\\\"home-team-score\\\":\\\"\\\",\\\"home-tk-qty\\\":\\\"\\\",\\\"home-team-logo-url\\\":\\\"https://t1.daumcdn.net/media/img-section/sports13/logo/team/6/K09_300300.png\\\",\\\"away-team-id\\\":\\\"1\\\",\\\"away-team-name\\\":\\\"울산\\\",\\\"away-team-score\\\":\\\"\\\",\\\"away-tk-qty\\\":\\\"\\\",\\\"away-team-logo-url\\\":\\\"https://t1.daumcdn.net/media/img-section/sports13/logo/team/6/K01_300300.png\\\"},{\\\"status\\\":\\\"before\\\",\\\"event-code\\\":\\\"SOCCER\\\",\\\"event-name\\\":\\\"축구\\\",\\\"category\\\":\\\"KL\\\",\\\"league-name\\\":\\\"K리그1\\\",\\\"game-date\\\":\\\"2022-06-22 19:30:00.0\\\",\\\"m-status-text\\\":\\\"분석\\\",\\\"pc-status-text\\\":\\\"분석\\\",\\\"period\\\":\\\"\\\",\\\"cast-type\\\":\\\"video\\\",\\\"game-id\\\":\\\"80055880\\\",\\\"pc-landing-url\\\":\\\"https://sports.daum.net/game/80055880\\\",\\\"m-landing-url\\\":\\\"https://sports.daum.net/game/80055880\\\",\\\"sort-seq\\\":\\\"5\\\",\\\"top-highlight-flag\\\":\\\"false\\\",\\\"top-pin-flag\\\":\\\"false\\\",\\\"home-team-id\\\":\\\"18\\\",\\\"home-team-name\\\":\\\"인천\\\",\\\"home-team-score\\\":\\\"\\\",\\\"home-tk-qty\\\":\\\"\\\",\\\"home-team-logo-url\\\":\\\"https://t1.daumcdn.net/media/img-section/sports13/logo/team/6/K18_300300.png\\\",\\\"away-team-id\\\":\\\"20\\\",\\\"away-team-name\\\":\\\"강원\\\",\\\"away-team-score\\\":\\\"\\\",\\\"away-tk-qty\\\":\\\"\\\",\\\"away-team-logo-url\\\":\\\"https://t1.daumcdn.net/media/img-section/sports13/logo/team/6/K21_300300.png\\\"},{\\\"status\\\":\\\"before\\\",\\\"event-code\\\":\\\"SOCCER\\\",\\\"event-name\\\":\\\"축구\\\",\\\"category\\\":\\\"KL2\\\",\\\"league-name\\\":\\\"K리그2\\\",\\\"game-date\\\":\\\"2022-06-22 19:30:00.0\\\",\\\"m-status-text\\\":\\\"분석\\\",\\\"pc-status-text\\\":\\\"분석\\\",\\\"period\\\":\\\"\\\",\\\"cast-type\\\":\\\"video\\\",\\\"game-id\\\":\\\"80056125\\\",\\\"pc-landing-url\\\":\\\"https://sports.daum.net/game/80056125\\\",\\\"m-landing-url\\\":\\\"https://sports.daum.net/game/80056125\\\",\\\"sort-seq\\\":\\\"5\\\",\\\"top-highlight-flag\\\":\\\"false\\\",\\\"top-pin-flag\\\":\\\"false\\\",\\\"home-team-id\\\":\\\"341965\\\",\\\"home-team-name\\\":\\\"서울E\\\",\\\"home-team-score\\\":\\\"\\\",\\\"home-tk-qty\\\":\\\"\\\",\\\"home-team-logo-url\\\":\\\"https://t1.daumcdn.net/media/img-section/sports13/logo/team/6/K31_300300.png\\\",\\\"away-team-id\\\":\\\"546199\\\",\\\"away-team-name\\\":\\\"안산\\\",\\\"away-team-score\\\":\\\"\\\",\\\"away-tk-qty\\\":\\\"\\\",\\\"away-team-logo-url\\\":\\\"https://t1.daumcdn.net/media/img-section/sports13/logo/team/6/K32_300300.png\\\"},{\\\"status\\\":\\\"before\\\",\\\"event-code\\\":\\\"SOCCER\\\",\\\"event-name\\\":\\\"축구\\\",\\\"category\\\":\\\"KL2\\\",\\\"league-name\\\":\\\"K리그2\\\",\\\"game-date\\\":\\\"2022-06-22 19:30:00.0\\\",\\\"m-status-text\\\":\\\"분석\\\",\\\"pc-status-text\\\":\\\"분석\\\",\\\"period\\\":\\\"\\\",\\\"cast-type\\\":\\\"video\\\",\\\"game-id\\\":\\\"80056126\\\",\\\"pc-landing-url\\\":\\\"https://sports.daum.net/game/80056126\\\",\\\"m-landing-url\\\":\\\"https://sports.daum.net/game/80056126\\\",\\\"sort-seq\\\":\\\"5\\\",\\\"top-highlight-flag\\\":\\\"false\\\",\\\"top-pin-flag\\\":\\\"false\\\",\\\"home-team-id\\\":\\\"163983\\\",\\\"home-team-name\\\":\\\"부천\\\",\\\"home-team-score\\\":\\\"\\\",\\\"home-tk-qty\\\":\\\"\\\",\\\"home-team-logo-url\\\":\\\"https://t1.daumcdn.net/media/img-section/sports13/logo/team/6/K26_300300.png\\\",\\\"away-team-id\\\":\\\"163984\\\",\\\"away-team-name\\\":\\\"안양\\\",\\\"away-team-score\\\":\\\"\\\",\\\"away-tk-qty\\\":\\\"\\\",\\\"away-team-logo-url\\\":\\\"https://t1.daumcdn.net/media/img-section/sports13/logo/team/6/K27_300300.png\\\"},{\\\"status\\\":\\\"end\\\",\\\"event-code\\\":\\\"WORLDBASEBALL\\\",\\\"event-name\\\":\\\"해외야구\\\",\\\"category\\\":\\\"MLB\\\",\\\"league-name\\\":\\\"MLB\\\",\\\"game-date\\\":\\\"2022-06-22 10:40:00.0\\\",\\\"m-status-text\\\":\\\"기록\\\",\\\"pc-status-text\\\":\\\"기록\\\",\\\"period\\\":\\\"\\\",\\\"cast-type\\\":\\\"text\\\",\\\"game-id\\\":\\\"80058146\\\",\\\"pc-landing-url\\\":\\\"https://sports.daum.net/game/80058146\\\",\\\"m-landing-url\\\":\\\"https://sports.daum.net/game/80058146\\\",\\\"sort-seq\\\":\\\"8\\\",\\\"top-highlight-flag\\\":\\\"false\\\",\\\"top-pin-flag\\\":\\\"false\\\",\\\"home-team-id\\\":\\\"438\\\",\\\"home-team-name\\\":\\\"샌디에이고\\\",\\\"home-team-score\\\":\\\"3\\\",\\\"home-tk-qty\\\":\\\"\\\",\\\"home-team-logo-url\\\":\\\"https://t1.daumcdn.net/media/img-section/sports13/logo/team/3/SD_300300.png\\\",\\\"away-team-id\\\":\\\"442\\\",\\\"away-team-name\\\":\\\"애리조나\\\",\\\"away-team-score\\\":\\\"2\\\",\\\"away-tk-qty\\\":\\\"\\\",\\\"away-team-logo-url\\\":\\\"https://t1.daumcdn.net/media/img-section/sports13/logo/team/3/AZ_300300.png\\\"}]\"},\"teslas\":{\"p_sports_img_1\":[{\"id\":\"tv-337449465\",\"title\":\"박찬호, 감탄을 안 할래야 안 할 수가 없는 점프 캐치\",\"label\":null,\"url\":\"https://newslink.media.daum.net/v/429794888\",\"icon\":\"VIDEO\",\"imageUrl\":\"http://img1.kakaocdn.net/kakaotv/KAKAOACCOUNT/1749875377/thumb/20220621214224\",\"source\":\"KBO리그\",\"position\":0,\"meta\":{\"impressionId\":\"toros_cloud_alpha\",\"contentUniqueKey\":\"tv-337449465\",\"mediaName\":\"KBO리그\",\"torosRanking\":1,\"torosScore\":0.0940394685,\"poolCode\":\"p_sports_img\",\"feedId\":22,\"feedName\":\"카카오TV\",\"clusterTitle\":\"\"}},{\"id\":\"tv-337448716\",\"title\":\"미쳤다 이승우! 소름돋는 슈퍼골과 환상적인 댄싱\",\"label\":null,\"url\":\"https://newslink.media.daum.net/v/429793569\",\"icon\":\"VIDEO\",\"imageUrl\":\"http://img1.kakaocdn.net/kakaotv/KAKAOACCOUNT/851683045/thumb/20220621205858\",\"source\":\"K리그\",\"position\":0,\"meta\":{\"impressionId\":\"toros_cloud_alpha\",\"contentUniqueKey\":\"tv-337448716\",\"mediaName\":\"K리그\",\"torosRanking\":2,\"torosScore\":0.0706203774,\"poolCode\":\"p_sports_img\",\"feedId\":22,\"feedName\":\"카카오TV\",\"clusterTitle\":\"\"}},{\"id\":\"tv-337458733\",\"title\":\"가까운 파 퍼트 놓치며 선두권에서 멀어지는 최혜진2 [드림투어 6차전]\",\"label\":null,\"url\":\"https://newslink.media.daum.net/v/429811427\",\"icon\":\"VIDEO\",\"imageUrl\":\"https://thumb.kakaocdn.net/dna/kamp/source/rv9wnck9weyrib8qng813bjk0/thumbs/thumb.jpg?credential=TuMuFGKUIcirOSjFzOpncbomGFEIdZWK&expires=33212786107&signature=bTZCCYvVukYlIFt2ZhrD3RYrurE%3D\",\"source\":\"KLPGA 드림·점프·챔피언스투어\",\"position\":0,\"meta\":{\"impressionId\":\"toros_cloud_alpha\",\"contentUniqueKey\":\"tv-337458733\",\"mediaName\":\"KLPGA 드림·점프·챔피언스투어\",\"torosRanking\":10,\"torosScore\":0.0293504216,\"poolCode\":\"p_sports_img\",\"feedId\":22,\"feedName\":\"카카오TV\",\"clusterTitle\":\"\"}},{\"id\":\"tv-337448189\",\"title\":\"이민호, 박정현의 머리로 향했던 아찔한 투구\",\"label\":null,\"url\":\"https://newslink.media.daum.net/v/429792660\",\"icon\":\"VIDEO\",\"imageUrl\":\"http://img1.kakaocdn.net/kakaotv/KAKAOACCOUNT/518074629/thumb/20220621202444\",\"source\":\"KBO리그\",\"position\":0,\"meta\":{\"impressionId\":\"toros_cloud_alpha\",\"contentUniqueKey\":\"tv-337448189\",\"mediaName\":\"KBO리그\",\"torosRanking\":18,\"torosScore\":0.0141417927,\"poolCode\":\"p_sports_img\",\"feedId\":22,\"feedName\":\"카카오TV\",\"clusterTitle\":\"\"}},{\"id\":\"tv-337458816\",\"title\":\"3연속 득점으로 승기를 잡고 매치포인트 놓치는 강동궁[경주 블루원리조트 PBA 챔피언십]\",\"label\":null,\"url\":\"https://newslink.media.daum.net/v/429811568\",\"icon\":\"VIDEO\",\"imageUrl\":\"http://img1.kakaocdn.net/kakaotv/KAKAOACCOUNT/1534354358/thumb/20220622150038\",\"source\":\"당구 종합\",\"position\":0,\"meta\":{\"impressionId\":\"toros_cloud_alpha\",\"contentUniqueKey\":\"tv-337458816\",\"mediaName\":\"당구 종합\",\"torosRanking\":3,\"torosScore\":0.0431358538,\"poolCode\":\"p_sports_img\",\"feedId\":22,\"feedName\":\"카카오TV\",\"clusterTitle\":\"\"}},{\"id\":\"tv-337458626\",\"title\":\"샷 이글을 만들뻔한 정시우의 날카로운 서드 샷 [드림투어 6차전]\",\"label\":null,\"url\":\"https://newslink.media.daum.net/v/429811241\",\"icon\":\"VIDEO\",\"imageUrl\":\"https://thumb.kakaocdn.net/dna/kamp/source/rvqi4hpd0z7zyntj130i5pdlj/thumbs/thumb.jpg?credential=TuMuFGKUIcirOSjFzOpncbomGFEIdZWK&expires=33212785570&signature=3ZfRAEyzHEwEtBUWaeIrUXK6pS8%3D\",\"source\":\"KLPGA 드림·점프·챔피언스투어\",\"position\":0,\"meta\":{\"impressionId\":\"toros_cloud_alpha\",\"contentUniqueKey\":\"tv-337458626\",\"mediaName\":\"KLPGA 드림·점프·챔피언스투어\",\"torosRanking\":13,\"torosScore\":0.0235616956,\"poolCode\":\"p_sports_img\",\"feedId\":22,\"feedName\":\"카카오TV\",\"clusterTitle\":\"\"}},{\"id\":\"tv-337449946\",\"title\":\"'역대 1호' 9년 연속 20홈런 대기록 달성[박병호HL]\",\"label\":null,\"url\":\"https://newslink.media.daum.net/v/429795774\",\"icon\":\"VIDEO\",\"imageUrl\":\"http://img1.kakaocdn.net/kakaotv/KAKAOACCOUNT/187037574/thumb/20220621220258\",\"source\":\"KBO리그\",\"position\":0,\"meta\":{\"impressionId\":\"toros_cloud_alpha\",\"contentUniqueKey\":\"tv-337449946\",\"mediaName\":\"KBO리그\",\"torosRanking\":19,\"torosScore\":0.0137403349,\"poolCode\":\"p_sports_img\",\"feedId\":22,\"feedName\":\"카카오TV\",\"clusterTitle\":\"\"}},{\"id\":\"tv-337458780\",\"title\":\"5점 하이런으로 역전하며 좋은 컨디션 보여주는 강동궁[경주 블루원리조트 PBA 챔피언십]\",\"label\":null,\"url\":\"https://newslink.media.daum.net/v/429811501\",\"icon\":\"VIDEO\",\"imageUrl\":\"http://img1.kakaocdn.net/kakaotv/KAKAOACCOUNT/1446858119/thumb/20220622145917\",\"source\":\"당구 종합\",\"position\":0,\"meta\":{\"impressionId\":\"toros_cloud_alpha\",\"contentUniqueKey\":\"tv-337458780\",\"mediaName\":\"당구 종합\",\"torosRanking\":4,\"torosScore\":0.0407341396,\"poolCode\":\"p_sports_img\",\"feedId\":22,\"feedName\":\"카카오TV\",\"clusterTitle\":\"\"}}],\"p_sports_auto_txt_1\":[{\"id\":\"hamny-20220622114452186\",\"title\":\"'타구속도 163km' 호쾌한 타구 날린 김하성, 2루타 아닌 실책 판정 아쉽네\",\"label\":null,\"url\":\"https://v.daum.net/v/20220622114452186\",\"icon\":\"TEXT\",\"imageUrl\":\"https://t1.daumcdn.net/news/202206/22/poctan/20220622114452316lmva.jpg\",\"source\":\"OSEN\",\"position\":0,\"meta\":{\"impressionId\":\"toros_cloud_alpha\",\"contentUniqueKey\":\"hamny-20220622114452186\",\"mediaName\":\"OSEN\",\"torosRanking\":2,\"torosScore\":0.0173201031,\"poolCode\":\"p_sports_auto_txt\",\"feedId\":11,\"feedName\":\"하모니\",\"clusterTitle\":\"\"}},{\"id\":\"hamny-20220622151008196\",\"title\":\"2군에서도 1할대 추락..42억 FA 타자의 지독한 부진 언제까지\",\"label\":null,\"url\":\"https://v.daum.net/v/20220622151008196\",\"icon\":\"TEXT\",\"imageUrl\":\"https://t1.daumcdn.net/news/202206/22/mydaily/20220622151008777ljmg.jpg\",\"source\":\"마이데일리\",\"position\":0,\"meta\":{\"impressionId\":\"toros_cloud_alpha\",\"contentUniqueKey\":\"hamny-20220622151008196\",\"mediaName\":\"마이데일리\",\"torosRanking\":4,\"torosScore\":0.0144241792,\"poolCode\":\"p_sports_auto_txt\",\"feedId\":11,\"feedName\":\"하모니\",\"clusterTitle\":\"\"}},{\"id\":\"hamny-20220622142844232\",\"title\":\"\\\"네이마르, 팝니다\\\" 새 단장 충격 결단! 이적시장 폭풍 부나\",\"label\":null,\"url\":\"https://v.daum.net/v/20220622142844232\",\"icon\":\"TEXT\",\"imageUrl\":\"https://t1.daumcdn.net/news/202206/22/SpoChosun/20220622144428425hhwl.jpg\",\"source\":\"스포츠조선\",\"position\":0,\"meta\":{\"impressionId\":\"toros_cloud_alpha\",\"contentUniqueKey\":\"hamny-20220622142844232\",\"mediaName\":\"스포츠조선\",\"torosRanking\":5,\"torosScore\":0.012645029,\"poolCode\":\"p_sports_auto_txt\",\"feedId\":11,\"feedName\":\"하모니\",\"clusterTitle\":\"\"}},{\"id\":\"hamny-20220622154241849\",\"title\":\"2002 한일 월드컵 스페인전 주심, 오심 논란에 \\\"내 판정은 훌륭했어\\\"\",\"label\":null,\"url\":\"https://v.daum.net/v/20220622154241849\",\"icon\":\"TEXT\",\"imageUrl\":\"https://t1.daumcdn.net/news/202206/22/sportskhan/20220622154638892utvc.jpg\",\"source\":\"스포츠경향\",\"position\":0,\"meta\":{\"impressionId\":\"toros_cloud_alpha\",\"contentUniqueKey\":\"hamny-20220622154241849\",\"mediaName\":\"스포츠경향\",\"torosRanking\":6,\"torosScore\":0.0118447922,\"poolCode\":\"p_sports_auto_txt\",\"feedId\":11,\"feedName\":\"하모니\",\"clusterTitle\":\"\"}},{\"id\":\"hamny-20220622110553039\",\"title\":\"동료 안전은 안중에 없던 하주석, 징계 핵심은 '항의'가 아닌 '위험성'이었다\",\"label\":null,\"url\":\"https://v.daum.net/v/20220622110553039\",\"icon\":\"TEXT\",\"imageUrl\":\"https://t1.daumcdn.net/news/202206/22/SpoHankook/20220622110555796tkrq.jpg\",\"source\":\"스포츠한국\",\"position\":0,\"meta\":{\"impressionId\":\"toros_cloud_alpha\",\"contentUniqueKey\":\"hamny-20220622110553039\",\"mediaName\":\"스포츠한국\",\"torosRanking\":10,\"torosScore\":0.0106019666,\"poolCode\":\"p_sports_auto_txt\",\"feedId\":11,\"feedName\":\"하모니\",\"clusterTitle\":\"\"}},{\"id\":\"hamny-20220622142415022\",\"title\":\"여자 400m 현역 최고 김지은, 전국육상선수권 우승..양예빈 3위\",\"label\":null,\"url\":\"https://v.daum.net/v/20220622142415022\",\"icon\":\"TEXT\",\"imageUrl\":\"https://t1.daumcdn.net/news/202206/22/yonhap/20220622142415165eddp.jpg\",\"source\":\"연합뉴스\",\"position\":0,\"meta\":{\"impressionId\":\"toros_cloud_alpha\",\"contentUniqueKey\":\"hamny-20220622142415022\",\"mediaName\":\"연합뉴스\",\"torosRanking\":49,\"torosScore\":0.0081339883,\"poolCode\":\"p_sports_auto_txt\",\"feedId\":11,\"feedName\":\"하모니\",\"clusterTitle\":\"\"}},{\"id\":\"hamny-20220622145252452\",\"title\":\"'김하성 멀티히트' 샌디에이고, 애리조나에 연장 끝내기 승리\",\"label\":null,\"url\":\"https://v.daum.net/v/20220622145252452\",\"icon\":\"TEXT\",\"imageUrl\":\"https://t1.daumcdn.net/news/202206/22/newsen/20220622145253482itit.jpg\",\"source\":\"뉴스엔\",\"position\":0,\"meta\":{\"impressionId\":\"toros_cloud_alpha\",\"contentUniqueKey\":\"hamny-20220622145252452\",\"mediaName\":\"뉴스엔\",\"torosRanking\":38,\"torosScore\":0.0085370915,\"poolCode\":\"p_sports_auto_txt\",\"feedId\":11,\"feedName\":\"하모니\",\"clusterTitle\":\"\"}},{\"id\":\"hamny-20220622121735337\",\"title\":\"'꾸준한 불혹' 이대호, 기어이 타율 1위로..4할서 추락한 피렐라 추월\",\"label\":null,\"url\":\"https://v.daum.net/v/20220622121735337\",\"icon\":\"TEXT\",\"imageUrl\":\"https://t1.daumcdn.net/news/202206/22/NEWS1/20220622121736301faip.jpg\",\"source\":\"뉴스1\",\"position\":0,\"meta\":{\"impressionId\":\"toros_cloud_alpha\",\"contentUniqueKey\":\"hamny-20220622121735337\",\"mediaName\":\"뉴스1\",\"torosRanking\":7,\"torosScore\":0.0109362803,\"poolCode\":\"p_sports_auto_txt\",\"feedId\":11,\"feedName\":\"하모니\",\"clusterTitle\":\"\"}},{\"id\":\"hamny-20220622134047381\",\"title\":\"토트넘은 콘셉이 확실하다. 이적시장 4호 영입타깃은 미들즈브러 윙백, 콘테 수비 스쿼드 완성 임박\",\"label\":null,\"url\":\"https://v.daum.net/v/20220622134047381\",\"icon\":\"TEXT\",\"imageUrl\":\"https://t1.daumcdn.net/news/202206/22/SpoChosun/20220622134047155wina.jpg\",\"source\":\"스포츠조선\",\"position\":0,\"meta\":{\"impressionId\":\"toros_cloud_alpha\",\"contentUniqueKey\":\"hamny-20220622134047381\",\"mediaName\":\"스포츠조선\",\"torosRanking\":33,\"torosScore\":0.0089634037,\"poolCode\":\"p_sports_auto_txt\",\"feedId\":11,\"feedName\":\"하모니\",\"clusterTitle\":\"\"}},{\"id\":\"hamny-20220622125138159\",\"title\":\"한국, CBS 선정 월드컵 파워랭킹 19위..아시아 1위-H조 최하위\",\"label\":null,\"url\":\"https://v.daum.net/v/20220622125138159\",\"icon\":\"TEXT\",\"imageUrl\":\"https://t1.daumcdn.net/news/202206/22/mydaily/20220622125138138vsxq.jpg\",\"source\":\"마이데일리\",\"position\":0,\"meta\":{\"impressionId\":\"toros_cloud_alpha\",\"contentUniqueKey\":\"hamny-20220622125138159\",\"mediaName\":\"마이데일리\",\"torosRanking\":60,\"torosScore\":0.0077509518,\"poolCode\":\"p_sports_auto_txt\",\"feedId\":11,\"feedName\":\"하모니\",\"clusterTitle\":\"\"}}]},\"cabinets\":null,\"board\":false},{\"code\":2378,\"type\":\"PC_MEDIA_MOVIE\",\"items\":{\"op\":{\"tab\":\"movie\",\"title\":\"영화\",\"url\":\"https://movie.daum.net/\"},\"left_thumbnail_op\":{\"imageUrl\":\"https://t1.daumcdn.net/section/oc/5ac72844323e4650accaf3b8c46cf4fb\",\"copy2\":\"기대평 남기고 예매권 받으러 가자!\",\"label\":\"무비위크\",\"copy1\":\"칸영화제 12분 기립박수 영화 <엘비스>\",\"thumbnailType\":\"A\",\"url\":\"https://movie.daum.net/movieweek/Elvis\",\"status\":\"off\"},\"footLinkLeft\":{\"foot1\":\"{\\\"title\\\":\\\"개봉예정작\\\",\\\"url\\\":\\\"https://movie.daum.net/premovie/theater?flag=C\\\",\\\"tiaraTag\\\":\\\"scheduled\\\"}\",\"foot0\":\"{\\\"title\\\":\\\"현재상영작\\\",\\\"url\\\":\\\"https://movie.daum.net/premovie/theater?flag=Y\\\",\\\"tiaraTag\\\":\\\"released\\\"}\",\"footer\":\"{\\\"title\\\":\\\"영화홈\\\",\\\"url\\\":\\\"https://movie.daum.net/main\\\"}\",\"status\":\"on\"},\"footLinkRight\":{\"foot1\":\"{\\\"title\\\":\\\"실시간예매율\\\",\\\"url\\\":\\\"https://search.daum.net/search?w=tot&q=%EC%98%81%ED%99%94%20%EC%8B%A4%EC%8B%9C%EA%B0%84%20%EC%98%88%EB%A7%A4%EC%9C%A8&DA=TMZ\\\",\\\"tiaraTag\\\":\\\"ticketing\\\"}\",\"foot0\":\"{\\\"title\\\":\\\"영화TV편성\\\",\\\"url\\\":\\\"https://search.daum.net/search?w=tot&q=%EC%98%81%ED%99%94%20tv%20%ED%8E%B8%EC%84%B1%ED%91%9C&DA=TMZ\\\",\\\"tiaraTag\\\":\\\"movietv\\\"}\",\"foot2\":\"{\\\"title\\\":\\\"\\\",\\\"url\\\":\\\"\\\",\\\"tiaraTag\\\":\\\"\\\"}\",\"status\":\"off\"},\"specialLink\":{\"displayType\":\"hashText\",\"title\":\"#안방에서 즐기는 최고의 코믹 액션 어드벤처\",\"url\":\"https://movie.v.daum.net/v/20211105120203430\",\"iconType\":\"EVENT\",\"status\":\"off\"}},\"feeds\":{},\"teslas\":{\"ptop_movie_txt_1\":[{\"id\":\"hamny-20220622113222543\",\"title\":\"\\\"히어로·빌런·구원자 모두 여성\\\"..'마녀 2', 여성 액션물의 진화[D:영화 뷰]\",\"label\":null,\"url\":\"https://movie.v.daum.net/v/20220622113222543\",\"icon\":\"TEXT\",\"imageUrl\":\"https://t1.daumcdn.net/news/202206/22/dailian/20220622113225298zhcp.jpg\",\"source\":\"데일리안\",\"position\":0,\"meta\":{\"impressionId\":\"tromm\",\"contentUniqueKey\":\"hamny-20220622113222543\",\"mediaName\":\"데일리안\",\"torosRanking\":0,\"torosScore\":0.0,\"poolCode\":\"ptop_movie_txt\",\"feedId\":11,\"feedName\":\"하모니\",\"clusterTitle\":\"D:영화 뷰\"}},{\"id\":\"hamny-20220622111654675\",\"title\":\"\\\"나는 잘생겼다\\\"는 착각에 빠진 신현준 '핸썸', 7월 극장 개봉[공식]\",\"label\":null,\"url\":\"https://movie.v.daum.net/v/20220622111654675\",\"icon\":\"TEXT\",\"imageUrl\":\"https://t1.daumcdn.net/news/202206/22/poctan/20220622111656053erpg.jpg\",\"source\":\"OSEN\",\"position\":0,\"meta\":{\"impressionId\":\"tromm\",\"contentUniqueKey\":\"hamny-20220622111654675\",\"mediaName\":\"OSEN\",\"torosRanking\":0,\"torosScore\":0.0,\"poolCode\":\"ptop_movie_txt\",\"feedId\":11,\"feedName\":\"하모니\",\"clusterTitle\":\"\"}},{\"id\":\"brch-4RXQ-176\",\"title\":\"한국인에게 가장 재미없는 한국영화 <브로커>\",\"label\":null,\"url\":\"https://brunch.co.kr/@@4RXQ/176\",\"icon\":\"TEXT\",\"imageUrl\":\"http://t1.daumcdn.net/brunch/service/user/4RXQ/image/-uP8AmAtG1V84hgabdprEyOcrgA.jpg\",\"source\":\"구삼모델의 브런치\",\"position\":0,\"meta\":{\"impressionId\":\"tromm\",\"contentUniqueKey\":\"brch-4RXQ-176\",\"mediaName\":\"구삼모델의 브런치\",\"torosRanking\":0,\"torosScore\":0.0,\"poolCode\":\"ptop_movie_txt\",\"feedId\":1,\"feedName\":\"브런치\",\"clusterTitle\":\"\"}},{\"id\":\"brch-2ViD-725\",\"title\":\"돌아온 매버릭, <탑건>을 보면 더 깊게 빠져드는 이유\",\"label\":null,\"url\":\"https://brunch.co.kr/@@2ViD/725\",\"icon\":\"TEXT\",\"imageUrl\":\"http://t1.daumcdn.net/brunch/service/user/2ViD/image/VHAggmWrJCulQ4WPWkgxJ7Znbss.jpg\",\"source\":\"가려진 시간의 브런치\",\"position\":0,\"meta\":{\"impressionId\":\"tromm\",\"contentUniqueKey\":\"brch-2ViD-725\",\"mediaName\":\"가려진 시간의 브런치\",\"torosRanking\":0,\"torosScore\":0.0,\"poolCode\":\"ptop_movie_txt\",\"feedId\":1,\"feedName\":\"브런치\",\"clusterTitle\":\"\"}},{\"id\":\"hamny-20220622001725171\",\"title\":\"'태일이'·'각질' 안시 국제애니영화제 수상\",\"label\":null,\"url\":\"https://movie.v.daum.net/v/20220622001725171\",\"icon\":\"TEXT\",\"imageUrl\":\"https://t1.daumcdn.net/news/202206/22/akn/20220622001727031bvfm.jpg\",\"source\":\"아시아경제\",\"position\":0,\"meta\":{\"impressionId\":\"tromm\",\"contentUniqueKey\":\"hamny-20220622001725171\",\"mediaName\":\"아시아경제\",\"torosRanking\":0,\"torosScore\":0.0,\"poolCode\":\"ptop_movie_txt\",\"feedId\":11,\"feedName\":\"하모니\",\"clusterTitle\":\"\"}},{\"id\":\"hamny-20220621112405194\",\"title\":\"'고스트랜드' 니콜라스 케이지, 6월 극장가 마지막 주자\",\"label\":null,\"url\":\"https://movie.v.daum.net/v/20220621112405194\",\"icon\":\"TEXT\",\"imageUrl\":\"https://t1.daumcdn.net/news/202206/21/startoday/20220621112408562taed.png\",\"source\":\"스타투데이\",\"position\":0,\"meta\":{\"impressionId\":\"tromm\",\"contentUniqueKey\":\"hamny-20220621112405194\",\"mediaName\":\"스타투데이\",\"torosRanking\":0,\"torosScore\":0.0,\"poolCode\":\"ptop_movie_txt\",\"feedId\":11,\"feedName\":\"하모니\",\"clusterTitle\":\"\"}},{\"id\":\"hamny-20220621131947641\",\"title\":\"리암 니슨 \\\"지금껏 본 적 없는 안티히어로\\\" 변신, '메모리' 7월 13일 개봉\",\"label\":null,\"url\":\"https://movie.v.daum.net/v/20220621131947641\",\"icon\":\"TEXT\",\"imageUrl\":\"https://t1.daumcdn.net/news/202206/21/mydaily/20220621131947190sihx.jpg\",\"source\":\"마이데일리\",\"position\":0,\"meta\":{\"impressionId\":\"tromm\",\"contentUniqueKey\":\"hamny-20220621131947641\",\"mediaName\":\"마이데일리\",\"torosRanking\":0,\"torosScore\":0.0,\"poolCode\":\"ptop_movie_txt\",\"feedId\":11,\"feedName\":\"하모니\",\"clusterTitle\":\"\"}},{\"id\":\"hamny-20220622063033781\",\"title\":\"'브로커' 이동휘·'헤어질 결심' 김신영..특별출연도 명품!\",\"label\":null,\"url\":\"https://movie.v.daum.net/v/20220622063033781\",\"icon\":\"TEXT\",\"imageUrl\":\"https://t1.daumcdn.net/news/202206/22/sportsdonga/20220622063034945strq.jpg\",\"source\":\"스포츠동아\",\"position\":0,\"meta\":{\"impressionId\":\"tromm\",\"contentUniqueKey\":\"hamny-20220622063033781\",\"mediaName\":\"스포츠동아\",\"torosRanking\":0,\"torosScore\":0.0,\"poolCode\":\"ptop_movie_txt\",\"feedId\":11,\"feedName\":\"하모니\",\"clusterTitle\":\"\"}},{\"id\":\"hamny-20220622063301815\",\"title\":\"신시아 \\\"'카르멘' 보며 배우의 꿈.. 딱 맞더라고요\\\" [쿠키인터뷰]\",\"label\":null,\"url\":\"https://movie.v.daum.net/v/20220622063301815\",\"icon\":\"TEXT\",\"imageUrl\":\"https://t1.daumcdn.net/news/202206/22/kukinews/20220622063303175ouiy.jpg\",\"source\":\"쿠키뉴스\",\"position\":0,\"meta\":{\"impressionId\":\"tromm\",\"contentUniqueKey\":\"hamny-20220622063301815\",\"mediaName\":\"쿠키뉴스\",\"torosRanking\":0,\"torosScore\":0.0,\"poolCode\":\"ptop_movie_txt\",\"feedId\":11,\"feedName\":\"하모니\",\"clusterTitle\":\"\"}},{\"id\":\"hamny-20220622093636910\",\"title\":\"'토르: 러브 앤 썬더', 토르→발키리 '팀 토르' 결성..강력 시너지 예고\",\"label\":null,\"url\":\"https://movie.v.daum.net/v/20220622093636910\",\"icon\":\"TEXT\",\"imageUrl\":\"https://t1.daumcdn.net/news/202206/22/starnews/20220622093637429mvff.jpg\",\"source\":\"스타뉴스\",\"position\":0,\"meta\":{\"impressionId\":\"tromm\",\"contentUniqueKey\":\"hamny-20220622093636910\",\"mediaName\":\"스타뉴스\",\"torosRanking\":0,\"torosScore\":0.0,\"poolCode\":\"ptop_movie_txt\",\"feedId\":11,\"feedName\":\"하모니\",\"clusterTitle\":\"\"}}],\"ptop_movie_img_1\":[{\"id\":\"hamny-EyD0DGQ8s4\",\"title\":\"한국 지방 도시까지 내려와 명예시민이 된 월드 스타\",\"label\":null,\"url\":\"https://content.v.daum.net/v/EyD0DGQ8s4\",\"icon\":\"IMAGE\",\"imageUrl\":\"https://t1.daumcdn.net/news/202206/22/feelthemovie/20220622010916386psbc.jpeg\",\"source\":\"필더무비\",\"position\":0,\"meta\":{\"impressionId\":\"tromm\",\"contentUniqueKey\":\"hamny-EyD0DGQ8s4\",\"mediaName\":\"필더무비\",\"torosRanking\":0,\"torosScore\":0.0,\"poolCode\":\"ptop_movie_img\",\"feedId\":11,\"feedName\":\"하모니\",\"clusterTitle\":\"\"}},{\"id\":\"brch-1ibV-1032\",\"title\":\"액정-시점숏에 관해\",\"label\":null,\"url\":\"https://brunch.co.kr/@@1ibV/1032\",\"icon\":\"IMAGE\",\"imageUrl\":\"https://t1.daumcdn.net/section/oc/d3a52abff6c44f8aa6f0ecf3da226fd0\",\"source\":\"영화평론가 박동수의 브런치\",\"position\":0,\"meta\":{\"impressionId\":\"tromm\",\"contentUniqueKey\":\"brch-1ibV-1032\",\"mediaName\":\"영화평론가 박동수의 브런치\",\"torosRanking\":0,\"torosScore\":0.0,\"poolCode\":\"ptop_movie_img\",\"feedId\":1,\"feedName\":\"브런치\",\"clusterTitle\":\"\"}},{\"id\":\"brch-3drv-1196\",\"title\":\"덜 뭉친 떡밥을 물고기는 먹지 않는다.\",\"label\":null,\"url\":\"https://brunch.co.kr/@@3drv/1196\",\"icon\":\"IMAGE\",\"imageUrl\":\"https://t1.daumcdn.net/section/oc/ea48643f50d04f92867d87ac9c3c12e9\",\"source\":\"권씀의 브런치\",\"position\":0,\"meta\":{\"impressionId\":\"tromm\",\"contentUniqueKey\":\"brch-3drv-1196\",\"mediaName\":\"권씀의 브런치\",\"torosRanking\":0,\"torosScore\":0.0,\"poolCode\":\"ptop_movie_img\",\"feedId\":1,\"feedName\":\"브런치\",\"clusterTitle\":\"\"}},{\"id\":\"tv-337443797\",\"title\":\"뽀로로와 친구들의 판타지 액션 어드벤처! '뽀로로 극장판 드래곤캐슬 대모험' 메인 예고편\",\"label\":null,\"url\":\"https://newslink.media.daum.net/v/429784858\",\"icon\":\"VIDEO\",\"imageUrl\":\"https://t1.daumcdn.net/section/oc/f7f20d67fe384165b685163a3a11293b\",\"source\":\"우리 영화 볼래?\",\"position\":0,\"meta\":{\"impressionId\":\"tromm\",\"contentUniqueKey\":\"tv-337443797\",\"mediaName\":\"우리 영화 볼래?\",\"torosRanking\":0,\"torosScore\":0.0,\"poolCode\":\"ptop_movie_img\",\"feedId\":22,\"feedName\":\"카카오TV\",\"clusterTitle\":\"\"}},{\"id\":\"hamny-Eh3RHVcX5Y\",\"title\":\"말씀 중에 죄송합니다, 이 영화 MCU 아닙니다\",\"label\":null,\"url\":\"https://content.v.daum.net/v/Eh3RHVcX5Y\",\"icon\":\"IMAGE\",\"imageUrl\":\"https://t1.daumcdn.net/section/oc/3104efbc8e934302897ae77cecfc517a\",\"source\":\"알려줌 ALZi Media\",\"position\":0,\"meta\":{\"impressionId\":\"tromm\",\"contentUniqueKey\":\"hamny-Eh3RHVcX5Y\",\"mediaName\":\"알려줌 ALZi Media\",\"torosRanking\":0,\"torosScore\":0.0,\"poolCode\":\"ptop_movie_img\",\"feedId\":11,\"feedName\":\"하모니\",\"clusterTitle\":\"\"}},{\"id\":\"hamny-20220622073009594\",\"title\":\"톰 크루즈, 환갑에 찍은 커리어 하이..반전 없이 감격 '탑건:매버릭'[개봉작 리뷰]\",\"label\":null,\"url\":\"https://movie.v.daum.net/v/20220622073009594\",\"icon\":\"TEXT\",\"imageUrl\":\"https://t1.daumcdn.net/section/oc/8e3df884f45449d79c2886ed34ba0efb\",\"source\":\"뉴스엔\",\"position\":0,\"meta\":{\"impressionId\":\"tromm\",\"contentUniqueKey\":\"hamny-20220622073009594\",\"mediaName\":\"뉴스엔\",\"torosRanking\":0,\"torosScore\":0.0,\"poolCode\":\"ptop_movie_img\",\"feedId\":11,\"feedName\":\"하모니\",\"clusterTitle\":\"\"}},{\"id\":\"hamny-20220622131417619\",\"title\":\"'헤어질 결심' 이정현·박용우·고경표·김신영·박정민, 보는 재미↑ [Oh!쎈 예고]\",\"label\":null,\"url\":\"https://movie.v.daum.net/v/20220622131417619\",\"icon\":\"TEXT\",\"imageUrl\":\"https://t1.daumcdn.net/section/oc/c0fa240b5f5e45628b915cf71a678c95\",\"source\":\"OSEN\",\"position\":0,\"meta\":{\"impressionId\":\"tromm\",\"contentUniqueKey\":\"hamny-20220622131417619\",\"mediaName\":\"OSEN\",\"torosRanking\":0,\"torosScore\":0.0,\"poolCode\":\"ptop_movie_img\",\"feedId\":11,\"feedName\":\"하모니\",\"clusterTitle\":\"\"}},{\"id\":\"hamny-20220622080325127\",\"title\":\"송강호, 베테랑 형사팀장 변신('비상선언')\",\"label\":null,\"url\":\"https://movie.v.daum.net/v/20220622080325127\",\"icon\":\"TEXT\",\"imageUrl\":\"https://t1.daumcdn.net/section/oc/6c2930bf1d33491f847427d11c4ffe07\",\"source\":\"OSEN\",\"position\":0,\"meta\":{\"impressionId\":\"tromm\",\"contentUniqueKey\":\"hamny-20220622080325127\",\"mediaName\":\"OSEN\",\"torosRanking\":0,\"torosScore\":0.0,\"poolCode\":\"ptop_movie_img\",\"feedId\":11,\"feedName\":\"하모니\",\"clusterTitle\":\"\"}}]},\"cabinets\":null,\"board\":false},{\"code\":2379,\"type\":\"PC_MEDIA_AUTO\",\"items\":{\"op\":{\"tab\":\"auto\",\"title\":\"자동차\",\"url\":\"https://auto.daum.net/\"},\"left_thumbnail_op\":{\"imageUrl\":\"https://t1.daumcdn.net/section/oc/5e8c099aa7af4916b4e689d2a9626e9b\",\"copy2\":\"\",\"label\":\"라라클래식 12월호\",\"copy1\":\"토요타 랠리 도전의 상징, 셀리카\",\"thumbnailType\":\"TESLA\",\"url\":\"https://auto.daum.net/cover/lalaclassic/5267494\",\"status\":\"on\"},\"footLinkLeft\":{\"foot1\":\"{\\\"title\\\":\\\"동영상\\\",\\\"url\\\":\\\"https://auto.daum.net/vod\\\",\\\"tiaraTag\\\":\\\"movies\\\"}\",\"foot0\":\"{\\\"title\\\":\\\"시승기\\\",\\\"url\\\":\\\"https://auto.daum.net/news/review\\\",\\\"tiaraTag\\\":\\\"review\\\"}\",\"foot3\":\"{\\\"title\\\":\\\"\\\",\\\"url\\\":\\\"\\\",\\\"tiaraTag\\\":\\\"\\\"}\",\"footer\":\"{\\\"title\\\":\\\"자동차홈\\\",\\\"url\\\":\\\"https://auto.daum.net/\\\"}\",\"foot2\":\"{\\\"title\\\":\\\"신차\\\",\\\"url\\\":\\\"https://auto.daum.net/newcar\\\",\\\"tiaraTag\\\":\\\"newcar\\\"}\",\"status\":\"on\"},\"footLinkRight\":{\"foot1\":\"{\\\"title\\\":\\\"자동차세\\\",\\\"url\\\":\\\"https://search.daum.net/search?w=tot&q=%EC%9E%90%EB%8F%99%EC%B0%A8%EC%84%B8&DA=TMZ\\\",\\\"tiaraTag\\\":\\\"cartax\\\"}\",\"foot0\":\"{\\\"title\\\":\\\"자동차365\\\",\\\"url\\\":\\\"https://search.daum.net/search?w=tot&q=%EC%9E%90%EB%8F%99%EC%B0%A8365&DA=TMZ\\\",\\\"tiaraTag\\\":\\\"car365\\\"}\",\"foot2\":\"{\\\"title\\\":\\\"자동차검사예약\\\",\\\"url\\\":\\\"https://search.daum.net/search?w=tot&q=%EC%9E%90%EB%8F%99%EC%B0%A8%EA%B2%80%EC%82%AC%20%EC%98%88%EC%95%BD&DA=TMZ\\\",\\\"tiaraTag\\\":\\\"inspection\\\"}\",\"status\":\"on\"},\"specialLink\":{\"displayType\":\"specialLink\",\"title\":\"'자동차톡' 채널 추가하기\",\"url\":\"http://pf.kakao.com/_xbLYxbu\",\"iconType\":\"HOT\",\"status\":\"off\"}},\"feeds\":{},\"teslas\":{\"ptop_car_img_1\":[{\"id\":\"hamny-EjIthdjMPD\",\"title\":\"푸조 408 공개, 잘생기고 매력적인 패스트백 스타일\",\"label\":null,\"url\":\"https://auto.v.daum.net/v/EjIthdjMPD\",\"icon\":\"TEXT\",\"imageUrl\":\"https://t1.daumcdn.net/news/202206/22/TOP-RIDER/20220622155002049fwvy.jpg\",\"source\":\"탑라이더\",\"position\":0,\"meta\":{\"impressionId\":\"tromm\",\"contentUniqueKey\":\"hamny-EjIthdjMPD\",\"mediaName\":\"탑라이더\",\"torosRanking\":0,\"torosScore\":0.0,\"poolCode\":\"ptop_car_img\",\"feedId\":11,\"feedName\":\"하모니\",\"clusterTitle\":\"\"}},{\"id\":\"tv-337457985\",\"title\":\"\\\"여보, 2300만원 있는데..\\\" 빚내서 아반떼 vs 아껴서 캐스퍼 ll 본격 세단&라임 부부 시승기\",\"label\":null,\"url\":\"https://newslink.media.daum.net/v/429810137\",\"icon\":\"VIDEO\",\"imageUrl\":\"http://img1.kakaocdn.net/kakaotv/KAKAOACCOUNT/503499777/thumb/20220622135552\",\"source\":\"모터그래프\",\"position\":0,\"meta\":{\"impressionId\":\"tromm\",\"contentUniqueKey\":\"tv-337457985\",\"mediaName\":\"모터그래프\",\"torosRanking\":0,\"torosScore\":0.0,\"poolCode\":\"ptop_car_img\",\"feedId\":22,\"feedName\":\"카카오TV\",\"clusterTitle\":\"\"}},{\"id\":\"hamny-EGn0Beq15q\",\"title\":\"'앞은 밴 뒤는 보트' 신기한 보터홈 등장\",\"label\":null,\"url\":\"https://auto.v.daum.net/v/EGn0Beq15q\",\"icon\":\"TEXT\",\"imageUrl\":\"https://t1.daumcdn.net/news/202206/22/thedrive/20220622050837613woga.jpeg\",\"source\":\"더드라이브\",\"position\":0,\"meta\":{\"impressionId\":\"tromm\",\"contentUniqueKey\":\"hamny-EGn0Beq15q\",\"mediaName\":\"더드라이브\",\"torosRanking\":0,\"torosScore\":0.0,\"poolCode\":\"ptop_car_img\",\"feedId\":11,\"feedName\":\"하모니\",\"clusterTitle\":\"\"}},{\"id\":\"hamny-E0abCFNVrv\",\"title\":\"도로 위 아찔한 구멍들, 포트홀이 발생되는 이유는?\",\"label\":null,\"url\":\"https://content.v.daum.net/v/E0abCFNVrv\",\"icon\":\"IMAGE\",\"imageUrl\":\"https://t1.daumcdn.net/news/202206/22/pickplus/20220622140558784dceu.jpg\",\"source\":\"픽플러스\",\"position\":0,\"meta\":{\"impressionId\":\"tromm\",\"contentUniqueKey\":\"hamny-E0abCFNVrv\",\"mediaName\":\"픽플러스\",\"torosRanking\":0,\"torosScore\":0.0,\"poolCode\":\"ptop_car_img\",\"feedId\":11,\"feedName\":\"하모니\",\"clusterTitle\":\"\"}},{\"id\":\"hamny-EnEcnhAOSi\",\"title\":\"개성있는 스타일의 클래식 스쿠터, 빅토리아 모토라드 니키\",\"label\":null,\"url\":\"https://auto.v.daum.net/v/EnEcnhAOSi\",\"icon\":\"TEXT\",\"imageUrl\":\"https://t1.daumcdn.net/news/202206/22/RideMagazine/20220622135516887luid.jpg\",\"source\":\"라이드매거진\",\"position\":0,\"meta\":{\"impressionId\":\"tromm\",\"contentUniqueKey\":\"hamny-EnEcnhAOSi\",\"mediaName\":\"라이드매거진\",\"torosRanking\":0,\"torosScore\":0.0,\"poolCode\":\"ptop_car_img\",\"feedId\":11,\"feedName\":\"하모니\",\"clusterTitle\":\"\"}},{\"id\":\"hamny-20220622125302186\",\"title\":\"든든한 친구, 랜드로버 이보크 P250[시승]\",\"label\":null,\"url\":\"https://auto.v.daum.net/v/20220622125302186\",\"icon\":\"TEXT\",\"imageUrl\":\"https://t1.daumcdn.net/news/202206/22/autotimes/20220622125304253hckf.jpg\",\"source\":\"오토타임즈\",\"position\":0,\"meta\":{\"impressionId\":\"tromm\",\"contentUniqueKey\":\"hamny-20220622125302186\",\"mediaName\":\"오토타임즈\",\"torosRanking\":0,\"torosScore\":0.0,\"poolCode\":\"ptop_car_img\",\"feedId\":11,\"feedName\":\"하모니\",\"clusterTitle\":\"시승\"}},{\"id\":\"hamny-EwM7xUSqZg\",\"title\":\"'프리미엄 픽업트럭의 전설' GMC 시에라 국내 상륙!\",\"label\":null,\"url\":\"https://auto.v.daum.net/v/EwM7xUSqZg\",\"icon\":\"TEXT\",\"imageUrl\":\"https://t1.daumcdn.net/news/202206/22/thedrive/20220622044541822tqpl.jpeg\",\"source\":\"더드라이브\",\"position\":0,\"meta\":{\"impressionId\":\"tromm\",\"contentUniqueKey\":\"hamny-EwM7xUSqZg\",\"mediaName\":\"더드라이브\",\"torosRanking\":0,\"torosScore\":0.0,\"poolCode\":\"ptop_car_img\",\"feedId\":11,\"feedName\":\"하모니\",\"clusterTitle\":\"\"}},{\"id\":\"tv-337456801\",\"title\":\"렉서스 NX 450h+ \\\"모터와 엔진의 환상 콜라보...스포츠 모드 해 봤나?\\\"\",\"label\":null,\"url\":\"https://newslink.media.daum.net/v/429808042\",\"icon\":\"VIDEO\",\"imageUrl\":\"http://img1.kakaocdn.net/kakaotv/KAKAOACCOUNT/2065658400/thumb/20220622120259\",\"source\":\"오토헤럴드 TV\",\"position\":0,\"meta\":{\"impressionId\":\"tromm\",\"contentUniqueKey\":\"tv-337456801\",\"mediaName\":\"오토헤럴드 TV\",\"torosRanking\":0,\"torosScore\":0.0,\"poolCode\":\"ptop_car_img\",\"feedId\":22,\"feedName\":\"카카오TV\",\"clusterTitle\":\"\"}}],\"ptop_car_txt_1\":[{\"id\":\"hamny-ERGkTMHyb0\",\"title\":\"한국지엠, 수출과 멀티브랜드 전략으로 손익분기 넘는다\",\"label\":null,\"url\":\"https://auto.v.daum.net/v/ERGkTMHyb0\",\"icon\":\"TEXT\",\"imageUrl\":\"https://t1.daumcdn.net/news/202206/22/TOP-RIDER/20220622154700625wclh.jpg\",\"source\":\"탑라이더\",\"position\":0,\"meta\":{\"impressionId\":\"tromm\",\"contentUniqueKey\":\"hamny-ERGkTMHyb0\",\"mediaName\":\"탑라이더\",\"torosRanking\":0,\"torosScore\":0.0,\"poolCode\":\"ptop_car_txt\",\"feedId\":11,\"feedName\":\"하모니\",\"clusterTitle\":\"\"}},{\"id\":\"hamny-ExWLUDIggI\",\"title\":\"GM코리아 로베르토 렘펠사장, \\\"멀티브랜드 전략. 수출 투트랙으로 경영정상화\\\"\",\"label\":null,\"url\":\"https://auto.v.daum.net/v/ExWLUDIggI\",\"icon\":\"TEXT\",\"imageUrl\":\"https://t1.daumcdn.net/news/202206/22/autodaily/20220622151323945nyyv.jpg\",\"source\":\"M투데이\",\"position\":0,\"meta\":{\"impressionId\":\"tromm\",\"contentUniqueKey\":\"hamny-ExWLUDIggI\",\"mediaName\":\"M투데이\",\"torosRanking\":0,\"torosScore\":0.0,\"poolCode\":\"ptop_car_txt\",\"feedId\":11,\"feedName\":\"하모니\",\"clusterTitle\":\"\"}},{\"id\":\"hamny-EpCkukQiaK\",\"title\":\"초절정 인기 1억원대 GMC 허머 EV..8백만원 인상\",\"label\":null,\"url\":\"https://auto.v.daum.net/v/EpCkukQiaK\",\"icon\":\"TEXT\",\"imageUrl\":\"https://t1.daumcdn.net/news/202206/22/carguy/20220622150351811wnpg.jpg\",\"source\":\"카가이\",\"position\":0,\"meta\":{\"impressionId\":\"tromm\",\"contentUniqueKey\":\"hamny-EpCkukQiaK\",\"mediaName\":\"카가이\",\"torosRanking\":0,\"torosScore\":0.0,\"poolCode\":\"ptop_car_txt\",\"feedId\":11,\"feedName\":\"하모니\",\"clusterTitle\":\"\"}},{\"id\":\"hamny-EgDSOl0McH\",\"title\":\"르노그룹, 민트그룹과 전기차용 배터리 케이스 생산한다\",\"label\":null,\"url\":\"https://auto.v.daum.net/v/EgDSOl0McH\",\"icon\":\"TEXT\",\"imageUrl\":\"https://t1.daumcdn.net/news/202206/22/GlobalAutoNews/20220622150008446hejw.jpg\",\"source\":\"글로벌오토뉴스\",\"position\":0,\"meta\":{\"impressionId\":\"tromm\",\"contentUniqueKey\":\"hamny-EgDSOl0McH\",\"mediaName\":\"글로벌오토뉴스\",\"torosRanking\":0,\"torosScore\":0.0,\"poolCode\":\"ptop_car_txt\",\"feedId\":11,\"feedName\":\"하모니\",\"clusterTitle\":\"\"}},{\"id\":\"hamny-Evm8WTjdvT\",\"title\":\"EU, 2035년부터 신규 내연기관차 금지..\\\"독일은 반대\\\"\",\"label\":null,\"url\":\"https://auto.v.daum.net/v/Evm8WTjdvT\",\"icon\":\"TEXT\",\"imageUrl\":\"https://t1.daumcdn.net/news/202206/22/GPKOREA/20220622144819301srav.jpg\",\"source\":\"지피코리아\",\"position\":0,\"meta\":{\"impressionId\":\"tromm\",\"contentUniqueKey\":\"hamny-Evm8WTjdvT\",\"mediaName\":\"지피코리아\",\"torosRanking\":0,\"torosScore\":0.0,\"poolCode\":\"ptop_car_txt\",\"feedId\":11,\"feedName\":\"하모니\",\"clusterTitle\":\"\"}},{\"id\":\"hamny-20220622144715169\",\"title\":\"'사전계약 첫날 1.2만대' 출발 좋은 쌍용차 '토레스'..하반기 경쟁 SUV는?\",\"label\":null,\"url\":\"https://auto.v.daum.net/v/20220622144715169\",\"icon\":\"TEXT\",\"imageUrl\":\"https://t1.daumcdn.net/news/202206/22/NEWS1/20220622144716291orzd.jpg\",\"source\":\"뉴스1\",\"position\":0,\"meta\":{\"impressionId\":\"tromm\",\"contentUniqueKey\":\"hamny-20220622144715169\",\"mediaName\":\"뉴스1\",\"torosRanking\":0,\"torosScore\":0.0,\"poolCode\":\"ptop_car_txt\",\"feedId\":11,\"feedName\":\"하모니\",\"clusterTitle\":\"\"}},{\"id\":\"hamny-ESOewY3fsG\",\"title\":\"마일리지 히어로, 프리우스를 찾아라\",\"label\":null,\"url\":\"https://auto.v.daum.net/v/ESOewY3fsG\",\"icon\":\"TEXT\",\"imageUrl\":\"https://t1.daumcdn.net/news/202206/22/AUTOCARKOREA/20220622143425424vvwj.jpg\",\"source\":\"오토카코리아\",\"position\":0,\"meta\":{\"impressionId\":\"tromm\",\"contentUniqueKey\":\"hamny-ESOewY3fsG\",\"mediaName\":\"오토카코리아\",\"torosRanking\":0,\"torosScore\":0.0,\"poolCode\":\"ptop_car_txt\",\"feedId\":11,\"feedName\":\"하모니\",\"clusterTitle\":\"\"}},{\"id\":\"hamny-EL9yqYMIPr\",\"title\":\"환경부 국유지 최초, 하이넷 환경산업연구단지 수소충전소 준공\",\"label\":null,\"url\":\"https://auto.v.daum.net/v/EL9yqYMIPr\",\"icon\":\"TEXT\",\"imageUrl\":\"https://t1.daumcdn.net/news/202206/22/GlobalAutoNews/20220622143016796jnee.jpg\",\"source\":\"글로벌오토뉴스\",\"position\":0,\"meta\":{\"impressionId\":\"tromm\",\"contentUniqueKey\":\"hamny-EL9yqYMIPr\",\"mediaName\":\"글로벌오토뉴스\",\"torosRanking\":0,\"torosScore\":0.0,\"poolCode\":\"ptop_car_txt\",\"feedId\":11,\"feedName\":\"하모니\",\"clusterTitle\":\"\"}},{\"id\":\"hamny-Em8hWvGLB6\",\"title\":\"폭염과 폭우 반복 올해 장마 무섭다 '자동차 무조건 서행하고 사전 점검 대비'\",\"label\":null,\"url\":\"https://auto.v.daum.net/v/Em8hWvGLB6\",\"icon\":\"TEXT\",\"imageUrl\":\"https://t1.daumcdn.net/news/202206/22/autoherald/20220622132440603vese.png\",\"source\":\"오토헤럴드\",\"position\":0,\"meta\":{\"impressionId\":\"tromm\",\"contentUniqueKey\":\"hamny-Em8hWvGLB6\",\"mediaName\":\"오토헤럴드\",\"torosRanking\":0,\"torosScore\":0.0,\"poolCode\":\"ptop_car_txt\",\"feedId\":11,\"feedName\":\"하모니\",\"clusterTitle\":\"\"}},{\"id\":\"hamny-EMjARmu2v0\",\"title\":\"3주간 폐차장에 세워졌던 테슬라 모델S..갑자기 화재 발생한 이유는?\",\"label\":null,\"url\":\"https://auto.v.daum.net/v/EMjARmu2v0\",\"icon\":\"TEXT\",\"imageUrl\":\"https://t1.daumcdn.net/news/202206/22/dailycar/20220622125912479orzg.jpg\",\"source\":\"데일리카\",\"position\":0,\"meta\":{\"impressionId\":\"tromm\",\"contentUniqueKey\":\"hamny-EMjARmu2v0\",\"mediaName\":\"데일리카\",\"torosRanking\":0,\"torosScore\":0.0,\"poolCode\":\"ptop_car_txt\",\"feedId\":11,\"feedName\":\"하모니\",\"clusterTitle\":\"\"}}]},\"cabinets\":null,\"board\":false},{\"code\":2380,\"type\":\"PC_MEDIA_REAL_ESTATE\",\"items\":{\"op\":{\"tab\":\"realestate\",\"title\":\"부동산\",\"url\":\"https://realty.daum.net/\"},\"footLinkLeft\":{\"foot1\":\"{\\\"title\\\":\\\"분양\\\",\\\"url\\\":\\\"https://realty.daum.net/home/apt/map/offer\\\",\\\"tiaraTag\\\":\\\"bunyang\\\"}\",\"foot0\":\"{\\\"title\\\":\\\"주거\\\",\\\"url\\\":\\\"https://realty.daum.net/home/apt/map\\\",\\\"tiaraTag\\\":\\\"map\\\"}\",\"foot3\":\"{\\\"title\\\":\\\"뉴스\\\",\\\"url\\\":\\\"https://realestate.daum.net/news\\\",\\\"tiaraTag\\\":\\\"news\\\"}\",\"footer\":\"{\\\"title\\\":\\\"부동산홈\\\",\\\"url\\\":\\\"https://realty.daum.net/\\\"}\",\"foot2\":\"{\\\"title\\\":\\\"인테리어\\\",\\\"url\\\":\\\"https://interior.realestate.daum.net/\\\",\\\"tiaraTag\\\":\\\"interior\\\"}\",\"foot4\":\"{\\\"title\\\":\\\"커뮤니티\\\",\\\"url\\\":\\\"https://realestate.daum.net/community\\\",\\\"tiaraTag\\\":\\\"community\\\"}\",\"status\":\"on\"},\"footLinkRight\":{\"foot1\":\"{\\\"title\\\":\\\"대출이자계산기\\\",\\\"url\\\":\\\"https://search.daum.net/search?w=tot&q=%EB%8C%80%EC%B6%9C%EC%9D%B4%EC%9E%90%EA%B3%84%EC%82%B0%EA%B8%B0&DA=TMZ\\\",\\\"tiaraTag\\\":\\\"loan\\\"}\",\"foot0\":\"{\\\"title\\\":\\\"아파트실거래가조회\\\",\\\"url\\\":\\\"https://search.daum.net/search?w=tot&q=%EC%95%84%ED%8C%8C%ED%8A%B8%20%EC%8B%A4%EA%B1%B0%EB%9E%98%EA%B0%80%20%EC%A1%B0%ED%9A%8C&DA=TMZ\\\",\\\"tiaraTag\\\":\\\"price\\\"}\",\"foot2\":\"{\\\"title\\\":\\\"\\\",\\\"url\\\":\\\"\\\",\\\"tiaraTag\\\":\\\"\\\"}\",\"status\":\"on\"}},\"feeds\":{\"pc_media_real_estate_operate\":\"{\\\"url\\\":\\\"http://interior.realestate.daum.net/asp/story/View.do?&mngIdx=1583\\\",\\\"title\\\":\\\"TV 없애고 평상홈카페를 들인 35평반포자이\\\",\\\"imageUrl\\\":\\\"https://t1.daumcdn.net/thumb/C308x188/?fname=https%3A%2F%2Ft1.daumcdn.net%2Festate%2Fadministration%2Fd959afc5624f2b9c62dfbd05dbfc4c1669f29968\\\",\\\"icon\\\":\\\"IMAGE\\\"}\"},\"teslas\":{\"ptop_realestate_img_1\":[{\"id\":\"hamny-20220622151016209\",\"title\":\"전세 끼고 산 주택, '5%룰' 지켜도 상생임대인 아니다\",\"label\":null,\"url\":\"http://realestate.daum.net/news/detail/all/20220622151016209\",\"icon\":\"TEXT\",\"imageUrl\":\"https://t1.daumcdn.net/news/202206/22/moneytoday/20220622151017439gqvy.jpg\",\"source\":\"머니투데이\",\"position\":0,\"meta\":{\"impressionId\":\"tromm\",\"contentUniqueKey\":\"hamny-20220622151016209\",\"mediaName\":\"머니투데이\",\"torosRanking\":0,\"torosScore\":0.0,\"poolCode\":\"ptop_realestate_img\",\"feedId\":11,\"feedName\":\"하모니\",\"clusterTitle\":\"\"}},{\"id\":\"hamny-E9KlU7s8F1\",\"title\":\"멀리 휴가 갈 필요 없어요! 도심 속 복층 테라스에 둘만의 '피서지'를 꾸민 신혼집\",\"label\":null,\"url\":\"https://content.v.daum.net/v/E9KlU7s8F1\",\"icon\":\"IMAGE\",\"imageUrl\":\"https://t1.daumcdn.net/news/202206/22/ggumigi/20220622140018364yjku.jpg\",\"source\":\"집꾸미기\",\"position\":0,\"meta\":{\"impressionId\":\"tromm\",\"contentUniqueKey\":\"hamny-E9KlU7s8F1\",\"mediaName\":\"집꾸미기\",\"torosRanking\":0,\"torosScore\":0.0,\"poolCode\":\"ptop_realestate_img\",\"feedId\":11,\"feedName\":\"하모니\",\"clusterTitle\":\"\"}},{\"id\":\"hamny-EHBetOZSF1\",\"title\":\"층간소음 사각지대 441만호의 눈물\",\"label\":null,\"url\":\"https://content.v.daum.net/v/EHBetOZSF1\",\"icon\":\"IMAGE\",\"imageUrl\":\"https://t1.daumcdn.net/news/202206/21/thescoop/20220621034254977xrn0.jpeg\",\"source\":\"더스쿠프\",\"position\":0,\"meta\":{\"impressionId\":\"tromm\",\"contentUniqueKey\":\"hamny-EHBetOZSF1\",\"mediaName\":\"더스쿠프\",\"torosRanking\":0,\"torosScore\":0.0,\"poolCode\":\"ptop_realestate_img\",\"feedId\":11,\"feedName\":\"하모니\",\"clusterTitle\":\"\"}},{\"id\":\"hamny-ETRvpXtAzW\",\"title\":\"'이것' 덕분에.. 운좋게 들어간 'LH 임대주택', 이렇게 살아요\",\"label\":null,\"url\":\"https://content.v.daum.net/v/ETRvpXtAzW\",\"icon\":\"IMAGE\",\"imageUrl\":\"https://t1.daumcdn.net/news/202206/22/harmony/20220622000253203utoo.png\",\"source\":\"오늘의집\",\"position\":0,\"meta\":{\"impressionId\":\"tromm\",\"contentUniqueKey\":\"hamny-ETRvpXtAzW\",\"mediaName\":\"오늘의집\",\"torosRanking\":0,\"torosScore\":0.0,\"poolCode\":\"ptop_realestate_img\",\"feedId\":11,\"feedName\":\"하모니\",\"clusterTitle\":\"\"}},{\"id\":\"hamny-20220622105114192\",\"title\":\"분양가 상한제 개편안 '반쪽짜리' 평가..\\\"공급 확대 글쎄\\\"\",\"label\":null,\"url\":\"http://realestate.daum.net/news/detail/all/20220622105114192\",\"icon\":\"TEXT\",\"imageUrl\":\"https://t1.daumcdn.net/news/202206/22/THEFACT/20220622105115148bdop.jpg\",\"source\":\"더팩트\",\"position\":0,\"meta\":{\"impressionId\":\"tromm\",\"contentUniqueKey\":\"hamny-20220622105114192\",\"mediaName\":\"더팩트\",\"torosRanking\":0,\"torosScore\":0.0,\"poolCode\":\"ptop_realestate_img\",\"feedId\":11,\"feedName\":\"하모니\",\"clusterTitle\":\"\"}},{\"id\":\"hamny-EWfaZqwlcG\",\"title\":\"수익형 부동산 옥석가리기 시작됐다.. 안정성+미래가치 따져야\",\"label\":null,\"url\":\"https://content.v.daum.net/v/EWfaZqwlcG\",\"icon\":\"IMAGE\",\"imageUrl\":\"https://t1.daumcdn.net/news/202206/21/realcast/20220621072744888kv8q.jpeg\",\"source\":\"리얼캐스트\",\"position\":0,\"meta\":{\"impressionId\":\"tromm\",\"contentUniqueKey\":\"hamny-EWfaZqwlcG\",\"mediaName\":\"리얼캐스트\",\"torosRanking\":0,\"torosScore\":0.0,\"poolCode\":\"ptop_realestate_img\",\"feedId\":11,\"feedName\":\"하모니\",\"clusterTitle\":\"\"}},{\"id\":\"hamny-E8PyGOkvsV\",\"title\":\"방이 딱 2개인 40년 된 구축, 남편의 '건담'을 위해 하나를 내어준 아내\",\"label\":null,\"url\":\"https://content.v.daum.net/v/E8PyGOkvsV\",\"icon\":\"IMAGE\",\"imageUrl\":\"https://t1.daumcdn.net/news/202206/21/harmony/20220621060349123hwfc.png\",\"source\":\"오늘의집\",\"position\":0,\"meta\":{\"impressionId\":\"tromm\",\"contentUniqueKey\":\"hamny-E8PyGOkvsV\",\"mediaName\":\"오늘의집\",\"torosRanking\":0,\"torosScore\":0.0,\"poolCode\":\"ptop_realestate_img\",\"feedId\":11,\"feedName\":\"하모니\",\"clusterTitle\":\"\"}}],\"ptop_realestate_txt_1\":[{\"id\":\"hamny-20220622154506990\",\"title\":\"둔촌주공 25평형 분양가 8억8750만원→9억75만원..중도금 대출 막힐 수도\",\"label\":null,\"url\":\"http://realestate.daum.net/news/detail/all/20220622154506990\",\"icon\":\"TEXT\",\"imageUrl\":\"https://t1.daumcdn.net/news/202206/22/mk/20220622154508128aceh.jpg\",\"source\":\"매일경제\",\"position\":0,\"meta\":{\"impressionId\":\"tromm\",\"contentUniqueKey\":\"hamny-20220622154506990\",\"mediaName\":\"매일경제\",\"torosRanking\":0,\"torosScore\":0.0,\"poolCode\":\"ptop_realestate_txt\",\"feedId\":11,\"feedName\":\"하모니\",\"clusterTitle\":\"\"}},{\"id\":\"hamny-20220622153837616\",\"title\":\"\\\"엄연한 독립기관인데\\\"..건협회장, 공제조합 경영간섭 논란\",\"label\":null,\"url\":\"http://realestate.daum.net/news/detail/all/20220622153837616\",\"icon\":\"TEXT\",\"imageUrl\":\"https://t1.daumcdn.net/news/202206/22/Edaily/20220622153839805uffr.jpg\",\"source\":\"이데일리\",\"position\":0,\"meta\":{\"impressionId\":\"tromm\",\"contentUniqueKey\":\"hamny-20220622153837616\",\"mediaName\":\"이데일리\",\"torosRanking\":0,\"torosScore\":0.0,\"poolCode\":\"ptop_realestate_txt\",\"feedId\":11,\"feedName\":\"하모니\",\"clusterTitle\":\"\"}},{\"id\":\"hamny-20220622153126231\",\"title\":\"실거주 완화에 갭투자 다시 고개드나\",\"label\":null,\"url\":\"http://realestate.daum.net/news/detail/all/20220622153126231\",\"icon\":\"TEXT\",\"imageUrl\":\"https://t1.daumcdn.net/news/202206/22/akn/20220622153127772hlik.jpg\",\"source\":\"아시아경제\",\"position\":0,\"meta\":{\"impressionId\":\"tromm\",\"contentUniqueKey\":\"hamny-20220622153126231\",\"mediaName\":\"아시아경제\",\"torosRanking\":0,\"torosScore\":0.0,\"poolCode\":\"ptop_realestate_txt\",\"feedId\":11,\"feedName\":\"하모니\",\"clusterTitle\":\"\"}},{\"id\":\"hamny-20220622150900127\",\"title\":\"\\\"8월 전세난 한시름 놓았다\\\"..금리 물가 시장불안요인은 여전\",\"label\":null,\"url\":\"http://realestate.daum.net/news/detail/all/20220622150900127\",\"icon\":\"TEXT\",\"imageUrl\":\"https://t1.daumcdn.net/news/202206/22/mk/20220622150903258bsmf.jpg\",\"source\":\"매일경제\",\"position\":0,\"meta\":{\"impressionId\":\"tromm\",\"contentUniqueKey\":\"hamny-20220622150900127\",\"mediaName\":\"매일경제\",\"torosRanking\":0,\"torosScore\":0.0,\"poolCode\":\"ptop_realestate_txt\",\"feedId\":11,\"feedName\":\"하모니\",\"clusterTitle\":\"\"}},{\"id\":\"hamny-20220622150134838\",\"title\":\"오세훈표 공급정책 날개 단다..시, 관련 조직확대 추진\",\"label\":null,\"url\":\"http://realestate.daum.net/news/detail/all/20220622150134838\",\"icon\":\"TEXT\",\"imageUrl\":\"https://t1.daumcdn.net/news/202206/22/Edaily/20220622150512101vsgy.jpg\",\"source\":\"이데일리\",\"position\":0,\"meta\":{\"impressionId\":\"tromm\",\"contentUniqueKey\":\"hamny-20220622150134838\",\"mediaName\":\"이데일리\",\"torosRanking\":0,\"torosScore\":0.0,\"poolCode\":\"ptop_realestate_txt\",\"feedId\":11,\"feedName\":\"하모니\",\"clusterTitle\":\"\"}},{\"id\":\"hamny-20220622143956784\",\"title\":\"예상보다 더 커진 GTX 판..중심지·거리 빼고 연계 기준 넣었다\",\"label\":null,\"url\":\"http://realestate.daum.net/news/detail/all/20220622143956784\",\"icon\":\"TEXT\",\"imageUrl\":\"https://t1.daumcdn.net/news/202206/22/moneytoday/20220622144951581rsun.jpg\",\"source\":\"머니투데이\",\"position\":0,\"meta\":{\"impressionId\":\"tromm\",\"contentUniqueKey\":\"hamny-20220622143956784\",\"mediaName\":\"머니투데이\",\"torosRanking\":0,\"torosScore\":0.0,\"poolCode\":\"ptop_realestate_txt\",\"feedId\":11,\"feedName\":\"하모니\",\"clusterTitle\":\"\"}},{\"id\":\"hamny-20220622142552089\",\"title\":\"시민단체 \\\"6·21 부동산대책은 다주택자 중심..서민 정책 필요\\\"\",\"label\":null,\"url\":\"http://realestate.daum.net/news/detail/all/20220622142552089\",\"icon\":\"TEXT\",\"imageUrl\":\"https://t1.daumcdn.net/news/202206/22/yonhap/20220622142552810mshb.jpg\",\"source\":\"연합뉴스\",\"position\":0,\"meta\":{\"impressionId\":\"tromm\",\"contentUniqueKey\":\"hamny-20220622142552089\",\"mediaName\":\"연합뉴스\",\"torosRanking\":0,\"torosScore\":0.0,\"poolCode\":\"ptop_realestate_txt\",\"feedId\":11,\"feedName\":\"하모니\",\"clusterTitle\":\"\"}},{\"id\":\"hamny-20220622120206975\",\"title\":\"둔촌주공 평당 3700만원까지↑..분상제 개편에 분양 물량 늘어날까\",\"label\":null,\"url\":\"http://realestate.daum.net/news/detail/all/20220622120206975\",\"icon\":\"TEXT\",\"imageUrl\":\"https://t1.daumcdn.net/news/202206/22/NEWS1/20220622120211010ovoj.jpg\",\"source\":\"뉴스1\",\"position\":0,\"meta\":{\"impressionId\":\"tromm\",\"contentUniqueKey\":\"hamny-20220622120206975\",\"mediaName\":\"뉴스1\",\"torosRanking\":0,\"torosScore\":0.0,\"poolCode\":\"ptop_realestate_txt\",\"feedId\":11,\"feedName\":\"하모니\",\"clusterTitle\":\"\"}},{\"id\":\"hamny-20220622113502704\",\"title\":\"\\\"도곡·반포에 밀리다니..\\\" 대치동 집주인들 불만 폭발\",\"label\":null,\"url\":\"http://realestate.daum.net/news/detail/all/20220622113502704\",\"icon\":\"TEXT\",\"imageUrl\":\"https://t1.daumcdn.net/news/202206/22/ked/20220622114303545rerr.jpg\",\"source\":\"한국경제\",\"position\":0,\"meta\":{\"impressionId\":\"tromm\",\"contentUniqueKey\":\"hamny-20220622113502704\",\"mediaName\":\"한국경제\",\"torosRanking\":0,\"torosScore\":0.0,\"poolCode\":\"ptop_realestate_txt\",\"feedId\":11,\"feedName\":\"하모니\",\"clusterTitle\":\"\"}},{\"id\":\"hamny-20220622110026648\",\"title\":\"'그린리모델링 청년인턴십' 24일 최종 선발..7~8월 활동\",\"label\":null,\"url\":\"http://realestate.daum.net/news/detail/all/20220622110026648\",\"icon\":\"TEXT\",\"imageUrl\":\"https://t1.daumcdn.net/news/202206/22/NEWS1/20220622110026953egnj.jpg\",\"source\":\"뉴스1\",\"position\":0,\"meta\":{\"impressionId\":\"tromm\",\"contentUniqueKey\":\"hamny-20220622110026648\",\"mediaName\":\"뉴스1\",\"torosRanking\":0,\"torosScore\":0.0,\"poolCode\":\"ptop_realestate_txt\",\"feedId\":11,\"feedName\":\"하모니\",\"clusterTitle\":\"\"}}]},\"cabinets\":null,\"board\":false}],\"katv\":[{\"code\":2364,\"type\":\"PC_KAKAOTV_ORIGINAL\",\"items\":{\"op\":{\"tab\":\"\",\"title\":\"오리지널 콘텐츠\",\"url\":\"\"}},\"feeds\":{\"pc_kakaotv_original\":\"[{\\\"id\\\":\\\"tv-337443388\\\",\\\"title\\\":\\\"유재석이 아내에게도 말하지 않은 비밀?\\\",\\\"url\\\":\\\"https://tv.kakao.com/v/429784156\\\",\\\"imageUrl\\\":\\\"https://t1.daumcdn.net/daumtop_chanel/tromm/20220622100417771.jpg\\\",\\\"label\\\":\\\"플레이유\\\"},{\\\"id\\\":\\\"tv-337447516\\\",\\\"title\\\":\\\"찍기만 해도 인생샷 건질 수 있는 이곳 \\\",\\\"url\\\":\\\"https://tv.kakao.com/v/429791414\\\",\\\"imageUrl\\\":\\\"https://t1.daumcdn.net/daumtop_chanel/tromm/20220622032844005.jpg\\\",\\\"label\\\":\\\"소유기\\\"},{\\\"id\\\":\\\"tv-337443431\\\",\\\"title\\\":\\\"대놓고 방송 조작하려는 유재석\\\",\\\"url\\\":\\\"https://tv.kakao.com/v/429784224\\\",\\\"imageUrl\\\":\\\"https://t1.daumcdn.net/section/oc/f973c40c9e264a0dba7715da3b601435\\\",\\\"label\\\":\\\"플레이유\\\"},{\\\"id\\\":\\\"tv-337381316\\\",\\\"title\\\":\\\"신부가 너무 예뻐서 더 떨린다는 신랑\\\",\\\"url\\\":\\\"https://tv.kakao.com/v/429671776\\\",\\\"imageUrl\\\":\\\"https://t1.daumcdn.net/daumtop_chanel/tromm/20220622010146445.jpg\\\",\\\"label\\\":\\\"결혼백서\\\"},{\\\"id\\\":\\\"tv-337421377\\\",\\\"title\\\":\\\"'나 혼자 산다'에 나와 화제였던 이장우 캠핑카\\\",\\\"url\\\":\\\"https://tv.kakao.com/v/429744831\\\",\\\"imageUrl\\\":\\\"https://t1.daumcdn.net/daumtop_chanel/tromm/20220621092652966.jpg\\\",\\\"label\\\":\\\"초아\\\"},{\\\"id\\\":\\\"tv-337381312\\\",\\\"title\\\":\\\"결혼식 하루 전 딸에게 미안하다는 엄마\\\",\\\"url\\\":\\\"https://tv.kakao.com/v/429671771\\\",\\\"imageUrl\\\":\\\"https://t1.daumcdn.net/daumtop_chanel/tromm/20220622013354325.jpg\\\",\\\"label\\\":\\\"결혼백서\\\"},{\\\"id\\\":\\\"tv-337381296\\\",\\\"title\\\":\\\"엄마에게만 털어놓는 결혼에 대한 진심\\\",\\\"url\\\":\\\"https://tv.kakao.com/v/429671746\\\",\\\"imageUrl\\\":\\\"https://t1.daumcdn.net/daumtop_chanel/tromm/20220622095038212.jpg\\\",\\\"label\\\":\\\"결혼백서\\\"},{\\\"id\\\":\\\"tv-337443391\\\",\\\"title\\\":\\\"시청자가 생각해 낸 가발 챙기는 방법\\\",\\\"url\\\":\\\"https://tv.kakao.com/v/429784161\\\",\\\"imageUrl\\\":\\\"https://t1.daumcdn.net/daumtop_chanel/tromm/20220622024059781.jpg\\\",\\\"label\\\":\\\"플레이유\\\"},{\\\"id\\\":\\\"tv-337443473\\\",\\\"title\\\":\\\"유재석이 1분 동안 침묵하면 생기는 일\\\",\\\"url\\\":\\\"https://tv.kakao.com/v/429784295\\\",\\\"imageUrl\\\":\\\"https://t1.daumcdn.net/daumtop_chanel/tromm/20220622104829183.jpg\\\",\\\"label\\\":\\\"플레이유\\\"},{\\\"id\\\":\\\"tv-337421191\\\",\\\"title\\\":\\\"누가 봐도 수상해 보이는 물, 가까이 가보니\\\",\\\"url\\\":\\\"https://tv.kakao.com/v/429744481\\\",\\\"imageUrl\\\":\\\"https://t1.daumcdn.net/daumtop_chanel/tromm/20220622091033706.jpg\\\",\\\"label\\\":\\\"플레이유\\\"},{\\\"id\\\":\\\"tv-337381079\\\",\\\"title\\\":\\\"남친과 대판 싸운 후 받은 한 통의 문자\\\",\\\"url\\\":\\\"https://tv.kakao.com/v/429671349\\\",\\\"imageUrl\\\":\\\"https://t1.daumcdn.net/section/oc/4d0515025c9340d58bc6078300667a15\\\",\\\"label\\\":\\\"결혼백서\\\"},{\\\"id\\\":\\\"tv-337383590\\\",\\\"title\\\":\\\"마을에서 발견된 공룡 발자국, 알고 봤더니\\\",\\\"url\\\":\\\"https://tv.kakao.com/v/429675745\\\",\\\"imageUrl\\\":\\\"https://t1.daumcdn.net/section/oc/6a569d6bfa48483ca85d765c90b0f2e7\\\",\\\"label\\\":\\\"죠르디입니다\\\"},{\\\"id\\\":\\\"tv-337381288\\\",\\\"title\\\":\\\"\\\\\\\"이렇게 못하겠어\\\\\\\" 마음 불편한 웨딩촬영\\\",\\\"url\\\":\\\"https://tv.kakao.com/v/429671732\\\",\\\"imageUrl\\\":\\\"https://t1.daumcdn.net/daumtop_chanel/tromm/20220621033958715.jpg\\\",\\\"label\\\":\\\"결혼백서\\\"},{\\\"id\\\":\\\"tv-337381307\\\",\\\"title\\\":\\\"부모님이 목격한 예비부부의 싸움\\\",\\\"url\\\":\\\"https://tv.kakao.com/v/429671764\\\",\\\"imageUrl\\\":\\\"https://t1.daumcdn.net/daumtop_chanel/tromm/20220621015850836.jpg\\\",\\\"label\\\":\\\"결혼백서\\\"}]\"},\"teslas\":{},\"cabinets\":null,\"board\":false},{\"code\":2366,\"type\":\"PC_KAKAOTV_CLIP\",\"items\":{\"op\":{\"tab\":null,\"title\":\"TV 주요장면\",\"url\":null}},\"feeds\":{\"pc_kakaotv_clip\":\"[{\\\"id\\\":\\\"tv-337457384\\\",\\\"title\\\":\\\"북한군의 남침, 작전명 '폭풍'! 귀신보다 무서웠던 탱크를 앞세워 시작된 6·25 전쟁 | tvN 220622 방송\\\",\\\"url\\\":\\\"https://newslink.media.daum.net/v/429809085\\\",\\\"imageUrl\\\":\\\"https://thumb.kakaocdn.net/dna/kamp/source/rvy82j71lyak18nb1e1ttwk56/thumbs/thumb.jpg?credential=TuMuFGKUIcirOSjFzOpncbomGFEIdZWK&expires=33212779404&signature=Xtp6r7rhADuYMCr%2BmuG8gIpfnKo%3D\\\",\\\"label\\\":\\\"[tvN] 프리한 닥터W\\\"},{\\\"id\\\":\\\"tv-337456504\\\",\\\"title\\\":\\\"누워서 간다! 국내 열차! 한 폭의 그림 같은 해외 열차! 누워서 보는 영화관까지!ㅣ오픈런 EP.27ㅣSBSPLUSㅣ매주 월-금 오전 9시 방송\\\",\\\"url\\\":\\\"https://newslink.media.daum.net/v/429807528\\\",\\\"imageUrl\\\":\\\"https://thumb.kakaocdn.net/dna/kamp/source/rv91ge82dbs0o10e7h5gmqjjb/thumbs/thumb.jpg?credential=TuMuFGKUIcirOSjFzOpncbomGFEIdZWK&expires=33212774255&signature=O%2BYuBLjhsw5QczPyZWsf0rZlVYw%3D\\\",\\\"label\\\":\\\"오픈런\\\"},{\\\"id\\\":\\\"tv-337457383\\\",\\\"title\\\":\\\"서울을 사수하라! 서울 시민들이 혼란 속에서 피난조차 갈 수 없었던 이유 | tvN 220622 방송\\\",\\\"url\\\":\\\"https://newslink.media.daum.net/v/429809084\\\",\\\"imageUrl\\\":\\\"https://thumb.kakaocdn.net/dna/kamp/source/rvlc7nki5unwv0nmgtc9ssyy8/thumbs/thumb.jpg?credential=TuMuFGKUIcirOSjFzOpncbomGFEIdZWK&expires=33212779398&signature=0hWGBWOSBfhdckYTtDARNXCjnuk%3D\\\",\\\"label\\\":\\\"[tvN] 프리한 닥터W\\\"},{\\\"id\\\":\\\"tv-337456268\\\",\\\"title\\\":\\\"반전의 연속! 일본 vs 미국 태평양 전쟁[다음이야기]\\\",\\\"url\\\":\\\"https://newslink.media.daum.net/v/429807145\\\",\\\"imageUrl\\\":\\\"https://thumb.kakaocdn.net/dna/kamp/source/rv0yf0ycrrpdeducg9f7yy0lq/thumbs/thumb.jpg?credential=TuMuFGKUIcirOSjFzOpncbomGFEIdZWK&expires=33212772741&signature=C%2ByW51lDaVYhvhMlKb0S9RL9KP8%3D\\\",\\\"label\\\":\\\"벌거벗은 세계사\\\"},{\\\"id\\\":\\\"tv-337455521\\\",\\\"title\\\":\\\"동갑 친구 케미! 조유리 X 나나 웹드라마 '미미쿠스' 서로의 연기 평가\\\",\\\"url\\\":\\\"https://newslink.media.daum.net/v/429805908\\\",\\\"imageUrl\\\":\\\"https://thumb.kakaocdn.net/dna/kamp/source/rvj320jxiit6u9y7p6vjou1xr/thumbs/thumb.jpg?credential=TuMuFGKUIcirOSjFzOpncbomGFEIdZWK&expires=33212769105&signature=7%2BwohxtGc2cVhKZhB3LuvCor70Q%3D\\\",\\\"label\\\":\\\"웬디의 영스트리트\\\"},{\\\"id\\\":\\\"tv-337458592\\\",\\\"title\\\":\\\"우아 woo!ah! 민서&나나 - 단거 (Danger) / 220614 정오의 희망곡 김신영입니다[왕크왕캠]\\\",\\\"url\\\":\\\"https://newslink.media.daum.net/v/429811184\\\",\\\"imageUrl\\\":\\\"https://thumb.kakaocdn.net/dna/kamp/source/rv3dvlkpr8z7hdnsajlx6ks7y/thumbs/thumb.jpg?credential=TuMuFGKUIcirOSjFzOpncbomGFEIdZWK&expires=33212785454&signature=I3U3TRtwL4Epu0eBS7cEYY%2F6j8A%3D\\\",\\\"label\\\":\\\"봉춘라디오 (MBC 라디오)\\\"},{\\\"id\\\":\\\"tv-337457609\\\",\\\"title\\\":\\\"6·25 전쟁 중 72시간의 미스터리? 북한이 패했던 결정적 이유 #highlight\\\",\\\"url\\\":\\\"https://newslink.media.daum.net/v/429809477\\\",\\\"imageUrl\\\":\\\"https://thumb.kakaocdn.net/dna/kamp/source/rvegumijpwizv43s9kh1m0yge/thumbs/thumb.jpg?credential=TuMuFGKUIcirOSjFzOpncbomGFEIdZWK&expires=33212780633&signature=SfDRREbQrRMFQ%2Fdq01TOKYeTadM%3D\\\",\\\"label\\\":\\\"[tvN] 프리한 닥터W\\\"},{\\\"id\\\":\\\"tv-337456340\\\",\\\"title\\\":\\\"도로 위 특별석! 누워서 가는 프리미엄 고속버스!! 재이용 의사 100%!!ㅣ오픈런 EP.27ㅣSBSPLUSㅣ매주 월-금 오전 9시 방송\\\",\\\"url\\\":\\\"https://newslink.media.daum.net/v/429807258\\\",\\\"imageUrl\\\":\\\"https://thumb.kakaocdn.net/dna/kamp/source/rvruh5fhjxkew8zexiju69p7q/thumbs/thumb.jpg?credential=TuMuFGKUIcirOSjFzOpncbomGFEIdZWK&expires=33212773192&signature=I34Ackv799LsTauwV37opd898uw%3D\\\",\\\"label\\\":\\\"오픈런\\\"},{\\\"id\\\":\\\"tv-337456287\\\",\\\"title\\\":\\\"야구장 특별석? 익사이팅존! 스카이박스! 그린존! 특별석 티켓팅 꿀팁까지!ㅣ오픈런 EP.27ㅣSBSPLUSㅣ매주 월-금 오전 9시 방송\\\",\\\"url\\\":\\\"https://newslink.media.daum.net/v/429807176\\\",\\\"imageUrl\\\":\\\"https://thumb.kakaocdn.net/dna/kamp/source/rvs1ihnwpdeqxlgw91m96ao0e/thumbs/thumb.jpg?credential=TuMuFGKUIcirOSjFzOpncbomGFEIdZWK&expires=33212772888&signature=zY1FXthC83dzefksIMB%2Bw7ZEd0w%3D\\\",\\\"label\\\":\\\"오픈런\\\"},{\\\"id\\\":\\\"tv-337457533\\\",\\\"title\\\":\\\"6·25 전쟁의 판도를 바꾼 춘천 전투! 김일성이 지목한 전쟁 실패의 원인 | tvN 220622 방송\\\",\\\"url\\\":\\\"https://newslink.media.daum.net/v/429809344\\\",\\\"imageUrl\\\":\\\"https://thumb.kakaocdn.net/dna/kamp/source/rvb2g4b5u1kk4rwgn03aoerer/thumbs/thumb.jpg?credential=TuMuFGKUIcirOSjFzOpncbomGFEIdZWK&expires=33212780295&signature=Zl%2FxcazGoV83%2BVF5D1B9LrN17GU%3D\\\",\\\"label\\\":\\\"[tvN] 프리한 닥터W\\\"},{\\\"id\\\":\\\"tv-337457484\\\",\\\"title\\\":\\\"북한군의 기세를 꺾었던 6사단의 선견지명★ 춘천 옥산포에서의 전투!! | tvN 220622 방송\\\",\\\"url\\\":\\\"https://newslink.media.daum.net/v/429809263\\\",\\\"imageUrl\\\":\\\"https://thumb.kakaocdn.net/dna/kamp/source/rvntcqu0juqud93xuvny48nj6/thumbs/thumb.jpg?credential=TuMuFGKUIcirOSjFzOpncbomGFEIdZWK&expires=33212779988&signature=4jvWsYKOCasgMmhYUhl4btgulIg%3D\\\",\\\"label\\\":\\\"[tvN] 프리한 닥터W\\\"},{\\\"id\\\":\\\"tv-337452517\\\",\\\"title\\\":\\\"'엄마가 된다는 것..' 주은x혜림의 현실 육아 토크! | KBS 220621 방송\\\",\\\"url\\\":\\\"https://newslink.media.daum.net/v/429800338\\\",\\\"imageUrl\\\":\\\"https://thumb.kakaocdn.net/dna/kamp/source/rvx4sn9xz0i9voqbtguask35i/thumbs/thumb.jpg?credential=TuMuFGKUIcirOSjFzOpncbomGFEIdZWK&expires=33212736015&signature=gLdVFSMelKL8fF3roJvpraGX9oM%3D\\\",\\\"label\\\":\\\"갓파더\\\"},{\\\"id\\\":\\\"tv-337458295\\\",\\\"title\\\":\\\"LIGHTSUM(라잇썸) 초원&나영 - 8282 (원곡: 다비치) / 220617 GOT7 영재의 친한 친구 불금의 명곡[라이브]\\\",\\\"url\\\":\\\"https://newslink.media.daum.net/v/429810665\\\",\\\"imageUrl\\\":\\\"https://thumb.kakaocdn.net/dna/kamp/source/rvmpyrp0tpdjq7bpaw3et9cb6/thumbs/thumb.jpg?credential=TuMuFGKUIcirOSjFzOpncbomGFEIdZWK&expires=33212783999&signature=hO76lDWf%2B%2BJYqRaeRBgjbM7AqGI%3D\\\",\\\"label\\\":\\\"봉춘라디오 (MBC 라디오)\\\"},{\\\"id\\\":\\\"tv-337458280\\\",\\\"title\\\":\\\"밴디트(BVNDIT) 정우&송희 - 비밀번호 486 (원곡: 윤하) / 220617 GOT7 영재의 친한 친구 불금의 명곡[라이브]\\\",\\\"url\\\":\\\"https://newslink.media.daum.net/v/429810641\\\",\\\"imageUrl\\\":\\\"https://thumb.kakaocdn.net/dna/kamp/source/rvdkj0zuyhvzcvxqgchlfcoer/thumbs/thumb.jpg?credential=TuMuFGKUIcirOSjFzOpncbomGFEIdZWK&expires=33212783941&signature=BXnPd%2FnR%2BYdnzdNadTVA3Fg%2FMCM%3D\\\",\\\"label\\\":\\\"봉춘라디오 (MBC 라디오)\\\"},{\\\"id\\\":\\\"tv-337452518\\\",\\\"title\\\":\\\"※감동 주의※ 주은이 '초보 맘' 혜림에게 건네는 따듯한 위로 (●ᴗ●)ﾉ♥ | KBS 220621 방송\\\",\\\"url\\\":\\\"https://newslink.media.daum.net/v/429800339\\\",\\\"imageUrl\\\":\\\"https://thumb.kakaocdn.net/dna/kamp/source/rvj4agk4zz66y26q7plg6n0cs/thumbs/thumb.jpg?credential=TuMuFGKUIcirOSjFzOpncbomGFEIdZWK&expires=33212787493&signature=hEJDtTnL6W6uLH1ZWdb5HN1nItE%3D&ts=1655878693\\\",\\\"label\\\":\\\"갓파더\\\"},{\\\"id\\\":\\\"tv-337452477\\\",\\\"title\\\":\\\"뮤지컬 스타를 위해 온 가족이 총출동했다?! 가족들의 응원을 받은 김명진의 점수는?\\\",\\\"url\\\":\\\"https://newslink.media.daum.net/v/429800274\\\",\\\"imageUrl\\\":\\\"https://thumb.kakaocdn.net/dna/kamp/source/rvfbzbivs5hgw8wvy2xfl2gir/thumbs/thumb.jpg?credential=TuMuFGKUIcirOSjFzOpncbomGFEIdZWK&expires=33212735836&signature=UE19lGFyQk36H%2FAyNd%2FFEa%2BfI7Q%3D\\\",\\\"label\\\":\\\"2022 DIMF 뮤지컬 스타\\\"},{\\\"id\\\":\\\"tv-337458267\\\",\\\"title\\\":\\\"갤럭시 익스프레스 & 윤도현 - 개구쟁이 (원곡 산울림) / 220612 4시엔 윤도현입니다 가든라이브[라이브]\\\",\\\"url\\\":\\\"https://newslink.media.daum.net/v/429810619\\\",\\\"imageUrl\\\":\\\"https://thumb.kakaocdn.net/dna/kamp/source/rvu583yz60fjr207irp6lx3gy/thumbs/thumb.jpg?credential=TuMuFGKUIcirOSjFzOpncbomGFEIdZWK&expires=33212783870&signature=uSDIKlmMKHjsH5p4edgLdx8T1DU%3D\\\",\\\"label\\\":\\\"봉춘라디오 (MBC 라디오)\\\"},{\\\"id\\\":\\\"tv-337458945\\\",\\\"title\\\":\\\"수지X옥택연의 만남❤️‍ 아버지의 사업 부도로 모든 꿈이 산산조각 나버린 부잣집 공주님 고혜미⚡️ | KBS 방송[EP1-01]\\\",\\\"url\\\":\\\"https://newslink.media.daum.net/v/429811764\\\",\\\"imageUrl\\\":\\\"https://thumb.kakaocdn.net/dna/kamp/source/rvwfeilfjmimb7foco8nl9dv7/thumbs/thumb.jpg?credential=TuMuFGKUIcirOSjFzOpncbomGFEIdZWK&expires=33212787137&signature=nRscDQxm%2FVEk575gjhH%2Bh7OXiM8%3D\\\",\\\"label\\\":\\\"드림하이\\\"},{\\\"id\\\":\\\"tv-337457430\\\",\\\"title\\\":\\\"남침 작전명 '폭풍'의 세부 전략! 한강 이북을 점령하고도 한강을 건너지 못한 북한? | tvN 220622 방송\\\",\\\"url\\\":\\\"https://newslink.media.daum.net/v/429809168\\\",\\\"imageUrl\\\":\\\"https://thumb.kakaocdn.net/dna/kamp/source/rvfycq736ln9yndijzcwom1xr/thumbs/thumb.jpg?credential=TuMuFGKUIcirOSjFzOpncbomGFEIdZWK&expires=33212779693&signature=qB6RtrT%2BT9RVWoyc5RL5o4SHBh0%3D\\\",\\\"label\\\":\\\"[tvN] 프리한 닥터W\\\"},{\\\"id\\\":\\\"tv-337457532\\\",\\\"title\\\":\\\"6·25 전쟁 72주년, 우리가 절대 잊지 말아야 하는 것들 | tvN 220622 방송\\\",\\\"url\\\":\\\"https://newslink.media.daum.net/v/429809345\\\",\\\"imageUrl\\\":\\\"https://thumb.kakaocdn.net/dna/kamp/source/rvtppp93gg0jd5tbacuxqd7jr/thumbs/thumb.jpg?credential=TuMuFGKUIcirOSjFzOpncbomGFEIdZWK&expires=33212780290&signature=VwgitOhNgO6dqHoTBiIAWQiComw%3D\\\",\\\"label\\\":\\\"[tvN] 프리한 닥터W\\\"}]\"},\"teslas\":{},\"cabinets\":null,\"board\":false},{\"code\":2365,\"type\":\"PC_KAKAOTV_HIGHLIGHT\",\"items\":{\"op\":{\"tab\":null,\"title\":\"많이 본 TV\",\"url\":null}},\"feeds\":{\"pc_kakaotv_highlight\":\"[{\\\"id\\\":\\\"tv-337421191\\\",\\\"title\\\":\\\"11회.  제11장 『 레벨업 (Level Up) 』\\\",\\\"url\\\":\\\"http://entertain.daum.net/tv/5461557/video/429744481\\\",\\\"imageUrl\\\":\\\"https://t1.kakaocdn.net/kakaotv/ASSET/warhol_asset/vod_thumbnail/f8f9309e7609c1d420a95104330847c69a0520c2\\\",\\\"label\\\":\\\"플레이유\\\"},{\\\"id\\\":\\\"tv-337452309\\\",\\\"title\\\":\\\"혜림♥민철 2세 신시우 최초 공개! 지금 만나러 갑니다..(●°u°●) | KBS 220621 방송 \\\",\\\"url\\\":\\\"http://entertain.daum.net/tv/5196372/video/429799979\\\",\\\"imageUrl\\\":\\\"https://thumb.kakaocdn.net/dna/kamp/source/rvviywv4h75aezy94p26k24lb/thumbs/thumb.jpg?credential=TuMuFGKUIcirOSjFzOpncbomGFEIdZWK&expires=33212735623&signature=zw8hP0MB9VQreKm1L8%2BhxUOO4cw%3D&ts=1655826823\\\",\\\"label\\\":\\\"갓파더\\\"},{\\\"id\\\":\\\"tv-337451189\\\",\\\"title\\\":\\\"“아비가 좀 멀리 다녀오려 합니다” 귀양을 떠나게 된 허성태를 막아선 최리.. ‘오열’ | KBS 220621 방송 \\\",\\\"url\\\":\\\"http://entertain.daum.net/tv/5207089/video/429797993\\\",\\\"imageUrl\\\":\\\"https://thumb.kakaocdn.net/dna/kamp/source/rv8830oza1vqcv3mubrjtwwvj/thumbs/thumb.jpg?credential=TuMuFGKUIcirOSjFzOpncbomGFEIdZWK&expires=33212734466&signature=bAmHs1XjQxW4n9o%2FPA6kQdZY6ao%3D&ts=1655825666\\\",\\\"label\\\":\\\"붉은 단심\\\"},{\\\"id\\\":\\\"tv-337450701\\\",\\\"title\\\":\\\"박지연을 향해 시위를 당긴 하도권의 화살을 대신 맞고 쓰러진 장혁.. | KBS 220621 방송 \\\",\\\"url\\\":\\\"http://entertain.daum.net/tv/5207089/video/429797160\\\",\\\"imageUrl\\\":\\\"https://thumb.kakaocdn.net/dna/kamp/source/rva7p1xe94d6ynxjvhkqs8o9p/thumbs/thumb.jpg?credential=TuMuFGKUIcirOSjFzOpncbomGFEIdZWK&expires=33212727542&signature=ukJ3Os%2FfDTy70%2F0lCyeFFYGvSWw%3D\\\",\\\"label\\\":\\\"붉은 단심\\\"}]\"},\"teslas\":{},\"cabinets\":null,\"board\":false}],\"social\":[{\"code\":2367,\"type\":\"PC_SOCIAL_CAFE\",\"items\":{\"op\":{\"tab\":\"cafe\",\"title\":\"카페\",\"url\":\"https://top.cafe.daum.net/\"}},\"feeds\":{\"pc_social_cafe\":\"[{\\\"id\\\":\\\"cafe-humornara/5Y2/748669\\\",\\\"title\\\":\\\"중국에서 아파트 짓는 방법\\\",\\\"url\\\":\\\"https://cafe.daum.net/humornara/5Y2/748669?svc=daumapp\\\",\\\"imageUrl\\\":\\\"https://t1.daumcdn.net/section/oc/4315360d51ba48e49eb8665499453548\\\",\\\"source\\\":\\\"유머나라\\\",\\\"summary\\\":\\\"   \\\"},{\\\"id\\\":\\\"cafe-subdued20club/ReHf/3916619\\\",\\\"title\\\":\\\"K-곰돌하트 갈기는 탑건 배우들.jpg\\\",\\\"url\\\":\\\"https://cafe.daum.net/subdued20club/ReHf/3916619?svc=daumapp\\\",\\\"imageUrl\\\":\\\"https://t1.daumcdn.net/daumtop_chanel/tromm/20220622114638478\\\",\\\"source\\\":\\\"여성시대\\\",\\\"summary\\\":\\\"출처 : 여성시대 (본인 닉네임).그리고 볼하트 갈기는 톰크루즈\\\"},{\\\"id\\\":\\\"cafe-subdued20club/ReHf/3916767\\\",\\\"title\\\":\\\"오늘같은 날씨에 어울리는 창작시..twt\\\",\\\"url\\\":\\\"https://cafe.daum.net/subdued20club/ReHf/3916767?svc=daumapp\\\",\\\"imageUrl\\\":\\\"https://t1.daumcdn.net/section/oc/7becb4e90b7a456ca2833c8c05b1b815\\\",\\\"source\\\":\\\"여성시대\\\",\\\"summary\\\":\\\"출처 : https://twitter.com/rifabooo/status/1538748569066172422?s=21t=f37EB1ONuhN56iUZDWyfhA오늘 뭔가 찰떡인 시다\\\"},{\\\"id\\\":\\\"cafe-dotax/Elgq/3963987\\\",\\\"title\\\":\\\"누리호 발사 순간을 수화로 전달.gif\\\",\\\"url\\\":\\\"https://cafe.daum.net/dotax/Elgq/3963987?svc=daumapp\\\",\\\"imageUrl\\\":\\\"https://t1.daumcdn.net/section/oc/ae528eaeb4634592ac32f3af0516b1f3\\\",\\\"source\\\":\\\"도탁스 (DOTAX)\\\",\\\"summary\\\":\\\"부와 부와 부와아아아앙\\\"},{\\\"id\\\":\\\"cafe-dotax/Elgq/3964400\\\",\\\"title\\\":\\\"빽다방에서 쫓겨나는 백종원 대표님.gif\\\",\\\"url\\\":\\\"https://cafe.daum.net/dotax/Elgq/3964400?svc=daumapp\\\",\\\"imageUrl\\\":\\\"https://t1.daumcdn.net/daumtop_chanel/tromm/20220622015906776\\\",\\\"source\\\":\\\"도탁스 (DOTAX)\\\",\\\"summary\\\":\\\"아 대표고 나발이고 머그잔 쓰라고여직원들 : 개꿀ㅋㅋㅋㅋㅋㅋㅋㅋㅋㅋㅋㅋㅋㅋㅋㅋ\\\"},{\\\"id\\\":\\\"cafe-WorldcupLove/Knj/2668757\\\",\\\"title\\\":\\\"영화의 한 장면을 재현하고 싶었던 아저씨\\\",\\\"url\\\":\\\"https://cafe.daum.net/WorldcupLove/Knj/2668757?svc=daumapp\\\",\\\"imageUrl\\\":\\\"https://t1.daumcdn.net/section/oc/869caa7b84924fa389bb54837b82d423\\\",\\\"source\\\":\\\"아이러브사커\\\",\\\"summary\\\":\\\"우리는 왜 와 하면서 종이 던지는거 안해???? ㅠㅠㅠㅠ 얼마나 하고 싶으셨을까 ㅋㅋㅋㅋ 시원하게 그냥 하지\\\"},{\\\"id\\\":\\\"cafe-rocksoccer/ADs1/846761\\\",\\\"title\\\":\\\"리뷰에 소오름 돋은 사장님.jpg\\\",\\\"url\\\":\\\"https://cafe.daum.net/rocksoccer/ADs1/846761?svc=daumapp\\\",\\\"imageUrl\\\":\\\"https://t1.daumcdn.net/section/oc/373480af8ac540c7ab4aa012e9c05e47\\\",\\\"source\\\":\\\"樂soccer\\\",\\\"summary\\\":\\\"손님이 맛 감별사 ㅋㅋㅋㅋ\\\"},{\\\"id\\\":\\\"cafe-klovek82/5xRc/327705\\\",\\\"title\\\":\\\"누리호 중계한 MBC 아나운서 정체.jpg\\\",\\\"url\\\":\\\"https://cafe.daum.net/klovek82/5xRc/327705?svc=daumapp\\\",\\\"imageUrl\\\":\\\"https://t1.daumcdn.net/section/oc/f2662bd520fe4534a53bb46af7a2c071\\\",\\\"source\\\":\\\"울트라쇼깅\\\",\\\"summary\\\":\\\"  \\\"},{\\\"id\\\":\\\"cafe-Duckgu/D49M/201890\\\",\\\"title\\\":\\\"현재 사이클 주니어 국가대표로 인도에서 경기중인 배우 라미란 아들 경기결과 근황.jpg\\\",\\\"url\\\":\\\"https://cafe.daum.net/Duckgu/D49M/201890?svc=daumapp\\\",\\\"imageUrl\\\":\\\"https://t1.daumcdn.net/daumtop_chanel/tromm/20220622113107093\\\",\\\"source\\\":\\\"방석 위로 모여라\\\",\\\"summary\\\":\\\"출처 https://theqoo.net/2493962636단체스프린트 (팀)배준형-김근우(라미란아들)-이찬영금메달1km 독주 (개인전 경기) 은메달그와중에 라미란 아들이 1등 못해서 아쉬워하는 인스타 댓글에 엄마 라미란 댓글 \\\"},{\\\"id\\\":\\\"cafe-cs11sz/LG19/430458\\\",\\\"title\\\":\\\"제주에서 오는 비행기에서 누리호 발사 봄.twt\\\",\\\"url\\\":\\\"https://cafe.daum.net/cs11sz/LG19/430458?svc=daumapp\\\",\\\"imageUrl\\\":\\\"https://t1.daumcdn.net/section/oc/3f4f5f2599a54217952647a8acc1522f\\\",\\\"source\\\":\\\"내가 아는 카페\\\",\\\"summary\\\":\\\"소울드레서는 우리가 만들어가는 소중한 공간입니다.댓글 작성 시 타인에 대한 배려와 책임을 다해주세요.   제주에서 오는 뱅기어서 누리호 발사 봤다? pic.twitter.com/q0S6KZTLjD B_블라썸'ㅅ' (@blossom940412) June 21, 2022        기장이 오른쪽으로 누리호가 발사되는 어쩌구 하는 안내방송을 하는 순간 옆을 보는데 하필 내가 오른쪽 창가에 앉았네ㅜ 너무 신기한 경험했다 진짜 pic.twitter.com/LTO4eiPyEs B_블라썸'ㅅ' (@blossom940412) June 21, ...\\\"},{\\\"id\\\":\\\"cafe-subdued20club/ReHf/3913732\\\",\\\"title\\\":\\\"공대생의 프로포즈\\\",\\\"url\\\":\\\"https://cafe.daum.net/subdued20club/ReHf/3913732?svc=daumapp\\\",\\\"imageUrl\\\":\\\"https://t1.daumcdn.net/section/oc/2534b0ef1b014eef9c706d7267e8c07e\\\",\\\"source\\\":\\\"여성시대\\\",\\\"summary\\\":\\\"\\\"},{\\\"id\\\":\\\"cafe-subdued20club/ReHf/3916047\\\",\\\"title\\\":\\\"열정적인 과일가게 아저씨\\\",\\\"url\\\":\\\"https://cafe.daum.net/subdued20club/ReHf/3916047?svc=daumapp\\\",\\\"imageUrl\\\":\\\"https://t1.daumcdn.net/daumtop_chanel/tromm/20220622095207769\\\",\\\"source\\\":\\\"여성시대\\\",\\\"summary\\\":\\\"출처 : 여성시대 꺠명 https://ggoorr.net/thisthat/13609082\\\"},{\\\"id\\\":\\\"cafe-ssaumjil/LnOm/2832668\\\",\\\"title\\\":\\\"냉장고에서 케첩을 오랜만에 꺼냈을때 특징\\\",\\\"url\\\":\\\"https://cafe.daum.net/ssaumjil/LnOm/2832668?svc=daumapp\\\",\\\"imageUrl\\\":\\\"https://t1.daumcdn.net/section/oc/650b2defec3447eab26bc1ec822181ba\\\",\\\"source\\\":\\\"이종격투기\\\",\\\"summary\\\":\\\"\\\"},{\\\"id\\\":\\\"cafe-subdued20club/ReHf/3916536\\\",\\\"title\\\":\\\"자막으로 아무 말 대잔치\\\",\\\"url\\\":\\\"https://cafe.daum.net/subdued20club/ReHf/3916536?svc=daumapp\\\",\\\"imageUrl\\\":\\\"https://t1.daumcdn.net/section/oc/76de617c6afa49b6b4c68b02134bd407\\\",\\\"source\\\":\\\"여성시대\\\",\\\"summary\\\":\\\"출처 : 여성시대 꺠명 https://threppa.com/bbs/board.php?bo_table=0207wr_id=635186\\\"},{\\\"id\\\":\\\"cafe-cs11sz/LG19/430491\\\",\\\"title\\\":\\\"누리호 발사 가장 기쁠 사람들 ㅋㅋㅋ\\\",\\\"url\\\":\\\"https://cafe.daum.net/cs11sz/LG19/430491?svc=daumapp\\\",\\\"imageUrl\\\":\\\"https://t1.daumcdn.net/daumtop_chanel/tromm/20220622093330063\\\",\\\"source\\\":\\\"내가 아는 카페\\\",\\\"summary\\\":\\\"\\\"},{\\\"id\\\":\\\"cafe-subdued20club/ReHf/3916870\\\",\\\"title\\\":\\\"아직도 생각하면 뭉클한거 있어\\\",\\\"url\\\":\\\"https://cafe.daum.net/subdued20club/ReHf/3916870?svc=daumapp\\\",\\\"imageUrl\\\":\\\"https://t1.daumcdn.net/section/oc/1462e0bd25244e0a944a0f573af97a6f\\\",\\\"source\\\":\\\"여성시대\\\",\\\"summary\\\":\\\"출처 : https://m.cafe.daum.net/baemilytory/91cd/586592?svc=cafeapp\\\"},{\\\"id\\\":\\\"cafe-dotax/Elgq/3962694\\\",\\\"title\\\":\\\"조나단이 학창시절 다이제 먹던 방법.gif\\\",\\\"url\\\":\\\"https://cafe.daum.net/dotax/Elgq/3962694?svc=daumapp\\\",\\\"imageUrl\\\":\\\"https://t1.daumcdn.net/section/oc/c18dbea88f6c4514bb1d2a3e5fe73271\\\",\\\"source\\\":\\\"도탁스 (DOTAX)\\\",\\\"summary\\\":\\\"\\\"},{\\\"id\\\":\\\"cafe-ok1221/9Zdf/2679897\\\",\\\"title\\\":\\\"베테랑 배우의 NG 이유\\\",\\\"url\\\":\\\"https://cafe.daum.net/ok1221/9Zdf/2679897?svc=daumapp\\\",\\\"imageUrl\\\":\\\"https://t1.daumcdn.net/section/oc/270eef3a36824925bb3f44f5686a1438\\\",\\\"source\\\":\\\"쭉빵카페\\\",\\\"summary\\\":\\\"김해숙 - 성동일 나이차 9살\\\"},{\\\"id\\\":\\\"cafe-subdued20club/ReHf/3913728\\\",\\\"title\\\":\\\"아빠가 공대생이면 생기는 문제\\\",\\\"url\\\":\\\"https://cafe.daum.net/subdued20club/ReHf/3913728?svc=daumapp\\\",\\\"imageUrl\\\":\\\"https://t1.daumcdn.net/section/oc/40de8ab4903840e9aa02e617133ae044\\\",\\\"source\\\":\\\"여성시대\\\",\\\"summary\\\":\\\"\\\"},{\\\"id\\\":\\\"cafe-Tlwkftlqkftlldlqkf/8vJr/648209\\\",\\\"title\\\":\\\"예능감 좋은 것 같은 안유진\\\",\\\"url\\\":\\\"https://cafe.daum.net/Tlwkftlqkftlldlqkf/8vJr/648209?svc=daumapp\\\",\\\"imageUrl\\\":\\\"https://t1.daumcdn.net/section/oc/1cf82b810da54c349841be9a83e34ff7\\\",\\\"source\\\":\\\"우리 동네 목욕탕\\\",\\\"summary\\\":\\\"출처 : 여성시대 책찢어버려\\\"}]\"},\"teslas\":{},\"cabinets\":null,\"board\":false},{\"code\":2368,\"type\":\"PC_SOCIAL_BRUNCH\",\"items\":{\"op\":{\"tab\":\"brunch\",\"title\":\"브런치\",\"url\":\"https://brunch.co.kr/\"}},\"feeds\":{\"pc_social_brunch\":\"[{\\\"id\\\":\\\"brch-cRH9-brunchbook_longwayto4th\\\",\\\"title\\\":\\\"가치의 고민 - 가상화폐의 딜레마 (1)\\\",\\\"url\\\":\\\"https://brunch.co.kr/brunchbook/longwayto4th\\\",\\\"imageUrl\\\":\\\"http://t1.daumcdn.net/brunch/service/user/cRH9/image/AEqe-VGkHb5jUQlXRTgJFYI81P0.jpg\\\",\\\"source\\\":\\\"by 4차 산업에서 길을 잃었는데요?\\\",\\\"summary\\\":null},{\\\"id\\\":\\\"brch-5pb5-brunchbook_mandoo1506\\\",\\\"title\\\":\\\"환영합니다, 글쓰기 모임은 처음이시죠?\\\",\\\"url\\\":\\\"https://brunch.co.kr/brunchbook/mandoo1506\\\",\\\"imageUrl\\\":\\\"http://t1.daumcdn.net/brunch/service/user/5pb5/image/7RdjABCC3QMCIjmK2EXJ1To7lAk.jpg\\\",\\\"source\\\":\\\"by 글쓰기 모임 하는 법\\\",\\\"summary\\\":null},{\\\"id\\\":\\\"brch-ec8v-brunchbook_miyehppi1\\\",\\\"title\\\":\\\"[이런 날, 저런 날] 1화 파워샷\\\",\\\"url\\\":\\\"https://brunch.co.kr/brunchbook/miyehppi1\\\",\\\"imageUrl\\\":\\\"http://t1.daumcdn.net/brunch/service/user/ec8v/image/FfahXeYnZUzS43-dk_CuePhrgcA.png\\\",\\\"source\\\":\\\"by 이런 날, 저런 날 1\\\",\\\"summary\\\":null},{\\\"id\\\":\\\"brch-8zJ0-brunchbook_mindwriting\\\",\\\"title\\\":\\\"내가 책 한 권을 필사한 이유\\\",\\\"url\\\":\\\"https://brunch.co.kr/brunchbook/mindwriting\\\",\\\"imageUrl\\\":\\\"http://t1.daumcdn.net/brunch/service/user/8zJ0/image/5pnw5nW5fJuZYhzxkiX4iBawv2g.jpg\\\",\\\"source\\\":\\\"by 불안한 나를 달래는 글쓰기\\\",\\\"summary\\\":null}]\"},\"teslas\":{},\"cabinets\":null,\"board\":false},{\"code\":2369,\"type\":\"PC_SOCIAL_TISTORY\",\"items\":{\"op\":{\"tab\":\"tistory\",\"title\":\"티스토리\",\"url\":\"https://www.tistory.com/\"}},\"feeds\":{\"pc_social_tistory\":\"[{\\\"id\\\":\\\"tstory-1660357_2327\\\",\\\"title\\\":\\\"제주와 맥주의 조합은 못 참지! 제주맥주 양조장 투어\\\",\\\"url\\\":\\\"https://www.dbblog.co.kr/2327\\\",\\\"imageUrl\\\":\\\"https://t1.daumcdn.net/section/oc/857351ed29884d45a424f156f2fd4c23\\\",\\\"source\\\":\\\"by DB 블로그\\\",\\\"summary\\\":\\\"치맥부터 피맥, 책맥, 낮맥, 혼맥까지 지금은 맥주의 전성시대에요. 52년 만에 개정된 주세법, 코로나19 영향으로 확산된 홈술 트렌드, 편의점 수제 캔맥주의 폭발적 성장 등이 복합적으로 영향을 미치면서 국산 수제 맥주는 빠르게 몸집을 키워 왔어요. 우리나라에는 100곳이 넘는 수제 맥주 브루어리가 있는데요. 브루어리 투어를 할 수 있는 곳도 점점 늘고 있\\\"},{\\\"id\\\":\\\"tstory-2564029_1321\\\",\\\"title\\\":\\\"고기의 졸깃함~ 숙주의 아삭함~ 짜파게티 면과 함께~\\\",\\\"url\\\":\\\"https://foodroom.tistory.com/1321\\\",\\\"imageUrl\\\":\\\"https://t1.daumcdn.net/section/oc/5eb33a96d43d4ec2841bcd0829fe6a9f\\\",\\\"source\\\":\\\"by 훌리아 푸드룸\\\",\\\"summary\\\":\\\"짜파게티 재료 및 양념 짜파게티 재료 준비 : 짜파게티 라면 2개, 양파 반개, 땡초 2개, 파 1/2개, 갈빗살 200g + 굴소스 2큰술, 식용유 1큰술(파기름 만들때) [##_Image|kage@cmeGcu/btrCBRSjG9Q/WX78mZXzZjRmLLkXv4AcK0/img.jpg|CDM|1.3|{\\\\\\\"originWidth\\\\\\\":4000,\\\\\\\"originHei\\\"},{\\\"id\\\":\\\"tstory-525858_2037\\\",\\\"title\\\":\\\"서울 근교 간이역 여행, 남양주 자전거길 가볼만한곳 능내역 폐역\\\",\\\"url\\\":\\\"https://shipbest.tistory.com/2037\\\",\\\"imageUrl\\\":\\\"https://t1.daumcdn.net/section/oc/13d33762781e4b1482383814962c6b6d\\\",\\\"source\\\":\\\"by 발길이 이끄는 곳으로의 사진여행\\\",\\\"summary\\\":\\\"서울 근교에 위치한 남양주는 남한강을 따라 자전거길이 잘 되어 있어 주말이나 휴일에 자전거길 코스로 가볼만한곳이기도 한데요. 남양주에는 옛 중앙선 철길이 지나던 능내역 폐역이 자리잡고 있습니다. 지금은 폐역이 되었지만, 능내역 주변으로 자전거 도로가 잘 되어 있기도 하고, 주변에 볼거리들이 많아 자전거를 타거나 드라이브를 다녀오면서 한 번쯤 들릴만한 곳이기\\\"},{\\\"id\\\":\\\"tstory-457261_2652\\\",\\\"title\\\":\\\"강화도 밀크닉 : 기분 좋아지는 강화 디저트 카페\\\",\\\"url\\\":\\\"https://geniusjw.com/2652\\\",\\\"imageUrl\\\":\\\"https://t1.daumcdn.net/section/oc/02e7c2a238b446f08a31ee2fe29bb749\\\",\\\"source\\\":\\\"by GeniusJW\\\",\\\"summary\\\":\\\"여러분 안녕하세요, GeniusJW 입니다. 오늘은 강화도의 분위기 좋은 디저트 카페 <밀크닉> 리뷰입니다. 강화도 밀크닉은 그린망고(@greenmango_styling) 사장님의 소개로 방문하게 된 가게인데, 깔끔하고 아늑한 인테리어는 기본이고, 카페 사장님이 굉장히 친절하시고 밝은 성격을 지닌 분이라 방문하면 저절로 기분이 좋아지는 카페였습니다. [##\\\"},{\\\"id\\\":\\\"tstory-2854108_1157\\\",\\\"title\\\":\\\"KFC 스콜쳐버거 베이직/플러스 후기\\\",\\\"url\\\":\\\"https://hse30.tistory.com/1157\\\",\\\"imageUrl\\\":\\\"https://t1.daumcdn.net/section/oc/296657703bf543d6840e40572884f938\\\",\\\"source\\\":\\\"by 정원\\\",\\\"summary\\\":\\\"KFC의 2022.06.21.(화) 신메뉴, 스콜쳐버거를 리뷰합니다. 매운 마요네즈를 넣은 닭다리살 치킨버거입니다. 참고로 scorcher는 매우 덥고 햇볕이 쨍쨍한 날을 의미합니다. 제품 정보를 보고 리뷰합니다. • 구입 당시 정가: 베이직: 단품 5,600원 / 세트 7,600원 플러스: 단품 6,500원 / 세트 8,500원 • 구입 당시 행사: 단품\\\"},{\\\"id\\\":\\\"tstory-3796749_248\\\",\\\"title\\\":\\\"건대입구역 해룡마라룽샤 가재꼬리 마파두부 볶음밥 가격 주말 방문 후기\\\",\\\"url\\\":\\\"https://likeapricot.tistory.com/248\\\",\\\"imageUrl\\\":\\\"https://t1.daumcdn.net/section/oc/bcd1b73a28f94bdca3bcf3abcb48078c\\\",\\\"source\\\":\\\"by 살구로그\\\",\\\"summary\\\":\\\"해룡마라룽샤 [##_Image|kage@ciCqZJ/btrFooHTaJt/wF1EuGCF2MMzULGfohG6Fk/img.jpg|CDM|1.3|{\\\\\\\"originWidth\\\\\\\":3024,\\\\\\\"originHeight\\\\\\\":4032,\\\\\\\"style\\\\\\\":\\\\\\\"alignCenter\\\\\\\",\\\\\\\"filename\\\\\\\":\\\\\\\"KakaoTalk_20220621_225532204_02.jpg\\\\\\\"}_##] 진짜 오\\\"},{\\\"id\\\":\\\"tstory-926178_734\\\",\\\"title\\\":\\\"[라이프] 말리부 인근 숨은 하이킹 명소. 토팽가 캐년 룩아웃\\\",\\\"url\\\":\\\"https://calholic.tistory.com/734\\\",\\\"imageUrl\\\":\\\"https://t1.daumcdn.net/section/oc/02faa14f024c4642918cbe15d91f77de\\\",\\\"source\\\":\\\"by 캘리홀릭\\\",\\\"summary\\\":\\\"TOPANGA CANYON LOOKOUT 콘크리트 그래피티 아트 위에서 즐기는 360도 전경 [##_Image|kage@NN7Kw/btrFkWLaaOK/E9PbjFoG0dyQnBXcKHa511/img.jpg|CDM|1.3|{\\\\\\\"originWidth\\\\\\\":1280,\\\\\\\"originHeight\\\\\\\":721,\\\\\\\"style\\\\\\\":\\\\\\\"alignCenter\\\\\\\",\\\\\\\"filename\\\\\\\":\\\\\\\"Kak\\\"},{\\\"id\\\":\\\"tstory-2062045_838\\\",\\\"title\\\":\\\"영국이 사랑한 고양이 화가, 루이스 웨인展\\\",\\\"url\\\":\\\"https://thehyundaiblog.com/838\\\",\\\"imageUrl\\\":\\\"https://t1.daumcdn.net/section/oc/4e0ef76e098b42b69b7c30bf61e4bade\\\",\\\"source\\\":\\\"by 현대백화점 공식블로그\\\",\\\"summary\\\":\\\"모든 동물이 행복해지길 바랐던 엉뚱한 천재 화가 루이스 웨인. 그의 고양이 그림은 오늘날까지 많은 사람들에게 사랑받고 있는데요. 4월에는 영화로도 개봉되어 스크린에서 만나볼 수 있었던 루이스 웨인의 생애가 이번에는 전시회로 찾아왔다는 소식입니다. 루이스 웨인의 원화와 오리지널 판화, 미디어아트 100여점을 만나볼 수 있는 전시 <루이스 웨인展>이 현대백화점\\\"},{\\\"id\\\":\\\"tstory-535087_272\\\",\\\"title\\\":\\\"이건 데자뷰?? Teddy Santis의 뉴발란스 M990TD2 개봉기, 사이즈 추천\\\",\\\"url\\\":\\\"https://dmwriter.tistory.com/272\\\",\\\"imageUrl\\\":\\\"https://t1.daumcdn.net/section/oc/db143c40b6d94857a5c825aee422c84a\\\",\\\"source\\\":\\\"by Mist\\\",\\\"summary\\\":\\\"코로나 시기를 겪으며 스니커신에 가장 많은 변화는 리셀가의 폭발적인 상승과, 브랜드간 활발한 콜라보를 꼽을 수 있을 것 같습니다. 스니커 브랜드들은 아이덴티티와 디자인의 외연확장을 위해 다른 패션 브랜드와의 협업에 기꺼이 손을 내밀었습니다. 나이키는 아 마 마니에르, 오프 화이트, 트래비스 스캇과의 콜라보가 폭발적인 인기를 끌었었고 [##_ImageGrid\\\"},{\\\"id\\\":\\\"tstory-1954431_460\\\",\\\"title\\\":\\\"부산 동대신동 : 시원하고 맛있는 밀면 맛집, 영남냉면밀면\\\",\\\"url\\\":\\\"https://soraing.tistory.com/460\\\",\\\"imageUrl\\\":\\\"https://t1.daumcdn.net/section/oc/00ad1f1ef79e4630b63be2323bb5110c\\\",\\\"source\\\":\\\"by 탐험하라 꿈꾸라 발견하라\\\",\\\"summary\\\":\\\"점심은 또 무얼 먹을까 고민하다가 시원한 밀면이 먹고 싶었다. 점심을 같이할 동행분께 말씀드렸더니 거리는 좀 있지만, 밀면 맛집이 있다며 데려가 주셨다. 학창 시절 내내 대신동 근처에 살았는데, 영남 밀면은 처음 들었다. 식당의 위치도 내가 잘 다니지 않던 길이기도 했다. 영남냉면밀면 위치와 주차장 정보 영남냉면밀면은 벚꽃 명소로 유명한 대신동 삼익아파트 \\\"},{\\\"id\\\":\\\"tstory-2864167_345\\\",\\\"title\\\":\\\"[태국 방콕 여행]솜분씨푸드 - 푸팟퐁커리 맛집\\\",\\\"url\\\":\\\"https://wooleelife.tistory.com/345\\\",\\\"imageUrl\\\":\\\"https://t1.daumcdn.net/section/oc/80405e96a0ca4acda7266791113b7a7b\\\",\\\"source\\\":\\\"by 우리라이프\\\",\\\"summary\\\":\\\"태국 방콕에 여행 간 한국사람들이 하루에 한번씩 간다는 푸팟퐁커리 맛집이 있습니다. 여행중 5번 정도는 들리게 된다는 시암스퀘어의 스퀘어원 4층에 가면 솜분씨푸드라는 집이 있는데, 여기가 한국인들 사이에서 유명한 푸팟퐁커리 맛집입니다. 이 건물에는 '홍대' 등 한국식당 임을 내건 음식점들이 많은데, 한국의 인기가 엄청나게 올라간걸 느꼈다. 아.. 근데 그거\\\"},{\\\"id\\\":\\\"tstory-3172495_709\\\",\\\"title\\\":\\\"홈메이드 토마토소스와 생면을 사용한 라자냐 맛집 아우룸\\\",\\\"url\\\":\\\"https://good-maen.tistory.com/709\\\",\\\"imageUrl\\\":\\\"https://t1.daumcdn.net/section/oc/1a0afed91d304212ad1bcdba2fdb959d\\\",\\\"source\\\":\\\"by 오로지 내돈내먹\\\",\\\"summary\\\":\\\"오늘은 라자냐 맛집 아우룸을 소개합니다. [##_Image|kage@GIDo8/btrFpQclWMq/yopKwe9LHYhEKHef5kr4g0/img.jpg|CDM|1.3|{\\\\\\\"originWidth\\\\\\\":2250,\\\\\\\"originHeight\\\\\\\":1690,\\\\\\\"style\\\\\\\":\\\\\\\"alignCenter\\\\\\\",\\\\\\\"filename\\\\\\\":\\\\\\\"아우룸_1.jpg\\\\\\\"}_##] 이곳은 2020년 08월 1\\\"},{\\\"id\\\":\\\"tstory-972237_4884\\\",\\\"title\\\":\\\"잠실역 카페, 노랑노랑 산뜻한 8b 돌체(에잇비돌체)\\\",\\\"url\\\":\\\"https://perfume700.tistory.com/4884\\\",\\\"imageUrl\\\":\\\"https://t1.daumcdn.net/section/oc/4324688bb761483cab88b7673fc982c3\\\",\\\"source\\\":\\\"by 아이리스 PHOTO STORY\\\",\\\"summary\\\":\\\"잠실역 지하 카페 노랑노랑 분위기에 취하게 되는 8b DOLCE [##_Image|kage@BZEB6/btrERnXvBD2/XRyYCJntFSbvf7eg6Z5eXk/img.jpg|CDM|1.3|{\\\\\\\"originWidth\\\\\\\":1220,\\\\\\\"originHeight\\\\\\\":890,\\\\\\\"style\\\\\\\":\\\\\\\"alignCenter\\\\\\\",\\\\\\\"filename\\\\\\\":\\\\\\\"20220510_164549.jpg\\\"},{\\\"id\\\":\\\"tstory-578345_1243\\\",\\\"title\\\":\\\"2050 ESG 혁명\\\",\\\"url\\\":\\\"https://k50321.tistory.com/1243\\\",\\\"imageUrl\\\":\\\"https://t1.daumcdn.net/section/oc/49d065160d804012b03611c96f4333a2\\\",\\\"source\\\":\\\"by The EconoMic Person\\\",\\\"summary\\\":\\\"ESG가 뭐길래? 각 회사마다 난리다. 언제부터인가 갑자기 ESG라는 단어가 들리기 시작하더니 회사의 미래라고 난리들이 있는데 심지어 내가 다니는 회사는 TF에 부서까지 별도로 만들어 놓은 상태이다. 한편으로는 기업이라는 것이 고용과 성장을 담당하는 것이 주목적이지 않은가 생각을 하기도 했는데 다른 한편으로는 이렇게 환경도 사회도 지배구조까지도 생각을 해야\\\"},{\\\"id\\\":\\\"tstory-971662_888\\\",\\\"title\\\":\\\"제주도 - 수월봉과 신풍풍차해안\\\",\\\"url\\\":\\\"https://bluewindows.tistory.com/888\\\",\\\"imageUrl\\\":\\\"https://t1.daumcdn.net/section/oc/243cc26243f84b62bb93c1354409d1ed\\\",\\\"source\\\":\\\"by 파란창을 통해 보는 세상\\\",\\\"summary\\\":\\\"제주도 - 수월봉과 신풍풍차해안 수월봉은 제주도 서쪽에 위치한 작은 봉우리 입니다. 사실 수월봉 근처는 여러번 가봤는데 실제 이곳을 방문한건 이번이 처음입니다. 수월봉 정상에 오르면 작은 정자가 있습니다. [##_Image|kage@d3yIqY/btrFjXiDynE/27kVHwkACAE8ImyV1oZctK/img.jpg|CDM|1.3|{\\\\\\\"originWidt\\\"},{\\\"id\\\":\\\"tstory-2740055_186\\\",\\\"title\\\":\\\"[경대북문 이층집돈까스] 밥과 스프 무한리필에 가격도 좋은 돈까스! 치즈 쭉쭉 철판치즈돈까스&마늘간장돈까스\\\",\\\"url\\\":\\\"https://mira2017.tistory.com/186\\\",\\\"imageUrl\\\":\\\"https://t1.daumcdn.net/section/oc/169cbfde281b428fbc1c2386b40168f8\\\",\\\"source\\\":\\\"by 아무도 모르게 꼭꼭 숨어라\\\",\\\"summary\\\":\\\"회사에서 점심으로 돈까스를 워낙 자주 먹어서 외식메뉴로 돈까스를 선택하는 일이 잘 없는데 경대북문맛집 찾다가 사진이 괜찮아 보여서 오랜만에 돈까스 외식 하러 방문했다. 경대북문 먹자골목 CU편의점 2층에 있는 '이층집돈까스' 이 일대가 모두 그런것 처럼 주차장은 따로 없기 때문에 공영주차장을 이용하는게 좋다. [##_Image|kage@LeyPm/btrE3\\\"},{\\\"id\\\":\\\"tstory-1906081_458\\\",\\\"title\\\":\\\"탁 트인 설악산의 절경과 만나는 속초등대전망대\\\",\\\"url\\\":\\\"https://100mountain.tistory.com/458\\\",\\\"imageUrl\\\":\\\"https://t1.daumcdn.net/section/oc/47010455c4ef4680ab3106c0969c0217\\\",\\\"source\\\":\\\"by 한국 100대 명산 산행기\\\",\\\"summary\\\":\\\"1. 여행 일자 : 2018년 8월 26일 일요일 2. 여행지 : 외옹치해수욕장, 속초해수욕장 + 속초등대전망대 + 영금정 + 설악산 주전골 3. 소재지 외옹치해수욕장(강원도 속초시 대포동), 속초해수욕장(강원도 속초시 조양동, 대포동) + 속초등대전망대(강원 속초시 영금정로5길 8-28(영랑동)) + 영금정(강원도 속초시 영금정로 45(동명동) + 설악산\\\"},{\\\"id\\\":\\\"tstory-2919032_1690\\\",\\\"title\\\":\\\"더 뉴 팰리세이드 시승기 – 다 담은 SUV 의 강자\\\",\\\"url\\\":\\\"https://rgbstance.com/1690\\\",\\\"imageUrl\\\":\\\"https://t1.daumcdn.net/section/oc/a4ede88e5ca44aecba91fe84bb4bf5cd\\\",\\\"source\\\":\\\"by RGB STANCE\\\",\\\"summary\\\":\\\"[##_Image|kage@ygg6q/btrE5sYKPOO/dmPpbtr9uWx2ObC9URsxM0/img.jpg|CDM|1.3|{\\\\\\\"originWidth\\\\\\\":1200,\\\\\\\"originHeight\\\\\\\":1799,\\\\\\\"style\\\\\\\":\\\\\\\"alignCenter\\\\\\\",\\\\\\\"filename\\\\\\\":\\\\\\\"rgbstance_RGB01423.jpg\\\\\\\"}_##] 좋아하는 것들로 가득 담은 SUV, ‘더 뉴 \\\"},{\\\"id\\\":\\\"tstory-2966902_792\\\",\\\"title\\\":\\\"남양주 맛집 일호갈비탕 인생 갈비탕집을 만나다!\\\",\\\"url\\\":\\\"https://sesack.tistory.com/792\\\",\\\"imageUrl\\\":\\\"https://t1.daumcdn.net/section/oc/d59ef072decc4a6d93e6c18c3da9ea11\\\",\\\"source\\\":\\\"by 세싹라이프\\\",\\\"summary\\\":\\\"인생 갈비탕 살면서 정말 많은 음식들을 먹지만, 인생 맛집을 발견하는 것은 생각보다 쉽지 않다. 분명 맛있긴 한데 인생 맛집까지는 아닌 것 같고, 때로는 가격이 너무 비싸서 아쉽기도 하도, 뭔가 하나씩은 아쉬운 부분이 있는 경우가 많다. 하지만 이번에 만난 일호갈비탕집은 과연 인생 갈비탕이라고 부를만한 곳이었다. 맛과 가격, 양까지 뭐 하나 아쉬운 부분 없\\\"},{\\\"id\\\":\\\"tstory-2774252_395\\\",\\\"title\\\":\\\"얼음동동 시원한 오이냉국, 5분 뚝딱 황금레시피\\\",\\\"url\\\":\\\"https://uriphin2.tistory.com/395\\\",\\\"imageUrl\\\":\\\"https://t1.daumcdn.net/section/oc/580afe7e7dd64ebb9e8c5e740ff6e96c\\\",\\\"source\\\":\\\"by 오늘이 행복한 말리네공방\\\",\\\"summary\\\":\\\"얼음동동 시원한 오이냉국, 여름에 먹는 5분 뚝딱 황금레시피 더워지기 시작하는 이때쯤이면 싱싱한 오이로 얼음동동 띄워 만드는 오이냉국이 참 맛있습니다. 아삭아삭한 오이는 수분이 많아 갈증을 해소시켜주면서 냉국에 들어가는 짭짤한 양념이 땀이 많이 나는 여름에 부족한 미네랄까지 보충해주니 일석이조인 음식이지요. [##_Image|kage@dnaBQR/btrFm\\\"}]\"},\"teslas\":{},\"cabinets\":null,\"board\":false},{\"code\":2370,\"type\":\"PC_SOCIAL_KAKAOSTORY\",\"items\":{\"op\":{\"tab\":\"kakaostory\",\"title\":\"카카오스토리\",\"url\":\"https://story.kakao.com/\"}},\"feeds\":{\"pc_social_kakaostory\":\"[{\\\"id\\\":\\\"story-32302513_108509470489485989\\\",\\\"title\\\":\\\"서로 찰떡궁합인 제육볶음과 애호박부침개\\\",\\\"url\\\":\\\"https://story.kakao.com/ddaldulmom/ABARdv6iz20\\\",\\\"imageUrl\\\":\\\"https://t1.daumcdn.net/daumtop_chanel/tromm/20220622114221456\\\",\\\"source\\\":\\\"딸둘맘\\\",\\\"summary\\\":\\\"제육볶음과 애호박부침개.\\\\n\\\\n오늘 저녁반찬.\\\\n\\\\n아침에 고추장양념에 재워둔 돼지고기 뒷다리살.\\\\n살코기라 퍽퍽하지만 기름기가 적어서 애용한다.\\\\n비계가 있어야 부드럽고 고소하다며 애정하는 짝꿍은 불만이지만..?\\\\n\\\\n제육볶음.\\\\n돼지고기뒷다리살+고추장+두반장+맛술+도라지조청+양파+포도씨유+대파.\\\\n인내하며 양파를 카라멜색상이 되도록 볶아준 다음에 고기를 볶아주니 맛있네.\\\\n\\\\n애호박부침개.\\\\n애호박채+부침가루+연두+물.\\\\n동그란 애호박전은 부침옷이 안 벗겨\\\"},{\\\"id\\\":\\\"story-89532167_108512871099164502\\\",\\\"title\\\":\\\"시험 전날이라고 급식에 암기빵 나옴\\\",\\\"url\\\":\\\"https://story.kakao.com/ch/today_issue/F3tgBtZh23A\\\",\\\"imageUrl\\\":\\\"https://t1.daumcdn.net/daumtop_chanel/tromm/20220621014148343\\\",\\\"source\\\":\\\"오늘의이슈\\\",\\\"summary\\\":\\\"귀여워~ㅎㅎㅎㅎㅎㅎ \\\\n\\\\n\\\\n\\\\n\\\\n #유머   #오늘의이슈  \\\\n출처 : 인스티즈\\\"},{\\\"id\\\":\\\"story-72388652_108519307678074628\\\",\\\"title\\\":\\\"밥 말아먹자! 착한가격업소 국물편\\\",\\\"url\\\":\\\"https://story.kakao.com/ch/banbiraeyo/41HkomDb229\\\",\\\"imageUrl\\\":\\\"https://t1.daumcdn.net/daumtop_chanel/tromm/20220622022721531\\\",\\\"source\\\":\\\"강원도\\\",\\\"summary\\\":\\\"국물에 밥 말아먹어~ 한 끼 뚝딱!\\\\n국물편! 착한가격업소\\\\n\\\\n바쁜 현대인들에게 한 끼 식사로\\\\n국물만 한 게 없지!! \\\\n더운 여름, 모두들 국물요리로  몸보신하세요\\\\n\\\\n✅꺽다리와아줌마\\\\n강원도 강릉시 하슬라로206번길7-1\\\\n갈비탕 : 5,000원\\\\n\\\\n✅바다내음\\\\n강원도 삼척시 남양길 25(남양동)\\\\n동태알탕 : 7,000원\\\\n\\\\n✅가원\\\\n강원도 삼척시 근덕면 교가길 22-13\\\\n사골곰탕 : 8,000원\\\\n\\\\n\\\\n✅안동장터국밥\\\\n강원도 삼척시 정상안1길 \\\"},{\\\"id\\\":\\\"story-68884629_108517235772181750\\\",\\\"title\\\":\\\"순식간에 만드는 제육볶음\\\",\\\"url\\\":\\\"https://story.kakao.com/ch/cookpia/f9SMu2UP34A\\\",\\\"imageUrl\\\":\\\"https://t1.daumcdn.net/daumtop_chanel/tromm/20220622114456718\\\",\\\"source\\\":\\\"요리연구가 이보은\\\",\\\"summary\\\":\\\"특별한 일이 없으면 \\\\n거의 매일 제 스튜디오에서 \\\\n점심을 먹습니다.\\\\n메뉴개발한 음식들도 점검차 먹지만\\\\n그냥 한끼 떼우자 할 때 보다는\\\\n뭔가 만들어 먹자 하면서 직원들을 한가지라도 \\\\n배우게 하는 경우가 많지요.\\\\n\\\\n그래서 제육볶음도\\\\n울 직원들 솜씨랍니다.\\\\n\\\\n가끔  #쿡피아유튜브  에 \\\\n올려져 있는\\\\n메뉴들중 하나를 골라서 \\\\n점심 메뉴로 선택해서\\\\n먹기도 합니다.\\\\n\\\\n제육한상 - 바로 제육볶음이지요. \\\\n\\\\n앞다리살과 삼겹살을 섞어서\\\\n기름가 많은 것을 줄이고\\\"},{\\\"id\\\":\\\"story-78980134_108516832302092133\\\",\\\"title\\\":\\\"향긋한 바질페스토 만들기\\\",\\\"url\\\":\\\"https://story.kakao.com/bimil9627/0LDApnqL230\\\",\\\"imageUrl\\\":\\\"https://t1.daumcdn.net/daumtop_chanel/tromm/20220622114409664\\\",\\\"source\\\":\\\"지현이\\\",\\\"summary\\\":\\\"바질페스토 만들기\\\\n\\\\n\\\\n\\\\n\\\\n준비재료 :\\\\n\\\\n바질 : 신선한 무농약\\\\n볶은잣 : 신선한 국내산 프리미엄 파인 유\\\\n파르미지아노치즈 : (원재료:우유) 질 좋은 치즈\\\\n페코리노치즈 : (원재료: 양젖) \\\\n엑스트라버진 올리브오일 : 로렌조 N’3 N’5\\\\n마늘 : 의성 육쪽마늘\\\\n레몬즙\\\\n후추 : 통후추 갈아서 넣음\\\\n소금 : 말돈 소금\\\\n\\\\n\\\\n바질 50그램 기준으로 ~\\\\n잣 : 30g\\\\n파마산치즈 : 50g\\\\n페코리노치즈 : 50g\\\\n올리브오일 : 50g\\\\n마늘 : 2~3\\\"},{\\\"id\\\":\\\"story-45483586_108517944320012535\\\",\\\"title\\\":\\\"개운한 오이와 새콤한 양념 오이깍두기\\\",\\\"url\\\":\\\"https://story.kakao.com/ch/ebsstory/hD95gJeW45a\\\",\\\"imageUrl\\\":\\\"https://t1.daumcdn.net/daumtop_chanel/tromm/20220622094401000\\\",\\\"source\\\":\\\"EBS 스토리\\\",\\\"summary\\\":\\\"너무 더워서일까요? 오이 요리가 눈에 자꾸 띄네요. \\\\n여름철 반찬으로 제격인 오이깍두기. 오늘 반찬으로 먹고 싶어요 ^^\\\\n\\\\n■ 주재료: 오이(2개), 소금(1T), 설탕(½T), 영양 부추(15g)\\\\n\\\\n■ 양념재료: 고춧가루(2T), 매실청(1T), 다진 마늘(½T), 깨소금(½T), 새우젓(½T), 멸치액젓(½T)\\\\n\\\\n■ 요리 순서\\\\n1. 오이(2개) 반으로 썰어 4등분한 뒤 씨 제거하고 먹기 좋은 크기로 썰기\\\\n2. 오이에 소금(1T), 설탕(½T\\\"},{\\\"id\\\":\\\"story-68992717_108518772947076407\\\",\\\"title\\\":\\\"송도 주말 핫플! 인천 송도시장\\\",\\\"url\\\":\\\"https://story.kakao.com/ch/icmukbbang/JGiTfYw755a\\\",\\\"imageUrl\\\":\\\"https://t1.daumcdn.net/daumtop_chanel/tromm/20220622023056818\\\",\\\"source\\\":\\\"인천맛집\\\",\\\"summary\\\":\\\"⭐️주말에 송트리를 가야하는EU⭐️\\\\n쫀맛 푸드트럭에 플리마켓까지!! 미춌따링!\\\\n볼거리 먹거리 한번에 충족하러 떠나쟈!!\\\\n@@주말에 같이가실?!!?٩( °ꇴ °)۶\\\\n-\\\\n#송도시장 \\\\n기간: 금토일\\\\n장소: A동 광장, A동 스타벅스 앞\\\\nBㆍC 동 메인스트리트, AB동 지하통로\\\\n\\\\n#푸드트럭\\\\n기간: 토일\\\\n장소: D동 광장\\\\n\\\\n #트리플스트리트   #송도트리플스트리트   #플리마켓   #송도맘   #송도핫플   #인천\\\"},{\\\"id\\\":\\\"story-73850617_108517944230813223\\\",\\\"title\\\":\\\"갈 데 까지 간 동숲.jpg\\\",\\\"url\\\":\\\"https://story.kakao.com/ch/funnybro/jQetFGeW45a\\\",\\\"imageUrl\\\":\\\"https://t1.daumcdn.net/daumtop_chanel/tromm/20220622091607997\\\",\\\"source\\\":\\\"웃기는 친구\\\",\\\"summary\\\":\\\"모여봐요 누룽지백숙의 숲 \\\\n\\\\n\\\\n\\\\n\\\\n #유머   #웃기는친구  \\\\n출처 : cooru58 님의 트위터\\\"},{\\\"id\\\":\\\"story-84589488_108514665820423188\\\",\\\"title\\\":\\\"올여름 인생샷은 목포에서!\\\",\\\"url\\\":\\\"https://story.kakao.com/ch/mokpocity/3NVVeTlwz19\\\",\\\"imageUrl\\\":\\\"https://t1.daumcdn.net/daumtop_chanel/tromm/20220622023738183\\\",\\\"source\\\":\\\"목포시청\\\",\\\"summary\\\":\\\"우와 여름이다\\\\n\\\\n여름하면 바다, 바다하면 목포\\\\n요즘 여름 여행지로 떠오르는\\\\n유달유원지로 놀러오세요\\\\n\\\\n알록달록 포토스팟도 많아 사진도 잘 나오는데요!\\\\n유달유원지에서 사진찍으면 무조건 인생샷\\\\n\\\\n위치 : 유달유원지(목포시 해양대학로 59)\\\\n\\\\n#목포 #목포시 #목포여행 #목포관광\\\\n#목포가볼만한곳 #대반동 #유달유원지\\\"},{\\\"id\\\":\\\"story-73850617_108514405461174198\\\",\\\"title\\\":\\\"액자는 왔지만 내용물이 아직 안온경우\\\",\\\"url\\\":\\\"https://story.kakao.com/ch/funnybro/FZN1FOzV23A\\\",\\\"imageUrl\\\":\\\"https://story-img.kakaocdn.net/dn/bVySNz/hyOQoJZNG5/gaoDYm0Cky1fNc9k3FTrlk/img.jpg?width=1080&height=993&avg=%2523c6c7c9&v=2\\\",\\\"source\\\":\\\"웃기는 친구\\\",\\\"summary\\\":\\\"왕꾸 ㅋㅋㅋㅋㅋ 이쁘다! \\\\n\\\\n\\\\n\\\\n\\\\n #유머   #웃기는친구  \\\\n출처 : D0___B 님의 트위터\\\"},{\\\"id\\\":\\\"story-88692060_108518136749871494\\\",\\\"title\\\":\\\"직장인 도시락, 두부상추샌드위치 만들기\\\",\\\"url\\\":\\\"https://story.kakao.com/duckhee79/eUx8BKQX34A\\\",\\\"imageUrl\\\":\\\"https://t1.daumcdn.net/daumtop_chanel/tromm/20220622114602454\\\",\\\"source\\\":\\\"더키\\\",\\\"summary\\\":\\\"#점심   #점심도시락   #직장인도시락   #저당질도시락   #샌드위치   #상추   #성필립보생태마을   #친환경상추 \\\\n #적양파   #참외 #불볕더위   #대구는이미여름   \\\\n #한국   #korea   #대구   #daegu  \\\\n\\\\n 딩동 딩동 \\\\n\\\\n 우리밀 통밀식빵으로 만든 \\\\n\\\\n 친환경 무농약 상추 가득 ⛰\\\\n\\\\n 욕망의 \\\\n\\\\n 두부상추샌드위치가 \\\\n\\\\n 수요 점심메뉴로 \\\\n\\\\n 도착했습니다 ?‍♀️\\\\n\\\\n 오\\\"},{\\\"id\\\":\\\"story-12349700_108507415740925892\\\",\\\"title\\\":\\\"신사동 오마카세, 스시키레이 \\\",\\\"url\\\":\\\"https://story.kakao.com/1wns9665/4Ak9mzwuy19\\\",\\\"imageUrl\\\":\\\"https://t1.daumcdn.net/daumtop_chanel/tromm/20220622114747930\\\",\\\"source\\\":\\\"강혁준\\\",\\\"summary\\\":\\\"서울. 강남. 신사동에 위치한  #스시키레이 . since2022. 런치 오마카세(11만원). 돌문어와 전복을 시작으로 모나카 위에 요플레와 섞은 크리미한 아귀간에 다진 참외를 올려 팥앙금같이 부드럽고 달콤. 아귀튀김은 소금에 살짝 찍어 크리스피하면서 육즙이 넘치는 맛. 잡내 1도 없이 달큰 깨끗하게 우려낸 조개미역국. 광어, 참돔, 한치, 줄무늬 전갱이, 참치, 농어, 장어 등 클래식 코스. 기본에 충실한 구성과 맛. 쌀알 하나하나 살아있는 \\\"},{\\\"id\\\":\\\"story-88692060_108497665181690774\\\",\\\"title\\\":\\\"신상 참외 샌드위치 만들기\\\",\\\"url\\\":\\\"https://story.kakao.com/duckhee79/FUkEYVD7y3A\\\",\\\"imageUrl\\\":\\\"https://t1.daumcdn.net/daumtop_chanel/tromm/20220621014033796\\\",\\\"source\\\":\\\"더키\\\",\\\"summary\\\":\\\"#참외샐러드   #샐러드   #산딸기   #참외  \\\\n\\\\n 참외 속씨를 제거한 후\\\\n\\\\n 얇게 슬라이스 해준 뒤\\\\n\\\\n  레몬소스 와 올리브유 \\\\n\\\\n 핑크솔트, 후추 약간을 뿌려주세요?\\\\n\\\\n 산딸기도 살짝 올려주면\\\\n\\\\n 요즘 핫한 \\\\n\\\\n 신상 참외샐러드  완성 \\\"},{\\\"id\\\":\\\"story-89532167_108514286775517781\\\",\\\"title\\\":\\\"전전남친 꾸준히 잘 지내냐고 연락오는데\\\",\\\"url\\\":\\\"https://story.kakao.com/ch/today_issue/03n5a4wt120\\\",\\\"imageUrl\\\":\\\"https://t1.daumcdn.net/daumtop_chanel/tromm/20220622102451077\\\",\\\"source\\\":\\\"오늘의이슈\\\",\\\"summary\\\":\\\"잘지내 로봇인가 ㅋㅋㅋㅋㅋㅋㅋ \\\\n\\\\n\\\\n\\\\n\\\\n #유머   #오늘의이슈  \\\\n출처 : 더쿠\\\"},{\\\"id\\\":\\\"story-70768867_108514600164992519\\\",\\\"title\\\":\\\"태안에서 체험하는 바지락 캐기\\\",\\\"url\\\":\\\"https://story.kakao.com/ch/taeangun/iJ9h6Aix34a\\\",\\\"imageUrl\\\":\\\"https://t1.daumcdn.net/daumtop_chanel/tromm/20220622023832575\\\",\\\"source\\\":\\\"태안군\\\",\\\"summary\\\":\\\"태안 황도 바지락 유어 체험장\\\\n@바지락 캐기 하러 가자!⛏\\\\n⠀\\\\n 블로그에서 자세히 보기 : https://bit.ly/3OrdQrR\\\\n⠀ \\\\n #태안   #태안여행   #국내여행   #황도바지락유어체험장   #물때표보는법 \\\\n⠀\\\\n──────────────\\\\n삶의 희망이 보이지 않을 때 고민말고 연락주세요\\\\n✔자살예방 상담전화 ☎ 1393\\\\n\\\"},{\\\"id\\\":\\\"story-3354168_108498406330529895\\\",\\\"title\\\":\\\"멜론으로 뚝딱 만드는 디저트\\\",\\\"url\\\":\\\"https://story.kakao.com/bidadari00/K3IeTvFFZ4a\\\",\\\"imageUrl\\\":\\\"https://t1.daumcdn.net/daumtop_chanel/tromm/20220621013823002\\\",\\\"source\\\":\\\"bidadari OK\\\",\\\"summary\\\":\\\"이런 디저트 어때요?\\\\n\\\\n스쿱으로 떠 내고 \\\\n남는 부분의 과육은 숟가락으로 떠 내서\\\\n멜론쥬스 만들어 드세요.\\\\n\\\\n선물용으로도 너무 좋은 멜론입니다.\\\\n\\\\n                  \\\\n\\\\n\\\\n양구멜론과 하미과(주황색)로 만든 디저트예요\\\\n\\\\n\\\\n.\\\\n.\\\\n.\\\\n\\\\n\\\\n\\\\n #양구멜론 \\\\n #디저트 \\\\n #과일디저트 \\\\n #멜론이쁘게담는법 \\\\n\\\"},{\\\"id\\\":\\\"story-72047916_108514166737649892\\\",\\\"title\\\":\\\"풋사과 맞이할 준비 하자~ 풋사과에이드 레시피 \\\",\\\"url\\\":\\\"https://story.kakao.com/ch/cbydpodo/6POHk1sSz19\\\",\\\"imageUrl\\\":\\\"https://t1.daumcdn.net/daumtop_chanel/tromm/20220622095534214\\\",\\\"source\\\":\\\"과일나라영동\\\",\\\"summary\\\":\\\"올여름 풋사과 맞이할 준비 제대로 해줘야쥐 \\\\n상콤 터지는~! #풋사과에이드 레시피 \\\\n\\\\n시원하게 한잔 먹으면 더위 싹 가신다구~~\\\\n미리미리 레시피 익혀두고 꼭 해먹기 약속 \\\\n\\\\n@@ 영동하면 사과! 사과하면 영동! ㅎ_ㅎ\\\\n\\\\n#영동과일 #영동과일나라 #풋사과에이드 #사과청 #풋사과 #과일디저트 #충북영동 #요리스타그램 #맛스타그램 #먹스타그램\\\"},{\\\"id\\\":\\\"story-89532167_108513107260310727\\\",\\\"title\\\":\\\"에어컨 설치했는데 멀티탭 긴게 없어서\\\",\\\"url\\\":\\\"https://story.kakao.com/ch/today_issue/hO0knN0k34a\\\",\\\"imageUrl\\\":\\\"https://t1.daumcdn.net/daumtop_chanel/tromm/20220621013921797\\\",\\\"source\\\":\\\"오늘의이슈\\\",\\\"summary\\\":\\\"?? : 놓지마... 꽉잡아... \\\\n\\\\n\\\\n\\\\n\\\\n #유머   #오늘의이슈  \\\\n출처 : hamjizang_ 님의 트위터\\\"},{\\\"id\\\":\\\"story-75487576_108517944446406085\\\",\\\"title\\\":\\\"대둔산 수락계곡 여름 명소 탐방\\\",\\\"url\\\":\\\"https://story.kakao.com/ch/nonsancity/CWuGwMdV230\\\",\\\"imageUrl\\\":\\\"https://t1.daumcdn.net/daumtop_chanel/tromm/20220622023354355\\\",\\\"source\\\":\\\"논산시\\\",\\\"summary\\\":\\\"대둔산 속 수락계곡 곳곳에는\\\\n더위를 잊게 하는 여름 명소들이 가득\\\\n\\\\n보기만 해도 시원~~한 대둔산 수락계곡의 명소들✨\\\\n이번 여름, 수락계곡 추천\\\\n\\\\n⭐높은 경사, 물놀이 중 미끄럼과 깊은 수심 주의는 필수❗❗ 아시죠⁉ \\\\n\\\\n #논산   #논산시   #대둔산   #수락계곡   #논산계곡   #계곡추천   #계곡나들이   #논산나들이   #여름여행지  \\\"},{\\\"id\\\":\\\"story-73850617_108519123347143607\\\",\\\"title\\\":\\\"아빠와의 결혼을 결심하게 되는 순간\\\",\\\"url\\\":\\\"https://story.kakao.com/ch/funnybro/iJSSYh5b55a\\\",\\\"imageUrl\\\":\\\"https://t1.daumcdn.net/daumtop_chanel/tromm/20220622023049438\\\",\\\"source\\\":\\\"웃기는 친구\\\",\\\"summary\\\":\\\"귀요미~ㅎㅎㅎㅎㅎㅎ \\\\n\\\\n\\\\n\\\\n\\\\n #유머   #웃기는친구  \\\\n출처 : 다음카페 이종격투기\\\"}]\"},\"teslas\":{},\"cabinets\":null,\"board\":false}],\"channel\":[{\"code\":2388,\"type\":\"PC_CHANNEL_HOMECOOKING\",\"items\":{\"op\":{\"title\":\"홈&쿠킹\",\"url\":null}},\"feeds\":{\"pc_channel_homecooking\":\"[{\\\"id\\\":\\\"brch-daFU-24\\\",\\\"title\\\":\\\"내 주방엔 백종원이 사나요?\\\",\\\"url\\\":\\\"https://brunch.co.kr/@@daFU/24\\\",\\\"imageUrl\\\":\\\"https://t1.daumcdn.net/section/oc/c6aee6dde3144874b3e40e5dc2a6f397\\\",\\\"source\\\":\\\"브런치 by 아이스블루\\\",\\\"desc\\\":\\\"나의 주방엔 없는 것이 없었다. 심지어 이름도 생소한 토마토 필러와 레몬 스퀴저까지 구비해놨었으니까... 그런데 난 이 물건들을 구입한 후 딱 한 번 쓴 것을 끝으로 10년간 한 번도 쓰지 않았다. 토마토와 레몬을 요리에 자주 활용하지 않은 이유도 있었지만 토마토 껍질은 끓는 물에 데쳐 벗기면 수월했고, 레몬즙은 마트에서 사다 먹는 게 더 깔끔했기 때문에 \\\",\\\"icon\\\":\\\"IMAGE\\\"},{\\\"id\\\":\\\"hamny-E72TByU37y\\\",\\\"title\\\":\\\"모기에게 잘 물리거나 붓는다면 '이것' 해라\\\",\\\"url\\\":\\\"https://content.v.daum.net/v/E72TByU37y\\\",\\\"imageUrl\\\":\\\"https://t1.daumcdn.net/news/202206/21/dailylife/20220621015301894jqn2.jpeg\\\",\\\"source\\\":\\\"데일리\\\",\\\"desc\\\":\\\"스키터증후군을 아시나요?\\\",\\\"icon\\\":\\\"IMAGE\\\"},{\\\"id\\\":\\\"brch-dba0-68\\\",\\\"title\\\":\\\"태도가 달라지니, '돈'이 생기다니.\\\",\\\"url\\\":\\\"https://brunch.co.kr/@@dba0/68\\\",\\\"imageUrl\\\":\\\"https://t1.daumcdn.net/section/oc/8dd31eaaa70341268645bdb4c78bb56a\\\",\\\"source\\\":\\\"브런치 by 꿈을꾸다\\\",\\\"desc\\\":\\\"미니멀 라이프 도전을 시작하고 난 뒤, 나의 태도가 달라지고 ‘돈’이 생기기 시작했다. 이 돈은 눈에 보이는 실질적인 ‘돈’이 쌓이기도 했지만, 쓰지 않아서 쌓이는 ‘돈’도 있었다. 미니멀 라이프를 한다고 해서 무조건 ‘돈’을 쓰지 않는 것도 아니고, ‘돈’이 생기는 것도 아니다. 그러나 ‘물건’과 ‘일상’에 대한 태도의 변화는 분명히 ‘돈’의 흐름에도 영\\\",\\\"icon\\\":\\\"IMAGE\\\"},{\\\"id\\\":\\\"brch-9Cqs-327\\\",\\\"title\\\":\\\"시험기간에 싸주는 월남쌈\\\",\\\"url\\\":\\\"https://brunch.co.kr/@@9Cqs/327\\\",\\\"imageUrl\\\":\\\"https://t1.daumcdn.net/section/oc/19e2a3b0bf3d409bb894174ca4d345d0\\\",\\\"source\\\":\\\"브런치 by 별님 이민숙\\\",\\\"desc\\\":\\\"필기구덕후, 볼펜, 샤프며 각종 필기구를 꺼내서 하나하나 정리를 하는 딸, 시험기간이어서 그렇다. 안하던 화분에 분갈이를 하는 딸은 지금이 시험기간이어서 그렇다. 안치던 피아노 앞에서 띵똥거리면서 피아노를 치는건 딸이 시험기간이라서 그렇다. 딸은 시험이 다가오면 책상을 정리하고 화장실 수납장의 도구들을 정리하면서 \\\\\\\"엄마 시험이 다가오니 이러고 있네요. 내가\\\",\\\"icon\\\":\\\"IMAGE\\\"},{\\\"id\\\":\\\"hamny-E9KlU7s8F1\\\",\\\"title\\\":\\\"멀리 휴가 갈 필요 없어요! 도심 속 복층 테라스에 둘만의 '피서지'를 꾸민 신혼집\\\",\\\"url\\\":\\\"https://content.v.daum.net/v/E9KlU7s8F1\\\",\\\"imageUrl\\\":\\\"https://t1.daumcdn.net/news/202206/22/ggumigi/20220622140018364yjku.jpg\\\",\\\"source\\\":\\\"집꾸미기\\\",\\\"desc\\\":\\\"@집꾸미기들쑥날쑥4232님의 공간입니다\\\",\\\"icon\\\":\\\"IMAGE\\\"},{\\\"id\\\":\\\"brch-cvb5-634\\\",\\\"title\\\":\\\"\\\\\\\"반신욕 한 물을 어떻게 먹어?\\\\\\\"\\\",\\\"url\\\":\\\"https://brunch.co.kr/@@cvb5/634\\\",\\\"imageUrl\\\":\\\"https://t1.daumcdn.net/section/oc/7111ca85322447f6b2f3e45659dee008\\\",\\\"source\\\":\\\"브런치 by 로운\\\",\\\"desc\\\":\\\"하루 한 잔만 허락된 커피, 이후에는 주로 잎차를 마십니다. 잎차에도 카페인이 함유된 차가 있고, 없는 차가 있습니다. 되도록 카페인이 없는 차를 마시려고 하죠. 카페인은 커피만으로도 충분하니까요. 혹 카페인이 함유된 차를 마실 때에는 커피를 디카페인으로 마십니다. 불면증을 피하고 질 높은 수면을 위한 선택이죠.  커피 다음으로 좋아하는 차는 \\\\\\\"포트넘 앤 \\\",\\\"icon\\\":\\\"IMAGE\\\"},{\\\"id\\\":\\\"hamny-ETRvpXtAzW\\\",\\\"title\\\":\\\"'이것' 덕분에.. 운좋게 들어간 'LH 임대주택', 이렇게 살아요\\\",\\\"url\\\":\\\"https://content.v.daum.net/v/ETRvpXtAzW\\\",\\\"imageUrl\\\":\\\"https://t1.daumcdn.net/news/202206/22/harmony/20220622000253203utoo.png\\\",\\\"source\\\":\\\"오늘의집\\\",\\\"desc\\\":\\\"오늘의집 @yumhouse 님의 집들이입니다. ✨인테리어 제보는 인스타그램 @todayhouse 안녕하세요! 저는 작년에 대학교를 졸업하고 사회생활을 시작한 지 이제 만 1년이 된 초년생 자취러예요. 저에게 생긴 세 번째 보금자리를 소개합니다:) 부모님에게서 떨어져 혼자 지낸 지는 벌써 9년째네요. 하지만 고등학교, 대학교 모두 기숙사에서 지낸 탓에 온\\\",\\\"icon\\\":\\\"IMAGE\\\"},{\\\"id\\\":\\\"hamny-20220622115113490\\\",\\\"title\\\":\\\"'약 자판기' 뭐가 문제길래..약사들이 반대하지?\\\",\\\"url\\\":\\\"https://v.daum.net/v/20220622115113490\\\",\\\"imageUrl\\\":\\\"https://t1.daumcdn.net/news/202206/22/sbscnbc/20220622115115452mbtq.jpg\\\",\\\"source\\\":\\\"SBS Biz\\\",\\\"desc\\\":\\\"[앵커]  10년 가까이 발이 묶였던 이른바 '약 자판기'가 시범사업을 시작합니다.  심야시간이나 공휴일에도 약사 복약지도 하에 처방약 말고 일반의약품을 살 수 있는 건데, 약사들은 부작용이 우려된다며 전면투쟁을 예고했습니다.  문세영 기자, 약 자판기가 어떻게 가능해진 겁니까?  [기자]  정부가 어제(21일) '일반의약품 스마트 화상판매기' 일명 화상투\\\",\\\"icon\\\":\\\"VIDEO\\\"}]\",\"homecooking_best_new_tiara\":\"[{\\\"id\\\":\\\"hamny-EttfGQoGeW\\\",\\\"title\\\":\\\"국내 여행에서 가볼만한 재래시장 1위\\\",\\\"url\\\":\\\"https://content.v.daum.net/v/EttfGQoGeW\\\",\\\"imageUrl\\\":\\\"https://t1.daumcdn.net/news/202206/17/realfood/20220617224704382cgse.jpeg\\\"},{\\\"id\\\":\\\"tstory-1938581_2737\\\",\\\"title\\\":\\\"물을 얼릴 때 100명중 99명이 저지르는 실수!\\\",\\\"url\\\":\\\"https://kokone.co.kr/2737\\\",\\\"imageUrl\\\":\\\"https://t1.daumcdn.net/section/oc/08c54499c2674267a74f6df3d010857d\\\"},{\\\"id\\\":\\\"hamny-EJ1J6uEHnN\\\",\\\"title\\\":\\\"33평에서 23평으로.. 좁은 평수 이사, '이렇게' 했더니.. 대박!\\\",\\\"url\\\":\\\"https://content.v.daum.net/v/EJ1J6uEHnN\\\",\\\"imageUrl\\\":\\\"https://t1.daumcdn.net/news/202206/17/ohouse/20220617040010428ch45.png\\\"},{\\\"id\\\":\\\"brch-6qvt-133\\\",\\\"title\\\":\\\"뱅갈 고무나무에 싹이 나다.\\\",\\\"url\\\":\\\"https://brunch.co.kr/@@6qvt/133\\\",\\\"imageUrl\\\":\\\"https://t1.daumcdn.net/section/oc/dfd7566a255a49f0a6284d8b202bb95f\\\"},{\\\"id\\\":\\\"tstory-2561881_1268\\\",\\\"title\\\":\\\"'테이크아웃 커피컵' 이렇게 유용한데, 한 번 쓰고 버린다고?!\\\",\\\"url\\\":\\\"https://topsecret123.tistory.com/1268\\\",\\\"imageUrl\\\":\\\"https://t1.daumcdn.net/section/oc/150c4a9bdb9441379da78204a1137026\\\"},{\\\"id\\\":\\\"hamny-20220618214630320\\\",\\\"title\\\":\\\"\\\\\\\"동호회 가입한 남편, 막무가내로 황혼이혼 요구합니다\\\\\\\"\\\",\\\"url\\\":\\\"https://v.daum.net/v/20220618214630320\\\",\\\"imageUrl\\\":\\\"https://t1.daumcdn.net/news/202206/18/dailian/20220618214632981wkwi.jpg\\\"},{\\\"id\\\":\\\"hamny-E6OFB0TGUg\\\",\\\"title\\\":\\\"집주인 허락이 떨어지자, 15평 반지하 월세방의 변신이 시작됐다\\\",\\\"url\\\":\\\"https://content.v.daum.net/v/E6OFB0TGUg\\\",\\\"imageUrl\\\":\\\"https://t1.daumcdn.net/news/202105/24/ohouse/20210524022847629ugvp.jpg\\\"},{\\\"id\\\":\\\"tstory-1944847_2309\\\",\\\"title\\\":\\\"수건 냄새 제거 삶지않고 없애는법 | 수건냄새 과탄산소다 사용법\\\",\\\"url\\\":\\\"https://m.tipzum.com/2309\\\",\\\"imageUrl\\\":\\\"https://t1.daumcdn.net/section/oc/5f2ca22cce094f7da1fa109449159a70\\\"},{\\\"id\\\":\\\"hamny-EBnYxqgSjs\\\",\\\"title\\\":\\\"따라하자마자 숨은 키 바로 나타나는 거북목 교정법\\\",\\\"url\\\":\\\"https://content.v.daum.net/v/EBnYxqgSjs\\\",\\\"imageUrl\\\":\\\"https://t1.daumcdn.net/news/202206/17/onehomelife/20220617033228394q8dh.png\\\"},{\\\"id\\\":\\\"hamny-20220619100055247\\\",\\\"title\\\":\\\"염증 가라앉히는 마실 거리 4\\\",\\\"url\\\":\\\"https://v.daum.net/v/20220619100055247\\\",\\\"imageUrl\\\":\\\"https://t1.daumcdn.net/news/202206/19/KorMedi/20220619100102109crat.jpg\\\"}]\"},\"teslas\":{},\"cabinets\":null,\"board\":false},{\"code\":2389,\"type\":\"PC_CHANNEL_MONEY\",\"items\":{\"op\":{\"title\":\"머니\",\"url\":null}},\"feeds\":{\"pc_channel_money\":\"[{\\\"id\\\":\\\"hamny-EV1LaiKoC5\\\",\\\"title\\\":\\\"기대되는 '여름 보너스'.. 금융지주, 배당 더 높인다\\\",\\\"url\\\":\\\"https://content.v.daum.net/v/EV1LaiKoC5\\\",\\\"imageUrl\\\":\\\"https://t1.daumcdn.net/news/202206/22/moneyis/20220622044156723oxam.jpeg\\\",\\\"source\\\":\\\"뭐니\\\",\\\"desc\\\":\\\"국내 금융지주회사 최고 경영자(CEO)들이 직접 비행기를 타고 해외IR(투자설명회) 순방에 나섭니다.\\\",\\\"icon\\\":\\\"IMAGE\\\"},{\\\"id\\\":\\\"hamny-EIQBufUQb0\\\",\\\"title\\\":\\\"글로벌 경기 침체 여파.. 테크 업계 IPO 시계 제로\\\",\\\"url\\\":\\\"https://content.v.daum.net/v/EIQBufUQb0\\\",\\\"imageUrl\\\":\\\"https://t1.daumcdn.net/news/202206/22/tech42/20220622145906734dnrv.png\\\",\\\"source\\\":\\\"테크42\\\",\\\"desc\\\":\\\"[AI요약] 지난 5월 토종 앱마켓 원스토어가 기관투자자 수요예측 실적 부진을 이유로 상장을 철회한 이후로 예정됐던 기업공개(IPO) 일정이 줄줄이 차질을 빚고 있다. 글로벌 경기의 영향을 직접적으로 받고 있는 우리나라의 경우, 제조업 등 수출 대기업에서 시작된 실적 하락의 여파가 중소 스타트업은 물론 상장을 준비하던 기업들까지 미치고 있다.\\\",\\\"icon\\\":\\\"IMAGE\\\"},{\\\"id\\\":\\\"hamny-20220620110518505\\\",\\\"title\\\":\\\"[지구촌 돋보기] '자이언트 스텝' 밟은 美..전 세계 도미노 금리 인상\\\",\\\"url\\\":\\\"https://v.daum.net/v/20220620110518505\\\",\\\"imageUrl\\\":\\\"https://t1.daumcdn.net/news/202206/20/kbs/20220620110520230nmjo.jpg\\\",\\\"source\\\":\\\"KBS\\\",\\\"desc\\\":\\\"[앵커] 지난주 미국 중앙은행인 연방준비제도, 연준이 기준금리를 이례적으로 크게 올린 뒤 각국 증시가 요동쳤는데요. 가파른 물가 상승세에 연준뿐 아니라 유럽 등 세계 각국의 중앙은행이 잇따라 금리를 올리고 있습니다. 금리가 오르면 경제엔 어떤 타격이 있는지, 앞으로 세계 경기 전망은 어떤지, 지구촌 돋보기에서  황경주 기자와 자세히 다뤄보겠습니다. 황 기\\\",\\\"icon\\\":\\\"VIDEO\\\"},{\\\"id\\\":\\\"hamny-E1L6ee4QKd\\\",\\\"title\\\":\\\"18억명의 '할랄' 잡아라..말레이·인니 찾아가는 K떡볶이·K빵\\\",\\\"url\\\":\\\"https://content.v.daum.net/v/E1L6ee4QKd\\\",\\\"imageUrl\\\":\\\"https://t1.daumcdn.net/news/202206/21/ssully/20220621070010068xsvh.jpeg\\\",\\\"source\\\":\\\"썰리\\\",\\\"desc\\\":\\\"국내 식품업체가 ‘할랄’(Halal)에 꽂혔다. 국내 식품업체가 ‘할랄’(Halal)에 꽂혔다. 무슬림(이슬람교도)이 먹고 쓸 수 있는 제품인 할랄을 만들기 위해 인증을 받고 할랄 전용 공장을 세운다. 이미 포화에 이른 국내 식품 시장에서 세계 인구의 24%를 차지하는 할랄 시장으로 눈을 돌리고 있다. 국내 식품업계가 할랄에 공을 들이는 이유는 시장 확대\\\",\\\"icon\\\":\\\"IMAGE\\\"},{\\\"id\\\":\\\"hamny-EEhJBGr6ld\\\",\\\"title\\\":\\\"카카오가 소상공인을 돕는 법..카톡 활용한 디지털 전환\\\",\\\"url\\\":\\\"https://content.v.daum.net/v/EEhJBGr6ld\\\",\\\"imageUrl\\\":\\\"https://t1.daumcdn.net/news/202206/22/bloter/20220622122900616bdwk.png\\\",\\\"source\\\":\\\"블로터\\\",\\\"desc\\\":\\\"카카오가 소상공인과 상생하는 법은 자사의 모바일 플랫폼 카카오톡으로 디지털 전환을 이끄는 방식으로 요약된다. 카카오는 올해 4월 사회의 지속가능성 기여를 위한 카카오 공동체 상생 방안의 일환으로 총 3000억원의 상생기금을 집행하겠다고 발표한 바 있다. 그중 1000억원은 소상공인과 지역 파트너를 대상으로 쓰이며 소상공인들이 카카오톡 채널을 이용해 디지털\\\",\\\"icon\\\":\\\"IMAGE\\\"},{\\\"id\\\":\\\"hamny-EHSBOPfZBE\\\",\\\"title\\\":\\\"유럽 직접 둘러본 신동빈 회장..'새로운 롯데' 만들기 총력\\\",\\\"url\\\":\\\"https://content.v.daum.net/v/EHSBOPfZBE\\\",\\\"imageUrl\\\":\\\"https://t1.daumcdn.net/news/202206/22/bloter/20220622122403302eihi.jpg\\\",\\\"source\\\":\\\"블로터\\\",\\\"desc\\\":\\\"전기차 소재, 바이오 등 미래 핵심 사업에 37조원을 집중 투자하겠다고 밝힌 롯데그룹의 신동빈 회장이 유럽 출장 길에서 전기차 소재 투자를 확대키로 결정했다. 경쟁업체에 비해 전기차 소재 시장에 뒤늦게 뛰어든 만큼 격차를 줄이기 위한 행보로 분석된다. 롯데그룹의 화학 계열사 롯데케미칼은 현재 시장에 매물로 나온 시총 4조원 규모의 동박 제조업체 일진머티리얼\\\",\\\"icon\\\":\\\"IMAGE\\\"},{\\\"id\\\":\\\"hamny-EHBetOZSF1\\\",\\\"title\\\":\\\"층간소음 사각지대 441만호의 눈물\\\",\\\"url\\\":\\\"https://content.v.daum.net/v/EHBetOZSF1\\\",\\\"imageUrl\\\":\\\"https://t1.daumcdn.net/news/202206/21/thescoop/20220621034254977xrn0.jpeg\\\",\\\"source\\\":\\\"더스쿠프\\\",\\\"desc\\\":\\\"공동주택 바닥충격음 사후 검사 도입\\\\n공동주택이 아닌 곳에는 적용 안 해 \\\\n층간소음 문제 여전히 남을까\\\",\\\"icon\\\":\\\"IMAGE\\\"},{\\\"id\\\":\\\"hamny-E4hEKyg3bJ\\\",\\\"title\\\":\\\"③정부 사업만 바라보는 헬스케어..B2B·B2C 확대 해법은?\\\",\\\"url\\\":\\\"https://content.v.daum.net/v/E4hEKyg3bJ\\\",\\\"imageUrl\\\":\\\"https://t1.daumcdn.net/news/202206/22/bloter/20220622115440856nuwm.jpg\\\",\\\"source\\\":\\\"블로터\\\",\\\"desc\\\":\\\"보건복지부가 준비 중인 고독사 방지 중장기 계획에는 정보통신기술(ICT)을 활용한 방안이 담길 전망이다. 준비 상황과 ICT 기업에게 미칠 영향에 대해 진단해본다.\\\",\\\"icon\\\":\\\"IMAGE\\\"}]\",\"money_best_new_tiara\":\"[{\\\"id\\\":\\\"hamny-20220619080029642\\\",\\\"title\\\":\\\"남편 떠나자 \\\\\\\"엄마 외롭다, 20억 아파트 팔자\\\\\\\"..큰딸의 속내\\\",\\\"url\\\":\\\"https://v.daum.net/v/20220619080029642\\\",\\\"imageUrl\\\":\\\"https://t1.daumcdn.net/news/202206/19/joongang/20220619080030928mtvz.jpg\\\"},{\\\"id\\\":\\\"hamny-20220619134004758\\\",\\\"title\\\":\\\"\\\\\\\"0원에 수렴하나\\\\\\\" 비트코인, '패닉셀' 쏟아진다..1.9만달러도 깨져\\\",\\\"url\\\":\\\"https://v.daum.net/v/20220619134004758\\\",\\\"imageUrl\\\":\\\"https://t1.daumcdn.net/news/202206/19/moneytoday/20220619134005716weom.jpg\\\"},{\\\"id\\\":\\\"hamny-EBtISP2d3V\\\",\\\"title\\\":\\\"\\\\\\\"인동선 안 뚫릴 수 있다고?\\\\\\\"..의왕·안양 집값 무서운 추락\\\",\\\"url\\\":\\\"https://content.v.daum.net/v/EBtISP2d3V\\\",\\\"imageUrl\\\":\\\"https://t1.daumcdn.net/news/202206/17/realty/20220617093309669lcnw.jpeg\\\"},{\\\"id\\\":\\\"hamny-20220619171602524\\\",\\\"title\\\":\\\"\\\\\\\"내 재산의 90% 넣어라\\\\\\\"..버핏이 유언장에 남긴 투자처\\\",\\\"url\\\":\\\"https://v.daum.net/v/20220619171602524\\\",\\\"imageUrl\\\":\\\"https://t1.daumcdn.net/news/202206/19/ked/20220619172706943wyzp.jpg\\\"},{\\\"id\\\":\\\"hamny-20220619072501476\\\",\\\"title\\\":\\\"\\\\\\\"금리 4%시대 온다\\\\\\\" 공포감에 '얼음' ..\\\\\\\"더 떨어진다\\\\\\\"[월가시각]\\\",\\\"url\\\":\\\"https://v.daum.net/v/20220619072501476\\\",\\\"imageUrl\\\":\\\"https://t1.daumcdn.net/news/202206/19/moneytoday/20220619072502796rtmf.jpg\\\"},{\\\"id\\\":\\\"hamny-20220619060017564\\\",\\\"title\\\":\\\"원로 경제학자들, 세금 깎는 尹정부 물가정책에 쓴소리..\\\\\\\"수입 증가로 高환율 유발\\\\\\\"\\\",\\\"url\\\":\\\"https://v.daum.net/v/20220619060017564\\\",\\\"imageUrl\\\":\\\"https://t1.daumcdn.net/news/202206/20/chosunbiz/20220620084350124wrlz.jpg\\\"},{\\\"id\\\":\\\"hamny-20220619112350646\\\",\\\"title\\\":\\\"노인연령 '65세→70세' 바꿔야..정년연장 안하면 일 할 사람없다\\\",\\\"url\\\":\\\"https://v.daum.net/v/20220619112350646\\\",\\\"imageUrl\\\":\\\"https://t1.daumcdn.net/news/202206/19/moneytoday/20220619112352094addq.jpg\\\"},{\\\"id\\\":\\\"hamny-20220619133203623\\\",\\\"title\\\":\\\"\\\\\\\"미국서 버스 탈 줄이야..\\\\\\\" 풍요의 나라가 변했다 [i시대 생존전략]\\\",\\\"url\\\":\\\"https://v.daum.net/v/20220619133203623\\\",\\\"imageUrl\\\":\\\"https://t1.daumcdn.net/news/202206/19/moneytoday/20220619133204347evox.jpg\\\"},{\\\"id\\\":\\\"hamny-EWJrOsuSsg\\\",\\\"title\\\":\\\"\\\\\\\"몽땅 하자투성이\\\\\\\" 사전점검 간 입주민들 분노 폭발\\\",\\\"url\\\":\\\"https://content.v.daum.net/v/EWJrOsuSsg\\\",\\\"imageUrl\\\":\\\"https://t1.daumcdn.net/news/202206/17/realty/20220617093040915tjsu.jpeg\\\"},{\\\"id\\\":\\\"hamny-Ej1T3ptP7n\\\",\\\"title\\\":\\\"\\\\\\\"집 나간 소비자를 매장으로..\\\\\\\" 아웃백의 Out-Back 통할까\\\",\\\"url\\\":\\\"https://content.v.daum.net/v/Ej1T3ptP7n\\\",\\\"imageUrl\\\":\\\"https://t1.daumcdn.net/news/202206/18/thescoop/20220618161201883eoot.jpeg\\\"}]\"},\"teslas\":{},\"cabinets\":null,\"board\":false},{\"code\":2390,\"type\":\"PC_CHANNEL_PET\",\"items\":{\"op\":{\"title\":\"동물\",\"url\":null}},\"feeds\":{\"pc_channel_pet\":\"[{\\\"id\\\":\\\"hamny-EcaK5XG80P\\\",\\\"title\\\":\\\"친구들이 안놀아줌.jpg\\\",\\\"url\\\":\\\"https://community.v.daum.net/v/EcaK5XG80P\\\",\\\"imageUrl\\\":\\\"https://t1.daumcdn.net/daumtop_chanel/tromm/20220622034416638\\\",\\\"source\\\":\\\"더쿠\\\",\\\"desc\\\":\\\"\\\",\\\"icon\\\":\\\"IMAGE\\\"},{\\\"id\\\":\\\"hamny-Eh0OD23dP6\\\",\\\"title\\\":\\\"새로 생긴 동생 잘 때도 꼭 껴안고 자는 고양이..'작고 소중해'\\\",\\\"url\\\":\\\"https://content.v.daum.net/v/Eh0OD23dP6\\\",\\\"imageUrl\\\":\\\"https://t1.daumcdn.net/news/202206/22/notepet/20220622012329954nkfe.jpeg\\\",\\\"source\\\":\\\"노트펫\\\",\\\"desc\\\":\\\"[노트펫] 집사가 데려온 막냇동생이 너무 좋았던 고양이는 애착 인형을 안고 자듯 동생을 소중하게 꼭 안고 잠을 잤다. 지난 18일(현지 시간) 대만 연합신문망(UDN)은 새로운 들어온 아기 고양이 '코하루'가 너무 좋아 잘 때도 꼭 껴안고 잔 고양이 '테토'를 소개했다. 일본에 거주 중인 한 트위터 유저는 지난 달 아기 고양이 코하루를 새로운 가족으로\\\",\\\"icon\\\":\\\"IMAGE\\\"},{\\\"id\\\":\\\"hamny-E5RwgT0V7i\\\",\\\"title\\\":\\\"좋은 음식 먹은 강아지가 때깔도 좋다! 강아지 사료 고르는 방법은?\\\",\\\"url\\\":\\\"https://content.v.daum.net/v/E5RwgT0V7i\\\",\\\"imageUrl\\\":\\\"https://t1.daumcdn.net/news/202206/21/bemypet/20220621073756319brwi.jpeg\\\",\\\"source\\\":\\\"비마이펫\\\",\\\"desc\\\":\\\"밥이 보약이라는 말이 있듯이, 음식은 건강에 중요한 역할을 합니다. 그래서 좋은 음식, 제철 음식을 일부러 찾아 먹는 경우도 많죠. 마찬가지로, 강아지 건강에도 음식은 중요한데요. 강아지는 한 종류의 사료를 지속적으로 먹는 만큼 한 번 고를 때 신중히 고를 필요가 있습니다. 강아지 사료, 어떻게 골라야 할까요?\\\",\\\"icon\\\":\\\"IMAGE\\\"},{\\\"id\\\":\\\"hamny-20220622151012203\\\",\\\"title\\\":\\\"포항서 식용견 위기 모면한 강아지 미국 입양돼 '犬生역전'\\\",\\\"url\\\":\\\"https://v.daum.net/v/20220622151012203\\\",\\\"imageUrl\\\":\\\"https://t1.daumcdn.net/news/202206/22/NEWS1/20220622151014003hgwe.jpg\\\",\\\"source\\\":\\\"뉴스1\\\",\\\"desc\\\":\\\"(포항=뉴스1) 최창호 기자 = 농막 주변에 묶여 힘겹게 살아가던 개가 미국으로 입양된 사연이 전해져 가슴을 훈훈하게 하고 있다. 22일 경북 포항시 북구에 사는 50대 여성 A씨에 따르면 지난해 가을 도로 옆 밭에서 목이 묶여있는 흰색 강아지를 발견했다. 동물학대로 판단한 A씨는 개가 있는 농막 가까이 갔다 깜짝 놀랐다. 개가 먹는 물에는 이끼가 끼여\\\",\\\"icon\\\":\\\"TEXT\\\"},{\\\"id\\\":\\\"cafe-bikemania/3JLn/308133\\\",\\\"title\\\":\\\"냥이 그루밍\\\",\\\"url\\\":\\\"https://cafe.daum.net/bikemania/3JLn/308133?svc=daumapp\\\",\\\"imageUrl\\\":\\\"https://t1.daumcdn.net/daumtop_chanel/tromm/20220622024931548\\\",\\\"source\\\":\\\"카페 · 바이크메니아\\\",\\\"desc\\\":\\\"\\\",\\\"icon\\\":\\\"IMAGE\\\"},{\\\"id\\\":\\\"story-64498004_108517983372185127\\\",\\\"title\\\":\\\"맹수의 늠름한 모습\\\",\\\"url\\\":\\\"https://story.kakao.com/ch/smzzal/HSa1c61W45a\\\",\\\"imageUrl\\\":\\\"https://t1.daumcdn.net/daumtop_chanel/tromm/20220622022820956\\\",\\\"source\\\":\\\"세상의 모든 움짤, 세모짤\\\",\\\"desc\\\":\\\"#세모짤   #움짤   #gif   #유머   #정보   #동물   #고양이   #맹수   #모습   #능름   #귀요미  \\\",\\\"icon\\\":\\\"IMAGE\\\"},{\\\"id\\\":\\\"cafe-jeongan22/MMat/17647\\\",\\\"title\\\":\\\"나도 할수있다냥\\\",\\\"url\\\":\\\"https://cafe.daum.net/jeongan22/MMat/17647?svc=daumapp\\\",\\\"imageUrl\\\":\\\"https://t1.daumcdn.net/daumtop_chanel/tromm/20220622014831280\\\",\\\"source\\\":\\\"카페 · 행복한 중년들\\\",\\\"desc\\\":\\\"\\\",\\\"icon\\\":\\\"IMAGE\\\"},{\\\"id\\\":\\\"hamny-Er1u8Wnzmb\\\",\\\"title\\\":\\\"조금 혼란스러운 강아지\\\",\\\"url\\\":\\\"https://community.v.daum.net/v/Er1u8Wnzmb\\\",\\\"imageUrl\\\":\\\"https://t1.daumcdn.net/daumtop_chanel/tromm/20220622014158316\\\",\\\"source\\\":\\\"뽐뿌\\\",\\\"desc\\\":\\\"  강아지 너무 귀엽지 않나요 ㅎㅎ    뽐뿌 회원의 재미난 댓글이 궁금하다면, 아래의 원문보기를 클릭하세요!  \\\",\\\"icon\\\":\\\"IMAGE\\\"}]\",\"pet_best_new_tiara\":\"[{\\\"id\\\":\\\"cafe-ssaumjil/LnOm/2831579\\\",\\\"title\\\":\\\"누구도 예상 못한 강아지의 반격\\\",\\\"url\\\":\\\"https://cafe.daum.net/ssaumjil/LnOm/2831579?svc=daumapp\\\",\\\"imageUrl\\\":\\\"https://t1.daumcdn.net/daumtop_chanel/tromm/20220616103423321\\\"},{\\\"id\\\":\\\"hamny-Ew42xuajhW\\\",\\\"title\\\":\\\"'믿을 수 없다옹!!!' 고양이가 거울 앞에서 멈춘 이유\\\",\\\"url\\\":\\\"https://content.v.daum.net/v/Ew42xuajhW\\\",\\\"imageUrl\\\":\\\"https://t1.daumcdn.net/daumtop_chanel/tromm/20220616022857448\\\"},{\\\"id\\\":\\\"story-64498004_108483984484892612\\\",\\\"title\\\":\\\"인형 같은 강아지\\\",\\\"url\\\":\\\"https://story.kakao.com/ch/smzzal/6Ihq9rgav19\\\",\\\"imageUrl\\\":\\\"https://t1.daumcdn.net/daumtop_chanel/tromm/20220616100026048\\\"},{\\\"id\\\":\\\"cafe-ok1221/9Zdf/2678340\\\",\\\"title\\\":\\\"할배 보폭맞춰주는 댕댕이.gif\\\",\\\"url\\\":\\\"https://cafe.daum.net/ok1221/9Zdf/2678340?svc=daumapp\\\",\\\"imageUrl\\\":\\\"https://t1.daumcdn.net/daumtop_chanel/tromm/20220616020021039\\\"},{\\\"id\\\":\\\"cafe-dotax/Elgq/3960844\\\",\\\"title\\\":\\\"목줄을 놓았을 때 댕댕이의 반응\\\",\\\"url\\\":\\\"https://cafe.daum.net/dotax/Elgq/3960844?svc=daumapp\\\",\\\"imageUrl\\\":\\\"https://t1.daumcdn.net/daumtop_chanel/tromm/20220617021330732\\\"},{\\\"id\\\":\\\"cafe-dotax/Elgq/3960503\\\",\\\"title\\\":\\\"대형견들의 아기때 모습\\\",\\\"url\\\":\\\"https://cafe.daum.net/dotax/Elgq/3960503?svc=daumapp\\\",\\\"imageUrl\\\":\\\"https://t1.daumcdn.net/daumtop_chanel/tromm/20220616102746243\\\"},{\\\"id\\\":\\\"cafe-ok1221/9Zdf/2678658\\\",\\\"title\\\":\\\"아기 고양이의 흡입력\\\",\\\"url\\\":\\\"https://cafe.daum.net/ok1221/9Zdf/2678658?svc=daumapp\\\",\\\"imageUrl\\\":\\\"https://t1.daumcdn.net/daumtop_chanel/tromm/20220617020551963\\\"},{\\\"id\\\":\\\"cafe-ssaumjil/LnOm/2830554\\\",\\\"title\\\":\\\"아기진돗개 등장에 질투하는 강쥐\\\",\\\"url\\\":\\\"https://cafe.daum.net/ssaumjil/LnOm/2830554?svc=daumapp\\\",\\\"imageUrl\\\":\\\"https://t1.daumcdn.net/daumtop_chanel/tromm/20220616113558294\\\"},{\\\"id\\\":\\\"cafe-nasamo-cafe/JruA/7488\\\",\\\"title\\\":\\\"언니 앞머리 다시 잘라줘\\\",\\\"url\\\":\\\"https://cafe.daum.net/nasamo-cafe/JruA/7488?svc=daumapp\\\",\\\"imageUrl\\\":\\\"https://t1.daumcdn.net/daumtop_chanel/tromm/20220617013857881\\\"},{\\\"id\\\":\\\"cafe-cs11sz/LG19/430071\\\",\\\"title\\\":\\\"[스크랩] 주사맞는 치와와.gif\\\",\\\"url\\\":\\\"https://cafe.daum.net/cs11sz/LG19/430071?svc=daumapp\\\",\\\"imageUrl\\\":\\\"https://t1.daumcdn.net/daumtop_chanel/tromm/20220617020249887\\\"}]\"},\"teslas\":{},\"cabinets\":null,\"board\":false},{\"code\":2391,\"type\":\"PC_CHANNEL_WOMEN\",\"items\":{\"op\":{\"title\":\"스타일\",\"url\":null}},\"feeds\":{\"pc_channel_women\":\"[{\\\"id\\\":\\\"hamny-EKpPcpBB9h\\\",\\\"title\\\":\\\"'갓세븐' 유겸, 시크한 남친룩 스타일\\\",\\\"url\\\":\\\"https://content.v.daum.net/v/EKpPcpBB9h\\\",\\\"imageUrl\\\":\\\"https://t1.daumcdn.net/news/202206/22/styleade/20220622051033483avbm.jpeg\\\",\\\"source\\\":\\\"디스패치 스타일\\\",\\\"desc\\\":\\\"'갓세븐' 유겸의 패션이 화제입니다. 지난 17일 자신의 인스타그램에 일상을 공유했는데요. 유겸은 블랙 티셔츠와 가디건을 매치했습니다. 유겸이 착용한 제품은 '올라운더'의 티셔츠입니다. 왼쪽 가슴에 브랜드 로고와 백호가 그려져있는데요. 남녀공용으로 누구나 편안하게 착용 가능한 제품입니다. *디스트리뷰트에서만 현재 10% 할인, 10% 추가 쿠폰, 2% 마일\\\",\\\"icon\\\":\\\"IMAGE\\\"},{\\\"id\\\":\\\"hamny-ECU3yXRaAX\\\",\\\"title\\\":\\\"레드벨벳 조이, 즐거운 출근길! 청치마로 뽐낸 핫섬머룩\\\",\\\"url\\\":\\\"https://content.v.daum.net/v/ECU3yXRaAX\\\",\\\"imageUrl\\\":\\\"https://t1.daumcdn.net/news/202206/22/fashionn/20220622063631509qjxm.jpeg\\\",\\\"source\\\":\\\"패션엔\\\",\\\"desc\\\":\\\"그룹 레드벨벳(Red Velvet) 조이(JOY)가 27일 오후 서울 목동SBS에서 열린 ‘동물농장' 녹화 출근길에 데님 미니 스커트로 눈부신 각선미를 뽐냈다. 조이는 이날 데님 미니 스커트와 집업 크롭트 재킷을 매치한  상큼한 출근룩으로 스포트라이트를 받았다. 비율 좋은 몸매와 매끈한 각선미가 눈길을 끈다. 조이가 속한 레드벨벳은 지난 3월 새 미니앨\\\",\\\"icon\\\":\\\"IMAGE\\\"},{\\\"id\\\":\\\"hamny-ElwYuwZYjC\\\",\\\"title\\\":\\\"AOA 설현, 가을엔 요크 백 플랩 트렌치 코트룩 '봐도봐도 러블리'\\\",\\\"url\\\":\\\"https://content.v.daum.net/v/ElwYuwZYjC\\\",\\\"imageUrl\\\":\\\"https://t1.daumcdn.net/news/202206/22/fashionn/20220622054848594lcup.jpeg\\\",\\\"source\\\":\\\"패션엔\\\",\\\"desc\\\":\\\"AOA의 설현이 계절 앞서가는 트렌치 코트룩으로 패셔니스타의 위엄을 뽐냈다. 설현은 22일 자신의 인스타그램에 패션매거진 더블유 코리아와 함께한 비하인드 화보컷 여러장을 게시했다. 공개된 화보 속 설현은 로맨틱한 아일렛 블라우스와 원피스, 요크 백 플랩(Yoke Back Flap) 디자인과 소매 라인의 펀칭 디테일이 돋보이는 컨템포러리 트렌치 코트로 눈\\\",\\\"icon\\\":\\\"IMAGE\\\"},{\\\"id\\\":\\\"hamny-EUxj4WD8sW\\\",\\\"title\\\":\\\"손나은, 명품 각선미 美쳤다..입는옷 마다 바비 인형 '그저 감탄만'\\\",\\\"url\\\":\\\"https://content.v.daum.net/v/EUxj4WD8sW\\\",\\\"imageUrl\\\":\\\"https://t1.daumcdn.net/news/202206/22/fashionn/20220622050024096bom1.jpeg\\\",\\\"source\\\":\\\"패션엔\\\",\\\"desc\\\":\\\"에이핑크 출신의 배우 손나은이 명품 각선미를 뽐냈다. 손나은은 20일 자신의 인스타그램을 통해 공식 앰버서더로 활동하고 있는 브랜드와 함께한 패션매거진 코스모폴리탄 화보를 여러장 게제했다. 공개된 사진 속 손나은은 회오리 문양의 오프숄더 원피스룩부터 블랙 홀터넥 나시와 핑크 미니 스커트로 연출한 투피스룩, 초밀착 원숄더 블랙 미니 원피스, 비즈 장식의\\\",\\\"icon\\\":\\\"IMAGE\\\"},{\\\"id\\\":\\\"hamny-EZyEdQ4MKM\\\",\\\"title\\\":\\\"'에이티즈' 산, 세련된 남자는 안경을 쓴다\\\",\\\"url\\\":\\\"https://content.v.daum.net/v/EZyEdQ4MKM\\\",\\\"imageUrl\\\":\\\"https://t1.daumcdn.net/news/202206/22/styleade/20220622050711353iqqx.jpeg\\\",\\\"source\\\":\\\"디스패치 스타일\\\",\\\"desc\\\":\\\"'에이티즈' 산의 패션이 화제입니다. 지난 14일 에이티즈 공식트위터에 올라온 사진인데요. 산은 블랙 티셔츠에 안경을 착용했습니다. 산이 착용한 제품은 '세미콜론'의 안경입니다. 해외 고가 브랜드에서 주로 사용되는 adjoined dot 디자인의 리벳을 활용하여, 심미적인 요소를 부각시켰습니다. 엔드피스 마감을 안정적인 둥근 곡선으로 디자인하여, 시각적인\\\",\\\"icon\\\":\\\"IMAGE\\\"},{\\\"id\\\":\\\"tstory-535087_272\\\",\\\"title\\\":\\\"이건 데자뷰?? Teddy Santis의 뉴발란스 M990TD2 개봉기, 사이즈 추천\\\",\\\"url\\\":\\\"https://dmwriter.tistory.com/272\\\",\\\"imageUrl\\\":\\\"https://t1.daumcdn.net/section/oc/db143c40b6d94857a5c825aee422c84a\\\",\\\"source\\\":\\\"티스토리 · Mist\\\",\\\"desc\\\":\\\"코로나 시기를 겪으며 스니커신에 가장 많은 변화는 리셀가의 폭발적인 상승과, 브랜드간 활발한 콜라보를 꼽을 수 있을 것 같습니다. 스니커 브랜드들은 아이덴티티와 디자인의 외연확장을 위해 다른 패션 브랜드와의 협업에 기꺼이 손을 내밀었습니다. 나이키는 아 마 마니에르, 오프 화이트, 트래비스 스캇과의 콜라보가 폭발적인 인기를 끌었었고 [##_ImageGrid\\\",\\\"icon\\\":\\\"IMAGE\\\"},{\\\"id\\\":\\\"hamny-EprMxVxVrS\\\",\\\"title\\\":\\\"경리, 몸매가 예쁘니 팬츠도 예쁘네! 꾸안꾸 아침 출근룩\\\",\\\"url\\\":\\\"https://content.v.daum.net/v/EprMxVxVrS\\\",\\\"imageUrl\\\":\\\"https://t1.daumcdn.net/daumtop_chanel/tromm/20220622011443795\\\",\\\"source\\\":\\\"패션엔\\\",\\\"desc\\\":\\\"그룹 나인뮤지스 출신 경리가 꾸안꾸 출근룩으로 예쁜 몸매를 자랑했다. 경리는 22일 자신의 인스타그램에 “굿모닝, 출근 뷰 이뿌지!”라는 글과 함께 촬영장을 배경으로 한 듯한 사진과 동영상을 게재했다. 공개한 사진과 영상에서 경리는 편안한 반팔 티셔츠에 청색 원턱 와이드 팬츠를 입은 꾸안꾸 출근룩을 선보였다. 특히 경리는 또렷한 이목구비와 남다른 비율을\\\",\\\"icon\\\":\\\"IMAGE\\\"},{\\\"id\\\":\\\"hamny-EAiW6uvDvR\\\",\\\"title\\\":\\\"사복 장인 기은세 화보로 보는 올여름 패션 ♥\\\",\\\"url\\\":\\\"https://content.v.daum.net/v/EAiW6uvDvR\\\",\\\"imageUrl\\\":\\\"https://t1.daumcdn.net/news/202206/21/tag/20220621062442501fstu.jpeg\\\",\\\"source\\\":\\\"트렌드를알려주는여자\\\",\\\"desc\\\":\\\"안녕하세요 여러분 트알녀입니다! 오늘은 방송 활동부터 인스타그램까지 다방면으로 활약 중인 기은세의 화보 소식을 전하려고 하는데요~ 인스타그램을 통해 다양한 사복 패션을 선보여 많은 여성분들의 워너비 스타가 된 사복 장인 기은세의 화보 함께 구경해 보실까요 ~? 기은세 공항패션 지난달 화보 촬영을 위해 나선 기은세의 공항 패션이 화제가 되었는데요 ~\\\",\\\"icon\\\":\\\"IMAGE\\\"}]\",\"women_best_new_tiara\":\"[{\\\"id\\\":\\\"hamny-EH0XeMLwQr\\\",\\\"title\\\":\\\"40세 기념으로 \\\\\\\"80kg→52kg\\\\\\\" 만든 연예인,썸머 감량법 전격 공개 \\\",\\\"url\\\":\\\"https://content.v.daum.net/v/EH0XeMLwQr\\\",\\\"imageUrl\\\":\\\"https://t1.daumcdn.net/daumtop_chanel/tromm/20220617051400055\\\"},{\\\"id\\\":\\\"hamny-EvDpWhNEk3\\\",\\\"title\\\":\\\"\\\\\\\"한달30kg감량\\\\\\\"75→46kg완전 딴사람된 배우의 다이어트법\\\",\\\"url\\\":\\\"https://content.v.daum.net/v/EvDpWhNEk3\\\",\\\"imageUrl\\\":\\\"https://t1.daumcdn.net/news/202206/17/forsnap/20220617093517464eas2.jpeg\\\"},{\\\"id\\\":\\\"hamny-ELfnfsQPLW\\\",\\\"title\\\":\\\"'브레이브걸스' 유정, 날씬한 몸 자랑하는 미니 티셔츠\\\",\\\"url\\\":\\\"https://content.v.daum.net/v/ELfnfsQPLW\\\",\\\"imageUrl\\\":\\\"https://t1.daumcdn.net/news/202206/19/styleade/20220619063200991kyci.jpeg\\\"},{\\\"id\\\":\\\"hamny-EPary83YBX\\\",\\\"title\\\":\\\"황신혜, 60대도 입는 크롭트! 나이를 잊은 과감한 패셔니스타\\\",\\\"url\\\":\\\"https://content.v.daum.net/v/EPary83YBX\\\",\\\"imageUrl\\\":\\\"https://t1.daumcdn.net/news/202206/19/fashionn/20220619073514696stxk.jpeg\\\"},{\\\"id\\\":\\\"hamny-EYAitFycLt\\\",\\\"title\\\":\\\"'5Kg 감량' 박경림, 얼굴에서 드러난 자신감! 오렌지 벨티드 슈트룩\\\",\\\"url\\\":\\\"https://content.v.daum.net/v/EYAitFycLt\\\",\\\"imageUrl\\\":\\\"https://t1.daumcdn.net/news/202206/17/fashionn/20220617235242441gtqy.jpeg\\\"},{\\\"id\\\":\\\"story-65657806_108463915960400692\\\",\\\"title\\\":\\\"나이 상관없이 잘 어울리는 단발머리\\\",\\\"url\\\":\\\"https://story.kakao.com/ch/greed/5K88a35Ks19\\\",\\\"imageUrl\\\":\\\"https://t1.daumcdn.net/daumtop_chanel/tromm/20220613081217719\\\"},{\\\"id\\\":\\\"hamny-EPqBoTSRMU\\\",\\\"title\\\":\\\"반전 외모의 격투기 챔피언이 추천하는 다이어트 운동\\\",\\\"url\\\":\\\"https://content.v.daum.net/v/EPqBoTSRMU\\\",\\\"imageUrl\\\":\\\"https://t1.daumcdn.net/news/202206/17/MAXQ/20220617045212413ahhf.jpeg\\\"},{\\\"id\\\":\\\"hamny-E9NcI21GOo\\\",\\\"title\\\":\\\"다음주에 입기 좋은 '민트색' 코디.jpg\\\",\\\"url\\\":\\\"https://content.v.daum.net/v/E9NcI21GOo\\\",\\\"imageUrl\\\":\\\"https://t1.daumcdn.net/daumtop_chanel/tromm/20220620094209257\\\"}]\"},\"teslas\":{},\"cabinets\":null,\"board\":false},{\"code\":2392,\"type\":\"PC_CHANNEL_MEN\",\"items\":{\"op\":{\"title\":\"M+\",\"url\":null}},\"feeds\":{\"pc_channel_men\":\"[{\\\"id\\\":\\\"hamny-20220622153401393\\\",\\\"title\\\":\\\"네카쿠배당 대표 만난 이종호 장관 \\\\\\\"규제 혁신적으로 바꿔야\\\\\\\"\\\",\\\"url\\\":\\\"https://v.daum.net/v/20220622153401393\\\",\\\"imageUrl\\\":\\\"https://t1.daumcdn.net/news/202206/22/ked/20220622153404349hhqa.jpg\\\",\\\"source\\\":\\\"한국경제\\\",\\\"desc\\\":\\\"정부가 데이터와 인공지능(AI) 알고리즘 등 관련 플랫폼 사업 가이드라인을 마련하기 위해 민·관 합동 태스크포스(TF)를 구성한다. 정부가 주도해 규제를 만드는 대신 사업자들의 목소리를 대폭 반영하고 자율 관리에 방점을 두겠다는 취지다.   '네카쿠배당' 대표들 만난 과기정통부 장관 22일 이종호 과학기술정보통신부 장관은 서울 대한상공회의소에서 디지털 플\\\",\\\"icon\\\":\\\"TEXT\\\"},{\\\"id\\\":\\\"hamny-20220622153427414\\\",\\\"title\\\":\\\"300개 기업 기술 결집..'뉴 스페이스 시대' 진입\\\",\\\"url\\\":\\\"https://v.daum.net/v/20220622153427414\\\",\\\"imageUrl\\\":\\\"https://t1.daumcdn.net/news/202206/22/YTN/20220622153428811tlfr.jpg\\\",\\\"source\\\":\\\"YTN\\\",\\\"desc\\\":\\\"[앵커] 누리호 2차 발사 성공에는 우리나라 300개 기업의 다양한 기술력이 총결집돼 큰 힘을 발휘했습니다. 국가가 아닌 민간 기업이 우주 개발을 주도하는 뉴 스페이스 시대에, 우리도 한층 경쟁력을 갖추게 됐습니다. 김혜은 기자가 보도합니다. [기자] 누리호에 들어간 부품은 무려 37만여 개. 우리나라 기업 300여 곳, 연구진 천여 명이 힘을\\\",\\\"icon\\\":\\\"VIDEO\\\"},{\\\"id\\\":\\\"hamny-20220622152614931\\\",\\\"title\\\":\\\"2차 도전 누리호 발사 성공.. \\\\\\\"한국, 우주강국 발판 마련\\\\\\\"[이광식의 천문학+]\\\",\\\"url\\\":\\\"https://v.daum.net/v/20220622152614931\\\",\\\"imageUrl\\\":\\\"https://t1.daumcdn.net/news/202206/22/seoul/20220622152616177utzq.jpg\\\",\\\"source\\\":\\\"서울신문\\\",\\\"desc\\\":\\\"[서울신문 나우뉴스]국산 우주 발사체 누리호가 두 번의 도전 끝에 21일 발사에 성공함으로써 '우주강국' 도약을 위한 발판을 마련했다.  설계부터 제작, 시험, 인증과 발사까지 전 과정을 국내 독자 기술로 만든 한국형 발사체(KSLV-2) 누리호는 성공적으로 발사된 지 15분 45초 만에 700km 궤도에 위성 모사체(모형 위성)를 목표 궤도에 올려놓는 데\\\",\\\"icon\\\":\\\"TEXT\\\"},{\\\"id\\\":\\\"hamny-20220622151834572\\\",\\\"title\\\":\\\"누리호 성공 숨은 민간 주역들..'맨땅에 헤딩' 무에서 유 창조\\\",\\\"url\\\":\\\"https://v.daum.net/v/20220622151834572\\\",\\\"imageUrl\\\":\\\"https://t1.daumcdn.net/news/202206/22/NEWS1/20220622151834703zhjw.jpg\\\",\\\"source\\\":\\\"뉴스1\\\",\\\"desc\\\":\\\"(서울=뉴스1) 구교운 기자,이장호 기자,김민성 기자 = \\\\\\\"누구도 알려주지 않는 기술을 현장에서 부딪히며 습득해야 했기 때문에 모든 과정이 힘들었습니다.\\\\\\\" 22일 '누리호의 심장'으로 불리는 엔진 제작을 맡은 한화에어로스페이스(이하 한화에어로)의 김종한 추진기관생산기술팀 차장은 제작과정을 이렇게 돌아봤다. 우리나라가 세계에서 7번째로 1500kg급 실용\\\",\\\"icon\\\":\\\"TEXT\\\"},{\\\"id\\\":\\\"hamny-20220622142608102\\\",\\\"title\\\":\\\"일론 머스크의 스타링크 \\\\\\\"2023년 한국진출\\\\\\\"\\\",\\\"url\\\":\\\"https://v.daum.net/v/20220622142608102\\\",\\\"imageUrl\\\":\\\"https://t1.daumcdn.net/news/202206/22/etimesi/20220622151406157srxr.jpg\\\",\\\"source\\\":\\\"전자신문\\\",\\\"desc\\\":\\\"세계 최대 위성통신서비스 스타링크가 2023년 한국 시장에 진입한다. 스타링크는 일론 머스크 테슬라 최고경영자(CEO)가 창업한 우주기업 스페이스X가 제공하는 위성통신 서비스다. 누리호 발사 성공으로 우주 패권경쟁에 관심이 고조된 반면에 국민 생활과 밀접한 첫 위성통신 시장을 외국기업이 선점할 공산이 높아졌다. 스타링크는 홈페이지에 한국을 '커밍 순'(Co\\\",\\\"icon\\\":\\\"TEXT\\\"},{\\\"id\\\":\\\"hamny-20220622140418294\\\",\\\"title\\\":\\\"스마트폰 값 입금했더니 '할인코드' 오류?..'사기 사이트 ' 주의보\\\",\\\"url\\\":\\\"https://v.daum.net/v/20220622140418294\\\",\\\"imageUrl\\\":\\\"https://t1.daumcdn.net/news/202206/22/khan/20220622140420149qxze.png\\\",\\\"source\\\":\\\"경향신문\\\",\\\"desc\\\":\\\"최신 스마트폰을 싸게 판다는 소셜미디어 광고를 본 A씨는 제품 구매를 위해 판매자에게 184만8000원을 입금했다. 하지만 상품은 오지 않았고, 판매자는 할인코드가 제대로 입력되지 않아 오류가 났다며 다시 입금하라고 요구했다. 이에 A씨가 입금 내역이 찍힌 자료를 보내자 연락이 끊겼다. 경찰에 신고했지만 판매 사이트 서버가 해외에 있어 추적은 쉽지 않은 상\\\",\\\"icon\\\":\\\"TEXT\\\"},{\\\"id\\\":\\\"hamny-20220622150612026\\\",\\\"title\\\":\\\"\\\\\\\"시리야\\\\\\\" 소리 지르지 않아도 오케이..음성인식 전자피부 개발\\\",\\\"url\\\":\\\"https://v.daum.net/v/20220622150612026\\\",\\\"imageUrl\\\":\\\"https://t1.daumcdn.net/news/202206/22/seoul/20220622150613857wepl.jpg\\\",\\\"source\\\":\\\"서울신문\\\",\\\"desc\\\":\\\"구글이나 애플 같은 IT 기업들은 스마트폰, 인공지능 스피커 등에 음성으로 음악 재생, 메시지 발송, 내비게이션 조작 명령을 내릴 수 있는 스마트 비서기능을 탑재하고 있다. 문제는 기기를 입 가까이 대고 명령하지 않으면 인식을 잘못하거나 작동을 하지 않는 경우가 많다. 국내 연구진이 반창고처럼 인체 어디나 붙인 다음 스마트 기기와 연결해 명령을 내릴 수 있\\\",\\\"icon\\\":\\\"TEXT\\\"},{\\\"id\\\":\\\"hamny-EErnT8F9CL\\\",\\\"title\\\":\\\"블루투스가 된다면 당신은 언제든 위치 추적을 당할 수 있다\\\",\\\"url\\\":\\\"https://content.v.daum.net/v/EErnT8F9CL\\\",\\\"imageUrl\\\":\\\"https://t1.daumcdn.net/news/202206/15/techplus/202206150620192368qnc.jpeg\\\",\\\"source\\\":\\\"테크플러스\\\",\\\"desc\\\":\\\"블루투스로 사생활을 침해할 수 있는 새로운 방법이 제기됐다. 10일(현지 시간) IT 전문 매체 기즈모도(Gizmodo)에 따르면 5월 24일 미국 샌디에이고 캘리포니아 대학(UCSD) 연구진은 전자 기기에 내장된 블루투스 칩을 이용해 위치 추적이 가능하다는 연구를 발표했다. 스마트 워치, 스마트폰 등 블루투스 기기는 블루투스 비콘이라는 신호를 방출한다.\\\",\\\"icon\\\":\\\"IMAGE\\\"}]\",\"men_best_new_tiara\":\"[{\\\"id\\\":\\\"hamny-20220619084600001\\\",\\\"title\\\":\\\"신형 팰리세이드, 이렇게 좋으면 전 모델 산사람은 어떡해요[차알못시승기]\\\",\\\"url\\\":\\\"https://v.daum.net/v/20220619084600001\\\",\\\"imageUrl\\\":\\\"https://t1.daumcdn.net/news/202206/19/moneytoday/20220619084602258cgyi.jpg\\\"},{\\\"id\\\":\\\"hamny-EBNF6cUZYm\\\",\\\"title\\\":\\\"현대 '갤로퍼' EV로 부활한다면 이런 모습\\\",\\\"url\\\":\\\"https://auto.v.daum.net/v/EBNF6cUZYm\\\",\\\"imageUrl\\\":\\\"https://t1.daumcdn.net/news/202206/19/thedrive/2022061902541247875nc.jpeg\\\"},{\\\"id\\\":\\\"hamny-EGlbBIevpi\\\",\\\"title\\\":\\\"현대차, 스타리아와 전혀 다른 '스타게이저' 티저 공개..간결하고 미래 지향적\\\",\\\"url\\\":\\\"https://auto.v.daum.net/v/EGlbBIevpi\\\",\\\"imageUrl\\\":\\\"https://t1.daumcdn.net/news/202206/18/autoherald/20220618060949202fhqx.png\\\"},{\\\"id\\\":\\\"hamny-20220617201500928\\\",\\\"title\\\":\\\"'대박 예감' 정통 코란도도 '재탄생'..'벼랑탈출' 쌍용차, 흥행 3연타 노려[왜몰랐을카]\\\",\\\"url\\\":\\\"https://v.daum.net/v/20220617201500928\\\",\\\"imageUrl\\\":\\\"https://t1.daumcdn.net/news/202206/17/mk/20220617230905584ekth.jpg\\\"},{\\\"id\\\":\\\"brch-cwOA-1252\\\",\\\"title\\\":\\\"비만 오면 도로 차선 안보이던 이유가 있었습니다\\\",\\\"url\\\":\\\"https://brunch.co.kr/@@cwOA/1252\\\",\\\"imageUrl\\\":\\\"https://t1.daumcdn.net/section/oc/ae165619f8c54193a542c606eebb31c0\\\"},{\\\"id\\\":\\\"hamny-20220618185400271\\\",\\\"title\\\":\\\"'또또또' 테슬라 값질, 모델3 '9000만원' 돌파..벤츠E보다 비싸져 [왜몰랐을카]\\\",\\\"url\\\":\\\"https://v.daum.net/v/20220618185400271\\\",\\\"imageUrl\\\":\\\"https://t1.daumcdn.net/news/202206/18/mk/20220618185402615qpcw.jpg\\\"},{\\\"id\\\":\\\"hamny-20220619134940898\\\",\\\"title\\\":\\\"일론 머스크, 트위터서 \\\\\\\"현대차 '전기차' 잘하네\\\\\\\" 언급\\\",\\\"url\\\":\\\"https://v.daum.net/v/20220619134940898\\\",\\\"imageUrl\\\":\\\"https://t1.daumcdn.net/news/202206/19/Edaily/20220619134944960lccr.jpg\\\"},{\\\"id\\\":\\\"hamny-20220618160101330\\\",\\\"title\\\":\\\"\\\\\\\"차 방전됐나\\\\\\\" 싶을 때..하이브리드카에만 '이 버튼' 있다 [차모저모]\\\",\\\"url\\\":\\\"https://v.daum.net/v/20220618160101330\\\",\\\"imageUrl\\\":\\\"https://t1.daumcdn.net/news/202206/18/ked/20220618191606741isnp.jpg\\\"},{\\\"id\\\":\\\"hamny-20220618125843844\\\",\\\"title\\\":\\\"[단독] \\\\\\\"살 땐 서비스, 이제와 불법이라고?\\\\\\\" 포르쉐 차주들 \\\\\\\"결함 수리 1000만원 날릴 판\\\\\\\"\\\",\\\"url\\\":\\\"https://v.daum.net/v/20220618125843844\\\",\\\"imageUrl\\\":\\\"https://t1.daumcdn.net/news/202206/18/segye/20220618125843366fkxg.jpg\\\"},{\\\"id\\\":\\\"hamny-20220618112901188\\\",\\\"title\\\":\\\"\\\\\\\"토레스가 길 보여줄까\\\\\\\" 쌍용차 바라보는 르노와 한국GM\\\",\\\"url\\\":\\\"https://v.daum.net/v/20220618112901188\\\",\\\"imageUrl\\\":\\\"https://t1.daumcdn.net/news/202206/18/moneytoday/20220618112902898mner.jpg\\\"}]\"},\"teslas\":{},\"cabinets\":null,\"board\":false},{\"code\":2393,\"type\":\"PC_CHANNEL_TRAVEL\",\"items\":{\"op\":{\"title\":\"여행맛집\",\"url\":null}},\"feeds\":{\"pc_channel_travel\":\"[{\\\"id\\\":\\\"brch-boc1-47\\\",\\\"title\\\":\\\"네덜란드 벨기에 열차 예약 및 암스테르담 시티카드 소개\\\",\\\"url\\\":\\\"https://brunch.co.kr/@@boc1/47\\\",\\\"imageUrl\\\":\\\"https://t1.daumcdn.net/section/oc/88199b784d3a4cc69f196fed425a41a4\\\",\\\"source\\\":\\\"브런치 by 화이\\\",\\\"desc\\\":\\\"네덜란드의 암스테르담(Amsterdam), 헤이그(덴 하그, The Hague, Den Haag), 로테르담(Rotterdam)과 벨기에의 안트베르펜(앤트워프, Antwerp), 브뤼헤(브뤼허, Bruges), 브뤼셀(Brussels)까지 10일간 6개 도시를 기차로 이동했다.  하루에 한 번꼴로 기차를 이용했는데, 네덜란드와 벨기에 열차 모두 이용이 편리\\\",\\\"icon\\\":\\\"IMAGE\\\"},{\\\"id\\\":\\\"tstory-2864167_345\\\",\\\"title\\\":\\\"솜분씨푸드 - 푸팟퐁커리 맛집[태국 방콕 여행]\\\",\\\"url\\\":\\\"https://wooleelife.tistory.com/345\\\",\\\"imageUrl\\\":\\\"https://t1.daumcdn.net/section/oc/80405e96a0ca4acda7266791113b7a7b\\\",\\\"source\\\":\\\"티스토리 · 우리라이프\\\",\\\"desc\\\":\\\"태국 방콕에 여행 간 한국사람들이 하루에 한번씩 간다는 푸팟퐁커리 맛집이 있습니다. 여행중 5번 정도는 들리게 된다는 시암스퀘어의 스퀘어원 4층에 가면 솜분씨푸드라는 집이 있는데, 여기가 한국인들 사이에서 유명한 푸팟퐁커리 맛집입니다. 이 건물에는 '홍대' 등 한국식당 임을 내건 음식점들이 많은데, 한국의 인기가 엄청나게 올라간걸 느꼈다. 아.. 근데 그거\\\",\\\"icon\\\":\\\"IMAGE\\\"},{\\\"id\\\":\\\"hamny-EmrBYIdNy7\\\",\\\"title\\\":\\\"이번 여름, 비치 하우스와 어울리는 요리와 오브제 추천\\\",\\\"url\\\":\\\"https://content.v.daum.net/v/EmrBYIdNy7\\\",\\\"imageUrl\\\":\\\"https://t1.daumcdn.net/news/202206/22/noblesse/20220622063923220tkf9.jpeg\\\",\\\"source\\\":\\\"노블레스\\\",\\\"desc\\\":\\\"Greek Salad and Pita Bread with Hummus 그릭 샐러드와 후무스를 곁들인 피타 브레드 여름과 잘 어울리는 그릭 샐러드. 여름 채소인 토마토와 신선한 올리브, 짭조름한 풍미를 더하는 페타 치즈는 그릭 샐러드에서 빠질 수 없는 재료다. 여기에 포도와 아보카도, 부라타 치즈를 더해 풍성함을 살렸다. 함께 낸 중동식 빵인 둥글 넙적한\\\",\\\"icon\\\":\\\"IMAGE\\\"},{\\\"id\\\":\\\"hamny-EfyUC6iJDg\\\",\\\"title\\\":\\\"알아두면 무조건 도움되는 전국 휴게소 맛집 메뉴판\\\",\\\"url\\\":\\\"https://content.v.daum.net/v/EfyUC6iJDg\\\",\\\"imageUrl\\\":\\\"https://t1.daumcdn.net/news/202206/22/onehomelife/20220622023200103wwhv.png\\\",\\\"source\\\":\\\"자취생으로 살아남기\\\",\\\"desc\\\":\\\"\\\",\\\"icon\\\":\\\"IMAGE\\\"},{\\\"id\\\":\\\"brch-dPZ9-23\\\",\\\"title\\\":\\\"승마의 기본기술, 말과의 밀당\\\",\\\"url\\\":\\\"https://brunch.co.kr/@@dPZ9/23\\\",\\\"imageUrl\\\":\\\"https://t1.daumcdn.net/section/oc/dfe8c7d8760f477ebb7832b571e28726\\\",\\\"source\\\":\\\"브런치 by Jina\\\",\\\"desc\\\":\\\"그렇게 파리에서의 세 번째 외승이 급 성사됐다. 충동구매를 해도 이런 충동구매를 다 하다니. 언제부턴가 망설여질 때는 일단 go하자는 주의가 됐지만, 2시간 가량 기승에 30만원이 훌쩍 넘는 돈을 쓴다는 것은 지름신의 은총이 좀 많이 필요한 일이었다. 그것도 이미 하루 말 타는 데만 60만원 이상을 쓴 상태에서. 결제를 마치고 난 후 나는 호텔방 침대에 누\\\",\\\"icon\\\":\\\"IMAGE\\\"},{\\\"id\\\":\\\"brch-73Y6-176\\\",\\\"title\\\":\\\"인생 최악의 패키지여행, 샌프란시스코\\\",\\\"url\\\":\\\"https://brunch.co.kr/@@73Y6/176\\\",\\\"imageUrl\\\":\\\"https://t1.daumcdn.net/section/oc/31e7a6574b7d4710a19d47011a9f93a2\\\",\\\"source\\\":\\\"브런치 by 방구석여행자\\\",\\\"desc\\\":\\\"나는 여행을 좋아하는 사람이다. 여행의 종류에는 크게 자유 여행과 패키지여행이 있는데 처음에는 어떤 여행이든 상관없었다. 그저 내가 새로운 곳에 간다는 것만 해도 만족했었으니까. 그런데, 미국 샌프란시스코 패키지여행을 다녀온 후로 패키지여행이 싫어졌다. 이 여행 이후로 패키지여행은 다시는 하고 싶지 않아 가족들에게도 이제부터 나는 패키지여행은 절대 안 갈 \\\",\\\"icon\\\":\\\"IMAGE\\\"},{\\\"id\\\":\\\"tstory-1954431_460\\\",\\\"title\\\":\\\"부산 동대신동 : 시원하고 맛있는 밀면 맛집, 영남냉면밀면\\\",\\\"url\\\":\\\"https://soraing.tistory.com/460\\\",\\\"imageUrl\\\":\\\"https://t1.daumcdn.net/section/oc/00ad1f1ef79e4630b63be2323bb5110c\\\",\\\"source\\\":\\\"티스토리 · 탐험하라 꿈꾸라 발견하라\\\",\\\"desc\\\":\\\"점심은 또 무얼 먹을까 고민하다가 시원한 밀면이 먹고 싶었다. 점심을 같이할 동행분께 말씀드렸더니 거리는 좀 있지만, 밀면 맛집이 있다며 데려가 주셨다. 학창 시절 내내 대신동 근처에 살았는데, 영남 밀면은 처음 들었다. 식당의 위치도 내가 잘 다니지 않던 길이기도 했다. 영남냉면밀면 위치와 주차장 정보 영남냉면밀면은 벚꽃 명소로 유명한 대신동 삼익아파트 \\\",\\\"icon\\\":\\\"IMAGE\\\"},{\\\"id\\\":\\\"tstory-3796749_248\\\",\\\"title\\\":\\\"건대입구역 해룡마라룽샤 가재꼬리 마파두부 볶음밥 가격 주말 방문 후기\\\",\\\"url\\\":\\\"https://likeapricot.tistory.com/248\\\",\\\"imageUrl\\\":\\\"https://t1.daumcdn.net/section/oc/bcd1b73a28f94bdca3bcf3abcb48078c\\\",\\\"source\\\":\\\"티스토리 · 살구로그\\\",\\\"desc\\\":\\\"해룡마라룽샤 [##_Image|kage@ciCqZJ/btrFooHTaJt/wF1EuGCF2MMzULGfohG6Fk/img.jpg|CDM|1.3|{\\\\\\\"originWidth\\\\\\\":3024,\\\\\\\"originHeight\\\\\\\":4032,\\\\\\\"style\\\\\\\":\\\\\\\"alignCenter\\\\\\\",\\\\\\\"filename\\\\\\\":\\\\\\\"KakaoTalk_20220621_225532204_02.jpg\\\\\\\"}_##] 진짜 오\\\",\\\"icon\\\":\\\"IMAGE\\\"}]\",\"travel_best_new_tiara\":\"[{\\\"id\\\":\\\"hamny-20220619070341168\\\",\\\"title\\\":\\\"\\\\\\\"바다 전망 객실이 100만원\\\\\\\"..부산 특급호텔 숙박비 천정부지\\\",\\\"url\\\":\\\"https://v.daum.net/v/20220619070341168\\\",\\\"imageUrl\\\":\\\"https://t1.daumcdn.net/news/202206/19/yonhap/20220619070341503ljid.jpg\\\"},{\\\"id\\\":\\\"hamny-20220618030407297\\\",\\\"title\\\":\\\"\\\\\\\"경복궁이 '힙'해서\\\\\\\".. 방탄소년단 RM도 실패했다는 '궁케팅'을 아시나요?\\\",\\\"url\\\":\\\"https://v.daum.net/v/20220618030407297\\\",\\\"imageUrl\\\":\\\"https://t1.daumcdn.net/news/202206/18/chosun/20220618124755961ndie.jpg\\\"},{\\\"id\\\":\\\"tstory-2353014_1296\\\",\\\"title\\\":\\\"갈치조림 하나만 주문해도 9가지 찬에 생선구이가 깔리는 집\\\",\\\"url\\\":\\\"https://dyourself.tistory.com/1296\\\",\\\"imageUrl\\\":\\\"https://t1.daumcdn.net/section/oc/9b53e51229c145e3864a23e17fef4165\\\"},{\\\"id\\\":\\\"brch-abn3-33\\\",\\\"title\\\":\\\"주재원 와이프의 세련된 인간관계\\\",\\\"url\\\":\\\"https://brunch.co.kr/@@abn3/33\\\",\\\"imageUrl\\\":\\\"https://t1.daumcdn.net/section/oc/c4f48dc4fdcb4898a1b7012213298d58\\\"},{\\\"id\\\":\\\"hamny-EvOt9NVqPH\\\",\\\"title\\\":\\\"600만원 짜린데 \\\\\\\"감자보다 작은 스테이크에 담요는 없대요\\\\\\\"\\\",\\\"url\\\":\\\"https://content.v.daum.net/v/EvOt9NVqPH\\\",\\\"imageUrl\\\":\\\"https://t1.daumcdn.net/daumtop_chanel/tromm/20220620014653575\\\"},{\\\"id\\\":\\\"tstory-2230493_340\\\",\\\"title\\\":\\\"베트남 하노이 3대 쌀국수 제주 상륙!\\\",\\\"url\\\":\\\"https://wlgp0983.tistory.com/340\\\",\\\"imageUrl\\\":\\\"https://t1.daumcdn.net/section/oc/6acd8b653b0c4b739b0258b012a64bd2\\\"},{\\\"id\\\":\\\"brch-JxX-137\\\",\\\"title\\\":\\\"산티아고 순례길을 아내랑 같이 온다고?!\\\",\\\"url\\\":\\\"https://brunch.co.kr/@@JxX/137\\\",\\\"imageUrl\\\":\\\"https://t1.daumcdn.net/section/oc/404b28c1fa6c49f7a699a63334d1a24f\\\"},{\\\"id\\\":\\\"tstory-1946403_1064\\\",\\\"title\\\":\\\"광장시장 먹거리 추천, 강가네떡볶이 솔직후기\\\",\\\"url\\\":\\\"https://cinmunya.tistory.com/1064\\\",\\\"imageUrl\\\":\\\"https://t1.daumcdn.net/section/oc/8cf20a535e574b0cabe9eb973194fcdd\\\"},{\\\"id\\\":\\\"story-58088428_108468870255064965\\\",\\\"title\\\":\\\"여수 꽃섬다리에서 내려다보는 남해의 절경\\\",\\\"url\\\":\\\"https://story.kakao.com/ch/visitkorea/BLFPxWEXt20\\\",\\\"imageUrl\\\":\\\"https://t1.daumcdn.net/daumtop_chanel/tromm/20220613043520629\\\"}]\"},\"teslas\":{},\"cabinets\":null,\"board\":false},{\"code\":2394,\"type\":\"PC_CHANNEL_BUSINESS\",\"items\":{\"op\":{\"title\":\"직장IN\",\"url\":null}},\"feeds\":{\"pc_channel_business\":\"[{\\\"id\\\":\\\"hamny-20220622094351208\\\",\\\"title\\\":\\\"모든 기업이 '개발자 사관학교'로 변신해야\\\",\\\"url\\\":\\\"https://v.daum.net/v/20220622094351208\\\",\\\"imageUrl\\\":\\\"https://t1.daumcdn.net/news/202206/22/ZDNetKorea/20220622094354182fgst.jpg\\\",\\\"source\\\":\\\"지디넷코리아\\\",\\\"desc\\\":\\\"(지디넷코리아=김윤희  기자)개발자 인력난에 대한 우려가 높지만, 기업이 우수 인재를 끌어오는 것에만 관심을 보일 뿐 내부 인력 육성은 등한시하고 있는 것도 문제를 키우고 있다. 대기업조차 이런 투자에 소극적인 상황이다. 개발자가 절실히 필요한 IT 대기업부터 시니어 인재 배출에 기여해야 주니어에 쏠린 인재 풀이 균형을 찾을 수 있다. 속수무책으로 개발자\\\",\\\"icon\\\":\\\"TEXT\\\"},{\\\"id\\\":\\\"hamny-20220622094407216\\\",\\\"title\\\":\\\"개발자 모시려면 일·비전·문화 다 바꿔라\\\",\\\"url\\\":\\\"https://v.daum.net/v/20220622094407216\\\",\\\"imageUrl\\\":\\\"https://t1.daumcdn.net/news/202206/22/ZDNetKorea/20220622094409154wdhj.jpg\\\",\\\"source\\\":\\\"지디넷코리아\\\",\\\"desc\\\":\\\"(지디넷코리아=김우용  기자)연봉이 개발자를 끌어들이는 절대 무기는 아니다. 적정 수준의 연봉은 당연한 조건이고, 회사에 일하고 싶게 만드는 또다른 무언가를 고민해야 한다. 개발자를 필요로 하는 기업의 유형은 크게 두 그룹으로 나눌 수 있다. 먼저, 태생적으로 IT 기술을 기반으로 한 기업이다. 오늘날 대부분의 스타트업, 빅테크 기업이 여기에 해당한다. 다\\\",\\\"icon\\\":\\\"TEXT\\\"},{\\\"id\\\":\\\"hamny-20220622094457251\\\",\\\"title\\\":\\\"IT 개발자 몸값 더 오를 수밖에 없다\\\",\\\"url\\\":\\\"https://v.daum.net/v/20220622094457251\\\",\\\"imageUrl\\\":\\\"https://t1.daumcdn.net/news/202206/22/ZDNetKorea/20220622094459545vgvc.jpg\\\",\\\"source\\\":\\\"지디넷코리아\\\",\\\"desc\\\":\\\"(지디넷코리아=임유경  기자)개발 인력 확보를 위한 연봉 인상 경쟁이 본격화된 지 1년이 지났다. 그 사이 실력 좋은 개발자를 채용하려면 초임 연봉부터 5천만원~6천만원 수준에 맞춰야 한다는 암묵적인 컨센서스가 IT 인력 채용시장에 자리잡았다. 대형 게임사, 인터넷플랫폼 업체 기준으로도 1천만원 이상 높아진 것이다. 개발자 몸값 상승은 스타트업부터 대형 I\\\",\\\"icon\\\":\\\"TEXT\\\"},{\\\"id\\\":\\\"hamny-20220622141337589\\\",\\\"title\\\":\\\"'종이의 집' 김홍선 감독 \\\\\\\"분단현실 녹여 우리 이야기로 재탄생\\\\\\\"\\\",\\\"url\\\":\\\"https://v.daum.net/v/20220622141337589\\\",\\\"imageUrl\\\":\\\"https://t1.daumcdn.net/news/202206/22/yonhap/20220622141337873lvhm.jpg\\\",\\\"source\\\":\\\"연합뉴스\\\",\\\"desc\\\":\\\"(서울=연합뉴스) 강애란 기자 김우진 인턴기자 = 넷플릭스의 스페인 인기 시리즈를 리메이크한 한국판 '종이의 집'이 이번 주 금요일 베일을 벗는다. 김홍선 감독과 류용재 작가는 22일 서울 강남구 코엑스에서 열린 '종이의 집: 공동경제구역' 제작발표회에서 원작에 남북관계 등 한국만의 이야기를 녹였다고 작품을 소개했다. '종이의 집: 공동경제구역'은 통일을\\\",\\\"icon\\\":\\\"TEXT\\\"},{\\\"id\\\":\\\"brch-azyN-20\\\",\\\"title\\\":\\\"자의식 과잉이었던 나의 20대\\\",\\\"url\\\":\\\"https://brunch.co.kr/@@azyN/20\\\",\\\"imageUrl\\\":\\\"https://t1.daumcdn.net/section/oc/a2bb2a3ee19d4ccbb22aeac89408631c\\\",\\\"source\\\":\\\"브런치 by 기록하는 양양\\\",\\\"desc\\\":\\\"설거지를 하며 유튜브를 보았다. 오은영 박사님이 출연하는 한 프로그램에 배우이면서 국가대표가 되고 싶은 아이의 이야기가 담긴 영상이었다. 인터뷰를 하던 박사님은 찬물을 끼얹어서 미안하다는 말씀으로 조언을 시작하셨다. 어떤 사람으로 살아가고 어떻게 살아가겠다는 것보다 '타이틀'에만 집중하는 것은 굉장히 위험하다며 다소 자의식 과잉으로 보인다고 영상 주인공에게\\\",\\\"icon\\\":\\\"TEXT\\\"},{\\\"id\\\":\\\"hamny-EudlQlKhRe\\\",\\\"title\\\":\\\"코로나 끝나고 '항공 대란' 시작되나? 아수라장 된 영국 공항 실황\\\",\\\"url\\\":\\\"https://content.v.daum.net/v/EudlQlKhRe\\\",\\\"imageUrl\\\":\\\"https://t1.daumcdn.net/news/202206/22/tourplus/20220622101615410sxpm.jpg\\\",\\\"source\\\":\\\"여행+\\\",\\\"desc\\\":\\\"지난 주말 영국 주요 공항 곳곳에서 비행 지연과 결항이 발생해 승객들의 불만이 폭주했다.\\\",\\\"icon\\\":\\\"IMAGE\\\"},{\\\"id\\\":\\\"hamny-EDQ1JCBDDp\\\",\\\"title\\\":\\\"미국에서 두 번째로 큰 미술관에 가면..\\\",\\\"url\\\":\\\"https://content.v.daum.net/v/EDQ1JCBDDp\\\",\\\"imageUrl\\\":\\\"https://t1.daumcdn.net/news/202206/21/weekly/20220621100802316h53l.jpeg\\\",\\\"source\\\":\\\"정책주간지 공감\\\",\\\"desc\\\":\\\"미국 '시카고 현대 미술관'은 '유럽과 미국 미술 외에 동양 미술, 중세미술, 장식 미술, 사진, 판화, 조각, 건축 등 다양한 지역과 시대, 장르를 망라한 작품이 30만여 점에 이를 정도로 방대하다'고 해요. 피카소, 모네, 그랜트 우드, 에드워드 호퍼 등 근현대 거장들의 작품을 한 곳에서 볼 수 있다는데요. 박인권 문화칼럼니스트의 '안방에서 즐기는 세계의 뮤지엄' 글을 통해 '시카고 미술관'으로 함께 가볼까요?\\\",\\\"icon\\\":\\\"IMAGE\\\"},{\\\"id\\\":\\\"hamny-EB1vT2FSNb\\\",\\\"title\\\":\\\"제로 음료 넘쳐나는데 제로 아이스크림은?\\\",\\\"url\\\":\\\"https://content.v.daum.net/v/EB1vT2FSNb\\\",\\\"imageUrl\\\":\\\"https://t1.daumcdn.net/news/202206/22/wngproject/2022062204223043882em.jpeg\\\",\\\"source\\\":\\\"취재대행소 왱\\\",\\\"desc\\\":\\\"이 기호식품들을 보라. 제로 콜라, 제로 레모네이드, 제로 아이스티, 제로 커피 믹스까지…  세상이 온통 제로 음식 투성인데 유난히 보이지 않는 제품군이 하나 있다. 바로 ‘제로 아이스크림’. 유튜브 댓글로 ‘제로 음료수는 있는데 제로 아이스크림은 왜 없는지 취재해 달라’는 의뢰가 들어와 취재했다. 결론부터 말하면 아이스크림 원료 특성 때문에 제로 칼로리는\\\",\\\"icon\\\":\\\"IMAGE\\\"}]\",\"business_best_new_tiara\":\"[{\\\"id\\\":\\\"hamny-EmDqHr3lW1\\\",\\\"title\\\":\\\"\\\\\\\"인생에 남자복이 없어요.\\\\\\\" 외치던 30대 노처녀 결국..\\\",\\\"url\\\":\\\"https://content.v.daum.net/v/EmDqHr3lW1\\\",\\\"imageUrl\\\":\\\"https://t1.daumcdn.net/news/202206/17/1day_1lesson/20220617065632372a0iq.jpeg\\\"},{\\\"id\\\":\\\"hamny-EswHM3cEfW\\\",\\\"title\\\":\\\"우린 일부러 '샤넬' 안사고 이것만 고집한다! 2030세대들의 이유 있는 선택\\\",\\\"url\\\":\\\"https://content.v.daum.net/v/EswHM3cEfW\\\",\\\"imageUrl\\\":\\\"https://t1.daumcdn.net/news/202206/17/mk_cv/20220617051908611tu3o.png\\\"},{\\\"id\\\":\\\"hamny-EPPKdAESIf\\\",\\\"title\\\":\\\"중국 광시에서 발견된 거대 싱크홀.. 192m 지하에 펼쳐진 것은?\\\",\\\"url\\\":\\\"https://content.v.daum.net/v/EPPKdAESIf\\\",\\\"imageUrl\\\":\\\"https://t1.daumcdn.net/news/202206/17/tourplus/20220617102655192jwpx.jpg\\\"},{\\\"id\\\":\\\"brch-95Q7-123\\\",\\\"title\\\":\\\"공무원에서 사기업으로 옮겨보니..\\\",\\\"url\\\":\\\"https://brunch.co.kr/@@95Q7/123\\\",\\\"imageUrl\\\":\\\"https://t1.daumcdn.net/section/oc/ed4ed91ffe864bd9873bd31bf24fd1eb\\\"},{\\\"id\\\":\\\"hamny-EYpxQNrxpU\\\",\\\"title\\\":\\\"\\\\\\\"20년만에 무명 탈출한 배우..\\\\\\\" 그가 결국 포기한 딱 한가지\\\",\\\"url\\\":\\\"https://content.v.daum.net/v/EYpxQNrxpU\\\",\\\"imageUrl\\\":\\\"https://t1.daumcdn.net/news/202206/17/solutionmaker/20220617045911704ziji.jpeg\\\"},{\\\"id\\\":\\\"hamny-Eax3xDBvJS\\\",\\\"title\\\":\\\"해외 취업에선 토익∙컴활∙한국사 대신 '이것' 봅니다\\\",\\\"url\\\":\\\"https://content.v.daum.net/v/Eax3xDBvJS\\\",\\\"imageUrl\\\":\\\"https://t1.daumcdn.net/news/202206/18/jobsN/20220618060016209beqc.jpg\\\"},{\\\"id\\\":\\\"hamny-EXDigSaYx7\\\",\\\"title\\\":\\\"[심리실험] 이 말 자주 하는 사람은 이혼할 가능성이 높다\\\",\\\"url\\\":\\\"https://content.v.daum.net/v/EXDigSaYx7\\\",\\\"imageUrl\\\":\\\"https://t1.daumcdn.net/news/202206/16/theable/20220616054801435ucwm.jpeg\\\"},{\\\"id\\\":\\\"hamny-Em8D0Zsq5P\\\",\\\"title\\\":\\\"전문가들이 경고한 10년 후 한국이 무조건 겪을 재앙\\\",\\\"url\\\":\\\"https://content.v.daum.net/v/Em8D0Zsq5P\\\",\\\"imageUrl\\\":\\\"https://t1.daumcdn.net/news/202206/16/papervore/20220616071922861rlxb.jpeg\\\"}]\"},\"teslas\":{},\"cabinets\":null,\"board\":false},{\"code\":2395,\"type\":\"PC_CHANNEL_MUSIC\",\"items\":{\"op\":{\"title\":\"뮤직\",\"url\":\"https://www.melon.com/\"}},\"feeds\":{\"pc_channel_music\":\"[{\\\"id\\\":\\\"ptop_melon_img_34545081\\\",\\\"title\\\":\\\"서울, 광주, 부산! 라이브 맛집 ‘스탠딩 에그’ 단독 콘서트\\\",\\\"url\\\":\\\"http://tktapi.melon.com/kmt/landing.json?type=bridge&contId=100323\\\",\\\"imageUrl\\\":\\\"https://t1.daumcdn.net/daumtop_chanel/tromm/20220622112217900.png\\\",\\\"source\\\":\\\"멜론티켓\\\",\\\"icon\\\":\\\"IMAGE\\\"},{\\\"id\\\":\\\"melon-10010-12484\\\",\\\"title\\\":\\\"예술을 사랑하는 모든 이를 위한 공간, '1984'\\\",\\\"url\\\":\\\"https://www.melon.com/musicstory/inform.htm?mstorySeq=12484\\\",\\\"imageUrl\\\":\\\"https://cdnimg.melon.co.kr/resource/image/cds/musicstory/imgUrl20220517053351225.jpg\\\",\\\"source\\\":\\\"핫플리\\\",\\\"icon\\\":\\\"IMAGE\\\"},{\\\"id\\\":\\\"melon-10010-12597\\\",\\\"title\\\":\\\"MZ세대가 주목하는 싱어송라이터, 예빛 [여정]\\\",\\\"url\\\":\\\"https://www.melon.com/musicstory/inform.htm?mstorySeq=12597\\\",\\\"imageUrl\\\":\\\"https://cdnimg.melon.co.kr/resource/image/cds/musicstory/imgUrl20220615061138420.jpg\\\",\\\"source\\\":\\\"멜론매거진\\\",\\\"icon\\\":\\\"IMAGE\\\"},{\\\"id\\\":\\\"melon-10010-12600\\\",\\\"title\\\":\\\"이달의 소녀 추천! '여름에 듣기 좋은 노래 플레이리스트'\\\",\\\"url\\\":\\\"https://www.melon.com/musicstory/inform.htm?mstorySeq=12600\\\",\\\"imageUrl\\\":\\\"https://cdnimg.melon.co.kr/resource/image/cds/musicstory/imgUrl20220617044541253.jpg\\\",\\\"source\\\":\\\"멜론매거진\\\",\\\"icon\\\":\\\"VIDEO\\\"},{\\\"id\\\":\\\"melon-10010-12615\\\",\\\"title\\\":\\\"슈퍼스타가 만든 슈퍼스타답지 않은 앨범, Post Malone [Twelve Carat Toothache]\\\",\\\"url\\\":\\\"https://www.melon.com/musicstory/inform.htm?mstorySeq=12615\\\",\\\"imageUrl\\\":\\\"https://cdnimg.melon.co.kr/resource/image/cds/musicstory/imgUrl20220620061114212.jpg\\\",\\\"source\\\":\\\"DJ 멜양\\\",\\\"icon\\\":\\\"IMAGE\\\"},{\\\"id\\\":\\\"ptop_melon_img_34545099\\\",\\\"title\\\":\\\"오늘 밤, 당신의 침실로 낯선 방문객이 찾아옵니다. 온라인체험극: 〈ETERNAL〉\\\",\\\"url\\\":\\\"http://tktapi.melon.com/kmt/landing.json?type=perf&contId=206971\\\",\\\"imageUrl\\\":\\\"https://t1.daumcdn.net/daumtop_chanel/tromm/20220622112236771.png\\\",\\\"source\\\":\\\"멜론티켓\\\",\\\"icon\\\":\\\"IMAGE\\\"},{\\\"id\\\":\\\"ptop_melon_img_34545027\\\",\\\"title\\\":\\\"전석 30% 할인! 하프타임 오픈으로 돌아온 ‘전리농’\\\",\\\"url\\\":\\\"http://tktapi.melon.com/kmt/landing.json?type=perf&contId=206920\\\",\\\"imageUrl\\\":\\\"https://t1.daumcdn.net/daumtop_chanel/tromm/20220622112127992.png\\\",\\\"source\\\":\\\"멜론티켓\\\",\\\"icon\\\":\\\"IMAGE\\\"},{\\\"id\\\":\\\"ptop_melon_img_34545071\\\",\\\"title\\\":\\\"적재의 앨범 제작 과정을 내 눈으로 볼 수 있다?! 〈MIXTAPE〉\\\",\\\"url\\\":\\\"http://tktapi.melon.com/kmt/landing.json?type=perf&contId=207001\\\",\\\"imageUrl\\\":\\\"https://t1.daumcdn.net/daumtop_chanel/tromm/20220622112158216.png\\\",\\\"source\\\":\\\"멜론티켓\\\",\\\"icon\\\":\\\"IMAGE\\\"},{\\\"id\\\":\\\"melon-10010-12619\\\",\\\"title\\\":\\\"방탄소년단의 쉼표, 새롭게 써 내려갈 이야기\\\",\\\"url\\\":\\\"https://www.melon.com/musicstory/inform.htm?mstorySeq=12619\\\",\\\"imageUrl\\\":\\\"https://cdnimg.melon.co.kr/resource/image/cds/musicstory/imgUrl20220621024005255.jpg\\\",\\\"source\\\":\\\"잡스너\\\",\\\"icon\\\":\\\"IMAGE\\\"},{\\\"id\\\":\\\"melon-10010-12612\\\",\\\"title\\\":\\\"세 번째 웨딩마치를 울린 Britney Spears\\\",\\\"url\\\":\\\"https://www.melon.com/musicstory/inform.htm?mstorySeq=12612\\\",\\\"imageUrl\\\":\\\"https://cdnimg.melon.co.kr/resource/image/cds/musicstory/imgUrl20220620032743070.jpg\\\",\\\"source\\\":\\\"잡스너\\\",\\\"icon\\\":\\\"IMAGE\\\"},{\\\"id\\\":\\\"melon-10010-12550\\\",\\\"title\\\":\\\"조명이 책을, 햇살이 음악을 비추는 '진부책방 스튜디오'\\\",\\\"url\\\":\\\"https://www.melon.com/musicstory/inform.htm?mstorySeq=12550\\\",\\\"imageUrl\\\":\\\"https://cdnimg.melon.co.kr/resource/image/cds/musicstory/imgUrl20220603062152155.jpg\\\",\\\"source\\\":\\\"핫플리\\\",\\\"icon\\\":\\\"IMAGE\\\"},{\\\"id\\\":\\\"melon-10010-12609\\\",\\\"title\\\":\\\"전 세계를 향해 또 한 번 신호탄을 쏘아 올릴, TAN [W SERIES '2TAN'(wish ver)]\\\",\\\"url\\\":\\\"https://www.melon.com/musicstory/inform.htm?mstorySeq=12609\\\",\\\"imageUrl\\\":\\\"https://cdnimg.melon.co.kr/resource/image/cds/musicstory/imgUrl20220620105042735.jpg\\\",\\\"source\\\":\\\"멜론매거진\\\",\\\"icon\\\":\\\"VIDEO\\\"},{\\\"id\\\":\\\"melon-10010-12605\\\",\\\"title\\\":\\\"반짝반짝 빛나는 6개의 보석들, Lapillus(라필루스) [HIT YA!]\\\",\\\"url\\\":\\\"https://www.melon.com/musicstory/inform.htm?mstorySeq=12605\\\",\\\"imageUrl\\\":\\\"https://cdnimg.melon.co.kr/resource/image/cds/musicstory/imgUrl20220617020544320.jpg\\\",\\\"source\\\":\\\"멜론매거진\\\",\\\"icon\\\":\\\"VIDEO\\\"}]\",\"pc_channel_melon_TOP100\":\"[{\\\"imageUrl\\\":\\\"http://kkoimg.melon.co.kr/cm2/album/images/109/09/179/10909179_20220405103521_500.jpg\\\",\\\"songName\\\":\\\"LOVE DIVE\\\",\\\"songLinkUrl\\\":\\\"https://m2.melon.com/kakaoGatePage.htm?cType1=content&cType2=song&cId=34847378&ref=\\\",\\\"artistName\\\":\\\"IVE (아이브)\\\",\\\"artistLinkUrl\\\":\\\"https://m2.melon.com/kakaoGatePage.htm?cType1=content&cType2=artist&cId=3055146&ref=\\\"},{\\\"imageUrl\\\":\\\"http://kkoimg.melon.co.kr/cm2/album/images/108/90/384/10890384_20220314111504_500.jpg\\\",\\\"songName\\\":\\\"TOMBOY\\\",\\\"songLinkUrl\\\":\\\"https://m2.melon.com/kakaoGatePage.htm?cType1=content&cType2=song&cId=34754292&ref=\\\",\\\"artistName\\\":\\\"(여자)아이들\\\",\\\"artistLinkUrl\\\":\\\"https://m2.melon.com/kakaoGatePage.htm?cType1=content&cType2=artist&cId=2137482&ref=\\\"},{\\\"imageUrl\\\":\\\"http://kkoimg.melon.co.kr/cm2/album/images/109/37/474/10937474_20220428225312_500.jpg\\\",\\\"songName\\\":\\\"That That (prod. & feat. SUGA of BTS)\\\",\\\"songLinkUrl\\\":\\\"https://m2.melon.com/kakaoGatePage.htm?cType1=content&cType2=song&cId=34997078&ref=\\\",\\\"artistName\\\":\\\"싸이 (PSY)\\\",\\\"artistLinkUrl\\\":\\\"https://m2.melon.com/kakaoGatePage.htm?cType1=content&cType2=artist&cId=3865&ref=\\\"},{\\\"imageUrl\\\":\\\"http://kkoimg.melon.co.kr/cm2/album/images/108/71/162/10871162_20220217162422_500.jpg\\\",\\\"songName\\\":\\\"사랑인가 봐\\\",\\\"songLinkUrl\\\":\\\"https://m2.melon.com/kakaoGatePage.htm?cType1=content&cType2=song&cId=34657844&ref=\\\",\\\"artistName\\\":\\\"멜로망스\\\",\\\"artistLinkUrl\\\":\\\"https://m2.melon.com/kakaoGatePage.htm?cType1=content&cType2=artist&cId=839732&ref=\\\"},{\\\"imageUrl\\\":\\\"http://kkoimg.melon.co.kr/cm2/album/images/109/23/444/10923444_20220502140600_500.jpg\\\",\\\"songName\\\":\\\"우리들의 블루스\\\",\\\"songLinkUrl\\\":\\\"https://m2.melon.com/kakaoGatePage.htm?cType1=content&cType2=song&cId=34908740&ref=\\\",\\\"artistName\\\":\\\"임영웅\\\",\\\"artistLinkUrl\\\":\\\"https://m2.melon.com/kakaoGatePage.htm?cType1=content&cType2=artist&cId=994944&ref=\\\"},{\\\"imageUrl\\\":\\\"http://kkoimg.melon.co.kr/cm2/album/images/109/25/762/10925762_20220419152007_500.jpg\\\",\\\"songName\\\":\\\"정이라고 하자 (Feat. 10CM)\\\",\\\"songLinkUrl\\\":\\\"https://m2.melon.com/kakaoGatePage.htm?cType1=content&cType2=song&cId=34927767&ref=\\\",\\\"artistName\\\":\\\"BIG Naughty (서동현)\\\",\\\"artistLinkUrl\\\":\\\"https://m2.melon.com/kakaoGatePage.htm?cType1=content&cType2=artist&cId=2744750&ref=\\\"}]\"},\"teslas\":{},\"cabinets\":null,\"board\":false},{\"code\":2396,\"type\":\"PC_CHANNEL_WEBTOON\",\"items\":{\"op\":{\"title\":\"웹툰\",\"url\":\"https://webtoon.kakao.com/\"}},\"feeds\":{\"pc_channel_webtoon\":\"[{\\\"id\\\":\\\"p_webtoon_34470347\\\",\\\"title\\\":\\\"맴매 맞자 맴매!\\\",\\\"url\\\":\\\"https://webtoon.kakao.com/viewer/106-008/164067\\\",\\\"imageUrl\\\":\\\"https://t1.daumcdn.net/section/oc/4894b212f6f8470a8ad7505963536b89\\\",\\\"source\\\":\\\"106\\\",\\\"desc\\\":null,\\\"label\\\":null,\\\"icon\\\":\\\"IMAGE\\\",\\\"position\\\":0},{\\\"id\\\":\\\"p_webtoon_34471880\\\",\\\"title\\\":\\\"선생님은 얼굴 씻을 때 비누 안 쓰세요? \\\",\\\"url\\\":\\\"https://webtoon.kakao.com/viewer/%EB%B9%84%EB%B0%80-%EC%82%AC%EC%9D%B4-093/164470\\\",\\\"imageUrl\\\":\\\"https://t1.daumcdn.net/section/oc/f6cb8106a70d468cbaca9649ac960b24\\\",\\\"source\\\":\\\"비밀 사이\\\",\\\"desc\\\":null,\\\"label\\\":null,\\\"icon\\\":\\\"IMAGE\\\",\\\"position\\\":0},{\\\"id\\\":\\\"p_webtoon_34342469\\\",\\\"title\\\":\\\"바람 좀 쐬고 올게요\\\",\\\"url\\\":\\\"https://webtoon.kakao.com/viewer/%EB%A9%B0%EB%8A%90%EB%9D%BC%EA%B8%B0-025/152666\\\",\\\"imageUrl\\\":\\\"https://t1.daumcdn.net/section/oc/a4dd7620fb694cec994948d561e2cb0a\\\",\\\"source\\\":\\\"며느라기\\\",\\\"desc\\\":null,\\\"label\\\":null,\\\"icon\\\":\\\"IMAGE\\\",\\\"position\\\":0},{\\\"id\\\":\\\"p_webtoon_34471181\\\",\\\"title\\\":\\\"사내들끼리 마시고자 하니, 자리를 비켜주시지요\\\",\\\"url\\\":\\\"https://webtoon.kakao.com/viewer/%EC%95%84%EB%B9%84%EB%AC%B4%EC%8C%8D-218/163679\\\",\\\"imageUrl\\\":\\\"https://t1.daumcdn.net/section/oc/5fc1d87051934e7682e9b80fa6a6f120\\\",\\\"source\\\":\\\"아비무쌍\\\",\\\"desc\\\":null,\\\"label\\\":null,\\\"icon\\\":\\\"IMAGE\\\",\\\"position\\\":0},{\\\"id\\\":\\\"p_webtoon_34342467\\\",\\\"title\\\":\\\"제부가 육성으로 직원을 불렀다\\\",\\\"url\\\":\\\"https://webtoon.kakao.com/viewer/%EB%B0%98%EC%A7%80%ED%95%98%EC%85%8B%EB%B0%A9-279/166394\\\",\\\"imageUrl\\\":\\\"https://t1.daumcdn.net/section/oc/fc2d842d448e48a496e6365d3de00795\\\",\\\"source\\\":\\\"반지하셋방\\\",\\\"desc\\\":null,\\\"label\\\":null,\\\"icon\\\":\\\"IMAGE\\\",\\\"position\\\":0},{\\\"id\\\":\\\"p_webtoon_34534430\\\",\\\"title\\\":\\\"잊은건 아니지? 작가님 우리 때문에 자살시도한 거\\\",\\\"url\\\":\\\"https://webtoon.kakao.com/viewer/%EC%A7%80%EA%B8%88%EB%B6%80%ED%84%B0-%EC%86%8D%ED%8E%B8%EC%9D%B4-%EC%8B%9C%EC%9E%91%EB%90%A9%EB%8B%88%EB%8B%A4-003/167819\\\",\\\"imageUrl\\\":\\\"https://t1.daumcdn.net/section/oc/73171cb0f0b244e59aa2fdb3f9039061\\\",\\\"source\\\":\\\"지금부터 속편이 시작됩니다\\\",\\\"desc\\\":null,\\\"label\\\":null,\\\"icon\\\":\\\"IMAGE\\\",\\\"position\\\":0},{\\\"id\\\":\\\"p_webtoon_34536695\\\",\\\"title\\\":\\\"그냥 수술하는 게 좋겠어. 아이를 어떻게 낳아\\\",\\\"url\\\":\\\"https://webtoon.kakao.com/viewer/%EA%B3%A4-010/162970\\\",\\\"imageUrl\\\":\\\"https://t1.daumcdn.net/section/oc/ffb34ce87dee4fdebc0285d9a515e5da\\\",\\\"source\\\":\\\"곤\\\",\\\"desc\\\":null,\\\"label\\\":null,\\\"icon\\\":\\\"IMAGE\\\",\\\"position\\\":0},{\\\"id\\\":\\\"p_webtoon_34413794\\\",\\\"title\\\":\\\"놀이터에서 한 꼬마를 만났다\\\",\\\"url\\\":\\\"https://webtoon.kakao.com/viewer/%EB%82%98%EC%9D%98-%EA%BC%AC%EB%A7%88-%EC%84%A0%EC%83%9D%EB%8B%98-009/165161\\\",\\\"imageUrl\\\":\\\"https://t1.daumcdn.net/section/oc/33105e51560948a78609a3f4886365de\\\",\\\"source\\\":\\\"나의 꼬마 선생님\\\",\\\"desc\\\":null,\\\"label\\\":null,\\\"icon\\\":\\\"IMAGE\\\",\\\"position\\\":0},{\\\"id\\\":\\\"p_webtoon_34374114\\\",\\\"title\\\":\\\"모닝 운동을 다짐한 다음 날\\\",\\\"url\\\":\\\"https://webtoon.kakao.com/viewer/%EC%8A%AC%ED%94%84%EA%B2%8C%EB%8F%84-%EC%9D%B4%EA%B2%8C-%EB%82%B4-%EC%9D%B8%EC%83%9D-168/165939\\\",\\\"imageUrl\\\":\\\"https://t1.daumcdn.net/section/oc/4bd1b88c70a741f9a4969ff66bc39d14\\\",\\\"source\\\":\\\"슬프게도 이게 내 인생 \\\",\\\"desc\\\":null,\\\"label\\\":null,\\\"icon\\\":\\\"IMAGE\\\",\\\"position\\\":0},{\\\"id\\\":\\\"p_webtoon_34415049\\\",\\\"title\\\":\\\"이것이 바로 과학의 힘!\\\",\\\"url\\\":\\\"https://webtoon.kakao.com/viewer/%EC%98%A4%EB%AC%B4%EB%9D%BC%EC%9D%B4%EC%8A%A4-%EC%9E%BC%EC%9E%BC-292/96189\\\",\\\"imageUrl\\\":\\\"https://t1.daumcdn.net/section/oc/1996531244464dc78c3693fa790b7a40\\\",\\\"source\\\":\\\"오무라이스 잼잼\\\",\\\"desc\\\":null,\\\"label\\\":null,\\\"icon\\\":\\\"IMAGE\\\",\\\"position\\\":0},{\\\"id\\\":\\\"p_webtoon_34533357\\\",\\\"title\\\":\\\"옥황상제시여! 수린당 장녀를 벌하여 주시옵소서!!\\\",\\\"url\\\":\\\"https://webtoon.kakao.com/viewer/%EC%88%98%EB%A6%B0%EB%8B%B9--%EB%B9%84%EB%8A%98-%EA%B3%A0%EC%B9%98%EB%8A%94-%EC%A7%91--065/166173\\\",\\\"imageUrl\\\":\\\"https://t1.daumcdn.net/section/oc/cb216a40e1e242589b54fd03715a7aa2\\\",\\\"source\\\":\\\"수린당 -비늘 고치는 집-\\\",\\\"desc\\\":null,\\\"label\\\":null,\\\"icon\\\":\\\"IMAGE\\\",\\\"position\\\":0},{\\\"id\\\":\\\"p_webtoon_34374082\\\",\\\"title\\\":\\\"기승전김\\\",\\\"url\\\":\\\"https://webtoon.kakao.com/viewer/%ED%80%B4%ED%80%B4%ED%95%9C-%EC%9D%BC%EA%B8%B0-581/167875\\\",\\\"imageUrl\\\":\\\"https://t1.daumcdn.net/section/oc/2c0762e160b5419881919a0a4ac5d038\\\",\\\"source\\\":\\\"퀴퀴한 일기\\\",\\\"desc\\\":null,\\\"label\\\":null,\\\"icon\\\":\\\"IMAGE\\\",\\\"position\\\":0},{\\\"id\\\":\\\"p_webtoon_34534847\\\",\\\"title\\\":\\\"어쩌다 내가 여기까지..\\\",\\\"url\\\":\\\"https://webtoon.kakao.com/viewer/%EA%B5%90%ED%99%98-%EB%82%A8%EB%85%80-013/165509\\\",\\\"imageUrl\\\":\\\"https://t1.daumcdn.net/section/oc/115e29eb293d4a248940ffb7c79901b1\\\",\\\"source\\\":\\\"교환 남녀\\\",\\\"desc\\\":null,\\\"label\\\":null,\\\"icon\\\":\\\"IMAGE\\\",\\\"position\\\":0},{\\\"id\\\":\\\"p_webtoon_34374121\\\",\\\"title\\\":\\\"대표님은 왜 그런 표정을 지으신 걸까\\\",\\\"url\\\":\\\"https://webtoon.kakao.com/viewer/%EC%A7%88%ED%88%AC%EC%9C%A0%EB%B0%9C%EC%9E%90%EB%93%A4-077/165953\\\",\\\"imageUrl\\\":\\\"https://t1.daumcdn.net/section/oc/93378132f7ba43ed9b1ec38a33e027ff\\\",\\\"source\\\":\\\"질투유발자들 \\\",\\\"desc\\\":null,\\\"label\\\":null,\\\"icon\\\":\\\"IMAGE\\\",\\\"position\\\":0},{\\\"id\\\":\\\"p_webtoon_34537725\\\",\\\"title\\\":\\\"본사에 오니 더욱 사내의 열기가 뜨겁네요\\\",\\\"url\\\":\\\"https://webtoon.kakao.com/viewer/%EC%B2%9C%EA%B4%91%EB%AA%85%EC%9B%94-050/163002\\\",\\\"imageUrl\\\":\\\"https://t1.daumcdn.net/section/oc/b832b7d47bba46fa8a9cbaaf3bcf36bd\\\",\\\"source\\\":\\\"천광명월\\\",\\\"desc\\\":null,\\\"label\\\":null,\\\"icon\\\":\\\"IMAGE\\\",\\\"position\\\":8},{\\\"id\\\":\\\"p_webtoon_34537171\\\",\\\"title\\\":\\\"왜 덕질을 그만두려는 겁니까?\\\",\\\"url\\\":\\\"https://webtoon.kakao.com/viewer/%EB%8F%84%ED%86%A0%EB%A6%AC-%EB%AC%B8%ED%99%94%EC%84%BC%ED%84%B0-038/167404\\\",\\\"imageUrl\\\":\\\"https://t1.daumcdn.net/section/oc/1c8cec515bba4cb3b498a70cf7ace7f8\\\",\\\"source\\\":\\\"도토리 문화센터\\\",\\\"desc\\\":null,\\\"label\\\":null,\\\"icon\\\":\\\"IMAGE\\\",\\\"position\\\":0},{\\\"id\\\":\\\"p_webtoon_34533300\\\",\\\"title\\\":\\\"레전드 웹툰 감상회\\\",\\\"url\\\":\\\"https://webtoon.kakao.com/event?event_id=9509798068\\\",\\\"imageUrl\\\":\\\"https://t1.daumcdn.net/section/oc/8d2bc6527f99428fb0b09bde004c842c\\\",\\\"source\\\":\\\"토이 콤플렉스\\\",\\\"desc\\\":null,\\\"label\\\":\\\"EVENT\\\",\\\"icon\\\":\\\"IMAGE\\\",\\\"position\\\":0},{\\\"id\\\":\\\"p_webtoon_34413593\\\",\\\"title\\\":\\\"왜 인수하죠? 필요한 사람만 빼가면 될 텐데\\\",\\\"url\\\":\\\"https://webtoon.kakao.com/viewer/%EB%AF%B8%EC%83%9D-295/169076\\\",\\\"imageUrl\\\":\\\"https://t1.daumcdn.net/section/oc/fc4ff2cbff5b44a9aa82337f2bdce993\\\",\\\"source\\\":\\\"미생 \\\",\\\"desc\\\":null,\\\"label\\\":null,\\\"icon\\\":\\\"IMAGE\\\",\\\"position\\\":0},{\\\"id\\\":\\\"p_webtoon_34342459\\\",\\\"title\\\":\\\"아침에 먹는 라면엔 재료 하나가 더 들어가요\\\",\\\"url\\\":\\\"https://webtoon.kakao.com/viewer/%EC%9D%B4%ED%86%A0%EB%A1%9D-%EB%B3%B4%ED%86%B5%EC%9D%98-355/167162\\\",\\\"imageUrl\\\":\\\"https://t1.daumcdn.net/section/oc/c8291719ebd64fe79b25837c98be4097\\\",\\\"source\\\":\\\"이토록 보통의 \\\",\\\"desc\\\":null,\\\"label\\\":null,\\\"icon\\\":\\\"IMAGE\\\",\\\"position\\\":0},{\\\"id\\\":\\\"p_webtoon_34374116\\\",\\\"title\\\":\\\"다시는 '아무거나'라고 말하지 않겠다\\\",\\\"url\\\":\\\"https://webtoon.kakao.com/viewer/%EB%B0%B0%EA%B3%A0%ED%94%88-%ED%82%AC%EB%9F%AC-020/164353\\\",\\\"imageUrl\\\":\\\"https://t1.daumcdn.net/section/oc/62bf30e0a4454612833709e2714efa41\\\",\\\"source\\\":\\\"배고픈 킬러\\\",\\\"desc\\\":null,\\\"label\\\":null,\\\"icon\\\":\\\"IMAGE\\\",\\\"position\\\":0}]\",\"pc_channel_webtoon_serial_ranking\":\"[{\\\"url\\\":\\\"https://webtoon.kakao.com/content/나를-잡아먹지-말아줘/2462\\\",\\\"title\\\":\\\"나를 잡아먹지 말아줘\\\",\\\"imageUrl\\\":\\\"https://kr-a.kakaopagecdn.com/P/C/2462/c1/2x/1b0b04bf-1eb4-442e-8f4d-07292bb04696.png\\\",\\\"source\\\":\\\"백지연\\\"},{\\\"url\\\":\\\"https://webtoon.kakao.com/content/아기-건물주는-이만-은퇴합니다/2904\\\",\\\"title\\\":\\\"아기 건물주는 이만 은퇴합니다\\\",\\\"imageUrl\\\":\\\"https://kr-a.kakaopagecdn.com/P/C/2904/c1/2x/3980bdf5-6bc0-435c-8912-e1d7f197e6d2.png\\\",\\\"source\\\":\\\"토요새\\\"},{\\\"url\\\":\\\"https://webtoon.kakao.com/content/도굴왕/2340\\\",\\\"title\\\":\\\"도굴왕\\\",\\\"imageUrl\\\":\\\"https://kr-a.kakaopagecdn.com/P/C/2340/c1/2x/ede4b5fb-e848-43fc-9ba3-224a584da177.png\\\",\\\"source\\\":\\\"윤쓰(Redice Studio)\\\"},{\\\"url\\\":\\\"https://webtoon.kakao.com/content/비밀-사이/1943\\\",\\\"title\\\":\\\"비밀 사이\\\",\\\"imageUrl\\\":\\\"https://kr-a.kakaopagecdn.com/P/C/1943/c1/2x/1f50e5a0-7f91-4670-adae-a38aadcdcac3.png\\\",\\\"source\\\":\\\"맥퀸스튜디오\\\"},{\\\"url\\\":\\\"https://webtoon.kakao.com/content/징크스의-연인/1339\\\",\\\"title\\\":\\\"징크스의 연인\\\",\\\"imageUrl\\\":\\\"https://kr-a.kakaopagecdn.com/P/C/1339/c1/2x/0802431e-5f83-4a07-9b77-c8bd7c4424fd.png\\\",\\\"source\\\":\\\"한지혜\\\"}]\",\"pc_channel_webtoon_finish_ranking\":\"[{\\\"url\\\":\\\"https://webtoon.kakao.com/content/나-혼자만-레벨업/2320\\\",\\\"title\\\":\\\"나 혼자만 레벨업\\\",\\\"imageUrl\\\":\\\"https://kr-a.kakaopagecdn.com/P/C/2320/c1/2x/88ac0b74-c10e-4cd9-8cf8-8fae2514ad4c.png\\\",\\\"source\\\":\\\"현군\\\"},{\\\"url\\\":\\\"https://webtoon.kakao.com/content/폭군에게는-악녀가-어울린다/2839\\\",\\\"title\\\":\\\"폭군에게는 악녀가 어울린다\\\",\\\"imageUrl\\\":\\\"https://kr-a.kakaopagecdn.com/P/C/2839/c1/2x/d2c30377-3c33-42f3-ba69-a0fb91a51001.png\\\",\\\"source\\\":\\\"나전\\\"},{\\\"url\\\":\\\"https://webtoon.kakao.com/content/어게인-마이-라이프/2530\\\",\\\"title\\\":\\\"어게인 마이 라이프\\\",\\\"imageUrl\\\":\\\"https://kr-a.kakaopagecdn.com/P/C/2530/c1/2x/b888880d-a88b-42be-ad7b-6261d789b8d2.png\\\",\\\"source\\\":\\\"도경\\\"},{\\\"url\\\":\\\"https://webtoon.kakao.com/content/우리-집에-왜-왔니/1308\\\",\\\"title\\\":\\\"우리 집에 왜 왔니\\\",\\\"imageUrl\\\":\\\"https://kr-a.kakaopagecdn.com/P/C/1308/c1/2x/4f843222-65e9-4961-93c5-4852a72a1cc9.png\\\",\\\"source\\\":\\\"이윤희\\\"},{\\\"url\\\":\\\"https://webtoon.kakao.com/content/마왕의-딸로-태어났습니다/2527\\\",\\\"title\\\":\\\"마왕의 딸로 태어났습니다\\\",\\\"imageUrl\\\":\\\"https://kr-a.kakaopagecdn.com/P/C/2527/c1/2x/1350215f-1eb8-4dbe-84c0-5b76aff39b37.png\\\",\\\"source\\\":\\\"은민\\\"}]\"},\"teslas\":{},\"cabinets\":null,\"board\":false},{\"code\":2397,\"type\":\"PC_CHANNEL_GAME\",\"items\":{\"op\":{\"title\":\"게임\",\"url\":\"https://game.daum.net/\"},\"wideImage\":{\"source\":\"오딘\",\"label\":\"NEW\",\"title\":\"업데이트\",\"url\":\"https://cafe.daum.net/odin/DEH7/48\",\"imageUrl\":\"https://t1.daumcdn.net/daumtop_chanel/op/20220608032436112.png\"},\"image1\":{\"source\":\"게임 뉴스\",\"title\":\"우마무스메,  출시 당일 앱스토어 1위 등극\",\"url\":\"https://news.v.daum.net/v/20220621003716654\",\"imageUrl\":\"https://t1.daumcdn.net/daumtop_chanel/op/20220620022151064.png\"},\"image2\":{\"source\":\"게임 뉴스\",\"title\":\"카카오게임즈 '프렌즈팝콘',  기부 이벤트 진행\",\"url\":\"https://news.v.daum.net/v/20220621131009478\",\"imageUrl\":\"https://t1.daumcdn.net/daumtop_chanel/op/20220621061021860.png\"},\"image3\":{\"source\":\"게임 유머\",\"title\":\"큰일날 뻔 했잖아 야옹아...\",\"url\":\"https://cafe.daum.net/ok1221/9Zdf/2658530\",\"imageUrl\":\"https://t1.daumcdn.net/daumtop_chanel/op/20220609070105394.png\"},\"image4\":{\"source\":\"게임 유머\",\"title\":\"허리에 좋은 컴퓨터 자세\",\"url\":\"https://cafe.daum.net/ok1221/9Zdf/2680235\",\"imageUrl\":\"https://t1.daumcdn.net/daumtop_chanel/op/20220621061039541.png\"},\"image5\":{\"source\":\"게임 유머\",\"title\":\"이거 은근 꿀잼\",\"url\":\"https://cafe.daum.net/Tlwkftlqkftlldlqkf/8vJr/322410?q=%EA%B5%AC%EA%B8%80%EB%A7%B5%20%EA%B2%8C%EC%9E%84\",\"imageUrl\":\"https://t1.daumcdn.net/daumtop_chanel/op/20220617054315235.png\"},\"image6\":{\"source\":\"게임 유머\",\"title\":\"소장욕구 뿜뿜하는 컵\",\"url\":\"https://cafe.daum.net/dotax/Elgq/3958470?q=%EA%B2%8C%EC%9E%84\",\"imageUrl\":\"https://t1.daumcdn.net/daumtop_chanel/op/20220614042209100.png\"},\"recommendedGameText1\":{\"source\":\"패스 오브 엑자일\",\"title\":\"이것이 진짜 핵앤슬래시!\",\"url\":\"https://poe.game.daum.net/\"},\"recommendedGameText2\":{\"source\":\"배틀그라운드\",\"title\":\"최후의 순간까지 살아남아라!\",\"url\":\"https://pubg.game.daum.net/\"},\"recommendedGameText3\":{\"source\":\"뮤템페스트\",\"title\":\"MU의 새로운 파란! 뮤 템페스트\",\"url\":\"http://game.daum.net/cn/muignition2?utm_source=daum&utm_medium=display&utm_campaign=201712-1_mutempest_open&utm_content=daum_main_gamestory_banner\"},\"recommendedGameText4\":{\"source\":\"파이널판타지14\",\"title\":\"파이널판타지14! 열광하라!\",\"url\":\"http://game.daum.net/cn/ff14\"},\"recommendedGameText5\":{\"source\":\"엘리온\",\"title\":\"이제 에녹에서 화끈하게 붙어보자\",\"url\":\"https://elyon.game.daum.net/?utm_source=daum&utm_medium=display&utm_campaign=2021-07-22_ER_launch&utm_content=tab_banner\"},\"recommendedGameImage1\":{\"source\":\"이터널 리턴\",\"title\":\"시즌6 진행 중!\",\"url\":\"https://er.game.daum.net/main?utm_source=daum&utm_medium=display&utm_campaign=2022-05-26_er_season6&utm_content=gametab\",\"imageUrl\":\"https://t1.daumcdn.net/daumtop_chanel/op/20220526120015355.png\"},\"recommendedGameImage2\":{\"source\":\"배틀그라운드\",\"title\":\"사녹의 귀환\",\"url\":\"http://pubg.kakaogames.com/\",\"imageUrl\":\"https://t1.daumcdn.net/daumtop_chanel/op/20220413055626519.png\"}},\"feeds\":{},\"teslas\":{},\"cabinets\":null,\"board\":false},{\"code\":2398,\"type\":\"PC_CHANNEL_TOGETHER\",\"items\":{\"op\":{\"title\":\"카카오같이가치\",\"url\":\"https://together.kakao.com/\"},\"image1\":{\"source\":\"온해피\",\"label\":\"\",\"title\":\"세계에서 가장 가난한 나라 '이곳'\",\"url\":\"https://together.kakao.com/fundraisings/96694\",\"imageUrl\":\"https://t1.daumcdn.net/daumtop_chanel/op/20220620110957380.png\"},\"image2\":{\"source\":\"산격종합사회복지관\",\"label\":null,\"title\":\"자전거의 핸들을 자세히 봐주세요\",\"url\":\"https://together.kakao.com/fundraisings/96993\",\"imageUrl\":\"https://t1.daumcdn.net/daumtop_chanel/op/20220620111026537.jpg\"},\"image3\":{\"source\":\"구립종로 노인종합복지관\",\"label\":null,\"title\":\"1인 1닭, 생각보다 어려운 진짜 이유\",\"url\":\"https://together.kakao.com/fundraisings/95775\",\"imageUrl\":\"https://t1.daumcdn.net/daumtop_chanel/op/20220620111052774\"},\"image4\":{\"source\":\"환경교육센터\",\"label\":\"\",\"title\":\"바닷가에 왜 냉장고가 있나요?\",\"url\":\"https://together.kakao.com/fundraisings/96597\",\"imageUrl\":\"https://t1.daumcdn.net/daumtop_chanel/op/20220620111125019.png\"},\"image5\":{\"source\":\"양지노인복지관\",\"label\":null,\"title\":\"어르신이 적어온 글의 놀라운 내용\",\"url\":\"https://together.kakao.com/fundraisings/96921\",\"imageUrl\":\"https://t1.daumcdn.net/daumtop_chanel/op/20220620111202960\"},\"image6\":{\"source\":\"봉화군 노인복지관\",\"label\":null,\"title\":\"계곡 바로 옆 초가집, 비상입니다\",\"url\":\"https://together.kakao.com/fundraisings/96477\",\"imageUrl\":\"https://t1.daumcdn.net/daumtop_chanel/op/20220620111229987.png\"},\"image7\":{\"source\":\"세계교육문화원\",\"label\":\"\",\"title\":\"뻥 뚫린 마스크에 숨겨진 엄청난 중요성\",\"url\":\"https://together.kakao.com/fundraisings/95847\",\"imageUrl\":\"https://t1.daumcdn.net/daumtop_chanel/op/20220620111254262.jpg\"},\"image8\":{\"source\":\"해피피플\",\"label\":\"\",\"title\":\"커피 찌꺼기로 이게 가능하다고요?\",\"url\":\"https://together.kakao.com/fundraisings/95835\",\"imageUrl\":\"https://t1.daumcdn.net/daumtop_chanel/op/20220620111402133.png\"}},\"feeds\":{\"pc_channel_together_recommend\":\"{\\\"link\\\":\\\"https://together.kakao.com/hello/essential/accumulated\\\",\\\"channels\\\":[{\\\"channelName\\\":\\\"일이 많아요\\\",\\\"link\\\":\\\"https://together.kakao.com/tags/%ED%9A%8C%EC%82%AC%EC%97%90%EC%84%9C\\\",\\\"image\\\":\\\"https://mk.kakaocdn.net/dn/together/images/daum_home/tag_list/12.png\\\"},{\\\"channelName\\\":\\\"심심해요\\\",\\\"link\\\":\\\"https://together.kakao.com/hello/essential/accumulated\\\",\\\"image\\\":\\\"https://mk.kakaocdn.net/dn/together/images/daum_home/tag_list/01.png\\\"},{\\\"channelName\\\":\\\"행복해요\\\",\\\"link\\\":\\\"https://together.kakao.com/tags/%ED%96%89%EB%B3%B5\\\",\\\"image\\\":\\\"https://mk.kakaocdn.net/dn/together/images/daum_home/tag_list/11.png\\\"},{\\\"channelName\\\":\\\"용기가 필요해~\\\",\\\"link\\\":\\\"https://together.kakao.com/tags/%EC%9A%A9%EA%B8%B0%EA%B0%80%ED%95%84%EC%9A%94%ED%95%A0%EB%95%8C\\\",\\\"image\\\":\\\"https://mk.kakaocdn.net/dn/together/images/daum_home/tag_list/06.png\\\"},{\\\"channelName\\\":\\\"고민이 있어요\\\",\\\"link\\\":\\\"https://together.kakao.com/tags/%EA%B3%A0%EB%AF%BC%EC%9D%B4%EC%9E%88%EC%9D%84%EB%95%8C\\\",\\\"image\\\":\\\"https://mk.kakaocdn.net/dn/together/images/daum_home/tag_list/04.png\\\"},{\\\"channelName\\\":\\\"쉬고 싶어요\\\",\\\"link\\\":\\\"https://together.kakao.com/tags/%EC%88%B2%EC%86%8D%EC%97%90%EC%84%9C?from=2\\\",\\\"image\\\":\\\"https://mk.kakaocdn.net/dn/together/images/daum_home/tag_list/09.png\\\"}]}\",\"pc_channel_together_best\":\"{\\\"link\\\":\\\"https://together.kakao.com/mind/sounds\\\",\\\"items\\\":[{\\\"contentTitle\\\":\\\"[힐링사운드] 추억이 많은 바닷가\\\",\\\"contentLink\\\":\\\"https://together.kakao.com/mind/55\\\"},{\\\"contentTitle\\\":\\\"[힐링사운드] 독서에 필요한 바다소리\\\",\\\"contentLink\\\":\\\"https://together.kakao.com/mind/54\\\"},{\\\"contentTitle\\\":\\\"[힐링사운드] 태양이 저무는 해변\\\",\\\"contentLink\\\":\\\"https://together.kakao.com/mind/154\\\"},{\\\"contentTitle\\\":\\\"[힐링사운드] 빗소리 아래 생각이 잠겨\\\",\\\"contentLink\\\":\\\"https://together.kakao.com/mind/39\\\"},{\\\"contentTitle\\\":\\\"[마음챙김] 정신없이 바쁠 때 듣기 좋은 명상\\\",\\\"contentLink\\\":\\\"https://together.kakao.com/mind/111\\\"}]}\",\"pc_channel_together_items\":\"[{\\\"imageUrl\\\":\\\"https://mud-kage.kakaocdn.net/dn/c0aAKD/btrAeJwGOko/ngeNEw5MLQl29CIxbSKp6K/c360.jpg\\\",\\\"label\\\":null,\\\"title\\\":\\\"아이와 함께하는 성장 기록\\\",\\\"url\\\":\\\"https://together.kakao.com/fundraisings/96125/story\\\",\\\"source\\\":\\\"파랑새종합사회복지관\\\"},{\\\"imageUrl\\\":\\\"https://mud-kage.kakaocdn.net/dn/d9qTV8/btrCib5PtTp/7IuEFbrr1zGXzEPjzBiiD0/c360.jpg\\\",\\\"label\\\":null,\\\"title\\\":\\\"홀로된 어르신들에게 든든한 식사 선물하기\\\",\\\"url\\\":\\\"https://together.kakao.com/fundraisings/96626/story\\\",\\\"source\\\":\\\"중구노인복지관\\\"},{\\\"imageUrl\\\":\\\"https://mud-kage.kakaocdn.net/dn/covXfo/btrB5ASUFZ4/TJ1I4S5DAxZgqPS1YRv3f0/c360.jpg\\\",\\\"label\\\":null,\\\"title\\\":\\\"“어르신, 안녕하세요쿠르트”\\\",\\\"url\\\":\\\"https://together.kakao.com/fundraisings/96643/story\\\",\\\"source\\\":\\\"종로노인종합복지관\\\"},{\\\"imageUrl\\\":\\\"https://mud-kage.kakaocdn.net/dn/LsaxE/btrAPfVTBAr/fxXK9MtQXw26zeoPaYMel1/c360.jpg\\\",\\\"label\\\":null,\\\"title\\\":\\\"반려동물, 사지 말고 입양해야 하는 이유\\\",\\\"url\\\":\\\"https://together.kakao.com/fundraisings/96287/story\\\",\\\"source\\\":\\\"사단법인 동물권행동 카라\\\"},{\\\"imageUrl\\\":\\\"https://mud-kage.kakaocdn.net/dn/c6ZoIr/btrCko4g29x/TTK8JViKpUIvkj1tGON2mk/c360.jpg\\\",\\\"label\\\":null,\\\"title\\\":\\\"비대면 시대 속 어르신들, 스마트폰이 어려워\\\",\\\"url\\\":\\\"https://together.kakao.com/fundraisings/96667/story\\\",\\\"source\\\":\\\"광진노인종합복지관\\\"},{\\\"imageUrl\\\":\\\"https://mud-kage.kakaocdn.net/dn/btKcV4/btrCwuKrDc0/tELTCQHBvfcHqixkDTLpg0/c360.jpg\\\",\\\"label\\\":null,\\\"title\\\":\\\"내가 심은 나무 한 그루가 모두를 위한 숲으로\\\",\\\"url\\\":\\\"https://together.kakao.com/fundraisings/96761/story\\\",\\\"source\\\":\\\"(사)평화의숲\\\"},{\\\"imageUrl\\\":\\\"https://mud-kage.kakaocdn.net/dn/ZqXoi/btrARgF4kNI/b2qf2nHJDMKapSeakKupO0/c360.jpg\\\",\\\"label\\\":null,\\\"title\\\":\\\"특별한 아이 수호의 이야기\\\",\\\"url\\\":\\\"https://together.kakao.com/fundraisings/96292/story\\\",\\\"source\\\":\\\"(사)굿피플\\\"},{\\\"imageUrl\\\":\\\"https://mud-kage.kakaocdn.net/dn/cG74II/btrBR9z0q7Q/f2OEdCVZKRiptEZkZ6N6J0/c360.jpg\\\",\\\"label\\\":null,\\\"title\\\":\\\"바다의 불편한 진실, 알고 있나요?\\\",\\\"url\\\":\\\"https://together.kakao.com/fundraisings/96597/story\\\",\\\"source\\\":\\\"사단법인 환경교육센터\\\"},{\\\"imageUrl\\\":\\\"https://mud-kage.kakaocdn.net/dn/cF392R/btrBUUJ3GvB/KB13kXDcXknVeI0ornE3Xk/img.png\\\",\\\"label\\\":null,\\\"title\\\":\\\"부족한 부모지만, 사랑해 우리 딸\\\",\\\"url\\\":\\\"https://together.kakao.com/fundraisings/96316/story\\\",\\\"source\\\":\\\"인천장애인종합복지관\\\"},{\\\"imageUrl\\\":\\\"https://mud-kage.kakaocdn.net/dn/tEIKH/btrBa7C4fpc/0NhWMwPm7Dner5ebpGKmGK/img.png\\\",\\\"label\\\":null,\\\"title\\\":\\\"수달이 돌아온 한강을 위하여\\\",\\\"url\\\":\\\"https://together.kakao.com/fundraisings/95937/story\\\",\\\"source\\\":\\\"사회적협동조합 한강\\\"},{\\\"imageUrl\\\":\\\"https://mud-kage.kakaocdn.net/dn/Tfo8H/btrDfXRYeuv/Fhz5TAMnJkoQjfZL4BU7G0/img.png\\\",\\\"label\\\":null,\\\"title\\\":\\\"쪽방촌 어르신들의 시원한 여름을 위해\\\",\\\"url\\\":\\\"https://together.kakao.com/fundraisings/96665/story\\\",\\\"source\\\":\\\"해피피플\\\"},{\\\"imageUrl\\\":\\\"https://mud-kage.kakaocdn.net/dn/RtcBY/btrBgb61kpO/jhR0ZBl3HJ3SxuFQuXJKU1/c360.jpg\\\",\\\"label\\\":null,\\\"title\\\":\\\"빛나는 자립준비청년, 너의 꿈을 응원할게!\\\",\\\"url\\\":\\\"https://together.kakao.com/fundraisings/96354/story\\\",\\\"source\\\":\\\"지파운데이션 사회적협동조합\\\"},{\\\"imageUrl\\\":\\\"https://mud-kage.kakaocdn.net/dn/bfPKp1/btrAxmaKXe1/1WfAybxAz4e0y3PWMT26Fk/c360.jpg\\\",\\\"label\\\":null,\\\"title\\\":\\\"예방 접종이 어린이의 생명과 안전을 지킵니다\\\",\\\"url\\\":\\\"https://together.kakao.com/fundraisings/96229/story\\\",\\\"source\\\":\\\"유니세프한국위원회\\\"},{\\\"imageUrl\\\":\\\"https://mud-kage.kakaocdn.net/dn/9fm7K/btrC7AQBlls/kqQ5TfK8uonOHBG0nkaxB1/c360.jpg\\\",\\\"label\\\":null,\\\"title\\\":\\\"보육원에 사는 어느 형제의 소원\\\",\\\"url\\\":\\\"https://together.kakao.com/fundraisings/96918/story\\\",\\\"source\\\":\\\"EBS나눔0700 위원회\\\"},{\\\"imageUrl\\\":\\\"https://mud-kage.kakaocdn.net/dn/sbk08/btrCtvV8fPT/DkMENDmMZ4DzFSmvZ6U5uk/img.jpg\\\",\\\"label\\\":null,\\\"title\\\":\\\"건강한 여름을 위해서는 아삭한 이 OO김치! \\\",\\\"url\\\":\\\"https://together.kakao.com/fundraisings/96558/story\\\",\\\"source\\\":\\\"전주장애인종합복지관\\\"}]\"},\"teslas\":{},\"cabinets\":null,\"board\":false}]},\"decoration\":{\"PC_PHOTOBOX\":{\"code\":2383,\"type\":\"PC_PHOTOBOX\",\"items\":{\"운영\":{\"title\":\"오늘의 포토\",\"url\":null}},\"feeds\":{\"daumtop_todayphoto_popular\":\"[{\\\"title\\\":\\\"[포토] 유연석, 다정한 미소\\\",\\\"imageUrl\\\":\\\"https://t1.daumcdn.net/news/202206/21/ilgansports/20220621205823825kunl.jpg\\\",\\\"source\\\":\\\"일간스포츠\\\",\\\"url\\\":\\\"https://gallery.v.daum.net/p/viewer/1007/20220621205822342\\\"},{\\\"title\\\":\\\"북한, '누리호' 의식..발사일 맞춰 또 '광명성 4호' 영화 방영\\\",\\\"imageUrl\\\":\\\"https://t1.daumcdn.net/news/202206/22/yonhap/20220622123424874mluz.jpg\\\",\\\"source\\\":\\\"연합뉴스\\\",\\\"url\\\":\\\"https://gallery.v.daum.net/p/viewer/5204870/20220622123424780\\\"},{\\\"title\\\":\\\"[서울포토] 열정 가득한 아트앤디자인 실기대회\\\",\\\"imageUrl\\\":\\\"https://t1.daumcdn.net/news/202206/22/seoul/20220622154113234allm.jpg\\\",\\\"source\\\":\\\"서울신문\\\",\\\"url\\\":\\\"https://gallery.v.daum.net/p/viewer/674200/20220622154112767\\\"},{\\\"title\\\":\\\"윤은혜, 곧 40살 되는 거 맞아? 대학생 같은 청순美 '폭발'[스타IN★]\\\",\\\"imageUrl\\\":\\\"https://t1.daumcdn.net/news/202206/22/starnews/20220622152123903ntec.jpg\\\",\\\"source\\\":\\\"스타뉴스\\\",\\\"url\\\":\\\"https://gallery.v.daum.net/p/viewer/256/20220622152122743\\\"},{\\\"title\\\":\\\"김빈우, ♥남편 끌어안고 '달달'..\\\\\\\"점심 데이트\\\\\\\" [리포트:컷]\\\",\\\"imageUrl\\\":\\\"https://t1.daumcdn.net/news/202206/22/tvreport/20220622140034137xgfy.jpg\\\",\\\"source\\\":\\\"TV리포트\\\",\\\"url\\\":\\\"https://gallery.v.daum.net/p/viewer/969/20220622140030131\\\"},{\\\"title\\\":\\\"이유리-정상훈 '앙숙 부부' [MK포토]\\\",\\\"imageUrl\\\":\\\"https://t1.daumcdn.net/news/202206/22/mksports/20220622145111210ojqs.jpg\\\",\\\"source\\\":\\\"MK스포츠\\\",\\\"url\\\":\\\"https://gallery.v.daum.net/p/viewer/977/20220622145110380\\\"},{\\\"title\\\":\\\"이동국-이재시 부녀 '이보다 잘 할 수 없다'[포토]\\\",\\\"imageUrl\\\":\\\"https://t1.daumcdn.net/news/202206/20/HockeyNewsKorea/20220620210505013afqz.jpg\\\",\\\"source\\\":\\\"MHN스포츠\\\",\\\"url\\\":\\\"https://gallery.v.daum.net/p/viewer/5038602/20220620210502908\\\"},{\\\"title\\\":\\\"레드벨벳 조이, 인형이 인사하네 [포토엔HD]\\\",\\\"imageUrl\\\":\\\"https://t1.daumcdn.net/news/202206/22/newsen/20220622134050866xemm.jpg\\\",\\\"source\\\":\\\"뉴스엔\\\",\\\"url\\\":\\\"https://gallery.v.daum.net/p/viewer/987/20220622134048382\\\"},{\\\"title\\\":\\\"김태리, '아가씨' 어린 히데코 만났다..꼭 끌어안고 투샷[스타IN★]\\\",\\\"imageUrl\\\":\\\"https://t1.daumcdn.net/news/202206/22/starnews/20220622154212464lywl.jpg\\\",\\\"source\\\":\\\"스타뉴스\\\",\\\"url\\\":\\\"https://gallery.v.daum.net/p/viewer/251/20220622154211822\\\"},{\\\"title\\\":\\\"설인아, 러블리 그 자체..사랑스러운 미소 [리포트:컷]\\\",\\\"imageUrl\\\":\\\"https://t1.daumcdn.net/news/202206/22/tvreport/20220622140101512pjss.jpg\\\",\\\"source\\\":\\\"TV리포트\\\",\\\"url\\\":\\\"https://gallery.v.daum.net/p/viewer/246/20220622140100150\\\"},{\\\"title\\\":\\\"'룸쉐어링' 최우성, 훈훈 비주얼에 풋풋 소년미까지 [N화보]\\\",\\\"imageUrl\\\":\\\"https://t1.daumcdn.net/news/202206/22/NEWS1/20220622150108146jeff.jpg\\\",\\\"source\\\":\\\"뉴스1\\\",\\\"url\\\":\\\"https://gallery.v.daum.net/p/viewer/261/20220622150106818\\\"},{\\\"title\\\":\\\"스트레이키즈 아이엔 '상큼한 레몬'[포토엔HD]\\\",\\\"imageUrl\\\":\\\"https://t1.daumcdn.net/news/202206/22/newsen/20220622123824303wtib.jpg\\\",\\\"source\\\":\\\"뉴스엔\\\",\\\"url\\\":\\\"https://gallery.v.daum.net/p/viewer/250/20220622123823836\\\"},{\\\"title\\\":\\\"[포토친구] 보리수가 있는 풍경\\\",\\\"imageUrl\\\":\\\"https://t1.daumcdn.net/news/202206/22/kppa/20220622150023131tdfp.jpg\\\",\\\"source\\\":\\\"포토친구\\\",\\\"url\\\":\\\"https://gallery.v.daum.net/p/viewer/379/20220622150022790\\\"},{\\\"title\\\":\\\"수입품목 할당관세 0%, 물가 잡힐까?\\\",\\\"imageUrl\\\":\\\"https://t1.daumcdn.net/news/202206/22/newsis/20220622141746931smam.jpg\\\",\\\"source\\\":\\\"뉴시스\\\",\\\"url\\\":\\\"https://gallery.v.daum.net/p/viewer/321090/20220622141746753\\\"},{\\\"title\\\":\\\"원자력 공장 방문한 윤석열 대통령 \\\\\\\"지난 5년간 탈원전 바보짓\\\\\\\" [뉴시스Pic]\\\",\\\"imageUrl\\\":\\\"https://t1.daumcdn.net/news/202206/22/newsis/20220622151456288jvez.jpg\\\",\\\"source\\\":\\\"뉴시스\\\",\\\"url\\\":\\\"https://gallery.v.daum.net/p/viewer/5018824/20220622151456399\\\"},{\\\"title\\\":\\\"PM 타고 관광지 순찰\\\",\\\"imageUrl\\\":\\\"https://t1.daumcdn.net/news/202206/22/kookje/20220622030220837yymj.jpg\\\",\\\"source\\\":\\\"국제신문\\\",\\\"url\\\":\\\"https://gallery.v.daum.net/p/viewer/5035065/20220622030219768\\\"},{\\\"title\\\":\\\"더불어민주당, '민생안정' 위한 서민금융 지원대책 간담회 [TF사진관]\\\",\\\"imageUrl\\\":\\\"https://t1.daumcdn.net/news/202206/22/THEFACT/20220622153926738blqt.jpg\\\",\\\"source\\\":\\\"더팩트\\\",\\\"url\\\":\\\"https://gallery.v.daum.net/p/viewer/5024184/20220622153923660\\\"},{\\\"title\\\":\\\"강제 퇴거 유예 연장 요구하는 브라질 시위대\\\",\\\"imageUrl\\\":\\\"https://t1.daumcdn.net/news/202206/22/newsis/20220622115959007glcs.jpg\\\",\\\"source\\\":\\\"뉴시스\\\",\\\"url\\\":\\\"https://gallery.v.daum.net/p/viewer/5031175/20220622115958800\\\"},{\\\"title\\\":\\\"푸틴 대통령 행사 배석한 쇼이구 러시아 국방장관\\\",\\\"imageUrl\\\":\\\"https://t1.daumcdn.net/news/202206/22/yonhap/20220622140313301yzyf.jpg\\\",\\\"source\\\":\\\"연합뉴스\\\",\\\"url\\\":\\\"https://gallery.v.daum.net/p/viewer/2322/20220622140313256\\\"},{\\\"title\\\":\\\"경부고속도로서 트럭 추돌 화재..50대 운전자 숨져\\\",\\\"imageUrl\\\":\\\"https://t1.daumcdn.net/news/202206/22/dgmbc/20220622102354474fqzl.jpg\\\",\\\"source\\\":\\\"대구MBC\\\",\\\"url\\\":\\\"https://gallery.v.daum.net/p/viewer/1518/20220622102350978\\\"},{\\\"title\\\":\\\"미해군 함정과 대치한 이란 혁명수비대 고속정\\\",\\\"imageUrl\\\":\\\"https://t1.daumcdn.net/news/202206/21/yonhap/20220621225815373dhgk.jpg\\\",\\\"source\\\":\\\"연합뉴스\\\",\\\"url\\\":\\\"https://gallery.v.daum.net/p/viewer/5031013/20220621225815290\\\"},{\\\"title\\\":\\\"경부고속도로서 트럭 추돌 화재..50대 운전자 숨져\\\",\\\"imageUrl\\\":\\\"https://t1.daumcdn.net/news/202206/22/dgmbc/20220622102354474fqzl.jpg\\\",\\\"source\\\":\\\"대구MBC\\\",\\\"url\\\":\\\"https://gallery.v.daum.net/p/viewer/1473/20220622102350978\\\"},{\\\"title\\\":\\\"[아하! 우주] 우주전쟁 예고? 러시아 미사일에 국제우주정거장 또 회피 기동\\\",\\\"imageUrl\\\":\\\"https://t1.daumcdn.net/news/202206/21/seoul/20220621152606808babt.jpg\\\",\\\"source\\\":\\\"서울신문\\\",\\\"url\\\":\\\"https://gallery.v.daum.net/p/viewer/1497/20220621152605667\\\"},{\\\"title\\\":\\\"파리 도심서 부산엑스포 알렸다..정부, BIE총회서 홍보 총력전\\\",\\\"imageUrl\\\":\\\"https://t1.daumcdn.net/news/202206/22/yonhap/20220622132936911xaex.jpg\\\",\\\"source\\\":\\\"연합뉴스\\\",\\\"url\\\":\\\"https://gallery.v.daum.net/p/viewer/5029622/20220622132936991\\\"},{\\\"title\\\":\\\"손희원 회장 '6.25 참전용사의 시구' [MK포토]\\\",\\\"imageUrl\\\":\\\"https://t1.daumcdn.net/news/202206/21/mksports/20220621185410050xake.jpg\\\",\\\"source\\\":\\\"MK스포츠\\\",\\\"url\\\":\\\"https://gallery.v.daum.net/p/viewer/5031202/20220621185408347\\\"},{\\\"title\\\":\\\"[포토뉴스]최고의 반려견 경쟁..美 '웨스트민스터 켄넬 클럽 도그쇼'\\\",\\\"imageUrl\\\":\\\"https://t1.daumcdn.net/news/202206/22/munhwa/20220622133508549tzgv.jpg\\\",\\\"source\\\":\\\"문화일보\\\",\\\"url\\\":\\\"https://gallery.v.daum.net/p/viewer/1476/20220622133506188\\\"},{\\\"title\\\":\\\"아스날, 중원 보강 성공! 비에이라 영입 완료..'5년 계약+476억 원' [공식발표]\\\",\\\"imageUrl\\\":\\\"https://t1.daumcdn.net/news/202206/22/poctan/20220622070141276obwi.jpg\\\",\\\"source\\\":\\\"OSEN\\\",\\\"url\\\":\\\"https://gallery.v.daum.net/p/viewer/327349/20220622070140162\\\"},{\\\"title\\\":\\\"세리나 윌리엄스, 1년 만의 복귀전 '복식 승리'\\\",\\\"imageUrl\\\":\\\"https://t1.daumcdn.net/news/202206/22/newsis/20220622082428520vwly.jpg\\\",\\\"source\\\":\\\"뉴시스\\\",\\\"url\\\":\\\"https://gallery.v.daum.net/p/viewer/13132/20220622082428633\\\"},{\\\"title\\\":\\\"세리머니 하는 정해영·박동원 배터리\\\",\\\"imageUrl\\\":\\\"https://t1.daumcdn.net/news/202206/21/yonhap/20220621214935672llcn.jpg\\\",\\\"source\\\":\\\"연합뉴스\\\",\\\"url\\\":\\\"https://gallery.v.daum.net/p/viewer/5030237/20220621214935348\\\"},{\\\"title\\\":\\\"김하성 1타점 적시타, SD 연장 끝 승리\\\",\\\"imageUrl\\\":\\\"https://t1.daumcdn.net/news/202206/22/newsis/20220622144909211fmyk.jpg\\\",\\\"source\\\":\\\"뉴시스\\\",\\\"url\\\":\\\"https://gallery.v.daum.net/p/viewer/5145066/20220622144909262\\\"}]\"}},\"HEADER_WEATHER\":{\"code\":2384,\"type\":\"HEADER_WEATHER\",\"items\":{},\"feeds\":{\"header_weather_json\":\"[{\\\"region\\\":\\\"서울특별시\\\",\\\"temperature\\\":\\\"31\\\",\\\"weatherIconName\\\":\\\"흐림\\\",\\\"weatherIconNightYn\\\":\\\"N\\\",\\\"weatherIconCode\\\":\\\"4\\\"},{\\\"region\\\":\\\"경기도\\\",\\\"temperature\\\":\\\"29\\\",\\\"weatherIconName\\\":\\\"흐림\\\",\\\"weatherIconNightYn\\\":\\\"N\\\",\\\"weatherIconCode\\\":\\\"4\\\"},{\\\"region\\\":\\\"인천광역시\\\",\\\"temperature\\\":\\\"30\\\",\\\"weatherIconName\\\":\\\"흐림\\\",\\\"weatherIconNightYn\\\":\\\"N\\\",\\\"weatherIconCode\\\":\\\"4\\\"},{\\\"region\\\":\\\"대구광역시\\\",\\\"temperature\\\":\\\"37\\\",\\\"weatherIconName\\\":\\\"맑음\\\",\\\"weatherIconNightYn\\\":\\\"N\\\",\\\"weatherIconCode\\\":\\\"1\\\"},{\\\"region\\\":\\\"대전광역시\\\",\\\"temperature\\\":\\\"34\\\",\\\"weatherIconName\\\":\\\"구름많음\\\",\\\"weatherIconNightYn\\\":\\\"N\\\",\\\"weatherIconCode\\\":\\\"3\\\"},{\\\"region\\\":\\\"광주광역시\\\",\\\"temperature\\\":\\\"33\\\",\\\"weatherIconName\\\":\\\"맑음\\\",\\\"weatherIconNightYn\\\":\\\"N\\\",\\\"weatherIconCode\\\":\\\"1\\\"},{\\\"region\\\":\\\"부산광역시\\\",\\\"temperature\\\":\\\"31\\\",\\\"weatherIconName\\\":\\\"맑음\\\",\\\"weatherIconNightYn\\\":\\\"N\\\",\\\"weatherIconCode\\\":\\\"1\\\"},{\\\"region\\\":\\\"울산광역시\\\",\\\"temperature\\\":\\\"30\\\",\\\"weatherIconName\\\":\\\"맑음\\\",\\\"weatherIconNightYn\\\":\\\"N\\\",\\\"weatherIconCode\\\":\\\"1\\\"},{\\\"region\\\":\\\"경상북도\\\",\\\"temperature\\\":\\\"28\\\",\\\"weatherIconName\\\":\\\"맑음\\\",\\\"weatherIconNightYn\\\":\\\"N\\\",\\\"weatherIconCode\\\":\\\"1\\\"},{\\\"region\\\":\\\"강원도\\\",\\\"temperature\\\":\\\"33\\\",\\\"weatherIconName\\\":\\\"흐림\\\",\\\"weatherIconNightYn\\\":\\\"N\\\",\\\"weatherIconCode\\\":\\\"4\\\"},{\\\"region\\\":\\\"강원도\\\",\\\"temperature\\\":\\\"31\\\",\\\"weatherIconName\\\":\\\"흐림\\\",\\\"weatherIconNightYn\\\":\\\"N\\\",\\\"weatherIconCode\\\":\\\"4\\\"},{\\\"region\\\":\\\"인천광역시\\\",\\\"temperature\\\":\\\"22\\\",\\\"weatherIconName\\\":\\\"구름많음\\\",\\\"weatherIconNightYn\\\":\\\"N\\\",\\\"weatherIconCode\\\":\\\"3\\\"},{\\\"region\\\":\\\"충청북도\\\",\\\"temperature\\\":\\\"34\\\",\\\"weatherIconName\\\":\\\"맑음\\\",\\\"weatherIconNightYn\\\":\\\"N\\\",\\\"weatherIconCode\\\":\\\"1\\\"},{\\\"region\\\":\\\"전라북도\\\",\\\"temperature\\\":\\\"31\\\",\\\"weatherIconName\\\":\\\"맑음\\\",\\\"weatherIconNightYn\\\":\\\"N\\\",\\\"weatherIconCode\\\":\\\"1\\\"},{\\\"region\\\":\\\"전라남도\\\",\\\"temperature\\\":\\\"27\\\",\\\"weatherIconName\\\":\\\"맑음\\\",\\\"weatherIconNightYn\\\":\\\"N\\\",\\\"weatherIconCode\\\":\\\"1\\\"},{\\\"region\\\":\\\"전라남도\\\",\\\"temperature\\\":\\\"28\\\",\\\"weatherIconName\\\":\\\"맑음\\\",\\\"weatherIconNightYn\\\":\\\"N\\\",\\\"weatherIconCode\\\":\\\"1\\\"},{\\\"region\\\":\\\"제주특별자치도\\\",\\\"temperature\\\":\\\"26\\\",\\\"weatherIconName\\\":\\\"구름많음\\\",\\\"weatherIconNightYn\\\":\\\"N\\\",\\\"weatherIconCode\\\":\\\"3\\\"},{\\\"region\\\":\\\"경상북도\\\",\\\"temperature\\\":\\\"35\\\",\\\"weatherIconName\\\":\\\"맑음\\\",\\\"weatherIconNightYn\\\":\\\"N\\\",\\\"weatherIconCode\\\":\\\"1\\\"},{\\\"region\\\":\\\"경상남도\\\",\\\"temperature\\\":\\\"31\\\",\\\"weatherIconName\\\":\\\"맑음\\\",\\\"weatherIconNightYn\\\":\\\"N\\\",\\\"weatherIconCode\\\":\\\"1\\\"}]\"}},\"HOT_SEARCHED_WORD\":{\"code\":2385,\"type\":\"HOT_SEARCHED_WORD\",\"items\":{},\"feeds\":{\"hot_searched_word\":\"[[{\\\"keyword\\\":\\\"코로나19 발생현황\\\",\\\"url\\\":\\\"https://search.daum.net/search?w=tot&q=%EC%BD%94%EB%A1%9C%EB%82%9819+%EB%B0%9C%EC%83%9D%ED%98%84%ED%99%A9&DA=NPI\\\"},{\\\"keyword\\\":\\\"아프간 강진\\\",\\\"url\\\":\\\"https://search.daum.net/search?w=tot&q=%EC%95%84%ED%94%84%EA%B0%84+%EA%B0%95%EC%A7%84&DA=NPI&rtmaxcoll=NNS\\\"},{\\\"keyword\\\":\\\"금팔찌파는곳\\\",\\\"url\\\":\\\"https://search.daum.net/search?w=tot&q=%EA%B8%88%ED%8C%94%EC%B0%8C&DA=NPT\\\"},{\\\"keyword\\\":\\\"박서준 화보\\\",\\\"url\\\":\\\"https://search.daum.net/search?w=tot&q=%EB%B0%95%EC%84%9C%EC%A4%80+%ED%99%94%EB%B3%B4&DA=NPI&rtmaxcoll=NNS\\\"},{\\\"keyword\\\":\\\"꽃배달서비스추천\\\",\\\"url\\\":\\\"https://search.daum.net/search?w=tot&q=%EA%BD%83%EB%B0%B0%EB%8B%AC%EC%84%9C%EB%B9%84%EC%8A%A4%EC%B6%94%EC%B2%9C&DA=NPT\\\"}],[{\\\"keyword\\\":\\\"코스피 지수\\\",\\\"url\\\":\\\"https://search.daum.net/search?w=tot&q=%EC%BD%94%EC%8A%A4%ED%94%BC+%EC%A7%80%EC%88%98&DA=NPI&rtmaxcoll=HSU\\\"},{\\\"keyword\\\":\\\"중국 댓글검열\\\",\\\"url\\\":\\\"https://search.daum.net/search?w=tot&q=%EC%A4%91%EA%B5%AD+%EB%8C%93%EA%B8%80%EA%B2%80%EC%97%B4&DA=NPI&rtmaxcoll=NNS\\\"},{\\\"keyword\\\":\\\"아파트인테리어\\\",\\\"url\\\":\\\"https://search.daum.net/search?w=tot&q=%EC%95%84%ED%8C%8C%ED%8A%B8%EC%9D%B8%ED%85%8C%EB%A6%AC%EC%96%B4&DA=NPT\\\"},{\\\"keyword\\\":\\\"성훈 종영소감\\\",\\\"url\\\":\\\"https://search.daum.net/search?w=tot&q=%EC%84%B1%ED%9B%88+%EC%A2%85%EC%98%81%EC%86%8C%EA%B0%90&DA=NPI&rtmaxcoll=NNS\\\"},{\\\"keyword\\\":\\\"4인용소파추천\\\",\\\"url\\\":\\\"https://search.daum.net/search?w=tot&q=4%EC%9D%B8%EC%9A%A9%EC%86%8C%ED%8C%8C%EC%B6%94%EC%B2%9C&DA=NPT\\\"}],[{\\\"keyword\\\":\\\"싸이 공식입장\\\",\\\"url\\\":\\\"https://search.daum.net/search?w=tot&q=%EC%8B%B8%EC%9D%B4+%EA%B3%B5%EC%8B%9D%EC%9E%85%EC%9E%A5&DA=NPI&rtmaxcoll=NNS\\\"},{\\\"keyword\\\":\\\"조재윤 전속계약\\\",\\\"url\\\":\\\"https://search.daum.net/search?w=tot&q=%EC%A1%B0%EC%9E%AC%EC%9C%A4+%EC%A0%84%EC%86%8D%EA%B3%84%EC%95%BD&DA=NPI&rtmaxcoll=NNS\\\"},{\\\"keyword\\\":\\\"장바구니\\\",\\\"url\\\":\\\"https://search.daum.net/search?w=tot&q=%EC%9E%A5%EB%B0%94%EA%B5%AC%EB%8B%88&DA=NPT\\\"},{\\\"keyword\\\":\\\"카드 쇼케이스\\\",\\\"url\\\":\\\"https://search.daum.net/search?w=tot&q=%EC%B9%B4%EB%93%9C+%EC%87%BC%EC%BC%80%EC%9D%B4%EC%8A%A4&DA=NPI&rtmaxcoll=NNS\\\"},{\\\"keyword\\\":\\\"보일러비교\\\",\\\"url\\\":\\\"https://search.daum.net/search?w=tot&q=%EB%B3%B4%EC%9D%BC%EB%9F%AC&DA=NPT\\\"}]]\"}},\"PC_FOOTER_NOTICE\":{\"code\":2386,\"type\":\"PC_FOOTER_NOTICE\",\"items\":{\"notice\":{\"notice2\":\"{\\\"title\\\":\\\"\\\",\\\"url\\\":\\\"\\\"}\",\"notice1\":\"{\\\"title\\\":\\\"\\\",\\\"url\\\":\\\"\\\"}\",\"notice0\":\"{\\\"title\\\":\\\"[Daum사전] 단어장 Daum계정 지원종료 안내\\\",\\\"url\\\":\\\"https://magazine.daum.net/daum_notice/62b04a0124835d37470bcdc1?view=embed\\\"}\"}},\"feeds\":{}},\"PC_CHANNEL_NATIVE_AD\":{\"code\":2387,\"type\":\"PC_CHANNEL_NATIVE_AD\",\"items\":{\"op\":{\"status\":\"on\"}},\"feeds\":{}}},\"user\":{\"login\":false,\"integration\":false,\"daumUser\":false,\"talkUser\":false,\"profileImage\":null,\"cafeCount\":0,\"mailCount\":0,\"blogNewIcon\":false,\"nick\":null},\"cabinets\":{}},\"status\":{\"code\":200,\"reason\":\"OK\"}}; </script> </head> <body> <noscript> 이 사이트의 기능을 모두 활용하기 위해서는 자바스크립트를 활성화 시킬 필요가 있습니다. <a href=\"https://www.enable-javascript.com/ko/\"> 브라우저에서 자바스크립트를 활성화하는 방법</a >을 참고 하세요. </noscript> <script src=\"https://t1.daumcdn.net/tiara/js/v1/tiara.min.js\" type=\"text/javascript\"></script> <script src=\"https://t1.daumcdn.net/top/tiller-pc/lib/1636937121956/polyfill.min.js\" type=\"text/javascript\" ></script> <script src=\"https://t1.daumcdn.net/top/tiller-pc/h/production/20220616_153208/index.js\" ></script> <script src=\"https://t1.daumcdn.net/kas/static/ba.min.js\" type=\"text/javascript\" defer></script> <script src=\"https://t1.daumcdn.net/top/tiller-pc/1655174491872/tiller-pc-suggest.js\" type=\"text/javascript\" defer ></script> </body></html>\n"
     ]
    }
   ],
   "source": [
    "import urllib.request as req\n",
    "import re\n",
    "\n",
    "rep = req.urlopen(\"https://daum.net\")\n",
    "data = rep.read().decode(\"utf-8\")\n",
    "\n",
    "print(data)"
   ]
  },
  {
   "cell_type": "code",
   "execution_count": 168,
   "id": "d6f27cdd-b678-4f4c-8115-c618751d23b2",
   "metadata": {
    "tags": []
   },
   "outputs": [
    {
     "data": {
      "text/plain": [
       "['https://t1.daumcdn.net/kas/static/na.min.js',\n",
       " 'http://tktapi.melon.com/kmt/landing.js',\n",
       " 'http://tktapi.melon.com/kmt/landing.js',\n",
       " 'http://tktapi.melon.com/kmt/landing.js',\n",
       " 'http://tktapi.melon.com/kmt/landing.js',\n",
       " 'https://t1.daumcdn.net/tiara/js/v1/tiara.min.js',\n",
       " 'https://t1.daumcdn.net/kas/static/ba.min.js']"
      ]
     },
     "execution_count": 168,
     "metadata": {},
     "output_type": "execute_result"
    }
   ],
   "source": [
    "re.findall(\"htt[.:/\\w]*[.]js\",data)"
   ]
  },
  {
   "cell_type": "code",
   "execution_count": 184,
   "id": "99448be5-121a-471c-95b9-abfbe0013557",
   "metadata": {},
   "outputs": [
    {
     "data": {
      "text/plain": [
       "<re.Match object; span=(0, 6), match='python'>"
      ]
     },
     "execution_count": 184,
     "metadata": {},
     "output_type": "execute_result"
    }
   ],
   "source": [
    "p = re.compile(\"[a-z]+\")\n",
    "p.match(\"python12345\")   #match객체를 돌려준다. *index번호 (0,6)"
   ]
  },
  {
   "cell_type": "code",
   "execution_count": 181,
   "id": "7659c7ce-088d-4894-ac19-a28b6576e314",
   "metadata": {},
   "outputs": [
    {
     "name": "stdout",
     "output_type": "stream",
     "text": [
      "None\n"
     ]
    }
   ],
   "source": [
    "print(p.match(\"12345python12345\"))    # match는 문자열의 처음부터 찾기 때문에 부합되지 않으므로 none을 돌려준다."
   ]
  },
  {
   "cell_type": "code",
   "execution_count": 176,
   "id": "bfd21e5a-bcba-4f83-866e-90ccf8134b6c",
   "metadata": {},
   "outputs": [
    {
     "data": {
      "text/plain": [
       "<re.Match object; span=(5, 11), match='python'>"
      ]
     },
     "execution_count": 176,
     "metadata": {},
     "output_type": "execute_result"
    }
   ],
   "source": [
    "p.search(\"12345python12345\")"
   ]
  },
  {
   "cell_type": "code",
   "execution_count": 180,
   "id": "e7c69bb0-7bc2-4c8e-b1a9-32b070086a97",
   "metadata": {},
   "outputs": [
    {
     "data": {
      "text/plain": [
       "<re.Match object; span=(5, 11), match='python'>"
      ]
     },
     "execution_count": 180,
     "metadata": {},
     "output_type": "execute_result"
    }
   ],
   "source": [
    "p.search(\"12345python12345python\")"
   ]
  },
  {
   "cell_type": "code",
   "execution_count": 183,
   "id": "cc3f4419-b5f2-4cf9-9af8-709ede3463e2",
   "metadata": {},
   "outputs": [
    {
     "data": {
      "text/plain": [
       "['python', 'python']"
      ]
     },
     "execution_count": 183,
     "metadata": {},
     "output_type": "execute_result"
    }
   ],
   "source": [
    "p.findall(\"12345python12345python\") #리스트로 돌려준다."
   ]
  },
  {
   "cell_type": "code",
   "execution_count": 186,
   "id": "d5d28ab0-c41e-4770-9040-b0315ec51a58",
   "metadata": {},
   "outputs": [
    {
     "data": {
      "text/plain": [
       "<callable_iterator at 0x23c8da33520>"
      ]
     },
     "execution_count": 186,
     "metadata": {},
     "output_type": "execute_result"
    }
   ],
   "source": [
    "p.finditer(\"12345python12345python\")  #반복 가능한 객체를 돌려준다."
   ]
  },
  {
   "cell_type": "code",
   "execution_count": 187,
   "id": "9603f326-481e-408b-8d98-f27ecbe5eb69",
   "metadata": {},
   "outputs": [
    {
     "name": "stdout",
     "output_type": "stream",
     "text": [
      "<re.Match object; span=(5, 11), match='python'>\n",
      "<re.Match object; span=(16, 22), match='python'>\n"
     ]
    }
   ],
   "source": [
    "for i in p.finditer(\"12345python12345python\"):\n",
    "    print(i)"
   ]
  },
  {
   "cell_type": "code",
   "execution_count": 189,
   "id": "87582f57-31f4-44eb-a38d-904158011d35",
   "metadata": {},
   "outputs": [
    {
     "data": {
      "text/plain": [
       "'12345******12345******'"
      ]
     },
     "execution_count": 189,
     "metadata": {},
     "output_type": "execute_result"
    }
   ],
   "source": [
    "p.sub(\"******\",\"12345python12345python\")"
   ]
  },
  {
   "cell_type": "code",
   "execution_count": 190,
   "id": "d0fe8702-b868-4520-991f-96b6758186c2",
   "metadata": {},
   "outputs": [
    {
     "data": {
      "text/plain": [
       "re.Pattern"
      ]
     },
     "execution_count": 190,
     "metadata": {},
     "output_type": "execute_result"
    }
   ],
   "source": [
    "type(p)"
   ]
  },
  {
   "cell_type": "code",
   "execution_count": 192,
   "id": "4fce5539-6c46-4bc8-ba8d-6547b3c76b32",
   "metadata": {},
   "outputs": [
    {
     "data": {
      "text/plain": [
       "['python', 'python']"
      ]
     },
     "execution_count": 192,
     "metadata": {},
     "output_type": "execute_result"
    }
   ],
   "source": [
    "sentence = \"12345python12345python\"\n",
    "p.findall(sentence)"
   ]
  },
  {
   "cell_type": "markdown",
   "id": "f4f50947-b08a-457b-ac3a-0fdcb1017cc4",
   "metadata": {},
   "source": [
    "- match 객체의 메서드"
   ]
  },
  {
   "cell_type": "code",
   "execution_count": 194,
   "id": "90903002-4cf6-49da-8ea6-dbbb5a2272c6",
   "metadata": {},
   "outputs": [
    {
     "data": {
      "text/plain": [
       "<re.Match object; span=(5, 11), match='python'>"
      ]
     },
     "execution_count": 194,
     "metadata": {},
     "output_type": "execute_result"
    }
   ],
   "source": [
    "p.search(\"12345python12345\")"
   ]
  },
  {
   "cell_type": "code",
   "execution_count": 197,
   "id": "c64781ee-cd31-43b1-a7b4-a3d1936b4052",
   "metadata": {},
   "outputs": [
    {
     "data": {
      "text/plain": [
       "'python'"
      ]
     },
     "execution_count": 197,
     "metadata": {},
     "output_type": "execute_result"
    }
   ],
   "source": [
    "# .group() 메서드\n",
    "match = p.search(\"12345python12345\")\n",
    "match.group()"
   ]
  },
  {
   "cell_type": "code",
   "execution_count": null,
   "id": "bcbfb7a8-7207-4268-aabf-5f8e5c151791",
   "metadata": {},
   "outputs": [],
   "source": [
    "#.group() : 매치된 문자열을 돌려준다.\n",
    "#.start() : 문자열의 시작 위치를 돌려준다.\n",
    "#.end() : 문자열의 끝 위치를 돌려준다.\n",
    "#.span() : (시작,끝)을 돌려준다."
   ]
  },
  {
   "cell_type": "code",
   "execution_count": 205,
   "id": "5b5d5b2e-2f4c-4141-a6d4-1f23f748d7dc",
   "metadata": {},
   "outputs": [
    {
     "name": "stdout",
     "output_type": "stream",
     "text": [
      "python\n",
      "5\n",
      "11\n",
      "(5, 11)\n",
      "\n",
      "python\n",
      "16\n",
      "22\n",
      "(16, 22)\n",
      "\n"
     ]
    }
   ],
   "source": [
    "sentence = '12345python12345python'\n",
    "for i in p.finditer(sentence):\n",
    "    print(i.group())\n",
    "    print(i.start())\n",
    "    print(i.end())\n",
    "    print(i.span())\n",
    "    print()"
   ]
  },
  {
   "cell_type": "code",
   "execution_count": 79,
   "id": "08bbae4a-a5d0-40ec-ac21-b649d9792672",
   "metadata": {},
   "outputs": [],
   "source": [
    "sentence = \"The most popular Twitter hashtags: #giveaway #travel365 #quote #win #marketing\" "
   ]
  },
  {
   "cell_type": "code",
   "execution_count": null,
   "id": "d72031c6-3d32-4cd3-b386-38c411a825ba",
   "metadata": {},
   "outputs": [],
   "source": [
    "p = re.compile(패턴)\n",
    "p.메서드(문장)"
   ]
  },
  {
   "cell_type": "code",
   "execution_count": 83,
   "id": "b67a07df-79e3-4be1-918c-5acf4d438822",
   "metadata": {},
   "outputs": [
    {
     "data": {
      "text/plain": [
       "['#giveaway', '#travel365', '#quote', '#win', '#marketing']"
      ]
     },
     "execution_count": 83,
     "metadata": {},
     "output_type": "execute_result"
    }
   ],
   "source": [
    "import re\n",
    "\n",
    "p = re.compile(\"#[a-zA-Z0-9]+\")\n",
    "p.findall(sentence)"
   ]
  },
  {
   "cell_type": "code",
   "execution_count": 159,
   "id": "23120531-a55b-4d8f-97ae-5518c3b35cbd",
   "metadata": {},
   "outputs": [
    {
     "name": "stdout",
     "output_type": "stream",
     "text": [
      "giveaway\n",
      "travel365\n",
      "quote\n",
      "win\n",
      "marketing\n",
      "giveaway\n",
      "travel365\n",
      "quote\n",
      "win\n",
      "marketing\n"
     ]
    }
   ],
   "source": [
    "import re\n",
    "\n",
    "#p = re.compile(\"#[a-zA-Z0-9]+\")\n",
    "#p = re.compile(\"[#][a-zA-Z0-9]+\")\n",
    "\n",
    "p = re.compile(\"#[a-zA-Z0-9_]+\")   #\"#\\w+\"\n",
    "p.findall(sentence)\n",
    "for i in p.findall(sentence):\n",
    "    print(i[1:])\n",
    "    \n",
    "for i in p.findall(sentence):\n",
    "    print(i.lstrip(\"#\"))    \n",
    "    "
   ]
  },
  {
   "cell_type": "code",
   "execution_count": 88,
   "id": "d0546bd9-9634-4f19-9746-7961ca6b95fc",
   "metadata": {},
   "outputs": [
    {
     "name": "stdout",
     "output_type": "stream",
     "text": [
      "1. giveaway\n",
      "2. travel365\n",
      "3. quote\n",
      "4. win\n",
      "5. marketing\n"
     ]
    }
   ],
   "source": [
    "import re\n",
    "\n",
    "p = re.compile(\"#[a-zA-Z0-9]+\")\n",
    "m = p.findall(sentence)\n",
    "for i, j in enumerate(m):\n",
    "    print(f\"{i+1}. {j[1:]}\")"
   ]
  },
  {
   "cell_type": "code",
   "execution_count": 90,
   "id": "c562d21e-9e10-4756-a3d7-6e6077f39c98",
   "metadata": {},
   "outputs": [],
   "source": [
    "lyrics = \"있는 그대로 it's more than makeup 그 누구보다도 아름다운걸 yellow shirts 마치 lakers 대화로 꽃을 피워 layered 매일 매일\""
   ]
  },
  {
   "cell_type": "code",
   "execution_count": 94,
   "id": "1fb35ed2-f49d-48ad-abe1-c5deb16315eb",
   "metadata": {},
   "outputs": [
    {
     "data": {
      "text/plain": [
       "['makeup', 'yellow', 'shirts', 'lakers', 'layered']"
      ]
     },
     "execution_count": 94,
     "metadata": {},
     "output_type": "execute_result"
    }
   ],
   "source": [
    "#6글자이상 단어 찾기\n",
    "\n",
    "import re\n",
    "\n",
    "p = re.compile(\"\\w{6,}\")\n",
    "p.findall(lyrics)"
   ]
  },
  {
   "cell_type": "code",
   "execution_count": 99,
   "id": "d670198a-dd59-417b-99ea-fccb8e600585",
   "metadata": {},
   "outputs": [
    {
     "data": {
      "text/plain": [
       "<re.Match object; span=(22, 28), match='makeup'>"
      ]
     },
     "execution_count": 99,
     "metadata": {},
     "output_type": "execute_result"
    }
   ],
   "source": [
    "p.search(lyrics)"
   ]
  },
  {
   "cell_type": "code",
   "execution_count": 98,
   "id": "0f3bd94d-5c55-4e70-ad1e-d353a21e4b89",
   "metadata": {},
   "outputs": [
    {
     "data": {
      "text/plain": [
       "'makeup'"
      ]
     },
     "execution_count": 98,
     "metadata": {},
     "output_type": "execute_result"
    }
   ],
   "source": [
    "p.search(lyrics).group()"
   ]
  },
  {
   "cell_type": "code",
   "execution_count": 4,
   "id": "e08b8948-227a-4b89-93fa-c19dba4fe728",
   "metadata": {},
   "outputs": [],
   "source": [
    "data = \"\"\"\n",
    "park 010-1234-5678\n",
    "kim 010-5678-1234\n",
    "\"\"\""
   ]
  },
  {
   "cell_type": "code",
   "execution_count": 2,
   "id": "f6a37ca3-2b0a-4bc3-a231-46d02df451b9",
   "metadata": {},
   "outputs": [],
   "source": [
    "import re"
   ]
  },
  {
   "cell_type": "code",
   "execution_count": null,
   "id": "c2a2fe78-08fe-4198-9582-7b8cda7d8428",
   "metadata": {},
   "outputs": [],
   "source": [
    "# sub('무엇으로 바꿀건지',어떤것을 바꿀건지)"
   ]
  },
  {
   "cell_type": "code",
   "execution_count": 5,
   "id": "7d98dd36-d6ce-42a3-a00c-a2266ea4677d",
   "metadata": {},
   "outputs": [
    {
     "name": "stdout",
     "output_type": "stream",
     "text": [
      "\n",
      "park 010-1234-####\n",
      "kim 010-5678-####\n",
      "\n"
     ]
    }
   ],
   "source": [
    "pat = re.compile(\"(\\d{4})[-](\\d{4})\")\n",
    "print(pat.sub(\"\\g<1>-####\", data))"
   ]
  },
  {
   "cell_type": "code",
   "execution_count": 118,
   "id": "feeb5d41-2584-4bb8-b646-1cf9461748a2",
   "metadata": {},
   "outputs": [
    {
     "name": "stdout",
     "output_type": "stream",
     "text": [
      "\n",
      "park 010-1234-****\n",
      "kim 010-5678-****\n",
      "\n",
      "\n",
      "park 010-****-5678\n",
      "kim 010-****-1234\n",
      "\n"
     ]
    }
   ],
   "source": [
    "pat = re.compile('(\\d{3})[-](\\d{4})[-](\\d{4})')\n",
    "pat2 = pat.sub('\\g<1>-\\g<2>-****', data)\n",
    "pat3 = pat.sub('\\g<1>-****-\\g<3>', data)\n",
    "print(pat2)\n",
    "print(pat3) "
   ]
  },
  {
   "cell_type": "code",
   "execution_count": 119,
   "id": "ea9b0838-8f2a-4877-b958-577c04c8d266",
   "metadata": {},
   "outputs": [],
   "source": [
    "data = \"\"\"\n",
    "park 010-1234-5678\n",
    "\"\"\""
   ]
  },
  {
   "cell_type": "code",
   "execution_count": 130,
   "id": "61f6cbee-f7bc-402f-a6f6-f7643d44bcb9",
   "metadata": {},
   "outputs": [
    {
     "name": "stdout",
     "output_type": "stream",
     "text": [
      "\n",
      "park 010-1234-5678\n",
      "kim 010-5678-1234\n",
      "lee 010-3452-####\n",
      "\n"
     ]
    }
   ],
   "source": [
    "p = re.compile(\"\\d{4}$\")   #끝4개를 지정하여 변경\n",
    "print(p.sub(\"####\",data))"
   ]
  },
  {
   "cell_type": "code",
   "execution_count": 128,
   "id": "9357025a-c9de-4cd6-bc01-719f2d9f800c",
   "metadata": {},
   "outputs": [],
   "source": [
    "data = \"\"\"\n",
    "park 010-1234-5678\n",
    "kim 010-5678-1234\n",
    "lee 010-3452-3453\n",
    "\"\"\""
   ]
  },
  {
   "cell_type": "code",
   "execution_count": 132,
   "id": "5cd7d43e-4d3d-4512-afc2-c6bdde7269b0",
   "metadata": {},
   "outputs": [
    {
     "name": "stdout",
     "output_type": "stream",
     "text": [
      "\n",
      "park 010-1234-####\n",
      "kim 010-5678-####\n",
      "lee 010-3452-####\n",
      "\n"
     ]
    }
   ],
   "source": [
    "p = re.compile(\"\\d{4}$\", re.MULTILINE)   #컴파일 옵션 MULTILINE -> 여러줄과 매치한다. #시작은 ^ 끝은 $\n",
    "print(p.sub(\"####\",data))"
   ]
  },
  {
   "cell_type": "markdown",
   "id": "0a86aeee-93be-4c26-ad3d-bed1493f6f8f",
   "metadata": {},
   "source": [
    "- 컴파일 옵션"
   ]
  },
  {
   "cell_type": "code",
   "execution_count": null,
   "id": "5bffdb0e-74f3-4bc1-9cf8-181b3d4b0433",
   "metadata": {},
   "outputs": [],
   "source": [
    "# DOTALL , S : .메타 문자가 줄바꿈 문자를 포함하여 모든 문자와 매치한다.\n",
    " re.DOTALL 또는 re.S"
   ]
  },
  {
   "cell_type": "code",
   "execution_count": null,
   "id": "7ef55ba2-9e7f-4065-83c2-232847de8c48",
   "metadata": {},
   "outputs": [],
   "source": [
    "# IGNORECASE, I :  대 소문자에 관계없이 매치한다.\n",
    " re.IGNORECASE 또는 re.I"
   ]
  },
  {
   "cell_type": "code",
   "execution_count": null,
   "id": "41c7e95b-c13b-4456-8cb4-806741d5bb0a",
   "metadata": {},
   "outputs": [],
   "source": [
    "# MULTILINE, M : 여러줄과 매치한다. # 시작은 ^ 끝은 $\n",
    " re.MULTILINE 또는 re.M"
   ]
  },
  {
   "cell_type": "code",
   "execution_count": 135,
   "id": "6d70e8e4-3e7a-471c-b6fa-baf7dd540c48",
   "metadata": {},
   "outputs": [
    {
     "data": {
      "text/plain": [
       "['python one', 'python two', 'python three']"
      ]
     },
     "execution_count": 135,
     "metadata": {},
     "output_type": "execute_result"
    }
   ],
   "source": [
    "data = '''python one   #각 라인의 처음으로 인식\n",
    "Life is too short\n",
    "python two\n",
    "You need python\n",
    "python three\n",
    "'''\n",
    "p= re.compile(\"^python\\s\\w+\",re.M)\n",
    "p.findall(data)"
   ]
  },
  {
   "cell_type": "code",
   "execution_count": null,
   "id": "575c2339-192e-4e83-bf7e-ed57d9a239e3",
   "metadata": {},
   "outputs": [],
   "source": [
    "# VERBOSE, X : VERBOSE 모드\n",
    " re.VERBOSE 또는 re.X"
   ]
  },
  {
   "cell_type": "markdown",
   "id": "7e0edc24-102a-4997-afd8-0f96f765badf",
   "metadata": {},
   "source": [
    "- 백슬래시 문제"
   ]
  },
  {
   "cell_type": "code",
   "execution_count": 138,
   "id": "a0070f12-4ede-4df2-a298-77f504a1453d",
   "metadata": {},
   "outputs": [
    {
     "name": "stdout",
     "output_type": "stream",
     "text": [
      "Hello \n",
      "ew shoes\n",
      "Hello \\new shoes\n",
      "Hello \\ new shoes\n"
     ]
    }
   ],
   "source": [
    "print(\"Hello \\new shoes\")\n",
    "print(\"Hello \\\\new shoes\")\n",
    "print(\"Hello \\\\ new shoes\")"
   ]
  },
  {
   "cell_type": "code",
   "execution_count": null,
   "id": "3c953563-cb88-4c1c-9fa8-8e1caddc54c5",
   "metadata": {},
   "outputs": [],
   "source": [
    "\\\\section\n",
    "p = re.compile('\\\\\\\\section')\n",
    "p = re.compile(r'\\\\section') # r str"
   ]
  },
  {
   "cell_type": "markdown",
   "id": "9084ee76-d3ff-4929-9086-54eccecbc1c6",
   "metadata": {},
   "source": [
    "- 추가 메타 문자"
   ]
  },
  {
   "cell_type": "code",
   "execution_count": null,
   "id": "eacef823-f9e3-4b06-96dc-b8ce222008b3",
   "metadata": {},
   "outputs": [],
   "source": [
    "| : or과 동일한 의미 A|B A 또는 B"
   ]
  },
  {
   "cell_type": "code",
   "execution_count": null,
   "id": "b7a724e1-1a43-4834-987c-39a16b35f7cc",
   "metadata": {},
   "outputs": [],
   "source": [
    "^ : 문자열의 맨 처음"
   ]
  },
  {
   "cell_type": "code",
   "execution_count": null,
   "id": "6c4cde8b-10d4-450a-b6ec-b2f5bb601379",
   "metadata": {},
   "outputs": [],
   "source": [
    "$ : 문자열의 끝"
   ]
  },
  {
   "cell_type": "code",
   "execution_count": null,
   "id": "96e51339-7168-494d-aefe-0c2de6a13c1d",
   "metadata": {},
   "outputs": [],
   "source": [
    "\\A : 전체 문자열의 처음"
   ]
  },
  {
   "cell_type": "code",
   "execution_count": null,
   "id": "b6eb3dcb-ea62-4c7a-a8b2-04e91e932e5f",
   "metadata": {},
   "outputs": [],
   "source": [
    "\\Z : 전체 문자열의 끝"
   ]
  },
  {
   "cell_type": "code",
   "execution_count": null,
   "id": "f45e0cda-c0dd-482b-896c-c3fdb78f2b4b",
   "metadata": {},
   "outputs": [],
   "source": [
    "\\b : 바운더리(boundary)"
   ]
  },
  {
   "cell_type": "code",
   "execution_count": 141,
   "id": "740a8f9c-f83c-4e89-8561-cd3f917ebe8e",
   "metadata": {},
   "outputs": [
    {
     "name": "stdout",
     "output_type": "stream",
     "text": [
      "<re.Match object; span=(3, 8), match='class'>\n"
     ]
    }
   ],
   "source": [
    "p = re.compile(r'class')\n",
    "print(p.search(\"no class at all class.\"))"
   ]
  },
  {
   "cell_type": "code",
   "execution_count": null,
   "id": "9b577072-a68d-40f7-ae51-511ac3f45e95",
   "metadata": {},
   "outputs": [],
   "source": [
    "# \\bclass\\b 앞뒤가 whitespace로 구분된 class라는 단어와 매치"
   ]
  },
  {
   "cell_type": "markdown",
   "id": "5572db45-3a79-4e6d-aada-65174be90986",
   "metadata": {},
   "source": [
    "- Grouping ()"
   ]
  },
  {
   "cell_type": "code",
   "execution_count": 145,
   "id": "8c3bd594-ee73-471c-ab38-4b29d094ace5",
   "metadata": {},
   "outputs": [
    {
     "data": {
      "text/plain": [
       "<re.Match object; span=(0, 18), match='park 010-1234-1234'>"
      ]
     },
     "execution_count": 145,
     "metadata": {},
     "output_type": "execute_result"
    }
   ],
   "source": [
    "p = re.compile(r\"(\\w+)\\s+(\\d+[-]\\d+[-]\\d+)\")\n",
    "p.search(\"park 010-1234-1234\")"
   ]
  },
  {
   "cell_type": "code",
   "execution_count": 6,
   "id": "0c3576a0-2bb3-4d50-95f6-6d6518e8836d",
   "metadata": {},
   "outputs": [],
   "source": [
    "# 문자열 앞에 r은 raw string 은 크롤링을 할 때, \\ 를 이용해서 원하는 문자열을 추출할 때 활용할 수 있다!"
   ]
  },
  {
   "cell_type": "code",
   "execution_count": 158,
   "id": "1bb3352a-30ab-4913-bd8f-e3eeb25e91b4",
   "metadata": {},
   "outputs": [
    {
     "name": "stdout",
     "output_type": "stream",
     "text": [
      "010-1234-1234\n"
     ]
    }
   ],
   "source": [
    "p = re.compile(r\"(\\w+)\\s+(\\d+[-]\\d+[-]\\d+)\")  # () 기준\n",
    "m = p.search(\"park 010-1234-1234\")\n",
    "print(m.group(2))"
   ]
  },
  {
   "cell_type": "code",
   "execution_count": 157,
   "id": "3a936f50-b110-48bc-abda-71779df6d678",
   "metadata": {},
   "outputs": [
    {
     "name": "stdout",
     "output_type": "stream",
     "text": [
      "010-1234-5678\n",
      "010-2345-2342\n",
      "010-2345-3543\n"
     ]
    }
   ],
   "source": [
    "data = '''\n",
    "park 010-1234-5678\n",
    "kim 010-2345-2342\n",
    "lee 010-2345-3543\n",
    "'''\n",
    "\n",
    "p = re.compile(r\"(\\w+)\\s+(\\d+[-]\\d+[-]\\d+)\")\n",
    "m = p.finditer(data)\n",
    "for i in m:\n",
    "    print(i.group(2))  # n번째 그룹 group(0) : 전체 문자열"
   ]
  },
  {
   "cell_type": "code",
   "execution_count": null,
   "id": "30b8159e-45f3-44b1-8966-f11f550a8fd1",
   "metadata": {},
   "outputs": [],
   "source": [
    "(\\w+)   -> (?P<name>\\w+)   (?P<그룹 이름>...) #문자열에 그룹 이름 붙이기"
   ]
  },
  {
   "cell_type": "code",
   "execution_count": 155,
   "id": "70f9e735-7958-4d3b-a919-129e835a0e5c",
   "metadata": {},
   "outputs": [
    {
     "name": "stdout",
     "output_type": "stream",
     "text": [
      "park\n",
      "kim\n",
      "lee\n"
     ]
    }
   ],
   "source": [
    "p = re.compile(r\"(?P<name>\\w+)\\s+(\\d+[-]\\d+[-]\\d+)\")\n",
    "m = p.finditer(data)\n",
    "for i in m:\n",
    "    print(i.group(\"name\"))"
   ]
  },
  {
   "cell_type": "code",
   "execution_count": 156,
   "id": "f65e17f0-95fe-468d-8491-b028b74f43cc",
   "metadata": {
    "collapsed": true,
    "jupyter": {
     "outputs_hidden": true
    },
    "tags": []
   },
   "outputs": [
    {
     "name": "stdout",
     "output_type": "stream",
     "text": [
      "Support for regular expressions (RE).\n",
      "\n",
      "This module provides regular expression matching operations similar to\n",
      "those found in Perl.  It supports both 8-bit and Unicode strings; both\n",
      "the pattern and the strings being processed can contain null bytes and\n",
      "characters outside the US ASCII range.\n",
      "\n",
      "Regular expressions can contain both special and ordinary characters.\n",
      "Most ordinary characters, like \"A\", \"a\", or \"0\", are the simplest\n",
      "regular expressions; they simply match themselves.  You can\n",
      "concatenate ordinary characters, so last matches the string 'last'.\n",
      "\n",
      "The special characters are:\n",
      "    \".\"      Matches any character except a newline.\n",
      "    \"^\"      Matches the start of the string.\n",
      "    \"$\"      Matches the end of the string or just before the newline at\n",
      "             the end of the string.\n",
      "    \"*\"      Matches 0 or more (greedy) repetitions of the preceding RE.\n",
      "             Greedy means that it will match as many repetitions as possible.\n",
      "    \"+\"      Matches 1 or more (greedy) repetitions of the preceding RE.\n",
      "    \"?\"      Matches 0 or 1 (greedy) of the preceding RE.\n",
      "    *?,+?,?? Non-greedy versions of the previous three special characters.\n",
      "    {m,n}    Matches from m to n repetitions of the preceding RE.\n",
      "    {m,n}?   Non-greedy version of the above.\n",
      "    \"\\\\\"     Either escapes special characters or signals a special sequence.\n",
      "    []       Indicates a set of characters.\n",
      "             A \"^\" as the first character indicates a complementing set.\n",
      "    \"|\"      A|B, creates an RE that will match either A or B.\n",
      "    (...)    Matches the RE inside the parentheses.\n",
      "             The contents can be retrieved or matched later in the string.\n",
      "    (?aiLmsux) The letters set the corresponding flags defined below.\n",
      "    (?:...)  Non-grouping version of regular parentheses.\n",
      "    (?P<name>...) The substring matched by the group is accessible by name.\n",
      "    (?P=name)     Matches the text matched earlier by the group named name.\n",
      "    (?#...)  A comment; ignored.\n",
      "    (?=...)  Matches if ... matches next, but doesn't consume the string.\n",
      "    (?!...)  Matches if ... doesn't match next.\n",
      "    (?<=...) Matches if preceded by ... (must be fixed length).\n",
      "    (?<!...) Matches if not preceded by ... (must be fixed length).\n",
      "    (?(id/name)yes|no) Matches yes pattern if the group with id/name matched,\n",
      "                       the (optional) no pattern otherwise.\n",
      "\n",
      "The special sequences consist of \"\\\\\" and a character from the list\n",
      "below.  If the ordinary character is not on the list, then the\n",
      "resulting RE will match the second character.\n",
      "    \\number  Matches the contents of the group of the same number.\n",
      "    \\A       Matches only at the start of the string.\n",
      "    \\Z       Matches only at the end of the string.\n",
      "    \\b       Matches the empty string, but only at the start or end of a word.\n",
      "    \\B       Matches the empty string, but not at the start or end of a word.\n",
      "    \\d       Matches any decimal digit; equivalent to the set [0-9] in\n",
      "             bytes patterns or string patterns with the ASCII flag.\n",
      "             In string patterns without the ASCII flag, it will match the whole\n",
      "             range of Unicode digits.\n",
      "    \\D       Matches any non-digit character; equivalent to [^\\d].\n",
      "    \\s       Matches any whitespace character; equivalent to [ \\t\\n\\r\\f\\v] in\n",
      "             bytes patterns or string patterns with the ASCII flag.\n",
      "             In string patterns without the ASCII flag, it will match the whole\n",
      "             range of Unicode whitespace characters.\n",
      "    \\S       Matches any non-whitespace character; equivalent to [^\\s].\n",
      "    \\w       Matches any alphanumeric character; equivalent to [a-zA-Z0-9_]\n",
      "             in bytes patterns or string patterns with the ASCII flag.\n",
      "             In string patterns without the ASCII flag, it will match the\n",
      "             range of Unicode alphanumeric characters (letters plus digits\n",
      "             plus underscore).\n",
      "             With LOCALE, it will match the set [0-9_] plus characters defined\n",
      "             as letters for the current locale.\n",
      "    \\W       Matches the complement of \\w.\n",
      "    \\\\       Matches a literal backslash.\n",
      "\n",
      "This module exports the following functions:\n",
      "    match     Match a regular expression pattern to the beginning of a string.\n",
      "    fullmatch Match a regular expression pattern to all of a string.\n",
      "    search    Search a string for the presence of a pattern.\n",
      "    sub       Substitute occurrences of a pattern found in a string.\n",
      "    subn      Same as sub, but also return the number of substitutions made.\n",
      "    split     Split a string by the occurrences of a pattern.\n",
      "    findall   Find all occurrences of a pattern in a string.\n",
      "    finditer  Return an iterator yielding a Match object for each match.\n",
      "    compile   Compile a pattern into a Pattern object.\n",
      "    purge     Clear the regular expression cache.\n",
      "    escape    Backslash all non-alphanumerics in a string.\n",
      "\n",
      "Each function other than purge and escape can take an optional 'flags' argument\n",
      "consisting of one or more of the following module constants, joined by \"|\".\n",
      "A, L, and U are mutually exclusive.\n",
      "    A  ASCII       For string patterns, make \\w, \\W, \\b, \\B, \\d, \\D\n",
      "                   match the corresponding ASCII character categories\n",
      "                   (rather than the whole Unicode categories, which is the\n",
      "                   default).\n",
      "                   For bytes patterns, this flag is the only available\n",
      "                   behaviour and needn't be specified.\n",
      "    I  IGNORECASE  Perform case-insensitive matching.\n",
      "    L  LOCALE      Make \\w, \\W, \\b, \\B, dependent on the current locale.\n",
      "    M  MULTILINE   \"^\" matches the beginning of lines (after a newline)\n",
      "                   as well as the string.\n",
      "                   \"$\" matches the end of lines (before a newline) as well\n",
      "                   as the end of the string.\n",
      "    S  DOTALL      \".\" matches any character at all, including the newline.\n",
      "    X  VERBOSE     Ignore whitespace and comments for nicer looking RE's.\n",
      "    U  UNICODE     For compatibility only. Ignored for string patterns (it\n",
      "                   is the default), and forbidden for bytes patterns.\n",
      "\n",
      "This module also defines an exception 'error'.\n",
      "\n",
      "\n"
     ]
    }
   ],
   "source": [
    "print(re.__doc__)"
   ]
  },
  {
   "cell_type": "code",
   "execution_count": null,
   "id": "d48d9239-140e-438a-9b0c-ac8257d046eb",
   "metadata": {},
   "outputs": [],
   "source": [
    "data = 950225-2928321\n",
    "\\d{6}[-][1|2]\\d{6}"
   ]
  },
  {
   "cell_type": "code",
   "execution_count": null,
   "id": "7540b55e-169c-4cae-baf3-7c14d2ed6e47",
   "metadata": {},
   "outputs": [],
   "source": [
    "^01([0|1|6|7|8|9]?)-?([0-9]{3,4})-?([0-9]{4})$\n",
    "^01 : 시작\n",
    "([0|1|6|7|8|9]?) : 세번째 숫자 리스트중 하나이거나 없어도 된다.\n",
    "-? : 없거나 한 번\n",
    "([0-9]{3,4}) : 3개이거나 4개이거나\n",
    "-? : 없거나 한 번\n",
    "([0-9]{4})$ : 0-9까지 숫자 4개로 끝"
   ]
  },
  {
   "cell_type": "markdown",
   "id": "9473b465-6b98-4eb4-ba67-4c740f75f740",
   "metadata": {},
   "source": [
    "# datetime\n",
    " - 날짜와 시간"
   ]
  },
  {
   "cell_type": "code",
   "execution_count": 8,
   "id": "d3ea517c-903c-4c96-8984-2dd812f5564e",
   "metadata": {},
   "outputs": [],
   "source": [
    "from datetime import datetime, date,time"
   ]
  },
  {
   "cell_type": "code",
   "execution_count": 11,
   "id": "67f69c2a-6a32-469a-8a23-9eaa9fd88f60",
   "metadata": {},
   "outputs": [
    {
     "data": {
      "text/plain": [
       "datetime.datetime(2022, 6, 24, 16, 26, 39, 469529)"
      ]
     },
     "execution_count": 11,
     "metadata": {},
     "output_type": "execute_result"
    }
   ],
   "source": [
    "dt = datetime.now()\n",
    "dt"
   ]
  },
  {
   "cell_type": "code",
   "execution_count": 12,
   "id": "d5956483-74dd-4479-8f15-f4e559aa2adc",
   "metadata": {},
   "outputs": [
    {
     "data": {
      "text/plain": [
       "2022"
      ]
     },
     "execution_count": 12,
     "metadata": {},
     "output_type": "execute_result"
    }
   ],
   "source": [
    "dt.year"
   ]
  },
  {
   "cell_type": "code",
   "execution_count": 13,
   "id": "9c82f6f7-c193-41e8-baf4-a9fec70ea385",
   "metadata": {},
   "outputs": [
    {
     "data": {
      "text/plain": [
       "6"
      ]
     },
     "execution_count": 13,
     "metadata": {},
     "output_type": "execute_result"
    }
   ],
   "source": [
    "dt.month"
   ]
  },
  {
   "cell_type": "code",
   "execution_count": 14,
   "id": "346671ae-c65c-4521-8c89-f4a29c6d3e5c",
   "metadata": {},
   "outputs": [
    {
     "data": {
      "text/plain": [
       "24"
      ]
     },
     "execution_count": 14,
     "metadata": {},
     "output_type": "execute_result"
    }
   ],
   "source": [
    "dt.day"
   ]
  },
  {
   "cell_type": "code",
   "execution_count": 16,
   "id": "c468d104-2cf4-4cc4-83bb-a6386339dc69",
   "metadata": {},
   "outputs": [
    {
     "data": {
      "text/plain": [
       "16"
      ]
     },
     "execution_count": 16,
     "metadata": {},
     "output_type": "execute_result"
    }
   ],
   "source": [
    "dt.hour"
   ]
  },
  {
   "cell_type": "code",
   "execution_count": 15,
   "id": "527788b4-7521-42b2-9fee-0a42b01dae88",
   "metadata": {},
   "outputs": [
    {
     "data": {
      "text/plain": [
       "26"
      ]
     },
     "execution_count": 15,
     "metadata": {},
     "output_type": "execute_result"
    }
   ],
   "source": [
    "dt.minute"
   ]
  },
  {
   "cell_type": "code",
   "execution_count": 17,
   "id": "6f8cd273-1064-4ea9-b456-42006ca1ea02",
   "metadata": {},
   "outputs": [
    {
     "data": {
      "text/plain": [
       "datetime.date(2022, 6, 24)"
      ]
     },
     "execution_count": 17,
     "metadata": {},
     "output_type": "execute_result"
    }
   ],
   "source": [
    "dt.date()"
   ]
  },
  {
   "cell_type": "code",
   "execution_count": 18,
   "id": "9f4dca62-8aad-4575-b490-fab30e503a1c",
   "metadata": {},
   "outputs": [
    {
     "data": {
      "text/plain": [
       "datetime.time(16, 26, 39, 469529)"
      ]
     },
     "execution_count": 18,
     "metadata": {},
     "output_type": "execute_result"
    }
   ],
   "source": [
    "dt.time()"
   ]
  },
  {
   "cell_type": "code",
   "execution_count": 20,
   "id": "eea24728-6e92-42c4-b854-00b8196e4d8d",
   "metadata": {},
   "outputs": [
    {
     "data": {
      "text/plain": [
       "datetime.datetime(2022, 6, 24, 16, 26, 39, 469529)"
      ]
     },
     "execution_count": 20,
     "metadata": {},
     "output_type": "execute_result"
    }
   ],
   "source": [
    "dt"
   ]
  },
  {
   "cell_type": "code",
   "execution_count": 22,
   "id": "a5c0c7ff-0911-4b5b-bf86-a492180c7fb5",
   "metadata": {},
   "outputs": [
    {
     "data": {
      "text/plain": [
       "'06/24/2022 16:26'"
      ]
     },
     "execution_count": 22,
     "metadata": {},
     "output_type": "execute_result"
    }
   ],
   "source": [
    "# string from time : datetime을 문자열로 만들어준다.\n",
    "\n",
    "dt.strftime(\"%m/%d/%Y %H:%M\")"
   ]
  },
  {
   "cell_type": "code",
   "execution_count": 24,
   "id": "b3114bbe-0546-464a-a205-b758091eccfe",
   "metadata": {},
   "outputs": [
    {
     "data": {
      "text/plain": [
       "datetime.datetime(2009, 10, 31, 0, 0)"
      ]
     },
     "execution_count": 24,
     "metadata": {},
     "output_type": "execute_result"
    }
   ],
   "source": [
    "# time from string : string을 datetime으로\n",
    "datetime.strptime('20091031',\"%Y%m%d\")"
   ]
  },
  {
   "cell_type": "code",
   "execution_count": 27,
   "id": "f952514d-f87e-4937-a48e-1f5cda5f9925",
   "metadata": {},
   "outputs": [
    {
     "data": {
      "text/plain": [
       "datetime.datetime(2009, 10, 31, 0, 0)"
      ]
     },
     "execution_count": 27,
     "metadata": {},
     "output_type": "execute_result"
    }
   ],
   "source": [
    "dt2 = datetime.strptime('20091031',\"%Y%m%d\")\n",
    "dt2"
   ]
  },
  {
   "cell_type": "code",
   "execution_count": 26,
   "id": "f1a28310-6d6b-4691-a840-7f51461aa8a7",
   "metadata": {},
   "outputs": [
    {
     "data": {
      "text/plain": [
       "datetime.datetime(2022, 6, 24, 16, 34, 31, 3246)"
      ]
     },
     "execution_count": 26,
     "metadata": {},
     "output_type": "execute_result"
    }
   ],
   "source": [
    "dt = datetime.now()\n",
    "dt"
   ]
  },
  {
   "cell_type": "code",
   "execution_count": 28,
   "id": "49e53917-5ec6-4a4a-9eb6-1fc6dc122f80",
   "metadata": {},
   "outputs": [
    {
     "data": {
      "text/plain": [
       "datetime.timedelta(days=4619, seconds=59671, microseconds=3246)"
      ]
     },
     "execution_count": 28,
     "metadata": {},
     "output_type": "execute_result"
    }
   ],
   "source": [
    "dt-dt2"
   ]
  },
  {
   "cell_type": "code",
   "execution_count": null,
   "id": "ed208d79-d232-4ea2-993f-29069217607e",
   "metadata": {},
   "outputs": [],
   "source": [
    "올해 크리스마스까지 남은 날짜는 며칠입니까?"
   ]
  },
  {
   "cell_type": "code",
   "execution_count": 35,
   "id": "158cc58f-547c-4146-a449-01319a3777d2",
   "metadata": {},
   "outputs": [],
   "source": [
    "xmas = datetime.strptime('20221225',\"%Y%m%d\")\n",
    "dt = datetime.now()"
   ]
  },
  {
   "cell_type": "code",
   "execution_count": 37,
   "id": "a04481fe-bb61-4ebe-9588-a41857243e96",
   "metadata": {},
   "outputs": [
    {
     "data": {
      "text/plain": [
       "datetime.timedelta(days=183, seconds=26175, microseconds=367008)"
      ]
     },
     "execution_count": 37,
     "metadata": {},
     "output_type": "execute_result"
    }
   ],
   "source": [
    "xmas-dt"
   ]
  },
  {
   "cell_type": "code",
   "execution_count": null,
   "id": "30b8507d-8917-470c-b6c3-65717f05d3b2",
   "metadata": {},
   "outputs": [],
   "source": []
  }
 ],
 "metadata": {
  "kernelspec": {
   "display_name": "Python 3 (ipykernel)",
   "language": "python",
   "name": "python3"
  },
  "language_info": {
   "codemirror_mode": {
    "name": "ipython",
    "version": 3
   },
   "file_extension": ".py",
   "mimetype": "text/x-python",
   "name": "python",
   "nbconvert_exporter": "python",
   "pygments_lexer": "ipython3",
   "version": "3.8.13"
  },
  "toc-autonumbering": false
 },
 "nbformat": 4,
 "nbformat_minor": 5
}
