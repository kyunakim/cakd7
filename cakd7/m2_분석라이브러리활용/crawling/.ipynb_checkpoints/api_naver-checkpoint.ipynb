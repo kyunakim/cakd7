{
 "cells": [
  {
   "cell_type": "markdown",
   "id": "2c90b5e5",
   "metadata": {},
   "source": [
    "# 네이버 검색 API 서비스"
   ]
  },
  {
   "cell_type": "markdown",
   "id": "e27c63ae",
   "metadata": {},
   "source": [
    "## 네이버 블로그"
   ]
  },
  {
   "cell_type": "code",
   "execution_count": 5,
   "id": "4ccca1ab",
   "metadata": {},
   "outputs": [
    {
     "name": "stdout",
     "output_type": "stream",
     "text": [
      "검색 질의빅데이터\n",
      "<?xml version=\"1.0\" encoding=\"UTF-8\"?><rss version=\"2.0\"><channel><title>Naver Open API - blog ::&apos;빅데이터&apos;</title><link>https://search.naver.com</link><description>Naver Search Result</description><lastBuildDate>Thu, 28 Jul 2022 10:39:29 +0900</lastBuildDate><total>1144657</total><start>1</start><display>10</display><item><title>&lt;b&gt;빅데이터&lt;/b&gt;전문가 준비를 위한 체계적인 방법</title><link>https://blog.naver.com/nam8853nam?Redirect=Log&amp;logNo=222802704648</link><description>그 중에서도 주목해 볼만한 분야가 바로 ‘&lt;b&gt;빅데이터&lt;/b&gt;’ 라고 생각했어요. 기업이 이익을 창출하기... 이런 점들을 고려했을 때 1) 영업, 2) 컨설팅, 3) 제조 분야 모두 통틀어서 데이터 분석이 정말 중요한 부분을... </description><bloggername>율맘 스토리</bloggername><bloggerlink>https://blog.naver.com/nam8853nam</bloggerlink><postdate>20220707</postdate></item><item><title>&lt;b&gt;빅데이터&lt;/b&gt;분석기사 실기 준비를 위한 학습루틴</title><link>https://blog.naver.com/parkrapp?Redirect=Log&amp;logNo=222753783578</link><description>안녕하세요, 오늘은 제가 도전한 &lt;b&gt;빅데이터&lt;/b&gt;분석기사에 대한 정보를 많은 분과 나누고 싶어 이야기를... &lt;b&gt;빅데이터&lt;/b&gt;를 이해하고 이를 분석, 수집, 저장 등의 시각화를 수행하는 실무자 역할을 하는 분석기사는... </description><bloggername>황금빛 쭈롱월드</bloggername><bloggerlink>https://blog.naver.com/parkrapp</bloggerlink><postdate>20220531</postdate></item><item><title>&lt;b&gt;빅데이터&lt;/b&gt;전문가 공부했던 과정</title><link>https://blog.naver.com/kmin4015?Redirect=Log&amp;logNo=222802560555</link><description>&lt;b&gt;빅데이터&lt;/b&gt;전문가 커리큘럼에서 다루고 있는 내용들은 1) 데이터 분석과 해석, 2) R 프로그램, 3) 요인 및 행렬, 4) 배열 및 리스트, 5) 패키지 등으로 구분해 볼 수 있는데요. 필요한 내용은 알차게 모두 구성되어 있는... </description><bloggername>나날</bloggername><bloggerlink>https://blog.naver.com/kmin4015</bloggerlink><postdate>20220707</postdate></item><item><title>&lt;b&gt;빅데이터&lt;/b&gt;전문가 꼼꼼한 학습 노하우</title><link>https://blog.naver.com/dbsrptkdgod?Redirect=Log&amp;logNo=222803100328</link><description>&lt;b&gt;빅데이터&lt;/b&gt;전문가 강의에서 다루고 있는 내용들은 1) 해석과 분석, 2) 프로그램 실행, 3) 데이터의 구분 및 유형, 4) 요인 및 행렬, 5) 패키지 등이 있었는데요. 전체적인 내용을 듣고 숙지한 다음에, 개념적인 부분은... </description><bloggername>나</bloggername><bloggerlink>https://blog.naver.com/dbsrptkdgod</bloggerlink><postdate>20220707</postdate></item><item><title>&lt;b&gt;빅데이터&lt;/b&gt;전문가 대비하는 핵심 노하우</title><link>https://blog.naver.com/zkfk1116?Redirect=Log&amp;logNo=222803090088</link><description>과정에서 다루고 있는 내용들은 1) &lt;b&gt;빅데이터&lt;/b&gt;란?, 2) R 프로그램, 3) 벡터, 4) 데이터 등으로 나누어볼 수 있는데요. 생각했던 것 보다 적은 강의 수 였지만 필요한 내용이 알차게 구성되어 있는 조건이라서 커리큘럼... </description><bloggername>실버푸들아미</bloggername><bloggerlink>https://blog.naver.com/zkfk1116</bloggerlink><postdate>20220707</postdate></item><item><title>&lt;b&gt;빅데이터&lt;/b&gt;학원 이젠 AWS클라우드까지 체계적으로!</title><link>https://blog.naver.com/jeongok8602?Redirect=Log&amp;logNo=222706245644</link><description>그만큼 계절의 변화가 뚜렷하게 나타나고 있는 지금은 &lt;b&gt;빅데이터&lt;/b&gt; 관련 분야로 취업을 하고 1년차로... 부분은 데이터베이스의 분석이라고 할 수 있는데 여기서 배우는 프로그램이 파이썬을 배우고 프론트엔드에... </description><bloggername>호박공주맘의 시시콜콜</bloggername><bloggerlink>https://blog.naver.com/jeongok8602</bloggerlink><postdate>20220420</postdate></item><item><title>&lt;b&gt;빅데이터&lt;/b&gt; 자격증 준비 노하우와 활용 과정</title><link>https://blog.naver.com/sweety4338?Redirect=Log&amp;logNo=222782751481</link><description>정의, &lt;b&gt;빅 데이터&lt;/b&gt; 필요성, 구성과 범위, 데이터 활용의 의미, R 프로그래밍 기본과 같이 &lt;b&gt;빅데이터&lt;/b&gt;자격증 학습할 때 기본적인 것들을 배우기 시작합니다 처음에는 따라가기 어렵기도 했지만, 소수 정예 수업에 한... </description><bloggername>MY 지식@</bloggername><bloggerlink>https://blog.naver.com/sweety4338</bloggerlink><postdate>20220621</postdate></item><item><title>&lt;b&gt;빅데이터&lt;/b&gt;자격증 활용 방법 및 공부 팁</title><link>https://blog.naver.com/hjjkr?Redirect=Log&amp;logNo=222803875339</link><description>마케팅 업무를 하는 분들이라면 &lt;b&gt;빅데이터&lt;/b&gt;의 중요성에 대해서 공감하실 수 있을 것 같아요. 실제 관련... 산적해 있는 각종 데이터들을 수집, 분석 및 통계를 내어 이를 가지고 기업의 이익이 될 수 있도록 도움을... </description><bloggername>원주불곰댁 꼼지락 하우스</bloggername><bloggerlink>https://blog.naver.com/hjjkr</bloggerlink><postdate>20220708</postdate></item><item><title>&lt;b&gt;빅데이터&lt;/b&gt; 교육 단계별 맞춤형 학습과정</title><link>https://blog.naver.com/dorothy2648?Redirect=Log&amp;logNo=222756586083</link><description>통해 &lt;b&gt;빅데이터&lt;/b&gt; 교육에 대해 알게 되었습니다 이러한 이류로 여러 가지 기술에 대해서 알아보았고, 그 중에서도 가장 관심 있고 예전부터 취득하고 싶었던 &lt;b&gt;빅데이터&lt;/b&gt; 분석기사를 따 보려고 계획을 세웠습니다... </description><bloggername>오즈미니</bloggername><bloggerlink>https://blog.naver.com/dorothy2648</bloggerlink><postdate>20220602</postdate></item><item><title>&lt;b&gt;빅데이터&lt;/b&gt;자격증 취득을 목표로 한 분석방법</title><link>https://blog.naver.com/gywls5012?Redirect=Log&amp;logNo=222808899184</link><description>필요한 데이터만 모아서 사람들이 원하는 것을 뽑아낼 수 있는 능력을 가지고 싶었죠. 제가 앞으로 사회에 나가서 취직을 하는 것에 큰 도움을 받을 수 있을 것 같아서 합격률이 40% 정도인 &lt;b&gt;빅데이터&lt;/b&gt; 시험 취득... </description><bloggername>원두커피전국최저가판매/세보커피머신수리as전문</bloggername><bloggerlink>https://blog.naver.com/gywls5012</bloggerlink><postdate>20220712</postdate></item></channel></rss>\n"
     ]
    }
   ],
   "source": [
    "# 네이버 검색 API예제는 블로그를 비롯 전문자료까지 호출방법이 동일하므로 blog검색만 대표로 예제를 올렸습니다.\n",
    "# 네이버 검색 Open API 예제 - 블로그 검색\n",
    "# xml 결과\n",
    "\n",
    "import os\n",
    "import sys\n",
    "import urllib.request\n",
    "\n",
    "# client_id = \"YOUR_CLIENT_ID\"\n",
    "# client_secret = \"YOUR_CLIENT_SECRET\"\n",
    "\n",
    "client_id = \"OHjow4RoV5IW9hbt4e6H\"\n",
    "client_secret = \"WX9_Vqfv6p\"\n",
    "\n",
    "query = urllib.parse.quote(input(\"검색 질의\"))\n",
    "# url = \"https://openapi.naver.com/v1/search/blog?query=\" + query # json 결과\n",
    "url = \"https://openapi.naver.com/v1/search/blog.xml?query=\" + query # xml 결과\n",
    "\n",
    "request = urllib.request.Request(url)\n",
    "request.add_header(\"X-Naver-Client-Id\",client_id)\n",
    "request.add_header(\"X-Naver-Client-Secret\",client_secret)\n",
    "response = urllib.request.urlopen(request)\n",
    "rescode = response.getcode()\n",
    "if(rescode==200):\n",
    "    response_body = response.read()\n",
    "    print(response_body.decode('utf-8'))\n",
    "else:\n",
    "    print(\"Error Code:\" + rescode)"
   ]
  },
  {
   "cell_type": "code",
   "execution_count": 7,
   "id": "fdda1f06",
   "metadata": {},
   "outputs": [
    {
     "data": {
      "text/plain": [
       "\"Naver Open API - blog ::'빅데이터'https://search.naver.comNaver Search ResultThu, 28 Jul 2022 10:39:29 +09001144657110<b>빅데이터</b>전문가 준비를 위한 체계적인 방법https://blog.naver.com/nam8853nam?Redirect=Log&logNo=222802704648그 중에서도 주목해 볼만한 분야가 바로 ‘<b>빅데이터</b>’ 라고 생각했어요. 기업이 이익을 창출하기... 이런 점들을 고려했을 때 1) 영업, 2) 컨설팅, 3) 제조 분야 모두 통틀어서 데이터 분석이 정말 중요한 부분을... 율맘 스토리https://blog.naver.com/nam8853nam20220707<b>빅데이터</b>분석기사 실기 준비를 위한 학습루틴https://blog.naver.com/parkrapp?Redirect=Log&logNo=222753783578안녕하세요, 오늘은 제가 도전한 <b>빅데이터</b>분석기사에 대한 정보를 많은 분과 나누고 싶어 이야기를... <b>빅데이터</b>를 이해하고 이를 분석, 수집, 저장 등의 시각화를 수행하는 실무자 역할을 하는 분석기사는... 황금빛 쭈롱월드https://blog.naver.com/parkrapp20220531<b>빅데이터</b>전문가 공부했던 과정https://blog.naver.com/kmin4015?Redirect=Log&logNo=222802560555<b>빅데이터</b>전문가 커리큘럼에서 다루고 있는 내용들은 1) 데이터 분석과 해석, 2) R 프로그램, 3) 요인 및 행렬, 4) 배열 및 리스트, 5) 패키지 등으로 구분해 볼 수 있는데요. 필요한 내용은 알차게 모두 구성되어 있는... 나날https://blog.naver.com/kmin401520220707<b>빅데이터</b>전문가 꼼꼼한 학습 노하우https://blog.naver.com/dbsrptkdgod?Redirect=Log&logNo=222803100328<b>빅데이터</b>전문가 강의에서 다루고 있는 내용들은 1) 해석과 분석, 2) 프로그램 실행, 3) 데이터의 구분 및 유형, 4) 요인 및 행렬, 5) 패키지 등이 있었는데요. 전체적인 내용을 듣고 숙지한 다음에, 개념적인 부분은... 나https://blog.naver.com/dbsrptkdgod20220707<b>빅데이터</b>전문가 대비하는 핵심 노하우https://blog.naver.com/zkfk1116?Redirect=Log&logNo=222803090088과정에서 다루고 있는 내용들은 1) <b>빅데이터</b>란?, 2) R 프로그램, 3) 벡터, 4) 데이터 등으로 나누어볼 수 있는데요. 생각했던 것 보다 적은 강의 수 였지만 필요한 내용이 알차게 구성되어 있는 조건이라서 커리큘럼... 실버푸들아미https://blog.naver.com/zkfk111620220707<b>빅데이터</b>학원 이젠 AWS클라우드까지 체계적으로!https://blog.naver.com/jeongok8602?Redirect=Log&logNo=222706245644그만큼 계절의 변화가 뚜렷하게 나타나고 있는 지금은 <b>빅데이터</b> 관련 분야로 취업을 하고 1년차로... 부분은 데이터베이스의 분석이라고 할 수 있는데 여기서 배우는 프로그램이 파이썬을 배우고 프론트엔드에... 호박공주맘의 시시콜콜https://blog.naver.com/jeongok860220220420<b>빅데이터</b> 자격증 준비 노하우와 활용 과정https://blog.naver.com/sweety4338?Redirect=Log&logNo=222782751481정의, <b>빅 데이터</b> 필요성, 구성과 범위, 데이터 활용의 의미, R 프로그래밍 기본과 같이 <b>빅데이터</b>자격증 학습할 때 기본적인 것들을 배우기 시작합니다 처음에는 따라가기 어렵기도 했지만, 소수 정예 수업에 한... MY 지식@https://blog.naver.com/sweety433820220621<b>빅데이터</b>자격증 활용 방법 및 공부 팁https://blog.naver.com/hjjkr?Redirect=Log&logNo=222803875339마케팅 업무를 하는 분들이라면 <b>빅데이터</b>의 중요성에 대해서 공감하실 수 있을 것 같아요. 실제 관련... 산적해 있는 각종 데이터들을 수집, 분석 및 통계를 내어 이를 가지고 기업의 이익이 될 수 있도록 도움을... 원주불곰댁 꼼지락 하우스https://blog.naver.com/hjjkr20220708<b>빅데이터</b> 교육 단계별 맞춤형 학습과정https://blog.naver.com/dorothy2648?Redirect=Log&logNo=222756586083통해 <b>빅데이터</b> 교육에 대해 알게 되었습니다 이러한 이류로 여러 가지 기술에 대해서 알아보았고, 그 중에서도 가장 관심 있고 예전부터 취득하고 싶었던 <b>빅데이터</b> 분석기사를 따 보려고 계획을 세웠습니다... 오즈미니https://blog.naver.com/dorothy264820220602<b>빅데이터</b>자격증 취득을 목표로 한 분석방법https://blog.naver.com/gywls5012?Redirect=Log&logNo=222808899184필요한 데이터만 모아서 사람들이 원하는 것을 뽑아낼 수 있는 능력을 가지고 싶었죠. 제가 앞으로 사회에 나가서 취직을 하는 것에 큰 도움을 받을 수 있을 것 같아서 합격률이 40% 정도인 <b>빅데이터</b> 시험 취득... 원두커피전국최저가판매/세보커피머신수리as전문https://blog.naver.com/gywls501220220712\""
      ]
     },
     "execution_count": 7,
     "metadata": {},
     "output_type": "execute_result"
    }
   ],
   "source": [
    "import warnings\n",
    "warnings.filterwarnings('ignore')\n",
    "from bs4 import BeautifulSoup\n",
    "\n",
    "xml = response_body.decode(\"utf-8\")\n",
    "bs = BeautifulSoup(xml,'lxml')\n",
    "bs.get_text()"
   ]
  },
  {
   "cell_type": "code",
   "execution_count": 8,
   "id": "d360708f",
   "metadata": {},
   "outputs": [
    {
     "name": "stdout",
     "output_type": "stream",
     "text": [
      "검색 질의빅데이터\n",
      "{\n",
      "\t\"lastBuildDate\":\"Thu, 28 Jul 2022 10:43:07 +0900\",\n",
      "\t\"total\":1144656,\n",
      "\t\"start\":1,\n",
      "\t\"display\":10,\n",
      "\t\"items\":[\n",
      "\t\t{\n",
      "\t\t\t\"title\":\"<b>빅데이터<\\/b>전문가 준비를 위한 체계적인 방법\",\n",
      "\t\t\t\"link\":\"https:\\/\\/blog.naver.com\\/nam8853nam?Redirect=Log&logNo=222802704648\",\n",
      "\t\t\t\"description\":\"그 중에서도 주목해 볼만한 분야가 바로 ‘<b>빅데이터<\\/b>’ 라고 생각했어요. 기업이 이익을 창출하기... 이런 점들을 고려했을 때 1) 영업, 2) 컨설팅, 3) 제조 분야 모두 통틀어서 데이터 분석이 정말 중요한 부분을... \",\n",
      "\t\t\t\"bloggername\":\"율맘 스토리\",\n",
      "\t\t\t\"bloggerlink\":\"https:\\/\\/blog.naver.com\\/nam8853nam\",\n",
      "\t\t\t\"postdate\":\"20220707\"\n",
      "\t\t},\n",
      "\t\t{\n",
      "\t\t\t\"title\":\"<b>빅데이터<\\/b>분석기사 실기 준비를 위한 학습루틴\",\n",
      "\t\t\t\"link\":\"https:\\/\\/blog.naver.com\\/parkrapp?Redirect=Log&logNo=222753783578\",\n",
      "\t\t\t\"description\":\"안녕하세요, 오늘은 제가 도전한 <b>빅데이터<\\/b>분석기사에 대한 정보를 많은 분과 나누고 싶어 이야기를... <b>빅데이터<\\/b>를 이해하고 이를 분석, 수집, 저장 등의 시각화를 수행하는 실무자 역할을 하는 분석기사는... \",\n",
      "\t\t\t\"bloggername\":\"황금빛 쭈롱월드\",\n",
      "\t\t\t\"bloggerlink\":\"https:\\/\\/blog.naver.com\\/parkrapp\",\n",
      "\t\t\t\"postdate\":\"20220531\"\n",
      "\t\t},\n",
      "\t\t{\n",
      "\t\t\t\"title\":\"<b>빅데이터<\\/b>전문가 공부했던 과정\",\n",
      "\t\t\t\"link\":\"https:\\/\\/blog.naver.com\\/kmin4015?Redirect=Log&logNo=222802560555\",\n",
      "\t\t\t\"description\":\"<b>빅데이터<\\/b>전문가 커리큘럼에서 다루고 있는 내용들은 1) 데이터 분석과 해석, 2) R 프로그램, 3) 요인 및 행렬, 4) 배열 및 리스트, 5) 패키지 등으로 구분해 볼 수 있는데요. 필요한 내용은 알차게 모두 구성되어 있는... \",\n",
      "\t\t\t\"bloggername\":\"나날\",\n",
      "\t\t\t\"bloggerlink\":\"https:\\/\\/blog.naver.com\\/kmin4015\",\n",
      "\t\t\t\"postdate\":\"20220707\"\n",
      "\t\t},\n",
      "\t\t{\n",
      "\t\t\t\"title\":\"<b>빅데이터<\\/b>전문가 꼼꼼한 학습 노하우\",\n",
      "\t\t\t\"link\":\"https:\\/\\/blog.naver.com\\/dbsrptkdgod?Redirect=Log&logNo=222803100328\",\n",
      "\t\t\t\"description\":\"<b>빅데이터<\\/b>전문가 강의에서 다루고 있는 내용들은 1) 해석과 분석, 2) 프로그램 실행, 3) 데이터의 구분 및 유형, 4) 요인 및 행렬, 5) 패키지 등이 있었는데요. 전체적인 내용을 듣고 숙지한 다음에, 개념적인 부분은... \",\n",
      "\t\t\t\"bloggername\":\"나\",\n",
      "\t\t\t\"bloggerlink\":\"https:\\/\\/blog.naver.com\\/dbsrptkdgod\",\n",
      "\t\t\t\"postdate\":\"20220707\"\n",
      "\t\t},\n",
      "\t\t{\n",
      "\t\t\t\"title\":\"<b>빅데이터<\\/b>전문가 대비하는 핵심 노하우\",\n",
      "\t\t\t\"link\":\"https:\\/\\/blog.naver.com\\/zkfk1116?Redirect=Log&logNo=222803090088\",\n",
      "\t\t\t\"description\":\"과정에서 다루고 있는 내용들은 1) <b>빅데이터<\\/b>란?, 2) R 프로그램, 3) 벡터, 4) 데이터 등으로 나누어볼 수 있는데요. 생각했던 것 보다 적은 강의 수 였지만 필요한 내용이 알차게 구성되어 있는 조건이라서 커리큘럼... \",\n",
      "\t\t\t\"bloggername\":\"실버푸들아미\",\n",
      "\t\t\t\"bloggerlink\":\"https:\\/\\/blog.naver.com\\/zkfk1116\",\n",
      "\t\t\t\"postdate\":\"20220707\"\n",
      "\t\t},\n",
      "\t\t{\n",
      "\t\t\t\"title\":\"<b>빅데이터<\\/b>학원 이젠 AWS클라우드까지 체계적으로!\",\n",
      "\t\t\t\"link\":\"https:\\/\\/blog.naver.com\\/jeongok8602?Redirect=Log&logNo=222706245644\",\n",
      "\t\t\t\"description\":\"그만큼 계절의 변화가 뚜렷하게 나타나고 있는 지금은 <b>빅데이터<\\/b> 관련 분야로 취업을 하고 1년차로... 부분은 데이터베이스의 분석이라고 할 수 있는데 여기서 배우는 프로그램이 파이썬을 배우고 프론트엔드에... \",\n",
      "\t\t\t\"bloggername\":\"호박공주맘의 시시콜콜\",\n",
      "\t\t\t\"bloggerlink\":\"https:\\/\\/blog.naver.com\\/jeongok8602\",\n",
      "\t\t\t\"postdate\":\"20220420\"\n",
      "\t\t},\n",
      "\t\t{\n",
      "\t\t\t\"title\":\"<b>빅데이터<\\/b> 자격증 준비 노하우와 활용 과정\",\n",
      "\t\t\t\"link\":\"https:\\/\\/blog.naver.com\\/sweety4338?Redirect=Log&logNo=222782751481\",\n",
      "\t\t\t\"description\":\"정의, <b>빅 데이터<\\/b> 필요성, 구성과 범위, 데이터 활용의 의미, R 프로그래밍 기본과 같이 <b>빅데이터<\\/b>자격증 학습할 때 기본적인 것들을 배우기 시작합니다 처음에는 따라가기 어렵기도 했지만, 소수 정예 수업에 한... \",\n",
      "\t\t\t\"bloggername\":\"MY 지식@\",\n",
      "\t\t\t\"bloggerlink\":\"https:\\/\\/blog.naver.com\\/sweety4338\",\n",
      "\t\t\t\"postdate\":\"20220621\"\n",
      "\t\t},\n",
      "\t\t{\n",
      "\t\t\t\"title\":\"<b>빅데이터<\\/b>자격증 활용 방법 및 공부 팁\",\n",
      "\t\t\t\"link\":\"https:\\/\\/blog.naver.com\\/hjjkr?Redirect=Log&logNo=222803875339\",\n",
      "\t\t\t\"description\":\"마케팅 업무를 하는 분들이라면 <b>빅데이터<\\/b>의 중요성에 대해서 공감하실 수 있을 것 같아요. 실제 관련... 산적해 있는 각종 데이터들을 수집, 분석 및 통계를 내어 이를 가지고 기업의 이익이 될 수 있도록 도움을... \",\n",
      "\t\t\t\"bloggername\":\"원주불곰댁 꼼지락 하우스\",\n",
      "\t\t\t\"bloggerlink\":\"https:\\/\\/blog.naver.com\\/hjjkr\",\n",
      "\t\t\t\"postdate\":\"20220708\"\n",
      "\t\t},\n",
      "\t\t{\n",
      "\t\t\t\"title\":\"<b>빅데이터<\\/b> 교육 단계별 맞춤형 학습과정\",\n",
      "\t\t\t\"link\":\"https:\\/\\/blog.naver.com\\/dorothy2648?Redirect=Log&logNo=222756586083\",\n",
      "\t\t\t\"description\":\"통해 <b>빅데이터<\\/b> 교육에 대해 알게 되었습니다 이러한 이류로 여러 가지 기술에 대해서 알아보았고, 그 중에서도 가장 관심 있고 예전부터 취득하고 싶었던 <b>빅데이터<\\/b> 분석기사를 따 보려고 계획을 세웠습니다... \",\n",
      "\t\t\t\"bloggername\":\"오즈미니\",\n",
      "\t\t\t\"bloggerlink\":\"https:\\/\\/blog.naver.com\\/dorothy2648\",\n",
      "\t\t\t\"postdate\":\"20220602\"\n",
      "\t\t},\n",
      "\t\t{\n",
      "\t\t\t\"title\":\"<b>빅데이터<\\/b>자격증 취득을 목표로 한 분석방법\",\n",
      "\t\t\t\"link\":\"https:\\/\\/blog.naver.com\\/gywls5012?Redirect=Log&logNo=222808899184\",\n",
      "\t\t\t\"description\":\"필요한 데이터만 모아서 사람들이 원하는 것을 뽑아낼 수 있는 능력을 가지고 싶었죠. 제가 앞으로 사회에 나가서 취직을 하는 것에 큰 도움을 받을 수 있을 것 같아서 합격률이 40% 정도인 <b>빅데이터<\\/b> 시험 취득... \",\n",
      "\t\t\t\"bloggername\":\"원두커피전국최저가판매\\/세보커피머신수리as전문\",\n",
      "\t\t\t\"bloggerlink\":\"https:\\/\\/blog.naver.com\\/gywls5012\",\n",
      "\t\t\t\"postdate\":\"20220712\"\n",
      "\t\t}\n",
      "\t]\n",
      "}\n"
     ]
    }
   ],
   "source": [
    "# json 결과\n",
    "import os\n",
    "import sys\n",
    "import urllib.request\n",
    "\n",
    "# client_id = \"YOUR_CLIENT_ID\"\n",
    "# client_secret = \"YOUR_CLIENT_SECRET\"\n",
    "\n",
    "client_id = \"OHjow4RoV5IW9hbt4e6H\"\n",
    "client_secret = \"WX9_Vqfv6p\"\n",
    "\n",
    "query = urllib.parse.quote(input(\"검색 질의\"))\n",
    "url = \"https://openapi.naver.com/v1/search/blog?query=\" + query # json 결과\n",
    "#url = \"https://openapi.naver.com/v1/search/blog.xml?query=\" + query # xml 결과\n",
    "\n",
    "request = urllib.request.Request(url)\n",
    "request.add_header(\"X-Naver-Client-Id\",client_id)\n",
    "request.add_header(\"X-Naver-Client-Secret\",client_secret)\n",
    "response = urllib.request.urlopen(request)\n",
    "rescode = response.getcode()\n",
    "if(rescode==200):\n",
    "    response_body = response.read()\n",
    "    print(response_body.decode('utf-8'))\n",
    "else:\n",
    "    print(\"Error Code:\" + rescode)"
   ]
  },
  {
   "cell_type": "markdown",
   "id": "8f0b9019",
   "metadata": {},
   "source": [
    "## 네이버 웹문서"
   ]
  },
  {
   "cell_type": "markdown",
   "id": "dc44d6c5",
   "metadata": {},
   "source": [
    "#### 과제 0728_1 \n",
    "네이버 웹문서에서 빅데이터에 대한 데이터를 가져와서 의미있는 정보로 구성된 데이터프레임을 출력하세요. (api 가이드 참조)"
   ]
  },
  {
   "cell_type": "code",
   "execution_count": 20,
   "id": "b477fa2a",
   "metadata": {
    "scrolled": true
   },
   "outputs": [
    {
     "name": "stdout",
     "output_type": "stream",
     "text": [
      "검색 질의 빅데이터\n"
     ]
    },
    {
     "data": {
      "text/html": [
       "<div>\n",
       "<style scoped>\n",
       "    .dataframe tbody tr th:only-of-type {\n",
       "        vertical-align: middle;\n",
       "    }\n",
       "\n",
       "    .dataframe tbody tr th {\n",
       "        vertical-align: top;\n",
       "    }\n",
       "\n",
       "    .dataframe thead th {\n",
       "        text-align: right;\n",
       "    }\n",
       "</style>\n",
       "<table border=\"1\" class=\"dataframe\">\n",
       "  <thead>\n",
       "    <tr style=\"text-align: right;\">\n",
       "      <th></th>\n",
       "      <th>lastBuildDate</th>\n",
       "      <th>total</th>\n",
       "      <th>start</th>\n",
       "      <th>display</th>\n",
       "      <th>items</th>\n",
       "    </tr>\n",
       "  </thead>\n",
       "  <tbody>\n",
       "    <tr>\n",
       "      <th>0</th>\n",
       "      <td>Thu, 28 Jul 2022 11:17:42 +0900</td>\n",
       "      <td>38494233</td>\n",
       "      <td>1</td>\n",
       "      <td>10</td>\n",
       "      <td>{'title': '&lt;b&gt;빅 데이터&lt;/b&gt; 프로세싱 - 나무위키', 'link': ...</td>\n",
       "    </tr>\n",
       "    <tr>\n",
       "      <th>1</th>\n",
       "      <td>Thu, 28 Jul 2022 11:17:42 +0900</td>\n",
       "      <td>38494233</td>\n",
       "      <td>1</td>\n",
       "      <td>10</td>\n",
       "      <td>{'title': '&lt;b&gt;빅데이터&lt;/b&gt;란? | 고급 &lt;b&gt;빅데이터&lt;/b&gt; 분석 |...</td>\n",
       "    </tr>\n",
       "    <tr>\n",
       "      <th>2</th>\n",
       "      <td>Thu, 28 Jul 2022 11:17:42 +0900</td>\n",
       "      <td>38494233</td>\n",
       "      <td>1</td>\n",
       "      <td>10</td>\n",
       "      <td>{'title': '&lt;b&gt;빅 데이터&lt;/b&gt;란 무엇입니까? | Oracle 대한민국'...</td>\n",
       "    </tr>\n",
       "    <tr>\n",
       "      <th>3</th>\n",
       "      <td>Thu, 28 Jul 2022 11:17:42 +0900</td>\n",
       "      <td>38494233</td>\n",
       "      <td>1</td>\n",
       "      <td>10</td>\n",
       "      <td>{'title': '&lt;b&gt;빅데이터&lt;/b&gt;(big data) 이해 - 정의, 분석, ...</td>\n",
       "    </tr>\n",
       "    <tr>\n",
       "      <th>4</th>\n",
       "      <td>Thu, 28 Jul 2022 11:17:42 +0900</td>\n",
       "      <td>38494233</td>\n",
       "      <td>1</td>\n",
       "      <td>10</td>\n",
       "      <td>{'title': '네이버 &lt;b&gt;데이터&lt;/b&gt;랩', 'link': 'https://...</td>\n",
       "    </tr>\n",
       "    <tr>\n",
       "      <th>5</th>\n",
       "      <td>Thu, 28 Jul 2022 11:17:42 +0900</td>\n",
       "      <td>38494233</td>\n",
       "      <td>1</td>\n",
       "      <td>10</td>\n",
       "      <td>{'title': '&lt;b&gt;빅데이터&lt;/b&gt; - BC카드', 'link': 'https...</td>\n",
       "    </tr>\n",
       "    <tr>\n",
       "      <th>6</th>\n",
       "      <td>Thu, 28 Jul 2022 11:17:42 +0900</td>\n",
       "      <td>38494233</td>\n",
       "      <td>1</td>\n",
       "      <td>10</td>\n",
       "      <td>{'title': '트라이빅 소개 &amp;lt; 서비스 안내 : KOTRA 무역투자&lt;b&gt;...</td>\n",
       "    </tr>\n",
       "    <tr>\n",
       "      <th>7</th>\n",
       "      <td>Thu, 28 Jul 2022 11:17:42 +0900</td>\n",
       "      <td>38494233</td>\n",
       "      <td>1</td>\n",
       "      <td>10</td>\n",
       "      <td>{'title': '국가기술 &lt;b&gt;빅데이터&lt;/b&gt; 분석기사 - &lt;b&gt;데이터&lt;/b&gt;자...</td>\n",
       "    </tr>\n",
       "    <tr>\n",
       "      <th>8</th>\n",
       "      <td>Thu, 28 Jul 2022 11:17:42 +0900</td>\n",
       "      <td>38494233</td>\n",
       "      <td>1</td>\n",
       "      <td>10</td>\n",
       "      <td>{'title': '&lt;b&gt;빅데이터&lt;/b&gt;의 이해 - 글이 작품이 되는 공간, 브런치...</td>\n",
       "    </tr>\n",
       "    <tr>\n",
       "      <th>9</th>\n",
       "      <td>Thu, 28 Jul 2022 11:17:42 +0900</td>\n",
       "      <td>38494233</td>\n",
       "      <td>1</td>\n",
       "      <td>10</td>\n",
       "      <td>{'title': '미디어백과: &lt;b&gt;빅데이터&lt;/b&gt; - 네이버 지식백과', 'li...</td>\n",
       "    </tr>\n",
       "  </tbody>\n",
       "</table>\n",
       "</div>"
      ],
      "text/plain": [
       "                     lastBuildDate     total  start  display  \\\n",
       "0  Thu, 28 Jul 2022 11:17:42 +0900  38494233      1       10   \n",
       "1  Thu, 28 Jul 2022 11:17:42 +0900  38494233      1       10   \n",
       "2  Thu, 28 Jul 2022 11:17:42 +0900  38494233      1       10   \n",
       "3  Thu, 28 Jul 2022 11:17:42 +0900  38494233      1       10   \n",
       "4  Thu, 28 Jul 2022 11:17:42 +0900  38494233      1       10   \n",
       "5  Thu, 28 Jul 2022 11:17:42 +0900  38494233      1       10   \n",
       "6  Thu, 28 Jul 2022 11:17:42 +0900  38494233      1       10   \n",
       "7  Thu, 28 Jul 2022 11:17:42 +0900  38494233      1       10   \n",
       "8  Thu, 28 Jul 2022 11:17:42 +0900  38494233      1       10   \n",
       "9  Thu, 28 Jul 2022 11:17:42 +0900  38494233      1       10   \n",
       "\n",
       "                                               items  \n",
       "0  {'title': '<b>빅 데이터</b> 프로세싱 - 나무위키', 'link': ...  \n",
       "1  {'title': '<b>빅데이터</b>란? | 고급 <b>빅데이터</b> 분석 |...  \n",
       "2  {'title': '<b>빅 데이터</b>란 무엇입니까? | Oracle 대한민국'...  \n",
       "3  {'title': '<b>빅데이터</b>(big data) 이해 - 정의, 분석, ...  \n",
       "4  {'title': '네이버 <b>데이터</b>랩', 'link': 'https://...  \n",
       "5  {'title': '<b>빅데이터</b> - BC카드', 'link': 'https...  \n",
       "6  {'title': '트라이빅 소개 &lt; 서비스 안내 : KOTRA 무역투자<b>...  \n",
       "7  {'title': '국가기술 <b>빅데이터</b> 분석기사 - <b>데이터</b>자...  \n",
       "8  {'title': '<b>빅데이터</b>의 이해 - 글이 작품이 되는 공간, 브런치...  \n",
       "9  {'title': '미디어백과: <b>빅데이터</b> - 네이버 지식백과', 'li...  "
      ]
     },
     "execution_count": 20,
     "metadata": {},
     "output_type": "execute_result"
    }
   ],
   "source": [
    "import os\n",
    "import sys\n",
    "import urllib.request\n",
    "\n",
    "client_id = \"OHjow4RoV5IW9hbt4e6H\"\n",
    "client_secret = \"WX9_Vqfv6p\"\n",
    "\n",
    "query = urllib.parse.quote(input(\"검색 질의 \"))\n",
    "url = 'https://openapi.naver.com/v1/search/webkr.json?query='+query # json 결과\n",
    "# url = \"https://openapi.naver.com/v1/search/webkr.json?query=\" +qurey # xml 결과\n",
    "\n",
    "\n",
    "request = urllib.request.Request(url)\n",
    "request.add_header(\"X-Naver-Client-Id\",client_id)\n",
    "request.add_header(\"X-Naver-Client-Secret\",client_secret)\n",
    "response = urllib.request.urlopen(request)\n",
    "rescode = response.getcode()\n",
    "if(rescode==200):\n",
    "    response_body = response.read()\n",
    "    #print(response_body.decode('utf-8'))\n",
    "else:\n",
    "    print(\"Error Code:\" + rescode)\n",
    "\n",
    "import warnings\n",
    "warnings.filterwarnings('ignore')\n",
    "import pandas as pd\n",
    "\n",
    "df = pd.read_json(response_body.decode('utf-8'))\n",
    "df\n"
   ]
  },
  {
   "cell_type": "markdown",
   "id": "f16d3e92",
   "metadata": {},
   "source": [
    "#### 과제0728_2\n",
    "뉴스, 영화, 쇼핑, 지식in, 카페글에서 적합한 주제에 대한 데이터를 가져와서 데이터프레임을 출력하세요."
   ]
  },
  {
   "cell_type": "markdown",
   "id": "6be1e11b",
   "metadata": {},
   "source": [
    "## 네이버 뉴스"
   ]
  },
  {
   "cell_type": "markdown",
   "id": "20946952",
   "metadata": {},
   "source": [
    "## 네이버 영화"
   ]
  },
  {
   "cell_type": "markdown",
   "id": "b130f749",
   "metadata": {},
   "source": [
    "## 네이버 쇼핑"
   ]
  },
  {
   "cell_type": "markdown",
   "id": "de8c0307",
   "metadata": {},
   "source": [
    "## 네이버 지식in"
   ]
  },
  {
   "cell_type": "markdown",
   "id": "fd3cfc3a",
   "metadata": {},
   "source": [
    "## 네이버 카페"
   ]
  }
 ],
 "metadata": {
  "kernelspec": {
   "display_name": "Python 3 (ipykernel)",
   "language": "python",
   "name": "python3"
  },
  "language_info": {
   "codemirror_mode": {
    "name": "ipython",
    "version": 3
   },
   "file_extension": ".py",
   "mimetype": "text/x-python",
   "name": "python",
   "nbconvert_exporter": "python",
   "pygments_lexer": "ipython3",
   "version": "3.8.13"
  },
  "toc": {
   "base_numbering": 1,
   "nav_menu": {},
   "number_sections": false,
   "sideBar": true,
   "skip_h1_title": false,
   "title_cell": "Table of Contents",
   "title_sidebar": "Contents",
   "toc_cell": false,
   "toc_position": {},
   "toc_section_display": true,
   "toc_window_display": true
  }
 },
 "nbformat": 4,
 "nbformat_minor": 5
}
