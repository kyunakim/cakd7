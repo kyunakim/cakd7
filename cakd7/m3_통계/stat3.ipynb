{
 "cells": [
  {
   "cell_type": "markdown",
   "id": "a0a73a81-cea5-4d24-b4e6-dc4aceecfee4",
   "metadata": {},
   "source": [
    "# 독립동일분포\n",
    "- 확률변수가 서로 독립이라는 것은 확률변수가 다른 확률변수에 영향을 끼치지 않는다는 의미이다.\n",
    "- 통계분석에서 취급하는 데이터 중 상당수가 독립이면서 다차원인 확률변수의 실현값으로 간주될 수 있다.\n",
    "- 서로 독립이고 각각 동일한 확률분포를 따르는 다차원 확률변수를 독립동일분포라 한다.\n",
    "- 동일한 조건 아래에서 수행되는 실험이나 관측을 여러번 반복하여 데이터를 얻는 것을 수학용어로 나타낸 것"
   ]
  },
  {
   "cell_type": "code",
   "execution_count": 5,
   "id": "d97ed1b3-d149-4e0f-a25e-ad3f1f870e37",
   "metadata": {},
   "outputs": [],
   "source": [
    "import numpy as np\n",
    "import matplotlib.pyplot as plt\n",
    "from scipy import stats, integrate\n",
    "from scipy.optimize import minimize_scalar\n",
    "np.random.seed(0)\n",
    "import warnings\n",
    "warnings.filterwarnings('ignore', category=integrate.IntegrationWarning)\n",
    "%precision 3\n",
    "%matplotlib inline"
   ]
  },
  {
   "cell_type": "code",
   "execution_count": 6,
   "id": "7cc5a937-8600-4ee6-9abb-1f27edc61401",
   "metadata": {},
   "outputs": [],
   "source": [
    "linestyles = ['-', '--', ':', '-. ']\n",
    "\n",
    "def E(XY, g):\n",
    "    x_set, y_set, f_XY = XY\n",
    "    return np.sum([g(x_i, y_j) * f_XY(x_i, y_j)for x_i in x_set for y_j in y_set])\n",
    "\n",
    "def Cov(XY):\n",
    "    x_set, y_set, f_XY = XY\n",
    "    mean_X = E(XY, lambda x, y:x)\n",
    "    mean_Y = E(XY, lambda x, y:y)\n",
    "    return np.sum([(x_i-mean_X) * (y_j-mean_Y) * f_XY(x_i, y_j)for x_i in x_set for y_j in y_set])\n",
    "\n",
    "def f_X(x):\n",
    "    return np.sum([f_XY(x, y_k) for y_k in y_set])\n",
    "\n",
    "def f_Y(y):\n",
    "    return np.sum([f_XY(x_k, y) for x_k in x_set])"
   ]
  },
  {
   "cell_type": "markdown",
   "id": "1f56a863-d751-4ede-a874-bb583af92f2a",
   "metadata": {},
   "source": [
    "## 독립성"
   ]
  },
  {
   "cell_type": "markdown",
   "id": "56b58c17-5d28-43ba-a3ab-250481922f91",
   "metadata": {},
   "source": [
    "### 독립성의 정의\n",
    "- 2개 이상의 확률변수가 서로 영향을 끼치지 않으며 관계가 없음을 나타내는 개념\n",
    "- 2차원 확률변수 (X,Y)의 경우 다음과 같은 관계가 성립할 때 X,Y는 독립이라고 함.\n",
    "- 확률변수가 독립일 때 결합확률은 주변확률의 곱으로 작성할 수 있다.\n",
    "- 일반화 : \n",
    "\n",
    "    ※ 함수 f가 이산형이면 확률함수, 연속형이면 밀도함수를 나타냄"
   ]
  },
  {
   "cell_type": "markdown",
   "id": "f1e3e773-11b7-4e82-9985-3277e08845bc",
   "metadata": {},
   "source": [
    "### 독립성과 무상관성\n",
    "- 공분산이나 상관계수가 0일 때 무상관이라 하고 두 확률변수 사이에는 상관성, 즉 선형 관계가 없음을 나타냄\n",
    "- 독립성도 무상관성도 두 확률변수가 서로 관계가 없다는 것을 나타내는 성질이다.\n",
    "    - 무상관성보다 독립성이 더 강한 개념\n",
    "    - 2개의 확률변수 X와 Y가 독립일 때 X와 Y는 무상관이 되지만 X와 Y가 무상관일 때 X와 Y가 반드시 독립인 것은 아님"
   ]
  },
  {
   "cell_type": "code",
   "execution_count": 7,
   "id": "cc236c6f-870b-45ab-95ee-fe2f6405fe2f",
   "metadata": {},
   "outputs": [],
   "source": [
    "# 불공정한 주사위의 예\n",
    "x_set = np.array([1,2,3,4,5,6])\n",
    "y_set = np.array([1,2,3,4,5,6])\n",
    "\n",
    "def f_XY(x,y):\n",
    "    if x in x_set and y in y_set:\n",
    "        return x* y / 441\n",
    "    else:\n",
    "        return 0\n",
    "    \n",
    "XY = [x_set,y_set, f_XY]"
   ]
  },
  {
   "cell_type": "code",
   "execution_count": 8,
   "id": "98ad5d9b-aee7-4438-bc3c-edb408f854f4",
   "metadata": {},
   "outputs": [
    {
     "data": {
      "text/plain": [
       "-0.000"
      ]
     },
     "execution_count": 8,
     "metadata": {},
     "output_type": "execute_result"
    }
   ],
   "source": [
    "# 2차원 확률변수 X와 Y는 독립\n",
    "# 공분산이 0이므로 무상관\n",
    "Cov(XY)"
   ]
  },
  {
   "cell_type": "code",
   "execution_count": 9,
   "id": "591d0199-1023-433f-8ab8-0a734bf442b4",
   "metadata": {},
   "outputs": [],
   "source": [
    "# 무상관인 2개의 확률변수 고려\n",
    "x_set = np.array([0,1])\n",
    "y_set = np.array([-1,0,1])\n",
    "\n",
    "def f_XY(x,y):\n",
    "    if (x,y) in [(0,0),(1,1),(1,-1)]:\n",
    "        return 1/3\n",
    "    else:\n",
    "        return 0\n",
    "    \n",
    "XY = [x_set, y_set, f_XY]"
   ]
  },
  {
   "cell_type": "code",
   "execution_count": 10,
   "id": "349d3aca-db2c-477c-982d-b779742b1b3d",
   "metadata": {},
   "outputs": [
    {
     "data": {
      "text/plain": [
       "0.000"
      ]
     },
     "execution_count": 10,
     "metadata": {},
     "output_type": "execute_result"
    }
   ],
   "source": [
    "Cov(XY)"
   ]
  },
  {
   "cell_type": "code",
   "execution_count": 11,
   "id": "aed375eb-d9c7-4c76-abca-cdcf0aa6db66",
   "metadata": {},
   "outputs": [
    {
     "data": {
      "text/plain": [
       "(0.111, 0.333)"
      ]
     },
     "execution_count": 11,
     "metadata": {},
     "output_type": "execute_result"
    }
   ],
   "source": [
    "f_X(0) * f_Y(0), f_XY(0,0)"
   ]
  },
  {
   "cell_type": "markdown",
   "id": "d4f28ec4-7e59-41ea-bf1d-6ead221e3764",
   "metadata": {
    "tags": []
   },
   "source": [
    "## 합의 분포\n",
    "- 서로 독립이고 동일한 확률분포을 따르는 확률변수 이 따르는 확률분포를 의미\n",
    "- 합의 분포를 이해하면 확률변수의 합을 n으로 나눈 표본평균의 분포도 쉽게 이해할 수 있음\n",
    "- 확률변수 합의 기댓값 : 이 성립\n",
    "- 확률변수 합의 공식 : 이 성립\n",
    "- 결국 합의 분포 분산도 각 확률변수에 대한 분산의 합으로 계산할 수 있다."
   ]
  },
  {
   "cell_type": "code",
   "execution_count": 12,
   "id": "72039d01-4f30-4bfa-9fee-5a293b936151",
   "metadata": {},
   "outputs": [
    {
     "name": "stdout",
     "output_type": "stream",
     "text": [
      "[ 3.495  1.566  2.384 ... -0.128  2.237  2.94 ] \n",
      "\n",
      "[ 2.891  3.928  3.169 ... -1.152  1.427  1.326] \n",
      "\n",
      "평균: 1.0021384981105663 2.0005273223788174 \n",
      "\n",
      "분산: 1.999685316445821 2.993320616863069 \n",
      "\n",
      "합의 평균, 분산: 3.0026658204893835 4.9960524321119335\n"
     ]
    }
   ],
   "source": [
    "# 정규분포 합의 분포\n",
    "# 서로 독립인 X~N(1,2), Y~N(2,3)이 있을 때 확률변수 X + Y 의 분포는 N(3,5)를 따름\n",
    "rv1 = stats.norm(1,np.sqrt(2))\n",
    "rv2 = stats.norm(2,np.sqrt(3))\n",
    "\n",
    "sample_size = int(1e6)\n",
    "X_sample = rv1.rvs(sample_size)\n",
    "Y_sample = rv2.rvs(sample_size)\n",
    "print(X_sample, '\\n')\n",
    "print(Y_sample, '\\n')\n",
    "sum_sample  = X_sample + Y_sample\n",
    "print('평균:', np.mean(X_sample),np.mean(Y_sample),'\\n')\n",
    "print('분산:', np.var(X_sample), np.var(Y_sample),'\\n')\n",
    "print('합의 평균, 분산:', np.mean(sum_sample), np.var(sum_sample))"
   ]
  },
  {
   "cell_type": "markdown",
   "id": "41d79f15-8a61-4b3c-892c-e5a821396539",
   "metadata": {},
   "source": [
    "## 표본평균의 분포\n",
    "- 표본평균의 분포란 서로 독립이고 동일한 확률분포를 따르는 확률변수 $X_1, X_2, ...,X_n$의 표본평균이 따르는 분포\n",
    "- 이 분포는 중심극한정리나 대수의 법칙 등 추측통계에서 중요한 성질을 담고 있기 때문에 유의해야 함\n",
    "- 표본평균의 기댓값과 분산  \n",
    "$E(\\bar{X}) = \\mu$  \n",
    "$V(\\bar{X}) = {\\sigma}^2 / n$"
   ]
  },
  {
   "cell_type": "markdown",
   "id": "0f452f7b-0485-4434-98d2-c6a737f4df14",
   "metadata": {
    "tags": []
   },
   "source": [
    "### 중심극한정리\n",
    "- 확률변수 $X_1,X_2,...Xn$이 서로 독립이고 기댓값이 $\\mu, 분산이 {\\sigma}^2$인 확률분포 F를 따를 때 n이 커짐에 따라 표본평균 $\\bar{X}의 분포는 정규분포 N(\\mu,{\\sigma}^2/n)$에 가까워진다."
   ]
  },
  {
   "cell_type": "markdown",
   "id": "d2bac75f-1944-4252-8aa5-aec452948dad",
   "metadata": {
    "tags": []
   },
   "source": [
    "### 대수의 법칙\n",
    "확률변수 $X_1,X_2,...,X_n$이 서로 독립이고 평균이 $\\mu, 분산이 \\sigma^2$일 것 같은 확률분포를 따를 때 n이 커짐에 따라 표본평균은 $\\mu$에 수렴한다."
   ]
  },
  {
   "cell_type": "markdown",
   "id": "58e2f36c-74bf-48b6-a8da-21feb4dba637",
   "metadata": {},
   "source": [
    "#### [과제]\n",
    "중심극한정리와 대수의 법칙을 사례를 들어 설명하세요."
   ]
  },
  {
   "cell_type": "code",
   "execution_count": null,
   "id": "4a8b8617-fa4c-4908-af32-e3b1e97ba1d4",
   "metadata": {},
   "outputs": [],
   "source": []
  }
 ],
 "metadata": {
  "kernelspec": {
   "display_name": "Python 3 (ipykernel)",
   "language": "python",
   "name": "python3"
  },
  "language_info": {
   "codemirror_mode": {
    "name": "ipython",
    "version": 3
   },
   "file_extension": ".py",
   "mimetype": "text/x-python",
   "name": "python",
   "nbconvert_exporter": "python",
   "pygments_lexer": "ipython3",
   "version": "3.9.12"
  }
 },
 "nbformat": 4,
 "nbformat_minor": 5
}
