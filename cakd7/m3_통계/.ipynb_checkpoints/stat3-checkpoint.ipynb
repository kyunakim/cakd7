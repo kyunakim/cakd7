{
 "cells": [
  {
   "cell_type": "markdown",
   "id": "a0a73a81-cea5-4d24-b4e6-dc4aceecfee4",
   "metadata": {},
   "source": [
    "# 독립동일분포\n",
    "- 서로 독립이고 각각 동일한 확률분포를 따르는 다차원 확률변수\n",
    "- 동일한 조건 아래에서 수행되는 실험이나 관측을 여러번 반복하여 데이터를 얻는 것을 수학용어로 나타낸 것"
   ]
  },
  {
   "cell_type": "code",
   "execution_count": 3,
   "id": "d97ed1b3-d149-4e0f-a25e-ad3f1f870e37",
   "metadata": {},
   "outputs": [],
   "source": [
    "import numpy as np\n",
    "import matplotlib.pyplot as plt\n",
    "from scipy import stats, integrate\n",
    "from scipy.optimize import minimize_scalar\n",
    "np.random.seed(0)\n",
    "import warnings\n",
    "warnings.filterwarnings('ignore', category=integrate.IntegrationWarning)\n",
    "%precision 3\n",
    "%matplotlib inline"
   ]
  },
  {
   "cell_type": "code",
   "execution_count": 1,
   "id": "7cc5a937-8600-4ee6-9abb-1f27edc61401",
   "metadata": {},
   "outputs": [],
   "source": [
    "linestyles = ['-', '--', ':', '-. ']\n",
    "\n",
    "def E(XY, g):\n",
    "    x_set, y_set, f_XY = XY\n",
    "    return np.sum([g(x_i, y_j) * f_XY(x_i, y_j)for x_i in x_set for y_j in y_set])\n",
    "\n",
    "def Cov(XY):\n",
    "    x_set, y_set, f_XY = XY\n",
    "    mean_X = E(XY, lambda x, y:x)\n",
    "    mean_Y = E(XY, lambda x, y:y)\n",
    "    return np.sum([(x_i-mean_X) * (y_j-mean_Y) * f_XY(x_i, y_j)for x_i in x_set for y_j in y_set])\n",
    "\n",
    "def f_X(x):\n",
    "    return np.sum([f_XY(x, y_k) for y_k in y_set])\n",
    "\n",
    "def f_Y(y):\n",
    "    return np.sum([f_XY(x_k, y) for x_k in x_set])"
   ]
  },
  {
   "cell_type": "markdown",
   "id": "1f56a863-d751-4ede-a874-bb583af92f2a",
   "metadata": {},
   "source": [
    "## 독립성"
   ]
  },
  {
   "cell_type": "code",
   "execution_count": 5,
   "id": "72039d01-4f30-4bfa-9fee-5a293b936151",
   "metadata": {},
   "outputs": [
    {
     "name": "stdout",
     "output_type": "stream",
     "text": [
      "[ 0.67   2.366  1.628 ...  0.688 -0.51   1.459] \n",
      "\n",
      "[-2.63   2.433 -0.893 ...  0.051  3.648  0.004] \n",
      "\n",
      "평균: 0.9986617043495317 2.0018287793565332 \n",
      "\n",
      "분산: 2.0004790222691637 2.9931731057340802 \n",
      "\n",
      "합의 평균, 분산: 3.0004904837060664 4.989750326542952\n"
     ]
    }
   ],
   "source": [
    "# 서로 독립인 X~N(1,2), Y~N(2,3)이 있을 때 확률변수 X + Y 의 분포는 N(3,5)를 따름\n",
    "rv1 = stats.norm(1,np.sqrt(2))\n",
    "rv2 = stats.norm(2,np.sqrt(3))\n",
    "\n",
    "sample_size = int(1e6)\n",
    "X_sample = rv1.rvs(sample_size)\n",
    "Y_sample = rv2.rvs(sample_size)\n",
    "print(X_sample, '\\n')\n",
    "print(Y_sample, '\\n')\n",
    "sum_sample  = X_sample + Y_sample\n",
    "print('평균:', np.mean(X_sample),np.mean(Y_sample),'\\n')\n",
    "print('분산:', np.var(X_sample), np.var(Y_sample),'\\n')\n",
    "print('합의 평균, 분산:', np.mean(sum_sample), np.var(sum_sample))"
   ]
  },
  {
   "cell_type": "markdown",
   "id": "d4f28ec4-7e59-41ea-bf1d-6ead221e3764",
   "metadata": {},
   "source": [
    "## 합의 분포"
   ]
  },
  {
   "cell_type": "markdown",
   "id": "41d79f15-8a61-4b3c-892c-e5a821396539",
   "metadata": {},
   "source": [
    "## 표본평균의 분포\n",
    "- 표본평균의 분포란 서로 독립이고 동일한 확률분포를 따르는 확률변수 $X_1, X_2, ...,X_n$의 표본평균이 따르는 분포\n",
    "- 이 분포는 중심극한정리나 대수의 법칙 등 추측통계에서 중요한 성질을 담고 있기 때문에 유의해야 함\n",
    "- 표본평균의 기댓값과 분산  \n",
    "$E(\\bar{X}) = \\mu$  \n",
    "$V(\\bar{X}) = {\\sigma}^2 / n$"
   ]
  },
  {
   "cell_type": "markdown",
   "id": "0f452f7b-0485-4434-98d2-c6a737f4df14",
   "metadata": {
    "tags": []
   },
   "source": [
    "### 중심극한정리\n",
    "- 확률변수 $X_1,X_2,...Xn$이 서로 독립이고 기댓값이 $\\mu, 분산이 {\\sigma}^2$인 확률분포 F를 따를 때 n이 커짐에 따라 표본평균 $\\bar{X}의 분포는 정규분포 N(\\mu,{\\sigma}^2/n)$에 가까워진다."
   ]
  },
  {
   "cell_type": "markdown",
   "id": "d2bac75f-1944-4252-8aa5-aec452948dad",
   "metadata": {
    "tags": []
   },
   "source": [
    "### 대수의 법칙\n",
    "확률변수 $X_1,X_2,...,X_n$이 서로 독립이고 평균이 $\\mu, 분산이 \\sigma^2$일 것 같은 확률분포를 따를 때 n이 커짐에 따라 표본평균은 $\\mu$에 수렴한다."
   ]
  },
  {
   "cell_type": "code",
   "execution_count": null,
   "id": "742ff675-012a-4e18-83c2-3219f2ed0921",
   "metadata": {},
   "outputs": [],
   "source": []
  }
 ],
 "metadata": {
  "kernelspec": {
   "display_name": "Python 3 (ipykernel)",
   "language": "python",
   "name": "python3"
  },
  "language_info": {
   "codemirror_mode": {
    "name": "ipython",
    "version": 3
   },
   "file_extension": ".py",
   "mimetype": "text/x-python",
   "name": "python",
   "nbconvert_exporter": "python",
   "pygments_lexer": "ipython3",
   "version": "3.9.12"
  }
 },
 "nbformat": 4,
 "nbformat_minor": 5
}
