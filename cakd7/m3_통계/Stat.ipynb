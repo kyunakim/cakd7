{
 "cells": [
  {
   "cell_type": "markdown",
   "id": "07971f1b",
   "metadata": {},
   "source": [
    "# 1차원 데이터"
   ]
  },
  {
   "cell_type": "markdown",
   "id": "b636094c",
   "metadata": {},
   "source": [
    "- 평균값(기댓값), 표본분산, 불편분산(ddof=1), 표준편차\n",
    "- 표본분산은 표본의 평균을 사용해서 분산을 계산한 값으로 분산을 과소 추정하는 경향이 있으며 그 경향을 없애기 위한 것이 불편분산임. 표본분산 보다 조금 큰 값이 된다.\n",
    "- 표준화 : 평균값이 큰 변수와 작은 변수가 섞여 있으면 다루기 어려우므로 표준화로 데이터를 비교하기 쉽게 한다.\n",
    "- 최댓값, 최솟값, 중앙값, 사분위수\n",
    "- 표본분산과 비편향 분산\n",
    "    - 분산은 표본 분산과 불편분산(unbiased variance)의 두 종류가 존재\n",
    "    - 표본 분산은 표본에서 계산된 분산이며 모집단에 비해 표본수가 적을 때는 표본 분산이 모분산보다 작아진다.\n",
    "    - 즉 표본 분산이 모집단 분산에 맞춰서 동일하게 보정한 것을 비편향 분산이라 한다.\n",
    "    - 통계학에서는 이 비편향분산을 사용하는 경우가 많다.\n",
    "    - 불편분산은 n대신 n-1로 나누어 구할 수 있다.\n",
    "    \n",
    "[표분분산이 분산을 과소 평가하는 이유]\n",
    "\n",
    "- 호수안에 물고기가 7마리가 있다. 몸길이 {1,2,3,4,5,6,7}, 모평균 4, 샘플링1 3마리{1,2,3} 표본평균 2, 샘플링2 {5,6,7} 표본평균 6\n",
    "    이때 분산은 모평균을 모르기 때문에 표본평균과의 거리를 계산하며 분산을 과소평가 하게된다.\n",
    "- 표본 분산 보다 조금 더 큰 값이 되도록 보정하기 위하여 N대신 N-1로 나누어 불편분산을 구할 수 있다.\n"
   ]
  },
  {
   "cell_type": "code",
   "execution_count": 11,
   "id": "50a61eaf",
   "metadata": {},
   "outputs": [],
   "source": [
    "# [과제1] 교재 ~51p 코드 문제 풀기"
   ]
  },
  {
   "cell_type": "code",
   "execution_count": 3,
   "id": "1c8bd6dc",
   "metadata": {},
   "outputs": [],
   "source": [
    "import pandas as pd\n",
    "import numpy as np"
   ]
  },
  {
   "cell_type": "code",
   "execution_count": 2,
   "id": "10f7766e",
   "metadata": {},
   "outputs": [
    {
     "data": {
      "text/plain": [
       "'%.3f'"
      ]
     },
     "execution_count": 2,
     "metadata": {},
     "output_type": "execute_result"
    }
   ],
   "source": [
    "# 소수점 이하 3자리로 출력 제한\n",
    "%precision 3"
   ]
  },
  {
   "cell_type": "code",
   "execution_count": 14,
   "id": "5904b247",
   "metadata": {},
   "outputs": [
    {
     "data": {
      "text/html": [
       "<div>\n",
       "<style scoped>\n",
       "    .dataframe tbody tr th:only-of-type {\n",
       "        vertical-align: middle;\n",
       "    }\n",
       "\n",
       "    .dataframe tbody tr th {\n",
       "        vertical-align: top;\n",
       "    }\n",
       "\n",
       "    .dataframe thead th {\n",
       "        text-align: right;\n",
       "    }\n",
       "</style>\n",
       "<table border=\"1\" class=\"dataframe\">\n",
       "  <thead>\n",
       "    <tr style=\"text-align: right;\">\n",
       "      <th></th>\n",
       "      <th>english</th>\n",
       "      <th>mathematics</th>\n",
       "    </tr>\n",
       "    <tr>\n",
       "      <th>student number</th>\n",
       "      <th></th>\n",
       "      <th></th>\n",
       "    </tr>\n",
       "  </thead>\n",
       "  <tbody>\n",
       "    <tr>\n",
       "      <th>1</th>\n",
       "      <td>42</td>\n",
       "      <td>65</td>\n",
       "    </tr>\n",
       "    <tr>\n",
       "      <th>2</th>\n",
       "      <td>69</td>\n",
       "      <td>80</td>\n",
       "    </tr>\n",
       "    <tr>\n",
       "      <th>3</th>\n",
       "      <td>56</td>\n",
       "      <td>63</td>\n",
       "    </tr>\n",
       "    <tr>\n",
       "      <th>4</th>\n",
       "      <td>41</td>\n",
       "      <td>63</td>\n",
       "    </tr>\n",
       "    <tr>\n",
       "      <th>5</th>\n",
       "      <td>57</td>\n",
       "      <td>76</td>\n",
       "    </tr>\n",
       "  </tbody>\n",
       "</table>\n",
       "</div>"
      ],
      "text/plain": [
       "                english  mathematics\n",
       "student number                      \n",
       "1                    42           65\n",
       "2                    69           80\n",
       "3                    56           63\n",
       "4                    41           63\n",
       "5                    57           76"
      ]
     },
     "execution_count": 14,
     "metadata": {},
     "output_type": "execute_result"
    }
   ],
   "source": [
    "df = pd.read_csv('ch2_scores_em.csv',\n",
    "                index_col='student number')\n",
    "df.head()"
   ]
  },
  {
   "cell_type": "code",
   "execution_count": 15,
   "id": "a24f27a2",
   "metadata": {},
   "outputs": [
    {
     "data": {
      "text/plain": [
       "(50, 2)"
      ]
     },
     "execution_count": 15,
     "metadata": {},
     "output_type": "execute_result"
    }
   ],
   "source": [
    "# 데이터 크기 확인\n",
    "df.shape"
   ]
  },
  {
   "cell_type": "code",
   "execution_count": 16,
   "id": "f384bf08",
   "metadata": {},
   "outputs": [
    {
     "data": {
      "text/plain": [
       "array([42, 69, 56, 41, 57, 48, 65, 49, 65, 58], dtype=int64)"
      ]
     },
     "execution_count": 16,
     "metadata": {},
     "output_type": "execute_result"
    }
   ],
   "source": [
    "scores = np.array(df['english'])[:10]\n",
    "scores"
   ]
  },
  {
   "cell_type": "code",
   "execution_count": 17,
   "id": "07dbf7bd",
   "metadata": {},
   "outputs": [
    {
     "data": {
      "text/html": [
       "<div>\n",
       "<style scoped>\n",
       "    .dataframe tbody tr th:only-of-type {\n",
       "        vertical-align: middle;\n",
       "    }\n",
       "\n",
       "    .dataframe tbody tr th {\n",
       "        vertical-align: top;\n",
       "    }\n",
       "\n",
       "    .dataframe thead th {\n",
       "        text-align: right;\n",
       "    }\n",
       "</style>\n",
       "<table border=\"1\" class=\"dataframe\">\n",
       "  <thead>\n",
       "    <tr style=\"text-align: right;\">\n",
       "      <th></th>\n",
       "      <th>score</th>\n",
       "    </tr>\n",
       "    <tr>\n",
       "      <th>student</th>\n",
       "      <th></th>\n",
       "    </tr>\n",
       "  </thead>\n",
       "  <tbody>\n",
       "    <tr>\n",
       "      <th>A</th>\n",
       "      <td>42</td>\n",
       "    </tr>\n",
       "    <tr>\n",
       "      <th>B</th>\n",
       "      <td>69</td>\n",
       "    </tr>\n",
       "    <tr>\n",
       "      <th>C</th>\n",
       "      <td>56</td>\n",
       "    </tr>\n",
       "    <tr>\n",
       "      <th>D</th>\n",
       "      <td>41</td>\n",
       "    </tr>\n",
       "    <tr>\n",
       "      <th>E</th>\n",
       "      <td>57</td>\n",
       "    </tr>\n",
       "    <tr>\n",
       "      <th>F</th>\n",
       "      <td>48</td>\n",
       "    </tr>\n",
       "    <tr>\n",
       "      <th>G</th>\n",
       "      <td>65</td>\n",
       "    </tr>\n",
       "    <tr>\n",
       "      <th>H</th>\n",
       "      <td>49</td>\n",
       "    </tr>\n",
       "    <tr>\n",
       "      <th>I</th>\n",
       "      <td>65</td>\n",
       "    </tr>\n",
       "    <tr>\n",
       "      <th>J</th>\n",
       "      <td>58</td>\n",
       "    </tr>\n",
       "  </tbody>\n",
       "</table>\n",
       "</div>"
      ],
      "text/plain": [
       "         score\n",
       "student       \n",
       "A           42\n",
       "B           69\n",
       "C           56\n",
       "D           41\n",
       "E           57\n",
       "F           48\n",
       "G           65\n",
       "H           49\n",
       "I           65\n",
       "J           58"
      ]
     },
     "execution_count": 17,
     "metadata": {},
     "output_type": "execute_result"
    }
   ],
   "source": [
    "scores_df = pd.DataFrame({'score':scores},\n",
    "                        index=pd.Index(['A','B','C','D','E',\n",
    "                                       'F','G','H','I','J'],\n",
    "                                      name='student'))\n",
    "scores_df"
   ]
  },
  {
   "cell_type": "markdown",
   "id": "9f6b3034",
   "metadata": {},
   "source": [
    "## 데이터 중심의 지표\n",
    "- 대푯값 : 데이터를 하나의 값으로 요약한 지표"
   ]
  },
  {
   "cell_type": "markdown",
   "id": "c082765c",
   "metadata": {},
   "source": [
    "### 평균값"
   ]
  },
  {
   "cell_type": "code",
   "execution_count": 18,
   "id": "e2fb736b",
   "metadata": {
    "scrolled": true
   },
   "outputs": [
    {
     "data": {
      "text/plain": [
       "55.000"
      ]
     },
     "execution_count": 18,
     "metadata": {},
     "output_type": "execute_result"
    }
   ],
   "source": [
    "sum(scores) / len(scores)"
   ]
  },
  {
   "cell_type": "code",
   "execution_count": 19,
   "id": "dc1a1cfd",
   "metadata": {},
   "outputs": [
    {
     "data": {
      "text/plain": [
       "55.000"
      ]
     },
     "execution_count": 19,
     "metadata": {},
     "output_type": "execute_result"
    }
   ],
   "source": [
    "np.mean(scores)"
   ]
  },
  {
   "cell_type": "code",
   "execution_count": 20,
   "id": "5dcdf67b",
   "metadata": {},
   "outputs": [
    {
     "data": {
      "text/plain": [
       "score    55.0\n",
       "dtype: float64"
      ]
     },
     "execution_count": 20,
     "metadata": {},
     "output_type": "execute_result"
    }
   ],
   "source": [
    "scores_df.mean()"
   ]
  },
  {
   "cell_type": "markdown",
   "id": "11765563",
   "metadata": {},
   "source": [
    "### 중앙값\n",
    "- 데이터를 크기 순서대로 나열할 때 정확하게 중앙에 위치한 값"
   ]
  },
  {
   "cell_type": "code",
   "execution_count": 21,
   "id": "9fd88922",
   "metadata": {},
   "outputs": [
    {
     "data": {
      "text/plain": [
       "array([41, 42, 48, 49, 56, 57, 58, 65, 65, 69], dtype=int64)"
      ]
     },
     "execution_count": 21,
     "metadata": {},
     "output_type": "execute_result"
    }
   ],
   "source": [
    "# 정렬 (크기순 나열)\n",
    "sorted_scores = np.sort(scores)\n",
    "sorted_scores"
   ]
  },
  {
   "cell_type": "code",
   "execution_count": 22,
   "id": "e4b329ae",
   "metadata": {},
   "outputs": [
    {
     "data": {
      "text/plain": [
       "56.500"
      ]
     },
     "execution_count": 22,
     "metadata": {},
     "output_type": "execute_result"
    }
   ],
   "source": [
    "n = len(sorted_scores)\n",
    "if n % 2 == 0:\n",
    "    m0 = sorted_scores[n//2 -1]\n",
    "    m1 = sorted_scores[n//2]\n",
    "    median = (m0 + m1) / 2\n",
    "else:\n",
    "    median = sorted_scores[(n+1)//2 - 1]\n",
    "median"
   ]
  },
  {
   "cell_type": "code",
   "execution_count": 23,
   "id": "fcb5fdbf",
   "metadata": {},
   "outputs": [
    {
     "data": {
      "text/plain": [
       "56.500"
      ]
     },
     "execution_count": 23,
     "metadata": {},
     "output_type": "execute_result"
    }
   ],
   "source": [
    "np.median(scores)"
   ]
  },
  {
   "cell_type": "code",
   "execution_count": 24,
   "id": "a9ad1fea",
   "metadata": {},
   "outputs": [
    {
     "data": {
      "text/plain": [
       "score    56.5\n",
       "dtype: float64"
      ]
     },
     "execution_count": 24,
     "metadata": {},
     "output_type": "execute_result"
    }
   ],
   "source": [
    "scores_df.median()"
   ]
  },
  {
   "cell_type": "markdown",
   "id": "33470f8c-1b4c-401f-b5bc-7149ddfb3606",
   "metadata": {},
   "source": [
    "#### [과제3]\n",
    "중앙값 > 평균값 인 경우와 중앙값 < 평균값인 두가지 집합에서 나타나는 가능성있는 특징을 사례로 설명하세요."
   ]
  },
  {
   "cell_type": "markdown",
   "id": "2adbb9dc-1414-4d4a-9313-0df0b5989f2a",
   "metadata": {},
   "source": [
    "- 첫번째 히스토그램은 꼬리가 오른쪽이 길게 늘어져 있음 (right-skewed)\n",
    "    중앙값 < 평균\n",
    "    ex) 소득 분포\n",
    "        어느 사회, 어느 시대든 아주 소수의 부자들 존재\n",
    "        50% 위치에 있는 사람의 가구소득 < 4인 기준 약 8천 만원 (1인당 GDP 2만 달러*4)\n",
    "- 두번째 히스토그램은 좌우대칭\n",
    "- 세번째 히스토그램은 꼬리가 왼쪽이 길게 늘어져 있음 (left-skewed)"
   ]
  },
  {
   "cell_type": "markdown",
   "id": "84195f5b-56f0-4c6d-86f3-cc5f62762691",
   "metadata": {},
   "source": [
    "<img src = 'his.jpg' STYLE='width:500px;'>"
   ]
  },
  {
   "cell_type": "markdown",
   "id": "17f4a3c5",
   "metadata": {},
   "source": [
    "### 최빈값\n",
    "- 데이터에서 가장 많이 나타나는 값"
   ]
  },
  {
   "cell_type": "code",
   "execution_count": 25,
   "id": "dc29c2fc",
   "metadata": {},
   "outputs": [
    {
     "data": {
      "text/plain": [
       "0    1\n",
       "dtype: int64"
      ]
     },
     "execution_count": 25,
     "metadata": {},
     "output_type": "execute_result"
    }
   ],
   "source": [
    "pd.Series([1,1,1,2,2,3]).mode()"
   ]
  },
  {
   "cell_type": "code",
   "execution_count": 26,
   "id": "8e61ebb1",
   "metadata": {},
   "outputs": [
    {
     "data": {
      "text/plain": [
       "0    1\n",
       "1    2\n",
       "2    3\n",
       "3    4\n",
       "4    5\n",
       "dtype: int64"
      ]
     },
     "execution_count": 26,
     "metadata": {},
     "output_type": "execute_result"
    }
   ],
   "source": [
    "pd.Series([1,2,3,4,5]).mode()"
   ]
  },
  {
   "cell_type": "markdown",
   "id": "4de02dbf",
   "metadata": {},
   "source": [
    "## 데이터의 산포도 지표"
   ]
  },
  {
   "cell_type": "markdown",
   "id": "27903276",
   "metadata": {},
   "source": [
    "### 분산과 표준편차"
   ]
  },
  {
   "cell_type": "markdown",
   "id": "7b054d78",
   "metadata": {},
   "source": [
    "#### 편차\n",
    "- 각 데이터가 평균으로부터 어느 정도 떨어져 있는가를 나타내는 지표"
   ]
  },
  {
   "cell_type": "code",
   "execution_count": 27,
   "id": "91a36779",
   "metadata": {},
   "outputs": [
    {
     "data": {
      "text/plain": [
       "array([-13.,  14.,   1., -14.,   2.,  -7.,  10.,  -6.,  10.,   3.])"
      ]
     },
     "execution_count": 27,
     "metadata": {},
     "output_type": "execute_result"
    }
   ],
   "source": [
    "# 편차 (deviation)\n",
    "mean = np.mean(scores)\n",
    "deviation = scores - mean\n",
    "deviation"
   ]
  },
  {
   "cell_type": "code",
   "execution_count": 28,
   "id": "2ba8ec52",
   "metadata": {},
   "outputs": [
    {
     "data": {
      "text/plain": [
       "array([-5.,  5.,  3., -1., -4.,  1.,  2., -2., -3.,  4.])"
      ]
     },
     "execution_count": 28,
     "metadata": {},
     "output_type": "execute_result"
    }
   ],
   "source": [
    "another_scores = [50, 60, 58, 54, 51, 56, 57, 53, 52, 59]\n",
    "another_mean = np.mean(another_scores)\n",
    "another_deviation = another_scores - another_mean\n",
    "another_deviation"
   ]
  },
  {
   "cell_type": "code",
   "execution_count": 29,
   "id": "e29971cb",
   "metadata": {},
   "outputs": [
    {
     "data": {
      "text/plain": [
       "0.000"
      ]
     },
     "execution_count": 29,
     "metadata": {},
     "output_type": "execute_result"
    }
   ],
   "source": [
    "# 편차 평균 0\n",
    "np.mean(deviation)"
   ]
  },
  {
   "cell_type": "code",
   "execution_count": 30,
   "id": "a83a1d9c",
   "metadata": {},
   "outputs": [
    {
     "data": {
      "text/plain": [
       "0.000"
      ]
     },
     "execution_count": 30,
     "metadata": {},
     "output_type": "execute_result"
    }
   ],
   "source": [
    "np.mean(another_deviation)"
   ]
  },
  {
   "cell_type": "code",
   "execution_count": 31,
   "id": "16f5f136",
   "metadata": {},
   "outputs": [
    {
     "data": {
      "text/html": [
       "<div>\n",
       "<style scoped>\n",
       "    .dataframe tbody tr th:only-of-type {\n",
       "        vertical-align: middle;\n",
       "    }\n",
       "\n",
       "    .dataframe tbody tr th {\n",
       "        vertical-align: top;\n",
       "    }\n",
       "\n",
       "    .dataframe thead th {\n",
       "        text-align: right;\n",
       "    }\n",
       "</style>\n",
       "<table border=\"1\" class=\"dataframe\">\n",
       "  <thead>\n",
       "    <tr style=\"text-align: right;\">\n",
       "      <th></th>\n",
       "      <th>score</th>\n",
       "      <th>deviation</th>\n",
       "    </tr>\n",
       "    <tr>\n",
       "      <th>student</th>\n",
       "      <th></th>\n",
       "      <th></th>\n",
       "    </tr>\n",
       "  </thead>\n",
       "  <tbody>\n",
       "    <tr>\n",
       "      <th>A</th>\n",
       "      <td>42</td>\n",
       "      <td>-13.0</td>\n",
       "    </tr>\n",
       "    <tr>\n",
       "      <th>B</th>\n",
       "      <td>69</td>\n",
       "      <td>14.0</td>\n",
       "    </tr>\n",
       "    <tr>\n",
       "      <th>C</th>\n",
       "      <td>56</td>\n",
       "      <td>1.0</td>\n",
       "    </tr>\n",
       "    <tr>\n",
       "      <th>D</th>\n",
       "      <td>41</td>\n",
       "      <td>-14.0</td>\n",
       "    </tr>\n",
       "    <tr>\n",
       "      <th>E</th>\n",
       "      <td>57</td>\n",
       "      <td>2.0</td>\n",
       "    </tr>\n",
       "    <tr>\n",
       "      <th>F</th>\n",
       "      <td>48</td>\n",
       "      <td>-7.0</td>\n",
       "    </tr>\n",
       "    <tr>\n",
       "      <th>G</th>\n",
       "      <td>65</td>\n",
       "      <td>10.0</td>\n",
       "    </tr>\n",
       "    <tr>\n",
       "      <th>H</th>\n",
       "      <td>49</td>\n",
       "      <td>-6.0</td>\n",
       "    </tr>\n",
       "    <tr>\n",
       "      <th>I</th>\n",
       "      <td>65</td>\n",
       "      <td>10.0</td>\n",
       "    </tr>\n",
       "    <tr>\n",
       "      <th>J</th>\n",
       "      <td>58</td>\n",
       "      <td>3.0</td>\n",
       "    </tr>\n",
       "  </tbody>\n",
       "</table>\n",
       "</div>"
      ],
      "text/plain": [
       "         score  deviation\n",
       "student                  \n",
       "A           42      -13.0\n",
       "B           69       14.0\n",
       "C           56        1.0\n",
       "D           41      -14.0\n",
       "E           57        2.0\n",
       "F           48       -7.0\n",
       "G           65       10.0\n",
       "H           49       -6.0\n",
       "I           65       10.0\n",
       "J           58        3.0"
      ]
     },
     "execution_count": 31,
     "metadata": {},
     "output_type": "execute_result"
    }
   ],
   "source": [
    "summary_df = scores_df.copy()\n",
    "summary_df['deviation'] = deviation\n",
    "summary_df"
   ]
  },
  {
   "cell_type": "code",
   "execution_count": 32,
   "id": "7c056781",
   "metadata": {},
   "outputs": [
    {
     "data": {
      "text/plain": [
       "score        55.0\n",
       "deviation     0.0\n",
       "dtype: float64"
      ]
     },
     "execution_count": 32,
     "metadata": {},
     "output_type": "execute_result"
    }
   ],
   "source": [
    "summary_df.mean()"
   ]
  },
  {
   "cell_type": "markdown",
   "id": "11daa3c0",
   "metadata": {},
   "source": [
    "#### 분산"
   ]
  },
  {
   "cell_type": "code",
   "execution_count": 33,
   "id": "f0f0ae9a",
   "metadata": {},
   "outputs": [
    {
     "data": {
      "text/plain": [
       "86.000"
      ]
     },
     "execution_count": 33,
     "metadata": {},
     "output_type": "execute_result"
    }
   ],
   "source": [
    "# 분산 (variance)\n",
    "np.mean(deviation ** 2)"
   ]
  },
  {
   "cell_type": "code",
   "execution_count": 34,
   "id": "fc66ab4b",
   "metadata": {},
   "outputs": [
    {
     "data": {
      "text/plain": [
       "86.000"
      ]
     },
     "execution_count": 34,
     "metadata": {},
     "output_type": "execute_result"
    }
   ],
   "source": [
    "np.var(scores)"
   ]
  },
  {
   "cell_type": "code",
   "execution_count": 35,
   "id": "0b228cfb",
   "metadata": {},
   "outputs": [
    {
     "data": {
      "text/plain": [
       "score    95.555556\n",
       "dtype: float64"
      ]
     },
     "execution_count": 35,
     "metadata": {},
     "output_type": "execute_result"
    }
   ],
   "source": [
    "scores_df.var()"
   ]
  },
  {
   "cell_type": "code",
   "execution_count": 36,
   "id": "a2cc1c53",
   "metadata": {
    "scrolled": true
   },
   "outputs": [
    {
     "data": {
      "text/html": [
       "<div>\n",
       "<style scoped>\n",
       "    .dataframe tbody tr th:only-of-type {\n",
       "        vertical-align: middle;\n",
       "    }\n",
       "\n",
       "    .dataframe tbody tr th {\n",
       "        vertical-align: top;\n",
       "    }\n",
       "\n",
       "    .dataframe thead th {\n",
       "        text-align: right;\n",
       "    }\n",
       "</style>\n",
       "<table border=\"1\" class=\"dataframe\">\n",
       "  <thead>\n",
       "    <tr style=\"text-align: right;\">\n",
       "      <th></th>\n",
       "      <th>score</th>\n",
       "      <th>deviation</th>\n",
       "      <th>square of deviation</th>\n",
       "    </tr>\n",
       "    <tr>\n",
       "      <th>student</th>\n",
       "      <th></th>\n",
       "      <th></th>\n",
       "      <th></th>\n",
       "    </tr>\n",
       "  </thead>\n",
       "  <tbody>\n",
       "    <tr>\n",
       "      <th>A</th>\n",
       "      <td>42</td>\n",
       "      <td>-13.0</td>\n",
       "      <td>169.0</td>\n",
       "    </tr>\n",
       "    <tr>\n",
       "      <th>B</th>\n",
       "      <td>69</td>\n",
       "      <td>14.0</td>\n",
       "      <td>196.0</td>\n",
       "    </tr>\n",
       "    <tr>\n",
       "      <th>C</th>\n",
       "      <td>56</td>\n",
       "      <td>1.0</td>\n",
       "      <td>1.0</td>\n",
       "    </tr>\n",
       "    <tr>\n",
       "      <th>D</th>\n",
       "      <td>41</td>\n",
       "      <td>-14.0</td>\n",
       "      <td>196.0</td>\n",
       "    </tr>\n",
       "    <tr>\n",
       "      <th>E</th>\n",
       "      <td>57</td>\n",
       "      <td>2.0</td>\n",
       "      <td>4.0</td>\n",
       "    </tr>\n",
       "    <tr>\n",
       "      <th>F</th>\n",
       "      <td>48</td>\n",
       "      <td>-7.0</td>\n",
       "      <td>49.0</td>\n",
       "    </tr>\n",
       "    <tr>\n",
       "      <th>G</th>\n",
       "      <td>65</td>\n",
       "      <td>10.0</td>\n",
       "      <td>100.0</td>\n",
       "    </tr>\n",
       "    <tr>\n",
       "      <th>H</th>\n",
       "      <td>49</td>\n",
       "      <td>-6.0</td>\n",
       "      <td>36.0</td>\n",
       "    </tr>\n",
       "    <tr>\n",
       "      <th>I</th>\n",
       "      <td>65</td>\n",
       "      <td>10.0</td>\n",
       "      <td>100.0</td>\n",
       "    </tr>\n",
       "    <tr>\n",
       "      <th>J</th>\n",
       "      <td>58</td>\n",
       "      <td>3.0</td>\n",
       "      <td>9.0</td>\n",
       "    </tr>\n",
       "  </tbody>\n",
       "</table>\n",
       "</div>"
      ],
      "text/plain": [
       "         score  deviation  square of deviation\n",
       "student                                       \n",
       "A           42      -13.0                169.0\n",
       "B           69       14.0                196.0\n",
       "C           56        1.0                  1.0\n",
       "D           41      -14.0                196.0\n",
       "E           57        2.0                  4.0\n",
       "F           48       -7.0                 49.0\n",
       "G           65       10.0                100.0\n",
       "H           49       -6.0                 36.0\n",
       "I           65       10.0                100.0\n",
       "J           58        3.0                  9.0"
      ]
     },
     "execution_count": 36,
     "metadata": {},
     "output_type": "execute_result"
    }
   ],
   "source": [
    "summary_df['square of deviation'] = np.square(deviation)\n",
    "summary_df"
   ]
  },
  {
   "cell_type": "code",
   "execution_count": 37,
   "id": "b8eb2543",
   "metadata": {},
   "outputs": [
    {
     "data": {
      "text/plain": [
       "score                  55.0\n",
       "deviation               0.0\n",
       "square of deviation    86.0\n",
       "dtype: float64"
      ]
     },
     "execution_count": 37,
     "metadata": {},
     "output_type": "execute_result"
    }
   ],
   "source": [
    "summary_df.mean()"
   ]
  },
  {
   "cell_type": "markdown",
   "id": "a6baf0b6",
   "metadata": {},
   "source": [
    "#### 표준편차"
   ]
  },
  {
   "cell_type": "code",
   "execution_count": 38,
   "id": "2606f809",
   "metadata": {},
   "outputs": [
    {
     "data": {
      "text/plain": [
       "9.274"
      ]
     },
     "execution_count": 38,
     "metadata": {},
     "output_type": "execute_result"
    }
   ],
   "source": [
    "# 표준편차 (standard deviation)\n",
    "np.sqrt(np.var(scores, ddof=0))"
   ]
  },
  {
   "cell_type": "code",
   "execution_count": 39,
   "id": "99c008ff",
   "metadata": {},
   "outputs": [
    {
     "data": {
      "text/plain": [
       "9.274"
      ]
     },
     "execution_count": 39,
     "metadata": {},
     "output_type": "execute_result"
    }
   ],
   "source": [
    "np.std(scores, ddof=0)"
   ]
  },
  {
   "cell_type": "markdown",
   "id": "8b348bd1-45f4-4af9-8f2d-62901204a933",
   "metadata": {},
   "source": [
    "#### [과제5]\n",
    "표본분산과 불편분산의 차이를 사례로 들어 설명하세요."
   ]
  },
  {
   "cell_type": "code",
   "execution_count": 40,
   "id": "b8056bfa-5465-4d20-9ba3-0e22dbbd002e",
   "metadata": {},
   "outputs": [],
   "source": [
    "# np.var을 통해 얻어지는 결과는 표본 분산이다.\n",
    "# 통계학에서 일반적으로 자주 사용되는 불편 분산이 아니다.\n",
    "# 불편 분산을 구하고 싶은 경우는 옵션 인수를 ddof=1을 지정할 필요가 있다.\n",
    "# 기본적으로 ddof = 0으로 np.var이 계산하는 분산 값은 var = mean(abs(x – x.mean())**2)이 된다. 즉, 표본 분산이 된다."
   ]
  },
  {
   "cell_type": "code",
   "execution_count": 41,
   "id": "a3ffe0ae",
   "metadata": {},
   "outputs": [
    {
     "data": {
      "text/plain": [
       "array([69, 35, 36, 47, 50], dtype=int64)"
      ]
     },
     "execution_count": 41,
     "metadata": {},
     "output_type": "execute_result"
    }
   ],
   "source": [
    "rng = np.random.default_rng() # 무작위 샘플링\n",
    "a = rng.integers(35, 101, (5, ))\n",
    "a"
   ]
  },
  {
   "cell_type": "code",
   "execution_count": 42,
   "id": "d36bcf1d-3beb-4469-abd2-9b657d9ac035",
   "metadata": {},
   "outputs": [
    {
     "data": {
      "text/plain": [
       "151.440"
      ]
     },
     "execution_count": 42,
     "metadata": {},
     "output_type": "execute_result"
    }
   ],
   "source": [
    "# 표본 분산\n",
    "np.var(a, ddof=0)"
   ]
  },
  {
   "cell_type": "code",
   "execution_count": 43,
   "id": "1668e3f4-3eca-4f17-803c-070be1fff2e9",
   "metadata": {},
   "outputs": [
    {
     "data": {
      "text/plain": [
       "189.300"
      ]
     },
     "execution_count": 43,
     "metadata": {},
     "output_type": "execute_result"
    }
   ],
   "source": [
    "# 불편 분산 ddof=1\n",
    "np.var(a, ddof=1)"
   ]
  },
  {
   "cell_type": "markdown",
   "id": "e9dbbf9e",
   "metadata": {},
   "source": [
    "#### [과제2] \n",
    "20개 원소로 구성되는 배열을 만든 후 평균, 편차 및 편차의 합을 구하세요"
   ]
  },
  {
   "cell_type": "code",
   "execution_count": 44,
   "id": "36d74d28-80a4-4e00-8470-56b9d2d41d1f",
   "metadata": {},
   "outputs": [
    {
     "data": {
      "text/plain": [
       "array([[91, 47, 27,  8, 86],\n",
       "       [52, 46, 69,  6, 99],\n",
       "       [62, 28,  3, 37, 43],\n",
       "       [17, 33, 67, 89, 48]])"
      ]
     },
     "execution_count": 44,
     "metadata": {},
     "output_type": "execute_result"
    }
   ],
   "source": [
    "data = np.random.randint(0,100,size=(4,5))\n",
    "data"
   ]
  },
  {
   "cell_type": "code",
   "execution_count": 45,
   "id": "d7d474f5-554f-4138-9280-719c49b71fa0",
   "metadata": {},
   "outputs": [
    {
     "data": {
      "text/plain": [
       "47.900"
      ]
     },
     "execution_count": 45,
     "metadata": {},
     "output_type": "execute_result"
    }
   ],
   "source": [
    "# 평균\n",
    "np.mean(data)"
   ]
  },
  {
   "cell_type": "code",
   "execution_count": 46,
   "id": "f0647e84-6704-4a23-9125-a85761bc67da",
   "metadata": {},
   "outputs": [
    {
     "data": {
      "text/plain": [
       "array([[ 43.1,  -0.9, -20.9, -39.9,  38.1],\n",
       "       [  4.1,  -1.9,  21.1, -41.9,  51.1],\n",
       "       [ 14.1, -19.9, -44.9, -10.9,  -4.9],\n",
       "       [-30.9, -14.9,  19.1,  41.1,   0.1]])"
      ]
     },
     "execution_count": 46,
     "metadata": {},
     "output_type": "execute_result"
    }
   ],
   "source": [
    "# 편차\n",
    "mean = np.mean(data)\n",
    "deviation = data - mean\n",
    "deviation"
   ]
  },
  {
   "cell_type": "code",
   "execution_count": 47,
   "id": "66a87721-c925-4c2b-a7cf-c997f0a628c4",
   "metadata": {},
   "outputs": [
    {
     "data": {
      "text/plain": [
       "0.000"
      ]
     },
     "execution_count": 47,
     "metadata": {},
     "output_type": "execute_result"
    }
   ],
   "source": [
    "np.mean(deviation)"
   ]
  },
  {
   "cell_type": "code",
   "execution_count": 48,
   "id": "3eb78941",
   "metadata": {
    "scrolled": true
   },
   "outputs": [
    {
     "data": {
      "text/plain": [
       "array([ 30.4, -37.6, -25.6, -51.6,  84.4])"
      ]
     },
     "execution_count": 48,
     "metadata": {},
     "output_type": "execute_result"
    }
   ],
   "source": [
    "#편차의 합\n",
    "sum(deviation)"
   ]
  },
  {
   "cell_type": "markdown",
   "id": "15e510d9",
   "metadata": {},
   "source": [
    "### 범위와 사분위 범위"
   ]
  },
  {
   "cell_type": "markdown",
   "id": "0a997d4a",
   "metadata": {},
   "source": [
    "#### 범위\n",
    "- 최댓값 - 최솟값"
   ]
  },
  {
   "cell_type": "code",
   "execution_count": 49,
   "id": "0373a38e",
   "metadata": {},
   "outputs": [
    {
     "data": {
      "text/plain": [
       "28"
      ]
     },
     "execution_count": 49,
     "metadata": {},
     "output_type": "execute_result"
    }
   ],
   "source": [
    "# 범위 (range)\n",
    "np.max(scores) - np.min(scores)"
   ]
  },
  {
   "cell_type": "markdown",
   "id": "f8aa99d7",
   "metadata": {},
   "source": [
    "#### 사분위 범위"
   ]
  },
  {
   "cell_type": "code",
   "execution_count": 50,
   "id": "ac3c6a71",
   "metadata": {},
   "outputs": [
    {
     "data": {
      "text/plain": [
       "48.250"
      ]
     },
     "execution_count": 50,
     "metadata": {},
     "output_type": "execute_result"
    }
   ],
   "source": [
    "# 사분위 범위 (interquartile range)\n",
    "scores_Q1 = np.percentile(scores, 25)\n",
    "scores_Q3 = np.percentile(scores, 75)\n",
    "scores_IQR = scores_Q3 = scores_Q1\n",
    "scores_IQR"
   ]
  },
  {
   "cell_type": "code",
   "execution_count": 51,
   "id": "45340bf9",
   "metadata": {},
   "outputs": [
    {
     "data": {
      "text/plain": [
       "count    10.000000\n",
       "mean     55.000000\n",
       "std       9.775252\n",
       "min      41.000000\n",
       "25%      48.250000\n",
       "50%      56.500000\n",
       "75%      63.250000\n",
       "max      69.000000\n",
       "dtype: float64"
      ]
     },
     "execution_count": 51,
     "metadata": {},
     "output_type": "execute_result"
    }
   ],
   "source": [
    "# 데이터 지표정리\n",
    "pd.Series(scores).describe()"
   ]
  },
  {
   "cell_type": "markdown",
   "id": "71d671dd-a83b-4807-9630-04391562d081",
   "metadata": {},
   "source": [
    "#### [과제4]\n",
    "4분위를 이용하여 이상치를 구하는 사례를 생성하고 시각화 및 이상치 산출하는 과정을 설명하세요."
   ]
  },
  {
   "cell_type": "code",
   "execution_count": 52,
   "id": "866423a8-ff8e-460a-9fa4-80bab138fe3c",
   "metadata": {},
   "outputs": [],
   "source": [
    "# IQR이란, Interquartile range의 약자로써 Q3 - Q1를 의미한다.\n",
    "# Q3 - Q1: 사분위수의 상위 75% 지점의 값과 하위 25% 지점의 값 차이"
   ]
  },
  {
   "cell_type": "code",
   "execution_count": 53,
   "id": "91383191-a253-4174-9ad8-5f8c1d0988a0",
   "metadata": {},
   "outputs": [],
   "source": [
    "# Q3 : 100개의 데이터로 가정 시, 25번째로 높은 값에 해당합니다.\n",
    "# Q1 : 100개의 데이터로 가정 시, 75번째로 높은 값에 해당합니다.\n",
    "# IQR : Q3 - Q1의 차이를 의미합니다.\n",
    "# 이상치 : Q3 + 1.5 * IQR보다 높거나 Q1 - 1.5 * IQR보다 낮은 값을 의미합니다."
   ]
  },
  {
   "cell_type": "markdown",
   "id": "2724d146",
   "metadata": {},
   "source": [
    "## 데이터의 정규화"
   ]
  },
  {
   "cell_type": "code",
   "execution_count": 54,
   "id": "74c83325",
   "metadata": {},
   "outputs": [],
   "source": [
    "# [과제1] 교재 52~83p 코드 문제 풀기"
   ]
  },
  {
   "cell_type": "code",
   "execution_count": 55,
   "id": "87a26e8c",
   "metadata": {
    "scrolled": true
   },
   "outputs": [
    {
     "data": {
      "text/html": [
       "<div>\n",
       "<style scoped>\n",
       "    .dataframe tbody tr th:only-of-type {\n",
       "        vertical-align: middle;\n",
       "    }\n",
       "\n",
       "    .dataframe tbody tr th {\n",
       "        vertical-align: top;\n",
       "    }\n",
       "\n",
       "    .dataframe thead th {\n",
       "        text-align: right;\n",
       "    }\n",
       "</style>\n",
       "<table border=\"1\" class=\"dataframe\">\n",
       "  <thead>\n",
       "    <tr style=\"text-align: right;\">\n",
       "      <th></th>\n",
       "      <th>english</th>\n",
       "      <th>mathematics</th>\n",
       "    </tr>\n",
       "    <tr>\n",
       "      <th>student number</th>\n",
       "      <th></th>\n",
       "      <th></th>\n",
       "    </tr>\n",
       "  </thead>\n",
       "  <tbody>\n",
       "    <tr>\n",
       "      <th>1</th>\n",
       "      <td>42</td>\n",
       "      <td>65</td>\n",
       "    </tr>\n",
       "    <tr>\n",
       "      <th>2</th>\n",
       "      <td>69</td>\n",
       "      <td>80</td>\n",
       "    </tr>\n",
       "    <tr>\n",
       "      <th>3</th>\n",
       "      <td>56</td>\n",
       "      <td>63</td>\n",
       "    </tr>\n",
       "    <tr>\n",
       "      <th>4</th>\n",
       "      <td>41</td>\n",
       "      <td>63</td>\n",
       "    </tr>\n",
       "    <tr>\n",
       "      <th>5</th>\n",
       "      <td>57</td>\n",
       "      <td>76</td>\n",
       "    </tr>\n",
       "  </tbody>\n",
       "</table>\n",
       "</div>"
      ],
      "text/plain": [
       "                english  mathematics\n",
       "student number                      \n",
       "1                    42           65\n",
       "2                    69           80\n",
       "3                    56           63\n",
       "4                    41           63\n",
       "5                    57           76"
      ]
     },
     "execution_count": 55,
     "metadata": {},
     "output_type": "execute_result"
    }
   ],
   "source": [
    "df = pd.read_csv('ch2_scores_em.csv',\n",
    "                index_col='student number')\n",
    "df.head()"
   ]
  },
  {
   "cell_type": "code",
   "execution_count": 56,
   "id": "489a6943",
   "metadata": {},
   "outputs": [],
   "source": [
    "scores = np.array(df.english)[:10]"
   ]
  },
  {
   "cell_type": "code",
   "execution_count": 57,
   "id": "e3adda9c",
   "metadata": {},
   "outputs": [
    {
     "data": {
      "text/html": [
       "<div>\n",
       "<style scoped>\n",
       "    .dataframe tbody tr th:only-of-type {\n",
       "        vertical-align: middle;\n",
       "    }\n",
       "\n",
       "    .dataframe tbody tr th {\n",
       "        vertical-align: top;\n",
       "    }\n",
       "\n",
       "    .dataframe thead th {\n",
       "        text-align: right;\n",
       "    }\n",
       "</style>\n",
       "<table border=\"1\" class=\"dataframe\">\n",
       "  <thead>\n",
       "    <tr style=\"text-align: right;\">\n",
       "      <th></th>\n",
       "      <th>score</th>\n",
       "    </tr>\n",
       "    <tr>\n",
       "      <th>student</th>\n",
       "      <th></th>\n",
       "    </tr>\n",
       "  </thead>\n",
       "  <tbody>\n",
       "    <tr>\n",
       "      <th>A</th>\n",
       "      <td>42</td>\n",
       "    </tr>\n",
       "    <tr>\n",
       "      <th>B</th>\n",
       "      <td>69</td>\n",
       "    </tr>\n",
       "    <tr>\n",
       "      <th>C</th>\n",
       "      <td>56</td>\n",
       "    </tr>\n",
       "    <tr>\n",
       "      <th>D</th>\n",
       "      <td>41</td>\n",
       "    </tr>\n",
       "    <tr>\n",
       "      <th>E</th>\n",
       "      <td>57</td>\n",
       "    </tr>\n",
       "    <tr>\n",
       "      <th>F</th>\n",
       "      <td>48</td>\n",
       "    </tr>\n",
       "    <tr>\n",
       "      <th>G</th>\n",
       "      <td>65</td>\n",
       "    </tr>\n",
       "    <tr>\n",
       "      <th>H</th>\n",
       "      <td>49</td>\n",
       "    </tr>\n",
       "    <tr>\n",
       "      <th>I</th>\n",
       "      <td>65</td>\n",
       "    </tr>\n",
       "    <tr>\n",
       "      <th>J</th>\n",
       "      <td>58</td>\n",
       "    </tr>\n",
       "  </tbody>\n",
       "</table>\n",
       "</div>"
      ],
      "text/plain": [
       "         score\n",
       "student       \n",
       "A           42\n",
       "B           69\n",
       "C           56\n",
       "D           41\n",
       "E           57\n",
       "F           48\n",
       "G           65\n",
       "H           49\n",
       "I           65\n",
       "J           58"
      ]
     },
     "execution_count": 57,
     "metadata": {},
     "output_type": "execute_result"
    }
   ],
   "source": [
    "scores_df = pd.DataFrame({'score':scores},\n",
    "                        index=pd.Index(['A','B','C','D','E',\n",
    "                                       'F','G','H','I','J'],\n",
    "                                      name='student'))\n",
    "scores_df"
   ]
  },
  {
   "cell_type": "markdown",
   "id": "8c2fccfc",
   "metadata": {},
   "source": [
    "### 표준화"
   ]
  },
  {
   "cell_type": "code",
   "execution_count": 58,
   "id": "77f092cf",
   "metadata": {},
   "outputs": [
    {
     "data": {
      "text/plain": [
       "array([-1.402,  1.51 ,  0.108, -1.51 ,  0.216, -0.755,  1.078, -0.647,\n",
       "        1.078,  0.323])"
      ]
     },
     "execution_count": 58,
     "metadata": {},
     "output_type": "execute_result"
    }
   ],
   "source": [
    "# 데이터에서 평균을 빼고 표준편차로 나누는 작업\n",
    "z = (scores - np.mean(scores)) / np.std(scores)\n",
    "z"
   ]
  },
  {
   "cell_type": "code",
   "execution_count": 59,
   "id": "df1ed8a7",
   "metadata": {},
   "outputs": [
    {
     "data": {
      "text/plain": [
       "(-0.000, 1.000)"
      ]
     },
     "execution_count": 59,
     "metadata": {},
     "output_type": "execute_result"
    }
   ],
   "source": [
    "# 평균 0, 표준편차 1\n",
    "np.mean(z), np.std(z, ddof=0)"
   ]
  },
  {
   "cell_type": "markdown",
   "id": "970cf9e6",
   "metadata": {},
   "source": [
    "### 편찻값"
   ]
  },
  {
   "cell_type": "code",
   "execution_count": 60,
   "id": "10f89e2f",
   "metadata": {},
   "outputs": [
    {
     "data": {
      "text/plain": [
       "array([35.982, 65.097, 51.078, 34.903, 52.157, 42.452, 60.783, 43.53 ,\n",
       "       60.783, 53.235])"
      ]
     },
     "execution_count": 60,
     "metadata": {},
     "output_type": "execute_result"
    }
   ],
   "source": [
    "# 편차값은 평균이 50, 표준편차가 10이 되도록 정규화한 값\n",
    "z = 50 + 10 * z\n",
    "z"
   ]
  },
  {
   "cell_type": "code",
   "execution_count": 61,
   "id": "4541e8c5",
   "metadata": {},
   "outputs": [
    {
     "data": {
      "text/html": [
       "<div>\n",
       "<style scoped>\n",
       "    .dataframe tbody tr th:only-of-type {\n",
       "        vertical-align: middle;\n",
       "    }\n",
       "\n",
       "    .dataframe tbody tr th {\n",
       "        vertical-align: top;\n",
       "    }\n",
       "\n",
       "    .dataframe thead th {\n",
       "        text-align: right;\n",
       "    }\n",
       "</style>\n",
       "<table border=\"1\" class=\"dataframe\">\n",
       "  <thead>\n",
       "    <tr style=\"text-align: right;\">\n",
       "      <th></th>\n",
       "      <th>score</th>\n",
       "      <th>deviation value</th>\n",
       "    </tr>\n",
       "    <tr>\n",
       "      <th>student</th>\n",
       "      <th></th>\n",
       "      <th></th>\n",
       "    </tr>\n",
       "  </thead>\n",
       "  <tbody>\n",
       "    <tr>\n",
       "      <th>A</th>\n",
       "      <td>42</td>\n",
       "      <td>35.981739</td>\n",
       "    </tr>\n",
       "    <tr>\n",
       "      <th>B</th>\n",
       "      <td>69</td>\n",
       "      <td>65.096588</td>\n",
       "    </tr>\n",
       "    <tr>\n",
       "      <th>C</th>\n",
       "      <td>56</td>\n",
       "      <td>51.078328</td>\n",
       "    </tr>\n",
       "    <tr>\n",
       "      <th>D</th>\n",
       "      <td>41</td>\n",
       "      <td>34.903412</td>\n",
       "    </tr>\n",
       "    <tr>\n",
       "      <th>E</th>\n",
       "      <td>57</td>\n",
       "      <td>52.156655</td>\n",
       "    </tr>\n",
       "    <tr>\n",
       "      <th>F</th>\n",
       "      <td>48</td>\n",
       "      <td>42.451706</td>\n",
       "    </tr>\n",
       "    <tr>\n",
       "      <th>G</th>\n",
       "      <td>65</td>\n",
       "      <td>60.783277</td>\n",
       "    </tr>\n",
       "    <tr>\n",
       "      <th>H</th>\n",
       "      <td>49</td>\n",
       "      <td>43.530034</td>\n",
       "    </tr>\n",
       "    <tr>\n",
       "      <th>I</th>\n",
       "      <td>65</td>\n",
       "      <td>60.783277</td>\n",
       "    </tr>\n",
       "    <tr>\n",
       "      <th>J</th>\n",
       "      <td>58</td>\n",
       "      <td>53.234983</td>\n",
       "    </tr>\n",
       "  </tbody>\n",
       "</table>\n",
       "</div>"
      ],
      "text/plain": [
       "         score  deviation value\n",
       "student                        \n",
       "A           42        35.981739\n",
       "B           69        65.096588\n",
       "C           56        51.078328\n",
       "D           41        34.903412\n",
       "E           57        52.156655\n",
       "F           48        42.451706\n",
       "G           65        60.783277\n",
       "H           49        43.530034\n",
       "I           65        60.783277\n",
       "J           58        53.234983"
      ]
     },
     "execution_count": 61,
     "metadata": {},
     "output_type": "execute_result"
    }
   ],
   "source": [
    "scores_df['deviation value'] = z\n",
    "scores_df"
   ]
  },
  {
   "cell_type": "markdown",
   "id": "2a3678ee",
   "metadata": {},
   "source": [
    "## 1차원 데이터의 시각화"
   ]
  },
  {
   "cell_type": "code",
   "execution_count": 62,
   "id": "1655e8bf",
   "metadata": {},
   "outputs": [],
   "source": [
    "# 50명의 영어 점수 array\n",
    "english_scores = np.array(df['english'])"
   ]
  },
  {
   "cell_type": "code",
   "execution_count": 63,
   "id": "01e6e619",
   "metadata": {},
   "outputs": [
    {
     "data": {
      "text/plain": [
       "count    50.000000\n",
       "mean     58.380000\n",
       "std       9.799813\n",
       "min      37.000000\n",
       "25%      54.000000\n",
       "50%      57.500000\n",
       "75%      65.000000\n",
       "max      79.000000\n",
       "dtype: float64"
      ]
     },
     "execution_count": 63,
     "metadata": {},
     "output_type": "execute_result"
    }
   ],
   "source": [
    "# Series로 변환하여 describe 표시\n",
    "pd.Series(english_scores).describe()"
   ]
  },
  {
   "cell_type": "markdown",
   "id": "6e11f90c",
   "metadata": {},
   "source": [
    "### 도수분포표"
   ]
  },
  {
   "cell_type": "code",
   "execution_count": 64,
   "id": "01423b94",
   "metadata": {},
   "outputs": [],
   "source": [
    "# 계급 : 0~10점 구간\n",
    "# 도수 : 각 계급에 속한 학생 수\n",
    "# 계급폭 : 각 구간의 폭\n",
    "# 계급수 : 계급의 수"
   ]
  },
  {
   "cell_type": "code",
   "execution_count": 65,
   "id": "c95bd056",
   "metadata": {},
   "outputs": [
    {
     "data": {
      "text/plain": [
       "array([ 0,  0,  0,  2,  8, 16, 18,  6,  0,  0], dtype=int64)"
      ]
     },
     "execution_count": 65,
     "metadata": {},
     "output_type": "execute_result"
    }
   ],
   "source": [
    "# 0~100점까지의 점수를 계급수 10개로 분류\n",
    "freq, _ = np.histogram(english_scores, bins=10, range=(0,100))\n",
    "freq"
   ]
  },
  {
   "cell_type": "code",
   "execution_count": 66,
   "id": "e9da33f6",
   "metadata": {},
   "outputs": [],
   "source": [
    "# 0~10, 10~20, ... 이라는 문자열 리스트를 작성\n",
    "freq_class = [f'{i}~{i+10}' for i in range(0, 100, 10)]"
   ]
  },
  {
   "cell_type": "code",
   "execution_count": 67,
   "id": "fa216bd2",
   "metadata": {
    "scrolled": true,
    "tags": []
   },
   "outputs": [
    {
     "data": {
      "text/html": [
       "<div>\n",
       "<style scoped>\n",
       "    .dataframe tbody tr th:only-of-type {\n",
       "        vertical-align: middle;\n",
       "    }\n",
       "\n",
       "    .dataframe tbody tr th {\n",
       "        vertical-align: top;\n",
       "    }\n",
       "\n",
       "    .dataframe thead th {\n",
       "        text-align: right;\n",
       "    }\n",
       "</style>\n",
       "<table border=\"1\" class=\"dataframe\">\n",
       "  <thead>\n",
       "    <tr style=\"text-align: right;\">\n",
       "      <th></th>\n",
       "      <th>frequency</th>\n",
       "    </tr>\n",
       "    <tr>\n",
       "      <th>class</th>\n",
       "      <th></th>\n",
       "    </tr>\n",
       "  </thead>\n",
       "  <tbody>\n",
       "    <tr>\n",
       "      <th>0~10</th>\n",
       "      <td>0</td>\n",
       "    </tr>\n",
       "    <tr>\n",
       "      <th>10~20</th>\n",
       "      <td>0</td>\n",
       "    </tr>\n",
       "    <tr>\n",
       "      <th>20~30</th>\n",
       "      <td>0</td>\n",
       "    </tr>\n",
       "    <tr>\n",
       "      <th>30~40</th>\n",
       "      <td>2</td>\n",
       "    </tr>\n",
       "    <tr>\n",
       "      <th>40~50</th>\n",
       "      <td>8</td>\n",
       "    </tr>\n",
       "    <tr>\n",
       "      <th>50~60</th>\n",
       "      <td>16</td>\n",
       "    </tr>\n",
       "    <tr>\n",
       "      <th>60~70</th>\n",
       "      <td>18</td>\n",
       "    </tr>\n",
       "    <tr>\n",
       "      <th>70~80</th>\n",
       "      <td>6</td>\n",
       "    </tr>\n",
       "    <tr>\n",
       "      <th>80~90</th>\n",
       "      <td>0</td>\n",
       "    </tr>\n",
       "    <tr>\n",
       "      <th>90~100</th>\n",
       "      <td>0</td>\n",
       "    </tr>\n",
       "  </tbody>\n",
       "</table>\n",
       "</div>"
      ],
      "text/plain": [
       "        frequency\n",
       "class            \n",
       "0~10            0\n",
       "10~20           0\n",
       "20~30           0\n",
       "30~40           2\n",
       "40~50           8\n",
       "50~60          16\n",
       "60~70          18\n",
       "70~80           6\n",
       "80~90           0\n",
       "90~100          0"
      ]
     },
     "execution_count": 67,
     "metadata": {},
     "output_type": "execute_result"
    }
   ],
   "source": [
    "# freq_class를 인덱스로 df 작성\n",
    "freq_dist_df = pd.DataFrame({ 'frequency':freq},\n",
    "                           index=pd.Index(freq_class,\n",
    "                                         name='class'))\n",
    "freq_dist_df"
   ]
  },
  {
   "cell_type": "markdown",
   "id": "32231e6b",
   "metadata": {},
   "source": [
    "#### 계급값\n",
    "- 각 계급을 대표하는 값, 계급의 중앙값"
   ]
  },
  {
   "cell_type": "code",
   "execution_count": 68,
   "id": "ee242bc6",
   "metadata": {},
   "outputs": [
    {
     "data": {
      "text/plain": [
       "[5, 15, 25, 35, 45, 55, 65, 75, 85, 95]"
      ]
     },
     "execution_count": 68,
     "metadata": {},
     "output_type": "execute_result"
    }
   ],
   "source": [
    "class_value = [(i+(i+10))//2 for i in range(0, 100, 10)]\n",
    "class_value"
   ]
  },
  {
   "cell_type": "markdown",
   "id": "811e9929",
   "metadata": {},
   "source": [
    "#### 상대도수\n",
    "- 전체 데이터에서 해당 계급의 데이터가 차지하는 정도의 비율"
   ]
  },
  {
   "cell_type": "code",
   "execution_count": 69,
   "id": "ac23452d",
   "metadata": {},
   "outputs": [
    {
     "data": {
      "text/plain": [
       "array([0.  , 0.  , 0.  , 0.04, 0.16, 0.32, 0.36, 0.12, 0.  , 0.  ])"
      ]
     },
     "execution_count": 69,
     "metadata": {},
     "output_type": "execute_result"
    }
   ],
   "source": [
    "rel_freq = freq/freq.sum()\n",
    "rel_freq"
   ]
  },
  {
   "cell_type": "markdown",
   "id": "b292c75e",
   "metadata": {},
   "source": [
    "#### 누적상대도수\n",
    "- 해당 계급까지의 상대도수의 합"
   ]
  },
  {
   "cell_type": "code",
   "execution_count": 70,
   "id": "55a032b8",
   "metadata": {},
   "outputs": [
    {
     "data": {
      "text/plain": [
       "array([0.  , 0.  , 0.  , 0.04, 0.2 , 0.52, 0.88, 1.  , 1.  , 1.  ])"
      ]
     },
     "execution_count": 70,
     "metadata": {},
     "output_type": "execute_result"
    }
   ],
   "source": [
    "cum_rel_freq = np.cumsum(rel_freq)\n",
    "cum_rel_freq"
   ]
  },
  {
   "cell_type": "code",
   "execution_count": 71,
   "id": "01d9ae33",
   "metadata": {
    "scrolled": true
   },
   "outputs": [
    {
     "data": {
      "text/html": [
       "<div>\n",
       "<style scoped>\n",
       "    .dataframe tbody tr th:only-of-type {\n",
       "        vertical-align: middle;\n",
       "    }\n",
       "\n",
       "    .dataframe tbody tr th {\n",
       "        vertical-align: top;\n",
       "    }\n",
       "\n",
       "    .dataframe thead th {\n",
       "        text-align: right;\n",
       "    }\n",
       "</style>\n",
       "<table border=\"1\" class=\"dataframe\">\n",
       "  <thead>\n",
       "    <tr style=\"text-align: right;\">\n",
       "      <th></th>\n",
       "      <th>class value</th>\n",
       "      <th>frequency</th>\n",
       "      <th>relative frequency</th>\n",
       "      <th>cumulative relative frequency</th>\n",
       "    </tr>\n",
       "    <tr>\n",
       "      <th>class</th>\n",
       "      <th></th>\n",
       "      <th></th>\n",
       "      <th></th>\n",
       "      <th></th>\n",
       "    </tr>\n",
       "  </thead>\n",
       "  <tbody>\n",
       "    <tr>\n",
       "      <th>0~10</th>\n",
       "      <td>5</td>\n",
       "      <td>0</td>\n",
       "      <td>0.00</td>\n",
       "      <td>0.00</td>\n",
       "    </tr>\n",
       "    <tr>\n",
       "      <th>10~20</th>\n",
       "      <td>15</td>\n",
       "      <td>0</td>\n",
       "      <td>0.00</td>\n",
       "      <td>0.00</td>\n",
       "    </tr>\n",
       "    <tr>\n",
       "      <th>20~30</th>\n",
       "      <td>25</td>\n",
       "      <td>0</td>\n",
       "      <td>0.00</td>\n",
       "      <td>0.00</td>\n",
       "    </tr>\n",
       "    <tr>\n",
       "      <th>30~40</th>\n",
       "      <td>35</td>\n",
       "      <td>2</td>\n",
       "      <td>0.04</td>\n",
       "      <td>0.04</td>\n",
       "    </tr>\n",
       "    <tr>\n",
       "      <th>40~50</th>\n",
       "      <td>45</td>\n",
       "      <td>8</td>\n",
       "      <td>0.16</td>\n",
       "      <td>0.20</td>\n",
       "    </tr>\n",
       "    <tr>\n",
       "      <th>50~60</th>\n",
       "      <td>55</td>\n",
       "      <td>16</td>\n",
       "      <td>0.32</td>\n",
       "      <td>0.52</td>\n",
       "    </tr>\n",
       "    <tr>\n",
       "      <th>60~70</th>\n",
       "      <td>65</td>\n",
       "      <td>18</td>\n",
       "      <td>0.36</td>\n",
       "      <td>0.88</td>\n",
       "    </tr>\n",
       "    <tr>\n",
       "      <th>70~80</th>\n",
       "      <td>75</td>\n",
       "      <td>6</td>\n",
       "      <td>0.12</td>\n",
       "      <td>1.00</td>\n",
       "    </tr>\n",
       "    <tr>\n",
       "      <th>80~90</th>\n",
       "      <td>85</td>\n",
       "      <td>0</td>\n",
       "      <td>0.00</td>\n",
       "      <td>1.00</td>\n",
       "    </tr>\n",
       "    <tr>\n",
       "      <th>90~100</th>\n",
       "      <td>95</td>\n",
       "      <td>0</td>\n",
       "      <td>0.00</td>\n",
       "      <td>1.00</td>\n",
       "    </tr>\n",
       "  </tbody>\n",
       "</table>\n",
       "</div>"
      ],
      "text/plain": [
       "        class value  frequency  relative frequency  \\\n",
       "class                                                \n",
       "0~10              5          0                0.00   \n",
       "10~20            15          0                0.00   \n",
       "20~30            25          0                0.00   \n",
       "30~40            35          2                0.04   \n",
       "40~50            45          8                0.16   \n",
       "50~60            55         16                0.32   \n",
       "60~70            65         18                0.36   \n",
       "70~80            75          6                0.12   \n",
       "80~90            85          0                0.00   \n",
       "90~100           95          0                0.00   \n",
       "\n",
       "        cumulative relative frequency  \n",
       "class                                  \n",
       "0~10                             0.00  \n",
       "10~20                            0.00  \n",
       "20~30                            0.00  \n",
       "30~40                            0.04  \n",
       "40~50                            0.20  \n",
       "50~60                            0.52  \n",
       "60~70                            0.88  \n",
       "70~80                            1.00  \n",
       "80~90                            1.00  \n",
       "90~100                           1.00  "
      ]
     },
     "execution_count": 71,
     "metadata": {},
     "output_type": "execute_result"
    }
   ],
   "source": [
    "# 계급값\n",
    "freq_dist_df['class value'] = class_value\n",
    "# 상대도수\n",
    "freq_dist_df['relative frequency'] = rel_freq\n",
    "# 누적상대도수\n",
    "freq_dist_df['cumulative relative frequency'] = cum_rel_freq\n",
    "\n",
    "freq_dist_df = freq_dist_df[['class value', 'frequency', 'relative frequency','cumulative relative frequency']]\n",
    "freq_dist_df"
   ]
  },
  {
   "cell_type": "code",
   "execution_count": 72,
   "id": "4b394d3c",
   "metadata": {},
   "outputs": [
    {
     "data": {
      "text/plain": [
       "65"
      ]
     },
     "execution_count": 72,
     "metadata": {},
     "output_type": "execute_result"
    }
   ],
   "source": [
    "# 최빈값\n",
    "freq_dist_df.loc[freq_dist_df['frequency'].idxmax(), 'class value']"
   ]
  },
  {
   "cell_type": "markdown",
   "id": "f976f593",
   "metadata": {},
   "source": [
    "### 히스토그램"
   ]
  },
  {
   "cell_type": "code",
   "execution_count": 73,
   "id": "d5613559",
   "metadata": {},
   "outputs": [],
   "source": [
    "import matplotlib.pyplot as plt"
   ]
  },
  {
   "cell_type": "code",
   "execution_count": 74,
   "id": "22c62c8e",
   "metadata": {},
   "outputs": [],
   "source": [
    "%matplotlib inline"
   ]
  },
  {
   "cell_type": "code",
   "execution_count": 75,
   "id": "96bc754d",
   "metadata": {},
   "outputs": [
    {
     "data": {
      "image/png": "[encoded data removed]",
      "text/plain": [
       "<Figure size 720x432 with 1 Axes>"
      ]
     },
     "metadata": {
      "needs_background": "light"
     },
     "output_type": "display_data"
    }
   ],
   "source": [
    "# figsize 가로 세로 크기 지정\n",
    "fig = plt.figure(figsize=(10,6))\n",
    "# 그래프 영역 지정\n",
    "ax = fig.add_subplot(111)\n",
    "\n",
    "# 히스토그램 생성\n",
    "freq, _, _ = ax.hist(english_scores, bins=10, range=(0,100))\n",
    "ax.set_xlabel('score')\n",
    "ax.set_ylabel('person number')\n",
    "\n",
    "# X축을 0,10,20,..100 눈금으로 구분\n",
    "ax.set_xticks(np.linspace(0,100,10+1))\n",
    "# Y축을 0,1,2,...의 눈금으로 구분\n",
    "ax.set_yticks(np.arange(0,freq.max()+1))\n",
    "\n",
    "plt.show()"
   ]
  },
  {
   "cell_type": "code",
   "execution_count": 76,
   "id": "7d163b8c",
   "metadata": {
    "scrolled": true
   },
   "outputs": [
    {
     "data": {
      "image/png": "[encoded data removed]",
      "text/plain": [
       "<Figure size 720x432 with 1 Axes>"
      ]
     },
     "metadata": {
      "needs_background": "light"
     },
     "output_type": "display_data"
    }
   ],
   "source": [
    "# 계급수를 늘려 더 세부적인 데이터의 분포 확인\n",
    "\n",
    "# figsize 가로 세로 크기 지정\n",
    "fig = plt.figure(figsize=(10,6))\n",
    "# 그래프 영역 지정\n",
    "ax = fig.add_subplot(111)\n",
    "\n",
    "# 히스토그램 생성\n",
    "freq, _, _ = ax.hist(english_scores, bins=25, range=(0,100))\n",
    "ax.set_xlabel('score')\n",
    "ax.set_ylabel('person number')\n",
    "ax.set_xticks(np.linspace(0,100,25+1))\n",
    "ax.set_yticks(np.arange(0,freq.max()+1))\n",
    "\n",
    "plt.show()"
   ]
  },
  {
   "cell_type": "code",
   "execution_count": 77,
   "id": "8d80f2bc",
   "metadata": {},
   "outputs": [
    {
     "data": {
      "image/png": "[encoded data removed]",
      "text/plain": [
       "<Figure size 720x432 with 2 Axes>"
      ]
     },
     "metadata": {
      "needs_background": "light"
     },
     "output_type": "display_data"
    }
   ],
   "source": [
    "# 상대도수의 히스토그램을 누적상대도수의 꺾은선 그래프와 함께 그리기.\n",
    "\n",
    "# figsize 가로 세로 크기 지정\n",
    "fig = plt.figure(figsize=(10,6))\n",
    "# 그래프 영역 지정\n",
    "ax1 = fig.add_subplot(111)\n",
    "\n",
    "ax2 = ax1.twinx() # ax1과 동일한 영역에 생성\n",
    "\n",
    "# 도수를 데이터의 수로 나누기\n",
    "weights = np.ones_like(english_scores) / len(english_scores)\n",
    "rel_freq, _, _ = ax1.hist(english_scores, bins=25,\n",
    "                         range=(0,100), weights = weights)\n",
    "\n",
    "cum_rel_freq = np.cumsum(rel_freq)\n",
    "class_value = [(i+(i+4))//2 for i in range(0, 100, 4)]\n",
    "\n",
    "# 꺾은선 그래프\n",
    "ax2.plot(class_value, cum_rel_freq, ls='--', marker='o', color='gray')\n",
    "\n",
    "# 눈금선 제거\n",
    "ax2.grid(visible=False)\n",
    "\n",
    "ax1.set_xlabel('score')\n",
    "ax1.set_ylabel('relative frequency')\n",
    "ax2.set_ylabel('cumulativerelative frequency')\n",
    "ax1.set_xticks(np.linspace(0,100,25+1))\n",
    "\n",
    "plt.show()"
   ]
  },
  {
   "cell_type": "markdown",
   "id": "669dbe7d",
   "metadata": {},
   "source": [
    "### 상자그림"
   ]
  },
  {
   "cell_type": "code",
   "execution_count": null,
   "id": "af9433ea",
   "metadata": {},
   "outputs": [],
   "source": [
    "#### Box plot 의미 해석\n",
    "- 데이터의 산포도를 표현하는 그림\n",
    "\n",
    "* IQR(Inter Quartile Range): 제 3사분위수 - 제1사분위수\n",
    "* lower whisker: Q1 - 1.5 x IQR 이내인 값중에서 최솟값\n",
    "* upper whisker: Q3 + 1.5 x IQR 이내인 값중에서 최댓값\n",
    "* 이상치: lower whisker, upper whisker를 벗어나는 값\n"
   ]
  },
  {
   "cell_type": "code",
   "execution_count": 79,
   "id": "792105a9",
   "metadata": {},
   "outputs": [
    {
     "data": {
      "image/png": "[encoded data removed]",
      "text/plain": [
       "<Figure size 360x432 with 1 Axes>"
      ]
     },
     "metadata": {
      "needs_background": "light"
     },
     "output_type": "display_data"
    }
   ],
   "source": [
    "fig = plt.figure(figsize=(5,6))\n",
    "ax = fig.add_subplot(111)\n",
    "ax.boxplot(english_scores, labels=['english'])\n",
    "\n",
    "plt.show()"
   ]
  },
  {
   "cell_type": "markdown",
   "id": "a18b143f",
   "metadata": {},
   "source": [
    "#### [과제2]\n",
    "1차원 데이터를 생성하여 다음을 수행하세요.\n",
    "- 도수분포표를 만들고 히스토그램을 시각화하세요. (계급을 변경하여 2개를 작성)\n",
    "- 상대도수 및 누적상대도수를 도수분포표에 추가하고 히스토그램과 누적상대도수를 시각화하세요.\n"
   ]
  },
  {
   "cell_type": "code",
   "execution_count": 4,
   "id": "b7d3810d",
   "metadata": {},
   "outputs": [
    {
     "data": {
      "text/plain": [
       "array([25, 99, 81, 98, 18, 81, 55, 97, 52, 69, 77,  6, 58, 39, 54, 22, 95,\n",
       "       97, 48, 80, 33, 17, 65, 97, 28, 32,  4, 66, 82, 66, 22, 44, 62, 52,\n",
       "       17, 67,  8, 74, 69, 42, 41, 98,  6, 71, 85, 16, 54, 59, 24, 26,  8,\n",
       "       11, 73, 29, 76, 94, 39, 34, 18, 61, 20, 84, 95, 13, 59, 15, 28, 55,\n",
       "       10, 50, 86, 10, 62, 37, 63, 25, 80, 15,  7, 69, 51, 82, 37, 70, 18,\n",
       "       89, 54, 88, 39, 96, 29, 40, 93, 92, 35, 42, 31, 61, 83, 89])"
      ]
     },
     "execution_count": 4,
     "metadata": {},
     "output_type": "execute_result"
    }
   ],
   "source": [
    "age = np.random.randint(0,100,100)\n",
    "age"
   ]
  },
  {
   "cell_type": "code",
   "execution_count": 5,
   "id": "e737ce5f",
   "metadata": {},
   "outputs": [
    {
     "data": {
      "text/plain": [
       "count    100.000000\n",
       "mean      52.230000\n",
       "std       28.780554\n",
       "min        4.000000\n",
       "25%       27.500000\n",
       "50%       54.000000\n",
       "75%       77.750000\n",
       "max       99.000000\n",
       "dtype: float64"
      ]
     },
     "execution_count": 5,
     "metadata": {},
     "output_type": "execute_result"
    }
   ],
   "source": [
    "pd.Series(age).describe()"
   ]
  },
  {
   "cell_type": "code",
   "execution_count": 6,
   "id": "0f6c81a8-ec7f-47ac-a025-a17dcb4e5228",
   "metadata": {},
   "outputs": [
    {
     "data": {
      "text/plain": [
       "array([ 6, 12, 11, 10,  6, 12, 12,  6, 13, 12], dtype=int64)"
      ]
     },
     "execution_count": 6,
     "metadata": {},
     "output_type": "execute_result"
    }
   ],
   "source": [
    "freq,_=np.histogram(age,bins=10, range=(0,100))\n",
    "# bins 계급의 개수, range: 최대와 최소 \n",
    "freq"
   ]
  },
  {
   "cell_type": "code",
   "execution_count": 7,
   "id": "5455189f-0393-4560-adc4-b03932d82dea",
   "metadata": {},
   "outputs": [
    {
     "data": {
      "text/plain": [
       "['0 ~ 10',\n",
       " '10 ~ 20',\n",
       " '20 ~ 30',\n",
       " '30 ~ 40',\n",
       " '40 ~ 50',\n",
       " '50 ~ 60',\n",
       " '60 ~ 70',\n",
       " '70 ~ 80',\n",
       " '80 ~ 90',\n",
       " '90 ~ 100']"
      ]
     },
     "execution_count": 7,
     "metadata": {},
     "output_type": "execute_result"
    }
   ],
   "source": [
    "# 계급\n",
    "freq_class = [f'{i} ~ {i+10}' for i in range(0, 100, 10)]\n",
    "freq_class"
   ]
  },
  {
   "cell_type": "code",
   "execution_count": 8,
   "id": "2e7dff53-3d43-4f3f-a510-5888c3d05020",
   "metadata": {},
   "outputs": [
    {
     "data": {
      "text/html": [
       "<div>\n",
       "<style scoped>\n",
       "    .dataframe tbody tr th:only-of-type {\n",
       "        vertical-align: middle;\n",
       "    }\n",
       "\n",
       "    .dataframe tbody tr th {\n",
       "        vertical-align: top;\n",
       "    }\n",
       "\n",
       "    .dataframe thead th {\n",
       "        text-align: right;\n",
       "    }\n",
       "</style>\n",
       "<table border=\"1\" class=\"dataframe\">\n",
       "  <thead>\n",
       "    <tr style=\"text-align: right;\">\n",
       "      <th></th>\n",
       "      <th>frequency data</th>\n",
       "    </tr>\n",
       "    <tr>\n",
       "      <th>Class</th>\n",
       "      <th></th>\n",
       "    </tr>\n",
       "  </thead>\n",
       "  <tbody>\n",
       "    <tr>\n",
       "      <th>0 ~ 10</th>\n",
       "      <td>6</td>\n",
       "    </tr>\n",
       "    <tr>\n",
       "      <th>10 ~ 20</th>\n",
       "      <td>12</td>\n",
       "    </tr>\n",
       "    <tr>\n",
       "      <th>20 ~ 30</th>\n",
       "      <td>11</td>\n",
       "    </tr>\n",
       "    <tr>\n",
       "      <th>30 ~ 40</th>\n",
       "      <td>10</td>\n",
       "    </tr>\n",
       "    <tr>\n",
       "      <th>40 ~ 50</th>\n",
       "      <td>6</td>\n",
       "    </tr>\n",
       "    <tr>\n",
       "      <th>50 ~ 60</th>\n",
       "      <td>12</td>\n",
       "    </tr>\n",
       "    <tr>\n",
       "      <th>60 ~ 70</th>\n",
       "      <td>12</td>\n",
       "    </tr>\n",
       "    <tr>\n",
       "      <th>70 ~ 80</th>\n",
       "      <td>6</td>\n",
       "    </tr>\n",
       "    <tr>\n",
       "      <th>80 ~ 90</th>\n",
       "      <td>13</td>\n",
       "    </tr>\n",
       "    <tr>\n",
       "      <th>90 ~ 100</th>\n",
       "      <td>12</td>\n",
       "    </tr>\n",
       "  </tbody>\n",
       "</table>\n",
       "</div>"
      ],
      "text/plain": [
       "          frequency data \n",
       "Class                    \n",
       "0 ~ 10                  6\n",
       "10 ~ 20                12\n",
       "20 ~ 30                11\n",
       "30 ~ 40                10\n",
       "40 ~ 50                 6\n",
       "50 ~ 60                12\n",
       "60 ~ 70                12\n",
       "70 ~ 80                 6\n",
       "80 ~ 90                13\n",
       "90 ~ 100               12"
      ]
     },
     "execution_count": 8,
     "metadata": {},
     "output_type": "execute_result"
    }
   ],
   "source": [
    "# 도수분포표\n",
    "freq_dist =pd.DataFrame({'frequency data ' :freq},index= pd.Index(freq_class, name='Class'))\n",
    "freq_dist"
   ]
  },
  {
   "cell_type": "code",
   "execution_count": 9,
   "id": "b04a7893",
   "metadata": {},
   "outputs": [
    {
     "data": {
      "image/png": "[encoded data removed]",
      "text/plain": [
       "<Figure size 720x432 with 1 Axes>"
      ]
     },
     "metadata": {
      "needs_background": "light"
     },
     "output_type": "display_data"
    }
   ],
   "source": [
    "import matplotlib.pyplot as plt\n",
    "%matplotlib inline\n",
    "\n",
    "# figsize 가로 세로 크기 지정\n",
    "fig = plt.figure(figsize=(10,6))\n",
    "# 그래프 영역 지정\n",
    "ax = fig.add_subplot(111)\n",
    "\n",
    "# 히스토그램 생성\n",
    "freq, _, _ = ax.hist(age, bins=10, range=(0,100))\n",
    "ax.set_xlabel('age')\n",
    "ax.set_ylabel('person number')\n",
    "\n",
    "# X축을 0,10,20,..100 눈금으로 구분\n",
    "ax.set_xticks(np.linspace(0,100,10+1))\n",
    "# Y축을 0,1,2,...의 눈금으로 구분\n",
    "ax.set_yticks(np.arange(0,freq.max()+1))\n",
    "\n",
    "plt.show()"
   ]
  },
  {
   "cell_type": "code",
   "execution_count": 10,
   "id": "9b7bb87a-550d-4c32-a3ca-c78fef553595",
   "metadata": {},
   "outputs": [
    {
     "data": {
      "text/plain": [
       "array([18, 21, 18, 18, 25], dtype=int64)"
      ]
     },
     "execution_count": 10,
     "metadata": {},
     "output_type": "execute_result"
    }
   ],
   "source": [
    "freq2,_=np.histogram(age,bins=5, range=(0,100))\n",
    "# bins 계급의 개수, range: 최대와 최소 \n",
    "freq2"
   ]
  },
  {
   "cell_type": "code",
   "execution_count": 11,
   "id": "60b6c239-6d59-4334-a1ca-00d5ede3c087",
   "metadata": {},
   "outputs": [
    {
     "data": {
      "text/plain": [
       "['5 ~ 15', '25 ~ 35', '45 ~ 55', '65 ~ 75', '85 ~ 95']"
      ]
     },
     "execution_count": 11,
     "metadata": {},
     "output_type": "execute_result"
    }
   ],
   "source": [
    "# 계급2\n",
    "freq_class2 = [f'{i} ~ {i+10}' for i in range(5, 100, 20)]\n",
    "freq_class2"
   ]
  },
  {
   "cell_type": "code",
   "execution_count": 12,
   "id": "efa2206c-2a93-451c-baf9-64785783075c",
   "metadata": {},
   "outputs": [
    {
     "data": {
      "text/html": [
       "<div>\n",
       "<style scoped>\n",
       "    .dataframe tbody tr th:only-of-type {\n",
       "        vertical-align: middle;\n",
       "    }\n",
       "\n",
       "    .dataframe tbody tr th {\n",
       "        vertical-align: top;\n",
       "    }\n",
       "\n",
       "    .dataframe thead th {\n",
       "        text-align: right;\n",
       "    }\n",
       "</style>\n",
       "<table border=\"1\" class=\"dataframe\">\n",
       "  <thead>\n",
       "    <tr style=\"text-align: right;\">\n",
       "      <th></th>\n",
       "      <th>frequency data</th>\n",
       "    </tr>\n",
       "    <tr>\n",
       "      <th>Class</th>\n",
       "      <th></th>\n",
       "    </tr>\n",
       "  </thead>\n",
       "  <tbody>\n",
       "    <tr>\n",
       "      <th>5 ~ 15</th>\n",
       "      <td>18</td>\n",
       "    </tr>\n",
       "    <tr>\n",
       "      <th>25 ~ 35</th>\n",
       "      <td>21</td>\n",
       "    </tr>\n",
       "    <tr>\n",
       "      <th>45 ~ 55</th>\n",
       "      <td>18</td>\n",
       "    </tr>\n",
       "    <tr>\n",
       "      <th>65 ~ 75</th>\n",
       "      <td>18</td>\n",
       "    </tr>\n",
       "    <tr>\n",
       "      <th>85 ~ 95</th>\n",
       "      <td>25</td>\n",
       "    </tr>\n",
       "  </tbody>\n",
       "</table>\n",
       "</div>"
      ],
      "text/plain": [
       "         frequency data \n",
       "Class                   \n",
       "5 ~ 15                18\n",
       "25 ~ 35               21\n",
       "45 ~ 55               18\n",
       "65 ~ 75               18\n",
       "85 ~ 95               25"
      ]
     },
     "execution_count": 12,
     "metadata": {},
     "output_type": "execute_result"
    }
   ],
   "source": [
    "# 도수분포표 2\n",
    "freq_dist2 =pd.DataFrame({'frequency data ' :freq2},index= pd.Index(freq_class2, name='Class'))\n",
    "freq_dist2"
   ]
  },
  {
   "cell_type": "code",
   "execution_count": 13,
   "id": "fe303642-abce-4472-ac5a-fe86aa9741b7",
   "metadata": {},
   "outputs": [
    {
     "data": {
      "image/png": "[encoded data removed]",
      "text/plain": [
       "<Figure size 720x432 with 1 Axes>"
      ]
     },
     "metadata": {
      "needs_background": "light"
     },
     "output_type": "display_data"
    }
   ],
   "source": [
    "import matplotlib.pyplot as plt\n",
    "%matplotlib inline\n",
    "\n",
    "# figsize 가로 세로 크기 지정\n",
    "fig = plt.figure(figsize=(10,6))\n",
    "# 그래프 영역 지정\n",
    "ax = fig.add_subplot(111)\n",
    "\n",
    "# 히스토그램 생성\n",
    "freq2, _, _ = ax.hist(age, bins=5, range=(0,100))\n",
    "ax.set_xlabel('age')\n",
    "ax.set_ylabel('person number')\n",
    "\n",
    "ax.set_xticks(np.linspace(5,100,10+1))\n",
    "ax.set_yticks(np.arange(0,freq.max()+1))\n",
    "\n",
    "plt.show()"
   ]
  },
  {
   "cell_type": "code",
   "execution_count": 14,
   "id": "077525e2-29ae-422a-ab84-b05cbc48e9b0",
   "metadata": {},
   "outputs": [
    {
     "data": {
      "text/plain": [
       "array([0.06, 0.12, 0.11, 0.1 , 0.06, 0.12, 0.12, 0.06, 0.13, 0.12])"
      ]
     },
     "execution_count": 14,
     "metadata": {},
     "output_type": "execute_result"
    }
   ],
   "source": [
    "#상대도수 \n",
    "rel_freq=freq/freq.sum()\n",
    "rel_freq"
   ]
  },
  {
   "cell_type": "code",
   "execution_count": 15,
   "id": "6e5ffe05-7eea-4e21-9200-ebe218ce75ea",
   "metadata": {},
   "outputs": [
    {
     "data": {
      "text/plain": [
       "array([0.06, 0.18, 0.29, 0.39, 0.45, 0.57, 0.69, 0.75, 0.88, 1.  ])"
      ]
     },
     "execution_count": 15,
     "metadata": {},
     "output_type": "execute_result"
    }
   ],
   "source": [
    "#누적 상대 도수 \n",
    "cum_rel_freq=np.cumsum(rel_freq)\n",
    "cum_rel_freq"
   ]
  },
  {
   "cell_type": "code",
   "execution_count": 16,
   "id": "6fc498ef-a0b8-47f8-80e9-c2bfa54113c3",
   "metadata": {},
   "outputs": [
    {
     "data": {
      "text/html": [
       "<div>\n",
       "<style scoped>\n",
       "    .dataframe tbody tr th:only-of-type {\n",
       "        vertical-align: middle;\n",
       "    }\n",
       "\n",
       "    .dataframe tbody tr th {\n",
       "        vertical-align: top;\n",
       "    }\n",
       "\n",
       "    .dataframe thead th {\n",
       "        text-align: right;\n",
       "    }\n",
       "</style>\n",
       "<table border=\"1\" class=\"dataframe\">\n",
       "  <thead>\n",
       "    <tr style=\"text-align: right;\">\n",
       "      <th></th>\n",
       "      <th>frequency data</th>\n",
       "      <th>상대도수</th>\n",
       "      <th>누적상대도수</th>\n",
       "    </tr>\n",
       "    <tr>\n",
       "      <th>Class</th>\n",
       "      <th></th>\n",
       "      <th></th>\n",
       "      <th></th>\n",
       "    </tr>\n",
       "  </thead>\n",
       "  <tbody>\n",
       "    <tr>\n",
       "      <th>0 ~ 10</th>\n",
       "      <td>6</td>\n",
       "      <td>0.06</td>\n",
       "      <td>0.06</td>\n",
       "    </tr>\n",
       "    <tr>\n",
       "      <th>10 ~ 20</th>\n",
       "      <td>12</td>\n",
       "      <td>0.12</td>\n",
       "      <td>0.18</td>\n",
       "    </tr>\n",
       "    <tr>\n",
       "      <th>20 ~ 30</th>\n",
       "      <td>11</td>\n",
       "      <td>0.11</td>\n",
       "      <td>0.29</td>\n",
       "    </tr>\n",
       "    <tr>\n",
       "      <th>30 ~ 40</th>\n",
       "      <td>10</td>\n",
       "      <td>0.10</td>\n",
       "      <td>0.39</td>\n",
       "    </tr>\n",
       "    <tr>\n",
       "      <th>40 ~ 50</th>\n",
       "      <td>6</td>\n",
       "      <td>0.06</td>\n",
       "      <td>0.45</td>\n",
       "    </tr>\n",
       "    <tr>\n",
       "      <th>50 ~ 60</th>\n",
       "      <td>12</td>\n",
       "      <td>0.12</td>\n",
       "      <td>0.57</td>\n",
       "    </tr>\n",
       "    <tr>\n",
       "      <th>60 ~ 70</th>\n",
       "      <td>12</td>\n",
       "      <td>0.12</td>\n",
       "      <td>0.69</td>\n",
       "    </tr>\n",
       "    <tr>\n",
       "      <th>70 ~ 80</th>\n",
       "      <td>6</td>\n",
       "      <td>0.06</td>\n",
       "      <td>0.75</td>\n",
       "    </tr>\n",
       "    <tr>\n",
       "      <th>80 ~ 90</th>\n",
       "      <td>13</td>\n",
       "      <td>0.13</td>\n",
       "      <td>0.88</td>\n",
       "    </tr>\n",
       "    <tr>\n",
       "      <th>90 ~ 100</th>\n",
       "      <td>12</td>\n",
       "      <td>0.12</td>\n",
       "      <td>1.00</td>\n",
       "    </tr>\n",
       "  </tbody>\n",
       "</table>\n",
       "</div>"
      ],
      "text/plain": [
       "          frequency data   상대도수  누적상대도수\n",
       "Class                                  \n",
       "0 ~ 10                  6  0.06    0.06\n",
       "10 ~ 20                12  0.12    0.18\n",
       "20 ~ 30                11  0.11    0.29\n",
       "30 ~ 40                10  0.10    0.39\n",
       "40 ~ 50                 6  0.06    0.45\n",
       "50 ~ 60                12  0.12    0.57\n",
       "60 ~ 70                12  0.12    0.69\n",
       "70 ~ 80                 6  0.06    0.75\n",
       "80 ~ 90                13  0.13    0.88\n",
       "90 ~ 100               12  0.12    1.00"
      ]
     },
     "execution_count": 16,
     "metadata": {},
     "output_type": "execute_result"
    }
   ],
   "source": [
    "#합치기\n",
    "freq_dist['상대도수']=rel_freq\n",
    "freq_dist['누적상대도수']=cum_rel_freq\n",
    "\n",
    "#결과보기 \n",
    "freq_dist"
   ]
  },
  {
   "cell_type": "code",
   "execution_count": 17,
   "id": "6b580233-f95c-43c1-9423-e63c3bf4af80",
   "metadata": {},
   "outputs": [
    {
     "data": {
      "image/png": "[encoded data removed]",
      "text/plain": [
       "<Figure size 720x432 with 2 Axes>"
      ]
     },
     "metadata": {
      "needs_background": "light"
     },
     "output_type": "display_data"
    }
   ],
   "source": [
    "# 상대도수의 히스토그램을 누적상대도수의 꺾은선 그래프와 함께 그리기.\n",
    "\n",
    "# figsize 가로 세로 크기 지정\n",
    "fig = plt.figure(figsize=(10,6))\n",
    "# 그래프 영역 지정\n",
    "ax1 = fig.add_subplot(111)\n",
    "\n",
    "ax2 = ax1.twinx() # ax1과 동일한 영역에 생성\n",
    "\n",
    "# 도수를 데이터의 수로 나누기\n",
    "weights = np.ones_like(age) / len(age)\n",
    "rel_freq, _, _ = ax1.hist(age, bins=10,\n",
    "                         range=(0,100), weights = weights)\n",
    "\n",
    "cum_rel_freq = np.cumsum(rel_freq)\n",
    "\n",
    "freq_class = [(i+(i+10))//2 for i in range(0, 100, 10)]\n",
    "\n",
    "# 꺾은선 그래프\n",
    "ax2.plot(freq_class, cum_rel_freq, ls='--', marker='o', color='gray')\n",
    "\n",
    "# 눈금선 제거\n",
    "ax2.grid(visible=False)\n",
    "\n",
    "ax1.set_xlabel('age')\n",
    "ax1.set_ylabel('relative frequency')\n",
    "ax2.set_ylabel('cumulativerelative frequency')\n",
    "ax1.set_xticks(np.linspace(0,100,10+1))\n",
    "\n",
    "plt.show()"
   ]
  },
  {
   "cell_type": "code",
   "execution_count": 18,
   "id": "3dd11223-0879-44cb-b766-4f522769cab4",
   "metadata": {},
   "outputs": [
    {
     "data": {
      "text/plain": [
       "array([0.18, 0.21, 0.18, 0.18, 0.25])"
      ]
     },
     "execution_count": 18,
     "metadata": {},
     "output_type": "execute_result"
    }
   ],
   "source": [
    "#상대도수2 \n",
    "rel_freq2=freq2/freq2.sum()\n",
    "rel_freq2"
   ]
  },
  {
   "cell_type": "code",
   "execution_count": 19,
   "id": "b9ed0f87-5c8a-4c21-80e4-935432e50d87",
   "metadata": {},
   "outputs": [
    {
     "data": {
      "text/plain": [
       "array([0.18, 0.39, 0.57, 0.75, 1.  ])"
      ]
     },
     "execution_count": 19,
     "metadata": {},
     "output_type": "execute_result"
    }
   ],
   "source": [
    "#누적 상대 도수2 \n",
    "cum_rel_freq2=np.cumsum(rel_freq2)\n",
    "cum_rel_freq2"
   ]
  },
  {
   "cell_type": "code",
   "execution_count": 20,
   "id": "467c6728-7490-458f-8546-2f1eaf39e8bc",
   "metadata": {},
   "outputs": [
    {
     "data": {
      "text/html": [
       "<div>\n",
       "<style scoped>\n",
       "    .dataframe tbody tr th:only-of-type {\n",
       "        vertical-align: middle;\n",
       "    }\n",
       "\n",
       "    .dataframe tbody tr th {\n",
       "        vertical-align: top;\n",
       "    }\n",
       "\n",
       "    .dataframe thead th {\n",
       "        text-align: right;\n",
       "    }\n",
       "</style>\n",
       "<table border=\"1\" class=\"dataframe\">\n",
       "  <thead>\n",
       "    <tr style=\"text-align: right;\">\n",
       "      <th></th>\n",
       "      <th>frequency data</th>\n",
       "      <th>상대도수</th>\n",
       "      <th>누적상대도수</th>\n",
       "    </tr>\n",
       "    <tr>\n",
       "      <th>Class</th>\n",
       "      <th></th>\n",
       "      <th></th>\n",
       "      <th></th>\n",
       "    </tr>\n",
       "  </thead>\n",
       "  <tbody>\n",
       "    <tr>\n",
       "      <th>5 ~ 15</th>\n",
       "      <td>18</td>\n",
       "      <td>0.18</td>\n",
       "      <td>0.18</td>\n",
       "    </tr>\n",
       "    <tr>\n",
       "      <th>25 ~ 35</th>\n",
       "      <td>21</td>\n",
       "      <td>0.21</td>\n",
       "      <td>0.39</td>\n",
       "    </tr>\n",
       "    <tr>\n",
       "      <th>45 ~ 55</th>\n",
       "      <td>18</td>\n",
       "      <td>0.18</td>\n",
       "      <td>0.57</td>\n",
       "    </tr>\n",
       "    <tr>\n",
       "      <th>65 ~ 75</th>\n",
       "      <td>18</td>\n",
       "      <td>0.18</td>\n",
       "      <td>0.75</td>\n",
       "    </tr>\n",
       "    <tr>\n",
       "      <th>85 ~ 95</th>\n",
       "      <td>25</td>\n",
       "      <td>0.25</td>\n",
       "      <td>1.00</td>\n",
       "    </tr>\n",
       "  </tbody>\n",
       "</table>\n",
       "</div>"
      ],
      "text/plain": [
       "         frequency data   상대도수  누적상대도수\n",
       "Class                                 \n",
       "5 ~ 15                18  0.18    0.18\n",
       "25 ~ 35               21  0.21    0.39\n",
       "45 ~ 55               18  0.18    0.57\n",
       "65 ~ 75               18  0.18    0.75\n",
       "85 ~ 95               25  0.25    1.00"
      ]
     },
     "execution_count": 20,
     "metadata": {},
     "output_type": "execute_result"
    }
   ],
   "source": [
    "#합치기\n",
    "freq_dist2['상대도수']=rel_freq2\n",
    "freq_dist2['누적상대도수']=cum_rel_freq2\n",
    "\n",
    "#결과보기 \n",
    "freq_dist2"
   ]
  },
  {
   "cell_type": "code",
   "execution_count": 21,
   "id": "5d3d0c0a-8c37-454c-9ecd-56e7db499c3a",
   "metadata": {},
   "outputs": [
    {
     "data": {
      "image/png": "[encoded data removed]",
      "text/plain": [
       "<Figure size 720x432 with 2 Axes>"
      ]
     },
     "metadata": {
      "needs_background": "light"
     },
     "output_type": "display_data"
    }
   ],
   "source": [
    "# 상대도수의 히스토그램을 누적상대도수의 꺾은선 그래프와 함께 그리기.\n",
    "\n",
    "# figsize 가로 세로 크기 지정\n",
    "fig = plt.figure(figsize=(10,6))\n",
    "# 그래프 영역 지정\n",
    "ax1 = fig.add_subplot(111)\n",
    "\n",
    "ax2 = ax1.twinx() # ax1과 동일한 영역에 생성\n",
    "\n",
    "# 도수를 데이터의 수로 나누기\n",
    "weights = np.ones_like(age) / len(age)\n",
    "rel_freq2, _, _ = ax1.hist(age, bins=5,\n",
    "                         range=(0,100), weights = weights)\n",
    "\n",
    "cum_rel_freq2 = np.cumsum(rel_freq2)\n",
    "\n",
    "freq_class2 = [(i+(i+10))//2 for i in range(5, 100, 20)]\n",
    "\n",
    "# 꺾은선 그래프\n",
    "ax2.plot(freq_class2, cum_rel_freq2, ls='--', marker='o', color='gray')\n",
    "\n",
    "# 눈금선 제거\n",
    "ax2.grid(visible=False)\n",
    "\n",
    "ax1.set_xlabel('age')\n",
    "ax1.set_ylabel('relative frequency')\n",
    "ax2.set_ylabel('cumulativerelative frequency')\n",
    "ax1.set_xticks(np.linspace(5,100,10+1))\n",
    "\n",
    "plt.show()"
   ]
  },
  {
   "cell_type": "markdown",
   "id": "721fea4e",
   "metadata": {},
   "source": [
    "# 2차원 데이터"
   ]
  },
  {
   "cell_type": "code",
   "execution_count": 86,
   "id": "5a191a37",
   "metadata": {},
   "outputs": [
    {
     "data": {
      "text/html": [
       "<div>\n",
       "<style scoped>\n",
       "    .dataframe tbody tr th:only-of-type {\n",
       "        vertical-align: middle;\n",
       "    }\n",
       "\n",
       "    .dataframe tbody tr th {\n",
       "        vertical-align: top;\n",
       "    }\n",
       "\n",
       "    .dataframe thead th {\n",
       "        text-align: right;\n",
       "    }\n",
       "</style>\n",
       "<table border=\"1\" class=\"dataframe\">\n",
       "  <thead>\n",
       "    <tr style=\"text-align: right;\">\n",
       "      <th></th>\n",
       "      <th>score</th>\n",
       "      <th>deviation value</th>\n",
       "    </tr>\n",
       "    <tr>\n",
       "      <th>student</th>\n",
       "      <th></th>\n",
       "      <th></th>\n",
       "    </tr>\n",
       "  </thead>\n",
       "  <tbody>\n",
       "    <tr>\n",
       "      <th>A</th>\n",
       "      <td>42</td>\n",
       "      <td>35.981739</td>\n",
       "    </tr>\n",
       "    <tr>\n",
       "      <th>B</th>\n",
       "      <td>69</td>\n",
       "      <td>65.096588</td>\n",
       "    </tr>\n",
       "    <tr>\n",
       "      <th>C</th>\n",
       "      <td>56</td>\n",
       "      <td>51.078328</td>\n",
       "    </tr>\n",
       "    <tr>\n",
       "      <th>D</th>\n",
       "      <td>41</td>\n",
       "      <td>34.903412</td>\n",
       "    </tr>\n",
       "    <tr>\n",
       "      <th>E</th>\n",
       "      <td>57</td>\n",
       "      <td>52.156655</td>\n",
       "    </tr>\n",
       "    <tr>\n",
       "      <th>F</th>\n",
       "      <td>48</td>\n",
       "      <td>42.451706</td>\n",
       "    </tr>\n",
       "    <tr>\n",
       "      <th>G</th>\n",
       "      <td>65</td>\n",
       "      <td>60.783277</td>\n",
       "    </tr>\n",
       "    <tr>\n",
       "      <th>H</th>\n",
       "      <td>49</td>\n",
       "      <td>43.530034</td>\n",
       "    </tr>\n",
       "    <tr>\n",
       "      <th>I</th>\n",
       "      <td>65</td>\n",
       "      <td>60.783277</td>\n",
       "    </tr>\n",
       "    <tr>\n",
       "      <th>J</th>\n",
       "      <td>58</td>\n",
       "      <td>53.234983</td>\n",
       "    </tr>\n",
       "  </tbody>\n",
       "</table>\n",
       "</div>"
      ],
      "text/plain": [
       "         score  deviation value\n",
       "student                        \n",
       "A           42        35.981739\n",
       "B           69        65.096588\n",
       "C           56        51.078328\n",
       "D           41        34.903412\n",
       "E           57        52.156655\n",
       "F           48        42.451706\n",
       "G           65        60.783277\n",
       "H           49        43.530034\n",
       "I           65        60.783277\n",
       "J           58        53.234983"
      ]
     },
     "execution_count": 86,
     "metadata": {},
     "output_type": "execute_result"
    }
   ],
   "source": [
    "scores_df"
   ]
  },
  {
   "cell_type": "markdown",
   "id": "0e2470de",
   "metadata": {},
   "source": [
    "## 두 데이터 사이의 관계를 나타내는 지표"
   ]
  },
  {
   "cell_type": "markdown",
   "id": "92a24629",
   "metadata": {
    "toc-hr-collapsed": true
   },
   "source": [
    "### 공분산"
   ]
  },
  {
   "cell_type": "code",
   "execution_count": 88,
   "id": "f9a2f3b3",
   "metadata": {},
   "outputs": [
    {
     "data": {
      "text/plain": [
       "'%.3f'"
      ]
     },
     "execution_count": 88,
     "metadata": {},
     "output_type": "execute_result"
    }
   ],
   "source": [
    "import numpy as np\n",
    "import pandas as pd\n",
    "\n",
    "%precision 3"
   ]
  },
  {
   "cell_type": "code",
   "execution_count": 90,
   "id": "d21eef6c",
   "metadata": {},
   "outputs": [
    {
     "data": {
      "text/html": [
       "<div>\n",
       "<style scoped>\n",
       "    .dataframe tbody tr th:only-of-type {\n",
       "        vertical-align: middle;\n",
       "    }\n",
       "\n",
       "    .dataframe tbody tr th {\n",
       "        vertical-align: top;\n",
       "    }\n",
       "\n",
       "    .dataframe thead th {\n",
       "        text-align: right;\n",
       "    }\n",
       "</style>\n",
       "<table border=\"1\" class=\"dataframe\">\n",
       "  <thead>\n",
       "    <tr style=\"text-align: right;\">\n",
       "      <th></th>\n",
       "      <th>english</th>\n",
       "      <th>mathematics</th>\n",
       "    </tr>\n",
       "    <tr>\n",
       "      <th>student</th>\n",
       "      <th></th>\n",
       "      <th></th>\n",
       "    </tr>\n",
       "  </thead>\n",
       "  <tbody>\n",
       "    <tr>\n",
       "      <th>A</th>\n",
       "      <td>42</td>\n",
       "      <td>65</td>\n",
       "    </tr>\n",
       "    <tr>\n",
       "      <th>B</th>\n",
       "      <td>69</td>\n",
       "      <td>80</td>\n",
       "    </tr>\n",
       "    <tr>\n",
       "      <th>C</th>\n",
       "      <td>56</td>\n",
       "      <td>63</td>\n",
       "    </tr>\n",
       "    <tr>\n",
       "      <th>D</th>\n",
       "      <td>41</td>\n",
       "      <td>63</td>\n",
       "    </tr>\n",
       "    <tr>\n",
       "      <th>E</th>\n",
       "      <td>57</td>\n",
       "      <td>76</td>\n",
       "    </tr>\n",
       "    <tr>\n",
       "      <th>F</th>\n",
       "      <td>48</td>\n",
       "      <td>60</td>\n",
       "    </tr>\n",
       "    <tr>\n",
       "      <th>G</th>\n",
       "      <td>65</td>\n",
       "      <td>81</td>\n",
       "    </tr>\n",
       "    <tr>\n",
       "      <th>H</th>\n",
       "      <td>49</td>\n",
       "      <td>66</td>\n",
       "    </tr>\n",
       "    <tr>\n",
       "      <th>I</th>\n",
       "      <td>65</td>\n",
       "      <td>78</td>\n",
       "    </tr>\n",
       "    <tr>\n",
       "      <th>J</th>\n",
       "      <td>58</td>\n",
       "      <td>82</td>\n",
       "    </tr>\n",
       "  </tbody>\n",
       "</table>\n",
       "</div>"
      ],
      "text/plain": [
       "         english  mathematics\n",
       "student                      \n",
       "A             42           65\n",
       "B             69           80\n",
       "C             56           63\n",
       "D             41           63\n",
       "E             57           76\n",
       "F             48           60\n",
       "G             65           81\n",
       "H             49           66\n",
       "I             65           78\n",
       "J             58           82"
      ]
     },
     "execution_count": 90,
     "metadata": {},
     "output_type": "execute_result"
    }
   ],
   "source": [
    "en_scores = np.array(df['english'])[:10]\n",
    "ma_scores = np.array(df['mathematics'])[:10]\n",
    "\n",
    "scores_df = pd.DataFrame({'english':en_scores,\n",
    "                         'mathematics':ma_scores},\n",
    "                        index=pd.Index(['A','B','C','D','E','F','G','H','I','J'],\n",
    "                                      name='student'))\n",
    "scores_df"
   ]
  },
  {
   "cell_type": "code",
   "execution_count": 101,
   "id": "3ac100aa",
   "metadata": {
    "scrolled": true
   },
   "outputs": [
    {
     "data": {
      "text/html": [
       "<div>\n",
       "<style scoped>\n",
       "    .dataframe tbody tr th:only-of-type {\n",
       "        vertical-align: middle;\n",
       "    }\n",
       "\n",
       "    .dataframe tbody tr th {\n",
       "        vertical-align: top;\n",
       "    }\n",
       "\n",
       "    .dataframe thead th {\n",
       "        text-align: right;\n",
       "    }\n",
       "</style>\n",
       "<table border=\"1\" class=\"dataframe\">\n",
       "  <thead>\n",
       "    <tr style=\"text-align: right;\">\n",
       "      <th></th>\n",
       "      <th>english</th>\n",
       "      <th>mathematics</th>\n",
       "      <th>englsih_deviation</th>\n",
       "      <th>mathematics_deviation</th>\n",
       "      <th>product of deviations</th>\n",
       "    </tr>\n",
       "    <tr>\n",
       "      <th>student</th>\n",
       "      <th></th>\n",
       "      <th></th>\n",
       "      <th></th>\n",
       "      <th></th>\n",
       "      <th></th>\n",
       "    </tr>\n",
       "  </thead>\n",
       "  <tbody>\n",
       "    <tr>\n",
       "      <th>A</th>\n",
       "      <td>42</td>\n",
       "      <td>65</td>\n",
       "      <td>-13.0</td>\n",
       "      <td>-6.4</td>\n",
       "      <td>83.2</td>\n",
       "    </tr>\n",
       "    <tr>\n",
       "      <th>B</th>\n",
       "      <td>69</td>\n",
       "      <td>80</td>\n",
       "      <td>14.0</td>\n",
       "      <td>8.6</td>\n",
       "      <td>120.4</td>\n",
       "    </tr>\n",
       "    <tr>\n",
       "      <th>C</th>\n",
       "      <td>56</td>\n",
       "      <td>63</td>\n",
       "      <td>1.0</td>\n",
       "      <td>-8.4</td>\n",
       "      <td>-8.4</td>\n",
       "    </tr>\n",
       "    <tr>\n",
       "      <th>D</th>\n",
       "      <td>41</td>\n",
       "      <td>63</td>\n",
       "      <td>-14.0</td>\n",
       "      <td>-8.4</td>\n",
       "      <td>117.6</td>\n",
       "    </tr>\n",
       "    <tr>\n",
       "      <th>E</th>\n",
       "      <td>57</td>\n",
       "      <td>76</td>\n",
       "      <td>2.0</td>\n",
       "      <td>4.6</td>\n",
       "      <td>9.2</td>\n",
       "    </tr>\n",
       "    <tr>\n",
       "      <th>F</th>\n",
       "      <td>48</td>\n",
       "      <td>60</td>\n",
       "      <td>-7.0</td>\n",
       "      <td>-11.4</td>\n",
       "      <td>79.8</td>\n",
       "    </tr>\n",
       "    <tr>\n",
       "      <th>G</th>\n",
       "      <td>65</td>\n",
       "      <td>81</td>\n",
       "      <td>10.0</td>\n",
       "      <td>9.6</td>\n",
       "      <td>96.0</td>\n",
       "    </tr>\n",
       "    <tr>\n",
       "      <th>H</th>\n",
       "      <td>49</td>\n",
       "      <td>66</td>\n",
       "      <td>-6.0</td>\n",
       "      <td>-5.4</td>\n",
       "      <td>32.4</td>\n",
       "    </tr>\n",
       "    <tr>\n",
       "      <th>I</th>\n",
       "      <td>65</td>\n",
       "      <td>78</td>\n",
       "      <td>10.0</td>\n",
       "      <td>6.6</td>\n",
       "      <td>66.0</td>\n",
       "    </tr>\n",
       "    <tr>\n",
       "      <th>J</th>\n",
       "      <td>58</td>\n",
       "      <td>82</td>\n",
       "      <td>3.0</td>\n",
       "      <td>10.6</td>\n",
       "      <td>31.8</td>\n",
       "    </tr>\n",
       "  </tbody>\n",
       "</table>\n",
       "</div>"
      ],
      "text/plain": [
       "         english  mathematics  englsih_deviation  mathematics_deviation  \\\n",
       "student                                                                   \n",
       "A             42           65              -13.0                   -6.4   \n",
       "B             69           80               14.0                    8.6   \n",
       "C             56           63                1.0                   -8.4   \n",
       "D             41           63              -14.0                   -8.4   \n",
       "E             57           76                2.0                    4.6   \n",
       "F             48           60               -7.0                  -11.4   \n",
       "G             65           81               10.0                    9.6   \n",
       "H             49           66               -6.0                   -5.4   \n",
       "I             65           78               10.0                    6.6   \n",
       "J             58           82                3.0                   10.6   \n",
       "\n",
       "         product of deviations  \n",
       "student                         \n",
       "A                         83.2  \n",
       "B                        120.4  \n",
       "C                         -8.4  \n",
       "D                        117.6  \n",
       "E                          9.2  \n",
       "F                         79.8  \n",
       "G                         96.0  \n",
       "H                         32.4  \n",
       "I                         66.0  \n",
       "J                         31.8  "
      ]
     },
     "execution_count": 101,
     "metadata": {},
     "output_type": "execute_result"
    }
   ],
   "source": [
    "summary_df = scores_df.copy()\n",
    "summary_df['englsih_deviation'] = summary_df['english'] - summary_df['english'].mean()\n",
    "summary_df['mathematics_deviation'] = summary_df['mathematics'] - summary_df['mathematics'].mean()\n",
    "summary_df['product of deviations'] = summary_df['englsih_deviation']*summary_df['mathematics_deviation']\n",
    "summary_df"
   ]
  },
  {
   "cell_type": "code",
   "execution_count": 102,
   "id": "1f544357",
   "metadata": {},
   "outputs": [
    {
     "data": {
      "text/plain": [
       "62.800"
      ]
     },
     "execution_count": 102,
     "metadata": {},
     "output_type": "execute_result"
    }
   ],
   "source": [
    "summary_df['product of deviations'].mean()"
   ]
  },
  {
   "cell_type": "code",
   "execution_count": 103,
   "id": "d9db36d6",
   "metadata": {},
   "outputs": [
    {
     "data": {
      "text/plain": [
       "array([[86.  , 62.8 ],\n",
       "       [62.8 , 68.44]])"
      ]
     },
     "execution_count": 103,
     "metadata": {},
     "output_type": "execute_result"
    }
   ],
   "source": [
    "cov_mat = np.cov(en_scores, ma_scores, ddof=0)\n",
    "cov_mat"
   ]
  },
  {
   "cell_type": "code",
   "execution_count": 104,
   "id": "36d93c4a",
   "metadata": {},
   "outputs": [
    {
     "data": {
      "text/plain": [
       "(62.800, 62.800)"
      ]
     },
     "execution_count": 104,
     "metadata": {},
     "output_type": "execute_result"
    }
   ],
   "source": [
    "cov_mat[0,1], cov_mat[1,0]"
   ]
  },
  {
   "cell_type": "code",
   "execution_count": 105,
   "id": "be8ed957",
   "metadata": {},
   "outputs": [
    {
     "data": {
      "text/plain": [
       "(86.000, 68.440)"
      ]
     },
     "execution_count": 105,
     "metadata": {},
     "output_type": "execute_result"
    }
   ],
   "source": [
    "cov_mat[0,0], cov_mat[1,1]"
   ]
  },
  {
   "cell_type": "code",
   "execution_count": 106,
   "id": "7edecfb6",
   "metadata": {},
   "outputs": [
    {
     "data": {
      "text/plain": [
       "(86.000, 68.440)"
      ]
     },
     "execution_count": 106,
     "metadata": {},
     "output_type": "execute_result"
    }
   ],
   "source": [
    "np.var(en_scores, ddof=0), np.var(ma_scores, ddof=0)"
   ]
  },
  {
   "cell_type": "markdown",
   "id": "bd62ed09",
   "metadata": {},
   "source": [
    "### 상관계수"
   ]
  },
  {
   "cell_type": "code",
   "execution_count": 107,
   "id": "868eed6e",
   "metadata": {},
   "outputs": [
    {
     "data": {
      "text/plain": [
       "0.819"
      ]
     },
     "execution_count": 107,
     "metadata": {},
     "output_type": "execute_result"
    }
   ],
   "source": [
    "np.cov(en_scores, ma_scores, ddof=0)[0,1]/(np.std(en_scores)*np.std(ma_scores))"
   ]
  },
  {
   "cell_type": "code",
   "execution_count": 108,
   "id": "364a3db7",
   "metadata": {},
   "outputs": [
    {
     "data": {
      "text/plain": [
       "array([[1.   , 0.819],\n",
       "       [0.819, 1.   ]])"
      ]
     },
     "execution_count": 108,
     "metadata": {},
     "output_type": "execute_result"
    }
   ],
   "source": [
    "np.corrcoef(en_scores, ma_scores)"
   ]
  },
  {
   "cell_type": "code",
   "execution_count": 109,
   "id": "b5fdd6fa",
   "metadata": {},
   "outputs": [
    {
     "data": {
      "text/html": [
       "<div>\n",
       "<style scoped>\n",
       "    .dataframe tbody tr th:only-of-type {\n",
       "        vertical-align: middle;\n",
       "    }\n",
       "\n",
       "    .dataframe tbody tr th {\n",
       "        vertical-align: top;\n",
       "    }\n",
       "\n",
       "    .dataframe thead th {\n",
       "        text-align: right;\n",
       "    }\n",
       "</style>\n",
       "<table border=\"1\" class=\"dataframe\">\n",
       "  <thead>\n",
       "    <tr style=\"text-align: right;\">\n",
       "      <th></th>\n",
       "      <th>english</th>\n",
       "      <th>mathematics</th>\n",
       "    </tr>\n",
       "  </thead>\n",
       "  <tbody>\n",
       "    <tr>\n",
       "      <th>english</th>\n",
       "      <td>1.000000</td>\n",
       "      <td>0.818569</td>\n",
       "    </tr>\n",
       "    <tr>\n",
       "      <th>mathematics</th>\n",
       "      <td>0.818569</td>\n",
       "      <td>1.000000</td>\n",
       "    </tr>\n",
       "  </tbody>\n",
       "</table>\n",
       "</div>"
      ],
      "text/plain": [
       "              english  mathematics\n",
       "english      1.000000     0.818569\n",
       "mathematics  0.818569     1.000000"
      ]
     },
     "execution_count": 109,
     "metadata": {},
     "output_type": "execute_result"
    }
   ],
   "source": [
    "scores_df.corr()"
   ]
  },
  {
   "cell_type": "markdown",
   "id": "046fc7b5",
   "metadata": {},
   "source": [
    "## 2차원 데이터의 시각화"
   ]
  },
  {
   "cell_type": "code",
   "execution_count": 110,
   "id": "9838969e",
   "metadata": {},
   "outputs": [],
   "source": [
    "import matplotlib.pyplot as plt\n",
    "%matplotlib inline"
   ]
  },
  {
   "cell_type": "markdown",
   "id": "b4524d46",
   "metadata": {},
   "source": [
    "### 산점도"
   ]
  },
  {
   "cell_type": "code",
   "execution_count": 111,
   "id": "0e551426",
   "metadata": {},
   "outputs": [
    {
     "data": {
      "image/png": "[encoded data removed]",
      "text/plain": [
       "<Figure size 576x576 with 1 Axes>"
      ]
     },
     "metadata": {
      "needs_background": "light"
     },
     "output_type": "display_data"
    }
   ],
   "source": [
    "englsih_scores = np.array(df['english'])\n",
    "math_scores = np.array(df['mathematics'])\n",
    "\n",
    "fig = plt.figure(figsize=(8,8))\n",
    "ax = fig.add_subplot(111)\n",
    "\n",
    "ax.scatter(english_scores, math_scores)\n",
    "ax.set_xlabel('english')\n",
    "ax.set_ylabel('mathematics')\n",
    "\n",
    "plt.show()"
   ]
  },
  {
   "cell_type": "markdown",
   "id": "ed006ce9",
   "metadata": {},
   "source": [
    "### 회귀직선"
   ]
  },
  {
   "cell_type": "code",
   "execution_count": 113,
   "id": "93988324",
   "metadata": {},
   "outputs": [
    {
     "data": {
      "image/png": "[encoded data removed]",
      "text/plain": [
       "<Figure size 576x576 with 1 Axes>"
      ]
     },
     "metadata": {
      "needs_background": "light"
     },
     "output_type": "display_data"
    }
   ],
   "source": [
    "poly_fit = np.polyfit(english_scores, math_scores, 1)\n",
    "poly_1d = np.poly1d(poly_fit)\n",
    "xs = np.linspace(english_scores.min(), english_scores.max())\n",
    "ys = poly_1d(xs)\n",
    "\n",
    "fig = plt.figure(figsize=(8,8))\n",
    "ax = fig.add_subplot(111)\n",
    "ax.scatter(english_scores, math_scores, label = 'score')\n",
    "ax.plot(xs, ys, color='gray',\n",
    "       label=f'{poly_fit[1]:.2f}+{poly_fit[0]:.2f}x')\n",
    "ax.set_xlabel('english')\n",
    "ax.set_ylabel('mathematics')\n",
    "\n",
    "ax.legend(loc='upper left')\n",
    "plt.show()"
   ]
  },
  {
   "cell_type": "markdown",
   "id": "3ba7243d",
   "metadata": {},
   "source": [
    "### 히트맵"
   ]
  },
  {
   "cell_type": "code",
   "execution_count": 114,
   "id": "5241e9ab",
   "metadata": {},
   "outputs": [
    {
     "data": {
      "image/png": "[encoded data removed]",
      "text/plain": [
       "<Figure size 720x576 with 2 Axes>"
      ]
     },
     "metadata": {
      "needs_background": "light"
     },
     "output_type": "display_data"
    }
   ],
   "source": [
    "fig = plt.figure(figsize=(10,8))\n",
    "ax = fig.add_subplot(111)\n",
    "\n",
    "c = ax.hist2d(english_scores, math_scores,\n",
    "             bins=[9,8], range=[(35,80),(55,95)])\n",
    "ax.set_xlabel('english')\n",
    "ax.set_xlabel('math_scores')\n",
    "ax.set_xticks(c[1])\n",
    "ax.set_yticks(c[2])\n",
    "\n",
    "fig.colorbar(c[3], ax=ax)\n",
    "plt.show()"
   ]
  },
  {
   "cell_type": "markdown",
   "id": "8c2cf678",
   "metadata": {},
   "source": [
    "#### [과제3]\n",
    "2차원 데이터를 생성하여 다음을 수행하세요.(데이터 수 각각 1000개 이상)\n",
    "\n",
    "- 공분산 및 상관계수를 구하세요.\n",
    "- 이차원 데이터를 산점도, 히트맵으로 시각화한 후 인사이트를 기술하세요."
   ]
  },
  {
   "cell_type": "code",
   "execution_count": 22,
   "id": "416c1e40-1b3a-44db-a0b7-4bd670addacd",
   "metadata": {},
   "outputs": [],
   "source": [
    "df = pd.DataFrame(columns = ['height','weight'] )\n",
    "df['height']=np.random.randint(150,200,1000)\n",
    "df['weight']=np.random.randint(40,100,1000)"
   ]
  },
  {
   "cell_type": "code",
   "execution_count": 23,
   "id": "51f06c02-d8b5-4a77-a65e-cc5ee02f2ca6",
   "metadata": {},
   "outputs": [
    {
     "data": {
      "text/html": [
       "<div>\n",
       "<style scoped>\n",
       "    .dataframe tbody tr th:only-of-type {\n",
       "        vertical-align: middle;\n",
       "    }\n",
       "\n",
       "    .dataframe tbody tr th {\n",
       "        vertical-align: top;\n",
       "    }\n",
       "\n",
       "    .dataframe thead th {\n",
       "        text-align: right;\n",
       "    }\n",
       "</style>\n",
       "<table border=\"1\" class=\"dataframe\">\n",
       "  <thead>\n",
       "    <tr style=\"text-align: right;\">\n",
       "      <th></th>\n",
       "      <th>height</th>\n",
       "      <th>weight</th>\n",
       "    </tr>\n",
       "  </thead>\n",
       "  <tbody>\n",
       "    <tr>\n",
       "      <th>0</th>\n",
       "      <td>163</td>\n",
       "      <td>62</td>\n",
       "    </tr>\n",
       "    <tr>\n",
       "      <th>1</th>\n",
       "      <td>178</td>\n",
       "      <td>45</td>\n",
       "    </tr>\n",
       "    <tr>\n",
       "      <th>2</th>\n",
       "      <td>173</td>\n",
       "      <td>78</td>\n",
       "    </tr>\n",
       "    <tr>\n",
       "      <th>3</th>\n",
       "      <td>179</td>\n",
       "      <td>58</td>\n",
       "    </tr>\n",
       "    <tr>\n",
       "      <th>4</th>\n",
       "      <td>196</td>\n",
       "      <td>77</td>\n",
       "    </tr>\n",
       "  </tbody>\n",
       "</table>\n",
       "</div>"
      ],
      "text/plain": [
       "   height  weight\n",
       "0     163      62\n",
       "1     178      45\n",
       "2     173      78\n",
       "3     179      58\n",
       "4     196      77"
      ]
     },
     "execution_count": 23,
     "metadata": {},
     "output_type": "execute_result"
    }
   ],
   "source": [
    "df.head()"
   ]
  },
  {
   "cell_type": "code",
   "execution_count": 24,
   "id": "a548664b-c9e1-4401-ba16-22481ee967a4",
   "metadata": {},
   "outputs": [
    {
     "data": {
      "text/plain": [
       "(1000, 2)"
      ]
     },
     "execution_count": 24,
     "metadata": {},
     "output_type": "execute_result"
    }
   ],
   "source": [
    "df.shape"
   ]
  },
  {
   "cell_type": "code",
   "execution_count": 25,
   "id": "b6a6b992-7d6c-4dec-bf87-dcdd0b6f6be8",
   "metadata": {},
   "outputs": [
    {
     "data": {
      "text/plain": [
       "(205.34535100000002, 297.5643999999998)"
      ]
     },
     "execution_count": 25,
     "metadata": {},
     "output_type": "execute_result"
    }
   ],
   "source": [
    "# 분산\n",
    "np.var(df['height'], ddof=0), np.var(df['weight'],ddof=0)"
   ]
  },
  {
   "cell_type": "code",
   "execution_count": 26,
   "id": "d993ad9c-47ee-4cdc-8662-596c2d8fc34a",
   "metadata": {},
   "outputs": [
    {
     "data": {
      "text/plain": [
       "array([[205.5509019 ,  -1.89911912],\n",
       "       [ -1.89911912, 297.86226226]])"
      ]
     },
     "execution_count": 26,
     "metadata": {},
     "output_type": "execute_result"
    }
   ],
   "source": [
    "# 공분산\n",
    "np.cov(df['height'], df['weight'])"
   ]
  },
  {
   "cell_type": "code",
   "execution_count": 27,
   "id": "910f7624-f46b-466f-b73c-b4597c0da241",
   "metadata": {},
   "outputs": [
    {
     "data": {
      "text/plain": [
       "-1.8991191191191206"
      ]
     },
     "execution_count": 27,
     "metadata": {},
     "output_type": "execute_result"
    }
   ],
   "source": [
    "np.cov(df['height'], df['weight'])[0, 1]"
   ]
  },
  {
   "cell_type": "code",
   "execution_count": 28,
   "id": "ccc7dce5-4134-4c41-9795-e6be8e48342a",
   "metadata": {},
   "outputs": [
    {
     "data": {
      "text/plain": [
       "array([[ 1.        , -0.00767511],\n",
       "       [-0.00767511,  1.        ]])"
      ]
     },
     "execution_count": 28,
     "metadata": {},
     "output_type": "execute_result"
    }
   ],
   "source": [
    "# 상관계수\n",
    "np.corrcoef(df['height'], df['weight'])"
   ]
  },
  {
   "cell_type": "code",
   "execution_count": 29,
   "id": "89afe7c1-bab3-46cb-88b0-e2d3729e1931",
   "metadata": {},
   "outputs": [
    {
     "data": {
      "text/plain": [
       "-0.007675112868435192"
      ]
     },
     "execution_count": 29,
     "metadata": {},
     "output_type": "execute_result"
    }
   ],
   "source": [
    "np.corrcoef(df['height'], df['weight'])[0,1]"
   ]
  },
  {
   "cell_type": "code",
   "execution_count": 30,
   "id": "ee88a26a-27b4-450c-a60f-564ef6c344c7",
   "metadata": {},
   "outputs": [
    {
     "data": {
      "text/html": [
       "<div>\n",
       "<style scoped>\n",
       "    .dataframe tbody tr th:only-of-type {\n",
       "        vertical-align: middle;\n",
       "    }\n",
       "\n",
       "    .dataframe tbody tr th {\n",
       "        vertical-align: top;\n",
       "    }\n",
       "\n",
       "    .dataframe thead th {\n",
       "        text-align: right;\n",
       "    }\n",
       "</style>\n",
       "<table border=\"1\" class=\"dataframe\">\n",
       "  <thead>\n",
       "    <tr style=\"text-align: right;\">\n",
       "      <th></th>\n",
       "      <th>height</th>\n",
       "      <th>weight</th>\n",
       "    </tr>\n",
       "  </thead>\n",
       "  <tbody>\n",
       "    <tr>\n",
       "      <th>height</th>\n",
       "      <td>1.000000</td>\n",
       "      <td>-0.007675</td>\n",
       "    </tr>\n",
       "    <tr>\n",
       "      <th>weight</th>\n",
       "      <td>-0.007675</td>\n",
       "      <td>1.000000</td>\n",
       "    </tr>\n",
       "  </tbody>\n",
       "</table>\n",
       "</div>"
      ],
      "text/plain": [
       "          height    weight\n",
       "height  1.000000 -0.007675\n",
       "weight -0.007675  1.000000"
      ]
     },
     "execution_count": 30,
     "metadata": {},
     "output_type": "execute_result"
    }
   ],
   "source": [
    "df.corr()"
   ]
  },
  {
   "cell_type": "code",
   "execution_count": 168,
   "id": "36a49c39-697a-49b2-82bc-3d2f364a9496",
   "metadata": {},
   "outputs": [
    {
     "data": {
      "image/png": "[encoded data removed]",
      "text/plain": [
       "<Figure size 576x576 with 1 Axes>"
      ]
     },
     "metadata": {
      "needs_background": "light"
     },
     "output_type": "display_data"
    }
   ],
   "source": [
    "height = np.array(df['height'])\n",
    "weight = np.array(df['weight'])\n",
    "\n",
    "fig = plt.figure(figsize=(8,8))\n",
    "ax = fig.add_subplot(111)\n",
    "\n",
    "ax.scatter(height, weight)\n",
    "ax.set_xlabel('height')\n",
    "ax.set_ylabel('weight')\n",
    "\n",
    "plt.show()"
   ]
  },
  {
   "cell_type": "code",
   "execution_count": 171,
   "id": "8196383f-01cb-4e87-9f8a-eb8ed9c89438",
   "metadata": {},
   "outputs": [
    {
     "data": {
      "image/png": "[encoded data removed]",
      "text/plain": [
       "<Figure size 720x576 with 2 Axes>"
      ]
     },
     "metadata": {
      "needs_background": "light"
     },
     "output_type": "display_data"
    }
   ],
   "source": [
    "fig = plt.figure(figsize=(10,8))\n",
    "ax = fig.add_subplot(111)\n",
    "\n",
    "c = ax.hist2d(height, weight,\n",
    "             bins=[9,8], range=[(150,200),(40,100)])\n",
    "ax.set_xlabel('height')\n",
    "ax.set_xlabel('weight')\n",
    "ax.set_xticks(c[1])\n",
    "ax.set_yticks(c[2])\n",
    "\n",
    "fig.colorbar(c[3], ax=ax)\n",
    "plt.show()"
   ]
  },
  {
   "cell_type": "code",
   "execution_count": 35,
   "id": "5c0e12f9-2b66-4bae-a2e9-92ac828b4dc5",
   "metadata": {},
   "outputs": [
    {
     "data": {
      "image/png": "[encoded data removed]",
      "text/plain": [
       "<Figure size 1080x504 with 3 Axes>"
      ]
     },
     "metadata": {
      "needs_background": "light"
     },
     "output_type": "display_data"
    }
   ],
   "source": [
    "height = np.array(df['height'])\n",
    "weight = np.array(df['weight'])\n",
    "\n",
    "fig = plt.figure(figsize=(15,7))\n",
    "ax = fig.add_subplot(1,2,1)\n",
    "\n",
    "ax.scatter(height, weight)\n",
    "ax.set_xlabel('height')\n",
    "ax.set_ylabel('weight')\n",
    "\n",
    "\n",
    "ax = fig.add_subplot(1,2,2)\n",
    "\n",
    "c = ax.hist2d(height, weight,\n",
    "             bins=[9,8], range=[(150,200),(40,100)])\n",
    "ax.set_xlabel('height')\n",
    "ax.set_xlabel('weight')\n",
    "ax.set_xticks(c[1])\n",
    "ax.set_yticks(c[2])\n",
    "\n",
    "fig.colorbar(c[3], ax=ax)\n",
    "plt.show()"
   ]
  },
  {
   "cell_type": "markdown",
   "id": "cf447d1d",
   "metadata": {},
   "source": [
    "## 앤스컴의 예\n",
    "- 동일한 지표를 가지고 있지만 전혀 다른 데이터가 되는 예"
   ]
  },
  {
   "cell_type": "code",
   "execution_count": 40,
   "id": "acfa6e5d",
   "metadata": {},
   "outputs": [
    {
     "name": "stdout",
     "output_type": "stream",
     "text": [
      "(4, 11, 2)\n"
     ]
    },
    {
     "data": {
      "text/plain": [
       "array([[10.  ,  8.04],\n",
       "       [ 8.  ,  6.95],\n",
       "       [13.  ,  7.58],\n",
       "       [ 9.  ,  8.81],\n",
       "       [11.  ,  8.33],\n",
       "       [14.  ,  9.96],\n",
       "       [ 6.  ,  7.24],\n",
       "       [ 4.  ,  4.26],\n",
       "       [12.  , 10.84],\n",
       "       [ 7.  ,  4.82],\n",
       "       [ 5.  ,  5.68]])"
      ]
     },
     "execution_count": 40,
     "metadata": {},
     "output_type": "execute_result"
    }
   ],
   "source": [
    "# npy 형식 numpy array 불러오기\n",
    "import numpy as np\n",
    "anscombe_data = np.load('ch3_anscombe.npy')\n",
    "print(anscombe_data.shape) #11행 2열 4개\n",
    "anscombe_data[0]"
   ]
  },
  {
   "cell_type": "code",
   "execution_count": 41,
   "id": "5a71f94b",
   "metadata": {
    "scrolled": true
   },
   "outputs": [
    {
     "data": {
      "text/html": [
       "<div>\n",
       "<style scoped>\n",
       "    .dataframe tbody tr th:only-of-type {\n",
       "        vertical-align: middle;\n",
       "    }\n",
       "\n",
       "    .dataframe tbody tr th {\n",
       "        vertical-align: top;\n",
       "    }\n",
       "\n",
       "    .dataframe thead th {\n",
       "        text-align: right;\n",
       "    }\n",
       "</style>\n",
       "<table border=\"1\" class=\"dataframe\">\n",
       "  <thead>\n",
       "    <tr style=\"text-align: right;\">\n",
       "      <th></th>\n",
       "      <th>data1</th>\n",
       "      <th>data2</th>\n",
       "      <th>data3</th>\n",
       "      <th>data4</th>\n",
       "    </tr>\n",
       "  </thead>\n",
       "  <tbody>\n",
       "    <tr>\n",
       "      <th>X_mean</th>\n",
       "      <td>9.00</td>\n",
       "      <td>9.00</td>\n",
       "      <td>9.00</td>\n",
       "      <td>9.00</td>\n",
       "    </tr>\n",
       "    <tr>\n",
       "      <th>X_variance</th>\n",
       "      <td>10.00</td>\n",
       "      <td>10.00</td>\n",
       "      <td>10.00</td>\n",
       "      <td>10.00</td>\n",
       "    </tr>\n",
       "    <tr>\n",
       "      <th>Y_mean</th>\n",
       "      <td>7.50</td>\n",
       "      <td>7.50</td>\n",
       "      <td>7.50</td>\n",
       "      <td>7.50</td>\n",
       "    </tr>\n",
       "    <tr>\n",
       "      <th>Y_variance</th>\n",
       "      <td>3.75</td>\n",
       "      <td>3.75</td>\n",
       "      <td>3.75</td>\n",
       "      <td>3.75</td>\n",
       "    </tr>\n",
       "    <tr>\n",
       "      <th>X&amp;Y_correlations</th>\n",
       "      <td>0.82</td>\n",
       "      <td>0.82</td>\n",
       "      <td>0.82</td>\n",
       "      <td>0.82</td>\n",
       "    </tr>\n",
       "    <tr>\n",
       "      <th>X&amp;Y_regression line</th>\n",
       "      <td>3.00+0.50x</td>\n",
       "      <td>3.00+0.50x</td>\n",
       "      <td>3.00+0.50x</td>\n",
       "      <td>3.00+0.50x</td>\n",
       "    </tr>\n",
       "  </tbody>\n",
       "</table>\n",
       "</div>"
      ],
      "text/plain": [
       "                          data1       data2       data3       data4\n",
       "X_mean                     9.00        9.00        9.00        9.00\n",
       "X_variance                10.00       10.00       10.00       10.00\n",
       "Y_mean                     7.50        7.50        7.50        7.50\n",
       "Y_variance                 3.75        3.75        3.75        3.75\n",
       "X&Y_correlations           0.82        0.82        0.82        0.82\n",
       "X&Y_regression line  3.00+0.50x  3.00+0.50x  3.00+0.50x  3.00+0.50x"
      ]
     },
     "execution_count": 41,
     "metadata": {},
     "output_type": "execute_result"
    }
   ],
   "source": [
    "# 각 데이터의 평균, 분산, 상관계수, 회귀직선을 계산하여 df 생성\n",
    "import pandas as pd\n",
    "stats_df = pd.DataFrame(index=['X_mean','X_variance','Y_mean','Y_variance','X&Y_correlations','X&Y_regression line'])\n",
    "\n",
    "for i, data in enumerate(anscombe_data):\n",
    "    dataX = data[:,0] # 전체행을 가져와서 첫번째열을 dataX에 저장\n",
    "    dataY = data[:,1] # 두번째열을 dataY에 저장\n",
    "    poly_fit = np.polyfit(dataX, dataY, 1)\n",
    "    stats_df[f'data{i+1}']=[f'{np.mean(dataX):.2f}',\n",
    "                           f'{np.var(dataX):.2f}',\n",
    "                           f'{np.mean(dataY):.2f}',\n",
    "                           f'{np.var(dataY):.2f}',\n",
    "                           f'{np.corrcoef(dataX, dataY)[0,1]:.2f}',\n",
    "                           f'{poly_fit[1]:.2f}+{poly_fit[0]:.2f}x' ]\n",
    "stats_df"
   ]
  },
  {
   "cell_type": "code",
   "execution_count": null,
   "id": "2bedf9be",
   "metadata": {},
   "outputs": [],
   "source": [
    "# 지표상으로 보면 네가지 데이터는 모두 동일하다."
   ]
  },
  {
   "cell_type": "code",
   "execution_count": 43,
   "id": "8cb11552",
   "metadata": {},
   "outputs": [
    {
     "data": {
      "image/png": "[encoded data removed]",
      "text/plain": [
       "<Figure size 720x720 with 4 Axes>"
      ]
     },
     "metadata": {
      "needs_background": "light"
     },
     "output_type": "display_data"
    }
   ],
   "source": [
    "# 네가지 데이터가 완전히 동일한지 확인하기 위해 산점도 그려보기.\n",
    "\n",
    "# 그래프를 그리기 위한 영역 2x2개 생성\n",
    "fig, axes = plt.subplots(nrows=2, ncols=2, figsize=(10,10),\n",
    "                        sharex=True, sharey=True)\n",
    "\n",
    "\n",
    "xs = np.linspace(0,30,100) # 0~30 100개로 구분\n",
    "for i, data in enumerate(anscombe_data):\n",
    "    poly_fit = np.polyfit(data[:,0], data[:,1], 1)\n",
    "    poly_1d = np.poly1d(poly_fit)\n",
    "    ys = poly_1d(xs)\n",
    "    # 그리는 영역을 선택\n",
    "    ax = axes[i//2, i%2]\n",
    "    ax.set_xlim([4,20])\n",
    "    ax.set_ylim([3,13])\n",
    "    # 타이틀 부여\n",
    "    ax.set_title(f'data{i+1}')\n",
    "    ax.scatter(data[:,0], data[:,1])\n",
    "    ax.plot(xs, ys, color='gray')\n",
    "    \n",
    "# 그래프 사이의 간격 좁히기\n",
    "plt.tight_layout()\n",
    "plt.show()"
   ]
  },
  {
   "cell_type": "code",
   "execution_count": null,
   "id": "7d09d097",
   "metadata": {},
   "outputs": [],
   "source": [
    "# 동일 수치를 가지고 있어도 표현하면 전혀 다른 데이터다.\n",
    "# data 1, 2, 3, 4는 전부 같은 수치를 가지고 있다."
   ]
  },
  {
   "cell_type": "markdown",
   "id": "8d064aae",
   "metadata": {},
   "source": [
    "#### polyfit 함수 사용법\n",
    "poly(x,y,차수) 형태로 매우 간단하게 이용이 가능."
   ]
  },
  {
   "cell_type": "code",
   "execution_count": 48,
   "id": "40e963f6",
   "metadata": {},
   "outputs": [
    {
     "name": "stdout",
     "output_type": "stream",
     "text": [
      "[ 3.31428571 -3.6       ]\n"
     ]
    }
   ],
   "source": [
    "# x와 y에 대한 데이터가 있다고 가정\n",
    "x = [1,2,3,4,5,6]\n",
    "y = [1,3,6,8,11,19]\n",
    "\n",
    "print(np.polyfit(x,y,1))\n",
    "# y = 3.314x -3.6"
   ]
  },
  {
   "cell_type": "code",
   "execution_count": 49,
   "id": "86e939c6",
   "metadata": {
    "scrolled": true
   },
   "outputs": [
    {
     "data": {
      "image/png": "[encoded data removed]",
      "text/plain": [
       "<Figure size 432x288 with 1 Axes>"
      ]
     },
     "metadata": {
      "needs_background": "light"
     },
     "output_type": "display_data"
    }
   ],
   "source": [
    "poly = np.polyfit(x,y,1)\n",
    "y_pred = np.array(x) * poly[0] + poly[1]\n",
    "\n",
    "plt.plot(x, y_pred, color ='b')\n",
    "plt.scatter(x,y, color='r')\n",
    "plt.show()"
   ]
  },
  {
   "cell_type": "code",
   "execution_count": 51,
   "id": "b4fae7c7",
   "metadata": {},
   "outputs": [
    {
     "name": "stdout",
     "output_type": "stream",
     "text": [
      "[ 0.53571429 -0.43571429  1.4       ]\n"
     ]
    }
   ],
   "source": [
    "# 2차 회귀식 및 시각화\n",
    "print(np.polyfit(x,y,2))"
   ]
  },
  {
   "cell_type": "code",
   "execution_count": 52,
   "id": "b64ee8c7",
   "metadata": {},
   "outputs": [
    {
     "data": {
      "image/png": "[encoded data removed]",
      "text/plain": [
       "<Figure size 432x288 with 1 Axes>"
      ]
     },
     "metadata": {
      "needs_background": "light"
     },
     "output_type": "display_data"
    }
   ],
   "source": [
    "poly = np.polyfit(x,y,2)\n",
    "x_line = np.linspace(1,6,100) # 곡선을 완만하게 그리기 위한 linspace 객체 선언\n",
    "y_pred = x_line**2*poly[0] + x_line*poly[1] + poly[2]\n",
    "\n",
    "plt.plot(x_line, y_pred, color='b')\n",
    "plt.scatter(x,y, color='r')\n",
    "plt.show()"
   ]
  },
  {
   "cell_type": "code",
   "execution_count": 53,
   "id": "6c97ec57",
   "metadata": {},
   "outputs": [
    {
     "data": {
      "image/png": "[encoded data removed]",
      "text/plain": [
       "<Figure size 432x288 with 1 Axes>"
      ]
     },
     "metadata": {
      "needs_background": "light"
     },
     "output_type": "display_data"
    }
   ],
   "source": [
    "# 3차 이상 회귀식 및 시각화\n",
    "poly = np.polyfit(x,y,5)\n",
    "x_line = np.linspace(1,6,100)\n",
    "y_pred = np.zeros_like(x_line) # 예측값을 담을 그릇(모든 값이 0인 배열)\n",
    "for i in range(6):\n",
    "    y_pred += x_line**(5-i)*poly[i] # 5차\n",
    "    \n",
    "plt.plot(x_line, y_pred, color='b')\n",
    "plt.scatter(x,y, color='r')\n",
    "plt.show()"
   ]
  },
  {
   "cell_type": "markdown",
   "id": "296d19fe",
   "metadata": {},
   "source": [
    "#### [과제2]\n",
    "적절한 데이터를 생성하고 polyfit을 이용하여 2,3차 방정식을 만든 후 산점도 및 회귀식을 시각화하여 그 의미를 해석하세요."
   ]
  },
  {
   "cell_type": "code",
   "execution_count": null,
   "id": "07740dae",
   "metadata": {},
   "outputs": [],
   "source": [
    "poly = np.polyfit(x,y,2)"
   ]
  },
  {
   "cell_type": "code",
   "execution_count": null,
   "id": "c4858340",
   "metadata": {},
   "outputs": [],
   "source": [
    "poly = np.polyfit(x,y,3)"
   ]
  },
  {
   "cell_type": "markdown",
   "id": "3ab6f425",
   "metadata": {},
   "source": [
    "# 추측통계"
   ]
  },
  {
   "cell_type": "markdown",
   "id": "3b87bf51",
   "metadata": {},
   "source": [
    "## 무작위추출\n",
    "- 임의로 표본을 추출하는 방법"
   ]
  },
  {
   "cell_type": "code",
   "execution_count": 83,
   "id": "54c9a2f6",
   "metadata": {},
   "outputs": [
    {
     "data": {
      "text/plain": [
       "array([76, 55, 80, 80, 74, 61, 81, 76, 23, 80], dtype=int64)"
      ]
     },
     "execution_count": 83,
     "metadata": {},
     "output_type": "execute_result"
    }
   ],
   "source": [
    "df = pd.read_csv('ch4_scores400.csv')\n",
    "scores = np.array(df['score'])\n",
    "#df\n",
    "scores[:10]"
   ]
  },
  {
   "cell_type": "code",
   "execution_count": 44,
   "id": "4332aa26",
   "metadata": {
    "scrolled": true
   },
   "outputs": [
    {
     "data": {
      "text/plain": [
       "array([3, 2, 1])"
      ]
     },
     "execution_count": 44,
     "metadata": {},
     "output_type": "execute_result"
    }
   ],
   "source": [
    "# 복원추출\n",
    "# 여러 차례 동일한 표본을 선택하는 추출 방법\n",
    "np.random.choice([1,2,3], 3)"
   ]
  },
  {
   "cell_type": "code",
   "execution_count": 45,
   "id": "5a7cdaa3",
   "metadata": {},
   "outputs": [
    {
     "data": {
      "text/plain": [
       "array([1, 3, 2])"
      ]
     },
     "execution_count": 45,
     "metadata": {},
     "output_type": "execute_result"
    }
   ],
   "source": [
    "# 비복원추출\n",
    "# 동일한 표본은 한 번만 선택하는 방법 \n",
    "np.random.choice([1,2,3], 3, replace=False)"
   ]
  },
  {
   "cell_type": "code",
   "execution_count": 50,
   "id": "6a0173bf",
   "metadata": {},
   "outputs": [
    {
     "data": {
      "text/plain": [
       "array([1, 2, 1])"
      ]
     },
     "execution_count": 50,
     "metadata": {},
     "output_type": "execute_result"
    }
   ],
   "source": [
    "# 무작위추출\n",
    "np.random.seed(0)\n",
    "np.random.choice([1,2,3], 3)"
   ]
  },
  {
   "cell_type": "code",
   "execution_count": 84,
   "id": "0310f150",
   "metadata": {},
   "outputs": [
    {
     "data": {
      "text/plain": [
       "70.4"
      ]
     },
     "execution_count": 84,
     "metadata": {},
     "output_type": "execute_result"
    }
   ],
   "source": [
    "# 무작위추출을 실행하여 표본평균 계산\n",
    "np.random.seed(0)\n",
    "sample = np.random.choice(scores,20) # 표본크기 20으로 복원추출\n",
    "sample.mean()"
   ]
  },
  {
   "cell_type": "code",
   "execution_count": 85,
   "id": "249da652",
   "metadata": {},
   "outputs": [
    {
     "data": {
      "text/plain": [
       "69.53"
      ]
     },
     "execution_count": 85,
     "metadata": {},
     "output_type": "execute_result"
    }
   ],
   "source": [
    "# 모평균\n",
    "scores.mean()"
   ]
  },
  {
   "cell_type": "code",
   "execution_count": 86,
   "id": "a56b1798",
   "metadata": {},
   "outputs": [
    {
     "name": "stdout",
     "output_type": "stream",
     "text": [
      "1번째 무작위추출로 얻은 표본평균 72.45\n",
      "2번째 무작위추출로 얻은 표본평균 63.7\n",
      "3번째 무작위추출로 얻은 표본평균 66.05\n",
      "4번째 무작위추출로 얻은 표본평균 71.7\n",
      "5번째 무작위추출로 얻은 표본평균 74.15\n"
     ]
    }
   ],
   "source": [
    "for i in range(5):\n",
    "    sample = np.random.choice(scores, 20)\n",
    "    print(f'{i+1}번째 무작위추출로 얻은 표본평균', sample.mean())"
   ]
  },
  {
   "cell_type": "markdown",
   "id": "5c288d0a",
   "metadata": {},
   "source": [
    "## 확률 모형"
   ]
  },
  {
   "cell_type": "markdown",
   "id": "78afd6c2",
   "metadata": {},
   "source": [
    "### 확률의 기본"
   ]
  },
  {
   "cell_type": "markdown",
   "id": "c8658708",
   "metadata": {},
   "source": [
    "- 확률\n",
    "    - 무작위 추출과 같은 불확정성을 수반하는 현상을 해석하기 위한 것/ 통계는 오차의 과학\n",
    "- 확률 모형\n",
    "    - 무작위 추출 혹은 주사위를 모델링\n",
    "- 확률변수\n",
    "    - 결과를 알아맞힐 수는 없으나 취하는 값과 그 값이 나올 확률이 결정되어 있다. (주사위의 n눈이 나올 확률- 1/6)\n",
    "- 시행\n",
    "    - 확률변수의 결과를 관측하는 것\n",
    "- 실현값\n",
    "    시- 행에 의해 관측되는 값\n",
    "\n",
    "- 사건\n",
    "    - 시행 결과로 나타날 수 있는 값 (눈이 1, 눈이 홀수)\n",
    "    - 주사위의 눈은 확률 변수 X\n",
    "    - 눈이 1이 되는 사건의 확률: P= 1/6\n",
    "    - 눈이 홀수인 사건의 확률: P= 1/2, 50%\n",
    "    - 근원사건\n",
    "        - 더 세부적으로 분해할 수 없는 사건 (눈이 1, 눈이 홀수)\n",
    "    - 상호배반\n",
    "        - 동시에 일어날 수 없는 사건 (ex. '눈이 1또는 2'인 사건과 '눈이 6'인 사건/ 교집합이 없다.)"
   ]
  },
  {
   "cell_type": "markdown",
   "id": "d36df755",
   "metadata": {},
   "source": [
    "### 확률분포\n",
    "- 확률변수가 어떻게 움직이는지를 나타낸 것 (나올 수 있는 확률이 정의된 것)\n",
    "- 불공정한 주사위의 확률분포는 어떻게 될까? 주사위의 특정 숫자만 높게 혹은 낮게 나올 때. 결과가 1/6같이 균형있는 것이 아닌 상태."
   ]
  },
  {
   "cell_type": "code",
   "execution_count": 54,
   "id": "3617ad39",
   "metadata": {},
   "outputs": [],
   "source": [
    "dice = [1,2,3,4,5,6]\n",
    "prob = [1/21, 2/21, 3/21, 4/21, 5/21, 6/21]"
   ]
  },
  {
   "cell_type": "code",
   "execution_count": 55,
   "id": "affbc64c",
   "metadata": {},
   "outputs": [
    {
     "data": {
      "text/plain": [
       "5"
      ]
     },
     "execution_count": 55,
     "metadata": {},
     "output_type": "execute_result"
    }
   ],
   "source": [
    "np.random.choice(dice,p=prob)"
   ]
  },
  {
   "cell_type": "code",
   "execution_count": 58,
   "id": "b4716ff3",
   "metadata": {},
   "outputs": [
    {
     "data": {
      "text/plain": [
       "array([5, 4, 5, 4, 6, 6, 4, 6, 5, 5, 6, 2, 2, 1, 6, 6, 6, 6, 6, 4, 6, 2,\n",
       "       5, 3, 6, 5, 4, 3, 6, 4, 5, 1, 5, 5, 5, 6, 5, 4, 4, 5, 2, 5, 5, 3,\n",
       "       2, 4, 4, 5, 4, 6, 2, 3, 3, 5, 3, 4, 3, 3, 2, 5, 2, 3, 4, 6, 2, 6,\n",
       "       2, 6, 4, 6, 5, 6, 1, 3, 2, 4, 2, 4, 4, 2, 5, 5, 3, 5, 2, 5, 6, 4,\n",
       "       5, 2, 6, 4, 3, 5, 1, 6, 1, 5, 3, 6])"
      ]
     },
     "execution_count": 58,
     "metadata": {},
     "output_type": "execute_result"
    }
   ],
   "source": [
    "# 100번 시행\n",
    "num_trial = 100\n",
    "sample = np.random.choice(dice, num_trial, p=prob)\n",
    "sample"
   ]
  },
  {
   "cell_type": "code",
   "execution_count": 59,
   "id": "ce1320f0",
   "metadata": {},
   "outputs": [
    {
     "data": {
      "text/html": [
       "<div>\n",
       "<style scoped>\n",
       "    .dataframe tbody tr th:only-of-type {\n",
       "        vertical-align: middle;\n",
       "    }\n",
       "\n",
       "    .dataframe tbody tr th {\n",
       "        vertical-align: top;\n",
       "    }\n",
       "\n",
       "    .dataframe thead th {\n",
       "        text-align: right;\n",
       "    }\n",
       "</style>\n",
       "<table border=\"1\" class=\"dataframe\">\n",
       "  <thead>\n",
       "    <tr style=\"text-align: right;\">\n",
       "      <th></th>\n",
       "      <th>frquency</th>\n",
       "      <th>relative frequency</th>\n",
       "    </tr>\n",
       "    <tr>\n",
       "      <th>dice</th>\n",
       "      <th></th>\n",
       "      <th></th>\n",
       "    </tr>\n",
       "  </thead>\n",
       "  <tbody>\n",
       "    <tr>\n",
       "      <th>1</th>\n",
       "      <td>5</td>\n",
       "      <td>0.05</td>\n",
       "    </tr>\n",
       "    <tr>\n",
       "      <th>2</th>\n",
       "      <td>15</td>\n",
       "      <td>0.15</td>\n",
       "    </tr>\n",
       "    <tr>\n",
       "      <th>3</th>\n",
       "      <td>13</td>\n",
       "      <td>0.13</td>\n",
       "    </tr>\n",
       "    <tr>\n",
       "      <th>4</th>\n",
       "      <td>19</td>\n",
       "      <td>0.19</td>\n",
       "    </tr>\n",
       "    <tr>\n",
       "      <th>5</th>\n",
       "      <td>25</td>\n",
       "      <td>0.25</td>\n",
       "    </tr>\n",
       "    <tr>\n",
       "      <th>6</th>\n",
       "      <td>23</td>\n",
       "      <td>0.23</td>\n",
       "    </tr>\n",
       "  </tbody>\n",
       "</table>\n",
       "</div>"
      ],
      "text/plain": [
       "      frquency  relative frequency\n",
       "dice                              \n",
       "1            5                0.05\n",
       "2           15                0.15\n",
       "3           13                0.13\n",
       "4           19                0.19\n",
       "5           25                0.25\n",
       "6           23                0.23"
      ]
     },
     "execution_count": 59,
     "metadata": {},
     "output_type": "execute_result"
    }
   ],
   "source": [
    "# 도수분포표 작성\n",
    "freq, _ = np.histogram(sample, bins=6, range=(1,7))\n",
    "pd.DataFrame({'frquency':freq,\n",
    "             'relative frequency' : freq / num_trial},\n",
    "            index = pd.Index(np.arange(1,7), name='dice'))"
   ]
  },
  {
   "cell_type": "code",
   "execution_count": 60,
   "id": "777c0d55",
   "metadata": {},
   "outputs": [
    {
     "data": {
      "image/png": "[encoded data removed]",
      "text/plain": [
       "<Figure size 720x432 with 1 Axes>"
      ]
     },
     "metadata": {
      "needs_background": "light"
     },
     "output_type": "display_data"
    }
   ],
   "source": [
    "# 100번 시행했을 때 주사위 눈에 대한 히스토그램\n",
    "\n",
    "fig = plt.figure(figsize=(10,6))\n",
    "ax = fig.add_subplot(111)\n",
    "ax.hist(sample, bins=6, range=(1,7), density=True, rwidth=0.8)\n",
    "\n",
    "# 실제이 확률분포를 가로선으로 표시\n",
    "ax.hlines(prob, np.arange(1,7), np.arange(2,8), colors='gray')\n",
    "# 막대그래프의 [1.5, 2.5,...,6.5]에 눈금을 표시\n",
    "ax.set_xticks(np.linspace(1.5, 6.5, 6))\n",
    "# 주사위 눈의 값은 [1,2,3,4,5,6]\n",
    "ax.set_xticklabels(np.arange(1,7))\n",
    "ax.set_xlabel('dice')\n",
    "ax.set_ylabel('relative frequency')\n",
    "plt.show()"
   ]
  },
  {
   "cell_type": "code",
   "execution_count": 61,
   "id": "f666c9f0",
   "metadata": {},
   "outputs": [
    {
     "data": {
      "image/png": "[encoded data removed]",
      "text/plain": [
       "<Figure size 720x432 with 1 Axes>"
      ]
     },
     "metadata": {
      "needs_background": "light"
     },
     "output_type": "display_data"
    }
   ],
   "source": [
    "# 10000번 시행했을 때 주사위 눈에 대한 히스토그램\n",
    "\n",
    "num_trial = 10000\n",
    "sample = np.random.choice(dice, num_trial, p=prob)\n",
    "\n",
    "fig = plt.figure(figsize=(10,6))\n",
    "ax = fig.add_subplot(111)\n",
    "ax.hist(sample, bins=6, range=(1,7), density=True, rwidth=0.8)\n",
    "\n",
    "# 실제이 확률분포를 가로선으로 표시\n",
    "ax.hlines(prob, np.arange(1,7), np.arange(2,8), colors='gray')\n",
    "# 막대그래프의 [1.5, 2.5,...,6.5]에 눈금을 표시\n",
    "ax.set_xticks(np.linspace(1.5, 6.5, 6))\n",
    "# 주사위 눈의 값은 [1,2,3,4,5,6]\n",
    "ax.set_xticklabels(np.arange(1,7))\n",
    "ax.set_xlabel('dice')\n",
    "ax.set_ylabel('relative frequency')\n",
    "plt.show()"
   ]
  },
  {
   "cell_type": "code",
   "execution_count": null,
   "id": "38ff2dc6",
   "metadata": {},
   "outputs": [],
   "source": [
    "# 상대도수가 실제의 확률분포에 가까워졌다.\n",
    "# 시행 횟수를 점점 늘리면, 상대도수는 확률분포로 수렴되어 간다."
   ]
  },
  {
   "cell_type": "markdown",
   "id": "bbf091d3",
   "metadata": {},
   "source": [
    "## 추측통계의 확률"
   ]
  },
  {
   "cell_type": "code",
   "execution_count": 91,
   "id": "89b3cb81",
   "metadata": {},
   "outputs": [
    {
     "data": {
      "image/png": "[encoded data removed]",
      "text/plain": [
       "<Figure size 720x432 with 1 Axes>"
      ]
     },
     "metadata": {
      "needs_background": "light"
     },
     "output_type": "display_data"
    }
   ],
   "source": [
    "# 전교생의 시험 점수에 대한 히스토그램\n",
    "# 계급폭을 1점으로\n",
    "\n",
    "fig = plt.figure(figsize=(10,6))\n",
    "ax = fig.add_subplot(111)\n",
    "ax.hist(scores, bins=100, range=(0,100), density=True)\n",
    "ax.set_xlim(20,100)\n",
    "ax.set_ylim(0,0.042)\n",
    "ax.set_xlabel('score')\n",
    "ax.set_ylabel('relative frequency')\n",
    "plt.show()"
   ]
  },
  {
   "cell_type": "code",
   "execution_count": null,
   "id": "6e3216d7",
   "metadata": {},
   "outputs": [],
   "source": [
    "# 69점을 얻은 학생은 전교생의 0.04(=4%) 차지\n",
    "# 무작위추출을 수행하면 4%의 확률로 69점이라는 표본데이터를 얻게 된다.\n",
    "# 상대도수는 해당 점수를 얻는 확률에 대응한다.\n",
    "# 즉, 이 히스토그램을 모집단의 확률분포로 간주할 수 있다."
   ]
  },
  {
   "cell_type": "code",
   "execution_count": 92,
   "id": "ac72cd0c",
   "metadata": {},
   "outputs": [
    {
     "data": {
      "text/plain": [
       "59"
      ]
     },
     "execution_count": 92,
     "metadata": {},
     "output_type": "execute_result"
    }
   ],
   "source": [
    "np.random.choice(scores)"
   ]
  },
  {
   "cell_type": "code",
   "execution_count": null,
   "id": "0d544d46",
   "metadata": {},
   "outputs": [],
   "source": [
    "# 무작위추출로 얻은 표본 데이터가 59점임을 확인\n",
    "# 무작위추출에서도 표본의 크기가 커지면, 표본 데이터의 상대도수는 실제의 확률분포에 가까워진다."
   ]
  },
  {
   "cell_type": "code",
   "execution_count": 89,
   "id": "d464c08b",
   "metadata": {},
   "outputs": [
    {
     "data": {
      "image/png": "[encoded data removed]",
      "text/plain": [
       "<Figure size 720x432 with 1 Axes>"
      ]
     },
     "metadata": {
      "needs_background": "light"
     },
     "output_type": "display_data"
    }
   ],
   "source": [
    "# 무작위추출로 얻은 표본 데이터의 히스토그램\n",
    "# 샘플 사이즈가 10000인 표본을 추출\n",
    "sample = np.random.choice(scores, 10000)\n",
    "\n",
    "fig = plt.figure(figsize=(10,6))\n",
    "ax = fig.add_subplot(111)\n",
    "ax.hist(sample, bins=100, range=(0,100), density=True)\n",
    "ax.set_xlim(20,100)\n",
    "ax.set_ylim(0,0.042)\n",
    "ax.set_xlabel('score')\n",
    "ax.set_ylabel('relative frequency')\n",
    "plt.show()"
   ]
  },
  {
   "cell_type": "code",
   "execution_count": null,
   "id": "12375539",
   "metadata": {},
   "outputs": [],
   "source": [
    "# 히스토그램이 실제의 점수 분포에 매우 가까운 형태\n",
    "# 표본 크기가 커지면, 실제의 분포에 수렴"
   ]
  },
  {
   "cell_type": "code",
   "execution_count": 94,
   "id": "22f1022a",
   "metadata": {
    "scrolled": true
   },
   "outputs": [
    {
     "data": {
      "image/png": "[encoded data removed]",
      "text/plain": [
       "<Figure size 720x432 with 1 Axes>"
      ]
     },
     "metadata": {
      "needs_background": "light"
     },
     "output_type": "display_data"
    }
   ],
   "source": [
    "# 표본평균의 분포\n",
    "# 표본 크기가 20인 표본을 추출하여 표본평균 계산하는 작업을 10000번 수행\n",
    "sample_means = [np.random.choice(scores, 20).mean()\n",
    "               for _ in range(10000)]\n",
    "\n",
    "fig = plt.figure(figsize=(10,6))\n",
    "ax = fig.add_subplot(111)\n",
    "ax.hist(sample_means, bins=100, range=(0,100), density=True)\n",
    "\n",
    "# 모평균을 세로선으로 표시\n",
    "ax.vlines(np.mean(scores), 0, 1, 'gray')\n",
    "ax.set_xlim(50,90)\n",
    "ax.set_ylim(0,0.13)\n",
    "ax.set_xlabel('score')\n",
    "ax.set_ylabel('relative frequency')\n",
    "plt.show()"
   ]
  },
  {
   "cell_type": "code",
   "execution_count": null,
   "id": "236dfc0d",
   "metadata": {},
   "outputs": [],
   "source": [
    "# 표본평균은 모평균을 중심삼아 분포한다.\n",
    "# (많이 시행하면 가까워지며, 표본평균은 확률상 모평균에 근사(중심에 있는 값)해서 나올 확률이 높다.)\n",
    "# 무작위추출에 의한 표본평균으로 모평균을 추측할 수 있는 근거이다."
   ]
  },
  {
   "cell_type": "markdown",
   "id": "ca3d4052",
   "metadata": {},
   "source": [
    "#### [과제3]\n",
    "\"어떤 모집단에서 표본을 랜덤하게 추출하여 표본평균을 구하면 그 표본평균을 모평균을 중심으로 분포한다.\"라는 주장을 사례를 만들어서 설득력있게 설명하세요."
   ]
  },
  {
   "cell_type": "code",
   "execution_count": null,
   "id": "0fcf5ac4",
   "metadata": {},
   "outputs": [],
   "source": []
  }
 ],
 "metadata": {
  "kernelspec": {
   "display_name": "Python 3 (ipykernel)",
   "language": "python",
   "name": "python3"
  },
  "language_info": {
   "codemirror_mode": {
    "name": "ipython",
    "version": 3
   },
   "file_extension": ".py",
   "mimetype": "text/x-python",
   "name": "python",
   "nbconvert_exporter": "python",
   "pygments_lexer": "ipython3",
   "version": "3.8.13"
  },
  "toc": {
   "base_numbering": 1,
   "nav_menu": {},
   "number_sections": false,
   "sideBar": true,
   "skip_h1_title": false,
   "title_cell": "Table of Contents",
   "title_sidebar": "Contents",
   "toc_cell": false,
   "toc_position": {
    "height": "calc(100% - 180px)",
    "left": "10px",
    "top": "150px",
    "width": "237px"
   },
   "toc_section_display": true,
   "toc_window_display": true
  }
 },
 "nbformat": 4,
 "nbformat_minor": 5
}
