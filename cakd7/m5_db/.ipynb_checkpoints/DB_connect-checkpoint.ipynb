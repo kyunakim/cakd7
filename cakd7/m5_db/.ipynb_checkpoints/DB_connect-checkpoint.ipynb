{
 "cells": [
  {
   "cell_type": "code",
   "execution_count": null,
   "id": "64b7a2f7-35c4-427b-a0a4-bfaf59db5b1f",
   "metadata": {},
   "outputs": [],
   "source": [
    "!pip install cx_oracle"
   ]
  },
  {
   "cell_type": "code",
   "execution_count": null,
   "id": "00809409-d94b-4bdb-ab5b-a26f6ed97fb9",
   "metadata": {},
   "outputs": [],
   "source": [
    "import cx_Oracle\n",
    "import pandas as pd\n",
    "db = cx_Oracle.connect(\"c##madang\", \"madang\", \"localhost:1521/xe\")\n",
    "cursor = db.cursor()\n",
    "cursor.execute(\"select * from BOOK\")\n",
    "x = cursor.fetchall()\n",
    "df = pd.DataFrame(x)\n",
    "df.head()"
   ]
  },
  {
   "cell_type": "code",
   "execution_count": null,
   "id": "97717865-c2c7-4523-a58e-80b4fce75c21",
   "metadata": {},
   "outputs": [],
   "source": [
    "db = cx_Oracle.connect(\"c##madang\", \"madang\", \"localhost:1521/xe\")\n",
    "cursor = db.cursor()\n",
    "cursor.execute(\"select * from BOOK\")\n",
    "x = cursor.fetchall()\n",
    "df = pd.DataFrame(x)\n",
    "cursor.execute(\"\"\"select column_name from user_tab_columns where table_name = 'BOOK'\"\"\")\n",
    "col = cursor.fetchall()\n",
    "col_new = [j for i in col for j in i]\n",
    "df.columns = col_new\n",
    "df.head()"
   ]
  },
  {
   "cell_type": "code",
   "execution_count": null,
   "id": "204a20e0-e032-44fe-9116-f626b9365048",
   "metadata": {},
   "outputs": [],
   "source": [
    "col_new = []\n",
    "for i in col:\n",
    "    for j in i:\n",
    "        col_new.append(j)\n",
    "col_new\n",
    "        "
   ]
  },
  {
   "cell_type": "code",
   "execution_count": null,
   "id": "23345f15-4387-4126-96b7-d95fa493dfda",
   "metadata": {},
   "outputs": [],
   "source": [
    "cursor.close()\n",
    "db.close()\n"
   ]
  },
  {
   "cell_type": "code",
   "execution_count": null,
   "id": "16f01764-99d9-4d48-8029-708cdc0e1dc0",
   "metadata": {},
   "outputs": [],
   "source": [
    "# Q. hr 사용자를 적용하면 원하는 테이블을 가져와서 df로 출력하세요(컬럼명 포함)\n",
    "import cx_Oracle\n",
    "import pandas as pd\n",
    "\n",
    "#사용자명, 비번, host이름:포트/서비스이름\n",
    "#db 들어가서 속성 누르면 나오는 정보들\n",
    "#db연결 \n",
    "db = cx_Oracle.connect('c##hr', 'hr', 'localhost:1521/xe')\n",
    "\n",
    "cursor = db.cursor()\n",
    "cursor.execute('select * from EMPLOYEES')\n",
    "x = cursor.fetchall()\n",
    "df_hr = pd.DataFrame(x)\n",
    "\n",
    "cursor.execute(\"select column_name from user_tab_columns where table_name ='EMPLOYEES'\")\n",
    "col = cursor.fetchall()\n",
    "\n",
    "col_new = [j for i in col for j in i]\n",
    "df_hr.columns = col_new\n",
    "\n",
    "df_hr.head()"
   ]
  },
  {
   "cell_type": "code",
   "execution_count": null,
   "id": "5ce70df9-e7db-425c-8506-0b91bfc31eb8",
   "metadata": {},
   "outputs": [],
   "source": [
    "cursor.close()\n",
    "db.close()"
   ]
  },
  {
   "cell_type": "code",
   "execution_count": null,
   "id": "702ae6b5-29a6-493f-b0eb-08330bd1fd38",
   "metadata": {},
   "outputs": [],
   "source": [
    "# create, insert\n",
    "import cx_Oracle\n",
    "db = cx_Oracle.connect(\"c##madang\",\"madang\",\"localhost:1521/xe\")\n",
    "cursor = db.cursor()\n",
    "cursor.execute(\"create table sample2(id number)\")\n",
    "cursor.execute(\"insert into sample2(id) values(1)\")\n",
    "db.commit()"
   ]
  },
  {
   "cell_type": "code",
   "execution_count": null,
   "id": "95e84031-b725-44d7-9af0-97400a9c37d9",
   "metadata": {},
   "outputs": [],
   "source": [
    "db = cx_Oracle.connect(\"c##cakd7\", \"cakd7\", \"localhost:1521/xe\")\n",
    "cursor = db.cursor()\n",
    "cursor.execute(\"select * from DEMO\")\n",
    "x = cursor.fetchall()\n",
    "df = pd.DataFrame(x)\n",
    "cursor.execute(\"\"\"select column_name from user_tab_columns where table_name = 'DEMO'\"\"\")\n",
    "col = cursor.fetchall()\n",
    "col_new = [j for i in col for j in i]\n",
    "df.columns = col_new\n",
    "df.head()"
   ]
  },
  {
   "cell_type": "code",
   "execution_count": null,
   "id": "4b69aede-a1c6-4d92-94b2-5802a42fdb13",
   "metadata": {},
   "outputs": [],
   "source": [
    "df.shape"
   ]
  },
  {
   "cell_type": "code",
   "execution_count": null,
   "id": "e5583414-8355-4180-af05-dc72fa8e511c",
   "metadata": {},
   "outputs": [],
   "source": [
    "df.AGE.value_counts()"
   ]
  },
  {
   "cell_type": "code",
   "execution_count": null,
   "id": "39d687e2-03d5-49a1-b734-4b16e69ba6a4",
   "metadata": {},
   "outputs": [],
   "source": [
    "df.AGE.unique()"
   ]
  },
  {
   "cell_type": "code",
   "execution_count": null,
   "id": "6dd2401c-4f4c-4800-ba52-deedf355e27b",
   "metadata": {},
   "outputs": [],
   "source": [
    "cursor.close()\n",
    "db.close()"
   ]
  },
  {
   "cell_type": "code",
   "execution_count": null,
   "id": "1831c390-3d42-44dc-ba36-414a55bcc719",
   "metadata": {},
   "outputs": [],
   "source": [
    "db = cx_Oracle.connect(\"c##cakd7\", \"cakd7\", \"localhost:1521/xe\")\n",
    "cursor = db.cursor()\n",
    "cursor.execute(\"select * from PRODCL\")\n",
    "x = cursor.fetchall()\n",
    "df = pd.DataFrame(x)\n",
    "cursor.execute(\"\"\"select column_name from user_tab_columns where table_name = 'PRODCL'\"\"\")\n",
    "col = cursor.fetchall()\n",
    "col_new = [j for i in col for j in i]\n",
    "df.columns = col_new\n",
    "df.head()"
   ]
  },
  {
   "cell_type": "code",
   "execution_count": null,
   "id": "09fb682d-539c-487e-90f6-0a5c6ac51dd6",
   "metadata": {},
   "outputs": [],
   "source": [
    "df.ASSO.value_counts()"
   ]
  },
  {
   "cell_type": "code",
   "execution_count": null,
   "id": "5810e16d-0b22-4db2-819e-0bb55eb6ae1a",
   "metadata": {
    "tags": []
   },
   "outputs": [],
   "source": [
    "df.BCODE.unique()"
   ]
  },
  {
   "cell_type": "markdown",
   "id": "8f5290b1-27ff-45fd-9464-bb6880c86ec6",
   "metadata": {},
   "source": [
    "과제_1012_1 PURPRD 테이블을 가져와서 다음사항을 수행하세요\n",
    "- pivot_table을 이용해서 고객번호별 대분류(상품)별 구매금액을 도출\n",
    "- 고객별 구매관련 의미있는 인사이트를 뽑아낼 수 있는 데이터 셋을 출력(2개 이상)"
   ]
  },
  {
   "cell_type": "code",
   "execution_count": null,
   "id": "f7736347-ce00-4ac0-8849-16e75b8ee689",
   "metadata": {},
   "outputs": [],
   "source": []
  }
 ],
 "metadata": {
  "kernelspec": {
   "display_name": "Python 3 (ipykernel)",
   "language": "python",
   "name": "python3"
  },
  "language_info": {
   "codemirror_mode": {
    "name": "ipython",
    "version": 3
   },
   "file_extension": ".py",
   "mimetype": "text/x-python",
   "name": "python",
   "nbconvert_exporter": "python",
   "pygments_lexer": "ipython3",
   "version": "3.9.12"
  }
 },
 "nbformat": 4,
 "nbformat_minor": 5
}
